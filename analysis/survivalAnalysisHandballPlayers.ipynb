{
 "cells": [
  {
   "cell_type": "markdown",
   "metadata": {
    "toc-hr-collapsed": false
   },
   "source": [
    "# Survival Analysis Handball Athletes\n",
    "\n",
    "Handball has evolved alongside with consolidation of sport’s culture. The present study aims to explore the retention and dropout of handball federated athletes in Portugal. Results from the survival analyses indicate a median length of stay of the athletes is two years, with an associated probability of 41% to continue more than that period. It is also evident that there is an average of 3 years of being registered as an active player.\n",
    "\n",
    "The sample consisted of 133,717 handball players who were registered at least for one year (female n = 47653, mean age = 23.76, SD=6.79 years; and males n = 86064, mean age = 24.70, SD=7.89 years); data corresponded to the time period between August 1, 1997 and July 31, 2018, mainly with Portuguese nationality (99,96%). The main categories were Seniors (68,6%), U-18 (8,2%), Masters (8,1%), U-16 (4,8%), U-14 (4,2%) and other (6,1%) like: U-12, U-10, U-8 and U-6.\n",
    "\n",
    "The variables were extracted from the management software of the federation correspond to the time interval of the athlete inscription until the end of observation (censoring on July 31, 2018) or the end of the athlete relationship (dropout). All athletes without an inscription before 2018 were considered that dropout. The survival time in the dataset is represented by the number of years an athlete remains registered. The data provided was been purged from element registered before 1997.\n",
    "\n",
    "Descriptive statistics were conducted to summarize the variables under analysis.  The survival curve was measured to simplify the interpretation of the survival analysis.  Data processing was conducted using Python (Continuum Analytics, 2016) and Pandas (McKinney & others, 2010).  The Kaplan-Meier estimator was used to gather information about the dropout event and to estimate the survival (Efron, 1988), the log-rank was applied in the scale variables transformed to categorical using the quartiles to provide a statistical comparison of groups and the categorical variable associations was analyzed considering the bigger associations and lower dimension where grouped to simplify the analysis. The survival analysis was conducted using the package Lifelines (Cameron Davidson-Pilon et al., 2017).\n",
    "\n",
    "Using the logrank test, we identified significant differences between the groups in each variable: age (χ2= 4185.70, p<0.01), gender (χ2=903.87 p<0.01), category (χ2= 10024.28, p<0.01), and associations (χ2= 1395.92, p<0.01). There weren’t significant differences in the variable country (χ2=0.6, p>0.05),\n",
    "\n",
    "According to our results, the probability of the individuals continue sports participation for more than 12 months is 53%."
   ]
  },
  {
   "cell_type": "markdown",
   "metadata": {},
   "source": [
    "# Data Analysis"
   ]
  },
  {
   "cell_type": "code",
   "execution_count": 254,
   "metadata": {},
   "outputs": [
    {
     "data": {
      "text/plain": [
       "datetime.datetime(2020, 2, 7, 16, 56, 5, 634334)"
      ]
     },
     "execution_count": 254,
     "metadata": {},
     "output_type": "execute_result"
    }
   ],
   "source": [
    "from IPython.display import HTML\n",
    "import matplotlib.pyplot as plt\n",
    "import numpy as np\n",
    "import pandas as pd\n",
    "import datetime\n",
    "import seaborn as sns\n",
    "from ipywidgets import interact, interactive, fixed, interact_manual\n",
    "import plotly.offline as py\n",
    "\n",
    "\n",
    "dt = pd.read_csv('https://raw.githubusercontent.com/pesobreiro/jupyternotebooks/master/dados/dadosAtletasAndebol.csv',\n",
    "                 index_col=0)\n",
    "\n",
    "plt.rcParams['figure.figsize'] = [10, 15]\n",
    "datetime.datetime.now()"
   ]
  },
  {
   "cell_type": "code",
   "execution_count": 255,
   "metadata": {},
   "outputs": [],
   "source": [
    "def curvaSobrevivencia(dados,coluna,T,C,eixoX=None,eixoY=None,titulo=None):\n",
    "    ax = plt.subplot(111)\n",
    "    ax.set_xlabel(eixoX)\n",
    "    ax.set_ylabel(eixoY)\n",
    "    ax.set_title(titulo)\n",
    "\n",
    "    plt.rcParams['figure.figsize'] = [15, 5]\n",
    "    for item in dados[coluna].unique():\n",
    "        ix = dados[coluna] == item\n",
    "        kmf.fit(T.loc[ix], C.loc[ix], label=str(item))\n",
    "        ax = kmf.plot(ax=ax)\n",
    "        print('probabilidade de sobreviver:',item,' ',kmf.survival_function_.head())\n",
    "        print('median:',item,kmf.median_)\n",
    "    return kmf"
   ]
  },
  {
   "cell_type": "code",
   "execution_count": 256,
   "metadata": {},
   "outputs": [],
   "source": [
    "def barras(x,dados,titulo,hue=None,orientacao=None,tamanho=[10,5]):\n",
    "    plt.rcParams['figure.figsize'] = tamanho\n",
    "    ax = sns.countplot(x=x,data=dados,hue=hue,palette='Blues',orient=orientacao);\n",
    "    ax.set_title(titulo)\n",
    "    for p in ax.patches:\n",
    "        height = p.get_height()\n",
    "        ax.text(p.get_x()+p.get_width()/2.,height + 3,'{:1}'.format(height),ha=\"left\")    \n",
    "    plt.show()"
   ]
  },
  {
   "cell_type": "markdown",
   "metadata": {
    "toc-hr-collapsed": false
   },
   "source": [
    "## Survival Analysis"
   ]
  },
  {
   "cell_type": "code",
   "execution_count": 257,
   "metadata": {},
   "outputs": [],
   "source": [
    "dados=dt.dropna()\n",
    "dt = dados.copy()"
   ]
  },
  {
   "cell_type": "markdown",
   "metadata": {
    "toc-hr-collapsed": false
   },
   "source": [
    "## Vamos considerar os atletas federados entre desde 2008 até 2012 e de 2012 até 2018"
   ]
  },
  {
   "cell_type": "code",
   "execution_count": 258,
   "metadata": {},
   "outputs": [],
   "source": [
    "# Vamos considerar um escalao com todos os géneros\n",
    "dt['escFedTodos'] = dt['escFederacao'].str.split().str.get(0)\n",
    "#Converter data inscrição para data e hora\n",
    "dt['dtIns']=pd.to_datetime(dt['dtIns'])\n",
    "\n",
    "dt2008=dt.loc[(dt.dtIns >= \"2008-08-01\")&(dt.dtIns < \"2011-12-31\")]\n",
    "dt2012=dt.loc[(dt.dtIns >= \"2012-01-01\")&(dt.dtIns < \"2018-07-31\")]"
   ]
  },
  {
   "cell_type": "code",
   "execution_count": 259,
   "metadata": {},
   "outputs": [
    {
     "data": {
      "text/plain": [
       "array(['Veteranos', 'Juniores', 'Infantis', 'Seniores', 'Juvenis',\n",
       "       'Minis', 'Pre-Bambi', 'Iniciados', 'Bambis'], dtype=object)"
      ]
     },
     "execution_count": 259,
     "metadata": {},
     "output_type": "execute_result"
    }
   ],
   "source": [
    "dt.escFedTodos.unique()"
   ]
  },
  {
   "cell_type": "markdown",
   "metadata": {},
   "source": [
    "### Atletas por ano desde 2008"
   ]
  },
  {
   "cell_type": "code",
   "execution_count": 260,
   "metadata": {},
   "outputs": [
    {
     "name": "stderr",
     "output_type": "stream",
     "text": [
      "C:\\Users\\user\\Anaconda3\\lib\\site-packages\\plotly\\matplotlylib\\mpltools.py:368: MatplotlibDeprecationWarning:\n",
      "\n",
      "\n",
      "The is_frame_like function was deprecated in Matplotlib 3.1 and will be removed in 3.3.\n",
      "\n"
     ]
    },
    {
     "data": {
      "application/vnd.plotly.v1+json": {
       "config": {
        "linkText": "Export to plot.ly",
        "plotlyServerURL": "https://plot.ly",
        "showLink": false
       },
       "data": [
        {
         "marker": {
          "color": "#1F77B4",
          "line": {
           "width": 1
          }
         },
         "opacity": 1,
         "orientation": "v",
         "type": "bar",
         "x": [
          1.5499999999999998,
          2.6500000000000004,
          3.7500000000000004,
          4.8500000000000005,
          5.95,
          7.050000000000001,
          8.15,
          9.25,
          10.350000000000001,
          11.45
         ],
         "xaxis": "x",
         "y": [
          6513,
          1260,
          900,
          739,
          653,
          680,
          1141,
          721,
          504,
          230
         ],
         "yaxis": "y"
        }
       ],
       "layout": {
        "autosize": false,
        "bargap": 0,
        "height": 288,
        "hovermode": "closest",
        "margin": {
         "b": 36,
         "l": 108,
         "pad": 0,
         "r": 86,
         "t": 34
        },
        "showlegend": false,
        "template": {
         "data": {
          "bar": [
           {
            "error_x": {
             "color": "#2a3f5f"
            },
            "error_y": {
             "color": "#2a3f5f"
            },
            "marker": {
             "line": {
              "color": "#E5ECF6",
              "width": 0.5
             }
            },
            "type": "bar"
           }
          ],
          "barpolar": [
           {
            "marker": {
             "line": {
              "color": "#E5ECF6",
              "width": 0.5
             }
            },
            "type": "barpolar"
           }
          ],
          "carpet": [
           {
            "aaxis": {
             "endlinecolor": "#2a3f5f",
             "gridcolor": "white",
             "linecolor": "white",
             "minorgridcolor": "white",
             "startlinecolor": "#2a3f5f"
            },
            "baxis": {
             "endlinecolor": "#2a3f5f",
             "gridcolor": "white",
             "linecolor": "white",
             "minorgridcolor": "white",
             "startlinecolor": "#2a3f5f"
            },
            "type": "carpet"
           }
          ],
          "choropleth": [
           {
            "colorbar": {
             "outlinewidth": 0,
             "ticks": ""
            },
            "type": "choropleth"
           }
          ],
          "contour": [
           {
            "colorbar": {
             "outlinewidth": 0,
             "ticks": ""
            },
            "colorscale": [
             [
              0,
              "#0d0887"
             ],
             [
              0.1111111111111111,
              "#46039f"
             ],
             [
              0.2222222222222222,
              "#7201a8"
             ],
             [
              0.3333333333333333,
              "#9c179e"
             ],
             [
              0.4444444444444444,
              "#bd3786"
             ],
             [
              0.5555555555555556,
              "#d8576b"
             ],
             [
              0.6666666666666666,
              "#ed7953"
             ],
             [
              0.7777777777777778,
              "#fb9f3a"
             ],
             [
              0.8888888888888888,
              "#fdca26"
             ],
             [
              1,
              "#f0f921"
             ]
            ],
            "type": "contour"
           }
          ],
          "contourcarpet": [
           {
            "colorbar": {
             "outlinewidth": 0,
             "ticks": ""
            },
            "type": "contourcarpet"
           }
          ],
          "heatmap": [
           {
            "colorbar": {
             "outlinewidth": 0,
             "ticks": ""
            },
            "colorscale": [
             [
              0,
              "#0d0887"
             ],
             [
              0.1111111111111111,
              "#46039f"
             ],
             [
              0.2222222222222222,
              "#7201a8"
             ],
             [
              0.3333333333333333,
              "#9c179e"
             ],
             [
              0.4444444444444444,
              "#bd3786"
             ],
             [
              0.5555555555555556,
              "#d8576b"
             ],
             [
              0.6666666666666666,
              "#ed7953"
             ],
             [
              0.7777777777777778,
              "#fb9f3a"
             ],
             [
              0.8888888888888888,
              "#fdca26"
             ],
             [
              1,
              "#f0f921"
             ]
            ],
            "type": "heatmap"
           }
          ],
          "heatmapgl": [
           {
            "colorbar": {
             "outlinewidth": 0,
             "ticks": ""
            },
            "colorscale": [
             [
              0,
              "#0d0887"
             ],
             [
              0.1111111111111111,
              "#46039f"
             ],
             [
              0.2222222222222222,
              "#7201a8"
             ],
             [
              0.3333333333333333,
              "#9c179e"
             ],
             [
              0.4444444444444444,
              "#bd3786"
             ],
             [
              0.5555555555555556,
              "#d8576b"
             ],
             [
              0.6666666666666666,
              "#ed7953"
             ],
             [
              0.7777777777777778,
              "#fb9f3a"
             ],
             [
              0.8888888888888888,
              "#fdca26"
             ],
             [
              1,
              "#f0f921"
             ]
            ],
            "type": "heatmapgl"
           }
          ],
          "histogram": [
           {
            "marker": {
             "colorbar": {
              "outlinewidth": 0,
              "ticks": ""
             }
            },
            "type": "histogram"
           }
          ],
          "histogram2d": [
           {
            "colorbar": {
             "outlinewidth": 0,
             "ticks": ""
            },
            "colorscale": [
             [
              0,
              "#0d0887"
             ],
             [
              0.1111111111111111,
              "#46039f"
             ],
             [
              0.2222222222222222,
              "#7201a8"
             ],
             [
              0.3333333333333333,
              "#9c179e"
             ],
             [
              0.4444444444444444,
              "#bd3786"
             ],
             [
              0.5555555555555556,
              "#d8576b"
             ],
             [
              0.6666666666666666,
              "#ed7953"
             ],
             [
              0.7777777777777778,
              "#fb9f3a"
             ],
             [
              0.8888888888888888,
              "#fdca26"
             ],
             [
              1,
              "#f0f921"
             ]
            ],
            "type": "histogram2d"
           }
          ],
          "histogram2dcontour": [
           {
            "colorbar": {
             "outlinewidth": 0,
             "ticks": ""
            },
            "colorscale": [
             [
              0,
              "#0d0887"
             ],
             [
              0.1111111111111111,
              "#46039f"
             ],
             [
              0.2222222222222222,
              "#7201a8"
             ],
             [
              0.3333333333333333,
              "#9c179e"
             ],
             [
              0.4444444444444444,
              "#bd3786"
             ],
             [
              0.5555555555555556,
              "#d8576b"
             ],
             [
              0.6666666666666666,
              "#ed7953"
             ],
             [
              0.7777777777777778,
              "#fb9f3a"
             ],
             [
              0.8888888888888888,
              "#fdca26"
             ],
             [
              1,
              "#f0f921"
             ]
            ],
            "type": "histogram2dcontour"
           }
          ],
          "mesh3d": [
           {
            "colorbar": {
             "outlinewidth": 0,
             "ticks": ""
            },
            "type": "mesh3d"
           }
          ],
          "parcoords": [
           {
            "line": {
             "colorbar": {
              "outlinewidth": 0,
              "ticks": ""
             }
            },
            "type": "parcoords"
           }
          ],
          "pie": [
           {
            "automargin": true,
            "type": "pie"
           }
          ],
          "scatter": [
           {
            "marker": {
             "colorbar": {
              "outlinewidth": 0,
              "ticks": ""
             }
            },
            "type": "scatter"
           }
          ],
          "scatter3d": [
           {
            "line": {
             "colorbar": {
              "outlinewidth": 0,
              "ticks": ""
             }
            },
            "marker": {
             "colorbar": {
              "outlinewidth": 0,
              "ticks": ""
             }
            },
            "type": "scatter3d"
           }
          ],
          "scattercarpet": [
           {
            "marker": {
             "colorbar": {
              "outlinewidth": 0,
              "ticks": ""
             }
            },
            "type": "scattercarpet"
           }
          ],
          "scattergeo": [
           {
            "marker": {
             "colorbar": {
              "outlinewidth": 0,
              "ticks": ""
             }
            },
            "type": "scattergeo"
           }
          ],
          "scattergl": [
           {
            "marker": {
             "colorbar": {
              "outlinewidth": 0,
              "ticks": ""
             }
            },
            "type": "scattergl"
           }
          ],
          "scattermapbox": [
           {
            "marker": {
             "colorbar": {
              "outlinewidth": 0,
              "ticks": ""
             }
            },
            "type": "scattermapbox"
           }
          ],
          "scatterpolar": [
           {
            "marker": {
             "colorbar": {
              "outlinewidth": 0,
              "ticks": ""
             }
            },
            "type": "scatterpolar"
           }
          ],
          "scatterpolargl": [
           {
            "marker": {
             "colorbar": {
              "outlinewidth": 0,
              "ticks": ""
             }
            },
            "type": "scatterpolargl"
           }
          ],
          "scatterternary": [
           {
            "marker": {
             "colorbar": {
              "outlinewidth": 0,
              "ticks": ""
             }
            },
            "type": "scatterternary"
           }
          ],
          "surface": [
           {
            "colorbar": {
             "outlinewidth": 0,
             "ticks": ""
            },
            "colorscale": [
             [
              0,
              "#0d0887"
             ],
             [
              0.1111111111111111,
              "#46039f"
             ],
             [
              0.2222222222222222,
              "#7201a8"
             ],
             [
              0.3333333333333333,
              "#9c179e"
             ],
             [
              0.4444444444444444,
              "#bd3786"
             ],
             [
              0.5555555555555556,
              "#d8576b"
             ],
             [
              0.6666666666666666,
              "#ed7953"
             ],
             [
              0.7777777777777778,
              "#fb9f3a"
             ],
             [
              0.8888888888888888,
              "#fdca26"
             ],
             [
              1,
              "#f0f921"
             ]
            ],
            "type": "surface"
           }
          ],
          "table": [
           {
            "cells": {
             "fill": {
              "color": "#EBF0F8"
             },
             "line": {
              "color": "white"
             }
            },
            "header": {
             "fill": {
              "color": "#C8D4E3"
             },
             "line": {
              "color": "white"
             }
            },
            "type": "table"
           }
          ]
         },
         "layout": {
          "annotationdefaults": {
           "arrowcolor": "#2a3f5f",
           "arrowhead": 0,
           "arrowwidth": 1
          },
          "coloraxis": {
           "colorbar": {
            "outlinewidth": 0,
            "ticks": ""
           }
          },
          "colorscale": {
           "diverging": [
            [
             0,
             "#8e0152"
            ],
            [
             0.1,
             "#c51b7d"
            ],
            [
             0.2,
             "#de77ae"
            ],
            [
             0.3,
             "#f1b6da"
            ],
            [
             0.4,
             "#fde0ef"
            ],
            [
             0.5,
             "#f7f7f7"
            ],
            [
             0.6,
             "#e6f5d0"
            ],
            [
             0.7,
             "#b8e186"
            ],
            [
             0.8,
             "#7fbc41"
            ],
            [
             0.9,
             "#4d9221"
            ],
            [
             1,
             "#276419"
            ]
           ],
           "sequential": [
            [
             0,
             "#0d0887"
            ],
            [
             0.1111111111111111,
             "#46039f"
            ],
            [
             0.2222222222222222,
             "#7201a8"
            ],
            [
             0.3333333333333333,
             "#9c179e"
            ],
            [
             0.4444444444444444,
             "#bd3786"
            ],
            [
             0.5555555555555556,
             "#d8576b"
            ],
            [
             0.6666666666666666,
             "#ed7953"
            ],
            [
             0.7777777777777778,
             "#fb9f3a"
            ],
            [
             0.8888888888888888,
             "#fdca26"
            ],
            [
             1,
             "#f0f921"
            ]
           ],
           "sequentialminus": [
            [
             0,
             "#0d0887"
            ],
            [
             0.1111111111111111,
             "#46039f"
            ],
            [
             0.2222222222222222,
             "#7201a8"
            ],
            [
             0.3333333333333333,
             "#9c179e"
            ],
            [
             0.4444444444444444,
             "#bd3786"
            ],
            [
             0.5555555555555556,
             "#d8576b"
            ],
            [
             0.6666666666666666,
             "#ed7953"
            ],
            [
             0.7777777777777778,
             "#fb9f3a"
            ],
            [
             0.8888888888888888,
             "#fdca26"
            ],
            [
             1,
             "#f0f921"
            ]
           ]
          },
          "colorway": [
           "#636efa",
           "#EF553B",
           "#00cc96",
           "#ab63fa",
           "#FFA15A",
           "#19d3f3",
           "#FF6692",
           "#B6E880",
           "#FF97FF",
           "#FECB52"
          ],
          "font": {
           "color": "#2a3f5f"
          },
          "geo": {
           "bgcolor": "white",
           "lakecolor": "white",
           "landcolor": "#E5ECF6",
           "showlakes": true,
           "showland": true,
           "subunitcolor": "white"
          },
          "hoverlabel": {
           "align": "left"
          },
          "hovermode": "closest",
          "mapbox": {
           "style": "light"
          },
          "paper_bgcolor": "white",
          "plot_bgcolor": "#E5ECF6",
          "polar": {
           "angularaxis": {
            "gridcolor": "white",
            "linecolor": "white",
            "ticks": ""
           },
           "bgcolor": "#E5ECF6",
           "radialaxis": {
            "gridcolor": "white",
            "linecolor": "white",
            "ticks": ""
           }
          },
          "scene": {
           "xaxis": {
            "backgroundcolor": "#E5ECF6",
            "gridcolor": "white",
            "gridwidth": 2,
            "linecolor": "white",
            "showbackground": true,
            "ticks": "",
            "zerolinecolor": "white"
           },
           "yaxis": {
            "backgroundcolor": "#E5ECF6",
            "gridcolor": "white",
            "gridwidth": 2,
            "linecolor": "white",
            "showbackground": true,
            "ticks": "",
            "zerolinecolor": "white"
           },
           "zaxis": {
            "backgroundcolor": "#E5ECF6",
            "gridcolor": "white",
            "gridwidth": 2,
            "linecolor": "white",
            "showbackground": true,
            "ticks": "",
            "zerolinecolor": "white"
           }
          },
          "shapedefaults": {
           "line": {
            "color": "#2a3f5f"
           }
          },
          "ternary": {
           "aaxis": {
            "gridcolor": "white",
            "linecolor": "white",
            "ticks": ""
           },
           "baxis": {
            "gridcolor": "white",
            "linecolor": "white",
            "ticks": ""
           },
           "bgcolor": "#E5ECF6",
           "caxis": {
            "gridcolor": "white",
            "linecolor": "white",
            "ticks": ""
           }
          },
          "title": {
           "x": 0.05
          },
          "xaxis": {
           "automargin": true,
           "gridcolor": "white",
           "linecolor": "white",
           "ticks": "",
           "title": {
            "standoff": 15
           },
           "zerolinecolor": "white",
           "zerolinewidth": 2
          },
          "yaxis": {
           "automargin": true,
           "gridcolor": "white",
           "linecolor": "white",
           "ticks": "",
           "title": {
            "standoff": 15
           },
           "zerolinecolor": "white",
           "zerolinewidth": 2
          }
         }
        },
        "width": 864,
        "xaxis": {
         "anchor": "y",
         "domain": [
          0,
          1
         ],
         "mirror": "ticks",
         "nticks": 8,
         "range": [
          0.44999999999999984,
          12.55
         ],
         "showgrid": true,
         "showline": true,
         "side": "bottom",
         "tickfont": {
          "size": 10
         },
         "ticks": "inside",
         "type": "linear",
         "zeroline": false
        },
        "yaxis": {
         "anchor": "x",
         "domain": [
          0,
          1
         ],
         "mirror": "ticks",
         "nticks": 8,
         "range": [
          0,
          6838.65
         ],
         "showgrid": true,
         "showline": true,
         "side": "left",
         "tickfont": {
          "size": 10
         },
         "ticks": "inside",
         "type": "linear",
         "zeroline": false
        }
       }
      },
      "image/png": "[encoded data removed]",
      "text/html": [
       "<div>\n",
       "        \n",
       "        \n",
       "            <div id=\"0c9db2bf-8273-4b34-b8f5-4fab4f20faf8\" class=\"plotly-graph-div\" style=\"height:288px; width:864px;\"></div>\n",
       "            <script type=\"text/javascript\">\n",
       "                require([\"plotly\"], function(Plotly) {\n",
       "                    window.PLOTLYENV=window.PLOTLYENV || {};\n",
       "                    \n",
       "                if (document.getElementById(\"0c9db2bf-8273-4b34-b8f5-4fab4f20faf8\")) {\n",
       "                    Plotly.newPlot(\n",
       "                        '0c9db2bf-8273-4b34-b8f5-4fab4f20faf8',\n",
       "                        [{\"marker\": {\"color\": \"#1F77B4\", \"line\": {\"width\": 1.0}}, \"opacity\": 1, \"orientation\": \"v\", \"type\": \"bar\", \"x\": [1.5499999999999998, 2.6500000000000004, 3.7500000000000004, 4.8500000000000005, 5.95, 7.050000000000001, 8.15, 9.25, 10.350000000000001, 11.45], \"xaxis\": \"x\", \"y\": [6513.0, 1260.0, 900.0, 739.0, 653.0, 680.0, 1141.0, 721.0, 504.0, 230.0], \"yaxis\": \"y\"}],\n",
       "                        {\"autosize\": false, \"bargap\": 0.0, \"height\": 288, \"hovermode\": \"closest\", \"margin\": {\"b\": 36, \"l\": 108, \"pad\": 0, \"r\": 86, \"t\": 34}, \"showlegend\": false, \"template\": {\"data\": {\"bar\": [{\"error_x\": {\"color\": \"#2a3f5f\"}, \"error_y\": {\"color\": \"#2a3f5f\"}, \"marker\": {\"line\": {\"color\": \"#E5ECF6\", \"width\": 0.5}}, \"type\": \"bar\"}], \"barpolar\": [{\"marker\": {\"line\": {\"color\": \"#E5ECF6\", \"width\": 0.5}}, \"type\": \"barpolar\"}], \"carpet\": [{\"aaxis\": {\"endlinecolor\": \"#2a3f5f\", \"gridcolor\": \"white\", \"linecolor\": \"white\", \"minorgridcolor\": \"white\", \"startlinecolor\": \"#2a3f5f\"}, \"baxis\": {\"endlinecolor\": \"#2a3f5f\", \"gridcolor\": \"white\", \"linecolor\": \"white\", \"minorgridcolor\": \"white\", \"startlinecolor\": \"#2a3f5f\"}, \"type\": \"carpet\"}], \"choropleth\": [{\"colorbar\": {\"outlinewidth\": 0, \"ticks\": \"\"}, \"type\": \"choropleth\"}], \"contour\": [{\"colorbar\": {\"outlinewidth\": 0, \"ticks\": \"\"}, \"colorscale\": [[0.0, \"#0d0887\"], [0.1111111111111111, \"#46039f\"], [0.2222222222222222, \"#7201a8\"], [0.3333333333333333, \"#9c179e\"], [0.4444444444444444, \"#bd3786\"], [0.5555555555555556, \"#d8576b\"], [0.6666666666666666, \"#ed7953\"], [0.7777777777777778, \"#fb9f3a\"], [0.8888888888888888, \"#fdca26\"], [1.0, \"#f0f921\"]], \"type\": \"contour\"}], \"contourcarpet\": [{\"colorbar\": {\"outlinewidth\": 0, \"ticks\": \"\"}, \"type\": \"contourcarpet\"}], \"heatmap\": [{\"colorbar\": {\"outlinewidth\": 0, \"ticks\": \"\"}, \"colorscale\": [[0.0, \"#0d0887\"], [0.1111111111111111, \"#46039f\"], [0.2222222222222222, \"#7201a8\"], [0.3333333333333333, \"#9c179e\"], [0.4444444444444444, \"#bd3786\"], [0.5555555555555556, \"#d8576b\"], [0.6666666666666666, \"#ed7953\"], [0.7777777777777778, \"#fb9f3a\"], [0.8888888888888888, \"#fdca26\"], [1.0, \"#f0f921\"]], \"type\": \"heatmap\"}], \"heatmapgl\": [{\"colorbar\": {\"outlinewidth\": 0, \"ticks\": \"\"}, \"colorscale\": [[0.0, \"#0d0887\"], [0.1111111111111111, \"#46039f\"], [0.2222222222222222, \"#7201a8\"], [0.3333333333333333, \"#9c179e\"], [0.4444444444444444, \"#bd3786\"], [0.5555555555555556, \"#d8576b\"], [0.6666666666666666, \"#ed7953\"], [0.7777777777777778, \"#fb9f3a\"], [0.8888888888888888, \"#fdca26\"], [1.0, \"#f0f921\"]], \"type\": \"heatmapgl\"}], \"histogram\": [{\"marker\": {\"colorbar\": {\"outlinewidth\": 0, \"ticks\": \"\"}}, \"type\": \"histogram\"}], \"histogram2d\": [{\"colorbar\": {\"outlinewidth\": 0, \"ticks\": \"\"}, \"colorscale\": [[0.0, \"#0d0887\"], [0.1111111111111111, \"#46039f\"], [0.2222222222222222, \"#7201a8\"], [0.3333333333333333, \"#9c179e\"], [0.4444444444444444, \"#bd3786\"], [0.5555555555555556, \"#d8576b\"], [0.6666666666666666, \"#ed7953\"], [0.7777777777777778, \"#fb9f3a\"], [0.8888888888888888, \"#fdca26\"], [1.0, \"#f0f921\"]], \"type\": \"histogram2d\"}], \"histogram2dcontour\": [{\"colorbar\": {\"outlinewidth\": 0, \"ticks\": \"\"}, \"colorscale\": [[0.0, \"#0d0887\"], [0.1111111111111111, \"#46039f\"], [0.2222222222222222, \"#7201a8\"], [0.3333333333333333, \"#9c179e\"], [0.4444444444444444, \"#bd3786\"], [0.5555555555555556, \"#d8576b\"], [0.6666666666666666, \"#ed7953\"], [0.7777777777777778, \"#fb9f3a\"], [0.8888888888888888, \"#fdca26\"], [1.0, \"#f0f921\"]], \"type\": \"histogram2dcontour\"}], \"mesh3d\": [{\"colorbar\": {\"outlinewidth\": 0, \"ticks\": \"\"}, \"type\": \"mesh3d\"}], \"parcoords\": [{\"line\": {\"colorbar\": {\"outlinewidth\": 0, \"ticks\": \"\"}}, \"type\": \"parcoords\"}], \"pie\": [{\"automargin\": true, \"type\": \"pie\"}], \"scatter\": [{\"marker\": {\"colorbar\": {\"outlinewidth\": 0, \"ticks\": \"\"}}, \"type\": \"scatter\"}], \"scatter3d\": [{\"line\": {\"colorbar\": {\"outlinewidth\": 0, \"ticks\": \"\"}}, \"marker\": {\"colorbar\": {\"outlinewidth\": 0, \"ticks\": \"\"}}, \"type\": \"scatter3d\"}], \"scattercarpet\": [{\"marker\": {\"colorbar\": {\"outlinewidth\": 0, \"ticks\": \"\"}}, \"type\": \"scattercarpet\"}], \"scattergeo\": [{\"marker\": {\"colorbar\": {\"outlinewidth\": 0, \"ticks\": \"\"}}, \"type\": \"scattergeo\"}], \"scattergl\": [{\"marker\": {\"colorbar\": {\"outlinewidth\": 0, \"ticks\": \"\"}}, \"type\": \"scattergl\"}], \"scattermapbox\": [{\"marker\": {\"colorbar\": {\"outlinewidth\": 0, \"ticks\": \"\"}}, \"type\": \"scattermapbox\"}], \"scatterpolar\": [{\"marker\": {\"colorbar\": {\"outlinewidth\": 0, \"ticks\": \"\"}}, \"type\": \"scatterpolar\"}], \"scatterpolargl\": [{\"marker\": {\"colorbar\": {\"outlinewidth\": 0, \"ticks\": \"\"}}, \"type\": \"scatterpolargl\"}], \"scatterternary\": [{\"marker\": {\"colorbar\": {\"outlinewidth\": 0, \"ticks\": \"\"}}, \"type\": \"scatterternary\"}], \"surface\": [{\"colorbar\": {\"outlinewidth\": 0, \"ticks\": \"\"}, \"colorscale\": [[0.0, \"#0d0887\"], [0.1111111111111111, \"#46039f\"], [0.2222222222222222, \"#7201a8\"], [0.3333333333333333, \"#9c179e\"], [0.4444444444444444, \"#bd3786\"], [0.5555555555555556, \"#d8576b\"], [0.6666666666666666, \"#ed7953\"], [0.7777777777777778, \"#fb9f3a\"], [0.8888888888888888, \"#fdca26\"], [1.0, \"#f0f921\"]], \"type\": \"surface\"}], \"table\": [{\"cells\": {\"fill\": {\"color\": \"#EBF0F8\"}, \"line\": {\"color\": \"white\"}}, \"header\": {\"fill\": {\"color\": \"#C8D4E3\"}, \"line\": {\"color\": \"white\"}}, \"type\": \"table\"}]}, \"layout\": {\"annotationdefaults\": {\"arrowcolor\": \"#2a3f5f\", \"arrowhead\": 0, \"arrowwidth\": 1}, \"coloraxis\": {\"colorbar\": {\"outlinewidth\": 0, \"ticks\": \"\"}}, \"colorscale\": {\"diverging\": [[0, \"#8e0152\"], [0.1, \"#c51b7d\"], [0.2, \"#de77ae\"], [0.3, \"#f1b6da\"], [0.4, \"#fde0ef\"], [0.5, \"#f7f7f7\"], [0.6, \"#e6f5d0\"], [0.7, \"#b8e186\"], [0.8, \"#7fbc41\"], [0.9, \"#4d9221\"], [1, \"#276419\"]], \"sequential\": [[0.0, \"#0d0887\"], [0.1111111111111111, \"#46039f\"], [0.2222222222222222, \"#7201a8\"], [0.3333333333333333, \"#9c179e\"], [0.4444444444444444, \"#bd3786\"], [0.5555555555555556, \"#d8576b\"], [0.6666666666666666, \"#ed7953\"], [0.7777777777777778, \"#fb9f3a\"], [0.8888888888888888, \"#fdca26\"], [1.0, \"#f0f921\"]], \"sequentialminus\": [[0.0, \"#0d0887\"], [0.1111111111111111, \"#46039f\"], [0.2222222222222222, \"#7201a8\"], [0.3333333333333333, \"#9c179e\"], [0.4444444444444444, \"#bd3786\"], [0.5555555555555556, \"#d8576b\"], [0.6666666666666666, \"#ed7953\"], [0.7777777777777778, \"#fb9f3a\"], [0.8888888888888888, \"#fdca26\"], [1.0, \"#f0f921\"]]}, \"colorway\": [\"#636efa\", \"#EF553B\", \"#00cc96\", \"#ab63fa\", \"#FFA15A\", \"#19d3f3\", \"#FF6692\", \"#B6E880\", \"#FF97FF\", \"#FECB52\"], \"font\": {\"color\": \"#2a3f5f\"}, \"geo\": {\"bgcolor\": \"white\", \"lakecolor\": \"white\", \"landcolor\": \"#E5ECF6\", \"showlakes\": true, \"showland\": true, \"subunitcolor\": \"white\"}, \"hoverlabel\": {\"align\": \"left\"}, \"hovermode\": \"closest\", \"mapbox\": {\"style\": \"light\"}, \"paper_bgcolor\": \"white\", \"plot_bgcolor\": \"#E5ECF6\", \"polar\": {\"angularaxis\": {\"gridcolor\": \"white\", \"linecolor\": \"white\", \"ticks\": \"\"}, \"bgcolor\": \"#E5ECF6\", \"radialaxis\": {\"gridcolor\": \"white\", \"linecolor\": \"white\", \"ticks\": \"\"}}, \"scene\": {\"xaxis\": {\"backgroundcolor\": \"#E5ECF6\", \"gridcolor\": \"white\", \"gridwidth\": 2, \"linecolor\": \"white\", \"showbackground\": true, \"ticks\": \"\", \"zerolinecolor\": \"white\"}, \"yaxis\": {\"backgroundcolor\": \"#E5ECF6\", \"gridcolor\": \"white\", \"gridwidth\": 2, \"linecolor\": \"white\", \"showbackground\": true, \"ticks\": \"\", \"zerolinecolor\": \"white\"}, \"zaxis\": {\"backgroundcolor\": \"#E5ECF6\", \"gridcolor\": \"white\", \"gridwidth\": 2, \"linecolor\": \"white\", \"showbackground\": true, \"ticks\": \"\", \"zerolinecolor\": \"white\"}}, \"shapedefaults\": {\"line\": {\"color\": \"#2a3f5f\"}}, \"ternary\": {\"aaxis\": {\"gridcolor\": \"white\", \"linecolor\": \"white\", \"ticks\": \"\"}, \"baxis\": {\"gridcolor\": \"white\", \"linecolor\": \"white\", \"ticks\": \"\"}, \"bgcolor\": \"#E5ECF6\", \"caxis\": {\"gridcolor\": \"white\", \"linecolor\": \"white\", \"ticks\": \"\"}}, \"title\": {\"x\": 0.05}, \"xaxis\": {\"automargin\": true, \"gridcolor\": \"white\", \"linecolor\": \"white\", \"ticks\": \"\", \"title\": {\"standoff\": 15}, \"zerolinecolor\": \"white\", \"zerolinewidth\": 2}, \"yaxis\": {\"automargin\": true, \"gridcolor\": \"white\", \"linecolor\": \"white\", \"ticks\": \"\", \"title\": {\"standoff\": 15}, \"zerolinecolor\": \"white\", \"zerolinewidth\": 2}}}, \"width\": 864, \"xaxis\": {\"anchor\": \"y\", \"domain\": [0.0, 1.0], \"mirror\": \"ticks\", \"nticks\": 8, \"range\": [0.44999999999999984, 12.55], \"showgrid\": true, \"showline\": true, \"side\": \"bottom\", \"tickfont\": {\"size\": 10.0}, \"ticks\": \"inside\", \"type\": \"linear\", \"zeroline\": false}, \"yaxis\": {\"anchor\": \"x\", \"domain\": [0.0, 1.0], \"mirror\": \"ticks\", \"nticks\": 8, \"range\": [0.0, 6838.65], \"showgrid\": true, \"showline\": true, \"side\": \"left\", \"tickfont\": {\"size\": 10.0}, \"ticks\": \"inside\", \"type\": \"linear\", \"zeroline\": false}},\n",
       "                        {\"responsive\": true}\n",
       "                    ).then(function(){\n",
       "                            \n",
       "var gd = document.getElementById('0c9db2bf-8273-4b34-b8f5-4fab4f20faf8');\n",
       "var x = new MutationObserver(function (mutations, observer) {{\n",
       "        var display = window.getComputedStyle(gd).display;\n",
       "        if (!display || display === 'none') {{\n",
       "            console.log([gd, 'removed!']);\n",
       "            Plotly.purge(gd);\n",
       "            observer.disconnect();\n",
       "        }}\n",
       "}});\n",
       "\n",
       "// Listen for the removal of the full notebook cells\n",
       "var notebookContainer = gd.closest('#notebook-container');\n",
       "if (notebookContainer) {{\n",
       "    x.observe(notebookContainer, {childList: true});\n",
       "}}\n",
       "\n",
       "// Listen for the clearing of the current output cell\n",
       "var outputEl = gd.closest('.output');\n",
       "if (outputEl) {{\n",
       "    x.observe(outputEl, {childList: true});\n",
       "}}\n",
       "\n",
       "                        })\n",
       "                };\n",
       "                });\n",
       "            </script>\n",
       "        </div>"
      ]
     },
     "metadata": {},
     "output_type": "display_data"
    }
   ],
   "source": [
    "plt.rcParams['figure.figsize'] = [12, 4]\n",
    "dt2008.anos.hist()\n",
    "\n",
    "fig = plt.gcf() # \"Get current figure\"\n",
    "#plt.show()\n",
    "py.iplot_mpl(fig)"
   ]
  },
  {
   "cell_type": "markdown",
   "metadata": {},
   "source": [
    "### Atletas por ano desde 2012"
   ]
  },
  {
   "cell_type": "code",
   "execution_count": 261,
   "metadata": {},
   "outputs": [
    {
     "data": {
      "application/vnd.plotly.v1+json": {
       "config": {
        "linkText": "Export to plot.ly",
        "plotlyServerURL": "https://plot.ly",
        "showLink": false
       },
       "data": [
        {
         "marker": {
          "color": "#1F77B4",
          "line": {
           "width": 1
          }
         },
         "opacity": 1,
         "orientation": "v",
         "type": "bar",
         "x": [
          1.35,
          2.05,
          2.75,
          3.4499999999999997,
          4.15,
          4.85,
          5.549999999999999,
          6.25,
          6.949999999999999,
          7.65
         ],
         "xaxis": "x",
         "y": [
          7904,
          4388,
          2893,
          0,
          2190,
          1679,
          0,
          1376,
          1013,
          65
         ],
         "yaxis": "y"
        }
       ],
       "layout": {
        "autosize": false,
        "bargap": 0,
        "height": 288,
        "hovermode": "closest",
        "margin": {
         "b": 36,
         "l": 108,
         "pad": 0,
         "r": 86,
         "t": 34
        },
        "showlegend": false,
        "template": {
         "data": {
          "bar": [
           {
            "error_x": {
             "color": "#2a3f5f"
            },
            "error_y": {
             "color": "#2a3f5f"
            },
            "marker": {
             "line": {
              "color": "#E5ECF6",
              "width": 0.5
             }
            },
            "type": "bar"
           }
          ],
          "barpolar": [
           {
            "marker": {
             "line": {
              "color": "#E5ECF6",
              "width": 0.5
             }
            },
            "type": "barpolar"
           }
          ],
          "carpet": [
           {
            "aaxis": {
             "endlinecolor": "#2a3f5f",
             "gridcolor": "white",
             "linecolor": "white",
             "minorgridcolor": "white",
             "startlinecolor": "#2a3f5f"
            },
            "baxis": {
             "endlinecolor": "#2a3f5f",
             "gridcolor": "white",
             "linecolor": "white",
             "minorgridcolor": "white",
             "startlinecolor": "#2a3f5f"
            },
            "type": "carpet"
           }
          ],
          "choropleth": [
           {
            "colorbar": {
             "outlinewidth": 0,
             "ticks": ""
            },
            "type": "choropleth"
           }
          ],
          "contour": [
           {
            "colorbar": {
             "outlinewidth": 0,
             "ticks": ""
            },
            "colorscale": [
             [
              0,
              "#0d0887"
             ],
             [
              0.1111111111111111,
              "#46039f"
             ],
             [
              0.2222222222222222,
              "#7201a8"
             ],
             [
              0.3333333333333333,
              "#9c179e"
             ],
             [
              0.4444444444444444,
              "#bd3786"
             ],
             [
              0.5555555555555556,
              "#d8576b"
             ],
             [
              0.6666666666666666,
              "#ed7953"
             ],
             [
              0.7777777777777778,
              "#fb9f3a"
             ],
             [
              0.8888888888888888,
              "#fdca26"
             ],
             [
              1,
              "#f0f921"
             ]
            ],
            "type": "contour"
           }
          ],
          "contourcarpet": [
           {
            "colorbar": {
             "outlinewidth": 0,
             "ticks": ""
            },
            "type": "contourcarpet"
           }
          ],
          "heatmap": [
           {
            "colorbar": {
             "outlinewidth": 0,
             "ticks": ""
            },
            "colorscale": [
             [
              0,
              "#0d0887"
             ],
             [
              0.1111111111111111,
              "#46039f"
             ],
             [
              0.2222222222222222,
              "#7201a8"
             ],
             [
              0.3333333333333333,
              "#9c179e"
             ],
             [
              0.4444444444444444,
              "#bd3786"
             ],
             [
              0.5555555555555556,
              "#d8576b"
             ],
             [
              0.6666666666666666,
              "#ed7953"
             ],
             [
              0.7777777777777778,
              "#fb9f3a"
             ],
             [
              0.8888888888888888,
              "#fdca26"
             ],
             [
              1,
              "#f0f921"
             ]
            ],
            "type": "heatmap"
           }
          ],
          "heatmapgl": [
           {
            "colorbar": {
             "outlinewidth": 0,
             "ticks": ""
            },
            "colorscale": [
             [
              0,
              "#0d0887"
             ],
             [
              0.1111111111111111,
              "#46039f"
             ],
             [
              0.2222222222222222,
              "#7201a8"
             ],
             [
              0.3333333333333333,
              "#9c179e"
             ],
             [
              0.4444444444444444,
              "#bd3786"
             ],
             [
              0.5555555555555556,
              "#d8576b"
             ],
             [
              0.6666666666666666,
              "#ed7953"
             ],
             [
              0.7777777777777778,
              "#fb9f3a"
             ],
             [
              0.8888888888888888,
              "#fdca26"
             ],
             [
              1,
              "#f0f921"
             ]
            ],
            "type": "heatmapgl"
           }
          ],
          "histogram": [
           {
            "marker": {
             "colorbar": {
              "outlinewidth": 0,
              "ticks": ""
             }
            },
            "type": "histogram"
           }
          ],
          "histogram2d": [
           {
            "colorbar": {
             "outlinewidth": 0,
             "ticks": ""
            },
            "colorscale": [
             [
              0,
              "#0d0887"
             ],
             [
              0.1111111111111111,
              "#46039f"
             ],
             [
              0.2222222222222222,
              "#7201a8"
             ],
             [
              0.3333333333333333,
              "#9c179e"
             ],
             [
              0.4444444444444444,
              "#bd3786"
             ],
             [
              0.5555555555555556,
              "#d8576b"
             ],
             [
              0.6666666666666666,
              "#ed7953"
             ],
             [
              0.7777777777777778,
              "#fb9f3a"
             ],
             [
              0.8888888888888888,
              "#fdca26"
             ],
             [
              1,
              "#f0f921"
             ]
            ],
            "type": "histogram2d"
           }
          ],
          "histogram2dcontour": [
           {
            "colorbar": {
             "outlinewidth": 0,
             "ticks": ""
            },
            "colorscale": [
             [
              0,
              "#0d0887"
             ],
             [
              0.1111111111111111,
              "#46039f"
             ],
             [
              0.2222222222222222,
              "#7201a8"
             ],
             [
              0.3333333333333333,
              "#9c179e"
             ],
             [
              0.4444444444444444,
              "#bd3786"
             ],
             [
              0.5555555555555556,
              "#d8576b"
             ],
             [
              0.6666666666666666,
              "#ed7953"
             ],
             [
              0.7777777777777778,
              "#fb9f3a"
             ],
             [
              0.8888888888888888,
              "#fdca26"
             ],
             [
              1,
              "#f0f921"
             ]
            ],
            "type": "histogram2dcontour"
           }
          ],
          "mesh3d": [
           {
            "colorbar": {
             "outlinewidth": 0,
             "ticks": ""
            },
            "type": "mesh3d"
           }
          ],
          "parcoords": [
           {
            "line": {
             "colorbar": {
              "outlinewidth": 0,
              "ticks": ""
             }
            },
            "type": "parcoords"
           }
          ],
          "pie": [
           {
            "automargin": true,
            "type": "pie"
           }
          ],
          "scatter": [
           {
            "marker": {
             "colorbar": {
              "outlinewidth": 0,
              "ticks": ""
             }
            },
            "type": "scatter"
           }
          ],
          "scatter3d": [
           {
            "line": {
             "colorbar": {
              "outlinewidth": 0,
              "ticks": ""
             }
            },
            "marker": {
             "colorbar": {
              "outlinewidth": 0,
              "ticks": ""
             }
            },
            "type": "scatter3d"
           }
          ],
          "scattercarpet": [
           {
            "marker": {
             "colorbar": {
              "outlinewidth": 0,
              "ticks": ""
             }
            },
            "type": "scattercarpet"
           }
          ],
          "scattergeo": [
           {
            "marker": {
             "colorbar": {
              "outlinewidth": 0,
              "ticks": ""
             }
            },
            "type": "scattergeo"
           }
          ],
          "scattergl": [
           {
            "marker": {
             "colorbar": {
              "outlinewidth": 0,
              "ticks": ""
             }
            },
            "type": "scattergl"
           }
          ],
          "scattermapbox": [
           {
            "marker": {
             "colorbar": {
              "outlinewidth": 0,
              "ticks": ""
             }
            },
            "type": "scattermapbox"
           }
          ],
          "scatterpolar": [
           {
            "marker": {
             "colorbar": {
              "outlinewidth": 0,
              "ticks": ""
             }
            },
            "type": "scatterpolar"
           }
          ],
          "scatterpolargl": [
           {
            "marker": {
             "colorbar": {
              "outlinewidth": 0,
              "ticks": ""
             }
            },
            "type": "scatterpolargl"
           }
          ],
          "scatterternary": [
           {
            "marker": {
             "colorbar": {
              "outlinewidth": 0,
              "ticks": ""
             }
            },
            "type": "scatterternary"
           }
          ],
          "surface": [
           {
            "colorbar": {
             "outlinewidth": 0,
             "ticks": ""
            },
            "colorscale": [
             [
              0,
              "#0d0887"
             ],
             [
              0.1111111111111111,
              "#46039f"
             ],
             [
              0.2222222222222222,
              "#7201a8"
             ],
             [
              0.3333333333333333,
              "#9c179e"
             ],
             [
              0.4444444444444444,
              "#bd3786"
             ],
             [
              0.5555555555555556,
              "#d8576b"
             ],
             [
              0.6666666666666666,
              "#ed7953"
             ],
             [
              0.7777777777777778,
              "#fb9f3a"
             ],
             [
              0.8888888888888888,
              "#fdca26"
             ],
             [
              1,
              "#f0f921"
             ]
            ],
            "type": "surface"
           }
          ],
          "table": [
           {
            "cells": {
             "fill": {
              "color": "#EBF0F8"
             },
             "line": {
              "color": "white"
             }
            },
            "header": {
             "fill": {
              "color": "#C8D4E3"
             },
             "line": {
              "color": "white"
             }
            },
            "type": "table"
           }
          ]
         },
         "layout": {
          "annotationdefaults": {
           "arrowcolor": "#2a3f5f",
           "arrowhead": 0,
           "arrowwidth": 1
          },
          "coloraxis": {
           "colorbar": {
            "outlinewidth": 0,
            "ticks": ""
           }
          },
          "colorscale": {
           "diverging": [
            [
             0,
             "#8e0152"
            ],
            [
             0.1,
             "#c51b7d"
            ],
            [
             0.2,
             "#de77ae"
            ],
            [
             0.3,
             "#f1b6da"
            ],
            [
             0.4,
             "#fde0ef"
            ],
            [
             0.5,
             "#f7f7f7"
            ],
            [
             0.6,
             "#e6f5d0"
            ],
            [
             0.7,
             "#b8e186"
            ],
            [
             0.8,
             "#7fbc41"
            ],
            [
             0.9,
             "#4d9221"
            ],
            [
             1,
             "#276419"
            ]
           ],
           "sequential": [
            [
             0,
             "#0d0887"
            ],
            [
             0.1111111111111111,
             "#46039f"
            ],
            [
             0.2222222222222222,
             "#7201a8"
            ],
            [
             0.3333333333333333,
             "#9c179e"
            ],
            [
             0.4444444444444444,
             "#bd3786"
            ],
            [
             0.5555555555555556,
             "#d8576b"
            ],
            [
             0.6666666666666666,
             "#ed7953"
            ],
            [
             0.7777777777777778,
             "#fb9f3a"
            ],
            [
             0.8888888888888888,
             "#fdca26"
            ],
            [
             1,
             "#f0f921"
            ]
           ],
           "sequentialminus": [
            [
             0,
             "#0d0887"
            ],
            [
             0.1111111111111111,
             "#46039f"
            ],
            [
             0.2222222222222222,
             "#7201a8"
            ],
            [
             0.3333333333333333,
             "#9c179e"
            ],
            [
             0.4444444444444444,
             "#bd3786"
            ],
            [
             0.5555555555555556,
             "#d8576b"
            ],
            [
             0.6666666666666666,
             "#ed7953"
            ],
            [
             0.7777777777777778,
             "#fb9f3a"
            ],
            [
             0.8888888888888888,
             "#fdca26"
            ],
            [
             1,
             "#f0f921"
            ]
           ]
          },
          "colorway": [
           "#636efa",
           "#EF553B",
           "#00cc96",
           "#ab63fa",
           "#FFA15A",
           "#19d3f3",
           "#FF6692",
           "#B6E880",
           "#FF97FF",
           "#FECB52"
          ],
          "font": {
           "color": "#2a3f5f"
          },
          "geo": {
           "bgcolor": "white",
           "lakecolor": "white",
           "landcolor": "#E5ECF6",
           "showlakes": true,
           "showland": true,
           "subunitcolor": "white"
          },
          "hoverlabel": {
           "align": "left"
          },
          "hovermode": "closest",
          "mapbox": {
           "style": "light"
          },
          "paper_bgcolor": "white",
          "plot_bgcolor": "#E5ECF6",
          "polar": {
           "angularaxis": {
            "gridcolor": "white",
            "linecolor": "white",
            "ticks": ""
           },
           "bgcolor": "#E5ECF6",
           "radialaxis": {
            "gridcolor": "white",
            "linecolor": "white",
            "ticks": ""
           }
          },
          "scene": {
           "xaxis": {
            "backgroundcolor": "#E5ECF6",
            "gridcolor": "white",
            "gridwidth": 2,
            "linecolor": "white",
            "showbackground": true,
            "ticks": "",
            "zerolinecolor": "white"
           },
           "yaxis": {
            "backgroundcolor": "#E5ECF6",
            "gridcolor": "white",
            "gridwidth": 2,
            "linecolor": "white",
            "showbackground": true,
            "ticks": "",
            "zerolinecolor": "white"
           },
           "zaxis": {
            "backgroundcolor": "#E5ECF6",
            "gridcolor": "white",
            "gridwidth": 2,
            "linecolor": "white",
            "showbackground": true,
            "ticks": "",
            "zerolinecolor": "white"
           }
          },
          "shapedefaults": {
           "line": {
            "color": "#2a3f5f"
           }
          },
          "ternary": {
           "aaxis": {
            "gridcolor": "white",
            "linecolor": "white",
            "ticks": ""
           },
           "baxis": {
            "gridcolor": "white",
            "linecolor": "white",
            "ticks": ""
           },
           "bgcolor": "#E5ECF6",
           "caxis": {
            "gridcolor": "white",
            "linecolor": "white",
            "ticks": ""
           }
          },
          "title": {
           "x": 0.05
          },
          "xaxis": {
           "automargin": true,
           "gridcolor": "white",
           "linecolor": "white",
           "ticks": "",
           "title": {
            "standoff": 15
           },
           "zerolinecolor": "white",
           "zerolinewidth": 2
          },
          "yaxis": {
           "automargin": true,
           "gridcolor": "white",
           "linecolor": "white",
           "ticks": "",
           "title": {
            "standoff": 15
           },
           "zerolinecolor": "white",
           "zerolinewidth": 2
          }
         }
        },
        "width": 864,
        "xaxis": {
         "anchor": "y",
         "domain": [
          0,
          1
         ],
         "mirror": "ticks",
         "nticks": 10,
         "range": [
          0.6500000000000001,
          8.35
         ],
         "showgrid": true,
         "showline": true,
         "side": "bottom",
         "tickfont": {
          "size": 10
         },
         "ticks": "inside",
         "type": "linear",
         "zeroline": false
        },
        "yaxis": {
         "anchor": "x",
         "domain": [
          0,
          1
         ],
         "mirror": "ticks",
         "nticks": 10,
         "range": [
          0,
          8299.2
         ],
         "showgrid": true,
         "showline": true,
         "side": "left",
         "tickfont": {
          "size": 10
         },
         "ticks": "inside",
         "type": "linear",
         "zeroline": false
        }
       }
      },
      "image/png": "[encoded data removed]",
      "text/html": [
       "<div>\n",
       "        \n",
       "        \n",
       "            <div id=\"16d67a40-fe6b-4361-bed5-fdbcb589af04\" class=\"plotly-graph-div\" style=\"height:288px; width:864px;\"></div>\n",
       "            <script type=\"text/javascript\">\n",
       "                require([\"plotly\"], function(Plotly) {\n",
       "                    window.PLOTLYENV=window.PLOTLYENV || {};\n",
       "                    \n",
       "                if (document.getElementById(\"16d67a40-fe6b-4361-bed5-fdbcb589af04\")) {\n",
       "                    Plotly.newPlot(\n",
       "                        '16d67a40-fe6b-4361-bed5-fdbcb589af04',\n",
       "                        [{\"marker\": {\"color\": \"#1F77B4\", \"line\": {\"width\": 1.0}}, \"opacity\": 1, \"orientation\": \"v\", \"type\": \"bar\", \"x\": [1.35, 2.05, 2.75, 3.4499999999999997, 4.15, 4.85, 5.549999999999999, 6.25, 6.949999999999999, 7.65], \"xaxis\": \"x\", \"y\": [7904.0, 4388.0, 2893.0, 0.0, 2190.0, 1679.0, 0.0, 1376.0, 1013.0, 65.0], \"yaxis\": \"y\"}],\n",
       "                        {\"autosize\": false, \"bargap\": 0.0, \"height\": 288, \"hovermode\": \"closest\", \"margin\": {\"b\": 36, \"l\": 108, \"pad\": 0, \"r\": 86, \"t\": 34}, \"showlegend\": false, \"template\": {\"data\": {\"bar\": [{\"error_x\": {\"color\": \"#2a3f5f\"}, \"error_y\": {\"color\": \"#2a3f5f\"}, \"marker\": {\"line\": {\"color\": \"#E5ECF6\", \"width\": 0.5}}, \"type\": \"bar\"}], \"barpolar\": [{\"marker\": {\"line\": {\"color\": \"#E5ECF6\", \"width\": 0.5}}, \"type\": \"barpolar\"}], \"carpet\": [{\"aaxis\": {\"endlinecolor\": \"#2a3f5f\", \"gridcolor\": \"white\", \"linecolor\": \"white\", \"minorgridcolor\": \"white\", \"startlinecolor\": \"#2a3f5f\"}, \"baxis\": {\"endlinecolor\": \"#2a3f5f\", \"gridcolor\": \"white\", \"linecolor\": \"white\", \"minorgridcolor\": \"white\", \"startlinecolor\": \"#2a3f5f\"}, \"type\": \"carpet\"}], \"choropleth\": [{\"colorbar\": {\"outlinewidth\": 0, \"ticks\": \"\"}, \"type\": \"choropleth\"}], \"contour\": [{\"colorbar\": {\"outlinewidth\": 0, \"ticks\": \"\"}, \"colorscale\": [[0.0, \"#0d0887\"], [0.1111111111111111, \"#46039f\"], [0.2222222222222222, \"#7201a8\"], [0.3333333333333333, \"#9c179e\"], [0.4444444444444444, \"#bd3786\"], [0.5555555555555556, \"#d8576b\"], [0.6666666666666666, \"#ed7953\"], [0.7777777777777778, \"#fb9f3a\"], [0.8888888888888888, \"#fdca26\"], [1.0, \"#f0f921\"]], \"type\": \"contour\"}], \"contourcarpet\": [{\"colorbar\": {\"outlinewidth\": 0, \"ticks\": \"\"}, \"type\": \"contourcarpet\"}], \"heatmap\": [{\"colorbar\": {\"outlinewidth\": 0, \"ticks\": \"\"}, \"colorscale\": [[0.0, \"#0d0887\"], [0.1111111111111111, \"#46039f\"], [0.2222222222222222, \"#7201a8\"], [0.3333333333333333, \"#9c179e\"], [0.4444444444444444, \"#bd3786\"], [0.5555555555555556, \"#d8576b\"], [0.6666666666666666, \"#ed7953\"], [0.7777777777777778, \"#fb9f3a\"], [0.8888888888888888, \"#fdca26\"], [1.0, \"#f0f921\"]], \"type\": \"heatmap\"}], \"heatmapgl\": [{\"colorbar\": {\"outlinewidth\": 0, \"ticks\": \"\"}, \"colorscale\": [[0.0, \"#0d0887\"], [0.1111111111111111, \"#46039f\"], [0.2222222222222222, \"#7201a8\"], [0.3333333333333333, \"#9c179e\"], [0.4444444444444444, \"#bd3786\"], [0.5555555555555556, \"#d8576b\"], [0.6666666666666666, \"#ed7953\"], [0.7777777777777778, \"#fb9f3a\"], [0.8888888888888888, \"#fdca26\"], [1.0, \"#f0f921\"]], \"type\": \"heatmapgl\"}], \"histogram\": [{\"marker\": {\"colorbar\": {\"outlinewidth\": 0, \"ticks\": \"\"}}, \"type\": \"histogram\"}], \"histogram2d\": [{\"colorbar\": {\"outlinewidth\": 0, \"ticks\": \"\"}, \"colorscale\": [[0.0, \"#0d0887\"], [0.1111111111111111, \"#46039f\"], [0.2222222222222222, \"#7201a8\"], [0.3333333333333333, \"#9c179e\"], [0.4444444444444444, \"#bd3786\"], [0.5555555555555556, \"#d8576b\"], [0.6666666666666666, \"#ed7953\"], [0.7777777777777778, \"#fb9f3a\"], [0.8888888888888888, \"#fdca26\"], [1.0, \"#f0f921\"]], \"type\": \"histogram2d\"}], \"histogram2dcontour\": [{\"colorbar\": {\"outlinewidth\": 0, \"ticks\": \"\"}, \"colorscale\": [[0.0, \"#0d0887\"], [0.1111111111111111, \"#46039f\"], [0.2222222222222222, \"#7201a8\"], [0.3333333333333333, \"#9c179e\"], [0.4444444444444444, \"#bd3786\"], [0.5555555555555556, \"#d8576b\"], [0.6666666666666666, \"#ed7953\"], [0.7777777777777778, \"#fb9f3a\"], [0.8888888888888888, \"#fdca26\"], [1.0, \"#f0f921\"]], \"type\": \"histogram2dcontour\"}], \"mesh3d\": [{\"colorbar\": {\"outlinewidth\": 0, \"ticks\": \"\"}, \"type\": \"mesh3d\"}], \"parcoords\": [{\"line\": {\"colorbar\": {\"outlinewidth\": 0, \"ticks\": \"\"}}, \"type\": \"parcoords\"}], \"pie\": [{\"automargin\": true, \"type\": \"pie\"}], \"scatter\": [{\"marker\": {\"colorbar\": {\"outlinewidth\": 0, \"ticks\": \"\"}}, \"type\": \"scatter\"}], \"scatter3d\": [{\"line\": {\"colorbar\": {\"outlinewidth\": 0, \"ticks\": \"\"}}, \"marker\": {\"colorbar\": {\"outlinewidth\": 0, \"ticks\": \"\"}}, \"type\": \"scatter3d\"}], \"scattercarpet\": [{\"marker\": {\"colorbar\": {\"outlinewidth\": 0, \"ticks\": \"\"}}, \"type\": \"scattercarpet\"}], \"scattergeo\": [{\"marker\": {\"colorbar\": {\"outlinewidth\": 0, \"ticks\": \"\"}}, \"type\": \"scattergeo\"}], \"scattergl\": [{\"marker\": {\"colorbar\": {\"outlinewidth\": 0, \"ticks\": \"\"}}, \"type\": \"scattergl\"}], \"scattermapbox\": [{\"marker\": {\"colorbar\": {\"outlinewidth\": 0, \"ticks\": \"\"}}, \"type\": \"scattermapbox\"}], \"scatterpolar\": [{\"marker\": {\"colorbar\": {\"outlinewidth\": 0, \"ticks\": \"\"}}, \"type\": \"scatterpolar\"}], \"scatterpolargl\": [{\"marker\": {\"colorbar\": {\"outlinewidth\": 0, \"ticks\": \"\"}}, \"type\": \"scatterpolargl\"}], \"scatterternary\": [{\"marker\": {\"colorbar\": {\"outlinewidth\": 0, \"ticks\": \"\"}}, \"type\": \"scatterternary\"}], \"surface\": [{\"colorbar\": {\"outlinewidth\": 0, \"ticks\": \"\"}, \"colorscale\": [[0.0, \"#0d0887\"], [0.1111111111111111, \"#46039f\"], [0.2222222222222222, \"#7201a8\"], [0.3333333333333333, \"#9c179e\"], [0.4444444444444444, \"#bd3786\"], [0.5555555555555556, \"#d8576b\"], [0.6666666666666666, \"#ed7953\"], [0.7777777777777778, \"#fb9f3a\"], [0.8888888888888888, \"#fdca26\"], [1.0, \"#f0f921\"]], \"type\": \"surface\"}], \"table\": [{\"cells\": {\"fill\": {\"color\": \"#EBF0F8\"}, \"line\": {\"color\": \"white\"}}, \"header\": {\"fill\": {\"color\": \"#C8D4E3\"}, \"line\": {\"color\": \"white\"}}, \"type\": \"table\"}]}, \"layout\": {\"annotationdefaults\": {\"arrowcolor\": \"#2a3f5f\", \"arrowhead\": 0, \"arrowwidth\": 1}, \"coloraxis\": {\"colorbar\": {\"outlinewidth\": 0, \"ticks\": \"\"}}, \"colorscale\": {\"diverging\": [[0, \"#8e0152\"], [0.1, \"#c51b7d\"], [0.2, \"#de77ae\"], [0.3, \"#f1b6da\"], [0.4, \"#fde0ef\"], [0.5, \"#f7f7f7\"], [0.6, \"#e6f5d0\"], [0.7, \"#b8e186\"], [0.8, \"#7fbc41\"], [0.9, \"#4d9221\"], [1, \"#276419\"]], \"sequential\": [[0.0, \"#0d0887\"], [0.1111111111111111, \"#46039f\"], [0.2222222222222222, \"#7201a8\"], [0.3333333333333333, \"#9c179e\"], [0.4444444444444444, \"#bd3786\"], [0.5555555555555556, \"#d8576b\"], [0.6666666666666666, \"#ed7953\"], [0.7777777777777778, \"#fb9f3a\"], [0.8888888888888888, \"#fdca26\"], [1.0, \"#f0f921\"]], \"sequentialminus\": [[0.0, \"#0d0887\"], [0.1111111111111111, \"#46039f\"], [0.2222222222222222, \"#7201a8\"], [0.3333333333333333, \"#9c179e\"], [0.4444444444444444, \"#bd3786\"], [0.5555555555555556, \"#d8576b\"], [0.6666666666666666, \"#ed7953\"], [0.7777777777777778, \"#fb9f3a\"], [0.8888888888888888, \"#fdca26\"], [1.0, \"#f0f921\"]]}, \"colorway\": [\"#636efa\", \"#EF553B\", \"#00cc96\", \"#ab63fa\", \"#FFA15A\", \"#19d3f3\", \"#FF6692\", \"#B6E880\", \"#FF97FF\", \"#FECB52\"], \"font\": {\"color\": \"#2a3f5f\"}, \"geo\": {\"bgcolor\": \"white\", \"lakecolor\": \"white\", \"landcolor\": \"#E5ECF6\", \"showlakes\": true, \"showland\": true, \"subunitcolor\": \"white\"}, \"hoverlabel\": {\"align\": \"left\"}, \"hovermode\": \"closest\", \"mapbox\": {\"style\": \"light\"}, \"paper_bgcolor\": \"white\", \"plot_bgcolor\": \"#E5ECF6\", \"polar\": {\"angularaxis\": {\"gridcolor\": \"white\", \"linecolor\": \"white\", \"ticks\": \"\"}, \"bgcolor\": \"#E5ECF6\", \"radialaxis\": {\"gridcolor\": \"white\", \"linecolor\": \"white\", \"ticks\": \"\"}}, \"scene\": {\"xaxis\": {\"backgroundcolor\": \"#E5ECF6\", \"gridcolor\": \"white\", \"gridwidth\": 2, \"linecolor\": \"white\", \"showbackground\": true, \"ticks\": \"\", \"zerolinecolor\": \"white\"}, \"yaxis\": {\"backgroundcolor\": \"#E5ECF6\", \"gridcolor\": \"white\", \"gridwidth\": 2, \"linecolor\": \"white\", \"showbackground\": true, \"ticks\": \"\", \"zerolinecolor\": \"white\"}, \"zaxis\": {\"backgroundcolor\": \"#E5ECF6\", \"gridcolor\": \"white\", \"gridwidth\": 2, \"linecolor\": \"white\", \"showbackground\": true, \"ticks\": \"\", \"zerolinecolor\": \"white\"}}, \"shapedefaults\": {\"line\": {\"color\": \"#2a3f5f\"}}, \"ternary\": {\"aaxis\": {\"gridcolor\": \"white\", \"linecolor\": \"white\", \"ticks\": \"\"}, \"baxis\": {\"gridcolor\": \"white\", \"linecolor\": \"white\", \"ticks\": \"\"}, \"bgcolor\": \"#E5ECF6\", \"caxis\": {\"gridcolor\": \"white\", \"linecolor\": \"white\", \"ticks\": \"\"}}, \"title\": {\"x\": 0.05}, \"xaxis\": {\"automargin\": true, \"gridcolor\": \"white\", \"linecolor\": \"white\", \"ticks\": \"\", \"title\": {\"standoff\": 15}, \"zerolinecolor\": \"white\", \"zerolinewidth\": 2}, \"yaxis\": {\"automargin\": true, \"gridcolor\": \"white\", \"linecolor\": \"white\", \"ticks\": \"\", \"title\": {\"standoff\": 15}, \"zerolinecolor\": \"white\", \"zerolinewidth\": 2}}}, \"width\": 864, \"xaxis\": {\"anchor\": \"y\", \"domain\": [0.0, 1.0], \"mirror\": \"ticks\", \"nticks\": 10, \"range\": [0.6500000000000001, 8.35], \"showgrid\": true, \"showline\": true, \"side\": \"bottom\", \"tickfont\": {\"size\": 10.0}, \"ticks\": \"inside\", \"type\": \"linear\", \"zeroline\": false}, \"yaxis\": {\"anchor\": \"x\", \"domain\": [0.0, 1.0], \"mirror\": \"ticks\", \"nticks\": 10, \"range\": [0.0, 8299.2], \"showgrid\": true, \"showline\": true, \"side\": \"left\", \"tickfont\": {\"size\": 10.0}, \"ticks\": \"inside\", \"type\": \"linear\", \"zeroline\": false}},\n",
       "                        {\"responsive\": true}\n",
       "                    ).then(function(){\n",
       "                            \n",
       "var gd = document.getElementById('16d67a40-fe6b-4361-bed5-fdbcb589af04');\n",
       "var x = new MutationObserver(function (mutations, observer) {{\n",
       "        var display = window.getComputedStyle(gd).display;\n",
       "        if (!display || display === 'none') {{\n",
       "            console.log([gd, 'removed!']);\n",
       "            Plotly.purge(gd);\n",
       "            observer.disconnect();\n",
       "        }}\n",
       "}});\n",
       "\n",
       "// Listen for the removal of the full notebook cells\n",
       "var notebookContainer = gd.closest('#notebook-container');\n",
       "if (notebookContainer) {{\n",
       "    x.observe(notebookContainer, {childList: true});\n",
       "}}\n",
       "\n",
       "// Listen for the clearing of the current output cell\n",
       "var outputEl = gd.closest('.output');\n",
       "if (outputEl) {{\n",
       "    x.observe(outputEl, {childList: true});\n",
       "}}\n",
       "\n",
       "                        })\n",
       "                };\n",
       "                });\n",
       "            </script>\n",
       "        </div>"
      ]
     },
     "metadata": {},
     "output_type": "display_data"
    }
   ],
   "source": [
    "plt.rcParams['figure.figsize'] = [12, 4]\n",
    "dt2012.anos.hist()\n",
    "\n",
    "fig = plt.gcf() # \"Get current figure\"\n",
    "#plt.show()\n",
    "py.iplot_mpl(fig)"
   ]
  },
  {
   "cell_type": "markdown",
   "metadata": {},
   "source": [
    "### Atletas por escalão"
   ]
  },
  {
   "cell_type": "code",
   "execution_count": 262,
   "metadata": {},
   "outputs": [
    {
     "data": {
      "text/plain": [
       "array(['mais 60', '10 a 20', '41 a 60', '21 a 40', 'ate 10'], dtype=object)"
      ]
     },
     "execution_count": 262,
     "metadata": {},
     "output_type": "execute_result"
    }
   ],
   "source": [
    "dt.escaloesIdade.unique()"
   ]
  },
  {
   "cell_type": "code",
   "execution_count": 263,
   "metadata": {},
   "outputs": [
    {
     "data": {
      "text/plain": [
       "array(['Porto', 'Lisboa', 'Braga', 'V. Castelo', 'Setubal', 'Viseu',\n",
       "       'Coimbra', 'Aveiro', 'Algarve', 'F.A.P.', 'Evora', 'Leiria',\n",
       "       'Ilha Terceira', 'Beja', 'Madeira', 'Vila Real', 'Portalegre',\n",
       "       'Ilha Faial', 'Santarem', 'Castelo Branco', 'Setubal A Praia',\n",
       "       'Ilha S. Maria', 'Ilha S. Miguel', 'Leiria A Praia', 'Guarda',\n",
       "       'Braganca', 'Ilha Graciosa', 'Andebol de Praia', 'L.P.A.',\n",
       "       'Porto A Praia', 'Aveiro A Praia', 'Lisboa A Praia',\n",
       "       'Madeira A Praia', 'Viseu A Praia', 'Algarve - A 4ALL',\n",
       "       'Lisboa - A 4ALL', 'SetÃºbal - A 4ALL', 'Aveiro -  4ALL',\n",
       "       'Leiria - A 4ALL', 'Porto - A 4LL'], dtype=object)"
      ]
     },
     "execution_count": 263,
     "metadata": {},
     "output_type": "execute_result"
    }
   ],
   "source": [
    "dt.associacao.unique()"
   ]
  },
  {
   "cell_type": "code",
   "execution_count": 264,
   "metadata": {},
   "outputs": [
    {
     "data": {
      "image/png": "[encoded data removed]",
      "text/plain": [
       "<Figure size 864x360 with 1 Axes>"
      ]
     },
     "metadata": {
      "needs_background": "light"
     },
     "output_type": "display_data"
    }
   ],
   "source": [
    "barras(dados=dt2008,titulo='Anos atleta desde 2008',x='escFedTodos',tamanho=[12,5])"
   ]
  },
  {
   "cell_type": "code",
   "execution_count": 265,
   "metadata": {},
   "outputs": [
    {
     "data": {
      "image/png": "[encoded data removed]",
      "text/plain": [
       "<Figure size 864x360 with 1 Axes>"
      ]
     },
     "metadata": {
      "needs_background": "light"
     },
     "output_type": "display_data"
    }
   ],
   "source": [
    "barras(dados=dt2012,titulo='Anos atleta desde 2012',x='escFedTodos',tamanho=[12,5])"
   ]
  },
  {
   "cell_type": "markdown",
   "metadata": {},
   "source": [
    "### Atletas por anos inscritos"
   ]
  },
  {
   "cell_type": "code",
   "execution_count": 266,
   "metadata": {},
   "outputs": [
    {
     "data": {
      "image/png": "[encoded data removed]",
      "text/plain": [
       "<Figure size 864x360 with 1 Axes>"
      ]
     },
     "metadata": {
      "needs_background": "light"
     },
     "output_type": "display_data"
    }
   ],
   "source": [
    "barras(dados=dt2008,titulo='Anos atleta desde 2008',x=dt.dtIns.apply(lambda x: x.date().year),tamanho=[12,5])"
   ]
  },
  {
   "cell_type": "code",
   "execution_count": 267,
   "metadata": {},
   "outputs": [
    {
     "data": {
      "image/png": "[encoded data removed]",
      "text/plain": [
       "<Figure size 864x360 with 1 Axes>"
      ]
     },
     "metadata": {
      "needs_background": "light"
     },
     "output_type": "display_data"
    }
   ],
   "source": [
    "barras(dados=dt2012,titulo='Anos atleta',x=dt.dtIns.apply(lambda x: x.date().year),tamanho=[12,5])"
   ]
  },
  {
   "cell_type": "code",
   "execution_count": 268,
   "metadata": {},
   "outputs": [
    {
     "data": {
      "image/png": "[encoded data removed]",
      "text/plain": [
       "<Figure size 864x360 with 1 Axes>"
      ]
     },
     "metadata": {
      "needs_background": "light"
     },
     "output_type": "display_data"
    }
   ],
   "source": [
    "barras(dados=dt2008,titulo='Anos atleta desde 2008',x='anos',tamanho=[12,5])"
   ]
  },
  {
   "cell_type": "code",
   "execution_count": 269,
   "metadata": {},
   "outputs": [
    {
     "data": {
      "image/png": "[encoded data removed]",
      "text/plain": [
       "<Figure size 864x360 with 1 Axes>"
      ]
     },
     "metadata": {
      "needs_background": "light"
     },
     "output_type": "display_data"
    }
   ],
   "source": [
    "barras(dados=dt2012,titulo='Anos atleta desde 2012',x='anos',tamanho=[12,5])"
   ]
  },
  {
   "cell_type": "markdown",
   "metadata": {},
   "source": [
    "### Tabela sobrevivência desde 2008"
   ]
  },
  {
   "cell_type": "code",
   "execution_count": 270,
   "metadata": {},
   "outputs": [],
   "source": [
    "from lifelines import KaplanMeierFitter\n",
    "kmf2008 = KaplanMeierFitter()\n",
    "T2008 = dt2008['anos']\n",
    "C2008 = dt2008['abandonou']\n",
    "kmf2008.fit(T2008,C2008,label=\"Abandono dos atletas\");\n",
    "\n",
    "kmf2012 = KaplanMeierFitter()\n",
    "T2012 = dt2012['anos']\n",
    "C2012 = dt2012['abandonou']\n",
    "kmf2012.fit(T2012,C2012,label=\"Abandono dos atletas\");"
   ]
  },
  {
   "cell_type": "code",
   "execution_count": 271,
   "metadata": {},
   "outputs": [
    {
     "data": {
      "text/html": [
       "<div>\n",
       "<style scoped>\n",
       "    .dataframe tbody tr th:only-of-type {\n",
       "        vertical-align: middle;\n",
       "    }\n",
       "\n",
       "    .dataframe tbody tr th {\n",
       "        vertical-align: top;\n",
       "    }\n",
       "\n",
       "    .dataframe thead th {\n",
       "        text-align: right;\n",
       "    }\n",
       "</style>\n",
       "<table border=\"1\" class=\"dataframe\">\n",
       "  <thead>\n",
       "    <tr style=\"text-align: right;\">\n",
       "      <th></th>\n",
       "      <th>event_at</th>\n",
       "      <th>removed</th>\n",
       "      <th>observed</th>\n",
       "      <th>censored</th>\n",
       "      <th>entrance</th>\n",
       "      <th>at_risk</th>\n",
       "      <th>time to event</th>\n",
       "      <th>prob</th>\n",
       "    </tr>\n",
       "  </thead>\n",
       "  <tbody>\n",
       "    <tr>\n",
       "      <th>0.0</th>\n",
       "      <td>0.0</td>\n",
       "      <td>0</td>\n",
       "      <td>0</td>\n",
       "      <td>0</td>\n",
       "      <td>13341</td>\n",
       "      <td>13341</td>\n",
       "      <td>3.0</td>\n",
       "      <td>1.00</td>\n",
       "    </tr>\n",
       "    <tr>\n",
       "      <th>1.0</th>\n",
       "      <td>1.0</td>\n",
       "      <td>4602</td>\n",
       "      <td>4602</td>\n",
       "      <td>0</td>\n",
       "      <td>0</td>\n",
       "      <td>13341</td>\n",
       "      <td>4.0</td>\n",
       "      <td>0.66</td>\n",
       "    </tr>\n",
       "    <tr>\n",
       "      <th>2.0</th>\n",
       "      <td>2.0</td>\n",
       "      <td>1911</td>\n",
       "      <td>1911</td>\n",
       "      <td>0</td>\n",
       "      <td>0</td>\n",
       "      <td>8739</td>\n",
       "      <td>4.0</td>\n",
       "      <td>0.51</td>\n",
       "    </tr>\n",
       "    <tr>\n",
       "      <th>3.0</th>\n",
       "      <td>3.0</td>\n",
       "      <td>1260</td>\n",
       "      <td>1260</td>\n",
       "      <td>0</td>\n",
       "      <td>0</td>\n",
       "      <td>6828</td>\n",
       "      <td>4.0</td>\n",
       "      <td>0.42</td>\n",
       "    </tr>\n",
       "    <tr>\n",
       "      <th>4.0</th>\n",
       "      <td>4.0</td>\n",
       "      <td>900</td>\n",
       "      <td>900</td>\n",
       "      <td>0</td>\n",
       "      <td>0</td>\n",
       "      <td>5568</td>\n",
       "      <td>4.0</td>\n",
       "      <td>0.35</td>\n",
       "    </tr>\n",
       "    <tr>\n",
       "      <th>5.0</th>\n",
       "      <td>5.0</td>\n",
       "      <td>739</td>\n",
       "      <td>739</td>\n",
       "      <td>0</td>\n",
       "      <td>0</td>\n",
       "      <td>4668</td>\n",
       "      <td>4.0</td>\n",
       "      <td>0.29</td>\n",
       "    </tr>\n",
       "    <tr>\n",
       "      <th>6.0</th>\n",
       "      <td>6.0</td>\n",
       "      <td>653</td>\n",
       "      <td>653</td>\n",
       "      <td>0</td>\n",
       "      <td>0</td>\n",
       "      <td>3929</td>\n",
       "      <td>inf</td>\n",
       "      <td>0.25</td>\n",
       "    </tr>\n",
       "    <tr>\n",
       "      <th>7.0</th>\n",
       "      <td>7.0</td>\n",
       "      <td>680</td>\n",
       "      <td>680</td>\n",
       "      <td>0</td>\n",
       "      <td>0</td>\n",
       "      <td>3276</td>\n",
       "      <td>inf</td>\n",
       "      <td>0.19</td>\n",
       "    </tr>\n",
       "    <tr>\n",
       "      <th>8.0</th>\n",
       "      <td>8.0</td>\n",
       "      <td>1141</td>\n",
       "      <td>382</td>\n",
       "      <td>759</td>\n",
       "      <td>0</td>\n",
       "      <td>2596</td>\n",
       "      <td>inf</td>\n",
       "      <td>0.17</td>\n",
       "    </tr>\n",
       "    <tr>\n",
       "      <th>9.0</th>\n",
       "      <td>9.0</td>\n",
       "      <td>721</td>\n",
       "      <td>193</td>\n",
       "      <td>528</td>\n",
       "      <td>0</td>\n",
       "      <td>1455</td>\n",
       "      <td>inf</td>\n",
       "      <td>0.14</td>\n",
       "    </tr>\n",
       "    <tr>\n",
       "      <th>10.0</th>\n",
       "      <td>10.0</td>\n",
       "      <td>504</td>\n",
       "      <td>76</td>\n",
       "      <td>428</td>\n",
       "      <td>0</td>\n",
       "      <td>734</td>\n",
       "      <td>inf</td>\n",
       "      <td>0.13</td>\n",
       "    </tr>\n",
       "    <tr>\n",
       "      <th>11.0</th>\n",
       "      <td>11.0</td>\n",
       "      <td>215</td>\n",
       "      <td>0</td>\n",
       "      <td>215</td>\n",
       "      <td>0</td>\n",
       "      <td>230</td>\n",
       "      <td>inf</td>\n",
       "      <td>0.13</td>\n",
       "    </tr>\n",
       "    <tr>\n",
       "      <th>12.0</th>\n",
       "      <td>12.0</td>\n",
       "      <td>15</td>\n",
       "      <td>0</td>\n",
       "      <td>15</td>\n",
       "      <td>0</td>\n",
       "      <td>15</td>\n",
       "      <td>inf</td>\n",
       "      <td>0.13</td>\n",
       "    </tr>\n",
       "  </tbody>\n",
       "</table>\n",
       "</div>"
      ],
      "text/plain": [
       "      event_at  removed  observed  censored  entrance  at_risk  time to event  \\\n",
       "0.0        0.0        0         0         0     13341    13341            3.0   \n",
       "1.0        1.0     4602      4602         0         0    13341            4.0   \n",
       "2.0        2.0     1911      1911         0         0     8739            4.0   \n",
       "3.0        3.0     1260      1260         0         0     6828            4.0   \n",
       "4.0        4.0      900       900         0         0     5568            4.0   \n",
       "5.0        5.0      739       739         0         0     4668            4.0   \n",
       "6.0        6.0      653       653         0         0     3929            inf   \n",
       "7.0        7.0      680       680         0         0     3276            inf   \n",
       "8.0        8.0     1141       382       759         0     2596            inf   \n",
       "9.0        9.0      721       193       528         0     1455            inf   \n",
       "10.0      10.0      504        76       428         0      734            inf   \n",
       "11.0      11.0      215         0       215         0      230            inf   \n",
       "12.0      12.0       15         0        15         0       15            inf   \n",
       "\n",
       "      prob  \n",
       "0.0   1.00  \n",
       "1.0   0.66  \n",
       "2.0   0.51  \n",
       "3.0   0.42  \n",
       "4.0   0.35  \n",
       "5.0   0.29  \n",
       "6.0   0.25  \n",
       "7.0   0.19  \n",
       "8.0   0.17  \n",
       "9.0   0.14  \n",
       "10.0  0.13  \n",
       "11.0  0.13  \n",
       "12.0  0.13  "
      ]
     },
     "execution_count": 271,
     "metadata": {},
     "output_type": "execute_result"
    }
   ],
   "source": [
    "survivalTable = pd.concat([kmf2008.event_table.reset_index(), kmf2008.conditional_time_to_event_,kmf2008.survival_function_.round(decimals=2)], axis=1)\n",
    "survivalTable.columns = ['event_at', 'removed', 'observed', 'censored', 'entrance', 'at_risk',\n",
    "       'time to event', 'prob']\n",
    "survivalTable.head(18)\n",
    "\n",
    "#kmf.event_table.head()"
   ]
  },
  {
   "cell_type": "markdown",
   "metadata": {},
   "source": [
    "### Tabela de sobrevivência desde 2012"
   ]
  },
  {
   "cell_type": "code",
   "execution_count": 272,
   "metadata": {},
   "outputs": [
    {
     "data": {
      "text/html": [
       "<div>\n",
       "<style scoped>\n",
       "    .dataframe tbody tr th:only-of-type {\n",
       "        vertical-align: middle;\n",
       "    }\n",
       "\n",
       "    .dataframe tbody tr th {\n",
       "        vertical-align: top;\n",
       "    }\n",
       "\n",
       "    .dataframe thead th {\n",
       "        text-align: right;\n",
       "    }\n",
       "</style>\n",
       "<table border=\"1\" class=\"dataframe\">\n",
       "  <thead>\n",
       "    <tr style=\"text-align: right;\">\n",
       "      <th></th>\n",
       "      <th>event_at</th>\n",
       "      <th>removed</th>\n",
       "      <th>observed</th>\n",
       "      <th>censored</th>\n",
       "      <th>entrance</th>\n",
       "      <th>at_risk</th>\n",
       "      <th>time to event</th>\n",
       "      <th>prob</th>\n",
       "    </tr>\n",
       "  </thead>\n",
       "  <tbody>\n",
       "    <tr>\n",
       "      <th>0.0</th>\n",
       "      <td>0.0</td>\n",
       "      <td>0</td>\n",
       "      <td>0</td>\n",
       "      <td>0</td>\n",
       "      <td>21508</td>\n",
       "      <td>21508</td>\n",
       "      <td>3.0</td>\n",
       "      <td>1.00</td>\n",
       "    </tr>\n",
       "    <tr>\n",
       "      <th>1.0</th>\n",
       "      <td>1.0</td>\n",
       "      <td>7904</td>\n",
       "      <td>6647</td>\n",
       "      <td>1257</td>\n",
       "      <td>0</td>\n",
       "      <td>21508</td>\n",
       "      <td>inf</td>\n",
       "      <td>0.69</td>\n",
       "    </tr>\n",
       "    <tr>\n",
       "      <th>2.0</th>\n",
       "      <td>2.0</td>\n",
       "      <td>4388</td>\n",
       "      <td>2297</td>\n",
       "      <td>2091</td>\n",
       "      <td>0</td>\n",
       "      <td>13604</td>\n",
       "      <td>inf</td>\n",
       "      <td>0.57</td>\n",
       "    </tr>\n",
       "    <tr>\n",
       "      <th>3.0</th>\n",
       "      <td>3.0</td>\n",
       "      <td>2893</td>\n",
       "      <td>1217</td>\n",
       "      <td>1676</td>\n",
       "      <td>0</td>\n",
       "      <td>9216</td>\n",
       "      <td>inf</td>\n",
       "      <td>0.50</td>\n",
       "    </tr>\n",
       "    <tr>\n",
       "      <th>4.0</th>\n",
       "      <td>4.0</td>\n",
       "      <td>2190</td>\n",
       "      <td>829</td>\n",
       "      <td>1361</td>\n",
       "      <td>0</td>\n",
       "      <td>6323</td>\n",
       "      <td>inf</td>\n",
       "      <td>0.43</td>\n",
       "    </tr>\n",
       "    <tr>\n",
       "      <th>5.0</th>\n",
       "      <td>5.0</td>\n",
       "      <td>1679</td>\n",
       "      <td>498</td>\n",
       "      <td>1181</td>\n",
       "      <td>0</td>\n",
       "      <td>4133</td>\n",
       "      <td>inf</td>\n",
       "      <td>0.38</td>\n",
       "    </tr>\n",
       "    <tr>\n",
       "      <th>6.0</th>\n",
       "      <td>6.0</td>\n",
       "      <td>1376</td>\n",
       "      <td>210</td>\n",
       "      <td>1166</td>\n",
       "      <td>0</td>\n",
       "      <td>2454</td>\n",
       "      <td>inf</td>\n",
       "      <td>0.35</td>\n",
       "    </tr>\n",
       "    <tr>\n",
       "      <th>7.0</th>\n",
       "      <td>7.0</td>\n",
       "      <td>1013</td>\n",
       "      <td>0</td>\n",
       "      <td>1013</td>\n",
       "      <td>0</td>\n",
       "      <td>1078</td>\n",
       "      <td>inf</td>\n",
       "      <td>0.35</td>\n",
       "    </tr>\n",
       "    <tr>\n",
       "      <th>8.0</th>\n",
       "      <td>8.0</td>\n",
       "      <td>65</td>\n",
       "      <td>0</td>\n",
       "      <td>65</td>\n",
       "      <td>0</td>\n",
       "      <td>65</td>\n",
       "      <td>inf</td>\n",
       "      <td>0.35</td>\n",
       "    </tr>\n",
       "  </tbody>\n",
       "</table>\n",
       "</div>"
      ],
      "text/plain": [
       "     event_at  removed  observed  censored  entrance  at_risk  time to event  \\\n",
       "0.0       0.0        0         0         0     21508    21508            3.0   \n",
       "1.0       1.0     7904      6647      1257         0    21508            inf   \n",
       "2.0       2.0     4388      2297      2091         0    13604            inf   \n",
       "3.0       3.0     2893      1217      1676         0     9216            inf   \n",
       "4.0       4.0     2190       829      1361         0     6323            inf   \n",
       "5.0       5.0     1679       498      1181         0     4133            inf   \n",
       "6.0       6.0     1376       210      1166         0     2454            inf   \n",
       "7.0       7.0     1013         0      1013         0     1078            inf   \n",
       "8.0       8.0       65         0        65         0       65            inf   \n",
       "\n",
       "     prob  \n",
       "0.0  1.00  \n",
       "1.0  0.69  \n",
       "2.0  0.57  \n",
       "3.0  0.50  \n",
       "4.0  0.43  \n",
       "5.0  0.38  \n",
       "6.0  0.35  \n",
       "7.0  0.35  \n",
       "8.0  0.35  "
      ]
     },
     "execution_count": 272,
     "metadata": {},
     "output_type": "execute_result"
    }
   ],
   "source": [
    "survivalTable = pd.concat([kmf2012.event_table.reset_index(), kmf2012.conditional_time_to_event_,kmf2012.survival_function_.round(decimals=2)], axis=1)\n",
    "survivalTable.columns = ['event_at', 'removed', 'observed', 'censored', 'entrance', 'at_risk',\n",
    "       'time to event', 'prob']\n",
    "survivalTable.head(18)\n",
    "\n",
    "#kmf.event_table.head()"
   ]
  },
  {
   "cell_type": "markdown",
   "metadata": {},
   "source": [
    "### A mediana de anos tempo permanência\n",
    "\n",
    "A mediana de sobrevivência aumentou 1 ano. Se considerarmos os dados todos é de 2 anos."
   ]
  },
  {
   "cell_type": "code",
   "execution_count": 273,
   "metadata": {},
   "outputs": [
    {
     "name": "stdout",
     "output_type": "stream",
     "text": [
      "Mediana sobrevivência desde 2008: 3.0\n",
      "Mediana anos: 3.0\n",
      "Mediana sobrevivência desde 2012: 3.0\n",
      "Mediana anos: 2.0\n"
     ]
    }
   ],
   "source": [
    "print('Mediana sobrevivência desde 2008:',kmf2008.median_)\n",
    "print('Mediana anos:',dt2008['anos'].median())\n",
    "\n",
    "print('Mediana sobrevivência desde 2012:',kmf2012.median_)\n",
    "print('Mediana anos:',dt2012['anos'].median())"
   ]
  },
  {
   "cell_type": "markdown",
   "metadata": {},
   "source": [
    "### S(t) == P(T>t) probabilidade de viver mais do que 3 anos desde 2008"
   ]
  },
  {
   "cell_type": "code",
   "execution_count": 274,
   "metadata": {},
   "outputs": [
    {
     "data": {
      "text/plain": [
       "0.417360017989656"
      ]
     },
     "execution_count": 274,
     "metadata": {},
     "output_type": "execute_result"
    }
   ],
   "source": [
    "kmf2008.predict(3.0)"
   ]
  },
  {
   "cell_type": "markdown",
   "metadata": {},
   "source": [
    "### S(t) == P(T>t) probabilidade de viver mais do que 3 anos desde 2012"
   ]
  },
  {
   "cell_type": "code",
   "execution_count": 275,
   "metadata": {},
   "outputs": [
    {
     "data": {
      "text/plain": [
       "0.49845046558428574"
      ]
     },
     "execution_count": 275,
     "metadata": {},
     "output_type": "execute_result"
    }
   ],
   "source": [
    "kmf2012.predict(3.0)"
   ]
  },
  {
   "cell_type": "code",
   "execution_count": 276,
   "metadata": {},
   "outputs": [
    {
     "data": {
      "image/png": "[encoded data removed]",
      "text/plain": [
       "<Figure size 1080x360 with 1 Axes>"
      ]
     },
     "metadata": {
      "needs_background": "light"
     },
     "output_type": "display_data"
    }
   ],
   "source": [
    "%matplotlib inline\n",
    "import matplotlib.pyplot as plt\n",
    "plt.rcParams['figure.figsize'] = [15, 5]\n",
    "kmf2008.plot();\n",
    "plt.title('Probabilidade de permanência por ano desde 2008')\n",
    "plt.xlabel('Anos')\n",
    "plt.ylabel('Probabilidade');"
   ]
  },
  {
   "cell_type": "code",
   "execution_count": 277,
   "metadata": {},
   "outputs": [
    {
     "data": {
      "image/png": "[encoded data removed]",
      "text/plain": [
       "<Figure size 1080x360 with 1 Axes>"
      ]
     },
     "metadata": {
      "needs_background": "light"
     },
     "output_type": "display_data"
    }
   ],
   "source": [
    "%matplotlib inline\n",
    "import matplotlib.pyplot as plt\n",
    "plt.rcParams['figure.figsize'] = [15, 5]\n",
    "kmf2012.plot();\n",
    "plt.title('Probabilidade de permanência por ano desde 2012')\n",
    "plt.xlabel('Anos')\n",
    "plt.ylabel('Probabilidade');"
   ]
  },
  {
   "cell_type": "markdown",
   "metadata": {},
   "source": [
    "A grande maioria dos atletas federados só fica um ano. "
   ]
  },
  {
   "cell_type": "code",
   "execution_count": 278,
   "metadata": {},
   "outputs": [
    {
     "data": {
      "image/png": "[encoded data removed]",
      "text/plain": [
       "<Figure size 1080x360 with 1 Axes>"
      ]
     },
     "metadata": {
      "needs_background": "light"
     },
     "output_type": "display_data"
    }
   ],
   "source": [
    "abandono=kmf2008.event_table.reset_index()\n",
    "\n",
    "plt.rcParams['figure.figsize'] = [15, 5]\n",
    "plt.plot(abandono.event_at, abandono.at_risk);\n",
    "plt.title('Número de atletas por ano de antiguidade desde 2008') \n",
    "plt.xlabel('anos')\n",
    "plt.ylabel('atletas');\n",
    "#plt.xlabel()"
   ]
  },
  {
   "cell_type": "code",
   "execution_count": 279,
   "metadata": {},
   "outputs": [
    {
     "name": "stdout",
     "output_type": "stream",
     "text": [
      "13341\n"
     ]
    },
    {
     "data": {
      "image/png": "[encoded data removed]",
      "text/plain": [
       "<Figure size 1080x360 with 1 Axes>"
      ]
     },
     "metadata": {
      "needs_background": "light"
     },
     "output_type": "display_data"
    }
   ],
   "source": [
    "abandono['percentagemClientes']= 0.0\n",
    "anterior = abandono.at_risk[0:1]\n",
    "anterior = anterior[0]\n",
    "print(anterior)\n",
    "\n",
    "for index, row in abandono.iterrows():\n",
    "    abandono.at[index, 'percentagemClientes'] = row.at_risk/anterior    \n",
    "\n",
    "plt.title('Percentagem de atletas retidos por ano desde 2008')\n",
    "plt.rcParams['figure.figsize'] = [15, 5]\n",
    "plt.xlabel('meses')\n",
    "plt.ylabel('clientes')\n",
    "plt.plot(abandono.event_at, abandono.percentagemClientes)\n",
    "plt.show()"
   ]
  },
  {
   "cell_type": "code",
   "execution_count": 280,
   "metadata": {},
   "outputs": [
    {
     "data": {
      "image/png": "[encoded data removed]",
      "text/plain": [
       "<Figure size 1080x360 with 1 Axes>"
      ]
     },
     "metadata": {
      "needs_background": "light"
     },
     "output_type": "display_data"
    }
   ],
   "source": [
    "abandono=kmf2012.event_table.reset_index()\n",
    "\n",
    "plt.rcParams['figure.figsize'] = [15, 5]\n",
    "plt.plot(abandono.event_at, abandono.at_risk);\n",
    "plt.title('Número de atletas por ano de antiguidade desde 2012') \n",
    "plt.xlabel('anos')\n",
    "plt.ylabel('atletas');\n",
    "#plt.xlabel()"
   ]
  },
  {
   "cell_type": "code",
   "execution_count": 281,
   "metadata": {},
   "outputs": [
    {
     "name": "stdout",
     "output_type": "stream",
     "text": [
      "21508\n"
     ]
    },
    {
     "data": {
      "image/png": "[encoded data removed]",
      "text/plain": [
       "<Figure size 1080x360 with 1 Axes>"
      ]
     },
     "metadata": {
      "needs_background": "light"
     },
     "output_type": "display_data"
    }
   ],
   "source": [
    "abandono['percentagemClientes']= 0.0\n",
    "anterior = abandono.at_risk[0:1]\n",
    "anterior = anterior[0]\n",
    "print(anterior)\n",
    "\n",
    "for index, row in abandono.iterrows():\n",
    "    abandono.at[index, 'percentagemClientes'] = row.at_risk/anterior    \n",
    "\n",
    "plt.title('Percentagem de atletas retidos por ano desde 2012')\n",
    "plt.rcParams['figure.figsize'] = [15, 5]\n",
    "plt.xlabel('meses')\n",
    "plt.ylabel('clientes')\n",
    "plt.plot(abandono.event_at, abandono.percentagemClientes)\n",
    "plt.show()"
   ]
  },
  {
   "cell_type": "markdown",
   "metadata": {
    "toc-hr-collapsed": false
   },
   "source": [
    "### Curvas de sobrevivencia"
   ]
  },
  {
   "cell_type": "code",
   "execution_count": 282,
   "metadata": {},
   "outputs": [],
   "source": [
    "# Importar bibliotecas\n",
    "from lifelines.statistics import pairwise_logrank_test\n",
    "from lifelines.statistics import multivariate_logrank_test"
   ]
  },
  {
   "cell_type": "markdown",
   "metadata": {},
   "source": [
    "#### Por género"
   ]
  },
  {
   "cell_type": "code",
   "execution_count": 283,
   "metadata": {},
   "outputs": [
    {
     "name": "stdout",
     "output_type": "stream",
     "text": [
      "M    132729\n",
      "F     64876\n",
      "Name: sexo, dtype: int64\n",
      "probabilidade de sobreviver: M                    M\n",
      "timeline          \n",
      "0.0       1.000000\n",
      "1.0       0.663672\n",
      "2.0       0.524016\n",
      "3.0       0.433611\n",
      "4.0       0.368164\n",
      "median: M 3.0\n",
      "probabilidade de sobreviver: F                    F\n",
      "timeline          \n",
      "0.0       1.000000\n",
      "1.0       0.637078\n",
      "2.0       0.486362\n",
      "3.0       0.383495\n",
      "4.0       0.311835\n",
      "median: F 2.0\n"
     ]
    },
    {
     "data": {
      "image/png": "[encoded data removed]",
      "text/plain": [
       "<Figure size 1080x360 with 1 Axes>"
      ]
     },
     "metadata": {
      "needs_background": "light"
     },
     "output_type": "display_data"
    }
   ],
   "source": [
    "print(dt.sexo.value_counts())\n",
    "curvaSobrevivencia(dt2008,'sexo',T=T2008,C=C2008,eixoX='anos',titulo='Probabilidade sobrevivência por género desde 2008');plt.xlabel('anos');"
   ]
  },
  {
   "cell_type": "code",
   "execution_count": 284,
   "metadata": {},
   "outputs": [
    {
     "name": "stdout",
     "output_type": "stream",
     "text": [
      "<lifelines.StatisticalResult>\n",
      "               t_0 = -1\n",
      " null_distribution = chi squared\n",
      "degrees_of_freedom = 1\n",
      "\n",
      "---\n",
      " test_statistic      p  -log2(p)\n",
      "          48.22 <0.005     37.94\n"
     ]
    }
   ],
   "source": [
    "results=multivariate_logrank_test(event_durations=T2008,groups=dt2008['sexo'],event_observed=C2008)\n",
    "results.print_summary()"
   ]
  },
  {
   "cell_type": "code",
   "execution_count": 285,
   "metadata": {},
   "outputs": [
    {
     "name": "stdout",
     "output_type": "stream",
     "text": [
      "M    132729\n",
      "F     64876\n",
      "Name: sexo, dtype: int64\n",
      "probabilidade de sobreviver: M                    M\n",
      "timeline          \n",
      "0.0       1.000000\n",
      "1.0       0.696714\n",
      "2.0       0.582574\n",
      "3.0       0.507190\n",
      "4.0       0.442142\n",
      "median: M 4.0\n",
      "probabilidade de sobreviver: F                    F\n",
      "timeline          \n",
      "0.0       1.000000\n",
      "1.0       0.679443\n",
      "2.0       0.557567\n",
      "3.0       0.480817\n",
      "4.0       0.414676\n",
      "median: F 3.0\n"
     ]
    },
    {
     "data": {
      "image/png": "[encoded data removed]",
      "text/plain": [
       "<Figure size 1080x360 with 1 Axes>"
      ]
     },
     "metadata": {
      "needs_background": "light"
     },
     "output_type": "display_data"
    }
   ],
   "source": [
    "print(dt.sexo.value_counts())\n",
    "curvaSobrevivencia(dt2012,'sexo',eixoX='anos',T=T2012,C=C2012,titulo='Probabilidade sobrevivência por género desde 2012');plt.xlabel('anos');"
   ]
  },
  {
   "cell_type": "code",
   "execution_count": 286,
   "metadata": {},
   "outputs": [
    {
     "name": "stdout",
     "output_type": "stream",
     "text": [
      "<lifelines.StatisticalResult>\n",
      "               t_0 = -1\n",
      " null_distribution = chi squared\n",
      "degrees_of_freedom = 1\n",
      "\n",
      "---\n",
      " test_statistic      p  -log2(p)\n",
      "          12.56 <0.005     11.31\n"
     ]
    }
   ],
   "source": [
    "results=multivariate_logrank_test(event_durations=T2012,groups=dt2012['sexo'],event_observed=C2012)\n",
    "results.print_summary()"
   ]
  },
  {
   "cell_type": "markdown",
   "metadata": {},
   "source": [
    "**Existem diferenças entre as curvas de sobrevivência. Vamos ver onde. Isto é como se fosse um teste post-hoc**"
   ]
  },
  {
   "cell_type": "code",
   "execution_count": 287,
   "metadata": {},
   "outputs": [
    {
     "name": "stdout",
     "output_type": "stream",
     "text": [
      "<lifelines.StatisticalResult>\n",
      "               t_0 = -1\n",
      " null_distribution = chi squared\n",
      "degrees_of_freedom = 1\n",
      "\n",
      "---\n",
      "     test_statistic      p  -log2(p)\n",
      "F M           12.56 <0.005     11.31\n"
     ]
    }
   ],
   "source": [
    "results=pairwise_logrank_test(event_durations=T2012,groups=dt2012.sexo,event_observed=C2012)\n",
    "results.print_summary()"
   ]
  },
  {
   "cell_type": "markdown",
   "metadata": {},
   "source": [
    "#### Por país"
   ]
  },
  {
   "cell_type": "code",
   "execution_count": 288,
   "metadata": {},
   "outputs": [
    {
     "name": "stdout",
     "output_type": "stream",
     "text": [
      "Portugal          197542\n",
      "Resto do mundo        34\n",
      "Europa                29\n",
      "Name: pais, dtype: int64\n",
      "probabilidade de sobreviver: Portugal             Portugal\n",
      "timeline          \n",
      "0.0       1.000000\n",
      "1.0       0.655209\n",
      "2.0       0.512083\n",
      "3.0       0.417592\n",
      "4.0       0.350120\n",
      "median: Portugal 3.0\n",
      "probabilidade de sobreviver: Resto do mundo             Resto do mundo\n",
      "timeline                \n",
      "0.0                  1.0\n",
      "1.0                  0.2\n",
      "3.0                  0.0\n",
      "median: Resto do mundo 1.0\n",
      "probabilidade de sobreviver: Europa               Europa\n",
      "timeline          \n",
      "0.0       1.000000\n",
      "1.0       0.666667\n",
      "2.0       0.333333\n",
      "4.0       0.250000\n",
      "5.0       0.166667\n",
      "median: Europa 2.0\n"
     ]
    },
    {
     "data": {
      "image/png": "[encoded data removed]",
      "text/plain": [
       "<Figure size 1080x360 with 1 Axes>"
      ]
     },
     "metadata": {
      "needs_background": "light"
     },
     "output_type": "display_data"
    }
   ],
   "source": [
    "print(dt.pais.value_counts())\n",
    "curvaSobrevivencia(dt2008,'pais',T=T2008,C=C2008,eixoX='anos',titulo='Probabilidade sobrevivência por país desde 2008');plt.xlabel('anos');"
   ]
  },
  {
   "cell_type": "code",
   "execution_count": 289,
   "metadata": {},
   "outputs": [
    {
     "name": "stdout",
     "output_type": "stream",
     "text": [
      "<lifelines.StatisticalResult>\n",
      "               t_0 = -1\n",
      " null_distribution = chi squared\n",
      "degrees_of_freedom = 2\n",
      "\n",
      "---\n",
      " test_statistic    p  -log2(p)\n",
      "           6.56 0.04      4.73\n"
     ]
    }
   ],
   "source": [
    "from lifelines.statistics import multivariate_logrank_test\n",
    "\n",
    "results=multivariate_logrank_test(event_durations=T2008,groups=dt2008['pais'],event_observed=C2008)\n",
    "results.print_summary()"
   ]
  },
  {
   "cell_type": "markdown",
   "metadata": {},
   "source": [
    "**Existem diferenças entre as curvas de sobrevivência.**"
   ]
  },
  {
   "cell_type": "code",
   "execution_count": 290,
   "metadata": {},
   "outputs": [
    {
     "name": "stdout",
     "output_type": "stream",
     "text": [
      "<lifelines.StatisticalResult>\n",
      "               t_0 = -1\n",
      " null_distribution = chi squared\n",
      "degrees_of_freedom = 1\n",
      "\n",
      "---\n",
      "                         test_statistic    p  -log2(p)\n",
      "Europa   Portugal                  0.37 0.54      0.88\n",
      "         Resto do mundo            0.17 0.68      0.55\n",
      "Portugal Resto do mundo            1.63 0.20      2.31\n"
     ]
    }
   ],
   "source": [
    "results=pairwise_logrank_test(event_durations=T,groups=dt.pais,event_observed=C)\n",
    "results.print_summary()"
   ]
  },
  {
   "cell_type": "code",
   "execution_count": 291,
   "metadata": {},
   "outputs": [
    {
     "name": "stdout",
     "output_type": "stream",
     "text": [
      "Portugal          197542\n",
      "Resto do mundo        34\n",
      "Europa                29\n",
      "Name: pais, dtype: int64\n",
      "probabilidade de sobreviver: Portugal             Portugal\n",
      "timeline          \n",
      "0.0       1.000000\n",
      "1.0       0.691315\n",
      "2.0       0.574570\n",
      "3.0       0.498785\n",
      "4.0       0.433328\n",
      "median: Portugal 3.0\n",
      "probabilidade de sobreviver: Resto do mundo             Resto do mundo\n",
      "timeline                \n",
      "0.0             1.000000\n",
      "1.0             0.409091\n",
      "3.0             0.363636\n",
      "4.0             0.363636\n",
      "6.0             0.272727\n",
      "median: Resto do mundo 1.0\n",
      "probabilidade de sobreviver: Europa               Europa\n",
      "timeline          \n",
      "0.0       1.000000\n",
      "1.0       0.545455\n",
      "2.0       0.327273\n",
      "3.0       0.109091\n",
      "median: Europa 2.0\n"
     ]
    },
    {
     "data": {
      "image/png": "[encoded data removed]",
      "text/plain": [
       "<Figure size 1080x360 with 1 Axes>"
      ]
     },
     "metadata": {
      "needs_background": "light"
     },
     "output_type": "display_data"
    }
   ],
   "source": [
    "print(dt.pais.value_counts())\n",
    "curvaSobrevivencia(dt2012,'pais',T=T2012,C=C2012,eixoX='anos',titulo='Probabilidade sobrevivência por país desde 2012');plt.xlabel('anos');"
   ]
  },
  {
   "cell_type": "code",
   "execution_count": 292,
   "metadata": {},
   "outputs": [
    {
     "name": "stdout",
     "output_type": "stream",
     "text": [
      "<lifelines.StatisticalResult>\n",
      "               t_0 = -1\n",
      " null_distribution = chi squared\n",
      "degrees_of_freedom = 2\n",
      "\n",
      "---\n",
      " test_statistic    p  -log2(p)\n",
      "           7.40 0.02      5.34\n"
     ]
    }
   ],
   "source": [
    "from lifelines.statistics import multivariate_logrank_test\n",
    "\n",
    "results=multivariate_logrank_test(event_durations=T2012,groups=dt2012['pais'],event_observed=C2012)\n",
    "results.print_summary()"
   ]
  },
  {
   "cell_type": "markdown",
   "metadata": {},
   "source": [
    "#### Por nacionalidade"
   ]
  },
  {
   "cell_type": "code",
   "execution_count": 293,
   "metadata": {},
   "outputs": [
    {
     "name": "stdout",
     "output_type": "stream",
     "text": [
      "Portugal          197542\n",
      "Resto do mundo        34\n",
      "Europa                29\n",
      "Name: pais, dtype: int64\n",
      "probabilidade de sobreviver: Portugal             Portugal\n",
      "timeline          \n",
      "0.0       1.000000\n",
      "1.0       0.660142\n",
      "2.0       0.517586\n",
      "3.0       0.423146\n",
      "4.0       0.356079\n",
      "median: Portugal 3.0\n",
      "probabilidade de sobreviver: ND              ND\n",
      "timeline     \n",
      "0.0       1.0\n",
      "1.0       0.0\n",
      "median: ND 1.0\n",
      "probabilidade de sobreviver: Europa               Europa\n",
      "timeline          \n",
      "0.0       1.000000\n",
      "1.0       0.550661\n",
      "2.0       0.405286\n",
      "3.0       0.299559\n",
      "4.0       0.215859\n",
      "median: Europa 2.0\n",
      "probabilidade de sobreviver: Resto do mundo             Resto do mundo\n",
      "timeline                \n",
      "0.0             1.000000\n",
      "1.0             0.513793\n",
      "2.0             0.341379\n",
      "3.0             0.255172\n",
      "4.0             0.182759\n",
      "median: Resto do mundo 2.0\n"
     ]
    },
    {
     "data": {
      "image/png": "[encoded data removed]",
      "text/plain": [
       "<Figure size 1080x360 with 1 Axes>"
      ]
     },
     "metadata": {
      "needs_background": "light"
     },
     "output_type": "display_data"
    }
   ],
   "source": [
    "print(dt.pais.value_counts())\n",
    "curvaSobrevivencia(dt2008,'nacionalidade',eixoX='anos',C=C2008,T=T2008,titulo='Probabilidade sobrevivência por nacionalidade');plt.xlabel('anos');"
   ]
  },
  {
   "cell_type": "code",
   "execution_count": 294,
   "metadata": {},
   "outputs": [
    {
     "name": "stdout",
     "output_type": "stream",
     "text": [
      "<lifelines.StatisticalResult>\n",
      "               t_0 = -1\n",
      " null_distribution = chi squared\n",
      "degrees_of_freedom = 3\n",
      "\n",
      "---\n",
      " test_statistic      p  -log2(p)\n",
      "          73.57 <0.005     50.28\n"
     ]
    }
   ],
   "source": [
    "from lifelines.statistics import multivariate_logrank_test\n",
    "\n",
    "results=multivariate_logrank_test(event_durations=T2008,groups=dt2008['nacionalidade'],event_observed=C2008)\n",
    "results.print_summary()"
   ]
  },
  {
   "cell_type": "code",
   "execution_count": 295,
   "metadata": {},
   "outputs": [
    {
     "name": "stdout",
     "output_type": "stream",
     "text": [
      "Portugal          197542\n",
      "Resto do mundo        34\n",
      "Europa                29\n",
      "Name: pais, dtype: int64\n",
      "probabilidade de sobreviver: Portugal             Portugal\n",
      "timeline          \n",
      "0.0       1.000000\n",
      "1.0       0.692982\n",
      "2.0       0.576779\n",
      "3.0       0.501235\n",
      "4.0       0.435575\n",
      "median: Portugal 4.0\n",
      "probabilidade de sobreviver: Resto do mundo             Resto do mundo\n",
      "timeline                \n",
      "0.0             1.000000\n",
      "1.0             0.663793\n",
      "2.0             0.541872\n",
      "3.0             0.457861\n",
      "4.0             0.394269\n",
      "median: Resto do mundo 3.0\n",
      "probabilidade de sobreviver: Europa               Europa\n",
      "timeline          \n",
      "0.0       1.000000\n",
      "1.0       0.587121\n",
      "2.0       0.437304\n",
      "3.0       0.347962\n",
      "4.0       0.301567\n",
      "median: Europa 2.0\n",
      "probabilidade de sobreviver: ND              ND\n",
      "timeline     \n",
      "0.0       1.0\n",
      "1.0       0.0\n",
      "median: ND 1.0\n"
     ]
    },
    {
     "data": {
      "image/png": "[encoded data removed]",
      "text/plain": [
       "<Figure size 1080x360 with 1 Axes>"
      ]
     },
     "metadata": {
      "needs_background": "light"
     },
     "output_type": "display_data"
    }
   ],
   "source": [
    "print(dt.pais.value_counts())\n",
    "curvaSobrevivencia(dt2012,'nacionalidade',T=T2012,C=C2012,eixoX='anos',titulo='Probabilidade sobrevivência por nacionalidade');plt.xlabel('anos');"
   ]
  },
  {
   "cell_type": "code",
   "execution_count": 296,
   "metadata": {},
   "outputs": [
    {
     "name": "stdout",
     "output_type": "stream",
     "text": [
      "<lifelines.StatisticalResult>\n",
      "               t_0 = -1\n",
      " null_distribution = chi squared\n",
      "degrees_of_freedom = 3\n",
      "\n",
      "---\n",
      " test_statistic      p  -log2(p)\n",
      "          51.08 <0.005     34.31\n"
     ]
    }
   ],
   "source": [
    "from lifelines.statistics import multivariate_logrank_test\n",
    "\n",
    "results=multivariate_logrank_test(event_durations=T2012,groups=dt2012['nacionalidade'],event_observed=C2012)\n",
    "results.print_summary()"
   ]
  },
  {
   "cell_type": "markdown",
   "metadata": {},
   "source": [
    "**Existem diferenças entre as curvas de sobrevivência. Vamos ver onde. Isto é como se fosse um teste post-hoc**"
   ]
  },
  {
   "cell_type": "code",
   "execution_count": 297,
   "metadata": {},
   "outputs": [
    {
     "name": "stdout",
     "output_type": "stream",
     "text": [
      "<lifelines.StatisticalResult>\n",
      "               t_0 = -1\n",
      " null_distribution = chi squared\n",
      "degrees_of_freedom = 1\n",
      "\n",
      "---\n",
      "                         test_statistic      p  -log2(p)\n",
      "Europa   ND                       10.88 <0.005     10.01\n",
      "         Portugal                 30.42 <0.005     24.78\n",
      "         Resto do mundo            7.40   0.01      7.26\n",
      "ND       Portugal                 18.04 <0.005     15.50\n",
      "         Resto do mundo           15.08 <0.005     13.25\n",
      "Portugal Resto do mundo            3.05   0.08      3.63\n"
     ]
    }
   ],
   "source": [
    "results=pairwise_logrank_test(event_durations=T2012,groups=dt2012.nacionalidade,event_observed=C2012)\n",
    "results.print_summary()"
   ]
  },
  {
   "cell_type": "markdown",
   "metadata": {},
   "source": [
    "**Correr novamente os testes sem os NDs**"
   ]
  },
  {
   "cell_type": "markdown",
   "metadata": {},
   "source": [
    "## Por associacoes 2008"
   ]
  },
  {
   "cell_type": "markdown",
   "metadata": {},
   "source": [
    "Vamos considerar só associações com mais de 2000 federados"
   ]
  },
  {
   "cell_type": "code",
   "execution_count": 298,
   "metadata": {},
   "outputs": [],
   "source": [
    "associacoes=['Porto','Lisboa','Aveiro','Braga','Madeira','Viseu','Leiria']\n",
    "dtAssociacoes2008=dt2008.loc[dt2008['associacao'].isin(associacoes)]"
   ]
  },
  {
   "cell_type": "code",
   "execution_count": 299,
   "metadata": {},
   "outputs": [
    {
     "data": {
      "text/plain": [
       "Porto      2485\n",
       "Lisboa     1647\n",
       "Aveiro     1462\n",
       "Madeira    1086\n",
       "Braga       936\n",
       "Leiria      819\n",
       "Viseu       809\n",
       "Name: associacao, dtype: int64"
      ]
     },
     "execution_count": 299,
     "metadata": {},
     "output_type": "execute_result"
    }
   ],
   "source": [
    "dtAssociacoes2008.associacao.value_counts()"
   ]
  },
  {
   "cell_type": "code",
   "execution_count": 300,
   "metadata": {},
   "outputs": [
    {
     "name": "stdout",
     "output_type": "stream",
     "text": [
      "probabilidade de sobreviver: Porto                Porto\n",
      "timeline          \n",
      "0.0       1.000000\n",
      "1.0       0.680885\n",
      "2.0       0.543662\n",
      "3.0       0.454728\n",
      "4.0       0.395573\n",
      "median: Porto 3.0\n",
      "probabilidade de sobreviver: Aveiro               Aveiro\n",
      "timeline          \n",
      "0.0       1.000000\n",
      "1.0       0.681943\n",
      "2.0       0.538988\n",
      "3.0       0.452120\n",
      "4.0       0.404241\n",
      "median: Aveiro 3.0\n",
      "probabilidade de sobreviver: Braga                Braga\n",
      "timeline          \n",
      "0.0       1.000000\n",
      "1.0       0.668803\n",
      "2.0       0.501068\n",
      "3.0       0.416667\n",
      "4.0       0.360043\n",
      "median: Braga 3.0\n",
      "probabilidade de sobreviver: Lisboa               Lisboa\n",
      "timeline          \n",
      "0.0       1.000000\n",
      "1.0       0.596843\n",
      "2.0       0.460231\n",
      "3.0       0.377049\n",
      "4.0       0.313297\n",
      "median: Lisboa 2.0\n",
      "probabilidade de sobreviver: Leiria               Leiria\n",
      "timeline          \n",
      "0.0       1.000000\n",
      "1.0       0.647131\n",
      "2.0       0.529915\n",
      "3.0       0.461538\n",
      "4.0       0.406593\n",
      "median: Leiria 3.0\n",
      "probabilidade de sobreviver: Madeira              Madeira\n",
      "timeline          \n",
      "0.0       1.000000\n",
      "1.0       0.616022\n",
      "2.0       0.449355\n",
      "3.0       0.340700\n",
      "4.0       0.278085\n",
      "median: Madeira 2.0\n",
      "probabilidade de sobreviver: Viseu                Viseu\n",
      "timeline          \n",
      "0.0       1.000000\n",
      "1.0       0.689740\n",
      "2.0       0.558714\n",
      "3.0       0.449938\n",
      "4.0       0.380717\n",
      "median: Viseu 3.0\n"
     ]
    },
    {
     "data": {
      "image/png": "[encoded data removed]",
      "text/plain": [
       "<Figure size 1080x360 with 1 Axes>"
      ]
     },
     "metadata": {
      "needs_background": "light"
     },
     "output_type": "display_data"
    }
   ],
   "source": [
    "T2008 = dtAssociacoes2008['anos']\n",
    "C2008 = dtAssociacoes2008['abandonou']\n",
    "kmf.fit(T2008,C2008,label=\"Abandono dos atletas\")\n",
    "curvaSobrevivencia(dtAssociacoes2008,'associacao',T=T2008,C=C2008,eixoX='anos',\n",
    "                   titulo='Probabilidade sobrevivência por associacao 2008');\n",
    "plt.xlabel('anos');"
   ]
  },
  {
   "cell_type": "code",
   "execution_count": 301,
   "metadata": {},
   "outputs": [
    {
     "data": {
      "text/plain": [
       "Porto               2485\n",
       "Lisboa              1647\n",
       "Aveiro              1462\n",
       "Madeira             1086\n",
       "Braga                936\n",
       "Leiria               819\n",
       "Viseu                809\n",
       "Setubal              745\n",
       "Algarve              692\n",
       "Santarem             661\n",
       "Guarda               254\n",
       "Ilha Terceira        242\n",
       "Vila Real            216\n",
       "Coimbra              195\n",
       "Evora                165\n",
       "Portalegre           162\n",
       "Ilha Faial           158\n",
       "Beja                 142\n",
       "Ilha S. Miguel       102\n",
       "V. Castelo            97\n",
       "Ilha S. Maria         80\n",
       "Castelo Branco        77\n",
       "Braganca              60\n",
       "Ilha Graciosa         30\n",
       "Andebol de Praia      13\n",
       "L.P.A.                 5\n",
       "F.A.P.                 1\n",
       "Name: associacao, dtype: int64"
      ]
     },
     "execution_count": 301,
     "metadata": {},
     "output_type": "execute_result"
    }
   ],
   "source": [
    "dt2008.associacao.value_counts()"
   ]
  },
  {
   "cell_type": "markdown",
   "metadata": {},
   "source": [
    "Algarve              1720\n",
    "Setubal              1716\n",
    "Santarem             1643\n",
    "Guarda                526\n",
    "Vila Real             510\n",
    "Beja                  490\n",
    "Ilha S. Miguel        431\n",
    "Ilha Terceira         420\n",
    "Portalegre            398\n",
    "Ilha Faial            360\n",
    "Evora                 337\n",
    "Coimbra               327\n",
    "Castelo Branco        230\n",
    "Ilha S. Maria         214\n",
    "V. Castelo            109\n",
    "Ilha Graciosa         108\n",
    "Leiria A Praia         90\n",
    "Braganca               71"
   ]
  },
  {
   "cell_type": "code",
   "execution_count": 302,
   "metadata": {},
   "outputs": [],
   "source": [
    "associacoes=['Algarve','Setubal','Santarem','Guarda','Vila Real','Beja','Ilha S. Miguel','Ilha Terceira','Portalegre',\n",
    "             'Ilha Faial','Evora','Coimbra','Castelo Branco','Ilha S. Maria','V. Castelo','Ilha Graciosa','Braganca']\n",
    "dtAssociacoes2008=dt2008.loc[dt2008['associacao'].isin(associacoes)]"
   ]
  },
  {
   "cell_type": "code",
   "execution_count": 303,
   "metadata": {},
   "outputs": [
    {
     "data": {
      "text/plain": [
       "Setubal           745\n",
       "Algarve           692\n",
       "Santarem          661\n",
       "Guarda            254\n",
       "Ilha Terceira     242\n",
       "Vila Real         216\n",
       "Coimbra           195\n",
       "Evora             165\n",
       "Portalegre        162\n",
       "Ilha Faial        158\n",
       "Beja              142\n",
       "Ilha S. Miguel    102\n",
       "V. Castelo         97\n",
       "Ilha S. Maria      80\n",
       "Castelo Branco     77\n",
       "Braganca           60\n",
       "Ilha Graciosa      30\n",
       "Name: associacao, dtype: int64"
      ]
     },
     "execution_count": 303,
     "metadata": {},
     "output_type": "execute_result"
    }
   ],
   "source": [
    "dtAssociacoes2008.associacao.value_counts()"
   ]
  },
  {
   "cell_type": "code",
   "execution_count": 304,
   "metadata": {},
   "outputs": [
    {
     "name": "stdout",
     "output_type": "stream",
     "text": [
      "probabilidade de sobreviver: Santarem             Santarem\n",
      "timeline          \n",
      "0.0       1.000000\n",
      "1.0       0.688351\n",
      "2.0       0.546142\n",
      "3.0       0.435703\n",
      "4.0       0.379728\n",
      "median: Santarem 3.0\n",
      "probabilidade de sobreviver: V. Castelo             V. Castelo\n",
      "timeline            \n",
      "0.0         1.000000\n",
      "1.0         0.422680\n",
      "2.0         0.278351\n",
      "3.0         0.195876\n",
      "4.0         0.164948\n",
      "median: V. Castelo 1.0\n",
      "probabilidade de sobreviver: Portalegre             Portalegre\n",
      "timeline            \n",
      "0.0         1.000000\n",
      "1.0         0.666667\n",
      "2.0         0.580247\n",
      "3.0         0.500000\n",
      "4.0         0.407407\n",
      "median: Portalegre 4.0\n",
      "probabilidade de sobreviver: Evora                Evora\n",
      "timeline          \n",
      "0.0       1.000000\n",
      "1.0       0.703030\n",
      "2.0       0.557576\n",
      "3.0       0.478788\n",
      "4.0       0.387879\n",
      "median: Evora 3.0\n",
      "probabilidade de sobreviver: Setubal              Setubal\n",
      "timeline          \n",
      "0.0       1.000000\n",
      "1.0       0.535570\n",
      "2.0       0.413423\n",
      "3.0       0.339597\n",
      "4.0       0.303356\n",
      "median: Setubal 2.0\n",
      "probabilidade de sobreviver: Coimbra              Coimbra\n",
      "timeline          \n",
      "0.0       1.000000\n",
      "1.0       0.589744\n",
      "2.0       0.400000\n",
      "3.0       0.271795\n",
      "4.0       0.184615\n",
      "median: Coimbra 2.0\n",
      "probabilidade de sobreviver: Beja                 Beja\n",
      "timeline          \n",
      "0.0       1.000000\n",
      "1.0       0.612676\n",
      "2.0       0.492958\n",
      "3.0       0.345070\n",
      "4.0       0.302817\n",
      "median: Beja 2.0\n",
      "probabilidade de sobreviver: Algarve              Algarve\n",
      "timeline          \n",
      "0.0       1.000000\n",
      "1.0       0.576590\n",
      "2.0       0.434971\n",
      "3.0       0.326590\n",
      "4.0       0.255780\n",
      "median: Algarve 2.0\n",
      "probabilidade de sobreviver: Castelo Branco             Castelo Branco\n",
      "timeline                \n",
      "0.0             1.000000\n",
      "1.0             0.701299\n",
      "2.0             0.519481\n",
      "3.0             0.454545\n",
      "4.0             0.363636\n",
      "median: Castelo Branco 3.0\n",
      "probabilidade de sobreviver: Vila Real             Vila Real\n",
      "timeline           \n",
      "0.0        1.000000\n",
      "1.0        0.611111\n",
      "2.0        0.430556\n",
      "3.0        0.268519\n",
      "4.0        0.208333\n",
      "median: Vila Real 2.0\n",
      "probabilidade de sobreviver: Guarda               Guarda\n",
      "timeline          \n",
      "0.0       1.000000\n",
      "1.0       0.885827\n",
      "2.0       0.728346\n",
      "3.0       0.657480\n",
      "4.0       0.594488\n",
      "median: Guarda 6.0\n",
      "probabilidade de sobreviver: Ilha S. Maria             Ilha S. Maria\n",
      "timeline               \n",
      "0.0               1.000\n",
      "1.0               0.800\n",
      "2.0               0.575\n",
      "3.0               0.475\n",
      "4.0               0.325\n",
      "median: Ilha S. Maria 3.0\n",
      "probabilidade de sobreviver: Ilha Terceira             Ilha Terceira\n",
      "timeline               \n",
      "0.0            1.000000\n",
      "1.0            0.954545\n",
      "2.0            0.727273\n",
      "3.0            0.524793\n",
      "4.0            0.272727\n",
      "median: Ilha Terceira 4.0\n",
      "probabilidade de sobreviver: Ilha S. Miguel             Ilha S. Miguel\n",
      "timeline                \n",
      "0.0             1.000000\n",
      "1.0             0.754902\n",
      "2.0             0.656863\n",
      "3.0             0.500000\n",
      "4.0             0.333333\n",
      "median: Ilha S. Miguel 4.0\n",
      "probabilidade de sobreviver: Ilha Graciosa             Ilha Graciosa\n",
      "timeline               \n",
      "0.0            1.000000\n",
      "1.0            0.866667\n",
      "2.0            0.733333\n",
      "3.0            0.633333\n",
      "4.0            0.566667\n",
      "median: Ilha Graciosa 5.0\n",
      "probabilidade de sobreviver: Ilha Faial             Ilha Faial\n",
      "timeline            \n",
      "0.0         1.000000\n",
      "1.0         0.727848\n",
      "2.0         0.575949\n",
      "3.0         0.468354\n",
      "4.0         0.278481\n",
      "median: Ilha Faial 3.0\n",
      "probabilidade de sobreviver: Braganca             Braganca\n",
      "timeline          \n",
      "0.0       1.000000\n",
      "1.0       0.583333\n",
      "2.0       0.533333\n",
      "4.0       0.083333\n",
      "5.0       0.000000\n",
      "median: Braganca 4.0\n"
     ]
    },
    {
     "data": {
      "image/png": "[encoded data removed]",
      "text/plain": [
       "<Figure size 1080x360 with 1 Axes>"
      ]
     },
     "metadata": {
      "needs_background": "light"
     },
     "output_type": "display_data"
    }
   ],
   "source": [
    "T2008 = dtAssociacoes2008['anos']\n",
    "C2008 = dtAssociacoes2008['abandonou']\n",
    "kmf.fit(T2008,C2008,label=\"Abandono dos atletas\")\n",
    "curvaSobrevivencia(dtAssociacoes2008,'associacao',T=T2008,C=C2008,eixoX='anos',titulo='Probabilidade sobrevivência por associacao');\n",
    "plt.xlabel('anos');"
   ]
  },
  {
   "cell_type": "code",
   "execution_count": 305,
   "metadata": {},
   "outputs": [
    {
     "name": "stdout",
     "output_type": "stream",
     "text": [
      "<lifelines.StatisticalResult>\n",
      "               t_0 = -1\n",
      " null_distribution = chi squared\n",
      "degrees_of_freedom = 16\n",
      "\n",
      "---\n",
      " test_statistic      p  -log2(p)\n",
      "         194.16 <0.005    106.04\n"
     ]
    }
   ],
   "source": [
    "from lifelines.statistics import multivariate_logrank_test\n",
    "\n",
    "results=multivariate_logrank_test(event_durations=T2008,groups=dtAssociacoes2008['associacao'],event_observed=C2008)\n",
    "results.print_summary()"
   ]
  },
  {
   "cell_type": "markdown",
   "metadata": {},
   "source": [
    "É maios ou menos igual. Porto e Braga aparentemente com melhores retenções"
   ]
  },
  {
   "cell_type": "markdown",
   "metadata": {},
   "source": [
    "**Existem diferenças entre as curvas de sobrevivência. Vamos ver onde. Isto é como se fosse um teste post-hoc**"
   ]
  },
  {
   "cell_type": "code",
   "execution_count": 306,
   "metadata": {},
   "outputs": [
    {
     "name": "stdout",
     "output_type": "stream",
     "text": [
      "<lifelines.StatisticalResult>\n",
      "               t_0 = -1\n",
      " null_distribution = chi squared\n",
      "degrees_of_freedom = 1\n",
      "\n",
      "---\n",
      "                               test_statistic      p  -log2(p)\n",
      "Algarve        Beja                      3.95   0.05      4.42\n",
      "               Braganca                  2.50   0.11      3.14\n",
      "               Castelo Branco            2.52   0.11      3.15\n",
      "               Coimbra                   1.14   0.29      1.81\n",
      "               Evora                    14.29 <0.005     12.64\n",
      "               Guarda                   97.42 <0.005     73.92\n",
      "               Ilha Faial                5.33   0.02      5.57\n",
      "               Ilha Graciosa             1.81   0.18      2.48\n",
      "               Ilha S. Maria             6.72   0.01      6.71\n",
      "               Ilha S. Miguel            2.95   0.09      3.54\n",
      "               Ilha Terceira            10.71 <0.005      9.88\n",
      "               Portalegre                8.95 <0.005      8.49\n",
      "               Santarem                 23.90 <0.005     19.91\n",
      "               Setubal                   3.53   0.06      4.05\n",
      "               V. Castelo               11.18 <0.005     10.24\n",
      "               Vila Real                 3.95   0.05      4.41\n",
      "Beja           Braganca                  4.26   0.04      4.68\n",
      "               Castelo Branco            0.00   0.99      0.02\n",
      "               Coimbra                   5.33   0.02      5.58\n",
      "               Evora                     1.37   0.24      2.05\n",
      "               Guarda                   27.40 <0.005     22.53\n",
      "               Ilha Faial                0.05   0.82      0.28\n",
      "               Ilha Graciosa             0.06   0.81      0.30\n",
      "               Ilha S. Maria             0.80   0.37      1.43\n",
      "               Ilha S. Miguel            0.00   1.00      0.00\n",
      "               Ilha Terceira             0.62   0.43      1.21\n",
      "               Portalegre                0.37   0.54      0.88\n",
      "               Santarem                  0.56   0.45      1.14\n",
      "               Setubal                   0.87   0.35      1.51\n",
      "               V. Castelo               16.22 <0.005     14.11\n",
      "               Vila Real                10.23 <0.005      9.50\n",
      "Braganca       Castelo Branco            8.49 <0.005      8.13\n",
      "               Coimbra                   0.02   0.88      0.19\n",
      "               Evora                    13.88 <0.005     12.33\n",
      "               Guarda                   62.29 <0.005     48.26\n",
      "               Ilha Faial                6.49   0.01      6.53\n",
      "               Ilha Graciosa            20.16 <0.005     17.10\n",
      "               Ilha S. Maria             8.37 <0.005      8.03\n",
      "               Ilha S. Miguel            9.30 <0.005      8.77\n",
      "               Ilha Terceira            14.92 <0.005     13.13\n",
      "               Portalegre               13.99 <0.005     12.41\n",
      "               Santarem                 15.67 <0.005     13.69\n",
      "               Setubal                   5.66   0.02      5.85\n",
      "               V. Castelo                0.81   0.37      1.44\n",
      "               Vila Real                 0.25   0.62      0.70\n",
      "Castelo Branco Coimbra                   4.67   0.03      5.02\n",
      "               Evora                     1.12   0.29      1.79\n",
      "               Guarda                   21.63 <0.005     18.21\n",
      "               Ilha Faial                0.00   0.97      0.05\n",
      "               Ilha Graciosa             0.08   0.78      0.36\n",
      "               Ilha S. Maria             0.51   0.47      1.08\n",
      "               Ilha S. Miguel            0.03   0.86      0.22\n",
      "               Ilha Terceira             0.03   0.85      0.23\n",
      "               Portalegre                0.26   0.61      0.71\n",
      "               Santarem                  0.47   0.49      1.02\n",
      "               Setubal                   0.34   0.56      0.84\n",
      "               V. Castelo               14.07 <0.005     12.47\n",
      "               Vila Real                 8.11 <0.005      7.83\n",
      "Coimbra        Evora                    15.32 <0.005     13.43\n",
      "               Guarda                   79.58 <0.005     60.90\n",
      "               Ilha Faial                8.52 <0.005      8.15\n",
      "               Ilha Graciosa             3.91   0.05      4.38\n",
      "               Ilha S. Maria             9.47 <0.005      8.91\n",
      "               Ilha S. Miguel            6.50   0.01      6.54\n",
      "               Ilha Terceira            19.34 <0.005     16.48\n",
      "               Portalegre               11.78 <0.005     10.70\n",
      "               Santarem                 19.18 <0.005     16.36\n",
      "               Setubal                   4.25   0.04      4.67\n",
      "               V. Castelo                5.35   0.02      5.59\n",
      "               Vila Real                 0.37   0.55      0.88\n",
      "Evora          Guarda                   17.56 <0.005     15.13\n",
      "               Ilha Faial                1.50   0.22      2.18\n",
      "               Ilha Graciosa             0.50   0.48      1.07\n",
      "               Ilha S. Maria             0.02   0.89      0.16\n",
      "               Ilha S. Miguel            1.95   0.16      2.62\n",
      "               Ilha Terceira             1.63   0.20      2.31\n",
      "               Portalegre                0.44   0.51      0.98\n",
      "               Santarem                  0.56   0.45      1.14\n",
      "               Setubal                   5.63   0.02      5.82\n",
      "               V. Castelo               30.04 <0.005     24.49\n",
      "               Vila Real                24.58 <0.005     20.42\n",
      "Guarda         Ilha Faial               32.06 <0.005     25.99\n",
      "               Ilha Graciosa            11.06 <0.005     10.15\n",
      "               Ilha S. Maria            12.65 <0.005     11.38\n",
      "               Ilha S. Miguel           30.40 <0.005     24.76\n",
      "               Ilha Terceira            47.10 <0.005     37.11\n",
      "               Portalegre               25.26 <0.005     20.93\n",
      "               Santarem                 40.04 <0.005     31.91\n",
      "               Setubal                  62.97 <0.005     48.76\n",
      "               V. Castelo               98.99 <0.005     75.06\n",
      "               Vila Real               107.69 <0.005     81.40\n",
      "Ilha Faial     Ilha Graciosa             0.28   0.60      0.74\n",
      "               Ilha S. Maria             0.64   0.42      1.24\n",
      "               Ilha S. Miguel            0.00   0.96      0.06\n",
      "               Ilha Terceira             0.15   0.70      0.51\n",
      "               Portalegre                0.58   0.45      1.16\n",
      "               Santarem                  0.57   0.45      1.15\n",
      "               Setubal                   1.02   0.31      1.68\n",
      "               V. Castelo               21.21 <0.005     17.89\n",
      "               Vila Real                13.93 <0.005     12.37\n",
      "Ilha Graciosa  Ilha S. Maria             0.04   0.83      0.26\n",
      "               Ilha S. Miguel            0.35   0.56      0.85\n",
      "               Ilha Terceira             0.64   0.43      1.23\n",
      "               Portalegre                0.02   0.88      0.19\n",
      "               Santarem                  0.11   0.74      0.43\n",
      "               Setubal                   0.15   0.70      0.51\n",
      "               V. Castelo               10.31 <0.005      9.56\n",
      "               Vila Real                 5.48   0.02      5.70\n",
      "Ilha S. Maria  Ilha S. Miguel            0.75   0.39      1.37\n",
      "               Ilha Terceira             0.42   0.51      0.96\n",
      "               Portalegre                0.05   0.82      0.29\n",
      "               Santarem                  0.15   0.70      0.51\n",
      "               Setubal                   2.61   0.11      3.24\n",
      "               V. Castelo               21.18 <0.005     17.87\n",
      "               Vila Real                14.72 <0.005     12.97\n",
      "Ilha S. Miguel Ilha Terceira             0.03   0.85      0.23\n",
      "               Portalegre                0.86   0.35      1.50\n",
      "               Santarem                  1.03   0.31      1.69\n",
      "               Setubal                   0.20   0.65      0.62\n",
      "               V. Castelo               18.05 <0.005     15.50\n",
      "               Vila Real                10.25 <0.005      9.51\n",
      "Ilha Terceira  Portalegre                0.61   0.43      1.20\n",
      "               Santarem                  0.60   0.44      1.19\n",
      "               Setubal                   2.53   0.11      3.17\n",
      "               V. Castelo               43.01 <0.005     34.10\n",
      "               Vila Real                26.46 <0.005     21.82\n",
      "Portalegre     Santarem                  0.00   0.95      0.08\n",
      "               Setubal                   2.37   0.12      3.02\n",
      "               V. Castelo               24.37 <0.005     20.26\n",
      "               Vila Real                19.28 <0.005     16.44\n",
      "Santarem       Setubal                   7.47   0.01      7.31\n",
      "               V. Castelo               35.21 <0.005     28.33\n",
      "               Vila Real                31.37 <0.005     25.48\n",
      "Setubal        V. Castelo               15.75 <0.005     13.75\n",
      "               Vila Real                 9.98 <0.005      9.30\n",
      "V. Castelo     Vila Real                 3.88   0.05      4.36\n"
     ]
    }
   ],
   "source": [
    "results=pairwise_logrank_test(event_durations=T2008,groups=dtAssociacoes2008['associacao'],event_observed=C2008)\n",
    "results.print_summary()"
   ]
  },
  {
   "cell_type": "markdown",
   "metadata": {},
   "source": [
    "## Por associacoes 2012"
   ]
  },
  {
   "cell_type": "markdown",
   "metadata": {},
   "source": [
    "Vamos considerar só associações com mais de 2000 federados"
   ]
  },
  {
   "cell_type": "code",
   "execution_count": 307,
   "metadata": {},
   "outputs": [],
   "source": [
    "associacoes=['Porto','Lisboa','Aveiro','Braga','Madeira','Viseu','Leiria']\n",
    "dtAssociacoes2012=dt2012.loc[dt2012['associacao'].isin(associacoes)]"
   ]
  },
  {
   "cell_type": "code",
   "execution_count": 308,
   "metadata": {},
   "outputs": [
    {
     "data": {
      "text/plain": [
       "Porto      4629\n",
       "Lisboa     2445\n",
       "Braga      2057\n",
       "Aveiro     1991\n",
       "Viseu      1666\n",
       "Madeira    1484\n",
       "Leiria     1459\n",
       "Name: associacao, dtype: int64"
      ]
     },
     "execution_count": 308,
     "metadata": {},
     "output_type": "execute_result"
    }
   ],
   "source": [
    "dtAssociacoes2012.associacao.value_counts()"
   ]
  },
  {
   "cell_type": "code",
   "execution_count": 309,
   "metadata": {},
   "outputs": [
    {
     "name": "stdout",
     "output_type": "stream",
     "text": [
      "probabilidade de sobreviver: Porto                Porto\n",
      "timeline          \n",
      "0.0       1.000000\n",
      "1.0       0.716137\n",
      "2.0       0.608786\n",
      "3.0       0.540630\n",
      "4.0       0.485947\n",
      "median: Porto 4.0\n",
      "probabilidade de sobreviver: Lisboa               Lisboa\n",
      "timeline          \n",
      "0.0       1.000000\n",
      "1.0       0.660941\n",
      "2.0       0.539646\n",
      "3.0       0.459084\n",
      "4.0       0.409843\n",
      "median: Lisboa 3.0\n",
      "probabilidade de sobreviver: Madeira              Madeira\n",
      "timeline          \n",
      "0.0       1.000000\n",
      "1.0       0.572102\n",
      "2.0       0.447866\n",
      "3.0       0.389365\n",
      "4.0       0.356143\n",
      "median: Madeira 2.0\n",
      "probabilidade de sobreviver: Aveiro               Aveiro\n",
      "timeline          \n",
      "0.0       1.000000\n",
      "1.0       0.715218\n",
      "2.0       0.611265\n",
      "3.0       0.537836\n",
      "4.0       0.488113\n",
      "median: Aveiro 4.0\n",
      "probabilidade de sobreviver: Viseu                Viseu\n",
      "timeline          \n",
      "0.0       1.000000\n",
      "1.0       0.844538\n",
      "2.0       0.766219\n",
      "3.0       0.679533\n",
      "4.0       0.579523\n",
      "median: Viseu 5.0\n",
      "probabilidade de sobreviver: Leiria               Leiria\n",
      "timeline          \n",
      "0.0       1.000000\n",
      "1.0       0.680603\n",
      "2.0       0.582626\n",
      "3.0       0.513004\n",
      "4.0       0.443921\n",
      "median: Leiria 4.0\n",
      "probabilidade de sobreviver: Braga                Braga\n",
      "timeline          \n",
      "0.0       1.000000\n",
      "1.0       0.670394\n",
      "2.0       0.522561\n",
      "3.0       0.448099\n",
      "4.0       0.389541\n",
      "median: Braga 3.0\n"
     ]
    },
    {
     "data": {
      "image/png": "[encoded data removed]",
      "text/plain": [
       "<Figure size 1080x360 with 1 Axes>"
      ]
     },
     "metadata": {
      "needs_background": "light"
     },
     "output_type": "display_data"
    }
   ],
   "source": [
    "T2012 = dtAssociacoes2012['anos']\n",
    "C2012 = dtAssociacoes2012['abandonou']\n",
    "kmf.fit(T2012,C2012,label=\"Abandono dos atletas\")\n",
    "curvaSobrevivencia(dtAssociacoes2012,'associacao',T=T2012,C=C2012,eixoX='anos',\n",
    "                   titulo='Probabilidade sobrevivência por associacao 2012');\n",
    "plt.xlabel('anos');"
   ]
  },
  {
   "cell_type": "code",
   "execution_count": 310,
   "metadata": {},
   "outputs": [
    {
     "data": {
      "text/plain": [
       "Porto                4629\n",
       "Lisboa               2445\n",
       "Braga                2057\n",
       "Aveiro               1991\n",
       "Viseu                1666\n",
       "Madeira              1484\n",
       "Leiria               1459\n",
       "Algarve              1028\n",
       "Santarem              982\n",
       "Setubal               971\n",
       "Beja                  348\n",
       "Ilha S. Miguel        329\n",
       "Vila Real             294\n",
       "Guarda                272\n",
       "Portalegre            236\n",
       "Ilha Faial            202\n",
       "Ilha Terceira         178\n",
       "Evora                 172\n",
       "Castelo Branco        153\n",
       "Ilha S. Maria         134\n",
       "Coimbra               132\n",
       "Leiria A Praia         90\n",
       "Ilha Graciosa          78\n",
       "Porto A Praia          41\n",
       "SetÃºbal - A 4ALL      19\n",
       "Lisboa A Praia         12\n",
       "Aveiro -  4ALL         12\n",
       "V. Castelo             12\n",
       "Porto - A 4LL          12\n",
       "Leiria - A 4ALL        11\n",
       "Braganca               11\n",
       "Algarve - A 4ALL       11\n",
       "Lisboa - A 4ALL        11\n",
       "Viseu A Praia           8\n",
       "Aveiro A Praia          6\n",
       "Madeira A Praia         6\n",
       "F.A.P.                  3\n",
       "Setubal A Praia         3\n",
       "Name: associacao, dtype: int64"
      ]
     },
     "execution_count": 310,
     "metadata": {},
     "output_type": "execute_result"
    }
   ],
   "source": [
    "dt2012.associacao.value_counts()"
   ]
  },
  {
   "cell_type": "markdown",
   "metadata": {},
   "source": [
    "Algarve              1720\n",
    "Setubal              1716\n",
    "Santarem             1643\n",
    "Guarda                526\n",
    "Vila Real             510\n",
    "Beja                  490\n",
    "Ilha S. Miguel        431\n",
    "Ilha Terceira         420\n",
    "Portalegre            398\n",
    "Ilha Faial            360\n",
    "Evora                 337\n",
    "Coimbra               327\n",
    "Castelo Branco        230\n",
    "Ilha S. Maria         214\n",
    "V. Castelo            109\n",
    "Ilha Graciosa         108\n",
    "Leiria A Praia         90\n",
    "Braganca               71"
   ]
  },
  {
   "cell_type": "code",
   "execution_count": 311,
   "metadata": {},
   "outputs": [],
   "source": [
    "associacoes=['Algarve','Setubal','Santarem','Guarda','Vila Real','Beja','Ilha S. Miguel','Ilha Terceira','Portalegre',\n",
    "             'Ilha Faial','Evora','Coimbra','Castelo Branco','Ilha S. Maria','V. Castelo','Ilha Graciosa','Braganca']\n",
    "dtAssociacoes2012=dt2012.loc[dt2012['associacao'].isin(associacoes)]"
   ]
  },
  {
   "cell_type": "code",
   "execution_count": 312,
   "metadata": {},
   "outputs": [
    {
     "data": {
      "text/plain": [
       "Algarve           1028\n",
       "Santarem           982\n",
       "Setubal            971\n",
       "Beja               348\n",
       "Ilha S. Miguel     329\n",
       "Vila Real          294\n",
       "Guarda             272\n",
       "Portalegre         236\n",
       "Ilha Faial         202\n",
       "Ilha Terceira      178\n",
       "Evora              172\n",
       "Castelo Branco     153\n",
       "Ilha S. Maria      134\n",
       "Coimbra            132\n",
       "Ilha Graciosa       78\n",
       "V. Castelo          12\n",
       "Braganca            11\n",
       "Name: associacao, dtype: int64"
      ]
     },
     "execution_count": 312,
     "metadata": {},
     "output_type": "execute_result"
    }
   ],
   "source": [
    "dtAssociacoes2012.associacao.value_counts()"
   ]
  },
  {
   "cell_type": "code",
   "execution_count": 313,
   "metadata": {},
   "outputs": [
    {
     "name": "stdout",
     "output_type": "stream",
     "text": [
      "probabilidade de sobreviver: Algarve              Algarve\n",
      "timeline          \n",
      "0.0       1.000000\n",
      "1.0       0.685798\n",
      "2.0       0.556296\n",
      "3.0       0.459421\n",
      "4.0       0.412732\n",
      "median: Algarve 3.0\n",
      "probabilidade de sobreviver: Santarem             Santarem\n",
      "timeline          \n",
      "0.0       1.000000\n",
      "1.0       0.612016\n",
      "2.0       0.459281\n",
      "3.0       0.388995\n",
      "4.0       0.325837\n",
      "median: Santarem 2.0\n",
      "probabilidade de sobreviver: Setubal              Setubal\n",
      "timeline          \n",
      "0.0       1.000000\n",
      "1.0       0.652935\n",
      "2.0       0.558025\n",
      "3.0       0.489187\n",
      "4.0       0.431861\n",
      "median: Setubal 3.0\n",
      "probabilidade de sobreviver: Ilha S. Maria             Ilha S. Maria\n",
      "timeline               \n",
      "0.0            1.000000\n",
      "1.0            0.820896\n",
      "2.0            0.563847\n",
      "3.0            0.418338\n",
      "4.0            0.291569\n",
      "median: Ilha S. Maria 3.0\n",
      "probabilidade de sobreviver: Vila Real             Vila Real\n",
      "timeline           \n",
      "0.0        1.000000\n",
      "1.0        0.608844\n",
      "2.0        0.459242\n",
      "3.0        0.401279\n",
      "4.0        0.332640\n",
      "median: Vila Real 2.0\n",
      "probabilidade de sobreviver: Coimbra              Coimbra\n",
      "timeline          \n",
      "0.0       1.000000\n",
      "1.0       0.530303\n",
      "2.0       0.363636\n",
      "3.0       0.257576\n",
      "4.0       0.196970\n",
      "median: Coimbra 2.0\n",
      "probabilidade de sobreviver: Ilha Terceira             Ilha Terceira\n",
      "timeline               \n",
      "0.0            1.000000\n",
      "1.0            0.831461\n",
      "2.0            0.594725\n",
      "3.0            0.281024\n",
      "4.0            0.169922\n",
      "median: Ilha Terceira 3.0\n",
      "probabilidade de sobreviver: Beja                 Beja\n",
      "timeline          \n",
      "0.0       1.000000\n",
      "1.0       0.571839\n",
      "2.0       0.454204\n",
      "3.0       0.418580\n",
      "4.0       0.380527\n",
      "median: Beja 2.0\n",
      "probabilidade de sobreviver: Guarda               Guarda\n",
      "timeline          \n",
      "0.0       1.000000\n",
      "1.0       0.933824\n",
      "2.0       0.888820\n",
      "3.0       0.828707\n",
      "4.0       0.736628\n",
      "median: Guarda 6.0\n",
      "probabilidade de sobreviver: Ilha S. Miguel             Ilha S. Miguel\n",
      "timeline                \n",
      "0.0             1.000000\n",
      "1.0             0.802432\n",
      "2.0             0.663859\n",
      "3.0             0.605283\n",
      "4.0             0.323954\n",
      "median: Ilha S. Miguel 4.0\n",
      "probabilidade de sobreviver: Evora                Evora\n",
      "timeline          \n",
      "0.0       1.000000\n",
      "1.0       0.755814\n",
      "2.0       0.700057\n",
      "3.0       0.608383\n",
      "4.0       0.493594\n",
      "median: Evora 4.0\n",
      "probabilidade de sobreviver: Ilha Graciosa             Ilha Graciosa\n",
      "timeline               \n",
      "0.0            1.000000\n",
      "1.0            0.576923\n",
      "2.0            0.432692\n",
      "3.0            0.354021\n",
      "4.0            0.217859\n",
      "median: Ilha Graciosa 2.0\n",
      "probabilidade de sobreviver: Ilha Faial             Ilha Faial\n",
      "timeline            \n",
      "0.0         1.000000\n",
      "1.0         0.623762\n",
      "2.0         0.459089\n",
      "3.0         0.388460\n",
      "4.0         0.289699\n",
      "median: Ilha Faial 2.0\n",
      "probabilidade de sobreviver: Portalegre             Portalegre\n",
      "timeline            \n",
      "0.0         1.000000\n",
      "1.0         0.656780\n",
      "2.0         0.485647\n",
      "3.0         0.420166\n",
      "4.0         0.345137\n",
      "median: Portalegre 2.0\n",
      "probabilidade de sobreviver: Castelo Branco             Castelo Branco\n",
      "timeline                \n",
      "0.0             1.000000\n",
      "1.0             0.784314\n",
      "2.0             0.637794\n",
      "3.0             0.555498\n",
      "4.0             0.504063\n",
      "median: Castelo Branco 5.0\n",
      "probabilidade de sobreviver: Braganca             Braganca\n",
      "timeline          \n",
      "0.0       1.000000\n",
      "1.0       0.636364\n",
      "2.0       0.545455\n",
      "3.0       0.000000\n",
      "median: Braganca 3.0\n",
      "probabilidade de sobreviver: V. Castelo             V. Castelo\n",
      "timeline            \n",
      "0.0             1.00\n",
      "1.0             0.75\n",
      "2.0             0.75\n",
      "median: V. Castelo inf\n"
     ]
    },
    {
     "data": {
      "image/png": "[encoded data removed]",
      "text/plain": [
       "<Figure size 1080x360 with 1 Axes>"
      ]
     },
     "metadata": {
      "needs_background": "light"
     },
     "output_type": "display_data"
    }
   ],
   "source": [
    "T2012 = dtAssociacoes2012['anos']\n",
    "C2012 = dtAssociacoes2012['abandonou']\n",
    "kmf.fit(T2012,C2012,label=\"Abandono dos atletas\")\n",
    "curvaSobrevivencia(dtAssociacoes2012,'associacao',T=T2012,C=C2012,eixoX='anos',titulo='Probabilidade sobrevivência por associacao desde 2012');\n",
    "plt.xlabel('anos');"
   ]
  },
  {
   "cell_type": "code",
   "execution_count": 314,
   "metadata": {},
   "outputs": [
    {
     "name": "stdout",
     "output_type": "stream",
     "text": [
      "<lifelines.StatisticalResult>\n",
      "               t_0 = -1\n",
      " null_distribution = chi squared\n",
      "degrees_of_freedom = 16\n",
      "\n",
      "---\n",
      " test_statistic      p  -log2(p)\n",
      "         205.68 <0.005    113.78\n"
     ]
    }
   ],
   "source": [
    "from lifelines.statistics import multivariate_logrank_test\n",
    "\n",
    "results=multivariate_logrank_test(event_durations=T2012,groups=dtAssociacoes2012['associacao'],event_observed=C2012)\n",
    "results.print_summary()"
   ]
  },
  {
   "cell_type": "markdown",
   "metadata": {},
   "source": [
    "É maios ou menos igual. Porto e Braga aparentemente com melhores retenções"
   ]
  },
  {
   "cell_type": "markdown",
   "metadata": {},
   "source": [
    "**Existem diferenças entre as curvas de sobrevivência. Vamos ver onde. Isto é como se fosse um teste post-hoc**"
   ]
  },
  {
   "cell_type": "code",
   "execution_count": 315,
   "metadata": {},
   "outputs": [
    {
     "name": "stdout",
     "output_type": "stream",
     "text": [
      "<lifelines.StatisticalResult>\n",
      "               t_0 = -1\n",
      " null_distribution = chi squared\n",
      "degrees_of_freedom = 1\n",
      "\n",
      "---\n",
      "                               test_statistic      p  -log2(p)\n",
      "Algarve        Beja                      3.63   0.06      4.14\n",
      "               Braganca                  6.03   0.01      6.15\n",
      "               Castelo Branco            4.88   0.03      5.20\n",
      "               Coimbra                  25.76 <0.005     21.30\n",
      "               Evora                     7.18   0.01      7.08\n",
      "               Guarda                   66.19 <0.005     51.12\n",
      "               Ilha Faial                7.04   0.01      6.97\n",
      "               Ilha Graciosa            16.82 <0.005     14.57\n",
      "               Ilha S. Maria             0.07   0.79      0.34\n",
      "               Ilha S. Miguel            2.22   0.14      2.88\n",
      "               Ilha Terceira            10.47 <0.005      9.68\n",
      "               Portalegre                4.40   0.04      4.80\n",
      "               Santarem                 15.15 <0.005     13.30\n",
      "               Setubal                   0.45   0.50      1.00\n",
      "               V. Castelo                0.33   0.56      0.83\n",
      "               Vila Real                 6.08   0.01      6.19\n",
      "Beja           Braganca                  3.88   0.05      4.35\n",
      "               Castelo Branco            9.08 <0.005      8.60\n",
      "               Coimbra                  12.09 <0.005     10.94\n",
      "               Evora                    11.54 <0.005     10.52\n",
      "               Guarda                   74.04 <0.005     56.86\n",
      "               Ilha Faial                1.05   0.31      1.71\n",
      "               Ilha Graciosa             8.25 <0.005      7.94\n",
      "               Ilha S. Maria             0.91   0.34      1.55\n",
      "               Ilha S. Miguel            8.70 <0.005      8.30\n",
      "               Ilha Terceira             1.30   0.25      1.97\n",
      "               Portalegre                0.14   0.70      0.50\n",
      "               Santarem                  0.94   0.33      1.59\n",
      "               Setubal                   4.68   0.03      5.04\n",
      "               V. Castelo                1.72   0.19      2.40\n",
      "               Vila Real                 0.50   0.48      1.06\n",
      "Braganca       Castelo Branco            9.73 <0.005      9.11\n",
      "               Coimbra                   0.50   0.48      1.06\n",
      "               Evora                    13.03 <0.005     11.67\n",
      "               Guarda                   53.58 <0.005     41.87\n",
      "               Ilha Faial                3.05   0.08      3.63\n",
      "               Ilha Graciosa             1.88   0.17      2.55\n",
      "               Ilha S. Maria             5.53   0.02      5.74\n",
      "               Ilha S. Miguel           14.16 <0.005     12.54\n",
      "               Ilha Terceira             3.25   0.07      3.81\n",
      "               Portalegre                4.07   0.04      4.52\n",
      "               Santarem                  3.41   0.06      3.94\n",
      "               Setubal                   7.08   0.01      7.00\n",
      "               V. Castelo                0.44   0.51      0.98\n",
      "               Vila Real                 3.43   0.06      3.97\n",
      "Castelo Branco Coimbra                  29.55 <0.005     24.13\n",
      "               Evora                     0.03   0.86      0.22\n",
      "               Guarda                   17.68 <0.005     15.23\n",
      "               Ilha Faial               13.31 <0.005     11.88\n",
      "               Ilha Graciosa            24.28 <0.005     20.20\n",
      "               Ilha S. Maria             3.16   0.08      3.73\n",
      "               Ilha S. Miguel            1.21   0.27      1.88\n",
      "               Ilha Terceira            16.16 <0.005     14.07\n",
      "               Portalegre               11.33 <0.005     10.36\n",
      "               Santarem                 16.74 <0.005     14.51\n",
      "               Setubal                   3.45   0.06      3.99\n",
      "               V. Castelo                0.02   0.89      0.17\n",
      "               Vila Real                12.25 <0.005     11.07\n",
      "Coimbra        Evora                    34.13 <0.005     27.53\n",
      "               Guarda                  120.46 <0.005     90.69\n",
      "               Ilha Faial                5.24   0.02      5.50\n",
      "               Ilha Graciosa             0.00   0.97      0.04\n",
      "               Ilha S. Maria            13.25 <0.005     11.84\n",
      "               Ilha S. Miguel           34.53 <0.005     27.83\n",
      "               Ilha Terceira             4.24   0.04      4.67\n",
      "               Portalegre                7.51   0.01      7.35\n",
      "               Santarem                  9.32 <0.005      8.78\n",
      "               Setubal                  29.75 <0.005     24.28\n",
      "               V. Castelo                2.51   0.11      3.15\n",
      "               Vila Real                 7.72   0.01      7.51\n",
      "Evora          Guarda                   17.36 <0.005     14.98\n",
      "               Ilha Faial               16.17 <0.005     14.08\n",
      "               Ilha Graciosa            26.94 <0.005     22.19\n",
      "               Ilha S. Maria             5.28   0.02      5.54\n",
      "               Ilha S. Miguel            1.34   0.25      2.02\n",
      "               Ilha Terceira            23.12 <0.005     19.33\n",
      "               Portalegre               14.55 <0.005     12.84\n",
      "               Santarem                 21.01 <0.005     17.74\n",
      "               Setubal                   4.62   0.03      4.98\n",
      "               V. Castelo                0.00   1.00      0.01\n",
      "               Vila Real                15.13 <0.005     13.28\n",
      "Guarda         Ilha Faial               86.46 <0.005     65.93\n",
      "               Ilha Graciosa           101.99 <0.005     77.24\n",
      "               Ilha S. Maria            53.93 <0.005     42.13\n",
      "               Ilha S. Miguel           46.70 <0.005     36.82\n",
      "               Ilha Terceira           121.88 <0.005     91.72\n",
      "               Portalegre               84.83 <0.005     64.74\n",
      "               Santarem                105.79 <0.005     80.01\n",
      "               Setubal                  52.43 <0.005     41.03\n",
      "               V. Castelo                5.10   0.02      5.39\n",
      "               Vila Real                81.41 <0.005     62.24\n",
      "Ilha Faial     Ilha Graciosa             3.60   0.06      4.12\n",
      "               Ilha S. Maria             2.46   0.12      3.10\n",
      "               Ilha S. Miguel           12.51 <0.005     11.27\n",
      "               Ilha Terceira             0.18   0.67      0.57\n",
      "               Portalegre                0.22   0.64      0.64\n",
      "               Santarem                  0.10   0.75      0.41\n",
      "               Setubal                   9.56 <0.005      8.97\n",
      "               V. Castelo                1.01   0.32      1.66\n",
      "               Vila Real                 0.15   0.70      0.52\n",
      "Ilha Graciosa  Ilha S. Maria             8.98 <0.005      8.52\n",
      "               Ilha S. Miguel           22.74 <0.005     19.04\n",
      "               Ilha Terceira             2.03   0.15      2.70\n",
      "               Portalegre                5.25   0.02      5.51\n",
      "               Santarem                  6.09   0.01      6.20\n",
      "               Setubal                  19.78 <0.005     16.82\n",
      "               V. Castelo                1.54   0.21      2.22\n",
      "               Vila Real                 5.60   0.02      5.80\n",
      "Ilha S. Maria  Ilha S. Miguel            3.07   0.08      3.65\n",
      "               Ilha Terceira             3.82   0.05      4.30\n",
      "               Portalegre                1.52   0.22      2.20\n",
      "               Santarem                  2.56   0.11      3.19\n",
      "               Setubal                   0.54   0.46      1.11\n",
      "               V. Castelo                0.12   0.73      0.45\n",
      "               Vila Real                 1.88   0.17      2.55\n",
      "Ilha S. Miguel Ilha Terceira            22.23 <0.005     18.66\n",
      "               Portalegre               11.18 <0.005     10.24\n",
      "               Santarem                 16.90 <0.005     14.63\n",
      "               Setubal                   0.57   0.45      1.16\n",
      "               V. Castelo                0.09   0.76      0.40\n",
      "               Vila Real                11.90 <0.005     10.80\n",
      "Ilha Terceira  Portalegre                0.67   0.41      1.28\n",
      "               Santarem                  1.07   0.30      1.73\n",
      "               Setubal                  15.16 <0.005     13.30\n",
      "               V. Castelo                0.22   0.64      0.65\n",
      "               Vila Real                 0.60   0.44      1.19\n",
      "Portalegre     Santarem                  0.11   0.74      0.44\n",
      "               Setubal                   6.42   0.01      6.47\n",
      "               V. Castelo                0.63   0.43      1.23\n",
      "               Vila Real                 0.01   0.93      0.10\n",
      "Santarem       Setubal                  20.65 <0.005     17.47\n",
      "               V. Castelo                1.18   0.28      1.85\n",
      "               Vila Real                 0.04   0.84      0.25\n",
      "Setubal        V. Castelo                0.60   0.44      1.19\n",
      "               Vila Real                 8.70 <0.005      8.30\n",
      "V. Castelo     Vila Real                 1.20   0.27      1.87\n"
     ]
    }
   ],
   "source": [
    "results=pairwise_logrank_test(event_durations=T2012,groups=dtAssociacoes2012['associacao'],event_observed=C2012)\n",
    "results.print_summary()"
   ]
  },
  {
   "cell_type": "markdown",
   "metadata": {},
   "source": [
    "## Escalões Federação Femininos e Masc"
   ]
  },
  {
   "cell_type": "code",
   "execution_count": 316,
   "metadata": {},
   "outputs": [],
   "source": [
    "dtFem2008 = dt2008.loc[dt.sexo=='F']\n",
    "dtMasc2008 = dt2008.loc[dt.sexo=='M']\n",
    "\n",
    "dtFem2012 = dt2012.loc[dt.sexo=='F']\n",
    "dtMasc2012 = dt2012.loc[dt.sexo=='M']"
   ]
  },
  {
   "cell_type": "code",
   "execution_count": 317,
   "metadata": {},
   "outputs": [
    {
     "name": "stdout",
     "output_type": "stream",
     "text": [
      "probabilidade de sobreviver: Veteranos F             Veteranos F\n",
      "timeline             \n",
      "0.0          1.000000\n",
      "1.0          0.538462\n",
      "2.0          0.461538\n",
      "3.0          0.384615\n",
      "4.0          0.153846\n",
      "median: Veteranos F 2.0\n",
      "probabilidade de sobreviver: Seniores F             Seniores F\n",
      "timeline            \n",
      "0.0         1.000000\n",
      "1.0         0.621149\n",
      "2.0         0.454926\n",
      "3.0         0.329783\n",
      "4.0         0.261316\n",
      "median: Seniores F 2.0\n",
      "probabilidade de sobreviver: Juniores F             Juniores F\n",
      "timeline            \n",
      "0.0         1.000000\n",
      "1.0         0.637880\n",
      "2.0         0.510304\n",
      "3.0         0.436703\n",
      "4.0         0.373896\n",
      "median: Juniores F 3.0\n",
      "probabilidade de sobreviver: Juvenis F             Juvenis F\n",
      "timeline           \n",
      "0.0        1.000000\n",
      "1.0        0.688931\n",
      "2.0        0.562977\n",
      "3.0        0.500000\n",
      "4.0        0.391221\n",
      "median: Juvenis F 3.0\n",
      "probabilidade de sobreviver: Iniciados F             Iniciados F\n",
      "timeline             \n",
      "0.0          1.000000\n",
      "1.0          0.718182\n",
      "2.0          0.563636\n",
      "3.0          0.500000\n",
      "4.0          0.445455\n",
      "median: Iniciados F 3.0\n",
      "probabilidade de sobreviver: Infantis F             Infantis F\n",
      "timeline            \n",
      "0.0         1.000000\n",
      "1.0         0.846154\n",
      "2.0         0.807692\n",
      "5.0         0.769231\n",
      "7.0         0.730769\n",
      "median: Infantis F inf\n",
      "probabilidade de sobreviver: Minis F             Minis F\n",
      "timeline         \n",
      "0.0           1.0\n",
      "9.0           1.0\n",
      "median: Minis F inf\n",
      "probabilidade de sobreviver: Bambis F             Bambis F\n",
      "timeline          \n",
      "0.0            1.0\n",
      "1.0            0.0\n",
      "median: Bambis F 1.0\n"
     ]
    },
    {
     "data": {
      "image/png": "[encoded data removed]",
      "text/plain": [
       "<Figure size 1080x360 with 1 Axes>"
      ]
     },
     "metadata": {
      "needs_background": "light"
     },
     "output_type": "display_data"
    }
   ],
   "source": [
    "T2008 = dtFem2008['anos']\n",
    "C2008 = dtFem2008['abandonou']\n",
    "kmf.fit(T2008,C2008,label=\"Abandono dos atletas\")\n",
    "curvaSobrevivencia(dtFem2008,'escFederacao',eixoX='anos',C=C2008,T=T2008,titulo='Probabilidade de sobrevivência por escalão desde 2008');plt.xlabel('anos');"
   ]
  },
  {
   "cell_type": "code",
   "execution_count": 318,
   "metadata": {},
   "outputs": [
    {
     "name": "stdout",
     "output_type": "stream",
     "text": [
      "<lifelines.StatisticalResult>\n",
      "               t_0 = -1\n",
      " null_distribution = chi squared\n",
      "degrees_of_freedom = 7\n",
      "\n",
      "---\n",
      " test_statistic      p  -log2(p)\n",
      "         231.98 <0.005    151.89\n"
     ]
    }
   ],
   "source": [
    "from lifelines.statistics import multivariate_logrank_test\n",
    "\n",
    "results=multivariate_logrank_test(event_durations=T2008,groups=dtFem2008['escFederacao'],event_observed=C2008)\n",
    "results.print_summary()"
   ]
  },
  {
   "cell_type": "markdown",
   "metadata": {},
   "source": [
    "**Existem diferenças entre as curvas de sobrevivência. Vamos ver onde. Isto é como se fosse um teste post-hoc**"
   ]
  },
  {
   "cell_type": "code",
   "execution_count": 319,
   "metadata": {},
   "outputs": [
    {
     "name": "stdout",
     "output_type": "stream",
     "text": [
      "<lifelines.StatisticalResult>\n",
      "               t_0 = -1\n",
      " null_distribution = chi squared\n",
      "degrees_of_freedom = 1\n",
      "\n",
      "---\n",
      "                         test_statistic      p  -log2(p)\n",
      "Bambis F    Infantis F             4.40   0.04      4.80\n",
      "            Iniciados F            2.47   0.12      3.11\n",
      "            Juniores F             1.76   0.19      2.43\n",
      "            Juvenis F              2.20   0.14      2.86\n",
      "            Minis F                4.00   0.05      4.46\n",
      "            Seniores F             1.64   0.20      2.32\n",
      "            Veteranos F            1.00   0.32      1.66\n",
      "Infantis F  Iniciados F            9.10 <0.005      8.61\n",
      "            Juniores F            23.31 <0.005     19.47\n",
      "            Juvenis F             16.37 <0.005     14.23\n",
      "            Minis F                1.47   0.23      2.15\n",
      "            Seniores F            47.86 <0.005     37.67\n",
      "            Veteranos F           22.70 <0.005     19.01\n",
      "Iniciados F Juniores F             9.57 <0.005      8.98\n",
      "            Juvenis F              2.37   0.12      3.01\n",
      "            Minis F                4.57   0.03      4.94\n",
      "            Seniores F            47.29 <0.005     37.25\n",
      "            Veteranos F            6.80   0.01      6.78\n",
      "Juniores F  Juvenis F              7.38   0.01      7.24\n",
      "            Minis F                7.83   0.01      7.61\n",
      "            Seniores F            91.52 <0.005     69.62\n",
      "            Veteranos F            3.52   0.06      4.04\n",
      "Juvenis F   Minis F                6.18   0.01      6.28\n",
      "            Seniores F           106.47 <0.005     80.51\n",
      "            Veteranos F            4.85   0.03      5.18\n",
      "Minis F     Seniores F            13.42 <0.005     11.97\n",
      "            Veteranos F           11.51 <0.005     10.49\n",
      "Seniores F  Veteranos F            0.63   0.43      1.23\n"
     ]
    }
   ],
   "source": [
    "results=pairwise_logrank_test(event_durations=T2008,groups=dtFem2008.escFederacao,event_observed=C2008)\n",
    "results.print_summary()"
   ]
  },
  {
   "cell_type": "code",
   "execution_count": 320,
   "metadata": {},
   "outputs": [
    {
     "name": "stdout",
     "output_type": "stream",
     "text": [
      "probabilidade de sobreviver: Veteranos M             Veteranos M\n",
      "timeline             \n",
      "0.0          1.000000\n",
      "1.0          0.333333\n",
      "2.0          0.296296\n",
      "3.0          0.259259\n",
      "5.0          0.185185\n",
      "median: Veteranos M 1.0\n",
      "probabilidade de sobreviver: Seniores M             Seniores M\n",
      "timeline            \n",
      "0.0         1.000000\n",
      "1.0         0.612469\n",
      "2.0         0.453241\n",
      "3.0         0.353442\n",
      "4.0         0.275398\n",
      "median: Seniores M 2.0\n",
      "probabilidade de sobreviver: Juniores M             Juniores M\n",
      "timeline            \n",
      "0.0         1.000000\n",
      "1.0         0.699911\n",
      "2.0         0.563669\n",
      "3.0         0.475512\n",
      "4.0         0.424310\n",
      "median: Juniores M 3.0\n",
      "probabilidade de sobreviver: Juvenis M             Juvenis M\n",
      "timeline           \n",
      "0.0        1.000000\n",
      "1.0        0.722922\n",
      "2.0        0.604534\n",
      "3.0        0.522040\n",
      "4.0        0.460957\n",
      "median: Juvenis M 4.0\n",
      "probabilidade de sobreviver: Minis M              Minis M\n",
      "timeline          \n",
      "0.0       1.000000\n",
      "1.0       0.727273\n",
      "2.0       0.681818\n",
      "7.0       0.636364\n",
      "8.0       0.636364\n",
      "median: Minis M inf\n",
      "probabilidade de sobreviver: Iniciados M             Iniciados M\n",
      "timeline             \n",
      "0.0          1.000000\n",
      "1.0          0.744526\n",
      "2.0          0.655109\n",
      "3.0          0.591241\n",
      "4.0          0.541971\n",
      "median: Iniciados M 5.0\n",
      "probabilidade de sobreviver: Infantis M             Infantis M\n",
      "timeline            \n",
      "0.0            1.000\n",
      "1.0            0.792\n",
      "2.0            0.760\n",
      "3.0            0.720\n",
      "4.0            0.696\n",
      "median: Infantis M inf\n"
     ]
    },
    {
     "data": {
      "image/png": "[encoded data removed]",
      "text/plain": [
       "<Figure size 1080x360 with 1 Axes>"
      ]
     },
     "metadata": {
      "needs_background": "light"
     },
     "output_type": "display_data"
    }
   ],
   "source": [
    "T2008 = dtMasc2008['anos']\n",
    "C2008 = dtMasc2008['abandonou']\n",
    "kmf.fit(T2008,C2008,label=\"Abandono dos atletas desde 2008\")\n",
    "curvaSobrevivencia(dtMasc2008,'escFederacao',T=T2008,C=C2008,eixoX='anos',titulo='Probabilidade sobrevivência por escalão desde 2008');plt.xlabel('anos');"
   ]
  },
  {
   "cell_type": "code",
   "execution_count": 321,
   "metadata": {},
   "outputs": [
    {
     "name": "stdout",
     "output_type": "stream",
     "text": [
      "<lifelines.StatisticalResult>\n",
      "               t_0 = -1\n",
      " null_distribution = chi squared\n",
      "degrees_of_freedom = 6\n",
      "\n",
      "---\n",
      " test_statistic      p  -log2(p)\n",
      "         701.33 <0.005    489.99\n"
     ]
    }
   ],
   "source": [
    "from lifelines.statistics import multivariate_logrank_test\n",
    "\n",
    "results=multivariate_logrank_test(event_durations=T2008,groups=dtMasc2008['escFederacao'],event_observed=C2008)\n",
    "results.print_summary()"
   ]
  },
  {
   "cell_type": "markdown",
   "metadata": {},
   "source": [
    "**Existem diferenças entre as curvas de sobrevivência. Vamos ver onde. Isto é como se fosse um teste post-hoc**"
   ]
  },
  {
   "cell_type": "code",
   "execution_count": 322,
   "metadata": {},
   "outputs": [
    {
     "name": "stdout",
     "output_type": "stream",
     "text": [
      "<lifelines.StatisticalResult>\n",
      "               t_0 = -1\n",
      " null_distribution = chi squared\n",
      "degrees_of_freedom = 1\n",
      "\n",
      "---\n",
      "                         test_statistic      p  -log2(p)\n",
      "Infantis M  Iniciados M           18.87 <0.005     16.12\n",
      "            Juniores M            67.80 <0.005     52.30\n",
      "            Juvenis M             34.07 <0.005     27.49\n",
      "            Minis M                0.08   0.77      0.37\n",
      "            Seniores M           150.94 <0.005    112.83\n",
      "            Veteranos M           41.00 <0.005     32.61\n",
      "Iniciados M Juniores M            52.66 <0.005     41.20\n",
      "            Juvenis M              7.26   0.01      7.15\n",
      "            Minis M                4.53   0.03      4.91\n",
      "            Seniores M           243.53 <0.005    179.96\n",
      "            Veteranos M           23.06 <0.005     19.28\n",
      "Juniores M  Juvenis M             45.09 <0.005     35.63\n",
      "            Minis M               12.97 <0.005     11.63\n",
      "            Seniores M           210.04 <0.005    155.70\n",
      "            Veteranos M           11.97 <0.005     10.85\n",
      "Juvenis M   Minis M                6.99   0.01      6.93\n",
      "            Seniores M           382.86 <0.005    280.79\n",
      "            Veteranos M           18.38 <0.005     15.75\n",
      "Minis M     Seniores M            27.94 <0.005     22.93\n",
      "            Veteranos M           20.71 <0.005     17.52\n",
      "Seniores M  Veteranos M            2.37   0.12      3.01\n"
     ]
    }
   ],
   "source": [
    "results=pairwise_logrank_test(event_durations=T2008,groups=dtMasc2008.escFederacao,event_observed=C2008)\n",
    "results.print_summary()"
   ]
  },
  {
   "cell_type": "markdown",
   "metadata": {},
   "source": [
    "## Ambos os escalões"
   ]
  },
  {
   "cell_type": "code",
   "execution_count": 323,
   "metadata": {},
   "outputs": [
    {
     "ename": "TypeError",
     "evalue": "curvaSobrevivencia() missing 2 required positional arguments: 'T' and 'C'",
     "output_type": "error",
     "traceback": [
      "\u001b[1;31m---------------------------------------------------------------------------\u001b[0m",
      "\u001b[1;31mTypeError\u001b[0m                                 Traceback (most recent call last)",
      "\u001b[1;32m<ipython-input-323-3638c8b02431>\u001b[0m in \u001b[0;36m<module>\u001b[1;34m\u001b[0m\n\u001b[0;32m      2\u001b[0m \u001b[0mC\u001b[0m \u001b[1;33m=\u001b[0m \u001b[0mdt\u001b[0m\u001b[1;33m[\u001b[0m\u001b[1;34m'abandonou'\u001b[0m\u001b[1;33m]\u001b[0m\u001b[1;33m\u001b[0m\u001b[1;33m\u001b[0m\u001b[0m\n\u001b[0;32m      3\u001b[0m \u001b[0mkmf\u001b[0m\u001b[1;33m.\u001b[0m\u001b[0mfit\u001b[0m\u001b[1;33m(\u001b[0m\u001b[0mT\u001b[0m\u001b[1;33m,\u001b[0m\u001b[0mC\u001b[0m\u001b[1;33m,\u001b[0m\u001b[0mlabel\u001b[0m\u001b[1;33m=\u001b[0m\u001b[1;34m\"Abandono dos atletas\"\u001b[0m\u001b[1;33m)\u001b[0m\u001b[1;33m\u001b[0m\u001b[1;33m\u001b[0m\u001b[0m\n\u001b[1;32m----> 4\u001b[1;33m \u001b[0mcurvaSobrevivencia\u001b[0m\u001b[1;33m(\u001b[0m\u001b[0mdt\u001b[0m\u001b[1;33m,\u001b[0m\u001b[1;34m'escFedTodos'\u001b[0m\u001b[1;33m,\u001b[0m\u001b[0meixoX\u001b[0m\u001b[1;33m=\u001b[0m\u001b[1;34m'anos'\u001b[0m\u001b[1;33m,\u001b[0m\u001b[0mtitulo\u001b[0m\u001b[1;33m=\u001b[0m\u001b[1;34m'Probabilidade sobrevivência por escalão'\u001b[0m\u001b[1;33m)\u001b[0m\u001b[1;33m;\u001b[0m\u001b[0mplt\u001b[0m\u001b[1;33m.\u001b[0m\u001b[0mxlabel\u001b[0m\u001b[1;33m(\u001b[0m\u001b[1;34m'anos'\u001b[0m\u001b[1;33m)\u001b[0m\u001b[1;33m;\u001b[0m\u001b[1;33m\u001b[0m\u001b[1;33m\u001b[0m\u001b[0m\n\u001b[0m",
      "\u001b[1;31mTypeError\u001b[0m: curvaSobrevivencia() missing 2 required positional arguments: 'T' and 'C'"
     ]
    }
   ],
   "source": [
    "T = dt['anos']\n",
    "C = dt['abandonou']\n",
    "kmf.fit(T,C,label=\"Abandono dos atletas\")\n",
    "curvaSobrevivencia(dt,'escFedTodos',eixoX='anos',titulo='Probabilidade sobrevivência por escalão');plt.xlabel('anos');"
   ]
  },
  {
   "cell_type": "markdown",
   "metadata": {},
   "source": [
    "## Por tipo de inscrição"
   ]
  },
  {
   "cell_type": "code",
   "execution_count": null,
   "metadata": {},
   "outputs": [],
   "source": [
    "T = dt['anos']\n",
    "C = dt['abandonou']\n",
    "curvaSobrevivencia(dt,'tipoInscricao',eixoX='anos',titulo='Probabilidade sobrevivência por tipo de inscrição');plt.xlabel('anos');"
   ]
  },
  {
   "cell_type": "code",
   "execution_count": null,
   "metadata": {},
   "outputs": [],
   "source": [
    "from lifelines.statistics import multivariate_logrank_test\n",
    "\n",
    "results=multivariate_logrank_test(event_durations=T,groups=dt['tipoInscricao'],event_observed=C)\n",
    "results.print_summary()"
   ]
  },
  {
   "cell_type": "markdown",
   "metadata": {},
   "source": [
    "**Existem diferenças entre as curvas de sobrevivência. Vamos ver onde. Isto é como se fosse um teste post-hoc**"
   ]
  },
  {
   "cell_type": "code",
   "execution_count": null,
   "metadata": {},
   "outputs": [],
   "source": [
    "results=pairwise_logrank_test(event_durations=T,groups=dt.tipoInscricao,event_observed=C)\n",
    "results.print_summary()"
   ]
  },
  {
   "cell_type": "markdown",
   "metadata": {},
   "source": [
    "# Vamos ver este mandato em relação aos anteriores"
   ]
  },
  {
   "cell_type": "code",
   "execution_count": null,
   "metadata": {},
   "outputs": [],
   "source": [
    "dt.loc[:,'esteMandato']=0"
   ]
  },
  {
   "cell_type": "code",
   "execution_count": null,
   "metadata": {},
   "outputs": [],
   "source": [
    "dt.dtIns=pd.to_datetime(dt.dtIns)\n",
    "dt.loc[:,'anoInsc']=0\n",
    "dt['anoInsc']=dt['dtIns'].apply(lambda x: x.year)"
   ]
  },
  {
   "cell_type": "code",
   "execution_count": null,
   "metadata": {},
   "outputs": [],
   "source": [
    "dt.columns"
   ]
  },
  {
   "cell_type": "code",
   "execution_count": null,
   "metadata": {},
   "outputs": [],
   "source": [
    "dt.loc[dt.anoInsc >= 2012,'esteMandato'] = 1"
   ]
  },
  {
   "cell_type": "code",
   "execution_count": null,
   "metadata": {},
   "outputs": [],
   "source": [
    "dt.esteMandato.value_counts()"
   ]
  },
  {
   "cell_type": "code",
   "execution_count": null,
   "metadata": {},
   "outputs": [],
   "source": [
    "T = dt['anos']\n",
    "C = dt['abandonou']\n",
    "curvaSobrevivencia(dt,'esteMandato',C=C,T=T,eixoX='anos',titulo='Probabilidade sobrevivência por mandato');plt.xlabel('anos');"
   ]
  },
  {
   "cell_type": "code",
   "execution_count": null,
   "metadata": {},
   "outputs": [],
   "source": [
    "from lifelines.statistics import multivariate_logrank_test\n",
    "\n",
    "results=multivariate_logrank_test(event_durations=T,groups=dt['esteMandato'],event_observed=C)\n",
    "results.print_summary()"
   ]
  },
  {
   "cell_type": "markdown",
   "metadata": {},
   "source": [
    "**Existem diferenças entre as curvas de sobrevivência. Vamos ver onde. Isto é como se fosse um teste post-hoc**"
   ]
  },
  {
   "cell_type": "code",
   "execution_count": null,
   "metadata": {},
   "outputs": [],
   "source": [
    "results=pairwise_logrank_test(event_durations=T,groups=dt.esteMandato,event_observed=C)\n",
    "results.print_summary()"
   ]
  }
 ],
 "metadata": {
  "kernelspec": {
   "display_name": "Python 3",
   "language": "python",
   "name": "python3"
  },
  "language_info": {
   "codemirror_mode": {
    "name": "ipython",
    "version": 3
   },
   "file_extension": ".py",
   "mimetype": "text/x-python",
   "name": "python",
   "nbconvert_exporter": "python",
   "pygments_lexer": "ipython3",
   "version": "3.7.3"
  },
  "toc-autonumbering": true,
  "toc-showcode": false,
  "toc-showmarkdowntxt": true
 },
 "nbformat": 4,
 "nbformat_minor": 4
}
