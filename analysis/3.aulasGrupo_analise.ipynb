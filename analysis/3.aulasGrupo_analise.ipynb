{
 "cells": [
  {
   "cell_type": "code",
   "execution_count": 590,
   "metadata": {},
   "outputs": [],
   "source": [
    "# from google.colab import drive\n",
    "# drive.mount('/gdrive')\n",
    "# pathAlv = '/gdrive/My Drive/dados/Elitefitness Alverca - Aulas grupo(1-324).xlsx'\n",
    "# pathRM = '/gdrive/My Drive/dados/Elitefitness Rio Maior - Aulas grupo(1-410).xlsx'"
   ]
  },
  {
   "cell_type": "markdown",
   "metadata": {},
   "source": [
    "Objetivos:\n",
    "1. Perceber quais são as horas com mais clientes?\n",
    "2. Quais são as aulas com mais clientes?\n",
    "3. Quais são os dias da semana com mais clientes?\n",
    "\n",
    "Alterações:\n",
    "1. Colocar a possibilidade de filtrar por datas"
   ]
  },
  {
   "cell_type": "markdown",
   "metadata": {
    "toc-hr-collapsed": false
   },
   "source": [
    "# Dados recolhidos aula de grupo Rio Maior"
   ]
  },
  {
   "cell_type": "code",
   "execution_count": 591,
   "metadata": {},
   "outputs": [],
   "source": [
    "import pandas as pd\n",
    "import seaborn as sns\n",
    "from ipywidgets import interact, interactive, fixed, interact_manual\n",
    "import plotly.offline as py\n",
    "import datetime,calendar\n",
    "\n",
    "dfAG = pd.read_excel('../dados/_RMAulasGrupo.xlsx',sheet_name='Sheet1')"
   ]
  },
  {
   "cell_type": "markdown",
   "metadata": {
    "toc-hr-collapsed": true
   },
   "source": [
    "## Preparação dos dados"
   ]
  },
  {
   "cell_type": "code",
   "execution_count": 592,
   "metadata": {},
   "outputs": [
    {
     "data": {
      "text/plain": [
       "Index(['ID', 'Hora de início', 'Hora de conclusão', 'E-mail', 'Nome',\n",
       "       'Pontuação total', 'Feedback do questionário', 'Data', 'Pontos – Data',\n",
       "       'Feedback – Data', 'Aula', 'Pontos – Aula', 'Feedback – Aula',\n",
       "       'Hora aula (coloque hora:minutos ex. 09:15)',\n",
       "       'Pontos – Hora aula (coloque hora:minutos ex. 09:15)',\n",
       "       'Feedback – Hora aula (coloque hora:minutos ex. 09:15)',\n",
       "       'Quantas pessoas aula?', 'Pontos – Quantas pessoas aula?',\n",
       "       'Feedback – Quantas pessoas aula?', 'Aula2', 'Pontos – Aula2',\n",
       "       'Feedback – Aula2'],\n",
       "      dtype='object')"
      ]
     },
     "execution_count": 592,
     "metadata": {},
     "output_type": "execute_result"
    }
   ],
   "source": [
    "dfAG.columns"
   ]
  },
  {
   "cell_type": "code",
   "execution_count": 593,
   "metadata": {},
   "outputs": [
    {
     "data": {
      "text/html": [
       "<div>\n",
       "<style scoped>\n",
       "    .dataframe tbody tr th:only-of-type {\n",
       "        vertical-align: middle;\n",
       "    }\n",
       "\n",
       "    .dataframe tbody tr th {\n",
       "        vertical-align: top;\n",
       "    }\n",
       "\n",
       "    .dataframe thead th {\n",
       "        text-align: right;\n",
       "    }\n",
       "</style>\n",
       "<table border=\"1\" class=\"dataframe\">\n",
       "  <thead>\n",
       "    <tr style=\"text-align: right;\">\n",
       "      <th></th>\n",
       "      <th>ID</th>\n",
       "      <th>Hora de início</th>\n",
       "      <th>Hora de conclusão</th>\n",
       "      <th>E-mail</th>\n",
       "      <th>Nome</th>\n",
       "      <th>Pontuação total</th>\n",
       "      <th>Feedback do questionário</th>\n",
       "      <th>Data</th>\n",
       "      <th>Pontos – Data</th>\n",
       "      <th>Feedback – Data</th>\n",
       "      <th>...</th>\n",
       "      <th>Feedback – Aula</th>\n",
       "      <th>Hora aula (coloque hora:minutos ex. 09:15)</th>\n",
       "      <th>Pontos – Hora aula (coloque hora:minutos ex. 09:15)</th>\n",
       "      <th>Feedback – Hora aula (coloque hora:minutos ex. 09:15)</th>\n",
       "      <th>Quantas pessoas aula?</th>\n",
       "      <th>Pontos – Quantas pessoas aula?</th>\n",
       "      <th>Feedback – Quantas pessoas aula?</th>\n",
       "      <th>Aula2</th>\n",
       "      <th>Pontos – Aula2</th>\n",
       "      <th>Feedback – Aula2</th>\n",
       "    </tr>\n",
       "  </thead>\n",
       "  <tbody>\n",
       "    <tr>\n",
       "      <th>642</th>\n",
       "      <td>643</td>\n",
       "      <td>2020-01-27 10:17:11</td>\n",
       "      <td>2020-01-27 10:51:59</td>\n",
       "      <td>anonymous</td>\n",
       "      <td>NaN</td>\n",
       "      <td>NaN</td>\n",
       "      <td>NaN</td>\n",
       "      <td>2020-01-27</td>\n",
       "      <td>NaN</td>\n",
       "      <td>NaN</td>\n",
       "      <td>...</td>\n",
       "      <td>NaN</td>\n",
       "      <td>9:45</td>\n",
       "      <td>NaN</td>\n",
       "      <td>NaN</td>\n",
       "      <td>9</td>\n",
       "      <td>NaN</td>\n",
       "      <td>NaN</td>\n",
       "      <td>step</td>\n",
       "      <td>NaN</td>\n",
       "      <td>NaN</td>\n",
       "    </tr>\n",
       "    <tr>\n",
       "      <th>643</th>\n",
       "      <td>644</td>\n",
       "      <td>2020-01-27 10:52:02</td>\n",
       "      <td>2020-01-27 10:52:24</td>\n",
       "      <td>anonymous</td>\n",
       "      <td>NaN</td>\n",
       "      <td>NaN</td>\n",
       "      <td>NaN</td>\n",
       "      <td>2020-01-27</td>\n",
       "      <td>NaN</td>\n",
       "      <td>NaN</td>\n",
       "      <td>...</td>\n",
       "      <td>NaN</td>\n",
       "      <td>10:20</td>\n",
       "      <td>NaN</td>\n",
       "      <td>NaN</td>\n",
       "      <td>7</td>\n",
       "      <td>NaN</td>\n",
       "      <td>NaN</td>\n",
       "      <td>bodypump</td>\n",
       "      <td>NaN</td>\n",
       "      <td>NaN</td>\n",
       "    </tr>\n",
       "    <tr>\n",
       "      <th>644</th>\n",
       "      <td>645</td>\n",
       "      <td>2020-01-27 11:30:19</td>\n",
       "      <td>2020-01-27 11:30:39</td>\n",
       "      <td>anonymous</td>\n",
       "      <td>NaN</td>\n",
       "      <td>NaN</td>\n",
       "      <td>NaN</td>\n",
       "      <td>2020-01-27</td>\n",
       "      <td>NaN</td>\n",
       "      <td>NaN</td>\n",
       "      <td>...</td>\n",
       "      <td>NaN</td>\n",
       "      <td>10:55</td>\n",
       "      <td>NaN</td>\n",
       "      <td>NaN</td>\n",
       "      <td>7</td>\n",
       "      <td>NaN</td>\n",
       "      <td>NaN</td>\n",
       "      <td>pilates</td>\n",
       "      <td>NaN</td>\n",
       "      <td>NaN</td>\n",
       "    </tr>\n",
       "    <tr>\n",
       "      <th>645</th>\n",
       "      <td>646</td>\n",
       "      <td>2020-01-27 07:59:12</td>\n",
       "      <td>2020-01-27 13:26:20</td>\n",
       "      <td>anonymous</td>\n",
       "      <td>NaN</td>\n",
       "      <td>NaN</td>\n",
       "      <td>NaN</td>\n",
       "      <td>2020-01-27</td>\n",
       "      <td>NaN</td>\n",
       "      <td>NaN</td>\n",
       "      <td>...</td>\n",
       "      <td>NaN</td>\n",
       "      <td>12.30</td>\n",
       "      <td>NaN</td>\n",
       "      <td>NaN</td>\n",
       "      <td>7</td>\n",
       "      <td>NaN</td>\n",
       "      <td>NaN</td>\n",
       "      <td>speeding</td>\n",
       "      <td>NaN</td>\n",
       "      <td>NaN</td>\n",
       "    </tr>\n",
       "    <tr>\n",
       "      <th>646</th>\n",
       "      <td>647</td>\n",
       "      <td>2020-01-27 13:26:22</td>\n",
       "      <td>2020-01-27 13:26:50</td>\n",
       "      <td>anonymous</td>\n",
       "      <td>NaN</td>\n",
       "      <td>NaN</td>\n",
       "      <td>NaN</td>\n",
       "      <td>2020-01-27</td>\n",
       "      <td>NaN</td>\n",
       "      <td>NaN</td>\n",
       "      <td>...</td>\n",
       "      <td>NaN</td>\n",
       "      <td>13.05</td>\n",
       "      <td>NaN</td>\n",
       "      <td>NaN</td>\n",
       "      <td>4</td>\n",
       "      <td>NaN</td>\n",
       "      <td>NaN</td>\n",
       "      <td>soscelulite</td>\n",
       "      <td>NaN</td>\n",
       "      <td>NaN</td>\n",
       "    </tr>\n",
       "  </tbody>\n",
       "</table>\n",
       "<p>5 rows × 22 columns</p>\n",
       "</div>"
      ],
      "text/plain": [
       "      ID      Hora de início   Hora de conclusão     E-mail  Nome  \\\n",
       "642  643 2020-01-27 10:17:11 2020-01-27 10:51:59  anonymous   NaN   \n",
       "643  644 2020-01-27 10:52:02 2020-01-27 10:52:24  anonymous   NaN   \n",
       "644  645 2020-01-27 11:30:19 2020-01-27 11:30:39  anonymous   NaN   \n",
       "645  646 2020-01-27 07:59:12 2020-01-27 13:26:20  anonymous   NaN   \n",
       "646  647 2020-01-27 13:26:22 2020-01-27 13:26:50  anonymous   NaN   \n",
       "\n",
       "     Pontuação total  Feedback do questionário       Data  Pontos – Data  \\\n",
       "642              NaN                       NaN 2020-01-27            NaN   \n",
       "643              NaN                       NaN 2020-01-27            NaN   \n",
       "644              NaN                       NaN 2020-01-27            NaN   \n",
       "645              NaN                       NaN 2020-01-27            NaN   \n",
       "646              NaN                       NaN 2020-01-27            NaN   \n",
       "\n",
       "     Feedback – Data  ... Feedback – Aula  \\\n",
       "642              NaN  ...             NaN   \n",
       "643              NaN  ...             NaN   \n",
       "644              NaN  ...             NaN   \n",
       "645              NaN  ...             NaN   \n",
       "646              NaN  ...             NaN   \n",
       "\n",
       "     Hora aula (coloque hora:minutos ex. 09:15)  \\\n",
       "642                                        9:45   \n",
       "643                                       10:20   \n",
       "644                                       10:55   \n",
       "645                                       12.30   \n",
       "646                                       13.05   \n",
       "\n",
       "     Pontos – Hora aula (coloque hora:minutos ex. 09:15)  \\\n",
       "642                                                NaN     \n",
       "643                                                NaN     \n",
       "644                                                NaN     \n",
       "645                                                NaN     \n",
       "646                                                NaN     \n",
       "\n",
       "    Feedback – Hora aula (coloque hora:minutos ex. 09:15)  \\\n",
       "642                                                NaN      \n",
       "643                                                NaN      \n",
       "644                                                NaN      \n",
       "645                                                NaN      \n",
       "646                                                NaN      \n",
       "\n",
       "     Quantas pessoas aula?  Pontos – Quantas pessoas aula?  \\\n",
       "642                      9                             NaN   \n",
       "643                      7                             NaN   \n",
       "644                      7                             NaN   \n",
       "645                      7                             NaN   \n",
       "646                      4                             NaN   \n",
       "\n",
       "    Feedback – Quantas pessoas aula?        Aula2  Pontos – Aula2  \\\n",
       "642                              NaN         step             NaN   \n",
       "643                              NaN     bodypump             NaN   \n",
       "644                              NaN      pilates             NaN   \n",
       "645                              NaN     speeding             NaN   \n",
       "646                              NaN  soscelulite             NaN   \n",
       "\n",
       "    Feedback – Aula2  \n",
       "642              NaN  \n",
       "643              NaN  \n",
       "644              NaN  \n",
       "645              NaN  \n",
       "646              NaN  \n",
       "\n",
       "[5 rows x 22 columns]"
      ]
     },
     "execution_count": 593,
     "metadata": {},
     "output_type": "execute_result"
    }
   ],
   "source": [
    "dfAG.tail()"
   ]
  },
  {
   "cell_type": "code",
   "execution_count": 594,
   "metadata": {},
   "outputs": [
    {
     "data": {
      "text/plain": [
       "Index(['ID', 'Hora de início', 'Hora de conclusão', 'E-mail', 'Nome',\n",
       "       'Pontuação total', 'Feedback do questionário', 'Data', 'Pontos – Data',\n",
       "       'Feedback – Data', 'Aula', 'Pontos – Aula', 'Feedback – Aula',\n",
       "       'Hora aula (coloque hora:minutos ex. 09:15)',\n",
       "       'Pontos – Hora aula (coloque hora:minutos ex. 09:15)',\n",
       "       'Feedback – Hora aula (coloque hora:minutos ex. 09:15)',\n",
       "       'Quantas pessoas aula?', 'Pontos – Quantas pessoas aula?',\n",
       "       'Feedback – Quantas pessoas aula?', 'Aula2', 'Pontos – Aula2',\n",
       "       'Feedback – Aula2'],\n",
       "      dtype='object')"
      ]
     },
     "execution_count": 594,
     "metadata": {},
     "output_type": "execute_result"
    }
   ],
   "source": [
    "dfAG.columns"
   ]
  },
  {
   "cell_type": "code",
   "execution_count": 595,
   "metadata": {},
   "outputs": [
    {
     "data": {
      "text/plain": [
       "Index(['Hora de início', 'Hora de conclusão', 'Data', 'Aula',\n",
       "       'Hora aula (coloque hora:minutos ex. 09:15)', 'Quantas pessoas aula?',\n",
       "       'Aula2'],\n",
       "      dtype='object')"
      ]
     },
     "execution_count": 595,
     "metadata": {},
     "output_type": "execute_result"
    }
   ],
   "source": [
    "cols = ['ID','E-mail', 'Nome','Pontuação total', 'Feedback do questionário', 'Pontos – Data',\n",
    "        'Feedback – Data', 'Pontos – Aula', 'Feedback – Aula','Pontos – Hora aula (coloque hora:minutos ex. 09:15)',\n",
    "        'Feedback – Hora aula (coloque hora:minutos ex. 09:15)', 'Pontos – Quantas pessoas aula?',\n",
    "        'Feedback – Quantas pessoas aula?','Pontos – Aula2','Feedback – Aula2']\n",
    "dfAG.drop(columns=cols, index=1, inplace=True)\n",
    "dfAG.columns\n"
   ]
  },
  {
   "cell_type": "code",
   "execution_count": 596,
   "metadata": {},
   "outputs": [],
   "source": [
    "dfAG.columns=['horaInicio','horaConclusao','data','aula','hora','pessoas','aula2']"
   ]
  },
  {
   "cell_type": "code",
   "execution_count": 597,
   "metadata": {},
   "outputs": [
    {
     "data": {
      "text/html": [
       "<div>\n",
       "<style scoped>\n",
       "    .dataframe tbody tr th:only-of-type {\n",
       "        vertical-align: middle;\n",
       "    }\n",
       "\n",
       "    .dataframe tbody tr th {\n",
       "        vertical-align: top;\n",
       "    }\n",
       "\n",
       "    .dataframe thead th {\n",
       "        text-align: right;\n",
       "    }\n",
       "</style>\n",
       "<table border=\"1\" class=\"dataframe\">\n",
       "  <thead>\n",
       "    <tr style=\"text-align: right;\">\n",
       "      <th></th>\n",
       "      <th>horaInicio</th>\n",
       "      <th>horaConclusao</th>\n",
       "      <th>data</th>\n",
       "      <th>aula</th>\n",
       "      <th>hora</th>\n",
       "      <th>pessoas</th>\n",
       "      <th>aula2</th>\n",
       "    </tr>\n",
       "  </thead>\n",
       "  <tbody>\n",
       "    <tr>\n",
       "      <th>0</th>\n",
       "      <td>2019-12-04 10:31:12</td>\n",
       "      <td>2019-12-04 12:10:01</td>\n",
       "      <td>2019-12-04</td>\n",
       "      <td>POPEYE</td>\n",
       "      <td>15:00</td>\n",
       "      <td>10</td>\n",
       "      <td>NaN</td>\n",
       "    </tr>\n",
       "    <tr>\n",
       "      <th>2</th>\n",
       "      <td>2019-12-09 09:03:23</td>\n",
       "      <td>2019-12-09 09:03:51</td>\n",
       "      <td>2019-12-09</td>\n",
       "      <td>Speeding</td>\n",
       "      <td>8:30</td>\n",
       "      <td>6</td>\n",
       "      <td>NaN</td>\n",
       "    </tr>\n",
       "    <tr>\n",
       "      <th>3</th>\n",
       "      <td>2019-12-09 09:44:05</td>\n",
       "      <td>2019-12-09 09:44:41</td>\n",
       "      <td>2019-12-09</td>\n",
       "      <td>Gain - Glúteo e Pernas</td>\n",
       "      <td>9:10</td>\n",
       "      <td>4</td>\n",
       "      <td>NaN</td>\n",
       "    </tr>\n",
       "    <tr>\n",
       "      <th>4</th>\n",
       "      <td>2019-12-09 11:33:17</td>\n",
       "      <td>2019-12-09 11:33:39</td>\n",
       "      <td>2019-12-09</td>\n",
       "      <td>Pilates</td>\n",
       "      <td>10:55</td>\n",
       "      <td>3</td>\n",
       "      <td>NaN</td>\n",
       "    </tr>\n",
       "    <tr>\n",
       "      <th>5</th>\n",
       "      <td>2019-12-09 11:40:10</td>\n",
       "      <td>2019-12-09 11:40:33</td>\n",
       "      <td>2019-12-09</td>\n",
       "      <td>Body Pump</td>\n",
       "      <td>10.20</td>\n",
       "      <td>3</td>\n",
       "      <td>NaN</td>\n",
       "    </tr>\n",
       "  </tbody>\n",
       "</table>\n",
       "</div>"
      ],
      "text/plain": [
       "           horaInicio       horaConclusao       data                    aula  \\\n",
       "0 2019-12-04 10:31:12 2019-12-04 12:10:01 2019-12-04                  POPEYE   \n",
       "2 2019-12-09 09:03:23 2019-12-09 09:03:51 2019-12-09                Speeding   \n",
       "3 2019-12-09 09:44:05 2019-12-09 09:44:41 2019-12-09  Gain - Glúteo e Pernas   \n",
       "4 2019-12-09 11:33:17 2019-12-09 11:33:39 2019-12-09                 Pilates   \n",
       "5 2019-12-09 11:40:10 2019-12-09 11:40:33 2019-12-09              Body Pump    \n",
       "\n",
       "    hora pessoas aula2  \n",
       "0  15:00      10   NaN  \n",
       "2   8:30       6   NaN  \n",
       "3   9:10       4   NaN  \n",
       "4  10:55       3   NaN  \n",
       "5  10.20       3   NaN  "
      ]
     },
     "execution_count": 597,
     "metadata": {},
     "output_type": "execute_result"
    }
   ],
   "source": [
    "dfAG.head()"
   ]
  },
  {
   "cell_type": "code",
   "execution_count": 598,
   "metadata": {},
   "outputs": [
    {
     "data": {
      "text/html": [
       "<div>\n",
       "<style scoped>\n",
       "    .dataframe tbody tr th:only-of-type {\n",
       "        vertical-align: middle;\n",
       "    }\n",
       "\n",
       "    .dataframe tbody tr th {\n",
       "        vertical-align: top;\n",
       "    }\n",
       "\n",
       "    .dataframe thead th {\n",
       "        text-align: right;\n",
       "    }\n",
       "</style>\n",
       "<table border=\"1\" class=\"dataframe\">\n",
       "  <thead>\n",
       "    <tr style=\"text-align: right;\">\n",
       "      <th></th>\n",
       "      <th>horaInicio</th>\n",
       "      <th>horaConclusao</th>\n",
       "      <th>data</th>\n",
       "      <th>aula</th>\n",
       "      <th>hora</th>\n",
       "      <th>pessoas</th>\n",
       "      <th>aula2</th>\n",
       "    </tr>\n",
       "  </thead>\n",
       "  <tbody>\n",
       "    <tr>\n",
       "      <th>642</th>\n",
       "      <td>2020-01-27 10:17:11</td>\n",
       "      <td>2020-01-27 10:51:59</td>\n",
       "      <td>2020-01-27</td>\n",
       "      <td>Step</td>\n",
       "      <td>9:45</td>\n",
       "      <td>9</td>\n",
       "      <td>step</td>\n",
       "    </tr>\n",
       "    <tr>\n",
       "      <th>643</th>\n",
       "      <td>2020-01-27 10:52:02</td>\n",
       "      <td>2020-01-27 10:52:24</td>\n",
       "      <td>2020-01-27</td>\n",
       "      <td>BodyPump</td>\n",
       "      <td>10:20</td>\n",
       "      <td>7</td>\n",
       "      <td>bodypump</td>\n",
       "    </tr>\n",
       "    <tr>\n",
       "      <th>644</th>\n",
       "      <td>2020-01-27 11:30:19</td>\n",
       "      <td>2020-01-27 11:30:39</td>\n",
       "      <td>2020-01-27</td>\n",
       "      <td>Pilates</td>\n",
       "      <td>10:55</td>\n",
       "      <td>7</td>\n",
       "      <td>pilates</td>\n",
       "    </tr>\n",
       "    <tr>\n",
       "      <th>645</th>\n",
       "      <td>2020-01-27 07:59:12</td>\n",
       "      <td>2020-01-27 13:26:20</td>\n",
       "      <td>2020-01-27</td>\n",
       "      <td>speedimg</td>\n",
       "      <td>12.30</td>\n",
       "      <td>7</td>\n",
       "      <td>speeding</td>\n",
       "    </tr>\n",
       "    <tr>\n",
       "      <th>646</th>\n",
       "      <td>2020-01-27 13:26:22</td>\n",
       "      <td>2020-01-27 13:26:50</td>\n",
       "      <td>2020-01-27</td>\n",
       "      <td>soscelulite</td>\n",
       "      <td>13.05</td>\n",
       "      <td>4</td>\n",
       "      <td>soscelulite</td>\n",
       "    </tr>\n",
       "  </tbody>\n",
       "</table>\n",
       "</div>"
      ],
      "text/plain": [
       "             horaInicio       horaConclusao       data         aula   hora  \\\n",
       "642 2020-01-27 10:17:11 2020-01-27 10:51:59 2020-01-27         Step   9:45   \n",
       "643 2020-01-27 10:52:02 2020-01-27 10:52:24 2020-01-27     BodyPump  10:20   \n",
       "644 2020-01-27 11:30:19 2020-01-27 11:30:39 2020-01-27     Pilates   10:55   \n",
       "645 2020-01-27 07:59:12 2020-01-27 13:26:20 2020-01-27     speedimg  12.30   \n",
       "646 2020-01-27 13:26:22 2020-01-27 13:26:50 2020-01-27  soscelulite  13.05   \n",
       "\n",
       "    pessoas        aula2  \n",
       "642       9         step  \n",
       "643       7     bodypump  \n",
       "644       7      pilates  \n",
       "645       7     speeding  \n",
       "646       4  soscelulite  "
      ]
     },
     "execution_count": 598,
     "metadata": {},
     "output_type": "execute_result"
    }
   ],
   "source": [
    "dfAG.tail()"
   ]
  },
  {
   "cell_type": "code",
   "execution_count": 599,
   "metadata": {},
   "outputs": [
    {
     "name": "stdout",
     "output_type": "stream",
     "text": [
      "<class 'pandas.core.frame.DataFrame'>\n",
      "Int64Index: 646 entries, 0 to 646\n",
      "Data columns (total 7 columns):\n",
      " #   Column         Non-Null Count  Dtype         \n",
      "---  ------         --------------  -----         \n",
      " 0   horaInicio     646 non-null    datetime64[ns]\n",
      " 1   horaConclusao  646 non-null    datetime64[ns]\n",
      " 2   data           646 non-null    datetime64[ns]\n",
      " 3   aula           646 non-null    object        \n",
      " 4   hora           646 non-null    object        \n",
      " 5   pessoas        646 non-null    object        \n",
      " 6   aula2          155 non-null    object        \n",
      "dtypes: datetime64[ns](3), object(4)\n",
      "memory usage: 40.4+ KB\n"
     ]
    }
   ],
   "source": [
    "dfAG.info()"
   ]
  },
  {
   "cell_type": "code",
   "execution_count": 600,
   "metadata": {},
   "outputs": [],
   "source": [
    "dfAG.fillna(0,inplace=True)"
   ]
  },
  {
   "cell_type": "code",
   "execution_count": 601,
   "metadata": {},
   "outputs": [
    {
     "data": {
      "text/plain": [
       "array(['15:00', '8:30', '9:10', '10:55', '10.20', '09:45', '12:30',\n",
       "       '13:00', '15:30', '16h00', '17:00', '17:30', '17:25', '18:00',\n",
       "       '17:55', '18:30', '19:00', '19h05', '19h30', '19:20', '20:15',\n",
       "       '19:55', '20:30', '08:00', '08.30', '9:00', '09:35', '10:45',\n",
       "       '17:45', '18:25', '18:45', '19:40', '20:00', '20:10', '19:45',\n",
       "       '07:40', '18', '18:35', '09:00', '09.35', '10.10', '10:30',\n",
       "       '16:00', '18:10', 'Zumba', '20:20', '10:15', '11:05', '09:40',\n",
       "       '13:30', '19:10', '19:30', '18:25 ', '17:40', '19h25', '19',\n",
       "       '9:35', '16:30', '19:15', '20:25', '11:00', '10', '10:35', '9:45',\n",
       "       '19:05', '09:30', '10:10', '12:40', '12:30h ', '17:45h',\n",
       "       'Speeding ', '20;00', '19:50', '18:20', '19:35', '11:15', '17:35',\n",
       "       '09:50', '10:00', '19/00', '13', '18:15', '18/25', '18h35',\n",
       "       '13:05', '10:20', '17 00', '1735', '13:15', '19:25', '07:50',\n",
       "       '17/40', '7:50', '9', '11', '10.45', '17.00', '17.35', '18.00',\n",
       "       '8:00', '07.40', '9.30', '17.55', '13:35', '18.30', '9.00',\n",
       "       '17.45', '10.00', '10.35', '11.15', '19.20', '8.00', '18;25',\n",
       "       '18:54', '19.10', '08:30', '9.35', '7.40', '20.00', '9;00',\n",
       "       '18.35', '20:35', '18.20', '19.00', '12.30', '13.05'], dtype=object)"
      ]
     },
     "execution_count": 601,
     "metadata": {},
     "output_type": "execute_result"
    }
   ],
   "source": [
    "dfAG.hora.unique()"
   ]
  },
  {
   "cell_type": "code",
   "execution_count": 602,
   "metadata": {},
   "outputs": [],
   "source": [
    "#Limpar dados mal inseridos\n",
    "#lambda <args> : <return Value> if <condition > ( <return value > if <condition> else <return value>)\n",
    "dfAG['hora']=dfAG['hora'].apply(lambda x:str(x).replace('h',':'))\n",
    "dfAG['hora']=dfAG['hora'].apply(lambda x:str(x).replace('.',':'))\n",
    "dfAG['hora']=dfAG['hora'].apply(lambda x: str(x)+':00' if (len(x)==1 or len(x)==2) else x)\n",
    "dfAG['hora']=dfAG['hora'].apply(lambda x: str(x)+'00' if (len(x)==3) else x)\n",
    "dfAG['hora']=dfAG['hora'].apply(lambda x:str(x).replace('::',':'))\n",
    "dfAG['hora']=dfAG['hora'].apply(lambda x:str(x).replace('m',''))\n",
    "dfAG['hora']=dfAG['hora'].apply(lambda x:str(x).replace(' ','00'))\n",
    "dfAG['hora']=dfAG['hora'].apply(lambda x:str(x).replace('1000','10'))"
   ]
  },
  {
   "cell_type": "code",
   "execution_count": 603,
   "metadata": {},
   "outputs": [],
   "source": [
    "dfAG.hora=pd.to_datetime(dfAG['hora'],format='%H:%M', errors='coerce')\n",
    "dfAG.dropna(subset=['hora'],inplace=True)"
   ]
  },
  {
   "cell_type": "code",
   "execution_count": 604,
   "metadata": {},
   "outputs": [
    {
     "name": "stdout",
     "output_type": "stream",
     "text": [
      "<class 'pandas.core.frame.DataFrame'>\n",
      "Int64Index: 633 entries, 0 to 646\n",
      "Data columns (total 7 columns):\n",
      " #   Column         Non-Null Count  Dtype         \n",
      "---  ------         --------------  -----         \n",
      " 0   horaInicio     633 non-null    datetime64[ns]\n",
      " 1   horaConclusao  633 non-null    datetime64[ns]\n",
      " 2   data           633 non-null    datetime64[ns]\n",
      " 3   aula           633 non-null    object        \n",
      " 4   hora           633 non-null    datetime64[ns]\n",
      " 5   pessoas        633 non-null    object        \n",
      " 6   aula2          633 non-null    object        \n",
      "dtypes: datetime64[ns](4), object(3)\n",
      "memory usage: 39.6+ KB\n"
     ]
    }
   ],
   "source": [
    "dfAG.info()"
   ]
  },
  {
   "cell_type": "markdown",
   "metadata": {},
   "source": [
    "### Converter hora para tempo"
   ]
  },
  {
   "cell_type": "markdown",
   "metadata": {},
   "source": [
    "### Calcular só hora"
   ]
  },
  {
   "cell_type": "code",
   "execution_count": 605,
   "metadata": {},
   "outputs": [],
   "source": [
    "#Vamos retirar as meias horas\n",
    "dfAG['hora']=dfAG['hora'].apply(lambda x: x.hour)"
   ]
  },
  {
   "cell_type": "markdown",
   "metadata": {},
   "source": [
    "### Calcular o dia da semana"
   ]
  },
  {
   "cell_type": "code",
   "execution_count": 606,
   "metadata": {},
   "outputs": [],
   "source": [
    "# Por extenso\n",
    "#dfSEAlv['diaSemana']=dfSEAlv['data'].apply(lambda x: x.day_name(locale='pt'))\n",
    "# Vamos calcular o dia da semana 0 é segunda\n",
    "dfAG['diaSemana']=dfAG['data'].apply(lambda x: x.weekday())"
   ]
  },
  {
   "cell_type": "markdown",
   "metadata": {},
   "source": [
    "### Tratar aulas"
   ]
  },
  {
   "cell_type": "code",
   "execution_count": 607,
   "metadata": {},
   "outputs": [
    {
     "data": {
      "text/plain": [
       "array(['POPEYE', 'Speeding', 'Gain - Glúteo e Pernas', 'Pilates',\n",
       "       'Body Pump ', 'Step', 'Speeding ', 'SOS celulite ', 'Sos ABS',\n",
       "       'Sos bunda', 'Sos abs', 'Body Balance', 'Sos abs ', 'Endurance',\n",
       "       'BodyCombat ', 'Sos popeye', 'Zumba', 'BodyPump', 'SOS Bunda',\n",
       "       'Bunda', '100 Pança ', 'Bodybalance ', 'Sos bunda ', 'Endurance ',\n",
       "       'SOS Popeye', 'SOS ABS', 'Bunda ', 'Popeye', 'Body Combate ',\n",
       "       'SOS Celulite', 'SOS bunda ', 'Body Combat', 'Gain',\n",
       "       'Sos celulite ', '100stress ', '100 Stress', 'Gain ', 'SOS Abs',\n",
       "       'Dos celulite', 'Body Pump', 'Body combat', 'sos abs', 'sos bunda',\n",
       "       'SOS BUNDA', 'SOS POPEYE', 'Gain- pernas e glúteo ', 'Sos Bunda',\n",
       "       '100 Stress ', 'Body Combat ', 'sos abs ', '100Stress',\n",
       "       'SOS Celulite ', '100Stress ', '100stress', '100pança ',\n",
       "       'Body pump', '100STRESS', 'Bodycombat', 'Pilates ',\n",
       "       'SOS Speeding ', 'body combat', 'sos popeye', 'BODY PUMP',\n",
       "       'SOS SPEEDING', 'GAIN', 'SPEEDING', 'ENDURANCE', 'Combat', 'Pump',\n",
       "       'Sos Speeding ', 'Step ', 'speeding', 'SOS celulite', 'SPEEDING ',\n",
       "       'SOS Bunda ', 'BUNDA', '100 Panca', 'BodyBalance', 'Bodypump ',\n",
       "       'SOS popeye', 'endurance', 's.o.s abs ', '100 stress ',\n",
       "       '100Pança ', 's.o.s abs', 'Body Balance ', 'ENDURANCE ',\n",
       "       'SOS CELULITE', '-', 'SOS CELULITE ', 'B PUMP',\n",
       "       'Gain- ombros e abdominal', 'sos speeding', '0', 'BodyPump ',\n",
       "       '100 PANCA', 'SOS ABS ', 'pilates', '100 stress',\n",
       "       'GAIN-COSTA E BICIPITE', 'gain', 'SOS bunda', 'B Pump ',\n",
       "       'Sos speeding ', 'speedimg', 'soscelulite'], dtype=object)"
      ]
     },
     "execution_count": 607,
     "metadata": {},
     "output_type": "execute_result"
    }
   ],
   "source": [
    "dfAG.aula.unique()"
   ]
  },
  {
   "cell_type": "code",
   "execution_count": 608,
   "metadata": {},
   "outputs": [],
   "source": [
    "#Limpar dados mal inseridos\n",
    "['Sós abs', 'Sós bunda', '100 panca', 'Sos abs', 'Bodybalance','Bunda', 'Sos bunda', 'Bodypump', 'Step', 'Sós popey ',\n",
    " 'Body Combat', 'Pilates', 'Endurance ', 'Sos speeding ','Sos bunda ', 'Sos abs ', 'Popeye', 'Extreme', 'Speeding',\n",
    " 'Body pump', 'Endurance', 'Sos speeding', 'Speeding ','Sem stress ', '100stress', 'Gain', 'Body pump ', 'sos abs',\n",
    " 'Sós bunda ', 'Sos celulite', 'Bodypump ', 'Sos popeye','Enfurance', '100Pança', 'Bodybalance ', '100 pança',\n",
    " 'Body combat', 'Sos Popeye', 'Soso abs', 'Body Pump','Body balance', '100panca ', 'Sem stress', '100panca', 'Zumba',\n",
    " 'Xtreme', '100 pança ', 'Sós popey', 'Bodycombat ', '100 stress ','Popey', 'Speedng', 'Sos celulite ', 'Sos ABS', '100 stress',\n",
    " 'Gain ', 'Sós  abs', 'Bodupump', '(Sos abs) (com sos bunda)']\n",
    "#lambda <args> : <return Value> if <condition > ( <return value > if <condition> else <return value>)\n",
    "dfAG['aula']=dfAG['aula'].apply(lambda x:str(x).lower())\n",
    "dfAG['aula']=dfAG['aula'].apply(lambda x:str(x).replace(' ',''))\n",
    "dfAG['aula']=dfAG['aula'].apply(lambda x:str(x).replace('sós','sos'))\n",
    "dfAG['aula']=dfAG['aula'].apply(lambda x:str(x).replace('enfurance','endurance'))\n",
    "dfAG['aula']=dfAG['aula'].apply(lambda x:str(x).replace('sem','100'))\n",
    "dfAG['aula']=dfAG['aula'].apply(lambda x:str(x).replace('panca','pança'))\n",
    "dfAG['aula']=dfAG['aula'].apply(lambda x:str(x).replace('popey','popeye'))\n",
    "dfAG['aula']=dfAG['aula'].apply(lambda x:str(x).replace('popeyee','popeye'))\n",
    "dfAG['aula']=dfAG['aula'].apply(lambda x:str(x).replace('xtreme','extreme'))\n",
    "dfAG['aula']=dfAG['aula'].apply(lambda x:str(x).replace('speedng','speeding'))\n",
    "dfAG['aula']=dfAG['aula'].apply(lambda x:str(x).replace('popeyeee','popeye'))\n",
    "dfAG['aula']=dfAG['aula'].apply(lambda x:str(x).replace('eeeeextreme','extreme'))\n",
    "dfAG['aula']=dfAG['aula'].apply(lambda x:str(x).replace('eeeextreme','extreme'))\n",
    "dfAG['aula']=dfAG['aula'].apply(lambda x:str(x).replace('eextreme','extreme'))\n",
    "dfAG['aula']=dfAG['aula'].apply(lambda x:str(x).replace('(sosabs)(comsosbunda)','sosabs'))\n",
    "dfAG['aula']=dfAG['aula'].apply(lambda x:str(x).replace('sosspeeding','speeding'))\n",
    "dfAG['aula']=dfAG['aula'].apply(lambda x:str(x).replace('bodupump','bodypump'))\n",
    "dfAG['aula']=dfAG['aula'].apply(lambda x:str(x).replace('sospopeyee','sospopeye'))\n",
    "dfAG['aula']=dfAG['aula'].apply(lambda x:str(x).replace('bodypumpp','bodypump'))\n",
    "dfAG['aula']=dfAG['aula'].apply(lambda x:str(x).replace('popeye','sospopeye'))\n",
    "dfAG['aula']=dfAG['aula'].apply(lambda x:str(x).replace('sospopeyee','sospopeye'))\n",
    "dfAG['aula']=dfAG['aula'].apply(lambda x:str(x).replace('sossospopeye','sospopeye'))\n",
    "dfAG['aula']=dfAG['aula'].apply(lambda x:str(x).replace('sossospopeye','sospopeye'))\n"
   ]
  },
  {
   "cell_type": "code",
   "execution_count": 609,
   "metadata": {},
   "outputs": [
    {
     "data": {
      "text/plain": [
       "sosabs                   125\n",
       "sosbunda                  99\n",
       "speeding                  79\n",
       "sospopeye                 46\n",
       "endurance                 44\n",
       "bodypump                  30\n",
       "gain                      27\n",
       "pilates                   27\n",
       "100stress                 27\n",
       "bodycombat                21\n",
       "soscelulite               20\n",
       "zumba                     19\n",
       "step                      15\n",
       "100pança                  12\n",
       "bodybalance               10\n",
       "bunda                      9\n",
       "-                          5\n",
       "bpump                      4\n",
       "s.o.sabs                   3\n",
       "combat                     2\n",
       "0                          1\n",
       "gain-pernaseglúteo         1\n",
       "pump                       1\n",
       "gain-costaebicipite        1\n",
       "bodycombate                1\n",
       "speedimg                   1\n",
       "gain-ombroseabdominal      1\n",
       "doscelulite                1\n",
       "gain-glúteoepernas         1\n",
       "Name: aula, dtype: int64"
      ]
     },
     "execution_count": 609,
     "metadata": {},
     "output_type": "execute_result"
    }
   ],
   "source": [
    "dfAG.aula.value_counts()"
   ]
  },
  {
   "cell_type": "code",
   "execution_count": 610,
   "metadata": {},
   "outputs": [
    {
     "data": {
      "text/plain": [
       "array(['sospopeye', 'speeding', 'gain-glúteoepernas', 'pilates',\n",
       "       'bodypump', 'step', 'soscelulite', 'sosabs', 'sosbunda',\n",
       "       'bodybalance', 'endurance', 'bodycombat', 'zumba', 'bunda',\n",
       "       '100pança', 'bodycombate', 'gain', '100stress', 'doscelulite',\n",
       "       'gain-pernaseglúteo', 'combat', 'pump', 's.o.sabs', '-', 'bpump',\n",
       "       'gain-ombroseabdominal', '0', 'gain-costaebicipite', 'speedimg'],\n",
       "      dtype=object)"
      ]
     },
     "execution_count": 610,
     "metadata": {},
     "output_type": "execute_result"
    }
   ],
   "source": [
    "dfAG.aula.unique()"
   ]
  },
  {
   "cell_type": "code",
   "execution_count": 611,
   "metadata": {},
   "outputs": [
    {
     "data": {
      "text/plain": [
       "array([0, '100stress', 'soscelulite', 'endurance', 'speeding', 'sosabs',\n",
       "       'sospopeye', 'gain', 'sosbunda', 'pilates', 'bodycombat',\n",
       "       'bodypump', 'zumba', 'bodybalance', 'bunda', '100pança', 'step'],\n",
       "      dtype=object)"
      ]
     },
     "execution_count": 611,
     "metadata": {},
     "output_type": "execute_result"
    }
   ],
   "source": [
    "dfAG.aula2.unique()"
   ]
  },
  {
   "cell_type": "code",
   "execution_count": 612,
   "metadata": {},
   "outputs": [],
   "source": [
    "for index, row in dfAG.iterrows():\n",
    "    if row.aula2 != 0:\n",
    "        dfAG.at[index,'aula'] = row.aula2    "
   ]
  },
  {
   "cell_type": "code",
   "execution_count": 613,
   "metadata": {},
   "outputs": [
    {
     "data": {
      "text/html": [
       "<div>\n",
       "<style scoped>\n",
       "    .dataframe tbody tr th:only-of-type {\n",
       "        vertical-align: middle;\n",
       "    }\n",
       "\n",
       "    .dataframe tbody tr th {\n",
       "        vertical-align: top;\n",
       "    }\n",
       "\n",
       "    .dataframe thead th {\n",
       "        text-align: right;\n",
       "    }\n",
       "</style>\n",
       "<table border=\"1\" class=\"dataframe\">\n",
       "  <thead>\n",
       "    <tr style=\"text-align: right;\">\n",
       "      <th></th>\n",
       "      <th>horaInicio</th>\n",
       "      <th>horaConclusao</th>\n",
       "      <th>data</th>\n",
       "      <th>aula</th>\n",
       "      <th>hora</th>\n",
       "      <th>pessoas</th>\n",
       "      <th>aula2</th>\n",
       "      <th>diaSemana</th>\n",
       "    </tr>\n",
       "  </thead>\n",
       "  <tbody>\n",
       "    <tr>\n",
       "      <th>0</th>\n",
       "      <td>2019-12-04 10:31:12</td>\n",
       "      <td>2019-12-04 12:10:01</td>\n",
       "      <td>2019-12-04</td>\n",
       "      <td>sospopeye</td>\n",
       "      <td>15</td>\n",
       "      <td>10</td>\n",
       "      <td>0</td>\n",
       "      <td>2</td>\n",
       "    </tr>\n",
       "    <tr>\n",
       "      <th>2</th>\n",
       "      <td>2019-12-09 09:03:23</td>\n",
       "      <td>2019-12-09 09:03:51</td>\n",
       "      <td>2019-12-09</td>\n",
       "      <td>speeding</td>\n",
       "      <td>8</td>\n",
       "      <td>6</td>\n",
       "      <td>0</td>\n",
       "      <td>0</td>\n",
       "    </tr>\n",
       "    <tr>\n",
       "      <th>3</th>\n",
       "      <td>2019-12-09 09:44:05</td>\n",
       "      <td>2019-12-09 09:44:41</td>\n",
       "      <td>2019-12-09</td>\n",
       "      <td>gain-glúteoepernas</td>\n",
       "      <td>9</td>\n",
       "      <td>4</td>\n",
       "      <td>0</td>\n",
       "      <td>0</td>\n",
       "    </tr>\n",
       "    <tr>\n",
       "      <th>4</th>\n",
       "      <td>2019-12-09 11:33:17</td>\n",
       "      <td>2019-12-09 11:33:39</td>\n",
       "      <td>2019-12-09</td>\n",
       "      <td>pilates</td>\n",
       "      <td>10</td>\n",
       "      <td>3</td>\n",
       "      <td>0</td>\n",
       "      <td>0</td>\n",
       "    </tr>\n",
       "    <tr>\n",
       "      <th>5</th>\n",
       "      <td>2019-12-09 11:40:10</td>\n",
       "      <td>2019-12-09 11:40:33</td>\n",
       "      <td>2019-12-09</td>\n",
       "      <td>bodypump</td>\n",
       "      <td>10</td>\n",
       "      <td>3</td>\n",
       "      <td>0</td>\n",
       "      <td>0</td>\n",
       "    </tr>\n",
       "  </tbody>\n",
       "</table>\n",
       "</div>"
      ],
      "text/plain": [
       "           horaInicio       horaConclusao       data                aula  \\\n",
       "0 2019-12-04 10:31:12 2019-12-04 12:10:01 2019-12-04           sospopeye   \n",
       "2 2019-12-09 09:03:23 2019-12-09 09:03:51 2019-12-09            speeding   \n",
       "3 2019-12-09 09:44:05 2019-12-09 09:44:41 2019-12-09  gain-glúteoepernas   \n",
       "4 2019-12-09 11:33:17 2019-12-09 11:33:39 2019-12-09             pilates   \n",
       "5 2019-12-09 11:40:10 2019-12-09 11:40:33 2019-12-09            bodypump   \n",
       "\n",
       "   hora pessoas aula2  diaSemana  \n",
       "0    15      10     0          2  \n",
       "2     8       6     0          0  \n",
       "3     9       4     0          0  \n",
       "4    10       3     0          0  \n",
       "5    10       3     0          0  "
      ]
     },
     "execution_count": 613,
     "metadata": {},
     "output_type": "execute_result"
    }
   ],
   "source": [
    "dfAG.head()"
   ]
  },
  {
   "cell_type": "code",
   "execution_count": 614,
   "metadata": {},
   "outputs": [
    {
     "data": {
      "text/html": [
       "<div>\n",
       "<style scoped>\n",
       "    .dataframe tbody tr th:only-of-type {\n",
       "        vertical-align: middle;\n",
       "    }\n",
       "\n",
       "    .dataframe tbody tr th {\n",
       "        vertical-align: top;\n",
       "    }\n",
       "\n",
       "    .dataframe thead th {\n",
       "        text-align: right;\n",
       "    }\n",
       "</style>\n",
       "<table border=\"1\" class=\"dataframe\">\n",
       "  <thead>\n",
       "    <tr style=\"text-align: right;\">\n",
       "      <th></th>\n",
       "      <th>horaInicio</th>\n",
       "      <th>horaConclusao</th>\n",
       "      <th>data</th>\n",
       "      <th>aula</th>\n",
       "      <th>hora</th>\n",
       "      <th>pessoas</th>\n",
       "      <th>aula2</th>\n",
       "      <th>diaSemana</th>\n",
       "    </tr>\n",
       "  </thead>\n",
       "  <tbody>\n",
       "    <tr>\n",
       "      <th>642</th>\n",
       "      <td>2020-01-27 10:17:11</td>\n",
       "      <td>2020-01-27 10:51:59</td>\n",
       "      <td>2020-01-27</td>\n",
       "      <td>step</td>\n",
       "      <td>9</td>\n",
       "      <td>9</td>\n",
       "      <td>step</td>\n",
       "      <td>0</td>\n",
       "    </tr>\n",
       "    <tr>\n",
       "      <th>643</th>\n",
       "      <td>2020-01-27 10:52:02</td>\n",
       "      <td>2020-01-27 10:52:24</td>\n",
       "      <td>2020-01-27</td>\n",
       "      <td>bodypump</td>\n",
       "      <td>10</td>\n",
       "      <td>7</td>\n",
       "      <td>bodypump</td>\n",
       "      <td>0</td>\n",
       "    </tr>\n",
       "    <tr>\n",
       "      <th>644</th>\n",
       "      <td>2020-01-27 11:30:19</td>\n",
       "      <td>2020-01-27 11:30:39</td>\n",
       "      <td>2020-01-27</td>\n",
       "      <td>pilates</td>\n",
       "      <td>10</td>\n",
       "      <td>7</td>\n",
       "      <td>pilates</td>\n",
       "      <td>0</td>\n",
       "    </tr>\n",
       "    <tr>\n",
       "      <th>645</th>\n",
       "      <td>2020-01-27 07:59:12</td>\n",
       "      <td>2020-01-27 13:26:20</td>\n",
       "      <td>2020-01-27</td>\n",
       "      <td>speeding</td>\n",
       "      <td>12</td>\n",
       "      <td>7</td>\n",
       "      <td>speeding</td>\n",
       "      <td>0</td>\n",
       "    </tr>\n",
       "    <tr>\n",
       "      <th>646</th>\n",
       "      <td>2020-01-27 13:26:22</td>\n",
       "      <td>2020-01-27 13:26:50</td>\n",
       "      <td>2020-01-27</td>\n",
       "      <td>soscelulite</td>\n",
       "      <td>13</td>\n",
       "      <td>4</td>\n",
       "      <td>soscelulite</td>\n",
       "      <td>0</td>\n",
       "    </tr>\n",
       "  </tbody>\n",
       "</table>\n",
       "</div>"
      ],
      "text/plain": [
       "             horaInicio       horaConclusao       data         aula  hora  \\\n",
       "642 2020-01-27 10:17:11 2020-01-27 10:51:59 2020-01-27         step     9   \n",
       "643 2020-01-27 10:52:02 2020-01-27 10:52:24 2020-01-27     bodypump    10   \n",
       "644 2020-01-27 11:30:19 2020-01-27 11:30:39 2020-01-27      pilates    10   \n",
       "645 2020-01-27 07:59:12 2020-01-27 13:26:20 2020-01-27     speeding    12   \n",
       "646 2020-01-27 13:26:22 2020-01-27 13:26:50 2020-01-27  soscelulite    13   \n",
       "\n",
       "    pessoas        aula2  diaSemana  \n",
       "642       9         step          0  \n",
       "643       7     bodypump          0  \n",
       "644       7      pilates          0  \n",
       "645       7     speeding          0  \n",
       "646       4  soscelulite          0  "
      ]
     },
     "execution_count": 614,
     "metadata": {},
     "output_type": "execute_result"
    }
   ],
   "source": [
    "dfAG.tail()"
   ]
  },
  {
   "cell_type": "code",
   "execution_count": 615,
   "metadata": {},
   "outputs": [
    {
     "data": {
      "text/plain": [
       "array(['sospopeye', 'speeding', 'gain-glúteoepernas', 'pilates',\n",
       "       'bodypump', 'step', 'soscelulite', 'sosabs', 'sosbunda',\n",
       "       'bodybalance', 'endurance', 'bodycombat', 'zumba', 'bunda',\n",
       "       '100pança', 'bodycombate', 'gain', '100stress', 'doscelulite',\n",
       "       'gain-pernaseglúteo', 'combat', 'pump', 's.o.sabs'], dtype=object)"
      ]
     },
     "execution_count": 615,
     "metadata": {},
     "output_type": "execute_result"
    }
   ],
   "source": [
    "dfAG.aula.unique()"
   ]
  },
  {
   "cell_type": "code",
   "execution_count": 616,
   "metadata": {},
   "outputs": [],
   "source": [
    "dfAG['aula']=dfAG['aula'].apply(lambda x:str(x).replace('s.o.sabs','sosabs'))\n",
    "dfAG['aula']=dfAG['aula'].apply(lambda x:str(x).replace('gain-pernaseglúteo','gain-glúteoepernas'))"
   ]
  },
  {
   "cell_type": "code",
   "execution_count": 617,
   "metadata": {},
   "outputs": [
    {
     "data": {
      "text/plain": [
       "array(['sospopeye', 'speeding', 'gain-glúteoepernas', 'pilates',\n",
       "       'bodypump', 'step', 'soscelulite', 'sosabs', 'sosbunda',\n",
       "       'bodybalance', 'endurance', 'bodycombat', 'zumba', 'bunda',\n",
       "       '100pança', 'bodycombate', 'gain', '100stress', 'doscelulite',\n",
       "       'combat', 'pump'], dtype=object)"
      ]
     },
     "execution_count": 617,
     "metadata": {},
     "output_type": "execute_result"
    }
   ],
   "source": [
    "dfAG.aula.unique()"
   ]
  },
  {
   "cell_type": "code",
   "execution_count": 618,
   "metadata": {},
   "outputs": [
    {
     "data": {
      "text/plain": [
       "sosabs                136\n",
       "sosbunda               97\n",
       "speeding               78\n",
       "sospopeye              47\n",
       "endurance              45\n",
       "bodypump               34\n",
       "gain                   29\n",
       "100stress              27\n",
       "pilates                27\n",
       "bodycombat             21\n",
       "soscelulite            20\n",
       "zumba                  19\n",
       "step                   15\n",
       "100pança               12\n",
       "bodybalance            10\n",
       "bunda                   9\n",
       "combat                  2\n",
       "gain-glúteoepernas      2\n",
       "doscelulite             1\n",
       "pump                    1\n",
       "bodycombate             1\n",
       "Name: aula, dtype: int64"
      ]
     },
     "execution_count": 618,
     "metadata": {},
     "output_type": "execute_result"
    }
   ],
   "source": [
    "dfAG.aula.value_counts()"
   ]
  },
  {
   "cell_type": "code",
   "execution_count": 619,
   "metadata": {},
   "outputs": [],
   "source": [
    "# Vamos agregar aulas\n",
    "dfAG['aula']=dfAG['aula'].apply(lambda x:str(x).replace('bodycombate','bodycombat'))\n",
    "dfAG['aula']=dfAG['aula'].apply(lambda x:str(x).replace('doscelulite','soscelulite'))"
   ]
  },
  {
   "cell_type": "code",
   "execution_count": 620,
   "metadata": {},
   "outputs": [],
   "source": [
    "dfAG.aula=dfAG.aula.loc[dfAG.aula != 'pump']\n",
    "dfAG.aula=dfAG.aula.loc[dfAG.aula != 'combat']\n",
    "dfAG.aula=dfAG.aula.loc[dfAG.aula != 'bunda']\n",
    "dfAG.aula=dfAG.aula.loc[dfAG.aula != 'gain-glúteoepernas']"
   ]
  },
  {
   "cell_type": "markdown",
   "metadata": {
    "toc-hr-collapsed": true
   },
   "source": [
    "## Analise inicial"
   ]
  },
  {
   "cell_type": "code",
   "execution_count": 621,
   "metadata": {},
   "outputs": [
    {
     "name": "stdout",
     "output_type": "stream",
     "text": [
      "Data inicio:  2019-12-04 00:00:00 Data fim: 2020-01-29 00:00:00\n"
     ]
    }
   ],
   "source": [
    "print('Data inicio: ',dfAG.data.min(),'Data fim:',dfAG.data.max())"
   ]
  },
  {
   "cell_type": "markdown",
   "metadata": {},
   "source": [
    "Os dados são referentes ao período entre data inicio e data fim. Vamos confirmar algums dados"
   ]
  },
  {
   "cell_type": "code",
   "execution_count": 622,
   "metadata": {},
   "outputs": [
    {
     "data": {
      "text/plain": [
       "7      13\n",
       "8      14\n",
       "9      61\n",
       "10     78\n",
       "11     20\n",
       "12     17\n",
       "13     24\n",
       "15     23\n",
       "16     13\n",
       "17     50\n",
       "18    116\n",
       "19    126\n",
       "20     78\n",
       "Name: hora, dtype: int64"
      ]
     },
     "execution_count": 622,
     "metadata": {},
     "output_type": "execute_result"
    }
   ],
   "source": [
    "#Vamos calcular totais e ordenar por hora\n",
    "dfAG.hora.value_counts().sort_index()"
   ]
  },
  {
   "cell_type": "code",
   "execution_count": 623,
   "metadata": {},
   "outputs": [],
   "source": [
    "cols = ['aula','pessoas']"
   ]
  },
  {
   "cell_type": "markdown",
   "metadata": {},
   "source": [
    "### pessoas por hora"
   ]
  },
  {
   "cell_type": "code",
   "execution_count": 624,
   "metadata": {},
   "outputs": [
    {
     "name": "stdout",
     "output_type": "stream",
     "text": [
      "<class 'pandas.core.frame.DataFrame'>\n",
      "Int64Index: 633 entries, 0 to 646\n",
      "Data columns (total 8 columns):\n",
      " #   Column         Non-Null Count  Dtype         \n",
      "---  ------         --------------  -----         \n",
      " 0   horaInicio     633 non-null    datetime64[ns]\n",
      " 1   horaConclusao  633 non-null    datetime64[ns]\n",
      " 2   data           633 non-null    datetime64[ns]\n",
      " 3   aula           619 non-null    object        \n",
      " 4   hora           633 non-null    int64         \n",
      " 5   pessoas        633 non-null    object        \n",
      " 6   aula2          633 non-null    object        \n",
      " 7   diaSemana      633 non-null    int64         \n",
      "dtypes: datetime64[ns](3), int64(2), object(3)\n",
      "memory usage: 64.5+ KB\n"
     ]
    }
   ],
   "source": [
    "dfAG.info()"
   ]
  },
  {
   "cell_type": "code",
   "execution_count": 625,
   "metadata": {},
   "outputs": [
    {
     "data": {
      "text/plain": [
       "array(['10', '6', '4', '3', '8', '11', '0', '14', '7', '5', '16', '18',\n",
       "       '25', '13', '17', '1', '9', '20', '12', '2', '21', '15', '23',\n",
       "       '24', '32', '22', '30', '28', '27', '37', '29', '26', '19', 'G5',\n",
       "       'Endurance ', '35', '33'], dtype=object)"
      ]
     },
     "execution_count": 625,
     "metadata": {},
     "output_type": "execute_result"
    }
   ],
   "source": [
    "dfAG.pessoas.unique()"
   ]
  },
  {
   "cell_type": "code",
   "execution_count": 626,
   "metadata": {},
   "outputs": [],
   "source": [
    "dfAG.pessoas=pd.to_numeric(dfAG['pessoas'], errors='coerce',downcast='integer')\n",
    "#pd.to_numeric(dfAG['pessoas'], errors='coerce')\n",
    "#dfAG.dropna(subset=['pessoas'],inplace=True)"
   ]
  },
  {
   "cell_type": "code",
   "execution_count": 628,
   "metadata": {},
   "outputs": [
    {
     "data": {
      "text/html": [
       "<div>\n",
       "<style scoped>\n",
       "    .dataframe tbody tr th:only-of-type {\n",
       "        vertical-align: middle;\n",
       "    }\n",
       "\n",
       "    .dataframe tbody tr th {\n",
       "        vertical-align: top;\n",
       "    }\n",
       "\n",
       "    .dataframe thead tr th {\n",
       "        text-align: left;\n",
       "    }\n",
       "\n",
       "    .dataframe thead tr:last-of-type th {\n",
       "        text-align: right;\n",
       "    }\n",
       "</style>\n",
       "<table border=\"1\" class=\"dataframe\">\n",
       "  <thead>\n",
       "    <tr>\n",
       "      <th></th>\n",
       "      <th colspan=\"7\" halign=\"left\">pessoas</th>\n",
       "    </tr>\n",
       "    <tr>\n",
       "      <th></th>\n",
       "      <th>count</th>\n",
       "      <th>sum</th>\n",
       "      <th>mean</th>\n",
       "      <th>median</th>\n",
       "      <th>std</th>\n",
       "      <th>min</th>\n",
       "      <th>max</th>\n",
       "    </tr>\n",
       "    <tr>\n",
       "      <th>hora</th>\n",
       "      <th></th>\n",
       "      <th></th>\n",
       "      <th></th>\n",
       "      <th></th>\n",
       "      <th></th>\n",
       "      <th></th>\n",
       "      <th></th>\n",
       "    </tr>\n",
       "  </thead>\n",
       "  <tbody>\n",
       "    <tr>\n",
       "      <th>7</th>\n",
       "      <td>13</td>\n",
       "      <td>60.0</td>\n",
       "      <td>4.615385</td>\n",
       "      <td>4.0</td>\n",
       "      <td>3.594868</td>\n",
       "      <td>0.0</td>\n",
       "      <td>12.0</td>\n",
       "    </tr>\n",
       "    <tr>\n",
       "      <th>8</th>\n",
       "      <td>14</td>\n",
       "      <td>105.0</td>\n",
       "      <td>7.500000</td>\n",
       "      <td>7.5</td>\n",
       "      <td>2.210117</td>\n",
       "      <td>4.0</td>\n",
       "      <td>12.0</td>\n",
       "    </tr>\n",
       "    <tr>\n",
       "      <th>9</th>\n",
       "      <td>61</td>\n",
       "      <td>451.0</td>\n",
       "      <td>7.393443</td>\n",
       "      <td>7.0</td>\n",
       "      <td>3.023677</td>\n",
       "      <td>3.0</td>\n",
       "      <td>15.0</td>\n",
       "    </tr>\n",
       "    <tr>\n",
       "      <th>10</th>\n",
       "      <td>78</td>\n",
       "      <td>693.0</td>\n",
       "      <td>8.884615</td>\n",
       "      <td>7.5</td>\n",
       "      <td>5.460557</td>\n",
       "      <td>0.0</td>\n",
       "      <td>23.0</td>\n",
       "    </tr>\n",
       "    <tr>\n",
       "      <th>11</th>\n",
       "      <td>20</td>\n",
       "      <td>253.0</td>\n",
       "      <td>12.650000</td>\n",
       "      <td>11.5</td>\n",
       "      <td>6.643358</td>\n",
       "      <td>5.0</td>\n",
       "      <td>32.0</td>\n",
       "    </tr>\n",
       "    <tr>\n",
       "      <th>12</th>\n",
       "      <td>17</td>\n",
       "      <td>89.0</td>\n",
       "      <td>5.235294</td>\n",
       "      <td>5.0</td>\n",
       "      <td>2.795743</td>\n",
       "      <td>0.0</td>\n",
       "      <td>9.0</td>\n",
       "    </tr>\n",
       "    <tr>\n",
       "      <th>13</th>\n",
       "      <td>23</td>\n",
       "      <td>126.0</td>\n",
       "      <td>5.478261</td>\n",
       "      <td>6.0</td>\n",
       "      <td>2.694600</td>\n",
       "      <td>0.0</td>\n",
       "      <td>10.0</td>\n",
       "    </tr>\n",
       "    <tr>\n",
       "      <th>15</th>\n",
       "      <td>23</td>\n",
       "      <td>139.0</td>\n",
       "      <td>6.043478</td>\n",
       "      <td>5.0</td>\n",
       "      <td>3.723125</td>\n",
       "      <td>2.0</td>\n",
       "      <td>17.0</td>\n",
       "    </tr>\n",
       "    <tr>\n",
       "      <th>16</th>\n",
       "      <td>13</td>\n",
       "      <td>61.0</td>\n",
       "      <td>4.692308</td>\n",
       "      <td>5.0</td>\n",
       "      <td>2.358835</td>\n",
       "      <td>0.0</td>\n",
       "      <td>8.0</td>\n",
       "    </tr>\n",
       "    <tr>\n",
       "      <th>17</th>\n",
       "      <td>50</td>\n",
       "      <td>468.0</td>\n",
       "      <td>9.360000</td>\n",
       "      <td>9.0</td>\n",
       "      <td>4.758494</td>\n",
       "      <td>1.0</td>\n",
       "      <td>25.0</td>\n",
       "    </tr>\n",
       "    <tr>\n",
       "      <th>18</th>\n",
       "      <td>116</td>\n",
       "      <td>1448.0</td>\n",
       "      <td>12.482759</td>\n",
       "      <td>11.0</td>\n",
       "      <td>7.693569</td>\n",
       "      <td>0.0</td>\n",
       "      <td>35.0</td>\n",
       "    </tr>\n",
       "    <tr>\n",
       "      <th>19</th>\n",
       "      <td>125</td>\n",
       "      <td>1633.0</td>\n",
       "      <td>13.064000</td>\n",
       "      <td>10.0</td>\n",
       "      <td>7.577284</td>\n",
       "      <td>3.0</td>\n",
       "      <td>37.0</td>\n",
       "    </tr>\n",
       "    <tr>\n",
       "      <th>20</th>\n",
       "      <td>78</td>\n",
       "      <td>675.0</td>\n",
       "      <td>8.653846</td>\n",
       "      <td>8.5</td>\n",
       "      <td>4.676070</td>\n",
       "      <td>1.0</td>\n",
       "      <td>21.0</td>\n",
       "    </tr>\n",
       "  </tbody>\n",
       "</table>\n",
       "</div>"
      ],
      "text/plain": [
       "     pessoas                                               \n",
       "       count     sum       mean median       std  min   max\n",
       "hora                                                       \n",
       "7         13    60.0   4.615385    4.0  3.594868  0.0  12.0\n",
       "8         14   105.0   7.500000    7.5  2.210117  4.0  12.0\n",
       "9         61   451.0   7.393443    7.0  3.023677  3.0  15.0\n",
       "10        78   693.0   8.884615    7.5  5.460557  0.0  23.0\n",
       "11        20   253.0  12.650000   11.5  6.643358  5.0  32.0\n",
       "12        17    89.0   5.235294    5.0  2.795743  0.0   9.0\n",
       "13        23   126.0   5.478261    6.0  2.694600  0.0  10.0\n",
       "15        23   139.0   6.043478    5.0  3.723125  2.0  17.0\n",
       "16        13    61.0   4.692308    5.0  2.358835  0.0   8.0\n",
       "17        50   468.0   9.360000    9.0  4.758494  1.0  25.0\n",
       "18       116  1448.0  12.482759   11.0  7.693569  0.0  35.0\n",
       "19       125  1633.0  13.064000   10.0  7.577284  3.0  37.0\n",
       "20        78   675.0   8.653846    8.5  4.676070  1.0  21.0"
      ]
     },
     "execution_count": 628,
     "metadata": {},
     "output_type": "execute_result"
    }
   ],
   "source": [
    "dfAG.groupby('hora').agg({'pessoas':['count','sum','mean','median','std','min','max']})"
   ]
  },
  {
   "cell_type": "code",
   "execution_count": 629,
   "metadata": {},
   "outputs": [
    {
     "data": {
      "text/html": [
       "<div>\n",
       "<style scoped>\n",
       "    .dataframe tbody tr th:only-of-type {\n",
       "        vertical-align: middle;\n",
       "    }\n",
       "\n",
       "    .dataframe tbody tr th {\n",
       "        vertical-align: top;\n",
       "    }\n",
       "\n",
       "    .dataframe thead tr th {\n",
       "        text-align: left;\n",
       "    }\n",
       "\n",
       "    .dataframe thead tr:last-of-type th {\n",
       "        text-align: right;\n",
       "    }\n",
       "</style>\n",
       "<table border=\"1\" class=\"dataframe\">\n",
       "  <thead>\n",
       "    <tr>\n",
       "      <th></th>\n",
       "      <th colspan=\"7\" halign=\"left\">pessoas</th>\n",
       "    </tr>\n",
       "    <tr>\n",
       "      <th></th>\n",
       "      <th>count</th>\n",
       "      <th>sum</th>\n",
       "      <th>mean</th>\n",
       "      <th>median</th>\n",
       "      <th>std</th>\n",
       "      <th>min</th>\n",
       "      <th>max</th>\n",
       "    </tr>\n",
       "    <tr>\n",
       "      <th>aula</th>\n",
       "      <th></th>\n",
       "      <th></th>\n",
       "      <th></th>\n",
       "      <th></th>\n",
       "      <th></th>\n",
       "      <th></th>\n",
       "      <th></th>\n",
       "    </tr>\n",
       "  </thead>\n",
       "  <tbody>\n",
       "    <tr>\n",
       "      <th>100pança</th>\n",
       "      <td>12</td>\n",
       "      <td>93.0</td>\n",
       "      <td>7.750000</td>\n",
       "      <td>8.0</td>\n",
       "      <td>3.194455</td>\n",
       "      <td>1.0</td>\n",
       "      <td>12.0</td>\n",
       "    </tr>\n",
       "    <tr>\n",
       "      <th>100stress</th>\n",
       "      <td>27</td>\n",
       "      <td>264.0</td>\n",
       "      <td>9.777778</td>\n",
       "      <td>9.0</td>\n",
       "      <td>4.457779</td>\n",
       "      <td>4.0</td>\n",
       "      <td>18.0</td>\n",
       "    </tr>\n",
       "    <tr>\n",
       "      <th>bodybalance</th>\n",
       "      <td>10</td>\n",
       "      <td>91.0</td>\n",
       "      <td>9.100000</td>\n",
       "      <td>8.5</td>\n",
       "      <td>2.846050</td>\n",
       "      <td>5.0</td>\n",
       "      <td>14.0</td>\n",
       "    </tr>\n",
       "    <tr>\n",
       "      <th>bodycombat</th>\n",
       "      <td>22</td>\n",
       "      <td>261.0</td>\n",
       "      <td>11.863636</td>\n",
       "      <td>11.0</td>\n",
       "      <td>8.078752</td>\n",
       "      <td>3.0</td>\n",
       "      <td>37.0</td>\n",
       "    </tr>\n",
       "    <tr>\n",
       "      <th>bodypump</th>\n",
       "      <td>34</td>\n",
       "      <td>447.0</td>\n",
       "      <td>13.147059</td>\n",
       "      <td>13.5</td>\n",
       "      <td>6.243214</td>\n",
       "      <td>3.0</td>\n",
       "      <td>25.0</td>\n",
       "    </tr>\n",
       "    <tr>\n",
       "      <th>endurance</th>\n",
       "      <td>44</td>\n",
       "      <td>690.0</td>\n",
       "      <td>15.681818</td>\n",
       "      <td>16.0</td>\n",
       "      <td>7.718214</td>\n",
       "      <td>2.0</td>\n",
       "      <td>32.0</td>\n",
       "    </tr>\n",
       "    <tr>\n",
       "      <th>gain</th>\n",
       "      <td>29</td>\n",
       "      <td>322.0</td>\n",
       "      <td>11.103448</td>\n",
       "      <td>11.0</td>\n",
       "      <td>5.734263</td>\n",
       "      <td>2.0</td>\n",
       "      <td>22.0</td>\n",
       "    </tr>\n",
       "    <tr>\n",
       "      <th>pilates</th>\n",
       "      <td>27</td>\n",
       "      <td>325.0</td>\n",
       "      <td>12.037037</td>\n",
       "      <td>11.0</td>\n",
       "      <td>6.566122</td>\n",
       "      <td>3.0</td>\n",
       "      <td>28.0</td>\n",
       "    </tr>\n",
       "    <tr>\n",
       "      <th>sosabs</th>\n",
       "      <td>136</td>\n",
       "      <td>936.0</td>\n",
       "      <td>6.882353</td>\n",
       "      <td>7.0</td>\n",
       "      <td>3.957288</td>\n",
       "      <td>0.0</td>\n",
       "      <td>21.0</td>\n",
       "    </tr>\n",
       "    <tr>\n",
       "      <th>sosbunda</th>\n",
       "      <td>97</td>\n",
       "      <td>532.0</td>\n",
       "      <td>5.484536</td>\n",
       "      <td>5.0</td>\n",
       "      <td>2.806664</td>\n",
       "      <td>0.0</td>\n",
       "      <td>12.0</td>\n",
       "    </tr>\n",
       "    <tr>\n",
       "      <th>soscelulite</th>\n",
       "      <td>20</td>\n",
       "      <td>135.0</td>\n",
       "      <td>6.750000</td>\n",
       "      <td>7.0</td>\n",
       "      <td>2.917732</td>\n",
       "      <td>1.0</td>\n",
       "      <td>13.0</td>\n",
       "    </tr>\n",
       "    <tr>\n",
       "      <th>sospopeye</th>\n",
       "      <td>47</td>\n",
       "      <td>446.0</td>\n",
       "      <td>9.489362</td>\n",
       "      <td>8.0</td>\n",
       "      <td>5.717526</td>\n",
       "      <td>1.0</td>\n",
       "      <td>24.0</td>\n",
       "    </tr>\n",
       "    <tr>\n",
       "      <th>speeding</th>\n",
       "      <td>78</td>\n",
       "      <td>904.0</td>\n",
       "      <td>11.589744</td>\n",
       "      <td>10.0</td>\n",
       "      <td>6.020389</td>\n",
       "      <td>1.0</td>\n",
       "      <td>32.0</td>\n",
       "    </tr>\n",
       "    <tr>\n",
       "      <th>step</th>\n",
       "      <td>15</td>\n",
       "      <td>177.0</td>\n",
       "      <td>11.800000</td>\n",
       "      <td>10.0</td>\n",
       "      <td>5.267149</td>\n",
       "      <td>3.0</td>\n",
       "      <td>21.0</td>\n",
       "    </tr>\n",
       "    <tr>\n",
       "      <th>zumba</th>\n",
       "      <td>19</td>\n",
       "      <td>412.0</td>\n",
       "      <td>21.684211</td>\n",
       "      <td>23.0</td>\n",
       "      <td>8.028094</td>\n",
       "      <td>6.0</td>\n",
       "      <td>35.0</td>\n",
       "    </tr>\n",
       "  </tbody>\n",
       "</table>\n",
       "</div>"
      ],
      "text/plain": [
       "            pessoas                                              \n",
       "              count    sum       mean median       std  min   max\n",
       "aula                                                             \n",
       "100pança         12   93.0   7.750000    8.0  3.194455  1.0  12.0\n",
       "100stress        27  264.0   9.777778    9.0  4.457779  4.0  18.0\n",
       "bodybalance      10   91.0   9.100000    8.5  2.846050  5.0  14.0\n",
       "bodycombat       22  261.0  11.863636   11.0  8.078752  3.0  37.0\n",
       "bodypump         34  447.0  13.147059   13.5  6.243214  3.0  25.0\n",
       "endurance        44  690.0  15.681818   16.0  7.718214  2.0  32.0\n",
       "gain             29  322.0  11.103448   11.0  5.734263  2.0  22.0\n",
       "pilates          27  325.0  12.037037   11.0  6.566122  3.0  28.0\n",
       "sosabs          136  936.0   6.882353    7.0  3.957288  0.0  21.0\n",
       "sosbunda         97  532.0   5.484536    5.0  2.806664  0.0  12.0\n",
       "soscelulite      20  135.0   6.750000    7.0  2.917732  1.0  13.0\n",
       "sospopeye        47  446.0   9.489362    8.0  5.717526  1.0  24.0\n",
       "speeding         78  904.0  11.589744   10.0  6.020389  1.0  32.0\n",
       "step             15  177.0  11.800000   10.0  5.267149  3.0  21.0\n",
       "zumba            19  412.0  21.684211   23.0  8.028094  6.0  35.0"
      ]
     },
     "execution_count": 629,
     "metadata": {},
     "output_type": "execute_result"
    }
   ],
   "source": [
    "dfAG.groupby('aula').agg({'pessoas':['count','sum','mean','median','std','min','max']})"
   ]
  },
  {
   "cell_type": "markdown",
   "metadata": {},
   "source": [
    "### Pessoas alguns indicadores por dia semana\n",
    "\n",
    "0 é segunda-feira 6 é domingo https://pandas.pydata.org/pandas-docs/stable/reference/api/pandas.DatetimeIndex.weekday.html"
   ]
  },
  {
   "cell_type": "code",
   "execution_count": 630,
   "metadata": {},
   "outputs": [
    {
     "data": {
      "text/html": [
       "<div>\n",
       "<style scoped>\n",
       "    .dataframe tbody tr th:only-of-type {\n",
       "        vertical-align: middle;\n",
       "    }\n",
       "\n",
       "    .dataframe tbody tr th {\n",
       "        vertical-align: top;\n",
       "    }\n",
       "\n",
       "    .dataframe thead tr th {\n",
       "        text-align: left;\n",
       "    }\n",
       "\n",
       "    .dataframe thead tr:last-of-type th {\n",
       "        text-align: right;\n",
       "    }\n",
       "</style>\n",
       "<table border=\"1\" class=\"dataframe\">\n",
       "  <thead>\n",
       "    <tr>\n",
       "      <th></th>\n",
       "      <th colspan=\"7\" halign=\"left\">pessoas</th>\n",
       "    </tr>\n",
       "    <tr>\n",
       "      <th></th>\n",
       "      <th>count</th>\n",
       "      <th>sum</th>\n",
       "      <th>mean</th>\n",
       "      <th>median</th>\n",
       "      <th>std</th>\n",
       "      <th>min</th>\n",
       "      <th>max</th>\n",
       "    </tr>\n",
       "    <tr>\n",
       "      <th>diaSemana</th>\n",
       "      <th></th>\n",
       "      <th></th>\n",
       "      <th></th>\n",
       "      <th></th>\n",
       "      <th></th>\n",
       "      <th></th>\n",
       "      <th></th>\n",
       "    </tr>\n",
       "  </thead>\n",
       "  <tbody>\n",
       "    <tr>\n",
       "      <th>0</th>\n",
       "      <td>142</td>\n",
       "      <td>1441.0</td>\n",
       "      <td>10.147887</td>\n",
       "      <td>8.0</td>\n",
       "      <td>7.518249</td>\n",
       "      <td>0.0</td>\n",
       "      <td>37.0</td>\n",
       "    </tr>\n",
       "    <tr>\n",
       "      <th>1</th>\n",
       "      <td>99</td>\n",
       "      <td>964.0</td>\n",
       "      <td>9.737374</td>\n",
       "      <td>9.0</td>\n",
       "      <td>4.799205</td>\n",
       "      <td>0.0</td>\n",
       "      <td>24.0</td>\n",
       "    </tr>\n",
       "    <tr>\n",
       "      <th>2</th>\n",
       "      <td>103</td>\n",
       "      <td>1057.0</td>\n",
       "      <td>10.262136</td>\n",
       "      <td>9.0</td>\n",
       "      <td>6.390804</td>\n",
       "      <td>1.0</td>\n",
       "      <td>32.0</td>\n",
       "    </tr>\n",
       "    <tr>\n",
       "      <th>3</th>\n",
       "      <td>130</td>\n",
       "      <td>1109.0</td>\n",
       "      <td>8.530769</td>\n",
       "      <td>7.0</td>\n",
       "      <td>5.750886</td>\n",
       "      <td>0.0</td>\n",
       "      <td>28.0</td>\n",
       "    </tr>\n",
       "    <tr>\n",
       "      <th>4</th>\n",
       "      <td>104</td>\n",
       "      <td>1025.0</td>\n",
       "      <td>9.855769</td>\n",
       "      <td>8.0</td>\n",
       "      <td>6.642637</td>\n",
       "      <td>0.0</td>\n",
       "      <td>32.0</td>\n",
       "    </tr>\n",
       "    <tr>\n",
       "      <th>5</th>\n",
       "      <td>32</td>\n",
       "      <td>368.0</td>\n",
       "      <td>11.500000</td>\n",
       "      <td>10.5</td>\n",
       "      <td>8.163649</td>\n",
       "      <td>0.0</td>\n",
       "      <td>32.0</td>\n",
       "    </tr>\n",
       "    <tr>\n",
       "      <th>6</th>\n",
       "      <td>21</td>\n",
       "      <td>237.0</td>\n",
       "      <td>11.285714</td>\n",
       "      <td>12.0</td>\n",
       "      <td>4.185007</td>\n",
       "      <td>3.0</td>\n",
       "      <td>18.0</td>\n",
       "    </tr>\n",
       "  </tbody>\n",
       "</table>\n",
       "</div>"
      ],
      "text/plain": [
       "          pessoas                                               \n",
       "            count     sum       mean median       std  min   max\n",
       "diaSemana                                                       \n",
       "0             142  1441.0  10.147887    8.0  7.518249  0.0  37.0\n",
       "1              99   964.0   9.737374    9.0  4.799205  0.0  24.0\n",
       "2             103  1057.0  10.262136    9.0  6.390804  1.0  32.0\n",
       "3             130  1109.0   8.530769    7.0  5.750886  0.0  28.0\n",
       "4             104  1025.0   9.855769    8.0  6.642637  0.0  32.0\n",
       "5              32   368.0  11.500000   10.5  8.163649  0.0  32.0\n",
       "6              21   237.0  11.285714   12.0  4.185007  3.0  18.0"
      ]
     },
     "execution_count": 630,
     "metadata": {},
     "output_type": "execute_result"
    }
   ],
   "source": [
    "dfAG.groupby('diaSemana').agg({'pessoas':['count','sum','mean','median','std','min','max']})"
   ]
  },
  {
   "cell_type": "code",
   "execution_count": 578,
   "metadata": {},
   "outputs": [],
   "source": [
    "cor = ['Accent', 'Accent_r', 'Blues', 'Blues_r', 'BrBG', 'BrBG_r', 'BuGn', 'BuGn_r', 'BuPu', 'BuPu_r', 'CMRmap', \n",
    "       'CMRmap_r', 'Dark2', 'Dark2_r', 'GnBu', 'GnBu_r', 'Greens', 'Greens_r', 'Greys', 'Greys_r', 'OrRd', 'OrRd_r', \n",
    "       'Oranges', 'Oranges_r', 'PRGn', 'PRGn_r', 'Paired', 'Paired_r', 'Pastel1', 'Pastel1_r', 'Pastel2', 'Pastel2_r', \n",
    "       'PiYG', 'PiYG_r', 'PuBu', 'PuBuGn', 'PuBuGn_r', 'PuBu_r', 'PuOr', 'PuOr_r', 'PuRd', 'PuRd_r', 'Purples', 'Purples_r', \n",
    "       'RdBu', 'RdBu_r', 'RdGy', 'RdGy_r', 'RdPu', 'RdPu_r', 'RdYlBu', 'RdYlBu_r', 'RdYlGn', 'RdYlGn_r', 'Reds', 'Reds_r', \n",
    "       'Set1', 'Set1_r', 'Set2', 'Set2_r', 'Set3', 'Set3_r', 'Spectral', 'Spectral_r', 'Wistia', 'Wistia_r', 'YlGn', 'YlGnBu', \n",
    "       'YlGnBu_r', 'YlGn_r', 'YlOrBr', 'YlOrBr_r', 'YlOrRd', 'YlOrRd_r', 'afmhot', 'afmhot_r', 'autumn', 'autumn_r', 'binary', \n",
    "       'binary_r', 'bone', 'bone_r', 'brg', 'brg_r', 'bwr', 'bwr_r', 'cividis', 'cividis_r', 'cool', 'cool_r', 'coolwarm', \n",
    "       'coolwarm_r', 'copper', 'copper_r', 'cubehelix', 'cubehelix_r', 'flag', 'flag_r', 'gist_earth', 'gist_earth_r', \n",
    "       'gist_gray', 'gist_gray_r', 'gist_heat', 'gist_heat_r', 'gist_ncar', 'gist_ncar_r', 'gist_rainbow', 'gist_rainbow_r', \n",
    "       'gist_stern', 'gist_stern_r', 'gist_yarg', 'gist_yarg_r', 'gnuplot', 'gnuplot2', 'gnuplot2_r', 'gnuplot_r', 'gray', \n",
    "       'gray_r', 'hot', 'hot_r', 'hsv', 'hsv_r', 'icefire', 'icefire_r', 'inferno', 'inferno_r', 'jet', 'jet_r', 'magma', 'magma_r', \n",
    "       'mako', 'mako_r', 'nipy_spectral', 'nipy_spectral_r', 'ocean', 'ocean_r', 'pink', 'pink_r', 'plasma', 'plasma_r', 'prism', 'prism_r', \n",
    "       'rainbow', 'rainbow_r', 'rocket', 'rocket_r', 'seismic', 'seismic_r', 'spring', 'spring_r', 'summer', 'summer_r', 'tab10', 'tab10_r', \n",
    "       'tab20', 'tab20_r', 'tab20b', 'tab20b_r', 'tab20c', 'tab20c_r', 'terrain', 'terrain_r', 'twilight', 'twilight_r', 'twilight_shifted', \n",
    "       'twilight_shifted_r', 'viridis', 'viridis_r', 'vlag', 'vlag_r', 'winter', 'winter_r']"
   ]
  },
  {
   "cell_type": "code",
   "execution_count": 670,
   "metadata": {},
   "outputs": [],
   "source": [
    "funcao = [('soma',np.sum),('media',np.mean),('mediana',np.median), ('máx',np.max) ,('min',np.min)]\n",
    "todasAulas = ['sospopeye', 'speeding', 'pilates', 'bodypump', 'step','soscelulite', 'sosabs', 'sosbunda', \n",
    "              'bodybalance', 'endurance','bodycombat', 'zumba', '100pança', 'gain', '100stress']\n",
    "cardio = ['speeding','endurance','bodycombat','zumba', '100stress','step']\n",
    "forca = ['sospopeye','popeye','sosabs','sosbunda','gain','bodypump','soscelulite','100pança','bunda']\n",
    "relaxamento = ['bodybalance','yoga','pilates']\n",
    "\n",
    "opcoes = [('cardio',cardio),('forca',forca),('relaxamento',relaxamento),('todas',todasAulas)]"
   ]
  },
  {
   "cell_type": "markdown",
   "metadata": {},
   "source": [
    "## Número de clientes por hora\n",
    "\n",
    "A barra preta representa o intervalo de confiança com 95%, i.e. o número de clientes tem uma estimativa limite minimo e máximo por hora de acordo com o registos nessa hora"
   ]
  },
  {
   "cell_type": "code",
   "execution_count": 632,
   "metadata": {},
   "outputs": [
    {
     "data": {
      "application/vnd.jupyter.widget-view+json": {
       "model_id": "1dc0680cc8be475585ccdc2a2dbd4ac9",
       "version_major": 2,
       "version_minor": 0
      },
      "text/plain": [
       "interactive(children=(Dropdown(description='funcao', options=(('soma', <function sum at 0x000002183E19BB70>), …"
      ]
     },
     "metadata": {},
     "output_type": "display_data"
    }
   ],
   "source": [
    "def f(funcao):\n",
    "    plt.rcParams['figure.figsize'] = [15, 3]\n",
    "    sns.barplot(x='hora',y='pessoas',data=dfAG,palette='rainbow',estimator=funcao).set_title('Aulas de Grupo Rio Maior')\n",
    "    plt.xticks(rotation=0);\n",
    "    fig = plt.gcf() # \"Get current figure\"\n",
    "    plt.show()\n",
    "\n",
    "interact(f, funcao=funcao);"
   ]
  },
  {
   "cell_type": "markdown",
   "metadata": {},
   "source": [
    "## Clientes por dia semana"
   ]
  },
  {
   "cell_type": "code",
   "execution_count": 633,
   "metadata": {},
   "outputs": [
    {
     "data": {
      "application/vnd.jupyter.widget-view+json": {
       "model_id": "aa2d2c3313b2482caa7293e6909bcc44",
       "version_major": 2,
       "version_minor": 0
      },
      "text/plain": [
       "interactive(children=(Dropdown(description='funcao', options=(('soma', <function sum at 0x000002183E19BB70>), …"
      ]
     },
     "metadata": {},
     "output_type": "display_data"
    }
   ],
   "source": [
    "def f(funcao):\n",
    "    plt.rcParams['figure.figsize'] = [15, 3]\n",
    "    sns.barplot(x='diaSemana',y='pessoas',data=dfAG,palette='rainbow',estimator=funcao).set_title('Aulas de Grupo - Rio Maior')\n",
    "    plt.xticks(np.arange(7),('seg','ter','qua','qui','sex','sab','dom'))\n",
    "    fig = plt.gcf() # \"Get current figure\"\n",
    "    plt.show()\n",
    "\n",
    "interact(f, funcao=funcao);"
   ]
  },
  {
   "cell_type": "markdown",
   "metadata": {},
   "source": [
    "## Clientes por hora"
   ]
  },
  {
   "cell_type": "code",
   "execution_count": 634,
   "metadata": {},
   "outputs": [
    {
     "data": {
      "application/vnd.jupyter.widget-view+json": {
       "model_id": "110f68cbea2c48c7b2f53bb9353199b2",
       "version_major": 2,
       "version_minor": 0
      },
      "text/plain": [
       "interactive(children=(Dropdown(description='funcao', options=(('soma', <function sum at 0x000002183E19BB70>), …"
      ]
     },
     "metadata": {},
     "output_type": "display_data"
    }
   ],
   "source": [
    "def f(funcao):\n",
    "    plt.rcParams['figure.figsize'] = [15, 3]\n",
    "    sns.barplot(x='hora',y='pessoas',data=dfAG,palette='rainbow',estimator=funcao).set_title('Aulas Grupo Rio Maior')\n",
    "    fig = plt.gcf() # \"Get current figure\"\n",
    "    plt.show()\n",
    "\n",
    "interact(f, funcao=funcao);"
   ]
  },
  {
   "cell_type": "markdown",
   "metadata": {},
   "source": [
    "## Clientes por hora e aula"
   ]
  },
  {
   "cell_type": "code",
   "execution_count": 684,
   "metadata": {},
   "outputs": [
    {
     "data": {
      "application/vnd.jupyter.widget-view+json": {
       "model_id": "0d51a53474ba4b79aee80fb7e6d6214d",
       "version_major": 2,
       "version_minor": 0
      },
      "text/plain": [
       "interactive(children=(Dropdown(description='cor', options=('Accent', 'Accent_r', 'Blues', 'Blues_r', 'BrBG', '…"
      ]
     },
     "metadata": {},
     "output_type": "display_data"
    }
   ],
   "source": [
    "def f(cor,funcao,tipo):\n",
    "    plt.rcParams['figure.figsize'] = [15, 6]\n",
    "    sns.lineplot(x='hora',y='pessoas',hue='aula',data=dfAG.loc[dfAG['aula'].isin(tipo)],palette=cor,\n",
    "                 estimator=funcao,ci=0).set_title('Aulas Grupo RM - '+str(tipo));\n",
    "    fig = plt.gcf() # \"Get current figure\"\n",
    "    plt.show()\n",
    "\n",
    "interact(f,cor=cor,funcao=funcao,tipo=opcoes);"
   ]
  },
  {
   "cell_type": "code",
   "execution_count": 685,
   "metadata": {},
   "outputs": [
    {
     "data": {
      "application/vnd.jupyter.widget-view+json": {
       "model_id": "508bbc9ae5f24a9583a341c9c28a0744",
       "version_major": 2,
       "version_minor": 0
      },
      "text/plain": [
       "interactive(children=(Dropdown(description='aula', options=('sospopeye', 'speeding', nan, 'pilates', 'bodypump…"
      ]
     },
     "metadata": {},
     "output_type": "display_data"
    }
   ],
   "source": [
    "def f(aula,funcao):\n",
    "    plt.rcParams['figure.figsize'] = [15, 4]\n",
    "    sns.barplot(x='hora',y='pessoas',hue='aula',data=dfAG[dfAG.aula==aula],palette='rainbow',\n",
    "                 estimator=funcao,ci=0).set_title('Sala de exercicio RM');\n",
    "    \n",
    "    fig = plt.gcf() # \"Get current figure\"\n",
    "    plt.show()\n",
    "\n",
    "interact(f, aula=dfAG.aula.unique(),funcao=funcao);"
   ]
  },
  {
   "cell_type": "markdown",
   "metadata": {},
   "source": [
    "### Quais são as aulas com mais alunos por dia da semana?"
   ]
  },
  {
   "cell_type": "code",
   "execution_count": 686,
   "metadata": {},
   "outputs": [
    {
     "data": {
      "application/vnd.jupyter.widget-view+json": {
       "model_id": "e2f90e83ccaf4fb59d2f77a61a2cc856",
       "version_major": 2,
       "version_minor": 0
      },
      "text/plain": [
       "interactive(children=(Dropdown(description='funcao', options=(('soma', <function sum at 0x000002183E19BB70>), …"
      ]
     },
     "metadata": {},
     "output_type": "display_data"
    }
   ],
   "source": [
    "def f(funcao,tipo):\n",
    "    plt.rcParams['figure.figsize'] = [20, 5]\n",
    "    plt.xticks(rotation=45);\n",
    "    sns.barplot(x='aula',y='pessoas',hue='diaSemana',data=dfAG.loc[dfAG['aula'].isin(tipo)],palette='Accent',estimator=funcao).set_title('Sala exercício RM')\n",
    "    fig = plt.gcf() # \"Get current figure\"\n",
    "    plt.show()\n",
    "\n",
    "interact(f,funcao=funcao,tipo=opcoes);"
   ]
  }
 ],
 "metadata": {
  "kernelspec": {
   "display_name": "Python 3",
   "language": "python",
   "name": "python3"
  },
  "language_info": {
   "codemirror_mode": {
    "name": "ipython",
    "version": 3
   },
   "file_extension": ".py",
   "mimetype": "text/x-python",
   "name": "python",
   "nbconvert_exporter": "python",
   "pygments_lexer": "ipython3",
   "version": "3.7.3"
  },
  "toc-autonumbering": true,
  "toc-showcode": false,
  "toc-showmarkdowntxt": false
 },
 "nbformat": 4,
 "nbformat_minor": 4
}
