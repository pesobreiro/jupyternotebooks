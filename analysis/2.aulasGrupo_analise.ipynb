{
 "cells": [
  {
   "cell_type": "markdown",
   "metadata": {},
   "source": [
    "Objetivos:\n",
    "1. Perceber quais são as horas com mais clientes?\n",
    "2. Quais são as aulas com mais clientes?\n",
    "3. Quais são os dias da semana com mais clientes?\n",
    "\n",
    "Alterações:\n",
    "1. Colocar a possibilidade de filtrar por datas"
   ]
  },
  {
   "cell_type": "markdown",
   "metadata": {
    "toc-hr-collapsed": false
   },
   "source": [
    "# Dados recolhidos aula de grupo Rio Maior"
   ]
  },
  {
   "cell_type": "code",
   "execution_count": 21,
   "metadata": {},
   "outputs": [],
   "source": [
    "import pandas as pd\n",
    "import seaborn as sns\n",
    "from ipywidgets import interact, interactive, fixed, interact_manual,widgets\n",
    "import plotly.offline as py\n",
    "import datetime,calendar\n",
    "import numpy as np\n",
    "import matplotlib.pyplot as plt\n",
    "from tabulate import tabulate\n",
    "\n",
    "\n",
    "dfAG = pd.read_excel('https://raw.githubusercontent.com/pesobreiro/jupyternotebooks/master/dados/_RMAulasGrupo.xlsx',sheet_name='Sheet1')\n",
    "\n",
    "## Preparação dos dados\n",
    "\n",
    "cols = ['ID','E-mail', 'Nome','Pontuação total', 'Feedback do questionário', 'Pontos – Data',\n",
    "        'Feedback – Data', 'Pontos – Aula', 'Feedback – Aula','Pontos – Hora aula (coloque hora:minutos ex. 09:15)',\n",
    "        'Feedback – Hora aula (coloque hora:minutos ex. 09:15)', 'Pontos – Quantas pessoas aula?',\n",
    "        'Feedback – Quantas pessoas aula?','Pontos – Aula2','Feedback – Aula2']\n",
    "dfAG.drop(columns=cols, index=1, inplace=True)\n",
    "dfAG.columns\n",
    "\n",
    "\n",
    "dfAG.columns=['horaInicio','horaConclusao','data','aula','hora','pessoas','aula2']\n",
    "\n",
    "dfAG.fillna(0,inplace=True)\n",
    "\n",
    "#Limpar dados mal inseridos\n",
    "#lambda <args> : <return Value> if <condition > ( <return value > if <condition> else <return value>)\n",
    "dfAG['hora']=dfAG['hora'].apply(lambda x:str(x).replace('h',':'))\n",
    "dfAG['hora']=dfAG['hora'].apply(lambda x:str(x).replace('.',':'))\n",
    "dfAG['hora']=dfAG['hora'].apply(lambda x: str(x)+':00' if (len(x)==1 or len(x)==2) else x)\n",
    "dfAG['hora']=dfAG['hora'].apply(lambda x: str(x)+'00' if (len(x)==3) else x)\n",
    "dfAG['hora']=dfAG['hora'].apply(lambda x:str(x).replace('::',':'))\n",
    "dfAG['hora']=dfAG['hora'].apply(lambda x:str(x).replace('m',''))\n",
    "dfAG['hora']=dfAG['hora'].apply(lambda x:str(x).replace(' ','00'))\n",
    "dfAG['hora']=dfAG['hora'].apply(lambda x:str(x).replace('1000','10'))\n",
    "\n",
    "dfAG.hora=pd.to_datetime(dfAG['hora'],format='%H:%M', errors='coerce')\n",
    "dfAG.dropna(subset=['hora'],inplace=True)\n",
    "\n",
    "#Vamos retirar as meias horas\n",
    "dfAG['hora']=dfAG['hora'].apply(lambda x: x.hour)\n",
    "\n",
    "### Calcular o dia da semana\n",
    "\n",
    "# Por extenso\n",
    "#dfSEAlv['diaSemana']=dfSEAlv['data'].apply(lambda x: x.day_name(locale='pt'))\n",
    "# Vamos calcular o dia da semana 0 é segunda\n",
    "dfAG['diaSemana']=dfAG['data'].apply(lambda x: x.weekday())\n",
    "\n",
    "#Calcular o mês\n",
    "dfAG['mes']=dfAG['data'].apply(lambda x: x.month)\n",
    "\n",
    "#Limpar dados mal inseridos\n",
    "['Sós abs', 'Sós bunda', '100 panca', 'Sos abs', 'Bodybalance','Bunda', 'Sos bunda', 'Bodypump', 'Step', 'Sós popey ',\n",
    " 'Body Combat', 'Pilates', 'Endurance ', 'Sos speeding ','Sos bunda ', 'Sos abs ', 'Popeye', 'Extreme', 'Speeding',\n",
    " 'Body pump', 'Endurance', 'Sos speeding', 'Speeding ','Sem stress ', '100stress', 'Gain', 'Body pump ', 'sos abs',\n",
    " 'Sós bunda ', 'Sos celulite', 'Bodypump ', 'Sos popeye','Enfurance', '100Pança', 'Bodybalance ', '100 pança',\n",
    " 'Body combat', 'Sos Popeye', 'Soso abs', 'Body Pump','Body balance', '100panca ', 'Sem stress', '100panca', 'Zumba',\n",
    " 'Xtreme', '100 pança ', 'Sós popey', 'Bodycombat ', '100 stress ','Popey', 'Speedng', 'Sos celulite ', 'Sos ABS', '100 stress',\n",
    " 'Gain ', 'Sós  abs', 'Bodupump', '(Sos abs) (com sos bunda)']\n",
    "#lambda <args> : <return Value> if <condition > ( <return value > if <condition> else <return value>)\n",
    "dfAG['aula']=dfAG['aula'].apply(lambda x:str(x).lower())\n",
    "dfAG['aula']=dfAG['aula'].apply(lambda x:str(x).replace(' ',''))\n",
    "dfAG['aula']=dfAG['aula'].apply(lambda x:str(x).replace('sós','sos'))\n",
    "dfAG['aula']=dfAG['aula'].apply(lambda x:str(x).replace('enfurance','endurance'))\n",
    "dfAG['aula']=dfAG['aula'].apply(lambda x:str(x).replace('sem','100'))\n",
    "dfAG['aula']=dfAG['aula'].apply(lambda x:str(x).replace('panca','pança'))\n",
    "dfAG['aula']=dfAG['aula'].apply(lambda x:str(x).replace('popey','popeye'))\n",
    "dfAG['aula']=dfAG['aula'].apply(lambda x:str(x).replace('popeyee','popeye'))\n",
    "dfAG['aula']=dfAG['aula'].apply(lambda x:str(x).replace('xtreme','extreme'))\n",
    "dfAG['aula']=dfAG['aula'].apply(lambda x:str(x).replace('speedng','speeding'))\n",
    "dfAG['aula']=dfAG['aula'].apply(lambda x:str(x).replace('popeyeee','popeye'))\n",
    "dfAG['aula']=dfAG['aula'].apply(lambda x:str(x).replace('eeeeextreme','extreme'))\n",
    "dfAG['aula']=dfAG['aula'].apply(lambda x:str(x).replace('eeeextreme','extreme'))\n",
    "dfAG['aula']=dfAG['aula'].apply(lambda x:str(x).replace('eextreme','extreme'))\n",
    "dfAG['aula']=dfAG['aula'].apply(lambda x:str(x).replace('(sosabs)(comsosbunda)','sosabs'))\n",
    "dfAG['aula']=dfAG['aula'].apply(lambda x:str(x).replace('sosspeeding','speeding'))\n",
    "dfAG['aula']=dfAG['aula'].apply(lambda x:str(x).replace('bodupump','bodypump'))\n",
    "dfAG['aula']=dfAG['aula'].apply(lambda x:str(x).replace('sospopeyee','sospopeye'))\n",
    "dfAG['aula']=dfAG['aula'].apply(lambda x:str(x).replace('bodypumpp','bodypump'))\n",
    "#dfAG['aula']=dfAG['aula'].apply(lambda x:str(x).replace('popeye','sospopeye')) Vamos manter as duas são coisas diferentes\n",
    "dfAG['aula']=dfAG['aula'].apply(lambda x:str(x).replace('sospopeyee','sospopeye'))\n",
    "dfAG['aula']=dfAG['aula'].apply(lambda x:str(x).replace('sossospopeye','sospopeye'))\n",
    "dfAG['aula']=dfAG['aula'].apply(lambda x:str(x).replace('sossospopeye','sospopeye'))\n",
    "\n",
    "\n",
    "for index, row in dfAG.iterrows():\n",
    "    if row.aula2 != 0:\n",
    "        dfAG.at[index,'aula'] = row.aula2    \n",
    "\n",
    "dfAG['aula']=dfAG['aula'].apply(lambda x:str(x).replace('s.o.sabs','sosabs'))\n",
    "dfAG['aula']=dfAG['aula'].apply(lambda x:str(x).replace('gain-pernaseglúteo','gain-glúteoepernas'))\n",
    "\n",
    "# Vamos agregar aulas\n",
    "dfAG['aula']=dfAG['aula'].apply(lambda x:str(x).replace('bodycombate','bodycombat'))\n",
    "dfAG['aula']=dfAG['aula'].apply(lambda x:str(x).replace('doscelulite','soscelulite'))\n",
    "\n",
    "dfAG.aula=dfAG.aula.loc[dfAG.aula != 'pump']\n",
    "dfAG.aula=dfAG.aula.loc[dfAG.aula != 'combat']\n",
    "dfAG.aula=dfAG.aula.loc[dfAG.aula != 'bunda']\n",
    "dfAG.aula=dfAG.aula.loc[dfAG.aula != 'gain-glúteoepernas']"
   ]
  },
  {
   "cell_type": "code",
   "execution_count": 22,
   "metadata": {},
   "outputs": [
    {
     "name": "stdout",
     "output_type": "stream",
     "text": [
      "Data inicio:  2019-12-04 00:00:00 Data fim: 2020-02-11 00:00:00\n"
     ]
    }
   ],
   "source": [
    "print('Data inicio: ',dfAG.data.min(),'Data fim:',dfAG.data.max())"
   ]
  },
  {
   "cell_type": "markdown",
   "metadata": {},
   "source": [
    "Os dados são referentes ao período entre data inicio e data fim. Vamos confirmar algums dados"
   ]
  },
  {
   "cell_type": "code",
   "execution_count": 23,
   "metadata": {},
   "outputs": [],
   "source": [
    "cols = ['aula','pessoas']\n",
    "\n",
    "dfAG.pessoas=pd.to_numeric(dfAG['pessoas'], errors='coerce',downcast='integer')\n",
    "#pd.to_numeric(dfAG['pessoas'], errors='coerce')\n",
    "#dfAG.dropna(subset=['pessoas'],inplace=True)"
   ]
  },
  {
   "cell_type": "code",
   "execution_count": 24,
   "metadata": {},
   "outputs": [],
   "source": [
    "cor = ['Accent', 'Accent_r', 'Blues', 'Blues_r', 'BrBG', 'BrBG_r', 'BuGn', 'BuGn_r', 'BuPu', 'BuPu_r', 'CMRmap', \n",
    "       'CMRmap_r', 'Dark2', 'Dark2_r', 'GnBu', 'GnBu_r', 'Greens', 'Greens_r', 'Greys', 'Greys_r', 'OrRd', 'OrRd_r', \n",
    "       'Oranges', 'Oranges_r', 'PRGn', 'PRGn_r', 'Paired', 'Paired_r', 'Pastel1', 'Pastel1_r', 'Pastel2', 'Pastel2_r', \n",
    "       'PiYG', 'PiYG_r', 'PuBu', 'PuBuGn', 'PuBuGn_r', 'PuBu_r', 'PuOr', 'PuOr_r', 'PuRd', 'PuRd_r', 'Purples', 'Purples_r', \n",
    "       'RdBu', 'RdBu_r', 'RdGy', 'RdGy_r', 'RdPu', 'RdPu_r', 'RdYlBu', 'RdYlBu_r', 'RdYlGn', 'RdYlGn_r', 'Reds', 'Reds_r', \n",
    "       'Set1', 'Set1_r', 'Set2', 'Set2_r', 'Set3', 'Set3_r', 'Spectral', 'Spectral_r', 'Wistia', 'Wistia_r', 'YlGn', 'YlGnBu', \n",
    "       'YlGnBu_r', 'YlGn_r', 'YlOrBr', 'YlOrBr_r', 'YlOrRd', 'YlOrRd_r', 'afmhot', 'afmhot_r', 'autumn', 'autumn_r', 'binary', \n",
    "       'binary_r', 'bone', 'bone_r', 'brg', 'brg_r', 'bwr', 'bwr_r', 'cividis', 'cividis_r', 'cool', 'cool_r', 'coolwarm', \n",
    "       'coolwarm_r', 'copper', 'copper_r', 'cubehelix', 'cubehelix_r', 'flag', 'flag_r', 'gist_earth', 'gist_earth_r', \n",
    "       'gist_gray', 'gist_gray_r', 'gist_heat', 'gist_heat_r', 'gist_ncar', 'gist_ncar_r', 'gist_rainbow', 'gist_rainbow_r', \n",
    "       'gist_stern', 'gist_stern_r', 'gist_yarg', 'gist_yarg_r', 'gnuplot', 'gnuplot2', 'gnuplot2_r', 'gnuplot_r', 'gray', \n",
    "       'gray_r', 'hot', 'hot_r', 'hsv', 'hsv_r', 'icefire', 'icefire_r', 'inferno', 'inferno_r', 'jet', 'jet_r', 'magma', 'magma_r', \n",
    "       'mako', 'mako_r', 'nipy_spectral', 'nipy_spectral_r', 'ocean', 'ocean_r', 'pink', 'pink_r', 'plasma', 'plasma_r', 'prism', 'prism_r', \n",
    "       'rainbow', 'rainbow_r', 'rocket', 'rocket_r', 'seismic', 'seismic_r', 'spring', 'spring_r', 'summer', 'summer_r', 'tab10', 'tab10_r', \n",
    "       'tab20', 'tab20_r', 'tab20b', 'tab20b_r', 'tab20c', 'tab20c_r', 'terrain', 'terrain_r', 'twilight', 'twilight_r', 'twilight_shifted', \n",
    "       'twilight_shifted_r', 'viridis', 'viridis_r', 'vlag', 'vlag_r', 'winter', 'winter_r']\n",
    "\n",
    "funcao = [('soma',np.sum),('media',np.mean),('mediana',np.median), ('máx',np.max) ,('min',np.min)]\n",
    "todasAulas = ['sospopeye', 'speeding', 'pilates', 'bodypump', 'step','soscelulite', 'sosabs', 'sosbunda', \n",
    "              'bodybalance', 'endurance','bodycombat', 'zumba', '100pança', 'gain', '100stress']\n",
    "cardio = ['speeding','endurance','bodycombat','zumba', '100stress','step']\n",
    "forca = ['sospopeye','popeye','sosabs','sosbunda','gain','bodypump','soscelulite','100pança','bunda']\n",
    "relaxamento = ['bodybalance','yoga','pilates']\n",
    "\n",
    "opcoes = [('cardio',cardio),('forca',forca),('relaxamento',relaxamento),('todas',todasAulas)]"
   ]
  },
  {
   "cell_type": "markdown",
   "metadata": {},
   "source": [
    "## Número de clientes por hora\n",
    "\n",
    "A barra preta representa o intervalo de confiança com 95%, i.e. o número de clientes tem uma estimativa limite minimo e máximo por hora de acordo com o registos nessa hora"
   ]
  },
  {
   "cell_type": "code",
   "execution_count": 25,
   "metadata": {},
   "outputs": [],
   "source": [
    "# Vamos selecionar as colunas SOS e sem SOS\n",
    "comsos= ['soscelulite','sosabs', 'sosbunda', 'sospopeye', 'sosspeeding']\n",
    "semsos=['popeye', 'speeding', 'pilates', 'bodypump', 'step','bodybalance', 'endurance','bodycombat', 'zumba', '100pança', 'gain','100stress']"
   ]
  },
  {
   "cell_type": "code",
   "execution_count": 26,
   "metadata": {},
   "outputs": [
    {
     "data": {
      "application/vnd.jupyter.widget-view+json": {
       "model_id": "b5481d4aedab440c8627a7ed5ebc2d16",
       "version_major": 2,
       "version_minor": 0
      },
      "text/plain": [
       "interactive(children=(Dropdown(description='funcao', options=(('soma', <function sum at 0x000001EB65B18438>), …"
      ]
     },
     "metadata": {},
     "output_type": "display_data"
    }
   ],
   "source": [
    "def f(funcao,sos,porMes,mes):\n",
    "    if porMes == True:\n",
    "        dados = dfAG.loc[dfAG['mes'] == mes]\n",
    "    else:\n",
    "        dados = dfAG\n",
    "    if sos == True:\n",
    "        dados=dados.loc[dados['aula'].isin(comsos)]\n",
    "    else:\n",
    "        dados=dados.loc[dados['aula'].isin(semsos)]\n",
    "        \n",
    "    if dados.empty:\n",
    "        print('Não tem dados')\n",
    "    else:\n",
    "        plt.rcParams['figure.figsize'] = [15, 3]\n",
    "        sns.barplot(x='hora',y='pessoas',data=dados,palette='rainbow',estimator=funcao).set_title('Aulas de Grupo Rio Maior')\n",
    "        plt.xticks(rotation=0);\n",
    "        fig = plt.gcf() # \"Get current figure\"\n",
    "        plt.show()\n",
    "\n",
    "interact(f, funcao=funcao,sos=True,porMes=True,mes=widgets.IntSlider(min=1,max=12,step=1,value=1));"
   ]
  },
  {
   "cell_type": "markdown",
   "metadata": {},
   "source": [
    "## Clientes por dia semana"
   ]
  },
  {
   "cell_type": "code",
   "execution_count": 27,
   "metadata": {},
   "outputs": [
    {
     "data": {
      "application/vnd.jupyter.widget-view+json": {
       "model_id": "210d94c4f153493eb09769d52bd3fb7c",
       "version_major": 2,
       "version_minor": 0
      },
      "text/plain": [
       "interactive(children=(Dropdown(description='funcao', options=(('soma', <function sum at 0x000001EB65B18438>), …"
      ]
     },
     "metadata": {},
     "output_type": "display_data"
    }
   ],
   "source": [
    "def f(funcao,sos):\n",
    "    if sos == True:\n",
    "        dados=dfAG.loc[dfAG['aula'].isin(comsos)]\n",
    "    else:\n",
    "        dados=dfAG.loc[dfAG['aula'].isin(semsos)]\n",
    "        \n",
    "    plt.rcParams['figure.figsize'] = [15, 3]\n",
    "    sns.barplot(x='diaSemana',y='pessoas',data=dados,palette='rainbow',estimator=funcao).set_title('Aulas de Grupo - Rio Maior')\n",
    "    plt.xticks(np.arange(7),('seg','ter','qua','qui','sex','sab','dom'))\n",
    "    fig = plt.gcf() # \"Get current figure\"\n",
    "    plt.show()\n",
    "\n",
    "interact(f, funcao=funcao,sos=True);"
   ]
  },
  {
   "cell_type": "markdown",
   "metadata": {},
   "source": [
    "## Clientes por hora e aula"
   ]
  },
  {
   "cell_type": "code",
   "execution_count": 28,
   "metadata": {},
   "outputs": [
    {
     "data": {
      "application/vnd.jupyter.widget-view+json": {
       "model_id": "1b63d2087b834d0a8977ab00f5dfb042",
       "version_major": 2,
       "version_minor": 0
      },
      "text/plain": [
       "interactive(children=(Dropdown(description='cor', options=('Accent', 'Accent_r', 'Blues', 'Blues_r', 'BrBG', '…"
      ]
     },
     "metadata": {},
     "output_type": "display_data"
    }
   ],
   "source": [
    "def f(cor,funcao,tipo,sos):\n",
    "    if sos == True:\n",
    "        dados=dfAG.loc[dfAG['aula'].isin(comsos)]\n",
    "    else:\n",
    "        dados=dfAG.loc[dfAG['aula'].isin(semsos)]\n",
    "    plt.rcParams['figure.figsize'] = [15, 6]\n",
    "    if dados.loc[dados['aula'].isin(tipo)].empty:\n",
    "        print('Não tem dados')\n",
    "    else:\n",
    "        sns.lineplot(x='hora',y='pessoas',hue='aula',data=dados.loc[dados['aula'].isin(tipo)],palette=cor,\n",
    "                     estimator=funcao,ci=0).set_title('Aulas Grupo RM - '+str(tipo));\n",
    "        fig = plt.gcf() # \"Get current figure\"\n",
    "        plt.show()\n",
    "\n",
    "interact(f,cor=cor,funcao=funcao,tipo=opcoes,sos=True);"
   ]
  },
  {
   "cell_type": "code",
   "execution_count": 29,
   "metadata": {},
   "outputs": [
    {
     "data": {
      "application/vnd.jupyter.widget-view+json": {
       "model_id": "05a6cce124354bc3b042bdbb6849fc4c",
       "version_major": 2,
       "version_minor": 0
      },
      "text/plain": [
       "interactive(children=(Dropdown(description='aula', options=('popeye', 'speeding', nan, 'pilates', 'bodypump', …"
      ]
     },
     "metadata": {},
     "output_type": "display_data"
    }
   ],
   "source": [
    "def f(aula,funcao):\n",
    "    plt.rcParams['figure.figsize'] = [15, 4]\n",
    "    sns.barplot(x='hora',y='pessoas',hue='aula',data=dfAG[dfAG.aula==aula],palette='rainbow',\n",
    "                 estimator=funcao,ci=0).set_title('Sala de exercicio RM');\n",
    "    \n",
    "    fig = plt.gcf() # \"Get current figure\"\n",
    "    plt.show()\n",
    "\n",
    "interact(f, aula=dfAG.aula.unique(),funcao=funcao);"
   ]
  },
  {
   "cell_type": "markdown",
   "metadata": {},
   "source": [
    "### Quais são as aulas com mais alunos por dia da semana?"
   ]
  },
  {
   "cell_type": "code",
   "execution_count": 30,
   "metadata": {},
   "outputs": [
    {
     "data": {
      "text/plain": [
       "False"
      ]
     },
     "execution_count": 30,
     "metadata": {},
     "output_type": "execute_result"
    }
   ],
   "source": [
    "dfAG.empty"
   ]
  },
  {
   "cell_type": "code",
   "execution_count": 31,
   "metadata": {},
   "outputs": [
    {
     "data": {
      "application/vnd.jupyter.widget-view+json": {
       "model_id": "cd9a0c44ef684f2485e1a8d48aac3008",
       "version_major": 2,
       "version_minor": 0
      },
      "text/plain": [
       "interactive(children=(Dropdown(description='funcao', options=(('soma', <function sum at 0x000001EB65B18438>), …"
      ]
     },
     "metadata": {},
     "output_type": "display_data"
    }
   ],
   "source": [
    "def f(funcao,tipo,sos):\n",
    "    if sos == True:\n",
    "        dados=dfAG.loc[dfAG['aula'].isin(comsos)]\n",
    "    else:\n",
    "        dados=dfAG.loc[dfAG['aula'].isin(semsos)]    \n",
    "    plt.rcParams['figure.figsize'] = [20, 5]\n",
    "    #plt.xticks(rotation=45);\n",
    "    if dados.loc[dados['aula'].isin(tipo)].empty:\n",
    "        print('Não tem dados')\n",
    "    else:\n",
    "        sns.barplot(x='aula',y='pessoas',hue='diaSemana',\n",
    "                    data=dados.loc[dados['aula'].isin(tipo)],\n",
    "                    palette='Accent',estimator=funcao).set_title('Sala exercício RM')\n",
    "    \n",
    "        fig = plt.gcf() # \"Get current figure\"\n",
    "    \n",
    "\n",
    "interact(f,funcao=funcao,tipo=opcoes,sos=True);"
   ]
  },
  {
   "cell_type": "markdown",
   "metadata": {},
   "source": [
    "# Mapa de utilização "
   ]
  },
  {
   "cell_type": "markdown",
   "metadata": {},
   "source": [
    "__TODO: Colocar opção para selecionar as aulas__"
   ]
  },
  {
   "cell_type": "code",
   "execution_count": 34,
   "metadata": {},
   "outputs": [],
   "source": [
    "dfAG['dia']=dfAG['data'].apply(lambda x: x.day)"
   ]
  },
  {
   "cell_type": "code",
   "execution_count": 38,
   "metadata": {},
   "outputs": [
    {
     "data": {
      "application/vnd.jupyter.widget-view+json": {
       "model_id": "db0f26179a3942b09d96a14205ab00c7",
       "version_major": 2,
       "version_minor": 0
      },
      "text/plain": [
       "interactive(children=(Dropdown(description='funcao', options=(('soma', <function sum at 0x000001EB65B18438>), …"
      ]
     },
     "metadata": {},
     "output_type": "display_data"
    }
   ],
   "source": [
    "def f(funcao,sos,porMes,mes):\n",
    "    if porMes == True:\n",
    "        dados = dfAG.loc[dfAG['mes'] == mes]\n",
    "    else:\n",
    "        dados = dfAG\n",
    "    if sos == True:\n",
    "        dados=dados.loc[dados['aula'].isin(comsos)]\n",
    "    else:\n",
    "        dados=dados.loc[dados['aula'].isin(semsos)]\n",
    "        \n",
    "    if dados.empty:\n",
    "        print('Não tem dados')\n",
    "    else:\n",
    "        quadro = pd.pivot_table(dados,values='pessoas',index='hora',columns=['diaSemana'],aggfunc=funcao,margins=True,fill_value=0)\n",
    "        print(tabulate(quadro,tablefmt='github',floatfmt=\".2f\",headers=['hora','seg','ter','qua','qui','sex','sab','dom','total']))\n",
    "        print('\\nPor dia do mês:')\n",
    "        quadro2 = pd.pivot_table(dados,values='pessoas',index='hora',columns=['dia'],aggfunc=funcao,margins=True,fill_value=0)\n",
    "        print(tabulate(quadro2,floatfmt=\".1f\",headers=['hora']+list(range(dados.dia.min(),dados.dia.max()+1))+['total']))\n",
    "        quadro.to_html()\n",
    "\n",
    "interact(f, funcao=funcao,sos=True,porMes=True,mes=widgets.IntSlider(min=1,max=12,step=1,value=1));"
   ]
  }
 ],
 "metadata": {
  "kernelspec": {
   "display_name": "Python 3",
   "language": "python",
   "name": "python3"
  },
  "language_info": {
   "codemirror_mode": {
    "name": "ipython",
    "version": 3
   },
   "file_extension": ".py",
   "mimetype": "text/x-python",
   "name": "python",
   "nbconvert_exporter": "python",
   "pygments_lexer": "ipython3",
   "version": "3.7.6"
  },
  "toc-autonumbering": true,
  "toc-showcode": false,
  "toc-showmarkdowntxt": false
 },
 "nbformat": 4,
 "nbformat_minor": 4
}
