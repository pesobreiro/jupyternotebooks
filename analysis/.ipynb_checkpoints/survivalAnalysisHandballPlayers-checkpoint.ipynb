{
 "cells": [
  {
   "cell_type": "markdown",
   "metadata": {
    "toc-hr-collapsed": false
   },
   "source": [
    "# Análise de sobrevivência atletas federação\n",
    "\n",
    "Inscrições depois de 2007"
   ]
  },
  {
   "cell_type": "code",
   "execution_count": 29,
   "metadata": {},
   "outputs": [
    {
     "data": {
      "text/plain": [
       "datetime.datetime(2019, 11, 21, 15, 16, 31, 660655)"
      ]
     },
     "execution_count": 29,
     "metadata": {},
     "output_type": "execute_result"
    }
   ],
   "source": [
    "from IPython.display import HTML\n",
    "import matplotlib.pyplot as plt\n",
    "import numpy as np\n",
    "import pandas as pd\n",
    "import datetime\n",
    "import seaborn as sns\n",
    "\n",
    "dt = pd.read_csv('https://raw.githubusercontent.com/pesobreiro/jupyternotebooks/master/dados/dadosAtletasAndebol.csv',\n",
    "                 index_col=0)\n",
    "\n",
    "plt.rcParams['figure.figsize'] = [10, 15]\n",
    "datetime.datetime.now()"
   ]
  },
  {
   "cell_type": "code",
   "execution_count": 30,
   "metadata": {},
   "outputs": [],
   "source": [
    "def curvaSobrevivencia(dados,coluna,eixoX=None,eixoY=None,titulo=None):\n",
    "    ax = plt.subplot(111)\n",
    "    ax.set_xlabel(eixoX)\n",
    "    ax.set_ylabel(eixoY)\n",
    "    ax.set_title(titulo)\n",
    "\n",
    "    plt.rcParams['figure.figsize'] = [15, 5]\n",
    "    for item in dados[coluna].unique():\n",
    "        ix = dados[coluna] == item\n",
    "        kmf.fit(T.loc[ix], C.loc[ix], label=str(item))\n",
    "        ax = kmf.plot(ax=ax)\n",
    "        print('probabilidade de sobreviver:',item,' ',kmf.survival_function_.head())\n",
    "        print('median:',item,kmf.median_)\n",
    "    return kmf"
   ]
  },
  {
   "cell_type": "code",
   "execution_count": 31,
   "metadata": {},
   "outputs": [],
   "source": [
    "def barras(x,dados,titulo,hue=None,orientacao=None,tamanho=[10,5]):\n",
    "    plt.rcParams['figure.figsize'] = tamanho\n",
    "    ax = sns.countplot(x=x,data=dados,hue=hue,palette='Blues',orient=orientacao);\n",
    "    ax.set_title(titulo)\n",
    "    for p in ax.patches:\n",
    "        height = p.get_height()\n",
    "        ax.text(p.get_x()+p.get_width()/2.,height + 3,'{:1}'.format(height),ha=\"left\")    \n",
    "    plt.show()"
   ]
  },
  {
   "cell_type": "markdown",
   "metadata": {
    "toc-hr-collapsed": false
   },
   "source": [
    "## Survival Analysis"
   ]
  },
  {
   "cell_type": "code",
   "execution_count": 32,
   "metadata": {},
   "outputs": [],
   "source": [
    "dados=dt.dropna()"
   ]
  },
  {
   "cell_type": "code",
   "execution_count": 33,
   "metadata": {},
   "outputs": [
    {
     "data": {
      "text/plain": [
       "(197606, 24)"
      ]
     },
     "execution_count": 33,
     "metadata": {},
     "output_type": "execute_result"
    }
   ],
   "source": [
    "dt.shape"
   ]
  },
  {
   "cell_type": "markdown",
   "metadata": {
    "toc-hr-collapsed": true
   },
   "source": [
    "## Vamos considerar os atletas federados entre 01-08-1997 e 31-07-2018\n",
    "\n",
    "dt=dt.loc[(dt.dtIns >= \"1997-08-01\")&(dt.dtIns < \"2018-07-31\")]"
   ]
  },
  {
   "cell_type": "code",
   "execution_count": 34,
   "metadata": {},
   "outputs": [],
   "source": [
    "#Converter data inscrição para data e hora\n",
    "dt['dtIns']=pd.to_datetime(dt['dtIns'])\n",
    "dt=dt.loc[(dt.dtIns >= \"2008-08-01\")&(dt.dtIns < \"2018-07-31\")]"
   ]
  },
  {
   "cell_type": "code",
   "execution_count": 35,
   "metadata": {},
   "outputs": [
    {
     "data": {
      "text/plain": [
       "(34850, 24)"
      ]
     },
     "execution_count": 35,
     "metadata": {},
     "output_type": "execute_result"
    }
   ],
   "source": [
    "dt.shape"
   ]
  },
  {
   "cell_type": "code",
   "execution_count": 36,
   "metadata": {},
   "outputs": [],
   "source": [
    "# Vamos considerar um escalao com todos os géneros\n",
    "dt['escFedTodos'] = dt['escFederacao'].str.split().str.get(0)"
   ]
  },
  {
   "cell_type": "code",
   "execution_count": 37,
   "metadata": {},
   "outputs": [
    {
     "data": {
      "text/plain": [
       "array(['Veteranos', 'Seniores', 'Juniores', 'Juvenis', 'Minis',\n",
       "       'Iniciados', 'Infantis', 'Bambis', 'Pre-Bambi'], dtype=object)"
      ]
     },
     "execution_count": 37,
     "metadata": {},
     "output_type": "execute_result"
    }
   ],
   "source": [
    "dt.escFedTodos.unique()"
   ]
  },
  {
   "cell_type": "markdown",
   "metadata": {},
   "source": [
    "### Atletas por ano"
   ]
  },
  {
   "cell_type": "code",
   "execution_count": 38,
   "metadata": {},
   "outputs": [
    {
     "data": {
      "text/plain": [
       "<matplotlib.axes._subplots.AxesSubplot at 0x1d573788748>"
      ]
     },
     "execution_count": 38,
     "metadata": {},
     "output_type": "execute_result"
    },
    {
     "data": {
      "image/png": "[encoded data removed]",
      "text/plain": [
       "<Figure size 1080x360 with 1 Axes>"
      ]
     },
     "metadata": {
      "needs_background": "light"
     },
     "output_type": "display_data"
    }
   ],
   "source": [
    "plt.rcParams['figure.figsize'] = [15, 5]\n",
    "dt.anos.hist()"
   ]
  },
  {
   "cell_type": "markdown",
   "metadata": {},
   "source": [
    "### Atletas por escalão"
   ]
  },
  {
   "cell_type": "code",
   "execution_count": 39,
   "metadata": {},
   "outputs": [
    {
     "data": {
      "text/plain": [
       "Index(['CIPA', 'associacao', 'clube', 'dtIns', 'escalao', 'escalaoSubida',\n",
       "       'sexo', 'dtNasc', 'codPostal', 'localidade', 'pais', 'nacionalidade',\n",
       "       'epoca', 'tipoInscricao', 'dtInsc', 'dtUlt', 'anos', 'idade',\n",
       "       'abandonou', 'escaloesAnos', 'mes', 'escaloesIdade', 'anoNasc',\n",
       "       'escFederacao', 'escFedTodos'],\n",
       "      dtype='object')"
      ]
     },
     "execution_count": 39,
     "metadata": {},
     "output_type": "execute_result"
    }
   ],
   "source": [
    "dt.columns"
   ]
  },
  {
   "cell_type": "code",
   "execution_count": 40,
   "metadata": {},
   "outputs": [
    {
     "data": {
      "text/plain": [
       "array(['41 a 60', '21 a 40', '10 a 20', 'ate 10', 'mais 60'], dtype=object)"
      ]
     },
     "execution_count": 40,
     "metadata": {},
     "output_type": "execute_result"
    }
   ],
   "source": [
    "dt.escaloesIdade.unique()"
   ]
  },
  {
   "cell_type": "code",
   "execution_count": 41,
   "metadata": {},
   "outputs": [
    {
     "data": {
      "image/png": "[encoded data removed]",
      "text/plain": [
       "<Figure size 1296x360 with 1 Axes>"
      ]
     },
     "metadata": {
      "needs_background": "light"
     },
     "output_type": "display_data"
    }
   ],
   "source": [
    "barras(dados=dt,titulo='Anos atleta',x='escFederacao',tamanho=[18,5])"
   ]
  },
  {
   "cell_type": "code",
   "execution_count": 42,
   "metadata": {},
   "outputs": [
    {
     "data": {
      "image/png": "[encoded data removed]",
      "text/plain": [
       "<Figure size 1296x360 with 1 Axes>"
      ]
     },
     "metadata": {
      "needs_background": "light"
     },
     "output_type": "display_data"
    }
   ],
   "source": [
    "barras(dados=dt,titulo='Anos atleta',x='escFedTodos',tamanho=[18,5])"
   ]
  },
  {
   "cell_type": "code",
   "execution_count": 43,
   "metadata": {},
   "outputs": [
    {
     "data": {
      "text/plain": [
       "Index(['CIPA', 'associacao', 'clube', 'dtIns', 'escalao', 'escalaoSubida',\n",
       "       'sexo', 'dtNasc', 'codPostal', 'localidade', 'pais', 'nacionalidade',\n",
       "       'epoca', 'tipoInscricao', 'dtInsc', 'dtUlt', 'anos', 'idade',\n",
       "       'abandonou', 'escaloesAnos', 'mes', 'escaloesIdade', 'anoNasc',\n",
       "       'escFederacao', 'escFedTodos'],\n",
       "      dtype='object')"
      ]
     },
     "execution_count": 43,
     "metadata": {},
     "output_type": "execute_result"
    }
   ],
   "source": [
    "dt.columns"
   ]
  },
  {
   "cell_type": "markdown",
   "metadata": {},
   "source": [
    "### Atletas por anos inscritos\n",
    "Quantos atletas se inscrever em cada ano desde 1997.\n",
    "\n",
    "- Aparentemente existiram muitas inscrições antes 2007"
   ]
  },
  {
   "cell_type": "code",
   "execution_count": 44,
   "metadata": {},
   "outputs": [
    {
     "data": {
      "image/png": "[encoded data removed]",
      "text/plain": [
       "<Figure size 1296x360 with 1 Axes>"
      ]
     },
     "metadata": {
      "needs_background": "light"
     },
     "output_type": "display_data"
    }
   ],
   "source": [
    "barras(dados=dt,titulo='Anos atleta',x=dt.dtIns.apply(lambda x: x.date().year),tamanho=[18,5])"
   ]
  },
  {
   "cell_type": "code",
   "execution_count": 45,
   "metadata": {},
   "outputs": [
    {
     "data": {
      "image/png": "[encoded data removed]",
      "text/plain": [
       "<Figure size 1296x360 with 1 Axes>"
      ]
     },
     "metadata": {
      "needs_background": "light"
     },
     "output_type": "display_data"
    }
   ],
   "source": [
    "barras(dados=dt,titulo='Anos atleta',x='anos',tamanho=[18,5])"
   ]
  },
  {
   "cell_type": "code",
   "execution_count": 46,
   "metadata": {},
   "outputs": [],
   "source": [
    "from lifelines import KaplanMeierFitter\n",
    "kmf = KaplanMeierFitter()\n",
    "T = dt['anos']\n",
    "C = dt['abandonou']\n",
    "kmf.fit(T,C,label=\"Abandono dos atletas\");"
   ]
  },
  {
   "cell_type": "code",
   "execution_count": 47,
   "metadata": {},
   "outputs": [],
   "source": [
    "import lifelines"
   ]
  },
  {
   "cell_type": "code",
   "execution_count": 48,
   "metadata": {},
   "outputs": [
    {
     "name": "stdout",
     "output_type": "stream",
     "text": [
      "versao lifelines: 0.21.0\n"
     ]
    }
   ],
   "source": [
    "print('versao lifelines:',lifelines.__version__)"
   ]
  },
  {
   "cell_type": "code",
   "execution_count": 49,
   "metadata": {},
   "outputs": [
    {
     "data": {
      "text/html": [
       "<div>\n",
       "<style scoped>\n",
       "    .dataframe tbody tr th:only-of-type {\n",
       "        vertical-align: middle;\n",
       "    }\n",
       "\n",
       "    .dataframe tbody tr th {\n",
       "        vertical-align: top;\n",
       "    }\n",
       "\n",
       "    .dataframe thead th {\n",
       "        text-align: right;\n",
       "    }\n",
       "</style>\n",
       "<table border=\"1\" class=\"dataframe\">\n",
       "  <thead>\n",
       "    <tr style=\"text-align: right;\">\n",
       "      <th></th>\n",
       "      <th>removed</th>\n",
       "      <th>observed</th>\n",
       "      <th>censored</th>\n",
       "      <th>entrance</th>\n",
       "      <th>at_risk</th>\n",
       "    </tr>\n",
       "    <tr>\n",
       "      <th>event_at</th>\n",
       "      <th></th>\n",
       "      <th></th>\n",
       "      <th></th>\n",
       "      <th></th>\n",
       "      <th></th>\n",
       "    </tr>\n",
       "  </thead>\n",
       "  <tbody>\n",
       "    <tr>\n",
       "      <td>0.0</td>\n",
       "      <td>0</td>\n",
       "      <td>0</td>\n",
       "      <td>0</td>\n",
       "      <td>34850</td>\n",
       "      <td>34850</td>\n",
       "    </tr>\n",
       "    <tr>\n",
       "      <td>1.0</td>\n",
       "      <td>12507</td>\n",
       "      <td>11250</td>\n",
       "      <td>1257</td>\n",
       "      <td>0</td>\n",
       "      <td>34850</td>\n",
       "    </tr>\n",
       "    <tr>\n",
       "      <td>2.0</td>\n",
       "      <td>6299</td>\n",
       "      <td>4208</td>\n",
       "      <td>2091</td>\n",
       "      <td>0</td>\n",
       "      <td>22343</td>\n",
       "    </tr>\n",
       "    <tr>\n",
       "      <td>3.0</td>\n",
       "      <td>4153</td>\n",
       "      <td>2477</td>\n",
       "      <td>1676</td>\n",
       "      <td>0</td>\n",
       "      <td>16044</td>\n",
       "    </tr>\n",
       "    <tr>\n",
       "      <td>4.0</td>\n",
       "      <td>3090</td>\n",
       "      <td>1729</td>\n",
       "      <td>1361</td>\n",
       "      <td>0</td>\n",
       "      <td>11891</td>\n",
       "    </tr>\n",
       "  </tbody>\n",
       "</table>\n",
       "</div>"
      ],
      "text/plain": [
       "          removed  observed  censored  entrance  at_risk\n",
       "event_at                                                \n",
       "0.0             0         0         0     34850    34850\n",
       "1.0         12507     11250      1257         0    34850\n",
       "2.0          6299      4208      2091         0    22343\n",
       "3.0          4153      2477      1676         0    16044\n",
       "4.0          3090      1729      1361         0    11891"
      ]
     },
     "execution_count": 49,
     "metadata": {},
     "output_type": "execute_result"
    }
   ],
   "source": [
    "kmf.event_table.head()"
   ]
  },
  {
   "cell_type": "code",
   "execution_count": 50,
   "metadata": {},
   "outputs": [
    {
     "data": {
      "text/html": [
       "<div>\n",
       "<style scoped>\n",
       "    .dataframe tbody tr th:only-of-type {\n",
       "        vertical-align: middle;\n",
       "    }\n",
       "\n",
       "    .dataframe tbody tr th {\n",
       "        vertical-align: top;\n",
       "    }\n",
       "\n",
       "    .dataframe thead th {\n",
       "        text-align: right;\n",
       "    }\n",
       "</style>\n",
       "<table border=\"1\" class=\"dataframe\">\n",
       "  <thead>\n",
       "    <tr style=\"text-align: right;\">\n",
       "      <th></th>\n",
       "      <th>Abandono dos atletas</th>\n",
       "    </tr>\n",
       "    <tr>\n",
       "      <th>timeline</th>\n",
       "      <th></th>\n",
       "    </tr>\n",
       "  </thead>\n",
       "  <tbody>\n",
       "    <tr>\n",
       "      <td>0.0</td>\n",
       "      <td>1.000000</td>\n",
       "    </tr>\n",
       "    <tr>\n",
       "      <td>1.0</td>\n",
       "      <td>0.677188</td>\n",
       "    </tr>\n",
       "    <tr>\n",
       "      <td>2.0</td>\n",
       "      <td>0.549649</td>\n",
       "    </tr>\n",
       "    <tr>\n",
       "      <td>3.0</td>\n",
       "      <td>0.464790</td>\n",
       "    </tr>\n",
       "    <tr>\n",
       "      <td>4.0</td>\n",
       "      <td>0.397207</td>\n",
       "    </tr>\n",
       "  </tbody>\n",
       "</table>\n",
       "</div>"
      ],
      "text/plain": [
       "          Abandono dos atletas\n",
       "timeline                      \n",
       "0.0                   1.000000\n",
       "1.0                   0.677188\n",
       "2.0                   0.549649\n",
       "3.0                   0.464790\n",
       "4.0                   0.397207"
      ]
     },
     "execution_count": 50,
     "metadata": {},
     "output_type": "execute_result"
    }
   ],
   "source": [
    "kmf.survival_function_.head()"
   ]
  },
  {
   "cell_type": "markdown",
   "metadata": {},
   "source": [
    "### A mediana de anos tempo permanência\n",
    "\n",
    "A mediana de sobrevivência aumentou 1 ano. Se considerarmos os dados todos é de 2 anos."
   ]
  },
  {
   "cell_type": "code",
   "execution_count": 51,
   "metadata": {},
   "outputs": [
    {
     "name": "stdout",
     "output_type": "stream",
     "text": [
      "3.0\n"
     ]
    },
    {
     "data": {
      "text/plain": [
       "2.0"
      ]
     },
     "execution_count": 51,
     "metadata": {},
     "output_type": "execute_result"
    }
   ],
   "source": [
    "print(kmf.median_)\n",
    "dt['anos'].median()"
   ]
  },
  {
   "cell_type": "markdown",
   "metadata": {},
   "source": [
    "### S(t) == P(T>t) probabilidade de viver mais do que 2 anos"
   ]
  },
  {
   "cell_type": "code",
   "execution_count": 52,
   "metadata": {},
   "outputs": [
    {
     "data": {
      "text/plain": [
       "0.5496488136476096"
      ]
     },
     "execution_count": 52,
     "metadata": {},
     "output_type": "execute_result"
    }
   ],
   "source": [
    "kmf.predict(2.0)"
   ]
  },
  {
   "cell_type": "code",
   "execution_count": 53,
   "metadata": {},
   "outputs": [
    {
     "data": {
      "text/plain": [
       "12"
      ]
     },
     "execution_count": 53,
     "metadata": {},
     "output_type": "execute_result"
    }
   ],
   "source": [
    "dt.anos.max()"
   ]
  },
  {
   "cell_type": "code",
   "execution_count": 54,
   "metadata": {},
   "outputs": [
    {
     "data": {
      "image/png": "[encoded data removed]",
      "text/plain": [
       "<Figure size 1080x360 with 1 Axes>"
      ]
     },
     "metadata": {
      "needs_background": "light"
     },
     "output_type": "display_data"
    }
   ],
   "source": [
    "%matplotlib inline\n",
    "import matplotlib.pyplot as plt\n",
    "plt.rcParams['figure.figsize'] = [15, 5]\n",
    "kmf.plot();\n",
    "plt.title('Probabilidade de permanência por ano')\n",
    "plt.xlabel('Anos')\n",
    "plt.ylabel('Probabilidade');"
   ]
  },
  {
   "cell_type": "markdown",
   "metadata": {},
   "source": [
    "A grande maioria dos atletas federados só fica um ano. "
   ]
  },
  {
   "cell_type": "code",
   "execution_count": 55,
   "metadata": {},
   "outputs": [
    {
     "data": {
      "image/png": "[encoded data removed]",
      "text/plain": [
       "<Figure size 1080x360 with 1 Axes>"
      ]
     },
     "metadata": {
      "needs_background": "light"
     },
     "output_type": "display_data"
    }
   ],
   "source": [
    "abandono=kmf.event_table.reset_index()\n",
    "\n",
    "plt.rcParams['figure.figsize'] = [15, 5]\n",
    "plt.plot(abandono.event_at, abandono.at_risk);\n",
    "plt.title('Número de atletas por ano de antiguidade') \n",
    "plt.xlabel('anos')\n",
    "plt.ylabel('atletas');\n",
    "#plt.xlabel()"
   ]
  },
  {
   "cell_type": "code",
   "execution_count": 56,
   "metadata": {},
   "outputs": [
    {
     "name": "stdout",
     "output_type": "stream",
     "text": [
      "34850\n"
     ]
    },
    {
     "data": {
      "image/png": "[encoded data removed]",
      "text/plain": [
       "<Figure size 1080x360 with 1 Axes>"
      ]
     },
     "metadata": {
      "needs_background": "light"
     },
     "output_type": "display_data"
    }
   ],
   "source": [
    "abandono['percentagemClientes']= 0.0\n",
    "anterior = abandono.at_risk[0:1]\n",
    "anterior = anterior[0]\n",
    "print(anterior)\n",
    "\n",
    "for index, row in abandono.iterrows():\n",
    "    abandono.at[index, 'percentagemClientes'] = row.at_risk/anterior    \n",
    "\n",
    "plt.title('Percentagem de atletas retidos por ano')\n",
    "plt.rcParams['figure.figsize'] = [15, 5]\n",
    "plt.xlabel('meses')\n",
    "plt.ylabel('clientes')\n",
    "plt.plot(abandono.event_at, abandono.percentagemClientes)\n",
    "plt.show()"
   ]
  },
  {
   "cell_type": "code",
   "execution_count": 57,
   "metadata": {},
   "outputs": [
    {
     "data": {
      "text/html": [
       "<div>\n",
       "<style scoped>\n",
       "    .dataframe tbody tr th:only-of-type {\n",
       "        vertical-align: middle;\n",
       "    }\n",
       "\n",
       "    .dataframe tbody tr th {\n",
       "        vertical-align: top;\n",
       "    }\n",
       "\n",
       "    .dataframe thead th {\n",
       "        text-align: right;\n",
       "    }\n",
       "</style>\n",
       "<table border=\"1\" class=\"dataframe\">\n",
       "  <thead>\n",
       "    <tr style=\"text-align: right;\">\n",
       "      <th></th>\n",
       "      <th>event_at</th>\n",
       "      <th>removed</th>\n",
       "      <th>observed</th>\n",
       "      <th>censored</th>\n",
       "      <th>entrance</th>\n",
       "      <th>at_risk</th>\n",
       "      <th>percentagemClientes</th>\n",
       "    </tr>\n",
       "  </thead>\n",
       "  <tbody>\n",
       "    <tr>\n",
       "      <td>0</td>\n",
       "      <td>0.0</td>\n",
       "      <td>0</td>\n",
       "      <td>0</td>\n",
       "      <td>0</td>\n",
       "      <td>34850</td>\n",
       "      <td>34850</td>\n",
       "      <td>1.000000</td>\n",
       "    </tr>\n",
       "    <tr>\n",
       "      <td>1</td>\n",
       "      <td>1.0</td>\n",
       "      <td>12507</td>\n",
       "      <td>11250</td>\n",
       "      <td>1257</td>\n",
       "      <td>0</td>\n",
       "      <td>34850</td>\n",
       "      <td>1.000000</td>\n",
       "    </tr>\n",
       "    <tr>\n",
       "      <td>2</td>\n",
       "      <td>2.0</td>\n",
       "      <td>6299</td>\n",
       "      <td>4208</td>\n",
       "      <td>2091</td>\n",
       "      <td>0</td>\n",
       "      <td>22343</td>\n",
       "      <td>0.641119</td>\n",
       "    </tr>\n",
       "    <tr>\n",
       "      <td>3</td>\n",
       "      <td>3.0</td>\n",
       "      <td>4153</td>\n",
       "      <td>2477</td>\n",
       "      <td>1676</td>\n",
       "      <td>0</td>\n",
       "      <td>16044</td>\n",
       "      <td>0.460373</td>\n",
       "    </tr>\n",
       "    <tr>\n",
       "      <td>4</td>\n",
       "      <td>4.0</td>\n",
       "      <td>3090</td>\n",
       "      <td>1729</td>\n",
       "      <td>1361</td>\n",
       "      <td>0</td>\n",
       "      <td>11891</td>\n",
       "      <td>0.341205</td>\n",
       "    </tr>\n",
       "  </tbody>\n",
       "</table>\n",
       "</div>"
      ],
      "text/plain": [
       "   event_at  removed  observed  censored  entrance  at_risk  \\\n",
       "0       0.0        0         0         0     34850    34850   \n",
       "1       1.0    12507     11250      1257         0    34850   \n",
       "2       2.0     6299      4208      2091         0    22343   \n",
       "3       3.0     4153      2477      1676         0    16044   \n",
       "4       4.0     3090      1729      1361         0    11891   \n",
       "\n",
       "   percentagemClientes  \n",
       "0             1.000000  \n",
       "1             1.000000  \n",
       "2             0.641119  \n",
       "3             0.460373  \n",
       "4             0.341205  "
      ]
     },
     "execution_count": 57,
     "metadata": {},
     "output_type": "execute_result"
    }
   ],
   "source": [
    "abandono.head()"
   ]
  },
  {
   "cell_type": "markdown",
   "metadata": {
    "toc-hr-collapsed": false
   },
   "source": [
    "### Curvas de sobrevivencia"
   ]
  },
  {
   "cell_type": "code",
   "execution_count": 58,
   "metadata": {},
   "outputs": [],
   "source": [
    "# Importar bibliotecas\n",
    "from lifelines.statistics import pairwise_logrank_test\n",
    "from lifelines.statistics import multivariate_logrank_test"
   ]
  },
  {
   "cell_type": "markdown",
   "metadata": {},
   "source": [
    "#### Por género"
   ]
  },
  {
   "cell_type": "code",
   "execution_count": 59,
   "metadata": {},
   "outputs": [
    {
     "name": "stdout",
     "output_type": "stream",
     "text": [
      "M    23349\n",
      "F    11501\n",
      "Name: sexo, dtype: int64\n",
      "probabilidade de sobreviver: M                    M\n",
      "timeline          \n",
      "0.0       1.000000\n",
      "1.0       0.683927\n",
      "2.0       0.559331\n",
      "3.0       0.476573\n",
      "4.0       0.410355\n",
      "median: M 3.0\n",
      "probabilidade de sobreviver: F                    F\n",
      "timeline          \n",
      "0.0       1.000000\n",
      "1.0       0.663508\n",
      "2.0       0.529859\n",
      "3.0       0.440678\n",
      "4.0       0.370047\n",
      "median: F 3.0\n"
     ]
    },
    {
     "data": {
      "image/png": "[encoded data removed]",
      "text/plain": [
       "<Figure size 1080x360 with 1 Axes>"
      ]
     },
     "metadata": {
      "needs_background": "light"
     },
     "output_type": "display_data"
    }
   ],
   "source": [
    "print(dt.sexo.value_counts())\n",
    "curvaSobrevivencia(dt,'sexo',eixoX='anos',titulo='Probabilidade sobrevivência por género');plt.xlabel('anos');"
   ]
  },
  {
   "cell_type": "code",
   "execution_count": 60,
   "metadata": {},
   "outputs": [
    {
     "name": "stdout",
     "output_type": "stream",
     "text": [
      "<lifelines.StatisticalResult>\n",
      "               t_0 = -1\n",
      " null_distribution = chi squared\n",
      "degrees_of_freedom = 1\n",
      "\n",
      "---\n",
      " test_statistic      p  -log2(p)\n",
      "          50.52 <0.005     39.63\n"
     ]
    }
   ],
   "source": [
    "results=multivariate_logrank_test(event_durations=T,groups=dt['sexo'],event_observed=C)\n",
    "results.print_summary()"
   ]
  },
  {
   "cell_type": "markdown",
   "metadata": {},
   "source": [
    "**Existem diferenças entre as curvas de sobrevivência. Vamos ver onde. Isto é como se fosse um teste post-hoc**"
   ]
  },
  {
   "cell_type": "code",
   "execution_count": 61,
   "metadata": {},
   "outputs": [
    {
     "name": "stdout",
     "output_type": "stream",
     "text": [
      "<lifelines.StatisticalResult>\n",
      "               t_0 = -1\n",
      " null_distribution = chi squared\n",
      "degrees_of_freedom = 1\n",
      "\n",
      "---\n",
      "     test_statistic      p  -log2(p)\n",
      "F M           50.52 <0.005     39.63\n"
     ]
    }
   ],
   "source": [
    "results=pairwise_logrank_test(event_durations=T,groups=dt.sexo,event_observed=C)\n",
    "results.print_summary()"
   ]
  },
  {
   "cell_type": "markdown",
   "metadata": {},
   "source": [
    "#### Por país"
   ]
  },
  {
   "cell_type": "code",
   "execution_count": 62,
   "metadata": {},
   "outputs": [
    {
     "name": "stdout",
     "output_type": "stream",
     "text": [
      "Portugal          34800\n",
      "Resto do mundo       27\n",
      "Europa               23\n",
      "Name: pais, dtype: int64\n",
      "probabilidade de sobreviver: Portugal             Portugal\n",
      "timeline          \n",
      "0.0       1.000000\n",
      "1.0       0.677471\n",
      "2.0       0.549929\n",
      "3.0       0.465074\n",
      "4.0       0.397433\n",
      "median: Portugal 3.0\n",
      "probabilidade de sobreviver: Resto do mundo             Resto do mundo\n",
      "timeline                \n",
      "0.0             1.000000\n",
      "1.0             0.370370\n",
      "3.0             0.296296\n",
      "4.0             0.296296\n",
      "6.0             0.222222\n",
      "median: Resto do mundo 1.0\n",
      "probabilidade de sobreviver: Europa               Europa\n",
      "timeline          \n",
      "0.0       1.000000\n",
      "1.0       0.608696\n",
      "2.0       0.327759\n",
      "3.0       0.234114\n",
      "4.0       0.175585\n",
      "median: Europa 2.0\n"
     ]
    },
    {
     "data": {
      "image/png": "[encoded data removed]",
      "text/plain": [
       "<Figure size 1080x360 with 1 Axes>"
      ]
     },
     "metadata": {
      "needs_background": "light"
     },
     "output_type": "display_data"
    }
   ],
   "source": [
    "print(dt.pais.value_counts())\n",
    "curvaSobrevivencia(dt,'pais',eixoX='anos',titulo='Probabilidade sobrevivência por país');plt.xlabel('anos');"
   ]
  },
  {
   "cell_type": "code",
   "execution_count": 35,
   "metadata": {},
   "outputs": [
    {
     "name": "stdout",
     "output_type": "stream",
     "text": [
      "<lifelines.StatisticalResult>\n",
      "               t_0 = -1\n",
      " null_distribution = chi squared\n",
      "degrees_of_freedom = 2\n",
      "\n",
      "---\n",
      " test_statistic    p  -log2(p)\n",
      "           8.40 0.01      6.06\n"
     ]
    }
   ],
   "source": [
    "from lifelines.statistics import multivariate_logrank_test\n",
    "\n",
    "results=multivariate_logrank_test(event_durations=T,groups=dt['pais'],event_observed=C)\n",
    "results.print_summary()"
   ]
  },
  {
   "cell_type": "markdown",
   "metadata": {},
   "source": [
    "**Existem diferenças entre as curvas de sobrevivência.**"
   ]
  },
  {
   "cell_type": "code",
   "execution_count": 36,
   "metadata": {},
   "outputs": [
    {
     "name": "stdout",
     "output_type": "stream",
     "text": [
      "<lifelines.StatisticalResult>\n",
      "               t_0 = -1\n",
      " null_distribution = chi squared\n",
      "degrees_of_freedom = 1\n",
      "\n",
      "---\n",
      "                         test_statistic    p  -log2(p)\n",
      "Europa   Portugal                  5.70 0.02      5.88\n",
      "         Resto do mundo            0.34 0.56      0.84\n",
      "Portugal Resto do mundo            2.71 0.10      3.33\n"
     ]
    }
   ],
   "source": [
    "results=pairwise_logrank_test(event_durations=T,groups=dt.pais,event_observed=C)\n",
    "results.print_summary()"
   ]
  },
  {
   "cell_type": "markdown",
   "metadata": {},
   "source": [
    "#### Por nacionalidade"
   ]
  },
  {
   "cell_type": "code",
   "execution_count": 37,
   "metadata": {},
   "outputs": [
    {
     "name": "stdout",
     "output_type": "stream",
     "text": [
      "Portugal          34800\n",
      "Resto do mundo       27\n",
      "Europa               23\n",
      "Name: pais, dtype: int64\n",
      "Portugal             Portugal\n",
      "timeline          \n",
      "0.0       1.000000\n",
      "1.0       0.680470\n",
      "2.0       0.553571\n",
      "3.0       0.468964\n",
      "4.0       0.401508\n",
      "ND              ND\n",
      "timeline     \n",
      "0.0       1.0\n",
      "1.0       0.0\n",
      "Europa               Europa\n",
      "timeline          \n",
      "0.0       1.000000\n",
      "1.0       0.570265\n",
      "2.0       0.422418\n",
      "3.0       0.324235\n",
      "4.0       0.255841\n",
      "Resto do mundo             Resto do mundo\n",
      "timeline                \n",
      "0.0             1.000000\n",
      "1.0             0.595611\n",
      "2.0             0.447140\n",
      "3.0             0.358889\n",
      "4.0             0.282686\n"
     ]
    },
    {
     "data": {
      "image/png": "[encoded data removed]",
      "text/plain": [
       "<Figure size 1080x360 with 1 Axes>"
      ]
     },
     "metadata": {
      "needs_background": "light"
     },
     "output_type": "display_data"
    }
   ],
   "source": [
    "print(dt.pais.value_counts())\n",
    "curvaSobrevivencia(dt,'nacionalidade',eixoX='anos',titulo='Probabilidade sobrevivência por nacionalidade');plt.xlabel('anos');"
   ]
  },
  {
   "cell_type": "code",
   "execution_count": 38,
   "metadata": {},
   "outputs": [
    {
     "name": "stdout",
     "output_type": "stream",
     "text": [
      "<lifelines.StatisticalResult>\n",
      "               t_0 = -1\n",
      " null_distribution = chi squared\n",
      "degrees_of_freedom = 3\n",
      "\n",
      "---\n",
      " test_statistic      p  -log2(p)\n",
      "         117.15 <0.005     81.38\n"
     ]
    }
   ],
   "source": [
    "from lifelines.statistics import multivariate_logrank_test\n",
    "\n",
    "results=multivariate_logrank_test(event_durations=T,groups=dt['nacionalidade'],event_observed=C)\n",
    "results.print_summary()"
   ]
  },
  {
   "cell_type": "markdown",
   "metadata": {},
   "source": [
    "**Existem diferenças entre as curvas de sobrevivência. Vamos ver onde. Isto é como se fosse um teste post-hoc**"
   ]
  },
  {
   "cell_type": "code",
   "execution_count": 39,
   "metadata": {},
   "outputs": [
    {
     "name": "stdout",
     "output_type": "stream",
     "text": [
      "<lifelines.StatisticalResult>\n",
      "               t_0 = -1\n",
      " null_distribution = chi squared\n",
      "degrees_of_freedom = 1\n",
      "\n",
      "---\n",
      "                         test_statistic      p  -log2(p)\n",
      "Europa   ND                       11.64 <0.005     10.60\n",
      "         Portugal                 58.71 <0.005     45.63\n",
      "         Resto do mundo            1.65   0.20      2.32\n",
      "ND       Portugal                 19.15 <0.005     16.34\n",
      "         Resto do mundo           12.97 <0.005     11.63\n",
      "Portugal Resto do mundo           41.27 <0.005     32.81\n"
     ]
    }
   ],
   "source": [
    "results=pairwise_logrank_test(event_durations=T,groups=dt.nacionalidade,event_observed=C)\n",
    "results.print_summary()"
   ]
  },
  {
   "cell_type": "markdown",
   "metadata": {},
   "source": [
    "**Correr novamente os testes sem os NDs**"
   ]
  },
  {
   "cell_type": "markdown",
   "metadata": {},
   "source": [
    "#### Por associacoes"
   ]
  },
  {
   "cell_type": "markdown",
   "metadata": {},
   "source": [
    "Vamos considerar só associações com mais de 2000 federados"
   ]
  },
  {
   "cell_type": "code",
   "execution_count": 40,
   "metadata": {},
   "outputs": [],
   "source": [
    "associacoes=['Porto','Lisboa','Aveiro','Braga','Madeira','Viseu','Leiria']\n",
    "dtAssociacoes=dt.loc[dt['associacao'].isin(associacoes)]"
   ]
  },
  {
   "cell_type": "code",
   "execution_count": 41,
   "metadata": {},
   "outputs": [
    {
     "data": {
      "text/plain": [
       "Porto      7114\n",
       "Lisboa     4092\n",
       "Aveiro     3453\n",
       "Braga      2993\n",
       "Madeira    2570\n",
       "Viseu      2475\n",
       "Leiria     2278\n",
       "Name: associacao, dtype: int64"
      ]
     },
     "execution_count": 41,
     "metadata": {},
     "output_type": "execute_result"
    }
   ],
   "source": [
    "dtAssociacoes.associacao.value_counts()"
   ]
  },
  {
   "cell_type": "code",
   "execution_count": 42,
   "metadata": {},
   "outputs": [
    {
     "name": "stdout",
     "output_type": "stream",
     "text": [
      "Porto                Porto\n",
      "timeline          \n",
      "0.0       1.000000\n",
      "1.0       0.703823\n",
      "2.0       0.585492\n",
      "3.0       0.508137\n",
      "4.0       0.450381\n",
      "Lisboa               Lisboa\n",
      "timeline          \n",
      "0.0       1.000000\n",
      "1.0       0.635142\n",
      "2.0       0.506910\n",
      "3.0       0.423994\n",
      "4.0       0.365250\n",
      "Madeira              Madeira\n",
      "timeline          \n",
      "0.0       1.000000\n",
      "1.0       0.590661\n",
      "2.0       0.447483\n",
      "3.0       0.363610\n",
      "4.0       0.312606\n",
      "Aveiro               Aveiro\n",
      "timeline          \n",
      "0.0       1.000000\n",
      "1.0       0.701129\n",
      "2.0       0.579838\n",
      "3.0       0.499389\n",
      "4.0       0.449831\n",
      "Viseu                Viseu\n",
      "timeline          \n",
      "0.0       1.000000\n",
      "1.0       0.793939\n",
      "2.0       0.697055\n",
      "3.0       0.601006\n",
      "4.0       0.511256\n",
      "Braga                Braga\n",
      "timeline          \n",
      "0.0       1.000000\n",
      "1.0       0.669896\n",
      "2.0       0.515360\n",
      "3.0       0.436927\n",
      "4.0       0.378860\n",
      "Leiria               Leiria\n",
      "timeline          \n",
      "0.0       1.000000\n",
      "1.0       0.668569\n",
      "2.0       0.563176\n",
      "3.0       0.493700\n",
      "4.0       0.430958\n"
     ]
    },
    {
     "data": {
      "image/png": "[encoded data removed]",
      "text/plain": [
       "<Figure size 1080x360 with 1 Axes>"
      ]
     },
     "metadata": {
      "needs_background": "light"
     },
     "output_type": "display_data"
    }
   ],
   "source": [
    "T = dtAssociacoes['anos']\n",
    "C = dtAssociacoes['abandonou']\n",
    "kmf.fit(T,C,label=\"Abandono dos atletas\")\n",
    "curvaSobrevivencia(dtAssociacoes,'associacao',eixoX='anos',titulo='Probabilidade sobrevivência por associacao');plt.xlabel('anos');"
   ]
  },
  {
   "cell_type": "markdown",
   "metadata": {},
   "source": [
    "Vamos considerar só associações com menos de 2000 federados"
   ]
  },
  {
   "cell_type": "code",
   "execution_count": 43,
   "metadata": {},
   "outputs": [
    {
     "data": {
      "text/plain": [
       "Porto                7114\n",
       "Lisboa               4092\n",
       "Aveiro               3453\n",
       "Braga                2993\n",
       "Madeira              2570\n",
       "Viseu                2475\n",
       "Leiria               2278\n",
       "Algarve              1720\n",
       "Setubal              1716\n",
       "Santarem             1643\n",
       "Guarda                526\n",
       "Vila Real             510\n",
       "Beja                  490\n",
       "Ilha S. Miguel        431\n",
       "Ilha Terceira         420\n",
       "Portalegre            398\n",
       "Ilha Faial            360\n",
       "Evora                 337\n",
       "Coimbra               327\n",
       "Castelo Branco        230\n",
       "Ilha S. Maria         214\n",
       "V. Castelo            109\n",
       "Ilha Graciosa         108\n",
       "Leiria A Praia         90\n",
       "Braganca               71\n",
       "Porto A Praia          41\n",
       "SetÃºbal - A 4ALL      19\n",
       "Andebol de Praia       13\n",
       "Porto - A 4LL          12\n",
       "Aveiro -  4ALL         12\n",
       "Lisboa A Praia         12\n",
       "Leiria - A 4ALL        11\n",
       "Algarve - A 4ALL       11\n",
       "Lisboa - A 4ALL        11\n",
       "Viseu A Praia           8\n",
       "Aveiro A Praia          7\n",
       "Madeira A Praia         6\n",
       "L.P.A.                  5\n",
       "F.A.P.                  4\n",
       "Setubal A Praia         3\n",
       "Name: associacao, dtype: int64"
      ]
     },
     "execution_count": 43,
     "metadata": {},
     "output_type": "execute_result"
    }
   ],
   "source": [
    "dt.associacao.value_counts()"
   ]
  },
  {
   "cell_type": "markdown",
   "metadata": {},
   "source": [
    "Algarve              1720\n",
    "Setubal              1716\n",
    "Santarem             1643\n",
    "Guarda                526\n",
    "Vila Real             510\n",
    "Beja                  490\n",
    "Ilha S. Miguel        431\n",
    "Ilha Terceira         420\n",
    "Portalegre            398\n",
    "Ilha Faial            360\n",
    "Evora                 337\n",
    "Coimbra               327\n",
    "Castelo Branco        230\n",
    "Ilha S. Maria         214\n",
    "V. Castelo            109\n",
    "Ilha Graciosa         108\n",
    "Leiria A Praia         90\n",
    "Braganca               71"
   ]
  },
  {
   "cell_type": "code",
   "execution_count": 44,
   "metadata": {},
   "outputs": [],
   "source": [
    "associacoes=['Algarve','Setubal','Santarem','Guarda','Vila Real','Beja','Ilha S. Miguel','Ilha Terceira','Portalegre',\n",
    "             'Ilha Faial','Evora','Coimbra','Castelo Branco','Ilha S. Maria','V. Castelo','Ilha Graciosa','Braganca']\n",
    "dtAssociacoes=dt.loc[dt['associacao'].isin(associacoes)]"
   ]
  },
  {
   "cell_type": "code",
   "execution_count": 45,
   "metadata": {},
   "outputs": [
    {
     "data": {
      "text/plain": [
       "Algarve           1720\n",
       "Setubal           1716\n",
       "Santarem          1643\n",
       "Guarda             526\n",
       "Vila Real          510\n",
       "Beja               490\n",
       "Ilha S. Miguel     431\n",
       "Ilha Terceira      420\n",
       "Portalegre         398\n",
       "Ilha Faial         360\n",
       "Evora              337\n",
       "Coimbra            327\n",
       "Castelo Branco     230\n",
       "Ilha S. Maria      214\n",
       "V. Castelo         109\n",
       "Ilha Graciosa      108\n",
       "Braganca            71\n",
       "Name: associacao, dtype: int64"
      ]
     },
     "execution_count": 45,
     "metadata": {},
     "output_type": "execute_result"
    }
   ],
   "source": [
    "dtAssociacoes.associacao.value_counts()"
   ]
  },
  {
   "cell_type": "code",
   "execution_count": 46,
   "metadata": {},
   "outputs": [
    {
     "name": "stdout",
     "output_type": "stream",
     "text": [
      "Santarem             Santarem\n",
      "timeline          \n",
      "0.0       1.000000\n",
      "1.0       0.642727\n",
      "2.0       0.494598\n",
      "3.0       0.407041\n",
      "4.0       0.348060\n",
      "V. Castelo             V. Castelo\n",
      "timeline            \n",
      "0.0         1.000000\n",
      "1.0         0.458716\n",
      "2.0         0.305810\n",
      "3.0         0.215200\n",
      "4.0         0.181221\n",
      "Portalegre             Portalegre\n",
      "timeline            \n",
      "0.0         1.000000\n",
      "1.0         0.660804\n",
      "2.0         0.526000\n",
      "3.0         0.454142\n",
      "4.0         0.371269\n",
      "Algarve              Algarve\n",
      "timeline          \n",
      "0.0       1.000000\n",
      "1.0       0.641860\n",
      "2.0       0.506229\n",
      "3.0       0.401261\n",
      "4.0       0.338352\n",
      "Evora                Evora\n",
      "timeline          \n",
      "0.0       1.000000\n",
      "1.0       0.729970\n",
      "2.0       0.628756\n",
      "3.0       0.543017\n",
      "4.0       0.440172\n",
      "Setubal              Setubal\n",
      "timeline          \n",
      "0.0       1.000000\n",
      "1.0       0.601981\n",
      "2.0       0.493997\n",
      "3.0       0.420865\n",
      "4.0       0.373735\n",
      "Coimbra              Coimbra\n",
      "timeline          \n",
      "0.0       1.000000\n",
      "1.0       0.565749\n",
      "2.0       0.385321\n",
      "3.0       0.266055\n",
      "4.0       0.189602\n",
      "Beja                 Beja\n",
      "timeline          \n",
      "0.0       1.000000\n",
      "1.0       0.583673\n",
      "2.0       0.465602\n",
      "3.0       0.387099\n",
      "4.0       0.346706\n",
      "Castelo Branco             Castelo Branco\n",
      "timeline                \n",
      "0.0             1.000000\n",
      "1.0             0.756522\n",
      "2.0             0.594783\n",
      "3.0             0.518977\n",
      "4.0             0.449003\n",
      "Vila Real             Vila Real\n",
      "timeline           \n",
      "0.0        1.000000\n",
      "1.0        0.609804\n",
      "2.0        0.446925\n",
      "3.0        0.337474\n",
      "4.0        0.271994\n",
      "Guarda               Guarda\n",
      "timeline          \n",
      "0.0       1.000000\n",
      "1.0       0.910646\n",
      "2.0       0.810744\n",
      "3.0       0.744561\n",
      "4.0       0.667462\n",
      "Ilha S. Maria             Ilha S. Maria\n",
      "timeline               \n",
      "0.0            1.000000\n",
      "1.0            0.813084\n",
      "2.0            0.568660\n",
      "3.0            0.442291\n",
      "4.0            0.305243\n",
      "Ilha Terceira             Ilha Terceira\n",
      "timeline               \n",
      "0.0            1.000000\n",
      "1.0            0.902381\n",
      "2.0            0.671371\n",
      "3.0            0.427465\n",
      "4.0            0.231334\n",
      "Ilha S. Miguel             Ilha S. Miguel\n",
      "timeline                \n",
      "0.0             1.000000\n",
      "1.0             0.791183\n",
      "2.0             0.662555\n",
      "3.0             0.575892\n",
      "4.0             0.328229\n",
      "Ilha Graciosa             Ilha Graciosa\n",
      "timeline               \n",
      "0.0            1.000000\n",
      "1.0            0.657407\n",
      "2.0            0.516534\n",
      "3.0            0.432011\n",
      "4.0            0.316808\n",
      "Ilha Faial             Ilha Faial\n",
      "timeline            \n",
      "0.0         1.000000\n",
      "1.0         0.669444\n",
      "2.0         0.510451\n",
      "3.0         0.422859\n",
      "4.0         0.279786\n",
      "Braganca             Braganca\n",
      "timeline          \n",
      "0.0       1.000000\n",
      "1.0       0.591549\n",
      "2.0       0.535211\n",
      "3.0       0.450704\n",
      "4.0       0.070423\n"
     ]
    },
    {
     "data": {
      "image/png": "[encoded data removed]",
      "text/plain": [
       "<Figure size 1080x360 with 1 Axes>"
      ]
     },
     "metadata": {
      "needs_background": "light"
     },
     "output_type": "display_data"
    }
   ],
   "source": [
    "T = dtAssociacoes['anos']\n",
    "C = dtAssociacoes['abandonou']\n",
    "kmf.fit(T,C,label=\"Abandono dos atletas\")\n",
    "curvaSobrevivencia(dtAssociacoes,'associacao',eixoX='anos',titulo='Probabilidade sobrevivência por associacao');plt.xlabel('anos');"
   ]
  },
  {
   "cell_type": "code",
   "execution_count": 47,
   "metadata": {},
   "outputs": [
    {
     "name": "stdout",
     "output_type": "stream",
     "text": [
      "<lifelines.StatisticalResult>\n",
      "               t_0 = -1\n",
      " null_distribution = chi squared\n",
      "degrees_of_freedom = 16\n",
      "\n",
      "---\n",
      " test_statistic      p  -log2(p)\n",
      "         318.05 <0.005    190.47\n"
     ]
    }
   ],
   "source": [
    "from lifelines.statistics import multivariate_logrank_test\n",
    "\n",
    "results=multivariate_logrank_test(event_durations=T,groups=dtAssociacoes['associacao'],event_observed=C)\n",
    "results.print_summary()"
   ]
  },
  {
   "cell_type": "markdown",
   "metadata": {},
   "source": [
    "É maios ou menos igual. Porto e Braga aparentemente com melhores retenções"
   ]
  },
  {
   "cell_type": "markdown",
   "metadata": {},
   "source": [
    "**Existem diferenças entre as curvas de sobrevivência. Vamos ver onde. Isto é como se fosse um teste post-hoc**"
   ]
  },
  {
   "cell_type": "code",
   "execution_count": 48,
   "metadata": {},
   "outputs": [
    {
     "name": "stdout",
     "output_type": "stream",
     "text": [
      "<lifelines.StatisticalResult>\n",
      "               t_0 = -1\n",
      " null_distribution = chi squared\n",
      "degrees_of_freedom = 1\n",
      "\n",
      "---\n",
      "                               test_statistic      p  -log2(p)\n",
      "Algarve        Beja                      0.01   0.90      0.15\n",
      "               Braganca                 13.82 <0.005     12.28\n",
      "               Castelo Branco            9.08 <0.005      8.59\n",
      "               Coimbra                  22.32 <0.005     18.72\n",
      "               Evora                    17.55 <0.005     15.13\n",
      "               Guarda                  153.58 <0.005    114.75\n",
      "               Ilha Faial                0.08   0.77      0.37\n",
      "               Ilha Graciosa             4.25   0.04      4.67\n",
      "               Ilha S. Maria             2.87   0.09      3.47\n",
      "               Ilha S. Miguel           12.63 <0.005     11.36\n",
      "               Ilha Terceira             0.05   0.83      0.27\n",
      "               Portalegre                0.19   0.66      0.60\n",
      "               Santarem                  0.37   0.54      0.89\n",
      "               Setubal                   2.48   0.12      3.12\n",
      "               V. Castelo               23.65 <0.005     19.73\n",
      "               Vila Real                 8.91 <0.005      8.46\n",
      "Beja           Braganca                 10.93 <0.005     10.04\n",
      "               Castelo Branco            5.95   0.01      6.08\n",
      "               Coimbra                  16.36 <0.005     14.22\n",
      "               Evora                     9.66 <0.005      9.05\n",
      "               Guarda                   96.03 <0.005     72.90\n",
      "               Ilha Faial                0.17   0.68      0.56\n",
      "               Ilha Graciosa             4.48   0.03      4.87\n",
      "               Ilha S. Maria             1.91   0.17      2.58\n",
      "               Ilha S. Miguel            9.45 <0.005      8.89\n",
      "               Ilha Terceira             0.17   0.68      0.55\n",
      "               Portalegre                0.01   0.93      0.11\n",
      "               Santarem                  0.01   0.93      0.11\n",
      "               Setubal                   0.38   0.54      0.89\n",
      "               V. Castelo               20.01 <0.005     16.99\n",
      "               Vila Real                 6.09   0.01      6.20\n",
      "Braganca       Castelo Branco           27.68 <0.005     22.74\n",
      "               Coimbra                   0.28   0.59      0.75\n",
      "               Evora                    30.07 <0.005     24.52\n",
      "               Guarda                  124.71 <0.005     93.77\n",
      "               Ilha Faial                8.35 <0.005      8.01\n",
      "               Ilha Graciosa             7.89 <0.005      7.65\n",
      "               Ilha S. Maria            13.08 <0.005     11.71\n",
      "               Ilha S. Miguel           24.75 <0.005     20.54\n",
      "               Ilha Terceira            13.38 <0.005     11.94\n",
      "               Portalegre               15.35 <0.005     13.45\n",
      "               Santarem                 15.27 <0.005     13.39\n",
      "               Setubal                  18.27 <0.005     15.67\n",
      "               V. Castelo                0.13   0.72      0.47\n",
      "               Vila Real                 4.60   0.03      4.96\n",
      "Castelo Branco Coimbra                  33.21 <0.005     26.85\n",
      "               Evora                     0.18   0.67      0.58\n",
      "               Guarda                   33.96 <0.005     27.41\n",
      "               Ilha Faial                8.14 <0.005      7.85\n",
      "               Ilha Graciosa            14.30 <0.005     12.65\n",
      "               Ilha S. Maria             0.95   0.33      1.60\n",
      "               Ilha S. Miguel            0.10   0.75      0.41\n",
      "               Ilha Terceira             7.56   0.01      7.39\n",
      "               Portalegre                5.67   0.02      5.86\n",
      "               Santarem                  7.14   0.01      7.05\n",
      "               Setubal                   4.59   0.03      4.96\n",
      "               V. Castelo               36.22 <0.005     29.08\n",
      "               Vila Real                20.97 <0.005     17.71\n",
      "Coimbra        Evora                    47.49 <0.005     37.40\n",
      "               Guarda                  195.28 <0.005    145.00\n",
      "               Ilha Faial               13.06 <0.005     11.69\n",
      "               Ilha Graciosa             0.96   0.33      1.61\n",
      "               Ilha S. Maria            22.81 <0.005     19.10\n",
      "               Ilha S. Miguel           50.13 <0.005     39.34\n",
      "               Ilha Terceira            21.03 <0.005     17.76\n",
      "               Portalegre               17.17 <0.005     14.84\n",
      "               Santarem                 25.44 <0.005     21.06\n",
      "               Setubal                  31.74 <0.005     25.76\n",
      "               V. Castelo                3.85   0.05      4.33\n",
      "               Vila Real                 3.23   0.07      3.79\n",
      "Evora          Guarda                   32.15 <0.005     26.06\n",
      "               Ilha Faial               12.49 <0.005     11.26\n",
      "               Ilha Graciosa            20.30 <0.005     17.21\n",
      "               Ilha S. Maria             2.31   0.13      2.96\n",
      "               Ilha S. Miguel            0.59   0.44      1.18\n",
      "               Ilha Terceira            16.08 <0.005     14.01\n",
      "               Portalegre               10.02 <0.005      9.33\n",
      "               Santarem                 13.87 <0.005     12.32\n",
      "               Setubal                   8.61 <0.005      8.22\n",
      "               V. Castelo               45.91 <0.005     36.23\n",
      "               Vila Real                34.46 <0.005     27.77\n",
      "Guarda         Ilha Faial              105.09 <0.005     79.50\n",
      "               Ilha Graciosa            94.72 <0.005     71.95\n",
      "               Ilha S. Maria            52.20 <0.005     40.86\n",
      "               Ilha S. Miguel           60.32 <0.005     46.82\n",
      "               Ilha Terceira           147.74 <0.005    110.51\n",
      "               Portalegre               96.64 <0.005     73.35\n",
      "               Santarem                134.38 <0.005    100.81\n",
      "               Setubal                 107.43 <0.005     81.21\n",
      "               V. Castelo              151.93 <0.005    113.55\n",
      "               Vila Real               178.52 <0.005    132.85\n",
      "Ilha Faial     Ilha Graciosa             2.25   0.13      2.91\n",
      "               Ilha S. Maria             2.44   0.12      3.08\n",
      "               Ilha S. Miguel           10.52 <0.005      9.73\n",
      "               Ilha Terceira             0.05   0.83      0.27\n",
      "               Portalegre                0.35   0.55      0.85\n",
      "               Santarem                  0.40   0.53      0.92\n",
      "               Setubal                   1.91   0.17      2.58\n",
      "               V. Castelo               19.74 <0.005     16.78\n",
      "               Vila Real                 4.37   0.04      4.78\n",
      "Ilha Graciosa  Ilha S. Maria             7.33   0.01      7.21\n",
      "               Ilha S. Miguel           14.35 <0.005     12.69\n",
      "               Ilha Terceira             2.73   0.10      3.35\n",
      "               Portalegre                4.48   0.03      4.87\n",
      "               Santarem                  5.81   0.02      5.97\n",
      "               Setubal                   8.69 <0.005      8.29\n",
      "               V. Castelo                4.08   0.04      4.53\n",
      "               Vila Real                 0.22   0.64      0.64\n",
      "Ilha S. Maria  Ilha S. Miguel            1.69   0.19      2.37\n",
      "               Ilha Terceira             1.73   0.19      2.41\n",
      "               Portalegre                1.23   0.27      1.90\n",
      "               Santarem                  2.00   0.16      2.67\n",
      "               Setubal                   0.65   0.42      1.25\n",
      "               V. Castelo               32.31 <0.005     26.18\n",
      "               Vila Real                12.50 <0.005     11.26\n",
      "Ilha S. Miguel Ilha Terceira            12.61 <0.005     11.35\n",
      "               Portalegre                6.58   0.01      6.60\n",
      "               Santarem                  8.98 <0.005      8.52\n",
      "               Setubal                   4.99   0.03      5.30\n",
      "               V. Castelo               50.37 <0.005     39.51\n",
      "               Vila Real                31.15 <0.005     25.32\n",
      "Ilha Terceira  Portalegre                0.26   0.61      0.72\n",
      "               Santarem                  0.75   0.39      1.37\n",
      "               Setubal                   3.01   0.08      3.60\n",
      "               V. Castelo               37.80 <0.005     30.25\n",
      "               Vila Real                 8.04 <0.005      7.77\n",
      "Portalegre     Santarem                  0.00   0.97      0.04\n",
      "               Setubal                   0.53   0.47      1.09\n",
      "               V. Castelo               21.75 <0.005     18.30\n",
      "               Vila Real                 7.63   0.01      7.45\n",
      "Santarem       Setubal                   1.39   0.24      2.07\n",
      "               V. Castelo               25.66 <0.005     21.23\n",
      "               Vila Real                11.80 <0.005     10.72\n",
      "Setubal        V. Castelo               27.27 <0.005     22.43\n",
      "               Vila Real                16.78 <0.005     14.54\n",
      "V. Castelo     Vila Real                 9.47 <0.005      8.90\n"
     ]
    }
   ],
   "source": [
    "results=pairwise_logrank_test(event_durations=T,groups=dtAssociacoes['associacao'],event_observed=C)\n",
    "results.print_summary()"
   ]
  },
  {
   "cell_type": "markdown",
   "metadata": {},
   "source": [
    "#### Escalões Federação Femininos e MAsc"
   ]
  },
  {
   "cell_type": "code",
   "execution_count": 49,
   "metadata": {},
   "outputs": [],
   "source": [
    "dtFem = dt.loc[dt.sexo=='F']\n",
    "dtMasc = dt.loc[dt.sexo=='M']"
   ]
  },
  {
   "cell_type": "code",
   "execution_count": 50,
   "metadata": {},
   "outputs": [
    {
     "name": "stdout",
     "output_type": "stream",
     "text": [
      "Veteranos F             Veteranos F\n",
      "timeline             \n",
      "0.0          1.000000\n",
      "1.0          0.638554\n",
      "2.0          0.590663\n",
      "3.0          0.548472\n",
      "4.0          0.313413\n",
      "Seniores F             Seniores F\n",
      "timeline            \n",
      "0.0         1.000000\n",
      "1.0         0.599336\n",
      "2.0         0.429180\n",
      "3.0         0.310744\n",
      "4.0         0.243084\n",
      "Juniores F             Juniores F\n",
      "timeline            \n",
      "0.0         1.000000\n",
      "1.0         0.655243\n",
      "2.0         0.510324\n",
      "3.0         0.424042\n",
      "4.0         0.340651\n",
      "Juvenis F             Juvenis F\n",
      "timeline           \n",
      "0.0        1.000000\n",
      "1.0        0.675400\n",
      "2.0        0.557067\n",
      "3.0        0.481272\n",
      "4.0        0.409405\n",
      "Iniciados F             Iniciados F\n",
      "timeline             \n",
      "0.0          1.000000\n",
      "1.0          0.700970\n",
      "2.0          0.596546\n",
      "3.0          0.533112\n",
      "4.0          0.480675\n",
      "Infantis F             Infantis F\n",
      "timeline            \n",
      "0.0         1.000000\n",
      "1.0         0.707187\n",
      "2.0         0.604354\n",
      "3.0         0.543010\n",
      "4.0         0.518499\n",
      "Minis F              Minis F\n",
      "timeline          \n",
      "0.0       1.000000\n",
      "1.0       0.749616\n",
      "2.0       0.655090\n",
      "3.0       0.626067\n",
      "4.0       0.608179\n",
      "Bambis F             Bambis F\n",
      "timeline          \n",
      "0.0       1.000000\n",
      "1.0       0.748954\n",
      "2.0       0.656163\n",
      "3.0       0.637936\n",
      "4.0       0.637936\n",
      "Pre-Bambi F             Pre-Bambi F\n",
      "timeline             \n",
      "0.0              1.00\n",
      "1.0              0.75\n",
      "2.0              0.75\n",
      "3.0              0.75\n"
     ]
    },
    {
     "data": {
      "image/png": "[encoded data removed]",
      "text/plain": [
       "<Figure size 1080x360 with 1 Axes>"
      ]
     },
     "metadata": {
      "needs_background": "light"
     },
     "output_type": "display_data"
    }
   ],
   "source": [
    "T = dtFem['anos']\n",
    "C = dtFem['abandonou']\n",
    "kmf.fit(T,C,label=\"Abandono dos atletas\")\n",
    "curvaSobrevivencia(dtFem,'escFederacao',eixoX='anos',titulo='Probabilidade de sobrevivência por escalão');plt.xlabel('anos');"
   ]
  },
  {
   "cell_type": "code",
   "execution_count": 51,
   "metadata": {},
   "outputs": [
    {
     "name": "stdout",
     "output_type": "stream",
     "text": [
      "<lifelines.StatisticalResult>\n",
      "               t_0 = -1\n",
      " null_distribution = chi squared\n",
      "degrees_of_freedom = 8\n",
      "\n",
      "---\n",
      " test_statistic      p  -log2(p)\n",
      "         724.14 <0.005    499.43\n"
     ]
    }
   ],
   "source": [
    "from lifelines.statistics import multivariate_logrank_test\n",
    "\n",
    "results=multivariate_logrank_test(event_durations=T,groups=dtFem['escFederacao'],event_observed=C)\n",
    "results.print_summary()"
   ]
  },
  {
   "cell_type": "markdown",
   "metadata": {},
   "source": [
    "**Existem diferenças entre as curvas de sobrevivência. Vamos ver onde. Isto é como se fosse um teste post-hoc**"
   ]
  },
  {
   "cell_type": "code",
   "execution_count": 52,
   "metadata": {},
   "outputs": [
    {
     "name": "stdout",
     "output_type": "stream",
     "text": [
      "<lifelines.StatisticalResult>\n",
      "               t_0 = -1\n",
      " null_distribution = chi squared\n",
      "degrees_of_freedom = 1\n",
      "\n",
      "---\n",
      "                         test_statistic      p  -log2(p)\n",
      "Bambis F    Infantis F             3.17   0.07      3.74\n",
      "            Iniciados F            4.34   0.04      4.75\n",
      "            Juniores F            18.81 <0.005     16.08\n",
      "            Juvenis F             10.25 <0.005      9.52\n",
      "            Minis F                0.01   0.91      0.14\n",
      "            Pre-Bambi F            0.30   0.58      0.78\n",
      "            Seniores F            44.85 <0.005     35.46\n",
      "            Veteranos F            3.94   0.05      4.41\n",
      "Infantis F  Iniciados F            2.03   0.15      2.69\n",
      "            Juniores F            79.12 <0.005     60.57\n",
      "            Juvenis F             25.38 <0.005     21.02\n",
      "            Minis F                7.72   0.01      7.52\n",
      "            Pre-Bambi F            1.38   0.24      2.06\n",
      "            Seniores F           269.13 <0.005    198.50\n",
      "            Veteranos F            2.99   0.08      3.58\n",
      "Iniciados F Juniores F            88.16 <0.005     67.17\n",
      "            Juvenis F             19.68 <0.005     16.73\n",
      "            Minis F               12.78 <0.005     11.48\n",
      "            Pre-Bambi F            1.59   0.21      2.27\n",
      "            Seniores F           358.35 <0.005    263.07\n",
      "            Veteranos F            1.88   0.17      2.55\n",
      "Juniores F  Juvenis F             36.91 <0.005     29.59\n",
      "            Minis F               60.63 <0.005     47.04\n",
      "            Pre-Bambi F            4.03   0.04      4.49\n",
      "            Seniores F           122.90 <0.005     92.46\n",
      "            Veteranos F            0.38   0.54      0.89\n",
      "Juvenis F   Minis F               31.96 <0.005     25.92\n",
      "            Pre-Bambi F            2.68   0.10      3.30\n",
      "            Seniores F           291.05 <0.005    214.37\n",
      "            Veteranos F            0.15   0.70      0.51\n",
      "Minis F     Pre-Bambi F            0.33   0.56      0.82\n",
      "            Seniores F           148.31 <0.005    110.93\n",
      "            Veteranos F            8.10 <0.005      7.82\n",
      "Pre-Bambi F Seniores F             7.94 <0.005      7.69\n",
      "            Veteranos F            2.17   0.14      2.83\n",
      "Seniores F  Veteranos F            6.20   0.01      6.29\n"
     ]
    }
   ],
   "source": [
    "results=pairwise_logrank_test(event_durations=T,groups=dtFem.escFederacao,event_observed=C)\n",
    "results.print_summary()"
   ]
  },
  {
   "cell_type": "code",
   "execution_count": 53,
   "metadata": {},
   "outputs": [
    {
     "name": "stdout",
     "output_type": "stream",
     "text": [
      "Veteranos M             Veteranos M\n",
      "timeline             \n",
      "0.0          1.000000\n",
      "1.0          0.502488\n",
      "2.0          0.421441\n",
      "3.0          0.331773\n",
      "4.0          0.299666\n",
      "Seniores M             Seniores M\n",
      "timeline            \n",
      "0.0         1.000000\n",
      "1.0         0.586691\n",
      "2.0         0.426152\n",
      "3.0         0.326784\n",
      "4.0         0.249850\n",
      "Juniores M             Juniores M\n",
      "timeline            \n",
      "0.0         1.000000\n",
      "1.0         0.661957\n",
      "2.0         0.518636\n",
      "3.0         0.423233\n",
      "4.0         0.351735\n",
      "Juvenis M             Juvenis M\n",
      "timeline           \n",
      "0.0        1.000000\n",
      "1.0        0.703624\n",
      "2.0        0.589340\n",
      "3.0        0.510190\n",
      "4.0        0.442501\n",
      "Minis M              Minis M\n",
      "timeline          \n",
      "0.0       1.000000\n",
      "1.0       0.748795\n",
      "2.0       0.651682\n",
      "3.0       0.603334\n",
      "4.0       0.568431\n",
      "Iniciados M             Iniciados M\n",
      "timeline             \n",
      "0.0          1.000000\n",
      "1.0          0.733192\n",
      "2.0          0.621703\n",
      "3.0          0.556744\n",
      "4.0          0.514106\n",
      "Infantis M             Infantis M\n",
      "timeline            \n",
      "0.0         1.000000\n",
      "1.0         0.743212\n",
      "2.0         0.649037\n",
      "3.0         0.586951\n",
      "4.0         0.544535\n",
      "Bambis M             Bambis M\n",
      "timeline          \n",
      "0.0       1.000000\n",
      "1.0       0.748474\n",
      "2.0       0.685409\n",
      "3.0       0.653447\n",
      "4.0       0.606773\n",
      "Pre-Bambi M             Pre-Bambi M\n",
      "timeline             \n",
      "0.0          1.000000\n",
      "1.0          0.820755\n",
      "2.0          0.783784\n",
      "3.0          0.783784\n",
      "4.0          0.783784\n"
     ]
    },
    {
     "data": {
      "image/png": "[encoded data removed]",
      "text/plain": [
       "<Figure size 1080x360 with 1 Axes>"
      ]
     },
     "metadata": {
      "needs_background": "light"
     },
     "output_type": "display_data"
    }
   ],
   "source": [
    "T = dtMasc['anos']\n",
    "C = dtMasc['abandonou']\n",
    "kmf.fit(T,C,label=\"Abandono dos atletas\")\n",
    "curvaSobrevivencia(dtMasc,'escFederacao',eixoX='anos',titulo='Probabilidade sobrevivência por escalão');plt.xlabel('anos');"
   ]
  },
  {
   "cell_type": "code",
   "execution_count": 54,
   "metadata": {},
   "outputs": [
    {
     "name": "stdout",
     "output_type": "stream",
     "text": [
      "<lifelines.StatisticalResult>\n",
      "               t_0 = -1\n",
      " null_distribution = chi squared\n",
      "degrees_of_freedom = 8\n",
      "\n",
      "---\n",
      " test_statistic      p  -log2(p)\n",
      "        1810.54 <0.005       inf\n"
     ]
    }
   ],
   "source": [
    "from lifelines.statistics import multivariate_logrank_test\n",
    "\n",
    "results=multivariate_logrank_test(event_durations=T,groups=dtMasc['escFederacao'],event_observed=C)\n",
    "results.print_summary()"
   ]
  },
  {
   "cell_type": "markdown",
   "metadata": {},
   "source": [
    "**Existem diferenças entre as curvas de sobrevivência. Vamos ver onde. Isto é como se fosse um teste post-hoc**"
   ]
  },
  {
   "cell_type": "code",
   "execution_count": 55,
   "metadata": {},
   "outputs": [
    {
     "name": "stdout",
     "output_type": "stream",
     "text": [
      "<lifelines.StatisticalResult>\n",
      "               t_0 = -1\n",
      " null_distribution = chi squared\n",
      "degrees_of_freedom = 1\n",
      "\n",
      "---\n",
      "                         test_statistic      p  -log2(p)\n",
      "Bambis M    Infantis M             4.23   0.04      4.66\n",
      "            Iniciados M           11.57 <0.005     10.55\n",
      "            Juniores M            81.57 <0.005     62.36\n",
      "            Juvenis M             30.30 <0.005     24.69\n",
      "            Minis M                2.00   0.16      2.67\n",
      "            Pre-Bambi M            7.80   0.01      7.58\n",
      "            Seniores M           194.66 <0.005    144.56\n",
      "            Veteranos M           64.33 <0.005     49.75\n",
      "Infantis M  Iniciados M           14.78 <0.005     13.01\n",
      "            Juniores M           315.26 <0.005    231.89\n",
      "            Juvenis M             84.13 <0.005     64.23\n",
      "            Minis M                1.53   0.22      2.21\n",
      "            Pre-Bambi M           14.17 <0.005     12.55\n",
      "            Seniores M           840.30 <0.005    611.33\n",
      "            Veteranos M           67.96 <0.005     52.41\n",
      "Iniciados M Juniores M           275.67 <0.005    203.24\n",
      "            Juvenis M             37.37 <0.005     29.93\n",
      "            Minis M               13.99 <0.005     12.41\n",
      "            Pre-Bambi M           18.89 <0.005     16.14\n",
      "            Seniores M           878.71 <0.005    639.07\n",
      "            Veteranos M           52.05 <0.005     40.75\n",
      "Juniores M  Juvenis M            148.89 <0.005    111.34\n",
      "            Minis M              177.10 <0.005    131.82\n",
      "            Pre-Bambi M           47.14 <0.005     37.14\n",
      "            Seniores M           175.03 <0.005    130.32\n",
      "            Veteranos M            9.91 <0.005      9.25\n",
      "Juvenis M   Minis M               54.69 <0.005     42.69\n",
      "            Pre-Bambi M           27.70 <0.005     22.75\n",
      "            Seniores M           680.37 <0.005    495.82\n",
      "            Veteranos M           32.22 <0.005     26.11\n",
      "Minis M     Pre-Bambi M           12.54 <0.005     11.30\n",
      "            Seniores M           456.95 <0.005    334.36\n",
      "            Veteranos M           71.84 <0.005     55.25\n",
      "Pre-Bambi M Seniores M            84.44 <0.005     64.45\n",
      "            Veteranos M           61.44 <0.005     47.64\n",
      "Seniores M  Veteranos M            0.01   0.92      0.12\n"
     ]
    }
   ],
   "source": [
    "results=pairwise_logrank_test(event_durations=T,groups=dtMasc.escFederacao,event_observed=C)\n",
    "results.print_summary()"
   ]
  },
  {
   "cell_type": "markdown",
   "metadata": {},
   "source": [
    "#### Ambos os escalões"
   ]
  },
  {
   "cell_type": "code",
   "execution_count": 56,
   "metadata": {},
   "outputs": [
    {
     "name": "stdout",
     "output_type": "stream",
     "text": [
      "Veteranos             Veteranos\n",
      "timeline           \n",
      "0.0        1.000000\n",
      "1.0        0.542254\n",
      "2.0        0.468866\n",
      "3.0        0.393847\n",
      "4.0        0.315078\n",
      "Seniores             Seniores\n",
      "timeline          \n",
      "0.0       1.000000\n",
      "1.0       0.591452\n",
      "2.0       0.427293\n",
      "3.0       0.320729\n",
      "4.0       0.247303\n",
      "Juniores             Juniores\n",
      "timeline          \n",
      "0.0       1.000000\n",
      "1.0       0.659657\n",
      "2.0       0.515792\n",
      "3.0       0.423489\n",
      "4.0       0.348016\n",
      "Juvenis              Juvenis\n",
      "timeline          \n",
      "0.0       1.000000\n",
      "1.0       0.694325\n",
      "2.0       0.578740\n",
      "3.0       0.500698\n",
      "4.0       0.431781\n",
      "Minis                Minis\n",
      "timeline          \n",
      "0.0       1.000000\n",
      "1.0       0.749007\n",
      "2.0       0.652473\n",
      "3.0       0.607894\n",
      "4.0       0.575604\n",
      "Iniciados             Iniciados\n",
      "timeline           \n",
      "0.0        1.000000\n",
      "1.0        0.722548\n",
      "2.0        0.613376\n",
      "3.0        0.548943\n",
      "4.0        0.503592\n",
      "Infantis             Infantis\n",
      "timeline          \n",
      "0.0       1.000000\n",
      "1.0       0.732417\n",
      "2.0       0.635720\n",
      "3.0       0.573923\n",
      "4.0       0.535865\n",
      "Bambis               Bambis\n",
      "timeline          \n",
      "0.0       1.000000\n",
      "1.0       0.748582\n",
      "2.0       0.679564\n",
      "3.0       0.649889\n",
      "4.0       0.609271\n",
      "Pre-Bambi             Pre-Bambi\n",
      "timeline           \n",
      "0.0        1.000000\n",
      "1.0        0.810484\n",
      "2.0        0.777537\n",
      "3.0        0.777537\n",
      "4.0        0.777537\n"
     ]
    },
    {
     "data": {
      "image/png": "[encoded data removed]",
      "text/plain": [
       "<Figure size 1080x360 with 1 Axes>"
      ]
     },
     "metadata": {
      "needs_background": "light"
     },
     "output_type": "display_data"
    }
   ],
   "source": [
    "T = dt['anos']\n",
    "C = dt['abandonou']\n",
    "kmf.fit(T,C,label=\"Abandono dos atletas\")\n",
    "curvaSobrevivencia(dt,'escFedTodos',eixoX='anos',titulo='Probabilidade sobrevivência por escalão');plt.xlabel('anos');"
   ]
  },
  {
   "cell_type": "markdown",
   "metadata": {},
   "source": [
    "#### Por tipo de inscrição"
   ]
  },
  {
   "cell_type": "code",
   "execution_count": 57,
   "metadata": {},
   "outputs": [
    {
     "name": "stdout",
     "output_type": "stream",
     "text": [
      "primeiraInsc             primeiraInsc\n",
      "timeline              \n",
      "0.0           1.000000\n",
      "1.0           0.677338\n",
      "2.0           0.549780\n",
      "3.0           0.464932\n",
      "4.0           0.397379\n",
      "revalComTransf             revalComTransf\n",
      "timeline                \n",
      "0.0             1.000000\n",
      "1.0             0.416667\n",
      "2.0             0.333333\n",
      "3.0             0.166667\n",
      "5.0             0.166667\n",
      "revalidacao             revalidacao\n",
      "timeline             \n",
      "0.0              1.00\n",
      "1.0              0.75\n",
      "2.0              0.50\n",
      "4.0              0.25\n",
      "5.0              0.25\n",
      "naoDefinido             naoDefinido\n",
      "timeline             \n",
      "0.0               1.0\n",
      "1.0               0.0\n",
      "selecao             selecao\n",
      "timeline         \n",
      "0.0          1.00\n",
      "1.0          0.25\n",
      "4.0          0.00\n"
     ]
    },
    {
     "data": {
      "image/png": "[encoded data removed]",
      "text/plain": [
       "<Figure size 1080x360 with 1 Axes>"
      ]
     },
     "metadata": {
      "needs_background": "light"
     },
     "output_type": "display_data"
    }
   ],
   "source": [
    "T = dt['anos']\n",
    "C = dt['abandonou']\n",
    "curvaSobrevivencia(dt,'tipoInscricao',eixoX='anos',titulo='Probabilidade sobrevivência por tipo de inscrição');plt.xlabel('anos');"
   ]
  },
  {
   "cell_type": "code",
   "execution_count": 58,
   "metadata": {},
   "outputs": [
    {
     "name": "stdout",
     "output_type": "stream",
     "text": [
      "<lifelines.StatisticalResult>\n",
      "               t_0 = -1\n",
      " null_distribution = chi squared\n",
      "degrees_of_freedom = 4\n",
      "\n",
      "---\n",
      " test_statistic    p  -log2(p)\n",
      "          10.79 0.03      5.11\n"
     ]
    }
   ],
   "source": [
    "from lifelines.statistics import multivariate_logrank_test\n",
    "\n",
    "results=multivariate_logrank_test(event_durations=T,groups=dt['tipoInscricao'],event_observed=C)\n",
    "results.print_summary()"
   ]
  },
  {
   "cell_type": "markdown",
   "metadata": {},
   "source": [
    "**Existem diferenças entre as curvas de sobrevivência. Vamos ver onde. Isto é como se fosse um teste post-hoc**"
   ]
  },
  {
   "cell_type": "code",
   "execution_count": 59,
   "metadata": {},
   "outputs": [
    {
     "name": "stdout",
     "output_type": "stream",
     "text": [
      "<lifelines.StatisticalResult>\n",
      "               t_0 = -1\n",
      " null_distribution = chi squared\n",
      "degrees_of_freedom = 1\n",
      "\n",
      "---\n",
      "                               test_statistic    p  -log2(p)\n",
      "naoDefinido    primeiraInsc              2.10 0.15      2.76\n",
      "               revalComTransf            0.62 0.43      1.22\n",
      "               revalidacao               1.50 0.22      2.18\n",
      "               selecao                   0.25 0.62      0.70\n",
      "primeiraInsc   revalComTransf            4.76 0.03      5.10\n",
      "               revalidacao               0.08 0.77      0.37\n",
      "               selecao                   3.85 0.05      4.33\n",
      "revalComTransf revalidacao               0.46 0.50      1.01\n",
      "               selecao                   0.27 0.61      0.72\n",
      "revalidacao    selecao                   1.20 0.27      1.87\n"
     ]
    }
   ],
   "source": [
    "results=pairwise_logrank_test(event_durations=T,groups=dt.tipoInscricao,event_observed=C)\n",
    "results.print_summary()"
   ]
  },
  {
   "cell_type": "markdown",
   "metadata": {},
   "source": [
    "#### Vamos ver este mandato em relação aos anteriores"
   ]
  },
  {
   "cell_type": "code",
   "execution_count": 60,
   "metadata": {},
   "outputs": [],
   "source": [
    "dt.loc[:,'esteMandato']=0"
   ]
  },
  {
   "cell_type": "code",
   "execution_count": 61,
   "metadata": {},
   "outputs": [],
   "source": [
    "dt.dtIns=pd.to_datetime(dt.dtIns)\n",
    "dt.loc[:,'anoInsc']=0\n",
    "dt['anoInsc']=dt['dtIns'].apply(lambda x: x.year)"
   ]
  },
  {
   "cell_type": "code",
   "execution_count": 62,
   "metadata": {},
   "outputs": [
    {
     "data": {
      "text/plain": [
       "Index(['CIPA', 'associacao', 'clube', 'dtIns', 'escalao', 'escalaoSubida',\n",
       "       'sexo', 'dtNasc', 'codPostal', 'localidade', 'pais', 'nacionalidade',\n",
       "       'epoca', 'tipoInscricao', 'dtInsc', 'dtUlt', 'anos', 'idade',\n",
       "       'abandonou', 'escaloesAnos', 'mes', 'escaloesIdade', 'anoNasc',\n",
       "       'escFederacao', 'escFedTodos', 'esteMandato', 'anoInsc'],\n",
       "      dtype='object')"
      ]
     },
     "execution_count": 62,
     "metadata": {},
     "output_type": "execute_result"
    }
   ],
   "source": [
    "dt.columns"
   ]
  },
  {
   "cell_type": "code",
   "execution_count": 63,
   "metadata": {},
   "outputs": [],
   "source": [
    "dt.loc[dt.anoInsc >= 2012,'esteMandato'] = 1"
   ]
  },
  {
   "cell_type": "code",
   "execution_count": 64,
   "metadata": {},
   "outputs": [
    {
     "data": {
      "text/plain": [
       "1    21509\n",
       "0    13341\n",
       "Name: esteMandato, dtype: int64"
      ]
     },
     "execution_count": 64,
     "metadata": {},
     "output_type": "execute_result"
    }
   ],
   "source": [
    "dt.esteMandato.value_counts()"
   ]
  },
  {
   "cell_type": "code",
   "execution_count": 65,
   "metadata": {},
   "outputs": [
    {
     "name": "stdout",
     "output_type": "stream",
     "text": [
      "1                    1\n",
      "timeline          \n",
      "0.0       1.000000\n",
      "1.0       0.690920\n",
      "2.0       0.574260\n",
      "3.0       0.498427\n",
      "4.0       0.433079\n",
      "0                    0\n",
      "timeline          \n",
      "0.0       1.000000\n",
      "1.0       0.655048\n",
      "2.0       0.511806\n",
      "3.0       0.417360\n",
      "4.0       0.349899\n"
     ]
    },
    {
     "data": {
      "image/png": "[encoded data removed]",
      "text/plain": [
       "<Figure size 1080x360 with 1 Axes>"
      ]
     },
     "metadata": {
      "needs_background": "light"
     },
     "output_type": "display_data"
    }
   ],
   "source": [
    "T = dt['anos']\n",
    "C = dt['abandonou']\n",
    "curvaSobrevivencia(dt,'esteMandato',eixoX='anos',titulo='Probabilidade sobrevivência por mandato');plt.xlabel('anos');"
   ]
  },
  {
   "cell_type": "code",
   "execution_count": 66,
   "metadata": {},
   "outputs": [
    {
     "name": "stdout",
     "output_type": "stream",
     "text": [
      "<lifelines.StatisticalResult>\n",
      "               t_0 = -1\n",
      " null_distribution = chi squared\n",
      "degrees_of_freedom = 1\n",
      "\n",
      "---\n",
      " test_statistic      p  -log2(p)\n",
      "         379.14 <0.005    278.10\n"
     ]
    }
   ],
   "source": [
    "from lifelines.statistics import multivariate_logrank_test\n",
    "\n",
    "results=multivariate_logrank_test(event_durations=T,groups=dt['esteMandato'],event_observed=C)\n",
    "results.print_summary()"
   ]
  },
  {
   "cell_type": "markdown",
   "metadata": {},
   "source": [
    "**Existem diferenças entre as curvas de sobrevivência. Vamos ver onde. Isto é como se fosse um teste post-hoc**"
   ]
  },
  {
   "cell_type": "code",
   "execution_count": 67,
   "metadata": {},
   "outputs": [
    {
     "name": "stdout",
     "output_type": "stream",
     "text": [
      "<lifelines.StatisticalResult>\n",
      "               t_0 = -1\n",
      " null_distribution = chi squared\n",
      "degrees_of_freedom = 1\n",
      "\n",
      "---\n",
      "     test_statistic      p  -log2(p)\n",
      "0 1          379.14 <0.005    278.10\n"
     ]
    }
   ],
   "source": [
    "results=pairwise_logrank_test(event_durations=T,groups=dt.esteMandato,event_observed=C)\n",
    "results.print_summary()"
   ]
  },
  {
   "cell_type": "markdown",
   "metadata": {
    "toc-hr-collapsed": false
   },
   "source": [
    "## Tratamento para a análise de cox\n",
    "Fazer o fit"
   ]
  },
  {
   "cell_type": "code",
   "execution_count": 68,
   "metadata": {},
   "outputs": [],
   "source": [
    "T = dt['anos']\n",
    "C = dt['abandonou']\n",
    "kmf.fit(T,C,label=\"Abandono dos atletas\");"
   ]
  },
  {
   "cell_type": "code",
   "execution_count": 69,
   "metadata": {},
   "outputs": [
    {
     "data": {
      "text/html": [
       "<div>\n",
       "<style scoped>\n",
       "    .dataframe tbody tr th:only-of-type {\n",
       "        vertical-align: middle;\n",
       "    }\n",
       "\n",
       "    .dataframe tbody tr th {\n",
       "        vertical-align: top;\n",
       "    }\n",
       "\n",
       "    .dataframe thead th {\n",
       "        text-align: right;\n",
       "    }\n",
       "</style>\n",
       "<table border=\"1\" class=\"dataframe\">\n",
       "  <thead>\n",
       "    <tr style=\"text-align: right;\">\n",
       "      <th></th>\n",
       "      <th>CIPA</th>\n",
       "      <th>associacao</th>\n",
       "      <th>clube</th>\n",
       "      <th>dtIns</th>\n",
       "      <th>escalao</th>\n",
       "      <th>escalaoSubida</th>\n",
       "      <th>sexo</th>\n",
       "      <th>dtNasc</th>\n",
       "      <th>codPostal</th>\n",
       "      <th>localidade</th>\n",
       "      <th>...</th>\n",
       "      <th>idade</th>\n",
       "      <th>abandonou</th>\n",
       "      <th>escaloesAnos</th>\n",
       "      <th>mes</th>\n",
       "      <th>escaloesIdade</th>\n",
       "      <th>anoNasc</th>\n",
       "      <th>escFederacao</th>\n",
       "      <th>escFedTodos</th>\n",
       "      <th>esteMandato</th>\n",
       "      <th>anoInsc</th>\n",
       "    </tr>\n",
       "  </thead>\n",
       "  <tbody>\n",
       "    <tr>\n",
       "      <th>54290</th>\n",
       "      <td>15122</td>\n",
       "      <td>Porto</td>\n",
       "      <td>ASSOCIACAO ACADEMICA S. MAMEDE</td>\n",
       "      <td>2016-11-15</td>\n",
       "      <td>Seniores M</td>\n",
       "      <td>15122.0</td>\n",
       "      <td>M</td>\n",
       "      <td>1958-04-30</td>\n",
       "      <td>-</td>\n",
       "      <td>ND</td>\n",
       "      <td>...</td>\n",
       "      <td>60</td>\n",
       "      <td>1</td>\n",
       "      <td>1 a 2</td>\n",
       "      <td>11</td>\n",
       "      <td>41 a 60</td>\n",
       "      <td>1958</td>\n",
       "      <td>Veteranos M</td>\n",
       "      <td>Veteranos</td>\n",
       "      <td>1</td>\n",
       "      <td>2016</td>\n",
       "    </tr>\n",
       "    <tr>\n",
       "      <th>69899</th>\n",
       "      <td>18162</td>\n",
       "      <td>Lisboa</td>\n",
       "      <td>N.A.A.L.PASSOS MANUEL</td>\n",
       "      <td>2015-03-27</td>\n",
       "      <td>Seniores M</td>\n",
       "      <td>18162.0</td>\n",
       "      <td>M</td>\n",
       "      <td>1960-10-03</td>\n",
       "      <td>1200-045</td>\n",
       "      <td>Lisboa</td>\n",
       "      <td>...</td>\n",
       "      <td>58</td>\n",
       "      <td>1</td>\n",
       "      <td>1 a 2</td>\n",
       "      <td>3</td>\n",
       "      <td>41 a 60</td>\n",
       "      <td>1960</td>\n",
       "      <td>Veteranos M</td>\n",
       "      <td>Veteranos</td>\n",
       "      <td>1</td>\n",
       "      <td>2015</td>\n",
       "    </tr>\n",
       "    <tr>\n",
       "      <th>57033</th>\n",
       "      <td>22435</td>\n",
       "      <td>Lisboa</td>\n",
       "      <td>Ginasio Clube Sul</td>\n",
       "      <td>2014-04-24</td>\n",
       "      <td>Seniores M</td>\n",
       "      <td>22435.0</td>\n",
       "      <td>M</td>\n",
       "      <td>1960-04-23</td>\n",
       "      <td>2815-683 Sobreda</td>\n",
       "      <td>ND</td>\n",
       "      <td>...</td>\n",
       "      <td>58</td>\n",
       "      <td>0</td>\n",
       "      <td>mais 3</td>\n",
       "      <td>4</td>\n",
       "      <td>41 a 60</td>\n",
       "      <td>1960</td>\n",
       "      <td>Veteranos M</td>\n",
       "      <td>Veteranos</td>\n",
       "      <td>1</td>\n",
       "      <td>2014</td>\n",
       "    </tr>\n",
       "    <tr>\n",
       "      <th>330626</th>\n",
       "      <td>23080</td>\n",
       "      <td>Lisboa</td>\n",
       "      <td>N.A.A.L.PASSOS MANUEL</td>\n",
       "      <td>2015-03-18</td>\n",
       "      <td>Seniores M</td>\n",
       "      <td>23080.0</td>\n",
       "      <td>M</td>\n",
       "      <td>1962-08-24</td>\n",
       "      <td>1350-073</td>\n",
       "      <td>ND</td>\n",
       "      <td>...</td>\n",
       "      <td>56</td>\n",
       "      <td>0</td>\n",
       "      <td>mais 3</td>\n",
       "      <td>3</td>\n",
       "      <td>41 a 60</td>\n",
       "      <td>1962</td>\n",
       "      <td>Veteranos M</td>\n",
       "      <td>Veteranos</td>\n",
       "      <td>1</td>\n",
       "      <td>2015</td>\n",
       "    </tr>\n",
       "    <tr>\n",
       "      <th>419382</th>\n",
       "      <td>23205</td>\n",
       "      <td>Lisboa</td>\n",
       "      <td>Ginasio Clube Sul</td>\n",
       "      <td>2014-04-24</td>\n",
       "      <td>Seniores M</td>\n",
       "      <td>23205.0</td>\n",
       "      <td>M</td>\n",
       "      <td>1962-02-24</td>\n",
       "      <td>2820-274</td>\n",
       "      <td>Charneca Caparica</td>\n",
       "      <td>...</td>\n",
       "      <td>57</td>\n",
       "      <td>1</td>\n",
       "      <td>mais 3</td>\n",
       "      <td>4</td>\n",
       "      <td>41 a 60</td>\n",
       "      <td>1962</td>\n",
       "      <td>Veteranos M</td>\n",
       "      <td>Veteranos</td>\n",
       "      <td>1</td>\n",
       "      <td>2014</td>\n",
       "    </tr>\n",
       "  </tbody>\n",
       "</table>\n",
       "<p>5 rows × 27 columns</p>\n",
       "</div>"
      ],
      "text/plain": [
       "         CIPA associacao                           clube      dtIns  \\\n",
       "54290   15122      Porto  ASSOCIACAO ACADEMICA S. MAMEDE 2016-11-15   \n",
       "69899   18162     Lisboa           N.A.A.L.PASSOS MANUEL 2015-03-27   \n",
       "57033   22435     Lisboa               Ginasio Clube Sul 2014-04-24   \n",
       "330626  23080     Lisboa           N.A.A.L.PASSOS MANUEL 2015-03-18   \n",
       "419382  23205     Lisboa               Ginasio Clube Sul 2014-04-24   \n",
       "\n",
       "           escalao  escalaoSubida sexo      dtNasc         codPostal  \\\n",
       "54290   Seniores M        15122.0    M  1958-04-30                 -   \n",
       "69899   Seniores M        18162.0    M  1960-10-03          1200-045   \n",
       "57033   Seniores M        22435.0    M  1960-04-23  2815-683 Sobreda   \n",
       "330626  Seniores M        23080.0    M  1962-08-24          1350-073   \n",
       "419382  Seniores M        23205.0    M  1962-02-24          2820-274   \n",
       "\n",
       "               localidade  ... idade abandonou escaloesAnos mes  \\\n",
       "54290                  ND  ...    60         1        1 a 2  11   \n",
       "69899              Lisboa  ...    58         1        1 a 2   3   \n",
       "57033                  ND  ...    58         0       mais 3   4   \n",
       "330626                 ND  ...    56         0       mais 3   3   \n",
       "419382  Charneca Caparica  ...    57         1       mais 3   4   \n",
       "\n",
       "        escaloesIdade  anoNasc  escFederacao  escFedTodos  esteMandato anoInsc  \n",
       "54290         41 a 60     1958   Veteranos M    Veteranos            1    2016  \n",
       "69899         41 a 60     1960   Veteranos M    Veteranos            1    2015  \n",
       "57033         41 a 60     1960   Veteranos M    Veteranos            1    2014  \n",
       "330626        41 a 60     1962   Veteranos M    Veteranos            1    2015  \n",
       "419382        41 a 60     1962   Veteranos M    Veteranos            1    2014  \n",
       "\n",
       "[5 rows x 27 columns]"
      ]
     },
     "execution_count": 69,
     "metadata": {},
     "output_type": "execute_result"
    }
   ],
   "source": [
    "dt.head()"
   ]
  },
  {
   "cell_type": "markdown",
   "metadata": {},
   "source": [
    "### Vamos criar as dummies\n",
    "Criar dummies e eliminar a primeira para evitar a colinariedade"
   ]
  },
  {
   "cell_type": "code",
   "execution_count": 70,
   "metadata": {},
   "outputs": [],
   "source": [
    "dtCox = dt.copy()"
   ]
  },
  {
   "cell_type": "code",
   "execution_count": 71,
   "metadata": {},
   "outputs": [
    {
     "data": {
      "text/html": [
       "<div>\n",
       "<style scoped>\n",
       "    .dataframe tbody tr th:only-of-type {\n",
       "        vertical-align: middle;\n",
       "    }\n",
       "\n",
       "    .dataframe tbody tr th {\n",
       "        vertical-align: top;\n",
       "    }\n",
       "\n",
       "    .dataframe thead th {\n",
       "        text-align: right;\n",
       "    }\n",
       "</style>\n",
       "<table border=\"1\" class=\"dataframe\">\n",
       "  <thead>\n",
       "    <tr style=\"text-align: right;\">\n",
       "      <th></th>\n",
       "      <th>CIPA</th>\n",
       "      <th>associacao</th>\n",
       "      <th>clube</th>\n",
       "      <th>dtIns</th>\n",
       "      <th>escalao</th>\n",
       "      <th>escalaoSubida</th>\n",
       "      <th>sexo</th>\n",
       "      <th>dtNasc</th>\n",
       "      <th>codPostal</th>\n",
       "      <th>localidade</th>\n",
       "      <th>...</th>\n",
       "      <th>idade</th>\n",
       "      <th>abandonou</th>\n",
       "      <th>escaloesAnos</th>\n",
       "      <th>mes</th>\n",
       "      <th>escaloesIdade</th>\n",
       "      <th>anoNasc</th>\n",
       "      <th>escFederacao</th>\n",
       "      <th>escFedTodos</th>\n",
       "      <th>esteMandato</th>\n",
       "      <th>anoInsc</th>\n",
       "    </tr>\n",
       "  </thead>\n",
       "  <tbody>\n",
       "    <tr>\n",
       "      <th>54290</th>\n",
       "      <td>15122</td>\n",
       "      <td>Porto</td>\n",
       "      <td>ASSOCIACAO ACADEMICA S. MAMEDE</td>\n",
       "      <td>2016-11-15</td>\n",
       "      <td>Seniores M</td>\n",
       "      <td>15122.0</td>\n",
       "      <td>M</td>\n",
       "      <td>1958-04-30</td>\n",
       "      <td>-</td>\n",
       "      <td>ND</td>\n",
       "      <td>...</td>\n",
       "      <td>60</td>\n",
       "      <td>1</td>\n",
       "      <td>1 a 2</td>\n",
       "      <td>11</td>\n",
       "      <td>41 a 60</td>\n",
       "      <td>1958</td>\n",
       "      <td>Veteranos M</td>\n",
       "      <td>Veteranos</td>\n",
       "      <td>1</td>\n",
       "      <td>2016</td>\n",
       "    </tr>\n",
       "    <tr>\n",
       "      <th>69899</th>\n",
       "      <td>18162</td>\n",
       "      <td>Lisboa</td>\n",
       "      <td>N.A.A.L.PASSOS MANUEL</td>\n",
       "      <td>2015-03-27</td>\n",
       "      <td>Seniores M</td>\n",
       "      <td>18162.0</td>\n",
       "      <td>M</td>\n",
       "      <td>1960-10-03</td>\n",
       "      <td>1200-045</td>\n",
       "      <td>Lisboa</td>\n",
       "      <td>...</td>\n",
       "      <td>58</td>\n",
       "      <td>1</td>\n",
       "      <td>1 a 2</td>\n",
       "      <td>3</td>\n",
       "      <td>41 a 60</td>\n",
       "      <td>1960</td>\n",
       "      <td>Veteranos M</td>\n",
       "      <td>Veteranos</td>\n",
       "      <td>1</td>\n",
       "      <td>2015</td>\n",
       "    </tr>\n",
       "    <tr>\n",
       "      <th>57033</th>\n",
       "      <td>22435</td>\n",
       "      <td>Lisboa</td>\n",
       "      <td>Ginasio Clube Sul</td>\n",
       "      <td>2014-04-24</td>\n",
       "      <td>Seniores M</td>\n",
       "      <td>22435.0</td>\n",
       "      <td>M</td>\n",
       "      <td>1960-04-23</td>\n",
       "      <td>2815-683 Sobreda</td>\n",
       "      <td>ND</td>\n",
       "      <td>...</td>\n",
       "      <td>58</td>\n",
       "      <td>0</td>\n",
       "      <td>mais 3</td>\n",
       "      <td>4</td>\n",
       "      <td>41 a 60</td>\n",
       "      <td>1960</td>\n",
       "      <td>Veteranos M</td>\n",
       "      <td>Veteranos</td>\n",
       "      <td>1</td>\n",
       "      <td>2014</td>\n",
       "    </tr>\n",
       "    <tr>\n",
       "      <th>330626</th>\n",
       "      <td>23080</td>\n",
       "      <td>Lisboa</td>\n",
       "      <td>N.A.A.L.PASSOS MANUEL</td>\n",
       "      <td>2015-03-18</td>\n",
       "      <td>Seniores M</td>\n",
       "      <td>23080.0</td>\n",
       "      <td>M</td>\n",
       "      <td>1962-08-24</td>\n",
       "      <td>1350-073</td>\n",
       "      <td>ND</td>\n",
       "      <td>...</td>\n",
       "      <td>56</td>\n",
       "      <td>0</td>\n",
       "      <td>mais 3</td>\n",
       "      <td>3</td>\n",
       "      <td>41 a 60</td>\n",
       "      <td>1962</td>\n",
       "      <td>Veteranos M</td>\n",
       "      <td>Veteranos</td>\n",
       "      <td>1</td>\n",
       "      <td>2015</td>\n",
       "    </tr>\n",
       "    <tr>\n",
       "      <th>419382</th>\n",
       "      <td>23205</td>\n",
       "      <td>Lisboa</td>\n",
       "      <td>Ginasio Clube Sul</td>\n",
       "      <td>2014-04-24</td>\n",
       "      <td>Seniores M</td>\n",
       "      <td>23205.0</td>\n",
       "      <td>M</td>\n",
       "      <td>1962-02-24</td>\n",
       "      <td>2820-274</td>\n",
       "      <td>Charneca Caparica</td>\n",
       "      <td>...</td>\n",
       "      <td>57</td>\n",
       "      <td>1</td>\n",
       "      <td>mais 3</td>\n",
       "      <td>4</td>\n",
       "      <td>41 a 60</td>\n",
       "      <td>1962</td>\n",
       "      <td>Veteranos M</td>\n",
       "      <td>Veteranos</td>\n",
       "      <td>1</td>\n",
       "      <td>2014</td>\n",
       "    </tr>\n",
       "  </tbody>\n",
       "</table>\n",
       "<p>5 rows × 27 columns</p>\n",
       "</div>"
      ],
      "text/plain": [
       "         CIPA associacao                           clube      dtIns  \\\n",
       "54290   15122      Porto  ASSOCIACAO ACADEMICA S. MAMEDE 2016-11-15   \n",
       "69899   18162     Lisboa           N.A.A.L.PASSOS MANUEL 2015-03-27   \n",
       "57033   22435     Lisboa               Ginasio Clube Sul 2014-04-24   \n",
       "330626  23080     Lisboa           N.A.A.L.PASSOS MANUEL 2015-03-18   \n",
       "419382  23205     Lisboa               Ginasio Clube Sul 2014-04-24   \n",
       "\n",
       "           escalao  escalaoSubida sexo      dtNasc         codPostal  \\\n",
       "54290   Seniores M        15122.0    M  1958-04-30                 -   \n",
       "69899   Seniores M        18162.0    M  1960-10-03          1200-045   \n",
       "57033   Seniores M        22435.0    M  1960-04-23  2815-683 Sobreda   \n",
       "330626  Seniores M        23080.0    M  1962-08-24          1350-073   \n",
       "419382  Seniores M        23205.0    M  1962-02-24          2820-274   \n",
       "\n",
       "               localidade  ... idade abandonou escaloesAnos mes  \\\n",
       "54290                  ND  ...    60         1        1 a 2  11   \n",
       "69899              Lisboa  ...    58         1        1 a 2   3   \n",
       "57033                  ND  ...    58         0       mais 3   4   \n",
       "330626                 ND  ...    56         0       mais 3   3   \n",
       "419382  Charneca Caparica  ...    57         1       mais 3   4   \n",
       "\n",
       "        escaloesIdade  anoNasc  escFederacao  escFedTodos  esteMandato anoInsc  \n",
       "54290         41 a 60     1958   Veteranos M    Veteranos            1    2016  \n",
       "69899         41 a 60     1960   Veteranos M    Veteranos            1    2015  \n",
       "57033         41 a 60     1960   Veteranos M    Veteranos            1    2014  \n",
       "330626        41 a 60     1962   Veteranos M    Veteranos            1    2015  \n",
       "419382        41 a 60     1962   Veteranos M    Veteranos            1    2014  \n",
       "\n",
       "[5 rows x 27 columns]"
      ]
     },
     "execution_count": 71,
     "metadata": {},
     "output_type": "execute_result"
    }
   ],
   "source": [
    "dtCox.head()"
   ]
  },
  {
   "cell_type": "code",
   "execution_count": 72,
   "metadata": {},
   "outputs": [],
   "source": [
    "dtCox.drop(['CIPA','clube','dtIns','escalao','escalaoSubida','dtNasc','codPostal',\n",
    "            'localidade','dtInsc','nacionalidade','epoca','dtUlt','escaloesAnos','escaloesIdade','escFederacao'],axis=1,inplace=True)"
   ]
  },
  {
   "cell_type": "code",
   "execution_count": 73,
   "metadata": {},
   "outputs": [
    {
     "data": {
      "text/plain": [
       "Index(['associacao', 'sexo', 'pais', 'tipoInscricao', 'anos', 'idade',\n",
       "       'abandonou', 'mes', 'anoNasc', 'escFedTodos', 'esteMandato', 'anoInsc'],\n",
       "      dtype='object')"
      ]
     },
     "execution_count": 73,
     "metadata": {},
     "output_type": "execute_result"
    }
   ],
   "source": [
    "dtCox.columns"
   ]
  },
  {
   "cell_type": "code",
   "execution_count": 74,
   "metadata": {},
   "outputs": [
    {
     "data": {
      "text/plain": [
       "array(['Porto', 'Lisboa', 'Madeira', 'Setubal A Praia', 'Aveiro',\n",
       "       'Leiria A Praia', 'Santarem', 'Viseu', 'V. Castelo', 'Braga',\n",
       "       'Andebol de Praia', 'Portalegre', 'Porto A Praia', 'Algarve',\n",
       "       'Evora', 'Leiria', 'L.P.A.', 'Setubal', 'Coimbra', 'Beja',\n",
       "       'Castelo Branco', 'Vila Real', 'Guarda', 'Ilha S. Maria',\n",
       "       'Ilha Terceira', 'Ilha S. Miguel', 'Ilha Graciosa', 'Ilha Faial',\n",
       "       'Braganca', 'F.A.P.', 'Aveiro A Praia', 'Lisboa A Praia',\n",
       "       'Madeira A Praia', 'Viseu A Praia', 'Algarve - A 4ALL',\n",
       "       'Lisboa - A 4ALL', 'SetÃºbal - A 4ALL', 'Aveiro -  4ALL',\n",
       "       'Leiria - A 4ALL', 'Porto - A 4LL'], dtype=object)"
      ]
     },
     "execution_count": 74,
     "metadata": {},
     "output_type": "execute_result"
    }
   ],
   "source": [
    "dtCox['associacao'].unique()"
   ]
  },
  {
   "cell_type": "code",
   "execution_count": 75,
   "metadata": {},
   "outputs": [],
   "source": [
    "associacoes=['Porto','Lisboa','Aveiro','Leiria','Viseu','Madeira','Setubal','Braga','Algarve','Santarem']\n",
    "dtCoxAssociacoesMaiores=dtCox.loc[dtCox['associacao'].isin(associacoes)].copy()\n",
    "dtCoxAssociacoesTodas=dtCox.copy()"
   ]
  },
  {
   "cell_type": "code",
   "execution_count": 76,
   "metadata": {},
   "outputs": [],
   "source": [
    "dtCoxAssociacoesMaiores = pd.get_dummies(dtCoxAssociacoesMaiores,columns=['associacao','sexo','pais','tipoInscricao','esteMandato'],drop_first=True)\n",
    "dtCoxAssociacoesTodas = pd.get_dummies(dtCoxAssociacoesTodas,columns=['associacao','sexo','pais','tipoInscricao','esteMandato'],drop_first=True)"
   ]
  },
  {
   "cell_type": "markdown",
   "metadata": {},
   "source": [
    "### Alterar para permitir o campo novo escFedTodos... criar dummies com isto..."
   ]
  },
  {
   "cell_type": "code",
   "execution_count": 77,
   "metadata": {},
   "outputs": [
    {
     "data": {
      "text/plain": [
       "Index(['anos', 'idade', 'abandonou', 'mes', 'anoNasc', 'escFedTodos',\n",
       "       'anoInsc', 'associacao_Aveiro', 'associacao_Braga', 'associacao_Leiria',\n",
       "       'associacao_Lisboa', 'associacao_Madeira', 'associacao_Porto',\n",
       "       'associacao_Santarem', 'associacao_Setubal', 'associacao_Viseu',\n",
       "       'sexo_M', 'pais_Portugal', 'pais_Resto do mundo',\n",
       "       'tipoInscricao_primeiraInsc', 'tipoInscricao_revalComTransf',\n",
       "       'tipoInscricao_revalidacao', 'esteMandato_1'],\n",
       "      dtype='object')"
      ]
     },
     "execution_count": 77,
     "metadata": {},
     "output_type": "execute_result"
    }
   ],
   "source": [
    "dtCoxAssociacoesMaiores.columns"
   ]
  },
  {
   "cell_type": "code",
   "execution_count": 78,
   "metadata": {},
   "outputs": [],
   "source": [
    "dtCoxAssociacoesMaiores = pd.get_dummies(dtCoxAssociacoesMaiores,columns=['escFedTodos'],drop_first=True)"
   ]
  },
  {
   "cell_type": "code",
   "execution_count": 79,
   "metadata": {},
   "outputs": [
    {
     "data": {
      "text/plain": [
       "Index(['anos', 'idade', 'abandonou', 'mes', 'anoNasc', 'anoInsc',\n",
       "       'associacao_Aveiro', 'associacao_Braga', 'associacao_Leiria',\n",
       "       'associacao_Lisboa', 'associacao_Madeira', 'associacao_Porto',\n",
       "       'associacao_Santarem', 'associacao_Setubal', 'associacao_Viseu',\n",
       "       'sexo_M', 'pais_Portugal', 'pais_Resto do mundo',\n",
       "       'tipoInscricao_primeiraInsc', 'tipoInscricao_revalComTransf',\n",
       "       'tipoInscricao_revalidacao', 'esteMandato_1', 'escFedTodos_Infantis',\n",
       "       'escFedTodos_Iniciados', 'escFedTodos_Juniores', 'escFedTodos_Juvenis',\n",
       "       'escFedTodos_Minis', 'escFedTodos_Pre-Bambi', 'escFedTodos_Seniores',\n",
       "       'escFedTodos_Veteranos'],\n",
       "      dtype='object')"
      ]
     },
     "execution_count": 79,
     "metadata": {},
     "output_type": "execute_result"
    }
   ],
   "source": [
    "dtCoxAssociacoesMaiores.columns"
   ]
  },
  {
   "cell_type": "markdown",
   "metadata": {},
   "source": [
    "### Regressão de Cox"
   ]
  },
  {
   "cell_type": "code",
   "execution_count": 80,
   "metadata": {},
   "outputs": [
    {
     "data": {
      "text/plain": [
       "Index(['anos', 'idade', 'abandonou', 'mes', 'anoNasc', 'anoInsc',\n",
       "       'associacao_Aveiro', 'associacao_Braga', 'associacao_Leiria',\n",
       "       'associacao_Lisboa', 'associacao_Madeira', 'associacao_Porto',\n",
       "       'associacao_Santarem', 'associacao_Setubal', 'associacao_Viseu',\n",
       "       'sexo_M', 'pais_Portugal', 'pais_Resto do mundo',\n",
       "       'tipoInscricao_primeiraInsc', 'tipoInscricao_revalComTransf',\n",
       "       'tipoInscricao_revalidacao', 'esteMandato_1', 'escFedTodos_Infantis',\n",
       "       'escFedTodos_Iniciados', 'escFedTodos_Juniores', 'escFedTodos_Juvenis',\n",
       "       'escFedTodos_Minis', 'escFedTodos_Pre-Bambi', 'escFedTodos_Seniores',\n",
       "       'escFedTodos_Veteranos'],\n",
       "      dtype='object')"
      ]
     },
     "execution_count": 80,
     "metadata": {},
     "output_type": "execute_result"
    }
   ],
   "source": [
    "dtCoxAssociacoesMaiores.columns"
   ]
  },
  {
   "cell_type": "code",
   "execution_count": 81,
   "metadata": {},
   "outputs": [],
   "source": [
    "cols = ['anos', 'idade', 'abandonou', 'mes', 'anoNasc', 'anoInsc','associacao_Aveiro', 'associacao_Braga', 'associacao_Leiria',\n",
    "        'associacao_Lisboa', 'associacao_Madeira', 'associacao_Porto','associacao_Santarem', 'associacao_Setubal', 'associacao_Viseu',\n",
    "        'sexo_M', 'pais_Portugal', 'pais_Resto do mundo','tipoInscricao_naoDefinido', 'tipoInscricao_primeiraInsc','tipoInscricao_revalidacao','esteMandato_1']"
   ]
  },
  {
   "cell_type": "code",
   "execution_count": 82,
   "metadata": {},
   "outputs": [
    {
     "name": "stdout",
     "output_type": "stream",
     "text": [
      "20.66926620309091\n",
      "16.776894460999905\n"
     ]
    }
   ],
   "source": [
    "events = dtCoxAssociacoesMaiores['abandonou'].astype(bool)\n",
    "print(dtCoxAssociacoesMaiores.loc[events, 'idade'].var())\n",
    "print(dtCoxAssociacoesMaiores.loc[~events, 'idade'].var())"
   ]
  },
  {
   "cell_type": "code",
   "execution_count": 83,
   "metadata": {},
   "outputs": [
    {
     "name": "stderr",
     "output_type": "stream",
     "text": [
      "C:\\Users\\user\\Anaconda3\\lib\\site-packages\\lifelines\\utils\\__init__.py:905: ConvergenceWarning: Column(s) ['tipoInscricao_revalidacao'] have very low variance. This may harm convergence. Try dropping this redundant column before fitting if convergence fails.\n",
      "  warnings.warn(warning_text, ConvergenceWarning)\n",
      "C:\\Users\\user\\Anaconda3\\lib\\site-packages\\lifelines\\utils\\__init__.py:925: ConvergenceWarning: Column tipoInscricao_revalComTransf have very low variance when conditioned on death event present or not. This may harm convergence. This could be a form of 'complete separation'. For example, try the following code:\n",
      "\n",
      ">>> events = df['abandonou'].astype(bool)\n",
      ">>> print(df.loc[events, 'tipoInscricao_revalComTransf'].var())\n",
      ">>> print(df.loc[~events, 'tipoInscricao_revalComTransf'].var())\n",
      "\n",
      "A very low variance means that the column tipoInscricao_revalComTransf completely determines whether a subject dies or not. See https://stats.stackexchange.com/questions/11109/how-to-deal-with-perfect-separation-in-logistic-regression \n",
      "  warnings.warn(warning_text, ConvergenceWarning)\n"
     ]
    },
    {
     "name": "stdout",
     "output_type": "stream",
     "text": [
      "Iteration 1: norm_delta = 0.86790, step_size = 0.9500, ll = -189543.28403, newton_decrement = 1509.30096, seconds_since_start = 0.1\n",
      "Iteration 2: norm_delta = 0.27950, step_size = 0.9500, ll = -188161.09492, newton_decrement = 41.33215, seconds_since_start = 0.3\n",
      "Iteration 3: norm_delta = 0.04306, step_size = 0.9500, ll = -188117.34544, newton_decrement = 2.18798, seconds_since_start = 0.4\n",
      "Iteration 4: norm_delta = 0.01519, step_size = 1.0000, ll = -188114.87486, newton_decrement = 0.34338, seconds_since_start = 0.5\n",
      "Iteration 5: norm_delta = 0.00611, step_size = 1.0000, ll = -188114.47708, newton_decrement = 0.03132, seconds_since_start = 0.7\n",
      "Iteration 6: norm_delta = 0.00078, step_size = 1.0000, ll = -188114.44358, newton_decrement = 0.00041, seconds_since_start = 0.8\n",
      "Iteration 7: norm_delta = 0.00001, step_size = 1.0000, ll = -188114.44316, newton_decrement = 0.00000, seconds_since_start = 0.9\n",
      "Convergence completed after 7 iterations.\n"
     ]
    },
    {
     "data": {
      "text/plain": [
       "<lifelines.CoxPHFitter: fitted with 30054 observations, 10437 censored>"
      ]
     },
     "execution_count": 83,
     "metadata": {},
     "output_type": "execute_result"
    }
   ],
   "source": [
    "from lifelines import CoxPHFitter\n",
    "cph = CoxPHFitter()\n",
    "cph.fit(dtCoxAssociacoesMaiores,duration_col='anos',event_col='abandonou',show_progress=True)"
   ]
  },
  {
   "cell_type": "code",
   "execution_count": 84,
   "metadata": {},
   "outputs": [
    {
     "data": {
      "text/plain": [
       "Index(['anos', 'idade', 'abandonou', 'mes', 'anoNasc', 'anoInsc',\n",
       "       'associacao_Aveiro', 'associacao_Braga', 'associacao_Leiria',\n",
       "       'associacao_Lisboa', 'associacao_Madeira', 'associacao_Porto',\n",
       "       'associacao_Santarem', 'associacao_Setubal', 'associacao_Viseu',\n",
       "       'sexo_M', 'pais_Portugal', 'pais_Resto do mundo',\n",
       "       'tipoInscricao_primeiraInsc', 'tipoInscricao_revalComTransf',\n",
       "       'tipoInscricao_revalidacao', 'esteMandato_1', 'escFedTodos_Infantis',\n",
       "       'escFedTodos_Iniciados', 'escFedTodos_Juniores', 'escFedTodos_Juvenis',\n",
       "       'escFedTodos_Minis', 'escFedTodos_Pre-Bambi', 'escFedTodos_Seniores',\n",
       "       'escFedTodos_Veteranos'],\n",
       "      dtype='object')"
      ]
     },
     "execution_count": 84,
     "metadata": {},
     "output_type": "execute_result"
    }
   ],
   "source": [
    "dtCoxAssociacoesMaiores.columns"
   ]
  },
  {
   "cell_type": "code",
   "execution_count": 85,
   "metadata": {},
   "outputs": [],
   "source": [
    "cols=['anos', 'idade', 'abandonou', 'mes', 'anoNasc', 'anoInsc','associacao_Aveiro', 'associacao_Braga', 'associacao_Leiria','associacao_Lisboa', 'associacao_Madeira', \n",
    " 'associacao_Porto','associacao_Santarem', 'associacao_Setubal', 'associacao_Viseu','sexo_M', 'pais_Portugal', 'pais_Resto do mundo',\n",
    "      'tipoInscricao_primeiraInsc','esteMandato_1', 'escFedTodos_Infantis', 'escFedTodos_Iniciados','escFedTodos_Juniores', 'escFedTodos_Juvenis', \n",
    "      'escFedTodos_Minis','escFedTodos_Pre-Bambi', 'escFedTodos_Seniores','escFedTodos_Veteranos']"
   ]
  },
  {
   "cell_type": "code",
   "execution_count": 86,
   "metadata": {},
   "outputs": [
    {
     "name": "stdout",
     "output_type": "stream",
     "text": [
      "Iteration 1: norm_delta = 0.86497, step_size = 0.9500, ll = -189543.28403, newton_decrement = 1506.57979, seconds_since_start = 0.1\n",
      "Iteration 2: norm_delta = 0.27853, step_size = 0.9500, ll = -188153.05501, newton_decrement = 35.51183, seconds_since_start = 0.2\n",
      "Iteration 3: norm_delta = 0.03788, step_size = 0.9500, ll = -188116.26059, newton_decrement = 0.59915, seconds_since_start = 0.3\n",
      "Iteration 4: norm_delta = 0.00239, step_size = 1.0000, ll = -188115.65687, newton_decrement = 0.00274, seconds_since_start = 0.4\n",
      "Iteration 5: norm_delta = 0.00000, step_size = 1.0000, ll = -188115.65413, newton_decrement = 0.00000, seconds_since_start = 0.5\n",
      "Convergence completed after 5 iterations.\n"
     ]
    },
    {
     "data": {
      "text/plain": [
       "<lifelines.CoxPHFitter: fitted with 30054 observations, 10437 censored>"
      ]
     },
     "execution_count": 86,
     "metadata": {},
     "output_type": "execute_result"
    }
   ],
   "source": [
    "from lifelines import CoxPHFitter\n",
    "cph = CoxPHFitter()\n",
    "cph.fit(dtCoxAssociacoesMaiores[cols],duration_col='anos',event_col='abandonou',show_progress=True)"
   ]
  },
  {
   "cell_type": "code",
   "execution_count": 87,
   "metadata": {},
   "outputs": [
    {
     "name": "stdout",
     "output_type": "stream",
     "text": [
      "<lifelines.CoxPHFitter: fitted with 30054 observations, 10437 censored>\n",
      "      duration col = 'anos'\n",
      "         event col = 'abandonou'\n",
      "number of subjects = 30054\n",
      "  number of events = 19617\n",
      "    log-likelihood = -188115.65\n",
      "  time fit was run = 2019-07-21 10:40:25 UTC\n",
      "\n",
      "---\n",
      "                            coef exp(coef)  se(coef)      z      p  -log2(p)  lower 0.95  upper 0.95\n",
      "idade                      -0.05      0.95      0.02  -3.10 <0.005      9.02       -0.08       -0.02\n",
      "mes                        -0.03      0.97      0.00 -15.35 <0.005    174.15       -0.03       -0.02\n",
      "anoNasc                    -0.12      0.89      0.02  -6.69 <0.005     35.38       -0.15       -0.08\n",
      "anoInsc                     0.01      1.01      0.01   2.02   0.04      4.53        0.00        0.02\n",
      "associacao_Aveiro          -0.23      0.79      0.04  -6.44 <0.005     32.92       -0.30       -0.16\n",
      "associacao_Braga           -0.08      0.93      0.04  -2.09   0.04      4.77       -0.15       -0.00\n",
      "associacao_Leiria          -0.18      0.84      0.04  -4.55 <0.005     17.49       -0.26       -0.10\n",
      "associacao_Lisboa          -0.10      0.91      0.03  -2.80   0.01      7.62       -0.17       -0.03\n",
      "associacao_Madeira          0.18      1.20      0.04   4.79 <0.005     19.21        0.11        0.25\n",
      "associacao_Porto           -0.28      0.76      0.03  -8.57 <0.005     56.37       -0.34       -0.22\n",
      "associacao_Santarem         0.02      1.02      0.04   0.56   0.57      0.80       -0.06        0.10\n",
      "associacao_Setubal         -0.06      0.94      0.04  -1.51   0.13      2.93       -0.14        0.02\n",
      "associacao_Viseu           -0.29      0.75      0.04  -7.33 <0.005     41.98       -0.37       -0.21\n",
      "sexo_M                     -0.05      0.95      0.02  -3.41 <0.005     10.58       -0.09       -0.02\n",
      "pais_Portugal              -0.23      0.80      0.28  -0.81   0.42      1.26       -0.77        0.32\n",
      "pais_Resto do mundo        -0.35      0.71      0.43  -0.80   0.43      1.23       -1.20        0.50\n",
      "tipoInscricao_primeiraInsc  0.15      1.16      0.33   0.45   0.65      0.61       -0.49        0.79\n",
      "esteMandato_1               0.17      1.19      0.03   6.41 <0.005     32.69        0.12        0.23\n",
      "escFedTodos_Infantis       -0.16      0.85      0.07  -2.39   0.02      5.91       -0.29       -0.03\n",
      "escFedTodos_Iniciados      -0.24      0.79      0.07  -3.43 <0.005     10.71       -0.37       -0.10\n",
      "escFedTodos_Juniores        0.07      1.07      0.08   0.85   0.40      1.33       -0.09        0.22\n",
      "escFedTodos_Juvenis        -0.15      0.86      0.07  -2.01   0.04      4.48       -0.29       -0.00\n",
      "escFedTodos_Minis          -0.10      0.91      0.07  -1.45   0.15      2.76       -0.23        0.03\n",
      "escFedTodos_Pre-Bambi      -0.22      0.80      0.16  -1.41   0.16      2.66       -0.53        0.09\n",
      "escFedTodos_Seniores        0.21      1.23      0.09   2.30   0.02      5.53        0.03        0.38\n",
      "escFedTodos_Veteranos      -1.69      0.18      0.21  -7.96 <0.005     49.10       -2.11       -1.28\n",
      "---\n",
      "Concordance = 0.62\n",
      "Log-likelihood ratio test = 2855.26 on 26 df, -log2(p)=inf\n"
     ]
    }
   ],
   "source": [
    "cph.print_summary()"
   ]
  },
  {
   "cell_type": "code",
   "execution_count": 88,
   "metadata": {},
   "outputs": [
    {
     "data": {
      "text/plain": [
       "Index(['anos', 'idade', 'abandonou', 'mes', 'anoNasc', 'escFedTodos',\n",
       "       'anoInsc', 'associacao_Algarve - A 4ALL', 'associacao_Andebol de Praia',\n",
       "       'associacao_Aveiro', 'associacao_Aveiro -  4ALL',\n",
       "       'associacao_Aveiro A Praia', 'associacao_Beja', 'associacao_Braga',\n",
       "       'associacao_Braganca', 'associacao_Castelo Branco',\n",
       "       'associacao_Coimbra', 'associacao_Evora', 'associacao_F.A.P.',\n",
       "       'associacao_Guarda', 'associacao_Ilha Faial',\n",
       "       'associacao_Ilha Graciosa', 'associacao_Ilha S. Maria',\n",
       "       'associacao_Ilha S. Miguel', 'associacao_Ilha Terceira',\n",
       "       'associacao_L.P.A.', 'associacao_Leiria', 'associacao_Leiria - A 4ALL',\n",
       "       'associacao_Leiria A Praia', 'associacao_Lisboa',\n",
       "       'associacao_Lisboa - A 4ALL', 'associacao_Lisboa A Praia',\n",
       "       'associacao_Madeira', 'associacao_Madeira A Praia',\n",
       "       'associacao_Portalegre', 'associacao_Porto', 'associacao_Porto - A 4LL',\n",
       "       'associacao_Porto A Praia', 'associacao_Santarem', 'associacao_Setubal',\n",
       "       'associacao_Setubal A Praia', 'associacao_SetÃºbal - A 4ALL',\n",
       "       'associacao_V. Castelo', 'associacao_Vila Real', 'associacao_Viseu',\n",
       "       'associacao_Viseu A Praia', 'sexo_M', 'pais_Portugal',\n",
       "       'pais_Resto do mundo', 'tipoInscricao_primeiraInsc',\n",
       "       'tipoInscricao_revalComTransf', 'tipoInscricao_revalidacao',\n",
       "       'tipoInscricao_selecao', 'esteMandato_1'],\n",
       "      dtype='object')"
      ]
     },
     "execution_count": 88,
     "metadata": {},
     "output_type": "execute_result"
    }
   ],
   "source": [
    "dtCoxAssociacoesTodas.columns"
   ]
  },
  {
   "cell_type": "code",
   "execution_count": 89,
   "metadata": {},
   "outputs": [],
   "source": [
    "dtCoxAssociacoesTodas.drop(['associacao_Algarve - A 4ALL', 'associacao_Andebol de Praia',\n",
    "       'associacao_Aveiro -  4ALL','associacao_Aveiro A Praia','associacao_F.A.P.',\n",
    "       'associacao_L.P.A.', 'associacao_Lisboa - A 4ALL', 'associacao_Lisboa A Praia',\n",
    "       'associacao_Madeira A Praia','associacao_Porto - A 4LL','associacao_Porto A Praia', \n",
    "       'associacao_Setubal A Praia', 'associacao_SetÃºbal - A 4ALL',\n",
    "       'associacao_Viseu A Praia','associacao_Leiria - A 4ALL'],axis=1,inplace=True)"
   ]
  },
  {
   "cell_type": "code",
   "execution_count": 90,
   "metadata": {},
   "outputs": [],
   "source": [
    "dtCoxAssociacoesTodas = pd.get_dummies(dtCoxAssociacoesTodas,columns=['escFedTodos'],drop_first=True)"
   ]
  },
  {
   "cell_type": "code",
   "execution_count": 91,
   "metadata": {},
   "outputs": [
    {
     "data": {
      "text/plain": [
       "Index(['anos', 'idade', 'abandonou', 'mes', 'anoNasc', 'anoInsc',\n",
       "       'associacao_Aveiro', 'associacao_Beja', 'associacao_Braga',\n",
       "       'associacao_Braganca', 'associacao_Castelo Branco',\n",
       "       'associacao_Coimbra', 'associacao_Evora', 'associacao_Guarda',\n",
       "       'associacao_Ilha Faial', 'associacao_Ilha Graciosa',\n",
       "       'associacao_Ilha S. Maria', 'associacao_Ilha S. Miguel',\n",
       "       'associacao_Ilha Terceira', 'associacao_Leiria',\n",
       "       'associacao_Leiria A Praia', 'associacao_Lisboa', 'associacao_Madeira',\n",
       "       'associacao_Portalegre', 'associacao_Porto', 'associacao_Santarem',\n",
       "       'associacao_Setubal', 'associacao_V. Castelo', 'associacao_Vila Real',\n",
       "       'associacao_Viseu', 'sexo_M', 'pais_Portugal', 'pais_Resto do mundo',\n",
       "       'tipoInscricao_primeiraInsc', 'tipoInscricao_revalComTransf',\n",
       "       'tipoInscricao_revalidacao', 'tipoInscricao_selecao', 'esteMandato_1',\n",
       "       'escFedTodos_Infantis', 'escFedTodos_Iniciados', 'escFedTodos_Juniores',\n",
       "       'escFedTodos_Juvenis', 'escFedTodos_Minis', 'escFedTodos_Pre-Bambi',\n",
       "       'escFedTodos_Seniores', 'escFedTodos_Veteranos'],\n",
       "      dtype='object')"
      ]
     },
     "execution_count": 91,
     "metadata": {},
     "output_type": "execute_result"
    }
   ],
   "source": [
    "dtCoxAssociacoesTodas.columns"
   ]
  },
  {
   "cell_type": "code",
   "execution_count": 92,
   "metadata": {},
   "outputs": [
    {
     "name": "stderr",
     "output_type": "stream",
     "text": [
      "C:\\Users\\user\\Anaconda3\\lib\\site-packages\\lifelines\\utils\\__init__.py:925: ConvergenceWarning: Column associacao_Braganca have very low variance when conditioned on death event present or not. This may harm convergence. This could be a form of 'complete separation'. For example, try the following code:\n",
      "\n",
      ">>> events = df['abandonou'].astype(bool)\n",
      ">>> print(df.loc[events, 'associacao_Braganca'].var())\n",
      ">>> print(df.loc[~events, 'associacao_Braganca'].var())\n",
      "\n",
      "A very low variance means that the column associacao_Braganca completely determines whether a subject dies or not. See https://stats.stackexchange.com/questions/11109/how-to-deal-with-perfect-separation-in-logistic-regression \n",
      "  warnings.warn(warning_text, ConvergenceWarning)\n"
     ]
    },
    {
     "name": "stdout",
     "output_type": "stream",
     "text": [
      "Iteration 1: norm_delta = 0.82879, step_size = 0.9500, ll = -226361.85168, newton_decrement = 1968.12254, seconds_since_start = 0.3\n",
      "Iteration 2: norm_delta = 0.27124, step_size = 0.9500, ll = -224556.98889, newton_decrement = 58.18995, seconds_since_start = 0.5\n",
      "Iteration 3: norm_delta = 0.04684, step_size = 0.9500, ll = -224495.67991, newton_decrement = 2.64089, seconds_since_start = 0.9\n",
      "Iteration 4: norm_delta = 0.01931, step_size = 1.0000, ll = -224492.72784, newton_decrement = 0.37954, seconds_since_start = 1.3\n",
      "Iteration 5: norm_delta = 0.00811, step_size = 1.0000, ll = -224492.28698, newton_decrement = 0.03669, seconds_since_start = 1.7\n",
      "Iteration 6: norm_delta = 0.00113, step_size = 1.0000, ll = -224492.24756, newton_decrement = 0.00056, seconds_since_start = 2.0\n",
      "Iteration 7: norm_delta = 0.00002, step_size = 1.0000, ll = -224492.24699, newton_decrement = 0.00000, seconds_since_start = 2.4\n",
      "Iteration 8: norm_delta = 0.00000, step_size = 1.0000, ll = -224492.24699, newton_decrement = 0.00000, seconds_since_start = 2.8\n",
      "Convergence completed after 8 iterations.\n"
     ]
    },
    {
     "data": {
      "text/plain": [
       "<lifelines.CoxPHFitter: fitted with 34850 observations, 11755 censored>"
      ]
     },
     "execution_count": 92,
     "metadata": {},
     "output_type": "execute_result"
    }
   ],
   "source": [
    "from lifelines import CoxPHFitter\n",
    "cph = CoxPHFitter()\n",
    "cph.fit(dtCoxAssociacoesTodas,duration_col='anos',event_col='abandonou',show_progress=True)"
   ]
  },
  {
   "cell_type": "code",
   "execution_count": 93,
   "metadata": {},
   "outputs": [
    {
     "data": {
      "text/plain": [
       "0    34846\n",
       "1        4\n",
       "Name: tipoInscricao_selecao, dtype: int64"
      ]
     },
     "execution_count": 93,
     "metadata": {},
     "output_type": "execute_result"
    }
   ],
   "source": [
    "dtCoxAssociacoesTodas.tipoInscricao_selecao.value_counts()"
   ]
  },
  {
   "cell_type": "code",
   "execution_count": 94,
   "metadata": {},
   "outputs": [
    {
     "data": {
      "text/plain": [
       "0    34838\n",
       "1       12\n",
       "Name: tipoInscricao_revalComTransf, dtype: int64"
      ]
     },
     "execution_count": 94,
     "metadata": {},
     "output_type": "execute_result"
    }
   ],
   "source": [
    "dtCoxAssociacoesTodas.tipoInscricao_revalComTransf.value_counts()"
   ]
  },
  {
   "cell_type": "markdown",
   "metadata": {
    "toc-hr-collapsed": true
   },
   "source": [
    "### Vamos remover as variáveis que estão a dar erros no fitter()"
   ]
  },
  {
   "cell_type": "code",
   "execution_count": 95,
   "metadata": {},
   "outputs": [],
   "source": [
    "cols=['anos', 'idade', 'abandonou', 'mes', 'anoNasc', 'anoInsc', 'associacao_Aveiro', 'associacao_Beja', 'associacao_Braga','associacao_Braganca', 'associacao_Castelo Branco',\n",
    "      'associacao_Coimbra', 'associacao_Evora', 'associacao_Guarda','associacao_Ilha Faial', 'associacao_Ilha Graciosa',\n",
    "      'associacao_Ilha S. Maria', 'associacao_Ilha S. Miguel','associacao_Ilha Terceira', 'associacao_Leiria',\n",
    "      'associacao_Leiria A Praia', 'associacao_Lisboa', 'associacao_Madeira','associacao_Portalegre', 'associacao_Porto', 'associacao_Santarem',\n",
    "      'associacao_Setubal', 'associacao_V. Castelo', 'associacao_Vila Real','associacao_Viseu', 'sexo_M', 'pais_Portugal', 'pais_Resto do mundo',\n",
    "      'tipoInscricao_primeiraInsc','tipoInscricao_revalidacao','esteMandato_1', 'escFedTodos_Infantis',\n",
    "      'escFedTodos_Iniciados', 'escFedTodos_Juniores', 'escFedTodos_Juvenis','escFedTodos_Minis', 'escFedTodos_Pre-Bambi', 'escFedTodos_Seniores','escFedTodos_Veteranos']"
   ]
  },
  {
   "cell_type": "code",
   "execution_count": 96,
   "metadata": {},
   "outputs": [
    {
     "name": "stderr",
     "output_type": "stream",
     "text": [
      "C:\\Users\\user\\Anaconda3\\lib\\site-packages\\lifelines\\utils\\__init__.py:925: ConvergenceWarning: Column associacao_Braganca have very low variance when conditioned on death event present or not. This may harm convergence. This could be a form of 'complete separation'. For example, try the following code:\n",
      "\n",
      ">>> events = df['abandonou'].astype(bool)\n",
      ">>> print(df.loc[events, 'associacao_Braganca'].var())\n",
      ">>> print(df.loc[~events, 'associacao_Braganca'].var())\n",
      "\n",
      "A very low variance means that the column associacao_Braganca completely determines whether a subject dies or not. See https://stats.stackexchange.com/questions/11109/how-to-deal-with-perfect-separation-in-logistic-regression \n",
      "  warnings.warn(warning_text, ConvergenceWarning)\n"
     ]
    },
    {
     "name": "stdout",
     "output_type": "stream",
     "text": [
      "Iteration 1: norm_delta = 0.82168, step_size = 0.9500, ll = -226361.85168, newton_decrement = 1967.37002, seconds_since_start = 0.3\n",
      "Iteration 2: norm_delta = 0.27044, step_size = 0.9500, ll = -224550.35182, newton_decrement = 54.13802, seconds_since_start = 0.6\n",
      "Iteration 3: norm_delta = 0.04017, step_size = 0.9500, ll = -224493.99090, newton_decrement = 1.19417, seconds_since_start = 0.9\n",
      "Iteration 4: norm_delta = 0.00279, step_size = 1.0000, ll = -224492.77257, newton_decrement = 0.01111, seconds_since_start = 1.3\n",
      "Iteration 5: norm_delta = 0.00001, step_size = 1.0000, ll = -224492.76139, newton_decrement = 0.00000, seconds_since_start = 1.6\n",
      "Iteration 6: norm_delta = 0.00000, step_size = 1.0000, ll = -224492.76139, newton_decrement = 0.00000, seconds_since_start = 1.9\n",
      "Convergence completed after 6 iterations.\n"
     ]
    },
    {
     "data": {
      "text/plain": [
       "<lifelines.CoxPHFitter: fitted with 34850 observations, 11755 censored>"
      ]
     },
     "execution_count": 96,
     "metadata": {},
     "output_type": "execute_result"
    }
   ],
   "source": [
    "from lifelines import CoxPHFitter\n",
    "cph = CoxPHFitter()\n",
    "cph.fit(dtCoxAssociacoesTodas[cols],duration_col='anos',event_col='abandonou',show_progress=True)"
   ]
  },
  {
   "cell_type": "code",
   "execution_count": 97,
   "metadata": {},
   "outputs": [
    {
     "name": "stdout",
     "output_type": "stream",
     "text": [
      "<lifelines.CoxPHFitter: fitted with 34850 observations, 11755 censored>\n",
      "      duration col = 'anos'\n",
      "         event col = 'abandonou'\n",
      "number of subjects = 34850\n",
      "  number of events = 23095\n",
      "    log-likelihood = -224492.76\n",
      "  time fit was run = 2019-07-21 10:40:31 UTC\n",
      "\n",
      "---\n",
      "                            coef exp(coef)  se(coef)      z      p  -log2(p)  lower 0.95  upper 0.95\n",
      "idade                      -0.05      0.95      0.02  -3.22 <0.005      9.62       -0.08       -0.02\n",
      "mes                        -0.03      0.97      0.00 -15.72 <0.005    182.65       -0.03       -0.02\n",
      "anoNasc                    -0.11      0.90      0.02  -6.71 <0.005     35.56       -0.14       -0.08\n",
      "anoInsc                     0.02      1.02      0.01   3.76 <0.005     12.54        0.01        0.03\n",
      "associacao_Aveiro          -0.22      0.81      0.04  -6.08 <0.005     29.66       -0.28       -0.15\n",
      "associacao_Beja             0.20      1.22      0.06   3.17 <0.005      9.36        0.08        0.32\n",
      "associacao_Braga           -0.06      0.94      0.04  -1.73   0.08      3.58       -0.13        0.01\n",
      "associacao_Braganca         0.75      2.11      0.12   6.09 <0.005     29.69        0.51        0.99\n",
      "associacao_Castelo Branco  -0.26      0.77      0.09  -2.94 <0.005      8.23       -0.44       -0.09\n",
      "associacao_Coimbra          0.22      1.25      0.07   3.39 <0.005     10.48        0.09        0.35\n",
      "associacao_Evora           -0.14      0.87      0.07  -1.93   0.05      4.21       -0.29        0.00\n",
      "associacao_Guarda          -0.51      0.60      0.07  -7.79 <0.005     47.06       -0.64       -0.38\n",
      "associacao_Ilha Faial      -0.11      0.90      0.07  -1.64   0.10      3.32       -0.24        0.02\n",
      "associacao_Ilha Graciosa    0.05      1.05      0.10   0.50   0.62      0.69       -0.15        0.26\n",
      "associacao_Ilha S. Maria    0.02      1.02      0.09   0.23   0.81      0.30       -0.15        0.19\n",
      "associacao_Ilha S. Miguel  -0.37      0.69      0.07  -5.64 <0.005     25.79       -0.50       -0.24\n",
      "associacao_Ilha Terceira    0.20      1.23      0.06   3.43 <0.005     10.72        0.09        0.32\n",
      "associacao_Leiria          -0.17      0.85      0.04  -4.32 <0.005     15.95       -0.24       -0.09\n",
      "associacao_Leiria A Praia  -0.04      0.96      0.12  -0.36   0.72      0.48       -0.28        0.20\n",
      "associacao_Lisboa          -0.08      0.93      0.03  -2.27   0.02      5.42       -0.14       -0.01\n",
      "associacao_Madeira          0.21      1.23      0.04   5.65 <0.005     25.88        0.13        0.28\n",
      "associacao_Portalegre       0.05      1.05      0.07   0.74   0.46      1.12       -0.08        0.18\n",
      "associacao_Porto           -0.27      0.77      0.03  -8.39 <0.005     54.13       -0.33       -0.20\n",
      "associacao_Santarem         0.04      1.04      0.04   1.05   0.29      1.76       -0.04        0.12\n",
      "associacao_Setubal         -0.04      0.96      0.04  -1.00   0.32      1.67       -0.12        0.04\n",
      "associacao_V. Castelo       0.37      1.44      0.11   3.47 <0.005     10.93        0.16        0.57\n",
      "associacao_Vila Real        0.20      1.22      0.06   3.50 <0.005     11.05        0.09        0.31\n",
      "associacao_Viseu           -0.27      0.76      0.04  -7.00 <0.005     38.55       -0.35       -0.20\n",
      "sexo_M                     -0.06      0.94      0.02  -4.18 <0.005     15.04       -0.09       -0.03\n",
      "pais_Portugal              -0.20      0.82      0.23  -0.87   0.39      1.37       -0.66        0.25\n",
      "pais_Resto do mundo         0.10      1.10      0.32   0.29   0.77      0.38       -0.54        0.73\n",
      "tipoInscricao_primeiraInsc -0.30      0.74      0.26  -1.12   0.26      1.93       -0.81        0.22\n",
      "tipoInscricao_revalidacao  -0.73      0.48      0.63  -1.16   0.25      2.02       -1.98        0.51\n",
      "esteMandato_1               0.19      1.20      0.02   7.47 <0.005     43.45        0.14        0.23\n",
      "escFedTodos_Infantis       -0.13      0.88      0.06  -2.00   0.05      4.47       -0.25       -0.00\n",
      "escFedTodos_Iniciados      -0.14      0.87      0.06  -2.17   0.03      5.05       -0.26       -0.01\n",
      "escFedTodos_Juniores        0.20      1.22      0.07   2.76   0.01      7.45        0.06        0.34\n",
      "escFedTodos_Juvenis        -0.04      0.96      0.07  -0.53   0.60      0.75       -0.17        0.10\n",
      "escFedTodos_Minis          -0.08      0.92      0.06  -1.26   0.21      2.27       -0.21        0.05\n",
      "escFedTodos_Pre-Bambi      -0.25      0.78      0.15  -1.64   0.10      3.31       -0.54        0.05\n",
      "escFedTodos_Seniores        0.39      1.47      0.08   4.70 <0.005     18.52        0.23        0.55\n",
      "escFedTodos_Veteranos      -1.46      0.23      0.19  -7.82 <0.005     47.46       -1.83       -1.10\n",
      "---\n",
      "Concordance = 0.62\n",
      "Log-likelihood ratio test = 3738.18 on 42 df, -log2(p)=inf\n"
     ]
    }
   ],
   "source": [
    "cph.print_summary()"
   ]
  },
  {
   "cell_type": "markdown",
   "metadata": {},
   "source": [
    "Hazard Ratio\n",
    "- exp(coef) < 1 e intervalo de confiança menor 1 a variável reduz o risco do evento de abandono\n",
    "- exp(coef) > 1 e intervalo de confiança maior 1 a variável aumenta o risco do evento de abandono\n",
    "\n",
    "Se a variável é contínua ou ordinal por cada incremento de uma unidade o risco de abandono diminui na probabilidade indicada\n",
    "\n",
    "**Os valores negativos representam um incremento no tempo de permanência, afasta do evento e é um bom prognóstico. Por exemplo pertencer à AssociacaoPorto, AssociacaoBraga. Por cada incremento no valor da variável temos um incremento do tempo de permanência. Por exemplo:**\n",
    "\n",
    "    - associacaoPorto exp(coef) -> 1-0.80 = 0.20 reduz a probabilidade de abandono em 20% pertencer a porto\n",
    "    - esteMandato exp(coef) -> 1-0.81 = 0.19 reduz a probabilidade de abandono em 19%\n",
    "\n",
    "Os associacaoSetubal ou associacaoViseu reduz o tempo de permanência:\n",
    "    \n",
    "    - associacaoSetubal = exp(coef) 1.15 = 1-1.15 = 0.15 -> Pertencendo à associação de Setubal aumenta a probabilidade de abandono em 15%. \n",
    "    - tipoInscricao_primeiraInscricao = exp(coef) 1.39 = 1-1.39=.39 := Ter perfil primeira inscrição aumenta em 39%\n",
    "    - escFedTodos_Juniores = exp(coef) 2.02 = 1-2.02=1.02 := Ter escalao junior aumenta a probabilidade de abandono em 102%\n",
    "    \n",
    "A concordance é um indice global para validar a capacidade preditora do modelo de sobrevivência. Valor inferior a 0.5 indicates a very poor model. Valor 0.5 means that the model is no better than predicting an outcome than random chance. Values over 0.7 indicate a good model. Values over 0.8 indicate a strong model. A value of 1 means that the model perfectly predicts those group members who will experience a certain outcome and those who will not. \n",
    " \n",
    "**Este modelo é um ???bom modelo??? a avaliar a capacidade preditora no tempo de sobrevivência dos atletas federados**"
   ]
  }
 ],
 "metadata": {
  "kernelspec": {
   "display_name": "Python 3",
   "language": "python",
   "name": "python3"
  },
  "language_info": {
   "codemirror_mode": {
    "name": "ipython",
    "version": 3
   },
   "file_extension": ".py",
   "mimetype": "text/x-python",
   "name": "python",
   "nbconvert_exporter": "python",
   "pygments_lexer": "ipython3",
   "version": "3.7.3"
  },
  "toc-autonumbering": true,
  "toc-showcode": false,
  "toc-showmarkdowntxt": true
 },
 "nbformat": 4,
 "nbformat_minor": 4
}
