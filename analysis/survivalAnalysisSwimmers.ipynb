{
 "cells": [
  {
   "cell_type": "markdown",
   "metadata": {
    "toc-hr-collapsed": true
   },
   "source": [
    "# Análise de sobrevivência piscinas municipais"
   ]
  },
  {
   "cell_type": "markdown",
   "metadata": {},
   "source": [
    "Data was collected from 6749 customers. The Kaplan-Meier estimator was used to gather information about the moment in which the dropout event took place, the Cox's regression coefficient was used to analyse the available variables related with the surviving of the customer in the sports facility, and the logrank test was applied to the significant variables to provide statistical comparison of groups.\n",
    "\n",
    "The duration of practice was positively related to the number of accesses, week contracted accesses, number of contract renewals, and inscription month increase. On the other hand, practice experience was negatively related to age and week average accesses."
   ]
  },
  {
   "cell_type": "markdown",
   "metadata": {},
   "source": [
    "## Variables\n",
    "\n",
    "- Gender - 1 para Masculino, 0 para Feminino\n",
    "- Inicio\tData de inicio da inscrição\n",
    "- Termino\tData de termino da inscrição\n",
    "- Dtultvisita\tData da ultima visita as instalações obtida pela utilização do cartão no controlo de acessos\n",
    "- Diassemfrequencia\tNº de dias em que não vinha às instalações até terminar a inscrição ou até 31/Outubro/2017 se a inscrição ainda não tinha terminado nessa data\n",
    "- Mesesinscricao\tNº de meses da inscrição, ou seja, diferença de meses entre o inicio e o termino\n",
    "- Volnegocios\tTotal pago pelo utente no período da sua inscrição\n",
    "- Freqmedia\tFreqmedia obtida pelo nº de frequencias a dividir pelo nº de semanas da sua inscrição, subtraido dos períodos de encerramento (mês de Agosto) quando a inscrição tem mais de 1 época\n",
    "- natividades\tContagem dos 1 dos campos anteriores (linha 13 a 22)\n",
    "- nfrequencias\tNº de visitas ao clube durante a sua inscrição\n",
    "- freqcontratada\tNº de frequências por semana que o utente tinha contratada no ultimo período da sua inscrição (7 = livre trânsito)\n",
    "- nrenovacoes\tNº de renovações que o utente fez durante a sua inscrição - ATENÇÃO: esta instalação fecha no mês de Agosto, pelo que os Utentes têm de renovar a inscrição para o proximo ano letivo\n",
    "- nreferencias\tNº de pessoas associadas (familiares, amigos, etc.) também registados como utentes\n",
    "- classe_desistencia\t1 para desistente, 0 para utente ativo\n",
    "\n",
    "\n",
    "1/TRUE = dead i.e. abandonou\n",
    "0/FALSE = alive i.e. não abandonou\n"
   ]
  },
  {
   "cell_type": "code",
   "execution_count": 1,
   "metadata": {},
   "outputs": [],
   "source": [
    "import lifelines"
   ]
  },
  {
   "cell_type": "code",
   "execution_count": 2,
   "metadata": {},
   "outputs": [],
   "source": [
    "from IPython.display import HTML"
   ]
  },
  {
   "cell_type": "code",
   "execution_count": 84,
   "metadata": {},
   "outputs": [],
   "source": [
    "import pandas as pd\n",
    "dt = pd.read_excel('https://raw.githubusercontent.com/pesobreiro/jupyternotebooks/master/dados/dadosPiscinaSetubal.xlsx',\n",
    "                   index_col=0)"
   ]
  },
  {
   "cell_type": "code",
   "execution_count": 4,
   "metadata": {},
   "outputs": [],
   "source": [
    "## Vamos selecionar os nadadores\n",
    "\n",
    "dt = dt.loc[dt.atividade_aquaticas == 1]\n",
    "\n",
    "## Vamos calcular uma variavel mes\n",
    "\n",
    "dt['mes']=dt['inicio'].str.extract('-(\\d\\d)', expand=True)\n",
    "dt['mes']=pd.to_numeric(dt['mes'])"
   ]
  },
  {
   "cell_type": "markdown",
   "metadata": {},
   "source": [
    "## Descritivas variáveis quantitativas"
   ]
  },
  {
   "cell_type": "code",
   "execution_count": 5,
   "metadata": {},
   "outputs": [
    {
     "data": {
      "text/html": [
       "<div>\n",
       "<style scoped>\n",
       "    .dataframe tbody tr th:only-of-type {\n",
       "        vertical-align: middle;\n",
       "    }\n",
       "\n",
       "    .dataframe tbody tr th {\n",
       "        vertical-align: top;\n",
       "    }\n",
       "\n",
       "    .dataframe thead th {\n",
       "        text-align: right;\n",
       "    }\n",
       "</style>\n",
       "<table border=\"1\" class=\"dataframe\">\n",
       "  <thead>\n",
       "    <tr style=\"text-align: right;\">\n",
       "      <th></th>\n",
       "      <th>idade</th>\n",
       "      <th>genero</th>\n",
       "      <th>diassemfrequencia</th>\n",
       "      <th>mesesinscricao</th>\n",
       "      <th>volnegocios</th>\n",
       "      <th>freqmedia</th>\n",
       "      <th>natividades</th>\n",
       "      <th>nfrequencias</th>\n",
       "      <th>freqcontratadasemanal</th>\n",
       "      <th>nrenovacoes</th>\n",
       "      <th>nreferencias</th>\n",
       "      <th>mes</th>\n",
       "      <th>classe_desistencia</th>\n",
       "    </tr>\n",
       "  </thead>\n",
       "  <tbody>\n",
       "    <tr>\n",
       "      <th>count</th>\n",
       "      <td>6749.000000</td>\n",
       "      <td>6749.000000</td>\n",
       "      <td>6749.000000</td>\n",
       "      <td>6749.000000</td>\n",
       "      <td>6749.000000</td>\n",
       "      <td>6749.000000</td>\n",
       "      <td>6749.000000</td>\n",
       "      <td>6749.000000</td>\n",
       "      <td>6747.000000</td>\n",
       "      <td>6749.000000</td>\n",
       "      <td>6749.000000</td>\n",
       "      <td>6749.000000</td>\n",
       "      <td>6749.000000</td>\n",
       "    </tr>\n",
       "    <tr>\n",
       "      <th>mean</th>\n",
       "      <td>18.686176</td>\n",
       "      <td>0.480960</td>\n",
       "      <td>48.751371</td>\n",
       "      <td>13.300933</td>\n",
       "      <td>161.740485</td>\n",
       "      <td>0.599911</td>\n",
       "      <td>1.074826</td>\n",
       "      <td>29.819825</td>\n",
       "      <td>2.072032</td>\n",
       "      <td>1.038524</td>\n",
       "      <td>0.304490</td>\n",
       "      <td>7.251741</td>\n",
       "      <td>0.577715</td>\n",
       "    </tr>\n",
       "    <tr>\n",
       "      <th>std</th>\n",
       "      <td>19.362335</td>\n",
       "      <td>0.499674</td>\n",
       "      <td>73.448122</td>\n",
       "      <td>10.915080</td>\n",
       "      <td>158.559194</td>\n",
       "      <td>0.423833</td>\n",
       "      <td>0.272536</td>\n",
       "      <td>35.389707</td>\n",
       "      <td>1.823724</td>\n",
       "      <td>1.069460</td>\n",
       "      <td>0.553224</td>\n",
       "      <td>3.172694</td>\n",
       "      <td>0.493960</td>\n",
       "    </tr>\n",
       "    <tr>\n",
       "      <th>min</th>\n",
       "      <td>0.000000</td>\n",
       "      <td>0.000000</td>\n",
       "      <td>0.000000</td>\n",
       "      <td>0.000000</td>\n",
       "      <td>0.000000</td>\n",
       "      <td>0.010000</td>\n",
       "      <td>1.000000</td>\n",
       "      <td>1.000000</td>\n",
       "      <td>1.000000</td>\n",
       "      <td>0.000000</td>\n",
       "      <td>0.000000</td>\n",
       "      <td>1.000000</td>\n",
       "      <td>0.000000</td>\n",
       "    </tr>\n",
       "    <tr>\n",
       "      <th>25%</th>\n",
       "      <td>5.000000</td>\n",
       "      <td>0.000000</td>\n",
       "      <td>5.000000</td>\n",
       "      <td>4.000000</td>\n",
       "      <td>48.270000</td>\n",
       "      <td>0.300000</td>\n",
       "      <td>1.000000</td>\n",
       "      <td>6.000000</td>\n",
       "      <td>1.000000</td>\n",
       "      <td>0.000000</td>\n",
       "      <td>0.000000</td>\n",
       "      <td>4.000000</td>\n",
       "      <td>0.000000</td>\n",
       "    </tr>\n",
       "    <tr>\n",
       "      <th>50%</th>\n",
       "      <td>10.000000</td>\n",
       "      <td>0.000000</td>\n",
       "      <td>31.000000</td>\n",
       "      <td>10.000000</td>\n",
       "      <td>107.100000</td>\n",
       "      <td>0.500000</td>\n",
       "      <td>1.000000</td>\n",
       "      <td>17.000000</td>\n",
       "      <td>1.000000</td>\n",
       "      <td>1.000000</td>\n",
       "      <td>0.000000</td>\n",
       "      <td>9.000000</td>\n",
       "      <td>1.000000</td>\n",
       "    </tr>\n",
       "    <tr>\n",
       "      <th>75%</th>\n",
       "      <td>32.000000</td>\n",
       "      <td>1.000000</td>\n",
       "      <td>62.000000</td>\n",
       "      <td>20.000000</td>\n",
       "      <td>219.040000</td>\n",
       "      <td>0.800000</td>\n",
       "      <td>1.000000</td>\n",
       "      <td>40.000000</td>\n",
       "      <td>2.000000</td>\n",
       "      <td>2.000000</td>\n",
       "      <td>1.000000</td>\n",
       "      <td>9.000000</td>\n",
       "      <td>1.000000</td>\n",
       "    </tr>\n",
       "    <tr>\n",
       "      <th>max</th>\n",
       "      <td>117.000000</td>\n",
       "      <td>1.000000</td>\n",
       "      <td>1073.000000</td>\n",
       "      <td>47.000000</td>\n",
       "      <td>1293.000000</td>\n",
       "      <td>3.940000</td>\n",
       "      <td>3.000000</td>\n",
       "      <td>323.000000</td>\n",
       "      <td>7.000000</td>\n",
       "      <td>4.000000</td>\n",
       "      <td>5.000000</td>\n",
       "      <td>12.000000</td>\n",
       "      <td>1.000000</td>\n",
       "    </tr>\n",
       "  </tbody>\n",
       "</table>\n",
       "</div>"
      ],
      "text/plain": [
       "             idade       genero  diassemfrequencia  mesesinscricao  \\\n",
       "count  6749.000000  6749.000000        6749.000000     6749.000000   \n",
       "mean     18.686176     0.480960          48.751371       13.300933   \n",
       "std      19.362335     0.499674          73.448122       10.915080   \n",
       "min       0.000000     0.000000           0.000000        0.000000   \n",
       "25%       5.000000     0.000000           5.000000        4.000000   \n",
       "50%      10.000000     0.000000          31.000000       10.000000   \n",
       "75%      32.000000     1.000000          62.000000       20.000000   \n",
       "max     117.000000     1.000000        1073.000000       47.000000   \n",
       "\n",
       "       volnegocios    freqmedia  natividades  nfrequencias  \\\n",
       "count  6749.000000  6749.000000  6749.000000   6749.000000   \n",
       "mean    161.740485     0.599911     1.074826     29.819825   \n",
       "std     158.559194     0.423833     0.272536     35.389707   \n",
       "min       0.000000     0.010000     1.000000      1.000000   \n",
       "25%      48.270000     0.300000     1.000000      6.000000   \n",
       "50%     107.100000     0.500000     1.000000     17.000000   \n",
       "75%     219.040000     0.800000     1.000000     40.000000   \n",
       "max    1293.000000     3.940000     3.000000    323.000000   \n",
       "\n",
       "       freqcontratadasemanal  nrenovacoes  nreferencias          mes  \\\n",
       "count            6747.000000  6749.000000   6749.000000  6749.000000   \n",
       "mean                2.072032     1.038524      0.304490     7.251741   \n",
       "std                 1.823724     1.069460      0.553224     3.172694   \n",
       "min                 1.000000     0.000000      0.000000     1.000000   \n",
       "25%                 1.000000     0.000000      0.000000     4.000000   \n",
       "50%                 1.000000     1.000000      0.000000     9.000000   \n",
       "75%                 2.000000     2.000000      1.000000     9.000000   \n",
       "max                 7.000000     4.000000      5.000000    12.000000   \n",
       "\n",
       "       classe_desistencia  \n",
       "count         6749.000000  \n",
       "mean             0.577715  \n",
       "std              0.493960  \n",
       "min              0.000000  \n",
       "25%              0.000000  \n",
       "50%              1.000000  \n",
       "75%              1.000000  \n",
       "max              1.000000  "
      ]
     },
     "execution_count": 5,
     "metadata": {},
     "output_type": "execute_result"
    }
   ],
   "source": [
    "dt[['idade', 'genero','diassemfrequencia', 'mesesinscricao', 'volnegocios', 'freqmedia',\n",
    "    'natividades', 'nfrequencias','freqcontratadasemanal', 'nrenovacoes', 'nreferencias','mes','classe_desistencia']].describe()"
   ]
  },
  {
   "cell_type": "code",
   "execution_count": 6,
   "metadata": {},
   "outputs": [],
   "source": [
    "# Retirar estes\n",
    "dt = dt.loc[dt.idade < 100 ]\n",
    "\n",
    "colunasScale=['idade','diassemfrequencia','mesesinscricao','volnegocios','freqmedia','natividades','nfrequencias',\n",
    "              'freqcontratadasemana','nrenovacoes','nreferencias']\n",
    "#Transformar classe desistencia em booleana\n",
    "dt['classe_desistencia']=dt['classe_desistencia'].map({True:1, False:0})"
   ]
  },
  {
   "cell_type": "markdown",
   "metadata": {},
   "source": [
    "## Survival Analysis"
   ]
  },
  {
   "cell_type": "code",
   "execution_count": 7,
   "metadata": {},
   "outputs": [],
   "source": [
    "from lifelines import KaplanMeierFitter\n",
    "kmf = KaplanMeierFitter()\n",
    "T = dt['mesesinscricao']\n",
    "C = dt['classe_desistencia']"
   ]
  },
  {
   "cell_type": "code",
   "execution_count": 8,
   "metadata": {},
   "outputs": [
    {
     "data": {
      "text/plain": [
       "<lifelines.KaplanMeierFitter: fitted with 6747 observations, 2850 censored>"
      ]
     },
     "execution_count": 8,
     "metadata": {},
     "output_type": "execute_result"
    }
   ],
   "source": [
    "kmf.fit(T,C,label=\"Swimmers\")"
   ]
  },
  {
   "cell_type": "markdown",
   "metadata": {},
   "source": [
    "## Tabela Sobrevivência"
   ]
  },
  {
   "cell_type": "code",
   "execution_count": 9,
   "metadata": {},
   "outputs": [
    {
     "data": {
      "text/html": [
       "<div>\n",
       "<style scoped>\n",
       "    .dataframe tbody tr th:only-of-type {\n",
       "        vertical-align: middle;\n",
       "    }\n",
       "\n",
       "    .dataframe tbody tr th {\n",
       "        vertical-align: top;\n",
       "    }\n",
       "\n",
       "    .dataframe thead th {\n",
       "        text-align: right;\n",
       "    }\n",
       "</style>\n",
       "<table border=\"1\" class=\"dataframe\">\n",
       "  <thead>\n",
       "    <tr style=\"text-align: right;\">\n",
       "      <th></th>\n",
       "      <th>event_at</th>\n",
       "      <th>removed</th>\n",
       "      <th>observed</th>\n",
       "      <th>censored</th>\n",
       "      <th>entrance</th>\n",
       "      <th>at_risk</th>\n",
       "      <th>time to event</th>\n",
       "      <th>prob</th>\n",
       "    </tr>\n",
       "  </thead>\n",
       "  <tbody>\n",
       "    <tr>\n",
       "      <th>0.0</th>\n",
       "      <td>0</td>\n",
       "      <td>5</td>\n",
       "      <td>5</td>\n",
       "      <td>0</td>\n",
       "      <td>6747</td>\n",
       "      <td>6747</td>\n",
       "      <td>14.0</td>\n",
       "      <td>1.00</td>\n",
       "    </tr>\n",
       "    <tr>\n",
       "      <th>1.0</th>\n",
       "      <td>1</td>\n",
       "      <td>127</td>\n",
       "      <td>52</td>\n",
       "      <td>75</td>\n",
       "      <td>0</td>\n",
       "      <td>6742</td>\n",
       "      <td>14.0</td>\n",
       "      <td>0.99</td>\n",
       "    </tr>\n",
       "    <tr>\n",
       "      <th>2.0</th>\n",
       "      <td>2</td>\n",
       "      <td>758</td>\n",
       "      <td>241</td>\n",
       "      <td>517</td>\n",
       "      <td>0</td>\n",
       "      <td>6615</td>\n",
       "      <td>13.0</td>\n",
       "      <td>0.96</td>\n",
       "    </tr>\n",
       "    <tr>\n",
       "      <th>3.0</th>\n",
       "      <td>3</td>\n",
       "      <td>439</td>\n",
       "      <td>433</td>\n",
       "      <td>6</td>\n",
       "      <td>0</td>\n",
       "      <td>5857</td>\n",
       "      <td>15.0</td>\n",
       "      <td>0.88</td>\n",
       "    </tr>\n",
       "    <tr>\n",
       "      <th>4.0</th>\n",
       "      <td>4</td>\n",
       "      <td>372</td>\n",
       "      <td>340</td>\n",
       "      <td>32</td>\n",
       "      <td>0</td>\n",
       "      <td>5418</td>\n",
       "      <td>16.0</td>\n",
       "      <td>0.83</td>\n",
       "    </tr>\n",
       "    <tr>\n",
       "      <th>5.0</th>\n",
       "      <td>5</td>\n",
       "      <td>346</td>\n",
       "      <td>299</td>\n",
       "      <td>47</td>\n",
       "      <td>0</td>\n",
       "      <td>5046</td>\n",
       "      <td>17.0</td>\n",
       "      <td>0.78</td>\n",
       "    </tr>\n",
       "    <tr>\n",
       "      <th>6.0</th>\n",
       "      <td>6</td>\n",
       "      <td>319</td>\n",
       "      <td>274</td>\n",
       "      <td>45</td>\n",
       "      <td>0</td>\n",
       "      <td>4700</td>\n",
       "      <td>17.0</td>\n",
       "      <td>0.73</td>\n",
       "    </tr>\n",
       "    <tr>\n",
       "      <th>7.0</th>\n",
       "      <td>7</td>\n",
       "      <td>406</td>\n",
       "      <td>356</td>\n",
       "      <td>50</td>\n",
       "      <td>0</td>\n",
       "      <td>4381</td>\n",
       "      <td>20.0</td>\n",
       "      <td>0.67</td>\n",
       "    </tr>\n",
       "    <tr>\n",
       "      <th>8.0</th>\n",
       "      <td>8</td>\n",
       "      <td>268</td>\n",
       "      <td>198</td>\n",
       "      <td>70</td>\n",
       "      <td>0</td>\n",
       "      <td>3975</td>\n",
       "      <td>20.0</td>\n",
       "      <td>0.64</td>\n",
       "    </tr>\n",
       "    <tr>\n",
       "      <th>9.0</th>\n",
       "      <td>9</td>\n",
       "      <td>240</td>\n",
       "      <td>183</td>\n",
       "      <td>57</td>\n",
       "      <td>0</td>\n",
       "      <td>3707</td>\n",
       "      <td>21.0</td>\n",
       "      <td>0.61</td>\n",
       "    </tr>\n",
       "    <tr>\n",
       "      <th>10.0</th>\n",
       "      <td>10</td>\n",
       "      <td>294</td>\n",
       "      <td>230</td>\n",
       "      <td>64</td>\n",
       "      <td>0</td>\n",
       "      <td>3467</td>\n",
       "      <td>22.0</td>\n",
       "      <td>0.57</td>\n",
       "    </tr>\n",
       "    <tr>\n",
       "      <th>11.0</th>\n",
       "      <td>11</td>\n",
       "      <td>206</td>\n",
       "      <td>149</td>\n",
       "      <td>57</td>\n",
       "      <td>0</td>\n",
       "      <td>3173</td>\n",
       "      <td>22.0</td>\n",
       "      <td>0.54</td>\n",
       "    </tr>\n",
       "    <tr>\n",
       "      <th>12.0</th>\n",
       "      <td>12</td>\n",
       "      <td>103</td>\n",
       "      <td>71</td>\n",
       "      <td>32</td>\n",
       "      <td>0</td>\n",
       "      <td>2967</td>\n",
       "      <td>22.0</td>\n",
       "      <td>0.53</td>\n",
       "    </tr>\n",
       "    <tr>\n",
       "      <th>13.0</th>\n",
       "      <td>13</td>\n",
       "      <td>198</td>\n",
       "      <td>90</td>\n",
       "      <td>108</td>\n",
       "      <td>0</td>\n",
       "      <td>2864</td>\n",
       "      <td>22.0</td>\n",
       "      <td>0.51</td>\n",
       "    </tr>\n",
       "    <tr>\n",
       "      <th>14.0</th>\n",
       "      <td>14</td>\n",
       "      <td>411</td>\n",
       "      <td>75</td>\n",
       "      <td>336</td>\n",
       "      <td>0</td>\n",
       "      <td>2666</td>\n",
       "      <td>21.0</td>\n",
       "      <td>0.50</td>\n",
       "    </tr>\n",
       "    <tr>\n",
       "      <th>15.0</th>\n",
       "      <td>15</td>\n",
       "      <td>110</td>\n",
       "      <td>102</td>\n",
       "      <td>8</td>\n",
       "      <td>0</td>\n",
       "      <td>2255</td>\n",
       "      <td>22.0</td>\n",
       "      <td>0.48</td>\n",
       "    </tr>\n",
       "    <tr>\n",
       "      <th>16.0</th>\n",
       "      <td>16</td>\n",
       "      <td>113</td>\n",
       "      <td>64</td>\n",
       "      <td>49</td>\n",
       "      <td>0</td>\n",
       "      <td>2145</td>\n",
       "      <td>22.0</td>\n",
       "      <td>0.46</td>\n",
       "    </tr>\n",
       "    <tr>\n",
       "      <th>17.0</th>\n",
       "      <td>17</td>\n",
       "      <td>91</td>\n",
       "      <td>57</td>\n",
       "      <td>34</td>\n",
       "      <td>0</td>\n",
       "      <td>2032</td>\n",
       "      <td>22.0</td>\n",
       "      <td>0.45</td>\n",
       "    </tr>\n",
       "  </tbody>\n",
       "</table>\n",
       "</div>"
      ],
      "text/plain": [
       "      event_at  removed  observed  censored  entrance  at_risk  time to event  \\\n",
       "0.0          0        5         5         0      6747     6747           14.0   \n",
       "1.0          1      127        52        75         0     6742           14.0   \n",
       "2.0          2      758       241       517         0     6615           13.0   \n",
       "3.0          3      439       433         6         0     5857           15.0   \n",
       "4.0          4      372       340        32         0     5418           16.0   \n",
       "5.0          5      346       299        47         0     5046           17.0   \n",
       "6.0          6      319       274        45         0     4700           17.0   \n",
       "7.0          7      406       356        50         0     4381           20.0   \n",
       "8.0          8      268       198        70         0     3975           20.0   \n",
       "9.0          9      240       183        57         0     3707           21.0   \n",
       "10.0        10      294       230        64         0     3467           22.0   \n",
       "11.0        11      206       149        57         0     3173           22.0   \n",
       "12.0        12      103        71        32         0     2967           22.0   \n",
       "13.0        13      198        90       108         0     2864           22.0   \n",
       "14.0        14      411        75       336         0     2666           21.0   \n",
       "15.0        15      110       102         8         0     2255           22.0   \n",
       "16.0        16      113        64        49         0     2145           22.0   \n",
       "17.0        17       91        57        34         0     2032           22.0   \n",
       "\n",
       "      prob  \n",
       "0.0   1.00  \n",
       "1.0   0.99  \n",
       "2.0   0.96  \n",
       "3.0   0.88  \n",
       "4.0   0.83  \n",
       "5.0   0.78  \n",
       "6.0   0.73  \n",
       "7.0   0.67  \n",
       "8.0   0.64  \n",
       "9.0   0.61  \n",
       "10.0  0.57  \n",
       "11.0  0.54  \n",
       "12.0  0.53  \n",
       "13.0  0.51  \n",
       "14.0  0.50  \n",
       "15.0  0.48  \n",
       "16.0  0.46  \n",
       "17.0  0.45  "
      ]
     },
     "execution_count": 9,
     "metadata": {},
     "output_type": "execute_result"
    }
   ],
   "source": [
    "survivalTable = pd.concat([kmf.event_table.reset_index(), kmf.conditional_time_to_event_,kmf.survival_function_.round(decimals=2)], axis=1)\n",
    "survivalTable.columns = ['event_at', 'removed', 'observed', 'censored', 'entrance', 'at_risk',\n",
    "       'time to event', 'prob']\n",
    "survivalTable.head(18)"
   ]
  },
  {
   "cell_type": "markdown",
   "metadata": {},
   "source": [
    "## Mediana sobrevivência"
   ]
  },
  {
   "cell_type": "code",
   "execution_count": 10,
   "metadata": {},
   "outputs": [
    {
     "data": {
      "text/plain": [
       "14.0"
      ]
     },
     "execution_count": 10,
     "metadata": {},
     "output_type": "execute_result"
    }
   ],
   "source": [
    "kmf.median_"
   ]
  },
  {
   "cell_type": "markdown",
   "metadata": {},
   "source": [
    "# Curva de Kaplan-Meier"
   ]
  },
  {
   "cell_type": "code",
   "execution_count": 11,
   "metadata": {},
   "outputs": [
    {
     "data": {
      "image/png": "[encoded data removed]",
      "text/plain": [
       "<Figure size 864x504 with 1 Axes>"
      ]
     },
     "metadata": {
      "needs_background": "light"
     },
     "output_type": "display_data"
    }
   ],
   "source": [
    "%matplotlib inline\n",
    "import matplotlib.pyplot as plt\n",
    "import matplotlib.font_manager as font_manager\n",
    "\n",
    "plt.rcParams['figure.figsize'] = [12, 7]\n",
    "\n",
    "ax = kmf.plot()\n",
    "ax.set_xlabel('Months',fontsize=10)\n",
    "ax.set_ylabel('Survival probability',fontsize=10)\n",
    "\n",
    "ax.axvline(x=6,ymax=0.70,linestyle='--',color='black');ax.axhline(y=0.78,xmax=0.129,linestyle='--',color='black')\n",
    "# 6.0 \t0.73\n",
    "ax.annotate(\"0.73\",xy=(6, 0.7), xytext=(6, 0.8))\n",
    "\n",
    "ax.axvline(x=12,ymax=0.44,linestyle='--',color='black');ax.axhline(y=0.542,xmax=0.254,linestyle='--',color='black')\n",
    "# 12.0 \t0.53\n",
    "ax.annotate(\"0.53\",xy=(12, 0.44), xytext=(12, 0.58))\n",
    "\n",
    "ax.axvline(x=18,ymax=0.33,linestyle='--',color='black');ax.axhline(y=0.45,xmax=0.38,linestyle='--',color='black')\n",
    "# 18.0 \t0.43\n",
    "ax.annotate(\"0.43\",xy=(18, 0.38), xytext=(18, 0.48))\n",
    "\n",
    "plt.show()\n",
    "#plt.savefig('../submissao/figure1.png', dpi=90)\n",
    "plt.close()"
   ]
  },
  {
   "cell_type": "markdown",
   "metadata": {},
   "source": [
    "# Número de cliente em risco de abandono"
   ]
  },
  {
   "cell_type": "code",
   "execution_count": 12,
   "metadata": {},
   "outputs": [
    {
     "data": {
      "text/plain": [
       "Text(0, 0.5, 'clientes')"
      ]
     },
     "execution_count": 12,
     "metadata": {},
     "output_type": "execute_result"
    },
    {
     "data": {
      "image/png": "[encoded data removed]",
      "text/plain": [
       "<Figure size 864x504 with 1 Axes>"
      ]
     },
     "metadata": {
      "needs_background": "light"
     },
     "output_type": "display_data"
    }
   ],
   "source": [
    "abandono=kmf.event_table.reset_index()\n",
    "\n",
    "plt.rcParams['figure.figsize'] = [12, 7]\n",
    "plt.plot(abandono.event_at, abandono.at_risk)\n",
    " \n",
    "plt.xlabel('meses')\n",
    "plt.ylabel('clientes')\n",
    "#plt.xlabel()"
   ]
  },
  {
   "cell_type": "markdown",
   "metadata": {},
   "source": [
    "# Percentagem de clientes"
   ]
  },
  {
   "cell_type": "code",
   "execution_count": 13,
   "metadata": {},
   "outputs": [
    {
     "name": "stdout",
     "output_type": "stream",
     "text": [
      "6747\n"
     ]
    },
    {
     "data": {
      "image/png": "[encoded data removed]",
      "text/plain": [
       "<Figure size 864x504 with 1 Axes>"
      ]
     },
     "metadata": {
      "needs_background": "light"
     },
     "output_type": "display_data"
    }
   ],
   "source": [
    "abandono['percentagemClientes']= 0.0\n",
    "anterior = abandono.at_risk[0:1]\n",
    "anterior = anterior[0]\n",
    "print(anterior)\n",
    "\n",
    "for index, row in abandono.iterrows():\n",
    "    abandono.at[index, 'percentagemClientes'] = row.at_risk/anterior    \n",
    "\n",
    "plt.rcParams['figure.figsize'] = [12, 7]\n",
    "plt.xlabel('meses')\n",
    "plt.ylabel('clientes')\n",
    "plt.plot(abandono.event_at, abandono.percentagemClientes)\n",
    "plt.show()"
   ]
  },
  {
   "cell_type": "code",
   "execution_count": 14,
   "metadata": {},
   "outputs": [
    {
     "data": {
      "text/html": [
       "<div>\n",
       "<style scoped>\n",
       "    .dataframe tbody tr th:only-of-type {\n",
       "        vertical-align: middle;\n",
       "    }\n",
       "\n",
       "    .dataframe tbody tr th {\n",
       "        vertical-align: top;\n",
       "    }\n",
       "\n",
       "    .dataframe thead th {\n",
       "        text-align: right;\n",
       "    }\n",
       "</style>\n",
       "<table border=\"1\" class=\"dataframe\">\n",
       "  <thead>\n",
       "    <tr style=\"text-align: right;\">\n",
       "      <th></th>\n",
       "      <th>event_at</th>\n",
       "      <th>removed</th>\n",
       "      <th>observed</th>\n",
       "      <th>censored</th>\n",
       "      <th>entrance</th>\n",
       "      <th>at_risk</th>\n",
       "      <th>percentagemClientes</th>\n",
       "    </tr>\n",
       "  </thead>\n",
       "  <tbody>\n",
       "    <tr>\n",
       "      <th>0</th>\n",
       "      <td>0</td>\n",
       "      <td>5</td>\n",
       "      <td>5</td>\n",
       "      <td>0</td>\n",
       "      <td>6747</td>\n",
       "      <td>6747</td>\n",
       "      <td>1.000000</td>\n",
       "    </tr>\n",
       "    <tr>\n",
       "      <th>1</th>\n",
       "      <td>1</td>\n",
       "      <td>127</td>\n",
       "      <td>52</td>\n",
       "      <td>75</td>\n",
       "      <td>0</td>\n",
       "      <td>6742</td>\n",
       "      <td>0.999259</td>\n",
       "    </tr>\n",
       "    <tr>\n",
       "      <th>2</th>\n",
       "      <td>2</td>\n",
       "      <td>758</td>\n",
       "      <td>241</td>\n",
       "      <td>517</td>\n",
       "      <td>0</td>\n",
       "      <td>6615</td>\n",
       "      <td>0.980436</td>\n",
       "    </tr>\n",
       "    <tr>\n",
       "      <th>3</th>\n",
       "      <td>3</td>\n",
       "      <td>439</td>\n",
       "      <td>433</td>\n",
       "      <td>6</td>\n",
       "      <td>0</td>\n",
       "      <td>5857</td>\n",
       "      <td>0.868090</td>\n",
       "    </tr>\n",
       "    <tr>\n",
       "      <th>4</th>\n",
       "      <td>4</td>\n",
       "      <td>372</td>\n",
       "      <td>340</td>\n",
       "      <td>32</td>\n",
       "      <td>0</td>\n",
       "      <td>5418</td>\n",
       "      <td>0.803024</td>\n",
       "    </tr>\n",
       "    <tr>\n",
       "      <th>5</th>\n",
       "      <td>5</td>\n",
       "      <td>346</td>\n",
       "      <td>299</td>\n",
       "      <td>47</td>\n",
       "      <td>0</td>\n",
       "      <td>5046</td>\n",
       "      <td>0.747888</td>\n",
       "    </tr>\n",
       "    <tr>\n",
       "      <th>6</th>\n",
       "      <td>6</td>\n",
       "      <td>319</td>\n",
       "      <td>274</td>\n",
       "      <td>45</td>\n",
       "      <td>0</td>\n",
       "      <td>4700</td>\n",
       "      <td>0.696606</td>\n",
       "    </tr>\n",
       "    <tr>\n",
       "      <th>7</th>\n",
       "      <td>7</td>\n",
       "      <td>406</td>\n",
       "      <td>356</td>\n",
       "      <td>50</td>\n",
       "      <td>0</td>\n",
       "      <td>4381</td>\n",
       "      <td>0.649326</td>\n",
       "    </tr>\n",
       "    <tr>\n",
       "      <th>8</th>\n",
       "      <td>8</td>\n",
       "      <td>268</td>\n",
       "      <td>198</td>\n",
       "      <td>70</td>\n",
       "      <td>0</td>\n",
       "      <td>3975</td>\n",
       "      <td>0.589151</td>\n",
       "    </tr>\n",
       "    <tr>\n",
       "      <th>9</th>\n",
       "      <td>9</td>\n",
       "      <td>240</td>\n",
       "      <td>183</td>\n",
       "      <td>57</td>\n",
       "      <td>0</td>\n",
       "      <td>3707</td>\n",
       "      <td>0.549429</td>\n",
       "    </tr>\n",
       "    <tr>\n",
       "      <th>10</th>\n",
       "      <td>10</td>\n",
       "      <td>294</td>\n",
       "      <td>230</td>\n",
       "      <td>64</td>\n",
       "      <td>0</td>\n",
       "      <td>3467</td>\n",
       "      <td>0.513858</td>\n",
       "    </tr>\n",
       "    <tr>\n",
       "      <th>11</th>\n",
       "      <td>11</td>\n",
       "      <td>206</td>\n",
       "      <td>149</td>\n",
       "      <td>57</td>\n",
       "      <td>0</td>\n",
       "      <td>3173</td>\n",
       "      <td>0.470283</td>\n",
       "    </tr>\n",
       "    <tr>\n",
       "      <th>12</th>\n",
       "      <td>12</td>\n",
       "      <td>103</td>\n",
       "      <td>71</td>\n",
       "      <td>32</td>\n",
       "      <td>0</td>\n",
       "      <td>2967</td>\n",
       "      <td>0.439751</td>\n",
       "    </tr>\n",
       "    <tr>\n",
       "      <th>13</th>\n",
       "      <td>13</td>\n",
       "      <td>198</td>\n",
       "      <td>90</td>\n",
       "      <td>108</td>\n",
       "      <td>0</td>\n",
       "      <td>2864</td>\n",
       "      <td>0.424485</td>\n",
       "    </tr>\n",
       "    <tr>\n",
       "      <th>14</th>\n",
       "      <td>14</td>\n",
       "      <td>411</td>\n",
       "      <td>75</td>\n",
       "      <td>336</td>\n",
       "      <td>0</td>\n",
       "      <td>2666</td>\n",
       "      <td>0.395139</td>\n",
       "    </tr>\n",
       "    <tr>\n",
       "      <th>15</th>\n",
       "      <td>15</td>\n",
       "      <td>110</td>\n",
       "      <td>102</td>\n",
       "      <td>8</td>\n",
       "      <td>0</td>\n",
       "      <td>2255</td>\n",
       "      <td>0.334223</td>\n",
       "    </tr>\n",
       "    <tr>\n",
       "      <th>16</th>\n",
       "      <td>16</td>\n",
       "      <td>113</td>\n",
       "      <td>64</td>\n",
       "      <td>49</td>\n",
       "      <td>0</td>\n",
       "      <td>2145</td>\n",
       "      <td>0.317919</td>\n",
       "    </tr>\n",
       "    <tr>\n",
       "      <th>17</th>\n",
       "      <td>17</td>\n",
       "      <td>91</td>\n",
       "      <td>57</td>\n",
       "      <td>34</td>\n",
       "      <td>0</td>\n",
       "      <td>2032</td>\n",
       "      <td>0.301171</td>\n",
       "    </tr>\n",
       "    <tr>\n",
       "      <th>18</th>\n",
       "      <td>18</td>\n",
       "      <td>101</td>\n",
       "      <td>71</td>\n",
       "      <td>30</td>\n",
       "      <td>0</td>\n",
       "      <td>1941</td>\n",
       "      <td>0.287683</td>\n",
       "    </tr>\n",
       "    <tr>\n",
       "      <th>19</th>\n",
       "      <td>19</td>\n",
       "      <td>93</td>\n",
       "      <td>52</td>\n",
       "      <td>41</td>\n",
       "      <td>0</td>\n",
       "      <td>1840</td>\n",
       "      <td>0.272714</td>\n",
       "    </tr>\n",
       "    <tr>\n",
       "      <th>20</th>\n",
       "      <td>20</td>\n",
       "      <td>87</td>\n",
       "      <td>43</td>\n",
       "      <td>44</td>\n",
       "      <td>0</td>\n",
       "      <td>1747</td>\n",
       "      <td>0.258930</td>\n",
       "    </tr>\n",
       "    <tr>\n",
       "      <th>21</th>\n",
       "      <td>21</td>\n",
       "      <td>117</td>\n",
       "      <td>60</td>\n",
       "      <td>57</td>\n",
       "      <td>0</td>\n",
       "      <td>1660</td>\n",
       "      <td>0.246035</td>\n",
       "    </tr>\n",
       "    <tr>\n",
       "      <th>22</th>\n",
       "      <td>22</td>\n",
       "      <td>112</td>\n",
       "      <td>65</td>\n",
       "      <td>47</td>\n",
       "      <td>0</td>\n",
       "      <td>1543</td>\n",
       "      <td>0.228694</td>\n",
       "    </tr>\n",
       "    <tr>\n",
       "      <th>23</th>\n",
       "      <td>23</td>\n",
       "      <td>109</td>\n",
       "      <td>52</td>\n",
       "      <td>57</td>\n",
       "      <td>0</td>\n",
       "      <td>1431</td>\n",
       "      <td>0.212094</td>\n",
       "    </tr>\n",
       "    <tr>\n",
       "      <th>24</th>\n",
       "      <td>24</td>\n",
       "      <td>56</td>\n",
       "      <td>24</td>\n",
       "      <td>32</td>\n",
       "      <td>0</td>\n",
       "      <td>1322</td>\n",
       "      <td>0.195939</td>\n",
       "    </tr>\n",
       "    <tr>\n",
       "      <th>25</th>\n",
       "      <td>25</td>\n",
       "      <td>114</td>\n",
       "      <td>33</td>\n",
       "      <td>81</td>\n",
       "      <td>0</td>\n",
       "      <td>1266</td>\n",
       "      <td>0.187639</td>\n",
       "    </tr>\n",
       "    <tr>\n",
       "      <th>26</th>\n",
       "      <td>26</td>\n",
       "      <td>251</td>\n",
       "      <td>34</td>\n",
       "      <td>217</td>\n",
       "      <td>0</td>\n",
       "      <td>1152</td>\n",
       "      <td>0.170743</td>\n",
       "    </tr>\n",
       "    <tr>\n",
       "      <th>27</th>\n",
       "      <td>27</td>\n",
       "      <td>51</td>\n",
       "      <td>40</td>\n",
       "      <td>11</td>\n",
       "      <td>0</td>\n",
       "      <td>901</td>\n",
       "      <td>0.133541</td>\n",
       "    </tr>\n",
       "    <tr>\n",
       "      <th>28</th>\n",
       "      <td>28</td>\n",
       "      <td>58</td>\n",
       "      <td>27</td>\n",
       "      <td>31</td>\n",
       "      <td>0</td>\n",
       "      <td>850</td>\n",
       "      <td>0.125982</td>\n",
       "    </tr>\n",
       "    <tr>\n",
       "      <th>29</th>\n",
       "      <td>29</td>\n",
       "      <td>44</td>\n",
       "      <td>17</td>\n",
       "      <td>27</td>\n",
       "      <td>0</td>\n",
       "      <td>792</td>\n",
       "      <td>0.117386</td>\n",
       "    </tr>\n",
       "    <tr>\n",
       "      <th>30</th>\n",
       "      <td>30</td>\n",
       "      <td>60</td>\n",
       "      <td>21</td>\n",
       "      <td>39</td>\n",
       "      <td>0</td>\n",
       "      <td>748</td>\n",
       "      <td>0.110864</td>\n",
       "    </tr>\n",
       "    <tr>\n",
       "      <th>31</th>\n",
       "      <td>31</td>\n",
       "      <td>50</td>\n",
       "      <td>21</td>\n",
       "      <td>29</td>\n",
       "      <td>0</td>\n",
       "      <td>688</td>\n",
       "      <td>0.101971</td>\n",
       "    </tr>\n",
       "    <tr>\n",
       "      <th>32</th>\n",
       "      <td>32</td>\n",
       "      <td>62</td>\n",
       "      <td>19</td>\n",
       "      <td>43</td>\n",
       "      <td>0</td>\n",
       "      <td>638</td>\n",
       "      <td>0.094561</td>\n",
       "    </tr>\n",
       "    <tr>\n",
       "      <th>33</th>\n",
       "      <td>33</td>\n",
       "      <td>54</td>\n",
       "      <td>23</td>\n",
       "      <td>31</td>\n",
       "      <td>0</td>\n",
       "      <td>576</td>\n",
       "      <td>0.085371</td>\n",
       "    </tr>\n",
       "    <tr>\n",
       "      <th>34</th>\n",
       "      <td>34</td>\n",
       "      <td>63</td>\n",
       "      <td>21</td>\n",
       "      <td>42</td>\n",
       "      <td>0</td>\n",
       "      <td>522</td>\n",
       "      <td>0.077368</td>\n",
       "    </tr>\n",
       "    <tr>\n",
       "      <th>35</th>\n",
       "      <td>35</td>\n",
       "      <td>69</td>\n",
       "      <td>27</td>\n",
       "      <td>42</td>\n",
       "      <td>0</td>\n",
       "      <td>459</td>\n",
       "      <td>0.068030</td>\n",
       "    </tr>\n",
       "    <tr>\n",
       "      <th>36</th>\n",
       "      <td>36</td>\n",
       "      <td>32</td>\n",
       "      <td>6</td>\n",
       "      <td>26</td>\n",
       "      <td>0</td>\n",
       "      <td>390</td>\n",
       "      <td>0.057803</td>\n",
       "    </tr>\n",
       "    <tr>\n",
       "      <th>37</th>\n",
       "      <td>37</td>\n",
       "      <td>55</td>\n",
       "      <td>9</td>\n",
       "      <td>46</td>\n",
       "      <td>0</td>\n",
       "      <td>358</td>\n",
       "      <td>0.053061</td>\n",
       "    </tr>\n",
       "    <tr>\n",
       "      <th>38</th>\n",
       "      <td>38</td>\n",
       "      <td>197</td>\n",
       "      <td>5</td>\n",
       "      <td>192</td>\n",
       "      <td>0</td>\n",
       "      <td>303</td>\n",
       "      <td>0.044909</td>\n",
       "    </tr>\n",
       "    <tr>\n",
       "      <th>39</th>\n",
       "      <td>39</td>\n",
       "      <td>15</td>\n",
       "      <td>7</td>\n",
       "      <td>8</td>\n",
       "      <td>0</td>\n",
       "      <td>106</td>\n",
       "      <td>0.015711</td>\n",
       "    </tr>\n",
       "    <tr>\n",
       "      <th>40</th>\n",
       "      <td>40</td>\n",
       "      <td>10</td>\n",
       "      <td>1</td>\n",
       "      <td>9</td>\n",
       "      <td>0</td>\n",
       "      <td>91</td>\n",
       "      <td>0.013487</td>\n",
       "    </tr>\n",
       "    <tr>\n",
       "      <th>41</th>\n",
       "      <td>41</td>\n",
       "      <td>9</td>\n",
       "      <td>0</td>\n",
       "      <td>9</td>\n",
       "      <td>0</td>\n",
       "      <td>81</td>\n",
       "      <td>0.012005</td>\n",
       "    </tr>\n",
       "    <tr>\n",
       "      <th>42</th>\n",
       "      <td>42</td>\n",
       "      <td>6</td>\n",
       "      <td>0</td>\n",
       "      <td>6</td>\n",
       "      <td>0</td>\n",
       "      <td>72</td>\n",
       "      <td>0.010671</td>\n",
       "    </tr>\n",
       "    <tr>\n",
       "      <th>43</th>\n",
       "      <td>43</td>\n",
       "      <td>6</td>\n",
       "      <td>0</td>\n",
       "      <td>6</td>\n",
       "      <td>0</td>\n",
       "      <td>66</td>\n",
       "      <td>0.009782</td>\n",
       "    </tr>\n",
       "    <tr>\n",
       "      <th>44</th>\n",
       "      <td>44</td>\n",
       "      <td>1</td>\n",
       "      <td>0</td>\n",
       "      <td>1</td>\n",
       "      <td>0</td>\n",
       "      <td>60</td>\n",
       "      <td>0.008893</td>\n",
       "    </tr>\n",
       "    <tr>\n",
       "      <th>45</th>\n",
       "      <td>45</td>\n",
       "      <td>11</td>\n",
       "      <td>0</td>\n",
       "      <td>11</td>\n",
       "      <td>0</td>\n",
       "      <td>59</td>\n",
       "      <td>0.008745</td>\n",
       "    </tr>\n",
       "    <tr>\n",
       "      <th>46</th>\n",
       "      <td>46</td>\n",
       "      <td>13</td>\n",
       "      <td>0</td>\n",
       "      <td>13</td>\n",
       "      <td>0</td>\n",
       "      <td>48</td>\n",
       "      <td>0.007114</td>\n",
       "    </tr>\n",
       "    <tr>\n",
       "      <th>47</th>\n",
       "      <td>47</td>\n",
       "      <td>35</td>\n",
       "      <td>0</td>\n",
       "      <td>35</td>\n",
       "      <td>0</td>\n",
       "      <td>35</td>\n",
       "      <td>0.005187</td>\n",
       "    </tr>\n",
       "  </tbody>\n",
       "</table>\n",
       "</div>"
      ],
      "text/plain": [
       "    event_at  removed  observed  censored  entrance  at_risk  \\\n",
       "0          0        5         5         0      6747     6747   \n",
       "1          1      127        52        75         0     6742   \n",
       "2          2      758       241       517         0     6615   \n",
       "3          3      439       433         6         0     5857   \n",
       "4          4      372       340        32         0     5418   \n",
       "5          5      346       299        47         0     5046   \n",
       "6          6      319       274        45         0     4700   \n",
       "7          7      406       356        50         0     4381   \n",
       "8          8      268       198        70         0     3975   \n",
       "9          9      240       183        57         0     3707   \n",
       "10        10      294       230        64         0     3467   \n",
       "11        11      206       149        57         0     3173   \n",
       "12        12      103        71        32         0     2967   \n",
       "13        13      198        90       108         0     2864   \n",
       "14        14      411        75       336         0     2666   \n",
       "15        15      110       102         8         0     2255   \n",
       "16        16      113        64        49         0     2145   \n",
       "17        17       91        57        34         0     2032   \n",
       "18        18      101        71        30         0     1941   \n",
       "19        19       93        52        41         0     1840   \n",
       "20        20       87        43        44         0     1747   \n",
       "21        21      117        60        57         0     1660   \n",
       "22        22      112        65        47         0     1543   \n",
       "23        23      109        52        57         0     1431   \n",
       "24        24       56        24        32         0     1322   \n",
       "25        25      114        33        81         0     1266   \n",
       "26        26      251        34       217         0     1152   \n",
       "27        27       51        40        11         0      901   \n",
       "28        28       58        27        31         0      850   \n",
       "29        29       44        17        27         0      792   \n",
       "30        30       60        21        39         0      748   \n",
       "31        31       50        21        29         0      688   \n",
       "32        32       62        19        43         0      638   \n",
       "33        33       54        23        31         0      576   \n",
       "34        34       63        21        42         0      522   \n",
       "35        35       69        27        42         0      459   \n",
       "36        36       32         6        26         0      390   \n",
       "37        37       55         9        46         0      358   \n",
       "38        38      197         5       192         0      303   \n",
       "39        39       15         7         8         0      106   \n",
       "40        40       10         1         9         0       91   \n",
       "41        41        9         0         9         0       81   \n",
       "42        42        6         0         6         0       72   \n",
       "43        43        6         0         6         0       66   \n",
       "44        44        1         0         1         0       60   \n",
       "45        45       11         0        11         0       59   \n",
       "46        46       13         0        13         0       48   \n",
       "47        47       35         0        35         0       35   \n",
       "\n",
       "    percentagemClientes  \n",
       "0              1.000000  \n",
       "1              0.999259  \n",
       "2              0.980436  \n",
       "3              0.868090  \n",
       "4              0.803024  \n",
       "5              0.747888  \n",
       "6              0.696606  \n",
       "7              0.649326  \n",
       "8              0.589151  \n",
       "9              0.549429  \n",
       "10             0.513858  \n",
       "11             0.470283  \n",
       "12             0.439751  \n",
       "13             0.424485  \n",
       "14             0.395139  \n",
       "15             0.334223  \n",
       "16             0.317919  \n",
       "17             0.301171  \n",
       "18             0.287683  \n",
       "19             0.272714  \n",
       "20             0.258930  \n",
       "21             0.246035  \n",
       "22             0.228694  \n",
       "23             0.212094  \n",
       "24             0.195939  \n",
       "25             0.187639  \n",
       "26             0.170743  \n",
       "27             0.133541  \n",
       "28             0.125982  \n",
       "29             0.117386  \n",
       "30             0.110864  \n",
       "31             0.101971  \n",
       "32             0.094561  \n",
       "33             0.085371  \n",
       "34             0.077368  \n",
       "35             0.068030  \n",
       "36             0.057803  \n",
       "37             0.053061  \n",
       "38             0.044909  \n",
       "39             0.015711  \n",
       "40             0.013487  \n",
       "41             0.012005  \n",
       "42             0.010671  \n",
       "43             0.009782  \n",
       "44             0.008893  \n",
       "45             0.008745  \n",
       "46             0.007114  \n",
       "47             0.005187  "
      ]
     },
     "execution_count": 14,
     "metadata": {},
     "output_type": "execute_result"
    }
   ],
   "source": [
    "abandono"
   ]
  },
  {
   "cell_type": "markdown",
   "metadata": {},
   "source": [
    "A probabilidade de sobreviver mais de 10 meses é de 50%. A probabilidade de sobreviver 20 meses é de 25%."
   ]
  },
  {
   "cell_type": "markdown",
   "metadata": {},
   "source": [
    "# Curva Kaplan-Meier por género"
   ]
  },
  {
   "cell_type": "code",
   "execution_count": 15,
   "metadata": {},
   "outputs": [
    {
     "name": "stdout",
     "output_type": "stream",
     "text": [
      "Mediana 0 = 13.0 | Prob sobreviver mais 6 meses S(t) == P(T>t) : 0.7073675240472379\n",
      "Mediana 1 = 15.0 | Prob sobreviver mais 6 meses S(t) == P(T>t) : 0.7637997509868095\n"
     ]
    },
    {
     "data": {
      "image/png": "[encoded data removed]",
      "text/plain": [
       "<Figure size 864x504 with 1 Axes>"
      ]
     },
     "metadata": {
      "needs_background": "light"
     },
     "output_type": "display_data"
    }
   ],
   "source": [
    "ax = plt.subplot(111)\n",
    "import matplotlib.pyplot as plt\n",
    "\n",
    "plt.rcParams['figure.figsize'] = [12, 7]\n",
    "\n",
    "for gen in dt['genero'].unique():\n",
    "    ix = dt['genero'] == gen\n",
    "    kmf.fit(T.loc[ix], C.loc[ix], label=str(gen))\n",
    "    ax = kmf.plot(ax=ax)\n",
    "    print ('Mediana',gen, '=', kmf.median_,'| Prob sobreviver mais 6 meses S(t) == P(T>t) :', kmf.predict(6.0))"
   ]
  },
  {
   "cell_type": "markdown",
   "metadata": {},
   "source": [
    "1 - Masculino / 0 - Feminino"
   ]
  },
  {
   "cell_type": "code",
   "execution_count": 16,
   "metadata": {},
   "outputs": [],
   "source": [
    "dt.dropna(inplace=True)"
   ]
  },
  {
   "cell_type": "code",
   "execution_count": 17,
   "metadata": {},
   "outputs": [],
   "source": [
    "T = dt['mesesinscricao']\n",
    "C = dt['classe_desistencia']"
   ]
  },
  {
   "cell_type": "code",
   "execution_count": 18,
   "metadata": {},
   "outputs": [
    {
     "data": {
      "text/plain": [
       "<lifelines.CoxPHFitter: fitted with 6745 observations, 2850 censored>"
      ]
     },
     "execution_count": 18,
     "metadata": {},
     "output_type": "execute_result"
    }
   ],
   "source": [
    "nomes_features= ['idade', 'genero', 'diassemfrequencia', 'mesesinscricao', 'volnegocios', 'freqmedia',\n",
    "                  'natividades', 'nfrequencias', 'freqcontratadasemanal', \n",
    "                 'nrenovacoes', 'nreferencias', 'classe_desistencia','mes']\n",
    "dtNadadores = dt[nomes_features].copy()\n",
    "\n",
    "from lifelines import CoxPHFitter\n",
    "cph = CoxPHFitter()\n",
    "cph.fit(dtNadadores,duration_col='mesesinscricao',event_col='classe_desistencia')"
   ]
  },
  {
   "cell_type": "code",
   "execution_count": 19,
   "metadata": {},
   "outputs": [
    {
     "name": "stdout",
     "output_type": "stream",
     "text": [
      "Stored 'dtNadadores' (DataFrame)\n"
     ]
    }
   ],
   "source": [
    "%store dtNadadores"
   ]
  },
  {
   "cell_type": "markdown",
   "metadata": {},
   "source": [
    "# Cox Regression"
   ]
  },
  {
   "cell_type": "code",
   "execution_count": 85,
   "metadata": {},
   "outputs": [
    {
     "name": "stdout",
     "output_type": "stream",
     "text": [
      "<lifelines.CoxPHFitter: fitted with 6745 observations, 2850 censored>\n",
      "      duration col = 'mesesinscricao'\n",
      "         event col = 'classe_desistencia'\n",
      "number of subjects = 6745\n",
      "  number of events = 3895\n",
      "    log-likelihood = -27650.91\n",
      "  time fit was run = 2020-02-05 12:54:56 UTC\n",
      "\n",
      "---\n",
      "                       coef exp(coef)  se(coef)      z      p  -log2(p)  lower 0.95  upper 0.95\n",
      "idade                  0.01      1.01      0.00   6.40 <0.005     32.62        0.00        0.01\n",
      "genero                -0.04      0.96      0.03  -1.12   0.26      1.94       -0.10        0.03\n",
      "diassemfrequencia      0.00      1.00      0.00   5.57 <0.005     25.22        0.00        0.00\n",
      "volnegocios           -0.00      1.00      0.00  -4.07 <0.005     14.37       -0.00       -0.00\n",
      "freqmedia              0.59      1.81      0.06  10.66 <0.005     85.77        0.49        0.70\n",
      "natividades           -0.04      0.96      0.07  -0.56   0.58      0.79       -0.18        0.10\n",
      "nfrequencias          -0.02      0.98      0.00 -13.85 <0.005    142.57       -0.03       -0.02\n",
      "freqcontratadasemanal -0.09      0.91      0.01 -10.03 <0.005     76.23       -0.11       -0.07\n",
      "nrenovacoes           -1.84      0.16      0.04 -52.30 <0.005       inf       -1.91       -1.77\n",
      "nreferencias          -0.03      0.97      0.03  -1.06   0.29      1.79       -0.09        0.03\n",
      "mes                   -0.15      0.86      0.01 -28.86 <0.005    606.16       -0.17       -0.14\n",
      "---\n",
      "Concordance = 0.88\n",
      "Log-likelihood ratio test = 7904.62 on 11 df, -log2(p)=inf\n"
     ]
    }
   ],
   "source": [
    "cph.print_summary()"
   ]
  },
  {
   "cell_type": "markdown",
   "metadata": {
    "toc-hr-collapsed": false
   },
   "source": [
    "# Curvas sobrevivência considerando as variáveis mais relevantes na regressão de cox"
   ]
  },
  {
   "cell_type": "markdown",
   "metadata": {},
   "source": [
    "The significant predictors age, maccess, nentries, cfreq, nrenewals and imonth where analysed using the logrank test, where we identified significant differences between the groups in each variable represented in Table 4: age (χ2=204.78, p<0.01),  maccess (χ2=294.44 p<0.01), nentries (χ2=3721.13, p<0.01), cfreq (χ2=58.34, p<0.01), nrenewals (χ2=6264.73, p<0.01) and imonth (χ2=86.33, p<0.01). The probability of surviving more than 12 months and survival median for each group is also represented, for example, swimmers with less than 0.3 average access have a probability of surviving more than 12 months of 40.56% and a survival median of 9 months"
   ]
  },
  {
   "cell_type": "markdown",
   "metadata": {},
   "source": [
    "## age"
   ]
  },
  {
   "cell_type": "markdown",
   "metadata": {},
   "source": [
    "Utilizar os escalões de idade OMS\n",
    "\n",
    "| Escalões      | Idades        |\n",
    "| ------------- |:-------------:|\n",
    "| Infância      |  até 10 anos  |\n",
    "| Adolescência  |  10-20        |\n",
    "| Idade adulta  |  20-40        |\n",
    "| Meia Idade    |  40-60        |\n",
    "| Terceira Idade|  +60          |"
   ]
  },
  {
   "cell_type": "code",
   "execution_count": 25,
   "metadata": {},
   "outputs": [
    {
     "data": {
      "text/plain": [
       "count    6745.000000\n",
       "mean       18.655300\n",
       "std        19.292012\n",
       "min         0.000000\n",
       "25%         5.000000\n",
       "50%        10.000000\n",
       "75%        32.000000\n",
       "max        88.000000\n",
       "Name: idade, dtype: float64"
      ]
     },
     "execution_count": 25,
     "metadata": {},
     "output_type": "execute_result"
    }
   ],
   "source": [
    "dt['idade'].describe()"
   ]
  },
  {
   "cell_type": "code",
   "execution_count": 26,
   "metadata": {},
   "outputs": [
    {
     "data": {
      "text/plain": [
       "Index(['datanasc', 'idade', 'genero', 'inicio', 'termino', 'dtultvisita',\n",
       "       'diassemfrequencia', 'mesesinscricao', 'volnegocios', 'freqmedia',\n",
       "       'utilizacao_livre', 'atividade_atletismo', 'atividade_aquaticas',\n",
       "       'atividade_fitness', 'atividade_danca', 'atividade_coletivos',\n",
       "       'atividade_raquete', 'atividade_combate', 'atividade_especiais',\n",
       "       'atividade_natureza', 'atividade_outra', 'natividades', 'nfrequencias',\n",
       "       'freqcontratadasemanal', 'nrenovacoes', 'nreferencias',\n",
       "       'classe_desistencia', 'mes'],\n",
       "      dtype='object')"
      ]
     },
     "execution_count": 26,
     "metadata": {},
     "output_type": "execute_result"
    }
   ],
   "source": [
    "dt.columns"
   ]
  },
  {
   "cell_type": "markdown",
   "metadata": {},
   "source": [
    "Vamos dividir a distribuicao idades em 5 partes"
   ]
  },
  {
   "cell_type": "code",
   "execution_count": 27,
   "metadata": {},
   "outputs": [],
   "source": [
    "#dt['escaloesIdade']=''\n",
    "#escaloesIdade=[10,20,40,60]\n",
    "#\n",
    "#for index, cliente in dt.iterrows():\n",
    "#    #se a variável tiver o valor 1 colocar na nova variável a descrição da atividade\n",
    "#    if cliente['idade']<=10:\n",
    "#        dt.at[index,'escaloesIdade']='ate 10'\n",
    "#    elif (cliente['idade']>10) & (cliente['idade']<=20):\n",
    "#        dt.at[index,'escaloesIdade']='10 a 20'\n",
    "#    elif (cliente['idade']>20) & (cliente['idade']<=40):\n",
    "#        dt.at[index,'escaloesIdade']='21 a 40'\n",
    "#    elif (cliente['idade']>40) & (cliente['idade']<=60):\n",
    "#        dt.at[index,'escaloesIdade']='41 a 60'\n",
    "#    elif (cliente['idade']>60):\n",
    "#        dt.at[index,'escaloesIdade']='mais 60'"
   ]
  },
  {
   "cell_type": "code",
   "execution_count": 28,
   "metadata": {},
   "outputs": [
    {
     "data": {
      "text/plain": [
       "count    6745.000000\n",
       "mean       18.655300\n",
       "std        19.292012\n",
       "min         0.000000\n",
       "25%         5.000000\n",
       "50%        10.000000\n",
       "75%        32.000000\n",
       "max        88.000000\n",
       "Name: idade, dtype: float64"
      ]
     },
     "execution_count": 28,
     "metadata": {},
     "output_type": "execute_result"
    }
   ],
   "source": [
    "dt.idade.describe()"
   ]
  },
  {
   "cell_type": "code",
   "execution_count": 29,
   "metadata": {},
   "outputs": [],
   "source": [
    "dt['escaloesIdade']=''\n",
    "escaloesIdade=[10,20,40,60]\n",
    "\n",
    "for index, cliente in dt.iterrows():\n",
    "    #se a variável tiver o valor 1 colocar na nova variável a descrição da atividade\n",
    "    if cliente['idade']<=5:\n",
    "        dt.at[index,'escaloesIdade']='until 5'\n",
    "    elif (cliente['idade']>5) & (cliente['idade']<=10):\n",
    "        dt.at[index,'escaloesIdade']='5 to 10'\n",
    "    elif (cliente['idade']>10) & (cliente['idade']<=32):\n",
    "        dt.at[index,'escaloesIdade']='10 a 32'\n",
    "    elif (cliente['idade']>32):\n",
    "        dt.at[index,'escaloesIdade']='more than 32'"
   ]
  },
  {
   "cell_type": "code",
   "execution_count": 30,
   "metadata": {},
   "outputs": [
    {
     "data": {
      "text/plain": [
       "array(['10 a 32', '5 to 10', 'until 5', 'more than 32'], dtype=object)"
      ]
     },
     "execution_count": 30,
     "metadata": {},
     "output_type": "execute_result"
    }
   ],
   "source": [
    "dt.escaloesIdade.unique()"
   ]
  },
  {
   "cell_type": "code",
   "execution_count": 31,
   "metadata": {},
   "outputs": [
    {
     "data": {
      "text/plain": [
       "escaloesIdade\n",
       "10 a 32         1520\n",
       "5 to 10         1688\n",
       "more than 32    1666\n",
       "until 5         1871\n",
       "Name: idade, dtype: int64"
      ]
     },
     "execution_count": 31,
     "metadata": {},
     "output_type": "execute_result"
    }
   ],
   "source": [
    "dt.groupby(dt['escaloesIdade']).count().iloc[:,1]"
   ]
  },
  {
   "cell_type": "code",
   "execution_count": 32,
   "metadata": {},
   "outputs": [
    {
     "name": "stdout",
     "output_type": "stream",
     "text": [
      "10 a 32  predict survival 12 months: 0.43057257599984217 : median  10.0\n",
      "5 to 10  predict survival 12 months: 0.6489208673026031 : median  22.0\n",
      "until 5  predict survival 12 months: 0.5491332303030675 : median  15.0\n",
      "more than 32  predict survival 12 months: 0.48348093995777114 : median  11.0\n"
     ]
    },
    {
     "data": {
      "image/png": "[encoded data removed]",
      "text/plain": [
       "<Figure size 864x504 with 1 Axes>"
      ]
     },
     "metadata": {
      "needs_background": "light"
     },
     "output_type": "display_data"
    }
   ],
   "source": [
    "ax = plt.subplot(111)\n",
    "import matplotlib.pyplot as plt\n",
    "import numpy as np\n",
    "#vamos considerar só 0,1,2,3\n",
    "escaloesIdade=dt['escaloesIdade'].unique()\n",
    "\n",
    "plt.rcParams['figure.figsize'] = [12, 7]\n",
    "for escalao in escaloesIdade:\n",
    "    ix = dt['escaloesIdade'] == escalao\n",
    "    kmf.fit(T.loc[ix], C.loc[ix], label=str(escalao))\n",
    "    ax = kmf.plot(ax=ax)\n",
    "    print(str(escalao),' predict survival 12 months:',kmf.predict(12.0),': median ',kmf.median_)\n",
    "\n",
    "plt.title('Survival by age cohorts');"
   ]
  },
  {
   "cell_type": "code",
   "execution_count": 33,
   "metadata": {},
   "outputs": [
    {
     "name": "stdout",
     "output_type": "stream",
     "text": [
      "<lifelines.StatisticalResult>\n",
      "               t_0 = -1\n",
      " null_distribution = chi squared\n",
      "degrees_of_freedom = 3\n",
      "\n",
      "---\n",
      " test_statistic      p  -log2(p)\n",
      "         204.78 <0.005    144.19\n"
     ]
    }
   ],
   "source": [
    "from lifelines.statistics import multivariate_logrank_test\n",
    "\n",
    "results=multivariate_logrank_test(event_durations=T,groups=dt.escaloesIdade,event_observed=C)\n",
    "results.print_summary()"
   ]
  },
  {
   "cell_type": "code",
   "execution_count": 34,
   "metadata": {},
   "outputs": [
    {
     "name": "stdout",
     "output_type": "stream",
     "text": [
      "<lifelines.StatisticalResult>\n",
      "               t_0 = -1\n",
      " null_distribution = chi squared\n",
      "degrees_of_freedom = 1\n",
      "\n",
      "---\n",
      "                           test_statistic      p  -log2(p)\n",
      "10 a 32      5 to 10               192.30 <0.005    142.85\n",
      "             more than 32           13.57 <0.005     12.09\n",
      "             until 5                67.91 <0.005     52.37\n",
      "5 to 10      more than 32          101.89 <0.005     77.17\n",
      "             until 5                26.39 <0.005     21.77\n",
      "more than 32 until 5                23.63 <0.005     19.71\n"
     ]
    }
   ],
   "source": [
    "from lifelines.statistics import pairwise_logrank_test\n",
    "\n",
    "results=pairwise_logrank_test(event_durations=T,groups=dt.escaloesIdade,event_observed=C)\n",
    "results.print_summary()"
   ]
  },
  {
   "cell_type": "markdown",
   "metadata": {
    "toc-hr-collapsed": false
   },
   "source": [
    "## maccess"
   ]
  },
  {
   "cell_type": "code",
   "execution_count": 35,
   "metadata": {},
   "outputs": [
    {
     "data": {
      "text/plain": [
       "count    6745.000000\n",
       "mean        0.600197\n",
       "std         0.423792\n",
       "min         0.010000\n",
       "25%         0.300000\n",
       "50%         0.510000\n",
       "75%         0.800000\n",
       "max         3.940000\n",
       "Name: freqmedia, dtype: float64"
      ]
     },
     "execution_count": 35,
     "metadata": {},
     "output_type": "execute_result"
    }
   ],
   "source": [
    "dt.freqmedia.describe()"
   ]
  },
  {
   "cell_type": "code",
   "execution_count": 36,
   "metadata": {},
   "outputs": [],
   "source": [
    "dt['esc_maccess']=''\n",
    "for index, cliente in dt.iterrows():\n",
    "    #se a variável tiver o valor 1 colocar na nova variável a descrição da atividade\n",
    "    if cliente['freqmedia'] <= 0.3:\n",
    "        dt.at[index,'esc_maccess']='maccess less than 0.3'\n",
    "    elif (cliente['freqmedia'] > 0.3) & (cliente['freqmedia'] < 0.51):\n",
    "        dt.at[index,'esc_maccess']='maccess greather than 0.3 and less 0.51'\n",
    "    elif (cliente['freqmedia'] >= 0.51) & (cliente['freqmedia'] < 0.8):\n",
    "        dt.at[index,'esc_maccess']='maccess greather than 0.51 and less 0.8'\n",
    "    elif (cliente['freqmedia'] >= 0.8):\n",
    "        dt.at[index,'esc_maccess']='maccess greather than 0.8'"
   ]
  },
  {
   "cell_type": "code",
   "execution_count": 37,
   "metadata": {},
   "outputs": [
    {
     "data": {
      "text/plain": [
       "maccess less than 0.3                      1740\n",
       "maccess greather than 0.8                  1698\n",
       "maccess greather than 0.51 and less 0.8    1675\n",
       "maccess greather than 0.3 and less 0.51    1632\n",
       "Name: esc_maccess, dtype: int64"
      ]
     },
     "execution_count": 37,
     "metadata": {},
     "output_type": "execute_result"
    }
   ],
   "source": [
    "dt['esc_maccess'].value_counts()"
   ]
  },
  {
   "cell_type": "code",
   "execution_count": 38,
   "metadata": {},
   "outputs": [
    {
     "data": {
      "text/plain": [
       "array(['maccess greather than 0.51 and less 0.8',\n",
       "       'maccess greather than 0.3 and less 0.51',\n",
       "       'maccess greather than 0.8', 'maccess less than 0.3'], dtype=object)"
      ]
     },
     "execution_count": 38,
     "metadata": {},
     "output_type": "execute_result"
    }
   ],
   "source": [
    "dt['esc_maccess'].unique()"
   ]
  },
  {
   "cell_type": "markdown",
   "metadata": {},
   "source": [
    "Vamos considerar 3,4 e 5 superior a duas vezes por semana"
   ]
  },
  {
   "cell_type": "code",
   "execution_count": 39,
   "metadata": {},
   "outputs": [
    {
     "name": "stdout",
     "output_type": "stream",
     "text": [
      "maccess greather than 0.51 and less 0.8  predict survival 12 months: 0.5979748810760623 : median  20.0\n",
      "maccess greather than 0.3 and less 0.51  predict survival 12 months: 0.5140966461680566 : median  13.0\n",
      "maccess greather than 0.8  predict survival 12 months: 0.6244376660357491 : median  21.0\n",
      "maccess less than 0.3  predict survival 12 months: 0.4056633508325905 : median  9.0\n"
     ]
    },
    {
     "data": {
      "image/png": "[encoded data removed]",
      "text/plain": [
       "<Figure size 864x504 with 1 Axes>"
      ]
     },
     "metadata": {
      "needs_background": "light"
     },
     "output_type": "display_data"
    }
   ],
   "source": [
    "ax = plt.subplot(111)\n",
    "#vamos considerar só 0,1,2,3\n",
    "idas=dt['esc_maccess'].unique()\n",
    "\n",
    "plt.rcParams['figure.figsize'] = [12, 7]\n",
    "for ida in idas:\n",
    "    ix = dt['esc_maccess'] == ida\n",
    "    kmf.fit(T.loc[ix], C.loc[ix], label=str(ida))\n",
    "    ax = kmf.plot(ax=ax)\n",
    "    print(str(ida),' predict survival 12 months:',kmf.predict(12.0),': median ',kmf.median_)\n",
    "plt.title('maccess');"
   ]
  },
  {
   "cell_type": "code",
   "execution_count": 40,
   "metadata": {},
   "outputs": [
    {
     "name": "stdout",
     "output_type": "stream",
     "text": [
      "<lifelines.StatisticalResult>\n",
      "               t_0 = -1\n",
      " null_distribution = chi squared\n",
      "degrees_of_freedom = 3\n",
      "\n",
      "---\n",
      " test_statistic      p  -log2(p)\n",
      "         294.44 <0.005    208.62\n"
     ]
    }
   ],
   "source": [
    "results=multivariate_logrank_test(event_durations=T,groups=dt.esc_maccess,event_observed=C)\n",
    "results.print_summary()"
   ]
  },
  {
   "cell_type": "code",
   "execution_count": 41,
   "metadata": {},
   "outputs": [
    {
     "name": "stdout",
     "output_type": "stream",
     "text": [
      "<lifelines.StatisticalResult>\n",
      "               t_0 = -1\n",
      " null_distribution = chi squared\n",
      "degrees_of_freedom = 1\n",
      "\n",
      "---\n",
      "                                                                                 test_statistic      p  -log2(p)\n",
      "maccess greather than 0.3 and less 0.51 maccess greather than 0.51 and less 0.8           48.81 <0.005     38.36\n",
      "                                        maccess greather than 0.8                         70.70 <0.005     54.41\n",
      "                                        maccess less than 0.3                             40.72 <0.005     32.41\n",
      "maccess greather than 0.51 and less 0.8 maccess greather than 0.8                          2.46   0.12      3.10\n",
      "                                        maccess less than 0.3                            179.86 <0.005    133.82\n",
      "maccess greather than 0.8               maccess less than 0.3                            216.01 <0.005    160.03\n"
     ]
    }
   ],
   "source": [
    "results=pairwise_logrank_test(event_durations=T,groups=dt.esc_maccess,event_observed=C)\n",
    "results.print_summary()"
   ]
  },
  {
   "cell_type": "markdown",
   "metadata": {},
   "source": [
    "O número idas com uma retenção maior é 2 ou mais. A tendência de retenção maior só se apresenta depois dos 10 meses. O abandono depois dos 10 meses é menor nos clientes que vão em média 1 a 2 vezes ou mais. As estratégias devem estar focadas na manutenção do cliente nos primeiros 10 meses e tentar que vão em média pelo menos 1 vez por semana."
   ]
  },
  {
   "cell_type": "markdown",
   "metadata": {
    "toc-hr-collapsed": false
   },
   "source": [
    "## nentries"
   ]
  },
  {
   "cell_type": "code",
   "execution_count": 42,
   "metadata": {},
   "outputs": [
    {
     "data": {
      "text/plain": [
       "Index(['datanasc', 'idade', 'genero', 'inicio', 'termino', 'dtultvisita',\n",
       "       'diassemfrequencia', 'mesesinscricao', 'volnegocios', 'freqmedia',\n",
       "       'utilizacao_livre', 'atividade_atletismo', 'atividade_aquaticas',\n",
       "       'atividade_fitness', 'atividade_danca', 'atividade_coletivos',\n",
       "       'atividade_raquete', 'atividade_combate', 'atividade_especiais',\n",
       "       'atividade_natureza', 'atividade_outra', 'natividades', 'nfrequencias',\n",
       "       'freqcontratadasemanal', 'nrenovacoes', 'nreferencias',\n",
       "       'classe_desistencia', 'mes', 'escaloesIdade', 'esc_maccess'],\n",
       "      dtype='object')"
      ]
     },
     "execution_count": 42,
     "metadata": {},
     "output_type": "execute_result"
    }
   ],
   "source": [
    "dt.columns"
   ]
  },
  {
   "cell_type": "code",
   "execution_count": 43,
   "metadata": {},
   "outputs": [
    {
     "data": {
      "text/plain": [
       "count    6745.000000\n",
       "mean       29.835434\n",
       "std        35.394236\n",
       "min         1.000000\n",
       "25%         6.000000\n",
       "50%        17.000000\n",
       "75%        40.000000\n",
       "max       323.000000\n",
       "Name: nfrequencias, dtype: float64"
      ]
     },
     "execution_count": 43,
     "metadata": {},
     "output_type": "execute_result"
    }
   ],
   "source": [
    "dt.nfrequencias.describe()"
   ]
  },
  {
   "cell_type": "code",
   "execution_count": 44,
   "metadata": {},
   "outputs": [],
   "source": [
    "dt['esc_entries']=''\n",
    "for index, cliente in dt.iterrows():\n",
    "    #se a variável tiver o valor 1 colocar na nova variável a descrição da atividade\n",
    "    if cliente['nfrequencias'] <= 6:\n",
    "        dt.at[index,'esc_entries']='until 6'\n",
    "    elif (cliente['nfrequencias'] > 6) & (cliente['nfrequencias'] < 17):\n",
    "        dt.at[index,'esc_entries']='6 to 17'\n",
    "    elif (cliente['nfrequencias'] >= 17) & (cliente['nfrequencias'] < 40):\n",
    "        dt.at[index,'esc_entries']='17 to 40'\n",
    "    elif (cliente['nfrequencias'] >= 40):\n",
    "        dt.at[index,'esc_entries']='more than 40'\n",
    "       \n",
    "    #dt.at[index,'idas']=np.around(cliente['nfrequencias'],decimals=1)"
   ]
  },
  {
   "cell_type": "code",
   "execution_count": 45,
   "metadata": {},
   "outputs": [
    {
     "data": {
      "text/plain": [
       "until 6         1720\n",
       "more than 40    1718\n",
       "17 to 40        1665\n",
       "6 to 17         1642\n",
       "Name: esc_entries, dtype: int64"
      ]
     },
     "execution_count": 45,
     "metadata": {},
     "output_type": "execute_result"
    }
   ],
   "source": [
    "dt['esc_entries'].value_counts()"
   ]
  },
  {
   "cell_type": "code",
   "execution_count": 46,
   "metadata": {},
   "outputs": [
    {
     "data": {
      "text/plain": [
       "array(['until 6', '17 to 40', '6 to 17', 'more than 40'], dtype=object)"
      ]
     },
     "execution_count": 46,
     "metadata": {},
     "output_type": "execute_result"
    }
   ],
   "source": [
    "dt['esc_entries'].unique()"
   ]
  },
  {
   "cell_type": "markdown",
   "metadata": {},
   "source": [
    "Vamos considerar 3,4 e 5 superior a duas vezes por semana"
   ]
  },
  {
   "cell_type": "code",
   "execution_count": 47,
   "metadata": {},
   "outputs": [
    {
     "name": "stdout",
     "output_type": "stream",
     "text": [
      "until 6  predict survival 12 months: 0.12141345870340657 : median  4.0\n",
      "17 to 40  predict survival 12 months: 0.6370290037312688 : median  17.0\n",
      "6 to 17  predict survival 12 months: 0.2852619553840528 : median  7.0\n",
      "more than 40  predict survival 12 months: 0.9186106530361037 : median  39.0\n"
     ]
    },
    {
     "data": {
      "image/png": "[encoded data removed]",
      "text/plain": [
       "<Figure size 864x504 with 1 Axes>"
      ]
     },
     "metadata": {
      "needs_background": "light"
     },
     "output_type": "display_data"
    }
   ],
   "source": [
    "ax = plt.subplot(111)\n",
    "#vamos considerar só 0,1,2,3\n",
    "idas=dt['esc_entries'].unique()\n",
    "\n",
    "plt.rcParams['figure.figsize'] = [12, 7]\n",
    "for ida in idas:\n",
    "    ix = dt['esc_entries'] == ida\n",
    "    kmf.fit(T.loc[ix], C.loc[ix], label=str(ida))\n",
    "    ax = kmf.plot(ax=ax)\n",
    "    print(str(ida),' predict survival 12 months:',kmf.predict(12.0),': median ',kmf.median_)\n",
    "plt.title('nentries');"
   ]
  },
  {
   "cell_type": "code",
   "execution_count": 48,
   "metadata": {},
   "outputs": [
    {
     "name": "stdout",
     "output_type": "stream",
     "text": [
      "<lifelines.StatisticalResult>\n",
      "               t_0 = -1\n",
      " null_distribution = chi squared\n",
      "degrees_of_freedom = 3\n",
      "\n",
      "---\n",
      " test_statistic      p  -log2(p)\n",
      "        3721.13 <0.005       inf\n"
     ]
    }
   ],
   "source": [
    "results=multivariate_logrank_test(event_durations=T,groups=dt.esc_entries,event_observed=C)\n",
    "results.print_summary()"
   ]
  },
  {
   "cell_type": "code",
   "execution_count": 49,
   "metadata": {},
   "outputs": [
    {
     "name": "stdout",
     "output_type": "stream",
     "text": [
      "<lifelines.StatisticalResult>\n",
      "               t_0 = -1\n",
      " null_distribution = chi squared\n",
      "degrees_of_freedom = 1\n",
      "\n",
      "---\n",
      "                           test_statistic      p  -log2(p)\n",
      "17 to 40     6 to 17               429.84 <0.005    314.77\n",
      "             more than 40          625.76 <0.005    456.37\n",
      "             until 6              1315.64 <0.005    954.54\n",
      "6 to 17      more than 40         1706.42 <0.005       inf\n",
      "             until 6               318.29 <0.005    234.09\n",
      "more than 40 until 6              2582.34 <0.005       inf\n"
     ]
    }
   ],
   "source": [
    "results=pairwise_logrank_test(event_durations=T,groups=dt.esc_entries,event_observed=C)\n",
    "results.print_summary()"
   ]
  },
  {
   "cell_type": "markdown",
   "metadata": {},
   "source": [
    "O número idas com uma retenção maior é 2 ou mais. A tendência de retenção maior só se apresenta depois dos 10 meses. O abandono depois dos 10 meses é menor nos clientes que vão em média 1 a 2 vezes ou mais. As estratégias devem estar focadas na manutenção do cliente nos primeiros 10 meses e tentar que vão em média pelo menos 1 vez por semana."
   ]
  },
  {
   "cell_type": "markdown",
   "metadata": {
    "toc-hr-collapsed": false
   },
   "source": [
    "## cfreq"
   ]
  },
  {
   "cell_type": "code",
   "execution_count": 50,
   "metadata": {},
   "outputs": [
    {
     "data": {
      "text/plain": [
       "count    6745.000000\n",
       "mean        2.072350\n",
       "std         1.823901\n",
       "min         1.000000\n",
       "25%         1.000000\n",
       "50%         1.000000\n",
       "75%         2.000000\n",
       "max         7.000000\n",
       "Name: freqcontratadasemanal, dtype: float64"
      ]
     },
     "execution_count": 50,
     "metadata": {},
     "output_type": "execute_result"
    }
   ],
   "source": [
    "dt.freqcontratadasemanal.describe()"
   ]
  },
  {
   "cell_type": "code",
   "execution_count": 51,
   "metadata": {},
   "outputs": [
    {
     "data": {
      "text/plain": [
       "array([1., 2., 7., 3., 4., 6.])"
      ]
     },
     "execution_count": 51,
     "metadata": {},
     "output_type": "execute_result"
    }
   ],
   "source": [
    "dt.freqcontratadasemanal.unique()"
   ]
  },
  {
   "cell_type": "code",
   "execution_count": 52,
   "metadata": {},
   "outputs": [
    {
     "data": {
      "text/plain": [
       "1.0    3410\n",
       "2.0    2485\n",
       "7.0     755\n",
       "3.0      69\n",
       "4.0      25\n",
       "6.0       1\n",
       "Name: freqcontratadasemanal, dtype: int64"
      ]
     },
     "execution_count": 52,
     "metadata": {},
     "output_type": "execute_result"
    }
   ],
   "source": [
    "dt.freqcontratadasemanal.value_counts()"
   ]
  },
  {
   "cell_type": "markdown",
   "metadata": {},
   "source": [
    "Considerando a distribuicao foram divididos em 1,2 e 3+"
   ]
  },
  {
   "cell_type": "code",
   "execution_count": 53,
   "metadata": {},
   "outputs": [],
   "source": [
    "dt['esc_cfreq']=''\n",
    "\n",
    "for index, cliente in dt.iterrows():\n",
    "    #se a variável tiver o valor 1 colocar na nova variável a descrição da atividade\n",
    "    if cliente['freqcontratadasemanal']<=1:\n",
    "        dt.at[index,'esc_cfreq']='cfreq 1'\n",
    "    elif cliente['freqcontratadasemanal']==2:\n",
    "        dt.at[index,'esc_cfreq']='cfreq 2'\n",
    "    elif cliente['freqcontratadasemanal']>=3:\n",
    "        dt.at[index,'esc_cfreq']='cfreq 3'\n"
   ]
  },
  {
   "cell_type": "code",
   "execution_count": 54,
   "metadata": {},
   "outputs": [
    {
     "data": {
      "text/plain": [
       "cfreq 1    3410\n",
       "cfreq 2    2485\n",
       "cfreq 3     850\n",
       "Name: esc_cfreq, dtype: int64"
      ]
     },
     "execution_count": 54,
     "metadata": {},
     "output_type": "execute_result"
    }
   ],
   "source": [
    "dt.esc_cfreq.value_counts()"
   ]
  },
  {
   "cell_type": "code",
   "execution_count": 55,
   "metadata": {},
   "outputs": [
    {
     "name": "stdout",
     "output_type": "stream",
     "text": [
      "cfreq 1  predict survival 12 months: 0.5377226135134687 : median  15.0\n",
      "cfreq 2  predict survival 12 months: 0.483370910687046 : median  11.0\n",
      "cfreq 3  predict survival 12 months: 0.6283866126401795 : median  21.0\n"
     ]
    },
    {
     "data": {
      "image/png": "[encoded data removed]",
      "text/plain": [
       "<Figure size 864x504 with 1 Axes>"
      ]
     },
     "metadata": {
      "needs_background": "light"
     },
     "output_type": "display_data"
    }
   ],
   "source": [
    "ax = plt.subplot(111)\n",
    "cfreqs=dt.esc_cfreq.unique()\n",
    "\n",
    "plt.rcParams['figure.figsize'] = [12, 7]\n",
    "for cfreq in cfreqs:\n",
    "    ix = dt['esc_cfreq'] == cfreq\n",
    "    kmf.fit(T.loc[ix], C.loc[ix],label=str(cfreq))\n",
    "    ax = kmf.plot(ax=ax)\n",
    "    print(str(cfreq),' predict survival 12 months:',kmf.predict(12.0),': median ',kmf.median_)\n",
    "plt.title('contracted frequency')\n",
    "T.loc;"
   ]
  },
  {
   "cell_type": "markdown",
   "metadata": {},
   "source": [
    "Contratar 3 ou mais frequências a sobrevivência é maior. Contratar 2 é menor do que contratar só uma frequência. Existem várias questões como a habituação à prática desportiva e quem tem a intenção de ir 3 ou mais vezes tem uma maior motivação.\n",
    "\n",
    "Podemos abordar a intenção para a prática desportiva ser maior e a retenção também ser maior."
   ]
  },
  {
   "cell_type": "code",
   "execution_count": 56,
   "metadata": {},
   "outputs": [
    {
     "name": "stdout",
     "output_type": "stream",
     "text": [
      "<lifelines.StatisticalResult>\n",
      "               t_0 = -1\n",
      " null_distribution = chi squared\n",
      "degrees_of_freedom = 2\n",
      "\n",
      "---\n",
      " test_statistic      p  -log2(p)\n",
      "          53.33 <0.005     38.47\n"
     ]
    }
   ],
   "source": [
    "results=multivariate_logrank_test(event_durations=T,groups=dt.esc_cfreq,event_observed=C)\n",
    "results.print_summary()"
   ]
  },
  {
   "cell_type": "markdown",
   "metadata": {},
   "source": [
    "Existem diferenças nas curvas de sobrevivência"
   ]
  },
  {
   "cell_type": "code",
   "execution_count": 57,
   "metadata": {},
   "outputs": [
    {
     "name": "stdout",
     "output_type": "stream",
     "text": [
      "<lifelines.StatisticalResult>\n",
      "               t_0 = -1\n",
      " null_distribution = chi squared\n",
      "degrees_of_freedom = 1\n",
      "\n",
      "---\n",
      "                 test_statistic      p  -log2(p)\n",
      "cfreq 1 cfreq 2           21.57 <0.005     18.16\n",
      "        cfreq 3           15.44 <0.005     13.52\n",
      "cfreq 2 cfreq 3           50.15 <0.005     39.36\n"
     ]
    }
   ],
   "source": [
    "results=pairwise_logrank_test(event_durations=T,groups=dt.esc_cfreq,event_observed=C)\n",
    "results.print_summary()"
   ]
  },
  {
   "cell_type": "markdown",
   "metadata": {},
   "source": [
    "Existem diferenças entre todas as curvas de sobrevivência"
   ]
  },
  {
   "cell_type": "markdown",
   "metadata": {},
   "source": [
    "## nrenewals"
   ]
  },
  {
   "cell_type": "code",
   "execution_count": 58,
   "metadata": {},
   "outputs": [
    {
     "data": {
      "text/plain": [
       "count    6745.000000\n",
       "mean        1.038992\n",
       "std         1.069552\n",
       "min         0.000000\n",
       "25%         0.000000\n",
       "50%         1.000000\n",
       "75%         2.000000\n",
       "max         4.000000\n",
       "Name: nrenovacoes, dtype: float64"
      ]
     },
     "execution_count": 58,
     "metadata": {},
     "output_type": "execute_result"
    }
   ],
   "source": [
    "dt.nrenovacoes.describe()"
   ]
  },
  {
   "cell_type": "code",
   "execution_count": 59,
   "metadata": {},
   "outputs": [
    {
     "data": {
      "text/plain": [
       "array([0, 1, 2, 4, 3], dtype=int64)"
      ]
     },
     "execution_count": 59,
     "metadata": {},
     "output_type": "execute_result"
    }
   ],
   "source": [
    "dt.nrenovacoes.unique()"
   ]
  },
  {
   "cell_type": "code",
   "execution_count": 60,
   "metadata": {},
   "outputs": [
    {
     "data": {
      "text/plain": [
       "0    2803\n",
       "1    1752\n",
       "2    1366\n",
       "3     772\n",
       "4      52\n",
       "Name: nrenovacoes, dtype: int64"
      ]
     },
     "execution_count": 60,
     "metadata": {},
     "output_type": "execute_result"
    }
   ],
   "source": [
    "dt.nrenovacoes.value_counts()"
   ]
  },
  {
   "cell_type": "code",
   "execution_count": 61,
   "metadata": {},
   "outputs": [],
   "source": [
    "dt['esc_nrenewals'] = 0"
   ]
  },
  {
   "cell_type": "code",
   "execution_count": 62,
   "metadata": {},
   "outputs": [],
   "source": [
    "dt['esc_nrenewals']=''\n",
    "\n",
    "for index, cliente in dt.iterrows():\n",
    "    #se a variável tiver o valor 1 colocar na nova variável a descrição da atividade\n",
    "    if cliente['nrenovacoes'] == 0:\n",
    "        dt.at[index,'esc_nrenewals']='renewals 0'\n",
    "    elif cliente['nrenovacoes'] == 1:\n",
    "        dt.at[index,'esc_nrenewals']='renewals 1'\n",
    "    elif cliente['nrenovacoes'] == 2:\n",
    "        dt.at[index,'esc_nrenewals']='renewals 2'\n",
    "    elif cliente['nrenovacoes']>2:\n",
    "        dt.at[index,'esc_nrenewals']='renewals 2+'"
   ]
  },
  {
   "cell_type": "code",
   "execution_count": 63,
   "metadata": {},
   "outputs": [
    {
     "data": {
      "text/plain": [
       "renewals 0     2803\n",
       "renewals 1     1752\n",
       "renewals 2     1366\n",
       "renewals 2+     824\n",
       "Name: esc_nrenewals, dtype: int64"
      ]
     },
     "execution_count": 63,
     "metadata": {},
     "output_type": "execute_result"
    }
   ],
   "source": [
    "dt.esc_nrenewals.value_counts()"
   ]
  },
  {
   "cell_type": "code",
   "execution_count": 64,
   "metadata": {},
   "outputs": [
    {
     "data": {
      "text/plain": [
       "array(['renewals 0', 'renewals 1', 'renewals 2', 'renewals 2+'],\n",
       "      dtype=object)"
      ]
     },
     "execution_count": 64,
     "metadata": {},
     "output_type": "execute_result"
    }
   ],
   "source": [
    "dt.esc_nrenewals.unique()"
   ]
  },
  {
   "cell_type": "code",
   "execution_count": 65,
   "metadata": {},
   "outputs": [
    {
     "name": "stdout",
     "output_type": "stream",
     "text": [
      "renewals 0  predict survival 12 months: 0.019021929079282563 : median  5.0\n",
      "renewals 1  predict survival 12 months: 0.6987873619361521 : median  16.0\n",
      "renewals 2  predict survival 12 months: 0.8549310063701384 : median  27.0\n",
      "renewals 2+  predict survival 12 months: 0.9991909385113266 : median  inf\n"
     ]
    },
    {
     "data": {
      "image/png": "[encoded data removed]",
      "text/plain": [
       "<Figure size 864x504 with 1 Axes>"
      ]
     },
     "metadata": {
      "needs_background": "light"
     },
     "output_type": "display_data"
    }
   ],
   "source": [
    "ax = plt.subplot(111)\n",
    "nrenewals=dt.esc_nrenewals.unique()\n",
    "\n",
    "for nrenewal in nrenewals:\n",
    "    ix = dt['esc_nrenewals'] == nrenewal\n",
    "    kmf.fit(T.loc[ix], C.loc[ix],label=str(nrenewal))\n",
    "    ax = kmf.plot(ax=ax)\n",
    "    print(str(nrenewal),' predict survival 12 months:',kmf.predict(12.0),': median ',kmf.median_)\n",
    "plt.title('Survival by number of renewals')\n",
    "T.loc;"
   ]
  },
  {
   "cell_type": "code",
   "execution_count": 66,
   "metadata": {},
   "outputs": [
    {
     "name": "stdout",
     "output_type": "stream",
     "text": [
      "<lifelines.StatisticalResult>\n",
      "               t_0 = -1\n",
      " null_distribution = chi squared\n",
      "degrees_of_freedom = 3\n",
      "\n",
      "---\n",
      " test_statistic      p  -log2(p)\n",
      "        6264.73 <0.005       inf\n"
     ]
    }
   ],
   "source": [
    "results=multivariate_logrank_test(event_durations=T,groups=dt.esc_nrenewals,event_observed=C)\n",
    "results.print_summary()"
   ]
  },
  {
   "cell_type": "markdown",
   "metadata": {},
   "source": [
    "Existem diferenças nas curvas de sobrevivência"
   ]
  },
  {
   "cell_type": "code",
   "execution_count": 67,
   "metadata": {},
   "outputs": [
    {
     "name": "stdout",
     "output_type": "stream",
     "text": [
      "<lifelines.StatisticalResult>\n",
      "               t_0 = -1\n",
      " null_distribution = chi squared\n",
      "degrees_of_freedom = 1\n",
      "\n",
      "---\n",
      "     test_statistic      p  -log2(p)\n",
      "0 1         2310.12 <0.005       inf\n",
      "  2         2991.50 <0.005       inf\n",
      "  3         2085.62 <0.005       inf\n",
      "  4          220.46 <0.005    163.26\n",
      "1 2          414.49 <0.005    303.67\n",
      "  3         1016.39 <0.005    738.49\n",
      "  4          117.55 <0.005     88.57\n",
      "2 3          463.07 <0.005    338.79\n",
      "  4           73.02 <0.005     56.11\n",
      "3 4            0.83   0.36      1.46\n"
     ]
    }
   ],
   "source": [
    "results=pairwise_logrank_test(event_durations=T,groups=dt.nrenovacoes,event_observed=C)\n",
    "results.print_summary()"
   ]
  },
  {
   "cell_type": "markdown",
   "metadata": {},
   "source": [
    "Existem diferenças entre todas as curvas de sobrevivência"
   ]
  },
  {
   "cell_type": "markdown",
   "metadata": {},
   "source": [
    "## imonth"
   ]
  },
  {
   "cell_type": "code",
   "execution_count": 68,
   "metadata": {},
   "outputs": [
    {
     "data": {
      "text/plain": [
       "array([ 9, 10,  6,  7,  2, 12,  4,  3,  1,  5, 11,  8], dtype=int64)"
      ]
     },
     "execution_count": 68,
     "metadata": {},
     "output_type": "execute_result"
    }
   ],
   "source": [
    "dt['mes'].unique()"
   ]
  },
  {
   "cell_type": "code",
   "execution_count": 69,
   "metadata": {},
   "outputs": [
    {
     "data": {
      "text/plain": [
       "count    6745.000000\n",
       "mean        7.251001\n",
       "std         3.173279\n",
       "min         1.000000\n",
       "25%         4.000000\n",
       "50%         9.000000\n",
       "75%         9.000000\n",
       "max        12.000000\n",
       "Name: mes, dtype: float64"
      ]
     },
     "execution_count": 69,
     "metadata": {},
     "output_type": "execute_result"
    }
   ],
   "source": [
    "dt.mes.describe()"
   ]
  },
  {
   "cell_type": "code",
   "execution_count": 70,
   "metadata": {},
   "outputs": [
    {
     "data": {
      "text/plain": [
       "9     2794\n",
       "10     830\n",
       "3      487\n",
       "2      450\n",
       "1      420\n",
       "11     403\n",
       "4      383\n",
       "5      339\n",
       "6      264\n",
       "7      203\n",
       "12     160\n",
       "8       12\n",
       "Name: mes, dtype: int64"
      ]
     },
     "execution_count": 70,
     "metadata": {},
     "output_type": "execute_result"
    }
   ],
   "source": [
    "dt['mes'].value_counts()"
   ]
  },
  {
   "cell_type": "code",
   "execution_count": 71,
   "metadata": {},
   "outputs": [
    {
     "data": {
      "image/png": "[encoded data removed]",
      "text/plain": [
       "<Figure size 864x504 with 1 Axes>"
      ]
     },
     "metadata": {
      "needs_background": "light"
     },
     "output_type": "display_data"
    }
   ],
   "source": [
    "ax = plt.subplot(111)\n",
    "import matplotlib.pyplot as plt\n",
    "import numpy as np\n",
    "#vamos considerar só 0,1,2,3\n",
    "meses=dt['mes'].unique()\n",
    "\n",
    "plt.rcParams['figure.figsize'] = [12, 7]\n",
    "for mes in meses:\n",
    "    ix = dt['mes'] == mes\n",
    "    kmf.fit(T.loc[ix], C.loc[ix], label=str(mes))\n",
    "    ax = kmf.plot(ax=ax)\n",
    "plt.title('inscription month');"
   ]
  },
  {
   "cell_type": "markdown",
   "metadata": {},
   "source": [
    "O gráfico fica muito confuso vamos agrupar por trimestre"
   ]
  },
  {
   "cell_type": "code",
   "execution_count": 72,
   "metadata": {},
   "outputs": [
    {
     "name": "stdout",
     "output_type": "stream",
     "text": [
      "<lifelines.StatisticalResult>\n",
      "               t_0 = -1\n",
      " null_distribution = chi squared\n",
      "degrees_of_freedom = 11\n",
      "\n",
      "---\n",
      " test_statistic      p  -log2(p)\n",
      "         106.29 <0.005     56.47\n"
     ]
    }
   ],
   "source": [
    "results=multivariate_logrank_test(event_durations=T,groups=dt.mes,event_observed=C)\n",
    "results.print_summary()"
   ]
  },
  {
   "cell_type": "code",
   "execution_count": 73,
   "metadata": {},
   "outputs": [
    {
     "name": "stdout",
     "output_type": "stream",
     "text": [
      "<lifelines.StatisticalResult>\n",
      "               t_0 = -1\n",
      " null_distribution = chi squared\n",
      "degrees_of_freedom = 1\n",
      "\n",
      "---\n",
      "       test_statistic      p  -log2(p)\n",
      "1  2             0.69   0.40      1.30\n",
      "   3             1.23   0.27      1.91\n",
      "   4             8.44 <0.005      8.09\n",
      "   5             8.39 <0.005      8.05\n",
      "   6             1.26   0.26      1.93\n",
      "   7             0.10   0.76      0.40\n",
      "   8             5.23   0.02      5.49\n",
      "   9            10.36 <0.005      9.60\n",
      "   10            0.85   0.36      1.48\n",
      "   11            1.10   0.29      1.77\n",
      "   12            0.05   0.83      0.27\n",
      "2  3             0.08   0.78      0.37\n",
      "   4             5.35   0.02      5.60\n",
      "   5             2.91   0.09      3.50\n",
      "   6             0.12   0.73      0.45\n",
      "   7             0.03   0.87      0.20\n",
      "   8             5.59   0.02      5.79\n",
      "   9            20.52 <0.005     17.37\n",
      "   10            5.35   0.02      5.59\n",
      "   11            0.10   0.75      0.41\n",
      "   12            0.27   0.61      0.72\n",
      "3  4             4.09   0.04      4.54\n",
      "   5             3.12   0.08      3.69\n",
      "   6             0.04   0.84      0.26\n",
      "   7             0.30   0.59      0.77\n",
      "   8             5.64   0.02      5.83\n",
      "   9            23.01 <0.005     19.24\n",
      "   10            6.17   0.01      6.26\n",
      "   11            0.03   0.86      0.22\n",
      "   12            0.24   0.63      0.68\n",
      "4  5             0.00   0.97      0.04\n",
      "   6             2.81   0.09      3.41\n",
      "   7             4.56   0.03      4.93\n",
      "   8             7.25   0.01      7.14\n",
      "   9            50.25 <0.005     39.42\n",
      "   10           20.82 <0.005     17.59\n",
      "   11            4.34   0.04      4.75\n",
      "   12            4.40   0.04      4.80\n",
      "5  6             1.97   0.16      2.64\n",
      "   7             2.35   0.13      2.99\n",
      "   8             6.94   0.01      6.89\n",
      "   9            44.62 <0.005     35.28\n",
      "   10           17.44 <0.005     15.04\n",
      "   11            3.38   0.07      3.92\n",
      "   12            3.18   0.07      3.74\n",
      "6  7             0.09   0.77      0.38\n",
      "   8             4.94   0.03      5.25\n",
      "   9            11.79 <0.005     10.71\n",
      "   10            3.40   0.07      3.94\n",
      "   11            0.00   0.98      0.03\n",
      "   12            0.12   0.73      0.46\n",
      "7  8             4.72   0.03      5.07\n",
      "   9             4.26   0.04      4.68\n",
      "   10            0.85   0.36      1.48\n",
      "   11            0.37   0.54      0.88\n",
      "   12            0.11   0.75      0.42\n",
      "8  9             4.23   0.04      4.66\n",
      "   10            4.94   0.03      5.26\n",
      "   11            5.94   0.01      6.08\n",
      "   12            6.24   0.01      6.32\n",
      "9  10            6.52   0.01      6.55\n",
      "   11           23.09 <0.005     19.30\n",
      "   12            5.21   0.02      5.48\n",
      "10 11            6.73   0.01      6.72\n",
      "   12            1.12   0.29      1.78\n",
      "11 12            0.28   0.59      0.75\n"
     ]
    }
   ],
   "source": [
    "results=pairwise_logrank_test(event_durations=T,groups=dt.mes,event_observed=C)\n",
    "results.print_summary()"
   ]
  },
  {
   "cell_type": "code",
   "execution_count": 74,
   "metadata": {},
   "outputs": [
    {
     "data": {
      "text/plain": [
       "<lifelines.KaplanMeierFitter: fitted with 6745 observations, 2850 censored>"
      ]
     },
     "execution_count": 74,
     "metadata": {},
     "output_type": "execute_result"
    }
   ],
   "source": [
    "T = dt[\"mesesinscricao\"]\n",
    "E = dt[\"classe_desistencia\"]\n",
    "\n",
    "kmf.fit(T, event_observed=E)"
   ]
  },
  {
   "cell_type": "code",
   "execution_count": 75,
   "metadata": {},
   "outputs": [],
   "source": [
    "### vamos calcular por trimestres\n",
    "dt.loc[dt['mes'].isin([1,2,3]),'trimestre']='Jan, Fev and Mar'\n",
    "dt.loc[dt['mes'].isin([4,5,6]),'trimestre']='Apr, May, Jun'\n",
    "dt.loc[dt['mes'].isin([7,8,9]),'trimestre']='Jul, Aug, Set'\n",
    "dt.loc[dt['mes'].isin([10,11,12]),'trimestre']='Oct, Nov, Dez'"
   ]
  },
  {
   "cell_type": "code",
   "execution_count": 76,
   "metadata": {},
   "outputs": [
    {
     "data": {
      "text/plain": [
       "Jul, Aug, Set       3009\n",
       "Oct, Nov, Dez       1393\n",
       "Jan, Fev and Mar    1357\n",
       "Apr, May, Jun        986\n",
       "Name: trimestre, dtype: int64"
      ]
     },
     "execution_count": 76,
     "metadata": {},
     "output_type": "execute_result"
    }
   ],
   "source": [
    "dt.trimestre.value_counts()"
   ]
  },
  {
   "cell_type": "code",
   "execution_count": 77,
   "metadata": {},
   "outputs": [
    {
     "data": {
      "text/plain": [
       "array(['Jul, Aug, Set', 'Oct, Nov, Dez', 'Apr, May, Jun',\n",
       "       'Jan, Fev and Mar'], dtype=object)"
      ]
     },
     "execution_count": 77,
     "metadata": {},
     "output_type": "execute_result"
    }
   ],
   "source": [
    "dt['trimestre'].unique()"
   ]
  },
  {
   "cell_type": "code",
   "execution_count": 78,
   "metadata": {},
   "outputs": [
    {
     "name": "stdout",
     "output_type": "stream",
     "text": [
      "Jul, Aug, Set  predict survival 12 months: 0.5702275005654139 : median  16.0\n",
      "Oct, Nov, Dez  predict survival 12 months: 0.5128328829165126 : median  13.0\n",
      "Apr, May, Jun  predict survival 12 months: 0.47059328513462945 : median  11.0\n",
      "Jan, Fev and Mar  predict survival 12 months: 0.5195161809660498 : median  15.0\n"
     ]
    },
    {
     "data": {
      "image/png": "[encoded data removed]",
      "text/plain": [
       "<Figure size 864x504 with 1 Axes>"
      ]
     },
     "metadata": {
      "needs_background": "light"
     },
     "output_type": "display_data"
    }
   ],
   "source": [
    "ax = plt.subplot(111)\n",
    "#vamos considerar só 0,1,2,3\n",
    "trimestres=dt['trimestre'].unique()\n",
    "\n",
    "plt.rcParams['figure.figsize'] = [12, 7]\n",
    "for trimestre in trimestres:\n",
    "    ix = dt['trimestre'] == trimestre\n",
    "    kmf.fit(T.loc[ix], C.loc[ix], label=str(trimestre))\n",
    "    ax = kmf.plot(ax=ax)\n",
    "    print(str(trimestre),' predict survival 12 months:',kmf.predict(12.0),': median ',kmf.median_)\n",
    "\n",
    "plt.title('Sobrevivência por trimestre');"
   ]
  },
  {
   "cell_type": "markdown",
   "metadata": {},
   "source": [
    "A sobrevivência por trimestre varia. O trimestre julho, agosto e setembro tem uma sobrevivência maior. Quem começa depois do verão ou inicio do ano apresenta uma curva de sobrevivência menor."
   ]
  },
  {
   "cell_type": "markdown",
   "metadata": {},
   "source": [
    "Existem diferenças nas curvas de sobrevivência"
   ]
  },
  {
   "cell_type": "code",
   "execution_count": 79,
   "metadata": {},
   "outputs": [
    {
     "name": "stdout",
     "output_type": "stream",
     "text": [
      "<lifelines.StatisticalResult>\n",
      "               t_0 = -1\n",
      " null_distribution = chi squared\n",
      "degrees_of_freedom = 3\n",
      "\n",
      "---\n",
      " test_statistic      p  -log2(p)\n",
      "          86.33 <0.005     59.37\n"
     ]
    }
   ],
   "source": [
    "results=multivariate_logrank_test(event_durations=T,groups=dt.trimestre,event_observed=C)\n",
    "results.print_summary()"
   ]
  },
  {
   "cell_type": "code",
   "execution_count": 80,
   "metadata": {},
   "outputs": [
    {
     "name": "stdout",
     "output_type": "stream",
     "text": [
      "<lifelines.StatisticalResult>\n",
      "               t_0 = -1\n",
      " null_distribution = chi squared\n",
      "degrees_of_freedom = 1\n",
      "\n",
      "---\n",
      "                                   test_statistic      p  -log2(p)\n",
      "Apr, May, Jun    Jan, Fev and Mar            9.13 <0.005      8.63\n",
      "                 Jul, Aug, Set              74.08 <0.005     56.89\n",
      "                 Oct, Nov, Dez              19.80 <0.005     16.82\n",
      "Jan, Fev and Mar Jul, Aug, Set              34.11 <0.005     27.52\n",
      "                 Oct, Nov, Dez               2.17   0.14      2.83\n",
      "Jul, Aug, Set    Oct, Nov, Dez              19.83 <0.005     16.85\n"
     ]
    }
   ],
   "source": [
    "results=pairwise_logrank_test(event_durations=T,groups=dt.trimestre,event_observed=C)\n",
    "results.print_summary()"
   ]
  },
  {
   "cell_type": "markdown",
   "metadata": {},
   "source": [
    "Existem diferenças entre todas as curvas de sobrevivência"
   ]
  }
 ],
 "metadata": {
  "kernelspec": {
   "display_name": "Python 3",
   "language": "python",
   "name": "python3"
  },
  "language_info": {
   "codemirror_mode": {
    "name": "ipython",
    "version": 3
   },
   "file_extension": ".py",
   "mimetype": "text/x-python",
   "name": "python",
   "nbconvert_exporter": "python",
   "pygments_lexer": "ipython3",
   "version": "3.7.3"
  },
  "toc-autonumbering": true,
  "toc-showcode": false,
  "toc-showmarkdowntxt": false
 },
 "nbformat": 4,
 "nbformat_minor": 4
}
