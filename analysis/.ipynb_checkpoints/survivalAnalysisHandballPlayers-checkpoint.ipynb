{
 "cells": [
  {
   "cell_type": "markdown",
   "metadata": {
    "toc-hr-collapsed": false
   },
   "source": [
    "# Survival Analysis Handball Athletes\n",
    "\n",
    "Handball has evolved alongside with consolidation of sport’s culture. The present study aims to explore the retention and dropout of handball federated athletes in Portugal. Results from the survival analyses indicate a median length of stay of the athletes is two years, with an associated probability of 41% to continue more than that period. It is also evident that there is an average of 3 years of being registered as an active player.\n",
    "\n",
    "The sample consisted of 133,717 handball players who were registered at least for one year (female n = 47653, mean age = 23.76, SD=6.79 years; and males n = 86064, mean age = 24.70, SD=7.89 years); data corresponded to the time period between August 1, 1997 and July 31, 2018, mainly with Portuguese nationality (99,96%). The main categories were Seniors (68,6%), U-18 (8,2%), Masters (8,1%), U-16 (4,8%), U-14 (4,2%) and other (6,1%) like: U-12, U-10, U-8 and U-6.\n",
    "\n",
    "The variables were extracted from the management software of the federation correspond to the time interval of the athlete inscription until the end of observation (censoring on July 31, 2018) or the end of the athlete relationship (dropout). All athletes without an inscription before 2018 were considered that dropout. The survival time in the dataset is represented by the number of years an athlete remains registered. The data provided was been purged from element registered before 1997.\n",
    "\n",
    "Descriptive statistics were conducted to summarize the variables under analysis.  The survival curve was measured to simplify the interpretation of the survival analysis.  Data processing was conducted using Python (Continuum Analytics, 2016) and Pandas (McKinney & others, 2010).  The Kaplan-Meier estimator was used to gather information about the dropout event and to estimate the survival (Efron, 1988), the log-rank was applied in the scale variables transformed to categorical using the quartiles to provide a statistical comparison of groups and the categorical variable associations was analyzed considering the bigger associations and lower dimension where grouped to simplify the analysis. The survival analysis was conducted using the package Lifelines (Cameron Davidson-Pilon et al., 2017).\n",
    "\n",
    "Using the logrank test, we identified significant differences between the groups in each variable: age (χ2= 4185.70, p<0.01), gender (χ2=903.87 p<0.01), category (χ2= 10024.28, p<0.01), and associations (χ2= 1395.92, p<0.01). There weren’t significant differences in the variable country (χ2=0.6, p>0.05),\n",
    "\n",
    "According to our results, the probability of the individuals continue sports participation for more than 12 months is 53%."
   ]
  },
  {
   "cell_type": "markdown",
   "metadata": {},
   "source": [
    "# Data Analysis"
   ]
  },
  {
   "cell_type": "code",
   "execution_count": null,
   "metadata": {},
   "outputs": [],
   "source": [
    "from IPython.display import HTML\n",
    "import matplotlib.pyplot as plt\n",
    "import numpy as np\n",
    "import pandas as pd\n",
    "import datetime\n",
    "import seaborn as sns\n",
    "from ipywidgets import interact, interactive, fixed, interact_manual\n",
    "import plotly.offline as py\n",
    "\n",
    "\n",
    "dt = pd.read_csv('https://raw.githubusercontent.com/pesobreiro/jupyternotebooks/master/dados/dadosAtletasAndebol.csv',\n",
    "                 index_col=0)\n",
    "\n",
    "plt.rcParams['figure.figsize'] = [10, 15]\n",
    "datetime.datetime.now()"
   ]
  },
  {
   "cell_type": "code",
   "execution_count": null,
   "metadata": {},
   "outputs": [],
   "source": [
    "def curvaSobrevivencia(dados,coluna,T,C,eixoX=None,eixoY=None,titulo=None):\n",
    "    ax = plt.subplot(111)\n",
    "    ax.set_xlabel(eixoX)\n",
    "    ax.set_ylabel(eixoY)\n",
    "    ax.set_title(titulo)\n",
    "\n",
    "    plt.rcParams['figure.figsize'] = [15, 5]\n",
    "    for item in dados[coluna].unique():\n",
    "        ix = dados[coluna] == item\n",
    "        kmf.fit(T.loc[ix], C.loc[ix], label=str(item))\n",
    "        ax = kmf.plot(ax=ax)\n",
    "        print('probabilidade de sobreviver:',item,' ',kmf.survival_function_.head())\n",
    "        print('median:',item,kmf.median_)\n",
    "    return kmf"
   ]
  },
  {
   "cell_type": "code",
   "execution_count": null,
   "metadata": {},
   "outputs": [],
   "source": [
    "def barras(x,dados,titulo,hue=None,orientacao=None,tamanho=[10,5]):\n",
    "    plt.rcParams['figure.figsize'] = tamanho\n",
    "    ax = sns.countplot(x=x,data=dados,hue=hue,palette='Blues',orient=orientacao);\n",
    "    ax.set_title(titulo)\n",
    "    for p in ax.patches:\n",
    "        height = p.get_height()\n",
    "        ax.text(p.get_x()+p.get_width()/2.,height + 3,'{:1}'.format(height),ha=\"left\")    \n",
    "    plt.show()"
   ]
  },
  {
   "cell_type": "markdown",
   "metadata": {
    "toc-hr-collapsed": false
   },
   "source": [
    "## Survival Analysis"
   ]
  },
  {
   "cell_type": "code",
   "execution_count": null,
   "metadata": {},
   "outputs": [],
   "source": [
    "dados=dt.dropna()\n",
    "dt = dados.copy()"
   ]
  },
  {
   "cell_type": "markdown",
   "metadata": {
    "toc-hr-collapsed": false
   },
   "source": [
    "## Vamos considerar os atletas federados entre desde 2008 até 2012 e de 2012 até 2018"
   ]
  },
  {
   "cell_type": "code",
   "execution_count": null,
   "metadata": {},
   "outputs": [],
   "source": [
    "# Vamos considerar um escalao com todos os géneros\n",
    "dt['escFedTodos'] = dt['escFederacao'].str.split().str.get(0)\n",
    "#Converter data inscrição para data e hora\n",
    "dt['dtIns']=pd.to_datetime(dt['dtIns'])\n",
    "\n",
    "dt2008=dt.loc[(dt.dtIns >= \"2008-08-01\")&(dt.dtIns < \"2011-12-31\")]\n",
    "dt2012=dt.loc[(dt.dtIns >= \"2012-01-01\")&(dt.dtIns < \"2018-07-31\")]"
   ]
  },
  {
   "cell_type": "code",
   "execution_count": null,
   "metadata": {},
   "outputs": [],
   "source": [
    "dt.escFedTodos.unique()"
   ]
  },
  {
   "cell_type": "markdown",
   "metadata": {},
   "source": [
    "### Atletas por ano desde 2008"
   ]
  },
  {
   "cell_type": "code",
   "execution_count": null,
   "metadata": {},
   "outputs": [],
   "source": [
    "plt.rcParams['figure.figsize'] = [12, 4]\n",
    "dt2008.anos.hist()\n",
    "\n",
    "fig = plt.gcf() # \"Get current figure\"\n",
    "#plt.show()\n",
    "py.iplot_mpl(fig)"
   ]
  },
  {
   "cell_type": "markdown",
   "metadata": {},
   "source": [
    "### Atletas por ano desde 2012"
   ]
  },
  {
   "cell_type": "code",
   "execution_count": null,
   "metadata": {},
   "outputs": [],
   "source": [
    "plt.rcParams['figure.figsize'] = [12, 4]\n",
    "dt2012.anos.hist()\n",
    "\n",
    "fig = plt.gcf() # \"Get current figure\"\n",
    "#plt.show()\n",
    "py.iplot_mpl(fig)"
   ]
  },
  {
   "cell_type": "markdown",
   "metadata": {},
   "source": [
    "### Atletas por escalão"
   ]
  },
  {
   "cell_type": "code",
   "execution_count": null,
   "metadata": {},
   "outputs": [],
   "source": [
    "dt.escaloesIdade.unique()"
   ]
  },
  {
   "cell_type": "code",
   "execution_count": null,
   "metadata": {},
   "outputs": [],
   "source": [
    "dt.associacao.unique()"
   ]
  },
  {
   "cell_type": "code",
   "execution_count": null,
   "metadata": {},
   "outputs": [],
   "source": [
    "barras(dados=dt2008,titulo='Anos atleta desde 2008',x='escFedTodos',tamanho=[12,5])"
   ]
  },
  {
   "cell_type": "code",
   "execution_count": null,
   "metadata": {},
   "outputs": [],
   "source": [
    "barras(dados=dt2012,titulo='Anos atleta desde 2012',x='escFedTodos',tamanho=[12,5])"
   ]
  },
  {
   "cell_type": "markdown",
   "metadata": {},
   "source": [
    "### Atletas por anos inscritos"
   ]
  },
  {
   "cell_type": "code",
   "execution_count": null,
   "metadata": {},
   "outputs": [],
   "source": [
    "barras(dados=dt2008,titulo='Anos atleta desde 2008',x=dt.dtIns.apply(lambda x: x.date().year),tamanho=[12,5])"
   ]
  },
  {
   "cell_type": "code",
   "execution_count": null,
   "metadata": {},
   "outputs": [],
   "source": [
    "barras(dados=dt2012,titulo='Anos atleta',x=dt.dtIns.apply(lambda x: x.date().year),tamanho=[12,5])"
   ]
  },
  {
   "cell_type": "code",
   "execution_count": null,
   "metadata": {},
   "outputs": [],
   "source": [
    "barras(dados=dt2008,titulo='Anos atleta desde 2008',x='anos',tamanho=[12,5])"
   ]
  },
  {
   "cell_type": "code",
   "execution_count": null,
   "metadata": {},
   "outputs": [],
   "source": [
    "barras(dados=dt2012,titulo='Anos atleta desde 2012',x='anos',tamanho=[12,5])"
   ]
  },
  {
   "cell_type": "markdown",
   "metadata": {},
   "source": [
    "### Tabela sobrevivência desde 2008"
   ]
  },
  {
   "cell_type": "code",
   "execution_count": null,
   "metadata": {},
   "outputs": [],
   "source": [
    "from lifelines import KaplanMeierFitter\n",
    "kmf2008 = KaplanMeierFitter()\n",
    "T2008 = dt2008['anos']\n",
    "C2008 = dt2008['abandonou']\n",
    "kmf2008.fit(T2008,C2008,label=\"Abandono dos atletas\");\n",
    "\n",
    "kmf2012 = KaplanMeierFitter()\n",
    "T2012 = dt2012['anos']\n",
    "C2012 = dt2012['abandonou']\n",
    "kmf2012.fit(T2012,C2012,label=\"Abandono dos atletas\");"
   ]
  },
  {
   "cell_type": "code",
   "execution_count": null,
   "metadata": {},
   "outputs": [],
   "source": [
    "survivalTable = pd.concat([kmf2008.event_table.reset_index(), kmf2008.conditional_time_to_event_,kmf2008.survival_function_.round(decimals=2)], axis=1)\n",
    "survivalTable.columns = ['event_at', 'removed', 'observed', 'censored', 'entrance', 'at_risk',\n",
    "       'time to event', 'prob']\n",
    "survivalTable.head(18)\n",
    "\n",
    "#kmf.event_table.head()"
   ]
  },
  {
   "cell_type": "markdown",
   "metadata": {},
   "source": [
    "### Tabela de sobrevivência desde 2012"
   ]
  },
  {
   "cell_type": "code",
   "execution_count": null,
   "metadata": {},
   "outputs": [],
   "source": [
    "survivalTable = pd.concat([kmf2012.event_table.reset_index(), kmf2012.conditional_time_to_event_,kmf2012.survival_function_.round(decimals=2)], axis=1)\n",
    "survivalTable.columns = ['event_at', 'removed', 'observed', 'censored', 'entrance', 'at_risk',\n",
    "       'time to event', 'prob']\n",
    "survivalTable.head(18)\n",
    "\n",
    "#kmf.event_table.head()"
   ]
  },
  {
   "cell_type": "markdown",
   "metadata": {},
   "source": [
    "### A mediana de anos tempo permanência\n",
    "\n",
    "A mediana de sobrevivência aumentou 1 ano. Se considerarmos os dados todos é de 2 anos."
   ]
  },
  {
   "cell_type": "code",
   "execution_count": null,
   "metadata": {},
   "outputs": [],
   "source": [
    "print('Mediana sobrevivência desde 2008:',kmf2008.median_)\n",
    "print('Mediana anos:',dt2008['anos'].median())\n",
    "\n",
    "print('Mediana sobrevivência desde 2012:',kmf2012.median_)\n",
    "print('Mediana anos:',dt2012['anos'].median())"
   ]
  },
  {
   "cell_type": "markdown",
   "metadata": {},
   "source": [
    "### S(t) == P(T>t) probabilidade de viver mais do que 3 anos desde 2008"
   ]
  },
  {
   "cell_type": "code",
   "execution_count": null,
   "metadata": {},
   "outputs": [],
   "source": [
    "kmf2008.predict(3.0)"
   ]
  },
  {
   "cell_type": "markdown",
   "metadata": {},
   "source": [
    "### S(t) == P(T>t) probabilidade de viver mais do que 3 anos desde 2012"
   ]
  },
  {
   "cell_type": "code",
   "execution_count": null,
   "metadata": {},
   "outputs": [],
   "source": [
    "kmf2012.predict(3.0)"
   ]
  },
  {
   "cell_type": "code",
   "execution_count": null,
   "metadata": {},
   "outputs": [],
   "source": [
    "%matplotlib inline\n",
    "import matplotlib.pyplot as plt\n",
    "plt.rcParams['figure.figsize'] = [15, 5]\n",
    "kmf2008.plot();\n",
    "plt.title('Probabilidade de permanência por ano desde 2008')\n",
    "plt.xlabel('Anos')\n",
    "plt.ylabel('Probabilidade');"
   ]
  },
  {
   "cell_type": "code",
   "execution_count": null,
   "metadata": {},
   "outputs": [],
   "source": [
    "%matplotlib inline\n",
    "import matplotlib.pyplot as plt\n",
    "plt.rcParams['figure.figsize'] = [15, 5]\n",
    "kmf2012.plot();\n",
    "plt.title('Probabilidade de permanência por ano desde 2012')\n",
    "plt.xlabel('Anos')\n",
    "plt.ylabel('Probabilidade');"
   ]
  },
  {
   "cell_type": "markdown",
   "metadata": {},
   "source": [
    "A grande maioria dos atletas federados só fica um ano. "
   ]
  },
  {
   "cell_type": "code",
   "execution_count": null,
   "metadata": {},
   "outputs": [],
   "source": [
    "abandono=kmf2008.event_table.reset_index()\n",
    "\n",
    "plt.rcParams['figure.figsize'] = [15, 5]\n",
    "plt.plot(abandono.event_at, abandono.at_risk);\n",
    "plt.title('Número de atletas por ano de antiguidade desde 2008') \n",
    "plt.xlabel('anos')\n",
    "plt.ylabel('atletas');\n",
    "#plt.xlabel()"
   ]
  },
  {
   "cell_type": "code",
   "execution_count": null,
   "metadata": {},
   "outputs": [],
   "source": [
    "abandono['percentagemClientes']= 0.0\n",
    "anterior = abandono.at_risk[0:1]\n",
    "anterior = anterior[0]\n",
    "print(anterior)\n",
    "\n",
    "for index, row in abandono.iterrows():\n",
    "    abandono.at[index, 'percentagemClientes'] = row.at_risk/anterior    \n",
    "\n",
    "plt.title('Percentagem de atletas retidos por ano desde 2008')\n",
    "plt.rcParams['figure.figsize'] = [15, 5]\n",
    "plt.xlabel('meses')\n",
    "plt.ylabel('clientes')\n",
    "plt.plot(abandono.event_at, abandono.percentagemClientes)\n",
    "plt.show()"
   ]
  },
  {
   "cell_type": "code",
   "execution_count": null,
   "metadata": {},
   "outputs": [],
   "source": [
    "abandono=kmf2012.event_table.reset_index()\n",
    "\n",
    "plt.rcParams['figure.figsize'] = [15, 5]\n",
    "plt.plot(abandono.event_at, abandono.at_risk);\n",
    "plt.title('Número de atletas por ano de antiguidade desde 2012') \n",
    "plt.xlabel('anos')\n",
    "plt.ylabel('atletas');\n",
    "#plt.xlabel()"
   ]
  },
  {
   "cell_type": "code",
   "execution_count": null,
   "metadata": {},
   "outputs": [],
   "source": [
    "abandono['percentagemClientes']= 0.0\n",
    "anterior = abandono.at_risk[0:1]\n",
    "anterior = anterior[0]\n",
    "print(anterior)\n",
    "\n",
    "for index, row in abandono.iterrows():\n",
    "    abandono.at[index, 'percentagemClientes'] = row.at_risk/anterior    \n",
    "\n",
    "plt.title('Percentagem de atletas retidos por ano desde 2012')\n",
    "plt.rcParams['figure.figsize'] = [15, 5]\n",
    "plt.xlabel('meses')\n",
    "plt.ylabel('clientes')\n",
    "plt.plot(abandono.event_at, abandono.percentagemClientes)\n",
    "plt.show()"
   ]
  },
  {
   "cell_type": "markdown",
   "metadata": {
    "toc-hr-collapsed": false
   },
   "source": [
    "### Curvas de sobrevivencia"
   ]
  },
  {
   "cell_type": "code",
   "execution_count": null,
   "metadata": {},
   "outputs": [],
   "source": [
    "# Importar bibliotecas\n",
    "from lifelines.statistics import pairwise_logrank_test\n",
    "from lifelines.statistics import multivariate_logrank_test"
   ]
  },
  {
   "cell_type": "markdown",
   "metadata": {},
   "source": [
    "#### Por género"
   ]
  },
  {
   "cell_type": "code",
   "execution_count": null,
   "metadata": {},
   "outputs": [],
   "source": [
    "print(dt.sexo.value_counts())\n",
    "curvaSobrevivencia(dt2008,'sexo',T=T2008,C=C2008,eixoX='anos',titulo='Probabilidade sobrevivência por género desde 2008');plt.xlabel('anos');"
   ]
  },
  {
   "cell_type": "code",
   "execution_count": null,
   "metadata": {},
   "outputs": [],
   "source": [
    "results=multivariate_logrank_test(event_durations=T2008,groups=dt2008['sexo'],event_observed=C2008)\n",
    "results.print_summary()"
   ]
  },
  {
   "cell_type": "code",
   "execution_count": null,
   "metadata": {},
   "outputs": [],
   "source": [
    "print(dt.sexo.value_counts())\n",
    "curvaSobrevivencia(dt2012,'sexo',eixoX='anos',T=T2012,C=C2012,titulo='Probabilidade sobrevivência por género desde 2012');plt.xlabel('anos');"
   ]
  },
  {
   "cell_type": "code",
   "execution_count": null,
   "metadata": {},
   "outputs": [],
   "source": [
    "results=multivariate_logrank_test(event_durations=T2012,groups=dt2012['sexo'],event_observed=C2012)\n",
    "results.print_summary()"
   ]
  },
  {
   "cell_type": "markdown",
   "metadata": {},
   "source": [
    "**Existem diferenças entre as curvas de sobrevivência. Vamos ver onde. Isto é como se fosse um teste post-hoc**"
   ]
  },
  {
   "cell_type": "code",
   "execution_count": null,
   "metadata": {},
   "outputs": [],
   "source": [
    "results=pairwise_logrank_test(event_durations=T2012,groups=dt2012.sexo,event_observed=C2012)\n",
    "results.print_summary()"
   ]
  },
  {
   "cell_type": "markdown",
   "metadata": {},
   "source": [
    "#### Por país"
   ]
  },
  {
   "cell_type": "code",
   "execution_count": null,
   "metadata": {},
   "outputs": [],
   "source": [
    "print(dt.pais.value_counts())\n",
    "curvaSobrevivencia(dt2008,'pais',T=T2008,C=C2008,eixoX='anos',titulo='Probabilidade sobrevivência por país desde 2008');plt.xlabel('anos');"
   ]
  },
  {
   "cell_type": "code",
   "execution_count": null,
   "metadata": {},
   "outputs": [],
   "source": [
    "from lifelines.statistics import multivariate_logrank_test\n",
    "\n",
    "results=multivariate_logrank_test(event_durations=T2008,groups=dt2008['pais'],event_observed=C2008)\n",
    "results.print_summary()"
   ]
  },
  {
   "cell_type": "markdown",
   "metadata": {},
   "source": [
    "**Existem diferenças entre as curvas de sobrevivência.**"
   ]
  },
  {
   "cell_type": "code",
   "execution_count": null,
   "metadata": {},
   "outputs": [],
   "source": [
    "results=pairwise_logrank_test(event_durations=T,groups=dt.pais,event_observed=C)\n",
    "results.print_summary()"
   ]
  },
  {
   "cell_type": "code",
   "execution_count": null,
   "metadata": {},
   "outputs": [],
   "source": [
    "print(dt.pais.value_counts())\n",
    "curvaSobrevivencia(dt2012,'pais',T=T2012,C=C2012,eixoX='anos',titulo='Probabilidade sobrevivência por país desde 2012');plt.xlabel('anos');"
   ]
  },
  {
   "cell_type": "code",
   "execution_count": null,
   "metadata": {},
   "outputs": [],
   "source": [
    "from lifelines.statistics import multivariate_logrank_test\n",
    "\n",
    "results=multivariate_logrank_test(event_durations=T2012,groups=dt2012['pais'],event_observed=C2012)\n",
    "results.print_summary()"
   ]
  },
  {
   "cell_type": "markdown",
   "metadata": {},
   "source": [
    "#### Por nacionalidade"
   ]
  },
  {
   "cell_type": "code",
   "execution_count": null,
   "metadata": {},
   "outputs": [],
   "source": [
    "print(dt.pais.value_counts())\n",
    "curvaSobrevivencia(dt2008,'nacionalidade',eixoX='anos',C=C2008,T=T2008,titulo='Probabilidade sobrevivência por nacionalidade');plt.xlabel('anos');"
   ]
  },
  {
   "cell_type": "code",
   "execution_count": null,
   "metadata": {},
   "outputs": [],
   "source": [
    "from lifelines.statistics import multivariate_logrank_test\n",
    "\n",
    "results=multivariate_logrank_test(event_durations=T2008,groups=dt2008['nacionalidade'],event_observed=C2008)\n",
    "results.print_summary()"
   ]
  },
  {
   "cell_type": "code",
   "execution_count": null,
   "metadata": {},
   "outputs": [],
   "source": [
    "print(dt.pais.value_counts())\n",
    "curvaSobrevivencia(dt2012,'nacionalidade',T=T2012,C=C2012,eixoX='anos',titulo='Probabilidade sobrevivência por nacionalidade');plt.xlabel('anos');"
   ]
  },
  {
   "cell_type": "code",
   "execution_count": null,
   "metadata": {},
   "outputs": [],
   "source": [
    "from lifelines.statistics import multivariate_logrank_test\n",
    "\n",
    "results=multivariate_logrank_test(event_durations=T2012,groups=dt2012['nacionalidade'],event_observed=C2012)\n",
    "results.print_summary()"
   ]
  },
  {
   "cell_type": "markdown",
   "metadata": {},
   "source": [
    "**Existem diferenças entre as curvas de sobrevivência. Vamos ver onde. Isto é como se fosse um teste post-hoc**"
   ]
  },
  {
   "cell_type": "code",
   "execution_count": null,
   "metadata": {},
   "outputs": [],
   "source": [
    "results=pairwise_logrank_test(event_durations=T2012,groups=dt2012.nacionalidade,event_observed=C2012)\n",
    "results.print_summary()"
   ]
  },
  {
   "cell_type": "markdown",
   "metadata": {},
   "source": [
    "**Correr novamente os testes sem os NDs**"
   ]
  },
  {
   "cell_type": "markdown",
   "metadata": {},
   "source": [
    "## Por associacoes 2008"
   ]
  },
  {
   "cell_type": "markdown",
   "metadata": {},
   "source": [
    "Vamos considerar só associações com mais de 2000 federados"
   ]
  },
  {
   "cell_type": "code",
   "execution_count": null,
   "metadata": {},
   "outputs": [],
   "source": [
    "associacoes=['Porto','Lisboa','Aveiro','Braga','Madeira','Viseu','Leiria']\n",
    "dtAssociacoes2008=dt2008.loc[dt2008['associacao'].isin(associacoes)]"
   ]
  },
  {
   "cell_type": "code",
   "execution_count": null,
   "metadata": {},
   "outputs": [],
   "source": [
    "dtAssociacoes2008.associacao.value_counts()"
   ]
  },
  {
   "cell_type": "code",
   "execution_count": null,
   "metadata": {},
   "outputs": [],
   "source": [
    "T2008 = dtAssociacoes2008['anos']\n",
    "C2008 = dtAssociacoes2008['abandonou']\n",
    "kmf.fit(T2008,C2008,label=\"Abandono dos atletas\")\n",
    "curvaSobrevivencia(dtAssociacoes2008,'associacao',T=T2008,C=C2008,eixoX='anos',\n",
    "                   titulo='Probabilidade sobrevivência por associacao 2008');\n",
    "plt.xlabel('anos');"
   ]
  },
  {
   "cell_type": "code",
   "execution_count": null,
   "metadata": {},
   "outputs": [],
   "source": [
    "dt2008.associacao.value_counts()"
   ]
  },
  {
   "cell_type": "markdown",
   "metadata": {},
   "source": [
    "Algarve              1720\n",
    "Setubal              1716\n",
    "Santarem             1643\n",
    "Guarda                526\n",
    "Vila Real             510\n",
    "Beja                  490\n",
    "Ilha S. Miguel        431\n",
    "Ilha Terceira         420\n",
    "Portalegre            398\n",
    "Ilha Faial            360\n",
    "Evora                 337\n",
    "Coimbra               327\n",
    "Castelo Branco        230\n",
    "Ilha S. Maria         214\n",
    "V. Castelo            109\n",
    "Ilha Graciosa         108\n",
    "Leiria A Praia         90\n",
    "Braganca               71"
   ]
  },
  {
   "cell_type": "code",
   "execution_count": null,
   "metadata": {},
   "outputs": [],
   "source": [
    "associacoes=['Algarve','Setubal','Santarem','Guarda','Vila Real','Beja','Ilha S. Miguel','Ilha Terceira','Portalegre',\n",
    "             'Ilha Faial','Evora','Coimbra','Castelo Branco','Ilha S. Maria','V. Castelo','Ilha Graciosa','Braganca']\n",
    "dtAssociacoes2008=dt2008.loc[dt2008['associacao'].isin(associacoes)]"
   ]
  },
  {
   "cell_type": "code",
   "execution_count": null,
   "metadata": {},
   "outputs": [],
   "source": [
    "dtAssociacoes2008.associacao.value_counts()"
   ]
  },
  {
   "cell_type": "code",
   "execution_count": null,
   "metadata": {},
   "outputs": [],
   "source": [
    "T2008 = dtAssociacoes2008['anos']\n",
    "C2008 = dtAssociacoes2008['abandonou']\n",
    "kmf.fit(T2008,C2008,label=\"Abandono dos atletas\")\n",
    "curvaSobrevivencia(dtAssociacoes2008,'associacao',T=T2008,C=C2008,eixoX='anos',titulo='Probabilidade sobrevivência por associacao');\n",
    "plt.xlabel('anos');"
   ]
  },
  {
   "cell_type": "code",
   "execution_count": null,
   "metadata": {},
   "outputs": [],
   "source": [
    "from lifelines.statistics import multivariate_logrank_test\n",
    "\n",
    "results=multivariate_logrank_test(event_durations=T2008,groups=dtAssociacoes2008['associacao'],event_observed=C2008)\n",
    "results.print_summary()"
   ]
  },
  {
   "cell_type": "markdown",
   "metadata": {},
   "source": [
    "É maios ou menos igual. Porto e Braga aparentemente com melhores retenções"
   ]
  },
  {
   "cell_type": "markdown",
   "metadata": {},
   "source": [
    "**Existem diferenças entre as curvas de sobrevivência. Vamos ver onde. Isto é como se fosse um teste post-hoc**"
   ]
  },
  {
   "cell_type": "code",
   "execution_count": null,
   "metadata": {},
   "outputs": [],
   "source": [
    "results=pairwise_logrank_test(event_durations=T2008,groups=dtAssociacoes2008['associacao'],event_observed=C2008)\n",
    "results.print_summary()"
   ]
  },
  {
   "cell_type": "markdown",
   "metadata": {},
   "source": [
    "## Por associacoes 2012"
   ]
  },
  {
   "cell_type": "markdown",
   "metadata": {},
   "source": [
    "Vamos considerar só associações com mais de 2000 federados"
   ]
  },
  {
   "cell_type": "code",
   "execution_count": null,
   "metadata": {},
   "outputs": [],
   "source": [
    "associacoes=['Porto','Lisboa','Aveiro','Braga','Madeira','Viseu','Leiria']\n",
    "dtAssociacoes2012=dt2012.loc[dt2012['associacao'].isin(associacoes)]"
   ]
  },
  {
   "cell_type": "code",
   "execution_count": null,
   "metadata": {},
   "outputs": [],
   "source": [
    "dtAssociacoes2012.associacao.value_counts()"
   ]
  },
  {
   "cell_type": "code",
   "execution_count": null,
   "metadata": {},
   "outputs": [],
   "source": [
    "T2012 = dtAssociacoes2012['anos']\n",
    "C2012 = dtAssociacoes2012['abandonou']\n",
    "kmf.fit(T2012,C2012,label=\"Abandono dos atletas\")\n",
    "curvaSobrevivencia(dtAssociacoes2012,'associacao',T=T2012,C=C2012,eixoX='anos',\n",
    "                   titulo='Probabilidade sobrevivência por associacao 2012');\n",
    "plt.xlabel('anos');"
   ]
  },
  {
   "cell_type": "code",
   "execution_count": null,
   "metadata": {},
   "outputs": [],
   "source": [
    "dt2012.associacao.value_counts()"
   ]
  },
  {
   "cell_type": "markdown",
   "metadata": {},
   "source": [
    "Algarve              1720\n",
    "Setubal              1716\n",
    "Santarem             1643\n",
    "Guarda                526\n",
    "Vila Real             510\n",
    "Beja                  490\n",
    "Ilha S. Miguel        431\n",
    "Ilha Terceira         420\n",
    "Portalegre            398\n",
    "Ilha Faial            360\n",
    "Evora                 337\n",
    "Coimbra               327\n",
    "Castelo Branco        230\n",
    "Ilha S. Maria         214\n",
    "V. Castelo            109\n",
    "Ilha Graciosa         108\n",
    "Leiria A Praia         90\n",
    "Braganca               71"
   ]
  },
  {
   "cell_type": "code",
   "execution_count": null,
   "metadata": {},
   "outputs": [],
   "source": [
    "associacoes=['Algarve','Setubal','Santarem','Guarda','Vila Real','Beja','Ilha S. Miguel','Ilha Terceira','Portalegre',\n",
    "             'Ilha Faial','Evora','Coimbra','Castelo Branco','Ilha S. Maria','V. Castelo','Ilha Graciosa','Braganca']\n",
    "dtAssociacoes2012=dt2012.loc[dt2012['associacao'].isin(associacoes)]"
   ]
  },
  {
   "cell_type": "code",
   "execution_count": null,
   "metadata": {},
   "outputs": [],
   "source": [
    "dtAssociacoes2012.associacao.value_counts()"
   ]
  },
  {
   "cell_type": "code",
   "execution_count": null,
   "metadata": {},
   "outputs": [],
   "source": [
    "T2012 = dtAssociacoes2012['anos']\n",
    "C2012 = dtAssociacoes2012['abandonou']\n",
    "kmf.fit(T2012,C2012,label=\"Abandono dos atletas\")\n",
    "curvaSobrevivencia(dtAssociacoes2012,'associacao',T=T2012,C=C2012,eixoX='anos',titulo='Probabilidade sobrevivência por associacao desde 2012');\n",
    "plt.xlabel('anos');"
   ]
  },
  {
   "cell_type": "code",
   "execution_count": null,
   "metadata": {},
   "outputs": [],
   "source": [
    "from lifelines.statistics import multivariate_logrank_test\n",
    "\n",
    "results=multivariate_logrank_test(event_durations=T2012,groups=dtAssociacoes2012['associacao'],event_observed=C2012)\n",
    "results.print_summary()"
   ]
  },
  {
   "cell_type": "markdown",
   "metadata": {},
   "source": [
    "É maios ou menos igual. Porto e Braga aparentemente com melhores retenções"
   ]
  },
  {
   "cell_type": "markdown",
   "metadata": {},
   "source": [
    "**Existem diferenças entre as curvas de sobrevivência. Vamos ver onde. Isto é como se fosse um teste post-hoc**"
   ]
  },
  {
   "cell_type": "code",
   "execution_count": null,
   "metadata": {},
   "outputs": [],
   "source": [
    "results=pairwise_logrank_test(event_durations=T2012,groups=dtAssociacoes2012['associacao'],event_observed=C2012)\n",
    "results.print_summary()"
   ]
  },
  {
   "cell_type": "markdown",
   "metadata": {},
   "source": [
    "## Escalões Federação Femininos e Masc"
   ]
  },
  {
   "cell_type": "code",
   "execution_count": null,
   "metadata": {},
   "outputs": [],
   "source": [
    "dtFem2008 = dt2008.loc[dt.sexo=='F']\n",
    "dtMasc2008 = dt2008.loc[dt.sexo=='M']\n",
    "\n",
    "dtFem2012 = dt2012.loc[dt.sexo=='F']\n",
    "dtMasc2012 = dt2012.loc[dt.sexo=='M']"
   ]
  },
  {
   "cell_type": "code",
   "execution_count": null,
   "metadata": {},
   "outputs": [],
   "source": [
    "T2008 = dtFem2008['anos']\n",
    "C2008 = dtFem2008['abandonou']\n",
    "kmf.fit(T2008,C2008,label=\"Abandono dos atletas\")\n",
    "curvaSobrevivencia(dtFem2008,'escFederacao',eixoX='anos',C=C2008,T=T2008,titulo='Probabilidade de sobrevivência por escalão desde 2008');plt.xlabel('anos');"
   ]
  },
  {
   "cell_type": "code",
   "execution_count": null,
   "metadata": {},
   "outputs": [],
   "source": [
    "from lifelines.statistics import multivariate_logrank_test\n",
    "\n",
    "results=multivariate_logrank_test(event_durations=T2008,groups=dtFem2008['escFederacao'],event_observed=C2008)\n",
    "results.print_summary()"
   ]
  },
  {
   "cell_type": "markdown",
   "metadata": {},
   "source": [
    "**Existem diferenças entre as curvas de sobrevivência. Vamos ver onde. Isto é como se fosse um teste post-hoc**"
   ]
  },
  {
   "cell_type": "code",
   "execution_count": null,
   "metadata": {},
   "outputs": [],
   "source": [
    "results=pairwise_logrank_test(event_durations=T2008,groups=dtFem2008.escFederacao,event_observed=C2008)\n",
    "results.print_summary()"
   ]
  },
  {
   "cell_type": "code",
   "execution_count": null,
   "metadata": {},
   "outputs": [],
   "source": [
    "T2008 = dtMasc2008['anos']\n",
    "C2008 = dtMasc2008['abandonou']\n",
    "kmf.fit(T2008,C2008,label=\"Abandono dos atletas desde 2008\")\n",
    "curvaSobrevivencia(dtMasc2008,'escFederacao',T=T2008,C=C2008,eixoX='anos',titulo='Probabilidade sobrevivência por escalão desde 2008');plt.xlabel('anos');"
   ]
  },
  {
   "cell_type": "code",
   "execution_count": null,
   "metadata": {},
   "outputs": [],
   "source": [
    "from lifelines.statistics import multivariate_logrank_test\n",
    "\n",
    "results=multivariate_logrank_test(event_durations=T2008,groups=dtMasc2008['escFederacao'],event_observed=C2008)\n",
    "results.print_summary()"
   ]
  },
  {
   "cell_type": "markdown",
   "metadata": {},
   "source": [
    "**Existem diferenças entre as curvas de sobrevivência. Vamos ver onde. Isto é como se fosse um teste post-hoc**"
   ]
  },
  {
   "cell_type": "code",
   "execution_count": null,
   "metadata": {},
   "outputs": [],
   "source": [
    "results=pairwise_logrank_test(event_durations=T2008,groups=dtMasc2008.escFederacao,event_observed=C2008)\n",
    "results.print_summary()"
   ]
  },
  {
   "cell_type": "markdown",
   "metadata": {},
   "source": [
    "## Ambos os escalões"
   ]
  },
  {
   "cell_type": "code",
   "execution_count": null,
   "metadata": {},
   "outputs": [],
   "source": [
    "T = dt['anos']\n",
    "C = dt['abandonou']\n",
    "kmf.fit(T,C,label=\"Abandono dos atletas\")\n",
    "curvaSobrevivencia(dt,'escFedTodos',eixoX='anos',titulo='Probabilidade sobrevivência por escalão');plt.xlabel('anos');"
   ]
  },
  {
   "cell_type": "markdown",
   "metadata": {},
   "source": [
    "## Por tipo de inscrição"
   ]
  },
  {
   "cell_type": "code",
   "execution_count": null,
   "metadata": {},
   "outputs": [],
   "source": [
    "T = dt['anos']\n",
    "C = dt['abandonou']\n",
    "curvaSobrevivencia(dt,'tipoInscricao',eixoX='anos',titulo='Probabilidade sobrevivência por tipo de inscrição');plt.xlabel('anos');"
   ]
  },
  {
   "cell_type": "code",
   "execution_count": null,
   "metadata": {},
   "outputs": [],
   "source": [
    "from lifelines.statistics import multivariate_logrank_test\n",
    "\n",
    "results=multivariate_logrank_test(event_durations=T,groups=dt['tipoInscricao'],event_observed=C)\n",
    "results.print_summary()"
   ]
  },
  {
   "cell_type": "markdown",
   "metadata": {},
   "source": [
    "**Existem diferenças entre as curvas de sobrevivência. Vamos ver onde. Isto é como se fosse um teste post-hoc**"
   ]
  },
  {
   "cell_type": "code",
   "execution_count": null,
   "metadata": {},
   "outputs": [],
   "source": [
    "results=pairwise_logrank_test(event_durations=T,groups=dt.tipoInscricao,event_observed=C)\n",
    "results.print_summary()"
   ]
  },
  {
   "cell_type": "markdown",
   "metadata": {},
   "source": [
    "# Vamos ver este mandato em relação aos anteriores"
   ]
  },
  {
   "cell_type": "code",
   "execution_count": null,
   "metadata": {},
   "outputs": [],
   "source": [
    "dt.loc[:,'esteMandato']=0"
   ]
  },
  {
   "cell_type": "code",
   "execution_count": null,
   "metadata": {},
   "outputs": [],
   "source": [
    "dt.dtIns=pd.to_datetime(dt.dtIns)\n",
    "dt.loc[:,'anoInsc']=0\n",
    "dt['anoInsc']=dt['dtIns'].apply(lambda x: x.year)"
   ]
  },
  {
   "cell_type": "code",
   "execution_count": null,
   "metadata": {},
   "outputs": [],
   "source": [
    "dt.columns"
   ]
  },
  {
   "cell_type": "code",
   "execution_count": null,
   "metadata": {},
   "outputs": [],
   "source": [
    "dt.loc[dt.anoInsc >= 2012,'esteMandato'] = 1"
   ]
  },
  {
   "cell_type": "code",
   "execution_count": null,
   "metadata": {},
   "outputs": [],
   "source": [
    "dt.esteMandato.value_counts()"
   ]
  },
  {
   "cell_type": "code",
   "execution_count": null,
   "metadata": {},
   "outputs": [],
   "source": [
    "T = dt['anos']\n",
    "C = dt['abandonou']\n",
    "curvaSobrevivencia(dt,'esteMandato',C=C,T=T,eixoX='anos',titulo='Probabilidade sobrevivência por mandato');plt.xlabel('anos');"
   ]
  },
  {
   "cell_type": "code",
   "execution_count": null,
   "metadata": {},
   "outputs": [],
   "source": [
    "from lifelines.statistics import multivariate_logrank_test\n",
    "\n",
    "results=multivariate_logrank_test(event_durations=T,groups=dt['esteMandato'],event_observed=C)\n",
    "results.print_summary()"
   ]
  },
  {
   "cell_type": "markdown",
   "metadata": {},
   "source": [
    "**Existem diferenças entre as curvas de sobrevivência. Vamos ver onde. Isto é como se fosse um teste post-hoc**"
   ]
  },
  {
   "cell_type": "code",
   "execution_count": null,
   "metadata": {},
   "outputs": [],
   "source": [
    "results=pairwise_logrank_test(event_durations=T,groups=dt.esteMandato,event_observed=C)\n",
    "results.print_summary()"
   ]
  }
 ],
 "metadata": {
  "kernelspec": {
   "display_name": "Python 3",
   "language": "python",
   "name": "python3"
  },
  "language_info": {
   "codemirror_mode": {
    "name": "ipython",
    "version": 3
   },
   "file_extension": ".py",
   "mimetype": "text/x-python",
   "name": "python",
   "nbconvert_exporter": "python",
   "pygments_lexer": "ipython3",
   "version": "3.7.3"
  },
  "toc-autonumbering": true,
  "toc-showcode": false,
  "toc-showmarkdowntxt": true
 },
 "nbformat": 4,
 "nbformat_minor": 4
}
