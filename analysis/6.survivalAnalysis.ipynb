{
 "cells": [
  {
   "cell_type": "markdown",
   "metadata": {
    "toc-hr-collapsed": false
   },
   "source": [
    "# Análise de sobrevivência piscinas municipais"
   ]
  },
  {
   "cell_type": "markdown",
   "metadata": {},
   "source": [
    "## Analisar\n",
    "\n",
    "Variáveis:\n",
    "\n",
    "- Genero\tSexo - 1 para Masculino, 0 para Feminino\n",
    "- Inicio\tData de inicio da inscrição\n",
    "- Termino\tData de termino da inscrição\n",
    "- Dtultvisita\tData da ultima visita as instalações obtida pela utilização do cartão no controlo de acessos\n",
    "- Diassemfrequencia\tNº de dias em que não vinha às instalações até terminar a inscrição ou até 31/Outubro/2017 se a inscrição ainda não tinha terminado nessa data\n",
    "- Mesesinscricao\tNº de meses da inscrição, ou seja, diferença de meses entre o inicio e o termino\n",
    "- Volnegocios\tTotal pago pelo utente no período da sua inscrição\n",
    "- Freqmedia\tFreqmedia obtida pelo nº de frequencias a dividir pelo nº de semanas da sua inscrição, subtraido dos períodos de encerramento (mês de Agosto) quando a inscrição tem mais de 1 época\n",
    "- natividades\tContagem dos 1 dos campos anteriores (linha 13 a 22)\n",
    "- nfrequencias\tNº de visitas ao clube durante a sua inscrição\n",
    "- freqcontratada\tNº de frequências por semana que o utente tinha contratada no ultimo período da sua inscrição (7 = livre trânsito)\n",
    "- nrenovacoes\tNº de renovações que o utente fez durante a sua inscrição - ATENÇÃO: esta instalação fecha no mês de Agosto, pelo que os Utentes têm de renovar a inscrição para o proximo ano letivo\n",
    "- nreferencias\tNº de pessoas associadas (familiares, amigos, etc.) também registados como utentes\n",
    "- classe_desistencia\t1 para desistente, 0 para utente ativo\n",
    "\n",
    "\n",
    "1/TRUE = dead i.e. abandonou\n",
    "0/FALSE = alive i.e. não abandonou\n"
   ]
  },
  {
   "cell_type": "code",
   "execution_count": 1,
   "metadata": {},
   "outputs": [],
   "source": [
    "from IPython.display import HTML"
   ]
  },
  {
   "cell_type": "code",
   "execution_count": 2,
   "metadata": {},
   "outputs": [],
   "source": [
    "import pandas as pd\n",
    "dt = pd.read_excel('../dados/dadosPiscinaSetubal.xlsx',index_col=0)"
   ]
  },
  {
   "cell_type": "code",
   "execution_count": 3,
   "metadata": {},
   "outputs": [
    {
     "data": {
      "text/plain": [
       "(8295, 27)"
      ]
     },
     "execution_count": 3,
     "metadata": {},
     "output_type": "execute_result"
    }
   ],
   "source": [
    "dt.shape"
   ]
  },
  {
   "cell_type": "markdown",
   "metadata": {},
   "source": [
    "## Vamos selecionar os nadadores"
   ]
  },
  {
   "cell_type": "code",
   "execution_count": 4,
   "metadata": {},
   "outputs": [],
   "source": [
    "dt = dt.loc[dt.atividade_aquaticas == 1]"
   ]
  },
  {
   "cell_type": "code",
   "execution_count": 5,
   "metadata": {},
   "outputs": [
    {
     "data": {
      "text/plain": [
       "Index(['datanasc', 'idade', 'genero', 'inicio', 'termino', 'dtultvisita',\n",
       "       'diassemfrequencia', 'mesesinscricao', 'volnegocios', 'freqmedia',\n",
       "       'utilizacao_livre', 'atividade_atletismo', 'atividade_aquaticas',\n",
       "       'atividade_fitness', 'atividade_danca', 'atividade_coletivos',\n",
       "       'atividade_raquete', 'atividade_combate', 'atividade_especiais',\n",
       "       'atividade_natureza', 'atividade_outra', 'natividades', 'nfrequencias',\n",
       "       'freqcontratadasemanal', 'nrenovacoes', 'nreferencias',\n",
       "       'classe_desistencia'],\n",
       "      dtype='object')"
      ]
     },
     "execution_count": 5,
     "metadata": {},
     "output_type": "execute_result"
    }
   ],
   "source": [
    "dt.columns"
   ]
  },
  {
   "cell_type": "code",
   "execution_count": 6,
   "metadata": {},
   "outputs": [
    {
     "data": {
      "text/plain": [
       "(6749, 27)"
      ]
     },
     "execution_count": 6,
     "metadata": {},
     "output_type": "execute_result"
    }
   ],
   "source": [
    "dt.shape"
   ]
  },
  {
   "cell_type": "markdown",
   "metadata": {},
   "source": [
    "## Vamos calcular uma variavel mes"
   ]
  },
  {
   "cell_type": "code",
   "execution_count": 7,
   "metadata": {},
   "outputs": [],
   "source": [
    "dt['mes']=dt['inicio'].str.extract('-(\\d\\d)', expand=True)\n",
    "dt['mes']=pd.to_numeric(dt['mes'])"
   ]
  },
  {
   "cell_type": "code",
   "execution_count": 8,
   "metadata": {},
   "outputs": [
    {
     "data": {
      "text/html": [
       "<div>\n",
       "<style scoped>\n",
       "    .dataframe tbody tr th:only-of-type {\n",
       "        vertical-align: middle;\n",
       "    }\n",
       "\n",
       "    .dataframe tbody tr th {\n",
       "        vertical-align: top;\n",
       "    }\n",
       "\n",
       "    .dataframe thead th {\n",
       "        text-align: right;\n",
       "    }\n",
       "</style>\n",
       "<table border=\"1\" class=\"dataframe\">\n",
       "  <thead>\n",
       "    <tr style=\"text-align: right;\">\n",
       "      <th></th>\n",
       "      <th>idade</th>\n",
       "      <th>genero</th>\n",
       "      <th>diassemfrequencia</th>\n",
       "      <th>mesesinscricao</th>\n",
       "      <th>volnegocios</th>\n",
       "      <th>freqmedia</th>\n",
       "      <th>natividades</th>\n",
       "      <th>nfrequencias</th>\n",
       "      <th>freqcontratadasemanal</th>\n",
       "      <th>nrenovacoes</th>\n",
       "      <th>nreferencias</th>\n",
       "      <th>mes</th>\n",
       "      <th>classe_desistencia</th>\n",
       "    </tr>\n",
       "  </thead>\n",
       "  <tbody>\n",
       "    <tr>\n",
       "      <td>count</td>\n",
       "      <td>6749.000000</td>\n",
       "      <td>6749.000000</td>\n",
       "      <td>6749.000000</td>\n",
       "      <td>6749.000000</td>\n",
       "      <td>6749.000000</td>\n",
       "      <td>6749.000000</td>\n",
       "      <td>6749.000000</td>\n",
       "      <td>6749.000000</td>\n",
       "      <td>6747.000000</td>\n",
       "      <td>6749.000000</td>\n",
       "      <td>6749.000000</td>\n",
       "      <td>6749.000000</td>\n",
       "      <td>6749.000000</td>\n",
       "    </tr>\n",
       "    <tr>\n",
       "      <td>mean</td>\n",
       "      <td>18.686176</td>\n",
       "      <td>0.480960</td>\n",
       "      <td>48.751371</td>\n",
       "      <td>13.300933</td>\n",
       "      <td>161.740485</td>\n",
       "      <td>0.599911</td>\n",
       "      <td>1.074826</td>\n",
       "      <td>29.819825</td>\n",
       "      <td>2.072032</td>\n",
       "      <td>1.038524</td>\n",
       "      <td>0.304490</td>\n",
       "      <td>7.251741</td>\n",
       "      <td>0.577715</td>\n",
       "    </tr>\n",
       "    <tr>\n",
       "      <td>std</td>\n",
       "      <td>19.362335</td>\n",
       "      <td>0.499674</td>\n",
       "      <td>73.448122</td>\n",
       "      <td>10.915080</td>\n",
       "      <td>158.559194</td>\n",
       "      <td>0.423833</td>\n",
       "      <td>0.272536</td>\n",
       "      <td>35.389707</td>\n",
       "      <td>1.823724</td>\n",
       "      <td>1.069460</td>\n",
       "      <td>0.553224</td>\n",
       "      <td>3.172694</td>\n",
       "      <td>0.493960</td>\n",
       "    </tr>\n",
       "    <tr>\n",
       "      <td>min</td>\n",
       "      <td>0.000000</td>\n",
       "      <td>0.000000</td>\n",
       "      <td>0.000000</td>\n",
       "      <td>0.000000</td>\n",
       "      <td>0.000000</td>\n",
       "      <td>0.010000</td>\n",
       "      <td>1.000000</td>\n",
       "      <td>1.000000</td>\n",
       "      <td>1.000000</td>\n",
       "      <td>0.000000</td>\n",
       "      <td>0.000000</td>\n",
       "      <td>1.000000</td>\n",
       "      <td>0.000000</td>\n",
       "    </tr>\n",
       "    <tr>\n",
       "      <td>25%</td>\n",
       "      <td>5.000000</td>\n",
       "      <td>0.000000</td>\n",
       "      <td>5.000000</td>\n",
       "      <td>4.000000</td>\n",
       "      <td>48.270000</td>\n",
       "      <td>0.300000</td>\n",
       "      <td>1.000000</td>\n",
       "      <td>6.000000</td>\n",
       "      <td>1.000000</td>\n",
       "      <td>0.000000</td>\n",
       "      <td>0.000000</td>\n",
       "      <td>4.000000</td>\n",
       "      <td>0.000000</td>\n",
       "    </tr>\n",
       "    <tr>\n",
       "      <td>50%</td>\n",
       "      <td>10.000000</td>\n",
       "      <td>0.000000</td>\n",
       "      <td>31.000000</td>\n",
       "      <td>10.000000</td>\n",
       "      <td>107.100000</td>\n",
       "      <td>0.500000</td>\n",
       "      <td>1.000000</td>\n",
       "      <td>17.000000</td>\n",
       "      <td>1.000000</td>\n",
       "      <td>1.000000</td>\n",
       "      <td>0.000000</td>\n",
       "      <td>9.000000</td>\n",
       "      <td>1.000000</td>\n",
       "    </tr>\n",
       "    <tr>\n",
       "      <td>75%</td>\n",
       "      <td>32.000000</td>\n",
       "      <td>1.000000</td>\n",
       "      <td>62.000000</td>\n",
       "      <td>20.000000</td>\n",
       "      <td>219.040000</td>\n",
       "      <td>0.800000</td>\n",
       "      <td>1.000000</td>\n",
       "      <td>40.000000</td>\n",
       "      <td>2.000000</td>\n",
       "      <td>2.000000</td>\n",
       "      <td>1.000000</td>\n",
       "      <td>9.000000</td>\n",
       "      <td>1.000000</td>\n",
       "    </tr>\n",
       "    <tr>\n",
       "      <td>max</td>\n",
       "      <td>117.000000</td>\n",
       "      <td>1.000000</td>\n",
       "      <td>1073.000000</td>\n",
       "      <td>47.000000</td>\n",
       "      <td>1293.000000</td>\n",
       "      <td>3.940000</td>\n",
       "      <td>3.000000</td>\n",
       "      <td>323.000000</td>\n",
       "      <td>7.000000</td>\n",
       "      <td>4.000000</td>\n",
       "      <td>5.000000</td>\n",
       "      <td>12.000000</td>\n",
       "      <td>1.000000</td>\n",
       "    </tr>\n",
       "  </tbody>\n",
       "</table>\n",
       "</div>"
      ],
      "text/plain": [
       "             idade       genero  diassemfrequencia  mesesinscricao  \\\n",
       "count  6749.000000  6749.000000        6749.000000     6749.000000   \n",
       "mean     18.686176     0.480960          48.751371       13.300933   \n",
       "std      19.362335     0.499674          73.448122       10.915080   \n",
       "min       0.000000     0.000000           0.000000        0.000000   \n",
       "25%       5.000000     0.000000           5.000000        4.000000   \n",
       "50%      10.000000     0.000000          31.000000       10.000000   \n",
       "75%      32.000000     1.000000          62.000000       20.000000   \n",
       "max     117.000000     1.000000        1073.000000       47.000000   \n",
       "\n",
       "       volnegocios    freqmedia  natividades  nfrequencias  \\\n",
       "count  6749.000000  6749.000000  6749.000000   6749.000000   \n",
       "mean    161.740485     0.599911     1.074826     29.819825   \n",
       "std     158.559194     0.423833     0.272536     35.389707   \n",
       "min       0.000000     0.010000     1.000000      1.000000   \n",
       "25%      48.270000     0.300000     1.000000      6.000000   \n",
       "50%     107.100000     0.500000     1.000000     17.000000   \n",
       "75%     219.040000     0.800000     1.000000     40.000000   \n",
       "max    1293.000000     3.940000     3.000000    323.000000   \n",
       "\n",
       "       freqcontratadasemanal  nrenovacoes  nreferencias          mes  \\\n",
       "count            6747.000000  6749.000000   6749.000000  6749.000000   \n",
       "mean                2.072032     1.038524      0.304490     7.251741   \n",
       "std                 1.823724     1.069460      0.553224     3.172694   \n",
       "min                 1.000000     0.000000      0.000000     1.000000   \n",
       "25%                 1.000000     0.000000      0.000000     4.000000   \n",
       "50%                 1.000000     1.000000      0.000000     9.000000   \n",
       "75%                 2.000000     2.000000      1.000000     9.000000   \n",
       "max                 7.000000     4.000000      5.000000    12.000000   \n",
       "\n",
       "       classe_desistencia  \n",
       "count         6749.000000  \n",
       "mean             0.577715  \n",
       "std              0.493960  \n",
       "min              0.000000  \n",
       "25%              0.000000  \n",
       "50%              1.000000  \n",
       "75%              1.000000  \n",
       "max              1.000000  "
      ]
     },
     "execution_count": 8,
     "metadata": {},
     "output_type": "execute_result"
    }
   ],
   "source": [
    "dt[['idade', 'genero','diassemfrequencia', 'mesesinscricao', 'volnegocios', 'freqmedia',\n",
    "    'natividades', 'nfrequencias','freqcontratadasemanal', 'nrenovacoes', 'nreferencias','mes','classe_desistencia']].describe()"
   ]
  },
  {
   "cell_type": "code",
   "execution_count": 9,
   "metadata": {},
   "outputs": [
    {
     "data": {
      "text/html": [
       "<div>\n",
       "<style scoped>\n",
       "    .dataframe tbody tr th:only-of-type {\n",
       "        vertical-align: middle;\n",
       "    }\n",
       "\n",
       "    .dataframe tbody tr th {\n",
       "        vertical-align: top;\n",
       "    }\n",
       "\n",
       "    .dataframe thead th {\n",
       "        text-align: right;\n",
       "    }\n",
       "</style>\n",
       "<table border=\"1\" class=\"dataframe\">\n",
       "  <thead>\n",
       "    <tr style=\"text-align: right;\">\n",
       "      <th></th>\n",
       "      <th>datanasc</th>\n",
       "      <th>idade</th>\n",
       "      <th>genero</th>\n",
       "      <th>inicio</th>\n",
       "      <th>termino</th>\n",
       "      <th>dtultvisita</th>\n",
       "      <th>diassemfrequencia</th>\n",
       "      <th>mesesinscricao</th>\n",
       "      <th>volnegocios</th>\n",
       "      <th>freqmedia</th>\n",
       "      <th>...</th>\n",
       "      <th>atividade_especiais</th>\n",
       "      <th>atividade_natureza</th>\n",
       "      <th>atividade_outra</th>\n",
       "      <th>natividades</th>\n",
       "      <th>nfrequencias</th>\n",
       "      <th>freqcontratadasemanal</th>\n",
       "      <th>nrenovacoes</th>\n",
       "      <th>nreferencias</th>\n",
       "      <th>classe_desistencia</th>\n",
       "      <th>mes</th>\n",
       "    </tr>\n",
       "    <tr>\n",
       "      <th>Id</th>\n",
       "      <th></th>\n",
       "      <th></th>\n",
       "      <th></th>\n",
       "      <th></th>\n",
       "      <th></th>\n",
       "      <th></th>\n",
       "      <th></th>\n",
       "      <th></th>\n",
       "      <th></th>\n",
       "      <th></th>\n",
       "      <th></th>\n",
       "      <th></th>\n",
       "      <th></th>\n",
       "      <th></th>\n",
       "      <th></th>\n",
       "      <th></th>\n",
       "      <th></th>\n",
       "      <th></th>\n",
       "      <th></th>\n",
       "      <th></th>\n",
       "      <th></th>\n",
       "    </tr>\n",
       "  </thead>\n",
       "  <tbody>\n",
       "    <tr>\n",
       "      <td>606772EC-63D9-42DD-927E-62787063394F</td>\n",
       "      <td>1901-01-01 12:00:00.000</td>\n",
       "      <td>114</td>\n",
       "      <td>1</td>\n",
       "      <td>2015-10-05 13:33:03.590</td>\n",
       "      <td>2015-12-12 00:00:00.000</td>\n",
       "      <td>2015-10-17 09:40:11.523</td>\n",
       "      <td>56</td>\n",
       "      <td>2</td>\n",
       "      <td>20.82</td>\n",
       "      <td>0.10</td>\n",
       "      <td>...</td>\n",
       "      <td>0</td>\n",
       "      <td>0</td>\n",
       "      <td>0</td>\n",
       "      <td>1</td>\n",
       "      <td>1</td>\n",
       "      <td>1.0</td>\n",
       "      <td>0</td>\n",
       "      <td>1</td>\n",
       "      <td>1</td>\n",
       "      <td>10</td>\n",
       "    </tr>\n",
       "    <tr>\n",
       "      <td>6C621D70-41E6-4B8B-91A1-3ECEA63E726F</td>\n",
       "      <td>1900-01-01 00:00:00.000</td>\n",
       "      <td>117</td>\n",
       "      <td>1</td>\n",
       "      <td>2016-09-05 18:08:34.453</td>\n",
       "      <td>2017-07-31 00:00:00.000</td>\n",
       "      <td>2016-12-17 10:27:22.317</td>\n",
       "      <td>226</td>\n",
       "      <td>11</td>\n",
       "      <td>59.60</td>\n",
       "      <td>0.23</td>\n",
       "      <td>...</td>\n",
       "      <td>0</td>\n",
       "      <td>0</td>\n",
       "      <td>0</td>\n",
       "      <td>1</td>\n",
       "      <td>11</td>\n",
       "      <td>1.0</td>\n",
       "      <td>0</td>\n",
       "      <td>0</td>\n",
       "      <td>1</td>\n",
       "      <td>9</td>\n",
       "    </tr>\n",
       "  </tbody>\n",
       "</table>\n",
       "<p>2 rows × 28 columns</p>\n",
       "</div>"
      ],
      "text/plain": [
       "                                                     datanasc  idade  genero  \\\n",
       "Id                                                                             \n",
       "606772EC-63D9-42DD-927E-62787063394F  1901-01-01 12:00:00.000    114       1   \n",
       "6C621D70-41E6-4B8B-91A1-3ECEA63E726F  1900-01-01 00:00:00.000    117       1   \n",
       "\n",
       "                                                       inicio  \\\n",
       "Id                                                              \n",
       "606772EC-63D9-42DD-927E-62787063394F  2015-10-05 13:33:03.590   \n",
       "6C621D70-41E6-4B8B-91A1-3ECEA63E726F  2016-09-05 18:08:34.453   \n",
       "\n",
       "                                                      termino  \\\n",
       "Id                                                              \n",
       "606772EC-63D9-42DD-927E-62787063394F  2015-12-12 00:00:00.000   \n",
       "6C621D70-41E6-4B8B-91A1-3ECEA63E726F  2017-07-31 00:00:00.000   \n",
       "\n",
       "                                                  dtultvisita  \\\n",
       "Id                                                              \n",
       "606772EC-63D9-42DD-927E-62787063394F  2015-10-17 09:40:11.523   \n",
       "6C621D70-41E6-4B8B-91A1-3ECEA63E726F  2016-12-17 10:27:22.317   \n",
       "\n",
       "                                      diassemfrequencia  mesesinscricao  \\\n",
       "Id                                                                        \n",
       "606772EC-63D9-42DD-927E-62787063394F                 56               2   \n",
       "6C621D70-41E6-4B8B-91A1-3ECEA63E726F                226              11   \n",
       "\n",
       "                                      volnegocios  freqmedia  ...  \\\n",
       "Id                                                            ...   \n",
       "606772EC-63D9-42DD-927E-62787063394F        20.82       0.10  ...   \n",
       "6C621D70-41E6-4B8B-91A1-3ECEA63E726F        59.60       0.23  ...   \n",
       "\n",
       "                                      atividade_especiais  atividade_natureza  \\\n",
       "Id                                                                              \n",
       "606772EC-63D9-42DD-927E-62787063394F                    0                   0   \n",
       "6C621D70-41E6-4B8B-91A1-3ECEA63E726F                    0                   0   \n",
       "\n",
       "                                      atividade_outra  natividades  \\\n",
       "Id                                                                   \n",
       "606772EC-63D9-42DD-927E-62787063394F                0            1   \n",
       "6C621D70-41E6-4B8B-91A1-3ECEA63E726F                0            1   \n",
       "\n",
       "                                      nfrequencias  freqcontratadasemanal  \\\n",
       "Id                                                                          \n",
       "606772EC-63D9-42DD-927E-62787063394F             1                    1.0   \n",
       "6C621D70-41E6-4B8B-91A1-3ECEA63E726F            11                    1.0   \n",
       "\n",
       "                                      nrenovacoes  nreferencias  \\\n",
       "Id                                                                \n",
       "606772EC-63D9-42DD-927E-62787063394F            0             1   \n",
       "6C621D70-41E6-4B8B-91A1-3ECEA63E726F            0             0   \n",
       "\n",
       "                                      classe_desistencia  mes  \n",
       "Id                                                             \n",
       "606772EC-63D9-42DD-927E-62787063394F                   1   10  \n",
       "6C621D70-41E6-4B8B-91A1-3ECEA63E726F                   1    9  \n",
       "\n",
       "[2 rows x 28 columns]"
      ]
     },
     "execution_count": 9,
     "metadata": {},
     "output_type": "execute_result"
    }
   ],
   "source": [
    "dt.loc[dt.idade > 100]"
   ]
  },
  {
   "cell_type": "code",
   "execution_count": 10,
   "metadata": {},
   "outputs": [],
   "source": [
    "# Retirar estes\n",
    "dt = dt.loc[dt.idade < 100 ]"
   ]
  },
  {
   "cell_type": "code",
   "execution_count": 11,
   "metadata": {},
   "outputs": [
    {
     "data": {
      "text/plain": [
       "0    3503\n",
       "1    3244\n",
       "Name: genero, dtype: int64"
      ]
     },
     "execution_count": 11,
     "metadata": {},
     "output_type": "execute_result"
    }
   ],
   "source": [
    "dt['genero'].value_counts()"
   ]
  },
  {
   "cell_type": "code",
   "execution_count": 12,
   "metadata": {},
   "outputs": [],
   "source": [
    "colunasScale=['idade','diassemfrequencia','mesesinscricao','volnegocios','freqmedia','natividades','nfrequencias',\n",
    "              'freqcontratadasemana','nrenovacoes','nreferencias']\n",
    "#Transformar classe desistencia em booleana\n",
    "dt['classe_desistencia']=dt['classe_desistencia'].map({True:1, False:0})"
   ]
  },
  {
   "cell_type": "code",
   "execution_count": 13,
   "metadata": {},
   "outputs": [
    {
     "data": {
      "text/html": [
       "<div>\n",
       "<style scoped>\n",
       "    .dataframe tbody tr th:only-of-type {\n",
       "        vertical-align: middle;\n",
       "    }\n",
       "\n",
       "    .dataframe tbody tr th {\n",
       "        vertical-align: top;\n",
       "    }\n",
       "\n",
       "    .dataframe thead th {\n",
       "        text-align: right;\n",
       "    }\n",
       "</style>\n",
       "<table border=\"1\" class=\"dataframe\">\n",
       "  <thead>\n",
       "    <tr style=\"text-align: right;\">\n",
       "      <th></th>\n",
       "      <th>idade</th>\n",
       "      <th>genero</th>\n",
       "      <th>diassemfrequencia</th>\n",
       "      <th>mesesinscricao</th>\n",
       "      <th>volnegocios</th>\n",
       "      <th>freqmedia</th>\n",
       "      <th>utilizacao_livre</th>\n",
       "      <th>atividade_atletismo</th>\n",
       "      <th>atividade_aquaticas</th>\n",
       "      <th>atividade_fitness</th>\n",
       "      <th>...</th>\n",
       "      <th>atividade_especiais</th>\n",
       "      <th>atividade_natureza</th>\n",
       "      <th>atividade_outra</th>\n",
       "      <th>natividades</th>\n",
       "      <th>nfrequencias</th>\n",
       "      <th>freqcontratadasemanal</th>\n",
       "      <th>nrenovacoes</th>\n",
       "      <th>nreferencias</th>\n",
       "      <th>classe_desistencia</th>\n",
       "      <th>mes</th>\n",
       "    </tr>\n",
       "  </thead>\n",
       "  <tbody>\n",
       "    <tr>\n",
       "      <td>count</td>\n",
       "      <td>3503.000000</td>\n",
       "      <td>3503.0</td>\n",
       "      <td>3503.000000</td>\n",
       "      <td>3503.000000</td>\n",
       "      <td>3503.000000</td>\n",
       "      <td>3503.000000</td>\n",
       "      <td>3503.000000</td>\n",
       "      <td>3503.000000</td>\n",
       "      <td>3503.0</td>\n",
       "      <td>3503.000000</td>\n",
       "      <td>...</td>\n",
       "      <td>3503.000000</td>\n",
       "      <td>3503.0</td>\n",
       "      <td>3503.0</td>\n",
       "      <td>3503.000000</td>\n",
       "      <td>3503.000000</td>\n",
       "      <td>3502.000000</td>\n",
       "      <td>3503.000000</td>\n",
       "      <td>3503.000000</td>\n",
       "      <td>3503.000000</td>\n",
       "      <td>3503.000000</td>\n",
       "    </tr>\n",
       "    <tr>\n",
       "      <td>mean</td>\n",
       "      <td>22.123608</td>\n",
       "      <td>0.0</td>\n",
       "      <td>48.190694</td>\n",
       "      <td>12.813017</td>\n",
       "      <td>158.810351</td>\n",
       "      <td>0.597160</td>\n",
       "      <td>0.081073</td>\n",
       "      <td>0.001713</td>\n",
       "      <td>1.0</td>\n",
       "      <td>0.074793</td>\n",
       "      <td>...</td>\n",
       "      <td>0.017414</td>\n",
       "      <td>0.0</td>\n",
       "      <td>0.0</td>\n",
       "      <td>1.096489</td>\n",
       "      <td>28.604910</td>\n",
       "      <td>2.065106</td>\n",
       "      <td>1.017414</td>\n",
       "      <td>0.275478</td>\n",
       "      <td>0.586640</td>\n",
       "      <td>7.102769</td>\n",
       "    </tr>\n",
       "    <tr>\n",
       "      <td>std</td>\n",
       "      <td>20.899213</td>\n",
       "      <td>0.0</td>\n",
       "      <td>72.794899</td>\n",
       "      <td>10.608964</td>\n",
       "      <td>158.915403</td>\n",
       "      <td>0.416069</td>\n",
       "      <td>0.272987</td>\n",
       "      <td>0.041357</td>\n",
       "      <td>0.0</td>\n",
       "      <td>0.263095</td>\n",
       "      <td>...</td>\n",
       "      <td>0.130825</td>\n",
       "      <td>0.0</td>\n",
       "      <td>0.0</td>\n",
       "      <td>0.307616</td>\n",
       "      <td>34.511576</td>\n",
       "      <td>1.795545</td>\n",
       "      <td>1.064716</td>\n",
       "      <td>0.531467</td>\n",
       "      <td>0.492507</td>\n",
       "      <td>3.253474</td>\n",
       "    </tr>\n",
       "    <tr>\n",
       "      <td>min</td>\n",
       "      <td>0.000000</td>\n",
       "      <td>0.0</td>\n",
       "      <td>0.000000</td>\n",
       "      <td>0.000000</td>\n",
       "      <td>2.600000</td>\n",
       "      <td>0.020000</td>\n",
       "      <td>0.000000</td>\n",
       "      <td>0.000000</td>\n",
       "      <td>1.0</td>\n",
       "      <td>0.000000</td>\n",
       "      <td>...</td>\n",
       "      <td>0.000000</td>\n",
       "      <td>0.0</td>\n",
       "      <td>0.0</td>\n",
       "      <td>1.000000</td>\n",
       "      <td>1.000000</td>\n",
       "      <td>1.000000</td>\n",
       "      <td>0.000000</td>\n",
       "      <td>0.000000</td>\n",
       "      <td>0.000000</td>\n",
       "      <td>1.000000</td>\n",
       "    </tr>\n",
       "    <tr>\n",
       "      <td>25%</td>\n",
       "      <td>6.000000</td>\n",
       "      <td>0.0</td>\n",
       "      <td>5.000000</td>\n",
       "      <td>4.000000</td>\n",
       "      <td>48.055000</td>\n",
       "      <td>0.300000</td>\n",
       "      <td>0.000000</td>\n",
       "      <td>0.000000</td>\n",
       "      <td>1.0</td>\n",
       "      <td>0.000000</td>\n",
       "      <td>...</td>\n",
       "      <td>0.000000</td>\n",
       "      <td>0.0</td>\n",
       "      <td>0.0</td>\n",
       "      <td>1.000000</td>\n",
       "      <td>6.000000</td>\n",
       "      <td>1.000000</td>\n",
       "      <td>0.000000</td>\n",
       "      <td>0.000000</td>\n",
       "      <td>0.000000</td>\n",
       "      <td>4.000000</td>\n",
       "    </tr>\n",
       "    <tr>\n",
       "      <td>50%</td>\n",
       "      <td>12.000000</td>\n",
       "      <td>0.0</td>\n",
       "      <td>31.000000</td>\n",
       "      <td>9.000000</td>\n",
       "      <td>103.330000</td>\n",
       "      <td>0.500000</td>\n",
       "      <td>0.000000</td>\n",
       "      <td>0.000000</td>\n",
       "      <td>1.0</td>\n",
       "      <td>0.000000</td>\n",
       "      <td>...</td>\n",
       "      <td>0.000000</td>\n",
       "      <td>0.0</td>\n",
       "      <td>0.0</td>\n",
       "      <td>1.000000</td>\n",
       "      <td>16.000000</td>\n",
       "      <td>2.000000</td>\n",
       "      <td>1.000000</td>\n",
       "      <td>0.000000</td>\n",
       "      <td>1.000000</td>\n",
       "      <td>9.000000</td>\n",
       "    </tr>\n",
       "    <tr>\n",
       "      <td>75%</td>\n",
       "      <td>39.000000</td>\n",
       "      <td>0.0</td>\n",
       "      <td>62.000000</td>\n",
       "      <td>19.000000</td>\n",
       "      <td>209.210000</td>\n",
       "      <td>0.790000</td>\n",
       "      <td>0.000000</td>\n",
       "      <td>0.000000</td>\n",
       "      <td>1.0</td>\n",
       "      <td>0.000000</td>\n",
       "      <td>...</td>\n",
       "      <td>0.000000</td>\n",
       "      <td>0.0</td>\n",
       "      <td>0.0</td>\n",
       "      <td>1.000000</td>\n",
       "      <td>38.000000</td>\n",
       "      <td>2.000000</td>\n",
       "      <td>2.000000</td>\n",
       "      <td>0.000000</td>\n",
       "      <td>1.000000</td>\n",
       "      <td>9.000000</td>\n",
       "    </tr>\n",
       "    <tr>\n",
       "      <td>max</td>\n",
       "      <td>88.000000</td>\n",
       "      <td>0.0</td>\n",
       "      <td>1073.000000</td>\n",
       "      <td>47.000000</td>\n",
       "      <td>1114.550000</td>\n",
       "      <td>3.940000</td>\n",
       "      <td>1.000000</td>\n",
       "      <td>1.000000</td>\n",
       "      <td>1.0</td>\n",
       "      <td>1.000000</td>\n",
       "      <td>...</td>\n",
       "      <td>1.000000</td>\n",
       "      <td>0.0</td>\n",
       "      <td>0.0</td>\n",
       "      <td>3.000000</td>\n",
       "      <td>297.000000</td>\n",
       "      <td>7.000000</td>\n",
       "      <td>4.000000</td>\n",
       "      <td>5.000000</td>\n",
       "      <td>1.000000</td>\n",
       "      <td>12.000000</td>\n",
       "    </tr>\n",
       "  </tbody>\n",
       "</table>\n",
       "<p>8 rows × 24 columns</p>\n",
       "</div>"
      ],
      "text/plain": [
       "             idade  genero  diassemfrequencia  mesesinscricao  volnegocios  \\\n",
       "count  3503.000000  3503.0        3503.000000     3503.000000  3503.000000   \n",
       "mean     22.123608     0.0          48.190694       12.813017   158.810351   \n",
       "std      20.899213     0.0          72.794899       10.608964   158.915403   \n",
       "min       0.000000     0.0           0.000000        0.000000     2.600000   \n",
       "25%       6.000000     0.0           5.000000        4.000000    48.055000   \n",
       "50%      12.000000     0.0          31.000000        9.000000   103.330000   \n",
       "75%      39.000000     0.0          62.000000       19.000000   209.210000   \n",
       "max      88.000000     0.0        1073.000000       47.000000  1114.550000   \n",
       "\n",
       "         freqmedia  utilizacao_livre  atividade_atletismo  \\\n",
       "count  3503.000000       3503.000000          3503.000000   \n",
       "mean      0.597160          0.081073             0.001713   \n",
       "std       0.416069          0.272987             0.041357   \n",
       "min       0.020000          0.000000             0.000000   \n",
       "25%       0.300000          0.000000             0.000000   \n",
       "50%       0.500000          0.000000             0.000000   \n",
       "75%       0.790000          0.000000             0.000000   \n",
       "max       3.940000          1.000000             1.000000   \n",
       "\n",
       "       atividade_aquaticas  atividade_fitness  ...  atividade_especiais  \\\n",
       "count               3503.0        3503.000000  ...          3503.000000   \n",
       "mean                   1.0           0.074793  ...             0.017414   \n",
       "std                    0.0           0.263095  ...             0.130825   \n",
       "min                    1.0           0.000000  ...             0.000000   \n",
       "25%                    1.0           0.000000  ...             0.000000   \n",
       "50%                    1.0           0.000000  ...             0.000000   \n",
       "75%                    1.0           0.000000  ...             0.000000   \n",
       "max                    1.0           1.000000  ...             1.000000   \n",
       "\n",
       "       atividade_natureza  atividade_outra  natividades  nfrequencias  \\\n",
       "count              3503.0           3503.0  3503.000000   3503.000000   \n",
       "mean                  0.0              0.0     1.096489     28.604910   \n",
       "std                   0.0              0.0     0.307616     34.511576   \n",
       "min                   0.0              0.0     1.000000      1.000000   \n",
       "25%                   0.0              0.0     1.000000      6.000000   \n",
       "50%                   0.0              0.0     1.000000     16.000000   \n",
       "75%                   0.0              0.0     1.000000     38.000000   \n",
       "max                   0.0              0.0     3.000000    297.000000   \n",
       "\n",
       "       freqcontratadasemanal  nrenovacoes  nreferencias  classe_desistencia  \\\n",
       "count            3502.000000  3503.000000   3503.000000         3503.000000   \n",
       "mean                2.065106     1.017414      0.275478            0.586640   \n",
       "std                 1.795545     1.064716      0.531467            0.492507   \n",
       "min                 1.000000     0.000000      0.000000            0.000000   \n",
       "25%                 1.000000     0.000000      0.000000            0.000000   \n",
       "50%                 2.000000     1.000000      0.000000            1.000000   \n",
       "75%                 2.000000     2.000000      0.000000            1.000000   \n",
       "max                 7.000000     4.000000      5.000000            1.000000   \n",
       "\n",
       "               mes  \n",
       "count  3503.000000  \n",
       "mean      7.102769  \n",
       "std       3.253474  \n",
       "min       1.000000  \n",
       "25%       4.000000  \n",
       "50%       9.000000  \n",
       "75%       9.000000  \n",
       "max      12.000000  \n",
       "\n",
       "[8 rows x 24 columns]"
      ]
     },
     "execution_count": 13,
     "metadata": {},
     "output_type": "execute_result"
    }
   ],
   "source": [
    "# Femininos\n",
    "dt.loc[dt.genero==0].describe()"
   ]
  },
  {
   "cell_type": "code",
   "execution_count": 14,
   "metadata": {},
   "outputs": [
    {
     "data": {
      "text/html": [
       "<div>\n",
       "<style scoped>\n",
       "    .dataframe tbody tr th:only-of-type {\n",
       "        vertical-align: middle;\n",
       "    }\n",
       "\n",
       "    .dataframe tbody tr th {\n",
       "        vertical-align: top;\n",
       "    }\n",
       "\n",
       "    .dataframe thead th {\n",
       "        text-align: right;\n",
       "    }\n",
       "</style>\n",
       "<table border=\"1\" class=\"dataframe\">\n",
       "  <thead>\n",
       "    <tr style=\"text-align: right;\">\n",
       "      <th></th>\n",
       "      <th>idade</th>\n",
       "      <th>genero</th>\n",
       "      <th>diassemfrequencia</th>\n",
       "      <th>mesesinscricao</th>\n",
       "      <th>volnegocios</th>\n",
       "      <th>freqmedia</th>\n",
       "      <th>utilizacao_livre</th>\n",
       "      <th>atividade_atletismo</th>\n",
       "      <th>atividade_aquaticas</th>\n",
       "      <th>atividade_fitness</th>\n",
       "      <th>...</th>\n",
       "      <th>atividade_especiais</th>\n",
       "      <th>atividade_natureza</th>\n",
       "      <th>atividade_outra</th>\n",
       "      <th>natividades</th>\n",
       "      <th>nfrequencias</th>\n",
       "      <th>freqcontratadasemanal</th>\n",
       "      <th>nrenovacoes</th>\n",
       "      <th>nreferencias</th>\n",
       "      <th>classe_desistencia</th>\n",
       "      <th>mes</th>\n",
       "    </tr>\n",
       "  </thead>\n",
       "  <tbody>\n",
       "    <tr>\n",
       "      <td>count</td>\n",
       "      <td>3244.000000</td>\n",
       "      <td>3244.0</td>\n",
       "      <td>3244.000000</td>\n",
       "      <td>3244.000000</td>\n",
       "      <td>3244.000000</td>\n",
       "      <td>3244.000000</td>\n",
       "      <td>3244.000000</td>\n",
       "      <td>3244.000000</td>\n",
       "      <td>3244.0</td>\n",
       "      <td>3244.000000</td>\n",
       "      <td>...</td>\n",
       "      <td>3244.000000</td>\n",
       "      <td>3244.0</td>\n",
       "      <td>3244.0</td>\n",
       "      <td>3244.00000</td>\n",
       "      <td>3244.000000</td>\n",
       "      <td>3243.000000</td>\n",
       "      <td>3244.000000</td>\n",
       "      <td>3244.000000</td>\n",
       "      <td>3244.000000</td>\n",
       "      <td>3244.000000</td>\n",
       "    </tr>\n",
       "    <tr>\n",
       "      <td>mean</td>\n",
       "      <td>14.914612</td>\n",
       "      <td>1.0</td>\n",
       "      <td>49.299938</td>\n",
       "      <td>13.831998</td>\n",
       "      <td>164.979485</td>\n",
       "      <td>0.603150</td>\n",
       "      <td>0.087546</td>\n",
       "      <td>0.002466</td>\n",
       "      <td>1.0</td>\n",
       "      <td>0.024044</td>\n",
       "      <td>...</td>\n",
       "      <td>0.006473</td>\n",
       "      <td>0.0</td>\n",
       "      <td>0.0</td>\n",
       "      <td>1.05148</td>\n",
       "      <td>31.146424</td>\n",
       "      <td>2.080173</td>\n",
       "      <td>1.061961</td>\n",
       "      <td>0.335697</td>\n",
       "      <td>0.567818</td>\n",
       "      <td>7.411221</td>\n",
       "    </tr>\n",
       "    <tr>\n",
       "      <td>std</td>\n",
       "      <td>16.602826</td>\n",
       "      <td>0.0</td>\n",
       "      <td>74.110940</td>\n",
       "      <td>11.215346</td>\n",
       "      <td>158.155138</td>\n",
       "      <td>0.432094</td>\n",
       "      <td>0.282677</td>\n",
       "      <td>0.049606</td>\n",
       "      <td>0.0</td>\n",
       "      <td>0.153211</td>\n",
       "      <td>...</td>\n",
       "      <td>0.080210</td>\n",
       "      <td>0.0</td>\n",
       "      <td>0.0</td>\n",
       "      <td>0.22652</td>\n",
       "      <td>36.278845</td>\n",
       "      <td>1.854281</td>\n",
       "      <td>1.074262</td>\n",
       "      <td>0.574251</td>\n",
       "      <td>0.495456</td>\n",
       "      <td>3.076045</td>\n",
       "    </tr>\n",
       "    <tr>\n",
       "      <td>min</td>\n",
       "      <td>0.000000</td>\n",
       "      <td>1.0</td>\n",
       "      <td>0.000000</td>\n",
       "      <td>0.000000</td>\n",
       "      <td>0.000000</td>\n",
       "      <td>0.010000</td>\n",
       "      <td>0.000000</td>\n",
       "      <td>0.000000</td>\n",
       "      <td>1.0</td>\n",
       "      <td>0.000000</td>\n",
       "      <td>...</td>\n",
       "      <td>0.000000</td>\n",
       "      <td>0.0</td>\n",
       "      <td>0.0</td>\n",
       "      <td>1.00000</td>\n",
       "      <td>1.000000</td>\n",
       "      <td>1.000000</td>\n",
       "      <td>0.000000</td>\n",
       "      <td>0.000000</td>\n",
       "      <td>0.000000</td>\n",
       "      <td>1.000000</td>\n",
       "    </tr>\n",
       "    <tr>\n",
       "      <td>25%</td>\n",
       "      <td>4.000000</td>\n",
       "      <td>1.0</td>\n",
       "      <td>3.000000</td>\n",
       "      <td>5.000000</td>\n",
       "      <td>48.520000</td>\n",
       "      <td>0.300000</td>\n",
       "      <td>0.000000</td>\n",
       "      <td>0.000000</td>\n",
       "      <td>1.0</td>\n",
       "      <td>0.000000</td>\n",
       "      <td>...</td>\n",
       "      <td>0.000000</td>\n",
       "      <td>0.0</td>\n",
       "      <td>0.0</td>\n",
       "      <td>1.00000</td>\n",
       "      <td>7.000000</td>\n",
       "      <td>1.000000</td>\n",
       "      <td>0.000000</td>\n",
       "      <td>0.000000</td>\n",
       "      <td>0.000000</td>\n",
       "      <td>5.000000</td>\n",
       "    </tr>\n",
       "    <tr>\n",
       "      <td>50%</td>\n",
       "      <td>8.000000</td>\n",
       "      <td>1.0</td>\n",
       "      <td>30.000000</td>\n",
       "      <td>10.000000</td>\n",
       "      <td>111.600000</td>\n",
       "      <td>0.510000</td>\n",
       "      <td>0.000000</td>\n",
       "      <td>0.000000</td>\n",
       "      <td>1.0</td>\n",
       "      <td>0.000000</td>\n",
       "      <td>...</td>\n",
       "      <td>0.000000</td>\n",
       "      <td>0.0</td>\n",
       "      <td>0.0</td>\n",
       "      <td>1.00000</td>\n",
       "      <td>18.000000</td>\n",
       "      <td>1.000000</td>\n",
       "      <td>1.000000</td>\n",
       "      <td>0.000000</td>\n",
       "      <td>1.000000</td>\n",
       "      <td>9.000000</td>\n",
       "    </tr>\n",
       "    <tr>\n",
       "      <td>75%</td>\n",
       "      <td>16.000000</td>\n",
       "      <td>1.0</td>\n",
       "      <td>63.000000</td>\n",
       "      <td>21.000000</td>\n",
       "      <td>227.182500</td>\n",
       "      <td>0.810000</td>\n",
       "      <td>0.000000</td>\n",
       "      <td>0.000000</td>\n",
       "      <td>1.0</td>\n",
       "      <td>0.000000</td>\n",
       "      <td>...</td>\n",
       "      <td>0.000000</td>\n",
       "      <td>0.0</td>\n",
       "      <td>0.0</td>\n",
       "      <td>1.00000</td>\n",
       "      <td>43.250000</td>\n",
       "      <td>2.000000</td>\n",
       "      <td>2.000000</td>\n",
       "      <td>1.000000</td>\n",
       "      <td>1.000000</td>\n",
       "      <td>9.000000</td>\n",
       "    </tr>\n",
       "    <tr>\n",
       "      <td>max</td>\n",
       "      <td>86.000000</td>\n",
       "      <td>1.0</td>\n",
       "      <td>925.000000</td>\n",
       "      <td>47.000000</td>\n",
       "      <td>1293.000000</td>\n",
       "      <td>3.730000</td>\n",
       "      <td>1.000000</td>\n",
       "      <td>1.000000</td>\n",
       "      <td>1.0</td>\n",
       "      <td>1.000000</td>\n",
       "      <td>...</td>\n",
       "      <td>1.000000</td>\n",
       "      <td>0.0</td>\n",
       "      <td>0.0</td>\n",
       "      <td>3.00000</td>\n",
       "      <td>323.000000</td>\n",
       "      <td>7.000000</td>\n",
       "      <td>4.000000</td>\n",
       "      <td>4.000000</td>\n",
       "      <td>1.000000</td>\n",
       "      <td>12.000000</td>\n",
       "    </tr>\n",
       "  </tbody>\n",
       "</table>\n",
       "<p>8 rows × 24 columns</p>\n",
       "</div>"
      ],
      "text/plain": [
       "             idade  genero  diassemfrequencia  mesesinscricao  volnegocios  \\\n",
       "count  3244.000000  3244.0        3244.000000     3244.000000  3244.000000   \n",
       "mean     14.914612     1.0          49.299938       13.831998   164.979485   \n",
       "std      16.602826     0.0          74.110940       11.215346   158.155138   \n",
       "min       0.000000     1.0           0.000000        0.000000     0.000000   \n",
       "25%       4.000000     1.0           3.000000        5.000000    48.520000   \n",
       "50%       8.000000     1.0          30.000000       10.000000   111.600000   \n",
       "75%      16.000000     1.0          63.000000       21.000000   227.182500   \n",
       "max      86.000000     1.0         925.000000       47.000000  1293.000000   \n",
       "\n",
       "         freqmedia  utilizacao_livre  atividade_atletismo  \\\n",
       "count  3244.000000       3244.000000          3244.000000   \n",
       "mean      0.603150          0.087546             0.002466   \n",
       "std       0.432094          0.282677             0.049606   \n",
       "min       0.010000          0.000000             0.000000   \n",
       "25%       0.300000          0.000000             0.000000   \n",
       "50%       0.510000          0.000000             0.000000   \n",
       "75%       0.810000          0.000000             0.000000   \n",
       "max       3.730000          1.000000             1.000000   \n",
       "\n",
       "       atividade_aquaticas  atividade_fitness  ...  atividade_especiais  \\\n",
       "count               3244.0        3244.000000  ...          3244.000000   \n",
       "mean                   1.0           0.024044  ...             0.006473   \n",
       "std                    0.0           0.153211  ...             0.080210   \n",
       "min                    1.0           0.000000  ...             0.000000   \n",
       "25%                    1.0           0.000000  ...             0.000000   \n",
       "50%                    1.0           0.000000  ...             0.000000   \n",
       "75%                    1.0           0.000000  ...             0.000000   \n",
       "max                    1.0           1.000000  ...             1.000000   \n",
       "\n",
       "       atividade_natureza  atividade_outra  natividades  nfrequencias  \\\n",
       "count              3244.0           3244.0   3244.00000   3244.000000   \n",
       "mean                  0.0              0.0      1.05148     31.146424   \n",
       "std                   0.0              0.0      0.22652     36.278845   \n",
       "min                   0.0              0.0      1.00000      1.000000   \n",
       "25%                   0.0              0.0      1.00000      7.000000   \n",
       "50%                   0.0              0.0      1.00000     18.000000   \n",
       "75%                   0.0              0.0      1.00000     43.250000   \n",
       "max                   0.0              0.0      3.00000    323.000000   \n",
       "\n",
       "       freqcontratadasemanal  nrenovacoes  nreferencias  classe_desistencia  \\\n",
       "count            3243.000000  3244.000000   3244.000000         3244.000000   \n",
       "mean                2.080173     1.061961      0.335697            0.567818   \n",
       "std                 1.854281     1.074262      0.574251            0.495456   \n",
       "min                 1.000000     0.000000      0.000000            0.000000   \n",
       "25%                 1.000000     0.000000      0.000000            0.000000   \n",
       "50%                 1.000000     1.000000      0.000000            1.000000   \n",
       "75%                 2.000000     2.000000      1.000000            1.000000   \n",
       "max                 7.000000     4.000000      4.000000            1.000000   \n",
       "\n",
       "               mes  \n",
       "count  3244.000000  \n",
       "mean      7.411221  \n",
       "std       3.076045  \n",
       "min       1.000000  \n",
       "25%       5.000000  \n",
       "50%       9.000000  \n",
       "75%       9.000000  \n",
       "max      12.000000  \n",
       "\n",
       "[8 rows x 24 columns]"
      ]
     },
     "execution_count": 14,
     "metadata": {},
     "output_type": "execute_result"
    }
   ],
   "source": [
    "dt.loc[dt.genero==1].describe()"
   ]
  },
  {
   "cell_type": "markdown",
   "metadata": {},
   "source": [
    "## Descritivas"
   ]
  },
  {
   "cell_type": "markdown",
   "metadata": {},
   "source": [
    "A média do valor mensal"
   ]
  },
  {
   "cell_type": "code",
   "execution_count": 21,
   "metadata": {},
   "outputs": [
    {
     "data": {
      "text/plain": [
       "6747"
      ]
     },
     "execution_count": 21,
     "metadata": {},
     "output_type": "execute_result"
    }
   ],
   "source": [
    "dt.shape[0]"
   ]
  },
  {
   "cell_type": "code",
   "execution_count": 15,
   "metadata": {},
   "outputs": [
    {
     "data": {
      "text/plain": [
       "1091506.1099999999"
      ]
     },
     "execution_count": 15,
     "metadata": {},
     "output_type": "execute_result"
    }
   ],
   "source": [
    "dt.volnegocios.sum()"
   ]
  },
  {
   "cell_type": "code",
   "execution_count": 22,
   "metadata": {},
   "outputs": [
    {
     "data": {
      "text/plain": [
       "13.481375796650362"
      ]
     },
     "execution_count": 22,
     "metadata": {},
     "output_type": "execute_result"
    }
   ],
   "source": [
    "(dt.volnegocios.sum()/dt.shape[0])/12"
   ]
  },
  {
   "cell_type": "code",
   "execution_count": 24,
   "metadata": {},
   "outputs": [
    {
     "data": {
      "text/plain": [
       "4.060335457734301"
      ]
     },
     "execution_count": 24,
     "metadata": {},
     "output_type": "execute_result"
    }
   ],
   "source": [
    "(dt.diassemfrequencia.sum()/dt.shape[0])/12"
   ]
  },
  {
   "cell_type": "code",
   "execution_count": 27,
   "metadata": {},
   "outputs": [
    {
     "data": {
      "text/plain": [
       "2.4855738352848182"
      ]
     },
     "execution_count": 27,
     "metadata": {},
     "output_type": "execute_result"
    }
   ],
   "source": [
    "dt.nfrequencias.sum()/dt.shape[0]/12"
   ]
  },
  {
   "cell_type": "markdown",
   "metadata": {},
   "source": [
    "## Survival Analysis"
   ]
  },
  {
   "cell_type": "code",
   "execution_count": 28,
   "metadata": {},
   "outputs": [],
   "source": [
    "from lifelines import KaplanMeierFitter\n",
    "kmf = KaplanMeierFitter()\n",
    "T = dt['mesesinscricao']\n",
    "C = dt['classe_desistencia']"
   ]
  },
  {
   "cell_type": "code",
   "execution_count": 29,
   "metadata": {},
   "outputs": [
    {
     "data": {
      "text/plain": [
       "<lifelines.KaplanMeierFitter: fitted with 6747 observations, 2850 censored>"
      ]
     },
     "execution_count": 29,
     "metadata": {},
     "output_type": "execute_result"
    }
   ],
   "source": [
    "kmf.fit(T,C,label=\"Swimmers\")"
   ]
  },
  {
   "cell_type": "code",
   "execution_count": 30,
   "metadata": {},
   "outputs": [
    {
     "data": {
      "text/html": [
       "<div>\n",
       "<style scoped>\n",
       "    .dataframe tbody tr th:only-of-type {\n",
       "        vertical-align: middle;\n",
       "    }\n",
       "\n",
       "    .dataframe tbody tr th {\n",
       "        vertical-align: top;\n",
       "    }\n",
       "\n",
       "    .dataframe thead th {\n",
       "        text-align: right;\n",
       "    }\n",
       "</style>\n",
       "<table border=\"1\" class=\"dataframe\">\n",
       "  <thead>\n",
       "    <tr style=\"text-align: right;\">\n",
       "      <th></th>\n",
       "      <th>event_at</th>\n",
       "      <th>removed</th>\n",
       "      <th>observed</th>\n",
       "      <th>censored</th>\n",
       "      <th>entrance</th>\n",
       "      <th>at_risk</th>\n",
       "    </tr>\n",
       "  </thead>\n",
       "  <tbody>\n",
       "    <tr>\n",
       "      <td>0</td>\n",
       "      <td>0</td>\n",
       "      <td>5</td>\n",
       "      <td>5</td>\n",
       "      <td>0</td>\n",
       "      <td>6747</td>\n",
       "      <td>6747</td>\n",
       "    </tr>\n",
       "    <tr>\n",
       "      <td>1</td>\n",
       "      <td>1</td>\n",
       "      <td>127</td>\n",
       "      <td>52</td>\n",
       "      <td>75</td>\n",
       "      <td>0</td>\n",
       "      <td>6742</td>\n",
       "    </tr>\n",
       "    <tr>\n",
       "      <td>2</td>\n",
       "      <td>2</td>\n",
       "      <td>758</td>\n",
       "      <td>241</td>\n",
       "      <td>517</td>\n",
       "      <td>0</td>\n",
       "      <td>6615</td>\n",
       "    </tr>\n",
       "    <tr>\n",
       "      <td>3</td>\n",
       "      <td>3</td>\n",
       "      <td>439</td>\n",
       "      <td>433</td>\n",
       "      <td>6</td>\n",
       "      <td>0</td>\n",
       "      <td>5857</td>\n",
       "    </tr>\n",
       "    <tr>\n",
       "      <td>4</td>\n",
       "      <td>4</td>\n",
       "      <td>372</td>\n",
       "      <td>340</td>\n",
       "      <td>32</td>\n",
       "      <td>0</td>\n",
       "      <td>5418</td>\n",
       "    </tr>\n",
       "    <tr>\n",
       "      <td>5</td>\n",
       "      <td>5</td>\n",
       "      <td>346</td>\n",
       "      <td>299</td>\n",
       "      <td>47</td>\n",
       "      <td>0</td>\n",
       "      <td>5046</td>\n",
       "    </tr>\n",
       "    <tr>\n",
       "      <td>6</td>\n",
       "      <td>6</td>\n",
       "      <td>319</td>\n",
       "      <td>274</td>\n",
       "      <td>45</td>\n",
       "      <td>0</td>\n",
       "      <td>4700</td>\n",
       "    </tr>\n",
       "    <tr>\n",
       "      <td>7</td>\n",
       "      <td>7</td>\n",
       "      <td>406</td>\n",
       "      <td>356</td>\n",
       "      <td>50</td>\n",
       "      <td>0</td>\n",
       "      <td>4381</td>\n",
       "    </tr>\n",
       "    <tr>\n",
       "      <td>8</td>\n",
       "      <td>8</td>\n",
       "      <td>268</td>\n",
       "      <td>198</td>\n",
       "      <td>70</td>\n",
       "      <td>0</td>\n",
       "      <td>3975</td>\n",
       "    </tr>\n",
       "    <tr>\n",
       "      <td>9</td>\n",
       "      <td>9</td>\n",
       "      <td>240</td>\n",
       "      <td>183</td>\n",
       "      <td>57</td>\n",
       "      <td>0</td>\n",
       "      <td>3707</td>\n",
       "    </tr>\n",
       "    <tr>\n",
       "      <td>10</td>\n",
       "      <td>10</td>\n",
       "      <td>294</td>\n",
       "      <td>230</td>\n",
       "      <td>64</td>\n",
       "      <td>0</td>\n",
       "      <td>3467</td>\n",
       "    </tr>\n",
       "    <tr>\n",
       "      <td>11</td>\n",
       "      <td>11</td>\n",
       "      <td>206</td>\n",
       "      <td>149</td>\n",
       "      <td>57</td>\n",
       "      <td>0</td>\n",
       "      <td>3173</td>\n",
       "    </tr>\n",
       "    <tr>\n",
       "      <td>12</td>\n",
       "      <td>12</td>\n",
       "      <td>103</td>\n",
       "      <td>71</td>\n",
       "      <td>32</td>\n",
       "      <td>0</td>\n",
       "      <td>2967</td>\n",
       "    </tr>\n",
       "    <tr>\n",
       "      <td>13</td>\n",
       "      <td>13</td>\n",
       "      <td>198</td>\n",
       "      <td>90</td>\n",
       "      <td>108</td>\n",
       "      <td>0</td>\n",
       "      <td>2864</td>\n",
       "    </tr>\n",
       "    <tr>\n",
       "      <td>14</td>\n",
       "      <td>14</td>\n",
       "      <td>411</td>\n",
       "      <td>75</td>\n",
       "      <td>336</td>\n",
       "      <td>0</td>\n",
       "      <td>2666</td>\n",
       "    </tr>\n",
       "    <tr>\n",
       "      <td>15</td>\n",
       "      <td>15</td>\n",
       "      <td>110</td>\n",
       "      <td>102</td>\n",
       "      <td>8</td>\n",
       "      <td>0</td>\n",
       "      <td>2255</td>\n",
       "    </tr>\n",
       "    <tr>\n",
       "      <td>16</td>\n",
       "      <td>16</td>\n",
       "      <td>113</td>\n",
       "      <td>64</td>\n",
       "      <td>49</td>\n",
       "      <td>0</td>\n",
       "      <td>2145</td>\n",
       "    </tr>\n",
       "    <tr>\n",
       "      <td>17</td>\n",
       "      <td>17</td>\n",
       "      <td>91</td>\n",
       "      <td>57</td>\n",
       "      <td>34</td>\n",
       "      <td>0</td>\n",
       "      <td>2032</td>\n",
       "    </tr>\n",
       "    <tr>\n",
       "      <td>18</td>\n",
       "      <td>18</td>\n",
       "      <td>101</td>\n",
       "      <td>71</td>\n",
       "      <td>30</td>\n",
       "      <td>0</td>\n",
       "      <td>1941</td>\n",
       "    </tr>\n",
       "    <tr>\n",
       "      <td>19</td>\n",
       "      <td>19</td>\n",
       "      <td>93</td>\n",
       "      <td>52</td>\n",
       "      <td>41</td>\n",
       "      <td>0</td>\n",
       "      <td>1840</td>\n",
       "    </tr>\n",
       "    <tr>\n",
       "      <td>20</td>\n",
       "      <td>20</td>\n",
       "      <td>87</td>\n",
       "      <td>43</td>\n",
       "      <td>44</td>\n",
       "      <td>0</td>\n",
       "      <td>1747</td>\n",
       "    </tr>\n",
       "    <tr>\n",
       "      <td>21</td>\n",
       "      <td>21</td>\n",
       "      <td>117</td>\n",
       "      <td>60</td>\n",
       "      <td>57</td>\n",
       "      <td>0</td>\n",
       "      <td>1660</td>\n",
       "    </tr>\n",
       "    <tr>\n",
       "      <td>22</td>\n",
       "      <td>22</td>\n",
       "      <td>112</td>\n",
       "      <td>65</td>\n",
       "      <td>47</td>\n",
       "      <td>0</td>\n",
       "      <td>1543</td>\n",
       "    </tr>\n",
       "    <tr>\n",
       "      <td>23</td>\n",
       "      <td>23</td>\n",
       "      <td>109</td>\n",
       "      <td>52</td>\n",
       "      <td>57</td>\n",
       "      <td>0</td>\n",
       "      <td>1431</td>\n",
       "    </tr>\n",
       "    <tr>\n",
       "      <td>24</td>\n",
       "      <td>24</td>\n",
       "      <td>56</td>\n",
       "      <td>24</td>\n",
       "      <td>32</td>\n",
       "      <td>0</td>\n",
       "      <td>1322</td>\n",
       "    </tr>\n",
       "    <tr>\n",
       "      <td>25</td>\n",
       "      <td>25</td>\n",
       "      <td>114</td>\n",
       "      <td>33</td>\n",
       "      <td>81</td>\n",
       "      <td>0</td>\n",
       "      <td>1266</td>\n",
       "    </tr>\n",
       "    <tr>\n",
       "      <td>26</td>\n",
       "      <td>26</td>\n",
       "      <td>251</td>\n",
       "      <td>34</td>\n",
       "      <td>217</td>\n",
       "      <td>0</td>\n",
       "      <td>1152</td>\n",
       "    </tr>\n",
       "    <tr>\n",
       "      <td>27</td>\n",
       "      <td>27</td>\n",
       "      <td>51</td>\n",
       "      <td>40</td>\n",
       "      <td>11</td>\n",
       "      <td>0</td>\n",
       "      <td>901</td>\n",
       "    </tr>\n",
       "    <tr>\n",
       "      <td>28</td>\n",
       "      <td>28</td>\n",
       "      <td>58</td>\n",
       "      <td>27</td>\n",
       "      <td>31</td>\n",
       "      <td>0</td>\n",
       "      <td>850</td>\n",
       "    </tr>\n",
       "    <tr>\n",
       "      <td>29</td>\n",
       "      <td>29</td>\n",
       "      <td>44</td>\n",
       "      <td>17</td>\n",
       "      <td>27</td>\n",
       "      <td>0</td>\n",
       "      <td>792</td>\n",
       "    </tr>\n",
       "    <tr>\n",
       "      <td>30</td>\n",
       "      <td>30</td>\n",
       "      <td>60</td>\n",
       "      <td>21</td>\n",
       "      <td>39</td>\n",
       "      <td>0</td>\n",
       "      <td>748</td>\n",
       "    </tr>\n",
       "    <tr>\n",
       "      <td>31</td>\n",
       "      <td>31</td>\n",
       "      <td>50</td>\n",
       "      <td>21</td>\n",
       "      <td>29</td>\n",
       "      <td>0</td>\n",
       "      <td>688</td>\n",
       "    </tr>\n",
       "    <tr>\n",
       "      <td>32</td>\n",
       "      <td>32</td>\n",
       "      <td>62</td>\n",
       "      <td>19</td>\n",
       "      <td>43</td>\n",
       "      <td>0</td>\n",
       "      <td>638</td>\n",
       "    </tr>\n",
       "    <tr>\n",
       "      <td>33</td>\n",
       "      <td>33</td>\n",
       "      <td>54</td>\n",
       "      <td>23</td>\n",
       "      <td>31</td>\n",
       "      <td>0</td>\n",
       "      <td>576</td>\n",
       "    </tr>\n",
       "    <tr>\n",
       "      <td>34</td>\n",
       "      <td>34</td>\n",
       "      <td>63</td>\n",
       "      <td>21</td>\n",
       "      <td>42</td>\n",
       "      <td>0</td>\n",
       "      <td>522</td>\n",
       "    </tr>\n",
       "    <tr>\n",
       "      <td>35</td>\n",
       "      <td>35</td>\n",
       "      <td>69</td>\n",
       "      <td>27</td>\n",
       "      <td>42</td>\n",
       "      <td>0</td>\n",
       "      <td>459</td>\n",
       "    </tr>\n",
       "    <tr>\n",
       "      <td>36</td>\n",
       "      <td>36</td>\n",
       "      <td>32</td>\n",
       "      <td>6</td>\n",
       "      <td>26</td>\n",
       "      <td>0</td>\n",
       "      <td>390</td>\n",
       "    </tr>\n",
       "    <tr>\n",
       "      <td>37</td>\n",
       "      <td>37</td>\n",
       "      <td>55</td>\n",
       "      <td>9</td>\n",
       "      <td>46</td>\n",
       "      <td>0</td>\n",
       "      <td>358</td>\n",
       "    </tr>\n",
       "    <tr>\n",
       "      <td>38</td>\n",
       "      <td>38</td>\n",
       "      <td>197</td>\n",
       "      <td>5</td>\n",
       "      <td>192</td>\n",
       "      <td>0</td>\n",
       "      <td>303</td>\n",
       "    </tr>\n",
       "    <tr>\n",
       "      <td>39</td>\n",
       "      <td>39</td>\n",
       "      <td>15</td>\n",
       "      <td>7</td>\n",
       "      <td>8</td>\n",
       "      <td>0</td>\n",
       "      <td>106</td>\n",
       "    </tr>\n",
       "    <tr>\n",
       "      <td>40</td>\n",
       "      <td>40</td>\n",
       "      <td>10</td>\n",
       "      <td>1</td>\n",
       "      <td>9</td>\n",
       "      <td>0</td>\n",
       "      <td>91</td>\n",
       "    </tr>\n",
       "    <tr>\n",
       "      <td>41</td>\n",
       "      <td>41</td>\n",
       "      <td>9</td>\n",
       "      <td>0</td>\n",
       "      <td>9</td>\n",
       "      <td>0</td>\n",
       "      <td>81</td>\n",
       "    </tr>\n",
       "    <tr>\n",
       "      <td>42</td>\n",
       "      <td>42</td>\n",
       "      <td>6</td>\n",
       "      <td>0</td>\n",
       "      <td>6</td>\n",
       "      <td>0</td>\n",
       "      <td>72</td>\n",
       "    </tr>\n",
       "    <tr>\n",
       "      <td>43</td>\n",
       "      <td>43</td>\n",
       "      <td>6</td>\n",
       "      <td>0</td>\n",
       "      <td>6</td>\n",
       "      <td>0</td>\n",
       "      <td>66</td>\n",
       "    </tr>\n",
       "    <tr>\n",
       "      <td>44</td>\n",
       "      <td>44</td>\n",
       "      <td>1</td>\n",
       "      <td>0</td>\n",
       "      <td>1</td>\n",
       "      <td>0</td>\n",
       "      <td>60</td>\n",
       "    </tr>\n",
       "    <tr>\n",
       "      <td>45</td>\n",
       "      <td>45</td>\n",
       "      <td>11</td>\n",
       "      <td>0</td>\n",
       "      <td>11</td>\n",
       "      <td>0</td>\n",
       "      <td>59</td>\n",
       "    </tr>\n",
       "    <tr>\n",
       "      <td>46</td>\n",
       "      <td>46</td>\n",
       "      <td>13</td>\n",
       "      <td>0</td>\n",
       "      <td>13</td>\n",
       "      <td>0</td>\n",
       "      <td>48</td>\n",
       "    </tr>\n",
       "    <tr>\n",
       "      <td>47</td>\n",
       "      <td>47</td>\n",
       "      <td>35</td>\n",
       "      <td>0</td>\n",
       "      <td>35</td>\n",
       "      <td>0</td>\n",
       "      <td>35</td>\n",
       "    </tr>\n",
       "  </tbody>\n",
       "</table>\n",
       "</div>"
      ],
      "text/plain": [
       "    event_at  removed  observed  censored  entrance  at_risk\n",
       "0          0        5         5         0      6747     6747\n",
       "1          1      127        52        75         0     6742\n",
       "2          2      758       241       517         0     6615\n",
       "3          3      439       433         6         0     5857\n",
       "4          4      372       340        32         0     5418\n",
       "5          5      346       299        47         0     5046\n",
       "6          6      319       274        45         0     4700\n",
       "7          7      406       356        50         0     4381\n",
       "8          8      268       198        70         0     3975\n",
       "9          9      240       183        57         0     3707\n",
       "10        10      294       230        64         0     3467\n",
       "11        11      206       149        57         0     3173\n",
       "12        12      103        71        32         0     2967\n",
       "13        13      198        90       108         0     2864\n",
       "14        14      411        75       336         0     2666\n",
       "15        15      110       102         8         0     2255\n",
       "16        16      113        64        49         0     2145\n",
       "17        17       91        57        34         0     2032\n",
       "18        18      101        71        30         0     1941\n",
       "19        19       93        52        41         0     1840\n",
       "20        20       87        43        44         0     1747\n",
       "21        21      117        60        57         0     1660\n",
       "22        22      112        65        47         0     1543\n",
       "23        23      109        52        57         0     1431\n",
       "24        24       56        24        32         0     1322\n",
       "25        25      114        33        81         0     1266\n",
       "26        26      251        34       217         0     1152\n",
       "27        27       51        40        11         0      901\n",
       "28        28       58        27        31         0      850\n",
       "29        29       44        17        27         0      792\n",
       "30        30       60        21        39         0      748\n",
       "31        31       50        21        29         0      688\n",
       "32        32       62        19        43         0      638\n",
       "33        33       54        23        31         0      576\n",
       "34        34       63        21        42         0      522\n",
       "35        35       69        27        42         0      459\n",
       "36        36       32         6        26         0      390\n",
       "37        37       55         9        46         0      358\n",
       "38        38      197         5       192         0      303\n",
       "39        39       15         7         8         0      106\n",
       "40        40       10         1         9         0       91\n",
       "41        41        9         0         9         0       81\n",
       "42        42        6         0         6         0       72\n",
       "43        43        6         0         6         0       66\n",
       "44        44        1         0         1         0       60\n",
       "45        45       11         0        11         0       59\n",
       "46        46       13         0        13         0       48\n",
       "47        47       35         0        35         0       35"
      ]
     },
     "execution_count": 30,
     "metadata": {},
     "output_type": "execute_result"
    }
   ],
   "source": [
    "kmf.event_table.reset_index()"
   ]
  },
  {
   "cell_type": "code",
   "execution_count": 31,
   "metadata": {},
   "outputs": [
    {
     "data": {
      "text/html": [
       "<div>\n",
       "<style scoped>\n",
       "    .dataframe tbody tr th:only-of-type {\n",
       "        vertical-align: middle;\n",
       "    }\n",
       "\n",
       "    .dataframe tbody tr th {\n",
       "        vertical-align: top;\n",
       "    }\n",
       "\n",
       "    .dataframe thead th {\n",
       "        text-align: right;\n",
       "    }\n",
       "</style>\n",
       "<table border=\"1\" class=\"dataframe\">\n",
       "  <thead>\n",
       "    <tr style=\"text-align: right;\">\n",
       "      <th></th>\n",
       "      <th>Swimmers - Conditional time remaining to event</th>\n",
       "    </tr>\n",
       "    <tr>\n",
       "      <th>timeline</th>\n",
       "      <th></th>\n",
       "    </tr>\n",
       "  </thead>\n",
       "  <tbody>\n",
       "    <tr>\n",
       "      <td>0.0</td>\n",
       "      <td>14.0</td>\n",
       "    </tr>\n",
       "    <tr>\n",
       "      <td>1.0</td>\n",
       "      <td>14.0</td>\n",
       "    </tr>\n",
       "    <tr>\n",
       "      <td>2.0</td>\n",
       "      <td>13.0</td>\n",
       "    </tr>\n",
       "    <tr>\n",
       "      <td>3.0</td>\n",
       "      <td>15.0</td>\n",
       "    </tr>\n",
       "    <tr>\n",
       "      <td>4.0</td>\n",
       "      <td>16.0</td>\n",
       "    </tr>\n",
       "    <tr>\n",
       "      <td>5.0</td>\n",
       "      <td>17.0</td>\n",
       "    </tr>\n",
       "    <tr>\n",
       "      <td>6.0</td>\n",
       "      <td>17.0</td>\n",
       "    </tr>\n",
       "    <tr>\n",
       "      <td>7.0</td>\n",
       "      <td>20.0</td>\n",
       "    </tr>\n",
       "    <tr>\n",
       "      <td>8.0</td>\n",
       "      <td>20.0</td>\n",
       "    </tr>\n",
       "    <tr>\n",
       "      <td>9.0</td>\n",
       "      <td>21.0</td>\n",
       "    </tr>\n",
       "    <tr>\n",
       "      <td>10.0</td>\n",
       "      <td>22.0</td>\n",
       "    </tr>\n",
       "    <tr>\n",
       "      <td>11.0</td>\n",
       "      <td>22.0</td>\n",
       "    </tr>\n",
       "    <tr>\n",
       "      <td>12.0</td>\n",
       "      <td>22.0</td>\n",
       "    </tr>\n",
       "    <tr>\n",
       "      <td>13.0</td>\n",
       "      <td>22.0</td>\n",
       "    </tr>\n",
       "    <tr>\n",
       "      <td>14.0</td>\n",
       "      <td>21.0</td>\n",
       "    </tr>\n",
       "    <tr>\n",
       "      <td>15.0</td>\n",
       "      <td>22.0</td>\n",
       "    </tr>\n",
       "    <tr>\n",
       "      <td>16.0</td>\n",
       "      <td>22.0</td>\n",
       "    </tr>\n",
       "    <tr>\n",
       "      <td>17.0</td>\n",
       "      <td>22.0</td>\n",
       "    </tr>\n",
       "    <tr>\n",
       "      <td>18.0</td>\n",
       "      <td>21.0</td>\n",
       "    </tr>\n",
       "    <tr>\n",
       "      <td>19.0</td>\n",
       "      <td>inf</td>\n",
       "    </tr>\n",
       "    <tr>\n",
       "      <td>20.0</td>\n",
       "      <td>inf</td>\n",
       "    </tr>\n",
       "    <tr>\n",
       "      <td>21.0</td>\n",
       "      <td>inf</td>\n",
       "    </tr>\n",
       "    <tr>\n",
       "      <td>22.0</td>\n",
       "      <td>inf</td>\n",
       "    </tr>\n",
       "    <tr>\n",
       "      <td>23.0</td>\n",
       "      <td>inf</td>\n",
       "    </tr>\n",
       "    <tr>\n",
       "      <td>24.0</td>\n",
       "      <td>inf</td>\n",
       "    </tr>\n",
       "    <tr>\n",
       "      <td>25.0</td>\n",
       "      <td>inf</td>\n",
       "    </tr>\n",
       "    <tr>\n",
       "      <td>26.0</td>\n",
       "      <td>inf</td>\n",
       "    </tr>\n",
       "    <tr>\n",
       "      <td>27.0</td>\n",
       "      <td>inf</td>\n",
       "    </tr>\n",
       "    <tr>\n",
       "      <td>28.0</td>\n",
       "      <td>inf</td>\n",
       "    </tr>\n",
       "    <tr>\n",
       "      <td>29.0</td>\n",
       "      <td>inf</td>\n",
       "    </tr>\n",
       "    <tr>\n",
       "      <td>30.0</td>\n",
       "      <td>inf</td>\n",
       "    </tr>\n",
       "    <tr>\n",
       "      <td>31.0</td>\n",
       "      <td>inf</td>\n",
       "    </tr>\n",
       "    <tr>\n",
       "      <td>32.0</td>\n",
       "      <td>inf</td>\n",
       "    </tr>\n",
       "    <tr>\n",
       "      <td>33.0</td>\n",
       "      <td>inf</td>\n",
       "    </tr>\n",
       "    <tr>\n",
       "      <td>34.0</td>\n",
       "      <td>inf</td>\n",
       "    </tr>\n",
       "    <tr>\n",
       "      <td>35.0</td>\n",
       "      <td>inf</td>\n",
       "    </tr>\n",
       "    <tr>\n",
       "      <td>36.0</td>\n",
       "      <td>inf</td>\n",
       "    </tr>\n",
       "    <tr>\n",
       "      <td>37.0</td>\n",
       "      <td>inf</td>\n",
       "    </tr>\n",
       "    <tr>\n",
       "      <td>38.0</td>\n",
       "      <td>inf</td>\n",
       "    </tr>\n",
       "    <tr>\n",
       "      <td>39.0</td>\n",
       "      <td>inf</td>\n",
       "    </tr>\n",
       "    <tr>\n",
       "      <td>40.0</td>\n",
       "      <td>inf</td>\n",
       "    </tr>\n",
       "    <tr>\n",
       "      <td>41.0</td>\n",
       "      <td>inf</td>\n",
       "    </tr>\n",
       "    <tr>\n",
       "      <td>42.0</td>\n",
       "      <td>inf</td>\n",
       "    </tr>\n",
       "    <tr>\n",
       "      <td>43.0</td>\n",
       "      <td>inf</td>\n",
       "    </tr>\n",
       "    <tr>\n",
       "      <td>44.0</td>\n",
       "      <td>inf</td>\n",
       "    </tr>\n",
       "    <tr>\n",
       "      <td>45.0</td>\n",
       "      <td>inf</td>\n",
       "    </tr>\n",
       "    <tr>\n",
       "      <td>46.0</td>\n",
       "      <td>inf</td>\n",
       "    </tr>\n",
       "    <tr>\n",
       "      <td>47.0</td>\n",
       "      <td>inf</td>\n",
       "    </tr>\n",
       "  </tbody>\n",
       "</table>\n",
       "</div>"
      ],
      "text/plain": [
       "          Swimmers - Conditional time remaining to event\n",
       "timeline                                                \n",
       "0.0                                                 14.0\n",
       "1.0                                                 14.0\n",
       "2.0                                                 13.0\n",
       "3.0                                                 15.0\n",
       "4.0                                                 16.0\n",
       "5.0                                                 17.0\n",
       "6.0                                                 17.0\n",
       "7.0                                                 20.0\n",
       "8.0                                                 20.0\n",
       "9.0                                                 21.0\n",
       "10.0                                                22.0\n",
       "11.0                                                22.0\n",
       "12.0                                                22.0\n",
       "13.0                                                22.0\n",
       "14.0                                                21.0\n",
       "15.0                                                22.0\n",
       "16.0                                                22.0\n",
       "17.0                                                22.0\n",
       "18.0                                                21.0\n",
       "19.0                                                 inf\n",
       "20.0                                                 inf\n",
       "21.0                                                 inf\n",
       "22.0                                                 inf\n",
       "23.0                                                 inf\n",
       "24.0                                                 inf\n",
       "25.0                                                 inf\n",
       "26.0                                                 inf\n",
       "27.0                                                 inf\n",
       "28.0                                                 inf\n",
       "29.0                                                 inf\n",
       "30.0                                                 inf\n",
       "31.0                                                 inf\n",
       "32.0                                                 inf\n",
       "33.0                                                 inf\n",
       "34.0                                                 inf\n",
       "35.0                                                 inf\n",
       "36.0                                                 inf\n",
       "37.0                                                 inf\n",
       "38.0                                                 inf\n",
       "39.0                                                 inf\n",
       "40.0                                                 inf\n",
       "41.0                                                 inf\n",
       "42.0                                                 inf\n",
       "43.0                                                 inf\n",
       "44.0                                                 inf\n",
       "45.0                                                 inf\n",
       "46.0                                                 inf\n",
       "47.0                                                 inf"
      ]
     },
     "execution_count": 31,
     "metadata": {},
     "output_type": "execute_result"
    }
   ],
   "source": [
    "kmf.conditional_time_to_event_"
   ]
  },
  {
   "cell_type": "code",
   "execution_count": 32,
   "metadata": {},
   "outputs": [
    {
     "data": {
      "text/html": [
       "<div>\n",
       "<style scoped>\n",
       "    .dataframe tbody tr th:only-of-type {\n",
       "        vertical-align: middle;\n",
       "    }\n",
       "\n",
       "    .dataframe tbody tr th {\n",
       "        vertical-align: top;\n",
       "    }\n",
       "\n",
       "    .dataframe thead th {\n",
       "        text-align: right;\n",
       "    }\n",
       "</style>\n",
       "<table border=\"1\" class=\"dataframe\">\n",
       "  <thead>\n",
       "    <tr style=\"text-align: right;\">\n",
       "      <th></th>\n",
       "      <th>Swimmers</th>\n",
       "    </tr>\n",
       "    <tr>\n",
       "      <th>timeline</th>\n",
       "      <th></th>\n",
       "    </tr>\n",
       "  </thead>\n",
       "  <tbody>\n",
       "    <tr>\n",
       "      <td>0.0</td>\n",
       "      <td>1.00</td>\n",
       "    </tr>\n",
       "    <tr>\n",
       "      <td>1.0</td>\n",
       "      <td>0.99</td>\n",
       "    </tr>\n",
       "    <tr>\n",
       "      <td>2.0</td>\n",
       "      <td>0.96</td>\n",
       "    </tr>\n",
       "    <tr>\n",
       "      <td>3.0</td>\n",
       "      <td>0.88</td>\n",
       "    </tr>\n",
       "    <tr>\n",
       "      <td>4.0</td>\n",
       "      <td>0.83</td>\n",
       "    </tr>\n",
       "    <tr>\n",
       "      <td>5.0</td>\n",
       "      <td>0.78</td>\n",
       "    </tr>\n",
       "    <tr>\n",
       "      <td>6.0</td>\n",
       "      <td>0.73</td>\n",
       "    </tr>\n",
       "    <tr>\n",
       "      <td>7.0</td>\n",
       "      <td>0.67</td>\n",
       "    </tr>\n",
       "    <tr>\n",
       "      <td>8.0</td>\n",
       "      <td>0.64</td>\n",
       "    </tr>\n",
       "    <tr>\n",
       "      <td>9.0</td>\n",
       "      <td>0.61</td>\n",
       "    </tr>\n",
       "    <tr>\n",
       "      <td>10.0</td>\n",
       "      <td>0.57</td>\n",
       "    </tr>\n",
       "    <tr>\n",
       "      <td>11.0</td>\n",
       "      <td>0.54</td>\n",
       "    </tr>\n",
       "    <tr>\n",
       "      <td>12.0</td>\n",
       "      <td>0.53</td>\n",
       "    </tr>\n",
       "    <tr>\n",
       "      <td>13.0</td>\n",
       "      <td>0.51</td>\n",
       "    </tr>\n",
       "    <tr>\n",
       "      <td>14.0</td>\n",
       "      <td>0.50</td>\n",
       "    </tr>\n",
       "    <tr>\n",
       "      <td>15.0</td>\n",
       "      <td>0.48</td>\n",
       "    </tr>\n",
       "    <tr>\n",
       "      <td>16.0</td>\n",
       "      <td>0.46</td>\n",
       "    </tr>\n",
       "    <tr>\n",
       "      <td>17.0</td>\n",
       "      <td>0.45</td>\n",
       "    </tr>\n",
       "    <tr>\n",
       "      <td>18.0</td>\n",
       "      <td>0.43</td>\n",
       "    </tr>\n",
       "    <tr>\n",
       "      <td>19.0</td>\n",
       "      <td>0.42</td>\n",
       "    </tr>\n",
       "    <tr>\n",
       "      <td>20.0</td>\n",
       "      <td>0.41</td>\n",
       "    </tr>\n",
       "    <tr>\n",
       "      <td>21.0</td>\n",
       "      <td>0.39</td>\n",
       "    </tr>\n",
       "    <tr>\n",
       "      <td>22.0</td>\n",
       "      <td>0.38</td>\n",
       "    </tr>\n",
       "    <tr>\n",
       "      <td>23.0</td>\n",
       "      <td>0.36</td>\n",
       "    </tr>\n",
       "    <tr>\n",
       "      <td>24.0</td>\n",
       "      <td>0.36</td>\n",
       "    </tr>\n",
       "    <tr>\n",
       "      <td>25.0</td>\n",
       "      <td>0.35</td>\n",
       "    </tr>\n",
       "    <tr>\n",
       "      <td>26.0</td>\n",
       "      <td>0.34</td>\n",
       "    </tr>\n",
       "    <tr>\n",
       "      <td>27.0</td>\n",
       "      <td>0.32</td>\n",
       "    </tr>\n",
       "    <tr>\n",
       "      <td>28.0</td>\n",
       "      <td>0.31</td>\n",
       "    </tr>\n",
       "    <tr>\n",
       "      <td>29.0</td>\n",
       "      <td>0.31</td>\n",
       "    </tr>\n",
       "    <tr>\n",
       "      <td>30.0</td>\n",
       "      <td>0.30</td>\n",
       "    </tr>\n",
       "    <tr>\n",
       "      <td>31.0</td>\n",
       "      <td>0.29</td>\n",
       "    </tr>\n",
       "    <tr>\n",
       "      <td>32.0</td>\n",
       "      <td>0.28</td>\n",
       "    </tr>\n",
       "    <tr>\n",
       "      <td>33.0</td>\n",
       "      <td>0.27</td>\n",
       "    </tr>\n",
       "    <tr>\n",
       "      <td>34.0</td>\n",
       "      <td>0.26</td>\n",
       "    </tr>\n",
       "    <tr>\n",
       "      <td>35.0</td>\n",
       "      <td>0.24</td>\n",
       "    </tr>\n",
       "    <tr>\n",
       "      <td>36.0</td>\n",
       "      <td>0.24</td>\n",
       "    </tr>\n",
       "    <tr>\n",
       "      <td>37.0</td>\n",
       "      <td>0.23</td>\n",
       "    </tr>\n",
       "    <tr>\n",
       "      <td>38.0</td>\n",
       "      <td>0.23</td>\n",
       "    </tr>\n",
       "    <tr>\n",
       "      <td>39.0</td>\n",
       "      <td>0.21</td>\n",
       "    </tr>\n",
       "    <tr>\n",
       "      <td>40.0</td>\n",
       "      <td>0.21</td>\n",
       "    </tr>\n",
       "    <tr>\n",
       "      <td>41.0</td>\n",
       "      <td>0.21</td>\n",
       "    </tr>\n",
       "    <tr>\n",
       "      <td>42.0</td>\n",
       "      <td>0.21</td>\n",
       "    </tr>\n",
       "    <tr>\n",
       "      <td>43.0</td>\n",
       "      <td>0.21</td>\n",
       "    </tr>\n",
       "    <tr>\n",
       "      <td>44.0</td>\n",
       "      <td>0.21</td>\n",
       "    </tr>\n",
       "    <tr>\n",
       "      <td>45.0</td>\n",
       "      <td>0.21</td>\n",
       "    </tr>\n",
       "    <tr>\n",
       "      <td>46.0</td>\n",
       "      <td>0.21</td>\n",
       "    </tr>\n",
       "    <tr>\n",
       "      <td>47.0</td>\n",
       "      <td>0.21</td>\n",
       "    </tr>\n",
       "  </tbody>\n",
       "</table>\n",
       "</div>"
      ],
      "text/plain": [
       "          Swimmers\n",
       "timeline          \n",
       "0.0           1.00\n",
       "1.0           0.99\n",
       "2.0           0.96\n",
       "3.0           0.88\n",
       "4.0           0.83\n",
       "5.0           0.78\n",
       "6.0           0.73\n",
       "7.0           0.67\n",
       "8.0           0.64\n",
       "9.0           0.61\n",
       "10.0          0.57\n",
       "11.0          0.54\n",
       "12.0          0.53\n",
       "13.0          0.51\n",
       "14.0          0.50\n",
       "15.0          0.48\n",
       "16.0          0.46\n",
       "17.0          0.45\n",
       "18.0          0.43\n",
       "19.0          0.42\n",
       "20.0          0.41\n",
       "21.0          0.39\n",
       "22.0          0.38\n",
       "23.0          0.36\n",
       "24.0          0.36\n",
       "25.0          0.35\n",
       "26.0          0.34\n",
       "27.0          0.32\n",
       "28.0          0.31\n",
       "29.0          0.31\n",
       "30.0          0.30\n",
       "31.0          0.29\n",
       "32.0          0.28\n",
       "33.0          0.27\n",
       "34.0          0.26\n",
       "35.0          0.24\n",
       "36.0          0.24\n",
       "37.0          0.23\n",
       "38.0          0.23\n",
       "39.0          0.21\n",
       "40.0          0.21\n",
       "41.0          0.21\n",
       "42.0          0.21\n",
       "43.0          0.21\n",
       "44.0          0.21\n",
       "45.0          0.21\n",
       "46.0          0.21\n",
       "47.0          0.21"
      ]
     },
     "execution_count": 32,
     "metadata": {},
     "output_type": "execute_result"
    }
   ],
   "source": [
    "kmf.survival_function_.round(decimals=2)"
   ]
  },
  {
   "cell_type": "markdown",
   "metadata": {},
   "source": [
    "## Juntar tudo"
   ]
  },
  {
   "cell_type": "code",
   "execution_count": 33,
   "metadata": {},
   "outputs": [],
   "source": [
    "pd.concat([kmf.event_table.reset_index(), kmf.conditional_time_to_event_.reset_index(),\n",
    "           kmf.survival_function_.reset_index()],axis=1).to_excel('dados2.xlsx')"
   ]
  },
  {
   "cell_type": "code",
   "execution_count": 34,
   "metadata": {},
   "outputs": [
    {
     "data": {
      "text/plain": [
       "14.0"
      ]
     },
     "execution_count": 34,
     "metadata": {},
     "output_type": "execute_result"
    }
   ],
   "source": [
    "kmf.median_"
   ]
  },
  {
   "cell_type": "code",
   "execution_count": 66,
   "metadata": {},
   "outputs": [
    {
     "data": {
      "image/png": "[encoded data removed]",
      "text/plain": [
       "<Figure size 864x504 with 1 Axes>"
      ]
     },
     "metadata": {
      "needs_background": "light"
     },
     "output_type": "display_data"
    }
   ],
   "source": [
    "%matplotlib inline\n",
    "import matplotlib.pyplot as plt\n",
    "import matplotlib.font_manager as font_manager\n",
    "\n",
    "plt.rcParams['figure.figsize'] = [12, 7]\n",
    "\n",
    "fontL = font_manager.FontProperties(family='Times New Roman',weight=None,style='normal', size=10)\n",
    "\n",
    "fontAxis = {'family': 'Times New Roman',\n",
    "#            'color':  'darkred',\n",
    "#            'weight': 'normal',\n",
    "            'size': 10,}\n",
    "\n",
    "ax = kmf.plot(c='black')\n",
    "ax.legend(prop=fontL)\n",
    "ax.set_xlabel('Months',fontdict=fontAxis,fontsize=10)\n",
    "ax.set_ylabel('Survival probability',fontdict=fontAxis,fontsize=10)\n",
    "\n",
    "ax.axvline(x=6,ymax=0.70,linestyle='--',color='black');ax.axhline(y=0.78,xmax=0.129,linestyle='--',color='black')\n",
    "# 6.0 \t0.73\n",
    "ax.annotate(\"0.73\",xy=(6, 0.7), xytext=(6, 0.8))\n",
    "\n",
    "ax.axvline(x=12,ymax=0.44,linestyle='--',color='black');ax.axhline(y=0.542,xmax=0.254,linestyle='--',color='black')\n",
    "# 12.0 \t0.53\n",
    "ax.annotate(\"0.53\",xy=(12, 0.44), xytext=(12, 0.58))\n",
    "\n",
    "ax.axvline(x=18,ymax=0.33,linestyle='--',color='black');ax.axhline(y=0.45,xmax=0.38,linestyle='--',color='black')\n",
    "# 18.0 \t0.43\n",
    "ax.annotate(\"0.43\",xy=(18, 0.38), xytext=(18, 0.48))\n",
    "\n",
    "plt.show()\n",
    "plt.savefig('../submissao/figure1.png', dpi=90)\n",
    "plt.close()"
   ]
  },
  {
   "cell_type": "code",
   "execution_count": 25,
   "metadata": {},
   "outputs": [
    {
     "data": {
      "text/plain": [
       "Text(0, 0.5, 'clientes')"
      ]
     },
     "execution_count": 25,
     "metadata": {},
     "output_type": "execute_result"
    },
    {
     "data": {
      "image/png": "[encoded data removed]",
      "text/plain": [
       "<Figure size 864x504 with 1 Axes>"
      ]
     },
     "metadata": {
      "needs_background": "light"
     },
     "output_type": "display_data"
    }
   ],
   "source": [
    "abandono=kmf.event_table.reset_index()\n",
    "\n",
    "plt.rcParams['figure.figsize'] = [12, 7]\n",
    "plt.plot(abandono.event_at, abandono.at_risk)\n",
    " \n",
    "plt.xlabel('meses')\n",
    "plt.ylabel('clientes')\n",
    "#plt.xlabel()"
   ]
  },
  {
   "cell_type": "code",
   "execution_count": 26,
   "metadata": {},
   "outputs": [
    {
     "name": "stdout",
     "output_type": "stream",
     "text": [
      "6747\n"
     ]
    },
    {
     "data": {
      "image/png": "[encoded data removed]",
      "text/plain": [
       "<Figure size 864x504 with 1 Axes>"
      ]
     },
     "metadata": {
      "needs_background": "light"
     },
     "output_type": "display_data"
    }
   ],
   "source": [
    "abandono['percentagemClientes']= 0.0\n",
    "anterior = abandono.at_risk[0:1]\n",
    "anterior = anterior[0]\n",
    "print(anterior)\n",
    "\n",
    "for index, row in abandono.iterrows():\n",
    "    abandono.at[index, 'percentagemClientes'] = row.at_risk/anterior    \n",
    "\n",
    "plt.rcParams['figure.figsize'] = [12, 7]\n",
    "plt.xlabel('meses')\n",
    "plt.ylabel('clientes')\n",
    "plt.plot(abandono.event_at, abandono.percentagemClientes)\n",
    "plt.show()"
   ]
  },
  {
   "cell_type": "code",
   "execution_count": 27,
   "metadata": {},
   "outputs": [
    {
     "data": {
      "text/html": [
       "<div>\n",
       "<style scoped>\n",
       "    .dataframe tbody tr th:only-of-type {\n",
       "        vertical-align: middle;\n",
       "    }\n",
       "\n",
       "    .dataframe tbody tr th {\n",
       "        vertical-align: top;\n",
       "    }\n",
       "\n",
       "    .dataframe thead th {\n",
       "        text-align: right;\n",
       "    }\n",
       "</style>\n",
       "<table border=\"1\" class=\"dataframe\">\n",
       "  <thead>\n",
       "    <tr style=\"text-align: right;\">\n",
       "      <th></th>\n",
       "      <th>event_at</th>\n",
       "      <th>removed</th>\n",
       "      <th>observed</th>\n",
       "      <th>censored</th>\n",
       "      <th>entrance</th>\n",
       "      <th>at_risk</th>\n",
       "      <th>percentagemClientes</th>\n",
       "    </tr>\n",
       "  </thead>\n",
       "  <tbody>\n",
       "    <tr>\n",
       "      <td>0</td>\n",
       "      <td>0</td>\n",
       "      <td>5</td>\n",
       "      <td>5</td>\n",
       "      <td>0</td>\n",
       "      <td>6747</td>\n",
       "      <td>6747</td>\n",
       "      <td>1.000000</td>\n",
       "    </tr>\n",
       "    <tr>\n",
       "      <td>1</td>\n",
       "      <td>1</td>\n",
       "      <td>127</td>\n",
       "      <td>52</td>\n",
       "      <td>75</td>\n",
       "      <td>0</td>\n",
       "      <td>6742</td>\n",
       "      <td>0.999259</td>\n",
       "    </tr>\n",
       "    <tr>\n",
       "      <td>2</td>\n",
       "      <td>2</td>\n",
       "      <td>758</td>\n",
       "      <td>241</td>\n",
       "      <td>517</td>\n",
       "      <td>0</td>\n",
       "      <td>6615</td>\n",
       "      <td>0.980436</td>\n",
       "    </tr>\n",
       "    <tr>\n",
       "      <td>3</td>\n",
       "      <td>3</td>\n",
       "      <td>439</td>\n",
       "      <td>433</td>\n",
       "      <td>6</td>\n",
       "      <td>0</td>\n",
       "      <td>5857</td>\n",
       "      <td>0.868090</td>\n",
       "    </tr>\n",
       "    <tr>\n",
       "      <td>4</td>\n",
       "      <td>4</td>\n",
       "      <td>372</td>\n",
       "      <td>340</td>\n",
       "      <td>32</td>\n",
       "      <td>0</td>\n",
       "      <td>5418</td>\n",
       "      <td>0.803024</td>\n",
       "    </tr>\n",
       "    <tr>\n",
       "      <td>5</td>\n",
       "      <td>5</td>\n",
       "      <td>346</td>\n",
       "      <td>299</td>\n",
       "      <td>47</td>\n",
       "      <td>0</td>\n",
       "      <td>5046</td>\n",
       "      <td>0.747888</td>\n",
       "    </tr>\n",
       "    <tr>\n",
       "      <td>6</td>\n",
       "      <td>6</td>\n",
       "      <td>319</td>\n",
       "      <td>274</td>\n",
       "      <td>45</td>\n",
       "      <td>0</td>\n",
       "      <td>4700</td>\n",
       "      <td>0.696606</td>\n",
       "    </tr>\n",
       "    <tr>\n",
       "      <td>7</td>\n",
       "      <td>7</td>\n",
       "      <td>406</td>\n",
       "      <td>356</td>\n",
       "      <td>50</td>\n",
       "      <td>0</td>\n",
       "      <td>4381</td>\n",
       "      <td>0.649326</td>\n",
       "    </tr>\n",
       "    <tr>\n",
       "      <td>8</td>\n",
       "      <td>8</td>\n",
       "      <td>268</td>\n",
       "      <td>198</td>\n",
       "      <td>70</td>\n",
       "      <td>0</td>\n",
       "      <td>3975</td>\n",
       "      <td>0.589151</td>\n",
       "    </tr>\n",
       "    <tr>\n",
       "      <td>9</td>\n",
       "      <td>9</td>\n",
       "      <td>240</td>\n",
       "      <td>183</td>\n",
       "      <td>57</td>\n",
       "      <td>0</td>\n",
       "      <td>3707</td>\n",
       "      <td>0.549429</td>\n",
       "    </tr>\n",
       "    <tr>\n",
       "      <td>10</td>\n",
       "      <td>10</td>\n",
       "      <td>294</td>\n",
       "      <td>230</td>\n",
       "      <td>64</td>\n",
       "      <td>0</td>\n",
       "      <td>3467</td>\n",
       "      <td>0.513858</td>\n",
       "    </tr>\n",
       "    <tr>\n",
       "      <td>11</td>\n",
       "      <td>11</td>\n",
       "      <td>206</td>\n",
       "      <td>149</td>\n",
       "      <td>57</td>\n",
       "      <td>0</td>\n",
       "      <td>3173</td>\n",
       "      <td>0.470283</td>\n",
       "    </tr>\n",
       "    <tr>\n",
       "      <td>12</td>\n",
       "      <td>12</td>\n",
       "      <td>103</td>\n",
       "      <td>71</td>\n",
       "      <td>32</td>\n",
       "      <td>0</td>\n",
       "      <td>2967</td>\n",
       "      <td>0.439751</td>\n",
       "    </tr>\n",
       "    <tr>\n",
       "      <td>13</td>\n",
       "      <td>13</td>\n",
       "      <td>198</td>\n",
       "      <td>90</td>\n",
       "      <td>108</td>\n",
       "      <td>0</td>\n",
       "      <td>2864</td>\n",
       "      <td>0.424485</td>\n",
       "    </tr>\n",
       "    <tr>\n",
       "      <td>14</td>\n",
       "      <td>14</td>\n",
       "      <td>411</td>\n",
       "      <td>75</td>\n",
       "      <td>336</td>\n",
       "      <td>0</td>\n",
       "      <td>2666</td>\n",
       "      <td>0.395139</td>\n",
       "    </tr>\n",
       "    <tr>\n",
       "      <td>15</td>\n",
       "      <td>15</td>\n",
       "      <td>110</td>\n",
       "      <td>102</td>\n",
       "      <td>8</td>\n",
       "      <td>0</td>\n",
       "      <td>2255</td>\n",
       "      <td>0.334223</td>\n",
       "    </tr>\n",
       "    <tr>\n",
       "      <td>16</td>\n",
       "      <td>16</td>\n",
       "      <td>113</td>\n",
       "      <td>64</td>\n",
       "      <td>49</td>\n",
       "      <td>0</td>\n",
       "      <td>2145</td>\n",
       "      <td>0.317919</td>\n",
       "    </tr>\n",
       "    <tr>\n",
       "      <td>17</td>\n",
       "      <td>17</td>\n",
       "      <td>91</td>\n",
       "      <td>57</td>\n",
       "      <td>34</td>\n",
       "      <td>0</td>\n",
       "      <td>2032</td>\n",
       "      <td>0.301171</td>\n",
       "    </tr>\n",
       "    <tr>\n",
       "      <td>18</td>\n",
       "      <td>18</td>\n",
       "      <td>101</td>\n",
       "      <td>71</td>\n",
       "      <td>30</td>\n",
       "      <td>0</td>\n",
       "      <td>1941</td>\n",
       "      <td>0.287683</td>\n",
       "    </tr>\n",
       "    <tr>\n",
       "      <td>19</td>\n",
       "      <td>19</td>\n",
       "      <td>93</td>\n",
       "      <td>52</td>\n",
       "      <td>41</td>\n",
       "      <td>0</td>\n",
       "      <td>1840</td>\n",
       "      <td>0.272714</td>\n",
       "    </tr>\n",
       "    <tr>\n",
       "      <td>20</td>\n",
       "      <td>20</td>\n",
       "      <td>87</td>\n",
       "      <td>43</td>\n",
       "      <td>44</td>\n",
       "      <td>0</td>\n",
       "      <td>1747</td>\n",
       "      <td>0.258930</td>\n",
       "    </tr>\n",
       "    <tr>\n",
       "      <td>21</td>\n",
       "      <td>21</td>\n",
       "      <td>117</td>\n",
       "      <td>60</td>\n",
       "      <td>57</td>\n",
       "      <td>0</td>\n",
       "      <td>1660</td>\n",
       "      <td>0.246035</td>\n",
       "    </tr>\n",
       "    <tr>\n",
       "      <td>22</td>\n",
       "      <td>22</td>\n",
       "      <td>112</td>\n",
       "      <td>65</td>\n",
       "      <td>47</td>\n",
       "      <td>0</td>\n",
       "      <td>1543</td>\n",
       "      <td>0.228694</td>\n",
       "    </tr>\n",
       "    <tr>\n",
       "      <td>23</td>\n",
       "      <td>23</td>\n",
       "      <td>109</td>\n",
       "      <td>52</td>\n",
       "      <td>57</td>\n",
       "      <td>0</td>\n",
       "      <td>1431</td>\n",
       "      <td>0.212094</td>\n",
       "    </tr>\n",
       "    <tr>\n",
       "      <td>24</td>\n",
       "      <td>24</td>\n",
       "      <td>56</td>\n",
       "      <td>24</td>\n",
       "      <td>32</td>\n",
       "      <td>0</td>\n",
       "      <td>1322</td>\n",
       "      <td>0.195939</td>\n",
       "    </tr>\n",
       "    <tr>\n",
       "      <td>25</td>\n",
       "      <td>25</td>\n",
       "      <td>114</td>\n",
       "      <td>33</td>\n",
       "      <td>81</td>\n",
       "      <td>0</td>\n",
       "      <td>1266</td>\n",
       "      <td>0.187639</td>\n",
       "    </tr>\n",
       "    <tr>\n",
       "      <td>26</td>\n",
       "      <td>26</td>\n",
       "      <td>251</td>\n",
       "      <td>34</td>\n",
       "      <td>217</td>\n",
       "      <td>0</td>\n",
       "      <td>1152</td>\n",
       "      <td>0.170743</td>\n",
       "    </tr>\n",
       "    <tr>\n",
       "      <td>27</td>\n",
       "      <td>27</td>\n",
       "      <td>51</td>\n",
       "      <td>40</td>\n",
       "      <td>11</td>\n",
       "      <td>0</td>\n",
       "      <td>901</td>\n",
       "      <td>0.133541</td>\n",
       "    </tr>\n",
       "    <tr>\n",
       "      <td>28</td>\n",
       "      <td>28</td>\n",
       "      <td>58</td>\n",
       "      <td>27</td>\n",
       "      <td>31</td>\n",
       "      <td>0</td>\n",
       "      <td>850</td>\n",
       "      <td>0.125982</td>\n",
       "    </tr>\n",
       "    <tr>\n",
       "      <td>29</td>\n",
       "      <td>29</td>\n",
       "      <td>44</td>\n",
       "      <td>17</td>\n",
       "      <td>27</td>\n",
       "      <td>0</td>\n",
       "      <td>792</td>\n",
       "      <td>0.117386</td>\n",
       "    </tr>\n",
       "    <tr>\n",
       "      <td>30</td>\n",
       "      <td>30</td>\n",
       "      <td>60</td>\n",
       "      <td>21</td>\n",
       "      <td>39</td>\n",
       "      <td>0</td>\n",
       "      <td>748</td>\n",
       "      <td>0.110864</td>\n",
       "    </tr>\n",
       "    <tr>\n",
       "      <td>31</td>\n",
       "      <td>31</td>\n",
       "      <td>50</td>\n",
       "      <td>21</td>\n",
       "      <td>29</td>\n",
       "      <td>0</td>\n",
       "      <td>688</td>\n",
       "      <td>0.101971</td>\n",
       "    </tr>\n",
       "    <tr>\n",
       "      <td>32</td>\n",
       "      <td>32</td>\n",
       "      <td>62</td>\n",
       "      <td>19</td>\n",
       "      <td>43</td>\n",
       "      <td>0</td>\n",
       "      <td>638</td>\n",
       "      <td>0.094561</td>\n",
       "    </tr>\n",
       "    <tr>\n",
       "      <td>33</td>\n",
       "      <td>33</td>\n",
       "      <td>54</td>\n",
       "      <td>23</td>\n",
       "      <td>31</td>\n",
       "      <td>0</td>\n",
       "      <td>576</td>\n",
       "      <td>0.085371</td>\n",
       "    </tr>\n",
       "    <tr>\n",
       "      <td>34</td>\n",
       "      <td>34</td>\n",
       "      <td>63</td>\n",
       "      <td>21</td>\n",
       "      <td>42</td>\n",
       "      <td>0</td>\n",
       "      <td>522</td>\n",
       "      <td>0.077368</td>\n",
       "    </tr>\n",
       "    <tr>\n",
       "      <td>35</td>\n",
       "      <td>35</td>\n",
       "      <td>69</td>\n",
       "      <td>27</td>\n",
       "      <td>42</td>\n",
       "      <td>0</td>\n",
       "      <td>459</td>\n",
       "      <td>0.068030</td>\n",
       "    </tr>\n",
       "    <tr>\n",
       "      <td>36</td>\n",
       "      <td>36</td>\n",
       "      <td>32</td>\n",
       "      <td>6</td>\n",
       "      <td>26</td>\n",
       "      <td>0</td>\n",
       "      <td>390</td>\n",
       "      <td>0.057803</td>\n",
       "    </tr>\n",
       "    <tr>\n",
       "      <td>37</td>\n",
       "      <td>37</td>\n",
       "      <td>55</td>\n",
       "      <td>9</td>\n",
       "      <td>46</td>\n",
       "      <td>0</td>\n",
       "      <td>358</td>\n",
       "      <td>0.053061</td>\n",
       "    </tr>\n",
       "    <tr>\n",
       "      <td>38</td>\n",
       "      <td>38</td>\n",
       "      <td>197</td>\n",
       "      <td>5</td>\n",
       "      <td>192</td>\n",
       "      <td>0</td>\n",
       "      <td>303</td>\n",
       "      <td>0.044909</td>\n",
       "    </tr>\n",
       "    <tr>\n",
       "      <td>39</td>\n",
       "      <td>39</td>\n",
       "      <td>15</td>\n",
       "      <td>7</td>\n",
       "      <td>8</td>\n",
       "      <td>0</td>\n",
       "      <td>106</td>\n",
       "      <td>0.015711</td>\n",
       "    </tr>\n",
       "    <tr>\n",
       "      <td>40</td>\n",
       "      <td>40</td>\n",
       "      <td>10</td>\n",
       "      <td>1</td>\n",
       "      <td>9</td>\n",
       "      <td>0</td>\n",
       "      <td>91</td>\n",
       "      <td>0.013487</td>\n",
       "    </tr>\n",
       "    <tr>\n",
       "      <td>41</td>\n",
       "      <td>41</td>\n",
       "      <td>9</td>\n",
       "      <td>0</td>\n",
       "      <td>9</td>\n",
       "      <td>0</td>\n",
       "      <td>81</td>\n",
       "      <td>0.012005</td>\n",
       "    </tr>\n",
       "    <tr>\n",
       "      <td>42</td>\n",
       "      <td>42</td>\n",
       "      <td>6</td>\n",
       "      <td>0</td>\n",
       "      <td>6</td>\n",
       "      <td>0</td>\n",
       "      <td>72</td>\n",
       "      <td>0.010671</td>\n",
       "    </tr>\n",
       "    <tr>\n",
       "      <td>43</td>\n",
       "      <td>43</td>\n",
       "      <td>6</td>\n",
       "      <td>0</td>\n",
       "      <td>6</td>\n",
       "      <td>0</td>\n",
       "      <td>66</td>\n",
       "      <td>0.009782</td>\n",
       "    </tr>\n",
       "    <tr>\n",
       "      <td>44</td>\n",
       "      <td>44</td>\n",
       "      <td>1</td>\n",
       "      <td>0</td>\n",
       "      <td>1</td>\n",
       "      <td>0</td>\n",
       "      <td>60</td>\n",
       "      <td>0.008893</td>\n",
       "    </tr>\n",
       "    <tr>\n",
       "      <td>45</td>\n",
       "      <td>45</td>\n",
       "      <td>11</td>\n",
       "      <td>0</td>\n",
       "      <td>11</td>\n",
       "      <td>0</td>\n",
       "      <td>59</td>\n",
       "      <td>0.008745</td>\n",
       "    </tr>\n",
       "    <tr>\n",
       "      <td>46</td>\n",
       "      <td>46</td>\n",
       "      <td>13</td>\n",
       "      <td>0</td>\n",
       "      <td>13</td>\n",
       "      <td>0</td>\n",
       "      <td>48</td>\n",
       "      <td>0.007114</td>\n",
       "    </tr>\n",
       "    <tr>\n",
       "      <td>47</td>\n",
       "      <td>47</td>\n",
       "      <td>35</td>\n",
       "      <td>0</td>\n",
       "      <td>35</td>\n",
       "      <td>0</td>\n",
       "      <td>35</td>\n",
       "      <td>0.005187</td>\n",
       "    </tr>\n",
       "  </tbody>\n",
       "</table>\n",
       "</div>"
      ],
      "text/plain": [
       "    event_at  removed  observed  censored  entrance  at_risk  \\\n",
       "0          0        5         5         0      6747     6747   \n",
       "1          1      127        52        75         0     6742   \n",
       "2          2      758       241       517         0     6615   \n",
       "3          3      439       433         6         0     5857   \n",
       "4          4      372       340        32         0     5418   \n",
       "5          5      346       299        47         0     5046   \n",
       "6          6      319       274        45         0     4700   \n",
       "7          7      406       356        50         0     4381   \n",
       "8          8      268       198        70         0     3975   \n",
       "9          9      240       183        57         0     3707   \n",
       "10        10      294       230        64         0     3467   \n",
       "11        11      206       149        57         0     3173   \n",
       "12        12      103        71        32         0     2967   \n",
       "13        13      198        90       108         0     2864   \n",
       "14        14      411        75       336         0     2666   \n",
       "15        15      110       102         8         0     2255   \n",
       "16        16      113        64        49         0     2145   \n",
       "17        17       91        57        34         0     2032   \n",
       "18        18      101        71        30         0     1941   \n",
       "19        19       93        52        41         0     1840   \n",
       "20        20       87        43        44         0     1747   \n",
       "21        21      117        60        57         0     1660   \n",
       "22        22      112        65        47         0     1543   \n",
       "23        23      109        52        57         0     1431   \n",
       "24        24       56        24        32         0     1322   \n",
       "25        25      114        33        81         0     1266   \n",
       "26        26      251        34       217         0     1152   \n",
       "27        27       51        40        11         0      901   \n",
       "28        28       58        27        31         0      850   \n",
       "29        29       44        17        27         0      792   \n",
       "30        30       60        21        39         0      748   \n",
       "31        31       50        21        29         0      688   \n",
       "32        32       62        19        43         0      638   \n",
       "33        33       54        23        31         0      576   \n",
       "34        34       63        21        42         0      522   \n",
       "35        35       69        27        42         0      459   \n",
       "36        36       32         6        26         0      390   \n",
       "37        37       55         9        46         0      358   \n",
       "38        38      197         5       192         0      303   \n",
       "39        39       15         7         8         0      106   \n",
       "40        40       10         1         9         0       91   \n",
       "41        41        9         0         9         0       81   \n",
       "42        42        6         0         6         0       72   \n",
       "43        43        6         0         6         0       66   \n",
       "44        44        1         0         1         0       60   \n",
       "45        45       11         0        11         0       59   \n",
       "46        46       13         0        13         0       48   \n",
       "47        47       35         0        35         0       35   \n",
       "\n",
       "    percentagemClientes  \n",
       "0              1.000000  \n",
       "1              0.999259  \n",
       "2              0.980436  \n",
       "3              0.868090  \n",
       "4              0.803024  \n",
       "5              0.747888  \n",
       "6              0.696606  \n",
       "7              0.649326  \n",
       "8              0.589151  \n",
       "9              0.549429  \n",
       "10             0.513858  \n",
       "11             0.470283  \n",
       "12             0.439751  \n",
       "13             0.424485  \n",
       "14             0.395139  \n",
       "15             0.334223  \n",
       "16             0.317919  \n",
       "17             0.301171  \n",
       "18             0.287683  \n",
       "19             0.272714  \n",
       "20             0.258930  \n",
       "21             0.246035  \n",
       "22             0.228694  \n",
       "23             0.212094  \n",
       "24             0.195939  \n",
       "25             0.187639  \n",
       "26             0.170743  \n",
       "27             0.133541  \n",
       "28             0.125982  \n",
       "29             0.117386  \n",
       "30             0.110864  \n",
       "31             0.101971  \n",
       "32             0.094561  \n",
       "33             0.085371  \n",
       "34             0.077368  \n",
       "35             0.068030  \n",
       "36             0.057803  \n",
       "37             0.053061  \n",
       "38             0.044909  \n",
       "39             0.015711  \n",
       "40             0.013487  \n",
       "41             0.012005  \n",
       "42             0.010671  \n",
       "43             0.009782  \n",
       "44             0.008893  \n",
       "45             0.008745  \n",
       "46             0.007114  \n",
       "47             0.005187  "
      ]
     },
     "execution_count": 27,
     "metadata": {},
     "output_type": "execute_result"
    }
   ],
   "source": [
    "abandono"
   ]
  },
  {
   "cell_type": "markdown",
   "metadata": {},
   "source": [
    "A probabilidade de sobreviver mais de 10 meses é de 50%. A probabilidade de sobreviver 20 meses é de 25%."
   ]
  },
  {
   "cell_type": "markdown",
   "metadata": {},
   "source": [
    "## Por género"
   ]
  },
  {
   "cell_type": "code",
   "execution_count": 28,
   "metadata": {},
   "outputs": [
    {
     "data": {
      "image/png": "[encoded data removed]",
      "text/plain": [
       "<Figure size 864x504 with 1 Axes>"
      ]
     },
     "metadata": {
      "needs_background": "light"
     },
     "output_type": "display_data"
    }
   ],
   "source": [
    "ax = plt.subplot(111)\n",
    "import matplotlib.pyplot as plt\n",
    "\n",
    "plt.rcParams['figure.figsize'] = [12, 7]\n",
    "\n",
    "for gen in dt['genero'].unique():\n",
    "    ix = dt['genero'] == gen\n",
    "    kmf.fit(T.loc[ix], C.loc[ix], label=str(gen))\n",
    "    ax = kmf.plot(ax=ax)"
   ]
  },
  {
   "cell_type": "markdown",
   "metadata": {},
   "source": [
    "1 - Masculino / 0 - Feminino"
   ]
  },
  {
   "cell_type": "markdown",
   "metadata": {},
   "source": [
    "## Quantos meses temos metade das pessoas a abandonar"
   ]
  },
  {
   "cell_type": "code",
   "execution_count": 29,
   "metadata": {},
   "outputs": [
    {
     "data": {
      "text/plain": [
       "15.0"
      ]
     },
     "execution_count": 29,
     "metadata": {},
     "output_type": "execute_result"
    }
   ],
   "source": [
    "kmf.median_"
   ]
  },
  {
   "cell_type": "markdown",
   "metadata": {},
   "source": [
    "## S(t) == P(T>t) probabilidade de viver mais do que seis meses"
   ]
  },
  {
   "cell_type": "code",
   "execution_count": 31,
   "metadata": {},
   "outputs": [
    {
     "data": {
      "text/plain": [
       "0.7637997509868095"
      ]
     },
     "execution_count": 31,
     "metadata": {},
     "output_type": "execute_result"
    }
   ],
   "source": [
    "kmf.predict(6.0)"
   ]
  },
  {
   "cell_type": "markdown",
   "metadata": {},
   "source": [
    "## Verificar o tempo de sobrevivência condicionado\n",
    "Tempo de vida condicionado ao tempo de sobrevivência t. Se uma pessoa está nas piscinas à 1 mês o tempo esperado de ficar é de 10. Se ficar 9 meses o tempo esperado de ficar é de 10 meses."
   ]
  },
  {
   "cell_type": "code",
   "execution_count": 30,
   "metadata": {
    "scrolled": true
   },
   "outputs": [],
   "source": [
    "#kmf._conditional_time_to_event_()"
   ]
  },
  {
   "cell_type": "code",
   "execution_count": 32,
   "metadata": {},
   "outputs": [
    {
     "data": {
      "text/html": [
       "<div>\n",
       "<style scoped>\n",
       "    .dataframe tbody tr th:only-of-type {\n",
       "        vertical-align: middle;\n",
       "    }\n",
       "\n",
       "    .dataframe tbody tr th {\n",
       "        vertical-align: top;\n",
       "    }\n",
       "\n",
       "    .dataframe thead th {\n",
       "        text-align: right;\n",
       "    }\n",
       "</style>\n",
       "<table border=\"1\" class=\"dataframe\">\n",
       "  <thead>\n",
       "    <tr style=\"text-align: right;\">\n",
       "      <th></th>\n",
       "      <th>idade</th>\n",
       "      <th>genero</th>\n",
       "      <th>diassemfrequencia</th>\n",
       "      <th>mesesinscricao</th>\n",
       "      <th>volnegocios</th>\n",
       "      <th>freqmedia</th>\n",
       "      <th>utilizacao_livre</th>\n",
       "      <th>atividade_atletismo</th>\n",
       "      <th>atividade_aquaticas</th>\n",
       "      <th>atividade_fitness</th>\n",
       "      <th>...</th>\n",
       "      <th>atividade_especiais</th>\n",
       "      <th>atividade_natureza</th>\n",
       "      <th>atividade_outra</th>\n",
       "      <th>natividades</th>\n",
       "      <th>nfrequencias</th>\n",
       "      <th>freqcontratadasemanal</th>\n",
       "      <th>nrenovacoes</th>\n",
       "      <th>nreferencias</th>\n",
       "      <th>classe_desistencia</th>\n",
       "      <th>mes</th>\n",
       "    </tr>\n",
       "  </thead>\n",
       "  <tbody>\n",
       "    <tr>\n",
       "      <td>idade</td>\n",
       "      <td>1.00</td>\n",
       "      <td>-0.19</td>\n",
       "      <td>0.10</td>\n",
       "      <td>-0.00</td>\n",
       "      <td>0.10</td>\n",
       "      <td>0.11</td>\n",
       "      <td>0.20</td>\n",
       "      <td>-0.01</td>\n",
       "      <td>NaN</td>\n",
       "      <td>0.15</td>\n",
       "      <td>...</td>\n",
       "      <td>0.19</td>\n",
       "      <td>NaN</td>\n",
       "      <td>NaN</td>\n",
       "      <td>0.18</td>\n",
       "      <td>0.08</td>\n",
       "      <td>0.19</td>\n",
       "      <td>-0.02</td>\n",
       "      <td>0.03</td>\n",
       "      <td>0.11</td>\n",
       "      <td>-0.03</td>\n",
       "    </tr>\n",
       "    <tr>\n",
       "      <td>genero</td>\n",
       "      <td>-0.19</td>\n",
       "      <td>1.00</td>\n",
       "      <td>0.01</td>\n",
       "      <td>0.05</td>\n",
       "      <td>0.02</td>\n",
       "      <td>0.01</td>\n",
       "      <td>0.01</td>\n",
       "      <td>0.01</td>\n",
       "      <td>NaN</td>\n",
       "      <td>-0.12</td>\n",
       "      <td>...</td>\n",
       "      <td>-0.05</td>\n",
       "      <td>NaN</td>\n",
       "      <td>NaN</td>\n",
       "      <td>-0.08</td>\n",
       "      <td>0.04</td>\n",
       "      <td>0.00</td>\n",
       "      <td>0.02</td>\n",
       "      <td>0.05</td>\n",
       "      <td>-0.02</td>\n",
       "      <td>0.05</td>\n",
       "    </tr>\n",
       "    <tr>\n",
       "      <td>diassemfrequencia</td>\n",
       "      <td>0.10</td>\n",
       "      <td>0.01</td>\n",
       "      <td>1.00</td>\n",
       "      <td>-0.01</td>\n",
       "      <td>-0.14</td>\n",
       "      <td>-0.34</td>\n",
       "      <td>0.14</td>\n",
       "      <td>0.01</td>\n",
       "      <td>NaN</td>\n",
       "      <td>0.02</td>\n",
       "      <td>...</td>\n",
       "      <td>0.01</td>\n",
       "      <td>NaN</td>\n",
       "      <td>NaN</td>\n",
       "      <td>0.02</td>\n",
       "      <td>-0.19</td>\n",
       "      <td>0.12</td>\n",
       "      <td>-0.02</td>\n",
       "      <td>0.05</td>\n",
       "      <td>0.34</td>\n",
       "      <td>0.01</td>\n",
       "    </tr>\n",
       "    <tr>\n",
       "      <td>mesesinscricao</td>\n",
       "      <td>-0.00</td>\n",
       "      <td>0.05</td>\n",
       "      <td>-0.01</td>\n",
       "      <td>1.00</td>\n",
       "      <td>0.75</td>\n",
       "      <td>0.01</td>\n",
       "      <td>0.23</td>\n",
       "      <td>0.06</td>\n",
       "      <td>NaN</td>\n",
       "      <td>0.17</td>\n",
       "      <td>...</td>\n",
       "      <td>0.09</td>\n",
       "      <td>NaN</td>\n",
       "      <td>NaN</td>\n",
       "      <td>0.21</td>\n",
       "      <td>0.68</td>\n",
       "      <td>0.12</td>\n",
       "      <td>0.88</td>\n",
       "      <td>0.29</td>\n",
       "      <td>-0.34</td>\n",
       "      <td>0.04</td>\n",
       "    </tr>\n",
       "    <tr>\n",
       "      <td>volnegocios</td>\n",
       "      <td>0.10</td>\n",
       "      <td>0.02</td>\n",
       "      <td>-0.14</td>\n",
       "      <td>0.75</td>\n",
       "      <td>1.00</td>\n",
       "      <td>0.31</td>\n",
       "      <td>0.05</td>\n",
       "      <td>0.01</td>\n",
       "      <td>NaN</td>\n",
       "      <td>0.19</td>\n",
       "      <td>...</td>\n",
       "      <td>0.09</td>\n",
       "      <td>NaN</td>\n",
       "      <td>NaN</td>\n",
       "      <td>0.22</td>\n",
       "      <td>0.87</td>\n",
       "      <td>0.06</td>\n",
       "      <td>0.66</td>\n",
       "      <td>0.18</td>\n",
       "      <td>-0.27</td>\n",
       "      <td>0.06</td>\n",
       "    </tr>\n",
       "    <tr>\n",
       "      <td>freqmedia</td>\n",
       "      <td>0.11</td>\n",
       "      <td>0.01</td>\n",
       "      <td>-0.34</td>\n",
       "      <td>0.01</td>\n",
       "      <td>0.31</td>\n",
       "      <td>1.00</td>\n",
       "      <td>-0.01</td>\n",
       "      <td>-0.02</td>\n",
       "      <td>NaN</td>\n",
       "      <td>0.09</td>\n",
       "      <td>...</td>\n",
       "      <td>0.06</td>\n",
       "      <td>NaN</td>\n",
       "      <td>NaN</td>\n",
       "      <td>0.11</td>\n",
       "      <td>0.54</td>\n",
       "      <td>0.12</td>\n",
       "      <td>0.05</td>\n",
       "      <td>-0.08</td>\n",
       "      <td>-0.29</td>\n",
       "      <td>0.00</td>\n",
       "    </tr>\n",
       "    <tr>\n",
       "      <td>utilizacao_livre</td>\n",
       "      <td>0.20</td>\n",
       "      <td>0.01</td>\n",
       "      <td>0.14</td>\n",
       "      <td>0.23</td>\n",
       "      <td>0.05</td>\n",
       "      <td>-0.01</td>\n",
       "      <td>1.00</td>\n",
       "      <td>-0.00</td>\n",
       "      <td>NaN</td>\n",
       "      <td>0.09</td>\n",
       "      <td>...</td>\n",
       "      <td>0.02</td>\n",
       "      <td>NaN</td>\n",
       "      <td>NaN</td>\n",
       "      <td>0.08</td>\n",
       "      <td>0.07</td>\n",
       "      <td>0.52</td>\n",
       "      <td>0.14</td>\n",
       "      <td>0.05</td>\n",
       "      <td>-0.00</td>\n",
       "      <td>-0.04</td>\n",
       "    </tr>\n",
       "    <tr>\n",
       "      <td>atividade_atletismo</td>\n",
       "      <td>-0.01</td>\n",
       "      <td>0.01</td>\n",
       "      <td>0.01</td>\n",
       "      <td>0.06</td>\n",
       "      <td>0.01</td>\n",
       "      <td>-0.02</td>\n",
       "      <td>-0.00</td>\n",
       "      <td>1.00</td>\n",
       "      <td>NaN</td>\n",
       "      <td>0.00</td>\n",
       "      <td>...</td>\n",
       "      <td>-0.01</td>\n",
       "      <td>NaN</td>\n",
       "      <td>NaN</td>\n",
       "      <td>0.17</td>\n",
       "      <td>0.02</td>\n",
       "      <td>0.07</td>\n",
       "      <td>0.06</td>\n",
       "      <td>-0.00</td>\n",
       "      <td>-0.01</td>\n",
       "      <td>-0.00</td>\n",
       "    </tr>\n",
       "    <tr>\n",
       "      <td>atividade_aquaticas</td>\n",
       "      <td>NaN</td>\n",
       "      <td>NaN</td>\n",
       "      <td>NaN</td>\n",
       "      <td>NaN</td>\n",
       "      <td>NaN</td>\n",
       "      <td>NaN</td>\n",
       "      <td>NaN</td>\n",
       "      <td>NaN</td>\n",
       "      <td>NaN</td>\n",
       "      <td>NaN</td>\n",
       "      <td>...</td>\n",
       "      <td>NaN</td>\n",
       "      <td>NaN</td>\n",
       "      <td>NaN</td>\n",
       "      <td>NaN</td>\n",
       "      <td>NaN</td>\n",
       "      <td>NaN</td>\n",
       "      <td>NaN</td>\n",
       "      <td>NaN</td>\n",
       "      <td>NaN</td>\n",
       "      <td>NaN</td>\n",
       "    </tr>\n",
       "    <tr>\n",
       "      <td>atividade_fitness</td>\n",
       "      <td>0.15</td>\n",
       "      <td>-0.12</td>\n",
       "      <td>0.02</td>\n",
       "      <td>0.17</td>\n",
       "      <td>0.19</td>\n",
       "      <td>0.09</td>\n",
       "      <td>0.09</td>\n",
       "      <td>0.00</td>\n",
       "      <td>NaN</td>\n",
       "      <td>1.00</td>\n",
       "      <td>...</td>\n",
       "      <td>0.03</td>\n",
       "      <td>NaN</td>\n",
       "      <td>NaN</td>\n",
       "      <td>0.82</td>\n",
       "      <td>0.17</td>\n",
       "      <td>0.27</td>\n",
       "      <td>0.15</td>\n",
       "      <td>0.03</td>\n",
       "      <td>-0.04</td>\n",
       "      <td>-0.01</td>\n",
       "    </tr>\n",
       "    <tr>\n",
       "      <td>atividade_danca</td>\n",
       "      <td>NaN</td>\n",
       "      <td>NaN</td>\n",
       "      <td>NaN</td>\n",
       "      <td>NaN</td>\n",
       "      <td>NaN</td>\n",
       "      <td>NaN</td>\n",
       "      <td>NaN</td>\n",
       "      <td>NaN</td>\n",
       "      <td>NaN</td>\n",
       "      <td>NaN</td>\n",
       "      <td>...</td>\n",
       "      <td>NaN</td>\n",
       "      <td>NaN</td>\n",
       "      <td>NaN</td>\n",
       "      <td>NaN</td>\n",
       "      <td>NaN</td>\n",
       "      <td>NaN</td>\n",
       "      <td>NaN</td>\n",
       "      <td>NaN</td>\n",
       "      <td>NaN</td>\n",
       "      <td>NaN</td>\n",
       "    </tr>\n",
       "    <tr>\n",
       "      <td>atividade_coletivos</td>\n",
       "      <td>NaN</td>\n",
       "      <td>NaN</td>\n",
       "      <td>NaN</td>\n",
       "      <td>NaN</td>\n",
       "      <td>NaN</td>\n",
       "      <td>NaN</td>\n",
       "      <td>NaN</td>\n",
       "      <td>NaN</td>\n",
       "      <td>NaN</td>\n",
       "      <td>NaN</td>\n",
       "      <td>...</td>\n",
       "      <td>NaN</td>\n",
       "      <td>NaN</td>\n",
       "      <td>NaN</td>\n",
       "      <td>NaN</td>\n",
       "      <td>NaN</td>\n",
       "      <td>NaN</td>\n",
       "      <td>NaN</td>\n",
       "      <td>NaN</td>\n",
       "      <td>NaN</td>\n",
       "      <td>NaN</td>\n",
       "    </tr>\n",
       "    <tr>\n",
       "      <td>atividade_raquete</td>\n",
       "      <td>-0.01</td>\n",
       "      <td>0.04</td>\n",
       "      <td>0.05</td>\n",
       "      <td>0.01</td>\n",
       "      <td>0.02</td>\n",
       "      <td>-0.01</td>\n",
       "      <td>-0.01</td>\n",
       "      <td>-0.00</td>\n",
       "      <td>NaN</td>\n",
       "      <td>-0.01</td>\n",
       "      <td>...</td>\n",
       "      <td>-0.00</td>\n",
       "      <td>NaN</td>\n",
       "      <td>NaN</td>\n",
       "      <td>0.12</td>\n",
       "      <td>-0.00</td>\n",
       "      <td>0.01</td>\n",
       "      <td>-0.01</td>\n",
       "      <td>0.02</td>\n",
       "      <td>0.01</td>\n",
       "      <td>0.01</td>\n",
       "    </tr>\n",
       "    <tr>\n",
       "      <td>atividade_combate</td>\n",
       "      <td>-0.05</td>\n",
       "      <td>0.07</td>\n",
       "      <td>-0.02</td>\n",
       "      <td>0.07</td>\n",
       "      <td>0.08</td>\n",
       "      <td>0.07</td>\n",
       "      <td>0.01</td>\n",
       "      <td>-0.00</td>\n",
       "      <td>NaN</td>\n",
       "      <td>0.03</td>\n",
       "      <td>...</td>\n",
       "      <td>-0.01</td>\n",
       "      <td>NaN</td>\n",
       "      <td>NaN</td>\n",
       "      <td>0.36</td>\n",
       "      <td>0.10</td>\n",
       "      <td>0.02</td>\n",
       "      <td>0.06</td>\n",
       "      <td>0.04</td>\n",
       "      <td>-0.05</td>\n",
       "      <td>0.01</td>\n",
       "    </tr>\n",
       "    <tr>\n",
       "      <td>atividade_especiais</td>\n",
       "      <td>0.19</td>\n",
       "      <td>-0.05</td>\n",
       "      <td>0.01</td>\n",
       "      <td>0.09</td>\n",
       "      <td>0.09</td>\n",
       "      <td>0.06</td>\n",
       "      <td>0.02</td>\n",
       "      <td>-0.01</td>\n",
       "      <td>NaN</td>\n",
       "      <td>0.03</td>\n",
       "      <td>...</td>\n",
       "      <td>1.00</td>\n",
       "      <td>NaN</td>\n",
       "      <td>NaN</td>\n",
       "      <td>0.42</td>\n",
       "      <td>0.13</td>\n",
       "      <td>0.03</td>\n",
       "      <td>0.09</td>\n",
       "      <td>-0.02</td>\n",
       "      <td>-0.05</td>\n",
       "      <td>-0.01</td>\n",
       "    </tr>\n",
       "    <tr>\n",
       "      <td>atividade_natureza</td>\n",
       "      <td>NaN</td>\n",
       "      <td>NaN</td>\n",
       "      <td>NaN</td>\n",
       "      <td>NaN</td>\n",
       "      <td>NaN</td>\n",
       "      <td>NaN</td>\n",
       "      <td>NaN</td>\n",
       "      <td>NaN</td>\n",
       "      <td>NaN</td>\n",
       "      <td>NaN</td>\n",
       "      <td>...</td>\n",
       "      <td>NaN</td>\n",
       "      <td>NaN</td>\n",
       "      <td>NaN</td>\n",
       "      <td>NaN</td>\n",
       "      <td>NaN</td>\n",
       "      <td>NaN</td>\n",
       "      <td>NaN</td>\n",
       "      <td>NaN</td>\n",
       "      <td>NaN</td>\n",
       "      <td>NaN</td>\n",
       "    </tr>\n",
       "    <tr>\n",
       "      <td>atividade_outra</td>\n",
       "      <td>NaN</td>\n",
       "      <td>NaN</td>\n",
       "      <td>NaN</td>\n",
       "      <td>NaN</td>\n",
       "      <td>NaN</td>\n",
       "      <td>NaN</td>\n",
       "      <td>NaN</td>\n",
       "      <td>NaN</td>\n",
       "      <td>NaN</td>\n",
       "      <td>NaN</td>\n",
       "      <td>...</td>\n",
       "      <td>NaN</td>\n",
       "      <td>NaN</td>\n",
       "      <td>NaN</td>\n",
       "      <td>NaN</td>\n",
       "      <td>NaN</td>\n",
       "      <td>NaN</td>\n",
       "      <td>NaN</td>\n",
       "      <td>NaN</td>\n",
       "      <td>NaN</td>\n",
       "      <td>NaN</td>\n",
       "    </tr>\n",
       "    <tr>\n",
       "      <td>natividades</td>\n",
       "      <td>0.18</td>\n",
       "      <td>-0.08</td>\n",
       "      <td>0.02</td>\n",
       "      <td>0.21</td>\n",
       "      <td>0.22</td>\n",
       "      <td>0.11</td>\n",
       "      <td>0.08</td>\n",
       "      <td>0.17</td>\n",
       "      <td>NaN</td>\n",
       "      <td>0.82</td>\n",
       "      <td>...</td>\n",
       "      <td>0.42</td>\n",
       "      <td>NaN</td>\n",
       "      <td>NaN</td>\n",
       "      <td>1.00</td>\n",
       "      <td>0.23</td>\n",
       "      <td>0.25</td>\n",
       "      <td>0.19</td>\n",
       "      <td>0.03</td>\n",
       "      <td>-0.07</td>\n",
       "      <td>-0.01</td>\n",
       "    </tr>\n",
       "    <tr>\n",
       "      <td>nfrequencias</td>\n",
       "      <td>0.08</td>\n",
       "      <td>0.04</td>\n",
       "      <td>-0.19</td>\n",
       "      <td>0.68</td>\n",
       "      <td>0.87</td>\n",
       "      <td>0.54</td>\n",
       "      <td>0.07</td>\n",
       "      <td>0.02</td>\n",
       "      <td>NaN</td>\n",
       "      <td>0.17</td>\n",
       "      <td>...</td>\n",
       "      <td>0.13</td>\n",
       "      <td>NaN</td>\n",
       "      <td>NaN</td>\n",
       "      <td>0.23</td>\n",
       "      <td>1.00</td>\n",
       "      <td>0.11</td>\n",
       "      <td>0.61</td>\n",
       "      <td>0.17</td>\n",
       "      <td>-0.32</td>\n",
       "      <td>0.04</td>\n",
       "    </tr>\n",
       "    <tr>\n",
       "      <td>freqcontratadasemanal</td>\n",
       "      <td>0.19</td>\n",
       "      <td>0.00</td>\n",
       "      <td>0.12</td>\n",
       "      <td>0.12</td>\n",
       "      <td>0.06</td>\n",
       "      <td>0.12</td>\n",
       "      <td>0.52</td>\n",
       "      <td>0.07</td>\n",
       "      <td>NaN</td>\n",
       "      <td>0.27</td>\n",
       "      <td>...</td>\n",
       "      <td>0.03</td>\n",
       "      <td>NaN</td>\n",
       "      <td>NaN</td>\n",
       "      <td>0.25</td>\n",
       "      <td>0.11</td>\n",
       "      <td>1.00</td>\n",
       "      <td>0.07</td>\n",
       "      <td>-0.01</td>\n",
       "      <td>0.03</td>\n",
       "      <td>-0.04</td>\n",
       "    </tr>\n",
       "    <tr>\n",
       "      <td>nrenovacoes</td>\n",
       "      <td>-0.02</td>\n",
       "      <td>0.02</td>\n",
       "      <td>-0.02</td>\n",
       "      <td>0.88</td>\n",
       "      <td>0.66</td>\n",
       "      <td>0.05</td>\n",
       "      <td>0.14</td>\n",
       "      <td>0.06</td>\n",
       "      <td>NaN</td>\n",
       "      <td>0.15</td>\n",
       "      <td>...</td>\n",
       "      <td>0.09</td>\n",
       "      <td>NaN</td>\n",
       "      <td>NaN</td>\n",
       "      <td>0.19</td>\n",
       "      <td>0.61</td>\n",
       "      <td>0.07</td>\n",
       "      <td>1.00</td>\n",
       "      <td>0.23</td>\n",
       "      <td>-0.33</td>\n",
       "      <td>-0.18</td>\n",
       "    </tr>\n",
       "    <tr>\n",
       "      <td>nreferencias</td>\n",
       "      <td>0.03</td>\n",
       "      <td>0.05</td>\n",
       "      <td>0.05</td>\n",
       "      <td>0.29</td>\n",
       "      <td>0.18</td>\n",
       "      <td>-0.08</td>\n",
       "      <td>0.05</td>\n",
       "      <td>-0.00</td>\n",
       "      <td>NaN</td>\n",
       "      <td>0.03</td>\n",
       "      <td>...</td>\n",
       "      <td>-0.02</td>\n",
       "      <td>NaN</td>\n",
       "      <td>NaN</td>\n",
       "      <td>0.03</td>\n",
       "      <td>0.17</td>\n",
       "      <td>-0.01</td>\n",
       "      <td>0.23</td>\n",
       "      <td>1.00</td>\n",
       "      <td>0.02</td>\n",
       "      <td>0.02</td>\n",
       "    </tr>\n",
       "    <tr>\n",
       "      <td>classe_desistencia</td>\n",
       "      <td>0.11</td>\n",
       "      <td>-0.02</td>\n",
       "      <td>0.34</td>\n",
       "      <td>-0.34</td>\n",
       "      <td>-0.27</td>\n",
       "      <td>-0.29</td>\n",
       "      <td>-0.00</td>\n",
       "      <td>-0.01</td>\n",
       "      <td>NaN</td>\n",
       "      <td>-0.04</td>\n",
       "      <td>...</td>\n",
       "      <td>-0.05</td>\n",
       "      <td>NaN</td>\n",
       "      <td>NaN</td>\n",
       "      <td>-0.07</td>\n",
       "      <td>-0.32</td>\n",
       "      <td>0.03</td>\n",
       "      <td>-0.33</td>\n",
       "      <td>0.02</td>\n",
       "      <td>1.00</td>\n",
       "      <td>-0.08</td>\n",
       "    </tr>\n",
       "    <tr>\n",
       "      <td>mes</td>\n",
       "      <td>-0.03</td>\n",
       "      <td>0.05</td>\n",
       "      <td>0.01</td>\n",
       "      <td>0.04</td>\n",
       "      <td>0.06</td>\n",
       "      <td>0.00</td>\n",
       "      <td>-0.04</td>\n",
       "      <td>-0.00</td>\n",
       "      <td>NaN</td>\n",
       "      <td>-0.01</td>\n",
       "      <td>...</td>\n",
       "      <td>-0.01</td>\n",
       "      <td>NaN</td>\n",
       "      <td>NaN</td>\n",
       "      <td>-0.01</td>\n",
       "      <td>0.04</td>\n",
       "      <td>-0.04</td>\n",
       "      <td>-0.18</td>\n",
       "      <td>0.02</td>\n",
       "      <td>-0.08</td>\n",
       "      <td>1.00</td>\n",
       "    </tr>\n",
       "  </tbody>\n",
       "</table>\n",
       "<p>24 rows × 24 columns</p>\n",
       "</div>"
      ],
      "text/plain": [
       "                       idade  genero  diassemfrequencia  mesesinscricao  \\\n",
       "idade                   1.00   -0.19               0.10           -0.00   \n",
       "genero                 -0.19    1.00               0.01            0.05   \n",
       "diassemfrequencia       0.10    0.01               1.00           -0.01   \n",
       "mesesinscricao         -0.00    0.05              -0.01            1.00   \n",
       "volnegocios             0.10    0.02              -0.14            0.75   \n",
       "freqmedia               0.11    0.01              -0.34            0.01   \n",
       "utilizacao_livre        0.20    0.01               0.14            0.23   \n",
       "atividade_atletismo    -0.01    0.01               0.01            0.06   \n",
       "atividade_aquaticas      NaN     NaN                NaN             NaN   \n",
       "atividade_fitness       0.15   -0.12               0.02            0.17   \n",
       "atividade_danca          NaN     NaN                NaN             NaN   \n",
       "atividade_coletivos      NaN     NaN                NaN             NaN   \n",
       "atividade_raquete      -0.01    0.04               0.05            0.01   \n",
       "atividade_combate      -0.05    0.07              -0.02            0.07   \n",
       "atividade_especiais     0.19   -0.05               0.01            0.09   \n",
       "atividade_natureza       NaN     NaN                NaN             NaN   \n",
       "atividade_outra          NaN     NaN                NaN             NaN   \n",
       "natividades             0.18   -0.08               0.02            0.21   \n",
       "nfrequencias            0.08    0.04              -0.19            0.68   \n",
       "freqcontratadasemanal   0.19    0.00               0.12            0.12   \n",
       "nrenovacoes            -0.02    0.02              -0.02            0.88   \n",
       "nreferencias            0.03    0.05               0.05            0.29   \n",
       "classe_desistencia      0.11   -0.02               0.34           -0.34   \n",
       "mes                    -0.03    0.05               0.01            0.04   \n",
       "\n",
       "                       volnegocios  freqmedia  utilizacao_livre  \\\n",
       "idade                         0.10       0.11              0.20   \n",
       "genero                        0.02       0.01              0.01   \n",
       "diassemfrequencia            -0.14      -0.34              0.14   \n",
       "mesesinscricao                0.75       0.01              0.23   \n",
       "volnegocios                   1.00       0.31              0.05   \n",
       "freqmedia                     0.31       1.00             -0.01   \n",
       "utilizacao_livre              0.05      -0.01              1.00   \n",
       "atividade_atletismo           0.01      -0.02             -0.00   \n",
       "atividade_aquaticas            NaN        NaN               NaN   \n",
       "atividade_fitness             0.19       0.09              0.09   \n",
       "atividade_danca                NaN        NaN               NaN   \n",
       "atividade_coletivos            NaN        NaN               NaN   \n",
       "atividade_raquete             0.02      -0.01             -0.01   \n",
       "atividade_combate             0.08       0.07              0.01   \n",
       "atividade_especiais           0.09       0.06              0.02   \n",
       "atividade_natureza             NaN        NaN               NaN   \n",
       "atividade_outra                NaN        NaN               NaN   \n",
       "natividades                   0.22       0.11              0.08   \n",
       "nfrequencias                  0.87       0.54              0.07   \n",
       "freqcontratadasemanal         0.06       0.12              0.52   \n",
       "nrenovacoes                   0.66       0.05              0.14   \n",
       "nreferencias                  0.18      -0.08              0.05   \n",
       "classe_desistencia           -0.27      -0.29             -0.00   \n",
       "mes                           0.06       0.00             -0.04   \n",
       "\n",
       "                       atividade_atletismo  atividade_aquaticas  \\\n",
       "idade                                -0.01                  NaN   \n",
       "genero                                0.01                  NaN   \n",
       "diassemfrequencia                     0.01                  NaN   \n",
       "mesesinscricao                        0.06                  NaN   \n",
       "volnegocios                           0.01                  NaN   \n",
       "freqmedia                            -0.02                  NaN   \n",
       "utilizacao_livre                     -0.00                  NaN   \n",
       "atividade_atletismo                   1.00                  NaN   \n",
       "atividade_aquaticas                    NaN                  NaN   \n",
       "atividade_fitness                     0.00                  NaN   \n",
       "atividade_danca                        NaN                  NaN   \n",
       "atividade_coletivos                    NaN                  NaN   \n",
       "atividade_raquete                    -0.00                  NaN   \n",
       "atividade_combate                    -0.00                  NaN   \n",
       "atividade_especiais                  -0.01                  NaN   \n",
       "atividade_natureza                     NaN                  NaN   \n",
       "atividade_outra                        NaN                  NaN   \n",
       "natividades                           0.17                  NaN   \n",
       "nfrequencias                          0.02                  NaN   \n",
       "freqcontratadasemanal                 0.07                  NaN   \n",
       "nrenovacoes                           0.06                  NaN   \n",
       "nreferencias                         -0.00                  NaN   \n",
       "classe_desistencia                   -0.01                  NaN   \n",
       "mes                                  -0.00                  NaN   \n",
       "\n",
       "                       atividade_fitness  ...  atividade_especiais  \\\n",
       "idade                               0.15  ...                 0.19   \n",
       "genero                             -0.12  ...                -0.05   \n",
       "diassemfrequencia                   0.02  ...                 0.01   \n",
       "mesesinscricao                      0.17  ...                 0.09   \n",
       "volnegocios                         0.19  ...                 0.09   \n",
       "freqmedia                           0.09  ...                 0.06   \n",
       "utilizacao_livre                    0.09  ...                 0.02   \n",
       "atividade_atletismo                 0.00  ...                -0.01   \n",
       "atividade_aquaticas                  NaN  ...                  NaN   \n",
       "atividade_fitness                   1.00  ...                 0.03   \n",
       "atividade_danca                      NaN  ...                  NaN   \n",
       "atividade_coletivos                  NaN  ...                  NaN   \n",
       "atividade_raquete                  -0.01  ...                -0.00   \n",
       "atividade_combate                   0.03  ...                -0.01   \n",
       "atividade_especiais                 0.03  ...                 1.00   \n",
       "atividade_natureza                   NaN  ...                  NaN   \n",
       "atividade_outra                      NaN  ...                  NaN   \n",
       "natividades                         0.82  ...                 0.42   \n",
       "nfrequencias                        0.17  ...                 0.13   \n",
       "freqcontratadasemanal               0.27  ...                 0.03   \n",
       "nrenovacoes                         0.15  ...                 0.09   \n",
       "nreferencias                        0.03  ...                -0.02   \n",
       "classe_desistencia                 -0.04  ...                -0.05   \n",
       "mes                                -0.01  ...                -0.01   \n",
       "\n",
       "                       atividade_natureza  atividade_outra  natividades  \\\n",
       "idade                                 NaN              NaN         0.18   \n",
       "genero                                NaN              NaN        -0.08   \n",
       "diassemfrequencia                     NaN              NaN         0.02   \n",
       "mesesinscricao                        NaN              NaN         0.21   \n",
       "volnegocios                           NaN              NaN         0.22   \n",
       "freqmedia                             NaN              NaN         0.11   \n",
       "utilizacao_livre                      NaN              NaN         0.08   \n",
       "atividade_atletismo                   NaN              NaN         0.17   \n",
       "atividade_aquaticas                   NaN              NaN          NaN   \n",
       "atividade_fitness                     NaN              NaN         0.82   \n",
       "atividade_danca                       NaN              NaN          NaN   \n",
       "atividade_coletivos                   NaN              NaN          NaN   \n",
       "atividade_raquete                     NaN              NaN         0.12   \n",
       "atividade_combate                     NaN              NaN         0.36   \n",
       "atividade_especiais                   NaN              NaN         0.42   \n",
       "atividade_natureza                    NaN              NaN          NaN   \n",
       "atividade_outra                       NaN              NaN          NaN   \n",
       "natividades                           NaN              NaN         1.00   \n",
       "nfrequencias                          NaN              NaN         0.23   \n",
       "freqcontratadasemanal                 NaN              NaN         0.25   \n",
       "nrenovacoes                           NaN              NaN         0.19   \n",
       "nreferencias                          NaN              NaN         0.03   \n",
       "classe_desistencia                    NaN              NaN        -0.07   \n",
       "mes                                   NaN              NaN        -0.01   \n",
       "\n",
       "                       nfrequencias  freqcontratadasemanal  nrenovacoes  \\\n",
       "idade                          0.08                   0.19        -0.02   \n",
       "genero                         0.04                   0.00         0.02   \n",
       "diassemfrequencia             -0.19                   0.12        -0.02   \n",
       "mesesinscricao                 0.68                   0.12         0.88   \n",
       "volnegocios                    0.87                   0.06         0.66   \n",
       "freqmedia                      0.54                   0.12         0.05   \n",
       "utilizacao_livre               0.07                   0.52         0.14   \n",
       "atividade_atletismo            0.02                   0.07         0.06   \n",
       "atividade_aquaticas             NaN                    NaN          NaN   \n",
       "atividade_fitness              0.17                   0.27         0.15   \n",
       "atividade_danca                 NaN                    NaN          NaN   \n",
       "atividade_coletivos             NaN                    NaN          NaN   \n",
       "atividade_raquete             -0.00                   0.01        -0.01   \n",
       "atividade_combate              0.10                   0.02         0.06   \n",
       "atividade_especiais            0.13                   0.03         0.09   \n",
       "atividade_natureza              NaN                    NaN          NaN   \n",
       "atividade_outra                 NaN                    NaN          NaN   \n",
       "natividades                    0.23                   0.25         0.19   \n",
       "nfrequencias                   1.00                   0.11         0.61   \n",
       "freqcontratadasemanal          0.11                   1.00         0.07   \n",
       "nrenovacoes                    0.61                   0.07         1.00   \n",
       "nreferencias                   0.17                  -0.01         0.23   \n",
       "classe_desistencia            -0.32                   0.03        -0.33   \n",
       "mes                            0.04                  -0.04        -0.18   \n",
       "\n",
       "                       nreferencias  classe_desistencia   mes  \n",
       "idade                          0.03                0.11 -0.03  \n",
       "genero                         0.05               -0.02  0.05  \n",
       "diassemfrequencia              0.05                0.34  0.01  \n",
       "mesesinscricao                 0.29               -0.34  0.04  \n",
       "volnegocios                    0.18               -0.27  0.06  \n",
       "freqmedia                     -0.08               -0.29  0.00  \n",
       "utilizacao_livre               0.05               -0.00 -0.04  \n",
       "atividade_atletismo           -0.00               -0.01 -0.00  \n",
       "atividade_aquaticas             NaN                 NaN   NaN  \n",
       "atividade_fitness              0.03               -0.04 -0.01  \n",
       "atividade_danca                 NaN                 NaN   NaN  \n",
       "atividade_coletivos             NaN                 NaN   NaN  \n",
       "atividade_raquete              0.02                0.01  0.01  \n",
       "atividade_combate              0.04               -0.05  0.01  \n",
       "atividade_especiais           -0.02               -0.05 -0.01  \n",
       "atividade_natureza              NaN                 NaN   NaN  \n",
       "atividade_outra                 NaN                 NaN   NaN  \n",
       "natividades                    0.03               -0.07 -0.01  \n",
       "nfrequencias                   0.17               -0.32  0.04  \n",
       "freqcontratadasemanal         -0.01                0.03 -0.04  \n",
       "nrenovacoes                    0.23               -0.33 -0.18  \n",
       "nreferencias                   1.00                0.02  0.02  \n",
       "classe_desistencia             0.02                1.00 -0.08  \n",
       "mes                            0.02               -0.08  1.00  \n",
       "\n",
       "[24 rows x 24 columns]"
      ]
     },
     "execution_count": 32,
     "metadata": {},
     "output_type": "execute_result"
    }
   ],
   "source": [
    "dt.corr().round(decimals=imals=2)"
   ]
  },
  {
   "cell_type": "code",
   "execution_count": 33,
   "metadata": {},
   "outputs": [],
   "source": [
    "dt.dropna(inplace=True)"
   ]
  },
  {
   "cell_type": "code",
   "execution_count": 34,
   "metadata": {},
   "outputs": [],
   "source": [
    "T = dt['mesesinscricao']\n",
    "C = dt['classe_desistencia']"
   ]
  },
  {
   "cell_type": "code",
   "execution_count": 35,
   "metadata": {},
   "outputs": [
    {
     "data": {
      "text/plain": [
       "Index(['datanasc', 'idade', 'genero', 'inicio', 'termino', 'dtultvisita',\n",
       "       'diassemfrequencia', 'mesesinscricao', 'volnegocios', 'freqmedia',\n",
       "       'utilizacao_livre', 'atividade_atletismo', 'atividade_aquaticas',\n",
       "       'atividade_fitness', 'atividade_danca', 'atividade_coletivos',\n",
       "       'atividade_raquete', 'atividade_combate', 'atividade_especiais',\n",
       "       'atividade_natureza', 'atividade_outra', 'natividades', 'nfrequencias',\n",
       "       'freqcontratadasemanal', 'nrenovacoes', 'nreferencias',\n",
       "       'classe_desistencia', 'mes'],\n",
       "      dtype='object')"
      ]
     },
     "execution_count": 35,
     "metadata": {},
     "output_type": "execute_result"
    }
   ],
   "source": [
    "dt.columns"
   ]
  },
  {
   "cell_type": "markdown",
   "metadata": {},
   "source": [
    "O Cox Fitter deu erro atividade danca e atividade natureza removi estas variaveis"
   ]
  },
  {
   "cell_type": "code",
   "execution_count": 36,
   "metadata": {},
   "outputs": [
    {
     "data": {
      "text/plain": [
       "<lifelines.CoxPHFitter: fitted with 6745 observations, 2850 censored>"
      ]
     },
     "execution_count": 36,
     "metadata": {},
     "output_type": "execute_result"
    }
   ],
   "source": [
    "nomes_features= ['idade', 'genero', 'diassemfrequencia', 'mesesinscricao', 'volnegocios', 'freqmedia',\n",
    "                  'natividades', 'nfrequencias', 'freqcontratadasemanal', \n",
    "                 'nrenovacoes', 'nreferencias', 'classe_desistencia','mes']\n",
    "dtNadadores = dt[nomes_features].copy()\n",
    "\n",
    "from lifelines import CoxPHFitter\n",
    "cph = CoxPHFitter()\n",
    "cph.fit(dtNadadores,duration_col='mesesinscricao',event_col='classe_desistencia')"
   ]
  },
  {
   "cell_type": "code",
   "execution_count": 37,
   "metadata": {},
   "outputs": [
    {
     "name": "stdout",
     "output_type": "stream",
     "text": [
      "Stored 'dtNadadores' (DataFrame)\n"
     ]
    }
   ],
   "source": [
    "%store dtNadadores"
   ]
  },
  {
   "cell_type": "code",
   "execution_count": 38,
   "metadata": {},
   "outputs": [
    {
     "data": {
      "text/plain": [
       "Index(['idade', 'genero', 'diassemfrequencia', 'mesesinscricao', 'volnegocios',\n",
       "       'freqmedia', 'natividades', 'nfrequencias', 'freqcontratadasemanal',\n",
       "       'nrenovacoes', 'nreferencias', 'classe_desistencia', 'mes'],\n",
       "      dtype='object')"
      ]
     },
     "execution_count": 38,
     "metadata": {},
     "output_type": "execute_result"
    }
   ],
   "source": [
    "dtNadadores.columns"
   ]
  },
  {
   "cell_type": "markdown",
   "metadata": {},
   "source": [
    "## Não podem existir mais do que duas variáveis com correlação = 1 ou -1"
   ]
  },
  {
   "cell_type": "code",
   "execution_count": 38,
   "metadata": {},
   "outputs": [],
   "source": [
    "#dt.corr()"
   ]
  },
  {
   "cell_type": "code",
   "execution_count": 39,
   "metadata": {},
   "outputs": [
    {
     "name": "stdout",
     "output_type": "stream",
     "text": [
      "The ``p_value_threshold`` is set at 0.01. Even under the null hypothesis of no violations, some\n",
      "covariates will be below the threshold by chance. This is compounded when there are many covariates.\n",
      "Similarly, when there are lots of observations, even minor deviances from the proportional hazard\n",
      "assumption will be flagged.\n",
      "\n",
      "With that in mind, it's best to use a combination of statistical tests and visual tests to determine\n",
      "the most serious violations. Produce visual plots using ``check_assumptions(..., show_plots=True)``\n",
      "and looking for non-constant lines. See link [A] below for a full example.\n",
      "\n",
      "<lifelines.StatisticalResult>\n",
      "         test_name = proportional_hazard_test\n",
      " null_distribution = chi squared\n",
      "degrees_of_freedom = 1\n",
      "\n",
      "---\n",
      "                            test_statistic      p  -log2(p)\n",
      "diassemfrequencia     km            137.31 <0.005    102.93\n",
      "                      rank          143.40 <0.005    107.36\n",
      "freqcontratadasemanal km              4.13   0.04      4.56\n",
      "                      rank            3.48   0.06      4.01\n",
      "freqmedia             km              0.43   0.51      0.97\n",
      "                      rank            0.00   0.94      0.08\n",
      "genero                km              0.32   0.57      0.81\n",
      "                      rank            0.20   0.65      0.62\n",
      "idade                 km              3.13   0.08      3.71\n",
      "                      rank            3.37   0.07      3.91\n",
      "mes                   km            111.56 <0.005     84.21\n",
      "                      rank          116.18 <0.005     87.58\n",
      "natividades           km              0.08   0.77      0.37\n",
      "                      rank            0.01   0.91      0.13\n",
      "nfrequencias          km             64.54 <0.005     49.91\n",
      "                      rank           52.54 <0.005     41.11\n",
      "nreferencias          km              5.09   0.02      5.37\n",
      "                      rank            6.14   0.01      6.24\n",
      "nrenovacoes           km             28.76 <0.005     23.54\n",
      "                      rank           23.08 <0.005     19.30\n",
      "volnegocios           km            139.52 <0.005    104.54\n",
      "                      rank          136.73 <0.005    102.51\n",
      "\n",
      "\n",
      "1. Variable 'diassemfrequencia' failed the non-proportional test: p-value is <5e-05.\n",
      "\n",
      "   Advice 1: the functional form of the variable 'diassemfrequencia' might be incorrect. That is,\n",
      "there may be non-linear terms missing. The proportional hazard test used is very sensitive to\n",
      "incorrect functional forms. See documentation in link [D] below on how to specify a functional form.\n",
      "\n",
      "   Advice 2: try binning the variable 'diassemfrequencia' using pd.cut, and then specify it in\n",
      "`strata=['diassemfrequencia', ...]` in the call in `.fit`. See documentation in link [B] below.\n",
      "\n",
      "   Advice 3: try adding an interaction term with your time variable. See documentation in link [C]\n",
      "below.\n",
      "\n",
      "\n",
      "2. Variable 'volnegocios' failed the non-proportional test: p-value is <5e-05.\n",
      "\n",
      "   Advice 1: the functional form of the variable 'volnegocios' might be incorrect. That is, there\n",
      "may be non-linear terms missing. The proportional hazard test used is very sensitive to incorrect\n",
      "functional forms. See documentation in link [D] below on how to specify a functional form.\n",
      "\n",
      "   Advice 2: try binning the variable 'volnegocios' using pd.cut, and then specify it in\n",
      "`strata=['volnegocios', ...]` in the call in `.fit`. See documentation in link [B] below.\n",
      "\n",
      "   Advice 3: try adding an interaction term with your time variable. See documentation in link [C]\n",
      "below.\n",
      "\n",
      "\n",
      "3. Variable 'nfrequencias' failed the non-proportional test: p-value is <5e-05.\n",
      "\n",
      "   Advice 1: the functional form of the variable 'nfrequencias' might be incorrect. That is, there\n",
      "may be non-linear terms missing. The proportional hazard test used is very sensitive to incorrect\n",
      "functional forms. See documentation in link [D] below on how to specify a functional form.\n",
      "\n",
      "   Advice 2: try binning the variable 'nfrequencias' using pd.cut, and then specify it in\n",
      "`strata=['nfrequencias', ...]` in the call in `.fit`. See documentation in link [B] below.\n",
      "\n",
      "   Advice 3: try adding an interaction term with your time variable. See documentation in link [C]\n",
      "below.\n",
      "\n",
      "\n",
      "4. Variable 'nrenovacoes' failed the non-proportional test: p-value is <5e-05.\n",
      "\n",
      "   Advice: with so few unique values (only 5), you can include `strata=['nrenovacoes', ...]` in the\n",
      "call in `.fit`. See documentation in link [E] below.\n",
      "\n",
      "5. Variable 'nreferencias' failed the non-proportional test: p-value is 0.0132.\n",
      "\n",
      "   Advice 1: the functional form of the variable 'nreferencias' might be incorrect. That is, there\n",
      "may be non-linear terms missing. The proportional hazard test used is very sensitive to incorrect\n",
      "functional forms. See documentation in link [D] below on how to specify a functional form.\n",
      "\n",
      "   Advice 2: try binning the variable 'nreferencias' using pd.cut, and then specify it in\n",
      "`strata=['nreferencias', ...]` in the call in `.fit`. See documentation in link [B] below.\n",
      "\n",
      "   Advice 3: try adding an interaction term with your time variable. See documentation in link [C]\n",
      "below.\n",
      "\n",
      "\n",
      "6. Variable 'mes' failed the non-proportional test: p-value is <5e-05.\n",
      "\n",
      "   Advice 1: the functional form of the variable 'mes' might be incorrect. That is, there may be\n",
      "non-linear terms missing. The proportional hazard test used is very sensitive to incorrect\n",
      "functional forms. See documentation in link [D] below on how to specify a functional form.\n",
      "\n",
      "   Advice 2: try binning the variable 'mes' using pd.cut, and then specify it in `strata=['mes',\n",
      "...]` in the call in `.fit`. See documentation in link [B] below.\n",
      "\n",
      "   Advice 3: try adding an interaction term with your time variable. See documentation in link [C]\n",
      "below.\n",
      "\n",
      "\n",
      "---\n",
      "[A]  https://lifelines.readthedocs.io/en/latest/jupyter_notebooks/Proportional%20hazard%20assumption.html\n",
      "[B]  https://lifelines.readthedocs.io/en/latest/jupyter_notebooks/Proportional%20hazard%20assumption.html#Bin-variable-and-stratify-on-it\n",
      "[C]  https://lifelines.readthedocs.io/en/latest/jupyter_notebooks/Proportional%20hazard%20assumption.html#Introduce-time-varying-covariates\n",
      "[D]  https://lifelines.readthedocs.io/en/latest/jupyter_notebooks/Proportional%20hazard%20assumption.html#Modify-the-functional-form\n",
      "[E]  https://lifelines.readthedocs.io/en/latest/jupyter_notebooks/Proportional%20hazard%20assumption.html#Stratification\n",
      "\n"
     ]
    }
   ],
   "source": [
    "cph.check_assumptions(dtNadadores)"
   ]
  },
  {
   "cell_type": "code",
   "execution_count": 40,
   "metadata": {},
   "outputs": [
    {
     "data": {
      "text/plain": [
       "<lifelines.CoxPHFitter: fitted with 6745 observations, 2850 censored>"
      ]
     },
     "execution_count": 40,
     "metadata": {},
     "output_type": "execute_result"
    }
   ],
   "source": [
    "nomes_features= ['idade', 'genero', 'mesesinscricao', 'freqmedia', 'natividades', 'freqcontratadasemanal', 'classe_desistencia']\n",
    "\n",
    "nomes_features= ['idade', 'genero', 'diassemfrequencia', 'mesesinscricao', 'volnegocios', 'freqmedia','natividades', 'nfrequencias', 'freqcontratadasemanal', \n",
    "                 'nrenovacoes', 'nreferencias', 'classe_desistencia','mes']\n",
    "\n",
    "dtNad = dtNadadores[nomes_features].copy()\n",
    "\n",
    "from lifelines import CoxPHFitter\n",
    "cph = CoxPHFitter()\n",
    "cph.fit(dtNad,duration_col='mesesinscricao',event_col='classe_desistencia')"
   ]
  },
  {
   "cell_type": "code",
   "execution_count": 41,
   "metadata": {},
   "outputs": [
    {
     "name": "stdout",
     "output_type": "stream",
     "text": [
      "The ``p_value_threshold`` is set at 0.01. Even under the null hypothesis of no violations, some\n",
      "covariates will be below the threshold by chance. This is compounded when there are many covariates.\n",
      "Similarly, when there are lots of observations, even minor deviances from the proportional hazard\n",
      "assumption will be flagged.\n",
      "\n",
      "With that in mind, it's best to use a combination of statistical tests and visual tests to determine\n",
      "the most serious violations. Produce visual plots using ``check_assumptions(..., show_plots=True)``\n",
      "and looking for non-constant lines. See link [A] below for a full example.\n",
      "\n",
      "<lifelines.StatisticalResult>\n",
      "         test_name = proportional_hazard_test\n",
      " null_distribution = chi squared\n",
      "degrees_of_freedom = 1\n",
      "\n",
      "---\n",
      "                            test_statistic      p  -log2(p)\n",
      "diassemfrequencia     km            137.31 <0.005    102.93\n",
      "                      rank          143.40 <0.005    107.36\n",
      "freqcontratadasemanal km              4.13   0.04      4.56\n",
      "                      rank            3.48   0.06      4.01\n",
      "freqmedia             km              0.43   0.51      0.97\n",
      "                      rank            0.00   0.94      0.08\n",
      "genero                km              0.32   0.57      0.81\n",
      "                      rank            0.20   0.65      0.62\n",
      "idade                 km              3.13   0.08      3.71\n",
      "                      rank            3.37   0.07      3.91\n",
      "mes                   km            111.56 <0.005     84.21\n",
      "                      rank          116.18 <0.005     87.58\n",
      "natividades           km              0.08   0.77      0.37\n",
      "                      rank            0.01   0.91      0.13\n",
      "nfrequencias          km             64.54 <0.005     49.91\n",
      "                      rank           52.54 <0.005     41.11\n",
      "nreferencias          km              5.09   0.02      5.37\n",
      "                      rank            6.14   0.01      6.24\n",
      "nrenovacoes           km             28.76 <0.005     23.54\n",
      "                      rank           23.08 <0.005     19.30\n",
      "volnegocios           km            139.52 <0.005    104.54\n",
      "                      rank          136.73 <0.005    102.51\n",
      "\n",
      "\n",
      "1. Variable 'diassemfrequencia' failed the non-proportional test: p-value is <5e-05.\n",
      "\n",
      "   Advice 1: the functional form of the variable 'diassemfrequencia' might be incorrect. That is,\n",
      "there may be non-linear terms missing. The proportional hazard test used is very sensitive to\n",
      "incorrect functional forms. See documentation in link [D] below on how to specify a functional form.\n",
      "\n",
      "   Advice 2: try binning the variable 'diassemfrequencia' using pd.cut, and then specify it in\n",
      "`strata=['diassemfrequencia', ...]` in the call in `.fit`. See documentation in link [B] below.\n",
      "\n",
      "   Advice 3: try adding an interaction term with your time variable. See documentation in link [C]\n",
      "below.\n",
      "\n",
      "\n",
      "2. Variable 'volnegocios' failed the non-proportional test: p-value is <5e-05.\n",
      "\n",
      "   Advice 1: the functional form of the variable 'volnegocios' might be incorrect. That is, there\n",
      "may be non-linear terms missing. The proportional hazard test used is very sensitive to incorrect\n",
      "functional forms. See documentation in link [D] below on how to specify a functional form.\n",
      "\n",
      "   Advice 2: try binning the variable 'volnegocios' using pd.cut, and then specify it in\n",
      "`strata=['volnegocios', ...]` in the call in `.fit`. See documentation in link [B] below.\n",
      "\n",
      "   Advice 3: try adding an interaction term with your time variable. See documentation in link [C]\n",
      "below.\n",
      "\n",
      "\n",
      "3. Variable 'nfrequencias' failed the non-proportional test: p-value is <5e-05.\n",
      "\n",
      "   Advice 1: the functional form of the variable 'nfrequencias' might be incorrect. That is, there\n",
      "may be non-linear terms missing. The proportional hazard test used is very sensitive to incorrect\n",
      "functional forms. See documentation in link [D] below on how to specify a functional form.\n",
      "\n",
      "   Advice 2: try binning the variable 'nfrequencias' using pd.cut, and then specify it in\n",
      "`strata=['nfrequencias', ...]` in the call in `.fit`. See documentation in link [B] below.\n",
      "\n",
      "   Advice 3: try adding an interaction term with your time variable. See documentation in link [C]\n",
      "below.\n",
      "\n",
      "\n",
      "4. Variable 'nrenovacoes' failed the non-proportional test: p-value is <5e-05.\n",
      "\n",
      "   Advice: with so few unique values (only 5), you can include `strata=['nrenovacoes', ...]` in the\n",
      "call in `.fit`. See documentation in link [E] below.\n",
      "\n",
      "5. Variable 'nreferencias' failed the non-proportional test: p-value is 0.0132.\n",
      "\n",
      "   Advice 1: the functional form of the variable 'nreferencias' might be incorrect. That is, there\n",
      "may be non-linear terms missing. The proportional hazard test used is very sensitive to incorrect\n",
      "functional forms. See documentation in link [D] below on how to specify a functional form.\n",
      "\n",
      "   Advice 2: try binning the variable 'nreferencias' using pd.cut, and then specify it in\n",
      "`strata=['nreferencias', ...]` in the call in `.fit`. See documentation in link [B] below.\n",
      "\n",
      "   Advice 3: try adding an interaction term with your time variable. See documentation in link [C]\n",
      "below.\n",
      "\n",
      "\n",
      "6. Variable 'mes' failed the non-proportional test: p-value is <5e-05.\n",
      "\n",
      "   Advice 1: the functional form of the variable 'mes' might be incorrect. That is, there may be\n",
      "non-linear terms missing. The proportional hazard test used is very sensitive to incorrect\n",
      "functional forms. See documentation in link [D] below on how to specify a functional form.\n",
      "\n",
      "   Advice 2: try binning the variable 'mes' using pd.cut, and then specify it in `strata=['mes',\n",
      "...]` in the call in `.fit`. See documentation in link [B] below.\n",
      "\n",
      "   Advice 3: try adding an interaction term with your time variable. See documentation in link [C]\n",
      "below.\n",
      "\n",
      "\n",
      "---\n",
      "[A]  https://lifelines.readthedocs.io/en/latest/jupyter_notebooks/Proportional%20hazard%20assumption.html\n",
      "[B]  https://lifelines.readthedocs.io/en/latest/jupyter_notebooks/Proportional%20hazard%20assumption.html#Bin-variable-and-stratify-on-it\n",
      "[C]  https://lifelines.readthedocs.io/en/latest/jupyter_notebooks/Proportional%20hazard%20assumption.html#Introduce-time-varying-covariates\n",
      "[D]  https://lifelines.readthedocs.io/en/latest/jupyter_notebooks/Proportional%20hazard%20assumption.html#Modify-the-functional-form\n",
      "[E]  https://lifelines.readthedocs.io/en/latest/jupyter_notebooks/Proportional%20hazard%20assumption.html#Stratification\n",
      "\n"
     ]
    }
   ],
   "source": [
    "cph.check_assumptions(dtNad)"
   ]
  },
  {
   "cell_type": "code",
   "execution_count": 42,
   "metadata": {},
   "outputs": [
    {
     "name": "stdout",
     "output_type": "stream",
     "text": [
      "<lifelines.CoxPHFitter: fitted with 6745 observations, 2850 censored>\n",
      "      duration col = 'mesesinscricao'\n",
      "         event col = 'classe_desistencia'\n",
      "number of subjects = 6745\n",
      "  number of events = 3895\n",
      "    log-likelihood = -27650.91\n",
      "  time fit was run = 2019-10-12 21:12:56 UTC\n",
      "\n",
      "---\n",
      "                       coef exp(coef)  se(coef)      z      p  -log2(p)  lower 0.95  upper 0.95\n",
      "idade                  0.01      1.01      0.00   6.40 <0.005     32.62        0.00        0.01\n",
      "genero                -0.04      0.96      0.03  -1.12   0.26      1.94       -0.10        0.03\n",
      "diassemfrequencia      0.00      1.00      0.00   5.57 <0.005     25.22        0.00        0.00\n",
      "volnegocios           -0.00      1.00      0.00  -4.07 <0.005     14.37       -0.00       -0.00\n",
      "freqmedia              0.59      1.81      0.06  10.66 <0.005     85.77        0.49        0.70\n",
      "natividades           -0.04      0.96      0.07  -0.56   0.58      0.79       -0.18        0.10\n",
      "nfrequencias          -0.02      0.98      0.00 -13.85 <0.005    142.57       -0.03       -0.02\n",
      "freqcontratadasemanal -0.09      0.91      0.01 -10.03 <0.005     76.23       -0.11       -0.07\n",
      "nrenovacoes           -1.84      0.16      0.04 -52.30 <0.005       inf       -1.91       -1.77\n",
      "nreferencias          -0.03      0.97      0.03  -1.06   0.29      1.79       -0.09        0.03\n",
      "mes                   -0.15      0.86      0.01 -28.86 <0.005    606.16       -0.17       -0.14\n",
      "---\n",
      "Concordance = 0.88\n",
      "Log-likelihood ratio test = 7904.62 on 11 df, -log2(p)=inf\n"
     ]
    }
   ],
   "source": [
    "cph.print_summary()"
   ]
  },
  {
   "cell_type": "code",
   "execution_count": 43,
   "metadata": {},
   "outputs": [
    {
     "data": {
      "text/plain": [
       "<matplotlib.axes._subplots.AxesSubplot at 0x2988c3c0550>"
      ]
     },
     "execution_count": 43,
     "metadata": {},
     "output_type": "execute_result"
    },
    {
     "data": {
      "image/png": "[encoded data removed]",
      "text/plain": [
       "<Figure size 864x504 with 1 Axes>"
      ]
     },
     "metadata": {
      "needs_background": "light"
     },
     "output_type": "display_data"
    }
   ],
   "source": [
    "cph.plot()"
   ]
  },
  {
   "cell_type": "code",
   "execution_count": 44,
   "metadata": {},
   "outputs": [],
   "source": [
    "nomes_features= ['idade', 'genero', 'mesesinscricao', 'freqmedia','natividades', 'freqcontratadasemanal','nreferencias', 'classe_desistencia']\n"
   ]
  },
  {
   "cell_type": "code",
   "execution_count": 45,
   "metadata": {},
   "outputs": [
    {
     "data": {
      "text/plain": [
       "['idade',\n",
       " 'genero',\n",
       " 'mesesinscricao',\n",
       " 'freqmedia',\n",
       " 'natividades',\n",
       " 'freqcontratadasemanal',\n",
       " 'nreferencias',\n",
       " 'classe_desistencia']"
      ]
     },
     "execution_count": 45,
     "metadata": {},
     "output_type": "execute_result"
    }
   ],
   "source": [
    "nomes_features"
   ]
  },
  {
   "cell_type": "code",
   "execution_count": 46,
   "metadata": {},
   "outputs": [
    {
     "name": "stdout",
     "output_type": "stream",
     "text": [
      "The ``p_value_threshold`` is set at 0.05. Even under the null hypothesis of no violations, some\n",
      "covariates will be below the threshold by chance. This is compounded when there are many covariates.\n",
      "Similarly, when there are lots of observations, even minor deviances from the proportional hazard\n",
      "assumption will be flagged.\n",
      "\n",
      "With that in mind, it's best to use a combination of statistical tests and visual tests to determine\n",
      "the most serious violations. Produce visual plots using ``check_assumptions(..., show_plots=True)``\n",
      "and looking for non-constant lines. See link [A] below for a full example.\n",
      "\n",
      "<lifelines.StatisticalResult>\n",
      "         test_name = proportional_hazard_test\n",
      " null_distribution = chi squared\n",
      "degrees_of_freedom = 1\n",
      "\n",
      "---\n",
      "                            test_statistic      p  -log2(p)\n",
      "diassemfrequencia     km            137.31 <0.005    102.93\n",
      "                      rank          143.40 <0.005    107.36\n",
      "freqcontratadasemanal km              4.13   0.04      4.56\n",
      "                      rank            3.48   0.06      4.01\n",
      "freqmedia             km              0.43   0.51      0.97\n",
      "                      rank            0.00   0.94      0.08\n",
      "genero                km              0.32   0.57      0.81\n",
      "                      rank            0.20   0.65      0.62\n",
      "idade                 km              3.13   0.08      3.71\n",
      "                      rank            3.37   0.07      3.91\n",
      "mes                   km            111.56 <0.005     84.21\n",
      "                      rank          116.18 <0.005     87.58\n",
      "natividades           km              0.08   0.77      0.37\n",
      "                      rank            0.01   0.91      0.13\n",
      "nfrequencias          km             64.54 <0.005     49.91\n",
      "                      rank           52.54 <0.005     41.11\n",
      "nreferencias          km              5.09   0.02      5.37\n",
      "                      rank            6.14   0.01      6.24\n",
      "nrenovacoes           km             28.76 <0.005     23.54\n",
      "                      rank           23.08 <0.005     19.30\n",
      "volnegocios           km            139.52 <0.005    104.54\n",
      "                      rank          136.73 <0.005    102.51\n",
      "\n",
      "\n",
      "1. Variable 'diassemfrequencia' failed the non-proportional test: p-value is <5e-05.\n",
      "\n",
      "   Advice 1: the functional form of the variable 'diassemfrequencia' might be incorrect. That is,\n",
      "there may be non-linear terms missing. The proportional hazard test used is very sensitive to\n",
      "incorrect functional forms. See documentation in link [D] below on how to specify a functional form.\n",
      "\n",
      "   Advice 2: try binning the variable 'diassemfrequencia' using pd.cut, and then specify it in\n",
      "`strata=['diassemfrequencia', ...]` in the call in `.fit`. See documentation in link [B] below.\n",
      "\n",
      "   Advice 3: try adding an interaction term with your time variable. See documentation in link [C]\n",
      "below.\n",
      "\n",
      "\n",
      "2. Variable 'volnegocios' failed the non-proportional test: p-value is <5e-05.\n",
      "\n",
      "   Advice 1: the functional form of the variable 'volnegocios' might be incorrect. That is, there\n",
      "may be non-linear terms missing. The proportional hazard test used is very sensitive to incorrect\n",
      "functional forms. See documentation in link [D] below on how to specify a functional form.\n",
      "\n",
      "   Advice 2: try binning the variable 'volnegocios' using pd.cut, and then specify it in\n",
      "`strata=['volnegocios', ...]` in the call in `.fit`. See documentation in link [B] below.\n",
      "\n",
      "   Advice 3: try adding an interaction term with your time variable. See documentation in link [C]\n",
      "below.\n",
      "\n",
      "\n",
      "3. Variable 'nfrequencias' failed the non-proportional test: p-value is <5e-05.\n",
      "\n",
      "   Advice 1: the functional form of the variable 'nfrequencias' might be incorrect. That is, there\n",
      "may be non-linear terms missing. The proportional hazard test used is very sensitive to incorrect\n",
      "functional forms. See documentation in link [D] below on how to specify a functional form.\n",
      "\n",
      "   Advice 2: try binning the variable 'nfrequencias' using pd.cut, and then specify it in\n",
      "`strata=['nfrequencias', ...]` in the call in `.fit`. See documentation in link [B] below.\n",
      "\n",
      "   Advice 3: try adding an interaction term with your time variable. See documentation in link [C]\n",
      "below.\n",
      "\n",
      "\n",
      "4. Variable 'freqcontratadasemanal' failed the non-proportional test: p-value is 0.0423.\n",
      "\n",
      "   Advice 1: the functional form of the variable 'freqcontratadasemanal' might be incorrect. That\n",
      "is, there may be non-linear terms missing. The proportional hazard test used is very sensitive to\n",
      "incorrect functional forms. See documentation in link [D] below on how to specify a functional form.\n",
      "\n",
      "   Advice 2: try binning the variable 'freqcontratadasemanal' using pd.cut, and then specify it in\n",
      "`strata=['freqcontratadasemanal', ...]` in the call in `.fit`. See documentation in link [B] below.\n",
      "\n",
      "   Advice 3: try adding an interaction term with your time variable. See documentation in link [C]\n",
      "below.\n",
      "\n",
      "\n",
      "5. Variable 'nrenovacoes' failed the non-proportional test: p-value is <5e-05.\n",
      "\n",
      "   Advice: with so few unique values (only 5), you can include `strata=['nrenovacoes', ...]` in the\n",
      "call in `.fit`. See documentation in link [E] below.\n",
      "\n",
      "6. Variable 'nreferencias' failed the non-proportional test: p-value is 0.0132.\n",
      "\n",
      "   Advice 1: the functional form of the variable 'nreferencias' might be incorrect. That is, there\n",
      "may be non-linear terms missing. The proportional hazard test used is very sensitive to incorrect\n",
      "functional forms. See documentation in link [D] below on how to specify a functional form.\n",
      "\n",
      "   Advice 2: try binning the variable 'nreferencias' using pd.cut, and then specify it in\n",
      "`strata=['nreferencias', ...]` in the call in `.fit`. See documentation in link [B] below.\n",
      "\n",
      "   Advice 3: try adding an interaction term with your time variable. See documentation in link [C]\n",
      "below.\n",
      "\n",
      "\n",
      "7. Variable 'mes' failed the non-proportional test: p-value is <5e-05.\n",
      "\n",
      "   Advice 1: the functional form of the variable 'mes' might be incorrect. That is, there may be\n",
      "non-linear terms missing. The proportional hazard test used is very sensitive to incorrect\n",
      "functional forms. See documentation in link [D] below on how to specify a functional form.\n",
      "\n",
      "   Advice 2: try binning the variable 'mes' using pd.cut, and then specify it in `strata=['mes',\n",
      "...]` in the call in `.fit`. See documentation in link [B] below.\n",
      "\n",
      "   Advice 3: try adding an interaction term with your time variable. See documentation in link [C]\n",
      "below.\n",
      "\n",
      "\n",
      "---\n",
      "[A]  https://lifelines.readthedocs.io/en/latest/jupyter_notebooks/Proportional%20hazard%20assumption.html\n",
      "[B]  https://lifelines.readthedocs.io/en/latest/jupyter_notebooks/Proportional%20hazard%20assumption.html#Bin-variable-and-stratify-on-it\n",
      "[C]  https://lifelines.readthedocs.io/en/latest/jupyter_notebooks/Proportional%20hazard%20assumption.html#Introduce-time-varying-covariates\n",
      "[D]  https://lifelines.readthedocs.io/en/latest/jupyter_notebooks/Proportional%20hazard%20assumption.html#Modify-the-functional-form\n",
      "[E]  https://lifelines.readthedocs.io/en/latest/jupyter_notebooks/Proportional%20hazard%20assumption.html#Stratification\n",
      "\n"
     ]
    }
   ],
   "source": [
    "#cph.check_assumptions(dtNadadores,p_value_threshold=0.05,show_plots=True)\n",
    "cph.check_assumptions(dtNadadores,p_value_threshold=0.05)"
   ]
  },
  {
   "cell_type": "code",
   "execution_count": 47,
   "metadata": {},
   "outputs": [
    {
     "data": {
      "text/plain": [
       "<lifelines.CoxPHFitter: fitted with 6745 observations, 2850 censored>"
      ]
     },
     "execution_count": 47,
     "metadata": {},
     "output_type": "execute_result"
    }
   ],
   "source": [
    "# Modify functional form:\n",
    "dtNadadores2 = dtNadadores.copy()\n",
    "dtNadadores2['idade'] = dtNadadores2['idade'] - dtNadadores2['idade'].mean()\n",
    "dtNadadores2['diassemfrequencia'] = dtNadadores2['diassemfrequencia'] - dtNadadores2['diassemfrequencia'].mean()**3\n",
    "dtNadadores2['volnegocios'] = dtNadadores2['volnegocios'] - dtNadadores2['volnegocios'].mean()**2\n",
    "dtNadadores2['nrenovacoes'] = dtNadadores2['nrenovacoes'] - dtNadadores2['nrenovacoes'].mean()**3\n",
    "dtNadadores2['nfrequencias'] = dtNadadores2['nfrequencias'] - dtNadadores2['nfrequencias'].mean()**2\n",
    "dtNadadores2['nreferencias'] = dtNadadores2['nreferencias'] - dtNadadores2['nreferencias'].mean()**2\n",
    "#volnegocios\n",
    "\n",
    "nomes_features2= ['idade','genero', 'diassemfrequencia', 'mesesinscricao', 'volnegocios', 'freqmedia',\n",
    "                  'natividades', 'nfrequencias', 'freqcontratadasemanal', \n",
    "                 'nrenovacoes', 'nreferencias', 'classe_desistencia','mes']\n",
    "dtNadadores2 = dtNadadores2[nomes_features2]\n",
    "\n",
    "from lifelines import CoxPHFitter\n",
    "cph = CoxPHFitter()\n",
    "cph.fit(dtNadadores2,duration_col='mesesinscricao',event_col='classe_desistencia')"
   ]
  },
  {
   "cell_type": "markdown",
   "metadata": {},
   "source": [
    "## Ajustamos a \"functional form\" só corrigimos idade"
   ]
  },
  {
   "cell_type": "code",
   "execution_count": 48,
   "metadata": {},
   "outputs": [
    {
     "name": "stdout",
     "output_type": "stream",
     "text": [
      "The ``p_value_threshold`` is set at 0.01. Even under the null hypothesis of no violations, some\n",
      "covariates will be below the threshold by chance. This is compounded when there are many covariates.\n",
      "Similarly, when there are lots of observations, even minor deviances from the proportional hazard\n",
      "assumption will be flagged.\n",
      "\n",
      "With that in mind, it's best to use a combination of statistical tests and visual tests to determine\n",
      "the most serious violations. Produce visual plots using ``check_assumptions(..., show_plots=True)``\n",
      "and looking for non-constant lines. See link [A] below for a full example.\n",
      "\n",
      "<lifelines.StatisticalResult>\n",
      "         test_name = proportional_hazard_test\n",
      " null_distribution = chi squared\n",
      "degrees_of_freedom = 1\n",
      "\n",
      "---\n",
      "                            test_statistic      p  -log2(p)\n",
      "diassemfrequencia     km            137.31 <0.005    102.93\n",
      "                      rank          143.40 <0.005    107.36\n",
      "freqcontratadasemanal km              4.13   0.04      4.56\n",
      "                      rank            3.48   0.06      4.01\n",
      "freqmedia             km              0.43   0.51      0.97\n",
      "                      rank            0.00   0.94      0.08\n",
      "genero                km              0.32   0.57      0.81\n",
      "                      rank            0.20   0.65      0.62\n",
      "idade                 km              3.13   0.08      3.71\n",
      "                      rank            3.37   0.07      3.91\n",
      "mes                   km            111.56 <0.005     84.21\n",
      "                      rank          116.18 <0.005     87.58\n",
      "natividades           km              0.08   0.77      0.37\n",
      "                      rank            0.01   0.91      0.13\n",
      "nfrequencias          km             64.54 <0.005     49.91\n",
      "                      rank           52.54 <0.005     41.11\n",
      "nreferencias          km              5.09   0.02      5.37\n",
      "                      rank            6.14   0.01      6.24\n",
      "nrenovacoes           km             28.76 <0.005     23.54\n",
      "                      rank           23.08 <0.005     19.30\n",
      "volnegocios           km            139.52 <0.005    104.54\n",
      "                      rank          136.73 <0.005    102.51\n",
      "\n",
      "\n",
      "1. Variable 'diassemfrequencia' failed the non-proportional test: p-value is <5e-05.\n",
      "\n",
      "   Advice 1: the functional form of the variable 'diassemfrequencia' might be incorrect. That is,\n",
      "there may be non-linear terms missing. The proportional hazard test used is very sensitive to\n",
      "incorrect functional forms. See documentation in link [D] below on how to specify a functional form.\n",
      "\n",
      "   Advice 2: try binning the variable 'diassemfrequencia' using pd.cut, and then specify it in\n",
      "`strata=['diassemfrequencia', ...]` in the call in `.fit`. See documentation in link [B] below.\n",
      "\n",
      "   Advice 3: try adding an interaction term with your time variable. See documentation in link [C]\n",
      "below.\n",
      "\n",
      "\n",
      "2. Variable 'volnegocios' failed the non-proportional test: p-value is <5e-05.\n",
      "\n",
      "   Advice 1: the functional form of the variable 'volnegocios' might be incorrect. That is, there\n",
      "may be non-linear terms missing. The proportional hazard test used is very sensitive to incorrect\n",
      "functional forms. See documentation in link [D] below on how to specify a functional form.\n",
      "\n",
      "   Advice 2: try binning the variable 'volnegocios' using pd.cut, and then specify it in\n",
      "`strata=['volnegocios', ...]` in the call in `.fit`. See documentation in link [B] below.\n",
      "\n",
      "   Advice 3: try adding an interaction term with your time variable. See documentation in link [C]\n",
      "below.\n",
      "\n",
      "\n",
      "3. Variable 'nfrequencias' failed the non-proportional test: p-value is <5e-05.\n",
      "\n",
      "   Advice 1: the functional form of the variable 'nfrequencias' might be incorrect. That is, there\n",
      "may be non-linear terms missing. The proportional hazard test used is very sensitive to incorrect\n",
      "functional forms. See documentation in link [D] below on how to specify a functional form.\n",
      "\n",
      "   Advice 2: try binning the variable 'nfrequencias' using pd.cut, and then specify it in\n",
      "`strata=['nfrequencias', ...]` in the call in `.fit`. See documentation in link [B] below.\n",
      "\n",
      "   Advice 3: try adding an interaction term with your time variable. See documentation in link [C]\n",
      "below.\n",
      "\n",
      "\n",
      "4. Variable 'nrenovacoes' failed the non-proportional test: p-value is <5e-05.\n",
      "\n",
      "   Advice: with so few unique values (only 5), you can include `strata=['nrenovacoes', ...]` in the\n",
      "call in `.fit`. See documentation in link [E] below.\n",
      "\n",
      "5. Variable 'nreferencias' failed the non-proportional test: p-value is 0.0132.\n",
      "\n",
      "   Advice 1: the functional form of the variable 'nreferencias' might be incorrect. That is, there\n",
      "may be non-linear terms missing. The proportional hazard test used is very sensitive to incorrect\n",
      "functional forms. See documentation in link [D] below on how to specify a functional form.\n",
      "\n",
      "   Advice 2: try binning the variable 'nreferencias' using pd.cut, and then specify it in\n",
      "`strata=['nreferencias', ...]` in the call in `.fit`. See documentation in link [B] below.\n",
      "\n",
      "   Advice 3: try adding an interaction term with your time variable. See documentation in link [C]\n",
      "below.\n",
      "\n",
      "\n",
      "6. Variable 'mes' failed the non-proportional test: p-value is <5e-05.\n",
      "\n",
      "   Advice 1: the functional form of the variable 'mes' might be incorrect. That is, there may be\n",
      "non-linear terms missing. The proportional hazard test used is very sensitive to incorrect\n",
      "functional forms. See documentation in link [D] below on how to specify a functional form.\n",
      "\n",
      "   Advice 2: try binning the variable 'mes' using pd.cut, and then specify it in `strata=['mes',\n",
      "...]` in the call in `.fit`. See documentation in link [B] below.\n",
      "\n",
      "   Advice 3: try adding an interaction term with your time variable. See documentation in link [C]\n",
      "below.\n",
      "\n",
      "\n",
      "---\n",
      "[A]  https://lifelines.readthedocs.io/en/latest/jupyter_notebooks/Proportional%20hazard%20assumption.html\n",
      "[B]  https://lifelines.readthedocs.io/en/latest/jupyter_notebooks/Proportional%20hazard%20assumption.html#Bin-variable-and-stratify-on-it\n",
      "[C]  https://lifelines.readthedocs.io/en/latest/jupyter_notebooks/Proportional%20hazard%20assumption.html#Introduce-time-varying-covariates\n",
      "[D]  https://lifelines.readthedocs.io/en/latest/jupyter_notebooks/Proportional%20hazard%20assumption.html#Modify-the-functional-form\n",
      "[E]  https://lifelines.readthedocs.io/en/latest/jupyter_notebooks/Proportional%20hazard%20assumption.html#Stratification\n",
      "\n"
     ]
    }
   ],
   "source": [
    "#cph.check_assumptions(dtNadadores2,show_plots=True)\n",
    "cph.check_assumptions(dtNadadores2)"
   ]
  },
  {
   "cell_type": "code",
   "execution_count": 49,
   "metadata": {},
   "outputs": [
    {
     "data": {
      "text/plain": [
       "<lifelines.CoxPHFitter: fitted with 6745 observations, 2850 censored>"
      ]
     },
     "execution_count": 49,
     "metadata": {},
     "output_type": "execute_result"
    }
   ],
   "source": [
    "# Modify functional form:\n",
    "dtNadadores2 = dtNadadores.copy()\n",
    "dtNadadores2['idade'] = dtNadadores2['idade'] - dtNadadores2['idade'].mean()\n",
    "dtNadadores2['diassemfrequencia'] = dtNadadores2['diassemfrequencia'] - dtNadadores2['diassemfrequencia'].mean()**3\n",
    "dtNadadores2['volnegocios'] = dtNadadores2['volnegocios'] - dtNadadores2['volnegocios'].mean()**2\n",
    "dtNadadores2['nrenovacoes'] = dtNadadores2['nrenovacoes'] - dtNadadores2['nrenovacoes'].mean()**3\n",
    "dtNadadores2['nfrequencias'] = dtNadadores2['nfrequencias'] - dtNadadores2['nfrequencias'].mean()**2\n",
    "dtNadadores2['nreferencias'] = dtNadadores2['nreferencias'] - dtNadadores2['nreferencias'].mean()**2\n",
    "dtNadadores2['mes'] = dtNadadores2['mes'] - dtNadadores2['mes'].mean()\n",
    "#volnegocios\n",
    "\n",
    "nomes_features2= ['idade','genero', 'diassemfrequencia', 'mesesinscricao', 'volnegocios', 'freqmedia',\n",
    "                  'natividades', 'nfrequencias', 'freqcontratadasemanal', \n",
    "                 'nrenovacoes', 'nreferencias', 'classe_desistencia','mes']\n",
    "dtNadadores2 = dtNadadores2[nomes_features2]\n",
    "\n",
    "from lifelines import CoxPHFitter\n",
    "cph = CoxPHFitter()\n",
    "cph.fit(dtNadadores2,duration_col='mesesinscricao',event_col='classe_desistencia')"
   ]
  },
  {
   "cell_type": "code",
   "execution_count": 50,
   "metadata": {},
   "outputs": [
    {
     "name": "stdout",
     "output_type": "stream",
     "text": [
      "The ``p_value_threshold`` is set at 0.01. Even under the null hypothesis of no violations, some\n",
      "covariates will be below the threshold by chance. This is compounded when there are many covariates.\n",
      "Similarly, when there are lots of observations, even minor deviances from the proportional hazard\n",
      "assumption will be flagged.\n",
      "\n",
      "With that in mind, it's best to use a combination of statistical tests and visual tests to determine\n",
      "the most serious violations. Produce visual plots using ``check_assumptions(..., show_plots=True)``\n",
      "and looking for non-constant lines. See link [A] below for a full example.\n",
      "\n",
      "<lifelines.StatisticalResult>\n",
      "         test_name = proportional_hazard_test\n",
      " null_distribution = chi squared\n",
      "degrees_of_freedom = 1\n",
      "\n",
      "---\n",
      "                            test_statistic      p  -log2(p)\n",
      "diassemfrequencia     km            137.31 <0.005    102.93\n",
      "                      rank          143.40 <0.005    107.36\n",
      "freqcontratadasemanal km              4.13   0.04      4.56\n",
      "                      rank            3.48   0.06      4.01\n",
      "freqmedia             km              0.43   0.51      0.97\n",
      "                      rank            0.00   0.94      0.08\n",
      "genero                km              0.32   0.57      0.81\n",
      "                      rank            0.20   0.65      0.62\n",
      "idade                 km              3.13   0.08      3.71\n",
      "                      rank            3.37   0.07      3.91\n",
      "mes                   km            111.56 <0.005     84.21\n",
      "                      rank          116.18 <0.005     87.58\n",
      "natividades           km              0.08   0.77      0.37\n",
      "                      rank            0.01   0.91      0.13\n",
      "nfrequencias          km             64.54 <0.005     49.91\n",
      "                      rank           52.54 <0.005     41.11\n",
      "nreferencias          km              5.09   0.02      5.37\n",
      "                      rank            6.14   0.01      6.24\n",
      "nrenovacoes           km             28.76 <0.005     23.54\n",
      "                      rank           23.08 <0.005     19.30\n",
      "volnegocios           km            139.52 <0.005    104.54\n",
      "                      rank          136.73 <0.005    102.51\n",
      "\n",
      "\n",
      "1. Variable 'diassemfrequencia' failed the non-proportional test: p-value is <5e-05.\n",
      "\n",
      "   Advice 1: the functional form of the variable 'diassemfrequencia' might be incorrect. That is,\n",
      "there may be non-linear terms missing. The proportional hazard test used is very sensitive to\n",
      "incorrect functional forms. See documentation in link [D] below on how to specify a functional form.\n",
      "\n",
      "   Advice 2: try binning the variable 'diassemfrequencia' using pd.cut, and then specify it in\n",
      "`strata=['diassemfrequencia', ...]` in the call in `.fit`. See documentation in link [B] below.\n",
      "\n",
      "   Advice 3: try adding an interaction term with your time variable. See documentation in link [C]\n",
      "below.\n",
      "\n",
      "\n",
      "2. Variable 'volnegocios' failed the non-proportional test: p-value is <5e-05.\n",
      "\n",
      "   Advice 1: the functional form of the variable 'volnegocios' might be incorrect. That is, there\n",
      "may be non-linear terms missing. The proportional hazard test used is very sensitive to incorrect\n",
      "functional forms. See documentation in link [D] below on how to specify a functional form.\n",
      "\n",
      "   Advice 2: try binning the variable 'volnegocios' using pd.cut, and then specify it in\n",
      "`strata=['volnegocios', ...]` in the call in `.fit`. See documentation in link [B] below.\n",
      "\n",
      "   Advice 3: try adding an interaction term with your time variable. See documentation in link [C]\n",
      "below.\n",
      "\n",
      "\n",
      "3. Variable 'nfrequencias' failed the non-proportional test: p-value is <5e-05.\n",
      "\n",
      "   Advice 1: the functional form of the variable 'nfrequencias' might be incorrect. That is, there\n",
      "may be non-linear terms missing. The proportional hazard test used is very sensitive to incorrect\n",
      "functional forms. See documentation in link [D] below on how to specify a functional form.\n",
      "\n",
      "   Advice 2: try binning the variable 'nfrequencias' using pd.cut, and then specify it in\n",
      "`strata=['nfrequencias', ...]` in the call in `.fit`. See documentation in link [B] below.\n",
      "\n",
      "   Advice 3: try adding an interaction term with your time variable. See documentation in link [C]\n",
      "below.\n",
      "\n",
      "\n",
      "4. Variable 'nrenovacoes' failed the non-proportional test: p-value is <5e-05.\n",
      "\n",
      "   Advice: with so few unique values (only 5), you can include `strata=['nrenovacoes', ...]` in the\n",
      "call in `.fit`. See documentation in link [E] below.\n",
      "\n",
      "5. Variable 'nreferencias' failed the non-proportional test: p-value is 0.0132.\n",
      "\n",
      "   Advice 1: the functional form of the variable 'nreferencias' might be incorrect. That is, there\n",
      "may be non-linear terms missing. The proportional hazard test used is very sensitive to incorrect\n",
      "functional forms. See documentation in link [D] below on how to specify a functional form.\n",
      "\n",
      "   Advice 2: try binning the variable 'nreferencias' using pd.cut, and then specify it in\n",
      "`strata=['nreferencias', ...]` in the call in `.fit`. See documentation in link [B] below.\n",
      "\n",
      "   Advice 3: try adding an interaction term with your time variable. See documentation in link [C]\n",
      "below.\n",
      "\n",
      "\n",
      "6. Variable 'mes' failed the non-proportional test: p-value is <5e-05.\n",
      "\n",
      "   Advice 1: the functional form of the variable 'mes' might be incorrect. That is, there may be\n",
      "non-linear terms missing. The proportional hazard test used is very sensitive to incorrect\n",
      "functional forms. See documentation in link [D] below on how to specify a functional form.\n",
      "\n",
      "   Advice 2: try binning the variable 'mes' using pd.cut, and then specify it in `strata=['mes',\n",
      "...]` in the call in `.fit`. See documentation in link [B] below.\n",
      "\n",
      "   Advice 3: try adding an interaction term with your time variable. See documentation in link [C]\n",
      "below.\n",
      "\n",
      "\n",
      "---\n",
      "[A]  https://lifelines.readthedocs.io/en/latest/jupyter_notebooks/Proportional%20hazard%20assumption.html\n",
      "[B]  https://lifelines.readthedocs.io/en/latest/jupyter_notebooks/Proportional%20hazard%20assumption.html#Bin-variable-and-stratify-on-it\n",
      "[C]  https://lifelines.readthedocs.io/en/latest/jupyter_notebooks/Proportional%20hazard%20assumption.html#Introduce-time-varying-covariates\n",
      "[D]  https://lifelines.readthedocs.io/en/latest/jupyter_notebooks/Proportional%20hazard%20assumption.html#Modify-the-functional-form\n",
      "[E]  https://lifelines.readthedocs.io/en/latest/jupyter_notebooks/Proportional%20hazard%20assumption.html#Stratification\n",
      "\n"
     ]
    }
   ],
   "source": [
    "cph.check_assumptions(dtNadadores2)"
   ]
  },
  {
   "cell_type": "markdown",
   "metadata": {
    "toc-hr-collapsed": false
   },
   "source": [
    "## Ajustar valores variáveis"
   ]
  },
  {
   "cell_type": "code",
   "execution_count": 50,
   "metadata": {},
   "outputs": [],
   "source": [
    "nomes_features= ['idade', 'genero', 'diassemfrequencia', 'mesesinscricao', 'volnegocios', 'freqmedia',\n",
    "                  'natividades', 'nfrequencias', 'freqcontratadasemanal', \n",
    "                 'nrenovacoes', 'nreferencias', 'classe_desistencia','mes']\n",
    "dtNadadores = dt[nomes_features].copy()"
   ]
  },
  {
   "cell_type": "markdown",
   "metadata": {},
   "source": [
    "### Ajustar dias sem frequência"
   ]
  },
  {
   "cell_type": "code",
   "execution_count": 51,
   "metadata": {},
   "outputs": [
    {
     "data": {
      "text/plain": [
       "count    6745.000000\n",
       "mean       48.684507\n",
       "std        73.357987\n",
       "min         0.000000\n",
       "25%         5.000000\n",
       "50%        31.000000\n",
       "75%        62.000000\n",
       "max      1073.000000\n",
       "Name: diassemfrequencia, dtype: float64"
      ]
     },
     "execution_count": 51,
     "metadata": {},
     "output_type": "execute_result"
    }
   ],
   "source": [
    "dtNadadores.diassemfrequencia.describe()"
   ]
  },
  {
   "cell_type": "code",
   "execution_count": 52,
   "metadata": {},
   "outputs": [
    {
     "data": {
      "text/plain": [
       "'                         test_statistic      p  -log2(p)\\ndiassemfrequencia     km            137.31 <0.005    102.93\\nmes                   km            111.56 <0.005     84.21\\nnfrequencias          km             64.54 <0.005     49.91\\nnrenovacoes           km             28.76 <0.005     23.54\\nvolnegocios           km            139.52 <0.005    104.54\\n'"
      ]
     },
     "execution_count": 52,
     "metadata": {},
     "output_type": "execute_result"
    }
   ],
   "source": [
    "'''                         test_statistic      p  -log2(p)\n",
    "diassemfrequencia     km            137.31 <0.005    102.93\n",
    "mes                   km            111.56 <0.005     84.21\n",
    "nfrequencias          km             64.54 <0.005     49.91\n",
    "nrenovacoes           km             28.76 <0.005     23.54\n",
    "volnegocios           km            139.52 <0.005    104.54\n",
    "'''"
   ]
  },
  {
   "cell_type": "code",
   "execution_count": 53,
   "metadata": {},
   "outputs": [],
   "source": [
    "dtNadadores['diassemfrequencia2']=''\n",
    "[5,31,62]\n",
    "\n",
    "for index, cliente in dtNadadores.iterrows():\n",
    "    #se a variável tiver o valor 1 colocar na nova variável a descrição da atividade\n",
    "    if cliente['diassemfrequencia']<=5:\n",
    "        dtNadadores.at[index,'diassemfrequencia2']='ate 5'\n",
    "    elif (cliente['diassemfrequencia']>5) & (cliente['diassemfrequencia']<=31):\n",
    "        dtNadadores.at[index,'diassemfrequencia2']='5 a 31'\n",
    "    elif (cliente['diassemfrequencia']>31) & (cliente['diassemfrequencia']<=62):\n",
    "        dtNadadores.at[index,'diassemfrequencia2']='31 a 62'\n",
    "    elif (cliente['diassemfrequencia']>62):\n",
    "        dtNadadores.at[index,'diassemfrequencia2']='mais 62'"
   ]
  },
  {
   "cell_type": "code",
   "execution_count": 54,
   "metadata": {},
   "outputs": [
    {
     "data": {
      "text/plain": [
       "ate 5      1807\n",
       "31 a 62    1675\n",
       "mais 62    1675\n",
       "5 a 31     1588\n",
       "Name: diassemfrequencia2, dtype: int64"
      ]
     },
     "execution_count": 54,
     "metadata": {},
     "output_type": "execute_result"
    }
   ],
   "source": [
    "dtNadadores.diassemfrequencia2.value_counts()"
   ]
  },
  {
   "cell_type": "code",
   "execution_count": 55,
   "metadata": {},
   "outputs": [],
   "source": [
    "dtNadadores=pd.get_dummies(dtNadadores,columns=['diassemfrequencia2'],drop_first=True)"
   ]
  },
  {
   "cell_type": "code",
   "execution_count": 56,
   "metadata": {},
   "outputs": [
    {
     "data": {
      "text/plain": [
       "Index(['idade', 'genero', 'diassemfrequencia', 'mesesinscricao', 'volnegocios',\n",
       "       'freqmedia', 'natividades', 'nfrequencias', 'freqcontratadasemanal',\n",
       "       'nrenovacoes', 'nreferencias', 'classe_desistencia', 'mes',\n",
       "       'diassemfrequencia2_5 a 31', 'diassemfrequencia2_ate 5',\n",
       "       'diassemfrequencia2_mais 62'],\n",
       "      dtype='object')"
      ]
     },
     "execution_count": 56,
     "metadata": {},
     "output_type": "execute_result"
    }
   ],
   "source": [
    "dtNadadores.columns"
   ]
  },
  {
   "cell_type": "code",
   "execution_count": 57,
   "metadata": {},
   "outputs": [],
   "source": [
    "nomes_features= ['idade', 'genero', 'mesesinscricao', 'freqmedia','natividades', 'freqcontratadasemanal', \n",
    "                 'diassemfrequencia2_5 a 31', 'diassemfrequencia2_ate 5','diassemfrequencia2_mais 62',\n",
    "                 'nreferencias', 'classe_desistencia']"
   ]
  },
  {
   "cell_type": "code",
   "execution_count": 58,
   "metadata": {},
   "outputs": [
    {
     "name": "stdout",
     "output_type": "stream",
     "text": [
      "The ``p_value_threshold`` is set at 0.05. Even under the null hypothesis of no violations, some\n",
      "covariates will be below the threshold by chance. This is compounded when there are many covariates.\n",
      "Similarly, when there are lots of observations, even minor deviances from the proportional hazard\n",
      "assumption will be flagged.\n",
      "\n",
      "With that in mind, it's best to use a combination of statistical tests and visual tests to determine\n",
      "the most serious violations. Produce visual plots using ``check_assumptions(..., show_plots=True)``\n",
      "and looking for non-constant lines. See link [A] below for a full example.\n",
      "\n",
      "<lifelines.StatisticalResult>\n",
      "         test_name = proportional_hazard_test\n",
      " null_distribution = chi squared\n",
      "degrees_of_freedom = 1\n",
      "\n",
      "---\n",
      "                                 test_statistic      p  -log2(p)\n",
      "diassemfrequencia2_5 a 31  km             78.91 <0.005     60.41\n",
      "                           rank           76.58 <0.005     58.72\n",
      "diassemfrequencia2_ate 5   km             46.47 <0.005     36.65\n",
      "                           rank           42.62 <0.005     33.81\n",
      "diassemfrequencia2_mais 62 km             38.20 <0.005     30.55\n",
      "                           rank           44.57 <0.005     35.24\n",
      "freqcontratadasemanal      km              5.28   0.02      5.54\n",
      "                           rank            4.73   0.03      5.08\n",
      "freqmedia                  km             50.15 <0.005     39.35\n",
      "                           rank           59.54 <0.005     46.24\n",
      "genero                     km              0.36   0.55      0.87\n",
      "                           rank            0.27   0.60      0.73\n",
      "idade                      km             19.71 <0.005     16.76\n",
      "                           rank           20.59 <0.005     17.42\n",
      "natividades                km             25.07 <0.005     20.79\n",
      "                           rank           20.79 <0.005     17.57\n",
      "nreferencias               km             40.51 <0.005     32.25\n",
      "                           rank           39.32 <0.005     31.37\n",
      "\n",
      "\n",
      "1. Variable 'idade' failed the non-proportional test: p-value is <5e-05.\n",
      "\n",
      "   Advice 1: the functional form of the variable 'idade' might be incorrect. That is, there may be\n",
      "non-linear terms missing. The proportional hazard test used is very sensitive to incorrect\n",
      "functional forms. See documentation in link [D] below on how to specify a functional form.\n",
      "\n",
      "   Advice 2: try binning the variable 'idade' using pd.cut, and then specify it in `strata=['idade',\n",
      "...]` in the call in `.fit`. See documentation in link [B] below.\n",
      "\n",
      "   Advice 3: try adding an interaction term with your time variable. See documentation in link [C]\n",
      "below.\n",
      "\n",
      "\n",
      "2. Variable 'freqmedia' failed the non-proportional test: p-value is <5e-05.\n",
      "\n",
      "   Advice 1: the functional form of the variable 'freqmedia' might be incorrect. That is, there may\n",
      "be non-linear terms missing. The proportional hazard test used is very sensitive to incorrect\n",
      "functional forms. See documentation in link [D] below on how to specify a functional form.\n",
      "\n",
      "   Advice 2: try binning the variable 'freqmedia' using pd.cut, and then specify it in\n",
      "`strata=['freqmedia', ...]` in the call in `.fit`. See documentation in link [B] below.\n",
      "\n",
      "   Advice 3: try adding an interaction term with your time variable. See documentation in link [C]\n",
      "below.\n",
      "\n",
      "\n",
      "3. Variable 'natividades' failed the non-proportional test: p-value is <5e-05.\n",
      "\n",
      "   Advice: with so few unique values (only 3), you can include `strata=['natividades', ...]` in the\n",
      "call in `.fit`. See documentation in link [E] below.\n",
      "\n",
      "4. Variable 'freqcontratadasemanal' failed the non-proportional test: p-value is 0.0215.\n",
      "\n",
      "   Advice 1: the functional form of the variable 'freqcontratadasemanal' might be incorrect. That\n",
      "is, there may be non-linear terms missing. The proportional hazard test used is very sensitive to\n",
      "incorrect functional forms. See documentation in link [D] below on how to specify a functional form.\n",
      "\n",
      "   Advice 2: try binning the variable 'freqcontratadasemanal' using pd.cut, and then specify it in\n",
      "`strata=['freqcontratadasemanal', ...]` in the call in `.fit`. See documentation in link [B] below.\n",
      "\n",
      "   Advice 3: try adding an interaction term with your time variable. See documentation in link [C]\n",
      "below.\n",
      "\n",
      "\n",
      "5. Variable 'diassemfrequencia2_5 a 31' failed the non-proportional test: p-value is <5e-05.\n",
      "\n",
      "   Advice: with so few unique values (only 2), you can include `strata=['diassemfrequencia2_5 a 31',\n",
      "...]` in the call in `.fit`. See documentation in link [E] below.\n",
      "\n",
      "6. Variable 'diassemfrequencia2_ate 5' failed the non-proportional test: p-value is <5e-05.\n",
      "\n",
      "   Advice: with so few unique values (only 2), you can include `strata=['diassemfrequencia2_ate 5',\n",
      "...]` in the call in `.fit`. See documentation in link [E] below.\n",
      "\n",
      "7. Variable 'diassemfrequencia2_mais 62' failed the non-proportional test: p-value is <5e-05.\n",
      "\n",
      "   Advice: with so few unique values (only 2), you can include `strata=['diassemfrequencia2_mais\n",
      "62', ...]` in the call in `.fit`. See documentation in link [E] below.\n",
      "\n",
      "8. Variable 'nreferencias' failed the non-proportional test: p-value is <5e-05.\n",
      "\n",
      "   Advice 1: the functional form of the variable 'nreferencias' might be incorrect. That is, there\n",
      "may be non-linear terms missing. The proportional hazard test used is very sensitive to incorrect\n",
      "functional forms. See documentation in link [D] below on how to specify a functional form.\n",
      "\n",
      "   Advice 2: try binning the variable 'nreferencias' using pd.cut, and then specify it in\n",
      "`strata=['nreferencias', ...]` in the call in `.fit`. See documentation in link [B] below.\n",
      "\n",
      "   Advice 3: try adding an interaction term with your time variable. See documentation in link [C]\n",
      "below.\n",
      "\n",
      "\n",
      "---\n",
      "[A]  https://lifelines.readthedocs.io/en/latest/jupyter_notebooks/Proportional%20hazard%20assumption.html\n",
      "[B]  https://lifelines.readthedocs.io/en/latest/jupyter_notebooks/Proportional%20hazard%20assumption.html#Bin-variable-and-stratify-on-it\n",
      "[C]  https://lifelines.readthedocs.io/en/latest/jupyter_notebooks/Proportional%20hazard%20assumption.html#Introduce-time-varying-covariates\n",
      "[D]  https://lifelines.readthedocs.io/en/latest/jupyter_notebooks/Proportional%20hazard%20assumption.html#Modify-the-functional-form\n",
      "[E]  https://lifelines.readthedocs.io/en/latest/jupyter_notebooks/Proportional%20hazard%20assumption.html#Stratification\n",
      "\n"
     ]
    }
   ],
   "source": [
    "cph = CoxPHFitter()\n",
    "cph.fit(dtNadadores[nomes_features],duration_col='mesesinscricao',event_col='classe_desistencia')\n",
    "cph.check_assumptions(dtNadadores[nomes_features],p_value_threshold=0.05)"
   ]
  },
  {
   "cell_type": "markdown",
   "metadata": {},
   "source": [
    "### Ajustar os meses para trimestre"
   ]
  },
  {
   "cell_type": "code",
   "execution_count": 59,
   "metadata": {},
   "outputs": [],
   "source": [
    "dtNadadores['trimestre'] = 0"
   ]
  },
  {
   "cell_type": "code",
   "execution_count": 60,
   "metadata": {},
   "outputs": [],
   "source": [
    "dtNadadores.loc[dtNadadores['mes'].isin([1,2,3]),'trimestre']=1\n",
    "dtNadadores.loc[dtNadadores['mes'].isin([4,5,6]),'trimestre']=2\n",
    "dtNadadores.loc[dtNadadores['mes'].isin([7,8,9]),'trimestre']=3\n",
    "dtNadadores.loc[dtNadadores['mes'].isin([10,11,12]),'trimestre']=4"
   ]
  },
  {
   "cell_type": "code",
   "execution_count": 61,
   "metadata": {},
   "outputs": [],
   "source": [
    "nomes_features= ['idade', 'genero', 'mesesinscricao', 'freqmedia','natividades', 'freqcontratadasemanal', \n",
    "                 'trimestre','nreferencias', 'classe_desistencia']"
   ]
  },
  {
   "cell_type": "code",
   "execution_count": 62,
   "metadata": {},
   "outputs": [
    {
     "data": {
      "text/plain": [
       "count    6745.000000\n",
       "mean        2.657969\n",
       "std         1.020107\n",
       "min         1.000000\n",
       "25%         2.000000\n",
       "50%         3.000000\n",
       "75%         3.000000\n",
       "max         4.000000\n",
       "Name: trimestre, dtype: float64"
      ]
     },
     "execution_count": 62,
     "metadata": {},
     "output_type": "execute_result"
    }
   ],
   "source": [
    "dtNadadores['trimestre'].describe()"
   ]
  },
  {
   "cell_type": "code",
   "execution_count": 63,
   "metadata": {},
   "outputs": [
    {
     "name": "stdout",
     "output_type": "stream",
     "text": [
      "<lifelines.StatisticalResult>\n",
      "         test_name = proportional_hazard_test\n",
      " null_distribution = chi squared\n",
      "degrees_of_freedom = 1\n",
      "\n",
      "---\n",
      "                            test_statistic      p  -log2(p)\n",
      "freqcontratadasemanal km             17.93 <0.005     15.41\n",
      "                      rank           17.38 <0.005     14.99\n",
      "freqmedia             km             12.77 <0.005     11.47\n",
      "                      rank           17.87 <0.005     15.37\n",
      "genero                km              0.12   0.73      0.45\n",
      "                      rank            0.08   0.78      0.36\n",
      "idade                 km              6.00   0.01      6.13\n",
      "                      rank            6.57   0.01      6.59\n",
      "natividades           km             26.76 <0.005     22.05\n",
      "                      rank           22.46 <0.005     18.83\n",
      "nreferencias          km             42.11 <0.005     33.43\n",
      "                      rank           41.82 <0.005     33.22\n",
      "trimestre             km              3.15   0.08      3.72\n",
      "                      rank            3.74   0.05      4.23\n",
      "\n",
      "\n",
      "1. Variable 'idade' failed the non-proportional test: p-value is 0.0104.\n",
      "\n",
      "\n",
      "2. Variable 'freqmedia' failed the non-proportional test: p-value is <5e-05.\n",
      "\n",
      "\n",
      "3. Variable 'natividades' failed the non-proportional test: p-value is <5e-05.\n",
      "\n",
      "\n",
      "4. Variable 'freqcontratadasemanal' failed the non-proportional test: p-value is <5e-05.\n",
      "\n",
      "\n",
      "5. Variable 'trimestre' failed the non-proportional test: p-value is 0.0531.\n",
      "\n",
      "\n",
      "6. Variable 'nreferencias' failed the non-proportional test: p-value is <5e-05.\n",
      "\n"
     ]
    }
   ],
   "source": [
    "cph = CoxPHFitter()\n",
    "cph.fit(dtNadadores[nomes_features],duration_col='mesesinscricao',event_col='classe_desistencia')\n",
    "cph.check_assumptions(dtNadadores[nomes_features],p_value_threshold=0.0500,advice=False)"
   ]
  },
  {
   "cell_type": "markdown",
   "metadata": {},
   "source": [
    "**Continua a falhar o proportional hazard de schoenfeld** Considerando que o valor é 0.0531 vamos assumir superior a 0.05"
   ]
  },
  {
   "cell_type": "markdown",
   "metadata": {},
   "source": [
    "### Ajustar o numero de entradas para quartis"
   ]
  },
  {
   "cell_type": "code",
   "execution_count": 64,
   "metadata": {},
   "outputs": [
    {
     "data": {
      "text/plain": [
       "count    6745.000000\n",
       "mean       29.835434\n",
       "std        35.394236\n",
       "min         1.000000\n",
       "25%         6.000000\n",
       "50%        17.000000\n",
       "75%        40.000000\n",
       "max       323.000000\n",
       "Name: nfrequencias, dtype: float64"
      ]
     },
     "execution_count": 64,
     "metadata": {},
     "output_type": "execute_result"
    }
   ],
   "source": [
    "dtNadadores.nfrequencias.describe()"
   ]
  },
  {
   "cell_type": "code",
   "execution_count": 65,
   "metadata": {},
   "outputs": [],
   "source": [
    "dtNadadores['escFreq']=0\n",
    "for index, cliente in dtNadadores.iterrows():\n",
    "    #se a variável tiver o valor 1 colocar na nova variável a descrição da atividade\n",
    "    if cliente['nfrequencias'] <= 6:\n",
    "        dtNadadores.at[index,'escFreq']=0\n",
    "    elif (cliente['nfrequencias'] > 6) & (cliente['nfrequencias'] <= 17):\n",
    "        dtNadadores.at[index,'escFreq']=1\n",
    "    elif (cliente['nfrequencias'] > 17) & (cliente['nfrequencias'] <= 40):\n",
    "        dtNadadores.at[index,'escFreq']=2\n",
    "    elif (cliente['nfrequencias'] > 40):\n",
    "        dtNadadores.at[index,'escFreq']=3\n",
    "       \n",
    "    #dtNadadores.at[index,'escFreq']=np.around(cliente['nfrequencias'],decimals=1)"
   ]
  },
  {
   "cell_type": "code",
   "execution_count": 66,
   "metadata": {},
   "outputs": [
    {
     "data": {
      "text/plain": [
       "1    1760\n",
       "0    1720\n",
       "3    1674\n",
       "2    1591\n",
       "Name: escFreq, dtype: int64"
      ]
     },
     "execution_count": 66,
     "metadata": {},
     "output_type": "execute_result"
    }
   ],
   "source": [
    "dtNadadores.escFreq.value_counts()"
   ]
  },
  {
   "cell_type": "code",
   "execution_count": 67,
   "metadata": {},
   "outputs": [],
   "source": [
    "dtNadadores=pd.get_dummies(dtNadadores,columns=['escFreq'],drop_first=True)"
   ]
  },
  {
   "cell_type": "code",
   "execution_count": 68,
   "metadata": {},
   "outputs": [
    {
     "data": {
      "text/plain": [
       "Index(['idade', 'genero', 'diassemfrequencia', 'mesesinscricao', 'volnegocios',\n",
       "       'freqmedia', 'natividades', 'nfrequencias', 'freqcontratadasemanal',\n",
       "       'nrenovacoes', 'nreferencias', 'classe_desistencia', 'mes',\n",
       "       'diassemfrequencia2_5 a 31', 'diassemfrequencia2_ate 5',\n",
       "       'diassemfrequencia2_mais 62', 'trimestre', 'escFreq_1', 'escFreq_2',\n",
       "       'escFreq_3'],\n",
       "      dtype='object')"
      ]
     },
     "execution_count": 68,
     "metadata": {},
     "output_type": "execute_result"
    }
   ],
   "source": [
    "dtNadadores.columns"
   ]
  },
  {
   "cell_type": "code",
   "execution_count": 69,
   "metadata": {},
   "outputs": [],
   "source": [
    "nomes_features= ['idade', 'genero', 'mesesinscricao', 'freqmedia','natividades', 'freqcontratadasemanal', \n",
    "                 'escFreq_1', 'escFreq_2', 'escFreq_3', 'nreferencias', 'classe_desistencia']"
   ]
  },
  {
   "cell_type": "code",
   "execution_count": 70,
   "metadata": {},
   "outputs": [
    {
     "name": "stdout",
     "output_type": "stream",
     "text": [
      "<lifelines.StatisticalResult>\n",
      "         test_name = proportional_hazard_test\n",
      " null_distribution = chi squared\n",
      "degrees_of_freedom = 1\n",
      "\n",
      "---\n",
      "                            test_statistic      p  -log2(p)\n",
      "escFreq_1             km            209.99 <0.005    155.67\n",
      "                      rank          228.62 <0.005    169.16\n",
      "escFreq_2             km            599.56 <0.005    437.43\n",
      "                      rank          624.65 <0.005    455.56\n",
      "escFreq_3             km            558.20 <0.005    407.55\n",
      "                      rank          538.76 <0.005    393.50\n",
      "freqcontratadasemanal km             25.04 <0.005     20.76\n",
      "                      rank           21.79 <0.005     18.33\n",
      "freqmedia             km            150.52 <0.005    112.53\n",
      "                      rank          138.73 <0.005    103.97\n",
      "genero                km              1.17   0.28      1.84\n",
      "                      rank            1.09   0.30      1.75\n",
      "idade                 km              0.31   0.58      0.79\n",
      "                      rank            0.29   0.59      0.76\n",
      "natividades           km              2.89   0.09      3.49\n",
      "                      rank            2.16   0.14      2.82\n",
      "nreferencias          km              0.05   0.82      0.28\n",
      "                      rank            0.07   0.79      0.33\n",
      "\n",
      "\n",
      "1. Variable 'freqmedia' failed the non-proportional test: p-value is <5e-05.\n",
      "\n",
      "\n",
      "2. Variable 'freqcontratadasemanal' failed the non-proportional test: p-value is <5e-05.\n",
      "\n",
      "\n",
      "3. Variable 'escFreq_1' failed the non-proportional test: p-value is <5e-05.\n",
      "\n",
      "\n",
      "4. Variable 'escFreq_2' failed the non-proportional test: p-value is <5e-05.\n",
      "\n",
      "\n",
      "5. Variable 'escFreq_3' failed the non-proportional test: p-value is <5e-05.\n",
      "\n"
     ]
    }
   ],
   "source": [
    "cph = CoxPHFitter()\n",
    "cph.fit(dtNadadores[nomes_features],duration_col='mesesinscricao',event_col='classe_desistencia')\n",
    "cph.check_assumptions(dtNadadores[nomes_features],p_value_threshold=0.05,advice=False)"
   ]
  },
  {
   "cell_type": "markdown",
   "metadata": {},
   "source": [
    "**Continua a falhar o proportional hazard de schoenfeld**"
   ]
  },
  {
   "cell_type": "markdown",
   "metadata": {},
   "source": [
    "### Ajustar o numero de renovacoes para quartis"
   ]
  },
  {
   "cell_type": "code",
   "execution_count": 71,
   "metadata": {},
   "outputs": [
    {
     "data": {
      "text/plain": [
       "count    6745.000000\n",
       "mean        1.038992\n",
       "std         1.069552\n",
       "min         0.000000\n",
       "25%         0.000000\n",
       "50%         1.000000\n",
       "75%         2.000000\n",
       "max         4.000000\n",
       "Name: nrenovacoes, dtype: float64"
      ]
     },
     "execution_count": 71,
     "metadata": {},
     "output_type": "execute_result"
    }
   ],
   "source": [
    "dtNadadores.columns\n",
    "dtNadadores.nrenovacoes.describe()"
   ]
  },
  {
   "cell_type": "code",
   "execution_count": 72,
   "metadata": {},
   "outputs": [],
   "source": [
    "dtNadadores['esc_nrenovacoes']=0\n",
    "for index, cliente in dtNadadores.iterrows():\n",
    "    #se a variável tiver o valor 1 colocar na nova variável a descrição da atividade\n",
    "    if cliente['nrenovacoes'] == 0:\n",
    "        dtNadadores.at[index,'esc_nrenovacoes']=0\n",
    "    elif (cliente['nrenovacoes'] > 0) & (cliente['nrenovacoes'] <= 1):\n",
    "        dtNadadores.at[index,'esc_nrenovacoes']=1\n",
    "    elif (cliente['nrenovacoes'] > 1) & (cliente['nrenovacoes'] <= 2):\n",
    "        dtNadadores.at[index,'esc_nrenovacoes']=2\n",
    "    elif (cliente['nrenovacoes'] > 2):\n",
    "        dtNadadores.at[index,'esc_nrenovacoes']=3\n",
    "       \n",
    "    #dtNadadores.at[index,'esc_nrenovacoes']=np.around(cliente['nrenovacoes'],decimals=1)"
   ]
  },
  {
   "cell_type": "code",
   "execution_count": 73,
   "metadata": {},
   "outputs": [
    {
     "data": {
      "text/plain": [
       "0    2803\n",
       "1    1752\n",
       "2    1366\n",
       "3     824\n",
       "Name: esc_nrenovacoes, dtype: int64"
      ]
     },
     "execution_count": 73,
     "metadata": {},
     "output_type": "execute_result"
    }
   ],
   "source": [
    "dtNadadores.esc_nrenovacoes.value_counts()"
   ]
  },
  {
   "cell_type": "code",
   "execution_count": 74,
   "metadata": {},
   "outputs": [],
   "source": [
    "dtNadadores=pd.get_dummies(dtNadadores,columns=['esc_nrenovacoes'],drop_first=True)"
   ]
  },
  {
   "cell_type": "code",
   "execution_count": 75,
   "metadata": {},
   "outputs": [
    {
     "data": {
      "text/plain": [
       "Index(['idade', 'genero', 'diassemfrequencia', 'mesesinscricao', 'volnegocios',\n",
       "       'freqmedia', 'natividades', 'nfrequencias', 'freqcontratadasemanal',\n",
       "       'nrenovacoes', 'nreferencias', 'classe_desistencia', 'mes',\n",
       "       'diassemfrequencia2_5 a 31', 'diassemfrequencia2_ate 5',\n",
       "       'diassemfrequencia2_mais 62', 'trimestre', 'escFreq_1', 'escFreq_2',\n",
       "       'escFreq_3', 'esc_nrenovacoes_1', 'esc_nrenovacoes_2',\n",
       "       'esc_nrenovacoes_3'],\n",
       "      dtype='object')"
      ]
     },
     "execution_count": 75,
     "metadata": {},
     "output_type": "execute_result"
    }
   ],
   "source": [
    "dtNadadores.columns"
   ]
  },
  {
   "cell_type": "code",
   "execution_count": 76,
   "metadata": {},
   "outputs": [],
   "source": [
    "nomes_features= ['idade', 'genero', 'mesesinscricao', 'freqmedia','natividades', 'freqcontratadasemanal', 'trimestre',\n",
    "                 'esc_nrenovacoes_1', 'esc_nrenovacoes_2','esc_nrenovacoes_3', 'nreferencias', 'classe_desistencia']"
   ]
  },
  {
   "cell_type": "code",
   "execution_count": 77,
   "metadata": {},
   "outputs": [
    {
     "name": "stdout",
     "output_type": "stream",
     "text": [
      "<lifelines.StatisticalResult>\n",
      "         test_name = proportional_hazard_test\n",
      " null_distribution = chi squared\n",
      "degrees_of_freedom = 1\n",
      "\n",
      "---\n",
      "                            test_statistic      p  -log2(p)\n",
      "esc_nrenovacoes_1     km              0.53   0.47      1.10\n",
      "                      rank            0.73   0.39      1.35\n",
      "esc_nrenovacoes_2     km              3.58   0.06      4.10\n",
      "                      rank            2.56   0.11      3.19\n",
      "esc_nrenovacoes_3     km              0.49   0.48      1.05\n",
      "                      rank            0.38   0.54      0.90\n",
      "freqcontratadasemanal km              5.13   0.02      5.41\n",
      "                      rank            4.95   0.03      5.26\n",
      "freqmedia             km              0.60   0.44      1.19\n",
      "                      rank            0.10   0.75      0.42\n",
      "genero                km              1.42   0.23      2.10\n",
      "                      rank            1.18   0.28      1.85\n",
      "idade                 km              0.11   0.75      0.42\n",
      "                      rank            0.10   0.75      0.41\n",
      "natividades           km              0.76   0.38      1.38\n",
      "                      rank            0.49   0.49      1.04\n",
      "nreferencias          km             17.62 <0.005     15.18\n",
      "                      rank           18.54 <0.005     15.87\n",
      "trimestre             km             33.67 <0.005     27.19\n",
      "                      rank           37.46 <0.005     29.99\n",
      "\n",
      "\n",
      "1. Variable 'freqcontratadasemanal' failed the non-proportional test: p-value is 0.0235.\n",
      "\n",
      "\n",
      "2. Variable 'trimestre' failed the non-proportional test: p-value is <5e-05.\n",
      "\n",
      "\n",
      "3. Variable 'nreferencias' failed the non-proportional test: p-value is <5e-05.\n",
      "\n"
     ]
    }
   ],
   "source": [
    "cph = CoxPHFitter()\n",
    "cph.fit(dtNadadores[nomes_features],duration_col='mesesinscricao',event_col='classe_desistencia')\n",
    "cph.check_assumptions(dtNadadores[nomes_features],p_value_threshold=0.05,advice=False)"
   ]
  },
  {
   "cell_type": "markdown",
   "metadata": {},
   "source": [
    "### Ajustar valor faturado para quartis"
   ]
  },
  {
   "cell_type": "code",
   "execution_count": 78,
   "metadata": {},
   "outputs": [
    {
     "data": {
      "text/plain": [
       "count    6745.000000\n",
       "mean      161.815483\n",
       "std       158.575887\n",
       "min         0.000000\n",
       "25%        48.280000\n",
       "50%       107.200000\n",
       "75%       219.040000\n",
       "max      1293.000000\n",
       "Name: volnegocios, dtype: float64"
      ]
     },
     "execution_count": 78,
     "metadata": {},
     "output_type": "execute_result"
    }
   ],
   "source": [
    "dtNadadores.columns\n",
    "dtNadadores.volnegocios.describe()"
   ]
  },
  {
   "cell_type": "code",
   "execution_count": 79,
   "metadata": {},
   "outputs": [],
   "source": [
    "dtNadadores['esc_volNeg']=0\n",
    "for index, cliente in dtNadadores.iterrows():\n",
    "    #se a variável tiver o valor 1 colocar na nova variável a descrição da atividade\n",
    "    if cliente['volnegocios'] <= 48:\n",
    "        dtNadadores.at[index,'esc_volNeg']=0\n",
    "    elif (cliente['volnegocios'] > 48) & (cliente['volnegocios'] <= 107):\n",
    "        dtNadadores.at[index,'esc_volNeg']=1\n",
    "    elif (cliente['volnegocios'] > 107) & (cliente['volnegocios'] <= 219):\n",
    "        dtNadadores.at[index,'esc_volNeg']=2\n",
    "    elif (cliente['volnegocios'] > 219):\n",
    "        dtNadadores.at[index,'esc_volNeg']=3\n",
    "       \n",
    "    #dtNadadores.at[index,'esc_volNeg']=np.around(cliente['volnegocios'],decimals=1)"
   ]
  },
  {
   "cell_type": "code",
   "execution_count": 80,
   "metadata": {},
   "outputs": [
    {
     "data": {
      "text/plain": [
       "2    1693\n",
       "3    1690\n",
       "0    1682\n",
       "1    1680\n",
       "Name: esc_volNeg, dtype: int64"
      ]
     },
     "execution_count": 80,
     "metadata": {},
     "output_type": "execute_result"
    }
   ],
   "source": [
    "dtNadadores.esc_volNeg.value_counts()"
   ]
  },
  {
   "cell_type": "code",
   "execution_count": 81,
   "metadata": {},
   "outputs": [],
   "source": [
    "dtNadadores=pd.get_dummies(dtNadadores,columns=['esc_volNeg'],drop_first=True)"
   ]
  },
  {
   "cell_type": "code",
   "execution_count": 82,
   "metadata": {},
   "outputs": [
    {
     "data": {
      "text/plain": [
       "Index(['idade', 'genero', 'diassemfrequencia', 'mesesinscricao', 'volnegocios',\n",
       "       'freqmedia', 'natividades', 'nfrequencias', 'freqcontratadasemanal',\n",
       "       'nrenovacoes', 'nreferencias', 'classe_desistencia', 'mes',\n",
       "       'diassemfrequencia2_5 a 31', 'diassemfrequencia2_ate 5',\n",
       "       'diassemfrequencia2_mais 62', 'trimestre', 'escFreq_1', 'escFreq_2',\n",
       "       'escFreq_3', 'esc_nrenovacoes_1', 'esc_nrenovacoes_2',\n",
       "       'esc_nrenovacoes_3', 'esc_volNeg_1', 'esc_volNeg_2', 'esc_volNeg_3'],\n",
       "      dtype='object')"
      ]
     },
     "execution_count": 82,
     "metadata": {},
     "output_type": "execute_result"
    }
   ],
   "source": [
    "dtNadadores.columns"
   ]
  },
  {
   "cell_type": "code",
   "execution_count": 83,
   "metadata": {},
   "outputs": [],
   "source": [
    "nomes_features= ['idade', 'genero', 'mesesinscricao', 'freqmedia','natividades', 'freqcontratadasemanal', 'trimestre',\n",
    "                 'nreferencias', 'classe_desistencia']"
   ]
  },
  {
   "cell_type": "code",
   "execution_count": 84,
   "metadata": {},
   "outputs": [
    {
     "data": {
      "text/html": [
       "<div>\n",
       "<style scoped>\n",
       "    .dataframe tbody tr th:only-of-type {\n",
       "        vertical-align: middle;\n",
       "    }\n",
       "\n",
       "    .dataframe tbody tr th {\n",
       "        vertical-align: top;\n",
       "    }\n",
       "\n",
       "    .dataframe thead th {\n",
       "        text-align: right;\n",
       "    }\n",
       "</style>\n",
       "<table border=\"1\" class=\"dataframe\">\n",
       "  <thead>\n",
       "    <tr style=\"text-align: right;\">\n",
       "      <th></th>\n",
       "      <th>idade</th>\n",
       "      <th>genero</th>\n",
       "      <th>mesesinscricao</th>\n",
       "      <th>freqmedia</th>\n",
       "      <th>natividades</th>\n",
       "      <th>freqcontratadasemanal</th>\n",
       "      <th>trimestre</th>\n",
       "      <th>nreferencias</th>\n",
       "      <th>classe_desistencia</th>\n",
       "    </tr>\n",
       "  </thead>\n",
       "  <tbody>\n",
       "    <tr>\n",
       "      <td>count</td>\n",
       "      <td>6745.000000</td>\n",
       "      <td>6745.000000</td>\n",
       "      <td>6745.000000</td>\n",
       "      <td>6745.000000</td>\n",
       "      <td>6745.000000</td>\n",
       "      <td>6745.000000</td>\n",
       "      <td>6745.000000</td>\n",
       "      <td>6745.000000</td>\n",
       "      <td>6745.000000</td>\n",
       "    </tr>\n",
       "    <tr>\n",
       "      <td>mean</td>\n",
       "      <td>18.655300</td>\n",
       "      <td>0.480801</td>\n",
       "      <td>13.304818</td>\n",
       "      <td>0.600197</td>\n",
       "      <td>1.074870</td>\n",
       "      <td>2.072350</td>\n",
       "      <td>2.657969</td>\n",
       "      <td>0.304522</td>\n",
       "      <td>0.577465</td>\n",
       "    </tr>\n",
       "    <tr>\n",
       "      <td>std</td>\n",
       "      <td>19.292012</td>\n",
       "      <td>0.499668</td>\n",
       "      <td>10.916534</td>\n",
       "      <td>0.423792</td>\n",
       "      <td>0.272611</td>\n",
       "      <td>1.823901</td>\n",
       "      <td>1.020107</td>\n",
       "      <td>0.553286</td>\n",
       "      <td>0.493999</td>\n",
       "    </tr>\n",
       "    <tr>\n",
       "      <td>min</td>\n",
       "      <td>0.000000</td>\n",
       "      <td>0.000000</td>\n",
       "      <td>0.000000</td>\n",
       "      <td>0.010000</td>\n",
       "      <td>1.000000</td>\n",
       "      <td>1.000000</td>\n",
       "      <td>1.000000</td>\n",
       "      <td>0.000000</td>\n",
       "      <td>0.000000</td>\n",
       "    </tr>\n",
       "    <tr>\n",
       "      <td>25%</td>\n",
       "      <td>5.000000</td>\n",
       "      <td>0.000000</td>\n",
       "      <td>4.000000</td>\n",
       "      <td>0.300000</td>\n",
       "      <td>1.000000</td>\n",
       "      <td>1.000000</td>\n",
       "      <td>2.000000</td>\n",
       "      <td>0.000000</td>\n",
       "      <td>0.000000</td>\n",
       "    </tr>\n",
       "    <tr>\n",
       "      <td>50%</td>\n",
       "      <td>10.000000</td>\n",
       "      <td>0.000000</td>\n",
       "      <td>10.000000</td>\n",
       "      <td>0.510000</td>\n",
       "      <td>1.000000</td>\n",
       "      <td>1.000000</td>\n",
       "      <td>3.000000</td>\n",
       "      <td>0.000000</td>\n",
       "      <td>1.000000</td>\n",
       "    </tr>\n",
       "    <tr>\n",
       "      <td>75%</td>\n",
       "      <td>32.000000</td>\n",
       "      <td>1.000000</td>\n",
       "      <td>20.000000</td>\n",
       "      <td>0.800000</td>\n",
       "      <td>1.000000</td>\n",
       "      <td>2.000000</td>\n",
       "      <td>3.000000</td>\n",
       "      <td>1.000000</td>\n",
       "      <td>1.000000</td>\n",
       "    </tr>\n",
       "    <tr>\n",
       "      <td>max</td>\n",
       "      <td>88.000000</td>\n",
       "      <td>1.000000</td>\n",
       "      <td>47.000000</td>\n",
       "      <td>3.940000</td>\n",
       "      <td>3.000000</td>\n",
       "      <td>7.000000</td>\n",
       "      <td>4.000000</td>\n",
       "      <td>5.000000</td>\n",
       "      <td>1.000000</td>\n",
       "    </tr>\n",
       "  </tbody>\n",
       "</table>\n",
       "</div>"
      ],
      "text/plain": [
       "             idade       genero  mesesinscricao    freqmedia  natividades  \\\n",
       "count  6745.000000  6745.000000     6745.000000  6745.000000  6745.000000   \n",
       "mean     18.655300     0.480801       13.304818     0.600197     1.074870   \n",
       "std      19.292012     0.499668       10.916534     0.423792     0.272611   \n",
       "min       0.000000     0.000000        0.000000     0.010000     1.000000   \n",
       "25%       5.000000     0.000000        4.000000     0.300000     1.000000   \n",
       "50%      10.000000     0.000000       10.000000     0.510000     1.000000   \n",
       "75%      32.000000     1.000000       20.000000     0.800000     1.000000   \n",
       "max      88.000000     1.000000       47.000000     3.940000     3.000000   \n",
       "\n",
       "       freqcontratadasemanal    trimestre  nreferencias  classe_desistencia  \n",
       "count            6745.000000  6745.000000   6745.000000         6745.000000  \n",
       "mean                2.072350     2.657969      0.304522            0.577465  \n",
       "std                 1.823901     1.020107      0.553286            0.493999  \n",
       "min                 1.000000     1.000000      0.000000            0.000000  \n",
       "25%                 1.000000     2.000000      0.000000            0.000000  \n",
       "50%                 1.000000     3.000000      0.000000            1.000000  \n",
       "75%                 2.000000     3.000000      1.000000            1.000000  \n",
       "max                 7.000000     4.000000      5.000000            1.000000  "
      ]
     },
     "execution_count": 84,
     "metadata": {},
     "output_type": "execute_result"
    }
   ],
   "source": [
    "dtNadadores[nomes_features].describe()"
   ]
  },
  {
   "cell_type": "code",
   "execution_count": 85,
   "metadata": {},
   "outputs": [
    {
     "name": "stdout",
     "output_type": "stream",
     "text": [
      "<lifelines.StatisticalResult>\n",
      "         test_name = proportional_hazard_test\n",
      " null_distribution = chi squared\n",
      "degrees_of_freedom = 1\n",
      "\n",
      "---\n",
      "                            test_statistic      p  -log2(p)\n",
      "freqcontratadasemanal km             17.93 <0.005     15.41\n",
      "                      rank           17.38 <0.005     14.99\n",
      "freqmedia             km             12.77 <0.005     11.47\n",
      "                      rank           17.87 <0.005     15.37\n",
      "genero                km              0.12   0.73      0.45\n",
      "                      rank            0.08   0.78      0.36\n",
      "idade                 km              6.00   0.01      6.13\n",
      "                      rank            6.57   0.01      6.59\n",
      "natividades           km             26.76 <0.005     22.05\n",
      "                      rank           22.46 <0.005     18.83\n",
      "nreferencias          km             42.11 <0.005     33.43\n",
      "                      rank           41.82 <0.005     33.22\n",
      "trimestre             km              3.15   0.08      3.72\n",
      "                      rank            3.74   0.05      4.23\n",
      "\n",
      "\n",
      "1. Variable 'idade' failed the non-proportional test: p-value is 0.0104.\n",
      "\n",
      "\n",
      "2. Variable 'freqmedia' failed the non-proportional test: p-value is <5e-05.\n",
      "\n",
      "\n",
      "3. Variable 'natividades' failed the non-proportional test: p-value is <5e-05.\n",
      "\n",
      "\n",
      "4. Variable 'freqcontratadasemanal' failed the non-proportional test: p-value is <5e-05.\n",
      "\n",
      "\n",
      "5. Variable 'trimestre' failed the non-proportional test: p-value is 0.0531.\n",
      "\n",
      "\n",
      "6. Variable 'nreferencias' failed the non-proportional test: p-value is <5e-05.\n",
      "\n"
     ]
    }
   ],
   "source": [
    "cph = CoxPHFitter()\n",
    "cph.fit(dtNadadores[nomes_features],duration_col='mesesinscricao',event_col='classe_desistencia')\n",
    "cph.check_assumptions(dtNadadores[nomes_features],p_value_threshold=0.05,advice=False)"
   ]
  },
  {
   "cell_type": "markdown",
   "metadata": {},
   "source": [
    "## Regressão de cox final"
   ]
  },
  {
   "cell_type": "code",
   "execution_count": 86,
   "metadata": {},
   "outputs": [
    {
     "data": {
      "text/plain": [
       "Index(['idade', 'genero', 'diassemfrequencia', 'mesesinscricao', 'volnegocios',\n",
       "       'freqmedia', 'natividades', 'nfrequencias', 'freqcontratadasemanal',\n",
       "       'nrenovacoes', 'nreferencias', 'classe_desistencia', 'mes',\n",
       "       'diassemfrequencia2_5 a 31', 'diassemfrequencia2_ate 5',\n",
       "       'diassemfrequencia2_mais 62', 'trimestre', 'escFreq_1', 'escFreq_2',\n",
       "       'escFreq_3', 'esc_nrenovacoes_1', 'esc_nrenovacoes_2',\n",
       "       'esc_nrenovacoes_3', 'esc_volNeg_1', 'esc_volNeg_2', 'esc_volNeg_3'],\n",
       "      dtype='object')"
      ]
     },
     "execution_count": 86,
     "metadata": {},
     "output_type": "execute_result"
    }
   ],
   "source": [
    "dtNadadores.columns"
   ]
  },
  {
   "cell_type": "code",
   "execution_count": 87,
   "metadata": {},
   "outputs": [],
   "source": [
    "dtNadadores = dt.copy()"
   ]
  },
  {
   "cell_type": "code",
   "execution_count": 88,
   "metadata": {},
   "outputs": [
    {
     "name": "stdout",
     "output_type": "stream",
     "text": [
      "<lifelines.CoxPHFitter: fitted with 6745 observations, 2850 censored>\n",
      "      duration col = 'mesesinscricao'\n",
      "         event col = 'classe_desistencia'\n",
      "number of subjects = 6745\n",
      "  number of events = 3895\n",
      "    log-likelihood = -31231.69\n",
      "  time fit was run = 2019-10-12 21:15:07 UTC\n",
      "\n",
      "---\n",
      "                       coef exp(coef)  se(coef)      z      p  -log2(p)  lower 0.95  upper 0.95\n",
      "idade                  0.01      1.01      0.00  12.31 <0.005    113.23        0.01        0.01\n",
      "genero                -0.02      0.98      0.03  -0.75   0.45      1.14       -0.09        0.04\n",
      "freqmedia             -0.81      0.45      0.05 -17.28 <0.005    219.91       -0.90       -0.71\n",
      "natividades           -0.76      0.47      0.07 -10.84 <0.005     88.61       -0.90       -0.62\n",
      "freqcontratadasemanal -0.03      0.97      0.01  -3.01 <0.005      8.56       -0.04       -0.01\n",
      "mes                   -0.02      0.98      0.00  -5.12 <0.005     21.68       -0.03       -0.02\n",
      "nreferencias          -0.37      0.69      0.03 -12.28 <0.005    112.65       -0.43       -0.31\n",
      "---\n",
      "Concordance = 0.64\n",
      "Log-likelihood ratio test = 743.05 on 7 df, -log2(p)=516.38\n"
     ]
    }
   ],
   "source": [
    "nomes_features= ['idade', 'genero', 'mesesinscricao', 'freqmedia','natividades', 'freqcontratadasemanal', \n",
    "                 'mes','nreferencias', 'classe_desistencia']\n",
    "\n",
    "cph.fit(dtNadadores[nomes_features],duration_col='mesesinscricao',event_col='classe_desistencia')\n",
    "cph.print_summary()"
   ]
  },
  {
   "cell_type": "code",
   "execution_count": 89,
   "metadata": {},
   "outputs": [
    {
     "name": "stdout",
     "output_type": "stream",
     "text": [
      "<lifelines.StatisticalResult>\n",
      "         test_name = proportional_hazard_test\n",
      " null_distribution = chi squared\n",
      "degrees_of_freedom = 1\n",
      "\n",
      "---\n",
      "                            test_statistic      p  -log2(p)\n",
      "freqcontratadasemanal km             17.88 <0.005     15.37\n",
      "                      rank           17.36 <0.005     14.98\n",
      "freqmedia             km             12.90 <0.005     11.57\n",
      "                      rank           18.03 <0.005     15.49\n",
      "genero                km              0.12   0.73      0.45\n",
      "                      rank            0.08   0.78      0.36\n",
      "idade                 km              5.88   0.02      6.03\n",
      "                      rank            6.44   0.01      6.49\n",
      "mes                   km              3.21   0.07      3.77\n",
      "                      rank            3.68   0.06      4.18\n",
      "natividades           km             26.81 <0.005     22.09\n",
      "                      rank           22.51 <0.005     18.86\n",
      "nreferencias          km             41.72 <0.005     33.14\n",
      "                      rank           41.42 <0.005     32.92\n",
      "\n",
      "\n",
      "1. Variable 'idade' failed the non-proportional test: p-value is 0.0111.\n",
      "\n",
      "\n",
      "2. Variable 'freqmedia' failed the non-proportional test: p-value is <5e-05.\n",
      "\n",
      "\n",
      "3. Variable 'natividades' failed the non-proportional test: p-value is <5e-05.\n",
      "\n",
      "\n",
      "4. Variable 'freqcontratadasemanal' failed the non-proportional test: p-value is <5e-05.\n",
      "\n",
      "\n",
      "5. Variable 'nreferencias' failed the non-proportional test: p-value is <5e-05.\n",
      "\n"
     ]
    }
   ],
   "source": [
    "cph.check_assumptions(dtNadadores[nomes_features],p_value_threshold=0.05,advice=False)"
   ]
  },
  {
   "cell_type": "markdown",
   "metadata": {},
   "source": [
    "diassemfrequencia, volume negocios, atividade_fitness, nfrequencias e nrenovacoes  contribui para uma maior sobrevivência. Afasta do acontecimento abandono.     \n",
    "Frequencia média aproxima."
   ]
  },
  {
   "cell_type": "markdown",
   "metadata": {},
   "source": [
    "Verificar os pressupostos com scaled Schoenfeld residuals: A well-established approach to test the proportional hazards assumption is based on scaled Schoenfeld residuals, which is independent of time if the assumption holds"
   ]
  },
  {
   "cell_type": "markdown",
   "metadata": {},
   "source": [
    "Após a observação gráfica dos resíduos de Schoenfeld devemos determinar se temos um padrão de crescimento ou não crescimento. Os gráficos também nos podem dar indicações onde deveremos realizar um valor de corte nos dados.\n",
    "\n",
    "Por exemplo mes apresenta o padrao de reducao"
   ]
  },
  {
   "cell_type": "code",
   "execution_count": 90,
   "metadata": {},
   "outputs": [
    {
     "data": {
      "text/html": [
       "<div>\n",
       "<style scoped>\n",
       "    .dataframe tbody tr th:only-of-type {\n",
       "        vertical-align: middle;\n",
       "    }\n",
       "\n",
       "    .dataframe tbody tr th {\n",
       "        vertical-align: top;\n",
       "    }\n",
       "\n",
       "    .dataframe thead th {\n",
       "        text-align: right;\n",
       "    }\n",
       "</style>\n",
       "<table border=\"1\" class=\"dataframe\">\n",
       "  <thead>\n",
       "    <tr style=\"text-align: right;\">\n",
       "      <th></th>\n",
       "      <th>coef</th>\n",
       "      <th>exp(coef)</th>\n",
       "      <th>se(coef)</th>\n",
       "      <th>z</th>\n",
       "      <th>p</th>\n",
       "      <th>-log2(p)</th>\n",
       "      <th>lower 0.95</th>\n",
       "      <th>upper 0.95</th>\n",
       "    </tr>\n",
       "  </thead>\n",
       "  <tbody>\n",
       "    <tr>\n",
       "      <td>idade</td>\n",
       "      <td>0.010342</td>\n",
       "      <td>1.010396</td>\n",
       "      <td>0.000840</td>\n",
       "      <td>12.308033</td>\n",
       "      <td>8.199740e-35</td>\n",
       "      <td>113.231905</td>\n",
       "      <td>0.008695</td>\n",
       "      <td>0.011989</td>\n",
       "    </tr>\n",
       "    <tr>\n",
       "      <td>genero</td>\n",
       "      <td>-0.024812</td>\n",
       "      <td>0.975493</td>\n",
       "      <td>0.033037</td>\n",
       "      <td>-0.751028</td>\n",
       "      <td>4.526355e-01</td>\n",
       "      <td>1.143578</td>\n",
       "      <td>-0.089564</td>\n",
       "      <td>0.039940</td>\n",
       "    </tr>\n",
       "    <tr>\n",
       "      <td>freqmedia</td>\n",
       "      <td>-0.806144</td>\n",
       "      <td>0.446577</td>\n",
       "      <td>0.046644</td>\n",
       "      <td>-17.283035</td>\n",
       "      <td>6.313705e-67</td>\n",
       "      <td>219.910695</td>\n",
       "      <td>-0.897564</td>\n",
       "      <td>-0.714724</td>\n",
       "    </tr>\n",
       "    <tr>\n",
       "      <td>natividades</td>\n",
       "      <td>-0.759634</td>\n",
       "      <td>0.467837</td>\n",
       "      <td>0.070046</td>\n",
       "      <td>-10.844749</td>\n",
       "      <td>2.112151e-27</td>\n",
       "      <td>88.613346</td>\n",
       "      <td>-0.896923</td>\n",
       "      <td>-0.622346</td>\n",
       "    </tr>\n",
       "    <tr>\n",
       "      <td>freqcontratadasemanal</td>\n",
       "      <td>-0.026066</td>\n",
       "      <td>0.974271</td>\n",
       "      <td>0.008669</td>\n",
       "      <td>-3.006751</td>\n",
       "      <td>2.640555e-03</td>\n",
       "      <td>8.564943</td>\n",
       "      <td>-0.043057</td>\n",
       "      <td>-0.009075</td>\n",
       "    </tr>\n",
       "    <tr>\n",
       "      <td>mes</td>\n",
       "      <td>-0.024882</td>\n",
       "      <td>0.975425</td>\n",
       "      <td>0.004856</td>\n",
       "      <td>-5.124360</td>\n",
       "      <td>2.985502e-07</td>\n",
       "      <td>21.675523</td>\n",
       "      <td>-0.034399</td>\n",
       "      <td>-0.015365</td>\n",
       "    </tr>\n",
       "    <tr>\n",
       "      <td>nreferencias</td>\n",
       "      <td>-0.371550</td>\n",
       "      <td>0.689664</td>\n",
       "      <td>0.030268</td>\n",
       "      <td>-12.275192</td>\n",
       "      <td>1.230992e-34</td>\n",
       "      <td>112.645734</td>\n",
       "      <td>-0.430875</td>\n",
       "      <td>-0.312225</td>\n",
       "    </tr>\n",
       "  </tbody>\n",
       "</table>\n",
       "</div>"
      ],
      "text/plain": [
       "                           coef  exp(coef)  se(coef)          z             p  \\\n",
       "idade                  0.010342   1.010396  0.000840  12.308033  8.199740e-35   \n",
       "genero                -0.024812   0.975493  0.033037  -0.751028  4.526355e-01   \n",
       "freqmedia             -0.806144   0.446577  0.046644 -17.283035  6.313705e-67   \n",
       "natividades           -0.759634   0.467837  0.070046 -10.844749  2.112151e-27   \n",
       "freqcontratadasemanal -0.026066   0.974271  0.008669  -3.006751  2.640555e-03   \n",
       "mes                   -0.024882   0.975425  0.004856  -5.124360  2.985502e-07   \n",
       "nreferencias          -0.371550   0.689664  0.030268 -12.275192  1.230992e-34   \n",
       "\n",
       "                         -log2(p)  lower 0.95  upper 0.95  \n",
       "idade                  113.231905    0.008695    0.011989  \n",
       "genero                   1.143578   -0.089564    0.039940  \n",
       "freqmedia              219.910695   -0.897564   -0.714724  \n",
       "natividades             88.613346   -0.896923   -0.622346  \n",
       "freqcontratadasemanal    8.564943   -0.043057   -0.009075  \n",
       "mes                     21.675523   -0.034399   -0.015365  \n",
       "nreferencias           112.645734   -0.430875   -0.312225  "
      ]
     },
     "execution_count": 90,
     "metadata": {},
     "output_type": "execute_result"
    }
   ],
   "source": [
    "cph.summary"
   ]
  },
  {
   "cell_type": "markdown",
   "metadata": {
    "toc-hr-collapsed": false
   },
   "source": [
    "# Curvas sobrevivência considerando as variáveis mais relevantes na regressão de cox"
   ]
  },
  {
   "cell_type": "code",
   "execution_count": 91,
   "metadata": {},
   "outputs": [
    {
     "data": {
      "image/png": "[encoded data removed]",
      "text/plain": [
       "<Figure size 864x504 with 9 Axes>"
      ]
     },
     "metadata": {
      "needs_background": "light"
     },
     "output_type": "display_data"
    }
   ],
   "source": [
    "dt[['idade','freqmedia','nfrequencias','freqcontratadasemanal','nrenovacoes','mes','mesesinscricao']].hist();"
   ]
  },
  {
   "cell_type": "markdown",
   "metadata": {},
   "source": [
    "## age"
   ]
  },
  {
   "cell_type": "markdown",
   "metadata": {},
   "source": [
    "Utilizar os escalões de idade OMS\n",
    "\n",
    "| Escalões      | Idades        |\n",
    "| ------------- |:-------------:|\n",
    "| Infância      |  até 10 anos  |\n",
    "| Adolescência  |  10-20        |\n",
    "| Idade adulta  |  20-40        |\n",
    "| Meia Idade    |  40-60        |\n",
    "| Terceira Idade|  +60          |"
   ]
  },
  {
   "cell_type": "code",
   "execution_count": 92,
   "metadata": {},
   "outputs": [
    {
     "data": {
      "text/plain": [
       "count    6745.000000\n",
       "mean       18.655300\n",
       "std        19.292012\n",
       "min         0.000000\n",
       "25%         5.000000\n",
       "50%        10.000000\n",
       "75%        32.000000\n",
       "max        88.000000\n",
       "Name: idade, dtype: float64"
      ]
     },
     "execution_count": 92,
     "metadata": {},
     "output_type": "execute_result"
    }
   ],
   "source": [
    "dt['idade'].describe()"
   ]
  },
  {
   "cell_type": "code",
   "execution_count": 93,
   "metadata": {},
   "outputs": [
    {
     "data": {
      "text/plain": [
       "Index(['datanasc', 'idade', 'genero', 'inicio', 'termino', 'dtultvisita',\n",
       "       'diassemfrequencia', 'mesesinscricao', 'volnegocios', 'freqmedia',\n",
       "       'utilizacao_livre', 'atividade_atletismo', 'atividade_aquaticas',\n",
       "       'atividade_fitness', 'atividade_danca', 'atividade_coletivos',\n",
       "       'atividade_raquete', 'atividade_combate', 'atividade_especiais',\n",
       "       'atividade_natureza', 'atividade_outra', 'natividades', 'nfrequencias',\n",
       "       'freqcontratadasemanal', 'nrenovacoes', 'nreferencias',\n",
       "       'classe_desistencia', 'mes'],\n",
       "      dtype='object')"
      ]
     },
     "execution_count": 93,
     "metadata": {},
     "output_type": "execute_result"
    }
   ],
   "source": [
    "dt.columns"
   ]
  },
  {
   "cell_type": "markdown",
   "metadata": {},
   "source": [
    "Vamos dividir a distribuicao idades em 5 partes"
   ]
  },
  {
   "cell_type": "code",
   "execution_count": 94,
   "metadata": {},
   "outputs": [],
   "source": [
    "#dt['escaloesIdade']=''\n",
    "#escaloesIdade=[10,20,40,60]\n",
    "#\n",
    "#for index, cliente in dt.iterrows():\n",
    "#    #se a variável tiver o valor 1 colocar na nova variável a descrição da atividade\n",
    "#    if cliente['idade']<=10:\n",
    "#        dt.at[index,'escaloesIdade']='ate 10'\n",
    "#    elif (cliente['idade']>10) & (cliente['idade']<=20):\n",
    "#        dt.at[index,'escaloesIdade']='10 a 20'\n",
    "#    elif (cliente['idade']>20) & (cliente['idade']<=40):\n",
    "#        dt.at[index,'escaloesIdade']='21 a 40'\n",
    "#    elif (cliente['idade']>40) & (cliente['idade']<=60):\n",
    "#        dt.at[index,'escaloesIdade']='41 a 60'\n",
    "#    elif (cliente['idade']>60):\n",
    "#        dt.at[index,'escaloesIdade']='mais 60'"
   ]
  },
  {
   "cell_type": "code",
   "execution_count": 95,
   "metadata": {},
   "outputs": [
    {
     "data": {
      "text/plain": [
       "count    6745.000000\n",
       "mean       18.655300\n",
       "std        19.292012\n",
       "min         0.000000\n",
       "25%         5.000000\n",
       "50%        10.000000\n",
       "75%        32.000000\n",
       "max        88.000000\n",
       "Name: idade, dtype: float64"
      ]
     },
     "execution_count": 95,
     "metadata": {},
     "output_type": "execute_result"
    }
   ],
   "source": [
    "dt.idade.describe()"
   ]
  },
  {
   "cell_type": "code",
   "execution_count": 96,
   "metadata": {},
   "outputs": [],
   "source": [
    "dt['escaloesIdade']=''\n",
    "escaloesIdade=[10,20,40,60]\n",
    "\n",
    "for index, cliente in dt.iterrows():\n",
    "    #se a variável tiver o valor 1 colocar na nova variável a descrição da atividade\n",
    "    if cliente['idade']<=5:\n",
    "        dt.at[index,'escaloesIdade']='until 5'\n",
    "    elif (cliente['idade']>5) & (cliente['idade']<=10):\n",
    "        dt.at[index,'escaloesIdade']='5 to 10'\n",
    "    elif (cliente['idade']>10) & (cliente['idade']<=32):\n",
    "        dt.at[index,'escaloesIdade']='10 a 32'\n",
    "    elif (cliente['idade']>32):\n",
    "        dt.at[index,'escaloesIdade']='more than 32'"
   ]
  },
  {
   "cell_type": "code",
   "execution_count": 97,
   "metadata": {},
   "outputs": [
    {
     "data": {
      "text/plain": [
       "array(['10 a 32', '5 to 10', 'until 5', 'more than 32'], dtype=object)"
      ]
     },
     "execution_count": 97,
     "metadata": {},
     "output_type": "execute_result"
    }
   ],
   "source": [
    "dt.escaloesIdade.unique()"
   ]
  },
  {
   "cell_type": "code",
   "execution_count": 98,
   "metadata": {},
   "outputs": [
    {
     "data": {
      "text/plain": [
       "escaloesIdade\n",
       "10 a 32         1520\n",
       "5 to 10         1688\n",
       "more than 32    1666\n",
       "until 5         1871\n",
       "Name: idade, dtype: int64"
      ]
     },
     "execution_count": 98,
     "metadata": {},
     "output_type": "execute_result"
    }
   ],
   "source": [
    "dt.groupby(dt['escaloesIdade']).count().iloc[:,1]"
   ]
  },
  {
   "cell_type": "code",
   "execution_count": 104,
   "metadata": {},
   "outputs": [
    {
     "name": "stdout",
     "output_type": "stream",
     "text": [
      "10 a 32  predict survival 12 months: 0.43057257599984217 : median  10.0\n",
      "5 to 10  predict survival 12 months: 0.6489208673026031 : median  22.0\n",
      "until 5  predict survival 12 months: 0.5491332303030675 : median  15.0\n",
      "more than 32  predict survival 12 months: 0.48348093995777114 : median  11.0\n"
     ]
    },
    {
     "data": {
      "image/png": "[encoded data removed]",
      "text/plain": [
       "<Figure size 864x504 with 1 Axes>"
      ]
     },
     "metadata": {
      "needs_background": "light"
     },
     "output_type": "display_data"
    }
   ],
   "source": [
    "ax = plt.subplot(111)\n",
    "import matplotlib.pyplot as plt\n",
    "import numpy as np\n",
    "#vamos considerar só 0,1,2,3\n",
    "escaloesIdade=dt['escaloesIdade'].unique()\n",
    "\n",
    "plt.rcParams['figure.figsize'] = [12, 7]\n",
    "for escalao in escaloesIdade:\n",
    "    ix = dt['escaloesIdade'] == escalao\n",
    "    kmf.fit(T.loc[ix], C.loc[ix], label=str(escalao))\n",
    "    ax = kmf.plot(ax=ax)\n",
    "    print(str(escalao),' predict survival 12 months:',kmf.predict(12.0),': median ',kmf.median_)\n",
    "\n",
    "plt.title('Survival by age cohorts');"
   ]
  },
  {
   "cell_type": "code",
   "execution_count": 105,
   "metadata": {},
   "outputs": [
    {
     "name": "stdout",
     "output_type": "stream",
     "text": [
      "<lifelines.StatisticalResult>\n",
      "               t_0 = -1\n",
      " null_distribution = chi squared\n",
      "degrees_of_freedom = 3\n",
      "\n",
      "---\n",
      " test_statistic      p  -log2(p)\n",
      "         204.78 <0.005    144.19\n"
     ]
    }
   ],
   "source": [
    "from lifelines.statistics import multivariate_logrank_test\n",
    "\n",
    "results=multivariate_logrank_test(event_durations=T,groups=dt.escaloesIdade,event_observed=C)\n",
    "results.print_summary()"
   ]
  },
  {
   "cell_type": "code",
   "execution_count": 106,
   "metadata": {},
   "outputs": [
    {
     "name": "stdout",
     "output_type": "stream",
     "text": [
      "<lifelines.StatisticalResult>\n",
      "               t_0 = -1\n",
      " null_distribution = chi squared\n",
      "degrees_of_freedom = 1\n",
      "\n",
      "---\n",
      "                           test_statistic      p  -log2(p)\n",
      "10 a 32      5 to 10               192.30 <0.005    142.85\n",
      "             more than 32           13.57 <0.005     12.09\n",
      "             until 5                67.91 <0.005     52.37\n",
      "5 to 10      more than 32          101.89 <0.005     77.17\n",
      "             until 5                26.39 <0.005     21.77\n",
      "more than 32 until 5                23.63 <0.005     19.71\n"
     ]
    }
   ],
   "source": [
    "from lifelines.statistics import pairwise_logrank_test\n",
    "\n",
    "results=pairwise_logrank_test(event_durations=T,groups=dt.escaloesIdade,event_observed=C)\n",
    "results.print_summary()"
   ]
  },
  {
   "cell_type": "markdown",
   "metadata": {
    "toc-hr-collapsed": false
   },
   "source": [
    "## maccess"
   ]
  },
  {
   "cell_type": "code",
   "execution_count": 107,
   "metadata": {},
   "outputs": [
    {
     "data": {
      "text/plain": [
       "count    6745.000000\n",
       "mean        0.600197\n",
       "std         0.423792\n",
       "min         0.010000\n",
       "25%         0.300000\n",
       "50%         0.510000\n",
       "75%         0.800000\n",
       "max         3.940000\n",
       "Name: freqmedia, dtype: float64"
      ]
     },
     "execution_count": 107,
     "metadata": {},
     "output_type": "execute_result"
    }
   ],
   "source": [
    "dt.freqmedia.describe()"
   ]
  },
  {
   "cell_type": "code",
   "execution_count": 108,
   "metadata": {},
   "outputs": [],
   "source": [
    "dt['esc_maccess']=''\n",
    "for index, cliente in dt.iterrows():\n",
    "    #se a variável tiver o valor 1 colocar na nova variável a descrição da atividade\n",
    "    if cliente['freqmedia'] <= 0.3:\n",
    "        dt.at[index,'esc_maccess']='maccess less than 0.3'\n",
    "    elif (cliente['freqmedia'] > 0.3) & (cliente['freqmedia'] < 0.51):\n",
    "        dt.at[index,'esc_maccess']='maccess greather than 0.3 and less 0.51'\n",
    "    elif (cliente['freqmedia'] >= 0.51) & (cliente['freqmedia'] < 0.8):\n",
    "        dt.at[index,'esc_maccess']='maccess greather than 0.51 and less 0.8'\n",
    "    elif (cliente['freqmedia'] >= 0.8):\n",
    "        dt.at[index,'esc_maccess']='maccess greather than 0.8'"
   ]
  },
  {
   "cell_type": "code",
   "execution_count": 109,
   "metadata": {},
   "outputs": [
    {
     "data": {
      "text/plain": [
       "maccess less than 0.3                      1740\n",
       "maccess greather than 0.8                  1698\n",
       "maccess greather than 0.51 and less 0.8    1675\n",
       "maccess greather than 0.3 and less 0.51    1632\n",
       "Name: esc_maccess, dtype: int64"
      ]
     },
     "execution_count": 109,
     "metadata": {},
     "output_type": "execute_result"
    }
   ],
   "source": [
    "dt['esc_maccess'].value_counts()"
   ]
  },
  {
   "cell_type": "code",
   "execution_count": 110,
   "metadata": {},
   "outputs": [
    {
     "data": {
      "text/plain": [
       "array(['maccess greather than 0.51 and less 0.8',\n",
       "       'maccess greather than 0.3 and less 0.51',\n",
       "       'maccess greather than 0.8', 'maccess less than 0.3'], dtype=object)"
      ]
     },
     "execution_count": 110,
     "metadata": {},
     "output_type": "execute_result"
    }
   ],
   "source": [
    "dt['esc_maccess'].unique()"
   ]
  },
  {
   "cell_type": "markdown",
   "metadata": {},
   "source": [
    "Vamos considerar 3,4 e 5 superior a duas vezes por semana"
   ]
  },
  {
   "cell_type": "code",
   "execution_count": 111,
   "metadata": {},
   "outputs": [
    {
     "name": "stdout",
     "output_type": "stream",
     "text": [
      "maccess greather than 0.51 and less 0.8  predict survival 12 months: 0.5979748810760623 : median  20.0\n",
      "maccess greather than 0.3 and less 0.51  predict survival 12 months: 0.5140966461680566 : median  13.0\n",
      "maccess greather than 0.8  predict survival 12 months: 0.6244376660357491 : median  21.0\n",
      "maccess less than 0.3  predict survival 12 months: 0.4056633508325905 : median  9.0\n"
     ]
    },
    {
     "data": {
      "image/png": "[encoded data removed]",
      "text/plain": [
       "<Figure size 864x504 with 1 Axes>"
      ]
     },
     "metadata": {
      "needs_background": "light"
     },
     "output_type": "display_data"
    }
   ],
   "source": [
    "ax = plt.subplot(111)\n",
    "#vamos considerar só 0,1,2,3\n",
    "idas=dt['esc_maccess'].unique()\n",
    "\n",
    "plt.rcParams['figure.figsize'] = [12, 7]\n",
    "for ida in idas:\n",
    "    ix = dt['esc_maccess'] == ida\n",
    "    kmf.fit(T.loc[ix], C.loc[ix], label=str(ida))\n",
    "    ax = kmf.plot(ax=ax)\n",
    "    print(str(ida),' predict survival 12 months:',kmf.predict(12.0),': median ',kmf.median_)\n",
    "plt.title('maccess');"
   ]
  },
  {
   "cell_type": "code",
   "execution_count": 112,
   "metadata": {},
   "outputs": [
    {
     "name": "stdout",
     "output_type": "stream",
     "text": [
      "<lifelines.StatisticalResult>\n",
      "               t_0 = -1\n",
      " null_distribution = chi squared\n",
      "degrees_of_freedom = 3\n",
      "\n",
      "---\n",
      " test_statistic      p  -log2(p)\n",
      "         294.44 <0.005    208.62\n"
     ]
    }
   ],
   "source": [
    "results=multivariate_logrank_test(event_durations=T,groups=dt.esc_maccess,event_observed=C)\n",
    "results.print_summary()"
   ]
  },
  {
   "cell_type": "code",
   "execution_count": 113,
   "metadata": {},
   "outputs": [
    {
     "name": "stdout",
     "output_type": "stream",
     "text": [
      "<lifelines.StatisticalResult>\n",
      "               t_0 = -1\n",
      " null_distribution = chi squared\n",
      "degrees_of_freedom = 1\n",
      "\n",
      "---\n",
      "                                                                                 test_statistic      p  -log2(p)\n",
      "maccess greather than 0.3 and less 0.51 maccess greather than 0.51 and less 0.8           48.81 <0.005     38.36\n",
      "                                        maccess greather than 0.8                         70.70 <0.005     54.41\n",
      "                                        maccess less than 0.3                             40.72 <0.005     32.41\n",
      "maccess greather than 0.51 and less 0.8 maccess greather than 0.8                          2.46   0.12      3.10\n",
      "                                        maccess less than 0.3                            179.86 <0.005    133.82\n",
      "maccess greather than 0.8               maccess less than 0.3                            216.01 <0.005    160.03\n"
     ]
    }
   ],
   "source": [
    "results=pairwise_logrank_test(event_durations=T,groups=dt.esc_maccess,event_observed=C)\n",
    "results.print_summary()"
   ]
  },
  {
   "cell_type": "markdown",
   "metadata": {},
   "source": [
    "O número idas com uma retenção maior é 2 ou mais. A tendência de retenção maior só se apresenta depois dos 10 meses. O abandono depois dos 10 meses é menor nos clientes que vão em média 1 a 2 vezes ou mais. As estratégias devem estar focadas na manutenção do cliente nos primeiros 10 meses e tentar que vão em média pelo menos 1 vez por semana."
   ]
  },
  {
   "cell_type": "markdown",
   "metadata": {
    "toc-hr-collapsed": false
   },
   "source": [
    "## nentries"
   ]
  },
  {
   "cell_type": "code",
   "execution_count": 114,
   "metadata": {},
   "outputs": [
    {
     "data": {
      "text/plain": [
       "Index(['datanasc', 'idade', 'genero', 'inicio', 'termino', 'dtultvisita',\n",
       "       'diassemfrequencia', 'mesesinscricao', 'volnegocios', 'freqmedia',\n",
       "       'utilizacao_livre', 'atividade_atletismo', 'atividade_aquaticas',\n",
       "       'atividade_fitness', 'atividade_danca', 'atividade_coletivos',\n",
       "       'atividade_raquete', 'atividade_combate', 'atividade_especiais',\n",
       "       'atividade_natureza', 'atividade_outra', 'natividades', 'nfrequencias',\n",
       "       'freqcontratadasemanal', 'nrenovacoes', 'nreferencias',\n",
       "       'classe_desistencia', 'mes', 'escaloesIdade', 'esc_maccess'],\n",
       "      dtype='object')"
      ]
     },
     "execution_count": 114,
     "metadata": {},
     "output_type": "execute_result"
    }
   ],
   "source": [
    "dt.columns"
   ]
  },
  {
   "cell_type": "code",
   "execution_count": 115,
   "metadata": {},
   "outputs": [
    {
     "data": {
      "text/plain": [
       "count    6745.000000\n",
       "mean       29.835434\n",
       "std        35.394236\n",
       "min         1.000000\n",
       "25%         6.000000\n",
       "50%        17.000000\n",
       "75%        40.000000\n",
       "max       323.000000\n",
       "Name: nfrequencias, dtype: float64"
      ]
     },
     "execution_count": 115,
     "metadata": {},
     "output_type": "execute_result"
    }
   ],
   "source": [
    "dt.nfrequencias.describe()"
   ]
  },
  {
   "cell_type": "code",
   "execution_count": 116,
   "metadata": {},
   "outputs": [],
   "source": [
    "dt['esc_entries']=''\n",
    "for index, cliente in dt.iterrows():\n",
    "    #se a variável tiver o valor 1 colocar na nova variável a descrição da atividade\n",
    "    if cliente['nfrequencias'] <= 6:\n",
    "        dt.at[index,'esc_entries']='until 6'\n",
    "    elif (cliente['nfrequencias'] > 6) & (cliente['nfrequencias'] < 17):\n",
    "        dt.at[index,'esc_entries']='6 to 17'\n",
    "    elif (cliente['nfrequencias'] >= 17) & (cliente['nfrequencias'] < 40):\n",
    "        dt.at[index,'esc_entries']='17 to 40'\n",
    "    elif (cliente['nfrequencias'] >= 40):\n",
    "        dt.at[index,'esc_entries']='more than 40'\n",
    "       \n",
    "    #dt.at[index,'idas']=np.around(cliente['nfrequencias'],decimals=1)"
   ]
  },
  {
   "cell_type": "code",
   "execution_count": 117,
   "metadata": {},
   "outputs": [
    {
     "data": {
      "text/plain": [
       "until 6         1720\n",
       "more than 40    1718\n",
       "17 to 40        1665\n",
       "6 to 17         1642\n",
       "Name: esc_entries, dtype: int64"
      ]
     },
     "execution_count": 117,
     "metadata": {},
     "output_type": "execute_result"
    }
   ],
   "source": [
    "dt['esc_entries'].value_counts()"
   ]
  },
  {
   "cell_type": "code",
   "execution_count": 118,
   "metadata": {},
   "outputs": [
    {
     "data": {
      "text/plain": [
       "array(['until 6', '17 to 40', '6 to 17', 'more than 40'], dtype=object)"
      ]
     },
     "execution_count": 118,
     "metadata": {},
     "output_type": "execute_result"
    }
   ],
   "source": [
    "dt['esc_entries'].unique()"
   ]
  },
  {
   "cell_type": "markdown",
   "metadata": {},
   "source": [
    "Vamos considerar 3,4 e 5 superior a duas vezes por semana"
   ]
  },
  {
   "cell_type": "code",
   "execution_count": 119,
   "metadata": {},
   "outputs": [
    {
     "name": "stdout",
     "output_type": "stream",
     "text": [
      "until 6  predict survival 12 months: 0.12141345870340657 : median  4.0\n",
      "17 to 40  predict survival 12 months: 0.6370290037312688 : median  17.0\n",
      "6 to 17  predict survival 12 months: 0.2852619553840528 : median  7.0\n",
      "more than 40  predict survival 12 months: 0.9186106530361037 : median  39.0\n"
     ]
    },
    {
     "data": {
      "image/png": "[encoded data removed]",
      "text/plain": [
       "<Figure size 864x504 with 1 Axes>"
      ]
     },
     "metadata": {
      "needs_background": "light"
     },
     "output_type": "display_data"
    }
   ],
   "source": [
    "ax = plt.subplot(111)\n",
    "#vamos considerar só 0,1,2,3\n",
    "idas=dt['esc_entries'].unique()\n",
    "\n",
    "plt.rcParams['figure.figsize'] = [12, 7]\n",
    "for ida in idas:\n",
    "    ix = dt['esc_entries'] == ida\n",
    "    kmf.fit(T.loc[ix], C.loc[ix], label=str(ida))\n",
    "    ax = kmf.plot(ax=ax)\n",
    "    print(str(ida),' predict survival 12 months:',kmf.predict(12.0),': median ',kmf.median_)\n",
    "plt.title('nentries');"
   ]
  },
  {
   "cell_type": "code",
   "execution_count": 120,
   "metadata": {},
   "outputs": [
    {
     "name": "stdout",
     "output_type": "stream",
     "text": [
      "<lifelines.StatisticalResult>\n",
      "               t_0 = -1\n",
      " null_distribution = chi squared\n",
      "degrees_of_freedom = 3\n",
      "\n",
      "---\n",
      " test_statistic      p  -log2(p)\n",
      "        3721.13 <0.005       inf\n"
     ]
    }
   ],
   "source": [
    "results=multivariate_logrank_test(event_durations=T,groups=dt.esc_entries,event_observed=C)\n",
    "results.print_summary()"
   ]
  },
  {
   "cell_type": "code",
   "execution_count": 121,
   "metadata": {},
   "outputs": [
    {
     "name": "stdout",
     "output_type": "stream",
     "text": [
      "<lifelines.StatisticalResult>\n",
      "               t_0 = -1\n",
      " null_distribution = chi squared\n",
      "degrees_of_freedom = 1\n",
      "\n",
      "---\n",
      "                           test_statistic      p  -log2(p)\n",
      "17 to 40     6 to 17               429.84 <0.005    314.77\n",
      "             more than 40          625.76 <0.005    456.37\n",
      "             until 6              1315.64 <0.005    954.54\n",
      "6 to 17      more than 40         1706.42 <0.005       inf\n",
      "             until 6               318.29 <0.005    234.09\n",
      "more than 40 until 6              2582.34 <0.005       inf\n"
     ]
    }
   ],
   "source": [
    "results=pairwise_logrank_test(event_durations=T,groups=dt.esc_entries,event_observed=C)\n",
    "results.print_summary()"
   ]
  },
  {
   "cell_type": "markdown",
   "metadata": {},
   "source": [
    "O número idas com uma retenção maior é 2 ou mais. A tendência de retenção maior só se apresenta depois dos 10 meses. O abandono depois dos 10 meses é menor nos clientes que vão em média 1 a 2 vezes ou mais. As estratégias devem estar focadas na manutenção do cliente nos primeiros 10 meses e tentar que vão em média pelo menos 1 vez por semana."
   ]
  },
  {
   "cell_type": "markdown",
   "metadata": {
    "toc-hr-collapsed": false
   },
   "source": [
    "## cfreq"
   ]
  },
  {
   "cell_type": "code",
   "execution_count": 122,
   "metadata": {},
   "outputs": [
    {
     "data": {
      "text/plain": [
       "count    6745.000000\n",
       "mean        2.072350\n",
       "std         1.823901\n",
       "min         1.000000\n",
       "25%         1.000000\n",
       "50%         1.000000\n",
       "75%         2.000000\n",
       "max         7.000000\n",
       "Name: freqcontratadasemanal, dtype: float64"
      ]
     },
     "execution_count": 122,
     "metadata": {},
     "output_type": "execute_result"
    }
   ],
   "source": [
    "dt.freqcontratadasemanal.describe()"
   ]
  },
  {
   "cell_type": "code",
   "execution_count": 123,
   "metadata": {},
   "outputs": [
    {
     "data": {
      "text/plain": [
       "array([1., 2., 7., 3., 4., 6.])"
      ]
     },
     "execution_count": 123,
     "metadata": {},
     "output_type": "execute_result"
    }
   ],
   "source": [
    "dt.freqcontratadasemanal.unique()"
   ]
  },
  {
   "cell_type": "code",
   "execution_count": 124,
   "metadata": {},
   "outputs": [
    {
     "data": {
      "text/plain": [
       "1.0    3410\n",
       "2.0    2485\n",
       "7.0     755\n",
       "3.0      69\n",
       "4.0      25\n",
       "6.0       1\n",
       "Name: freqcontratadasemanal, dtype: int64"
      ]
     },
     "execution_count": 124,
     "metadata": {},
     "output_type": "execute_result"
    }
   ],
   "source": [
    "dt.freqcontratadasemanal.value_counts()"
   ]
  },
  {
   "cell_type": "markdown",
   "metadata": {},
   "source": [
    "Considerando a distribuicao foram divididos em 1,2 e 3+"
   ]
  },
  {
   "cell_type": "code",
   "execution_count": 125,
   "metadata": {},
   "outputs": [],
   "source": [
    "dt['esc_cfreq']=''\n",
    "\n",
    "for index, cliente in dt.iterrows():\n",
    "    #se a variável tiver o valor 1 colocar na nova variável a descrição da atividade\n",
    "    if cliente['freqcontratadasemanal']<=1:\n",
    "        dt.at[index,'esc_cfreq']='cfreq 1'\n",
    "    elif cliente['freqcontratadasemanal']==2:\n",
    "        dt.at[index,'esc_cfreq']='cfreq 2'\n",
    "    elif cliente['freqcontratadasemanal']>=3:\n",
    "        dt.at[index,'esc_cfreq']='cfreq 3'\n"
   ]
  },
  {
   "cell_type": "code",
   "execution_count": 126,
   "metadata": {},
   "outputs": [
    {
     "data": {
      "text/plain": [
       "cfreq 1    3410\n",
       "cfreq 2    2485\n",
       "cfreq 3     850\n",
       "Name: esc_cfreq, dtype: int64"
      ]
     },
     "execution_count": 126,
     "metadata": {},
     "output_type": "execute_result"
    }
   ],
   "source": [
    "dt.esc_cfreq.value_counts()"
   ]
  },
  {
   "cell_type": "code",
   "execution_count": 127,
   "metadata": {},
   "outputs": [
    {
     "name": "stdout",
     "output_type": "stream",
     "text": [
      "cfreq 1  predict survival 12 months: 0.5377226135134687 : median  15.0\n",
      "cfreq 2  predict survival 12 months: 0.483370910687046 : median  11.0\n",
      "cfreq 3  predict survival 12 months: 0.6283866126401795 : median  21.0\n"
     ]
    },
    {
     "data": {
      "image/png": "[encoded data removed]",
      "text/plain": [
       "<Figure size 864x504 with 1 Axes>"
      ]
     },
     "metadata": {
      "needs_background": "light"
     },
     "output_type": "display_data"
    }
   ],
   "source": [
    "ax = plt.subplot(111)\n",
    "cfreqs=dt.esc_cfreq.unique()\n",
    "\n",
    "plt.rcParams['figure.figsize'] = [12, 7]\n",
    "for cfreq in cfreqs:\n",
    "    ix = dt['esc_cfreq'] == cfreq\n",
    "    kmf.fit(T.loc[ix], C.loc[ix],label=str(cfreq))\n",
    "    ax = kmf.plot(ax=ax)\n",
    "    print(str(cfreq),' predict survival 12 months:',kmf.predict(12.0),': median ',kmf.median_)\n",
    "plt.title('contracted frequency')\n",
    "T.loc;"
   ]
  },
  {
   "cell_type": "markdown",
   "metadata": {},
   "source": [
    "Contratar 3 ou mais frequências a sobrevivência é maior. Contratar 2 é menor do que contratar só uma frequência. Existem várias questões como a habituação à prática desportiva e quem tem a intenção de ir 3 ou mais vezes tem uma maior motivação.\n",
    "\n",
    "Podemos abordar a intenção para a prática desportiva ser maior e a retenção também ser maior."
   ]
  },
  {
   "cell_type": "code",
   "execution_count": 128,
   "metadata": {},
   "outputs": [
    {
     "name": "stdout",
     "output_type": "stream",
     "text": [
      "<lifelines.StatisticalResult>\n",
      "               t_0 = -1\n",
      " null_distribution = chi squared\n",
      "degrees_of_freedom = 2\n",
      "\n",
      "---\n",
      " test_statistic      p  -log2(p)\n",
      "          53.33 <0.005     38.47\n"
     ]
    }
   ],
   "source": [
    "results=multivariate_logrank_test(event_durations=T,groups=dt.esc_cfreq,event_observed=C)\n",
    "results.print_summary()"
   ]
  },
  {
   "cell_type": "markdown",
   "metadata": {},
   "source": [
    "Existem diferenças nas curvas de sobrevivência"
   ]
  },
  {
   "cell_type": "code",
   "execution_count": 129,
   "metadata": {},
   "outputs": [
    {
     "name": "stdout",
     "output_type": "stream",
     "text": [
      "<lifelines.StatisticalResult>\n",
      "               t_0 = -1\n",
      " null_distribution = chi squared\n",
      "degrees_of_freedom = 1\n",
      "\n",
      "---\n",
      "                 test_statistic      p  -log2(p)\n",
      "cfreq 1 cfreq 2           21.57 <0.005     18.16\n",
      "        cfreq 3           15.44 <0.005     13.52\n",
      "cfreq 2 cfreq 3           50.15 <0.005     39.36\n"
     ]
    }
   ],
   "source": [
    "results=pairwise_logrank_test(event_durations=T,groups=dt.esc_cfreq,event_observed=C)\n",
    "results.print_summary()"
   ]
  },
  {
   "cell_type": "markdown",
   "metadata": {},
   "source": [
    "Existem diferenças entre todas as curvas de sobrevivência"
   ]
  },
  {
   "cell_type": "markdown",
   "metadata": {},
   "source": [
    "## nrenewals"
   ]
  },
  {
   "cell_type": "code",
   "execution_count": 130,
   "metadata": {},
   "outputs": [
    {
     "data": {
      "text/plain": [
       "count    6745.000000\n",
       "mean        1.038992\n",
       "std         1.069552\n",
       "min         0.000000\n",
       "25%         0.000000\n",
       "50%         1.000000\n",
       "75%         2.000000\n",
       "max         4.000000\n",
       "Name: nrenovacoes, dtype: float64"
      ]
     },
     "execution_count": 130,
     "metadata": {},
     "output_type": "execute_result"
    }
   ],
   "source": [
    "dt.nrenovacoes.describe()"
   ]
  },
  {
   "cell_type": "code",
   "execution_count": 131,
   "metadata": {},
   "outputs": [
    {
     "data": {
      "text/plain": [
       "array([0, 1, 2, 4, 3], dtype=int64)"
      ]
     },
     "execution_count": 131,
     "metadata": {},
     "output_type": "execute_result"
    }
   ],
   "source": [
    "dt.nrenovacoes.unique()"
   ]
  },
  {
   "cell_type": "code",
   "execution_count": 132,
   "metadata": {},
   "outputs": [
    {
     "data": {
      "text/plain": [
       "0    2803\n",
       "1    1752\n",
       "2    1366\n",
       "3     772\n",
       "4      52\n",
       "Name: nrenovacoes, dtype: int64"
      ]
     },
     "execution_count": 132,
     "metadata": {},
     "output_type": "execute_result"
    }
   ],
   "source": [
    "dt.nrenovacoes.value_counts()"
   ]
  },
  {
   "cell_type": "code",
   "execution_count": 133,
   "metadata": {},
   "outputs": [],
   "source": [
    "dt['esc_nrenewals'] = 0"
   ]
  },
  {
   "cell_type": "code",
   "execution_count": 134,
   "metadata": {},
   "outputs": [],
   "source": [
    "dt['esc_nrenewals']=''\n",
    "\n",
    "for index, cliente in dt.iterrows():\n",
    "    #se a variável tiver o valor 1 colocar na nova variável a descrição da atividade\n",
    "    if cliente['nrenovacoes'] == 0:\n",
    "        dt.at[index,'esc_nrenewals']='renewals 0'\n",
    "    elif cliente['nrenovacoes'] == 1:\n",
    "        dt.at[index,'esc_nrenewals']='renewals 1'\n",
    "    elif cliente['nrenovacoes'] == 2:\n",
    "        dt.at[index,'esc_nrenewals']='renewals 2'\n",
    "    elif cliente['nrenovacoes']>2:\n",
    "        dt.at[index,'esc_nrenewals']='renewals 2+'"
   ]
  },
  {
   "cell_type": "code",
   "execution_count": 135,
   "metadata": {},
   "outputs": [
    {
     "data": {
      "text/plain": [
       "renewals 0     2803\n",
       "renewals 1     1752\n",
       "renewals 2     1366\n",
       "renewals 2+     824\n",
       "Name: esc_nrenewals, dtype: int64"
      ]
     },
     "execution_count": 135,
     "metadata": {},
     "output_type": "execute_result"
    }
   ],
   "source": [
    "dt.esc_nrenewals.value_counts()"
   ]
  },
  {
   "cell_type": "code",
   "execution_count": 136,
   "metadata": {},
   "outputs": [
    {
     "data": {
      "text/plain": [
       "array(['renewals 0', 'renewals 1', 'renewals 2', 'renewals 2+'],\n",
       "      dtype=object)"
      ]
     },
     "execution_count": 136,
     "metadata": {},
     "output_type": "execute_result"
    }
   ],
   "source": [
    "dt.esc_nrenewals.unique()"
   ]
  },
  {
   "cell_type": "code",
   "execution_count": 138,
   "metadata": {},
   "outputs": [
    {
     "name": "stdout",
     "output_type": "stream",
     "text": [
      "renewals 0  predict survival 12 months: 0.019021929079282563 : median  5.0\n",
      "renewals 1  predict survival 12 months: 0.6987873619361521 : median  16.0\n",
      "renewals 2  predict survival 12 months: 0.8549310063701384 : median  27.0\n",
      "renewals 2+  predict survival 12 months: 0.9991909385113266 : median  inf\n"
     ]
    },
    {
     "data": {
      "image/png": "[encoded data removed]",
      "text/plain": [
       "<Figure size 864x504 with 1 Axes>"
      ]
     },
     "metadata": {
      "needs_background": "light"
     },
     "output_type": "display_data"
    }
   ],
   "source": [
    "ax = plt.subplot(111)\n",
    "nrenewals=dt.esc_nrenewals.unique()\n",
    "\n",
    "for nrenewal in nrenewals:\n",
    "    ix = dt['esc_nrenewals'] == nrenewal\n",
    "    kmf.fit(T.loc[ix], C.loc[ix],label=str(nrenewal))\n",
    "    ax = kmf.plot(ax=ax)\n",
    "    print(str(nrenewal),' predict survival 12 months:',kmf.predict(12.0),': median ',kmf.median_)\n",
    "plt.title('Survival by number of renewals')\n",
    "T.loc;"
   ]
  },
  {
   "cell_type": "code",
   "execution_count": 139,
   "metadata": {},
   "outputs": [
    {
     "name": "stdout",
     "output_type": "stream",
     "text": [
      "<lifelines.StatisticalResult>\n",
      "               t_0 = -1\n",
      " null_distribution = chi squared\n",
      "degrees_of_freedom = 3\n",
      "\n",
      "---\n",
      " test_statistic      p  -log2(p)\n",
      "        6264.73 <0.005       inf\n"
     ]
    }
   ],
   "source": [
    "results=multivariate_logrank_test(event_durations=T,groups=dt.esc_nrenewals,event_observed=C)\n",
    "results.print_summary()"
   ]
  },
  {
   "cell_type": "markdown",
   "metadata": {},
   "source": [
    "Existem diferenças nas curvas de sobrevivência"
   ]
  },
  {
   "cell_type": "code",
   "execution_count": 140,
   "metadata": {},
   "outputs": [
    {
     "name": "stdout",
     "output_type": "stream",
     "text": [
      "<lifelines.StatisticalResult>\n",
      "               t_0 = -1\n",
      " null_distribution = chi squared\n",
      "degrees_of_freedom = 1\n",
      "\n",
      "---\n",
      "     test_statistic      p  -log2(p)\n",
      "0 1         2310.12 <0.005       inf\n",
      "  2         2991.50 <0.005       inf\n",
      "  3         2085.62 <0.005       inf\n",
      "  4          220.46 <0.005    163.26\n",
      "1 2          414.49 <0.005    303.67\n",
      "  3         1016.39 <0.005    738.49\n",
      "  4          117.55 <0.005     88.57\n",
      "2 3          463.07 <0.005    338.79\n",
      "  4           73.02 <0.005     56.11\n",
      "3 4            0.83   0.36      1.46\n"
     ]
    }
   ],
   "source": [
    "results=pairwise_logrank_test(event_durations=T,groups=dt.nrenovacoes,event_observed=C)\n",
    "results.print_summary()"
   ]
  },
  {
   "cell_type": "markdown",
   "metadata": {},
   "source": [
    "Existem diferenças entre todas as curvas de sobrevivência"
   ]
  },
  {
   "cell_type": "markdown",
   "metadata": {},
   "source": [
    "## imonth"
   ]
  },
  {
   "cell_type": "code",
   "execution_count": 141,
   "metadata": {},
   "outputs": [
    {
     "data": {
      "text/plain": [
       "array([ 9, 10,  6,  7,  2, 12,  4,  3,  1,  5, 11,  8], dtype=int64)"
      ]
     },
     "execution_count": 141,
     "metadata": {},
     "output_type": "execute_result"
    }
   ],
   "source": [
    "dt['mes'].unique()"
   ]
  },
  {
   "cell_type": "code",
   "execution_count": 142,
   "metadata": {},
   "outputs": [
    {
     "data": {
      "text/plain": [
       "count    6745.000000\n",
       "mean        7.251001\n",
       "std         3.173279\n",
       "min         1.000000\n",
       "25%         4.000000\n",
       "50%         9.000000\n",
       "75%         9.000000\n",
       "max        12.000000\n",
       "Name: mes, dtype: float64"
      ]
     },
     "execution_count": 142,
     "metadata": {},
     "output_type": "execute_result"
    }
   ],
   "source": [
    "dt.mes.describe()"
   ]
  },
  {
   "cell_type": "code",
   "execution_count": 143,
   "metadata": {},
   "outputs": [
    {
     "data": {
      "text/plain": [
       "9     2794\n",
       "10     830\n",
       "3      487\n",
       "2      450\n",
       "1      420\n",
       "11     403\n",
       "4      383\n",
       "5      339\n",
       "6      264\n",
       "7      203\n",
       "12     160\n",
       "8       12\n",
       "Name: mes, dtype: int64"
      ]
     },
     "execution_count": 143,
     "metadata": {},
     "output_type": "execute_result"
    }
   ],
   "source": [
    "dt['mes'].value_counts()"
   ]
  },
  {
   "cell_type": "code",
   "execution_count": 144,
   "metadata": {},
   "outputs": [
    {
     "data": {
      "image/png": "[encoded data removed]",
      "text/plain": [
       "<Figure size 864x504 with 1 Axes>"
      ]
     },
     "metadata": {
      "needs_background": "light"
     },
     "output_type": "display_data"
    }
   ],
   "source": [
    "ax = plt.subplot(111)\n",
    "import matplotlib.pyplot as plt\n",
    "import numpy as np\n",
    "#vamos considerar só 0,1,2,3\n",
    "meses=dt['mes'].unique()\n",
    "\n",
    "plt.rcParams['figure.figsize'] = [12, 7]\n",
    "for mes in meses:\n",
    "    ix = dt['mes'] == mes\n",
    "    kmf.fit(T.loc[ix], C.loc[ix], label=str(mes))\n",
    "    ax = kmf.plot(ax=ax)\n",
    "plt.title('inscription month');"
   ]
  },
  {
   "cell_type": "markdown",
   "metadata": {},
   "source": [
    "O gráfico fica muito confuso vamos agrupar por trimestre"
   ]
  },
  {
   "cell_type": "code",
   "execution_count": 145,
   "metadata": {},
   "outputs": [
    {
     "name": "stdout",
     "output_type": "stream",
     "text": [
      "<lifelines.StatisticalResult>\n",
      "               t_0 = -1\n",
      " null_distribution = chi squared\n",
      "degrees_of_freedom = 11\n",
      "\n",
      "---\n",
      " test_statistic      p  -log2(p)\n",
      "         106.29 <0.005     56.47\n"
     ]
    }
   ],
   "source": [
    "results=multivariate_logrank_test(event_durations=T,groups=dt.mes,event_observed=C)\n",
    "results.print_summary()"
   ]
  },
  {
   "cell_type": "code",
   "execution_count": 146,
   "metadata": {},
   "outputs": [
    {
     "name": "stdout",
     "output_type": "stream",
     "text": [
      "<lifelines.StatisticalResult>\n",
      "               t_0 = -1\n",
      " null_distribution = chi squared\n",
      "degrees_of_freedom = 1\n",
      "\n",
      "---\n",
      "       test_statistic      p  -log2(p)\n",
      "1  2             0.69   0.40      1.30\n",
      "   3             1.23   0.27      1.91\n",
      "   4             8.44 <0.005      8.09\n",
      "   5             8.39 <0.005      8.05\n",
      "   6             1.26   0.26      1.93\n",
      "   7             0.10   0.76      0.40\n",
      "   8             5.23   0.02      5.49\n",
      "   9            10.36 <0.005      9.60\n",
      "   10            0.85   0.36      1.48\n",
      "   11            1.10   0.29      1.77\n",
      "   12            0.05   0.83      0.27\n",
      "2  3             0.08   0.78      0.37\n",
      "   4             5.35   0.02      5.60\n",
      "   5             2.91   0.09      3.50\n",
      "   6             0.12   0.73      0.45\n",
      "   7             0.03   0.87      0.20\n",
      "   8             5.59   0.02      5.79\n",
      "   9            20.52 <0.005     17.37\n",
      "   10            5.35   0.02      5.59\n",
      "   11            0.10   0.75      0.41\n",
      "   12            0.27   0.61      0.72\n",
      "3  4             4.09   0.04      4.54\n",
      "   5             3.12   0.08      3.69\n",
      "   6             0.04   0.84      0.26\n",
      "   7             0.30   0.59      0.77\n",
      "   8             5.64   0.02      5.83\n",
      "   9            23.01 <0.005     19.24\n",
      "   10            6.17   0.01      6.26\n",
      "   11            0.03   0.86      0.22\n",
      "   12            0.24   0.63      0.68\n",
      "4  5             0.00   0.97      0.04\n",
      "   6             2.81   0.09      3.41\n",
      "   7             4.56   0.03      4.93\n",
      "   8             7.25   0.01      7.14\n",
      "   9            50.25 <0.005     39.42\n",
      "   10           20.82 <0.005     17.59\n",
      "   11            4.34   0.04      4.75\n",
      "   12            4.40   0.04      4.80\n",
      "5  6             1.97   0.16      2.64\n",
      "   7             2.35   0.13      2.99\n",
      "   8             6.94   0.01      6.89\n",
      "   9            44.62 <0.005     35.28\n",
      "   10           17.44 <0.005     15.04\n",
      "   11            3.38   0.07      3.92\n",
      "   12            3.18   0.07      3.74\n",
      "6  7             0.09   0.77      0.38\n",
      "   8             4.94   0.03      5.25\n",
      "   9            11.79 <0.005     10.71\n",
      "   10            3.40   0.07      3.94\n",
      "   11            0.00   0.98      0.03\n",
      "   12            0.12   0.73      0.46\n",
      "7  8             4.72   0.03      5.07\n",
      "   9             4.26   0.04      4.68\n",
      "   10            0.85   0.36      1.48\n",
      "   11            0.37   0.54      0.88\n",
      "   12            0.11   0.75      0.42\n",
      "8  9             4.23   0.04      4.66\n",
      "   10            4.94   0.03      5.26\n",
      "   11            5.94   0.01      6.08\n",
      "   12            6.24   0.01      6.32\n",
      "9  10            6.52   0.01      6.55\n",
      "   11           23.09 <0.005     19.30\n",
      "   12            5.21   0.02      5.48\n",
      "10 11            6.73   0.01      6.72\n",
      "   12            1.12   0.29      1.78\n",
      "11 12            0.28   0.59      0.75\n"
     ]
    }
   ],
   "source": [
    "results=pairwise_logrank_test(event_durations=T,groups=dt.mes,event_observed=C)\n",
    "results.print_summary()"
   ]
  },
  {
   "cell_type": "code",
   "execution_count": 147,
   "metadata": {},
   "outputs": [
    {
     "data": {
      "text/plain": [
       "<lifelines.KaplanMeierFitter: fitted with 6745 observations, 2850 censored>"
      ]
     },
     "execution_count": 147,
     "metadata": {},
     "output_type": "execute_result"
    }
   ],
   "source": [
    "T = dt[\"mesesinscricao\"]\n",
    "E = dt[\"classe_desistencia\"]\n",
    "\n",
    "kmf.fit(T, event_observed=E)"
   ]
  },
  {
   "cell_type": "code",
   "execution_count": 148,
   "metadata": {},
   "outputs": [],
   "source": [
    "### vamos calcular por trimestres\n",
    "dt.loc[dt['mes'].isin([1,2,3]),'trimestre']='Jan, Fev and Mar'\n",
    "dt.loc[dt['mes'].isin([4,5,6]),'trimestre']='Apr, May, Jun'\n",
    "dt.loc[dt['mes'].isin([7,8,9]),'trimestre']='Jul, Aug, Set'\n",
    "dt.loc[dt['mes'].isin([10,11,12]),'trimestre']='Oct, Nov, Dez'"
   ]
  },
  {
   "cell_type": "code",
   "execution_count": 149,
   "metadata": {},
   "outputs": [
    {
     "data": {
      "text/plain": [
       "Jul, Aug, Set       3009\n",
       "Oct, Nov, Dez       1393\n",
       "Jan, Fev and Mar    1357\n",
       "Apr, May, Jun        986\n",
       "Name: trimestre, dtype: int64"
      ]
     },
     "execution_count": 149,
     "metadata": {},
     "output_type": "execute_result"
    }
   ],
   "source": [
    "dt.trimestre.value_counts()"
   ]
  },
  {
   "cell_type": "code",
   "execution_count": 150,
   "metadata": {},
   "outputs": [
    {
     "data": {
      "text/plain": [
       "array(['Jul, Aug, Set', 'Oct, Nov, Dez', 'Apr, May, Jun',\n",
       "       'Jan, Fev and Mar'], dtype=object)"
      ]
     },
     "execution_count": 150,
     "metadata": {},
     "output_type": "execute_result"
    }
   ],
   "source": [
    "dt['trimestre'].unique()"
   ]
  },
  {
   "cell_type": "code",
   "execution_count": 152,
   "metadata": {},
   "outputs": [
    {
     "name": "stdout",
     "output_type": "stream",
     "text": [
      "Jul, Aug, Set  predict survival 12 months: 0.5702275005654139 : median  16.0\n",
      "Oct, Nov, Dez  predict survival 12 months: 0.5128328829165126 : median  13.0\n",
      "Apr, May, Jun  predict survival 12 months: 0.47059328513462945 : median  11.0\n",
      "Jan, Fev and Mar  predict survival 12 months: 0.5195161809660498 : median  15.0\n"
     ]
    },
    {
     "data": {
      "image/png": "[encoded data removed]",
      "text/plain": [
       "<Figure size 864x504 with 1 Axes>"
      ]
     },
     "metadata": {
      "needs_background": "light"
     },
     "output_type": "display_data"
    }
   ],
   "source": [
    "ax = plt.subplot(111)\n",
    "#vamos considerar só 0,1,2,3\n",
    "trimestres=dt['trimestre'].unique()\n",
    "\n",
    "plt.rcParams['figure.figsize'] = [12, 7]\n",
    "for trimestre in trimestres:\n",
    "    ix = dt['trimestre'] == trimestre\n",
    "    kmf.fit(T.loc[ix], C.loc[ix], label=str(trimestre))\n",
    "    ax = kmf.plot(ax=ax)\n",
    "    print(str(trimestre),' predict survival 12 months:',kmf.predict(12.0),': median ',kmf.median_)\n",
    "\n",
    "plt.title('Sobrevivência por trimestre');"
   ]
  },
  {
   "cell_type": "markdown",
   "metadata": {},
   "source": [
    "A sobrevivência por trimestre varia. O trimestre julho, agosto e setembro tem uma sobrevivência maior. Quem começa depois do verão ou inicio do ano apresenta uma curva de sobrevivência menor."
   ]
  },
  {
   "cell_type": "markdown",
   "metadata": {},
   "source": [
    "Existem diferenças nas curvas de sobrevivência"
   ]
  },
  {
   "cell_type": "code",
   "execution_count": 153,
   "metadata": {},
   "outputs": [
    {
     "name": "stdout",
     "output_type": "stream",
     "text": [
      "<lifelines.StatisticalResult>\n",
      "               t_0 = -1\n",
      " null_distribution = chi squared\n",
      "degrees_of_freedom = 3\n",
      "\n",
      "---\n",
      " test_statistic      p  -log2(p)\n",
      "          86.33 <0.005     59.37\n"
     ]
    }
   ],
   "source": [
    "results=multivariate_logrank_test(event_durations=T,groups=dt.trimestre,event_observed=C)\n",
    "results.print_summary()"
   ]
  },
  {
   "cell_type": "code",
   "execution_count": 154,
   "metadata": {},
   "outputs": [
    {
     "name": "stdout",
     "output_type": "stream",
     "text": [
      "<lifelines.StatisticalResult>\n",
      "               t_0 = -1\n",
      " null_distribution = chi squared\n",
      "degrees_of_freedom = 1\n",
      "\n",
      "---\n",
      "                                   test_statistic      p  -log2(p)\n",
      "Apr, May, Jun    Jan, Fev and Mar            9.13 <0.005      8.63\n",
      "                 Jul, Aug, Set              74.08 <0.005     56.89\n",
      "                 Oct, Nov, Dez              19.80 <0.005     16.82\n",
      "Jan, Fev and Mar Jul, Aug, Set              34.11 <0.005     27.52\n",
      "                 Oct, Nov, Dez               2.17   0.14      2.83\n",
      "Jul, Aug, Set    Oct, Nov, Dez              19.83 <0.005     16.85\n"
     ]
    }
   ],
   "source": [
    "results=pairwise_logrank_test(event_durations=T,groups=dt.trimestre,event_observed=C)\n",
    "results.print_summary()"
   ]
  },
  {
   "cell_type": "markdown",
   "metadata": {},
   "source": [
    "Existem diferenças entre todas as curvas de sobrevivência"
   ]
  },
  {
   "cell_type": "markdown",
   "metadata": {},
   "source": [
    "# Resultados\n",
    "\n",
    "## Log rank test:\n",
    "The null hypothesis is that the hazard rates of all populations are equal at all times less than the maximum observed time and the alternative hypothesis is that at least two of the hazard rates are different at some time less than the observed maximum time.\n",
    "O risco de abandono ao longo do tempo é diferente nos homens e mulheres (p menor 0.001)\n",
    "\n",
    "H0: a curva de sobrevivência é igual nos homens e mulheres\n",
    "\n",
    "H1: a curva de sobrevivência é diferente nos homens e mulheres\n",
    "\n",
    "## age\n",
    "\n",
    "## maccess\n",
    "\n",
    "## cfreq\n",
    "\n",
    "## nrenewals\n",
    "\n",
    "## imonth"
   ]
  },
  {
   "cell_type": "markdown",
   "metadata": {
    "toc-hr-collapsed": true
   },
   "source": [
    "# Gravar dados"
   ]
  },
  {
   "cell_type": "code",
   "execution_count": 155,
   "metadata": {},
   "outputs": [
    {
     "data": {
      "text/plain": [
       "Index(['datanasc', 'idade', 'genero', 'inicio', 'termino', 'dtultvisita',\n",
       "       'diassemfrequencia', 'mesesinscricao', 'volnegocios', 'freqmedia',\n",
       "       'utilizacao_livre', 'atividade_atletismo', 'atividade_aquaticas',\n",
       "       'atividade_fitness', 'atividade_danca', 'atividade_coletivos',\n",
       "       'atividade_raquete', 'atividade_combate', 'atividade_especiais',\n",
       "       'atividade_natureza', 'atividade_outra', 'natividades', 'nfrequencias',\n",
       "       'freqcontratadasemanal', 'nrenovacoes', 'nreferencias',\n",
       "       'classe_desistencia', 'mes', 'escaloesIdade', 'esc_maccess',\n",
       "       'esc_entries', 'esc_cfreq', 'esc_nrenewals', 'trimestre'],\n",
       "      dtype='object')"
      ]
     },
     "execution_count": 155,
     "metadata": {},
     "output_type": "execute_result"
    }
   ],
   "source": [
    "dt.columns"
   ]
  },
  {
   "cell_type": "code",
   "execution_count": 156,
   "metadata": {},
   "outputs": [],
   "source": [
    "dt.to_excel('../dados/dadosArtigoNadadoresAlmada.xlsx',index=True)"
   ]
  }
 ],
 "metadata": {
  "kernelspec": {
   "display_name": "Python 3",
   "language": "python",
   "name": "python3"
  },
  "language_info": {
   "codemirror_mode": {
    "name": "ipython",
    "version": 3
   },
   "file_extension": ".py",
   "mimetype": "text/x-python",
   "name": "python",
   "nbconvert_exporter": "python",
   "pygments_lexer": "ipython3",
   "version": "3.7.3"
  },
  "toc-autonumbering": true,
  "toc-showcode": false,
  "toc-showmarkdowntxt": false
 },
 "nbformat": 4,
 "nbformat_minor": 4
}
