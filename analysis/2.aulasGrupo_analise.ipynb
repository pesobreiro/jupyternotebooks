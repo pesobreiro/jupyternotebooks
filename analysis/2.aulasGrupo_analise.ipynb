{
 "cells": [
  {
   "cell_type": "markdown",
   "metadata": {},
   "source": [
    "Objetivos:\n",
    "1. Perceber quais são as horas com mais clientes?\n",
    "2. Quais são as aulas com mais clientes?\n",
    "3. Quais são os dias da semana com mais clientes?\n",
    "\n",
    "Alterações:\n",
    "1. Colocar a possibilidade de filtrar por datas"
   ]
  },
  {
   "cell_type": "markdown",
   "metadata": {
    "toc-hr-collapsed": true
   },
   "source": [
    "# Dados recolhidos aula de grupo Rio Maior"
   ]
  },
  {
   "cell_type": "code",
   "execution_count": 50,
   "metadata": {},
   "outputs": [],
   "source": [
    "import pandas as pd\n",
    "import seaborn as sns\n",
    "from ipywidgets import interact, interactive, fixed, interact_manual,widgets\n",
    "import plotly.offline as py\n",
    "import datetime,calendar\n",
    "import numpy as np\n",
    "import matplotlib.pyplot as plt\n",
    "from tabulate import tabulate\n",
    "\n",
    "\n",
    "dfAG = pd.read_excel('https://raw.githubusercontent.com/pesobreiro/jupyternotebooks/master/dados/_RMAulasGrupo.xlsx',sheet_name='Sheet1')\n",
    "\n",
    "## Preparação dos dados\n",
    "\n",
    "cols = ['ID','E-mail', 'Nome','Pontuação total', 'Feedback do questionário', 'Pontos – Data',\n",
    "        'Feedback – Data', 'Pontos – Aula', 'Feedback – Aula','Pontos – Hora aula (coloque hora:minutos ex. 09:15)',\n",
    "        'Feedback – Hora aula (coloque hora:minutos ex. 09:15)', 'Pontos – Quantas pessoas aula?',\n",
    "        'Feedback – Quantas pessoas aula?','Pontos – Aula2','Feedback – Aula2']\n",
    "dfAG.drop(columns=cols, index=1, inplace=True)\n",
    "dfAG.columns\n",
    "\n",
    "\n",
    "dfAG.columns=['horaInicio','horaConclusao','data','aula','hora','pessoas','aula2']\n",
    "\n",
    "dfAG.fillna(0,inplace=True)\n",
    "\n",
    "#Limpar dados mal inseridos\n",
    "#lambda <args> : <return Value> if <condition > ( <return value > if <condition> else <return value>)\n",
    "dfAG['hora']=dfAG['hora'].apply(lambda x:str(x).replace('h',':'))\n",
    "dfAG['hora']=dfAG['hora'].apply(lambda x:str(x).replace('.',':'))\n",
    "dfAG['hora']=dfAG['hora'].apply(lambda x: str(x)+':00' if (len(x)==1 or len(x)==2) else x)\n",
    "dfAG['hora']=dfAG['hora'].apply(lambda x: str(x)+'00' if (len(x)==3) else x)\n",
    "dfAG['hora']=dfAG['hora'].apply(lambda x:str(x).replace('::',':'))\n",
    "dfAG['hora']=dfAG['hora'].apply(lambda x:str(x).replace('m',''))\n",
    "dfAG['hora']=dfAG['hora'].apply(lambda x:str(x).replace(' ','00'))\n",
    "dfAG['hora']=dfAG['hora'].apply(lambda x:str(x).replace('1000','10'))\n",
    "\n",
    "dfAG.hora=pd.to_datetime(dfAG['hora'],format='%H:%M', errors='coerce')\n",
    "dfAG.dropna(subset=['hora'],inplace=True)\n",
    "\n",
    "#Vamos retirar as meias horas\n",
    "dfAG['hora']=dfAG['hora'].apply(lambda x: x.hour)\n",
    "\n",
    "### Calcular o dia da semana\n",
    "\n",
    "# Por extenso\n",
    "#dfSEAlv['diaSemana']=dfSEAlv['data'].apply(lambda x: x.day_name(locale='pt'))\n",
    "# Vamos calcular o dia da semana 0 é segunda\n",
    "dfAG['diaSemana']=dfAG['data'].apply(lambda x: x.weekday())\n",
    "\n",
    "#Calcular o mês\n",
    "dfAG['mes']=dfAG['data'].apply(lambda x: x.month)\n",
    "\n",
    "#Limpar dados mal inseridos\n",
    "['Sós abs', 'Sós bunda', '100 panca', 'Sos abs', 'Bodybalance','Bunda', 'Sos bunda', 'Bodypump', 'Step', 'Sós popey ',\n",
    " 'Body Combat', 'Pilates', 'Endurance ', 'Sos speeding ','Sos bunda ', 'Sos abs ', 'Popeye', 'Extreme', 'Speeding',\n",
    " 'Body pump', 'Endurance', 'Sos speeding', 'Speeding ','Sem stress ', '100stress', 'Gain', 'Body pump ', 'sos abs',\n",
    " 'Sós bunda ', 'Sos celulite', 'Bodypump ', 'Sos popeye','Enfurance', '100Pança', 'Bodybalance ', '100 pança',\n",
    " 'Body combat', 'Sos Popeye', 'Soso abs', 'Body Pump','Body balance', '100panca ', 'Sem stress', '100panca', 'Zumba',\n",
    " 'Xtreme', '100 pança ', 'Sós popey', 'Bodycombat ', '100 stress ','Popey', 'Speedng', 'Sos celulite ', 'Sos ABS', '100 stress',\n",
    " 'Gain ', 'Sós  abs', 'Bodupump', '(Sos abs) (com sos bunda)']\n",
    "#lambda <args> : <return Value> if <condition > ( <return value > if <condition> else <return value>)\n",
    "dfAG['aula']=dfAG['aula'].apply(lambda x:str(x).lower())\n",
    "dfAG['aula']=dfAG['aula'].apply(lambda x:str(x).replace(' ',''))\n",
    "dfAG['aula']=dfAG['aula'].apply(lambda x:str(x).replace('sós','sos'))\n",
    "dfAG['aula']=dfAG['aula'].apply(lambda x:str(x).replace('enfurance','endurance'))\n",
    "dfAG['aula']=dfAG['aula'].apply(lambda x:str(x).replace('sem','100'))\n",
    "dfAG['aula']=dfAG['aula'].apply(lambda x:str(x).replace('panca','pança'))\n",
    "dfAG['aula']=dfAG['aula'].apply(lambda x:str(x).replace('popey','popeye'))\n",
    "dfAG['aula']=dfAG['aula'].apply(lambda x:str(x).replace('popeyee','popeye'))\n",
    "dfAG['aula']=dfAG['aula'].apply(lambda x:str(x).replace('xtreme','extreme'))\n",
    "dfAG['aula']=dfAG['aula'].apply(lambda x:str(x).replace('speedng','speeding'))\n",
    "dfAG['aula']=dfAG['aula'].apply(lambda x:str(x).replace('popeyeee','popeye'))\n",
    "dfAG['aula']=dfAG['aula'].apply(lambda x:str(x).replace('eeeeextreme','extreme'))\n",
    "dfAG['aula']=dfAG['aula'].apply(lambda x:str(x).replace('eeeextreme','extreme'))\n",
    "dfAG['aula']=dfAG['aula'].apply(lambda x:str(x).replace('eextreme','extreme'))\n",
    "dfAG['aula']=dfAG['aula'].apply(lambda x:str(x).replace('(sosabs)(comsosbunda)','sosabs'))\n",
    "dfAG['aula']=dfAG['aula'].apply(lambda x:str(x).replace('sosspeeding','speeding'))\n",
    "dfAG['aula']=dfAG['aula'].apply(lambda x:str(x).replace('bodupump','bodypump'))\n",
    "dfAG['aula']=dfAG['aula'].apply(lambda x:str(x).replace('sospopeyee','sospopeye'))\n",
    "dfAG['aula']=dfAG['aula'].apply(lambda x:str(x).replace('bodypumpp','bodypump'))\n",
    "#dfAG['aula']=dfAG['aula'].apply(lambda x:str(x).replace('popeye','sospopeye')) Vamos manter as duas são coisas diferentes\n",
    "dfAG['aula']=dfAG['aula'].apply(lambda x:str(x).replace('sospopeyee','sospopeye'))\n",
    "dfAG['aula']=dfAG['aula'].apply(lambda x:str(x).replace('sossospopeye','sospopeye'))\n",
    "dfAG['aula']=dfAG['aula'].apply(lambda x:str(x).replace('sossospopeye','sospopeye'))\n",
    "\n",
    "\n",
    "for index, row in dfAG.iterrows():\n",
    "    if row.aula2 != 0:\n",
    "        dfAG.at[index,'aula'] = row.aula2    \n",
    "\n",
    "dfAG['aula']=dfAG['aula'].apply(lambda x:str(x).replace('s.o.sabs','sosabs'))\n",
    "dfAG['aula']=dfAG['aula'].apply(lambda x:str(x).replace('gain-pernaseglúteo','gain-glúteoepernas'))\n",
    "\n",
    "# Vamos agregar aulas\n",
    "dfAG['aula']=dfAG['aula'].apply(lambda x:str(x).replace('bodycombate','bodycombat'))\n",
    "dfAG['aula']=dfAG['aula'].apply(lambda x:str(x).replace('doscelulite','soscelulite'))\n",
    "\n",
    "dfAG.aula=dfAG.aula.loc[dfAG.aula != 'pump']\n",
    "dfAG.aula=dfAG.aula.loc[dfAG.aula != 'combat']\n",
    "#dfAG.aula=dfAG.aula.loc[dfAG.aula != 'bunda']\n",
    "dfAG.aula=dfAG.aula.loc[dfAG.aula != 'gain-glúteoepernas']"
   ]
  },
  {
   "cell_type": "code",
   "execution_count": 51,
   "metadata": {},
   "outputs": [
    {
     "name": "stdout",
     "output_type": "stream",
     "text": [
      "Data inicio:  2019-12-04 00:00:00 Data fim: 2020-02-11 00:00:00\n"
     ]
    }
   ],
   "source": [
    "print('Data inicio: ',dfAG.data.min(),'Data fim:',dfAG.data.max())"
   ]
  },
  {
   "cell_type": "markdown",
   "metadata": {},
   "source": [
    "Os dados são referentes ao período entre data inicio e data fim. Vamos confirmar algums dados"
   ]
  },
  {
   "cell_type": "code",
   "execution_count": 52,
   "metadata": {},
   "outputs": [],
   "source": [
    "cols = ['aula','pessoas']\n",
    "\n",
    "dfAG.pessoas=pd.to_numeric(dfAG['pessoas'], errors='coerce',downcast='integer')\n",
    "#pd.to_numeric(dfAG['pessoas'], errors='coerce')\n",
    "#dfAG.dropna(subset=['pessoas'],inplace=True)"
   ]
  },
  {
   "cell_type": "code",
   "execution_count": 53,
   "metadata": {},
   "outputs": [],
   "source": [
    "cor = ['Accent', 'Accent_r', 'Blues', 'Blues_r', 'BrBG', 'BrBG_r', 'BuGn', 'BuGn_r', 'BuPu', 'BuPu_r', 'CMRmap', \n",
    "       'CMRmap_r', 'Dark2', 'Dark2_r', 'GnBu', 'GnBu_r', 'Greens', 'Greens_r', 'Greys', 'Greys_r', 'OrRd', 'OrRd_r', \n",
    "       'Oranges', 'Oranges_r', 'PRGn', 'PRGn_r', 'Paired', 'Paired_r', 'Pastel1', 'Pastel1_r', 'Pastel2', 'Pastel2_r', \n",
    "       'PiYG', 'PiYG_r', 'PuBu', 'PuBuGn', 'PuBuGn_r', 'PuBu_r', 'PuOr', 'PuOr_r', 'PuRd', 'PuRd_r', 'Purples', 'Purples_r', \n",
    "       'RdBu', 'RdBu_r', 'RdGy', 'RdGy_r', 'RdPu', 'RdPu_r', 'RdYlBu', 'RdYlBu_r', 'RdYlGn', 'RdYlGn_r', 'Reds', 'Reds_r', \n",
    "       'Set1', 'Set1_r', 'Set2', 'Set2_r', 'Set3', 'Set3_r', 'Spectral', 'Spectral_r', 'Wistia', 'Wistia_r', 'YlGn', 'YlGnBu', \n",
    "       'YlGnBu_r', 'YlGn_r', 'YlOrBr', 'YlOrBr_r', 'YlOrRd', 'YlOrRd_r', 'afmhot', 'afmhot_r', 'autumn', 'autumn_r', 'binary', \n",
    "       'binary_r', 'bone', 'bone_r', 'brg', 'brg_r', 'bwr', 'bwr_r', 'cividis', 'cividis_r', 'cool', 'cool_r', 'coolwarm', \n",
    "       'coolwarm_r', 'copper', 'copper_r', 'cubehelix', 'cubehelix_r', 'flag', 'flag_r', 'gist_earth', 'gist_earth_r', \n",
    "       'gist_gray', 'gist_gray_r', 'gist_heat', 'gist_heat_r', 'gist_ncar', 'gist_ncar_r', 'gist_rainbow', 'gist_rainbow_r', \n",
    "       'gist_stern', 'gist_stern_r', 'gist_yarg', 'gist_yarg_r', 'gnuplot', 'gnuplot2', 'gnuplot2_r', 'gnuplot_r', 'gray', \n",
    "       'gray_r', 'hot', 'hot_r', 'hsv', 'hsv_r', 'icefire', 'icefire_r', 'inferno', 'inferno_r', 'jet', 'jet_r', 'magma', 'magma_r', \n",
    "       'mako', 'mako_r', 'nipy_spectral', 'nipy_spectral_r', 'ocean', 'ocean_r', 'pink', 'pink_r', 'plasma', 'plasma_r', 'prism', 'prism_r', \n",
    "       'rainbow', 'rainbow_r', 'rocket', 'rocket_r', 'seismic', 'seismic_r', 'spring', 'spring_r', 'summer', 'summer_r', 'tab10', 'tab10_r', \n",
    "       'tab20', 'tab20_r', 'tab20b', 'tab20b_r', 'tab20c', 'tab20c_r', 'terrain', 'terrain_r', 'twilight', 'twilight_r', 'twilight_shifted', \n",
    "       'twilight_shifted_r', 'viridis', 'viridis_r', 'vlag', 'vlag_r', 'winter', 'winter_r']\n",
    "\n",
    "funcao = [('soma',np.sum),('media',np.mean),('mediana',np.median), ('máx',np.max) ,('min',np.min)]\n",
    "todasAulas = ['sospopeye', 'speeding', 'pilates', 'bodypump', 'step','soscelulite', 'sosabs', 'sosbunda', \n",
    "              'bodybalance', 'endurance','bodycombat', 'zumba', '100pança', 'gain', '100stress']\n",
    "cardio = ['speeding','endurance','bodycombat','zumba', '100stress','step']\n",
    "forca = ['sospopeye','popeye','sosabs','sosbunda','gain','bodypump','soscelulite','100pança','bunda']\n",
    "relaxamento = ['bodybalance','yoga','pilates']\n",
    "\n",
    "opcoes = [('cardio',cardio),('forca',forca),('relaxamento',relaxamento),('todas',todasAulas)]"
   ]
  },
  {
   "cell_type": "markdown",
   "metadata": {},
   "source": [
    "## Número de clientes por hora\n",
    "\n",
    "A barra preta representa o intervalo de confiança com 95%, i.e. o número de clientes tem uma estimativa limite minimo e máximo por hora de acordo com o registos nessa hora"
   ]
  },
  {
   "cell_type": "code",
   "execution_count": 54,
   "metadata": {},
   "outputs": [],
   "source": [
    "# Vamos selecionar as colunas SOS e sem SOS\n",
    "comsos= ['soscelulite','sosabs', 'sosbunda', 'sospopeye', 'sosspeeding']\n",
    "semsos=['popeye', 'speeding', 'pilates', 'bodypump', 'step','bodybalance', 'endurance','bodycombat', 'zumba', '100pança', 'gain','100stress','bunda']"
   ]
  },
  {
   "cell_type": "code",
   "execution_count": 55,
   "metadata": {},
   "outputs": [
    {
     "data": {
      "application/vnd.jupyter.widget-view+json": {
       "model_id": "c63f756129554c23991220d9d920bfc0",
       "version_major": 2,
       "version_minor": 0
      },
      "text/plain": [
       "interactive(children=(Dropdown(description='funcao', options=(('soma', <function sum at 0x00000287648D8708>), …"
      ]
     },
     "metadata": {},
     "output_type": "display_data"
    }
   ],
   "source": [
    "def f(funcao,sos,porMes,mes):\n",
    "    if porMes == True:\n",
    "        dados = dfAG.loc[dfAG['mes'] == mes]\n",
    "    else:\n",
    "        dados = dfAG\n",
    "    if sos == True:\n",
    "        dados=dados.loc[dados['aula'].isin(comsos)]\n",
    "    else:\n",
    "        dados=dados.loc[dados['aula'].isin(semsos)]\n",
    "        \n",
    "    if dados.empty:\n",
    "        print('Não tem dados')\n",
    "    else:\n",
    "        plt.rcParams['figure.figsize'] = [15, 3]\n",
    "        sns.barplot(x='hora',y='pessoas',data=dados,palette='rainbow',estimator=funcao).set_title('Aulas de Grupo Rio Maior')\n",
    "        plt.xticks(rotation=0);\n",
    "        fig = plt.gcf() # \"Get current figure\"\n",
    "        plt.show()\n",
    "\n",
    "interact(f, funcao=funcao,sos=True,porMes=True,mes=widgets.IntSlider(min=1,max=12,step=1,value=1));"
   ]
  },
  {
   "cell_type": "markdown",
   "metadata": {},
   "source": [
    "## Clientes por dia semana"
   ]
  },
  {
   "cell_type": "code",
   "execution_count": 56,
   "metadata": {},
   "outputs": [
    {
     "data": {
      "application/vnd.jupyter.widget-view+json": {
       "model_id": "039ab886ad514c47ba1dd26175b97690",
       "version_major": 2,
       "version_minor": 0
      },
      "text/plain": [
       "interactive(children=(Dropdown(description='funcao', options=(('soma', <function sum at 0x00000287648D8708>), …"
      ]
     },
     "metadata": {},
     "output_type": "display_data"
    }
   ],
   "source": [
    "def f(funcao,sos):\n",
    "    if sos == True:\n",
    "        dados=dfAG.loc[dfAG['aula'].isin(comsos)]\n",
    "    else:\n",
    "        dados=dfAG.loc[dfAG['aula'].isin(semsos)]\n",
    "        \n",
    "    plt.rcParams['figure.figsize'] = [15, 3]\n",
    "    sns.barplot(x='diaSemana',y='pessoas',data=dados,palette='rainbow',estimator=funcao).set_title('Aulas de Grupo - Rio Maior')\n",
    "    plt.xticks(np.arange(7),('seg','ter','qua','qui','sex','sab','dom'))\n",
    "    fig = plt.gcf() # \"Get current figure\"\n",
    "    plt.show()\n",
    "\n",
    "interact(f, funcao=funcao,sos=True);"
   ]
  },
  {
   "cell_type": "markdown",
   "metadata": {},
   "source": [
    "## Clientes por hora e aula"
   ]
  },
  {
   "cell_type": "code",
   "execution_count": 57,
   "metadata": {},
   "outputs": [
    {
     "data": {
      "application/vnd.jupyter.widget-view+json": {
       "model_id": "498774df28a84b4faa6cc27f8bdcbb51",
       "version_major": 2,
       "version_minor": 0
      },
      "text/plain": [
       "interactive(children=(Dropdown(description='cor', options=('Accent', 'Accent_r', 'Blues', 'Blues_r', 'BrBG', '…"
      ]
     },
     "metadata": {},
     "output_type": "display_data"
    }
   ],
   "source": [
    "def f(cor,funcao,tipo,sos):\n",
    "    if sos == True:\n",
    "        dados=dfAG.loc[dfAG['aula'].isin(comsos)]\n",
    "    else:\n",
    "        dados=dfAG.loc[dfAG['aula'].isin(semsos)]\n",
    "    plt.rcParams['figure.figsize'] = [15, 6]\n",
    "    if dados.loc[dados['aula'].isin(tipo)].empty:\n",
    "        print('Não tem dados')\n",
    "    else:\n",
    "        sns.lineplot(x='hora',y='pessoas',hue='aula',data=dados.loc[dados['aula'].isin(tipo)],palette=cor,\n",
    "                     estimator=funcao,ci=0).set_title('Aulas Grupo RM - '+str(tipo));\n",
    "        fig = plt.gcf() # \"Get current figure\"\n",
    "        plt.show()\n",
    "\n",
    "interact(f,cor=cor,funcao=funcao,tipo=opcoes,sos=True);"
   ]
  },
  {
   "cell_type": "code",
   "execution_count": null,
   "metadata": {},
   "outputs": [],
   "source": []
  },
  {
   "cell_type": "code",
   "execution_count": 58,
   "metadata": {},
   "outputs": [
    {
     "data": {
      "application/vnd.jupyter.widget-view+json": {
       "model_id": "1aadfb6bd6834e9ca4c4083c031da644",
       "version_major": 2,
       "version_minor": 0
      },
      "text/plain": [
       "interactive(children=(Dropdown(description='aula', options=('popeye', 'speeding', nan, 'pilates', 'bodypump', …"
      ]
     },
     "metadata": {},
     "output_type": "display_data"
    }
   ],
   "source": [
    "def f(aula,funcao):\n",
    "    plt.rcParams['figure.figsize'] = [15, 4]\n",
    "    sns.barplot(x='hora',y='pessoas',hue='aula',data=dfAG[dfAG.aula==aula],palette='rainbow',\n",
    "                 estimator=funcao,ci=0).set_title('Sala de exercicio RM');\n",
    "    \n",
    "    fig = plt.gcf() # \"Get current figure\"\n",
    "    plt.show()\n",
    "\n",
    "interact(f, aula=dfAG.aula.unique(),funcao=funcao);"
   ]
  },
  {
   "cell_type": "markdown",
   "metadata": {},
   "source": [
    "### Quais são as aulas com mais alunos por dia da semana?"
   ]
  },
  {
   "cell_type": "code",
   "execution_count": 59,
   "metadata": {},
   "outputs": [
    {
     "data": {
      "application/vnd.jupyter.widget-view+json": {
       "model_id": "3607d41cb08e4b19ae6c0f13d4b2090f",
       "version_major": 2,
       "version_minor": 0
      },
      "text/plain": [
       "interactive(children=(Dropdown(description='funcao', options=(('soma', <function sum at 0x00000287648D8708>), …"
      ]
     },
     "metadata": {},
     "output_type": "display_data"
    }
   ],
   "source": [
    "def f(funcao,tipo,sos):\n",
    "    if sos == True:\n",
    "        dados=dfAG.loc[dfAG['aula'].isin(comsos)]\n",
    "    else:\n",
    "        dados=dfAG.loc[dfAG['aula'].isin(semsos)]    \n",
    "    plt.rcParams['figure.figsize'] = [20, 5]\n",
    "    #plt.xticks(rotation=45);\n",
    "    if dados.loc[dados['aula'].isin(tipo)].empty:\n",
    "        print('Não tem dados')\n",
    "    else:\n",
    "        sns.barplot(x='aula',y='pessoas',hue='diaSemana',\n",
    "                    data=dados.loc[dados['aula'].isin(tipo)],\n",
    "                    palette='Accent',estimator=funcao).set_title('Sala exercício RM')\n",
    "    \n",
    "        fig = plt.gcf() # \"Get current figure\"\n",
    "    \n",
    "\n",
    "interact(f,funcao=funcao,tipo=opcoes,sos=True);"
   ]
  },
  {
   "cell_type": "markdown",
   "metadata": {},
   "source": [
    "## Mapa de utilização "
   ]
  },
  {
   "cell_type": "markdown",
   "metadata": {},
   "source": [
    "__TODO: Colocar opção para selecionar as aulas__"
   ]
  },
  {
   "cell_type": "code",
   "execution_count": 60,
   "metadata": {},
   "outputs": [],
   "source": [
    "dfAG['dia']=dfAG['data'].apply(lambda x: x.day)"
   ]
  },
  {
   "cell_type": "code",
   "execution_count": 61,
   "metadata": {},
   "outputs": [
    {
     "data": {
      "application/vnd.jupyter.widget-view+json": {
       "model_id": "9aa34f2b153f482abb07d53f3d1bdcac",
       "version_major": 2,
       "version_minor": 0
      },
      "text/plain": [
       "interactive(children=(Dropdown(description='funcao', options=(('soma', <function sum at 0x00000287648D8708>), …"
      ]
     },
     "metadata": {},
     "output_type": "display_data"
    }
   ],
   "source": [
    "def f(funcao,sos,porMes,mes):\n",
    "    if porMes == True:\n",
    "        dados = dfAG.loc[dfAG['mes'] == mes]\n",
    "    else:\n",
    "        dados = dfAG\n",
    "    if sos == True:\n",
    "        dados=dados.loc[dados['aula'].isin(comsos)]\n",
    "    else:\n",
    "        dados=dados.loc[dados['aula'].isin(semsos)]\n",
    "        \n",
    "    if dados.empty:\n",
    "        print('Não tem dados')\n",
    "    else:\n",
    "        quadro = pd.pivot_table(dados,values='pessoas',index='hora',columns=['diaSemana'],aggfunc=funcao,margins=True,fill_value=0)\n",
    "        print(tabulate(quadro,tablefmt='github',floatfmt=\".2f\",headers=['hora','seg','ter','qua','qui','sex','sab','dom','total']))\n",
    "        print('\\nPor dia do mês:')\n",
    "        quadro2 = pd.pivot_table(dados,values='pessoas',index='hora',columns=['dia'],aggfunc=funcao,margins=True,fill_value=0)\n",
    "        print(tabulate(quadro2,floatfmt=\".1f\",headers=['hora']+list(range(dados.dia.min(),dados.dia.max()+1))+['total']))\n",
    "        quadro.to_html()\n",
    "\n",
    "interact(f, funcao=funcao,sos=True,porMes=True,mes=widgets.IntSlider(min=1,max=12,step=1,value=1));"
   ]
  },
  {
   "cell_type": "markdown",
   "metadata": {},
   "source": [
    "## Evolução clientes aulas de grupo"
   ]
  },
  {
   "cell_type": "markdown",
   "metadata": {},
   "source": [
    "### Dados históricos"
   ]
  },
  {
   "cell_type": "code",
   "execution_count": 62,
   "metadata": {},
   "outputs": [
    {
     "data": {
      "text/html": [
       "\n",
       "    <div class=\"bk-root\">\n",
       "        <a href=\"https://bokeh.org\" target=\"_blank\" class=\"bk-logo bk-logo-small bk-logo-notebook\"></a>\n",
       "        <span id=\"2028\">Loading BokehJS ...</span>\n",
       "    </div>"
      ]
     },
     "metadata": {},
     "output_type": "display_data"
    },
    {
     "data": {
      "application/javascript": [
       "\n",
       "(function(root) {\n",
       "  function now() {\n",
       "    return new Date();\n",
       "  }\n",
       "\n",
       "  var force = true;\n",
       "\n",
       "  if (typeof root._bokeh_onload_callbacks === \"undefined\" || force === true) {\n",
       "    root._bokeh_onload_callbacks = [];\n",
       "    root._bokeh_is_loading = undefined;\n",
       "  }\n",
       "\n",
       "  var JS_MIME_TYPE = 'application/javascript';\n",
       "  var HTML_MIME_TYPE = 'text/html';\n",
       "  var EXEC_MIME_TYPE = 'application/vnd.bokehjs_exec.v0+json';\n",
       "  var CLASS_NAME = 'output_bokeh rendered_html';\n",
       "\n",
       "  /**\n",
       "   * Render data to the DOM node\n",
       "   */\n",
       "  function render(props, node) {\n",
       "    var script = document.createElement(\"script\");\n",
       "    node.appendChild(script);\n",
       "  }\n",
       "\n",
       "  /**\n",
       "   * Handle when an output is cleared or removed\n",
       "   */\n",
       "  function handleClearOutput(event, handle) {\n",
       "    var cell = handle.cell;\n",
       "\n",
       "    var id = cell.output_area._bokeh_element_id;\n",
       "    var server_id = cell.output_area._bokeh_server_id;\n",
       "    // Clean up Bokeh references\n",
       "    if (id != null && id in Bokeh.index) {\n",
       "      Bokeh.index[id].model.document.clear();\n",
       "      delete Bokeh.index[id];\n",
       "    }\n",
       "\n",
       "    if (server_id !== undefined) {\n",
       "      // Clean up Bokeh references\n",
       "      var cmd = \"from bokeh.io.state import curstate; print(curstate().uuid_to_server['\" + server_id + \"'].get_sessions()[0].document.roots[0]._id)\";\n",
       "      cell.notebook.kernel.execute(cmd, {\n",
       "        iopub: {\n",
       "          output: function(msg) {\n",
       "            var id = msg.content.text.trim();\n",
       "            if (id in Bokeh.index) {\n",
       "              Bokeh.index[id].model.document.clear();\n",
       "              delete Bokeh.index[id];\n",
       "            }\n",
       "          }\n",
       "        }\n",
       "      });\n",
       "      // Destroy server and session\n",
       "      var cmd = \"import bokeh.io.notebook as ion; ion.destroy_server('\" + server_id + \"')\";\n",
       "      cell.notebook.kernel.execute(cmd);\n",
       "    }\n",
       "  }\n",
       "\n",
       "  /**\n",
       "   * Handle when a new output is added\n",
       "   */\n",
       "  function handleAddOutput(event, handle) {\n",
       "    var output_area = handle.output_area;\n",
       "    var output = handle.output;\n",
       "\n",
       "    // limit handleAddOutput to display_data with EXEC_MIME_TYPE content only\n",
       "    if ((output.output_type != \"display_data\") || (!output.data.hasOwnProperty(EXEC_MIME_TYPE))) {\n",
       "      return\n",
       "    }\n",
       "\n",
       "    var toinsert = output_area.element.find(\".\" + CLASS_NAME.split(' ')[0]);\n",
       "\n",
       "    if (output.metadata[EXEC_MIME_TYPE][\"id\"] !== undefined) {\n",
       "      toinsert[toinsert.length - 1].firstChild.textContent = output.data[JS_MIME_TYPE];\n",
       "      // store reference to embed id on output_area\n",
       "      output_area._bokeh_element_id = output.metadata[EXEC_MIME_TYPE][\"id\"];\n",
       "    }\n",
       "    if (output.metadata[EXEC_MIME_TYPE][\"server_id\"] !== undefined) {\n",
       "      var bk_div = document.createElement(\"div\");\n",
       "      bk_div.innerHTML = output.data[HTML_MIME_TYPE];\n",
       "      var script_attrs = bk_div.children[0].attributes;\n",
       "      for (var i = 0; i < script_attrs.length; i++) {\n",
       "        toinsert[toinsert.length - 1].firstChild.setAttribute(script_attrs[i].name, script_attrs[i].value);\n",
       "      }\n",
       "      // store reference to server id on output_area\n",
       "      output_area._bokeh_server_id = output.metadata[EXEC_MIME_TYPE][\"server_id\"];\n",
       "    }\n",
       "  }\n",
       "\n",
       "  function register_renderer(events, OutputArea) {\n",
       "\n",
       "    function append_mime(data, metadata, element) {\n",
       "      // create a DOM node to render to\n",
       "      var toinsert = this.create_output_subarea(\n",
       "        metadata,\n",
       "        CLASS_NAME,\n",
       "        EXEC_MIME_TYPE\n",
       "      );\n",
       "      this.keyboard_manager.register_events(toinsert);\n",
       "      // Render to node\n",
       "      var props = {data: data, metadata: metadata[EXEC_MIME_TYPE]};\n",
       "      render(props, toinsert[toinsert.length - 1]);\n",
       "      element.append(toinsert);\n",
       "      return toinsert\n",
       "    }\n",
       "\n",
       "    /* Handle when an output is cleared or removed */\n",
       "    events.on('clear_output.CodeCell', handleClearOutput);\n",
       "    events.on('delete.Cell', handleClearOutput);\n",
       "\n",
       "    /* Handle when a new output is added */\n",
       "    events.on('output_added.OutputArea', handleAddOutput);\n",
       "\n",
       "    /**\n",
       "     * Register the mime type and append_mime function with output_area\n",
       "     */\n",
       "    OutputArea.prototype.register_mime_type(EXEC_MIME_TYPE, append_mime, {\n",
       "      /* Is output safe? */\n",
       "      safe: true,\n",
       "      /* Index of renderer in `output_area.display_order` */\n",
       "      index: 0\n",
       "    });\n",
       "  }\n",
       "\n",
       "  // register the mime type if in Jupyter Notebook environment and previously unregistered\n",
       "  if (root.Jupyter !== undefined) {\n",
       "    var events = require('base/js/events');\n",
       "    var OutputArea = require('notebook/js/outputarea').OutputArea;\n",
       "\n",
       "    if (OutputArea.prototype.mime_types().indexOf(EXEC_MIME_TYPE) == -1) {\n",
       "      register_renderer(events, OutputArea);\n",
       "    }\n",
       "  }\n",
       "\n",
       "  \n",
       "  if (typeof (root._bokeh_timeout) === \"undefined\" || force === true) {\n",
       "    root._bokeh_timeout = Date.now() + 5000;\n",
       "    root._bokeh_failed_load = false;\n",
       "  }\n",
       "\n",
       "  var NB_LOAD_WARNING = {'data': {'text/html':\n",
       "     \"<div style='background-color: #fdd'>\\n\"+\n",
       "     \"<p>\\n\"+\n",
       "     \"BokehJS does not appear to have successfully loaded. If loading BokehJS from CDN, this \\n\"+\n",
       "     \"may be due to a slow or bad network connection. Possible fixes:\\n\"+\n",
       "     \"</p>\\n\"+\n",
       "     \"<ul>\\n\"+\n",
       "     \"<li>re-rerun `output_notebook()` to attempt to load from CDN again, or</li>\\n\"+\n",
       "     \"<li>use INLINE resources instead, as so:</li>\\n\"+\n",
       "     \"</ul>\\n\"+\n",
       "     \"<code>\\n\"+\n",
       "     \"from bokeh.resources import INLINE\\n\"+\n",
       "     \"output_notebook(resources=INLINE)\\n\"+\n",
       "     \"</code>\\n\"+\n",
       "     \"</div>\"}};\n",
       "\n",
       "  function display_loaded() {\n",
       "    var el = document.getElementById(\"2028\");\n",
       "    if (el != null) {\n",
       "      el.textContent = \"BokehJS is loading...\";\n",
       "    }\n",
       "    if (root.Bokeh !== undefined) {\n",
       "      if (el != null) {\n",
       "        el.textContent = \"BokehJS \" + root.Bokeh.version + \" successfully loaded.\";\n",
       "      }\n",
       "    } else if (Date.now() < root._bokeh_timeout) {\n",
       "      setTimeout(display_loaded, 100)\n",
       "    }\n",
       "  }\n",
       "\n",
       "\n",
       "  function run_callbacks() {\n",
       "    try {\n",
       "      root._bokeh_onload_callbacks.forEach(function(callback) {\n",
       "        if (callback != null)\n",
       "          callback();\n",
       "      });\n",
       "    } finally {\n",
       "      delete root._bokeh_onload_callbacks\n",
       "    }\n",
       "    console.debug(\"Bokeh: all callbacks have finished\");\n",
       "  }\n",
       "\n",
       "  function load_libs(css_urls, js_urls, callback) {\n",
       "    if (css_urls == null) css_urls = [];\n",
       "    if (js_urls == null) js_urls = [];\n",
       "\n",
       "    root._bokeh_onload_callbacks.push(callback);\n",
       "    if (root._bokeh_is_loading > 0) {\n",
       "      console.debug(\"Bokeh: BokehJS is being loaded, scheduling callback at\", now());\n",
       "      return null;\n",
       "    }\n",
       "    if (js_urls == null || js_urls.length === 0) {\n",
       "      run_callbacks();\n",
       "      return null;\n",
       "    }\n",
       "    console.debug(\"Bokeh: BokehJS not loaded, scheduling load and callback at\", now());\n",
       "    root._bokeh_is_loading = css_urls.length + js_urls.length;\n",
       "\n",
       "    function on_load() {\n",
       "      root._bokeh_is_loading--;\n",
       "      if (root._bokeh_is_loading === 0) {\n",
       "        console.debug(\"Bokeh: all BokehJS libraries/stylesheets loaded\");\n",
       "        run_callbacks()\n",
       "      }\n",
       "    }\n",
       "\n",
       "    function on_error() {\n",
       "      console.error(\"failed to load \" + url);\n",
       "    }\n",
       "\n",
       "    for (var i = 0; i < css_urls.length; i++) {\n",
       "      var url = css_urls[i];\n",
       "      const element = document.createElement(\"link\");\n",
       "      element.onload = on_load;\n",
       "      element.onerror = on_error;\n",
       "      element.rel = \"stylesheet\";\n",
       "      element.type = \"text/css\";\n",
       "      element.href = url;\n",
       "      console.debug(\"Bokeh: injecting link tag for BokehJS stylesheet: \", url);\n",
       "      document.body.appendChild(element);\n",
       "    }\n",
       "\n",
       "    for (var i = 0; i < js_urls.length; i++) {\n",
       "      var url = js_urls[i];\n",
       "      var element = document.createElement('script');\n",
       "      element.onload = on_load;\n",
       "      element.onerror = on_error;\n",
       "      element.async = false;\n",
       "      element.src = url;\n",
       "      console.debug(\"Bokeh: injecting script tag for BokehJS library: \", url);\n",
       "      document.head.appendChild(element);\n",
       "    }\n",
       "  };var element = document.getElementById(\"2028\");\n",
       "  if (element == null) {\n",
       "    console.error(\"Bokeh: ERROR: autoload.js configured with elementid '2028' but no matching script tag was found. \")\n",
       "    return false;\n",
       "  }\n",
       "\n",
       "  function inject_raw_css(css) {\n",
       "    const element = document.createElement(\"style\");\n",
       "    element.appendChild(document.createTextNode(css));\n",
       "    document.body.appendChild(element);\n",
       "  }\n",
       "\n",
       "  \n",
       "  var js_urls = [\"https://cdn.pydata.org/bokeh/release/bokeh-1.4.0.min.js\", \"https://cdn.pydata.org/bokeh/release/bokeh-widgets-1.4.0.min.js\", \"https://cdn.pydata.org/bokeh/release/bokeh-tables-1.4.0.min.js\", \"https://cdn.pydata.org/bokeh/release/bokeh-gl-1.4.0.min.js\"];\n",
       "  var css_urls = [];\n",
       "  \n",
       "\n",
       "  var inline_js = [\n",
       "    function(Bokeh) {\n",
       "      Bokeh.set_log_level(\"info\");\n",
       "    },\n",
       "    function(Bokeh) {\n",
       "    \n",
       "    \n",
       "    }\n",
       "  ];\n",
       "\n",
       "  function run_inline_js() {\n",
       "    \n",
       "    if (root.Bokeh !== undefined || force === true) {\n",
       "      \n",
       "    for (var i = 0; i < inline_js.length; i++) {\n",
       "      inline_js[i].call(root, root.Bokeh);\n",
       "    }\n",
       "    if (force === true) {\n",
       "        display_loaded();\n",
       "      }} else if (Date.now() < root._bokeh_timeout) {\n",
       "      setTimeout(run_inline_js, 100);\n",
       "    } else if (!root._bokeh_failed_load) {\n",
       "      console.log(\"Bokeh: BokehJS failed to load within specified timeout.\");\n",
       "      root._bokeh_failed_load = true;\n",
       "    } else if (force !== true) {\n",
       "      var cell = $(document.getElementById(\"2028\")).parents('.cell').data().cell;\n",
       "      cell.output_area.append_execute_result(NB_LOAD_WARNING)\n",
       "    }\n",
       "\n",
       "  }\n",
       "\n",
       "  if (root._bokeh_is_loading === 0) {\n",
       "    console.debug(\"Bokeh: BokehJS loaded, going straight to plotting\");\n",
       "    run_inline_js();\n",
       "  } else {\n",
       "    load_libs(css_urls, js_urls, function() {\n",
       "      console.debug(\"Bokeh: BokehJS plotting callback run at\", now());\n",
       "      run_inline_js();\n",
       "    });\n",
       "  }\n",
       "}(window));"
      ],
      "application/vnd.bokehjs_load.v0+json": "\n(function(root) {\n  function now() {\n    return new Date();\n  }\n\n  var force = true;\n\n  if (typeof root._bokeh_onload_callbacks === \"undefined\" || force === true) {\n    root._bokeh_onload_callbacks = [];\n    root._bokeh_is_loading = undefined;\n  }\n\n  \n\n  \n  if (typeof (root._bokeh_timeout) === \"undefined\" || force === true) {\n    root._bokeh_timeout = Date.now() + 5000;\n    root._bokeh_failed_load = false;\n  }\n\n  var NB_LOAD_WARNING = {'data': {'text/html':\n     \"<div style='background-color: #fdd'>\\n\"+\n     \"<p>\\n\"+\n     \"BokehJS does not appear to have successfully loaded. If loading BokehJS from CDN, this \\n\"+\n     \"may be due to a slow or bad network connection. Possible fixes:\\n\"+\n     \"</p>\\n\"+\n     \"<ul>\\n\"+\n     \"<li>re-rerun `output_notebook()` to attempt to load from CDN again, or</li>\\n\"+\n     \"<li>use INLINE resources instead, as so:</li>\\n\"+\n     \"</ul>\\n\"+\n     \"<code>\\n\"+\n     \"from bokeh.resources import INLINE\\n\"+\n     \"output_notebook(resources=INLINE)\\n\"+\n     \"</code>\\n\"+\n     \"</div>\"}};\n\n  function display_loaded() {\n    var el = document.getElementById(\"2028\");\n    if (el != null) {\n      el.textContent = \"BokehJS is loading...\";\n    }\n    if (root.Bokeh !== undefined) {\n      if (el != null) {\n        el.textContent = \"BokehJS \" + root.Bokeh.version + \" successfully loaded.\";\n      }\n    } else if (Date.now() < root._bokeh_timeout) {\n      setTimeout(display_loaded, 100)\n    }\n  }\n\n\n  function run_callbacks() {\n    try {\n      root._bokeh_onload_callbacks.forEach(function(callback) {\n        if (callback != null)\n          callback();\n      });\n    } finally {\n      delete root._bokeh_onload_callbacks\n    }\n    console.debug(\"Bokeh: all callbacks have finished\");\n  }\n\n  function load_libs(css_urls, js_urls, callback) {\n    if (css_urls == null) css_urls = [];\n    if (js_urls == null) js_urls = [];\n\n    root._bokeh_onload_callbacks.push(callback);\n    if (root._bokeh_is_loading > 0) {\n      console.debug(\"Bokeh: BokehJS is being loaded, scheduling callback at\", now());\n      return null;\n    }\n    if (js_urls == null || js_urls.length === 0) {\n      run_callbacks();\n      return null;\n    }\n    console.debug(\"Bokeh: BokehJS not loaded, scheduling load and callback at\", now());\n    root._bokeh_is_loading = css_urls.length + js_urls.length;\n\n    function on_load() {\n      root._bokeh_is_loading--;\n      if (root._bokeh_is_loading === 0) {\n        console.debug(\"Bokeh: all BokehJS libraries/stylesheets loaded\");\n        run_callbacks()\n      }\n    }\n\n    function on_error() {\n      console.error(\"failed to load \" + url);\n    }\n\n    for (var i = 0; i < css_urls.length; i++) {\n      var url = css_urls[i];\n      const element = document.createElement(\"link\");\n      element.onload = on_load;\n      element.onerror = on_error;\n      element.rel = \"stylesheet\";\n      element.type = \"text/css\";\n      element.href = url;\n      console.debug(\"Bokeh: injecting link tag for BokehJS stylesheet: \", url);\n      document.body.appendChild(element);\n    }\n\n    for (var i = 0; i < js_urls.length; i++) {\n      var url = js_urls[i];\n      var element = document.createElement('script');\n      element.onload = on_load;\n      element.onerror = on_error;\n      element.async = false;\n      element.src = url;\n      console.debug(\"Bokeh: injecting script tag for BokehJS library: \", url);\n      document.head.appendChild(element);\n    }\n  };var element = document.getElementById(\"2028\");\n  if (element == null) {\n    console.error(\"Bokeh: ERROR: autoload.js configured with elementid '2028' but no matching script tag was found. \")\n    return false;\n  }\n\n  function inject_raw_css(css) {\n    const element = document.createElement(\"style\");\n    element.appendChild(document.createTextNode(css));\n    document.body.appendChild(element);\n  }\n\n  \n  var js_urls = [\"https://cdn.pydata.org/bokeh/release/bokeh-1.4.0.min.js\", \"https://cdn.pydata.org/bokeh/release/bokeh-widgets-1.4.0.min.js\", \"https://cdn.pydata.org/bokeh/release/bokeh-tables-1.4.0.min.js\", \"https://cdn.pydata.org/bokeh/release/bokeh-gl-1.4.0.min.js\"];\n  var css_urls = [];\n  \n\n  var inline_js = [\n    function(Bokeh) {\n      Bokeh.set_log_level(\"info\");\n    },\n    function(Bokeh) {\n    \n    \n    }\n  ];\n\n  function run_inline_js() {\n    \n    if (root.Bokeh !== undefined || force === true) {\n      \n    for (var i = 0; i < inline_js.length; i++) {\n      inline_js[i].call(root, root.Bokeh);\n    }\n    if (force === true) {\n        display_loaded();\n      }} else if (Date.now() < root._bokeh_timeout) {\n      setTimeout(run_inline_js, 100);\n    } else if (!root._bokeh_failed_load) {\n      console.log(\"Bokeh: BokehJS failed to load within specified timeout.\");\n      root._bokeh_failed_load = true;\n    } else if (force !== true) {\n      var cell = $(document.getElementById(\"2028\")).parents('.cell').data().cell;\n      cell.output_area.append_execute_result(NB_LOAD_WARNING)\n    }\n\n  }\n\n  if (root._bokeh_is_loading === 0) {\n    console.debug(\"Bokeh: BokehJS loaded, going straight to plotting\");\n    run_inline_js();\n  } else {\n    load_libs(css_urls, js_urls, function() {\n      console.debug(\"Bokeh: BokehJS plotting callback run at\", now());\n      run_inline_js();\n    });\n  }\n}(window));"
     },
     "metadata": {},
     "output_type": "display_data"
    },
    {
     "data": {
      "application/vnd.jupyter.widget-view+json": {
       "model_id": "0d84df788ecf478ba294e20b39f68e79",
       "version_major": 2,
       "version_minor": 0
      },
      "text/plain": [
       "interactive(children=(Dropdown(description='aula', options=('popeye', 'speeding', nan, 'pilates', 'bodypump', …"
      ]
     },
     "metadata": {},
     "output_type": "display_data"
    }
   ],
   "source": [
    "from bokeh.plotting import figure, output_file, show\n",
    "from bokeh.io import output_notebook\n",
    "from bokeh.models import HoverTool\n",
    "\n",
    "output_notebook()\n",
    "\n",
    "def f(aula):\n",
    "    dados=dfAG[dfAG.aula==aula]\n",
    "    dados = dados.groupby('data')['pessoas'].sum().reset_index()\n",
    "    # Format the tooltip\n",
    "    tooltips = [(\"valor\", \"@pessoas\")]\n",
    "\n",
    "    plot = figure(title='Evolução clientes', x_axis_label='Data',y_axis_label='Clientes',plot_width=1100,plot_height=300,x_axis_type=\"datetime\")\n",
    "    plot.xaxis.major_label_orientation = 3.14/2\n",
    "    plot.xaxis.ticker.desired_num_ticks = int(len(dfAG.data.unique()))\n",
    "    plot.line('data', 'pessoas', line_width=2, line_color='orange', legend_label='total clientes',source=dados)\n",
    "    plot.add_tools(HoverTool(tooltips=tooltips))\n",
    "    plot.circle('data', 'pessoas',source=dados)\n",
    "\n",
    "    show(plot)\n",
    "\n",
    "interact(f, aula=dfAG.aula.unique());\n",
    "\n"
   ]
  },
  {
   "cell_type": "markdown",
   "metadata": {},
   "source": [
    "## Previsão global\n",
    "\n",
    "Um teste"
   ]
  },
  {
   "cell_type": "code",
   "execution_count": 63,
   "metadata": {},
   "outputs": [],
   "source": [
    "import warnings\n",
    "warnings.simplefilter('ignore')"
   ]
  },
  {
   "cell_type": "code",
   "execution_count": 64,
   "metadata": {},
   "outputs": [
    {
     "ename": "ModuleNotFoundError",
     "evalue": "No module named 'fbprophet'",
     "output_type": "error",
     "traceback": [
      "\u001b[1;31m---------------------------------------------------------------------------\u001b[0m",
      "\u001b[1;31mModuleNotFoundError\u001b[0m                       Traceback (most recent call last)",
      "\u001b[1;32m<ipython-input-64-ae88579e43be>\u001b[0m in \u001b[0;36m<module>\u001b[1;34m\u001b[0m\n\u001b[0;32m      1\u001b[0m \u001b[1;31m#!pip install fbprophet\u001b[0m\u001b[1;33m\u001b[0m\u001b[1;33m\u001b[0m\u001b[1;33m\u001b[0m\u001b[0m\n\u001b[1;32m----> 2\u001b[1;33m \u001b[1;32mfrom\u001b[0m \u001b[0mfbprophet\u001b[0m \u001b[1;32mimport\u001b[0m \u001b[0mProphet\u001b[0m\u001b[1;33m\u001b[0m\u001b[1;33m\u001b[0m\u001b[0m\n\u001b[0m\u001b[0;32m      3\u001b[0m \u001b[1;33m\u001b[0m\u001b[0m\n\u001b[0;32m      4\u001b[0m \u001b[0mdados\u001b[0m \u001b[1;33m=\u001b[0m \u001b[0mdfAG\u001b[0m\u001b[1;33m.\u001b[0m\u001b[0mgroupby\u001b[0m\u001b[1;33m(\u001b[0m\u001b[1;34m'data'\u001b[0m\u001b[1;33m)\u001b[0m\u001b[1;33m[\u001b[0m\u001b[1;34m'pessoas'\u001b[0m\u001b[1;33m]\u001b[0m\u001b[1;33m.\u001b[0m\u001b[0msum\u001b[0m\u001b[1;33m(\u001b[0m\u001b[1;33m)\u001b[0m\u001b[1;33m.\u001b[0m\u001b[0mreset_index\u001b[0m\u001b[1;33m(\u001b[0m\u001b[1;33m)\u001b[0m\u001b[1;33m\u001b[0m\u001b[1;33m\u001b[0m\u001b[0m\n\u001b[0;32m      5\u001b[0m \u001b[1;33m\u001b[0m\u001b[0m\n",
      "\u001b[1;31mModuleNotFoundError\u001b[0m: No module named 'fbprophet'"
     ]
    }
   ],
   "source": [
    "#!pip install fbprophet\n",
    "from fbprophet import Prophet\n",
    "\n",
    "dados = dfAG.groupby('data')['pessoas'].sum().reset_index()\n",
    "    \n",
    "# Renomear as colunas\n",
    "dados.columns = ['ds','y']\n",
    "# Instanciação\n",
    "pro = Prophet()\n",
    "pro.fit(dados)\n",
    "\n",
    "future = pro.make_future_dataframe(periods=60,freq='D')\n",
    "#print(future.tail())\n",
    "forecast = pro.predict(future)\n",
    "fig1=pro.plot(forecast)"
   ]
  },
  {
   "cell_type": "markdown",
   "metadata": {
    "toc-hr-collapsed": false
   },
   "source": [
    "# Dados recolhidos aula de grupo Alverca"
   ]
  },
  {
   "cell_type": "code",
   "execution_count": 70,
   "metadata": {},
   "outputs": [],
   "source": [
    "import pandas as pd\n",
    "import seaborn as sns\n",
    "from ipywidgets import interact, interactive, fixed, interact_manual,widgets\n",
    "import plotly.offline as py\n",
    "import datetime,calendar\n",
    "import numpy as np\n",
    "import matplotlib.pyplot as plt\n",
    "from tabulate import tabulate\n",
    "\n",
    "\n",
    "dfAG = pd.read_excel('https://raw.githubusercontent.com/pesobreiro/jupyternotebooks/master/dados/_ALVAulasGrupo.xlsx',sheet_name='Sheet1')\n",
    "\n",
    "## Preparação dos dados\n",
    "\n",
    "cols = ['ID','E-mail', 'Nome','Pontuação total', 'Feedback do questionário', 'Pontos – Data',\n",
    "        'Feedback – Data', 'Pontos – Aula', 'Feedback – Aula','Pontos – Hora aula (coloque hora:minutos ex. 09:15)',\n",
    "        'Feedback – Hora aula (coloque hora:minutos ex. 09:15)', 'Pontos – Quantas pessoas aula?',\n",
    "        'Feedback – Quantas pessoas aula?','Pontos – Aula2','Feedback – Aula2']\n",
    "dfAG.drop(columns=cols, index=1, inplace=True)\n",
    "dfAG.columns\n",
    "\n",
    "\n",
    "dfAG.columns=['horaInicio','horaConclusao','data','aula','hora','pessoas','aula2']\n",
    "\n",
    "dfAG.fillna(0,inplace=True)\n",
    "\n",
    "#Limpar dados mal inseridos\n",
    "#lambda <args> : <return Value> if <condition > ( <return value > if <condition> else <return value>)\n",
    "dfAG['hora']=dfAG['hora'].apply(lambda x:str(x).replace('h',':'))\n",
    "dfAG['hora']=dfAG['hora'].apply(lambda x:str(x).replace('.',':'))\n",
    "dfAG['hora']=dfAG['hora'].apply(lambda x: str(x)+':00' if (len(x)==1 or len(x)==2) else x)\n",
    "dfAG['hora']=dfAG['hora'].apply(lambda x: str(x)+'00' if (len(x)==3) else x)\n",
    "dfAG['hora']=dfAG['hora'].apply(lambda x:str(x).replace('::',':'))\n",
    "dfAG['hora']=dfAG['hora'].apply(lambda x:str(x).replace('m',''))\n",
    "dfAG['hora']=dfAG['hora'].apply(lambda x:str(x).replace(' ','00'))\n",
    "dfAG['hora']=dfAG['hora'].apply(lambda x:str(x).replace('1000','10'))\n",
    "\n",
    "dfAG.hora=pd.to_datetime(dfAG['hora'],format='%H:%M', errors='coerce')\n",
    "dfAG.dropna(subset=['hora'],inplace=True)\n",
    "\n",
    "#Vamos retirar as meias horas\n",
    "dfAG['hora']=dfAG['hora'].apply(lambda x: x.hour)\n",
    "\n",
    "### Calcular o dia da semana\n",
    "\n",
    "# Por extenso\n",
    "#dfSEAlv['diaSemana']=dfSEAlv['data'].apply(lambda x: x.day_name(locale='pt'))\n",
    "# Vamos calcular o dia da semana 0 é segunda\n",
    "dfAG['diaSemana']=dfAG['data'].apply(lambda x: x.weekday())\n",
    "\n",
    "#Calcular o mês\n",
    "dfAG['mes']=dfAG['data'].apply(lambda x: x.month)\n",
    "\n",
    "#Limpar dados mal inseridos\n",
    "['Sós abs', 'Sós bunda', '100 panca', 'Sos abs', 'Bodybalance','Bunda', 'Sos bunda', 'Bodypump', 'Step', 'Sós popey ',\n",
    " 'Body Combat', 'Pilates', 'Endurance ', 'Sos speeding ','Sos bunda ', 'Sos abs ', 'Popeye', 'Extreme', 'Speeding',\n",
    " 'Body pump', 'Endurance', 'Sos speeding', 'Speeding ','Sem stress ', '100stress', 'Gain', 'Body pump ', 'sos abs',\n",
    " 'Sós bunda ', 'Sos celulite', 'Bodypump ', 'Sos popeye','Enfurance', '100Pança', 'Bodybalance ', '100 pança',\n",
    " 'Body combat', 'Sos Popeye', 'Soso abs', 'Body Pump','Body balance', '100panca ', 'Sem stress', '100panca', 'Zumba',\n",
    " 'Xtreme', '100 pança ', 'Sós popey', 'Bodycombat ', '100 stress ','Popey', 'Speedng', 'Sos celulite ', 'Sos ABS', '100 stress',\n",
    " 'Gain ', 'Sós  abs', 'Bodupump', '(Sos abs) (com sos bunda)']\n",
    "#lambda <args> : <return Value> if <condition > ( <return value > if <condition> else <return value>)\n",
    "dfAG['aula']=dfAG['aula'].apply(lambda x:str(x).lower())\n",
    "dfAG['aula']=dfAG['aula'].apply(lambda x:str(x).replace(' ',''))\n",
    "dfAG['aula']=dfAG['aula'].apply(lambda x:str(x).replace('sós','sos'))\n",
    "dfAG['aula']=dfAG['aula'].apply(lambda x:str(x).replace('enfurance','endurance'))\n",
    "dfAG['aula']=dfAG['aula'].apply(lambda x:str(x).replace('sem','100'))\n",
    "dfAG['aula']=dfAG['aula'].apply(lambda x:str(x).replace('panca','pança'))\n",
    "dfAG['aula']=dfAG['aula'].apply(lambda x:str(x).replace('popey','popeye'))\n",
    "dfAG['aula']=dfAG['aula'].apply(lambda x:str(x).replace('popeyee','popeye'))\n",
    "dfAG['aula']=dfAG['aula'].apply(lambda x:str(x).replace('xtreme','extreme'))\n",
    "dfAG['aula']=dfAG['aula'].apply(lambda x:str(x).replace('speedng','speeding'))\n",
    "dfAG['aula']=dfAG['aula'].apply(lambda x:str(x).replace('popeyeee','popeye'))\n",
    "dfAG['aula']=dfAG['aula'].apply(lambda x:str(x).replace('eeeeextreme','extreme'))\n",
    "dfAG['aula']=dfAG['aula'].apply(lambda x:str(x).replace('eeeextreme','extreme'))\n",
    "dfAG['aula']=dfAG['aula'].apply(lambda x:str(x).replace('eextreme','extreme'))\n",
    "dfAG['aula']=dfAG['aula'].apply(lambda x:str(x).replace('(sosabs)(comsosbunda)','sosabs'))\n",
    "dfAG['aula']=dfAG['aula'].apply(lambda x:str(x).replace('sosspeeding','speeding'))\n",
    "dfAG['aula']=dfAG['aula'].apply(lambda x:str(x).replace('bodupump','bodypump'))\n",
    "dfAG['aula']=dfAG['aula'].apply(lambda x:str(x).replace('sospopeyee','sospopeye'))\n",
    "dfAG['aula']=dfAG['aula'].apply(lambda x:str(x).replace('bodypumpp','bodypump'))\n",
    "dfAG['aula']=dfAG['aula'].apply(lambda x:str(x).replace('popeye','sospopeye'))\n",
    "dfAG['aula']=dfAG['aula'].apply(lambda x:str(x).replace('sospopeyee','sospopeye'))\n",
    "dfAG['aula']=dfAG['aula'].apply(lambda x:str(x).replace('sossospopeye','sospopeye'))\n",
    "dfAG['aula']=dfAG['aula'].apply(lambda x:str(x).replace('sossospopeye','sospopeye'))\n",
    "\n",
    "\n",
    "for index, row in dfAG.iterrows():\n",
    "    if row.aula2 != 0:\n",
    "        dfAG.at[index,'aula'] = row.aula2    \n",
    "\n",
    "dfAG['aula']=dfAG['aula'].apply(lambda x:str(x).replace('sosoabs','sosabs'))\n",
    "dfAG['aula']=dfAG['aula'].apply(lambda x:str(x).replace('bodybolance','bodybalance'))\n",
    "#\n",
    "## Vamos agregar aulas\n",
    "#dfAG['aula']=dfAG['aula'].apply(lambda x:str(x).replace('bodycombate','bodycombat'))\n",
    "#dfAG['aula']=dfAG['aula'].apply(lambda x:str(x).replace('doscelulite','soscelulite'))\n",
    "#\n",
    "#dfAG.aula=dfAG.aula.loc[dfAG.aula != 'pump']\n",
    "#dfAG.aula=dfAG.aula.loc[dfAG.aula != 'combat']\n",
    "#dfAG.aula=dfAG.aula.loc[dfAG.aula != 'gain-glúteoepernas']"
   ]
  },
  {
   "cell_type": "code",
   "execution_count": 71,
   "metadata": {},
   "outputs": [
    {
     "data": {
      "text/plain": [
       "(767, 9)"
      ]
     },
     "execution_count": 71,
     "metadata": {},
     "output_type": "execute_result"
    }
   ],
   "source": [
    "dfAG.shape"
   ]
  },
  {
   "cell_type": "code",
   "execution_count": 72,
   "metadata": {},
   "outputs": [
    {
     "data": {
      "text/plain": [
       "sosabs          211\n",
       "sosbunda        115\n",
       "endurance        67\n",
       "speeding         56\n",
       "bodypump         49\n",
       "sospopeye        41\n",
       "gain             40\n",
       "bodybalance      27\n",
       "100stress        26\n",
       "100pança         25\n",
       "zumba            24\n",
       "bunda            19\n",
       "pilates          18\n",
       "extreme          14\n",
       "bodycombat       12\n",
       "soscelulite      11\n",
       "step              9\n",
       "gainabsombro      1\n",
       "gainombroabs      1\n",
       "sosspeeding       1\n",
       "Name: aula, dtype: int64"
      ]
     },
     "execution_count": 72,
     "metadata": {},
     "output_type": "execute_result"
    }
   ],
   "source": [
    "dfAG.aula.value_counts()"
   ]
  },
  {
   "cell_type": "code",
   "execution_count": 73,
   "metadata": {},
   "outputs": [
    {
     "name": "stdout",
     "output_type": "stream",
     "text": [
      "Data inicio:  2019-12-09 00:00:00 Data fim: 2020-02-11 00:00:00\n"
     ]
    }
   ],
   "source": [
    "print('Data inicio: ',dfAG.data.min(),'Data fim:',dfAG.data.max())"
   ]
  },
  {
   "cell_type": "markdown",
   "metadata": {},
   "source": [
    "Os dados são referentes ao período entre data inicio e data fim. Vamos confirmar algums dados"
   ]
  },
  {
   "cell_type": "code",
   "execution_count": 74,
   "metadata": {},
   "outputs": [],
   "source": [
    "cols = ['aula','pessoas']\n",
    "\n",
    "dfAG.pessoas=pd.to_numeric(dfAG['pessoas'], errors='coerce',downcast='integer')\n",
    "#pd.to_numeric(dfAG['pessoas'], errors='coerce')\n",
    "#dfAG.dropna(subset=['pessoas'],inplace=True)"
   ]
  },
  {
   "cell_type": "code",
   "execution_count": 75,
   "metadata": {},
   "outputs": [],
   "source": [
    "cor = ['Accent', 'Accent_r', 'Blues', 'Blues_r', 'BrBG', 'BrBG_r', 'BuGn', 'BuGn_r', 'BuPu', 'BuPu_r', 'CMRmap', \n",
    "       'CMRmap_r', 'Dark2', 'Dark2_r', 'GnBu', 'GnBu_r', 'Greens', 'Greens_r', 'Greys', 'Greys_r', 'OrRd', 'OrRd_r', \n",
    "       'Oranges', 'Oranges_r', 'PRGn', 'PRGn_r', 'Paired', 'Paired_r', 'Pastel1', 'Pastel1_r', 'Pastel2', 'Pastel2_r', \n",
    "       'PiYG', 'PiYG_r', 'PuBu', 'PuBuGn', 'PuBuGn_r', 'PuBu_r', 'PuOr', 'PuOr_r', 'PuRd', 'PuRd_r', 'Purples', 'Purples_r', \n",
    "       'RdBu', 'RdBu_r', 'RdGy', 'RdGy_r', 'RdPu', 'RdPu_r', 'RdYlBu', 'RdYlBu_r', 'RdYlGn', 'RdYlGn_r', 'Reds', 'Reds_r', \n",
    "       'Set1', 'Set1_r', 'Set2', 'Set2_r', 'Set3', 'Set3_r', 'Spectral', 'Spectral_r', 'Wistia', 'Wistia_r', 'YlGn', 'YlGnBu', \n",
    "       'YlGnBu_r', 'YlGn_r', 'YlOrBr', 'YlOrBr_r', 'YlOrRd', 'YlOrRd_r', 'afmhot', 'afmhot_r', 'autumn', 'autumn_r', 'binary', \n",
    "       'binary_r', 'bone', 'bone_r', 'brg', 'brg_r', 'bwr', 'bwr_r', 'cividis', 'cividis_r', 'cool', 'cool_r', 'coolwarm', \n",
    "       'coolwarm_r', 'copper', 'copper_r', 'cubehelix', 'cubehelix_r', 'flag', 'flag_r', 'gist_earth', 'gist_earth_r', \n",
    "       'gist_gray', 'gist_gray_r', 'gist_heat', 'gist_heat_r', 'gist_ncar', 'gist_ncar_r', 'gist_rainbow', 'gist_rainbow_r', \n",
    "       'gist_stern', 'gist_stern_r', 'gist_yarg', 'gist_yarg_r', 'gnuplot', 'gnuplot2', 'gnuplot2_r', 'gnuplot_r', 'gray', \n",
    "       'gray_r', 'hot', 'hot_r', 'hsv', 'hsv_r', 'icefire', 'icefire_r', 'inferno', 'inferno_r', 'jet', 'jet_r', 'magma', 'magma_r', \n",
    "       'mako', 'mako_r', 'nipy_spectral', 'nipy_spectral_r', 'ocean', 'ocean_r', 'pink', 'pink_r', 'plasma', 'plasma_r', 'prism', 'prism_r', \n",
    "       'rainbow', 'rainbow_r', 'rocket', 'rocket_r', 'seismic', 'seismic_r', 'spring', 'spring_r', 'summer', 'summer_r', 'tab10', 'tab10_r', \n",
    "       'tab20', 'tab20_r', 'tab20b', 'tab20b_r', 'tab20c', 'tab20c_r', 'terrain', 'terrain_r', 'twilight', 'twilight_r', 'twilight_shifted', \n",
    "       'twilight_shifted_r', 'viridis', 'viridis_r', 'vlag', 'vlag_r', 'winter', 'winter_r']\n",
    "\n",
    "funcao = [('soma',np.sum),('media',np.mean),('mediana',np.median), ('máx',np.max) ,('min',np.min)]\n",
    "todasAulas = ['sospopeye', 'speeding', 'pilates', 'bodypump', 'step','soscelulite', 'sosabs', 'sosbunda', \n",
    "              'bodybalance', 'endurance','bodycombat', 'zumba', '100pança', 'gain', '100stress']\n",
    "cardio = ['speeding','endurance','bodycombat','zumba', '100stress','step']\n",
    "forca = ['sospopeye','popeye','sosabs','sosbunda','gain','bodypump','soscelulite','100pança','bunda']\n",
    "relaxamento = ['bodybalance','yoga','pilates']\n",
    "\n",
    "opcoes = [('cardio',cardio),('forca',forca),('relaxamento',relaxamento),('todas',todasAulas)]"
   ]
  },
  {
   "cell_type": "markdown",
   "metadata": {},
   "source": [
    "## Número de clientes por hora\n",
    "\n",
    "A barra preta representa o intervalo de confiança com 95%, i.e. o número de clientes tem uma estimativa limite minimo e máximo por hora de acordo com o registos nessa hora"
   ]
  },
  {
   "cell_type": "code",
   "execution_count": 76,
   "metadata": {},
   "outputs": [],
   "source": [
    "# Vamos selecionar as colunas SOS e sem SOS\n",
    "comsos= ['soscelulite','sosabs', 'sosbunda', 'sospopeye', 'sosspeeding']\n",
    "semsos=['popeye', 'speeding', 'pilates', 'bodypump', 'step','bodybalance', 'endurance','bodycombat', 'zumba', '100pança', 'gain','100stress','bunda']"
   ]
  },
  {
   "cell_type": "code",
   "execution_count": 78,
   "metadata": {},
   "outputs": [
    {
     "data": {
      "application/vnd.jupyter.widget-view+json": {
       "model_id": "20376cc453e14353afb91c184e3505bc",
       "version_major": 2,
       "version_minor": 0
      },
      "text/plain": [
       "interactive(children=(Dropdown(description='funcao', options=(('soma', <function sum at 0x00000287648D8708>), …"
      ]
     },
     "metadata": {},
     "output_type": "display_data"
    }
   ],
   "source": [
    "def f(funcao,sos,porMes,mes):\n",
    "    if porMes == True:\n",
    "        dados = dfAG.loc[dfAG['mes'] == mes]\n",
    "    else:\n",
    "        dados = dfAG\n",
    "    if sos == True:\n",
    "        dados=dados.loc[dados['aula'].isin(comsos)]\n",
    "    else:\n",
    "        dados=dados.loc[dados['aula'].isin(semsos)]\n",
    "        \n",
    "    if dados.empty:\n",
    "        print('Não tem dados')\n",
    "    else:\n",
    "        plt.rcParams['figure.figsize'] = [15, 3]\n",
    "        sns.barplot(x='hora',y='pessoas',data=dados,palette='rainbow',estimator=funcao).set_title('Aulas de Grupo Alv')\n",
    "        plt.xticks(rotation=0);\n",
    "        fig = plt.gcf() # \"Get current figure\"\n",
    "        plt.show()\n",
    "\n",
    "interact(f, funcao=funcao,sos=True,porMes=True,mes=widgets.IntSlider(min=1,max=12,step=1,value=1));"
   ]
  },
  {
   "cell_type": "markdown",
   "metadata": {},
   "source": [
    "## Clientes por dia semana"
   ]
  },
  {
   "cell_type": "code",
   "execution_count": 79,
   "metadata": {},
   "outputs": [
    {
     "data": {
      "application/vnd.jupyter.widget-view+json": {
       "model_id": "fcfe58ccd80f410c989dae22db7d6137",
       "version_major": 2,
       "version_minor": 0
      },
      "text/plain": [
       "interactive(children=(Dropdown(description='funcao', options=(('soma', <function sum at 0x00000287648D8708>), …"
      ]
     },
     "metadata": {},
     "output_type": "display_data"
    }
   ],
   "source": [
    "def f(funcao,sos):\n",
    "    if sos == True:\n",
    "        dados=dfAG.loc[dfAG['aula'].isin(comsos)]\n",
    "    else:\n",
    "        dados=dfAG.loc[dfAG['aula'].isin(semsos)]\n",
    "        \n",
    "    plt.rcParams['figure.figsize'] = [15, 3]\n",
    "    sns.barplot(x='diaSemana',y='pessoas',data=dados,palette='rainbow',estimator=funcao).set_title('Aulas de Grupo Alv')\n",
    "    plt.xticks(np.arange(7),('seg','ter','qua','qui','sex','sab','dom'))\n",
    "    fig = plt.gcf() # \"Get current figure\"\n",
    "    plt.show()\n",
    "\n",
    "interact(f, funcao=funcao,sos=True);"
   ]
  },
  {
   "cell_type": "markdown",
   "metadata": {},
   "source": [
    "## Clientes por hora e aula"
   ]
  },
  {
   "cell_type": "code",
   "execution_count": 81,
   "metadata": {},
   "outputs": [
    {
     "data": {
      "application/vnd.jupyter.widget-view+json": {
       "model_id": "360c122023e840debd14af4a8669877e",
       "version_major": 2,
       "version_minor": 0
      },
      "text/plain": [
       "interactive(children=(Dropdown(description='cor', options=('Accent', 'Accent_r', 'Blues', 'Blues_r', 'BrBG', '…"
      ]
     },
     "metadata": {},
     "output_type": "display_data"
    }
   ],
   "source": [
    "def f(cor,funcao,tipo,sos):\n",
    "    if sos == True:\n",
    "        dados=dfAG.loc[dfAG['aula'].isin(comsos)]\n",
    "    else:\n",
    "        dados=dfAG.loc[dfAG['aula'].isin(semsos)]\n",
    "    plt.rcParams['figure.figsize'] = [15, 6]\n",
    "    if dados.loc[dados['aula'].isin(tipo)].empty:\n",
    "        print('Não tem dados')\n",
    "    else:\n",
    "        sns.lineplot(x='hora',y='pessoas',hue='aula',data=dados.loc[dados['aula'].isin(tipo)],palette=cor,\n",
    "                     estimator=funcao,ci=0).set_title('Aulas Grupo Alv - '+str(tipo));\n",
    "        fig = plt.gcf() # \"Get current figure\"\n",
    "        plt.show()\n",
    "\n",
    "interact(f,cor=cor,funcao=funcao,tipo=opcoes,sos=True);"
   ]
  },
  {
   "cell_type": "code",
   "execution_count": 82,
   "metadata": {},
   "outputs": [
    {
     "data": {
      "application/vnd.jupyter.widget-view+json": {
       "model_id": "811283b660ed49d392dbf07e21528d09",
       "version_major": 2,
       "version_minor": 0
      },
      "text/plain": [
       "interactive(children=(Dropdown(description='aula', options=('sosabs', 'sosbunda', '100pança', 'bodybalance', '…"
      ]
     },
     "metadata": {},
     "output_type": "display_data"
    }
   ],
   "source": [
    "def f(aula,funcao):\n",
    "    plt.rcParams['figure.figsize'] = [15, 4]\n",
    "    sns.barplot(x='hora',y='pessoas',hue='aula',data=dfAG[dfAG.aula==aula],palette='rainbow',\n",
    "                 estimator=funcao,ci=0).set_title('Sala de exercicio Alv');\n",
    "    \n",
    "    fig = plt.gcf() # \"Get current figure\"\n",
    "    plt.show()\n",
    "\n",
    "interact(f, aula=dfAG.aula.unique(),funcao=funcao);"
   ]
  },
  {
   "cell_type": "markdown",
   "metadata": {},
   "source": [
    "### Quais são as aulas com mais alunos por dia da semana?"
   ]
  },
  {
   "cell_type": "code",
   "execution_count": 84,
   "metadata": {},
   "outputs": [
    {
     "data": {
      "application/vnd.jupyter.widget-view+json": {
       "model_id": "bf894f1e0a30473885af0d22deeb9952",
       "version_major": 2,
       "version_minor": 0
      },
      "text/plain": [
       "interactive(children=(Dropdown(description='funcao', options=(('soma', <function sum at 0x00000287648D8708>), …"
      ]
     },
     "metadata": {},
     "output_type": "display_data"
    }
   ],
   "source": [
    "def f(funcao,tipo,sos):\n",
    "    if sos == True:\n",
    "        dados=dfAG.loc[dfAG['aula'].isin(comsos)]\n",
    "    else:\n",
    "        dados=dfAG.loc[dfAG['aula'].isin(semsos)]    \n",
    "    plt.rcParams['figure.figsize'] = [20, 5]\n",
    "    #plt.xticks(rotation=45);\n",
    "    if dados.loc[dados['aula'].isin(tipo)].empty:\n",
    "        print('Não tem dados')\n",
    "    else:\n",
    "        sns.barplot(x='aula',y='pessoas',hue='diaSemana',\n",
    "                    data=dados.loc[dados['aula'].isin(tipo)],\n",
    "                    palette='Accent',estimator=funcao).set_title('Sala exercício Alv')\n",
    "    \n",
    "        fig = plt.gcf() # \"Get current figure\"\n",
    "    \n",
    "\n",
    "interact(f,funcao=funcao,tipo=opcoes,sos=True);"
   ]
  },
  {
   "cell_type": "markdown",
   "metadata": {},
   "source": [
    "# Mapa de utilização "
   ]
  },
  {
   "cell_type": "markdown",
   "metadata": {},
   "source": [
    "__TODO: Colocar opção para selecionar as aulas__"
   ]
  },
  {
   "cell_type": "code",
   "execution_count": 85,
   "metadata": {},
   "outputs": [],
   "source": [
    "dfAG['dia']=dfAG['data'].apply(lambda x: x.day)"
   ]
  },
  {
   "cell_type": "code",
   "execution_count": 86,
   "metadata": {},
   "outputs": [
    {
     "data": {
      "application/vnd.jupyter.widget-view+json": {
       "model_id": "2c176f32fdc34360aebf06cea5c65537",
       "version_major": 2,
       "version_minor": 0
      },
      "text/plain": [
       "interactive(children=(Dropdown(description='funcao', options=(('soma', <function sum at 0x00000287648D8708>), …"
      ]
     },
     "metadata": {},
     "output_type": "display_data"
    }
   ],
   "source": [
    "def f(funcao,sos,porMes,mes):\n",
    "    if porMes == True:\n",
    "        dados = dfAG.loc[dfAG['mes'] == mes]\n",
    "    else:\n",
    "        dados = dfAG\n",
    "    if sos == True:\n",
    "        dados=dados.loc[dados['aula'].isin(comsos)]\n",
    "    else:\n",
    "        dados=dados.loc[dados['aula'].isin(semsos)]\n",
    "        \n",
    "    if dados.empty:\n",
    "        print('Não tem dados')\n",
    "    else:\n",
    "        quadro = pd.pivot_table(dados,values='pessoas',index='hora',columns=['diaSemana'],aggfunc=funcao,margins=True,fill_value=0)\n",
    "        print(tabulate(quadro,tablefmt='github',floatfmt=\".2f\",headers=['hora','seg','ter','qua','qui','sex','sab','dom','total']))\n",
    "        print('\\nPor dia do mês:')\n",
    "        quadro2 = pd.pivot_table(dados,values='pessoas',index='hora',columns=['dia'],aggfunc=funcao,margins=True,fill_value=0)\n",
    "        print(tabulate(quadro2,floatfmt=\".1f\",headers=['hora']+list(range(dados.dia.min(),dados.dia.max()+1))+['total']))\n",
    "        quadro.to_html()\n",
    "\n",
    "interact(f, funcao=funcao,sos=True,porMes=True,mes=widgets.IntSlider(min=1,max=12,step=1,value=1));"
   ]
  },
  {
   "cell_type": "markdown",
   "metadata": {},
   "source": [
    "# Evolução clientes aulas de grupo"
   ]
  },
  {
   "cell_type": "markdown",
   "metadata": {},
   "source": [
    "## Dados históricos"
   ]
  },
  {
   "cell_type": "code",
   "execution_count": 87,
   "metadata": {},
   "outputs": [
    {
     "data": {
      "text/html": [
       "\n",
       "    <div class=\"bk-root\">\n",
       "        <a href=\"https://bokeh.org\" target=\"_blank\" class=\"bk-logo bk-logo-small bk-logo-notebook\"></a>\n",
       "        <span id=\"2340\">Loading BokehJS ...</span>\n",
       "    </div>"
      ]
     },
     "metadata": {},
     "output_type": "display_data"
    },
    {
     "data": {
      "application/javascript": [
       "\n",
       "(function(root) {\n",
       "  function now() {\n",
       "    return new Date();\n",
       "  }\n",
       "\n",
       "  var force = true;\n",
       "\n",
       "  if (typeof root._bokeh_onload_callbacks === \"undefined\" || force === true) {\n",
       "    root._bokeh_onload_callbacks = [];\n",
       "    root._bokeh_is_loading = undefined;\n",
       "  }\n",
       "\n",
       "  var JS_MIME_TYPE = 'application/javascript';\n",
       "  var HTML_MIME_TYPE = 'text/html';\n",
       "  var EXEC_MIME_TYPE = 'application/vnd.bokehjs_exec.v0+json';\n",
       "  var CLASS_NAME = 'output_bokeh rendered_html';\n",
       "\n",
       "  /**\n",
       "   * Render data to the DOM node\n",
       "   */\n",
       "  function render(props, node) {\n",
       "    var script = document.createElement(\"script\");\n",
       "    node.appendChild(script);\n",
       "  }\n",
       "\n",
       "  /**\n",
       "   * Handle when an output is cleared or removed\n",
       "   */\n",
       "  function handleClearOutput(event, handle) {\n",
       "    var cell = handle.cell;\n",
       "\n",
       "    var id = cell.output_area._bokeh_element_id;\n",
       "    var server_id = cell.output_area._bokeh_server_id;\n",
       "    // Clean up Bokeh references\n",
       "    if (id != null && id in Bokeh.index) {\n",
       "      Bokeh.index[id].model.document.clear();\n",
       "      delete Bokeh.index[id];\n",
       "    }\n",
       "\n",
       "    if (server_id !== undefined) {\n",
       "      // Clean up Bokeh references\n",
       "      var cmd = \"from bokeh.io.state import curstate; print(curstate().uuid_to_server['\" + server_id + \"'].get_sessions()[0].document.roots[0]._id)\";\n",
       "      cell.notebook.kernel.execute(cmd, {\n",
       "        iopub: {\n",
       "          output: function(msg) {\n",
       "            var id = msg.content.text.trim();\n",
       "            if (id in Bokeh.index) {\n",
       "              Bokeh.index[id].model.document.clear();\n",
       "              delete Bokeh.index[id];\n",
       "            }\n",
       "          }\n",
       "        }\n",
       "      });\n",
       "      // Destroy server and session\n",
       "      var cmd = \"import bokeh.io.notebook as ion; ion.destroy_server('\" + server_id + \"')\";\n",
       "      cell.notebook.kernel.execute(cmd);\n",
       "    }\n",
       "  }\n",
       "\n",
       "  /**\n",
       "   * Handle when a new output is added\n",
       "   */\n",
       "  function handleAddOutput(event, handle) {\n",
       "    var output_area = handle.output_area;\n",
       "    var output = handle.output;\n",
       "\n",
       "    // limit handleAddOutput to display_data with EXEC_MIME_TYPE content only\n",
       "    if ((output.output_type != \"display_data\") || (!output.data.hasOwnProperty(EXEC_MIME_TYPE))) {\n",
       "      return\n",
       "    }\n",
       "\n",
       "    var toinsert = output_area.element.find(\".\" + CLASS_NAME.split(' ')[0]);\n",
       "\n",
       "    if (output.metadata[EXEC_MIME_TYPE][\"id\"] !== undefined) {\n",
       "      toinsert[toinsert.length - 1].firstChild.textContent = output.data[JS_MIME_TYPE];\n",
       "      // store reference to embed id on output_area\n",
       "      output_area._bokeh_element_id = output.metadata[EXEC_MIME_TYPE][\"id\"];\n",
       "    }\n",
       "    if (output.metadata[EXEC_MIME_TYPE][\"server_id\"] !== undefined) {\n",
       "      var bk_div = document.createElement(\"div\");\n",
       "      bk_div.innerHTML = output.data[HTML_MIME_TYPE];\n",
       "      var script_attrs = bk_div.children[0].attributes;\n",
       "      for (var i = 0; i < script_attrs.length; i++) {\n",
       "        toinsert[toinsert.length - 1].firstChild.setAttribute(script_attrs[i].name, script_attrs[i].value);\n",
       "      }\n",
       "      // store reference to server id on output_area\n",
       "      output_area._bokeh_server_id = output.metadata[EXEC_MIME_TYPE][\"server_id\"];\n",
       "    }\n",
       "  }\n",
       "\n",
       "  function register_renderer(events, OutputArea) {\n",
       "\n",
       "    function append_mime(data, metadata, element) {\n",
       "      // create a DOM node to render to\n",
       "      var toinsert = this.create_output_subarea(\n",
       "        metadata,\n",
       "        CLASS_NAME,\n",
       "        EXEC_MIME_TYPE\n",
       "      );\n",
       "      this.keyboard_manager.register_events(toinsert);\n",
       "      // Render to node\n",
       "      var props = {data: data, metadata: metadata[EXEC_MIME_TYPE]};\n",
       "      render(props, toinsert[toinsert.length - 1]);\n",
       "      element.append(toinsert);\n",
       "      return toinsert\n",
       "    }\n",
       "\n",
       "    /* Handle when an output is cleared or removed */\n",
       "    events.on('clear_output.CodeCell', handleClearOutput);\n",
       "    events.on('delete.Cell', handleClearOutput);\n",
       "\n",
       "    /* Handle when a new output is added */\n",
       "    events.on('output_added.OutputArea', handleAddOutput);\n",
       "\n",
       "    /**\n",
       "     * Register the mime type and append_mime function with output_area\n",
       "     */\n",
       "    OutputArea.prototype.register_mime_type(EXEC_MIME_TYPE, append_mime, {\n",
       "      /* Is output safe? */\n",
       "      safe: true,\n",
       "      /* Index of renderer in `output_area.display_order` */\n",
       "      index: 0\n",
       "    });\n",
       "  }\n",
       "\n",
       "  // register the mime type if in Jupyter Notebook environment and previously unregistered\n",
       "  if (root.Jupyter !== undefined) {\n",
       "    var events = require('base/js/events');\n",
       "    var OutputArea = require('notebook/js/outputarea').OutputArea;\n",
       "\n",
       "    if (OutputArea.prototype.mime_types().indexOf(EXEC_MIME_TYPE) == -1) {\n",
       "      register_renderer(events, OutputArea);\n",
       "    }\n",
       "  }\n",
       "\n",
       "  \n",
       "  if (typeof (root._bokeh_timeout) === \"undefined\" || force === true) {\n",
       "    root._bokeh_timeout = Date.now() + 5000;\n",
       "    root._bokeh_failed_load = false;\n",
       "  }\n",
       "\n",
       "  var NB_LOAD_WARNING = {'data': {'text/html':\n",
       "     \"<div style='background-color: #fdd'>\\n\"+\n",
       "     \"<p>\\n\"+\n",
       "     \"BokehJS does not appear to have successfully loaded. If loading BokehJS from CDN, this \\n\"+\n",
       "     \"may be due to a slow or bad network connection. Possible fixes:\\n\"+\n",
       "     \"</p>\\n\"+\n",
       "     \"<ul>\\n\"+\n",
       "     \"<li>re-rerun `output_notebook()` to attempt to load from CDN again, or</li>\\n\"+\n",
       "     \"<li>use INLINE resources instead, as so:</li>\\n\"+\n",
       "     \"</ul>\\n\"+\n",
       "     \"<code>\\n\"+\n",
       "     \"from bokeh.resources import INLINE\\n\"+\n",
       "     \"output_notebook(resources=INLINE)\\n\"+\n",
       "     \"</code>\\n\"+\n",
       "     \"</div>\"}};\n",
       "\n",
       "  function display_loaded() {\n",
       "    var el = document.getElementById(\"2340\");\n",
       "    if (el != null) {\n",
       "      el.textContent = \"BokehJS is loading...\";\n",
       "    }\n",
       "    if (root.Bokeh !== undefined) {\n",
       "      if (el != null) {\n",
       "        el.textContent = \"BokehJS \" + root.Bokeh.version + \" successfully loaded.\";\n",
       "      }\n",
       "    } else if (Date.now() < root._bokeh_timeout) {\n",
       "      setTimeout(display_loaded, 100)\n",
       "    }\n",
       "  }\n",
       "\n",
       "\n",
       "  function run_callbacks() {\n",
       "    try {\n",
       "      root._bokeh_onload_callbacks.forEach(function(callback) {\n",
       "        if (callback != null)\n",
       "          callback();\n",
       "      });\n",
       "    } finally {\n",
       "      delete root._bokeh_onload_callbacks\n",
       "    }\n",
       "    console.debug(\"Bokeh: all callbacks have finished\");\n",
       "  }\n",
       "\n",
       "  function load_libs(css_urls, js_urls, callback) {\n",
       "    if (css_urls == null) css_urls = [];\n",
       "    if (js_urls == null) js_urls = [];\n",
       "\n",
       "    root._bokeh_onload_callbacks.push(callback);\n",
       "    if (root._bokeh_is_loading > 0) {\n",
       "      console.debug(\"Bokeh: BokehJS is being loaded, scheduling callback at\", now());\n",
       "      return null;\n",
       "    }\n",
       "    if (js_urls == null || js_urls.length === 0) {\n",
       "      run_callbacks();\n",
       "      return null;\n",
       "    }\n",
       "    console.debug(\"Bokeh: BokehJS not loaded, scheduling load and callback at\", now());\n",
       "    root._bokeh_is_loading = css_urls.length + js_urls.length;\n",
       "\n",
       "    function on_load() {\n",
       "      root._bokeh_is_loading--;\n",
       "      if (root._bokeh_is_loading === 0) {\n",
       "        console.debug(\"Bokeh: all BokehJS libraries/stylesheets loaded\");\n",
       "        run_callbacks()\n",
       "      }\n",
       "    }\n",
       "\n",
       "    function on_error() {\n",
       "      console.error(\"failed to load \" + url);\n",
       "    }\n",
       "\n",
       "    for (var i = 0; i < css_urls.length; i++) {\n",
       "      var url = css_urls[i];\n",
       "      const element = document.createElement(\"link\");\n",
       "      element.onload = on_load;\n",
       "      element.onerror = on_error;\n",
       "      element.rel = \"stylesheet\";\n",
       "      element.type = \"text/css\";\n",
       "      element.href = url;\n",
       "      console.debug(\"Bokeh: injecting link tag for BokehJS stylesheet: \", url);\n",
       "      document.body.appendChild(element);\n",
       "    }\n",
       "\n",
       "    for (var i = 0; i < js_urls.length; i++) {\n",
       "      var url = js_urls[i];\n",
       "      var element = document.createElement('script');\n",
       "      element.onload = on_load;\n",
       "      element.onerror = on_error;\n",
       "      element.async = false;\n",
       "      element.src = url;\n",
       "      console.debug(\"Bokeh: injecting script tag for BokehJS library: \", url);\n",
       "      document.head.appendChild(element);\n",
       "    }\n",
       "  };var element = document.getElementById(\"2340\");\n",
       "  if (element == null) {\n",
       "    console.error(\"Bokeh: ERROR: autoload.js configured with elementid '2340' but no matching script tag was found. \")\n",
       "    return false;\n",
       "  }\n",
       "\n",
       "  function inject_raw_css(css) {\n",
       "    const element = document.createElement(\"style\");\n",
       "    element.appendChild(document.createTextNode(css));\n",
       "    document.body.appendChild(element);\n",
       "  }\n",
       "\n",
       "  \n",
       "  var js_urls = [\"https://cdn.pydata.org/bokeh/release/bokeh-1.4.0.min.js\", \"https://cdn.pydata.org/bokeh/release/bokeh-widgets-1.4.0.min.js\", \"https://cdn.pydata.org/bokeh/release/bokeh-tables-1.4.0.min.js\", \"https://cdn.pydata.org/bokeh/release/bokeh-gl-1.4.0.min.js\"];\n",
       "  var css_urls = [];\n",
       "  \n",
       "\n",
       "  var inline_js = [\n",
       "    function(Bokeh) {\n",
       "      Bokeh.set_log_level(\"info\");\n",
       "    },\n",
       "    function(Bokeh) {\n",
       "    \n",
       "    \n",
       "    }\n",
       "  ];\n",
       "\n",
       "  function run_inline_js() {\n",
       "    \n",
       "    if (root.Bokeh !== undefined || force === true) {\n",
       "      \n",
       "    for (var i = 0; i < inline_js.length; i++) {\n",
       "      inline_js[i].call(root, root.Bokeh);\n",
       "    }\n",
       "    if (force === true) {\n",
       "        display_loaded();\n",
       "      }} else if (Date.now() < root._bokeh_timeout) {\n",
       "      setTimeout(run_inline_js, 100);\n",
       "    } else if (!root._bokeh_failed_load) {\n",
       "      console.log(\"Bokeh: BokehJS failed to load within specified timeout.\");\n",
       "      root._bokeh_failed_load = true;\n",
       "    } else if (force !== true) {\n",
       "      var cell = $(document.getElementById(\"2340\")).parents('.cell').data().cell;\n",
       "      cell.output_area.append_execute_result(NB_LOAD_WARNING)\n",
       "    }\n",
       "\n",
       "  }\n",
       "\n",
       "  if (root._bokeh_is_loading === 0) {\n",
       "    console.debug(\"Bokeh: BokehJS loaded, going straight to plotting\");\n",
       "    run_inline_js();\n",
       "  } else {\n",
       "    load_libs(css_urls, js_urls, function() {\n",
       "      console.debug(\"Bokeh: BokehJS plotting callback run at\", now());\n",
       "      run_inline_js();\n",
       "    });\n",
       "  }\n",
       "}(window));"
      ],
      "application/vnd.bokehjs_load.v0+json": "\n(function(root) {\n  function now() {\n    return new Date();\n  }\n\n  var force = true;\n\n  if (typeof root._bokeh_onload_callbacks === \"undefined\" || force === true) {\n    root._bokeh_onload_callbacks = [];\n    root._bokeh_is_loading = undefined;\n  }\n\n  \n\n  \n  if (typeof (root._bokeh_timeout) === \"undefined\" || force === true) {\n    root._bokeh_timeout = Date.now() + 5000;\n    root._bokeh_failed_load = false;\n  }\n\n  var NB_LOAD_WARNING = {'data': {'text/html':\n     \"<div style='background-color: #fdd'>\\n\"+\n     \"<p>\\n\"+\n     \"BokehJS does not appear to have successfully loaded. If loading BokehJS from CDN, this \\n\"+\n     \"may be due to a slow or bad network connection. Possible fixes:\\n\"+\n     \"</p>\\n\"+\n     \"<ul>\\n\"+\n     \"<li>re-rerun `output_notebook()` to attempt to load from CDN again, or</li>\\n\"+\n     \"<li>use INLINE resources instead, as so:</li>\\n\"+\n     \"</ul>\\n\"+\n     \"<code>\\n\"+\n     \"from bokeh.resources import INLINE\\n\"+\n     \"output_notebook(resources=INLINE)\\n\"+\n     \"</code>\\n\"+\n     \"</div>\"}};\n\n  function display_loaded() {\n    var el = document.getElementById(\"2340\");\n    if (el != null) {\n      el.textContent = \"BokehJS is loading...\";\n    }\n    if (root.Bokeh !== undefined) {\n      if (el != null) {\n        el.textContent = \"BokehJS \" + root.Bokeh.version + \" successfully loaded.\";\n      }\n    } else if (Date.now() < root._bokeh_timeout) {\n      setTimeout(display_loaded, 100)\n    }\n  }\n\n\n  function run_callbacks() {\n    try {\n      root._bokeh_onload_callbacks.forEach(function(callback) {\n        if (callback != null)\n          callback();\n      });\n    } finally {\n      delete root._bokeh_onload_callbacks\n    }\n    console.debug(\"Bokeh: all callbacks have finished\");\n  }\n\n  function load_libs(css_urls, js_urls, callback) {\n    if (css_urls == null) css_urls = [];\n    if (js_urls == null) js_urls = [];\n\n    root._bokeh_onload_callbacks.push(callback);\n    if (root._bokeh_is_loading > 0) {\n      console.debug(\"Bokeh: BokehJS is being loaded, scheduling callback at\", now());\n      return null;\n    }\n    if (js_urls == null || js_urls.length === 0) {\n      run_callbacks();\n      return null;\n    }\n    console.debug(\"Bokeh: BokehJS not loaded, scheduling load and callback at\", now());\n    root._bokeh_is_loading = css_urls.length + js_urls.length;\n\n    function on_load() {\n      root._bokeh_is_loading--;\n      if (root._bokeh_is_loading === 0) {\n        console.debug(\"Bokeh: all BokehJS libraries/stylesheets loaded\");\n        run_callbacks()\n      }\n    }\n\n    function on_error() {\n      console.error(\"failed to load \" + url);\n    }\n\n    for (var i = 0; i < css_urls.length; i++) {\n      var url = css_urls[i];\n      const element = document.createElement(\"link\");\n      element.onload = on_load;\n      element.onerror = on_error;\n      element.rel = \"stylesheet\";\n      element.type = \"text/css\";\n      element.href = url;\n      console.debug(\"Bokeh: injecting link tag for BokehJS stylesheet: \", url);\n      document.body.appendChild(element);\n    }\n\n    for (var i = 0; i < js_urls.length; i++) {\n      var url = js_urls[i];\n      var element = document.createElement('script');\n      element.onload = on_load;\n      element.onerror = on_error;\n      element.async = false;\n      element.src = url;\n      console.debug(\"Bokeh: injecting script tag for BokehJS library: \", url);\n      document.head.appendChild(element);\n    }\n  };var element = document.getElementById(\"2340\");\n  if (element == null) {\n    console.error(\"Bokeh: ERROR: autoload.js configured with elementid '2340' but no matching script tag was found. \")\n    return false;\n  }\n\n  function inject_raw_css(css) {\n    const element = document.createElement(\"style\");\n    element.appendChild(document.createTextNode(css));\n    document.body.appendChild(element);\n  }\n\n  \n  var js_urls = [\"https://cdn.pydata.org/bokeh/release/bokeh-1.4.0.min.js\", \"https://cdn.pydata.org/bokeh/release/bokeh-widgets-1.4.0.min.js\", \"https://cdn.pydata.org/bokeh/release/bokeh-tables-1.4.0.min.js\", \"https://cdn.pydata.org/bokeh/release/bokeh-gl-1.4.0.min.js\"];\n  var css_urls = [];\n  \n\n  var inline_js = [\n    function(Bokeh) {\n      Bokeh.set_log_level(\"info\");\n    },\n    function(Bokeh) {\n    \n    \n    }\n  ];\n\n  function run_inline_js() {\n    \n    if (root.Bokeh !== undefined || force === true) {\n      \n    for (var i = 0; i < inline_js.length; i++) {\n      inline_js[i].call(root, root.Bokeh);\n    }\n    if (force === true) {\n        display_loaded();\n      }} else if (Date.now() < root._bokeh_timeout) {\n      setTimeout(run_inline_js, 100);\n    } else if (!root._bokeh_failed_load) {\n      console.log(\"Bokeh: BokehJS failed to load within specified timeout.\");\n      root._bokeh_failed_load = true;\n    } else if (force !== true) {\n      var cell = $(document.getElementById(\"2340\")).parents('.cell').data().cell;\n      cell.output_area.append_execute_result(NB_LOAD_WARNING)\n    }\n\n  }\n\n  if (root._bokeh_is_loading === 0) {\n    console.debug(\"Bokeh: BokehJS loaded, going straight to plotting\");\n    run_inline_js();\n  } else {\n    load_libs(css_urls, js_urls, function() {\n      console.debug(\"Bokeh: BokehJS plotting callback run at\", now());\n      run_inline_js();\n    });\n  }\n}(window));"
     },
     "metadata": {},
     "output_type": "display_data"
    },
    {
     "data": {
      "application/vnd.jupyter.widget-view+json": {
       "model_id": "f51dbd074c304afda821fd9a0717fc5b",
       "version_major": 2,
       "version_minor": 0
      },
      "text/plain": [
       "interactive(children=(Dropdown(description='aula', options=('sosabs', 'sosbunda', '100pança', 'bodybalance', '…"
      ]
     },
     "metadata": {},
     "output_type": "display_data"
    }
   ],
   "source": [
    "from bokeh.plotting import figure, output_file, show\n",
    "from bokeh.io import output_notebook\n",
    "from bokeh.models import HoverTool\n",
    "\n",
    "output_notebook()\n",
    "\n",
    "def f(aula):\n",
    "    dados=dfAG[dfAG.aula==aula]\n",
    "    dados = dados.groupby('data')['pessoas'].sum().reset_index()\n",
    "    # Format the tooltip\n",
    "    tooltips = [(\"valor\", \"@pessoas\")]\n",
    "\n",
    "    plot = figure(title='Evolução clientes', x_axis_label='Data',y_axis_label='Clientes',plot_width=1100,plot_height=300,x_axis_type=\"datetime\")\n",
    "    plot.xaxis.major_label_orientation = 3.14/2\n",
    "    plot.xaxis.ticker.desired_num_ticks = int(len(dfAG.data.unique()))\n",
    "    plot.line('data', 'pessoas', line_width=2, line_color='orange', legend_label='total clientes',source=dados)\n",
    "    plot.add_tools(HoverTool(tooltips=tooltips))\n",
    "    plot.circle('data', 'pessoas',source=dados)\n",
    "\n",
    "    show(plot)\n",
    "\n",
    "interact(f, aula=dfAG.aula.unique());\n",
    "\n"
   ]
  },
  {
   "cell_type": "markdown",
   "metadata": {},
   "source": [
    "## Previsão global\n",
    "\n",
    "Um teste"
   ]
  },
  {
   "cell_type": "code",
   "execution_count": 63,
   "metadata": {},
   "outputs": [],
   "source": [
    "import warnings\n",
    "warnings.simplefilter('ignore')"
   ]
  },
  {
   "cell_type": "code",
   "execution_count": 64,
   "metadata": {},
   "outputs": [
    {
     "ename": "ModuleNotFoundError",
     "evalue": "No module named 'fbprophet'",
     "output_type": "error",
     "traceback": [
      "\u001b[1;31m---------------------------------------------------------------------------\u001b[0m",
      "\u001b[1;31mModuleNotFoundError\u001b[0m                       Traceback (most recent call last)",
      "\u001b[1;32m<ipython-input-64-ae88579e43be>\u001b[0m in \u001b[0;36m<module>\u001b[1;34m\u001b[0m\n\u001b[0;32m      1\u001b[0m \u001b[1;31m#!pip install fbprophet\u001b[0m\u001b[1;33m\u001b[0m\u001b[1;33m\u001b[0m\u001b[1;33m\u001b[0m\u001b[0m\n\u001b[1;32m----> 2\u001b[1;33m \u001b[1;32mfrom\u001b[0m \u001b[0mfbprophet\u001b[0m \u001b[1;32mimport\u001b[0m \u001b[0mProphet\u001b[0m\u001b[1;33m\u001b[0m\u001b[1;33m\u001b[0m\u001b[0m\n\u001b[0m\u001b[0;32m      3\u001b[0m \u001b[1;33m\u001b[0m\u001b[0m\n\u001b[0;32m      4\u001b[0m \u001b[0mdados\u001b[0m \u001b[1;33m=\u001b[0m \u001b[0mdfAG\u001b[0m\u001b[1;33m.\u001b[0m\u001b[0mgroupby\u001b[0m\u001b[1;33m(\u001b[0m\u001b[1;34m'data'\u001b[0m\u001b[1;33m)\u001b[0m\u001b[1;33m[\u001b[0m\u001b[1;34m'pessoas'\u001b[0m\u001b[1;33m]\u001b[0m\u001b[1;33m.\u001b[0m\u001b[0msum\u001b[0m\u001b[1;33m(\u001b[0m\u001b[1;33m)\u001b[0m\u001b[1;33m.\u001b[0m\u001b[0mreset_index\u001b[0m\u001b[1;33m(\u001b[0m\u001b[1;33m)\u001b[0m\u001b[1;33m\u001b[0m\u001b[1;33m\u001b[0m\u001b[0m\n\u001b[0;32m      5\u001b[0m \u001b[1;33m\u001b[0m\u001b[0m\n",
      "\u001b[1;31mModuleNotFoundError\u001b[0m: No module named 'fbprophet'"
     ]
    }
   ],
   "source": [
    "#!pip install fbprophet\n",
    "from fbprophet import Prophet\n",
    "\n",
    "dados = dfAG.groupby('data')['pessoas'].sum().reset_index()\n",
    "    \n",
    "# Renomear as colunas\n",
    "dados.columns = ['ds','y']\n",
    "# Instanciação\n",
    "pro = Prophet()\n",
    "pro.fit(dados)\n",
    "\n",
    "future = pro.make_future_dataframe(periods=60,freq='D')\n",
    "#print(future.tail())\n",
    "forecast = pro.predict(future)\n",
    "fig1=pro.plot(forecast)"
   ]
  }
 ],
 "metadata": {
  "kernelspec": {
   "display_name": "Python 3",
   "language": "python",
   "name": "python3"
  },
  "language_info": {
   "codemirror_mode": {
    "name": "ipython",
    "version": 3
   },
   "file_extension": ".py",
   "mimetype": "text/x-python",
   "name": "python",
   "nbconvert_exporter": "python",
   "pygments_lexer": "ipython3",
   "version": "3.7.6"
  },
  "toc-autonumbering": true,
  "toc-showcode": false,
  "toc-showmarkdowntxt": false
 },
 "nbformat": 4,
 "nbformat_minor": 4
}
