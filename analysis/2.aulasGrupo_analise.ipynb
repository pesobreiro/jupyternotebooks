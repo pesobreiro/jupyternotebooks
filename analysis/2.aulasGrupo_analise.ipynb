{
 "cells": [
  {
   "cell_type": "markdown",
   "metadata": {},
   "source": [
    "Objetivos:\n",
    "1. Perceber quais são as horas com mais clientes?\n",
    "2. Quais são as aulas com mais clientes?\n",
    "3. Quais são os dias da semana com mais clientes?\n",
    "\n",
    "Alterações:\n",
    "1. Colocar a possibilidade de filtrar por datas\n",
    "2. Utilizar um gráfico bqplot para utilizar e filtrar as datas e atualizar os outros gráficos todos\n",
    "\n",
    "Problemas bokeh não trabalhar no voilá"
   ]
  },
  {
   "cell_type": "markdown",
   "metadata": {},
   "source": [
    "# Colocar alteração para abrir automáticamente do URL:\n",
    "\n",
    "Colocar opção publish on the web e abrir diretamente do url para o pandas dataframe... \n",
    "\n",
    "Assim que são colocadas alterações automática são públicadas... tem sempre as alterações mais recentes\n",
    "\n",
    "\n",
    "- Link aulas grupo rio Maior: https://docs.google.com/spreadsheets/d/e/2PACX-1vRTS5OWao3Qq0w6nkKgSgmaWgg4_ALnLGsWf10wuIeSAllFmZIPbuvnI9LSgHN3TSzufsoIVDrDlJNF/pub?gid=1858097418&single=true&output=csv\n",
    "- Link aulas grupo alverca: https://docs.google.com/spreadsheets/d/e/2PACX-1vQ5UTTnPnInrXgEB7IQxfNSckso1xmFL9ZQYea2doSq4Lk2CpWeeFgyNAWsMtXsK_SwrwPtrGeTXj-k/pub?gid=1187849082&single=true&output=csv"
   ]
  },
  {
   "cell_type": "markdown",
   "metadata": {
    "toc-hr-collapsed": false
   },
   "source": [
    "# Dados recolhidos aula de grupo RM"
   ]
  },
  {
   "cell_type": "code",
   "execution_count": 183,
   "metadata": {},
   "outputs": [],
   "source": [
    "import pandas as pd\n",
    "import seaborn as sns\n",
    "from ipywidgets import interact, interactive, fixed, interact_manual,widgets\n",
    "import plotly.offline as py\n",
    "import datetime,calendar\n",
    "import numpy as np\n",
    "import matplotlib.pyplot as plt\n",
    "from tabulate import tabulate\n",
    "\n",
    "\n",
    "dfAG = pd.read_csv('https://docs.google.com/spreadsheets/d/e/2PACX-1vRTS5OWao3Qq0w6nkKgSgmaWgg4_ALnLGsWf10wuIeSAllFmZIPbuvnI9LSgHN3TSzufsoIVDrDlJNF/pub?gid=1858097418&single=true&output=csv')\n",
    "\n",
    "## Preparação dos dados\n",
    "\n",
    "dfAG.columns=['data','dataOld','hora','pessoas','aula']\n",
    "\n",
    "dfAG.fillna(0,inplace=True)\n",
    "\n",
    "dfAG.hora=pd.to_datetime(dfAG['hora'])\n",
    "dfAG.data=pd.to_datetime(dfAG['data'])\n",
    "dfAG.data=dfAG.data.dt.date\n",
    "#dfAG.dropna(subset=['hora'],inplace=True)\n",
    "\n",
    "#Vamos retirar as meias horas\n",
    "dfAG['hora']=dfAG['hora'].apply(lambda x: x.hour)\n",
    "\n",
    "### Calcular o dia da semana\n",
    "\n",
    "# Por extenso\n",
    "#dfSEAlv['diaSemana']=dfSEAlv['data'].apply(lambda x: x.day_name(locale='pt'))\n",
    "# Vamos calcular o dia da semana 0 é segunda\n",
    "dfAG['diaSemana']=dfAG['data'].apply(lambda x: x.weekday())\n",
    "\n",
    "#Calcular o mês\n",
    "dfAG['mes']=dfAG['data'].apply(lambda x: x.month)\n",
    "\n"
   ]
  },
  {
   "cell_type": "code",
   "execution_count": 184,
   "metadata": {},
   "outputs": [],
   "source": [
    "cor = ['Accent', 'Accent_r', 'Blues', 'Blues_r', 'BrBG', 'BrBG_r', 'BuGn', 'BuGn_r', 'BuPu', 'BuPu_r', 'CMRmap', \n",
    "       'CMRmap_r', 'Dark2', 'Dark2_r', 'GnBu', 'GnBu_r', 'Greens', 'Greens_r', 'Greys', 'Greys_r', 'OrRd', 'OrRd_r', \n",
    "       'Oranges', 'Oranges_r', 'PRGn', 'PRGn_r', 'Paired', 'Paired_r', 'Pastel1', 'Pastel1_r', 'Pastel2', 'Pastel2_r', \n",
    "       'PiYG', 'PiYG_r', 'PuBu', 'PuBuGn', 'PuBuGn_r', 'PuBu_r', 'PuOr', 'PuOr_r', 'PuRd', 'PuRd_r', 'Purples', 'Purples_r', \n",
    "       'RdBu', 'RdBu_r', 'RdGy', 'RdGy_r', 'RdPu', 'RdPu_r', 'RdYlBu', 'RdYlBu_r', 'RdYlGn', 'RdYlGn_r', 'Reds', 'Reds_r', \n",
    "       'Set1', 'Set1_r', 'Set2', 'Set2_r', 'Set3', 'Set3_r', 'Spectral', 'Spectral_r', 'Wistia', 'Wistia_r', 'YlGn', 'YlGnBu', \n",
    "       'YlGnBu_r', 'YlGn_r', 'YlOrBr', 'YlOrBr_r', 'YlOrRd', 'YlOrRd_r', 'afmhot', 'afmhot_r', 'autumn', 'autumn_r', 'binary', \n",
    "       'binary_r', 'bone', 'bone_r', 'brg', 'brg_r', 'bwr', 'bwr_r', 'cividis', 'cividis_r', 'cool', 'cool_r', 'coolwarm', \n",
    "       'coolwarm_r', 'copper', 'copper_r', 'cubehelix', 'cubehelix_r', 'flag', 'flag_r', 'gist_earth', 'gist_earth_r', \n",
    "       'gist_gray', 'gist_gray_r', 'gist_heat', 'gist_heat_r', 'gist_ncar', 'gist_ncar_r', 'gist_rainbow', 'gist_rainbow_r', \n",
    "       'gist_stern', 'gist_stern_r', 'gist_yarg', 'gist_yarg_r', 'gnuplot', 'gnuplot2', 'gnuplot2_r', 'gnuplot_r', 'gray', \n",
    "       'gray_r', 'hot', 'hot_r', 'hsv', 'hsv_r', 'icefire', 'icefire_r', 'inferno', 'inferno_r', 'jet', 'jet_r', 'magma', 'magma_r', \n",
    "       'mako', 'mako_r', 'nipy_spectral', 'nipy_spectral_r', 'ocean', 'ocean_r', 'pink', 'pink_r', 'plasma', 'plasma_r', 'prism', 'prism_r', \n",
    "       'rainbow', 'rainbow_r', 'rocket', 'rocket_r', 'seismic', 'seismic_r', 'spring', 'spring_r', 'summer', 'summer_r', 'tab10', 'tab10_r', \n",
    "       'tab20', 'tab20_r', 'tab20b', 'tab20b_r', 'tab20c', 'tab20c_r', 'terrain', 'terrain_r', 'twilight', 'twilight_r', 'twilight_shifted', \n",
    "       'twilight_shifted_r', 'viridis', 'viridis_r', 'vlag', 'vlag_r', 'winter', 'winter_r']"
   ]
  },
  {
   "cell_type": "code",
   "execution_count": 185,
   "metadata": {},
   "outputs": [
    {
     "name": "stdout",
     "output_type": "stream",
     "text": [
      "Data inicio:  2019-12-04 Data fim: 2020-02-28\n"
     ]
    }
   ],
   "source": [
    "print('Data inicio: ',dfAG.data.min(),'Data fim:',dfAG.data.max())"
   ]
  },
  {
   "cell_type": "markdown",
   "metadata": {},
   "source": [
    "Os dados são referentes ao período entre data inicio e data fim. Vamos confirmar algums dados"
   ]
  },
  {
   "cell_type": "code",
   "execution_count": 186,
   "metadata": {},
   "outputs": [],
   "source": [
    "cols = ['aula','pessoas']\n",
    "\n",
    "dfAG.pessoas=pd.to_numeric(dfAG['pessoas'], errors='coerce',downcast='integer')\n",
    "#pd.to_numeric(dfAG['pessoas'], errors='coerce')\n",
    "#dfAG.dropna(subset=['pessoas'],inplace=True)"
   ]
  },
  {
   "cell_type": "code",
   "execution_count": 187,
   "metadata": {},
   "outputs": [],
   "source": [
    "funcao = [('soma',np.sum),('media',np.mean),('mediana',np.median), ('máx',np.max) ,('min',np.min)]\n",
    "todasAulas = ['sospopeye', 'speeding', 'pilates', 'bodypump', 'step','soscelulite', 'sosabs', 'sosbunda', \n",
    "              'bodybalance', 'endurance','bodycombat', 'zumba', '100pança', 'gain', '100stress']\n",
    "cardio = ['speeding','endurance','bodycombat','zumba', '100stress','step']\n",
    "forca = ['sospopeye','popeye','sosabs','sosbunda','gain','bodypump','soscelulite','100pança','bunda']\n",
    "relaxamento = ['bodybalance','yoga','pilates']\n",
    "\n",
    "opcoes = [('cardio',cardio),('forca',forca),('relaxamento',relaxamento),('todas',todasAulas)]"
   ]
  },
  {
   "cell_type": "markdown",
   "metadata": {},
   "source": [
    "## Número de clientes por hora\n",
    "\n",
    "A barra preta representa o intervalo de confiança com 95%, i.e. o número de clientes tem uma estimativa limite minimo e máximo por hora de acordo com o registos nessa hora"
   ]
  },
  {
   "cell_type": "code",
   "execution_count": 188,
   "metadata": {},
   "outputs": [],
   "source": [
    "# Vamos selecionar as colunas SOS e sem SOS\n",
    "comsos= ['soscelulite','sosabs', 'sosbunda', 'sospopeye', 'sosspeeding']\n",
    "semsos=['popeye', 'speeding', 'pilates', 'bodypump', 'step','bodybalance', 'endurance','bodycombat', 'zumba', '100pança', 'gain','100stress','bunda']"
   ]
  },
  {
   "cell_type": "code",
   "execution_count": 189,
   "metadata": {},
   "outputs": [
    {
     "data": {
      "application/vnd.jupyter.widget-view+json": {
       "model_id": "1796cdcbaef543a3acbeb20494278a97",
       "version_major": 2,
       "version_minor": 0
      },
      "text/plain": [
       "interactive(children=(Dropdown(description='funcao', options=(('soma', <function sum at 0x0000021C07FB2A68>), …"
      ]
     },
     "metadata": {},
     "output_type": "display_data"
    }
   ],
   "source": [
    "def f(funcao,sos,porMes,mes):\n",
    "    if porMes == True:\n",
    "        dados = dfAG.loc[dfAG['mes'] == mes]\n",
    "    else:\n",
    "        dados = dfAG\n",
    "    if sos == True:\n",
    "        dados=dados.loc[dados['aula'].isin(comsos)]\n",
    "    else:\n",
    "        dados=dados.loc[dados['aula'].isin(semsos)]\n",
    "        \n",
    "    if dados.empty:\n",
    "        print('Não tem dados')\n",
    "    else:\n",
    "        plt.rcParams['figure.figsize'] = [15, 3]\n",
    "        sns.barplot(x='hora',y='pessoas',data=dados,palette='rainbow',estimator=funcao).set_title('Aulas de Grupo RM')\n",
    "        plt.xticks(rotation=0);\n",
    "        fig = plt.gcf() # \"Get current figure\"\n",
    "        plt.show()\n",
    "\n",
    "interact(f, funcao=funcao,sos=True,porMes=True,mes=widgets.IntSlider(min=1,max=12,step=1,value=1));"
   ]
  },
  {
   "cell_type": "markdown",
   "metadata": {},
   "source": [
    "## Clientes por dia semana"
   ]
  },
  {
   "cell_type": "code",
   "execution_count": 191,
   "metadata": {},
   "outputs": [
    {
     "data": {
      "application/vnd.jupyter.widget-view+json": {
       "model_id": "429511f5cee74263ab0de17083fd2525",
       "version_major": 2,
       "version_minor": 0
      },
      "text/plain": [
       "interactive(children=(Dropdown(description='funcao', options=(('soma', <function sum at 0x0000021C07FB2A68>), …"
      ]
     },
     "metadata": {},
     "output_type": "display_data"
    }
   ],
   "source": [
    "def f(funcao,sos):\n",
    "    if sos == True:\n",
    "        dados=dfAG.loc[dfAG['aula'].isin(comsos)]\n",
    "    else:\n",
    "        dados=dfAG.loc[dfAG['aula'].isin(semsos)]\n",
    "        \n",
    "    plt.rcParams['figure.figsize'] = [15, 3]\n",
    "    sns.barplot(x='diaSemana',y='pessoas',data=dados,palette='rainbow',estimator=funcao).set_title('Aulas de Grupo RM')\n",
    "    plt.xticks(np.arange(7),('seg','ter','qua','qui','sex','sab','dom'))\n",
    "    fig = plt.gcf() # \"Get current figure\"\n",
    "    plt.show()\n",
    "\n",
    "interact(f, funcao=funcao,sos=True);"
   ]
  },
  {
   "cell_type": "markdown",
   "metadata": {},
   "source": [
    "## Clientes por hora e aula"
   ]
  },
  {
   "cell_type": "code",
   "execution_count": 192,
   "metadata": {},
   "outputs": [
    {
     "data": {
      "application/vnd.jupyter.widget-view+json": {
       "model_id": "b475208a5eb1424296fa9f9b0f7d6b26",
       "version_major": 2,
       "version_minor": 0
      },
      "text/plain": [
       "interactive(children=(Dropdown(description='cor', options=('Accent', 'Accent_r', 'Blues', 'Blues_r', 'BrBG', '…"
      ]
     },
     "metadata": {},
     "output_type": "display_data"
    }
   ],
   "source": [
    "def f(cor,funcao,tipo,sos):\n",
    "    if sos == True:\n",
    "        dados=dfAG.loc[dfAG['aula'].isin(comsos)]\n",
    "    else:\n",
    "        dados=dfAG.loc[dfAG['aula'].isin(semsos)]\n",
    "    plt.rcParams['figure.figsize'] = [15, 6]\n",
    "    if dados.loc[dados['aula'].isin(tipo)].empty:\n",
    "        print('Não tem dados')\n",
    "    else:\n",
    "        sns.lineplot(x='hora',y='pessoas',hue='aula',data=dados.loc[dados['aula'].isin(tipo)],palette=cor,\n",
    "                     estimator=funcao,ci=0).set_title('Aulas Grupo RM - '+str(tipo));\n",
    "        fig = plt.gcf() # \"Get current figure\"\n",
    "        plt.show()\n",
    "\n",
    "interact(f,cor=cor,funcao=funcao,tipo=opcoes,sos=True);"
   ]
  },
  {
   "cell_type": "code",
   "execution_count": 193,
   "metadata": {},
   "outputs": [
    {
     "data": {
      "application/vnd.jupyter.widget-view+json": {
       "model_id": "b06e26bb9abb4c099c7e99e550c0eef4",
       "version_major": 2,
       "version_minor": 0
      },
      "text/plain": [
       "interactive(children=(Dropdown(description='aula', options=('popeye', 'zumba', 'speeding', 'gain', 'pilates', …"
      ]
     },
     "metadata": {},
     "output_type": "display_data"
    }
   ],
   "source": [
    "def f(aula,funcao):\n",
    "    plt.rcParams['figure.figsize'] = [15, 4]\n",
    "    sns.barplot(x='hora',y='pessoas',hue='aula',data=dfAG[dfAG.aula==aula],palette='rainbow',\n",
    "                 estimator=funcao,ci=0).set_title('Sala de exercicio RM');\n",
    "    \n",
    "    fig = plt.gcf() # \"Get current figure\"\n",
    "    plt.show()\n",
    "\n",
    "interact(f, aula=dfAG.aula.unique(),funcao=funcao);"
   ]
  },
  {
   "cell_type": "markdown",
   "metadata": {},
   "source": [
    "### Quais são as aulas com mais alunos por dia da semana?"
   ]
  },
  {
   "cell_type": "code",
   "execution_count": 194,
   "metadata": {},
   "outputs": [
    {
     "data": {
      "application/vnd.jupyter.widget-view+json": {
       "model_id": "fb367a5ffa0741b4a7359722e704333a",
       "version_major": 2,
       "version_minor": 0
      },
      "text/plain": [
       "interactive(children=(Dropdown(description='funcao', options=(('soma', <function sum at 0x0000021C07FB2A68>), …"
      ]
     },
     "metadata": {},
     "output_type": "display_data"
    }
   ],
   "source": [
    "def f(funcao,tipo,sos):\n",
    "    if sos == True:\n",
    "        dados=dfAG.loc[dfAG['aula'].isin(comsos)]\n",
    "    else:\n",
    "        dados=dfAG.loc[dfAG['aula'].isin(semsos)]    \n",
    "    plt.rcParams['figure.figsize'] = [20, 5]\n",
    "    #plt.xticks(rotation=45);\n",
    "    if dados.loc[dados['aula'].isin(tipo)].empty:\n",
    "        print('Não tem dados')\n",
    "    else:\n",
    "        sns.barplot(x='aula',y='pessoas',hue='diaSemana',\n",
    "                    data=dados.loc[dados['aula'].isin(tipo)],\n",
    "                    palette='Accent',estimator=funcao).set_title('Sala exercício RM')\n",
    "    \n",
    "        fig = plt.gcf() # \"Get current figure\"\n",
    "    \n",
    "\n",
    "interact(f,funcao=funcao,tipo=opcoes,sos=True);"
   ]
  },
  {
   "cell_type": "markdown",
   "metadata": {},
   "source": [
    "## Mapa de utilização "
   ]
  },
  {
   "cell_type": "code",
   "execution_count": 148,
   "metadata": {},
   "outputs": [],
   "source": [
    "dfAG['dia']=dfAG['data'].apply(lambda x: x.day)"
   ]
  },
  {
   "cell_type": "code",
   "execution_count": 149,
   "metadata": {},
   "outputs": [],
   "source": [
    "diaSemana = [('seg',0),\n",
    "          ('ter',1),\n",
    "          ('qua',2),\n",
    "          ('qui',3),\n",
    "          ('sex',4),\n",
    "          ('sab',5),\n",
    "          ('dom',6)]"
   ]
  },
  {
   "cell_type": "code",
   "execution_count": 150,
   "metadata": {},
   "outputs": [],
   "source": [
    "#np.round(pd.pivot_table(dfAG,values='pessoas',index='hora',columns=['aula'],aggfunc=np.mean,margins=True,fill_value=0))"
   ]
  },
  {
   "cell_type": "code",
   "execution_count": 151,
   "metadata": {},
   "outputs": [
    {
     "data": {
      "application/vnd.jupyter.widget-view+json": {
       "model_id": "128b777bf1bd40fabd315cda0a84ff14",
       "version_major": 2,
       "version_minor": 0
      },
      "text/plain": [
       "interactive(children=(Dropdown(description='funcao', options=(('soma', <function sum at 0x0000021C07FB2A68>), …"
      ]
     },
     "metadata": {},
     "output_type": "display_data"
    }
   ],
   "source": [
    "def f(funcao,dia,sos,porMes,mes):\n",
    "    if porMes == True:\n",
    "        dados = dfAG.loc[dfAG['mes'] == mes]\n",
    "    else:\n",
    "        dados = dfAG\n",
    "    if sos == True:\n",
    "        dados=dados.loc[dados['aula'].isin(comsos)]\n",
    "    else:\n",
    "        dados=dados.loc[dados['aula'].isin(semsos)]\n",
    "        \n",
    "    if dados.empty:\n",
    "        print('Não tem dados')\n",
    "    else:\n",
    "        dados=dados.loc[dados['diaSemana']==dia]\n",
    "        quadro = np.round(pd.pivot_table(dados,values='pessoas',index='hora',columns=['aula'],aggfunc=funcao,margins=True,fill_value=0))\n",
    "        #print(quadro)\n",
    "        print(tabulate(quadro,tablefmt='github',floatfmt=\".2f\",headers=quadro.columns))\n",
    "        #print('\\nPor dia do mês:')\n",
    "        #quadro2 = pd.pivot_table(dados,values='pessoas',index='hora',columns=['dia'],aggfunc=funcao,margins=True,fill_value=0)\n",
    "        #print(tabulate(quadro2,floatfmt=\".1f\",headers=['hora']+list(range(dados.dia.min(),dados.dia.max()+1))+['total']))\n",
    "        quadro.to_html()\n",
    "\n",
    "interact(f, funcao=funcao,dia=diaSemana,sos=True,porMes=True,mes=widgets.IntSlider(min=1,max=12,step=1,value=1));"
   ]
  },
  {
   "cell_type": "markdown",
   "metadata": {},
   "source": [
    "## Evolução clientes aulas de grupo"
   ]
  },
  {
   "cell_type": "markdown",
   "metadata": {},
   "source": [
    "### Dados históricos"
   ]
  },
  {
   "cell_type": "code",
   "execution_count": 152,
   "metadata": {},
   "outputs": [],
   "source": [
    "#dfAG.groupby('data')['pessoas'].sum().reset_index()"
   ]
  },
  {
   "cell_type": "code",
   "execution_count": 153,
   "metadata": {},
   "outputs": [
    {
     "data": {
      "text/html": [
       "<div>\n",
       "<style scoped>\n",
       "    .dataframe tbody tr th:only-of-type {\n",
       "        vertical-align: middle;\n",
       "    }\n",
       "\n",
       "    .dataframe tbody tr th {\n",
       "        vertical-align: top;\n",
       "    }\n",
       "\n",
       "    .dataframe thead th {\n",
       "        text-align: right;\n",
       "    }\n",
       "</style>\n",
       "<table border=\"1\" class=\"dataframe\">\n",
       "  <thead>\n",
       "    <tr style=\"text-align: right;\">\n",
       "      <th></th>\n",
       "      <th>data</th>\n",
       "      <th>dataOld</th>\n",
       "      <th>hora</th>\n",
       "      <th>pessoas</th>\n",
       "      <th>aula</th>\n",
       "      <th>diaSemana</th>\n",
       "      <th>mes</th>\n",
       "      <th>dia</th>\n",
       "    </tr>\n",
       "  </thead>\n",
       "  <tbody>\n",
       "    <tr>\n",
       "      <th>0</th>\n",
       "      <td>2019-12-04</td>\n",
       "      <td>2019/12/04</td>\n",
       "      <td>15</td>\n",
       "      <td>10</td>\n",
       "      <td>popeye</td>\n",
       "      <td>2</td>\n",
       "      <td>12</td>\n",
       "      <td>4</td>\n",
       "    </tr>\n",
       "    <tr>\n",
       "      <th>1</th>\n",
       "      <td>2019-12-04</td>\n",
       "      <td>2019/12/04</td>\n",
       "      <td>19</td>\n",
       "      <td>30</td>\n",
       "      <td>zumba</td>\n",
       "      <td>2</td>\n",
       "      <td>12</td>\n",
       "      <td>4</td>\n",
       "    </tr>\n",
       "    <tr>\n",
       "      <th>2</th>\n",
       "      <td>2019-12-09</td>\n",
       "      <td>2019/12/09</td>\n",
       "      <td>8</td>\n",
       "      <td>6</td>\n",
       "      <td>speeding</td>\n",
       "      <td>0</td>\n",
       "      <td>12</td>\n",
       "      <td>9</td>\n",
       "    </tr>\n",
       "    <tr>\n",
       "      <th>3</th>\n",
       "      <td>2019-12-09</td>\n",
       "      <td>2019/12/09</td>\n",
       "      <td>9</td>\n",
       "      <td>4</td>\n",
       "      <td>gain</td>\n",
       "      <td>0</td>\n",
       "      <td>12</td>\n",
       "      <td>9</td>\n",
       "    </tr>\n",
       "    <tr>\n",
       "      <th>4</th>\n",
       "      <td>2019-12-09</td>\n",
       "      <td>2019/12/09</td>\n",
       "      <td>10</td>\n",
       "      <td>3</td>\n",
       "      <td>pilates</td>\n",
       "      <td>0</td>\n",
       "      <td>12</td>\n",
       "      <td>9</td>\n",
       "    </tr>\n",
       "  </tbody>\n",
       "</table>\n",
       "</div>"
      ],
      "text/plain": [
       "         data     dataOld  hora  pessoas      aula  diaSemana  mes  dia\n",
       "0  2019-12-04  2019/12/04    15       10    popeye          2   12    4\n",
       "1  2019-12-04  2019/12/04    19       30     zumba          2   12    4\n",
       "2  2019-12-09  2019/12/09     8        6  speeding          0   12    9\n",
       "3  2019-12-09  2019/12/09     9        4      gain          0   12    9\n",
       "4  2019-12-09  2019/12/09    10        3   pilates          0   12    9"
      ]
     },
     "execution_count": 153,
     "metadata": {},
     "output_type": "execute_result"
    }
   ],
   "source": [
    "dfAG.head()"
   ]
  },
  {
   "cell_type": "code",
   "execution_count": 154,
   "metadata": {},
   "outputs": [
    {
     "data": {
      "image/png": "[encoded data removed]",
      "text/plain": [
       "<Figure size 1440x360 with 1 Axes>"
      ]
     },
     "metadata": {
      "needs_background": "light"
     },
     "output_type": "display_data"
    }
   ],
   "source": [
    "sns.lineplot(x=\"data\", y=\"pessoas\", data=dfAG.groupby('data')['pessoas'].sum().reset_index());"
   ]
  },
  {
   "cell_type": "code",
   "execution_count": 155,
   "metadata": {},
   "outputs": [],
   "source": [
    "#from bokeh.plotting import figure, output_file, show\n",
    "#from bokeh.io import output_notebook\n",
    "#from bokeh.models import HoverTool\n",
    "#from bqplot import pyplot as plt\n",
    "#import ipywidgets as widgets\n",
    "#\n",
    "#output_notebook()\n",
    "#\n",
    "#def f(aula):\n",
    "#    dados=dfAG[dfAG.aula==aula]\n",
    "#    dados = dados.groupby('data')['pessoas'].sum().reset_index()\n",
    "#    # Format the tooltip\n",
    "#    tooltips = [(\"valor\", \"@pessoas\")]\n",
    "#\n",
    "#    plot = figure(title='Evolução clientes', x_axis_label='Data',y_axis_label='Clientes',plot_width=1100,plot_height=300,x_axis_type=\"datetime\")\n",
    "#    plot.xaxis.major_label_orientation = 3.14/2\n",
    "#    plot.xaxis.ticker.desired_num_ticks = int(len(dfAG.data.unique()))\n",
    "#    plot.line('data', 'pessoas', line_width=2, line_color='orange', legend_label='total clientes',source=dados)\n",
    "#    plot.add_tools(HoverTool(tooltips=tooltips))\n",
    "#    plot.circle('data', 'pessoas',source=dados)\n",
    "#\n",
    "#    show(plot)\n",
    "#\n",
    "#interact(f, aula=dfAG.aula.unique());\n",
    "#\n",
    "#"
   ]
  },
  {
   "cell_type": "code",
   "execution_count": 156,
   "metadata": {},
   "outputs": [],
   "source": [
    "#import warnings\n",
    "#warnings.simplefilter('ignore')"
   ]
  },
  {
   "cell_type": "code",
   "execution_count": 157,
   "metadata": {},
   "outputs": [],
   "source": [
    "##!pip install fbprophet\n",
    "#from fbprophet import Prophet\n",
    "#\n",
    "#dados = dfAG.groupby('data')['pessoas'].sum().reset_index()\n",
    "#    \n",
    "## Renomear as colunas\n",
    "#dados.columns = ['ds','y']\n",
    "## Instanciação\n",
    "#pro = Prophet()\n",
    "#pro.fit(dados)\n",
    "#\n",
    "#future = pro.make_future_dataframe(periods=60,freq='D')\n",
    "##print(future.tail())\n",
    "#forecast = pro.predict(future)\n",
    "#fig1=pro.plot(forecast)"
   ]
  },
  {
   "cell_type": "markdown",
   "metadata": {
    "toc-hr-collapsed": false
   },
   "source": [
    "# Dados recolhidos aula de grupo Alv"
   ]
  },
  {
   "cell_type": "code",
   "execution_count": 158,
   "metadata": {},
   "outputs": [
    {
     "data": {
      "text/plain": [
       "0      1970-01-01 00:00:00.000000015\n",
       "1      1970-01-01 00:00:00.000000019\n",
       "2      1970-01-01 00:00:00.000000008\n",
       "3      1970-01-01 00:00:00.000000009\n",
       "4      1970-01-01 00:00:00.000000010\n",
       "                    ...             \n",
       "1254   1970-01-01 00:00:00.000000009\n",
       "1255   1970-01-01 00:00:00.000000008\n",
       "1256   1970-01-01 00:00:00.000000015\n",
       "1257   1970-01-01 00:00:00.000000015\n",
       "1258   1970-01-01 00:00:00.000000016\n",
       "Name: hora, Length: 1259, dtype: datetime64[ns]"
      ]
     },
     "execution_count": 158,
     "metadata": {},
     "output_type": "execute_result"
    }
   ],
   "source": [
    "pd.to_datetime(dfAG['hora'], errors='coerce')"
   ]
  },
  {
   "cell_type": "code",
   "execution_count": 159,
   "metadata": {},
   "outputs": [],
   "source": [
    "import pandas as pd\n",
    "import seaborn as sns\n",
    "from ipywidgets import interact, interactive, fixed, interact_manual,widgets\n",
    "import plotly.offline as py\n",
    "import datetime,calendar\n",
    "import numpy as np\n",
    "import matplotlib.pyplot as plt\n",
    "from tabulate import tabulate\n",
    "\n",
    "\n",
    "dfAG = pd.read_csv('https://docs.google.com/spreadsheets/d/e/2PACX-1vQ5UTTnPnInrXgEB7IQxfNSckso1xmFL9ZQYea2doSq4Lk2CpWeeFgyNAWsMtXsK_SwrwPtrGeTXj-k/pub?gid=1187849082&single=true&output=csv')\n",
    "\n",
    "## Preparação dos dados\n",
    "\n",
    "dfAG.columns=['data','dataOld','hora','pessoas','aula']\n",
    "\n",
    "dfAG.fillna(0,inplace=True)\n",
    "\n",
    "dfAG.hora=pd.to_datetime(dfAG['hora'], errors='ignore')\n",
    "dfAG.data=pd.to_datetime(dfAG['data'], errors='ignore')\n",
    "dfAG.data=dfAG.data.dt.date\n",
    "\n",
    "\n",
    "\n",
    "#Vamos retirar as meias horas\n",
    "dfAG['hora']=dfAG['hora'].apply(lambda x: x.hour)\n",
    "dfAG['hora'] = dfAG['hora'].astype(int)\n",
    "### Calcular o dia da semana\n",
    "\n",
    "# Por extenso\n",
    "#dfSEAlv['diaSemana']=dfSEAlv['data'].apply(lambda x: x.day_name(locale='pt'))\n",
    "# Vamos calcular o dia da semana 0 é segunda\n",
    "dfAG['diaSemana']=dfAG['data'].apply(lambda x: x.weekday())\n",
    "\n",
    "#Calcular o mês\n",
    "dfAG['mes']=dfAG['data'].apply(lambda x: x.month)\n",
    "\n"
   ]
  },
  {
   "cell_type": "code",
   "execution_count": 160,
   "metadata": {},
   "outputs": [
    {
     "name": "stdout",
     "output_type": "stream",
     "text": [
      "Data inicio:  2019-12-09 Data fim: 2020-02-28\n"
     ]
    }
   ],
   "source": [
    "print('Data inicio: ',dfAG.data.min(),'Data fim:',dfAG.data.max())"
   ]
  },
  {
   "cell_type": "markdown",
   "metadata": {},
   "source": [
    "Os dados são referentes ao período entre data inicio e data fim. Vamos confirmar algums dados"
   ]
  },
  {
   "cell_type": "code",
   "execution_count": 161,
   "metadata": {},
   "outputs": [],
   "source": [
    "cols = ['aula','pessoas']\n",
    "\n",
    "dfAG.pessoas=pd.to_numeric(dfAG['pessoas'], errors='coerce',downcast='integer')\n",
    "#pd.to_numeric(dfAG['pessoas'], errors='coerce')\n",
    "#dfAG.dropna(subset=['pessoas'],inplace=True)"
   ]
  },
  {
   "cell_type": "code",
   "execution_count": 162,
   "metadata": {},
   "outputs": [],
   "source": [
    "funcao = [('soma',np.sum),('media',np.mean),('mediana',np.median), ('máx',np.max) ,('min',np.min)]\n",
    "todasAulas = ['sospopeye', 'speeding', 'pilates', 'bodypump', 'step','soscelulite', 'sosabs', 'sosbunda', \n",
    "              'bodybalance', 'endurance','bodycombat', 'zumba', '100pança', 'gain', '100stress']\n",
    "cardio = ['speeding','endurance','bodycombat','zumba', '100stress','step']\n",
    "forca = ['sospopeye','popeye','sosabs','sosbunda','gain','bodypump','soscelulite','100pança','bunda']\n",
    "relaxamento = ['bodybalance','yoga','pilates']\n",
    "\n",
    "opcoes = [('cardio',cardio),('forca',forca),('relaxamento',relaxamento),('todas',todasAulas)]"
   ]
  },
  {
   "cell_type": "markdown",
   "metadata": {},
   "source": [
    "## Número de clientes por hora\n",
    "\n",
    "A barra preta representa o intervalo de confiança com 95%, i.e. o número de clientes tem uma estimativa limite minimo e máximo por hora de acordo com o registos nessa hora"
   ]
  },
  {
   "cell_type": "code",
   "execution_count": 163,
   "metadata": {},
   "outputs": [],
   "source": [
    "# Vamos selecionar as colunas SOS e sem SOS\n",
    "comsos= ['soscelulite','sosabs', 'sosbunda', 'sospopeye', 'sosspeeding']\n",
    "semsos=['popeye', 'speeding', 'pilates', 'bodypump', 'step','bodybalance', 'endurance','bodycombat', 'zumba', '100pança', 'gain','100stress','bunda']"
   ]
  },
  {
   "cell_type": "code",
   "execution_count": 164,
   "metadata": {},
   "outputs": [
    {
     "data": {
      "application/vnd.jupyter.widget-view+json": {
       "model_id": "c761acf866b0416193d22de3ea8190b8",
       "version_major": 2,
       "version_minor": 0
      },
      "text/plain": [
       "interactive(children=(Dropdown(description='funcao', options=(('soma', <function sum at 0x0000021C07FB2A68>), …"
      ]
     },
     "metadata": {},
     "output_type": "display_data"
    }
   ],
   "source": [
    "def f(funcao,sos,porMes,mes):\n",
    "    if porMes == True:\n",
    "        dados = dfAG.loc[dfAG['mes'] == mes]\n",
    "    else:\n",
    "        dados = dfAG\n",
    "    if sos == True:\n",
    "        dados=dados.loc[dados['aula'].isin(comsos)]\n",
    "    else:\n",
    "        dados=dados.loc[dados['aula'].isin(semsos)]\n",
    "        \n",
    "    if dados.empty:\n",
    "        print('Não tem dados')\n",
    "    else:\n",
    "        plt.rcParams['figure.figsize'] = [15, 3]\n",
    "        sns.barplot(x='hora',y='pessoas',data=dados,palette='rainbow',estimator=funcao).set_title('Aulas de Grupo Alv')\n",
    "        plt.xticks(rotation=0);\n",
    "        fig = plt.gcf() # \"Get current figure\"\n",
    "        plt.show()\n",
    "\n",
    "interact(f, funcao=funcao,sos=True,porMes=True,mes=widgets.IntSlider(min=1,max=12,step=1,value=1));"
   ]
  },
  {
   "cell_type": "markdown",
   "metadata": {},
   "source": [
    "## Clientes por dia semana"
   ]
  },
  {
   "cell_type": "code",
   "execution_count": 165,
   "metadata": {},
   "outputs": [
    {
     "data": {
      "application/vnd.jupyter.widget-view+json": {
       "model_id": "6efe1fb5308546f4b7bbf007f6b91a2e",
       "version_major": 2,
       "version_minor": 0
      },
      "text/plain": [
       "interactive(children=(Dropdown(description='funcao', options=(('soma', <function sum at 0x0000021C07FB2A68>), …"
      ]
     },
     "metadata": {},
     "output_type": "display_data"
    }
   ],
   "source": [
    "def f(funcao,sos):\n",
    "    if sos == True:\n",
    "        dados=dfAG.loc[dfAG['aula'].isin(comsos)]\n",
    "    else:\n",
    "        dados=dfAG.loc[dfAG['aula'].isin(semsos)]\n",
    "        \n",
    "    plt.rcParams['figure.figsize'] = [15, 3]\n",
    "    sns.barplot(x='diaSemana',y='pessoas',data=dados,palette='rainbow',estimator=funcao).set_title('Aulas de Grupo Alv')\n",
    "    plt.xticks(np.arange(7),('seg','ter','qua','qui','sex','sab','dom'))\n",
    "    fig = plt.gcf() # \"Get current figure\"\n",
    "    plt.show()\n",
    "\n",
    "interact(f, funcao=funcao,sos=True);"
   ]
  },
  {
   "cell_type": "markdown",
   "metadata": {
    "toc-hr-collapsed": true
   },
   "source": [
    "## Clientes por hora e aula"
   ]
  },
  {
   "cell_type": "code",
   "execution_count": 166,
   "metadata": {},
   "outputs": [
    {
     "data": {
      "application/vnd.jupyter.widget-view+json": {
       "model_id": "c7e5bac02e6e49e9ba75dc94d5a1aa56",
       "version_major": 2,
       "version_minor": 0
      },
      "text/plain": [
       "interactive(children=(Dropdown(description='cor', options=('Accent', 'Accent_r', 'Blues', 'Blues_r', 'BrBG', '…"
      ]
     },
     "metadata": {},
     "output_type": "display_data"
    }
   ],
   "source": [
    "def f(cor,funcao,tipo,sos):\n",
    "    if sos == True:\n",
    "        dados=dfAG.loc[dfAG['aula'].isin(comsos)]\n",
    "    else:\n",
    "        dados=dfAG.loc[dfAG['aula'].isin(semsos)]\n",
    "    plt.rcParams['figure.figsize'] = [15, 6]\n",
    "    if dados.loc[dados['aula'].isin(tipo)].empty:\n",
    "        print('Não tem dados')\n",
    "    else:\n",
    "        sns.lineplot(x='hora',y='pessoas',hue='aula',data=dados.loc[dados['aula'].isin(tipo)],palette=cor,\n",
    "                     estimator=funcao,ci=0).set_title('Aulas Grupo Alv - '+str(tipo));\n",
    "        fig = plt.gcf() # \"Get current figure\"\n",
    "        plt.show()\n",
    "\n",
    "interact(f,cor=cor,funcao=funcao,tipo=opcoes,sos=True);"
   ]
  },
  {
   "cell_type": "code",
   "execution_count": 167,
   "metadata": {},
   "outputs": [
    {
     "data": {
      "application/vnd.jupyter.widget-view+json": {
       "model_id": "87782476be544971b24208e5784471f4",
       "version_major": 2,
       "version_minor": 0
      },
      "text/plain": [
       "interactive(children=(Dropdown(description='aula', options=('sosabs', 'endurance', 'sosbunda', 'sospanda', 'bo…"
      ]
     },
     "metadata": {},
     "output_type": "display_data"
    }
   ],
   "source": [
    "def f(aula,funcao):\n",
    "    plt.rcParams['figure.figsize'] = [15, 4]\n",
    "    sns.barplot(x='hora',y='pessoas',hue='aula',data=dfAG[dfAG.aula==aula],palette='rainbow',\n",
    "                 estimator=funcao,ci=0).set_title('Sala de exercicio Alv');\n",
    "    \n",
    "    fig = plt.gcf() # \"Get current figure\"\n",
    "    plt.show()\n",
    "\n",
    "interact(f, aula=dfAG.aula.unique(),funcao=funcao);"
   ]
  },
  {
   "cell_type": "markdown",
   "metadata": {},
   "source": [
    "### Quais são as aulas com mais alunos por dia da semana?"
   ]
  },
  {
   "cell_type": "code",
   "execution_count": 168,
   "metadata": {},
   "outputs": [
    {
     "data": {
      "application/vnd.jupyter.widget-view+json": {
       "model_id": "9c5d7cb99c5a422084beb97150003194",
       "version_major": 2,
       "version_minor": 0
      },
      "text/plain": [
       "interactive(children=(Dropdown(description='funcao', options=(('soma', <function sum at 0x0000021C07FB2A68>), …"
      ]
     },
     "metadata": {},
     "output_type": "display_data"
    }
   ],
   "source": [
    "def f(funcao,tipo,sos):\n",
    "    if sos == True:\n",
    "        dados=dfAG.loc[dfAG['aula'].isin(comsos)]\n",
    "    else:\n",
    "        dados=dfAG.loc[dfAG['aula'].isin(semsos)]    \n",
    "    plt.rcParams['figure.figsize'] = [20, 5]\n",
    "    #plt.xticks(rotation=45);\n",
    "    if dados.loc[dados['aula'].isin(tipo)].empty:\n",
    "        print('Não tem dados')\n",
    "    else:\n",
    "        sns.barplot(x='aula',y='pessoas',hue='diaSemana',\n",
    "                    data=dados.loc[dados['aula'].isin(tipo)],\n",
    "                    palette='Accent',estimator=funcao).set_title('Sala exercício Alv')\n",
    "    \n",
    "        fig = plt.gcf() # \"Get current figure\"\n",
    "    \n",
    "\n",
    "interact(f,funcao=funcao,tipo=opcoes,sos=True);"
   ]
  },
  {
   "cell_type": "markdown",
   "metadata": {},
   "source": [
    "## Mapa de utilização "
   ]
  },
  {
   "cell_type": "code",
   "execution_count": 169,
   "metadata": {},
   "outputs": [],
   "source": [
    "dfAG['dia']=dfAG['data'].apply(lambda x: x.day)"
   ]
  },
  {
   "cell_type": "code",
   "execution_count": 170,
   "metadata": {},
   "outputs": [],
   "source": [
    "#dfAG.head()"
   ]
  },
  {
   "cell_type": "code",
   "execution_count": 171,
   "metadata": {},
   "outputs": [],
   "source": [
    "#dfAG.diaSemana.value_counts()"
   ]
  },
  {
   "cell_type": "code",
   "execution_count": 172,
   "metadata": {},
   "outputs": [
    {
     "data": {
      "application/vnd.jupyter.widget-view+json": {
       "model_id": "113baa4d103242238d0712fdace67b93",
       "version_major": 2,
       "version_minor": 0
      },
      "text/plain": [
       "interactive(children=(Dropdown(description='funcao', options=(('soma', <function sum at 0x0000021C07FB2A68>), …"
      ]
     },
     "metadata": {},
     "output_type": "display_data"
    }
   ],
   "source": [
    "def f(funcao,dia,sos,porMes,mes):\n",
    "    if porMes == True:\n",
    "        dados = dfAG.loc[dfAG['mes'] == mes]\n",
    "    else:\n",
    "        dados = dfAG\n",
    "    if sos == True:\n",
    "        dados=dados.loc[dados['aula'].isin(comsos)]\n",
    "    else:\n",
    "        dados=dados.loc[dados['aula'].isin(semsos)]\n",
    "        \n",
    "    if dados.empty:\n",
    "        print('Não tem dados')\n",
    "    else:\n",
    "        dados=dados.loc[dados['diaSemana']==dia]\n",
    "        quadro = np.round(pd.pivot_table(dados,values='pessoas',index='hora',columns=['aula'],aggfunc=funcao,margins=True,fill_value=0))\n",
    "        #print(quadro)\n",
    "        print(tabulate(quadro,tablefmt='github',floatfmt=\".2f\",headers=quadro.columns))\n",
    "        #print('\\nPor dia do mês:')\n",
    "        #quadro2 = pd.pivot_table(dados,values='pessoas',index='hora',columns=['dia'],aggfunc=funcao,margins=True,fill_value=0)\n",
    "        #print(tabulate(quadro2,floatfmt=\".1f\",headers=['hora']+list(range(dados.dia.min(),dados.dia.max()+1))+['total']))\n",
    "        quadro.to_html()\n",
    "\n",
    "interact(f, funcao=funcao,dia=diaSemana,sos=True,porMes=True,mes=widgets.IntSlider(min=1,max=12,step=1,value=1));"
   ]
  },
  {
   "cell_type": "markdown",
   "metadata": {
    "toc-hr-collapsed": false
   },
   "source": [
    "## Evolução clientes aulas de grupo"
   ]
  },
  {
   "cell_type": "markdown",
   "metadata": {},
   "source": [
    "### Dados históricos"
   ]
  },
  {
   "cell_type": "code",
   "execution_count": 173,
   "metadata": {},
   "outputs": [],
   "source": [
    "#dfAG.groupby('data')['pessoas'].sum().reset_index()"
   ]
  },
  {
   "cell_type": "code",
   "execution_count": 174,
   "metadata": {},
   "outputs": [],
   "source": [
    "#sns.lineplot(x=\"data\", y=\"pessoas\", data=dfAG.groupby('data')['pessoas'].sum().reset_index());"
   ]
  },
  {
   "cell_type": "code",
   "execution_count": 175,
   "metadata": {},
   "outputs": [],
   "source": [
    "data=dfAG.groupby('data')['pessoas'].sum().reset_index()"
   ]
  },
  {
   "cell_type": "code",
   "execution_count": 180,
   "metadata": {},
   "outputs": [],
   "source": [
    "data.data = pd.to_datetime(data['data'], errors='ignore')"
   ]
  },
  {
   "cell_type": "code",
   "execution_count": 181,
   "metadata": {},
   "outputs": [
    {
     "data": {
      "application/vnd.jupyter.widget-view+json": {
       "model_id": "5c7687c1e4344dd4b9fbc56e78cb851f",
       "version_major": 2,
       "version_minor": 0
      },
      "text/plain": [
       "Figure(axes=[Axis(scale=DateScale()), Axis(orientation='vertical', scale=LinearScale())], fig_margin={'top': 6…"
      ]
     },
     "metadata": {},
     "output_type": "display_data"
    }
   ],
   "source": [
    "from bqplot import pyplot as iplt\n",
    "import ipywidgets as widgets\n",
    "import numpy as np\n",
    "\n",
    "fig_lines = iplt.figure(title='Dados históricos')\n",
    "fig_lines.layout.height ='300px'\n",
    "fig_lines.layout.width = '800px'\n",
    "lines = iplt.plot(x=data.data, y=data.pessoas )\n",
    "fig_lines"
   ]
  },
  {
   "cell_type": "code",
   "execution_count": null,
   "metadata": {},
   "outputs": [],
   "source": [
    "#from bokeh.plotting import figure, output_file, show\n",
    "#from bokeh.io import output_notebook\n",
    "#from bokeh.models import HoverTool\n",
    "#\n",
    "#output_notebook()\n",
    "#\n",
    "#def f(aula):\n",
    "#    dados=dfAG[dfAG.aula==aula]\n",
    "#    dados = dados.groupby('data')['pessoas'].sum().reset_index()\n",
    "#    # Format the tooltip\n",
    "#    tooltips = [(\"valor\", \"@pessoas\")]\n",
    "#\n",
    "#    plot = figure(title='Evolução clientes', x_axis_label='Data',y_axis_label='Clientes',plot_width=1100,plot_height=300,x_axis_type=\"datetime\")\n",
    "#    plot.xaxis.major_label_orientation = 3.14/2\n",
    "#    plot.xaxis.ticker.desired_num_ticks = int(len(dfAG.data.unique()))\n",
    "#    plot.line('data', 'pessoas', line_width=2, line_color='orange', legend_label='total clientes',source=dados)\n",
    "#    plot.add_tools(HoverTool(tooltips=tooltips))\n",
    "#    plot.circle('data', 'pessoas',source=dados)\n",
    "#\n",
    "#    show(plot)\n",
    "#\n",
    "#interact(f, aula=dfAG.aula.unique());\n",
    "#\n",
    "#"
   ]
  },
  {
   "cell_type": "code",
   "execution_count": null,
   "metadata": {},
   "outputs": [],
   "source": [
    "#import warnings\n",
    "#warnings.simplefilter('ignore')"
   ]
  },
  {
   "cell_type": "code",
   "execution_count": null,
   "metadata": {},
   "outputs": [],
   "source": [
    "#!pip install fbprophet\n",
    "#from fbprophet import Prophet\n",
    "\n",
    "#dados = dfAG.groupby('data')['pessoas'].sum().reset_index()\n",
    "#    \n",
    "## Renomear as colunas\n",
    "#dados.columns = ['ds','y']\n",
    "## Instanciação\n",
    "#pro = Prophet()\n",
    "#pro.fit(dados)\n",
    "#\n",
    "#future = pro.make_future_dataframe(periods=60,freq='D')\n",
    "##print(future.tail())\n",
    "#forecast = pro.predict(future)\n",
    "#fig1=pro.plot(forecast)"
   ]
  },
  {
   "cell_type": "code",
   "execution_count": null,
   "metadata": {},
   "outputs": [],
   "source": [
    "#fig2=pro.plot_components(forecast)"
   ]
  }
 ],
 "metadata": {
  "kernelspec": {
   "display_name": "Python 3",
   "language": "python",
   "name": "python3"
  },
  "language_info": {
   "codemirror_mode": {
    "name": "ipython",
    "version": 3
   },
   "file_extension": ".py",
   "mimetype": "text/x-python",
   "name": "python",
   "nbconvert_exporter": "python",
   "pygments_lexer": "ipython3",
   "version": "3.7.6"
  },
  "toc-autonumbering": true,
  "toc-showcode": false,
  "toc-showmarkdowntxt": false
 },
 "nbformat": 4,
 "nbformat_minor": 4
}
