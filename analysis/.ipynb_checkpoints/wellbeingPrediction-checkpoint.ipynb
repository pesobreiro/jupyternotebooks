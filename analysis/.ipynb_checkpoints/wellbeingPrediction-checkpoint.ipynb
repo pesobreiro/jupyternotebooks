{
 "cells": [
  {
   "cell_type": "markdown",
   "metadata": {},
   "source": [
    "# Well-being"
   ]
  },
  {
   "cell_type": "markdown",
   "metadata": {},
   "source": [
    "## Used variables\n",
    "\n",
    "|Variável\t|Indicador|\n",
    "|----       |----    |\n",
    "|Modalidade em que o indivíduo tem interesse\t|ModalidadeInterese_1|\n",
    "|Valor do Desporto (ValorDesp)\t|ValorDesp_1|\n",
    "|                               |ValorDesp_2|\n",
    "|Participação Desportiva (PartDesp)\t|PartDesp_1|\n",
    "|\t                                |PartDesp_2|\n",
    "|Federado\t|1=Nao,2=sim|\n",
    "|Modalidade em que está federado\t|FederacaoModalidade|\n",
    "|Bem Estar Subjetivo\t|BemEstarSubjetivo|\n",
    "|Género\t|Genero 1 Mulher / 2 Homens |\n",
    "|Idade\t|Idade|\n",
    "|Estado Civil\t|1 = Single, not married; 2 = Couple; 3 = Divorcied; 4 = In union of fact; 5 = Widow|\n",
    "|Região\t|Regiao|\n",
    "|Instituição\t|Instituicao|\n"
   ]
  },
  {
   "cell_type": "markdown",
   "metadata": {},
   "source": [
    "## Transformação variáveis\n",
    "\n",
    "1. Passar de escala ordinal para categorias (nominais);\n",
    "2. Variável Valor percebido do desporto (indicadores VD1 e VD2): 1 a 3 = Mau; 5 a 7 = Bom; sendo o valor 4 ponto intermédio da escala, proponho que não consideres esses indivíduos;\n",
    "3. Variável Participação desportiva (indicadores PD1 e PD2): 1 = Não; 2 a 5 = Sim;\n",
    "4. Variável Bem estar subjetivo (indicador BES1): 0 a 4 : Negativo; 6 a 10 = Positivo; 5 ponto intermédio da escala não utilizar;"
   ]
  },
  {
   "cell_type": "code",
   "execution_count": 11,
   "metadata": {},
   "outputs": [],
   "source": [
    "import pandas as pd\n",
    "from sklearn import linear_model, datasets\n",
    "from sklearn.linear_model import LogisticRegression\n",
    "#from sklearn.cross_validation import train_test_split\n",
    "from sklearn import metrics\n",
    "from sklearn import preprocessing\n",
    "\n",
    "dt = pd.read_excel('https://raw.githubusercontent.com/pesobreiro/jupyternotebooks/master/dados/wellbeingPrediction.xlsx',\n",
    "                   index_col=0)"
   ]
  },
  {
   "cell_type": "code",
   "execution_count": 12,
   "metadata": {},
   "outputs": [
    {
     "data": {
      "text/plain": [
       "Index(['id', 'Angariador', 'Início', 'Última modificação', 'IP', 'email',\n",
       "       'ON1', 'ON2', 'ON3', 'ON4', 'ON5', 'ON6', 'ON7', 'ON8', 'ON9', 'ON10',\n",
       "       'ONDesp1', 'ONDesp2', 'Mod1Int', 'Mod2Int', 'Mod3Int', 'AE1', 'AE2',\n",
       "       'AE3', 'AE4', 'AE5', 'VD1', 'VD2', 'ID1', 'PD1', 'PD2', 'Fed', 'FedMod',\n",
       "       'BES', 'Gen', 'Idad', 'EstCiv', 'Reg', 'Inst'],\n",
       "      dtype='object')"
      ]
     },
     "execution_count": 12,
     "metadata": {},
     "output_type": "execute_result"
    }
   ],
   "source": [
    "dt.columns"
   ]
  },
  {
   "cell_type": "markdown",
   "metadata": {},
   "source": [
    "## Limpar dados que não interessam"
   ]
  },
  {
   "cell_type": "code",
   "execution_count": 3,
   "metadata": {
    "collapsed": true,
    "jupyter": {
     "outputs_hidden": true
    }
   },
   "outputs": [],
   "source": [
    "colLimpar=['id', 'Angariador', 'Inicio', 'Ultimamodificação', 'IP',\n",
    "       'email', 'OrgulhoNacional_1', 'OrgulhoNacional_2', 'OrgulhoNacional_3',\n",
    "       'OrgulhoNacional_4', 'OrgulhoNacional_5', 'OrgulhoNacional_6',\n",
    "       'OrgulhoNacional_7', 'OrgulhoNacional_8', 'OrgulhoNacional_9',\n",
    "       'OrgulhoNacional_10', 'OrgNacDesp_1', 'OrgNacDesp_2','ModalidadeInterese_1', 'ModalidadeInterese_2', 'ModalidadeInterese_3',\n",
    "       'AssitEspecta_1', 'AssitEspecta_2', 'AssitEspecta_3', 'AssitEspecta_4',\n",
    "       'AssitEspecta_5', 'InvestDesp_1','FederacaoModalidade','Instituicao']"
   ]
  },
  {
   "cell_type": "code",
   "execution_count": 4,
   "metadata": {},
   "outputs": [],
   "source": [
    "dt.drop(colLimpar,axis=1,inplace=True)"
   ]
  },
  {
   "cell_type": "code",
   "execution_count": 5,
   "metadata": {},
   "outputs": [
    {
     "data": {
      "text/html": [
       "<div>\n",
       "<style scoped>\n",
       "    .dataframe tbody tr th:only-of-type {\n",
       "        vertical-align: middle;\n",
       "    }\n",
       "\n",
       "    .dataframe tbody tr th {\n",
       "        vertical-align: top;\n",
       "    }\n",
       "\n",
       "    .dataframe thead th {\n",
       "        text-align: right;\n",
       "    }\n",
       "</style>\n",
       "<table border=\"1\" class=\"dataframe\">\n",
       "  <thead>\n",
       "    <tr style=\"text-align: right;\">\n",
       "      <th></th>\n",
       "      <th>ValorDesp_1</th>\n",
       "      <th>ValorDesp_2</th>\n",
       "      <th>PartDesp_1</th>\n",
       "      <th>PartDesp_2</th>\n",
       "      <th>Federacao</th>\n",
       "      <th>BemEstarSubjetivo</th>\n",
       "      <th>Genero</th>\n",
       "      <th>Idade</th>\n",
       "      <th>EstadoCivil</th>\n",
       "      <th>Regiao</th>\n",
       "    </tr>\n",
       "    <tr>\n",
       "      <th>NumeroOrdem</th>\n",
       "      <th></th>\n",
       "      <th></th>\n",
       "      <th></th>\n",
       "      <th></th>\n",
       "      <th></th>\n",
       "      <th></th>\n",
       "      <th></th>\n",
       "      <th></th>\n",
       "      <th></th>\n",
       "      <th></th>\n",
       "    </tr>\n",
       "  </thead>\n",
       "  <tbody>\n",
       "    <tr>\n",
       "      <th>0.0</th>\n",
       "      <td>4.0</td>\n",
       "      <td>3.0</td>\n",
       "      <td>3.0</td>\n",
       "      <td>3.0</td>\n",
       "      <td>1.0</td>\n",
       "      <td>8.0</td>\n",
       "      <td>1.0</td>\n",
       "      <td>19.0</td>\n",
       "      <td>1.0</td>\n",
       "      <td>3.0</td>\n",
       "    </tr>\n",
       "    <tr>\n",
       "      <th>1.0</th>\n",
       "      <td>NaN</td>\n",
       "      <td>NaN</td>\n",
       "      <td>NaN</td>\n",
       "      <td>NaN</td>\n",
       "      <td>NaN</td>\n",
       "      <td>NaN</td>\n",
       "      <td>NaN</td>\n",
       "      <td>NaN</td>\n",
       "      <td>NaN</td>\n",
       "      <td>NaN</td>\n",
       "    </tr>\n",
       "    <tr>\n",
       "      <th>2.0</th>\n",
       "      <td>3.0</td>\n",
       "      <td>5.0</td>\n",
       "      <td>4.0</td>\n",
       "      <td>5.0</td>\n",
       "      <td>1.0</td>\n",
       "      <td>6.0</td>\n",
       "      <td>2.0</td>\n",
       "      <td>21.0</td>\n",
       "      <td>1.0</td>\n",
       "      <td>4.0</td>\n",
       "    </tr>\n",
       "    <tr>\n",
       "      <th>3.0</th>\n",
       "      <td>5.0</td>\n",
       "      <td>6.0</td>\n",
       "      <td>5.0</td>\n",
       "      <td>5.0</td>\n",
       "      <td>2.0</td>\n",
       "      <td>9.0</td>\n",
       "      <td>2.0</td>\n",
       "      <td>20.0</td>\n",
       "      <td>1.0</td>\n",
       "      <td>5.0</td>\n",
       "    </tr>\n",
       "    <tr>\n",
       "      <th>4.0</th>\n",
       "      <td>3.0</td>\n",
       "      <td>4.0</td>\n",
       "      <td>4.0</td>\n",
       "      <td>5.0</td>\n",
       "      <td>1.0</td>\n",
       "      <td>5.0</td>\n",
       "      <td>2.0</td>\n",
       "      <td>20.0</td>\n",
       "      <td>1.0</td>\n",
       "      <td>3.0</td>\n",
       "    </tr>\n",
       "    <tr>\n",
       "      <th>5.0</th>\n",
       "      <td>6.0</td>\n",
       "      <td>6.0</td>\n",
       "      <td>5.0</td>\n",
       "      <td>6.0</td>\n",
       "      <td>1.0</td>\n",
       "      <td>10.0</td>\n",
       "      <td>2.0</td>\n",
       "      <td>20.0</td>\n",
       "      <td>1.0</td>\n",
       "      <td>3.0</td>\n",
       "    </tr>\n",
       "    <tr>\n",
       "      <th>6.0</th>\n",
       "      <td>NaN</td>\n",
       "      <td>NaN</td>\n",
       "      <td>NaN</td>\n",
       "      <td>NaN</td>\n",
       "      <td>NaN</td>\n",
       "      <td>NaN</td>\n",
       "      <td>NaN</td>\n",
       "      <td>NaN</td>\n",
       "      <td>NaN</td>\n",
       "      <td>NaN</td>\n",
       "    </tr>\n",
       "    <tr>\n",
       "      <th>7.0</th>\n",
       "      <td>5.0</td>\n",
       "      <td>6.0</td>\n",
       "      <td>5.0</td>\n",
       "      <td>4.0</td>\n",
       "      <td>2.0</td>\n",
       "      <td>11.0</td>\n",
       "      <td>1.0</td>\n",
       "      <td>20.0</td>\n",
       "      <td>1.0</td>\n",
       "      <td>2.0</td>\n",
       "    </tr>\n",
       "    <tr>\n",
       "      <th>8.0</th>\n",
       "      <td>5.0</td>\n",
       "      <td>5.0</td>\n",
       "      <td>1.0</td>\n",
       "      <td>3.0</td>\n",
       "      <td>1.0</td>\n",
       "      <td>7.0</td>\n",
       "      <td>NaN</td>\n",
       "      <td>NaN</td>\n",
       "      <td>NaN</td>\n",
       "      <td>NaN</td>\n",
       "    </tr>\n",
       "    <tr>\n",
       "      <th>9.0</th>\n",
       "      <td>5.0</td>\n",
       "      <td>3.0</td>\n",
       "      <td>2.0</td>\n",
       "      <td>4.0</td>\n",
       "      <td>1.0</td>\n",
       "      <td>3.0</td>\n",
       "      <td>2.0</td>\n",
       "      <td>24.0</td>\n",
       "      <td>1.0</td>\n",
       "      <td>3.0</td>\n",
       "    </tr>\n",
       "    <tr>\n",
       "      <th>10.0</th>\n",
       "      <td>5.0</td>\n",
       "      <td>6.0</td>\n",
       "      <td>4.0</td>\n",
       "      <td>3.0</td>\n",
       "      <td>2.0</td>\n",
       "      <td>8.0</td>\n",
       "      <td>1.0</td>\n",
       "      <td>25.0</td>\n",
       "      <td>1.0</td>\n",
       "      <td>3.0</td>\n",
       "    </tr>\n",
       "    <tr>\n",
       "      <th>11.0</th>\n",
       "      <td>4.0</td>\n",
       "      <td>5.0</td>\n",
       "      <td>4.0</td>\n",
       "      <td>4.0</td>\n",
       "      <td>2.0</td>\n",
       "      <td>9.0</td>\n",
       "      <td>1.0</td>\n",
       "      <td>18.0</td>\n",
       "      <td>1.0</td>\n",
       "      <td>2.0</td>\n",
       "    </tr>\n",
       "    <tr>\n",
       "      <th>12.0</th>\n",
       "      <td>5.0</td>\n",
       "      <td>5.0</td>\n",
       "      <td>4.0</td>\n",
       "      <td>4.0</td>\n",
       "      <td>1.0</td>\n",
       "      <td>9.0</td>\n",
       "      <td>1.0</td>\n",
       "      <td>24.0</td>\n",
       "      <td>1.0</td>\n",
       "      <td>3.0</td>\n",
       "    </tr>\n",
       "    <tr>\n",
       "      <th>13.0</th>\n",
       "      <td>4.0</td>\n",
       "      <td>3.0</td>\n",
       "      <td>5.0</td>\n",
       "      <td>5.0</td>\n",
       "      <td>2.0</td>\n",
       "      <td>11.0</td>\n",
       "      <td>1.0</td>\n",
       "      <td>20.0</td>\n",
       "      <td>1.0</td>\n",
       "      <td>2.0</td>\n",
       "    </tr>\n",
       "    <tr>\n",
       "      <th>14.0</th>\n",
       "      <td>4.0</td>\n",
       "      <td>5.0</td>\n",
       "      <td>4.0</td>\n",
       "      <td>5.0</td>\n",
       "      <td>2.0</td>\n",
       "      <td>8.0</td>\n",
       "      <td>1.0</td>\n",
       "      <td>25.0</td>\n",
       "      <td>1.0</td>\n",
       "      <td>3.0</td>\n",
       "    </tr>\n",
       "    <tr>\n",
       "      <th>15.0</th>\n",
       "      <td>7.0</td>\n",
       "      <td>3.0</td>\n",
       "      <td>4.0</td>\n",
       "      <td>3.0</td>\n",
       "      <td>1.0</td>\n",
       "      <td>9.0</td>\n",
       "      <td>1.0</td>\n",
       "      <td>21.0</td>\n",
       "      <td>1.0</td>\n",
       "      <td>2.0</td>\n",
       "    </tr>\n",
       "    <tr>\n",
       "      <th>16.0</th>\n",
       "      <td>3.0</td>\n",
       "      <td>4.0</td>\n",
       "      <td>4.0</td>\n",
       "      <td>4.0</td>\n",
       "      <td>1.0</td>\n",
       "      <td>7.0</td>\n",
       "      <td>2.0</td>\n",
       "      <td>30.0</td>\n",
       "      <td>1.0</td>\n",
       "      <td>3.0</td>\n",
       "    </tr>\n",
       "    <tr>\n",
       "      <th>17.0</th>\n",
       "      <td>3.0</td>\n",
       "      <td>2.0</td>\n",
       "      <td>1.0</td>\n",
       "      <td>2.0</td>\n",
       "      <td>1.0</td>\n",
       "      <td>11.0</td>\n",
       "      <td>1.0</td>\n",
       "      <td>22.0</td>\n",
       "      <td>1.0</td>\n",
       "      <td>3.0</td>\n",
       "    </tr>\n",
       "    <tr>\n",
       "      <th>18.0</th>\n",
       "      <td>4.0</td>\n",
       "      <td>2.0</td>\n",
       "      <td>3.0</td>\n",
       "      <td>5.0</td>\n",
       "      <td>2.0</td>\n",
       "      <td>7.0</td>\n",
       "      <td>1.0</td>\n",
       "      <td>19.0</td>\n",
       "      <td>1.0</td>\n",
       "      <td>2.0</td>\n",
       "    </tr>\n",
       "    <tr>\n",
       "      <th>19.0</th>\n",
       "      <td>6.0</td>\n",
       "      <td>3.0</td>\n",
       "      <td>5.0</td>\n",
       "      <td>4.0</td>\n",
       "      <td>2.0</td>\n",
       "      <td>9.0</td>\n",
       "      <td>2.0</td>\n",
       "      <td>22.0</td>\n",
       "      <td>1.0</td>\n",
       "      <td>2.0</td>\n",
       "    </tr>\n",
       "    <tr>\n",
       "      <th>20.0</th>\n",
       "      <td>5.0</td>\n",
       "      <td>5.0</td>\n",
       "      <td>5.0</td>\n",
       "      <td>5.0</td>\n",
       "      <td>2.0</td>\n",
       "      <td>9.0</td>\n",
       "      <td>1.0</td>\n",
       "      <td>22.0</td>\n",
       "      <td>1.0</td>\n",
       "      <td>4.0</td>\n",
       "    </tr>\n",
       "    <tr>\n",
       "      <th>21.0</th>\n",
       "      <td>5.0</td>\n",
       "      <td>3.0</td>\n",
       "      <td>5.0</td>\n",
       "      <td>4.0</td>\n",
       "      <td>2.0</td>\n",
       "      <td>9.0</td>\n",
       "      <td>2.0</td>\n",
       "      <td>22.0</td>\n",
       "      <td>1.0</td>\n",
       "      <td>2.0</td>\n",
       "    </tr>\n",
       "    <tr>\n",
       "      <th>22.0</th>\n",
       "      <td>6.0</td>\n",
       "      <td>6.0</td>\n",
       "      <td>4.0</td>\n",
       "      <td>4.0</td>\n",
       "      <td>2.0</td>\n",
       "      <td>8.0</td>\n",
       "      <td>1.0</td>\n",
       "      <td>30.0</td>\n",
       "      <td>1.0</td>\n",
       "      <td>2.0</td>\n",
       "    </tr>\n",
       "    <tr>\n",
       "      <th>23.0</th>\n",
       "      <td>3.0</td>\n",
       "      <td>3.0</td>\n",
       "      <td>3.0</td>\n",
       "      <td>3.0</td>\n",
       "      <td>1.0</td>\n",
       "      <td>9.0</td>\n",
       "      <td>2.0</td>\n",
       "      <td>20.0</td>\n",
       "      <td>1.0</td>\n",
       "      <td>3.0</td>\n",
       "    </tr>\n",
       "    <tr>\n",
       "      <th>24.0</th>\n",
       "      <td>5.0</td>\n",
       "      <td>6.0</td>\n",
       "      <td>3.0</td>\n",
       "      <td>5.0</td>\n",
       "      <td>2.0</td>\n",
       "      <td>9.0</td>\n",
       "      <td>1.0</td>\n",
       "      <td>20.0</td>\n",
       "      <td>1.0</td>\n",
       "      <td>2.0</td>\n",
       "    </tr>\n",
       "    <tr>\n",
       "      <th>25.0</th>\n",
       "      <td>5.0</td>\n",
       "      <td>3.0</td>\n",
       "      <td>3.0</td>\n",
       "      <td>3.0</td>\n",
       "      <td>1.0</td>\n",
       "      <td>8.0</td>\n",
       "      <td>2.0</td>\n",
       "      <td>23.0</td>\n",
       "      <td>1.0</td>\n",
       "      <td>2.0</td>\n",
       "    </tr>\n",
       "    <tr>\n",
       "      <th>26.0</th>\n",
       "      <td>3.0</td>\n",
       "      <td>5.0</td>\n",
       "      <td>4.0</td>\n",
       "      <td>3.0</td>\n",
       "      <td>2.0</td>\n",
       "      <td>6.0</td>\n",
       "      <td>1.0</td>\n",
       "      <td>19.0</td>\n",
       "      <td>1.0</td>\n",
       "      <td>3.0</td>\n",
       "    </tr>\n",
       "    <tr>\n",
       "      <th>27.0</th>\n",
       "      <td>6.0</td>\n",
       "      <td>5.0</td>\n",
       "      <td>5.0</td>\n",
       "      <td>4.0</td>\n",
       "      <td>1.0</td>\n",
       "      <td>9.0</td>\n",
       "      <td>1.0</td>\n",
       "      <td>23.0</td>\n",
       "      <td>1.0</td>\n",
       "      <td>3.0</td>\n",
       "    </tr>\n",
       "    <tr>\n",
       "      <th>28.0</th>\n",
       "      <td>5.0</td>\n",
       "      <td>4.0</td>\n",
       "      <td>4.0</td>\n",
       "      <td>4.0</td>\n",
       "      <td>1.0</td>\n",
       "      <td>8.0</td>\n",
       "      <td>1.0</td>\n",
       "      <td>23.0</td>\n",
       "      <td>1.0</td>\n",
       "      <td>2.0</td>\n",
       "    </tr>\n",
       "    <tr>\n",
       "      <th>29.0</th>\n",
       "      <td>2.0</td>\n",
       "      <td>4.0</td>\n",
       "      <td>1.0</td>\n",
       "      <td>6.0</td>\n",
       "      <td>1.0</td>\n",
       "      <td>11.0</td>\n",
       "      <td>2.0</td>\n",
       "      <td>34.0</td>\n",
       "      <td>2.0</td>\n",
       "      <td>3.0</td>\n",
       "    </tr>\n",
       "    <tr>\n",
       "      <th>...</th>\n",
       "      <td>...</td>\n",
       "      <td>...</td>\n",
       "      <td>...</td>\n",
       "      <td>...</td>\n",
       "      <td>...</td>\n",
       "      <td>...</td>\n",
       "      <td>...</td>\n",
       "      <td>...</td>\n",
       "      <td>...</td>\n",
       "      <td>...</td>\n",
       "    </tr>\n",
       "    <tr>\n",
       "      <th>541.0</th>\n",
       "      <td>5.0</td>\n",
       "      <td>4.0</td>\n",
       "      <td>4.0</td>\n",
       "      <td>3.0</td>\n",
       "      <td>2.0</td>\n",
       "      <td>9.0</td>\n",
       "      <td>2.0</td>\n",
       "      <td>49.0</td>\n",
       "      <td>2.0</td>\n",
       "      <td>3.0</td>\n",
       "    </tr>\n",
       "    <tr>\n",
       "      <th>542.0</th>\n",
       "      <td>NaN</td>\n",
       "      <td>NaN</td>\n",
       "      <td>NaN</td>\n",
       "      <td>NaN</td>\n",
       "      <td>NaN</td>\n",
       "      <td>NaN</td>\n",
       "      <td>NaN</td>\n",
       "      <td>NaN</td>\n",
       "      <td>NaN</td>\n",
       "      <td>NaN</td>\n",
       "    </tr>\n",
       "    <tr>\n",
       "      <th>543.0</th>\n",
       "      <td>3.0</td>\n",
       "      <td>3.0</td>\n",
       "      <td>4.0</td>\n",
       "      <td>3.0</td>\n",
       "      <td>1.0</td>\n",
       "      <td>7.0</td>\n",
       "      <td>2.0</td>\n",
       "      <td>44.0</td>\n",
       "      <td>1.0</td>\n",
       "      <td>3.0</td>\n",
       "    </tr>\n",
       "    <tr>\n",
       "      <th>544.0</th>\n",
       "      <td>6.0</td>\n",
       "      <td>5.0</td>\n",
       "      <td>1.0</td>\n",
       "      <td>1.0</td>\n",
       "      <td>1.0</td>\n",
       "      <td>9.0</td>\n",
       "      <td>1.0</td>\n",
       "      <td>34.0</td>\n",
       "      <td>2.0</td>\n",
       "      <td>3.0</td>\n",
       "    </tr>\n",
       "    <tr>\n",
       "      <th>545.0</th>\n",
       "      <td>7.0</td>\n",
       "      <td>6.0</td>\n",
       "      <td>4.0</td>\n",
       "      <td>4.0</td>\n",
       "      <td>1.0</td>\n",
       "      <td>11.0</td>\n",
       "      <td>1.0</td>\n",
       "      <td>31.0</td>\n",
       "      <td>4.0</td>\n",
       "      <td>3.0</td>\n",
       "    </tr>\n",
       "    <tr>\n",
       "      <th>546.0</th>\n",
       "      <td>5.0</td>\n",
       "      <td>5.0</td>\n",
       "      <td>1.0</td>\n",
       "      <td>1.0</td>\n",
       "      <td>1.0</td>\n",
       "      <td>6.0</td>\n",
       "      <td>2.0</td>\n",
       "      <td>23.0</td>\n",
       "      <td>1.0</td>\n",
       "      <td>6.0</td>\n",
       "    </tr>\n",
       "    <tr>\n",
       "      <th>547.0</th>\n",
       "      <td>7.0</td>\n",
       "      <td>4.0</td>\n",
       "      <td>1.0</td>\n",
       "      <td>1.0</td>\n",
       "      <td>1.0</td>\n",
       "      <td>9.0</td>\n",
       "      <td>2.0</td>\n",
       "      <td>38.0</td>\n",
       "      <td>4.0</td>\n",
       "      <td>3.0</td>\n",
       "    </tr>\n",
       "    <tr>\n",
       "      <th>548.0</th>\n",
       "      <td>NaN</td>\n",
       "      <td>NaN</td>\n",
       "      <td>NaN</td>\n",
       "      <td>NaN</td>\n",
       "      <td>NaN</td>\n",
       "      <td>NaN</td>\n",
       "      <td>NaN</td>\n",
       "      <td>NaN</td>\n",
       "      <td>NaN</td>\n",
       "      <td>NaN</td>\n",
       "    </tr>\n",
       "    <tr>\n",
       "      <th>549.0</th>\n",
       "      <td>4.0</td>\n",
       "      <td>3.0</td>\n",
       "      <td>4.0</td>\n",
       "      <td>4.0</td>\n",
       "      <td>2.0</td>\n",
       "      <td>11.0</td>\n",
       "      <td>2.0</td>\n",
       "      <td>24.0</td>\n",
       "      <td>1.0</td>\n",
       "      <td>2.0</td>\n",
       "    </tr>\n",
       "    <tr>\n",
       "      <th>550.0</th>\n",
       "      <td>5.0</td>\n",
       "      <td>5.0</td>\n",
       "      <td>2.0</td>\n",
       "      <td>2.0</td>\n",
       "      <td>1.0</td>\n",
       "      <td>10.0</td>\n",
       "      <td>1.0</td>\n",
       "      <td>21.0</td>\n",
       "      <td>1.0</td>\n",
       "      <td>3.0</td>\n",
       "    </tr>\n",
       "    <tr>\n",
       "      <th>551.0</th>\n",
       "      <td>7.0</td>\n",
       "      <td>6.0</td>\n",
       "      <td>1.0</td>\n",
       "      <td>1.0</td>\n",
       "      <td>1.0</td>\n",
       "      <td>7.0</td>\n",
       "      <td>2.0</td>\n",
       "      <td>26.0</td>\n",
       "      <td>1.0</td>\n",
       "      <td>3.0</td>\n",
       "    </tr>\n",
       "    <tr>\n",
       "      <th>552.0</th>\n",
       "      <td>3.0</td>\n",
       "      <td>3.0</td>\n",
       "      <td>2.0</td>\n",
       "      <td>4.0</td>\n",
       "      <td>1.0</td>\n",
       "      <td>9.0</td>\n",
       "      <td>2.0</td>\n",
       "      <td>21.0</td>\n",
       "      <td>1.0</td>\n",
       "      <td>4.0</td>\n",
       "    </tr>\n",
       "    <tr>\n",
       "      <th>553.0</th>\n",
       "      <td>6.0</td>\n",
       "      <td>5.0</td>\n",
       "      <td>3.0</td>\n",
       "      <td>4.0</td>\n",
       "      <td>1.0</td>\n",
       "      <td>11.0</td>\n",
       "      <td>2.0</td>\n",
       "      <td>22.0</td>\n",
       "      <td>1.0</td>\n",
       "      <td>3.0</td>\n",
       "    </tr>\n",
       "    <tr>\n",
       "      <th>554.0</th>\n",
       "      <td>4.0</td>\n",
       "      <td>5.0</td>\n",
       "      <td>4.0</td>\n",
       "      <td>4.0</td>\n",
       "      <td>2.0</td>\n",
       "      <td>8.0</td>\n",
       "      <td>2.0</td>\n",
       "      <td>22.0</td>\n",
       "      <td>1.0</td>\n",
       "      <td>3.0</td>\n",
       "    </tr>\n",
       "    <tr>\n",
       "      <th>555.0</th>\n",
       "      <td>6.0</td>\n",
       "      <td>5.0</td>\n",
       "      <td>2.0</td>\n",
       "      <td>4.0</td>\n",
       "      <td>1.0</td>\n",
       "      <td>8.0</td>\n",
       "      <td>2.0</td>\n",
       "      <td>26.0</td>\n",
       "      <td>1.0</td>\n",
       "      <td>3.0</td>\n",
       "    </tr>\n",
       "    <tr>\n",
       "      <th>556.0</th>\n",
       "      <td>4.0</td>\n",
       "      <td>6.0</td>\n",
       "      <td>5.0</td>\n",
       "      <td>5.0</td>\n",
       "      <td>2.0</td>\n",
       "      <td>8.0</td>\n",
       "      <td>2.0</td>\n",
       "      <td>23.0</td>\n",
       "      <td>1.0</td>\n",
       "      <td>2.0</td>\n",
       "    </tr>\n",
       "    <tr>\n",
       "      <th>557.0</th>\n",
       "      <td>4.0</td>\n",
       "      <td>3.0</td>\n",
       "      <td>1.0</td>\n",
       "      <td>2.0</td>\n",
       "      <td>1.0</td>\n",
       "      <td>7.0</td>\n",
       "      <td>1.0</td>\n",
       "      <td>23.0</td>\n",
       "      <td>1.0</td>\n",
       "      <td>2.0</td>\n",
       "    </tr>\n",
       "    <tr>\n",
       "      <th>558.0</th>\n",
       "      <td>6.0</td>\n",
       "      <td>5.0</td>\n",
       "      <td>3.0</td>\n",
       "      <td>3.0</td>\n",
       "      <td>1.0</td>\n",
       "      <td>11.0</td>\n",
       "      <td>1.0</td>\n",
       "      <td>22.0</td>\n",
       "      <td>1.0</td>\n",
       "      <td>3.0</td>\n",
       "    </tr>\n",
       "    <tr>\n",
       "      <th>559.0</th>\n",
       "      <td>4.0</td>\n",
       "      <td>5.0</td>\n",
       "      <td>2.0</td>\n",
       "      <td>4.0</td>\n",
       "      <td>1.0</td>\n",
       "      <td>6.0</td>\n",
       "      <td>2.0</td>\n",
       "      <td>23.0</td>\n",
       "      <td>4.0</td>\n",
       "      <td>3.0</td>\n",
       "    </tr>\n",
       "    <tr>\n",
       "      <th>560.0</th>\n",
       "      <td>5.0</td>\n",
       "      <td>7.0</td>\n",
       "      <td>2.0</td>\n",
       "      <td>3.0</td>\n",
       "      <td>1.0</td>\n",
       "      <td>11.0</td>\n",
       "      <td>2.0</td>\n",
       "      <td>23.0</td>\n",
       "      <td>1.0</td>\n",
       "      <td>3.0</td>\n",
       "    </tr>\n",
       "    <tr>\n",
       "      <th>561.0</th>\n",
       "      <td>5.0</td>\n",
       "      <td>5.0</td>\n",
       "      <td>4.0</td>\n",
       "      <td>3.0</td>\n",
       "      <td>1.0</td>\n",
       "      <td>11.0</td>\n",
       "      <td>2.0</td>\n",
       "      <td>21.0</td>\n",
       "      <td>1.0</td>\n",
       "      <td>3.0</td>\n",
       "    </tr>\n",
       "    <tr>\n",
       "      <th>562.0</th>\n",
       "      <td>5.0</td>\n",
       "      <td>4.0</td>\n",
       "      <td>3.0</td>\n",
       "      <td>3.0</td>\n",
       "      <td>1.0</td>\n",
       "      <td>6.0</td>\n",
       "      <td>1.0</td>\n",
       "      <td>21.0</td>\n",
       "      <td>1.0</td>\n",
       "      <td>3.0</td>\n",
       "    </tr>\n",
       "    <tr>\n",
       "      <th>563.0</th>\n",
       "      <td>5.0</td>\n",
       "      <td>5.0</td>\n",
       "      <td>4.0</td>\n",
       "      <td>2.0</td>\n",
       "      <td>1.0</td>\n",
       "      <td>11.0</td>\n",
       "      <td>1.0</td>\n",
       "      <td>99.0</td>\n",
       "      <td>1.0</td>\n",
       "      <td>3.0</td>\n",
       "    </tr>\n",
       "    <tr>\n",
       "      <th>564.0</th>\n",
       "      <td>5.0</td>\n",
       "      <td>5.0</td>\n",
       "      <td>3.0</td>\n",
       "      <td>3.0</td>\n",
       "      <td>1.0</td>\n",
       "      <td>9.0</td>\n",
       "      <td>1.0</td>\n",
       "      <td>99.0</td>\n",
       "      <td>1.0</td>\n",
       "      <td>3.0</td>\n",
       "    </tr>\n",
       "    <tr>\n",
       "      <th>565.0</th>\n",
       "      <td>1.0</td>\n",
       "      <td>1.0</td>\n",
       "      <td>1.0</td>\n",
       "      <td>1.0</td>\n",
       "      <td>1.0</td>\n",
       "      <td>NaN</td>\n",
       "      <td>1.0</td>\n",
       "      <td>99.0</td>\n",
       "      <td>1.0</td>\n",
       "      <td>7.0</td>\n",
       "    </tr>\n",
       "    <tr>\n",
       "      <th>566.0</th>\n",
       "      <td>1.0</td>\n",
       "      <td>1.0</td>\n",
       "      <td>1.0</td>\n",
       "      <td>1.0</td>\n",
       "      <td>1.0</td>\n",
       "      <td>NaN</td>\n",
       "      <td>1.0</td>\n",
       "      <td>99.0</td>\n",
       "      <td>1.0</td>\n",
       "      <td>1.0</td>\n",
       "    </tr>\n",
       "    <tr>\n",
       "      <th>NaN</th>\n",
       "      <td>NaN</td>\n",
       "      <td>NaN</td>\n",
       "      <td>NaN</td>\n",
       "      <td>NaN</td>\n",
       "      <td>NaN</td>\n",
       "      <td>NaN</td>\n",
       "      <td>NaN</td>\n",
       "      <td>NaN</td>\n",
       "      <td>NaN</td>\n",
       "      <td>NaN</td>\n",
       "    </tr>\n",
       "    <tr>\n",
       "      <th>NaN</th>\n",
       "      <td>NaN</td>\n",
       "      <td>NaN</td>\n",
       "      <td>NaN</td>\n",
       "      <td>NaN</td>\n",
       "      <td>NaN</td>\n",
       "      <td>NaN</td>\n",
       "      <td>NaN</td>\n",
       "      <td>NaN</td>\n",
       "      <td>NaN</td>\n",
       "      <td>NaN</td>\n",
       "    </tr>\n",
       "    <tr>\n",
       "      <th>NaN</th>\n",
       "      <td>NaN</td>\n",
       "      <td>NaN</td>\n",
       "      <td>NaN</td>\n",
       "      <td>NaN</td>\n",
       "      <td>NaN</td>\n",
       "      <td>NaN</td>\n",
       "      <td>NaN</td>\n",
       "      <td>NaN</td>\n",
       "      <td>NaN</td>\n",
       "      <td>NaN</td>\n",
       "    </tr>\n",
       "    <tr>\n",
       "      <th>NaN</th>\n",
       "      <td>NaN</td>\n",
       "      <td>NaN</td>\n",
       "      <td>NaN</td>\n",
       "      <td>NaN</td>\n",
       "      <td>NaN</td>\n",
       "      <td>NaN</td>\n",
       "      <td>NaN</td>\n",
       "      <td>NaN</td>\n",
       "      <td>NaN</td>\n",
       "      <td>NaN</td>\n",
       "    </tr>\n",
       "  </tbody>\n",
       "</table>\n",
       "<p>571 rows × 10 columns</p>\n",
       "</div>"
      ],
      "text/plain": [
       "             ValorDesp_1  ValorDesp_2  PartDesp_1  PartDesp_2  Federacao  \\\n",
       "NumeroOrdem                                                                \n",
       "0.0                  4.0          3.0         3.0         3.0        1.0   \n",
       "1.0                  NaN          NaN         NaN         NaN        NaN   \n",
       "2.0                  3.0          5.0         4.0         5.0        1.0   \n",
       "3.0                  5.0          6.0         5.0         5.0        2.0   \n",
       "4.0                  3.0          4.0         4.0         5.0        1.0   \n",
       "5.0                  6.0          6.0         5.0         6.0        1.0   \n",
       "6.0                  NaN          NaN         NaN         NaN        NaN   \n",
       "7.0                  5.0          6.0         5.0         4.0        2.0   \n",
       "8.0                  5.0          5.0         1.0         3.0        1.0   \n",
       "9.0                  5.0          3.0         2.0         4.0        1.0   \n",
       "10.0                 5.0          6.0         4.0         3.0        2.0   \n",
       "11.0                 4.0          5.0         4.0         4.0        2.0   \n",
       "12.0                 5.0          5.0         4.0         4.0        1.0   \n",
       "13.0                 4.0          3.0         5.0         5.0        2.0   \n",
       "14.0                 4.0          5.0         4.0         5.0        2.0   \n",
       "15.0                 7.0          3.0         4.0         3.0        1.0   \n",
       "16.0                 3.0          4.0         4.0         4.0        1.0   \n",
       "17.0                 3.0          2.0         1.0         2.0        1.0   \n",
       "18.0                 4.0          2.0         3.0         5.0        2.0   \n",
       "19.0                 6.0          3.0         5.0         4.0        2.0   \n",
       "20.0                 5.0          5.0         5.0         5.0        2.0   \n",
       "21.0                 5.0          3.0         5.0         4.0        2.0   \n",
       "22.0                 6.0          6.0         4.0         4.0        2.0   \n",
       "23.0                 3.0          3.0         3.0         3.0        1.0   \n",
       "24.0                 5.0          6.0         3.0         5.0        2.0   \n",
       "25.0                 5.0          3.0         3.0         3.0        1.0   \n",
       "26.0                 3.0          5.0         4.0         3.0        2.0   \n",
       "27.0                 6.0          5.0         5.0         4.0        1.0   \n",
       "28.0                 5.0          4.0         4.0         4.0        1.0   \n",
       "29.0                 2.0          4.0         1.0         6.0        1.0   \n",
       "...                  ...          ...         ...         ...        ...   \n",
       "541.0                5.0          4.0         4.0         3.0        2.0   \n",
       "542.0                NaN          NaN         NaN         NaN        NaN   \n",
       "543.0                3.0          3.0         4.0         3.0        1.0   \n",
       "544.0                6.0          5.0         1.0         1.0        1.0   \n",
       "545.0                7.0          6.0         4.0         4.0        1.0   \n",
       "546.0                5.0          5.0         1.0         1.0        1.0   \n",
       "547.0                7.0          4.0         1.0         1.0        1.0   \n",
       "548.0                NaN          NaN         NaN         NaN        NaN   \n",
       "549.0                4.0          3.0         4.0         4.0        2.0   \n",
       "550.0                5.0          5.0         2.0         2.0        1.0   \n",
       "551.0                7.0          6.0         1.0         1.0        1.0   \n",
       "552.0                3.0          3.0         2.0         4.0        1.0   \n",
       "553.0                6.0          5.0         3.0         4.0        1.0   \n",
       "554.0                4.0          5.0         4.0         4.0        2.0   \n",
       "555.0                6.0          5.0         2.0         4.0        1.0   \n",
       "556.0                4.0          6.0         5.0         5.0        2.0   \n",
       "557.0                4.0          3.0         1.0         2.0        1.0   \n",
       "558.0                6.0          5.0         3.0         3.0        1.0   \n",
       "559.0                4.0          5.0         2.0         4.0        1.0   \n",
       "560.0                5.0          7.0         2.0         3.0        1.0   \n",
       "561.0                5.0          5.0         4.0         3.0        1.0   \n",
       "562.0                5.0          4.0         3.0         3.0        1.0   \n",
       "563.0                5.0          5.0         4.0         2.0        1.0   \n",
       "564.0                5.0          5.0         3.0         3.0        1.0   \n",
       "565.0                1.0          1.0         1.0         1.0        1.0   \n",
       "566.0                1.0          1.0         1.0         1.0        1.0   \n",
       "NaN                  NaN          NaN         NaN         NaN        NaN   \n",
       "NaN                  NaN          NaN         NaN         NaN        NaN   \n",
       "NaN                  NaN          NaN         NaN         NaN        NaN   \n",
       "NaN                  NaN          NaN         NaN         NaN        NaN   \n",
       "\n",
       "             BemEstarSubjetivo  Genero  Idade  EstadoCivil  Regiao  \n",
       "NumeroOrdem                                                         \n",
       "0.0                        8.0     1.0   19.0          1.0     3.0  \n",
       "1.0                        NaN     NaN    NaN          NaN     NaN  \n",
       "2.0                        6.0     2.0   21.0          1.0     4.0  \n",
       "3.0                        9.0     2.0   20.0          1.0     5.0  \n",
       "4.0                        5.0     2.0   20.0          1.0     3.0  \n",
       "5.0                       10.0     2.0   20.0          1.0     3.0  \n",
       "6.0                        NaN     NaN    NaN          NaN     NaN  \n",
       "7.0                       11.0     1.0   20.0          1.0     2.0  \n",
       "8.0                        7.0     NaN    NaN          NaN     NaN  \n",
       "9.0                        3.0     2.0   24.0          1.0     3.0  \n",
       "10.0                       8.0     1.0   25.0          1.0     3.0  \n",
       "11.0                       9.0     1.0   18.0          1.0     2.0  \n",
       "12.0                       9.0     1.0   24.0          1.0     3.0  \n",
       "13.0                      11.0     1.0   20.0          1.0     2.0  \n",
       "14.0                       8.0     1.0   25.0          1.0     3.0  \n",
       "15.0                       9.0     1.0   21.0          1.0     2.0  \n",
       "16.0                       7.0     2.0   30.0          1.0     3.0  \n",
       "17.0                      11.0     1.0   22.0          1.0     3.0  \n",
       "18.0                       7.0     1.0   19.0          1.0     2.0  \n",
       "19.0                       9.0     2.0   22.0          1.0     2.0  \n",
       "20.0                       9.0     1.0   22.0          1.0     4.0  \n",
       "21.0                       9.0     2.0   22.0          1.0     2.0  \n",
       "22.0                       8.0     1.0   30.0          1.0     2.0  \n",
       "23.0                       9.0     2.0   20.0          1.0     3.0  \n",
       "24.0                       9.0     1.0   20.0          1.0     2.0  \n",
       "25.0                       8.0     2.0   23.0          1.0     2.0  \n",
       "26.0                       6.0     1.0   19.0          1.0     3.0  \n",
       "27.0                       9.0     1.0   23.0          1.0     3.0  \n",
       "28.0                       8.0     1.0   23.0          1.0     2.0  \n",
       "29.0                      11.0     2.0   34.0          2.0     3.0  \n",
       "...                        ...     ...    ...          ...     ...  \n",
       "541.0                      9.0     2.0   49.0          2.0     3.0  \n",
       "542.0                      NaN     NaN    NaN          NaN     NaN  \n",
       "543.0                      7.0     2.0   44.0          1.0     3.0  \n",
       "544.0                      9.0     1.0   34.0          2.0     3.0  \n",
       "545.0                     11.0     1.0   31.0          4.0     3.0  \n",
       "546.0                      6.0     2.0   23.0          1.0     6.0  \n",
       "547.0                      9.0     2.0   38.0          4.0     3.0  \n",
       "548.0                      NaN     NaN    NaN          NaN     NaN  \n",
       "549.0                     11.0     2.0   24.0          1.0     2.0  \n",
       "550.0                     10.0     1.0   21.0          1.0     3.0  \n",
       "551.0                      7.0     2.0   26.0          1.0     3.0  \n",
       "552.0                      9.0     2.0   21.0          1.0     4.0  \n",
       "553.0                     11.0     2.0   22.0          1.0     3.0  \n",
       "554.0                      8.0     2.0   22.0          1.0     3.0  \n",
       "555.0                      8.0     2.0   26.0          1.0     3.0  \n",
       "556.0                      8.0     2.0   23.0          1.0     2.0  \n",
       "557.0                      7.0     1.0   23.0          1.0     2.0  \n",
       "558.0                     11.0     1.0   22.0          1.0     3.0  \n",
       "559.0                      6.0     2.0   23.0          4.0     3.0  \n",
       "560.0                     11.0     2.0   23.0          1.0     3.0  \n",
       "561.0                     11.0     2.0   21.0          1.0     3.0  \n",
       "562.0                      6.0     1.0   21.0          1.0     3.0  \n",
       "563.0                     11.0     1.0   99.0          1.0     3.0  \n",
       "564.0                      9.0     1.0   99.0          1.0     3.0  \n",
       "565.0                      NaN     1.0   99.0          1.0     7.0  \n",
       "566.0                      NaN     1.0   99.0          1.0     1.0  \n",
       "NaN                        NaN     NaN    NaN          NaN     NaN  \n",
       "NaN                        NaN     NaN    NaN          NaN     NaN  \n",
       "NaN                        NaN     NaN    NaN          NaN     NaN  \n",
       "NaN                        NaN     NaN    NaN          NaN     NaN  \n",
       "\n",
       "[571 rows x 10 columns]"
      ]
     },
     "execution_count": 5,
     "metadata": {},
     "output_type": "execute_result"
    }
   ],
   "source": [
    "dt"
   ]
  },
  {
   "cell_type": "code",
   "execution_count": 6,
   "metadata": {},
   "outputs": [
    {
     "data": {
      "text/plain": [
       "1.0    429\n",
       "2.0     37\n",
       "4.0     32\n",
       "3.0      5\n",
       "5.0      1\n",
       "Name: EstadoCivil, dtype: int64"
      ]
     },
     "execution_count": 6,
     "metadata": {},
     "output_type": "execute_result"
    }
   ],
   "source": [
    "dt.EstadoCivil.value_counts()"
   ]
  },
  {
   "cell_type": "code",
   "execution_count": 7,
   "metadata": {},
   "outputs": [
    {
     "data": {
      "text/plain": [
       "(571, 10)"
      ]
     },
     "execution_count": 7,
     "metadata": {},
     "output_type": "execute_result"
    }
   ],
   "source": [
    "dt.shape"
   ]
  },
  {
   "cell_type": "code",
   "execution_count": 8,
   "metadata": {},
   "outputs": [
    {
     "data": {
      "text/plain": [
       "Index(['ValorDesp_1', 'ValorDesp_2', 'PartDesp_1', 'PartDesp_2', 'Federacao',\n",
       "       'BemEstarSubjetivo', 'Genero', 'Idade', 'EstadoCivil', 'Regiao'],\n",
       "      dtype='object')"
      ]
     },
     "execution_count": 8,
     "metadata": {},
     "output_type": "execute_result"
    }
   ],
   "source": [
    "dt.columns"
   ]
  },
  {
   "cell_type": "markdown",
   "metadata": {},
   "source": [
    "## Limpar todas as linhas que têm nans"
   ]
  },
  {
   "cell_type": "code",
   "execution_count": 9,
   "metadata": {},
   "outputs": [],
   "source": [
    "dt.dropna(axis=0,how='any',inplace=True)"
   ]
  },
  {
   "cell_type": "code",
   "execution_count": 10,
   "metadata": {},
   "outputs": [
    {
     "data": {
      "text/html": [
       "<div>\n",
       "<style scoped>\n",
       "    .dataframe tbody tr th:only-of-type {\n",
       "        vertical-align: middle;\n",
       "    }\n",
       "\n",
       "    .dataframe tbody tr th {\n",
       "        vertical-align: top;\n",
       "    }\n",
       "\n",
       "    .dataframe thead th {\n",
       "        text-align: right;\n",
       "    }\n",
       "</style>\n",
       "<table border=\"1\" class=\"dataframe\">\n",
       "  <thead>\n",
       "    <tr style=\"text-align: right;\">\n",
       "      <th></th>\n",
       "      <th>ValorDesp_1</th>\n",
       "      <th>ValorDesp_2</th>\n",
       "      <th>PartDesp_1</th>\n",
       "      <th>PartDesp_2</th>\n",
       "      <th>Federacao</th>\n",
       "      <th>BemEstarSubjetivo</th>\n",
       "      <th>Genero</th>\n",
       "      <th>Idade</th>\n",
       "      <th>EstadoCivil</th>\n",
       "      <th>Regiao</th>\n",
       "    </tr>\n",
       "  </thead>\n",
       "  <tbody>\n",
       "    <tr>\n",
       "      <th>count</th>\n",
       "      <td>502.000000</td>\n",
       "      <td>502.000000</td>\n",
       "      <td>502.000000</td>\n",
       "      <td>502.000000</td>\n",
       "      <td>502.000000</td>\n",
       "      <td>502.000000</td>\n",
       "      <td>502.000000</td>\n",
       "      <td>502.000000</td>\n",
       "      <td>502.000000</td>\n",
       "      <td>502.000000</td>\n",
       "    </tr>\n",
       "    <tr>\n",
       "      <th>mean</th>\n",
       "      <td>5.404382</td>\n",
       "      <td>4.607570</td>\n",
       "      <td>2.830677</td>\n",
       "      <td>3.101594</td>\n",
       "      <td>1.151394</td>\n",
       "      <td>8.155378</td>\n",
       "      <td>1.326693</td>\n",
       "      <td>24.832669</td>\n",
       "      <td>1.292829</td>\n",
       "      <td>2.673307</td>\n",
       "    </tr>\n",
       "    <tr>\n",
       "      <th>std</th>\n",
       "      <td>1.111463</td>\n",
       "      <td>1.200209</td>\n",
       "      <td>1.271998</td>\n",
       "      <td>1.293172</td>\n",
       "      <td>0.358790</td>\n",
       "      <td>1.911140</td>\n",
       "      <td>0.469472</td>\n",
       "      <td>8.571636</td>\n",
       "      <td>0.796642</td>\n",
       "      <td>1.194149</td>\n",
       "    </tr>\n",
       "    <tr>\n",
       "      <th>min</th>\n",
       "      <td>1.000000</td>\n",
       "      <td>1.000000</td>\n",
       "      <td>1.000000</td>\n",
       "      <td>1.000000</td>\n",
       "      <td>1.000000</td>\n",
       "      <td>1.000000</td>\n",
       "      <td>1.000000</td>\n",
       "      <td>18.000000</td>\n",
       "      <td>1.000000</td>\n",
       "      <td>1.000000</td>\n",
       "    </tr>\n",
       "    <tr>\n",
       "      <th>25%</th>\n",
       "      <td>5.000000</td>\n",
       "      <td>4.000000</td>\n",
       "      <td>2.000000</td>\n",
       "      <td>2.000000</td>\n",
       "      <td>1.000000</td>\n",
       "      <td>7.000000</td>\n",
       "      <td>1.000000</td>\n",
       "      <td>20.000000</td>\n",
       "      <td>1.000000</td>\n",
       "      <td>2.000000</td>\n",
       "    </tr>\n",
       "    <tr>\n",
       "      <th>50%</th>\n",
       "      <td>6.000000</td>\n",
       "      <td>5.000000</td>\n",
       "      <td>3.000000</td>\n",
       "      <td>3.000000</td>\n",
       "      <td>1.000000</td>\n",
       "      <td>8.500000</td>\n",
       "      <td>1.000000</td>\n",
       "      <td>22.000000</td>\n",
       "      <td>1.000000</td>\n",
       "      <td>3.000000</td>\n",
       "    </tr>\n",
       "    <tr>\n",
       "      <th>75%</th>\n",
       "      <td>6.000000</td>\n",
       "      <td>5.000000</td>\n",
       "      <td>4.000000</td>\n",
       "      <td>4.000000</td>\n",
       "      <td>1.000000</td>\n",
       "      <td>9.000000</td>\n",
       "      <td>2.000000</td>\n",
       "      <td>25.000000</td>\n",
       "      <td>1.000000</td>\n",
       "      <td>3.000000</td>\n",
       "    </tr>\n",
       "    <tr>\n",
       "      <th>max</th>\n",
       "      <td>7.000000</td>\n",
       "      <td>7.000000</td>\n",
       "      <td>5.000000</td>\n",
       "      <td>6.000000</td>\n",
       "      <td>2.000000</td>\n",
       "      <td>11.000000</td>\n",
       "      <td>2.000000</td>\n",
       "      <td>99.000000</td>\n",
       "      <td>5.000000</td>\n",
       "      <td>7.000000</td>\n",
       "    </tr>\n",
       "  </tbody>\n",
       "</table>\n",
       "</div>"
      ],
      "text/plain": [
       "       ValorDesp_1  ValorDesp_2  PartDesp_1  PartDesp_2   Federacao  \\\n",
       "count   502.000000   502.000000  502.000000  502.000000  502.000000   \n",
       "mean      5.404382     4.607570    2.830677    3.101594    1.151394   \n",
       "std       1.111463     1.200209    1.271998    1.293172    0.358790   \n",
       "min       1.000000     1.000000    1.000000    1.000000    1.000000   \n",
       "25%       5.000000     4.000000    2.000000    2.000000    1.000000   \n",
       "50%       6.000000     5.000000    3.000000    3.000000    1.000000   \n",
       "75%       6.000000     5.000000    4.000000    4.000000    1.000000   \n",
       "max       7.000000     7.000000    5.000000    6.000000    2.000000   \n",
       "\n",
       "       BemEstarSubjetivo      Genero       Idade  EstadoCivil      Regiao  \n",
       "count         502.000000  502.000000  502.000000   502.000000  502.000000  \n",
       "mean            8.155378    1.326693   24.832669     1.292829    2.673307  \n",
       "std             1.911140    0.469472    8.571636     0.796642    1.194149  \n",
       "min             1.000000    1.000000   18.000000     1.000000    1.000000  \n",
       "25%             7.000000    1.000000   20.000000     1.000000    2.000000  \n",
       "50%             8.500000    1.000000   22.000000     1.000000    3.000000  \n",
       "75%             9.000000    2.000000   25.000000     1.000000    3.000000  \n",
       "max            11.000000    2.000000   99.000000     5.000000    7.000000  "
      ]
     },
     "execution_count": 10,
     "metadata": {},
     "output_type": "execute_result"
    }
   ],
   "source": [
    "dt.describe()"
   ]
  },
  {
   "cell_type": "markdown",
   "metadata": {},
   "source": [
    "## Existem nulos?"
   ]
  },
  {
   "cell_type": "code",
   "execution_count": 11,
   "metadata": {},
   "outputs": [
    {
     "data": {
      "text/plain": [
       "0"
      ]
     },
     "execution_count": 11,
     "metadata": {},
     "output_type": "execute_result"
    }
   ],
   "source": [
    "dt.isnull().any().sum()"
   ]
  },
  {
   "cell_type": "code",
   "execution_count": 12,
   "metadata": {},
   "outputs": [
    {
     "data": {
      "text/plain": [
       "(502, 10)"
      ]
     },
     "execution_count": 12,
     "metadata": {},
     "output_type": "execute_result"
    }
   ],
   "source": [
    "dt.shape"
   ]
  },
  {
   "cell_type": "code",
   "execution_count": 13,
   "metadata": {},
   "outputs": [
    {
     "data": {
      "text/plain": [
       "1.0    338\n",
       "2.0    164\n",
       "Name: Genero, dtype: int64"
      ]
     },
     "execution_count": 13,
     "metadata": {},
     "output_type": "execute_result"
    }
   ],
   "source": [
    "dt.Genero.value_counts()"
   ]
  },
  {
   "cell_type": "code",
   "execution_count": 14,
   "metadata": {},
   "outputs": [
    {
     "name": "stdout",
     "output_type": "stream",
     "text": [
      "Mulheres 0.6733067729083665\n",
      "Homenss 0.32669322709163345\n"
     ]
    }
   ],
   "source": [
    "print(\"Mulheres\",338/502)\n",
    "print(\"Homenss\",164/502)"
   ]
  },
  {
   "cell_type": "markdown",
   "metadata": {},
   "source": [
    "(1 = Single, not married; 2 = Couple; 3 = Divorcied; 4 = In union of fact; 5 = Widow)"
   ]
  },
  {
   "cell_type": "code",
   "execution_count": 15,
   "metadata": {},
   "outputs": [
    {
     "data": {
      "text/plain": [
       "0    427\n",
       "1     37\n",
       "2     32\n",
       "3      5\n",
       "4      1\n",
       "Name: EstadoCivil, dtype: int64"
      ]
     },
     "execution_count": 15,
     "metadata": {},
     "output_type": "execute_result"
    }
   ],
   "source": [
    "a = dt.EstadoCivil.value_counts()\n",
    "a=a.reset_index()\n",
    "a['EstadoCivil']"
   ]
  },
  {
   "cell_type": "code",
   "execution_count": 16,
   "metadata": {},
   "outputs": [],
   "source": [
    "a['perc']=a['EstadoCivil'].apply(lambda x: x/502)"
   ]
  },
  {
   "cell_type": "code",
   "execution_count": 17,
   "metadata": {},
   "outputs": [
    {
     "data": {
      "text/html": [
       "<div>\n",
       "<style scoped>\n",
       "    .dataframe tbody tr th:only-of-type {\n",
       "        vertical-align: middle;\n",
       "    }\n",
       "\n",
       "    .dataframe tbody tr th {\n",
       "        vertical-align: top;\n",
       "    }\n",
       "\n",
       "    .dataframe thead th {\n",
       "        text-align: right;\n",
       "    }\n",
       "</style>\n",
       "<table border=\"1\" class=\"dataframe\">\n",
       "  <thead>\n",
       "    <tr style=\"text-align: right;\">\n",
       "      <th></th>\n",
       "      <th>index</th>\n",
       "      <th>EstadoCivil</th>\n",
       "      <th>perc</th>\n",
       "    </tr>\n",
       "  </thead>\n",
       "  <tbody>\n",
       "    <tr>\n",
       "      <th>0</th>\n",
       "      <td>1.0</td>\n",
       "      <td>427</td>\n",
       "      <td>0.850598</td>\n",
       "    </tr>\n",
       "    <tr>\n",
       "      <th>1</th>\n",
       "      <td>2.0</td>\n",
       "      <td>37</td>\n",
       "      <td>0.073705</td>\n",
       "    </tr>\n",
       "    <tr>\n",
       "      <th>2</th>\n",
       "      <td>4.0</td>\n",
       "      <td>32</td>\n",
       "      <td>0.063745</td>\n",
       "    </tr>\n",
       "    <tr>\n",
       "      <th>3</th>\n",
       "      <td>3.0</td>\n",
       "      <td>5</td>\n",
       "      <td>0.009960</td>\n",
       "    </tr>\n",
       "    <tr>\n",
       "      <th>4</th>\n",
       "      <td>5.0</td>\n",
       "      <td>1</td>\n",
       "      <td>0.001992</td>\n",
       "    </tr>\n",
       "  </tbody>\n",
       "</table>\n",
       "</div>"
      ],
      "text/plain": [
       "   index  EstadoCivil      perc\n",
       "0    1.0          427  0.850598\n",
       "1    2.0           37  0.073705\n",
       "2    4.0           32  0.063745\n",
       "3    3.0            5  0.009960\n",
       "4    5.0            1  0.001992"
      ]
     },
     "execution_count": 17,
     "metadata": {},
     "output_type": "execute_result"
    }
   ],
   "source": [
    "a"
   ]
  },
  {
   "cell_type": "markdown",
   "metadata": {},
   "source": [
    "## Tipos de dados"
   ]
  },
  {
   "cell_type": "code",
   "execution_count": 18,
   "metadata": {},
   "outputs": [
    {
     "data": {
      "text/plain": [
       "ValorDesp_1          float64\n",
       "ValorDesp_2          float64\n",
       "PartDesp_1           float64\n",
       "PartDesp_2           float64\n",
       "Federacao            float64\n",
       "BemEstarSubjetivo    float64\n",
       "Genero               float64\n",
       "Idade                float64\n",
       "EstadoCivil          float64\n",
       "Regiao               float64\n",
       "dtype: object"
      ]
     },
     "execution_count": 18,
     "metadata": {},
     "output_type": "execute_result"
    }
   ],
   "source": [
    "dt.dtypes"
   ]
  },
  {
   "cell_type": "code",
   "execution_count": 19,
   "metadata": {},
   "outputs": [
    {
     "data": {
      "text/plain": [
       "Index(['ValorDesp_1', 'ValorDesp_2', 'PartDesp_1', 'PartDesp_2', 'Federacao',\n",
       "       'BemEstarSubjetivo', 'Genero', 'Idade', 'EstadoCivil', 'Regiao'],\n",
       "      dtype='object')"
      ]
     },
     "execution_count": 19,
     "metadata": {},
     "output_type": "execute_result"
    }
   ],
   "source": [
    "dt.columns"
   ]
  },
  {
   "cell_type": "markdown",
   "metadata": {},
   "source": [
    "## Substituir os nulos por mediana"
   ]
  },
  {
   "cell_type": "markdown",
   "metadata": {},
   "source": [
    "colunas=['ModalidadeInterese_1', 'ValorDesp_1', 'ValorDesp_2', 'PartDesp_1',\n",
    "       'PartDesp_2', 'Federacao', 'FederacaoModalidade', 'BemEstarSubjetivo',\n",
    "       'Genero', 'Idade', 'EstadoCivil', 'Regiao']\n",
    "for col in colunas:\n",
    "    dt[col].fillna(round(dt[col].median(),0), inplace=True)\n",
    "dt.head()"
   ]
  },
  {
   "cell_type": "markdown",
   "metadata": {},
   "source": [
    "dt['Instituicao'].unique()"
   ]
  },
  {
   "cell_type": "markdown",
   "metadata": {},
   "source": [
    "dt=pd.get_dummies(dt, columns=['Instituicao'])"
   ]
  },
  {
   "cell_type": "code",
   "execution_count": 20,
   "metadata": {},
   "outputs": [
    {
     "data": {
      "text/plain": [
       "Index(['ValorDesp_1', 'ValorDesp_2', 'PartDesp_1', 'PartDesp_2', 'Federacao',\n",
       "       'BemEstarSubjetivo', 'Genero', 'Idade', 'EstadoCivil', 'Regiao'],\n",
       "      dtype='object')"
      ]
     },
     "execution_count": 20,
     "metadata": {},
     "output_type": "execute_result"
    }
   ],
   "source": [
    "dt.columns"
   ]
  },
  {
   "cell_type": "code",
   "execution_count": 21,
   "metadata": {},
   "outputs": [
    {
     "name": "stdout",
     "output_type": "stream",
     "text": [
      "ValorDesp_1\n",
      "1.0      4\n",
      "2.0      2\n",
      "3.0     19\n",
      "4.0     72\n",
      "5.0    138\n",
      "6.0    199\n",
      "7.0     68\n",
      "Name: PartDesp_1, dtype: int64\n",
      "ValorDesp_2\n",
      "1.0      2\n",
      "2.0      4\n",
      "3.0    114\n",
      "4.0     88\n",
      "5.0    179\n",
      "6.0     91\n",
      "7.0     24\n",
      "Name: PartDesp_1, dtype: int64\n",
      "PartDesp_1\n",
      "1.0    106\n",
      "2.0     92\n",
      "3.0    130\n",
      "4.0    129\n",
      "5.0     45\n",
      "Name: ValorDesp_2, dtype: int64\n",
      "PartDesp_2\n",
      "1.0     72\n",
      "2.0     70\n",
      "3.0    182\n",
      "4.0    114\n",
      "5.0     41\n",
      "6.0     23\n",
      "Name: ValorDesp_2, dtype: int64\n",
      "Federacao\n",
      "1.0    426\n",
      "2.0     76\n",
      "Name: ValorDesp_2, dtype: int64\n",
      "BemEstarSubjetivo\n",
      "1.0       4\n",
      "2.0       4\n",
      "3.0       6\n",
      "4.0       8\n",
      "5.0      20\n",
      "6.0      46\n",
      "7.0      59\n",
      "8.0     104\n",
      "9.0     146\n",
      "10.0     58\n",
      "11.0     47\n",
      "Name: ValorDesp_2, dtype: int64\n",
      "Genero\n",
      "1.0    338\n",
      "2.0    164\n",
      "Name: ValorDesp_2, dtype: int64\n",
      "Idade\n",
      "18.0    19\n",
      "19.0    50\n",
      "20.0    77\n",
      "21.0    80\n",
      "22.0    55\n",
      "23.0    46\n",
      "24.0    33\n",
      "25.0    18\n",
      "26.0    16\n",
      "27.0    10\n",
      "28.0     4\n",
      "29.0     8\n",
      "30.0     7\n",
      "31.0     9\n",
      "32.0     3\n",
      "33.0     7\n",
      "34.0     8\n",
      "35.0     3\n",
      "36.0     4\n",
      "37.0     8\n",
      "38.0     4\n",
      "39.0     2\n",
      "40.0     1\n",
      "41.0     2\n",
      "42.0     3\n",
      "43.0     3\n",
      "44.0     3\n",
      "45.0     3\n",
      "46.0     2\n",
      "48.0     1\n",
      "49.0     5\n",
      "50.0     1\n",
      "51.0     1\n",
      "52.0     1\n",
      "56.0     2\n",
      "59.0     1\n",
      "99.0     2\n",
      "Name: ValorDesp_2, dtype: int64\n",
      "EstadoCivil\n",
      "1.0    427\n",
      "2.0     37\n",
      "3.0      5\n",
      "4.0     32\n",
      "5.0      1\n",
      "Name: ValorDesp_2, dtype: int64\n",
      "Regiao\n",
      "1.0     67\n",
      "2.0    162\n",
      "3.0    209\n",
      "4.0     26\n",
      "5.0     13\n",
      "6.0     20\n",
      "7.0      5\n",
      "Name: ValorDesp_2, dtype: int64\n"
     ]
    }
   ],
   "source": [
    "vars=['ValorDesp_1', 'ValorDesp_2', 'PartDesp_1', 'PartDesp_2', 'Federacao','BemEstarSubjetivo', 'Genero', 'Idade', 'EstadoCivil', 'Regiao']\n",
    "for var in vars:\n",
    "    print(dt.groupby(dt[var]).count().iloc[:,1])"
   ]
  },
  {
   "cell_type": "code",
   "execution_count": 22,
   "metadata": {},
   "outputs": [
    {
     "data": {
      "image/png": "[encoded data removed]",
      "text/plain": [
       "<Figure size 864x864 with 12 Axes>"
      ]
     },
     "metadata": {
      "needs_background": "light"
     },
     "output_type": "display_data"
    }
   ],
   "source": [
    "%matplotlib inline\n",
    "import matplotlib as plt\n",
    "plt.rcParams['figure.figsize']=[12,12]\n",
    "dt.hist();"
   ]
  },
  {
   "cell_type": "markdown",
   "metadata": {},
   "source": [
    "## Criar a variável dependente "
   ]
  },
  {
   "cell_type": "code",
   "execution_count": 23,
   "metadata": {},
   "outputs": [
    {
     "data": {
      "text/html": [
       "<div>\n",
       "<style scoped>\n",
       "    .dataframe tbody tr th:only-of-type {\n",
       "        vertical-align: middle;\n",
       "    }\n",
       "\n",
       "    .dataframe tbody tr th {\n",
       "        vertical-align: top;\n",
       "    }\n",
       "\n",
       "    .dataframe thead th {\n",
       "        text-align: right;\n",
       "    }\n",
       "</style>\n",
       "<table border=\"1\" class=\"dataframe\">\n",
       "  <thead>\n",
       "    <tr style=\"text-align: right;\">\n",
       "      <th></th>\n",
       "      <th>ValorDesp_1</th>\n",
       "      <th>ValorDesp_2</th>\n",
       "      <th>PartDesp_1</th>\n",
       "      <th>PartDesp_2</th>\n",
       "      <th>Federacao</th>\n",
       "      <th>BemEstarSubjetivo</th>\n",
       "      <th>Genero</th>\n",
       "      <th>Idade</th>\n",
       "      <th>EstadoCivil</th>\n",
       "      <th>Regiao</th>\n",
       "    </tr>\n",
       "    <tr>\n",
       "      <th>NumeroOrdem</th>\n",
       "      <th></th>\n",
       "      <th></th>\n",
       "      <th></th>\n",
       "      <th></th>\n",
       "      <th></th>\n",
       "      <th></th>\n",
       "      <th></th>\n",
       "      <th></th>\n",
       "      <th></th>\n",
       "      <th></th>\n",
       "    </tr>\n",
       "  </thead>\n",
       "  <tbody>\n",
       "    <tr>\n",
       "      <th>135.0</th>\n",
       "      <td>1.0</td>\n",
       "      <td>1.0</td>\n",
       "      <td>1.0</td>\n",
       "      <td>1.0</td>\n",
       "      <td>2.0</td>\n",
       "      <td>1.0</td>\n",
       "      <td>1.0</td>\n",
       "      <td>19.0</td>\n",
       "      <td>1.0</td>\n",
       "      <td>3.0</td>\n",
       "    </tr>\n",
       "    <tr>\n",
       "      <th>354.0</th>\n",
       "      <td>5.0</td>\n",
       "      <td>3.0</td>\n",
       "      <td>1.0</td>\n",
       "      <td>1.0</td>\n",
       "      <td>1.0</td>\n",
       "      <td>1.0</td>\n",
       "      <td>1.0</td>\n",
       "      <td>31.0</td>\n",
       "      <td>1.0</td>\n",
       "      <td>2.0</td>\n",
       "    </tr>\n",
       "    <tr>\n",
       "      <th>478.0</th>\n",
       "      <td>4.0</td>\n",
       "      <td>4.0</td>\n",
       "      <td>1.0</td>\n",
       "      <td>1.0</td>\n",
       "      <td>1.0</td>\n",
       "      <td>1.0</td>\n",
       "      <td>1.0</td>\n",
       "      <td>18.0</td>\n",
       "      <td>1.0</td>\n",
       "      <td>3.0</td>\n",
       "    </tr>\n",
       "    <tr>\n",
       "      <th>483.0</th>\n",
       "      <td>5.0</td>\n",
       "      <td>5.0</td>\n",
       "      <td>1.0</td>\n",
       "      <td>3.0</td>\n",
       "      <td>1.0</td>\n",
       "      <td>1.0</td>\n",
       "      <td>1.0</td>\n",
       "      <td>25.0</td>\n",
       "      <td>1.0</td>\n",
       "      <td>3.0</td>\n",
       "    </tr>\n",
       "  </tbody>\n",
       "</table>\n",
       "</div>"
      ],
      "text/plain": [
       "             ValorDesp_1  ValorDesp_2  PartDesp_1  PartDesp_2  Federacao  \\\n",
       "NumeroOrdem                                                                \n",
       "135.0                1.0          1.0         1.0         1.0        2.0   \n",
       "354.0                5.0          3.0         1.0         1.0        1.0   \n",
       "478.0                4.0          4.0         1.0         1.0        1.0   \n",
       "483.0                5.0          5.0         1.0         3.0        1.0   \n",
       "\n",
       "             BemEstarSubjetivo  Genero  Idade  EstadoCivil  Regiao  \n",
       "NumeroOrdem                                                         \n",
       "135.0                      1.0     1.0   19.0          1.0     3.0  \n",
       "354.0                      1.0     1.0   31.0          1.0     2.0  \n",
       "478.0                      1.0     1.0   18.0          1.0     3.0  \n",
       "483.0                      1.0     1.0   25.0          1.0     3.0  "
      ]
     },
     "execution_count": 23,
     "metadata": {},
     "output_type": "execute_result"
    }
   ],
   "source": [
    "dt.loc[dt['BemEstarSubjetivo']==1]"
   ]
  },
  {
   "cell_type": "markdown",
   "metadata": {},
   "source": [
    "## Dicotimizar Bem estar"
   ]
  },
  {
   "cell_type": "code",
   "execution_count": 24,
   "metadata": {},
   "outputs": [
    {
     "data": {
      "text/plain": [
       "array([ 8.,  6.,  9.,  5., 10., 11.,  3.,  7.,  1.,  4.,  2.])"
      ]
     },
     "execution_count": 24,
     "metadata": {},
     "output_type": "execute_result"
    }
   ],
   "source": [
    "dt['BemEstarSubjetivo'].unique()"
   ]
  },
  {
   "cell_type": "markdown",
   "metadata": {},
   "source": [
    "## Bem estar baixo"
   ]
  },
  {
   "cell_type": "code",
   "execution_count": 25,
   "metadata": {
    "collapsed": true,
    "jupyter": {
     "outputs_hidden": true
    }
   },
   "outputs": [],
   "source": [
    "dt.loc[dt['BemEstarSubjetivo']==1,'BemEstarSubjetivo']=0\n",
    "dt.loc[dt['BemEstarSubjetivo']==2,'BemEstarSubjetivo']=0\n",
    "dt.loc[dt['BemEstarSubjetivo']==3,'BemEstarSubjetivo']=0\n",
    "dt.loc[dt['BemEstarSubjetivo']==4,'BemEstarSubjetivo']=0\n",
    "dt.loc[dt['BemEstarSubjetivo']==5,'BemEstarSubjetivo']=0"
   ]
  },
  {
   "cell_type": "markdown",
   "metadata": {},
   "source": [
    "## Bem estar alto"
   ]
  },
  {
   "cell_type": "code",
   "execution_count": 26,
   "metadata": {
    "collapsed": true,
    "jupyter": {
     "outputs_hidden": true
    }
   },
   "outputs": [],
   "source": [
    "dt.loc[dt['BemEstarSubjetivo']==6,'BemEstarSubjetivo']=1\n",
    "dt.loc[dt['BemEstarSubjetivo']==7,'BemEstarSubjetivo']=1\n",
    "dt.loc[dt['BemEstarSubjetivo']==8,'BemEstarSubjetivo']=1\n",
    "dt.loc[dt['BemEstarSubjetivo']==9,'BemEstarSubjetivo']=1\n",
    "dt.loc[dt['BemEstarSubjetivo']==10,'BemEstarSubjetivo']=1\n",
    "dt.loc[dt['BemEstarSubjetivo']==11,'BemEstarSubjetivo']=1"
   ]
  },
  {
   "cell_type": "code",
   "execution_count": 27,
   "metadata": {},
   "outputs": [
    {
     "data": {
      "text/plain": [
       "array([1., 0.])"
      ]
     },
     "execution_count": 27,
     "metadata": {},
     "output_type": "execute_result"
    }
   ],
   "source": [
    "dt['BemEstarSubjetivo'].unique()"
   ]
  },
  {
   "cell_type": "markdown",
   "metadata": {},
   "source": [
    "## Quantos temos bem estar alto e baixo?"
   ]
  },
  {
   "cell_type": "code",
   "execution_count": 28,
   "metadata": {},
   "outputs": [
    {
     "data": {
      "text/plain": [
       "BemEstarSubjetivo\n",
       "0.0     42\n",
       "1.0    460\n",
       "Name: ValorDesp_2, dtype: int64"
      ]
     },
     "execution_count": 28,
     "metadata": {},
     "output_type": "execute_result"
    }
   ],
   "source": [
    "dt.groupby(dt.BemEstarSubjetivo).count().iloc[:,1]"
   ]
  },
  {
   "cell_type": "code",
   "execution_count": 29,
   "metadata": {},
   "outputs": [
    {
     "data": {
      "text/plain": [
       "Genero\n",
       "1.0    338\n",
       "2.0    164\n",
       "Name: ValorDesp_2, dtype: int64"
      ]
     },
     "execution_count": 29,
     "metadata": {},
     "output_type": "execute_result"
    }
   ],
   "source": [
    "dt.groupby(dt.Genero).count().iloc[:,1]"
   ]
  },
  {
   "cell_type": "code",
   "execution_count": 30,
   "metadata": {},
   "outputs": [],
   "source": [
    "X=dt.copy()\n",
    "y=dt['BemEstarSubjetivo']"
   ]
  },
  {
   "cell_type": "code",
   "execution_count": 31,
   "metadata": {},
   "outputs": [],
   "source": [
    "X.drop(['BemEstarSubjetivo'],axis=1,inplace=True)"
   ]
  },
  {
   "cell_type": "code",
   "execution_count": 32,
   "metadata": {},
   "outputs": [
    {
     "data": {
      "text/plain": [
       "Index(['ValorDesp_1', 'ValorDesp_2', 'PartDesp_1', 'PartDesp_2', 'Federacao',\n",
       "       'Genero', 'Idade', 'EstadoCivil', 'Regiao'],\n",
       "      dtype='object')"
      ]
     },
     "execution_count": 32,
     "metadata": {},
     "output_type": "execute_result"
    }
   ],
   "source": [
    "X.columns"
   ]
  },
  {
   "cell_type": "code",
   "execution_count": 33,
   "metadata": {},
   "outputs": [
    {
     "data": {
      "text/html": [
       "<div>\n",
       "<style scoped>\n",
       "    .dataframe tbody tr th:only-of-type {\n",
       "        vertical-align: middle;\n",
       "    }\n",
       "\n",
       "    .dataframe tbody tr th {\n",
       "        vertical-align: top;\n",
       "    }\n",
       "\n",
       "    .dataframe thead th {\n",
       "        text-align: right;\n",
       "    }\n",
       "</style>\n",
       "<table border=\"1\" class=\"dataframe\">\n",
       "  <thead>\n",
       "    <tr style=\"text-align: right;\">\n",
       "      <th></th>\n",
       "      <th>ValorDesp_1</th>\n",
       "      <th>ValorDesp_2</th>\n",
       "      <th>PartDesp_1</th>\n",
       "      <th>PartDesp_2</th>\n",
       "      <th>Federacao</th>\n",
       "      <th>Genero</th>\n",
       "      <th>Idade</th>\n",
       "      <th>EstadoCivil</th>\n",
       "      <th>Regiao</th>\n",
       "    </tr>\n",
       "    <tr>\n",
       "      <th>NumeroOrdem</th>\n",
       "      <th></th>\n",
       "      <th></th>\n",
       "      <th></th>\n",
       "      <th></th>\n",
       "      <th></th>\n",
       "      <th></th>\n",
       "      <th></th>\n",
       "      <th></th>\n",
       "      <th></th>\n",
       "    </tr>\n",
       "  </thead>\n",
       "  <tbody>\n",
       "    <tr>\n",
       "      <th>0.0</th>\n",
       "      <td>4.0</td>\n",
       "      <td>3.0</td>\n",
       "      <td>3.0</td>\n",
       "      <td>3.0</td>\n",
       "      <td>1.0</td>\n",
       "      <td>1.0</td>\n",
       "      <td>19.0</td>\n",
       "      <td>1.0</td>\n",
       "      <td>3.0</td>\n",
       "    </tr>\n",
       "    <tr>\n",
       "      <th>2.0</th>\n",
       "      <td>3.0</td>\n",
       "      <td>5.0</td>\n",
       "      <td>4.0</td>\n",
       "      <td>5.0</td>\n",
       "      <td>1.0</td>\n",
       "      <td>2.0</td>\n",
       "      <td>21.0</td>\n",
       "      <td>1.0</td>\n",
       "      <td>4.0</td>\n",
       "    </tr>\n",
       "    <tr>\n",
       "      <th>3.0</th>\n",
       "      <td>5.0</td>\n",
       "      <td>6.0</td>\n",
       "      <td>5.0</td>\n",
       "      <td>5.0</td>\n",
       "      <td>2.0</td>\n",
       "      <td>2.0</td>\n",
       "      <td>20.0</td>\n",
       "      <td>1.0</td>\n",
       "      <td>5.0</td>\n",
       "    </tr>\n",
       "    <tr>\n",
       "      <th>4.0</th>\n",
       "      <td>3.0</td>\n",
       "      <td>4.0</td>\n",
       "      <td>4.0</td>\n",
       "      <td>5.0</td>\n",
       "      <td>1.0</td>\n",
       "      <td>2.0</td>\n",
       "      <td>20.0</td>\n",
       "      <td>1.0</td>\n",
       "      <td>3.0</td>\n",
       "    </tr>\n",
       "    <tr>\n",
       "      <th>5.0</th>\n",
       "      <td>6.0</td>\n",
       "      <td>6.0</td>\n",
       "      <td>5.0</td>\n",
       "      <td>6.0</td>\n",
       "      <td>1.0</td>\n",
       "      <td>2.0</td>\n",
       "      <td>20.0</td>\n",
       "      <td>1.0</td>\n",
       "      <td>3.0</td>\n",
       "    </tr>\n",
       "  </tbody>\n",
       "</table>\n",
       "</div>"
      ],
      "text/plain": [
       "             ValorDesp_1  ValorDesp_2  PartDesp_1  PartDesp_2  Federacao  \\\n",
       "NumeroOrdem                                                                \n",
       "0.0                  4.0          3.0         3.0         3.0        1.0   \n",
       "2.0                  3.0          5.0         4.0         5.0        1.0   \n",
       "3.0                  5.0          6.0         5.0         5.0        2.0   \n",
       "4.0                  3.0          4.0         4.0         5.0        1.0   \n",
       "5.0                  6.0          6.0         5.0         6.0        1.0   \n",
       "\n",
       "             Genero  Idade  EstadoCivil  Regiao  \n",
       "NumeroOrdem                                      \n",
       "0.0             1.0   19.0          1.0     3.0  \n",
       "2.0             2.0   21.0          1.0     4.0  \n",
       "3.0             2.0   20.0          1.0     5.0  \n",
       "4.0             2.0   20.0          1.0     3.0  \n",
       "5.0             2.0   20.0          1.0     3.0  "
      ]
     },
     "execution_count": 33,
     "metadata": {},
     "output_type": "execute_result"
    }
   ],
   "source": [
    "X.head()"
   ]
  },
  {
   "cell_type": "markdown",
   "metadata": {},
   "source": [
    "## Previsão"
   ]
  },
  {
   "cell_type": "code",
   "execution_count": 36,
   "metadata": {},
   "outputs": [
    {
     "data": {
      "text/plain": [
       "Index(['ValorDesp_1', 'ValorDesp_2', 'PartDesp_1', 'PartDesp_2'], dtype='object')"
      ]
     },
     "execution_count": 36,
     "metadata": {},
     "output_type": "execute_result"
    }
   ],
   "source": [
    "X.columns"
   ]
  },
  {
   "cell_type": "markdown",
   "metadata": {},
   "source": [
    "Vamos reduzir as colunas para 'ValorDesp_1', 'ValorDesp_2', 'PartDesp_1', 'PartDesp_2'"
   ]
  },
  {
   "cell_type": "code",
   "execution_count": 35,
   "metadata": {},
   "outputs": [],
   "source": [
    "X = X[['ValorDesp_1', 'ValorDesp_2', 'PartDesp_1', 'PartDesp_2']]"
   ]
  },
  {
   "cell_type": "code",
   "execution_count": 37,
   "metadata": {},
   "outputs": [
    {
     "data": {
      "text/plain": [
       "351.4"
      ]
     },
     "execution_count": 37,
     "metadata": {},
     "output_type": "execute_result"
    }
   ],
   "source": [
    "dt.BemEstarSubjetivo.count()*0.7"
   ]
  },
  {
   "cell_type": "code",
   "execution_count": 38,
   "metadata": {},
   "outputs": [
    {
     "data": {
      "text/plain": [
       "150.6"
      ]
     },
     "execution_count": 38,
     "metadata": {},
     "output_type": "execute_result"
    }
   ],
   "source": [
    "dt.BemEstarSubjetivo.count()*0.3"
   ]
  },
  {
   "cell_type": "code",
   "execution_count": 39,
   "metadata": {},
   "outputs": [
    {
     "data": {
      "text/plain": [
       "1.0    460\n",
       "0.0     42\n",
       "Name: BemEstarSubjetivo, dtype: int64"
      ]
     },
     "execution_count": 39,
     "metadata": {},
     "output_type": "execute_result"
    }
   ],
   "source": [
    "dt.BemEstarSubjetivo.value_counts()"
   ]
  },
  {
   "cell_type": "code",
   "execution_count": 40,
   "metadata": {},
   "outputs": [
    {
     "data": {
      "text/plain": [
       "3.0    130\n",
       "4.0    129\n",
       "1.0    106\n",
       "2.0     92\n",
       "5.0     45\n",
       "Name: PartDesp_1, dtype: int64"
      ]
     },
     "execution_count": 40,
     "metadata": {},
     "output_type": "execute_result"
    }
   ],
   "source": [
    "dt.PartDesp_1.value_counts()"
   ]
  },
  {
   "cell_type": "markdown",
   "metadata": {},
   "source": [
    "## Vários algoritmos"
   ]
  },
  {
   "cell_type": "markdown",
   "metadata": {},
   "source": [
    "1. Introdução\n",
    "2. Metodologia"
   ]
  },
  {
   "cell_type": "code",
   "execution_count": 41,
   "metadata": {},
   "outputs": [
    {
     "name": "stdout",
     "output_type": "stream",
     "text": [
      "$\\log_{10}\n"
     ]
    }
   ],
   "source": [
    "print('$\\log_{10}')\n"
   ]
  },
  {
   "cell_type": "code",
   "execution_count": 42,
   "metadata": {},
   "outputs": [],
   "source": [
    "from sklearn.linear_model import LogisticRegression\n",
    "from sklearn.tree import DecisionTreeClassifier\n",
    "from sklearn.ensemble import RandomForestClassifier\n",
    "from sklearn.ensemble import GradientBoostingClassifier\n",
    "\n",
    "models = []\n",
    "#models.append(('LR', LogisticRegression()))\n",
    "models.append(('DT', DecisionTreeClassifier()))\n",
    "models.append(('RFC', RandomForestClassifier()))\n",
    "models.append(('GBC', GradientBoostingClassifier()))"
   ]
  },
  {
   "cell_type": "code",
   "execution_count": 43,
   "metadata": {},
   "outputs": [
    {
     "data": {
      "text/plain": [
       "Index(['ValorDesp_1', 'ValorDesp_2', 'PartDesp_1', 'PartDesp_2'], dtype='object')"
      ]
     },
     "execution_count": 43,
     "metadata": {},
     "output_type": "execute_result"
    }
   ],
   "source": [
    "X.columns"
   ]
  },
  {
   "cell_type": "code",
   "execution_count": 44,
   "metadata": {},
   "outputs": [],
   "source": [
    "X.columns=['SportValue_1', 'SportValue_2', 'SportPart_1', 'SportPart_2']"
   ]
  },
  {
   "cell_type": "code",
   "execution_count": 49,
   "metadata": {},
   "outputs": [
    {
     "name": "stdout",
     "output_type": "stream",
     "text": [
      "DecisionTreeClassifier(class_weight=None, criterion='gini', max_depth=None,\n",
      "                       max_features=None, max_leaf_nodes=None,\n",
      "                       min_impurity_decrease=0.0, min_impurity_split=None,\n",
      "                       min_samples_leaf=1, min_samples_split=2,\n",
      "                       min_weight_fraction_leaf=0.0, presort=False,\n",
      "                       random_state=None, splitter='best')\n",
      "              precision    recall  f1-score   support\n",
      "\n",
      "         0.0       0.17      0.17      0.17        12\n",
      "         1.0       0.91      0.91      0.91       114\n",
      "\n",
      "    accuracy                           0.84       126\n",
      "   macro avg       0.54      0.54      0.54       126\n",
      "weighted avg       0.84      0.84      0.84       126\n",
      "\n",
      "[[  2  10]\n",
      " [ 10 104]]\n",
      "duracao: 0.018988609313964844\n",
      "Features sorted by their score:\n",
      "[(0.3, 'SportPart_2'), (0.26, 'SportValue_2'), (0.24, 'SportPart_1'), (0.2, 'SportValue_1')]\n",
      "RandomForestClassifier(bootstrap=True, class_weight=None, criterion='gini',\n",
      "                       max_depth=None, max_features='auto', max_leaf_nodes=None,\n",
      "                       min_impurity_decrease=0.0, min_impurity_split=None,\n",
      "                       min_samples_leaf=1, min_samples_split=2,\n",
      "                       min_weight_fraction_leaf=0.0, n_estimators='warn',\n",
      "                       n_jobs=None, oob_score=False, random_state=None,\n",
      "                       verbose=0, warm_start=False)\n",
      "              precision    recall  f1-score   support\n",
      "\n",
      "         0.0       0.20      0.08      0.12        12\n",
      "         1.0       0.91      0.96      0.94       114\n",
      "\n",
      "    accuracy                           0.88       126\n",
      "   macro avg       0.55      0.52      0.53       126\n",
      "weighted avg       0.84      0.88      0.86       126\n",
      "\n",
      "[[  1  11]\n",
      " [  4 110]]\n",
      "duracao: 0.03797483444213867\n",
      "Features sorted by their score:\n",
      "[(0.28, 'SportValue_2'), (0.27, 'SportPart_2'), (0.26, 'SportPart_1'), (0.19, 'SportValue_1')]\n"
     ]
    },
    {
     "name": "stderr",
     "output_type": "stream",
     "text": [
      "C:\\Users\\user\\Anaconda3\\lib\\site-packages\\sklearn\\ensemble\\forest.py:245: FutureWarning: The default value of n_estimators will change from 10 in version 0.20 to 100 in 0.22.\n",
      "  \"10 in version 0.20 to 100 in 0.22.\", FutureWarning)\n"
     ]
    },
    {
     "name": "stdout",
     "output_type": "stream",
     "text": [
      "GradientBoostingClassifier(criterion='friedman_mse', init=None,\n",
      "                           learning_rate=0.1, loss='deviance', max_depth=3,\n",
      "                           max_features=None, max_leaf_nodes=None,\n",
      "                           min_impurity_decrease=0.0, min_impurity_split=None,\n",
      "                           min_samples_leaf=1, min_samples_split=2,\n",
      "                           min_weight_fraction_leaf=0.0, n_estimators=100,\n",
      "                           n_iter_no_change=None, presort='auto',\n",
      "                           random_state=None, subsample=1.0, tol=0.0001,\n",
      "                           validation_fraction=0.1, verbose=0,\n",
      "                           warm_start=False)\n",
      "              precision    recall  f1-score   support\n",
      "\n",
      "         0.0       0.00      0.00      0.00        12\n",
      "         1.0       0.90      1.00      0.95       114\n",
      "\n",
      "    accuracy                           0.90       126\n",
      "   macro avg       0.45      0.50      0.48       126\n",
      "weighted avg       0.82      0.90      0.86       126\n",
      "\n",
      "[[  0  12]\n",
      " [  0 114]]\n",
      "duracao: 0.14691710472106934\n",
      "Features sorted by their score:\n",
      "[(0.31, 'SportPart_1'), (0.29, 'SportValue_1'), (0.22, 'SportPart_2'), (0.18, 'SportValue_2')]\n",
      "  Nome  Exatidão\n",
      "0   DT  0.841270\n",
      "1  RFC  0.880952\n",
      "2  GBC  0.904762\n",
      "duracao: 0.15391206741333008\n"
     ]
    },
    {
     "name": "stderr",
     "output_type": "stream",
     "text": [
      "C:\\Users\\user\\Anaconda3\\lib\\site-packages\\sklearn\\metrics\\classification.py:1437: UndefinedMetricWarning: Precision and F-score are ill-defined and being set to 0.0 in labels with no predicted samples.\n",
      "  'precision', 'predicted', average, warn_for)\n"
     ]
    }
   ],
   "source": [
    "from sklearn.model_selection import train_test_split\n",
    "from sklearn.model_selection import cross_val_score\n",
    "from sklearn.metrics import accuracy_score\n",
    "from sklearn import metrics\n",
    "import time\n",
    "\n",
    "import graphviz\n",
    "import pydotplus\n",
    "from sklearn.externals.six import StringIO  \n",
    "from sklearn.tree import export_graphviz\n",
    "from IPython.display import Image  \n",
    "\n",
    "X_train, X_test, y_train, y_test = train_test_split(X, y, random_state=0)\n",
    "names = []\n",
    "scores = []\n",
    "\n",
    "tInicial = time.time()\n",
    "for name, model in models:\n",
    "    t0 = time.time()\n",
    "    # Colocar o tempo de execução de cada algoritmo t_inicio = \n",
    "    print(model)\n",
    "    if name == 'DT':\n",
    "        model = DecisionTreeClassifier()\n",
    "    if name == 'RFC':\n",
    "        model = RandomForestClassifier()\n",
    "    if name == 'GBC':\n",
    "        model = GradientBoostingClassifier()\n",
    "        \n",
    "    model.fit(X_train, y_train)\n",
    "    y_pred = model.predict(X_test)\n",
    "    print(metrics.classification_report(y_test, y_pred))\n",
    "    print(metrics.confusion_matrix(y_test, y_pred))\n",
    "\n",
    "    scores.append(accuracy_score(y_test, y_pred))\n",
    "    names.append(name)\n",
    "    \n",
    "    t1 = time.time()\n",
    "    total = t1-t0\n",
    "    print('duracao:',total)\n",
    "    print(\"Features sorted by their score:\")\n",
    "    print(sorted(zip(map(lambda x: float(\"{0:.2f}\".format(round(x, 4))), model.feature_importances_), X_train.columns),reverse=True))\n",
    "    if (name == 'DT'):\n",
    "        dot_data = StringIO()\n",
    "        export_graphviz(model, out_file=dot_data, feature_names=X.columns, class_names=X.columns,\n",
    "                        filled=False, rounded=True,\n",
    "                        special_characters=True)\n",
    "        graph = pydotplus.graph_from_dot_data(dot_data.getvalue()) \n",
    "\n",
    "        graph.write_png(str(name)+'_arvore.png')\n",
    "        #graph.write_png('DT_arvore.png')\n",
    "        Image(graph.create_png())\n",
    "    if (name == 'RFC'):\n",
    "        dot_data = StringIO()\n",
    "        for i in range(10):\n",
    "            estimator = model.estimators_[i]\n",
    "            dot_data = export_graphviz(estimator, out_file=None, feature_names=X.columns,class_names=X.columns,rounded=True)\n",
    "            graph = pydotplus.graph_from_dot_data(dot_data)  \n",
    "            graph.write_png(str(name)+'_'+str(i)+'_arvore.png')\n",
    "            Image(graph.create_png())\n",
    "    if (name == 'DTC'):\n",
    "        dot_data = StringIO()\n",
    "        sub_tree_42 = model.estimators_[98, 0]\n",
    "        export_graphviz(sub_tree_42, \n",
    "                        out_file=dot_data, \n",
    "                        feature_names=X.columns, class_names=X.columns,\n",
    "                        filled=False, rounded=True,\n",
    "                        special_characters=True)\n",
    "        graph = pydotplus.graph_from_dot_data(dot_data.getvalue()) \n",
    "        graph.write_png(str(name)+'_arvore.png')\n",
    "        Image(graph.create_png())\n",
    "        \n",
    "tr_split = pd.DataFrame({'Nome': names, 'Exatidão': scores})\n",
    "print(tr_split)\n",
    "\n",
    "tFinal = time.time()\n",
    "total = tFinal-t0\n",
    "print('duracao:',total)"
   ]
  },
  {
   "cell_type": "code",
   "execution_count": 50,
   "metadata": {},
   "outputs": [
    {
     "name": "stderr",
     "output_type": "stream",
     "text": [
      "C:\\Users\\user\\Anaconda3\\lib\\site-packages\\sklearn\\metrics\\classification.py:1437: UndefinedMetricWarning: Precision and F-score are ill-defined and being set to 0.0 in labels with no predicted samples.\n",
      "  'precision', 'predicted', average, warn_for)\n"
     ]
    },
    {
     "name": "stdout",
     "output_type": "stream",
     "text": [
      "              precision    recall  f1-score   support\n",
      "\n",
      "         0.0       0.00      0.00      0.00        12\n",
      "         1.0       0.90      1.00      0.95       114\n",
      "\n",
      "    accuracy                           0.90       126\n",
      "   macro avg       0.45      0.50      0.48       126\n",
      "weighted avg       0.82      0.90      0.86       126\n",
      "\n",
      "[[  0  12]\n",
      " [  0 114]]\n"
     ]
    },
    {
     "data": {
      "image/png": "[encoded data removed]",
      "text/plain": [
       "<IPython.core.display.Image object>"
      ]
     },
     "execution_count": 50,
     "metadata": {},
     "output_type": "execute_result"
    }
   ],
   "source": [
    "model = GradientBoostingClassifier(max_depth=2)\n",
    "\n",
    "model.fit(X_train, y_train)\n",
    "y_pred = model.predict(X_test)\n",
    "print(metrics.classification_report(y_test, y_pred))\n",
    "print(metrics.confusion_matrix(y_test, y_pred))\n",
    "\n",
    "dot_data = StringIO()\n",
    "sub_tree_42 = model.estimators_[0, 0]\n",
    "export_graphviz(sub_tree_42, \n",
    "                out_file=dot_data, \n",
    "                feature_names=X.columns, class_names=X.columns,\n",
    "                filled=False, rounded=True,\n",
    "                special_characters=True)\n",
    "graph = pydotplus.graph_from_dot_data(dot_data.getvalue()) \n",
    "#graph.write_png(name+'_arvore.png')\n",
    "Image(graph.create_png())"
   ]
  },
  {
   "cell_type": "code",
   "execution_count": 51,
   "metadata": {},
   "outputs": [
    {
     "data": {
      "text/plain": [
       "DecisionTreeRegressor(criterion='friedman_mse', max_depth=2, max_features=None,\n",
       "                      max_leaf_nodes=None, min_impurity_decrease=0.0,\n",
       "                      min_impurity_split=None, min_samples_leaf=1,\n",
       "                      min_samples_split=2, min_weight_fraction_leaf=0.0,\n",
       "                      presort='auto',\n",
       "                      random_state=<mtrand.RandomState object at 0x000001C890F31750>,\n",
       "                      splitter='best')"
      ]
     },
     "execution_count": 51,
     "metadata": {},
     "output_type": "execute_result"
    }
   ],
   "source": [
    "model.estimators_[98,0]"
   ]
  },
  {
   "cell_type": "code",
   "execution_count": 52,
   "metadata": {},
   "outputs": [
    {
     "data": {
      "text/plain": [
       "100"
      ]
     },
     "execution_count": 52,
     "metadata": {},
     "output_type": "execute_result"
    }
   ],
   "source": [
    "len(model.estimators_)"
   ]
  },
  {
   "cell_type": "code",
   "execution_count": 53,
   "metadata": {},
   "outputs": [
    {
     "data": {
      "text/plain": [
       "100"
      ]
     },
     "execution_count": 53,
     "metadata": {},
     "output_type": "execute_result"
    }
   ],
   "source": [
    "len(model.estimators_)"
   ]
  },
  {
   "cell_type": "code",
   "execution_count": 54,
   "metadata": {},
   "outputs": [
    {
     "data": {
      "text/plain": [
       "array([DecisionTreeRegressor(criterion='friedman_mse', max_depth=2, max_features=None,\n",
       "                      max_leaf_nodes=None, min_impurity_decrease=0.0,\n",
       "                      min_impurity_split=None, min_samples_leaf=1,\n",
       "                      min_samples_split=2, min_weight_fraction_leaf=0.0,\n",
       "                      presort='auto',\n",
       "                      random_state=<mtrand.RandomState object at 0x000001C890F31750>,\n",
       "                      splitter='best')], dtype=object)"
      ]
     },
     "execution_count": 54,
     "metadata": {},
     "output_type": "execute_result"
    }
   ],
   "source": [
    "model.estimators_[4]"
   ]
  },
  {
   "cell_type": "code",
   "execution_count": 55,
   "metadata": {},
   "outputs": [
    {
     "data": {
      "image/png": "[encoded data removed]",
      "text/plain": [
       "<Figure size 432x288 with 1 Axes>"
      ]
     },
     "metadata": {
      "needs_background": "light"
     },
     "output_type": "display_data"
    }
   ],
   "source": [
    "%matplotlib inline\n",
    "import seaborn as sns\n",
    "import matplotlib.pyplot as plt\n",
    "axis = sns.barplot(x = 'Nome', y = 'Exatidão', data = tr_split)\n",
    "axis.set(xlabel='Train/Test', ylabel='Exatidão')\n",
    "for p in axis.patches:\n",
    "    height = p.get_height()\n",
    "    axis.text(p.get_x() + p.get_width()/2, height + 0.005, '{:1.4f}'.format(height), ha=\"center\") \n",
    "    \n",
    "plt.show()"
   ]
  },
  {
   "cell_type": "markdown",
   "metadata": {},
   "source": [
    "## KFold"
   ]
  },
  {
   "cell_type": "code",
   "execution_count": 56,
   "metadata": {},
   "outputs": [
    {
     "name": "stdout",
     "output_type": "stream",
     "text": [
      "DecisionTreeClassifier(class_weight=None, criterion='gini', max_depth=None,\n",
      "                       max_features=None, max_leaf_nodes=None,\n",
      "                       min_impurity_decrease=0.0, min_impurity_split=None,\n",
      "                       min_samples_leaf=1, min_samples_split=2,\n",
      "                       min_weight_fraction_leaf=0.0, presort=False,\n",
      "                       random_state=None, splitter='best')\n",
      "duracao: 0.08294796943664551\n",
      "Features sorted by their score:\n",
      "[(0.36, 'SportValue_2'), (0.26, 'SportPart_2'), (0.21, 'SportPart_1'), (0.17, 'SportValue_1')]\n"
     ]
    },
    {
     "name": "stderr",
     "output_type": "stream",
     "text": [
      "C:\\Users\\user\\Anaconda3\\lib\\site-packages\\sklearn\\ensemble\\forest.py:245: FutureWarning: The default value of n_estimators will change from 10 in version 0.20 to 100 in 0.22.\n",
      "  \"10 in version 0.20 to 100 in 0.22.\", FutureWarning)\n",
      "C:\\Users\\user\\Anaconda3\\lib\\site-packages\\sklearn\\ensemble\\forest.py:245: FutureWarning: The default value of n_estimators will change from 10 in version 0.20 to 100 in 0.22.\n",
      "  \"10 in version 0.20 to 100 in 0.22.\", FutureWarning)\n",
      "C:\\Users\\user\\Anaconda3\\lib\\site-packages\\sklearn\\ensemble\\forest.py:245: FutureWarning: The default value of n_estimators will change from 10 in version 0.20 to 100 in 0.22.\n",
      "  \"10 in version 0.20 to 100 in 0.22.\", FutureWarning)\n",
      "C:\\Users\\user\\Anaconda3\\lib\\site-packages\\sklearn\\ensemble\\forest.py:245: FutureWarning: The default value of n_estimators will change from 10 in version 0.20 to 100 in 0.22.\n",
      "  \"10 in version 0.20 to 100 in 0.22.\", FutureWarning)\n",
      "C:\\Users\\user\\Anaconda3\\lib\\site-packages\\sklearn\\ensemble\\forest.py:245: FutureWarning: The default value of n_estimators will change from 10 in version 0.20 to 100 in 0.22.\n",
      "  \"10 in version 0.20 to 100 in 0.22.\", FutureWarning)\n",
      "C:\\Users\\user\\Anaconda3\\lib\\site-packages\\sklearn\\ensemble\\forest.py:245: FutureWarning: The default value of n_estimators will change from 10 in version 0.20 to 100 in 0.22.\n",
      "  \"10 in version 0.20 to 100 in 0.22.\", FutureWarning)\n",
      "C:\\Users\\user\\Anaconda3\\lib\\site-packages\\sklearn\\ensemble\\forest.py:245: FutureWarning: The default value of n_estimators will change from 10 in version 0.20 to 100 in 0.22.\n",
      "  \"10 in version 0.20 to 100 in 0.22.\", FutureWarning)\n",
      "C:\\Users\\user\\Anaconda3\\lib\\site-packages\\sklearn\\ensemble\\forest.py:245: FutureWarning: The default value of n_estimators will change from 10 in version 0.20 to 100 in 0.22.\n",
      "  \"10 in version 0.20 to 100 in 0.22.\", FutureWarning)\n",
      "C:\\Users\\user\\Anaconda3\\lib\\site-packages\\sklearn\\ensemble\\forest.py:245: FutureWarning: The default value of n_estimators will change from 10 in version 0.20 to 100 in 0.22.\n",
      "  \"10 in version 0.20 to 100 in 0.22.\", FutureWarning)\n",
      "C:\\Users\\user\\Anaconda3\\lib\\site-packages\\sklearn\\ensemble\\forest.py:245: FutureWarning: The default value of n_estimators will change from 10 in version 0.20 to 100 in 0.22.\n",
      "  \"10 in version 0.20 to 100 in 0.22.\", FutureWarning)\n",
      "C:\\Users\\user\\Anaconda3\\lib\\site-packages\\sklearn\\ensemble\\forest.py:245: FutureWarning: The default value of n_estimators will change from 10 in version 0.20 to 100 in 0.22.\n",
      "  \"10 in version 0.20 to 100 in 0.22.\", FutureWarning)\n"
     ]
    },
    {
     "name": "stdout",
     "output_type": "stream",
     "text": [
      "RandomForestClassifier(bootstrap=True, class_weight=None, criterion='gini',\n",
      "                       max_depth=None, max_features='auto', max_leaf_nodes=None,\n",
      "                       min_impurity_decrease=0.0, min_impurity_split=None,\n",
      "                       min_samples_leaf=1, min_samples_split=2,\n",
      "                       min_weight_fraction_leaf=0.0, n_estimators='warn',\n",
      "                       n_jobs=None, oob_score=False, random_state=None,\n",
      "                       verbose=0, warm_start=False)\n",
      "duracao: 0.26883697509765625\n",
      "Features sorted by their score:\n",
      "[(0.29, 'SportValue_2'), (0.28, 'SportPart_2'), (0.23, 'SportPart_1'), (0.2, 'SportValue_1')]\n",
      "GradientBoostingClassifier(criterion='friedman_mse', init=None,\n",
      "                           learning_rate=0.1, loss='deviance', max_depth=3,\n",
      "                           max_features=None, max_leaf_nodes=None,\n",
      "                           min_impurity_decrease=0.0, min_impurity_split=None,\n",
      "                           min_samples_leaf=1, min_samples_split=2,\n",
      "                           min_weight_fraction_leaf=0.0, n_estimators=100,\n",
      "                           n_iter_no_change=None, presort='auto',\n",
      "                           random_state=None, subsample=1.0, tol=0.0001,\n",
      "                           validation_fraction=0.1, verbose=0,\n",
      "                           warm_start=False)\n",
      "duracao: 0.9903934001922607\n",
      "Features sorted by their score:\n",
      "[(0.26, 'SportPart_2'), (0.25, 'SportPart_1'), (0.24, 'SportValue_2'), (0.24, 'SportValue_1')]\n",
      "1.3541650772094727\n",
      "  Name     Score\n",
      "0   DT  0.860588\n",
      "1  RFC  0.880353\n",
      "2  GBC  0.900314\n"
     ]
    }
   ],
   "source": [
    "#from sklearn.cross_validation import KFold\n",
    "from sklearn.model_selection import KFold\n",
    "names = []\n",
    "scores = []\n",
    "\n",
    "tInicio=time.time()\n",
    "for name, model in models:\n",
    "    t0=time.time()\n",
    "    kfold = KFold(n_splits=10, random_state=10) \n",
    "    score = cross_val_score(model, X, y, cv=kfold, scoring='accuracy').mean()\n",
    "    print(model)\n",
    "    model.fit(X,y) \n",
    "    names.append(name)\n",
    "    scores.append(score)\n",
    "    \n",
    "    t1 = time.time()\n",
    "    total = t1-t0\n",
    "    print('duracao:',total)\n",
    "    print(\"Features sorted by their score:\")\n",
    "    print(sorted(zip(map(lambda x: float(\"{0:.2f}\".format(round(x, 4))), model.feature_importances_), X_train.columns),reverse=True))\n",
    "    \n",
    "kf_cross_val = pd.DataFrame({'Name': names, 'Score': scores})\n",
    "tFinal = time.time(); total = tFinal-tInicio; print(total)\n",
    "\n",
    "print(kf_cross_val)"
   ]
  },
  {
   "cell_type": "code",
   "execution_count": 48,
   "metadata": {},
   "outputs": [
    {
     "data": {
      "image/png": "[encoded data removed]",
      "text/plain": [
       "<Figure size 432x288 with 1 Axes>"
      ]
     },
     "metadata": {
      "needs_background": "light"
     },
     "output_type": "display_data"
    }
   ],
   "source": [
    "axis = sns.barplot(x = 'Nome', y = 'Exatidão', data = tr_split)\n",
    "axis.set(xlabel='Train/Test', ylabel='Exatidão')\n",
    "for p in axis.patches:\n",
    "    height = p.get_height()\n",
    "    axis.text(p.get_x() + p.get_width()/2, height + 0.005, '{:1.4f}'.format(height), ha=\"center\") \n",
    "    \n",
    "plt.show()"
   ]
  },
  {
   "cell_type": "markdown",
   "metadata": {},
   "source": [
    "**Train / Test**\n",
    "\n",
    "Nome  Exatidão\n",
    "- DT  0.833333\n",
    "- RFC  0.865079\n",
    "- GBC  0.880952\n",
    "\n",
    "**KFold**\n",
    "\n",
    "  Name     Score\n",
    "- DT  0.834588\n",
    "- RFC  0.890314\n",
    "- GBC  0.904275"
   ]
  },
  {
   "cell_type": "markdown",
   "metadata": {},
   "source": [
    "## Importância de cada variável na aproximação k-fold "
   ]
  },
  {
   "cell_type": "code",
   "execution_count": 53,
   "metadata": {},
   "outputs": [],
   "source": [
    "import numpy as np\n",
    "importances = pd.DataFrame({'feature':X_train.columns,'importance':np.round(model.feature_importances_,3)})\n",
    "importances = importances.sort_values('importance',ascending=False).set_index('feature')"
   ]
  },
  {
   "cell_type": "code",
   "execution_count": 95,
   "metadata": {},
   "outputs": [
    {
     "name": "stdout",
     "output_type": "stream",
     "text": [
      "DT\n",
      "duracao: 0.14799261093139648\n",
      "RFC\n",
      "duracao: 0.26999902725219727\n",
      "GBC\n",
      "duracao: 1.2900068759918213\n"
     ]
    }
   ],
   "source": [
    "importances = pd.DataFrame({'feature':X.columns})\n",
    "for name, model in models:\n",
    "    t0=time.time()\n",
    "    kfold = KFold(n_splits=10, random_state=10) \n",
    "    score = cross_val_score(model, X, y, cv=kfold, scoring='accuracy').mean()\n",
    "    print(name)\n",
    "    model.fit(X,y) \n",
    "    names.append(name)\n",
    "    scores.append(score)\n",
    "    \n",
    "    t1 = time.time()\n",
    "    total = t1-t0\n",
    "    print('duracao:',total)\n",
    "    importances[name] = np.round(model.feature_importances_,3)\n",
    "\n",
    "importances = importances.set_index('feature')"
   ]
  },
  {
   "cell_type": "code",
   "execution_count": 96,
   "metadata": {},
   "outputs": [
    {
     "data": {
      "image/png": "[encoded data removed]",
      "text/plain": [
       "<Figure size 1296x360 with 1 Axes>"
      ]
     },
     "metadata": {
      "needs_background": "light"
     },
     "output_type": "display_data"
    }
   ],
   "source": [
    "plt.rcParams['figure.figsize'] = [18, 5]\n",
    "importances.plot()\n",
    "plt.xticks(rotation=90);"
   ]
  },
  {
   "cell_type": "markdown",
   "metadata": {},
   "source": [
    "# Vamos ver a importância de cada variável no random forest"
   ]
  },
  {
   "cell_type": "code",
   "execution_count": 72,
   "metadata": {},
   "outputs": [],
   "source": [
    "importances = pd.DataFrame({'feature':X.columns})\n",
    "\n",
    "kfold = KFold(n_splits=10, random_state=10) \n",
    "score = cross_val_score(model, X, y, cv=kfold, scoring='accuracy').mean()\n",
    "model = RandomForestClassifier(n_estimators= 10, max_leaf_nodes=4)\n",
    "model.fit(X,y) \n",
    "\n",
    "i=1\n",
    "for tree in model.estimators_:\n",
    "    t0=time.time()\n",
    "    kfold = KFold(n_splits=10, random_state=10) \n",
    "    names.append(name)\n",
    "    scores.append(score)\n",
    "    \n",
    "    t1 = time.time()\n",
    "    total = t1-t0\n",
    "    importances[i] = np.round(tree.feature_importances_,3)\n",
    "    i+=1\n",
    "\n",
    "importances = importances.set_index('feature')"
   ]
  },
  {
   "cell_type": "code",
   "execution_count": 89,
   "metadata": {},
   "outputs": [
    {
     "data": {
      "image/png": "[encoded data removed]",
      "text/plain": [
       "<Figure size 1296x360 with 1 Axes>"
      ]
     },
     "metadata": {
      "needs_background": "light"
     },
     "output_type": "display_data"
    }
   ],
   "source": [
    "plt.rcParams['figure.figsize'] = [18, 5]\n",
    "importances.plot.bar()\n",
    "plt.xticks(rotation=90);"
   ]
  }
 ],
 "metadata": {
  "kernelspec": {
   "display_name": "Python 3",
   "language": "python",
   "name": "python3"
  },
  "language_info": {
   "codemirror_mode": {
    "name": "ipython",
    "version": 3
   },
   "file_extension": ".py",
   "mimetype": "text/x-python",
   "name": "python",
   "nbconvert_exporter": "python",
   "pygments_lexer": "ipython3",
   "version": "3.7.3"
  }
 },
 "nbformat": 4,
 "nbformat_minor": 4
}
