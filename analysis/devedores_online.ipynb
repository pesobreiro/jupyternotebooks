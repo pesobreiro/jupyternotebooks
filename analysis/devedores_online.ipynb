{
 "cells": [
  {
   "cell_type": "markdown",
   "metadata": {},
   "source": [
    "# Tratamento de dados de devedores\n",
    "1. O ficheiro dos devedores tem que se chamar 'devedores.xls' e o CRM 'crm.xls'\n",
    "1. Definir a data da listagem\n",
    "1. Carregar os ficheiros que vão ser processados selecionar com CTRL\n",
    "1. Os ficheiros são gerados para esta pasta https://www.dropbox.com/sh/dcb79ge6jphck10/AABjtNch8UAbLNlmoqmpo7qOa?dl=0 já tem lá dados gerados com os ficheiros de exemplo"
   ]
  },
  {
   "cell_type": "markdown",
   "metadata": {},
   "source": [
    "# Carregar os ficheiros (CRM e devedores)"
   ]
  },
  {
   "cell_type": "code",
   "execution_count": 2,
   "metadata": {},
   "outputs": [],
   "source": [
    "from ipywidgets import Button, HTML, HBox, VBox, Checkbox, FileUpload, Label, Output, IntSlider, Layout, Image, link, DatePicker\n",
    "import xlrd\n",
    "import pandas as pd\n",
    "import datetime"
   ]
  },
  {
   "cell_type": "code",
   "execution_count": 3,
   "metadata": {},
   "outputs": [],
   "source": [
    "import numpy as np"
   ]
  },
  {
   "cell_type": "code",
   "execution_count": 4,
   "metadata": {},
   "outputs": [],
   "source": [
    "dfDevedores = pd.DataFrame()\n",
    "dfCRM = pd.DataFrame()\n",
    "dataListagem = datetime.datetime"
   ]
  },
  {
   "cell_type": "code",
   "execution_count": 5,
   "metadata": {},
   "outputs": [],
   "source": [
    "out = Output()"
   ]
  },
  {
   "cell_type": "code",
   "execution_count": 6,
   "metadata": {},
   "outputs": [],
   "source": [
    "def plot_stats():\n",
    "    stat_layout = Layout(margin=\"10px\", padding=\"10px\", border=\"1px solid black\",flex_flow='column', align_items='center')\n",
    "    stats = [('1','2'),('2','3')]\n",
    "    stats_formatted = [\n",
    "        VBox([\n",
    "            HTML(value=f\"<strong>{title}</strong>\"),\n",
    "            Label(value=value)\n",
    "        ], layout=stat_layout)\n",
    "        for title, value in stats\n",
    "    ]\n",
    "    \n",
    "    return HBox(stats_formatted, layout=Layout(flex_flow='row', align_items='center'))"
   ]
  },
  {
   "cell_type": "code",
   "execution_count": 7,
   "metadata": {},
   "outputs": [],
   "source": [
    "def plot_gpx():\n",
    "    stats = plot_stats()\n",
    "    \n",
    "    display(stats)"
   ]
  },
  {
   "cell_type": "code",
   "execution_count": 8,
   "metadata": {},
   "outputs": [],
   "source": [
    "from dateutil import rrule\n",
    "import datetime\n",
    "def weeks_between(start_date, end_date):\n",
    "    weeks = rrule.rrule(rrule.WEEKLY, dtstart=start_date, until=end_date)\n",
    "    return weeks.count()\n",
    "\n",
    "def tratamento():\n",
    "    global dfDevedores\n",
    "    global dfCRM\n",
    "    #limpar todos excepto que têm pelo menos 1 valor non-NA = \n",
    "    dfDevedores.dropna(axis=0,thresh=1,inplace=True)\n",
    "    #limpar todas as colunas que so têm NaNs how='all'\n",
    "    dfDevedores.dropna(axis=1,how='all',inplace=True)\n",
    "\n",
    "    #limpar as colunas sem dados\n",
    "    dfDevedores.drop(axis=1,inplace=True,labels=['Unnamed: 3','Unnamed: 4','Unnamed: 5'])\n",
    "    colsDevedores=['tratar', 'numCli', 'nome', 'telemovel','venc', 'ultVisita', 'idade', 'valor']\n",
    "    dfDevedores.columns=['tratar', 'idCli', 'nome', 'telemovel','venc', 'ultVisita', 'idade', 'valor']\n",
    "\n",
    "    dfDevedores=dfDevedores.reset_index()\n",
    "    dfDevedores.drop(axis=1,inplace=True,labels=['index'])\n",
    "    dfDevedores.to_excel('output/devedores_novo.xls')\n",
    "    #Guarda o último valor antes do número do cliente\n",
    "    # Vamos converter para texto\n",
    "    dfDevedores.tratar = dfDevedores.tratar.astype('str') \n",
    "\n",
    "    pacote = 'nan'\n",
    "    for index, item in dfDevedores.iterrows():\n",
    "        if item['tratar'] != 'nan':\n",
    "            #print(item['tratar'])\n",
    "            pacote = item['tratar']\n",
    "        if (item['idCli']!=np.nan) & (pacote != 'nan'):\n",
    "            #print('cliente',item['idCli'])\n",
    "            dfDevedores.at[index,'tratar']=pacote\n",
    "\n",
    "    #limpar todos que têm nan no idCliente\n",
    "    dfDevedores.dropna(subset=['idCli'],axis=0,inplace=True)\n",
    "    dfDevedores = dfDevedores[['idCli', 'nome', 'telemovel', 'venc', 'ultVisita', 'idade','valor','tratar']]\n",
    "    dfDevedores.columns=['idCli', 'nome', 'telemovel','venc', 'ultVisita', 'idade', 'valor','servico']\n",
    "\n",
    "    # Retirar as casas decimais\n",
    "    dfDevedores.idCli = dfDevedores.idCli.astype(int)\n",
    "    # Juntar os dataframes\n",
    "    dfDevedores=pd.merge(dfDevedores,dfCRM[['Nome','Status']], left_on=\"nome\",right_on=\"Nome\")\n",
    "    #limpar todos que têm nan no idCliente\n",
    "    dfDevedores.dropna(subset=['Nome'],axis=0,inplace=True)\n",
    "    #Calcular as semanas\n",
    "    dfDevedores['semanas'] = 0\n",
    "    for index, item in dfDevedores.iterrows():\n",
    "        dfDevedores.at[index,'semanas']=weeks_between(item['venc'],dataListagem.value)\n",
    "    #Calcular as quinzenas\n",
    "    dfDevedores['diaSemana']=dfDevedores['venc'].apply(lambda x: x.weekday())\n",
    "    dfDevedores['quinzena']=dfDevedores['semanas'].apply(lambda x: round(x/2,0))\n",
    "    #Definir itens para não multiplicar\n",
    "    naoMultiplica = ['Pacote LT c/12M 2 meses','Pacote LT c/12MNUTRIÇĂO 2 meses', 'Pacote LT c/24M 2 meses',\n",
    "                 'Pacote LT c/24MNUTRIÇĂO 2 meses','SeguroELITE']\n",
    "    #Calcular o valor em dívida\n",
    "    valores=[]\n",
    "    nomes = dfDevedores['nome'].unique()\n",
    "    for nome in nomes:\n",
    "        dfDevedores['total'] = 0\n",
    "        valor = 0\n",
    "        for index, item in dfDevedores.loc[dfDevedores['nome']==nome].iterrows():\n",
    "            if item['nome'] == nome:\n",
    "                if item['servico'] in naoMultiplica:\n",
    "                    #print('não multiplica')\n",
    "                    valor = valor + item['valor']*1\n",
    "                else: #Multiplica pelas quinzenas em atraso\n",
    "                    #print('multiplica',item['valor'],item['quinzena'])\n",
    "                    valor = valor + item['valor']*item['quinzena']\n",
    "        valores.append(valor)          \n",
    "    #Criar um data frame com os valores em dívida\n",
    "    dfValores = pd.DataFrame(data={'Nome2': nomes, 'valor': valores})\n",
    "    #Juntar tudo\n",
    "    dfDevedores=pd.merge(dfDevedores,dfValores[['Nome2','valor']], left_on=\"nome\",right_on=\"Nome2\",how='outer')\n",
    "    #Apagar as colunas que não interessam\n",
    "    dfDevedores.drop(columns=[ 'total', 'Nome2','idade','Nome'],axis=1,inplace=True)\n",
    "    #Mudar os nomes das colunas\n",
    "    dfDevedores.columns = ['idCli', 'nome', 'telemovel', 'venc', 'ultVisita', 'valor', 'servico',\n",
    "                           'Status', 'semanas', 'diaSemana', 'quinzena', 'total']\n",
    "    #Gravar um excel    \n",
    "    dfDevedores.to_excel('output/devedores_novo.xls')"
   ]
  },
  {
   "cell_type": "code",
   "execution_count": 11,
   "metadata": {},
   "outputs": [
    {
     "data": {
      "application/vnd.jupyter.widget-view+json": {
       "model_id": "9c205c43d5124dfea3658be6045f744c",
       "version_major": 2,
       "version_minor": 0
      },
      "text/plain": [
       "DatePicker(value=None, description='Data')"
      ]
     },
     "metadata": {},
     "output_type": "display_data"
    },
    {
     "data": {
      "application/vnd.jupyter.widget-view+json": {
       "model_id": "ca5f1fd574f74502b520053fdf2d93cb",
       "version_major": 2,
       "version_minor": 0
      },
      "text/plain": [
       "FileUpload(value={}, accept='.xls', description='Upload', multiple=True)"
      ]
     },
     "metadata": {},
     "output_type": "display_data"
    }
   ],
   "source": [
    "def show_uploader():\n",
    "    uploader = FileUpload(accept='.xls', multiple=True)\n",
    "\n",
    "    def handle_upload(change):\n",
    "        out.clear_output()\n",
    "        global dfDevedores\n",
    "        global dfCRM\n",
    "        \n",
    "        # Isto é um dict dentro de um dict para cada ficheiro\n",
    "        # Vamos selecionar o primeiro dict e depois o segundo\n",
    "        with open(\"output/devedores_novo.xls\", \"w+b\") as i:\n",
    "            i.write(uploader.value.get('devedores.xls').get('content'))\n",
    "\n",
    "        workbook = xlrd.open_workbook('output/devedores_novo.xls',encoding_override='cp1250')\n",
    "        dfDevedores=pd.read_excel(workbook)\n",
    "        dfDevedores.to_excel('output/devedores_novo.xls')\n",
    "        with out:\n",
    "            print('carregado devedores', dfDevedores.shape)\n",
    "            #plot_gpx()\n",
    "        \n",
    "            \n",
    "        dfCRM=pd.read_csv(\"crm.xls\", delimiter='\\t', encoding='latin_1', engine='python',error_bad_lines=False)\n",
    "        dfCRM.to_excel('output/crm_novo.xls',encoding='utf-8')\n",
    "        with out:\n",
    "            print('carregado crm', dfCRM.shape)\n",
    "            #plot_gpx()\n",
    "\n",
    "        with out:\n",
    "            print('tratamento...')\n",
    "            #plot_gpx()\n",
    "        tratamento()\n",
    "        with out:\n",
    "            print('terminei!')\n",
    "            #plot_gpx()\n",
    "    uploader.observe(handle_upload, names='value')\n",
    "\n",
    "    global dataListagem\n",
    "    dataListagem=DatePicker(description='Data',disabled=False)\n",
    "    display (dataListagem)\n",
    "    display(uploader)\n",
    "\n",
    "show_uploader()    "
   ]
  },
  {
   "cell_type": "code",
   "execution_count": 10,
   "metadata": {},
   "outputs": [
    {
     "data": {
      "application/vnd.jupyter.widget-view+json": {
       "model_id": "0c4de9e3098243378a2aceb208efabed",
       "version_major": 2,
       "version_minor": 0
      },
      "text/plain": [
       "Output()"
      ]
     },
     "metadata": {},
     "output_type": "display_data"
    }
   ],
   "source": [
    "out"
   ]
  }
 ],
 "metadata": {
  "kernelspec": {
   "display_name": "Python 3",
   "language": "python",
   "name": "python3"
  },
  "language_info": {
   "codemirror_mode": {
    "name": "ipython",
    "version": 3
   },
   "file_extension": ".py",
   "mimetype": "text/x-python",
   "name": "python",
   "nbconvert_exporter": "python",
   "pygments_lexer": "ipython3",
   "version": "3.7.6"
  },
  "toc-autonumbering": true
 },
 "nbformat": 4,
 "nbformat_minor": 4
}
