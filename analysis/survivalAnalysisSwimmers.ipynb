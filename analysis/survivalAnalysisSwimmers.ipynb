{
 "cells": [
  {
   "cell_type": "markdown",
   "source": [
    "# Análise de sobrevivência piscinas municipais"
   ],
   "metadata": {
    "toc-hr-collapsed": true
   }
  },
  {
   "cell_type": "markdown",
   "source": [
    "Data was collected from 6749 customers. The Kaplan-Meier estimator was used to gather information about the moment in which the dropout event took place, the Cox's regression coefficient was used to analyse the available variables related with the surviving of the customer in the sports facility, and the logrank test was applied to the significant variables to provide statistical comparison of groups.\n",
    "\n",
    "The duration of practice was positively related to the number of accesses, week contracted accesses, number of contract renewals, and inscription month increase. On the other hand, practice experience was negatively related to age and week average accesses."
   ],
   "metadata": {}
  },
  {
   "cell_type": "markdown",
   "source": [
    "## Variables\n",
    "\n",
    "- Gender - 1 para Masculino, 0 para Feminino\n",
    "- Inicio\tData de inicio da inscrição\n",
    "- Termino\tData de termino da inscrição\n",
    "- Dtultvisita\tData da ultima visita as instalações obtida pela utilização do cartão no controlo de acessos\n",
    "- Diassemfrequencia\tNº de dias em que não vinha às instalações até terminar a inscrição ou até 31/Outubro/2017 se a inscrição ainda não tinha terminado nessa data\n",
    "- Mesesinscricao\tNº de meses da inscrição, ou seja, diferença de meses entre o inicio e o termino\n",
    "- Volnegocios\tTotal pago pelo utente no período da sua inscrição\n",
    "- Freqmedia\tFreqmedia obtida pelo nº de frequencias a dividir pelo nº de semanas da sua inscrição, subtraido dos períodos de encerramento (mês de Agosto) quando a inscrição tem mais de 1 época\n",
    "- natividades\tContagem dos 1 dos campos anteriores (linha 13 a 22)\n",
    "- nfrequencias\tNº de visitas ao clube durante a sua inscrição\n",
    "- freqcontratada\tNº de frequências por semana que o utente tinha contratada no ultimo período da sua inscrição (7 = livre trânsito)\n",
    "- nrenovacoes\tNº de renovações que o utente fez durante a sua inscrição - ATENÇÃO: esta instalação fecha no mês de Agosto, pelo que os Utentes têm de renovar a inscrição para o proximo ano letivo\n",
    "- nreferencias\tNº de pessoas associadas (familiares, amigos, etc.) também registados como utentes\n",
    "- classe_desistencia\t1 para desistente, 0 para utente ativo\n",
    "\n",
    "\n",
    "1/TRUE = dead i.e. abandonou\n",
    "0/FALSE = alive i.e. não abandonou\n"
   ],
   "metadata": {}
  },
  {
   "cell_type": "code",
   "execution_count": 30,
   "source": [
    "import lifelines"
   ],
   "outputs": [],
   "metadata": {}
  },
  {
   "cell_type": "code",
   "execution_count": 31,
   "source": [
    "from IPython.display import HTML"
   ],
   "outputs": [],
   "metadata": {}
  },
  {
   "cell_type": "code",
   "execution_count": 32,
   "source": [
    "import pandas as pd\n",
    "dt = pd.read_excel('https://raw.githubusercontent.com/pesobreiro/jupyternotebooks/master/dados/dadosPiscina.xlsx',\n",
    "                   index_col=0)"
   ],
   "outputs": [],
   "metadata": {}
  },
  {
   "cell_type": "code",
   "execution_count": 33,
   "source": [
    "## Vamos selecionar os nadadores\n",
    "\n",
    "dt = dt.loc[dt.atividade_aquaticas == 1]\n",
    "\n",
    "## Vamos calcular uma variavel mes\n",
    "\n",
    "dt['mes']=dt['inicio'].str.extract('-(\\d\\d)', expand=True)\n",
    "dt['mes']=pd.to_numeric(dt['mes'])"
   ],
   "outputs": [],
   "metadata": {}
  },
  {
   "cell_type": "markdown",
   "source": [
    "## Descritivas variáveis quantitativas"
   ],
   "metadata": {}
  },
  {
   "cell_type": "code",
   "execution_count": 34,
   "source": [
    "dt[['idade', 'genero','diassemfrequencia', 'mesesinscricao', 'volnegocios', 'freqmedia',\n",
    "    'natividades', 'nfrequencias','freqcontratadasemanal', 'nrenovacoes', 'nreferencias','mes','classe_desistencia']].describe()"
   ],
   "outputs": [
    {
     "output_type": "execute_result",
     "data": {
      "text/plain": [
       "             idade       genero  diassemfrequencia  mesesinscricao  \\\n",
       "count  6749.000000  6749.000000        6749.000000     6749.000000   \n",
       "mean     18.686176     0.480960          48.751371       13.300933   \n",
       "std      19.362335     0.499674          73.448122       10.915080   \n",
       "min       0.000000     0.000000           0.000000        0.000000   \n",
       "25%       5.000000     0.000000           5.000000        4.000000   \n",
       "50%      10.000000     0.000000          31.000000       10.000000   \n",
       "75%      32.000000     1.000000          62.000000       20.000000   \n",
       "max     117.000000     1.000000        1073.000000       47.000000   \n",
       "\n",
       "       volnegocios    freqmedia  natividades  nfrequencias  \\\n",
       "count  6749.000000  6749.000000  6749.000000   6749.000000   \n",
       "mean    161.740485     0.599911     1.074826     29.819825   \n",
       "std     158.559194     0.423833     0.272536     35.389707   \n",
       "min       0.000000     0.010000     1.000000      1.000000   \n",
       "25%      48.270000     0.300000     1.000000      6.000000   \n",
       "50%     107.100000     0.500000     1.000000     17.000000   \n",
       "75%     219.040000     0.800000     1.000000     40.000000   \n",
       "max    1293.000000     3.940000     3.000000    323.000000   \n",
       "\n",
       "       freqcontratadasemanal  nrenovacoes  nreferencias          mes  \\\n",
       "count            6747.000000  6749.000000   6749.000000  6749.000000   \n",
       "mean                2.072032     1.038524      0.304490     7.251741   \n",
       "std                 1.823724     1.069460      0.553224     3.172694   \n",
       "min                 1.000000     0.000000      0.000000     1.000000   \n",
       "25%                 1.000000     0.000000      0.000000     4.000000   \n",
       "50%                 1.000000     1.000000      0.000000     9.000000   \n",
       "75%                 2.000000     2.000000      1.000000     9.000000   \n",
       "max                 7.000000     4.000000      5.000000    12.000000   \n",
       "\n",
       "       classe_desistencia  \n",
       "count         6749.000000  \n",
       "mean             0.577715  \n",
       "std              0.493960  \n",
       "min              0.000000  \n",
       "25%              0.000000  \n",
       "50%              1.000000  \n",
       "75%              1.000000  \n",
       "max              1.000000  "
      ],
      "text/html": [
       "<div>\n",
       "<style scoped>\n",
       "    .dataframe tbody tr th:only-of-type {\n",
       "        vertical-align: middle;\n",
       "    }\n",
       "\n",
       "    .dataframe tbody tr th {\n",
       "        vertical-align: top;\n",
       "    }\n",
       "\n",
       "    .dataframe thead th {\n",
       "        text-align: right;\n",
       "    }\n",
       "</style>\n",
       "<table border=\"1\" class=\"dataframe\">\n",
       "  <thead>\n",
       "    <tr style=\"text-align: right;\">\n",
       "      <th></th>\n",
       "      <th>idade</th>\n",
       "      <th>genero</th>\n",
       "      <th>diassemfrequencia</th>\n",
       "      <th>mesesinscricao</th>\n",
       "      <th>volnegocios</th>\n",
       "      <th>freqmedia</th>\n",
       "      <th>natividades</th>\n",
       "      <th>nfrequencias</th>\n",
       "      <th>freqcontratadasemanal</th>\n",
       "      <th>nrenovacoes</th>\n",
       "      <th>nreferencias</th>\n",
       "      <th>mes</th>\n",
       "      <th>classe_desistencia</th>\n",
       "    </tr>\n",
       "  </thead>\n",
       "  <tbody>\n",
       "    <tr>\n",
       "      <th>count</th>\n",
       "      <td>6749.000000</td>\n",
       "      <td>6749.000000</td>\n",
       "      <td>6749.000000</td>\n",
       "      <td>6749.000000</td>\n",
       "      <td>6749.000000</td>\n",
       "      <td>6749.000000</td>\n",
       "      <td>6749.000000</td>\n",
       "      <td>6749.000000</td>\n",
       "      <td>6747.000000</td>\n",
       "      <td>6749.000000</td>\n",
       "      <td>6749.000000</td>\n",
       "      <td>6749.000000</td>\n",
       "      <td>6749.000000</td>\n",
       "    </tr>\n",
       "    <tr>\n",
       "      <th>mean</th>\n",
       "      <td>18.686176</td>\n",
       "      <td>0.480960</td>\n",
       "      <td>48.751371</td>\n",
       "      <td>13.300933</td>\n",
       "      <td>161.740485</td>\n",
       "      <td>0.599911</td>\n",
       "      <td>1.074826</td>\n",
       "      <td>29.819825</td>\n",
       "      <td>2.072032</td>\n",
       "      <td>1.038524</td>\n",
       "      <td>0.304490</td>\n",
       "      <td>7.251741</td>\n",
       "      <td>0.577715</td>\n",
       "    </tr>\n",
       "    <tr>\n",
       "      <th>std</th>\n",
       "      <td>19.362335</td>\n",
       "      <td>0.499674</td>\n",
       "      <td>73.448122</td>\n",
       "      <td>10.915080</td>\n",
       "      <td>158.559194</td>\n",
       "      <td>0.423833</td>\n",
       "      <td>0.272536</td>\n",
       "      <td>35.389707</td>\n",
       "      <td>1.823724</td>\n",
       "      <td>1.069460</td>\n",
       "      <td>0.553224</td>\n",
       "      <td>3.172694</td>\n",
       "      <td>0.493960</td>\n",
       "    </tr>\n",
       "    <tr>\n",
       "      <th>min</th>\n",
       "      <td>0.000000</td>\n",
       "      <td>0.000000</td>\n",
       "      <td>0.000000</td>\n",
       "      <td>0.000000</td>\n",
       "      <td>0.000000</td>\n",
       "      <td>0.010000</td>\n",
       "      <td>1.000000</td>\n",
       "      <td>1.000000</td>\n",
       "      <td>1.000000</td>\n",
       "      <td>0.000000</td>\n",
       "      <td>0.000000</td>\n",
       "      <td>1.000000</td>\n",
       "      <td>0.000000</td>\n",
       "    </tr>\n",
       "    <tr>\n",
       "      <th>25%</th>\n",
       "      <td>5.000000</td>\n",
       "      <td>0.000000</td>\n",
       "      <td>5.000000</td>\n",
       "      <td>4.000000</td>\n",
       "      <td>48.270000</td>\n",
       "      <td>0.300000</td>\n",
       "      <td>1.000000</td>\n",
       "      <td>6.000000</td>\n",
       "      <td>1.000000</td>\n",
       "      <td>0.000000</td>\n",
       "      <td>0.000000</td>\n",
       "      <td>4.000000</td>\n",
       "      <td>0.000000</td>\n",
       "    </tr>\n",
       "    <tr>\n",
       "      <th>50%</th>\n",
       "      <td>10.000000</td>\n",
       "      <td>0.000000</td>\n",
       "      <td>31.000000</td>\n",
       "      <td>10.000000</td>\n",
       "      <td>107.100000</td>\n",
       "      <td>0.500000</td>\n",
       "      <td>1.000000</td>\n",
       "      <td>17.000000</td>\n",
       "      <td>1.000000</td>\n",
       "      <td>1.000000</td>\n",
       "      <td>0.000000</td>\n",
       "      <td>9.000000</td>\n",
       "      <td>1.000000</td>\n",
       "    </tr>\n",
       "    <tr>\n",
       "      <th>75%</th>\n",
       "      <td>32.000000</td>\n",
       "      <td>1.000000</td>\n",
       "      <td>62.000000</td>\n",
       "      <td>20.000000</td>\n",
       "      <td>219.040000</td>\n",
       "      <td>0.800000</td>\n",
       "      <td>1.000000</td>\n",
       "      <td>40.000000</td>\n",
       "      <td>2.000000</td>\n",
       "      <td>2.000000</td>\n",
       "      <td>1.000000</td>\n",
       "      <td>9.000000</td>\n",
       "      <td>1.000000</td>\n",
       "    </tr>\n",
       "    <tr>\n",
       "      <th>max</th>\n",
       "      <td>117.000000</td>\n",
       "      <td>1.000000</td>\n",
       "      <td>1073.000000</td>\n",
       "      <td>47.000000</td>\n",
       "      <td>1293.000000</td>\n",
       "      <td>3.940000</td>\n",
       "      <td>3.000000</td>\n",
       "      <td>323.000000</td>\n",
       "      <td>7.000000</td>\n",
       "      <td>4.000000</td>\n",
       "      <td>5.000000</td>\n",
       "      <td>12.000000</td>\n",
       "      <td>1.000000</td>\n",
       "    </tr>\n",
       "  </tbody>\n",
       "</table>\n",
       "</div>"
      ]
     },
     "metadata": {},
     "execution_count": 34
    }
   ],
   "metadata": {}
  },
  {
   "cell_type": "code",
   "execution_count": 35,
   "source": [
    "# Retirar estes\n",
    "dt = dt.loc[dt.idade < 100 ]\n",
    "\n",
    "colunasScale=['idade','diassemfrequencia','mesesinscricao','volnegocios','freqmedia','natividades','nfrequencias',\n",
    "              'freqcontratadasemana','nrenovacoes','nreferencias']\n",
    "#Transformar classe desistencia em booleana\n",
    "#dt['classe_desistencia']=dt['classe_desistencia'].map({True:1, False:0})"
   ],
   "outputs": [],
   "metadata": {}
  },
  {
   "cell_type": "markdown",
   "source": [
    "## Survival Analysis"
   ],
   "metadata": {}
  },
  {
   "cell_type": "code",
   "execution_count": 36,
   "source": [
    "from lifelines import KaplanMeierFitter\n",
    "kmf = KaplanMeierFitter()\n",
    "T = dt['mesesinscricao']\n",
    "C = dt['classe_desistencia']"
   ],
   "outputs": [],
   "metadata": {}
  },
  {
   "cell_type": "code",
   "execution_count": 37,
   "source": [
    "dt.info()"
   ],
   "outputs": [
    {
     "output_type": "stream",
     "name": "stdout",
     "text": [
      "<class 'pandas.core.frame.DataFrame'>\n",
      "Index: 6747 entries, 0012D938-1C2B-4B1C-B4A9-0B201126CD22 to FFFAB6CC-28E7-4766-A992-9C55F1DC151E\n",
      "Data columns (total 28 columns):\n",
      " #   Column                 Non-Null Count  Dtype  \n",
      "---  ------                 --------------  -----  \n",
      " 0   datanasc               6747 non-null   object \n",
      " 1   idade                  6747 non-null   int64  \n",
      " 2   genero                 6747 non-null   int64  \n",
      " 3   inicio                 6747 non-null   object \n",
      " 4   termino                6747 non-null   object \n",
      " 5   dtultvisita            6747 non-null   object \n",
      " 6   diassemfrequencia      6747 non-null   int64  \n",
      " 7   mesesinscricao         6747 non-null   int64  \n",
      " 8   volnegocios            6747 non-null   float64\n",
      " 9   freqmedia              6747 non-null   float64\n",
      " 10  utilizacao_livre       6747 non-null   int64  \n",
      " 11  atividade_atletismo    6747 non-null   int64  \n",
      " 12  atividade_aquaticas    6747 non-null   int64  \n",
      " 13  atividade_fitness      6747 non-null   int64  \n",
      " 14  atividade_danca        6747 non-null   int64  \n",
      " 15  atividade_coletivos    6747 non-null   int64  \n",
      " 16  atividade_raquete      6747 non-null   int64  \n",
      " 17  atividade_combate      6747 non-null   int64  \n",
      " 18  atividade_especiais    6747 non-null   int64  \n",
      " 19  atividade_natureza     6747 non-null   int64  \n",
      " 20  atividade_outra        6747 non-null   int64  \n",
      " 21  natividades            6747 non-null   int64  \n",
      " 22  nfrequencias           6747 non-null   int64  \n",
      " 23  freqcontratadasemanal  6745 non-null   float64\n",
      " 24  nrenovacoes            6747 non-null   int64  \n",
      " 25  nreferencias           6747 non-null   int64  \n",
      " 26  classe_desistencia     6747 non-null   int64  \n",
      " 27  mes                    6747 non-null   int64  \n",
      "dtypes: float64(3), int64(21), object(4)\n",
      "memory usage: 1.5+ MB\n"
     ]
    }
   ],
   "metadata": {}
  },
  {
   "cell_type": "code",
   "execution_count": 38,
   "source": [
    "kmf.fit(T,C,label=\"Swimmers\")"
   ],
   "outputs": [
    {
     "output_type": "execute_result",
     "data": {
      "text/plain": [
       "<lifelines.KaplanMeierFitter:\"Swimmers\", fitted with 6747 total observations, 2850 right-censored observations>"
      ]
     },
     "metadata": {},
     "execution_count": 38
    }
   ],
   "metadata": {}
  },
  {
   "cell_type": "markdown",
   "source": [
    "## Tabela Sobrevivência"
   ],
   "metadata": {}
  },
  {
   "cell_type": "code",
   "execution_count": 39,
   "source": [
    "survivalTable = pd.concat([kmf.event_table.reset_index(), kmf.conditional_time_to_event_,kmf.survival_function_.round(decimals=2)], axis=1)\n",
    "survivalTable.columns = ['event_at', 'removed', 'observed', 'censored', 'entrance', 'at_risk',\n",
    "       'time to event', 'prob']\n",
    "survivalTable.head(18)"
   ],
   "outputs": [
    {
     "output_type": "execute_result",
     "data": {
      "text/plain": [
       "      event_at  removed  observed  censored  entrance  at_risk  time to event  \\\n",
       "0.0          0        5         5         0      6747     6747           14.0   \n",
       "1.0          1      127        52        75         0     6742           14.0   \n",
       "2.0          2      758       241       517         0     6615           13.0   \n",
       "3.0          3      439       433         6         0     5857           15.0   \n",
       "4.0          4      372       340        32         0     5418           16.0   \n",
       "5.0          5      346       299        47         0     5046           17.0   \n",
       "6.0          6      319       274        45         0     4700           17.0   \n",
       "7.0          7      406       356        50         0     4381           20.0   \n",
       "8.0          8      268       198        70         0     3975           20.0   \n",
       "9.0          9      240       183        57         0     3707           21.0   \n",
       "10.0        10      294       230        64         0     3467           22.0   \n",
       "11.0        11      206       149        57         0     3173           22.0   \n",
       "12.0        12      103        71        32         0     2967           22.0   \n",
       "13.0        13      198        90       108         0     2864           22.0   \n",
       "14.0        14      411        75       336         0     2666           21.0   \n",
       "15.0        15      110       102         8         0     2255           22.0   \n",
       "16.0        16      113        64        49         0     2145           22.0   \n",
       "17.0        17       91        57        34         0     2032           22.0   \n",
       "\n",
       "      prob  \n",
       "0.0   1.00  \n",
       "1.0   0.99  \n",
       "2.0   0.96  \n",
       "3.0   0.88  \n",
       "4.0   0.83  \n",
       "5.0   0.78  \n",
       "6.0   0.73  \n",
       "7.0   0.67  \n",
       "8.0   0.64  \n",
       "9.0   0.61  \n",
       "10.0  0.57  \n",
       "11.0  0.54  \n",
       "12.0  0.53  \n",
       "13.0  0.51  \n",
       "14.0  0.50  \n",
       "15.0  0.48  \n",
       "16.0  0.46  \n",
       "17.0  0.45  "
      ],
      "text/html": [
       "<div>\n",
       "<style scoped>\n",
       "    .dataframe tbody tr th:only-of-type {\n",
       "        vertical-align: middle;\n",
       "    }\n",
       "\n",
       "    .dataframe tbody tr th {\n",
       "        vertical-align: top;\n",
       "    }\n",
       "\n",
       "    .dataframe thead th {\n",
       "        text-align: right;\n",
       "    }\n",
       "</style>\n",
       "<table border=\"1\" class=\"dataframe\">\n",
       "  <thead>\n",
       "    <tr style=\"text-align: right;\">\n",
       "      <th></th>\n",
       "      <th>event_at</th>\n",
       "      <th>removed</th>\n",
       "      <th>observed</th>\n",
       "      <th>censored</th>\n",
       "      <th>entrance</th>\n",
       "      <th>at_risk</th>\n",
       "      <th>time to event</th>\n",
       "      <th>prob</th>\n",
       "    </tr>\n",
       "  </thead>\n",
       "  <tbody>\n",
       "    <tr>\n",
       "      <th>0.0</th>\n",
       "      <td>0</td>\n",
       "      <td>5</td>\n",
       "      <td>5</td>\n",
       "      <td>0</td>\n",
       "      <td>6747</td>\n",
       "      <td>6747</td>\n",
       "      <td>14.0</td>\n",
       "      <td>1.00</td>\n",
       "    </tr>\n",
       "    <tr>\n",
       "      <th>1.0</th>\n",
       "      <td>1</td>\n",
       "      <td>127</td>\n",
       "      <td>52</td>\n",
       "      <td>75</td>\n",
       "      <td>0</td>\n",
       "      <td>6742</td>\n",
       "      <td>14.0</td>\n",
       "      <td>0.99</td>\n",
       "    </tr>\n",
       "    <tr>\n",
       "      <th>2.0</th>\n",
       "      <td>2</td>\n",
       "      <td>758</td>\n",
       "      <td>241</td>\n",
       "      <td>517</td>\n",
       "      <td>0</td>\n",
       "      <td>6615</td>\n",
       "      <td>13.0</td>\n",
       "      <td>0.96</td>\n",
       "    </tr>\n",
       "    <tr>\n",
       "      <th>3.0</th>\n",
       "      <td>3</td>\n",
       "      <td>439</td>\n",
       "      <td>433</td>\n",
       "      <td>6</td>\n",
       "      <td>0</td>\n",
       "      <td>5857</td>\n",
       "      <td>15.0</td>\n",
       "      <td>0.88</td>\n",
       "    </tr>\n",
       "    <tr>\n",
       "      <th>4.0</th>\n",
       "      <td>4</td>\n",
       "      <td>372</td>\n",
       "      <td>340</td>\n",
       "      <td>32</td>\n",
       "      <td>0</td>\n",
       "      <td>5418</td>\n",
       "      <td>16.0</td>\n",
       "      <td>0.83</td>\n",
       "    </tr>\n",
       "    <tr>\n",
       "      <th>5.0</th>\n",
       "      <td>5</td>\n",
       "      <td>346</td>\n",
       "      <td>299</td>\n",
       "      <td>47</td>\n",
       "      <td>0</td>\n",
       "      <td>5046</td>\n",
       "      <td>17.0</td>\n",
       "      <td>0.78</td>\n",
       "    </tr>\n",
       "    <tr>\n",
       "      <th>6.0</th>\n",
       "      <td>6</td>\n",
       "      <td>319</td>\n",
       "      <td>274</td>\n",
       "      <td>45</td>\n",
       "      <td>0</td>\n",
       "      <td>4700</td>\n",
       "      <td>17.0</td>\n",
       "      <td>0.73</td>\n",
       "    </tr>\n",
       "    <tr>\n",
       "      <th>7.0</th>\n",
       "      <td>7</td>\n",
       "      <td>406</td>\n",
       "      <td>356</td>\n",
       "      <td>50</td>\n",
       "      <td>0</td>\n",
       "      <td>4381</td>\n",
       "      <td>20.0</td>\n",
       "      <td>0.67</td>\n",
       "    </tr>\n",
       "    <tr>\n",
       "      <th>8.0</th>\n",
       "      <td>8</td>\n",
       "      <td>268</td>\n",
       "      <td>198</td>\n",
       "      <td>70</td>\n",
       "      <td>0</td>\n",
       "      <td>3975</td>\n",
       "      <td>20.0</td>\n",
       "      <td>0.64</td>\n",
       "    </tr>\n",
       "    <tr>\n",
       "      <th>9.0</th>\n",
       "      <td>9</td>\n",
       "      <td>240</td>\n",
       "      <td>183</td>\n",
       "      <td>57</td>\n",
       "      <td>0</td>\n",
       "      <td>3707</td>\n",
       "      <td>21.0</td>\n",
       "      <td>0.61</td>\n",
       "    </tr>\n",
       "    <tr>\n",
       "      <th>10.0</th>\n",
       "      <td>10</td>\n",
       "      <td>294</td>\n",
       "      <td>230</td>\n",
       "      <td>64</td>\n",
       "      <td>0</td>\n",
       "      <td>3467</td>\n",
       "      <td>22.0</td>\n",
       "      <td>0.57</td>\n",
       "    </tr>\n",
       "    <tr>\n",
       "      <th>11.0</th>\n",
       "      <td>11</td>\n",
       "      <td>206</td>\n",
       "      <td>149</td>\n",
       "      <td>57</td>\n",
       "      <td>0</td>\n",
       "      <td>3173</td>\n",
       "      <td>22.0</td>\n",
       "      <td>0.54</td>\n",
       "    </tr>\n",
       "    <tr>\n",
       "      <th>12.0</th>\n",
       "      <td>12</td>\n",
       "      <td>103</td>\n",
       "      <td>71</td>\n",
       "      <td>32</td>\n",
       "      <td>0</td>\n",
       "      <td>2967</td>\n",
       "      <td>22.0</td>\n",
       "      <td>0.53</td>\n",
       "    </tr>\n",
       "    <tr>\n",
       "      <th>13.0</th>\n",
       "      <td>13</td>\n",
       "      <td>198</td>\n",
       "      <td>90</td>\n",
       "      <td>108</td>\n",
       "      <td>0</td>\n",
       "      <td>2864</td>\n",
       "      <td>22.0</td>\n",
       "      <td>0.51</td>\n",
       "    </tr>\n",
       "    <tr>\n",
       "      <th>14.0</th>\n",
       "      <td>14</td>\n",
       "      <td>411</td>\n",
       "      <td>75</td>\n",
       "      <td>336</td>\n",
       "      <td>0</td>\n",
       "      <td>2666</td>\n",
       "      <td>21.0</td>\n",
       "      <td>0.50</td>\n",
       "    </tr>\n",
       "    <tr>\n",
       "      <th>15.0</th>\n",
       "      <td>15</td>\n",
       "      <td>110</td>\n",
       "      <td>102</td>\n",
       "      <td>8</td>\n",
       "      <td>0</td>\n",
       "      <td>2255</td>\n",
       "      <td>22.0</td>\n",
       "      <td>0.48</td>\n",
       "    </tr>\n",
       "    <tr>\n",
       "      <th>16.0</th>\n",
       "      <td>16</td>\n",
       "      <td>113</td>\n",
       "      <td>64</td>\n",
       "      <td>49</td>\n",
       "      <td>0</td>\n",
       "      <td>2145</td>\n",
       "      <td>22.0</td>\n",
       "      <td>0.46</td>\n",
       "    </tr>\n",
       "    <tr>\n",
       "      <th>17.0</th>\n",
       "      <td>17</td>\n",
       "      <td>91</td>\n",
       "      <td>57</td>\n",
       "      <td>34</td>\n",
       "      <td>0</td>\n",
       "      <td>2032</td>\n",
       "      <td>22.0</td>\n",
       "      <td>0.45</td>\n",
       "    </tr>\n",
       "  </tbody>\n",
       "</table>\n",
       "</div>"
      ]
     },
     "metadata": {},
     "execution_count": 39
    }
   ],
   "metadata": {}
  },
  {
   "cell_type": "markdown",
   "source": [
    "## Mediana sobrevivência"
   ],
   "metadata": {}
  },
  {
   "cell_type": "code",
   "execution_count": 44,
   "source": [
    "kmf.median_survival_time_"
   ],
   "outputs": [
    {
     "output_type": "execute_result",
     "data": {
      "text/plain": [
       "14.0"
      ]
     },
     "metadata": {},
     "execution_count": 44
    }
   ],
   "metadata": {}
  },
  {
   "cell_type": "markdown",
   "source": [
    "# Curva de Kaplan-Meier"
   ],
   "metadata": {}
  },
  {
   "cell_type": "code",
   "execution_count": 45,
   "source": [
    "%matplotlib inline\n",
    "import matplotlib.pyplot as plt\n",
    "import matplotlib.font_manager as font_manager\n",
    "\n",
    "plt.rcParams['figure.figsize'] = [12, 7]\n",
    "\n",
    "ax = kmf.plot()\n",
    "ax.set_xlabel('Months',fontsize=10)\n",
    "ax.set_ylabel('Survival probability',fontsize=10)\n",
    "\n",
    "ax.axvline(x=6,ymax=0.70,linestyle='--',color='black');ax.axhline(y=0.78,xmax=0.129,linestyle='--',color='black')\n",
    "# 6.0 \t0.73\n",
    "ax.annotate(\"0.73\",xy=(6, 0.7), xytext=(6, 0.8))\n",
    "\n",
    "ax.axvline(x=12,ymax=0.44,linestyle='--',color='black');ax.axhline(y=0.542,xmax=0.254,linestyle='--',color='black')\n",
    "# 12.0 \t0.53\n",
    "ax.annotate(\"0.53\",xy=(12, 0.44), xytext=(12, 0.58))\n",
    "\n",
    "ax.axvline(x=18,ymax=0.33,linestyle='--',color='black');ax.axhline(y=0.45,xmax=0.38,linestyle='--',color='black')\n",
    "# 18.0 \t0.43\n",
    "ax.annotate(\"0.43\",xy=(18, 0.38), xytext=(18, 0.48))\n",
    "\n",
    "plt.show()\n",
    "#plt.savefig('../submissao/figure1.png', dpi=90)\n",
    "plt.close()"
   ],
   "outputs": [
    {
     "output_type": "display_data",
     "data": {
      "text/plain": [
       "<Figure size 864x504 with 1 Axes>"
      ],
      "image/png": "[encoded data removed]",
      "image/svg+xml": "<?xml version=\"1.0\" encoding=\"utf-8\" standalone=\"no\"?>\n<!DOCTYPE svg PUBLIC \"-//W3C//DTD SVG 1.1//EN\"\n  \"http://www.w3.org/Graphics/SVG/1.1/DTD/svg11.dtd\">\n<svg height=\"425.27625pt\" version=\"1.1\" viewBox=\"0 0 720.58125 425.27625\" width=\"720.58125pt\" xmlns=\"http://www.w3.org/2000/svg\" xmlns:xlink=\"http://www.w3.org/1999/xlink\">\n <metadata>\n  <rdf:RDF xmlns:cc=\"http://creativecommons.org/ns#\" xmlns:dc=\"http://purl.org/dc/elements/1.1/\" xmlns:rdf=\"http://www.w3.org/1999/02/22-rdf-syntax-ns#\">\n   <cc:Work>\n    <dc:type rdf:resource=\"http://purl.org/dc/dcmitype/StillImage\"/>\n    <dc:date>2021-07-14T16:54:59.722787</dc:date>\n    <dc:format>image/svg+xml</dc:format>\n    <dc:creator>\n     <cc:Agent>\n      <dc:title>Matplotlib v3.4.2, https://matplotlib.org/</dc:title>\n     </cc:Agent>\n    </dc:creator>\n   </cc:Work>\n  </rdf:RDF>\n </metadata>\n <defs>\n  <style type=\"text/css\">*{stroke-linecap:butt;stroke-linejoin:round;}</style>\n </defs>\n <g id=\"figure_1\">\n  <g id=\"patch_1\">\n   <path d=\"M 0 425.27625 \nL 720.58125 425.27625 \nL 720.58125 0 \nL 0 0 \nz\n\" style=\"fill:none;\"/>\n  </g>\n  <g id=\"axes_1\">\n   <g id=\"patch_2\">\n    <path d=\"M 43.78125 387.72 \nL 713.38125 387.72 \nL 713.38125 7.2 \nL 43.78125 7.2 \nz\n\" style=\"fill:#ffffff;\"/>\n   </g>\n   <g id=\"PolyCollection_1\">\n    <defs>\n     <path d=\"M 74.217614 -400.779886 \nL 74.217614 -400.148351 \nL 87.169258 -400.148351 \nL 87.169258 -396.216114 \nL 100.120902 -396.216114 \nL 100.120902 -379.533239 \nL 113.072546 -379.533239 \nL 113.072546 -347.96191 \nL 126.02419 -347.96191 \nL 126.02419 -323.50813 \nL 138.975834 -323.50813 \nL 138.975834 -302.002715 \nL 151.927478 -302.002715 \nL 151.927478 -282.178725 \nL 164.879122 -282.178725 \nL 164.879122 -256.252432 \nL 177.830766 -256.252432 \nL 177.830766 -241.691212 \nL 190.782411 -241.691212 \nL 190.782411 -227.999532 \nL 203.734055 -227.999532 \nL 203.734055 -210.538571 \nL 216.685699 -210.538571 \nL 216.685699 -199.015356 \nL 229.637343 -199.015356 \nL 229.637343 -193.422616 \nL 242.588987 -193.422616 \nL 242.588987 -186.258257 \nL 255.540631 -186.258257 \nL 255.540631 -180.045151 \nL 268.492275 -180.045151 \nL 268.492275 -170.308268 \nL 281.443919 -170.308268 \nL 281.443919 -164.184801 \nL 294.395563 -164.184801 \nL 294.395563 -158.601598 \nL 307.347207 -158.601598 \nL 307.347207 -151.530208 \nL 320.298852 -151.530208 \nL 320.298852 -146.270523 \nL 333.250496 -146.270523 \nL 333.250496 -141.820125 \nL 346.20214 -141.820125 \nL 346.20214 -135.447483 \nL 359.153784 -135.447483 \nL 359.153784 -128.290729 \nL 372.105428 -128.290729 \nL 372.105428 -122.379748 \nL 385.057072 -122.379748 \nL 385.057072 -119.532608 \nL 398.008716 -119.532608 \nL 398.008716 -115.518771 \nL 410.96036 -115.518771 \nL 410.96036 -111.085804 \nL 423.912004 -111.085804 \nL 423.912004 -104.562769 \nL 436.863648 -104.562769 \nL 436.863648 -100.111642 \nL 449.815293 -100.111642 \nL 449.815293 -97.198762 \nL 462.766937 -97.198762 \nL 462.766937 -93.469932 \nL 475.718581 -93.469932 \nL 475.718581 -89.525938 \nL 488.670225 -89.525938 \nL 488.670225 -85.794287 \nL 501.621869 -85.794287 \nL 501.621869 -80.93213 \nL 514.573513 -80.93213 \nL 514.573513 -76.227951 \nL 527.525157 -76.227951 \nL 527.525157 -69.617235 \nL 540.476801 -69.617235 \nL 540.476801 -67.983565 \nL 553.428445 -67.983565 \nL 553.428445 -65.346439 \nL 566.380089 -65.346439 \nL 566.380089 -63.642494 \nL 579.331734 -63.642494 \nL 579.331734 -56.024362 \nL 592.283378 -56.024362 \nL 592.283378 -54.852614 \nL 605.235022 -54.852614 \nL 605.235022 -54.852614 \nL 618.186666 -54.852614 \nL 618.186666 -54.852614 \nL 631.13831 -54.852614 \nL 631.13831 -54.852614 \nL 644.089954 -54.852614 \nL 644.089954 -54.852614 \nL 657.041598 -54.852614 \nL 657.041598 -54.852614 \nL 669.993242 -54.852614 \nL 669.993242 -54.852614 \nL 682.944886 -54.852614 \nL 682.944886 -54.852614 \nL 682.944886 -70.404605 \nL 682.944886 -70.404605 \nL 682.944886 -70.404605 \nL 669.993242 -70.404605 \nL 669.993242 -70.404605 \nL 657.041598 -70.404605 \nL 657.041598 -70.404605 \nL 644.089954 -70.404605 \nL 644.089954 -70.404605 \nL 631.13831 -70.404605 \nL 631.13831 -70.404605 \nL 618.186666 -70.404605 \nL 618.186666 -70.404605 \nL 605.235022 -70.404605 \nL 605.235022 -70.404605 \nL 592.283378 -70.404605 \nL 592.283378 -71.237745 \nL 579.331734 -71.237745 \nL 579.331734 -76.534581 \nL 566.380089 -76.534581 \nL 566.380089 -78.126025 \nL 553.428445 -78.126025 \nL 553.428445 -80.640473 \nL 540.476801 -80.640473 \nL 540.476801 -82.209187 \nL 527.525157 -82.209187 \nL 527.525157 -88.61118 \nL 514.573513 -88.61118 \nL 514.573513 -93.18145 \nL 501.621869 -93.18145 \nL 501.621869 -97.908893 \nL 488.670225 -97.908893 \nL 488.670225 -101.549658 \nL 475.718581 -101.549658 \nL 475.718581 -105.40048 \nL 462.766937 -105.40048 \nL 462.766937 -109.048884 \nL 449.815293 -109.048884 \nL 449.815293 -111.900311 \nL 436.863648 -111.900311 \nL 436.863648 -116.259905 \nL 423.912004 -116.259905 \nL 423.912004 -122.623874 \nL 410.96036 -122.623874 \nL 410.96036 -127.019487 \nL 398.008716 -127.019487 \nL 398.008716 -131.01191 \nL 385.057072 -131.01191 \nL 385.057072 -133.844074 \nL 372.105428 -133.844074 \nL 372.105428 -139.729901 \nL 359.153784 -139.729901 \nL 359.153784 -146.850671 \nL 346.20214 -146.850671 \nL 346.20214 -153.188118 \nL 333.250496 -153.188118 \nL 333.250496 -157.611581 \nL 320.298852 -157.611581 \nL 320.298852 -162.837165 \nL 307.347207 -162.837165 \nL 307.347207 -169.852811 \nL 294.395563 -169.852811 \nL 294.395563 -175.384447 \nL 281.443919 -175.384447 \nL 281.443919 -181.447124 \nL 268.492275 -181.447124 \nL 268.492275 -191.060292 \nL 255.540631 -191.060292 \nL 255.540631 -197.229798 \nL 242.588987 -197.229798 \nL 242.588987 -204.346029 \nL 229.637343 -204.346029 \nL 229.637343 -209.894663 \nL 216.685699 -209.894663 \nL 216.685699 -221.312004 \nL 203.734055 -221.312004 \nL 203.734055 -238.562777 \nL 190.782411 -238.562777 \nL 190.782411 -252.043065 \nL 177.830766 -252.043065 \nL 177.830766 -266.336214 \nL 164.879122 -266.336214 \nL 164.879122 -291.645448 \nL 151.927478 -291.645448 \nL 151.927478 -310.855068 \nL 138.975834 -310.855068 \nL 138.975834 -331.523422 \nL 126.02419 -331.523422 \nL 126.02419 -354.725487 \nL 113.072546 -354.725487 \nL 113.072546 -383.788753 \nL 100.120902 -383.788753 \nL 100.120902 -398.111906 \nL 87.169258 -398.111906 \nL 87.169258 -400.779886 \nL 74.217614 -400.779886 \nz\n\" id=\"m333ec9d1c3\" style=\"stroke:#1f77b4;stroke-opacity:0.25;\"/>\n    </defs>\n    <g clip-path=\"url(#pc580e9a895)\">\n     <use style=\"fill:#1f77b4;fill-opacity:0.25;stroke:#1f77b4;stroke-opacity:0.25;\" x=\"0\" xlink:href=\"#m333ec9d1c3\" y=\"425.27625\"/>\n    </g>\n   </g>\n   <g id=\"matplotlib.axis_1\">\n    <g id=\"xtick_1\">\n     <g id=\"line2d_1\">\n      <defs>\n       <path d=\"M 0 0 \nL 0 3.5 \n\" id=\"m6d92a61b0c\" style=\"stroke:#000000;stroke-width:0.8;\"/>\n      </defs>\n      <g>\n       <use style=\"stroke:#000000;stroke-width:0.8;\" x=\"74.217614\" xlink:href=\"#m6d92a61b0c\" y=\"387.72\"/>\n      </g>\n     </g>\n     <g id=\"text_1\">\n      <!-- 0 -->\n      <g transform=\"translate(71.036364 402.318437)scale(0.1 -0.1)\">\n       <defs>\n        <path d=\"M 2034 4250 \nQ 1547 4250 1301 3770 \nQ 1056 3291 1056 2328 \nQ 1056 1369 1301 889 \nQ 1547 409 2034 409 \nQ 2525 409 2770 889 \nQ 3016 1369 3016 2328 \nQ 3016 3291 2770 3770 \nQ 2525 4250 2034 4250 \nz\nM 2034 4750 \nQ 2819 4750 3233 4129 \nQ 3647 3509 3647 2328 \nQ 3647 1150 3233 529 \nQ 2819 -91 2034 -91 \nQ 1250 -91 836 529 \nQ 422 1150 422 2328 \nQ 422 3509 836 4129 \nQ 1250 4750 2034 4750 \nz\n\" id=\"DejaVuSans-30\" transform=\"scale(0.015625)\"/>\n       </defs>\n       <use xlink:href=\"#DejaVuSans-30\"/>\n      </g>\n     </g>\n    </g>\n    <g id=\"xtick_2\">\n     <g id=\"line2d_2\">\n      <g>\n       <use style=\"stroke:#000000;stroke-width:0.8;\" x=\"203.734055\" xlink:href=\"#m6d92a61b0c\" y=\"387.72\"/>\n      </g>\n     </g>\n     <g id=\"text_2\">\n      <!-- 10 -->\n      <g transform=\"translate(197.371555 402.318437)scale(0.1 -0.1)\">\n       <defs>\n        <path d=\"M 794 531 \nL 1825 531 \nL 1825 4091 \nL 703 3866 \nL 703 4441 \nL 1819 4666 \nL 2450 4666 \nL 2450 531 \nL 3481 531 \nL 3481 0 \nL 794 0 \nL 794 531 \nz\n\" id=\"DejaVuSans-31\" transform=\"scale(0.015625)\"/>\n       </defs>\n       <use xlink:href=\"#DejaVuSans-31\"/>\n       <use x=\"63.623047\" xlink:href=\"#DejaVuSans-30\"/>\n      </g>\n     </g>\n    </g>\n    <g id=\"xtick_3\">\n     <g id=\"line2d_3\">\n      <g>\n       <use style=\"stroke:#000000;stroke-width:0.8;\" x=\"333.250496\" xlink:href=\"#m6d92a61b0c\" y=\"387.72\"/>\n      </g>\n     </g>\n     <g id=\"text_3\">\n      <!-- 20 -->\n      <g transform=\"translate(326.887996 402.318437)scale(0.1 -0.1)\">\n       <defs>\n        <path d=\"M 1228 531 \nL 3431 531 \nL 3431 0 \nL 469 0 \nL 469 531 \nQ 828 903 1448 1529 \nQ 2069 2156 2228 2338 \nQ 2531 2678 2651 2914 \nQ 2772 3150 2772 3378 \nQ 2772 3750 2511 3984 \nQ 2250 4219 1831 4219 \nQ 1534 4219 1204 4116 \nQ 875 4013 500 3803 \nL 500 4441 \nQ 881 4594 1212 4672 \nQ 1544 4750 1819 4750 \nQ 2544 4750 2975 4387 \nQ 3406 4025 3406 3419 \nQ 3406 3131 3298 2873 \nQ 3191 2616 2906 2266 \nQ 2828 2175 2409 1742 \nQ 1991 1309 1228 531 \nz\n\" id=\"DejaVuSans-32\" transform=\"scale(0.015625)\"/>\n       </defs>\n       <use xlink:href=\"#DejaVuSans-32\"/>\n       <use x=\"63.623047\" xlink:href=\"#DejaVuSans-30\"/>\n      </g>\n     </g>\n    </g>\n    <g id=\"xtick_4\">\n     <g id=\"line2d_4\">\n      <g>\n       <use style=\"stroke:#000000;stroke-width:0.8;\" x=\"462.766937\" xlink:href=\"#m6d92a61b0c\" y=\"387.72\"/>\n      </g>\n     </g>\n     <g id=\"text_4\">\n      <!-- 30 -->\n      <g transform=\"translate(456.404437 402.318437)scale(0.1 -0.1)\">\n       <defs>\n        <path d=\"M 2597 2516 \nQ 3050 2419 3304 2112 \nQ 3559 1806 3559 1356 \nQ 3559 666 3084 287 \nQ 2609 -91 1734 -91 \nQ 1441 -91 1130 -33 \nQ 819 25 488 141 \nL 488 750 \nQ 750 597 1062 519 \nQ 1375 441 1716 441 \nQ 2309 441 2620 675 \nQ 2931 909 2931 1356 \nQ 2931 1769 2642 2001 \nQ 2353 2234 1838 2234 \nL 1294 2234 \nL 1294 2753 \nL 1863 2753 \nQ 2328 2753 2575 2939 \nQ 2822 3125 2822 3475 \nQ 2822 3834 2567 4026 \nQ 2313 4219 1838 4219 \nQ 1578 4219 1281 4162 \nQ 984 4106 628 3988 \nL 628 4550 \nQ 988 4650 1302 4700 \nQ 1616 4750 1894 4750 \nQ 2613 4750 3031 4423 \nQ 3450 4097 3450 3541 \nQ 3450 3153 3228 2886 \nQ 3006 2619 2597 2516 \nz\n\" id=\"DejaVuSans-33\" transform=\"scale(0.015625)\"/>\n       </defs>\n       <use xlink:href=\"#DejaVuSans-33\"/>\n       <use x=\"63.623047\" xlink:href=\"#DejaVuSans-30\"/>\n      </g>\n     </g>\n    </g>\n    <g id=\"xtick_5\">\n     <g id=\"line2d_5\">\n      <g>\n       <use style=\"stroke:#000000;stroke-width:0.8;\" x=\"592.283378\" xlink:href=\"#m6d92a61b0c\" y=\"387.72\"/>\n      </g>\n     </g>\n     <g id=\"text_5\">\n      <!-- 40 -->\n      <g transform=\"translate(585.920878 402.318437)scale(0.1 -0.1)\">\n       <defs>\n        <path d=\"M 2419 4116 \nL 825 1625 \nL 2419 1625 \nL 2419 4116 \nz\nM 2253 4666 \nL 3047 4666 \nL 3047 1625 \nL 3713 1625 \nL 3713 1100 \nL 3047 1100 \nL 3047 0 \nL 2419 0 \nL 2419 1100 \nL 313 1100 \nL 313 1709 \nL 2253 4666 \nz\n\" id=\"DejaVuSans-34\" transform=\"scale(0.015625)\"/>\n       </defs>\n       <use xlink:href=\"#DejaVuSans-34\"/>\n       <use x=\"63.623047\" xlink:href=\"#DejaVuSans-30\"/>\n      </g>\n     </g>\n    </g>\n    <g id=\"text_6\">\n     <!-- Months -->\n     <g transform=\"translate(360.305469 415.996562)scale(0.1 -0.1)\">\n      <defs>\n       <path d=\"M 628 4666 \nL 1569 4666 \nL 2759 1491 \nL 3956 4666 \nL 4897 4666 \nL 4897 0 \nL 4281 0 \nL 4281 4097 \nL 3078 897 \nL 2444 897 \nL 1241 4097 \nL 1241 0 \nL 628 0 \nL 628 4666 \nz\n\" id=\"DejaVuSans-4d\" transform=\"scale(0.015625)\"/>\n       <path d=\"M 1959 3097 \nQ 1497 3097 1228 2736 \nQ 959 2375 959 1747 \nQ 959 1119 1226 758 \nQ 1494 397 1959 397 \nQ 2419 397 2687 759 \nQ 2956 1122 2956 1747 \nQ 2956 2369 2687 2733 \nQ 2419 3097 1959 3097 \nz\nM 1959 3584 \nQ 2709 3584 3137 3096 \nQ 3566 2609 3566 1747 \nQ 3566 888 3137 398 \nQ 2709 -91 1959 -91 \nQ 1206 -91 779 398 \nQ 353 888 353 1747 \nQ 353 2609 779 3096 \nQ 1206 3584 1959 3584 \nz\n\" id=\"DejaVuSans-6f\" transform=\"scale(0.015625)\"/>\n       <path d=\"M 3513 2113 \nL 3513 0 \nL 2938 0 \nL 2938 2094 \nQ 2938 2591 2744 2837 \nQ 2550 3084 2163 3084 \nQ 1697 3084 1428 2787 \nQ 1159 2491 1159 1978 \nL 1159 0 \nL 581 0 \nL 581 3500 \nL 1159 3500 \nL 1159 2956 \nQ 1366 3272 1645 3428 \nQ 1925 3584 2291 3584 \nQ 2894 3584 3203 3211 \nQ 3513 2838 3513 2113 \nz\n\" id=\"DejaVuSans-6e\" transform=\"scale(0.015625)\"/>\n       <path d=\"M 1172 4494 \nL 1172 3500 \nL 2356 3500 \nL 2356 3053 \nL 1172 3053 \nL 1172 1153 \nQ 1172 725 1289 603 \nQ 1406 481 1766 481 \nL 2356 481 \nL 2356 0 \nL 1766 0 \nQ 1100 0 847 248 \nQ 594 497 594 1153 \nL 594 3053 \nL 172 3053 \nL 172 3500 \nL 594 3500 \nL 594 4494 \nL 1172 4494 \nz\n\" id=\"DejaVuSans-74\" transform=\"scale(0.015625)\"/>\n       <path d=\"M 3513 2113 \nL 3513 0 \nL 2938 0 \nL 2938 2094 \nQ 2938 2591 2744 2837 \nQ 2550 3084 2163 3084 \nQ 1697 3084 1428 2787 \nQ 1159 2491 1159 1978 \nL 1159 0 \nL 581 0 \nL 581 4863 \nL 1159 4863 \nL 1159 2956 \nQ 1366 3272 1645 3428 \nQ 1925 3584 2291 3584 \nQ 2894 3584 3203 3211 \nQ 3513 2838 3513 2113 \nz\n\" id=\"DejaVuSans-68\" transform=\"scale(0.015625)\"/>\n       <path d=\"M 2834 3397 \nL 2834 2853 \nQ 2591 2978 2328 3040 \nQ 2066 3103 1784 3103 \nQ 1356 3103 1142 2972 \nQ 928 2841 928 2578 \nQ 928 2378 1081 2264 \nQ 1234 2150 1697 2047 \nL 1894 2003 \nQ 2506 1872 2764 1633 \nQ 3022 1394 3022 966 \nQ 3022 478 2636 193 \nQ 2250 -91 1575 -91 \nQ 1294 -91 989 -36 \nQ 684 19 347 128 \nL 347 722 \nQ 666 556 975 473 \nQ 1284 391 1588 391 \nQ 1994 391 2212 530 \nQ 2431 669 2431 922 \nQ 2431 1156 2273 1281 \nQ 2116 1406 1581 1522 \nL 1381 1569 \nQ 847 1681 609 1914 \nQ 372 2147 372 2553 \nQ 372 3047 722 3315 \nQ 1072 3584 1716 3584 \nQ 2034 3584 2315 3537 \nQ 2597 3491 2834 3397 \nz\n\" id=\"DejaVuSans-73\" transform=\"scale(0.015625)\"/>\n      </defs>\n      <use xlink:href=\"#DejaVuSans-4d\"/>\n      <use x=\"86.279297\" xlink:href=\"#DejaVuSans-6f\"/>\n      <use x=\"147.460938\" xlink:href=\"#DejaVuSans-6e\"/>\n      <use x=\"210.839844\" xlink:href=\"#DejaVuSans-74\"/>\n      <use x=\"250.048828\" xlink:href=\"#DejaVuSans-68\"/>\n      <use x=\"313.427734\" xlink:href=\"#DejaVuSans-73\"/>\n     </g>\n    </g>\n   </g>\n   <g id=\"matplotlib.axis_2\">\n    <g id=\"ytick_1\">\n     <g id=\"line2d_6\">\n      <defs>\n       <path d=\"M 0 0 \nL -3.5 0 \n\" id=\"m485c650962\" style=\"stroke:#000000;stroke-width:0.8;\"/>\n      </defs>\n      <g>\n       <use style=\"stroke:#000000;stroke-width:0.8;\" x=\"43.78125\" xlink:href=\"#m485c650962\" y=\"367.823382\"/>\n      </g>\n     </g>\n     <g id=\"text_7\">\n      <!-- 0.2 -->\n      <g transform=\"translate(20.878125 371.622601)scale(0.1 -0.1)\">\n       <defs>\n        <path d=\"M 684 794 \nL 1344 794 \nL 1344 0 \nL 684 0 \nL 684 794 \nz\n\" id=\"DejaVuSans-2e\" transform=\"scale(0.015625)\"/>\n       </defs>\n       <use xlink:href=\"#DejaVuSans-30\"/>\n       <use x=\"63.623047\" xlink:href=\"#DejaVuSans-2e\"/>\n       <use x=\"95.410156\" xlink:href=\"#DejaVuSans-32\"/>\n      </g>\n     </g>\n    </g>\n    <g id=\"ytick_2\">\n     <g id=\"line2d_7\">\n      <g>\n       <use style=\"stroke:#000000;stroke-width:0.8;\" x=\"43.78125\" xlink:href=\"#m485c650962\" y=\"324.890948\"/>\n      </g>\n     </g>\n     <g id=\"text_8\">\n      <!-- 0.3 -->\n      <g transform=\"translate(20.878125 328.690167)scale(0.1 -0.1)\">\n       <use xlink:href=\"#DejaVuSans-30\"/>\n       <use x=\"63.623047\" xlink:href=\"#DejaVuSans-2e\"/>\n       <use x=\"95.410156\" xlink:href=\"#DejaVuSans-33\"/>\n      </g>\n     </g>\n    </g>\n    <g id=\"ytick_3\">\n     <g id=\"line2d_8\">\n      <g>\n       <use style=\"stroke:#000000;stroke-width:0.8;\" x=\"43.78125\" xlink:href=\"#m485c650962\" y=\"281.958514\"/>\n      </g>\n     </g>\n     <g id=\"text_9\">\n      <!-- 0.4 -->\n      <g transform=\"translate(20.878125 285.757732)scale(0.1 -0.1)\">\n       <use xlink:href=\"#DejaVuSans-30\"/>\n       <use x=\"63.623047\" xlink:href=\"#DejaVuSans-2e\"/>\n       <use x=\"95.410156\" xlink:href=\"#DejaVuSans-34\"/>\n      </g>\n     </g>\n    </g>\n    <g id=\"ytick_4\">\n     <g id=\"line2d_9\">\n      <g>\n       <use style=\"stroke:#000000;stroke-width:0.8;\" x=\"43.78125\" xlink:href=\"#m485c650962\" y=\"239.026079\"/>\n      </g>\n     </g>\n     <g id=\"text_10\">\n      <!-- 0.5 -->\n      <g transform=\"translate(20.878125 242.825298)scale(0.1 -0.1)\">\n       <defs>\n        <path d=\"M 691 4666 \nL 3169 4666 \nL 3169 4134 \nL 1269 4134 \nL 1269 2991 \nQ 1406 3038 1543 3061 \nQ 1681 3084 1819 3084 \nQ 2600 3084 3056 2656 \nQ 3513 2228 3513 1497 \nQ 3513 744 3044 326 \nQ 2575 -91 1722 -91 \nQ 1428 -91 1123 -41 \nQ 819 9 494 109 \nL 494 744 \nQ 775 591 1075 516 \nQ 1375 441 1709 441 \nQ 2250 441 2565 725 \nQ 2881 1009 2881 1497 \nQ 2881 1984 2565 2268 \nQ 2250 2553 1709 2553 \nQ 1456 2553 1204 2497 \nQ 953 2441 691 2322 \nL 691 4666 \nz\n\" id=\"DejaVuSans-35\" transform=\"scale(0.015625)\"/>\n       </defs>\n       <use xlink:href=\"#DejaVuSans-30\"/>\n       <use x=\"63.623047\" xlink:href=\"#DejaVuSans-2e\"/>\n       <use x=\"95.410156\" xlink:href=\"#DejaVuSans-35\"/>\n      </g>\n     </g>\n    </g>\n    <g id=\"ytick_5\">\n     <g id=\"line2d_10\">\n      <g>\n       <use style=\"stroke:#000000;stroke-width:0.8;\" x=\"43.78125\" xlink:href=\"#m485c650962\" y=\"196.093645\"/>\n      </g>\n     </g>\n     <g id=\"text_11\">\n      <!-- 0.6 -->\n      <g transform=\"translate(20.878125 199.892864)scale(0.1 -0.1)\">\n       <defs>\n        <path d=\"M 2113 2584 \nQ 1688 2584 1439 2293 \nQ 1191 2003 1191 1497 \nQ 1191 994 1439 701 \nQ 1688 409 2113 409 \nQ 2538 409 2786 701 \nQ 3034 994 3034 1497 \nQ 3034 2003 2786 2293 \nQ 2538 2584 2113 2584 \nz\nM 3366 4563 \nL 3366 3988 \nQ 3128 4100 2886 4159 \nQ 2644 4219 2406 4219 \nQ 1781 4219 1451 3797 \nQ 1122 3375 1075 2522 \nQ 1259 2794 1537 2939 \nQ 1816 3084 2150 3084 \nQ 2853 3084 3261 2657 \nQ 3669 2231 3669 1497 \nQ 3669 778 3244 343 \nQ 2819 -91 2113 -91 \nQ 1303 -91 875 529 \nQ 447 1150 447 2328 \nQ 447 3434 972 4092 \nQ 1497 4750 2381 4750 \nQ 2619 4750 2861 4703 \nQ 3103 4656 3366 4563 \nz\n\" id=\"DejaVuSans-36\" transform=\"scale(0.015625)\"/>\n       </defs>\n       <use xlink:href=\"#DejaVuSans-30\"/>\n       <use x=\"63.623047\" xlink:href=\"#DejaVuSans-2e\"/>\n       <use x=\"95.410156\" xlink:href=\"#DejaVuSans-36\"/>\n      </g>\n     </g>\n    </g>\n    <g id=\"ytick_6\">\n     <g id=\"line2d_11\">\n      <g>\n       <use style=\"stroke:#000000;stroke-width:0.8;\" x=\"43.78125\" xlink:href=\"#m485c650962\" y=\"153.161211\"/>\n      </g>\n     </g>\n     <g id=\"text_12\">\n      <!-- 0.7 -->\n      <g transform=\"translate(20.878125 156.96043)scale(0.1 -0.1)\">\n       <defs>\n        <path d=\"M 525 4666 \nL 3525 4666 \nL 3525 4397 \nL 1831 0 \nL 1172 0 \nL 2766 4134 \nL 525 4134 \nL 525 4666 \nz\n\" id=\"DejaVuSans-37\" transform=\"scale(0.015625)\"/>\n       </defs>\n       <use xlink:href=\"#DejaVuSans-30\"/>\n       <use x=\"63.623047\" xlink:href=\"#DejaVuSans-2e\"/>\n       <use x=\"95.410156\" xlink:href=\"#DejaVuSans-37\"/>\n      </g>\n     </g>\n    </g>\n    <g id=\"ytick_7\">\n     <g id=\"line2d_12\">\n      <g>\n       <use style=\"stroke:#000000;stroke-width:0.8;\" x=\"43.78125\" xlink:href=\"#m485c650962\" y=\"110.228777\"/>\n      </g>\n     </g>\n     <g id=\"text_13\">\n      <!-- 0.8 -->\n      <g transform=\"translate(20.878125 114.027995)scale(0.1 -0.1)\">\n       <defs>\n        <path d=\"M 2034 2216 \nQ 1584 2216 1326 1975 \nQ 1069 1734 1069 1313 \nQ 1069 891 1326 650 \nQ 1584 409 2034 409 \nQ 2484 409 2743 651 \nQ 3003 894 3003 1313 \nQ 3003 1734 2745 1975 \nQ 2488 2216 2034 2216 \nz\nM 1403 2484 \nQ 997 2584 770 2862 \nQ 544 3141 544 3541 \nQ 544 4100 942 4425 \nQ 1341 4750 2034 4750 \nQ 2731 4750 3128 4425 \nQ 3525 4100 3525 3541 \nQ 3525 3141 3298 2862 \nQ 3072 2584 2669 2484 \nQ 3125 2378 3379 2068 \nQ 3634 1759 3634 1313 \nQ 3634 634 3220 271 \nQ 2806 -91 2034 -91 \nQ 1263 -91 848 271 \nQ 434 634 434 1313 \nQ 434 1759 690 2068 \nQ 947 2378 1403 2484 \nz\nM 1172 3481 \nQ 1172 3119 1398 2916 \nQ 1625 2713 2034 2713 \nQ 2441 2713 2670 2916 \nQ 2900 3119 2900 3481 \nQ 2900 3844 2670 4047 \nQ 2441 4250 2034 4250 \nQ 1625 4250 1398 4047 \nQ 1172 3844 1172 3481 \nz\n\" id=\"DejaVuSans-38\" transform=\"scale(0.015625)\"/>\n       </defs>\n       <use xlink:href=\"#DejaVuSans-30\"/>\n       <use x=\"63.623047\" xlink:href=\"#DejaVuSans-2e\"/>\n       <use x=\"95.410156\" xlink:href=\"#DejaVuSans-38\"/>\n      </g>\n     </g>\n    </g>\n    <g id=\"ytick_8\">\n     <g id=\"line2d_13\">\n      <g>\n       <use style=\"stroke:#000000;stroke-width:0.8;\" x=\"43.78125\" xlink:href=\"#m485c650962\" y=\"67.296342\"/>\n      </g>\n     </g>\n     <g id=\"text_14\">\n      <!-- 0.9 -->\n      <g transform=\"translate(20.878125 71.095561)scale(0.1 -0.1)\">\n       <defs>\n        <path d=\"M 703 97 \nL 703 672 \nQ 941 559 1184 500 \nQ 1428 441 1663 441 \nQ 2288 441 2617 861 \nQ 2947 1281 2994 2138 \nQ 2813 1869 2534 1725 \nQ 2256 1581 1919 1581 \nQ 1219 1581 811 2004 \nQ 403 2428 403 3163 \nQ 403 3881 828 4315 \nQ 1253 4750 1959 4750 \nQ 2769 4750 3195 4129 \nQ 3622 3509 3622 2328 \nQ 3622 1225 3098 567 \nQ 2575 -91 1691 -91 \nQ 1453 -91 1209 -44 \nQ 966 3 703 97 \nz\nM 1959 2075 \nQ 2384 2075 2632 2365 \nQ 2881 2656 2881 3163 \nQ 2881 3666 2632 3958 \nQ 2384 4250 1959 4250 \nQ 1534 4250 1286 3958 \nQ 1038 3666 1038 3163 \nQ 1038 2656 1286 2365 \nQ 1534 2075 1959 2075 \nz\n\" id=\"DejaVuSans-39\" transform=\"scale(0.015625)\"/>\n       </defs>\n       <use xlink:href=\"#DejaVuSans-30\"/>\n       <use x=\"63.623047\" xlink:href=\"#DejaVuSans-2e\"/>\n       <use x=\"95.410156\" xlink:href=\"#DejaVuSans-39\"/>\n      </g>\n     </g>\n    </g>\n    <g id=\"ytick_9\">\n     <g id=\"line2d_14\">\n      <g>\n       <use style=\"stroke:#000000;stroke-width:0.8;\" x=\"43.78125\" xlink:href=\"#m485c650962\" y=\"24.363908\"/>\n      </g>\n     </g>\n     <g id=\"text_15\">\n      <!-- 1.0 -->\n      <g transform=\"translate(20.878125 28.163127)scale(0.1 -0.1)\">\n       <use xlink:href=\"#DejaVuSans-31\"/>\n       <use x=\"63.623047\" xlink:href=\"#DejaVuSans-2e\"/>\n       <use x=\"95.410156\" xlink:href=\"#DejaVuSans-30\"/>\n      </g>\n     </g>\n    </g>\n    <g id=\"text_16\">\n     <!-- Survival probability -->\n     <g transform=\"translate(14.798438 245.884219)rotate(-90)scale(0.1 -0.1)\">\n      <defs>\n       <path d=\"M 3425 4513 \nL 3425 3897 \nQ 3066 4069 2747 4153 \nQ 2428 4238 2131 4238 \nQ 1616 4238 1336 4038 \nQ 1056 3838 1056 3469 \nQ 1056 3159 1242 3001 \nQ 1428 2844 1947 2747 \nL 2328 2669 \nQ 3034 2534 3370 2195 \nQ 3706 1856 3706 1288 \nQ 3706 609 3251 259 \nQ 2797 -91 1919 -91 \nQ 1588 -91 1214 -16 \nQ 841 59 441 206 \nL 441 856 \nQ 825 641 1194 531 \nQ 1563 422 1919 422 \nQ 2459 422 2753 634 \nQ 3047 847 3047 1241 \nQ 3047 1584 2836 1778 \nQ 2625 1972 2144 2069 \nL 1759 2144 \nQ 1053 2284 737 2584 \nQ 422 2884 422 3419 \nQ 422 4038 858 4394 \nQ 1294 4750 2059 4750 \nQ 2388 4750 2728 4690 \nQ 3069 4631 3425 4513 \nz\n\" id=\"DejaVuSans-53\" transform=\"scale(0.015625)\"/>\n       <path d=\"M 544 1381 \nL 544 3500 \nL 1119 3500 \nL 1119 1403 \nQ 1119 906 1312 657 \nQ 1506 409 1894 409 \nQ 2359 409 2629 706 \nQ 2900 1003 2900 1516 \nL 2900 3500 \nL 3475 3500 \nL 3475 0 \nL 2900 0 \nL 2900 538 \nQ 2691 219 2414 64 \nQ 2138 -91 1772 -91 \nQ 1169 -91 856 284 \nQ 544 659 544 1381 \nz\nM 1991 3584 \nL 1991 3584 \nz\n\" id=\"DejaVuSans-75\" transform=\"scale(0.015625)\"/>\n       <path d=\"M 2631 2963 \nQ 2534 3019 2420 3045 \nQ 2306 3072 2169 3072 \nQ 1681 3072 1420 2755 \nQ 1159 2438 1159 1844 \nL 1159 0 \nL 581 0 \nL 581 3500 \nL 1159 3500 \nL 1159 2956 \nQ 1341 3275 1631 3429 \nQ 1922 3584 2338 3584 \nQ 2397 3584 2469 3576 \nQ 2541 3569 2628 3553 \nL 2631 2963 \nz\n\" id=\"DejaVuSans-72\" transform=\"scale(0.015625)\"/>\n       <path d=\"M 191 3500 \nL 800 3500 \nL 1894 563 \nL 2988 3500 \nL 3597 3500 \nL 2284 0 \nL 1503 0 \nL 191 3500 \nz\n\" id=\"DejaVuSans-76\" transform=\"scale(0.015625)\"/>\n       <path d=\"M 603 3500 \nL 1178 3500 \nL 1178 0 \nL 603 0 \nL 603 3500 \nz\nM 603 4863 \nL 1178 4863 \nL 1178 4134 \nL 603 4134 \nL 603 4863 \nz\n\" id=\"DejaVuSans-69\" transform=\"scale(0.015625)\"/>\n       <path d=\"M 2194 1759 \nQ 1497 1759 1228 1600 \nQ 959 1441 959 1056 \nQ 959 750 1161 570 \nQ 1363 391 1709 391 \nQ 2188 391 2477 730 \nQ 2766 1069 2766 1631 \nL 2766 1759 \nL 2194 1759 \nz\nM 3341 1997 \nL 3341 0 \nL 2766 0 \nL 2766 531 \nQ 2569 213 2275 61 \nQ 1981 -91 1556 -91 \nQ 1019 -91 701 211 \nQ 384 513 384 1019 \nQ 384 1609 779 1909 \nQ 1175 2209 1959 2209 \nL 2766 2209 \nL 2766 2266 \nQ 2766 2663 2505 2880 \nQ 2244 3097 1772 3097 \nQ 1472 3097 1187 3025 \nQ 903 2953 641 2809 \nL 641 3341 \nQ 956 3463 1253 3523 \nQ 1550 3584 1831 3584 \nQ 2591 3584 2966 3190 \nQ 3341 2797 3341 1997 \nz\n\" id=\"DejaVuSans-61\" transform=\"scale(0.015625)\"/>\n       <path d=\"M 603 4863 \nL 1178 4863 \nL 1178 0 \nL 603 0 \nL 603 4863 \nz\n\" id=\"DejaVuSans-6c\" transform=\"scale(0.015625)\"/>\n       <path id=\"DejaVuSans-20\" transform=\"scale(0.015625)\"/>\n       <path d=\"M 1159 525 \nL 1159 -1331 \nL 581 -1331 \nL 581 3500 \nL 1159 3500 \nL 1159 2969 \nQ 1341 3281 1617 3432 \nQ 1894 3584 2278 3584 \nQ 2916 3584 3314 3078 \nQ 3713 2572 3713 1747 \nQ 3713 922 3314 415 \nQ 2916 -91 2278 -91 \nQ 1894 -91 1617 61 \nQ 1341 213 1159 525 \nz\nM 3116 1747 \nQ 3116 2381 2855 2742 \nQ 2594 3103 2138 3103 \nQ 1681 3103 1420 2742 \nQ 1159 2381 1159 1747 \nQ 1159 1113 1420 752 \nQ 1681 391 2138 391 \nQ 2594 391 2855 752 \nQ 3116 1113 3116 1747 \nz\n\" id=\"DejaVuSans-70\" transform=\"scale(0.015625)\"/>\n       <path d=\"M 3116 1747 \nQ 3116 2381 2855 2742 \nQ 2594 3103 2138 3103 \nQ 1681 3103 1420 2742 \nQ 1159 2381 1159 1747 \nQ 1159 1113 1420 752 \nQ 1681 391 2138 391 \nQ 2594 391 2855 752 \nQ 3116 1113 3116 1747 \nz\nM 1159 2969 \nQ 1341 3281 1617 3432 \nQ 1894 3584 2278 3584 \nQ 2916 3584 3314 3078 \nQ 3713 2572 3713 1747 \nQ 3713 922 3314 415 \nQ 2916 -91 2278 -91 \nQ 1894 -91 1617 61 \nQ 1341 213 1159 525 \nL 1159 0 \nL 581 0 \nL 581 4863 \nL 1159 4863 \nL 1159 2969 \nz\n\" id=\"DejaVuSans-62\" transform=\"scale(0.015625)\"/>\n       <path d=\"M 2059 -325 \nQ 1816 -950 1584 -1140 \nQ 1353 -1331 966 -1331 \nL 506 -1331 \nL 506 -850 \nL 844 -850 \nQ 1081 -850 1212 -737 \nQ 1344 -625 1503 -206 \nL 1606 56 \nL 191 3500 \nL 800 3500 \nL 1894 763 \nL 2988 3500 \nL 3597 3500 \nL 2059 -325 \nz\n\" id=\"DejaVuSans-79\" transform=\"scale(0.015625)\"/>\n      </defs>\n      <use xlink:href=\"#DejaVuSans-53\"/>\n      <use x=\"63.476562\" xlink:href=\"#DejaVuSans-75\"/>\n      <use x=\"126.855469\" xlink:href=\"#DejaVuSans-72\"/>\n      <use x=\"167.96875\" xlink:href=\"#DejaVuSans-76\"/>\n      <use x=\"227.148438\" xlink:href=\"#DejaVuSans-69\"/>\n      <use x=\"254.931641\" xlink:href=\"#DejaVuSans-76\"/>\n      <use x=\"314.111328\" xlink:href=\"#DejaVuSans-61\"/>\n      <use x=\"375.390625\" xlink:href=\"#DejaVuSans-6c\"/>\n      <use x=\"403.173828\" xlink:href=\"#DejaVuSans-20\"/>\n      <use x=\"434.960938\" xlink:href=\"#DejaVuSans-70\"/>\n      <use x=\"498.4375\" xlink:href=\"#DejaVuSans-72\"/>\n      <use x=\"537.300781\" xlink:href=\"#DejaVuSans-6f\"/>\n      <use x=\"598.482422\" xlink:href=\"#DejaVuSans-62\"/>\n      <use x=\"661.958984\" xlink:href=\"#DejaVuSans-61\"/>\n      <use x=\"723.238281\" xlink:href=\"#DejaVuSans-62\"/>\n      <use x=\"786.714844\" xlink:href=\"#DejaVuSans-69\"/>\n      <use x=\"814.498047\" xlink:href=\"#DejaVuSans-6c\"/>\n      <use x=\"842.28125\" xlink:href=\"#DejaVuSans-69\"/>\n      <use x=\"870.064453\" xlink:href=\"#DejaVuSans-74\"/>\n      <use x=\"909.273438\" xlink:href=\"#DejaVuSans-79\"/>\n     </g>\n    </g>\n   </g>\n   <g id=\"line2d_15\">\n    <path clip-path=\"url(#pc580e9a895)\" d=\"M 74.217614 24.682068 \nL 87.169258 24.682068 \nL 87.169258 27.990926 \nL 100.120902 27.990926 \nL 100.120902 43.50008 \nL 113.072546 43.50008 \nL 113.072546 73.82473 \nL 126.02419 73.82473 \nL 126.02419 97.662604 \nL 138.975834 97.662604 \nL 138.975834 118.758852 \nL 151.927478 118.758852 \nL 151.927478 138.284523 \nL 164.879122 138.284523 \nL 164.879122 163.914226 \nL 177.830766 163.914226 \nL 177.830766 178.348253 \nL 190.782411 178.348253 \nL 190.782411 191.940705 \nL 203.734055 191.940705 \nL 203.734055 209.304978 \nL 216.685699 209.304978 \nL 216.685699 220.780902 \nL 229.637343 220.780902 \nL 229.637343 226.354351 \nL 242.588987 226.354351 \nL 242.588987 233.498223 \nL 255.540631 233.498223 \nL 255.540631 239.692616 \nL 268.492275 239.692616 \nL 268.492275 249.372242 \nL 281.443919 249.372242 \nL 281.443919 255.468384 \nL 294.395563 255.468384 \nL 294.395563 261.028685 \nL 307.347207 261.028685 \nL 307.347207 268.075995 \nL 320.298852 268.075995 \nL 320.298852 273.321559 \nL 333.250496 273.321559 \nL 333.250496 277.761037 \nL 346.20214 277.761037 \nL 346.20214 284.119852 \nL 359.153784 284.119852 \nL 359.153784 291.263044 \nL 372.105428 291.263044 \nL 372.105428 297.165288 \nL 385.057072 297.165288 \nL 385.057072 300.006855 \nL 398.008716 300.006855 \nL 398.008716 304.012768 \nL 410.96036 304.012768 \nL 410.96036 308.430273 \nL 423.912004 308.430273 \nL 423.912004 314.879018 \nL 436.863648 314.879018 \nL 436.863648 319.288253 \nL 449.815293 319.288253 \nL 449.815293 322.173101 \nL 462.766937 322.173101 \nL 462.766937 325.865371 \nL 475.718581 325.865371 \nL 475.718581 329.766942 \nL 488.670225 329.766942 \nL 488.670225 333.457388 \nL 501.621869 333.457388 \nL 501.621869 338.258273 \nL 514.573513 338.258273 \nL 514.573513 342.902008 \nL 527.525157 342.902008 \nL 527.525157 349.418846 \nL 540.476801 349.418846 \nL 540.476801 351.022991 \nL 553.428445 351.022991 \nL 553.428445 353.603961 \nL 566.380089 353.603961 \nL 566.380089 355.255517 \nL 579.331734 355.255517 \nL 579.331734 361.755792 \nL 592.283378 361.755792 \nL 592.283378 362.766038 \nL 605.235022 362.766038 \nL 605.235022 362.766038 \nL 618.186666 362.766038 \nL 618.186666 362.766038 \nL 631.13831 362.766038 \nL 631.13831 362.766038 \nL 644.089954 362.766038 \nL 644.089954 362.766038 \nL 657.041598 362.766038 \nL 657.041598 362.766038 \nL 669.993242 362.766038 \nL 669.993242 362.766038 \nL 682.944886 362.766038 \nL 682.944886 362.766038 \n\" style=\"fill:none;stroke:#1f77b4;stroke-linecap:square;stroke-width:1.5;\"/>\n   </g>\n   <g id=\"line2d_16\">\n    <path clip-path=\"url(#pc580e9a895)\" d=\"M 151.927478 387.72 \nL 151.927478 121.356 \n\" style=\"fill:none;stroke:#000000;stroke-dasharray:5.55,2.4;stroke-dashoffset:0;stroke-width:1.5;\"/>\n   </g>\n   <g id=\"line2d_17\">\n    <path clip-path=\"url(#pc580e9a895)\" d=\"M 43.78125 118.815264 \nL 130.15965 118.815264 \n\" style=\"fill:none;stroke:#000000;stroke-dasharray:5.55,2.4;stroke-dashoffset:0;stroke-width:1.5;\"/>\n   </g>\n   <g id=\"line2d_18\">\n    <path clip-path=\"url(#pc580e9a895)\" d=\"M 229.637343 387.72 \nL 229.637343 220.2912 \n\" style=\"fill:none;stroke:#000000;stroke-dasharray:5.55,2.4;stroke-dashoffset:0;stroke-width:1.5;\"/>\n   </g>\n   <g id=\"line2d_19\">\n    <path clip-path=\"url(#pc580e9a895)\" d=\"M 43.78125 220.994457 \nL 213.85965 220.994457 \n\" style=\"fill:none;stroke:#000000;stroke-dasharray:5.55,2.4;stroke-dashoffset:0;stroke-width:1.5;\"/>\n   </g>\n   <g id=\"line2d_20\">\n    <path clip-path=\"url(#pc580e9a895)\" d=\"M 307.347207 387.72 \nL 307.347207 262.1484 \n\" style=\"fill:none;stroke:#000000;stroke-dasharray:5.55,2.4;stroke-dashoffset:0;stroke-width:1.5;\"/>\n   </g>\n   <g id=\"line2d_21\">\n    <path clip-path=\"url(#pc580e9a895)\" d=\"M 43.78125 260.492297 \nL 298.22925 260.492297 \n\" style=\"fill:none;stroke:#000000;stroke-dasharray:5.55,2.4;stroke-dashoffset:0;stroke-width:1.5;\"/>\n   </g>\n   <g id=\"patch_3\">\n    <path d=\"M 43.78125 387.72 \nL 43.78125 7.2 \n\" style=\"fill:none;stroke:#000000;stroke-linecap:square;stroke-linejoin:miter;stroke-width:0.8;\"/>\n   </g>\n   <g id=\"patch_4\">\n    <path d=\"M 713.38125 387.72 \nL 713.38125 7.2 \n\" style=\"fill:none;stroke:#000000;stroke-linecap:square;stroke-linejoin:miter;stroke-width:0.8;\"/>\n   </g>\n   <g id=\"patch_5\">\n    <path d=\"M 43.78125 387.72 \nL 713.38125 387.72 \n\" style=\"fill:none;stroke:#000000;stroke-linecap:square;stroke-linejoin:miter;stroke-width:0.8;\"/>\n   </g>\n   <g id=\"patch_6\">\n    <path d=\"M 43.78125 7.2 \nL 713.38125 7.2 \n\" style=\"fill:none;stroke:#000000;stroke-linecap:square;stroke-linejoin:miter;stroke-width:0.8;\"/>\n   </g>\n   <g id=\"text_17\">\n    <!-- 0.73 -->\n    <g transform=\"translate(151.927478 110.228777)scale(0.1 -0.1)\">\n     <use xlink:href=\"#DejaVuSans-30\"/>\n     <use x=\"63.623047\" xlink:href=\"#DejaVuSans-2e\"/>\n     <use x=\"95.410156\" xlink:href=\"#DejaVuSans-37\"/>\n     <use x=\"159.033203\" xlink:href=\"#DejaVuSans-33\"/>\n    </g>\n   </g>\n   <g id=\"text_18\">\n    <!-- 0.53 -->\n    <g transform=\"translate(229.637343 204.680132)scale(0.1 -0.1)\">\n     <use xlink:href=\"#DejaVuSans-30\"/>\n     <use x=\"63.623047\" xlink:href=\"#DejaVuSans-2e\"/>\n     <use x=\"95.410156\" xlink:href=\"#DejaVuSans-35\"/>\n     <use x=\"159.033203\" xlink:href=\"#DejaVuSans-33\"/>\n    </g>\n   </g>\n   <g id=\"text_19\">\n    <!-- 0.43 -->\n    <g transform=\"translate(307.347207 247.612566)scale(0.1 -0.1)\">\n     <use xlink:href=\"#DejaVuSans-30\"/>\n     <use x=\"63.623047\" xlink:href=\"#DejaVuSans-2e\"/>\n     <use x=\"95.410156\" xlink:href=\"#DejaVuSans-34\"/>\n     <use x=\"159.033203\" xlink:href=\"#DejaVuSans-33\"/>\n    </g>\n   </g>\n   <g id=\"legend_1\">\n    <g id=\"patch_7\">\n     <path d=\"M 622.121875 29.878125 \nL 706.38125 29.878125 \nQ 708.38125 29.878125 708.38125 27.878125 \nL 708.38125 14.2 \nQ 708.38125 12.2 706.38125 12.2 \nL 622.121875 12.2 \nQ 620.121875 12.2 620.121875 14.2 \nL 620.121875 27.878125 \nQ 620.121875 29.878125 622.121875 29.878125 \nz\n\" style=\"fill:#ffffff;opacity:0.8;stroke:#cccccc;stroke-linejoin:miter;\"/>\n    </g>\n    <g id=\"line2d_22\">\n     <path d=\"M 624.121875 20.298437 \nL 644.121875 20.298437 \n\" style=\"fill:none;stroke:#1f77b4;stroke-linecap:square;stroke-width:1.5;\"/>\n    </g>\n    <g id=\"line2d_23\"/>\n    <g id=\"text_20\">\n     <!-- Swimmers -->\n     <g transform=\"translate(652.121875 23.798437)scale(0.1 -0.1)\">\n      <defs>\n       <path d=\"M 269 3500 \nL 844 3500 \nL 1563 769 \nL 2278 3500 \nL 2956 3500 \nL 3675 769 \nL 4391 3500 \nL 4966 3500 \nL 4050 0 \nL 3372 0 \nL 2619 2869 \nL 1863 0 \nL 1184 0 \nL 269 3500 \nz\n\" id=\"DejaVuSans-77\" transform=\"scale(0.015625)\"/>\n       <path d=\"M 3328 2828 \nQ 3544 3216 3844 3400 \nQ 4144 3584 4550 3584 \nQ 5097 3584 5394 3201 \nQ 5691 2819 5691 2113 \nL 5691 0 \nL 5113 0 \nL 5113 2094 \nQ 5113 2597 4934 2840 \nQ 4756 3084 4391 3084 \nQ 3944 3084 3684 2787 \nQ 3425 2491 3425 1978 \nL 3425 0 \nL 2847 0 \nL 2847 2094 \nQ 2847 2600 2669 2842 \nQ 2491 3084 2119 3084 \nQ 1678 3084 1418 2786 \nQ 1159 2488 1159 1978 \nL 1159 0 \nL 581 0 \nL 581 3500 \nL 1159 3500 \nL 1159 2956 \nQ 1356 3278 1631 3431 \nQ 1906 3584 2284 3584 \nQ 2666 3584 2933 3390 \nQ 3200 3197 3328 2828 \nz\n\" id=\"DejaVuSans-6d\" transform=\"scale(0.015625)\"/>\n       <path d=\"M 3597 1894 \nL 3597 1613 \nL 953 1613 \nQ 991 1019 1311 708 \nQ 1631 397 2203 397 \nQ 2534 397 2845 478 \nQ 3156 559 3463 722 \nL 3463 178 \nQ 3153 47 2828 -22 \nQ 2503 -91 2169 -91 \nQ 1331 -91 842 396 \nQ 353 884 353 1716 \nQ 353 2575 817 3079 \nQ 1281 3584 2069 3584 \nQ 2775 3584 3186 3129 \nQ 3597 2675 3597 1894 \nz\nM 3022 2063 \nQ 3016 2534 2758 2815 \nQ 2500 3097 2075 3097 \nQ 1594 3097 1305 2825 \nQ 1016 2553 972 2059 \nL 3022 2063 \nz\n\" id=\"DejaVuSans-65\" transform=\"scale(0.015625)\"/>\n      </defs>\n      <use xlink:href=\"#DejaVuSans-53\"/>\n      <use x=\"63.476562\" xlink:href=\"#DejaVuSans-77\"/>\n      <use x=\"145.263672\" xlink:href=\"#DejaVuSans-69\"/>\n      <use x=\"173.046875\" xlink:href=\"#DejaVuSans-6d\"/>\n      <use x=\"270.458984\" xlink:href=\"#DejaVuSans-6d\"/>\n      <use x=\"367.871094\" xlink:href=\"#DejaVuSans-65\"/>\n      <use x=\"429.394531\" xlink:href=\"#DejaVuSans-72\"/>\n      <use x=\"470.507812\" xlink:href=\"#DejaVuSans-73\"/>\n     </g>\n    </g>\n   </g>\n  </g>\n </g>\n <defs>\n  <clipPath id=\"pc580e9a895\">\n   <rect height=\"380.52\" width=\"669.6\" x=\"43.78125\" y=\"7.2\"/>\n  </clipPath>\n </defs>\n</svg>\n"
     },
     "metadata": {
      "needs_background": "light"
     }
    }
   ],
   "metadata": {}
  },
  {
   "cell_type": "markdown",
   "source": [
    "# Número de cliente em risco de abandono"
   ],
   "metadata": {}
  },
  {
   "cell_type": "code",
   "execution_count": 46,
   "source": [
    "abandono=kmf.event_table.reset_index()\n",
    "\n",
    "plt.rcParams['figure.figsize'] = [12, 7]\n",
    "plt.plot(abandono.event_at, abandono.at_risk)\n",
    " \n",
    "plt.xlabel('meses')\n",
    "plt.ylabel('clientes')\n",
    "#plt.xlabel()"
   ],
   "outputs": [
    {
     "output_type": "execute_result",
     "data": {
      "text/plain": [
       "Text(0, 0.5, 'clientes')"
      ]
     },
     "metadata": {},
     "execution_count": 46
    },
    {
     "output_type": "display_data",
     "data": {
      "text/plain": [
       "<Figure size 864x504 with 1 Axes>"
      ],
      "image/png": "[encoded data removed]",
      "image/svg+xml": "<?xml version=\"1.0\" encoding=\"utf-8\" standalone=\"no\"?>\n<!DOCTYPE svg PUBLIC \"-//W3C//DTD SVG 1.1//EN\"\n  \"http://www.w3.org/Graphics/SVG/1.1/DTD/svg11.dtd\">\n<svg height=\"425.27625pt\" version=\"1.1\" viewBox=\"0 0 730.128125 425.27625\" width=\"730.128125pt\" xmlns=\"http://www.w3.org/2000/svg\" xmlns:xlink=\"http://www.w3.org/1999/xlink\">\n <metadata>\n  <rdf:RDF xmlns:cc=\"http://creativecommons.org/ns#\" xmlns:dc=\"http://purl.org/dc/elements/1.1/\" xmlns:rdf=\"http://www.w3.org/1999/02/22-rdf-syntax-ns#\">\n   <cc:Work>\n    <dc:type rdf:resource=\"http://purl.org/dc/dcmitype/StillImage\"/>\n    <dc:date>2021-07-14T16:55:02.182242</dc:date>\n    <dc:format>image/svg+xml</dc:format>\n    <dc:creator>\n     <cc:Agent>\n      <dc:title>Matplotlib v3.4.2, https://matplotlib.org/</dc:title>\n     </cc:Agent>\n    </dc:creator>\n   </cc:Work>\n  </rdf:RDF>\n </metadata>\n <defs>\n  <style type=\"text/css\">*{stroke-linecap:butt;stroke-linejoin:round;}</style>\n </defs>\n <g id=\"figure_1\">\n  <g id=\"patch_1\">\n   <path d=\"M 0 425.27625 \nL 730.128125 425.27625 \nL 730.128125 0 \nL 0 0 \nz\n\" style=\"fill:none;\"/>\n  </g>\n  <g id=\"axes_1\">\n   <g id=\"patch_2\">\n    <path d=\"M 53.328125 387.72 \nL 722.928125 387.72 \nL 722.928125 7.2 \nL 53.328125 7.2 \nz\n\" style=\"fill:#ffffff;\"/>\n   </g>\n   <g id=\"matplotlib.axis_1\">\n    <g id=\"xtick_1\">\n     <g id=\"line2d_1\">\n      <defs>\n       <path d=\"M 0 0 \nL 0 3.5 \n\" id=\"mdb0ad9f64a\" style=\"stroke:#000000;stroke-width:0.8;\"/>\n      </defs>\n      <g>\n       <use style=\"stroke:#000000;stroke-width:0.8;\" x=\"83.764489\" xlink:href=\"#mdb0ad9f64a\" y=\"387.72\"/>\n      </g>\n     </g>\n     <g id=\"text_1\">\n      <!-- 0 -->\n      <g transform=\"translate(80.583239 402.318437)scale(0.1 -0.1)\">\n       <defs>\n        <path d=\"M 2034 4250 \nQ 1547 4250 1301 3770 \nQ 1056 3291 1056 2328 \nQ 1056 1369 1301 889 \nQ 1547 409 2034 409 \nQ 2525 409 2770 889 \nQ 3016 1369 3016 2328 \nQ 3016 3291 2770 3770 \nQ 2525 4250 2034 4250 \nz\nM 2034 4750 \nQ 2819 4750 3233 4129 \nQ 3647 3509 3647 2328 \nQ 3647 1150 3233 529 \nQ 2819 -91 2034 -91 \nQ 1250 -91 836 529 \nQ 422 1150 422 2328 \nQ 422 3509 836 4129 \nQ 1250 4750 2034 4750 \nz\n\" id=\"DejaVuSans-30\" transform=\"scale(0.015625)\"/>\n       </defs>\n       <use xlink:href=\"#DejaVuSans-30\"/>\n      </g>\n     </g>\n    </g>\n    <g id=\"xtick_2\">\n     <g id=\"line2d_2\">\n      <g>\n       <use style=\"stroke:#000000;stroke-width:0.8;\" x=\"213.28093\" xlink:href=\"#mdb0ad9f64a\" y=\"387.72\"/>\n      </g>\n     </g>\n     <g id=\"text_2\">\n      <!-- 10 -->\n      <g transform=\"translate(206.91843 402.318437)scale(0.1 -0.1)\">\n       <defs>\n        <path d=\"M 794 531 \nL 1825 531 \nL 1825 4091 \nL 703 3866 \nL 703 4441 \nL 1819 4666 \nL 2450 4666 \nL 2450 531 \nL 3481 531 \nL 3481 0 \nL 794 0 \nL 794 531 \nz\n\" id=\"DejaVuSans-31\" transform=\"scale(0.015625)\"/>\n       </defs>\n       <use xlink:href=\"#DejaVuSans-31\"/>\n       <use x=\"63.623047\" xlink:href=\"#DejaVuSans-30\"/>\n      </g>\n     </g>\n    </g>\n    <g id=\"xtick_3\">\n     <g id=\"line2d_3\">\n      <g>\n       <use style=\"stroke:#000000;stroke-width:0.8;\" x=\"342.797371\" xlink:href=\"#mdb0ad9f64a\" y=\"387.72\"/>\n      </g>\n     </g>\n     <g id=\"text_3\">\n      <!-- 20 -->\n      <g transform=\"translate(336.434871 402.318437)scale(0.1 -0.1)\">\n       <defs>\n        <path d=\"M 1228 531 \nL 3431 531 \nL 3431 0 \nL 469 0 \nL 469 531 \nQ 828 903 1448 1529 \nQ 2069 2156 2228 2338 \nQ 2531 2678 2651 2914 \nQ 2772 3150 2772 3378 \nQ 2772 3750 2511 3984 \nQ 2250 4219 1831 4219 \nQ 1534 4219 1204 4116 \nQ 875 4013 500 3803 \nL 500 4441 \nQ 881 4594 1212 4672 \nQ 1544 4750 1819 4750 \nQ 2544 4750 2975 4387 \nQ 3406 4025 3406 3419 \nQ 3406 3131 3298 2873 \nQ 3191 2616 2906 2266 \nQ 2828 2175 2409 1742 \nQ 1991 1309 1228 531 \nz\n\" id=\"DejaVuSans-32\" transform=\"scale(0.015625)\"/>\n       </defs>\n       <use xlink:href=\"#DejaVuSans-32\"/>\n       <use x=\"63.623047\" xlink:href=\"#DejaVuSans-30\"/>\n      </g>\n     </g>\n    </g>\n    <g id=\"xtick_4\">\n     <g id=\"line2d_4\">\n      <g>\n       <use style=\"stroke:#000000;stroke-width:0.8;\" x=\"472.313812\" xlink:href=\"#mdb0ad9f64a\" y=\"387.72\"/>\n      </g>\n     </g>\n     <g id=\"text_4\">\n      <!-- 30 -->\n      <g transform=\"translate(465.951312 402.318437)scale(0.1 -0.1)\">\n       <defs>\n        <path d=\"M 2597 2516 \nQ 3050 2419 3304 2112 \nQ 3559 1806 3559 1356 \nQ 3559 666 3084 287 \nQ 2609 -91 1734 -91 \nQ 1441 -91 1130 -33 \nQ 819 25 488 141 \nL 488 750 \nQ 750 597 1062 519 \nQ 1375 441 1716 441 \nQ 2309 441 2620 675 \nQ 2931 909 2931 1356 \nQ 2931 1769 2642 2001 \nQ 2353 2234 1838 2234 \nL 1294 2234 \nL 1294 2753 \nL 1863 2753 \nQ 2328 2753 2575 2939 \nQ 2822 3125 2822 3475 \nQ 2822 3834 2567 4026 \nQ 2313 4219 1838 4219 \nQ 1578 4219 1281 4162 \nQ 984 4106 628 3988 \nL 628 4550 \nQ 988 4650 1302 4700 \nQ 1616 4750 1894 4750 \nQ 2613 4750 3031 4423 \nQ 3450 4097 3450 3541 \nQ 3450 3153 3228 2886 \nQ 3006 2619 2597 2516 \nz\n\" id=\"DejaVuSans-33\" transform=\"scale(0.015625)\"/>\n       </defs>\n       <use xlink:href=\"#DejaVuSans-33\"/>\n       <use x=\"63.623047\" xlink:href=\"#DejaVuSans-30\"/>\n      </g>\n     </g>\n    </g>\n    <g id=\"xtick_5\">\n     <g id=\"line2d_5\">\n      <g>\n       <use style=\"stroke:#000000;stroke-width:0.8;\" x=\"601.830253\" xlink:href=\"#mdb0ad9f64a\" y=\"387.72\"/>\n      </g>\n     </g>\n     <g id=\"text_5\">\n      <!-- 40 -->\n      <g transform=\"translate(595.467753 402.318437)scale(0.1 -0.1)\">\n       <defs>\n        <path d=\"M 2419 4116 \nL 825 1625 \nL 2419 1625 \nL 2419 4116 \nz\nM 2253 4666 \nL 3047 4666 \nL 3047 1625 \nL 3713 1625 \nL 3713 1100 \nL 3047 1100 \nL 3047 0 \nL 2419 0 \nL 2419 1100 \nL 313 1100 \nL 313 1709 \nL 2253 4666 \nz\n\" id=\"DejaVuSans-34\" transform=\"scale(0.015625)\"/>\n       </defs>\n       <use xlink:href=\"#DejaVuSans-34\"/>\n       <use x=\"63.623047\" xlink:href=\"#DejaVuSans-30\"/>\n      </g>\n     </g>\n    </g>\n    <g id=\"text_6\">\n     <!-- meses -->\n     <g transform=\"translate(371.895312 415.996562)scale(0.1 -0.1)\">\n      <defs>\n       <path d=\"M 3328 2828 \nQ 3544 3216 3844 3400 \nQ 4144 3584 4550 3584 \nQ 5097 3584 5394 3201 \nQ 5691 2819 5691 2113 \nL 5691 0 \nL 5113 0 \nL 5113 2094 \nQ 5113 2597 4934 2840 \nQ 4756 3084 4391 3084 \nQ 3944 3084 3684 2787 \nQ 3425 2491 3425 1978 \nL 3425 0 \nL 2847 0 \nL 2847 2094 \nQ 2847 2600 2669 2842 \nQ 2491 3084 2119 3084 \nQ 1678 3084 1418 2786 \nQ 1159 2488 1159 1978 \nL 1159 0 \nL 581 0 \nL 581 3500 \nL 1159 3500 \nL 1159 2956 \nQ 1356 3278 1631 3431 \nQ 1906 3584 2284 3584 \nQ 2666 3584 2933 3390 \nQ 3200 3197 3328 2828 \nz\n\" id=\"DejaVuSans-6d\" transform=\"scale(0.015625)\"/>\n       <path d=\"M 3597 1894 \nL 3597 1613 \nL 953 1613 \nQ 991 1019 1311 708 \nQ 1631 397 2203 397 \nQ 2534 397 2845 478 \nQ 3156 559 3463 722 \nL 3463 178 \nQ 3153 47 2828 -22 \nQ 2503 -91 2169 -91 \nQ 1331 -91 842 396 \nQ 353 884 353 1716 \nQ 353 2575 817 3079 \nQ 1281 3584 2069 3584 \nQ 2775 3584 3186 3129 \nQ 3597 2675 3597 1894 \nz\nM 3022 2063 \nQ 3016 2534 2758 2815 \nQ 2500 3097 2075 3097 \nQ 1594 3097 1305 2825 \nQ 1016 2553 972 2059 \nL 3022 2063 \nz\n\" id=\"DejaVuSans-65\" transform=\"scale(0.015625)\"/>\n       <path d=\"M 2834 3397 \nL 2834 2853 \nQ 2591 2978 2328 3040 \nQ 2066 3103 1784 3103 \nQ 1356 3103 1142 2972 \nQ 928 2841 928 2578 \nQ 928 2378 1081 2264 \nQ 1234 2150 1697 2047 \nL 1894 2003 \nQ 2506 1872 2764 1633 \nQ 3022 1394 3022 966 \nQ 3022 478 2636 193 \nQ 2250 -91 1575 -91 \nQ 1294 -91 989 -36 \nQ 684 19 347 128 \nL 347 722 \nQ 666 556 975 473 \nQ 1284 391 1588 391 \nQ 1994 391 2212 530 \nQ 2431 669 2431 922 \nQ 2431 1156 2273 1281 \nQ 2116 1406 1581 1522 \nL 1381 1569 \nQ 847 1681 609 1914 \nQ 372 2147 372 2553 \nQ 372 3047 722 3315 \nQ 1072 3584 1716 3584 \nQ 2034 3584 2315 3537 \nQ 2597 3491 2834 3397 \nz\n\" id=\"DejaVuSans-73\" transform=\"scale(0.015625)\"/>\n      </defs>\n      <use xlink:href=\"#DejaVuSans-6d\"/>\n      <use x=\"97.412109\" xlink:href=\"#DejaVuSans-65\"/>\n      <use x=\"158.935547\" xlink:href=\"#DejaVuSans-73\"/>\n      <use x=\"211.035156\" xlink:href=\"#DejaVuSans-65\"/>\n      <use x=\"272.558594\" xlink:href=\"#DejaVuSans-73\"/>\n     </g>\n    </g>\n   </g>\n   <g id=\"matplotlib.axis_2\">\n    <g id=\"ytick_1\">\n     <g id=\"line2d_6\">\n      <defs>\n       <path d=\"M 0 0 \nL -3.5 0 \n\" id=\"m4cd0bc1123\" style=\"stroke:#000000;stroke-width:0.8;\"/>\n      </defs>\n      <g>\n       <use style=\"stroke:#000000;stroke-width:0.8;\" x=\"53.328125\" xlink:href=\"#m4cd0bc1123\" y=\"372.227488\"/>\n      </g>\n     </g>\n     <g id=\"text_7\">\n      <!-- 0 -->\n      <g transform=\"translate(39.965625 376.026707)scale(0.1 -0.1)\">\n       <use xlink:href=\"#DejaVuSans-30\"/>\n      </g>\n     </g>\n    </g>\n    <g id=\"ytick_2\">\n     <g id=\"line2d_7\">\n      <g>\n       <use style=\"stroke:#000000;stroke-width:0.8;\" x=\"53.328125\" xlink:href=\"#m4cd0bc1123\" y=\"320.68886\"/>\n      </g>\n     </g>\n     <g id=\"text_8\">\n      <!-- 1000 -->\n      <g transform=\"translate(20.878125 324.488079)scale(0.1 -0.1)\">\n       <use xlink:href=\"#DejaVuSans-31\"/>\n       <use x=\"63.623047\" xlink:href=\"#DejaVuSans-30\"/>\n       <use x=\"127.246094\" xlink:href=\"#DejaVuSans-30\"/>\n       <use x=\"190.869141\" xlink:href=\"#DejaVuSans-30\"/>\n      </g>\n     </g>\n    </g>\n    <g id=\"ytick_3\">\n     <g id=\"line2d_8\">\n      <g>\n       <use style=\"stroke:#000000;stroke-width:0.8;\" x=\"53.328125\" xlink:href=\"#m4cd0bc1123\" y=\"269.150232\"/>\n      </g>\n     </g>\n     <g id=\"text_9\">\n      <!-- 2000 -->\n      <g transform=\"translate(20.878125 272.949451)scale(0.1 -0.1)\">\n       <use xlink:href=\"#DejaVuSans-32\"/>\n       <use x=\"63.623047\" xlink:href=\"#DejaVuSans-30\"/>\n       <use x=\"127.246094\" xlink:href=\"#DejaVuSans-30\"/>\n       <use x=\"190.869141\" xlink:href=\"#DejaVuSans-30\"/>\n      </g>\n     </g>\n    </g>\n    <g id=\"ytick_4\">\n     <g id=\"line2d_9\">\n      <g>\n       <use style=\"stroke:#000000;stroke-width:0.8;\" x=\"53.328125\" xlink:href=\"#m4cd0bc1123\" y=\"217.611604\"/>\n      </g>\n     </g>\n     <g id=\"text_10\">\n      <!-- 3000 -->\n      <g transform=\"translate(20.878125 221.410822)scale(0.1 -0.1)\">\n       <use xlink:href=\"#DejaVuSans-33\"/>\n       <use x=\"63.623047\" xlink:href=\"#DejaVuSans-30\"/>\n       <use x=\"127.246094\" xlink:href=\"#DejaVuSans-30\"/>\n       <use x=\"190.869141\" xlink:href=\"#DejaVuSans-30\"/>\n      </g>\n     </g>\n    </g>\n    <g id=\"ytick_5\">\n     <g id=\"line2d_10\">\n      <g>\n       <use style=\"stroke:#000000;stroke-width:0.8;\" x=\"53.328125\" xlink:href=\"#m4cd0bc1123\" y=\"166.072975\"/>\n      </g>\n     </g>\n     <g id=\"text_11\">\n      <!-- 4000 -->\n      <g transform=\"translate(20.878125 169.872194)scale(0.1 -0.1)\">\n       <use xlink:href=\"#DejaVuSans-34\"/>\n       <use x=\"63.623047\" xlink:href=\"#DejaVuSans-30\"/>\n       <use x=\"127.246094\" xlink:href=\"#DejaVuSans-30\"/>\n       <use x=\"190.869141\" xlink:href=\"#DejaVuSans-30\"/>\n      </g>\n     </g>\n    </g>\n    <g id=\"ytick_6\">\n     <g id=\"line2d_11\">\n      <g>\n       <use style=\"stroke:#000000;stroke-width:0.8;\" x=\"53.328125\" xlink:href=\"#m4cd0bc1123\" y=\"114.534347\"/>\n      </g>\n     </g>\n     <g id=\"text_12\">\n      <!-- 5000 -->\n      <g transform=\"translate(20.878125 118.333566)scale(0.1 -0.1)\">\n       <defs>\n        <path d=\"M 691 4666 \nL 3169 4666 \nL 3169 4134 \nL 1269 4134 \nL 1269 2991 \nQ 1406 3038 1543 3061 \nQ 1681 3084 1819 3084 \nQ 2600 3084 3056 2656 \nQ 3513 2228 3513 1497 \nQ 3513 744 3044 326 \nQ 2575 -91 1722 -91 \nQ 1428 -91 1123 -41 \nQ 819 9 494 109 \nL 494 744 \nQ 775 591 1075 516 \nQ 1375 441 1709 441 \nQ 2250 441 2565 725 \nQ 2881 1009 2881 1497 \nQ 2881 1984 2565 2268 \nQ 2250 2553 1709 2553 \nQ 1456 2553 1204 2497 \nQ 953 2441 691 2322 \nL 691 4666 \nz\n\" id=\"DejaVuSans-35\" transform=\"scale(0.015625)\"/>\n       </defs>\n       <use xlink:href=\"#DejaVuSans-35\"/>\n       <use x=\"63.623047\" xlink:href=\"#DejaVuSans-30\"/>\n       <use x=\"127.246094\" xlink:href=\"#DejaVuSans-30\"/>\n       <use x=\"190.869141\" xlink:href=\"#DejaVuSans-30\"/>\n      </g>\n     </g>\n    </g>\n    <g id=\"ytick_7\">\n     <g id=\"line2d_12\">\n      <g>\n       <use style=\"stroke:#000000;stroke-width:0.8;\" x=\"53.328125\" xlink:href=\"#m4cd0bc1123\" y=\"62.995719\"/>\n      </g>\n     </g>\n     <g id=\"text_13\">\n      <!-- 6000 -->\n      <g transform=\"translate(20.878125 66.794938)scale(0.1 -0.1)\">\n       <defs>\n        <path d=\"M 2113 2584 \nQ 1688 2584 1439 2293 \nQ 1191 2003 1191 1497 \nQ 1191 994 1439 701 \nQ 1688 409 2113 409 \nQ 2538 409 2786 701 \nQ 3034 994 3034 1497 \nQ 3034 2003 2786 2293 \nQ 2538 2584 2113 2584 \nz\nM 3366 4563 \nL 3366 3988 \nQ 3128 4100 2886 4159 \nQ 2644 4219 2406 4219 \nQ 1781 4219 1451 3797 \nQ 1122 3375 1075 2522 \nQ 1259 2794 1537 2939 \nQ 1816 3084 2150 3084 \nQ 2853 3084 3261 2657 \nQ 3669 2231 3669 1497 \nQ 3669 778 3244 343 \nQ 2819 -91 2113 -91 \nQ 1303 -91 875 529 \nQ 447 1150 447 2328 \nQ 447 3434 972 4092 \nQ 1497 4750 2381 4750 \nQ 2619 4750 2861 4703 \nQ 3103 4656 3366 4563 \nz\n\" id=\"DejaVuSans-36\" transform=\"scale(0.015625)\"/>\n       </defs>\n       <use xlink:href=\"#DejaVuSans-36\"/>\n       <use x=\"63.623047\" xlink:href=\"#DejaVuSans-30\"/>\n       <use x=\"127.246094\" xlink:href=\"#DejaVuSans-30\"/>\n       <use x=\"190.869141\" xlink:href=\"#DejaVuSans-30\"/>\n      </g>\n     </g>\n    </g>\n    <g id=\"ytick_8\">\n     <g id=\"line2d_13\">\n      <g>\n       <use style=\"stroke:#000000;stroke-width:0.8;\" x=\"53.328125\" xlink:href=\"#m4cd0bc1123\" y=\"11.457091\"/>\n      </g>\n     </g>\n     <g id=\"text_14\">\n      <!-- 7000 -->\n      <g transform=\"translate(20.878125 15.256309)scale(0.1 -0.1)\">\n       <defs>\n        <path d=\"M 525 4666 \nL 3525 4666 \nL 3525 4397 \nL 1831 0 \nL 1172 0 \nL 2766 4134 \nL 525 4134 \nL 525 4666 \nz\n\" id=\"DejaVuSans-37\" transform=\"scale(0.015625)\"/>\n       </defs>\n       <use xlink:href=\"#DejaVuSans-37\"/>\n       <use x=\"63.623047\" xlink:href=\"#DejaVuSans-30\"/>\n       <use x=\"127.246094\" xlink:href=\"#DejaVuSans-30\"/>\n       <use x=\"190.869141\" xlink:href=\"#DejaVuSans-30\"/>\n      </g>\n     </g>\n    </g>\n    <g id=\"text_15\">\n     <!-- clientes -->\n     <g transform=\"translate(14.798438 216.874062)rotate(-90)scale(0.1 -0.1)\">\n      <defs>\n       <path d=\"M 3122 3366 \nL 3122 2828 \nQ 2878 2963 2633 3030 \nQ 2388 3097 2138 3097 \nQ 1578 3097 1268 2742 \nQ 959 2388 959 1747 \nQ 959 1106 1268 751 \nQ 1578 397 2138 397 \nQ 2388 397 2633 464 \nQ 2878 531 3122 666 \nL 3122 134 \nQ 2881 22 2623 -34 \nQ 2366 -91 2075 -91 \nQ 1284 -91 818 406 \nQ 353 903 353 1747 \nQ 353 2603 823 3093 \nQ 1294 3584 2113 3584 \nQ 2378 3584 2631 3529 \nQ 2884 3475 3122 3366 \nz\n\" id=\"DejaVuSans-63\" transform=\"scale(0.015625)\"/>\n       <path d=\"M 603 4863 \nL 1178 4863 \nL 1178 0 \nL 603 0 \nL 603 4863 \nz\n\" id=\"DejaVuSans-6c\" transform=\"scale(0.015625)\"/>\n       <path d=\"M 603 3500 \nL 1178 3500 \nL 1178 0 \nL 603 0 \nL 603 3500 \nz\nM 603 4863 \nL 1178 4863 \nL 1178 4134 \nL 603 4134 \nL 603 4863 \nz\n\" id=\"DejaVuSans-69\" transform=\"scale(0.015625)\"/>\n       <path d=\"M 3513 2113 \nL 3513 0 \nL 2938 0 \nL 2938 2094 \nQ 2938 2591 2744 2837 \nQ 2550 3084 2163 3084 \nQ 1697 3084 1428 2787 \nQ 1159 2491 1159 1978 \nL 1159 0 \nL 581 0 \nL 581 3500 \nL 1159 3500 \nL 1159 2956 \nQ 1366 3272 1645 3428 \nQ 1925 3584 2291 3584 \nQ 2894 3584 3203 3211 \nQ 3513 2838 3513 2113 \nz\n\" id=\"DejaVuSans-6e\" transform=\"scale(0.015625)\"/>\n       <path d=\"M 1172 4494 \nL 1172 3500 \nL 2356 3500 \nL 2356 3053 \nL 1172 3053 \nL 1172 1153 \nQ 1172 725 1289 603 \nQ 1406 481 1766 481 \nL 2356 481 \nL 2356 0 \nL 1766 0 \nQ 1100 0 847 248 \nQ 594 497 594 1153 \nL 594 3053 \nL 172 3053 \nL 172 3500 \nL 594 3500 \nL 594 4494 \nL 1172 4494 \nz\n\" id=\"DejaVuSans-74\" transform=\"scale(0.015625)\"/>\n      </defs>\n      <use xlink:href=\"#DejaVuSans-63\"/>\n      <use x=\"54.980469\" xlink:href=\"#DejaVuSans-6c\"/>\n      <use x=\"82.763672\" xlink:href=\"#DejaVuSans-69\"/>\n      <use x=\"110.546875\" xlink:href=\"#DejaVuSans-65\"/>\n      <use x=\"172.070312\" xlink:href=\"#DejaVuSans-6e\"/>\n      <use x=\"235.449219\" xlink:href=\"#DejaVuSans-74\"/>\n      <use x=\"274.658203\" xlink:href=\"#DejaVuSans-65\"/>\n      <use x=\"336.181641\" xlink:href=\"#DejaVuSans-73\"/>\n     </g>\n    </g>\n   </g>\n   <g id=\"line2d_14\">\n    <path clip-path=\"url(#pba564f13b4)\" d=\"M 83.764489 24.496364 \nL 96.716133 24.754057 \nL 109.667777 31.299463 \nL 122.619421 70.365743 \nL 135.571065 92.991201 \nL 148.522709 112.16357 \nL 161.474353 129.995936 \nL 174.425997 146.436758 \nL 187.377641 167.361441 \nL 200.329286 181.173793 \nL 213.28093 193.543064 \nL 226.232574 208.695421 \nL 239.184218 219.312378 \nL 252.135862 224.620857 \nL 265.087506 234.825505 \nL 278.03915 256.007882 \nL 290.990794 261.677131 \nL 303.942438 267.500996 \nL 316.894082 272.191011 \nL 329.845727 277.396412 \nL 342.797371 282.189505 \nL 355.749015 286.673365 \nL 368.700659 292.703385 \nL 381.652303 298.475711 \nL 394.603947 304.093422 \nL 407.555591 306.979585 \nL 420.507235 312.854989 \nL 433.458879 325.791184 \nL 446.410523 328.419654 \nL 459.362168 331.408895 \nL 472.313812 333.676594 \nL 485.265456 336.768912 \nL 498.2171 339.345844 \nL 511.168744 342.541238 \nL 524.120388 345.324324 \nL 537.072032 348.571258 \nL 550.023676 352.127423 \nL 562.97532 353.776659 \nL 575.926964 356.611284 \nL 588.878609 366.764394 \nL 601.830253 367.537473 \nL 614.781897 368.052859 \nL 627.733541 368.516707 \nL 640.685185 368.825939 \nL 653.636829 369.135171 \nL 666.588473 369.186709 \nL 679.540117 369.753634 \nL 692.491761 370.423636 \n\" style=\"fill:none;stroke:#1f77b4;stroke-linecap:square;stroke-width:1.5;\"/>\n   </g>\n   <g id=\"patch_3\">\n    <path d=\"M 53.328125 387.72 \nL 53.328125 7.2 \n\" style=\"fill:none;stroke:#000000;stroke-linecap:square;stroke-linejoin:miter;stroke-width:0.8;\"/>\n   </g>\n   <g id=\"patch_4\">\n    <path d=\"M 722.928125 387.72 \nL 722.928125 7.2 \n\" style=\"fill:none;stroke:#000000;stroke-linecap:square;stroke-linejoin:miter;stroke-width:0.8;\"/>\n   </g>\n   <g id=\"patch_5\">\n    <path d=\"M 53.328125 387.72 \nL 722.928125 387.72 \n\" style=\"fill:none;stroke:#000000;stroke-linecap:square;stroke-linejoin:miter;stroke-width:0.8;\"/>\n   </g>\n   <g id=\"patch_6\">\n    <path d=\"M 53.328125 7.2 \nL 722.928125 7.2 \n\" style=\"fill:none;stroke:#000000;stroke-linecap:square;stroke-linejoin:miter;stroke-width:0.8;\"/>\n   </g>\n  </g>\n </g>\n <defs>\n  <clipPath id=\"pba564f13b4\">\n   <rect height=\"380.52\" width=\"669.6\" x=\"53.328125\" y=\"7.2\"/>\n  </clipPath>\n </defs>\n</svg>\n"
     },
     "metadata": {
      "needs_background": "light"
     }
    }
   ],
   "metadata": {}
  },
  {
   "cell_type": "markdown",
   "source": [
    "# Percentagem de clientes"
   ],
   "metadata": {}
  },
  {
   "cell_type": "code",
   "execution_count": 47,
   "source": [
    "abandono['percentagemClientes']= 0.0\n",
    "anterior = abandono.at_risk[0:1]\n",
    "anterior = anterior[0]\n",
    "print(anterior)\n",
    "\n",
    "for index, row in abandono.iterrows():\n",
    "    abandono.at[index, 'percentagemClientes'] = row.at_risk/anterior    \n",
    "\n",
    "plt.rcParams['figure.figsize'] = [12, 7]\n",
    "plt.xlabel('meses')\n",
    "plt.ylabel('clientes')\n",
    "plt.plot(abandono.event_at, abandono.percentagemClientes)\n",
    "plt.show()"
   ],
   "outputs": [
    {
     "output_type": "stream",
     "name": "stdout",
     "text": [
      "6747\n"
     ]
    },
    {
     "output_type": "display_data",
     "data": {
      "text/plain": [
       "<Figure size 864x504 with 1 Axes>"
      ],
      "image/png": "[encoded data removed]",
      "image/svg+xml": "<?xml version=\"1.0\" encoding=\"utf-8\" standalone=\"no\"?>\n<!DOCTYPE svg PUBLIC \"-//W3C//DTD SVG 1.1//EN\"\n  \"http://www.w3.org/Graphics/SVG/1.1/DTD/svg11.dtd\">\n<svg height=\"425.27625pt\" version=\"1.1\" viewBox=\"0 0 720.58125 425.27625\" width=\"720.58125pt\" xmlns=\"http://www.w3.org/2000/svg\" xmlns:xlink=\"http://www.w3.org/1999/xlink\">\n <metadata>\n  <rdf:RDF xmlns:cc=\"http://creativecommons.org/ns#\" xmlns:dc=\"http://purl.org/dc/elements/1.1/\" xmlns:rdf=\"http://www.w3.org/1999/02/22-rdf-syntax-ns#\">\n   <cc:Work>\n    <dc:type rdf:resource=\"http://purl.org/dc/dcmitype/StillImage\"/>\n    <dc:date>2021-07-14T16:55:04.194851</dc:date>\n    <dc:format>image/svg+xml</dc:format>\n    <dc:creator>\n     <cc:Agent>\n      <dc:title>Matplotlib v3.4.2, https://matplotlib.org/</dc:title>\n     </cc:Agent>\n    </dc:creator>\n   </cc:Work>\n  </rdf:RDF>\n </metadata>\n <defs>\n  <style type=\"text/css\">*{stroke-linecap:butt;stroke-linejoin:round;}</style>\n </defs>\n <g id=\"figure_1\">\n  <g id=\"patch_1\">\n   <path d=\"M 0 425.27625 \nL 720.58125 425.27625 \nL 720.58125 0 \nL 0 0 \nz\n\" style=\"fill:none;\"/>\n  </g>\n  <g id=\"axes_1\">\n   <g id=\"patch_2\">\n    <path d=\"M 43.78125 387.72 \nL 713.38125 387.72 \nL 713.38125 7.2 \nL 43.78125 7.2 \nz\n\" style=\"fill:#ffffff;\"/>\n   </g>\n   <g id=\"matplotlib.axis_1\">\n    <g id=\"xtick_1\">\n     <g id=\"line2d_1\">\n      <defs>\n       <path d=\"M 0 0 \nL 0 3.5 \n\" id=\"m6d8844be6a\" style=\"stroke:#000000;stroke-width:0.8;\"/>\n      </defs>\n      <g>\n       <use style=\"stroke:#000000;stroke-width:0.8;\" x=\"74.217614\" xlink:href=\"#m6d8844be6a\" y=\"387.72\"/>\n      </g>\n     </g>\n     <g id=\"text_1\">\n      <!-- 0 -->\n      <g transform=\"translate(71.036364 402.318437)scale(0.1 -0.1)\">\n       <defs>\n        <path d=\"M 2034 4250 \nQ 1547 4250 1301 3770 \nQ 1056 3291 1056 2328 \nQ 1056 1369 1301 889 \nQ 1547 409 2034 409 \nQ 2525 409 2770 889 \nQ 3016 1369 3016 2328 \nQ 3016 3291 2770 3770 \nQ 2525 4250 2034 4250 \nz\nM 2034 4750 \nQ 2819 4750 3233 4129 \nQ 3647 3509 3647 2328 \nQ 3647 1150 3233 529 \nQ 2819 -91 2034 -91 \nQ 1250 -91 836 529 \nQ 422 1150 422 2328 \nQ 422 3509 836 4129 \nQ 1250 4750 2034 4750 \nz\n\" id=\"DejaVuSans-30\" transform=\"scale(0.015625)\"/>\n       </defs>\n       <use xlink:href=\"#DejaVuSans-30\"/>\n      </g>\n     </g>\n    </g>\n    <g id=\"xtick_2\">\n     <g id=\"line2d_2\">\n      <g>\n       <use style=\"stroke:#000000;stroke-width:0.8;\" x=\"203.734055\" xlink:href=\"#m6d8844be6a\" y=\"387.72\"/>\n      </g>\n     </g>\n     <g id=\"text_2\">\n      <!-- 10 -->\n      <g transform=\"translate(197.371555 402.318437)scale(0.1 -0.1)\">\n       <defs>\n        <path d=\"M 794 531 \nL 1825 531 \nL 1825 4091 \nL 703 3866 \nL 703 4441 \nL 1819 4666 \nL 2450 4666 \nL 2450 531 \nL 3481 531 \nL 3481 0 \nL 794 0 \nL 794 531 \nz\n\" id=\"DejaVuSans-31\" transform=\"scale(0.015625)\"/>\n       </defs>\n       <use xlink:href=\"#DejaVuSans-31\"/>\n       <use x=\"63.623047\" xlink:href=\"#DejaVuSans-30\"/>\n      </g>\n     </g>\n    </g>\n    <g id=\"xtick_3\">\n     <g id=\"line2d_3\">\n      <g>\n       <use style=\"stroke:#000000;stroke-width:0.8;\" x=\"333.250496\" xlink:href=\"#m6d8844be6a\" y=\"387.72\"/>\n      </g>\n     </g>\n     <g id=\"text_3\">\n      <!-- 20 -->\n      <g transform=\"translate(326.887996 402.318437)scale(0.1 -0.1)\">\n       <defs>\n        <path d=\"M 1228 531 \nL 3431 531 \nL 3431 0 \nL 469 0 \nL 469 531 \nQ 828 903 1448 1529 \nQ 2069 2156 2228 2338 \nQ 2531 2678 2651 2914 \nQ 2772 3150 2772 3378 \nQ 2772 3750 2511 3984 \nQ 2250 4219 1831 4219 \nQ 1534 4219 1204 4116 \nQ 875 4013 500 3803 \nL 500 4441 \nQ 881 4594 1212 4672 \nQ 1544 4750 1819 4750 \nQ 2544 4750 2975 4387 \nQ 3406 4025 3406 3419 \nQ 3406 3131 3298 2873 \nQ 3191 2616 2906 2266 \nQ 2828 2175 2409 1742 \nQ 1991 1309 1228 531 \nz\n\" id=\"DejaVuSans-32\" transform=\"scale(0.015625)\"/>\n       </defs>\n       <use xlink:href=\"#DejaVuSans-32\"/>\n       <use x=\"63.623047\" xlink:href=\"#DejaVuSans-30\"/>\n      </g>\n     </g>\n    </g>\n    <g id=\"xtick_4\">\n     <g id=\"line2d_4\">\n      <g>\n       <use style=\"stroke:#000000;stroke-width:0.8;\" x=\"462.766937\" xlink:href=\"#m6d8844be6a\" y=\"387.72\"/>\n      </g>\n     </g>\n     <g id=\"text_4\">\n      <!-- 30 -->\n      <g transform=\"translate(456.404437 402.318437)scale(0.1 -0.1)\">\n       <defs>\n        <path d=\"M 2597 2516 \nQ 3050 2419 3304 2112 \nQ 3559 1806 3559 1356 \nQ 3559 666 3084 287 \nQ 2609 -91 1734 -91 \nQ 1441 -91 1130 -33 \nQ 819 25 488 141 \nL 488 750 \nQ 750 597 1062 519 \nQ 1375 441 1716 441 \nQ 2309 441 2620 675 \nQ 2931 909 2931 1356 \nQ 2931 1769 2642 2001 \nQ 2353 2234 1838 2234 \nL 1294 2234 \nL 1294 2753 \nL 1863 2753 \nQ 2328 2753 2575 2939 \nQ 2822 3125 2822 3475 \nQ 2822 3834 2567 4026 \nQ 2313 4219 1838 4219 \nQ 1578 4219 1281 4162 \nQ 984 4106 628 3988 \nL 628 4550 \nQ 988 4650 1302 4700 \nQ 1616 4750 1894 4750 \nQ 2613 4750 3031 4423 \nQ 3450 4097 3450 3541 \nQ 3450 3153 3228 2886 \nQ 3006 2619 2597 2516 \nz\n\" id=\"DejaVuSans-33\" transform=\"scale(0.015625)\"/>\n       </defs>\n       <use xlink:href=\"#DejaVuSans-33\"/>\n       <use x=\"63.623047\" xlink:href=\"#DejaVuSans-30\"/>\n      </g>\n     </g>\n    </g>\n    <g id=\"xtick_5\">\n     <g id=\"line2d_5\">\n      <g>\n       <use style=\"stroke:#000000;stroke-width:0.8;\" x=\"592.283378\" xlink:href=\"#m6d8844be6a\" y=\"387.72\"/>\n      </g>\n     </g>\n     <g id=\"text_5\">\n      <!-- 40 -->\n      <g transform=\"translate(585.920878 402.318437)scale(0.1 -0.1)\">\n       <defs>\n        <path d=\"M 2419 4116 \nL 825 1625 \nL 2419 1625 \nL 2419 4116 \nz\nM 2253 4666 \nL 3047 4666 \nL 3047 1625 \nL 3713 1625 \nL 3713 1100 \nL 3047 1100 \nL 3047 0 \nL 2419 0 \nL 2419 1100 \nL 313 1100 \nL 313 1709 \nL 2253 4666 \nz\n\" id=\"DejaVuSans-34\" transform=\"scale(0.015625)\"/>\n       </defs>\n       <use xlink:href=\"#DejaVuSans-34\"/>\n       <use x=\"63.623047\" xlink:href=\"#DejaVuSans-30\"/>\n      </g>\n     </g>\n    </g>\n    <g id=\"text_6\">\n     <!-- meses -->\n     <g transform=\"translate(362.348437 415.996562)scale(0.1 -0.1)\">\n      <defs>\n       <path d=\"M 3328 2828 \nQ 3544 3216 3844 3400 \nQ 4144 3584 4550 3584 \nQ 5097 3584 5394 3201 \nQ 5691 2819 5691 2113 \nL 5691 0 \nL 5113 0 \nL 5113 2094 \nQ 5113 2597 4934 2840 \nQ 4756 3084 4391 3084 \nQ 3944 3084 3684 2787 \nQ 3425 2491 3425 1978 \nL 3425 0 \nL 2847 0 \nL 2847 2094 \nQ 2847 2600 2669 2842 \nQ 2491 3084 2119 3084 \nQ 1678 3084 1418 2786 \nQ 1159 2488 1159 1978 \nL 1159 0 \nL 581 0 \nL 581 3500 \nL 1159 3500 \nL 1159 2956 \nQ 1356 3278 1631 3431 \nQ 1906 3584 2284 3584 \nQ 2666 3584 2933 3390 \nQ 3200 3197 3328 2828 \nz\n\" id=\"DejaVuSans-6d\" transform=\"scale(0.015625)\"/>\n       <path d=\"M 3597 1894 \nL 3597 1613 \nL 953 1613 \nQ 991 1019 1311 708 \nQ 1631 397 2203 397 \nQ 2534 397 2845 478 \nQ 3156 559 3463 722 \nL 3463 178 \nQ 3153 47 2828 -22 \nQ 2503 -91 2169 -91 \nQ 1331 -91 842 396 \nQ 353 884 353 1716 \nQ 353 2575 817 3079 \nQ 1281 3584 2069 3584 \nQ 2775 3584 3186 3129 \nQ 3597 2675 3597 1894 \nz\nM 3022 2063 \nQ 3016 2534 2758 2815 \nQ 2500 3097 2075 3097 \nQ 1594 3097 1305 2825 \nQ 1016 2553 972 2059 \nL 3022 2063 \nz\n\" id=\"DejaVuSans-65\" transform=\"scale(0.015625)\"/>\n       <path d=\"M 2834 3397 \nL 2834 2853 \nQ 2591 2978 2328 3040 \nQ 2066 3103 1784 3103 \nQ 1356 3103 1142 2972 \nQ 928 2841 928 2578 \nQ 928 2378 1081 2264 \nQ 1234 2150 1697 2047 \nL 1894 2003 \nQ 2506 1872 2764 1633 \nQ 3022 1394 3022 966 \nQ 3022 478 2636 193 \nQ 2250 -91 1575 -91 \nQ 1294 -91 989 -36 \nQ 684 19 347 128 \nL 347 722 \nQ 666 556 975 473 \nQ 1284 391 1588 391 \nQ 1994 391 2212 530 \nQ 2431 669 2431 922 \nQ 2431 1156 2273 1281 \nQ 2116 1406 1581 1522 \nL 1381 1569 \nQ 847 1681 609 1914 \nQ 372 2147 372 2553 \nQ 372 3047 722 3315 \nQ 1072 3584 1716 3584 \nQ 2034 3584 2315 3537 \nQ 2597 3491 2834 3397 \nz\n\" id=\"DejaVuSans-73\" transform=\"scale(0.015625)\"/>\n      </defs>\n      <use xlink:href=\"#DejaVuSans-6d\"/>\n      <use x=\"97.412109\" xlink:href=\"#DejaVuSans-65\"/>\n      <use x=\"158.935547\" xlink:href=\"#DejaVuSans-73\"/>\n      <use x=\"211.035156\" xlink:href=\"#DejaVuSans-65\"/>\n      <use x=\"272.558594\" xlink:href=\"#DejaVuSans-73\"/>\n     </g>\n    </g>\n   </g>\n   <g id=\"matplotlib.axis_2\">\n    <g id=\"ytick_1\">\n     <g id=\"line2d_6\">\n      <defs>\n       <path d=\"M 0 0 \nL -3.5 0 \n\" id=\"m53099a663e\" style=\"stroke:#000000;stroke-width:0.8;\"/>\n      </defs>\n      <g>\n       <use style=\"stroke:#000000;stroke-width:0.8;\" x=\"43.78125\" xlink:href=\"#m53099a663e\" y=\"372.227488\"/>\n      </g>\n     </g>\n     <g id=\"text_7\">\n      <!-- 0.0 -->\n      <g transform=\"translate(20.878125 376.026707)scale(0.1 -0.1)\">\n       <defs>\n        <path d=\"M 684 794 \nL 1344 794 \nL 1344 0 \nL 684 0 \nL 684 794 \nz\n\" id=\"DejaVuSans-2e\" transform=\"scale(0.015625)\"/>\n       </defs>\n       <use xlink:href=\"#DejaVuSans-30\"/>\n       <use x=\"63.623047\" xlink:href=\"#DejaVuSans-2e\"/>\n       <use x=\"95.410156\" xlink:href=\"#DejaVuSans-30\"/>\n      </g>\n     </g>\n    </g>\n    <g id=\"ytick_2\">\n     <g id=\"line2d_7\">\n      <g>\n       <use style=\"stroke:#000000;stroke-width:0.8;\" x=\"43.78125\" xlink:href=\"#m53099a663e\" y=\"302.681263\"/>\n      </g>\n     </g>\n     <g id=\"text_8\">\n      <!-- 0.2 -->\n      <g transform=\"translate(20.878125 306.480482)scale(0.1 -0.1)\">\n       <use xlink:href=\"#DejaVuSans-30\"/>\n       <use x=\"63.623047\" xlink:href=\"#DejaVuSans-2e\"/>\n       <use x=\"95.410156\" xlink:href=\"#DejaVuSans-32\"/>\n      </g>\n     </g>\n    </g>\n    <g id=\"ytick_3\">\n     <g id=\"line2d_8\">\n      <g>\n       <use style=\"stroke:#000000;stroke-width:0.8;\" x=\"43.78125\" xlink:href=\"#m53099a663e\" y=\"233.135038\"/>\n      </g>\n     </g>\n     <g id=\"text_9\">\n      <!-- 0.4 -->\n      <g transform=\"translate(20.878125 236.934257)scale(0.1 -0.1)\">\n       <use xlink:href=\"#DejaVuSans-30\"/>\n       <use x=\"63.623047\" xlink:href=\"#DejaVuSans-2e\"/>\n       <use x=\"95.410156\" xlink:href=\"#DejaVuSans-34\"/>\n      </g>\n     </g>\n    </g>\n    <g id=\"ytick_4\">\n     <g id=\"line2d_9\">\n      <g>\n       <use style=\"stroke:#000000;stroke-width:0.8;\" x=\"43.78125\" xlink:href=\"#m53099a663e\" y=\"163.588814\"/>\n      </g>\n     </g>\n     <g id=\"text_10\">\n      <!-- 0.6 -->\n      <g transform=\"translate(20.878125 167.388032)scale(0.1 -0.1)\">\n       <defs>\n        <path d=\"M 2113 2584 \nQ 1688 2584 1439 2293 \nQ 1191 2003 1191 1497 \nQ 1191 994 1439 701 \nQ 1688 409 2113 409 \nQ 2538 409 2786 701 \nQ 3034 994 3034 1497 \nQ 3034 2003 2786 2293 \nQ 2538 2584 2113 2584 \nz\nM 3366 4563 \nL 3366 3988 \nQ 3128 4100 2886 4159 \nQ 2644 4219 2406 4219 \nQ 1781 4219 1451 3797 \nQ 1122 3375 1075 2522 \nQ 1259 2794 1537 2939 \nQ 1816 3084 2150 3084 \nQ 2853 3084 3261 2657 \nQ 3669 2231 3669 1497 \nQ 3669 778 3244 343 \nQ 2819 -91 2113 -91 \nQ 1303 -91 875 529 \nQ 447 1150 447 2328 \nQ 447 3434 972 4092 \nQ 1497 4750 2381 4750 \nQ 2619 4750 2861 4703 \nQ 3103 4656 3366 4563 \nz\n\" id=\"DejaVuSans-36\" transform=\"scale(0.015625)\"/>\n       </defs>\n       <use xlink:href=\"#DejaVuSans-30\"/>\n       <use x=\"63.623047\" xlink:href=\"#DejaVuSans-2e\"/>\n       <use x=\"95.410156\" xlink:href=\"#DejaVuSans-36\"/>\n      </g>\n     </g>\n    </g>\n    <g id=\"ytick_5\">\n     <g id=\"line2d_10\">\n      <g>\n       <use style=\"stroke:#000000;stroke-width:0.8;\" x=\"43.78125\" xlink:href=\"#m53099a663e\" y=\"94.042589\"/>\n      </g>\n     </g>\n     <g id=\"text_11\">\n      <!-- 0.8 -->\n      <g transform=\"translate(20.878125 97.841807)scale(0.1 -0.1)\">\n       <defs>\n        <path d=\"M 2034 2216 \nQ 1584 2216 1326 1975 \nQ 1069 1734 1069 1313 \nQ 1069 891 1326 650 \nQ 1584 409 2034 409 \nQ 2484 409 2743 651 \nQ 3003 894 3003 1313 \nQ 3003 1734 2745 1975 \nQ 2488 2216 2034 2216 \nz\nM 1403 2484 \nQ 997 2584 770 2862 \nQ 544 3141 544 3541 \nQ 544 4100 942 4425 \nQ 1341 4750 2034 4750 \nQ 2731 4750 3128 4425 \nQ 3525 4100 3525 3541 \nQ 3525 3141 3298 2862 \nQ 3072 2584 2669 2484 \nQ 3125 2378 3379 2068 \nQ 3634 1759 3634 1313 \nQ 3634 634 3220 271 \nQ 2806 -91 2034 -91 \nQ 1263 -91 848 271 \nQ 434 634 434 1313 \nQ 434 1759 690 2068 \nQ 947 2378 1403 2484 \nz\nM 1172 3481 \nQ 1172 3119 1398 2916 \nQ 1625 2713 2034 2713 \nQ 2441 2713 2670 2916 \nQ 2900 3119 2900 3481 \nQ 2900 3844 2670 4047 \nQ 2441 4250 2034 4250 \nQ 1625 4250 1398 4047 \nQ 1172 3844 1172 3481 \nz\n\" id=\"DejaVuSans-38\" transform=\"scale(0.015625)\"/>\n       </defs>\n       <use xlink:href=\"#DejaVuSans-30\"/>\n       <use x=\"63.623047\" xlink:href=\"#DejaVuSans-2e\"/>\n       <use x=\"95.410156\" xlink:href=\"#DejaVuSans-38\"/>\n      </g>\n     </g>\n    </g>\n    <g id=\"ytick_6\">\n     <g id=\"line2d_11\">\n      <g>\n       <use style=\"stroke:#000000;stroke-width:0.8;\" x=\"43.78125\" xlink:href=\"#m53099a663e\" y=\"24.496364\"/>\n      </g>\n     </g>\n     <g id=\"text_12\">\n      <!-- 1.0 -->\n      <g transform=\"translate(20.878125 28.295582)scale(0.1 -0.1)\">\n       <use xlink:href=\"#DejaVuSans-31\"/>\n       <use x=\"63.623047\" xlink:href=\"#DejaVuSans-2e\"/>\n       <use x=\"95.410156\" xlink:href=\"#DejaVuSans-30\"/>\n      </g>\n     </g>\n    </g>\n    <g id=\"text_13\">\n     <!-- clientes -->\n     <g transform=\"translate(14.798438 216.874062)rotate(-90)scale(0.1 -0.1)\">\n      <defs>\n       <path d=\"M 3122 3366 \nL 3122 2828 \nQ 2878 2963 2633 3030 \nQ 2388 3097 2138 3097 \nQ 1578 3097 1268 2742 \nQ 959 2388 959 1747 \nQ 959 1106 1268 751 \nQ 1578 397 2138 397 \nQ 2388 397 2633 464 \nQ 2878 531 3122 666 \nL 3122 134 \nQ 2881 22 2623 -34 \nQ 2366 -91 2075 -91 \nQ 1284 -91 818 406 \nQ 353 903 353 1747 \nQ 353 2603 823 3093 \nQ 1294 3584 2113 3584 \nQ 2378 3584 2631 3529 \nQ 2884 3475 3122 3366 \nz\n\" id=\"DejaVuSans-63\" transform=\"scale(0.015625)\"/>\n       <path d=\"M 603 4863 \nL 1178 4863 \nL 1178 0 \nL 603 0 \nL 603 4863 \nz\n\" id=\"DejaVuSans-6c\" transform=\"scale(0.015625)\"/>\n       <path d=\"M 603 3500 \nL 1178 3500 \nL 1178 0 \nL 603 0 \nL 603 3500 \nz\nM 603 4863 \nL 1178 4863 \nL 1178 4134 \nL 603 4134 \nL 603 4863 \nz\n\" id=\"DejaVuSans-69\" transform=\"scale(0.015625)\"/>\n       <path d=\"M 3513 2113 \nL 3513 0 \nL 2938 0 \nL 2938 2094 \nQ 2938 2591 2744 2837 \nQ 2550 3084 2163 3084 \nQ 1697 3084 1428 2787 \nQ 1159 2491 1159 1978 \nL 1159 0 \nL 581 0 \nL 581 3500 \nL 1159 3500 \nL 1159 2956 \nQ 1366 3272 1645 3428 \nQ 1925 3584 2291 3584 \nQ 2894 3584 3203 3211 \nQ 3513 2838 3513 2113 \nz\n\" id=\"DejaVuSans-6e\" transform=\"scale(0.015625)\"/>\n       <path d=\"M 1172 4494 \nL 1172 3500 \nL 2356 3500 \nL 2356 3053 \nL 1172 3053 \nL 1172 1153 \nQ 1172 725 1289 603 \nQ 1406 481 1766 481 \nL 2356 481 \nL 2356 0 \nL 1766 0 \nQ 1100 0 847 248 \nQ 594 497 594 1153 \nL 594 3053 \nL 172 3053 \nL 172 3500 \nL 594 3500 \nL 594 4494 \nL 1172 4494 \nz\n\" id=\"DejaVuSans-74\" transform=\"scale(0.015625)\"/>\n      </defs>\n      <use xlink:href=\"#DejaVuSans-63\"/>\n      <use x=\"54.980469\" xlink:href=\"#DejaVuSans-6c\"/>\n      <use x=\"82.763672\" xlink:href=\"#DejaVuSans-69\"/>\n      <use x=\"110.546875\" xlink:href=\"#DejaVuSans-65\"/>\n      <use x=\"172.070312\" xlink:href=\"#DejaVuSans-6e\"/>\n      <use x=\"235.449219\" xlink:href=\"#DejaVuSans-74\"/>\n      <use x=\"274.658203\" xlink:href=\"#DejaVuSans-65\"/>\n      <use x=\"336.181641\" xlink:href=\"#DejaVuSans-73\"/>\n     </g>\n    </g>\n   </g>\n   <g id=\"line2d_12\">\n    <path clip-path=\"url(#p46bd543a79)\" d=\"M 74.217614 24.496364 \nL 87.169258 24.754057 \nL 100.120902 31.299463 \nL 113.072546 70.365743 \nL 126.02419 92.991201 \nL 138.975834 112.16357 \nL 151.927478 129.995936 \nL 164.879122 146.436758 \nL 177.830766 167.361441 \nL 190.782411 181.173793 \nL 203.734055 193.543064 \nL 216.685699 208.695421 \nL 229.637343 219.312378 \nL 242.588987 224.620857 \nL 255.540631 234.825505 \nL 268.492275 256.007882 \nL 281.443919 261.677131 \nL 294.395563 267.500996 \nL 307.347207 272.191011 \nL 320.298852 277.396412 \nL 333.250496 282.189505 \nL 346.20214 286.673365 \nL 359.153784 292.703385 \nL 372.105428 298.475711 \nL 385.057072 304.093422 \nL 398.008716 306.979585 \nL 410.96036 312.854989 \nL 423.912004 325.791184 \nL 436.863648 328.419654 \nL 449.815293 331.408895 \nL 462.766937 333.676594 \nL 475.718581 336.768912 \nL 488.670225 339.345844 \nL 501.621869 342.541238 \nL 514.573513 345.324324 \nL 527.525157 348.571258 \nL 540.476801 352.127423 \nL 553.428445 353.776659 \nL 566.380089 356.611284 \nL 579.331734 366.764394 \nL 592.283378 367.537473 \nL 605.235022 368.052859 \nL 618.186666 368.516707 \nL 631.13831 368.825939 \nL 644.089954 369.135171 \nL 657.041598 369.186709 \nL 669.993242 369.753634 \nL 682.944886 370.423636 \n\" style=\"fill:none;stroke:#1f77b4;stroke-linecap:square;stroke-width:1.5;\"/>\n   </g>\n   <g id=\"patch_3\">\n    <path d=\"M 43.78125 387.72 \nL 43.78125 7.2 \n\" style=\"fill:none;stroke:#000000;stroke-linecap:square;stroke-linejoin:miter;stroke-width:0.8;\"/>\n   </g>\n   <g id=\"patch_4\">\n    <path d=\"M 713.38125 387.72 \nL 713.38125 7.2 \n\" style=\"fill:none;stroke:#000000;stroke-linecap:square;stroke-linejoin:miter;stroke-width:0.8;\"/>\n   </g>\n   <g id=\"patch_5\">\n    <path d=\"M 43.78125 387.72 \nL 713.38125 387.72 \n\" style=\"fill:none;stroke:#000000;stroke-linecap:square;stroke-linejoin:miter;stroke-width:0.8;\"/>\n   </g>\n   <g id=\"patch_6\">\n    <path d=\"M 43.78125 7.2 \nL 713.38125 7.2 \n\" style=\"fill:none;stroke:#000000;stroke-linecap:square;stroke-linejoin:miter;stroke-width:0.8;\"/>\n   </g>\n  </g>\n </g>\n <defs>\n  <clipPath id=\"p46bd543a79\">\n   <rect height=\"380.52\" width=\"669.6\" x=\"43.78125\" y=\"7.2\"/>\n  </clipPath>\n </defs>\n</svg>\n"
     },
     "metadata": {
      "needs_background": "light"
     }
    }
   ],
   "metadata": {}
  },
  {
   "cell_type": "code",
   "execution_count": 48,
   "source": [
    "abandono"
   ],
   "outputs": [
    {
     "output_type": "execute_result",
     "data": {
      "text/plain": [
       "    event_at  removed  observed  censored  entrance  at_risk  \\\n",
       "0          0        5         5         0      6747     6747   \n",
       "1          1      127        52        75         0     6742   \n",
       "2          2      758       241       517         0     6615   \n",
       "3          3      439       433         6         0     5857   \n",
       "4          4      372       340        32         0     5418   \n",
       "5          5      346       299        47         0     5046   \n",
       "6          6      319       274        45         0     4700   \n",
       "7          7      406       356        50         0     4381   \n",
       "8          8      268       198        70         0     3975   \n",
       "9          9      240       183        57         0     3707   \n",
       "10        10      294       230        64         0     3467   \n",
       "11        11      206       149        57         0     3173   \n",
       "12        12      103        71        32         0     2967   \n",
       "13        13      198        90       108         0     2864   \n",
       "14        14      411        75       336         0     2666   \n",
       "15        15      110       102         8         0     2255   \n",
       "16        16      113        64        49         0     2145   \n",
       "17        17       91        57        34         0     2032   \n",
       "18        18      101        71        30         0     1941   \n",
       "19        19       93        52        41         0     1840   \n",
       "20        20       87        43        44         0     1747   \n",
       "21        21      117        60        57         0     1660   \n",
       "22        22      112        65        47         0     1543   \n",
       "23        23      109        52        57         0     1431   \n",
       "24        24       56        24        32         0     1322   \n",
       "25        25      114        33        81         0     1266   \n",
       "26        26      251        34       217         0     1152   \n",
       "27        27       51        40        11         0      901   \n",
       "28        28       58        27        31         0      850   \n",
       "29        29       44        17        27         0      792   \n",
       "30        30       60        21        39         0      748   \n",
       "31        31       50        21        29         0      688   \n",
       "32        32       62        19        43         0      638   \n",
       "33        33       54        23        31         0      576   \n",
       "34        34       63        21        42         0      522   \n",
       "35        35       69        27        42         0      459   \n",
       "36        36       32         6        26         0      390   \n",
       "37        37       55         9        46         0      358   \n",
       "38        38      197         5       192         0      303   \n",
       "39        39       15         7         8         0      106   \n",
       "40        40       10         1         9         0       91   \n",
       "41        41        9         0         9         0       81   \n",
       "42        42        6         0         6         0       72   \n",
       "43        43        6         0         6         0       66   \n",
       "44        44        1         0         1         0       60   \n",
       "45        45       11         0        11         0       59   \n",
       "46        46       13         0        13         0       48   \n",
       "47        47       35         0        35         0       35   \n",
       "\n",
       "    percentagemClientes  \n",
       "0              1.000000  \n",
       "1              0.999259  \n",
       "2              0.980436  \n",
       "3              0.868090  \n",
       "4              0.803024  \n",
       "5              0.747888  \n",
       "6              0.696606  \n",
       "7              0.649326  \n",
       "8              0.589151  \n",
       "9              0.549429  \n",
       "10             0.513858  \n",
       "11             0.470283  \n",
       "12             0.439751  \n",
       "13             0.424485  \n",
       "14             0.395139  \n",
       "15             0.334223  \n",
       "16             0.317919  \n",
       "17             0.301171  \n",
       "18             0.287683  \n",
       "19             0.272714  \n",
       "20             0.258930  \n",
       "21             0.246035  \n",
       "22             0.228694  \n",
       "23             0.212094  \n",
       "24             0.195939  \n",
       "25             0.187639  \n",
       "26             0.170743  \n",
       "27             0.133541  \n",
       "28             0.125982  \n",
       "29             0.117386  \n",
       "30             0.110864  \n",
       "31             0.101971  \n",
       "32             0.094561  \n",
       "33             0.085371  \n",
       "34             0.077368  \n",
       "35             0.068030  \n",
       "36             0.057803  \n",
       "37             0.053061  \n",
       "38             0.044909  \n",
       "39             0.015711  \n",
       "40             0.013487  \n",
       "41             0.012005  \n",
       "42             0.010671  \n",
       "43             0.009782  \n",
       "44             0.008893  \n",
       "45             0.008745  \n",
       "46             0.007114  \n",
       "47             0.005187  "
      ],
      "text/html": [
       "<div>\n",
       "<style scoped>\n",
       "    .dataframe tbody tr th:only-of-type {\n",
       "        vertical-align: middle;\n",
       "    }\n",
       "\n",
       "    .dataframe tbody tr th {\n",
       "        vertical-align: top;\n",
       "    }\n",
       "\n",
       "    .dataframe thead th {\n",
       "        text-align: right;\n",
       "    }\n",
       "</style>\n",
       "<table border=\"1\" class=\"dataframe\">\n",
       "  <thead>\n",
       "    <tr style=\"text-align: right;\">\n",
       "      <th></th>\n",
       "      <th>event_at</th>\n",
       "      <th>removed</th>\n",
       "      <th>observed</th>\n",
       "      <th>censored</th>\n",
       "      <th>entrance</th>\n",
       "      <th>at_risk</th>\n",
       "      <th>percentagemClientes</th>\n",
       "    </tr>\n",
       "  </thead>\n",
       "  <tbody>\n",
       "    <tr>\n",
       "      <th>0</th>\n",
       "      <td>0</td>\n",
       "      <td>5</td>\n",
       "      <td>5</td>\n",
       "      <td>0</td>\n",
       "      <td>6747</td>\n",
       "      <td>6747</td>\n",
       "      <td>1.000000</td>\n",
       "    </tr>\n",
       "    <tr>\n",
       "      <th>1</th>\n",
       "      <td>1</td>\n",
       "      <td>127</td>\n",
       "      <td>52</td>\n",
       "      <td>75</td>\n",
       "      <td>0</td>\n",
       "      <td>6742</td>\n",
       "      <td>0.999259</td>\n",
       "    </tr>\n",
       "    <tr>\n",
       "      <th>2</th>\n",
       "      <td>2</td>\n",
       "      <td>758</td>\n",
       "      <td>241</td>\n",
       "      <td>517</td>\n",
       "      <td>0</td>\n",
       "      <td>6615</td>\n",
       "      <td>0.980436</td>\n",
       "    </tr>\n",
       "    <tr>\n",
       "      <th>3</th>\n",
       "      <td>3</td>\n",
       "      <td>439</td>\n",
       "      <td>433</td>\n",
       "      <td>6</td>\n",
       "      <td>0</td>\n",
       "      <td>5857</td>\n",
       "      <td>0.868090</td>\n",
       "    </tr>\n",
       "    <tr>\n",
       "      <th>4</th>\n",
       "      <td>4</td>\n",
       "      <td>372</td>\n",
       "      <td>340</td>\n",
       "      <td>32</td>\n",
       "      <td>0</td>\n",
       "      <td>5418</td>\n",
       "      <td>0.803024</td>\n",
       "    </tr>\n",
       "    <tr>\n",
       "      <th>5</th>\n",
       "      <td>5</td>\n",
       "      <td>346</td>\n",
       "      <td>299</td>\n",
       "      <td>47</td>\n",
       "      <td>0</td>\n",
       "      <td>5046</td>\n",
       "      <td>0.747888</td>\n",
       "    </tr>\n",
       "    <tr>\n",
       "      <th>6</th>\n",
       "      <td>6</td>\n",
       "      <td>319</td>\n",
       "      <td>274</td>\n",
       "      <td>45</td>\n",
       "      <td>0</td>\n",
       "      <td>4700</td>\n",
       "      <td>0.696606</td>\n",
       "    </tr>\n",
       "    <tr>\n",
       "      <th>7</th>\n",
       "      <td>7</td>\n",
       "      <td>406</td>\n",
       "      <td>356</td>\n",
       "      <td>50</td>\n",
       "      <td>0</td>\n",
       "      <td>4381</td>\n",
       "      <td>0.649326</td>\n",
       "    </tr>\n",
       "    <tr>\n",
       "      <th>8</th>\n",
       "      <td>8</td>\n",
       "      <td>268</td>\n",
       "      <td>198</td>\n",
       "      <td>70</td>\n",
       "      <td>0</td>\n",
       "      <td>3975</td>\n",
       "      <td>0.589151</td>\n",
       "    </tr>\n",
       "    <tr>\n",
       "      <th>9</th>\n",
       "      <td>9</td>\n",
       "      <td>240</td>\n",
       "      <td>183</td>\n",
       "      <td>57</td>\n",
       "      <td>0</td>\n",
       "      <td>3707</td>\n",
       "      <td>0.549429</td>\n",
       "    </tr>\n",
       "    <tr>\n",
       "      <th>10</th>\n",
       "      <td>10</td>\n",
       "      <td>294</td>\n",
       "      <td>230</td>\n",
       "      <td>64</td>\n",
       "      <td>0</td>\n",
       "      <td>3467</td>\n",
       "      <td>0.513858</td>\n",
       "    </tr>\n",
       "    <tr>\n",
       "      <th>11</th>\n",
       "      <td>11</td>\n",
       "      <td>206</td>\n",
       "      <td>149</td>\n",
       "      <td>57</td>\n",
       "      <td>0</td>\n",
       "      <td>3173</td>\n",
       "      <td>0.470283</td>\n",
       "    </tr>\n",
       "    <tr>\n",
       "      <th>12</th>\n",
       "      <td>12</td>\n",
       "      <td>103</td>\n",
       "      <td>71</td>\n",
       "      <td>32</td>\n",
       "      <td>0</td>\n",
       "      <td>2967</td>\n",
       "      <td>0.439751</td>\n",
       "    </tr>\n",
       "    <tr>\n",
       "      <th>13</th>\n",
       "      <td>13</td>\n",
       "      <td>198</td>\n",
       "      <td>90</td>\n",
       "      <td>108</td>\n",
       "      <td>0</td>\n",
       "      <td>2864</td>\n",
       "      <td>0.424485</td>\n",
       "    </tr>\n",
       "    <tr>\n",
       "      <th>14</th>\n",
       "      <td>14</td>\n",
       "      <td>411</td>\n",
       "      <td>75</td>\n",
       "      <td>336</td>\n",
       "      <td>0</td>\n",
       "      <td>2666</td>\n",
       "      <td>0.395139</td>\n",
       "    </tr>\n",
       "    <tr>\n",
       "      <th>15</th>\n",
       "      <td>15</td>\n",
       "      <td>110</td>\n",
       "      <td>102</td>\n",
       "      <td>8</td>\n",
       "      <td>0</td>\n",
       "      <td>2255</td>\n",
       "      <td>0.334223</td>\n",
       "    </tr>\n",
       "    <tr>\n",
       "      <th>16</th>\n",
       "      <td>16</td>\n",
       "      <td>113</td>\n",
       "      <td>64</td>\n",
       "      <td>49</td>\n",
       "      <td>0</td>\n",
       "      <td>2145</td>\n",
       "      <td>0.317919</td>\n",
       "    </tr>\n",
       "    <tr>\n",
       "      <th>17</th>\n",
       "      <td>17</td>\n",
       "      <td>91</td>\n",
       "      <td>57</td>\n",
       "      <td>34</td>\n",
       "      <td>0</td>\n",
       "      <td>2032</td>\n",
       "      <td>0.301171</td>\n",
       "    </tr>\n",
       "    <tr>\n",
       "      <th>18</th>\n",
       "      <td>18</td>\n",
       "      <td>101</td>\n",
       "      <td>71</td>\n",
       "      <td>30</td>\n",
       "      <td>0</td>\n",
       "      <td>1941</td>\n",
       "      <td>0.287683</td>\n",
       "    </tr>\n",
       "    <tr>\n",
       "      <th>19</th>\n",
       "      <td>19</td>\n",
       "      <td>93</td>\n",
       "      <td>52</td>\n",
       "      <td>41</td>\n",
       "      <td>0</td>\n",
       "      <td>1840</td>\n",
       "      <td>0.272714</td>\n",
       "    </tr>\n",
       "    <tr>\n",
       "      <th>20</th>\n",
       "      <td>20</td>\n",
       "      <td>87</td>\n",
       "      <td>43</td>\n",
       "      <td>44</td>\n",
       "      <td>0</td>\n",
       "      <td>1747</td>\n",
       "      <td>0.258930</td>\n",
       "    </tr>\n",
       "    <tr>\n",
       "      <th>21</th>\n",
       "      <td>21</td>\n",
       "      <td>117</td>\n",
       "      <td>60</td>\n",
       "      <td>57</td>\n",
       "      <td>0</td>\n",
       "      <td>1660</td>\n",
       "      <td>0.246035</td>\n",
       "    </tr>\n",
       "    <tr>\n",
       "      <th>22</th>\n",
       "      <td>22</td>\n",
       "      <td>112</td>\n",
       "      <td>65</td>\n",
       "      <td>47</td>\n",
       "      <td>0</td>\n",
       "      <td>1543</td>\n",
       "      <td>0.228694</td>\n",
       "    </tr>\n",
       "    <tr>\n",
       "      <th>23</th>\n",
       "      <td>23</td>\n",
       "      <td>109</td>\n",
       "      <td>52</td>\n",
       "      <td>57</td>\n",
       "      <td>0</td>\n",
       "      <td>1431</td>\n",
       "      <td>0.212094</td>\n",
       "    </tr>\n",
       "    <tr>\n",
       "      <th>24</th>\n",
       "      <td>24</td>\n",
       "      <td>56</td>\n",
       "      <td>24</td>\n",
       "      <td>32</td>\n",
       "      <td>0</td>\n",
       "      <td>1322</td>\n",
       "      <td>0.195939</td>\n",
       "    </tr>\n",
       "    <tr>\n",
       "      <th>25</th>\n",
       "      <td>25</td>\n",
       "      <td>114</td>\n",
       "      <td>33</td>\n",
       "      <td>81</td>\n",
       "      <td>0</td>\n",
       "      <td>1266</td>\n",
       "      <td>0.187639</td>\n",
       "    </tr>\n",
       "    <tr>\n",
       "      <th>26</th>\n",
       "      <td>26</td>\n",
       "      <td>251</td>\n",
       "      <td>34</td>\n",
       "      <td>217</td>\n",
       "      <td>0</td>\n",
       "      <td>1152</td>\n",
       "      <td>0.170743</td>\n",
       "    </tr>\n",
       "    <tr>\n",
       "      <th>27</th>\n",
       "      <td>27</td>\n",
       "      <td>51</td>\n",
       "      <td>40</td>\n",
       "      <td>11</td>\n",
       "      <td>0</td>\n",
       "      <td>901</td>\n",
       "      <td>0.133541</td>\n",
       "    </tr>\n",
       "    <tr>\n",
       "      <th>28</th>\n",
       "      <td>28</td>\n",
       "      <td>58</td>\n",
       "      <td>27</td>\n",
       "      <td>31</td>\n",
       "      <td>0</td>\n",
       "      <td>850</td>\n",
       "      <td>0.125982</td>\n",
       "    </tr>\n",
       "    <tr>\n",
       "      <th>29</th>\n",
       "      <td>29</td>\n",
       "      <td>44</td>\n",
       "      <td>17</td>\n",
       "      <td>27</td>\n",
       "      <td>0</td>\n",
       "      <td>792</td>\n",
       "      <td>0.117386</td>\n",
       "    </tr>\n",
       "    <tr>\n",
       "      <th>30</th>\n",
       "      <td>30</td>\n",
       "      <td>60</td>\n",
       "      <td>21</td>\n",
       "      <td>39</td>\n",
       "      <td>0</td>\n",
       "      <td>748</td>\n",
       "      <td>0.110864</td>\n",
       "    </tr>\n",
       "    <tr>\n",
       "      <th>31</th>\n",
       "      <td>31</td>\n",
       "      <td>50</td>\n",
       "      <td>21</td>\n",
       "      <td>29</td>\n",
       "      <td>0</td>\n",
       "      <td>688</td>\n",
       "      <td>0.101971</td>\n",
       "    </tr>\n",
       "    <tr>\n",
       "      <th>32</th>\n",
       "      <td>32</td>\n",
       "      <td>62</td>\n",
       "      <td>19</td>\n",
       "      <td>43</td>\n",
       "      <td>0</td>\n",
       "      <td>638</td>\n",
       "      <td>0.094561</td>\n",
       "    </tr>\n",
       "    <tr>\n",
       "      <th>33</th>\n",
       "      <td>33</td>\n",
       "      <td>54</td>\n",
       "      <td>23</td>\n",
       "      <td>31</td>\n",
       "      <td>0</td>\n",
       "      <td>576</td>\n",
       "      <td>0.085371</td>\n",
       "    </tr>\n",
       "    <tr>\n",
       "      <th>34</th>\n",
       "      <td>34</td>\n",
       "      <td>63</td>\n",
       "      <td>21</td>\n",
       "      <td>42</td>\n",
       "      <td>0</td>\n",
       "      <td>522</td>\n",
       "      <td>0.077368</td>\n",
       "    </tr>\n",
       "    <tr>\n",
       "      <th>35</th>\n",
       "      <td>35</td>\n",
       "      <td>69</td>\n",
       "      <td>27</td>\n",
       "      <td>42</td>\n",
       "      <td>0</td>\n",
       "      <td>459</td>\n",
       "      <td>0.068030</td>\n",
       "    </tr>\n",
       "    <tr>\n",
       "      <th>36</th>\n",
       "      <td>36</td>\n",
       "      <td>32</td>\n",
       "      <td>6</td>\n",
       "      <td>26</td>\n",
       "      <td>0</td>\n",
       "      <td>390</td>\n",
       "      <td>0.057803</td>\n",
       "    </tr>\n",
       "    <tr>\n",
       "      <th>37</th>\n",
       "      <td>37</td>\n",
       "      <td>55</td>\n",
       "      <td>9</td>\n",
       "      <td>46</td>\n",
       "      <td>0</td>\n",
       "      <td>358</td>\n",
       "      <td>0.053061</td>\n",
       "    </tr>\n",
       "    <tr>\n",
       "      <th>38</th>\n",
       "      <td>38</td>\n",
       "      <td>197</td>\n",
       "      <td>5</td>\n",
       "      <td>192</td>\n",
       "      <td>0</td>\n",
       "      <td>303</td>\n",
       "      <td>0.044909</td>\n",
       "    </tr>\n",
       "    <tr>\n",
       "      <th>39</th>\n",
       "      <td>39</td>\n",
       "      <td>15</td>\n",
       "      <td>7</td>\n",
       "      <td>8</td>\n",
       "      <td>0</td>\n",
       "      <td>106</td>\n",
       "      <td>0.015711</td>\n",
       "    </tr>\n",
       "    <tr>\n",
       "      <th>40</th>\n",
       "      <td>40</td>\n",
       "      <td>10</td>\n",
       "      <td>1</td>\n",
       "      <td>9</td>\n",
       "      <td>0</td>\n",
       "      <td>91</td>\n",
       "      <td>0.013487</td>\n",
       "    </tr>\n",
       "    <tr>\n",
       "      <th>41</th>\n",
       "      <td>41</td>\n",
       "      <td>9</td>\n",
       "      <td>0</td>\n",
       "      <td>9</td>\n",
       "      <td>0</td>\n",
       "      <td>81</td>\n",
       "      <td>0.012005</td>\n",
       "    </tr>\n",
       "    <tr>\n",
       "      <th>42</th>\n",
       "      <td>42</td>\n",
       "      <td>6</td>\n",
       "      <td>0</td>\n",
       "      <td>6</td>\n",
       "      <td>0</td>\n",
       "      <td>72</td>\n",
       "      <td>0.010671</td>\n",
       "    </tr>\n",
       "    <tr>\n",
       "      <th>43</th>\n",
       "      <td>43</td>\n",
       "      <td>6</td>\n",
       "      <td>0</td>\n",
       "      <td>6</td>\n",
       "      <td>0</td>\n",
       "      <td>66</td>\n",
       "      <td>0.009782</td>\n",
       "    </tr>\n",
       "    <tr>\n",
       "      <th>44</th>\n",
       "      <td>44</td>\n",
       "      <td>1</td>\n",
       "      <td>0</td>\n",
       "      <td>1</td>\n",
       "      <td>0</td>\n",
       "      <td>60</td>\n",
       "      <td>0.008893</td>\n",
       "    </tr>\n",
       "    <tr>\n",
       "      <th>45</th>\n",
       "      <td>45</td>\n",
       "      <td>11</td>\n",
       "      <td>0</td>\n",
       "      <td>11</td>\n",
       "      <td>0</td>\n",
       "      <td>59</td>\n",
       "      <td>0.008745</td>\n",
       "    </tr>\n",
       "    <tr>\n",
       "      <th>46</th>\n",
       "      <td>46</td>\n",
       "      <td>13</td>\n",
       "      <td>0</td>\n",
       "      <td>13</td>\n",
       "      <td>0</td>\n",
       "      <td>48</td>\n",
       "      <td>0.007114</td>\n",
       "    </tr>\n",
       "    <tr>\n",
       "      <th>47</th>\n",
       "      <td>47</td>\n",
       "      <td>35</td>\n",
       "      <td>0</td>\n",
       "      <td>35</td>\n",
       "      <td>0</td>\n",
       "      <td>35</td>\n",
       "      <td>0.005187</td>\n",
       "    </tr>\n",
       "  </tbody>\n",
       "</table>\n",
       "</div>"
      ]
     },
     "metadata": {},
     "execution_count": 48
    }
   ],
   "metadata": {}
  },
  {
   "cell_type": "markdown",
   "source": [
    "A probabilidade de sobreviver mais de 10 meses é de 50%. A probabilidade de sobreviver 20 meses é de 25%."
   ],
   "metadata": {}
  },
  {
   "cell_type": "markdown",
   "source": [
    "# Curva Kaplan-Meier por género"
   ],
   "metadata": {}
  },
  {
   "cell_type": "code",
   "execution_count": 50,
   "source": [
    "ax = plt.subplot(111)\n",
    "import matplotlib.pyplot as plt\n",
    "\n",
    "plt.rcParams['figure.figsize'] = [12, 7]\n",
    "\n",
    "for gen in dt['genero'].unique():\n",
    "    ix = dt['genero'] == gen\n",
    "    kmf.fit(T.loc[ix], C.loc[ix], label=str(gen))\n",
    "    ax = kmf.plot(ax=ax)\n",
    "    print ('Mediana',gen, '=', kmf.median_survival_time_,'| Prob sobreviver mais 6 meses S(t) == P(T>t) :', kmf.predict(6.0))"
   ],
   "outputs": [
    {
     "output_type": "stream",
     "name": "stdout",
     "text": [
      "Mediana 0 = 13.0 | Prob sobreviver mais 6 meses S(t) == P(T>t) : 0.7073675240472379\n",
      "Mediana 1 = 15.0 | Prob sobreviver mais 6 meses S(t) == P(T>t) : 0.7637997509868095\n"
     ]
    },
    {
     "output_type": "display_data",
     "data": {
      "text/plain": [
       "<Figure size 864x504 with 1 Axes>"
      ],
      "image/png": "[encoded data removed]",
      "image/svg+xml": "<?xml version=\"1.0\" encoding=\"utf-8\" standalone=\"no\"?>\n<!DOCTYPE svg PUBLIC \"-//W3C//DTD SVG 1.1//EN\"\n  \"http://www.w3.org/Graphics/SVG/1.1/DTD/svg11.dtd\">\n<svg height=\"425.27625pt\" version=\"1.1\" viewBox=\"0 0 706.903125 425.27625\" width=\"706.903125pt\" xmlns=\"http://www.w3.org/2000/svg\" xmlns:xlink=\"http://www.w3.org/1999/xlink\">\n <metadata>\n  <rdf:RDF xmlns:cc=\"http://creativecommons.org/ns#\" xmlns:dc=\"http://purl.org/dc/elements/1.1/\" xmlns:rdf=\"http://www.w3.org/1999/02/22-rdf-syntax-ns#\">\n   <cc:Work>\n    <dc:type rdf:resource=\"http://purl.org/dc/dcmitype/StillImage\"/>\n    <dc:date>2021-07-14T16:55:28.323852</dc:date>\n    <dc:format>image/svg+xml</dc:format>\n    <dc:creator>\n     <cc:Agent>\n      <dc:title>Matplotlib v3.4.2, https://matplotlib.org/</dc:title>\n     </cc:Agent>\n    </dc:creator>\n   </cc:Work>\n  </rdf:RDF>\n </metadata>\n <defs>\n  <style type=\"text/css\">*{stroke-linecap:butt;stroke-linejoin:round;}</style>\n </defs>\n <g id=\"figure_1\">\n  <g id=\"patch_1\">\n   <path d=\"M 0 425.27625 \nL 706.903125 425.27625 \nL 706.903125 0 \nL 0 0 \nz\n\" style=\"fill:none;\"/>\n  </g>\n  <g id=\"axes_1\">\n   <g id=\"patch_2\">\n    <path d=\"M 30.103125 387.72 \nL 699.703125 387.72 \nL 699.703125 7.2 \nL 30.103125 7.2 \nz\n\" style=\"fill:#ffffff;\"/>\n   </g>\n   <g id=\"PolyCollection_1\">\n    <defs>\n     <path d=\"M 60.539489 -400.729476 \nL 60.539489 -399.747942 \nL 73.491133 -399.747942 \nL 73.491133 -396.349444 \nL 86.442777 -396.349444 \nL 86.442777 -378.29683 \nL 99.394421 -378.29683 \nL 99.394421 -346.039309 \nL 112.346065 -346.039309 \nL 112.346065 -318.328549 \nL 125.297709 -318.328549 \nL 125.297709 -294.771413 \nL 138.249353 -294.771413 \nL 138.249353 -273.321246 \nL 151.200997 -273.321246 \nL 151.200997 -254.162608 \nL 164.152641 -254.162608 \nL 164.152641 -239.503586 \nL 177.104286 -239.503586 \nL 177.104286 -225.546974 \nL 190.05593 -225.546974 \nL 190.05593 -209.370932 \nL 203.007574 -209.370932 \nL 203.007574 -198.98193 \nL 215.959218 -198.98193 \nL 215.959218 -192.956409 \nL 228.910862 -192.956409 \nL 228.910862 -185.374022 \nL 241.862506 -185.374022 \nL 241.862506 -179.648414 \nL 254.81415 -179.648414 \nL 254.81415 -170.67517 \nL 267.765794 -170.67517 \nL 267.765794 -165.112552 \nL 280.717438 -165.112552 \nL 280.717438 -159.593074 \nL 293.669082 -159.593074 \nL 293.669082 -153.620023 \nL 306.620727 -153.620023 \nL 306.620727 -148.502599 \nL 319.572371 -148.502599 \nL 319.572371 -144.066321 \nL 332.524015 -144.066321 \nL 332.524015 -138.121307 \nL 345.475659 -138.121307 \nL 345.475659 -131.328294 \nL 358.427303 -131.328294 \nL 358.427303 -125.161358 \nL 371.378947 -125.161358 \nL 371.378947 -122.045347 \nL 384.330591 -122.045347 \nL 384.330591 -117.92956 \nL 397.282235 -117.92956 \nL 397.282235 -111.762617 \nL 410.233879 -111.762617 \nL 410.233879 -106.720881 \nL 423.185523 -106.720881 \nL 423.185523 -101.645286 \nL 436.137168 -101.645286 \nL 436.137168 -98.692891 \nL 449.088812 -98.692891 \nL 449.088812 -95.583354 \nL 462.040456 -95.583354 \nL 462.040456 -91.110086 \nL 474.9921 -91.110086 \nL 474.9921 -87.216904 \nL 487.943744 -87.216904 \nL 487.943744 -82.595724 \nL 500.895388 -82.595724 \nL 500.895388 -79.447843 \nL 513.847032 -79.447843 \nL 513.847032 -73.477825 \nL 526.798676 -73.477825 \nL 526.798676 -71.769407 \nL 539.75032 -71.769407 \nL 539.75032 -69.804828 \nL 552.701964 -69.804828 \nL 552.701964 -68.985488 \nL 565.653609 -68.985488 \nL 565.653609 -57.77016 \nL 578.605253 -57.77016 \nL 578.605253 -54.852614 \nL 591.556897 -54.852614 \nL 591.556897 -54.852614 \nL 604.508541 -54.852614 \nL 604.508541 -54.852614 \nL 617.460185 -54.852614 \nL 617.460185 -54.852614 \nL 630.411829 -54.852614 \nL 630.411829 -54.852614 \nL 643.363473 -54.852614 \nL 643.363473 -54.852614 \nL 656.315117 -54.852614 \nL 656.315117 -54.852614 \nL 669.266761 -54.852614 \nL 669.266761 -54.852614 \nL 669.266761 -78.484451 \nL 669.266761 -78.484451 \nL 669.266761 -78.484451 \nL 656.315117 -78.484451 \nL 656.315117 -78.484451 \nL 643.363473 -78.484451 \nL 643.363473 -78.484451 \nL 630.411829 -78.484451 \nL 630.411829 -78.484451 \nL 617.460185 -78.484451 \nL 617.460185 -78.484451 \nL 604.508541 -78.484451 \nL 604.508541 -78.484451 \nL 591.556897 -78.484451 \nL 591.556897 -78.484451 \nL 578.605253 -78.484451 \nL 578.605253 -80.216302 \nL 565.653609 -80.216302 \nL 565.653609 -86.159484 \nL 552.701964 -86.159484 \nL 552.701964 -86.862099 \nL 539.75032 -86.862099 \nL 539.75032 -88.643204 \nL 526.798676 -88.643204 \nL 526.798676 -90.234028 \nL 513.847032 -90.234028 \nL 513.847032 -95.895754 \nL 500.895388 -95.895754 \nL 500.895388 -98.905518 \nL 487.943744 -98.905518 \nL 487.943744 -103.341641 \nL 474.9921 -103.341641 \nL 474.9921 -107.09647 \nL 462.040456 -107.09647 \nL 462.040456 -111.408865 \nL 449.088812 -111.408865 \nL 449.088812 -114.423355 \nL 436.137168 -114.423355 \nL 436.137168 -117.294596 \nL 423.185523 -117.294596 \nL 423.185523 -122.226563 \nL 410.233879 -122.226563 \nL 410.233879 -127.095577 \nL 397.282235 -127.095577 \nL 397.282235 -133.204074 \nL 384.330591 -133.204074 \nL 384.330591 -137.297108 \nL 371.378947 -137.297108 \nL 371.378947 -140.395914 \nL 358.427303 -140.395914 \nL 358.427303 -146.53693 \nL 345.475659 -146.53693 \nL 345.475659 -153.293074 \nL 332.524015 -153.293074 \nL 332.524015 -159.203067 \nL 319.572371 -159.203067 \nL 319.572371 -163.610331 \nL 306.620727 -163.610331 \nL 306.620727 -168.68817 \nL 293.669082 -168.68817 \nL 293.669082 -174.604378 \nL 280.717438 -174.604378 \nL 280.717438 -180.060725 \nL 267.765794 -180.060725 \nL 267.765794 -185.555214 \nL 254.81415 -185.555214 \nL 254.81415 -194.383579 \nL 241.862506 -194.383579 \nL 241.862506 -200.065454 \nL 228.910862 -200.065454 \nL 228.910862 -207.59249 \nL 215.959218 -207.59249 \nL 215.959218 -213.563224 \nL 203.007574 -213.563224 \nL 203.007574 -223.839317 \nL 190.05593 -223.839317 \nL 190.05593 -239.778741 \nL 177.104286 -239.778741 \nL 177.104286 -253.468778 \nL 164.152641 -253.468778 \nL 164.152641 -267.787427 \nL 151.200997 -267.787427 \nL 151.200997 -286.384067 \nL 138.249353 -286.384067 \nL 138.249353 -307.026886 \nL 125.297709 -307.026886 \nL 125.297709 -329.430201 \nL 112.346065 -329.430201 \nL 112.346065 -355.289684 \nL 99.394421 -355.289684 \nL 99.394421 -384.135777 \nL 86.442777 -384.135777 \nL 86.442777 -398.754045 \nL 73.491133 -398.754045 \nL 73.491133 -400.729476 \nL 60.539489 -400.729476 \nz\n\" id=\"m7f21969e97\" style=\"stroke:#1f77b4;stroke-opacity:0.25;\"/>\n    </defs>\n    <g clip-path=\"url(#pd5fdf3c4dc)\">\n     <use style=\"fill:#1f77b4;fill-opacity:0.25;stroke:#1f77b4;stroke-opacity:0.25;\" x=\"0\" xlink:href=\"#m7f21969e97\" y=\"425.27625\"/>\n    </g>\n   </g>\n   <g id=\"PolyCollection_2\">\n    <defs>\n     <path d=\"M 60.539489 -400.779886 \nL 60.539489 -399.826457 \nL 73.491133 -399.826457 \nL 73.491133 -395.24318 \nL 86.442777 -395.24318 \nL 86.442777 -380.415928 \nL 99.394421 -380.415928 \nL 99.394421 -351.046589 \nL 112.346065 -351.046589 \nL 112.346065 -331.506257 \nL 125.297709 -331.506257 \nL 125.297709 -313.570061 \nL 138.249353 -313.570061 \nL 138.249353 -296.82885 \nL 151.200997 -296.82885 \nL 151.200997 -265.444744 \nL 164.152641 -265.444744 \nL 164.152641 -252.042239 \nL 177.104286 -252.042239 \nL 177.104286 -239.638314 \nL 190.05593 -239.638314 \nL 190.05593 -222.108065 \nL 203.007574 -222.108065 \nL 203.007574 -210.247211 \nL 215.959218 -210.247211 \nL 215.959218 -205.542917 \nL 228.910862 -205.542917 \nL 228.910862 -199.372184 \nL 241.862506 -199.372184 \nL 241.862506 -193.115356 \nL 254.81415 -193.115356 \nL 254.81415 -183.288296 \nL 267.765794 -183.288296 \nL 267.765794 -177.030063 \nL 280.717438 -177.030063 \nL 280.717438 -171.797753 \nL 293.669082 -171.797753 \nL 293.669082 -164.100712 \nL 306.620727 -164.100712 \nL 306.620727 -159.092243 \nL 319.572371 -159.092243 \nL 319.572371 -154.970869 \nL 332.524015 -154.970869 \nL 332.524015 -148.635719 \nL 345.475659 -148.635719 \nL 345.475659 -141.6465 \nL 358.427303 -141.6465 \nL 358.427303 -136.465313 \nL 371.378947 -136.465313 \nL 371.378947 -134.120138 \nL 384.330591 -134.120138 \nL 384.330591 -130.520317 \nL 397.282235 -130.520317 \nL 397.282235 -128.216361 \nL 410.233879 -128.216361 \nL 410.233879 -120.630047 \nL 423.185523 -120.630047 \nL 423.185523 -117.107583 \nL 436.137168 -117.107583 \nL 436.137168 -114.432612 \nL 449.088812 -114.432612 \nL 449.088812 -110.333138 \nL 462.040456 -110.333138 \nL 462.040456 -107.133972 \nL 474.9921 -107.133972 \nL 474.9921 -103.784567 \nL 487.943744 -103.784567 \nL 487.943744 -98.982892 \nL 500.895388 -98.982892 \nL 500.895388 -93.094598 \nL 513.847032 -93.094598 \nL 513.847032 -86.260392 \nL 526.798676 -86.260392 \nL 526.798676 -84.770502 \nL 539.75032 -84.770502 \nL 539.75032 -81.706334 \nL 552.701964 -81.706334 \nL 552.701964 -79.426125 \nL 565.653609 -79.426125 \nL 565.653609 -73.836412 \nL 578.605253 -73.836412 \nL 578.605253 -73.836412 \nL 591.556897 -73.836412 \nL 591.556897 -73.836412 \nL 604.508541 -73.836412 \nL 604.508541 -73.836412 \nL 617.460185 -73.836412 \nL 617.460185 -73.836412 \nL 643.363473 -73.836412 \nL 643.363473 -73.836412 \nL 656.315117 -73.836412 \nL 656.315117 -73.836412 \nL 669.266761 -73.836412 \nL 669.266761 -73.836412 \nL 669.266761 -93.71471 \nL 669.266761 -93.71471 \nL 669.266761 -93.71471 \nL 656.315117 -93.71471 \nL 656.315117 -93.71471 \nL 643.363473 -93.71471 \nL 643.363473 -93.71471 \nL 617.460185 -93.71471 \nL 617.460185 -93.71471 \nL 604.508541 -93.71471 \nL 604.508541 -93.71471 \nL 591.556897 -93.71471 \nL 591.556897 -93.71471 \nL 578.605253 -93.71471 \nL 578.605253 -93.71471 \nL 565.653609 -93.71471 \nL 565.653609 -97.298595 \nL 552.701964 -97.298595 \nL 552.701964 -99.438295 \nL 539.75032 -99.438295 \nL 539.75032 -102.359711 \nL 526.798676 -102.359711 \nL 526.798676 -103.780372 \nL 513.847032 -103.780372 \nL 513.847032 -110.34669 \nL 500.895388 -110.34669 \nL 500.895388 -116.014724 \nL 487.943744 -116.014724 \nL 487.943744 -120.632027 \nL 474.9921 -120.632027 \nL 474.9921 -123.868862 \nL 462.040456 -123.868862 \nL 462.040456 -126.967234 \nL 449.088812 -126.967234 \nL 449.088812 -130.940834 \nL 436.137168 -130.940834 \nL 436.137168 -133.529985 \nL 423.185523 -133.529985 \nL 423.185523 -136.946806 \nL 410.233879 -136.946806 \nL 410.233879 -144.268747 \nL 397.282235 -144.268747 \nL 397.282235 -146.539471 \nL 384.330591 -146.539471 \nL 384.330591 -150.104521 \nL 371.378947 -150.104521 \nL 371.378947 -152.427532 \nL 358.427303 -152.427532 \nL 358.427303 -157.567643 \nL 345.475659 -157.567643 \nL 345.475659 -164.49475 \nL 332.524015 -164.49475 \nL 332.524015 -170.767614 \nL 319.572371 -170.767614 \nL 319.572371 -174.844963 \nL 306.620727 -174.844963 \nL 306.620727 -179.799846 \nL 293.669082 -179.799846 \nL 293.669082 -187.39774 \nL 280.717438 -187.39774 \nL 280.717438 -192.552656 \nL 267.765794 -192.552656 \nL 267.765794 -198.711135 \nL 254.81415 -198.711135 \nL 254.81415 -208.342752 \nL 241.862506 -208.342752 \nL 241.862506 -214.522107 \nL 228.910862 -214.522107 \nL 228.910862 -220.61958 \nL 215.959218 -220.61958 \nL 215.959218 -225.261017 \nL 203.007574 -225.261017 \nL 203.007574 -236.940809 \nL 190.05593 -236.940809 \nL 190.05593 -254.127823 \nL 177.104286 -254.127823 \nL 177.104286 -266.22525 \nL 164.152641 -266.22525 \nL 164.152641 -279.239977 \nL 151.200997 -279.239977 \nL 151.200997 -309.422965 \nL 138.249353 -309.422965 \nL 138.249353 -325.317631 \nL 125.297709 -325.317631 \nL 125.297709 -342.155156 \nL 112.346065 -342.155156 \nL 112.346065 -360.188046 \nL 99.394421 -360.188046 \nL 99.394421 -386.160654 \nL 86.442777 -386.160654 \nL 86.442777 -398.064166 \nL 73.491133 -398.064166 \nL 73.491133 -400.779886 \nL 60.539489 -400.779886 \nz\n\" id=\"m48df7e0046\" style=\"stroke:#ff7f0e;stroke-opacity:0.25;\"/>\n    </defs>\n    <g clip-path=\"url(#pd5fdf3c4dc)\">\n     <use style=\"fill:#ff7f0e;fill-opacity:0.25;stroke:#ff7f0e;stroke-opacity:0.25;\" x=\"0\" xlink:href=\"#m48df7e0046\" y=\"425.27625\"/>\n    </g>\n   </g>\n   <g id=\"matplotlib.axis_1\">\n    <g id=\"xtick_1\">\n     <g id=\"line2d_1\">\n      <defs>\n       <path d=\"M 0 0 \nL 0 3.5 \n\" id=\"m2605dc06b2\" style=\"stroke:#000000;stroke-width:0.8;\"/>\n      </defs>\n      <g>\n       <use style=\"stroke:#000000;stroke-width:0.8;\" x=\"60.539489\" xlink:href=\"#m2605dc06b2\" y=\"387.72\"/>\n      </g>\n     </g>\n     <g id=\"text_1\">\n      <!-- 0 -->\n      <g transform=\"translate(57.358239 402.318437)scale(0.1 -0.1)\">\n       <defs>\n        <path d=\"M 2034 4250 \nQ 1547 4250 1301 3770 \nQ 1056 3291 1056 2328 \nQ 1056 1369 1301 889 \nQ 1547 409 2034 409 \nQ 2525 409 2770 889 \nQ 3016 1369 3016 2328 \nQ 3016 3291 2770 3770 \nQ 2525 4250 2034 4250 \nz\nM 2034 4750 \nQ 2819 4750 3233 4129 \nQ 3647 3509 3647 2328 \nQ 3647 1150 3233 529 \nQ 2819 -91 2034 -91 \nQ 1250 -91 836 529 \nQ 422 1150 422 2328 \nQ 422 3509 836 4129 \nQ 1250 4750 2034 4750 \nz\n\" id=\"DejaVuSans-30\" transform=\"scale(0.015625)\"/>\n       </defs>\n       <use xlink:href=\"#DejaVuSans-30\"/>\n      </g>\n     </g>\n    </g>\n    <g id=\"xtick_2\">\n     <g id=\"line2d_2\">\n      <g>\n       <use style=\"stroke:#000000;stroke-width:0.8;\" x=\"190.05593\" xlink:href=\"#m2605dc06b2\" y=\"387.72\"/>\n      </g>\n     </g>\n     <g id=\"text_2\">\n      <!-- 10 -->\n      <g transform=\"translate(183.69343 402.318437)scale(0.1 -0.1)\">\n       <defs>\n        <path d=\"M 794 531 \nL 1825 531 \nL 1825 4091 \nL 703 3866 \nL 703 4441 \nL 1819 4666 \nL 2450 4666 \nL 2450 531 \nL 3481 531 \nL 3481 0 \nL 794 0 \nL 794 531 \nz\n\" id=\"DejaVuSans-31\" transform=\"scale(0.015625)\"/>\n       </defs>\n       <use xlink:href=\"#DejaVuSans-31\"/>\n       <use x=\"63.623047\" xlink:href=\"#DejaVuSans-30\"/>\n      </g>\n     </g>\n    </g>\n    <g id=\"xtick_3\">\n     <g id=\"line2d_3\">\n      <g>\n       <use style=\"stroke:#000000;stroke-width:0.8;\" x=\"319.572371\" xlink:href=\"#m2605dc06b2\" y=\"387.72\"/>\n      </g>\n     </g>\n     <g id=\"text_3\">\n      <!-- 20 -->\n      <g transform=\"translate(313.209871 402.318437)scale(0.1 -0.1)\">\n       <defs>\n        <path d=\"M 1228 531 \nL 3431 531 \nL 3431 0 \nL 469 0 \nL 469 531 \nQ 828 903 1448 1529 \nQ 2069 2156 2228 2338 \nQ 2531 2678 2651 2914 \nQ 2772 3150 2772 3378 \nQ 2772 3750 2511 3984 \nQ 2250 4219 1831 4219 \nQ 1534 4219 1204 4116 \nQ 875 4013 500 3803 \nL 500 4441 \nQ 881 4594 1212 4672 \nQ 1544 4750 1819 4750 \nQ 2544 4750 2975 4387 \nQ 3406 4025 3406 3419 \nQ 3406 3131 3298 2873 \nQ 3191 2616 2906 2266 \nQ 2828 2175 2409 1742 \nQ 1991 1309 1228 531 \nz\n\" id=\"DejaVuSans-32\" transform=\"scale(0.015625)\"/>\n       </defs>\n       <use xlink:href=\"#DejaVuSans-32\"/>\n       <use x=\"63.623047\" xlink:href=\"#DejaVuSans-30\"/>\n      </g>\n     </g>\n    </g>\n    <g id=\"xtick_4\">\n     <g id=\"line2d_4\">\n      <g>\n       <use style=\"stroke:#000000;stroke-width:0.8;\" x=\"449.088812\" xlink:href=\"#m2605dc06b2\" y=\"387.72\"/>\n      </g>\n     </g>\n     <g id=\"text_4\">\n      <!-- 30 -->\n      <g transform=\"translate(442.726312 402.318437)scale(0.1 -0.1)\">\n       <defs>\n        <path d=\"M 2597 2516 \nQ 3050 2419 3304 2112 \nQ 3559 1806 3559 1356 \nQ 3559 666 3084 287 \nQ 2609 -91 1734 -91 \nQ 1441 -91 1130 -33 \nQ 819 25 488 141 \nL 488 750 \nQ 750 597 1062 519 \nQ 1375 441 1716 441 \nQ 2309 441 2620 675 \nQ 2931 909 2931 1356 \nQ 2931 1769 2642 2001 \nQ 2353 2234 1838 2234 \nL 1294 2234 \nL 1294 2753 \nL 1863 2753 \nQ 2328 2753 2575 2939 \nQ 2822 3125 2822 3475 \nQ 2822 3834 2567 4026 \nQ 2313 4219 1838 4219 \nQ 1578 4219 1281 4162 \nQ 984 4106 628 3988 \nL 628 4550 \nQ 988 4650 1302 4700 \nQ 1616 4750 1894 4750 \nQ 2613 4750 3031 4423 \nQ 3450 4097 3450 3541 \nQ 3450 3153 3228 2886 \nQ 3006 2619 2597 2516 \nz\n\" id=\"DejaVuSans-33\" transform=\"scale(0.015625)\"/>\n       </defs>\n       <use xlink:href=\"#DejaVuSans-33\"/>\n       <use x=\"63.623047\" xlink:href=\"#DejaVuSans-30\"/>\n      </g>\n     </g>\n    </g>\n    <g id=\"xtick_5\">\n     <g id=\"line2d_5\">\n      <g>\n       <use style=\"stroke:#000000;stroke-width:0.8;\" x=\"578.605253\" xlink:href=\"#m2605dc06b2\" y=\"387.72\"/>\n      </g>\n     </g>\n     <g id=\"text_5\">\n      <!-- 40 -->\n      <g transform=\"translate(572.242753 402.318437)scale(0.1 -0.1)\">\n       <defs>\n        <path d=\"M 2419 4116 \nL 825 1625 \nL 2419 1625 \nL 2419 4116 \nz\nM 2253 4666 \nL 3047 4666 \nL 3047 1625 \nL 3713 1625 \nL 3713 1100 \nL 3047 1100 \nL 3047 0 \nL 2419 0 \nL 2419 1100 \nL 313 1100 \nL 313 1709 \nL 2253 4666 \nz\n\" id=\"DejaVuSans-34\" transform=\"scale(0.015625)\"/>\n       </defs>\n       <use xlink:href=\"#DejaVuSans-34\"/>\n       <use x=\"63.623047\" xlink:href=\"#DejaVuSans-30\"/>\n      </g>\n     </g>\n    </g>\n    <g id=\"text_6\">\n     <!-- timeline -->\n     <g transform=\"translate(344.583594 415.996562)scale(0.1 -0.1)\">\n      <defs>\n       <path d=\"M 1172 4494 \nL 1172 3500 \nL 2356 3500 \nL 2356 3053 \nL 1172 3053 \nL 1172 1153 \nQ 1172 725 1289 603 \nQ 1406 481 1766 481 \nL 2356 481 \nL 2356 0 \nL 1766 0 \nQ 1100 0 847 248 \nQ 594 497 594 1153 \nL 594 3053 \nL 172 3053 \nL 172 3500 \nL 594 3500 \nL 594 4494 \nL 1172 4494 \nz\n\" id=\"DejaVuSans-74\" transform=\"scale(0.015625)\"/>\n       <path d=\"M 603 3500 \nL 1178 3500 \nL 1178 0 \nL 603 0 \nL 603 3500 \nz\nM 603 4863 \nL 1178 4863 \nL 1178 4134 \nL 603 4134 \nL 603 4863 \nz\n\" id=\"DejaVuSans-69\" transform=\"scale(0.015625)\"/>\n       <path d=\"M 3328 2828 \nQ 3544 3216 3844 3400 \nQ 4144 3584 4550 3584 \nQ 5097 3584 5394 3201 \nQ 5691 2819 5691 2113 \nL 5691 0 \nL 5113 0 \nL 5113 2094 \nQ 5113 2597 4934 2840 \nQ 4756 3084 4391 3084 \nQ 3944 3084 3684 2787 \nQ 3425 2491 3425 1978 \nL 3425 0 \nL 2847 0 \nL 2847 2094 \nQ 2847 2600 2669 2842 \nQ 2491 3084 2119 3084 \nQ 1678 3084 1418 2786 \nQ 1159 2488 1159 1978 \nL 1159 0 \nL 581 0 \nL 581 3500 \nL 1159 3500 \nL 1159 2956 \nQ 1356 3278 1631 3431 \nQ 1906 3584 2284 3584 \nQ 2666 3584 2933 3390 \nQ 3200 3197 3328 2828 \nz\n\" id=\"DejaVuSans-6d\" transform=\"scale(0.015625)\"/>\n       <path d=\"M 3597 1894 \nL 3597 1613 \nL 953 1613 \nQ 991 1019 1311 708 \nQ 1631 397 2203 397 \nQ 2534 397 2845 478 \nQ 3156 559 3463 722 \nL 3463 178 \nQ 3153 47 2828 -22 \nQ 2503 -91 2169 -91 \nQ 1331 -91 842 396 \nQ 353 884 353 1716 \nQ 353 2575 817 3079 \nQ 1281 3584 2069 3584 \nQ 2775 3584 3186 3129 \nQ 3597 2675 3597 1894 \nz\nM 3022 2063 \nQ 3016 2534 2758 2815 \nQ 2500 3097 2075 3097 \nQ 1594 3097 1305 2825 \nQ 1016 2553 972 2059 \nL 3022 2063 \nz\n\" id=\"DejaVuSans-65\" transform=\"scale(0.015625)\"/>\n       <path d=\"M 603 4863 \nL 1178 4863 \nL 1178 0 \nL 603 0 \nL 603 4863 \nz\n\" id=\"DejaVuSans-6c\" transform=\"scale(0.015625)\"/>\n       <path d=\"M 3513 2113 \nL 3513 0 \nL 2938 0 \nL 2938 2094 \nQ 2938 2591 2744 2837 \nQ 2550 3084 2163 3084 \nQ 1697 3084 1428 2787 \nQ 1159 2491 1159 1978 \nL 1159 0 \nL 581 0 \nL 581 3500 \nL 1159 3500 \nL 1159 2956 \nQ 1366 3272 1645 3428 \nQ 1925 3584 2291 3584 \nQ 2894 3584 3203 3211 \nQ 3513 2838 3513 2113 \nz\n\" id=\"DejaVuSans-6e\" transform=\"scale(0.015625)\"/>\n      </defs>\n      <use xlink:href=\"#DejaVuSans-74\"/>\n      <use x=\"39.208984\" xlink:href=\"#DejaVuSans-69\"/>\n      <use x=\"66.992188\" xlink:href=\"#DejaVuSans-6d\"/>\n      <use x=\"164.404297\" xlink:href=\"#DejaVuSans-65\"/>\n      <use x=\"225.927734\" xlink:href=\"#DejaVuSans-6c\"/>\n      <use x=\"253.710938\" xlink:href=\"#DejaVuSans-69\"/>\n      <use x=\"281.494141\" xlink:href=\"#DejaVuSans-6e\"/>\n      <use x=\"344.873047\" xlink:href=\"#DejaVuSans-65\"/>\n     </g>\n    </g>\n   </g>\n   <g id=\"matplotlib.axis_2\">\n    <g id=\"ytick_1\">\n     <g id=\"line2d_6\">\n      <defs>\n       <path d=\"M 0 0 \nL -3.5 0 \n\" id=\"md0192c766e\" style=\"stroke:#000000;stroke-width:0.8;\"/>\n      </defs>\n      <g>\n       <use style=\"stroke:#000000;stroke-width:0.8;\" x=\"30.103125\" xlink:href=\"#md0192c766e\" y=\"354.821455\"/>\n      </g>\n     </g>\n     <g id=\"text_7\">\n      <!-- 0.2 -->\n      <g transform=\"translate(7.2 358.620674)scale(0.1 -0.1)\">\n       <defs>\n        <path d=\"M 684 794 \nL 1344 794 \nL 1344 0 \nL 684 0 \nL 684 794 \nz\n\" id=\"DejaVuSans-2e\" transform=\"scale(0.015625)\"/>\n       </defs>\n       <use xlink:href=\"#DejaVuSans-30\"/>\n       <use x=\"63.623047\" xlink:href=\"#DejaVuSans-2e\"/>\n       <use x=\"95.410156\" xlink:href=\"#DejaVuSans-32\"/>\n      </g>\n     </g>\n    </g>\n    <g id=\"ytick_2\">\n     <g id=\"line2d_7\">\n      <g>\n       <use style=\"stroke:#000000;stroke-width:0.8;\" x=\"30.103125\" xlink:href=\"#md0192c766e\" y=\"272.224259\"/>\n      </g>\n     </g>\n     <g id=\"text_8\">\n      <!-- 0.4 -->\n      <g transform=\"translate(7.2 276.023478)scale(0.1 -0.1)\">\n       <use xlink:href=\"#DejaVuSans-30\"/>\n       <use x=\"63.623047\" xlink:href=\"#DejaVuSans-2e\"/>\n       <use x=\"95.410156\" xlink:href=\"#DejaVuSans-34\"/>\n      </g>\n     </g>\n    </g>\n    <g id=\"ytick_3\">\n     <g id=\"line2d_8\">\n      <g>\n       <use style=\"stroke:#000000;stroke-width:0.8;\" x=\"30.103125\" xlink:href=\"#md0192c766e\" y=\"189.627063\"/>\n      </g>\n     </g>\n     <g id=\"text_9\">\n      <!-- 0.6 -->\n      <g transform=\"translate(7.2 193.426281)scale(0.1 -0.1)\">\n       <defs>\n        <path d=\"M 2113 2584 \nQ 1688 2584 1439 2293 \nQ 1191 2003 1191 1497 \nQ 1191 994 1439 701 \nQ 1688 409 2113 409 \nQ 2538 409 2786 701 \nQ 3034 994 3034 1497 \nQ 3034 2003 2786 2293 \nQ 2538 2584 2113 2584 \nz\nM 3366 4563 \nL 3366 3988 \nQ 3128 4100 2886 4159 \nQ 2644 4219 2406 4219 \nQ 1781 4219 1451 3797 \nQ 1122 3375 1075 2522 \nQ 1259 2794 1537 2939 \nQ 1816 3084 2150 3084 \nQ 2853 3084 3261 2657 \nQ 3669 2231 3669 1497 \nQ 3669 778 3244 343 \nQ 2819 -91 2113 -91 \nQ 1303 -91 875 529 \nQ 447 1150 447 2328 \nQ 447 3434 972 4092 \nQ 1497 4750 2381 4750 \nQ 2619 4750 2861 4703 \nQ 3103 4656 3366 4563 \nz\n\" id=\"DejaVuSans-36\" transform=\"scale(0.015625)\"/>\n       </defs>\n       <use xlink:href=\"#DejaVuSans-30\"/>\n       <use x=\"63.623047\" xlink:href=\"#DejaVuSans-2e\"/>\n       <use x=\"95.410156\" xlink:href=\"#DejaVuSans-36\"/>\n      </g>\n     </g>\n    </g>\n    <g id=\"ytick_4\">\n     <g id=\"line2d_9\">\n      <g>\n       <use style=\"stroke:#000000;stroke-width:0.8;\" x=\"30.103125\" xlink:href=\"#md0192c766e\" y=\"107.029866\"/>\n      </g>\n     </g>\n     <g id=\"text_10\">\n      <!-- 0.8 -->\n      <g transform=\"translate(7.2 110.829085)scale(0.1 -0.1)\">\n       <defs>\n        <path d=\"M 2034 2216 \nQ 1584 2216 1326 1975 \nQ 1069 1734 1069 1313 \nQ 1069 891 1326 650 \nQ 1584 409 2034 409 \nQ 2484 409 2743 651 \nQ 3003 894 3003 1313 \nQ 3003 1734 2745 1975 \nQ 2488 2216 2034 2216 \nz\nM 1403 2484 \nQ 997 2584 770 2862 \nQ 544 3141 544 3541 \nQ 544 4100 942 4425 \nQ 1341 4750 2034 4750 \nQ 2731 4750 3128 4425 \nQ 3525 4100 3525 3541 \nQ 3525 3141 3298 2862 \nQ 3072 2584 2669 2484 \nQ 3125 2378 3379 2068 \nQ 3634 1759 3634 1313 \nQ 3634 634 3220 271 \nQ 2806 -91 2034 -91 \nQ 1263 -91 848 271 \nQ 434 634 434 1313 \nQ 434 1759 690 2068 \nQ 947 2378 1403 2484 \nz\nM 1172 3481 \nQ 1172 3119 1398 2916 \nQ 1625 2713 2034 2713 \nQ 2441 2713 2670 2916 \nQ 2900 3119 2900 3481 \nQ 2900 3844 2670 4047 \nQ 2441 4250 2034 4250 \nQ 1625 4250 1398 4047 \nQ 1172 3844 1172 3481 \nz\n\" id=\"DejaVuSans-38\" transform=\"scale(0.015625)\"/>\n       </defs>\n       <use xlink:href=\"#DejaVuSans-30\"/>\n       <use x=\"63.623047\" xlink:href=\"#DejaVuSans-2e\"/>\n       <use x=\"95.410156\" xlink:href=\"#DejaVuSans-38\"/>\n      </g>\n     </g>\n    </g>\n    <g id=\"ytick_5\">\n     <g id=\"line2d_10\">\n      <g>\n       <use style=\"stroke:#000000;stroke-width:0.8;\" x=\"30.103125\" xlink:href=\"#md0192c766e\" y=\"24.43267\"/>\n      </g>\n     </g>\n     <g id=\"text_11\">\n      <!-- 1.0 -->\n      <g transform=\"translate(7.2 28.231889)scale(0.1 -0.1)\">\n       <use xlink:href=\"#DejaVuSans-31\"/>\n       <use x=\"63.623047\" xlink:href=\"#DejaVuSans-2e\"/>\n       <use x=\"95.410156\" xlink:href=\"#DejaVuSans-30\"/>\n      </g>\n     </g>\n    </g>\n   </g>\n   <g id=\"line2d_11\">\n    <path clip-path=\"url(#pd5fdf3c4dc)\" d=\"M 60.539489 24.786355 \nL 73.491133 24.786355 \nL 73.491133 27.497939 \nL 86.442777 27.497939 \nL 86.442777 43.847033 \nL 99.394421 43.847033 \nL 99.394421 74.413166 \nL 112.346065 74.413166 \nL 112.346065 101.220127 \nL 125.297709 101.220127 \nL 125.297709 124.220417 \nL 138.249353 124.220417 \nL 138.249353 145.28578 \nL 151.200997 145.28578 \nL 151.200997 164.180613 \nL 164.152641 164.180613 \nL 164.152641 178.68283 \nL 177.104286 178.68283 \nL 177.104286 192.51897 \nL 190.05593 192.51897 \nL 190.05593 208.591834 \nL 203.007574 208.591834 \nL 203.007574 218.934289 \nL 215.959218 218.934289 \nL 215.959218 224.938216 \nL 228.910862 224.938216 \nL 228.910862 232.500325 \nL 241.862506 232.500325 \nL 241.862506 238.209645 \nL 254.81415 238.209645 \nL 254.81415 247.118814 \nL 267.765794 247.118814 \nL 267.765794 252.652862 \nL 280.717438 252.652862 \nL 280.717438 258.146393 \nL 293.669082 258.146393 \nL 293.669082 264.09734 \nL 306.620727 264.09734 \nL 306.620727 269.200585 \nL 319.572371 269.200585 \nL 319.572371 273.627376 \nL 332.524015 273.627376 \nL 332.524015 279.561842 \nL 345.475659 279.561842 \nL 345.475659 286.344752 \nL 358.427303 286.344752 \nL 358.427303 292.506697 \nL 371.378947 292.506697 \nL 371.378947 295.618304 \nL 384.330591 295.618304 \nL 384.330591 299.728459 \nL 397.282235 299.728459 \nL 397.282235 305.875342 \nL 410.233879 305.875342 \nL 410.233879 310.839241 \nL 423.185523 310.839241 \nL 423.185523 315.852287 \nL 436.137168 315.852287 \nL 436.137168 318.769879 \nL 449.088812 318.769879 \nL 449.088812 321.838382 \nL 462.040456 321.838382 \nL 462.040456 326.24144 \nL 474.9921 326.24144 \nL 474.9921 330.075137 \nL 487.943744 330.075137 \nL 487.943744 334.616593 \nL 500.895388 334.616593 \nL 500.895388 337.705067 \nL 513.847032 337.705067 \nL 513.847032 343.54196 \nL 526.798676 343.54196 \nL 526.798676 345.198607 \nL 539.75032 345.198607 \nL 539.75032 347.080649 \nL 552.701964 347.080649 \nL 552.701964 347.846225 \nL 565.653609 347.846225 \nL 565.653609 356.584999 \nL 578.605253 356.584999 \nL 578.605253 358.962459 \nL 591.556897 358.962459 \nL 591.556897 358.962459 \nL 604.508541 358.962459 \nL 604.508541 358.962459 \nL 617.460185 358.962459 \nL 617.460185 358.962459 \nL 630.411829 358.962459 \nL 630.411829 358.962459 \nL 643.363473 358.962459 \nL 643.363473 358.962459 \nL 656.315117 358.962459 \nL 656.315117 358.962459 \nL 669.266761 358.962459 \nL 669.266761 358.962459 \n\" style=\"fill:none;stroke:#1f77b4;stroke-linecap:square;stroke-width:1.5;\"/>\n   </g>\n   <g id=\"line2d_12\">\n    <path clip-path=\"url(#pd5fdf3c4dc)\" d=\"M 60.539489 24.687286 \nL 73.491133 24.687286 \nL 73.491133 28.379207 \nL 86.442777 28.379207 \nL 86.442777 41.756598 \nL 99.394421 41.756598 \nL 99.394421 69.441812 \nL 112.346065 69.441812 \nL 112.346065 88.244565 \nL 125.297709 88.244565 \nL 125.297709 105.647132 \nL 138.249353 105.647132 \nL 138.249353 121.980062 \nL 151.200997 121.980062 \nL 151.200997 152.793009 \nL 164.152641 152.793009 \nL 164.152641 166.014517 \nL 177.104286 166.014517 \nL 177.104286 178.277197 \nL 190.05593 178.277197 \nL 190.05593 195.653155 \nL 203.007574 195.653155 \nL 203.007574 207.435398 \nL 215.959218 207.435398 \nL 215.959218 212.113023 \nL 228.910862 212.113023 \nL 228.910862 218.253428 \nL 241.862506 218.253428 \nL 241.862506 224.477852 \nL 254.81415 224.477852 \nL 254.81415 234.216569 \nL 267.765794 234.216569 \nL 267.765794 240.431276 \nL 280.717438 240.431276 \nL 280.717438 245.630356 \nL 293.669082 245.630356 \nL 293.669082 253.286184 \nL 306.620727 253.286184 \nL 306.620727 258.27352 \nL 319.572371 258.27352 \nL 319.572371 262.377647 \nL 332.524015 262.377647 \nL 332.524015 268.689222 \nL 345.475659 268.689222 \nL 345.475659 275.656114 \nL 358.427303 275.656114 \nL 358.427303 280.823529 \nL 371.378947 280.823529 \nL 371.378947 283.160769 \nL 384.330591 283.160769 \nL 384.330591 286.748162 \nL 397.282235 286.748162 \nL 397.282235 289.038761 \nL 410.233879 289.038761 \nL 410.233879 296.504415 \nL 423.185523 296.504415 \nL 423.185523 299.979879 \nL 436.137168 299.979879 \nL 436.137168 302.616594 \nL 449.088812 302.616594 \nL 449.088812 306.660655 \nL 462.040456 306.660655 \nL 462.040456 309.815674 \nL 474.9921 309.815674 \nL 474.9921 313.115751 \nL 487.943744 313.115751 \nL 487.943744 317.836114 \nL 500.895388 317.836114 \nL 500.895388 323.62904 \nL 513.847032 323.62904 \nL 513.847032 330.348899 \nL 526.798676 330.348899 \nL 526.798676 331.808941 \nL 539.75032 331.808941 \nL 539.75032 334.812061 \nL 552.701964 334.812061 \nL 552.701964 337.030582 \nL 565.653609 337.030582 \nL 565.653609 341.663877 \nL 578.605253 341.663877 \nL 578.605253 341.663877 \nL 591.556897 341.663877 \nL 591.556897 341.663877 \nL 604.508541 341.663877 \nL 604.508541 341.663877 \nL 617.460185 341.663877 \nL 617.460185 341.663877 \nL 643.363473 341.663877 \nL 643.363473 341.663877 \nL 656.315117 341.663877 \nL 656.315117 341.663877 \nL 669.266761 341.663877 \nL 669.266761 341.663877 \n\" style=\"fill:none;stroke:#ff7f0e;stroke-linecap:square;stroke-width:1.5;\"/>\n   </g>\n   <g id=\"patch_3\">\n    <path d=\"M 30.103125 387.72 \nL 30.103125 7.2 \n\" style=\"fill:none;stroke:#000000;stroke-linecap:square;stroke-linejoin:miter;stroke-width:0.8;\"/>\n   </g>\n   <g id=\"patch_4\">\n    <path d=\"M 699.703125 387.72 \nL 699.703125 7.2 \n\" style=\"fill:none;stroke:#000000;stroke-linecap:square;stroke-linejoin:miter;stroke-width:0.8;\"/>\n   </g>\n   <g id=\"patch_5\">\n    <path d=\"M 30.103125 387.72 \nL 699.703125 387.72 \n\" style=\"fill:none;stroke:#000000;stroke-linecap:square;stroke-linejoin:miter;stroke-width:0.8;\"/>\n   </g>\n   <g id=\"patch_6\">\n    <path d=\"M 30.103125 7.2 \nL 699.703125 7.2 \n\" style=\"fill:none;stroke:#000000;stroke-linecap:square;stroke-linejoin:miter;stroke-width:0.8;\"/>\n   </g>\n   <g id=\"legend_1\">\n    <g id=\"patch_7\">\n     <path d=\"M 654.340625 44.55625 \nL 692.703125 44.55625 \nQ 694.703125 44.55625 694.703125 42.55625 \nL 694.703125 14.2 \nQ 694.703125 12.2 692.703125 12.2 \nL 654.340625 12.2 \nQ 652.340625 12.2 652.340625 14.2 \nL 652.340625 42.55625 \nQ 652.340625 44.55625 654.340625 44.55625 \nz\n\" style=\"fill:#ffffff;opacity:0.8;stroke:#cccccc;stroke-linejoin:miter;\"/>\n    </g>\n    <g id=\"line2d_13\">\n     <path d=\"M 656.340625 20.298437 \nL 676.340625 20.298437 \n\" style=\"fill:none;stroke:#1f77b4;stroke-linecap:square;stroke-width:1.5;\"/>\n    </g>\n    <g id=\"line2d_14\"/>\n    <g id=\"text_12\">\n     <!-- 0 -->\n     <g transform=\"translate(684.340625 23.798437)scale(0.1 -0.1)\">\n      <use xlink:href=\"#DejaVuSans-30\"/>\n     </g>\n    </g>\n    <g id=\"line2d_15\">\n     <path d=\"M 656.340625 34.976562 \nL 676.340625 34.976562 \n\" style=\"fill:none;stroke:#ff7f0e;stroke-linecap:square;stroke-width:1.5;\"/>\n    </g>\n    <g id=\"line2d_16\"/>\n    <g id=\"text_13\">\n     <!-- 1 -->\n     <g transform=\"translate(684.340625 38.476562)scale(0.1 -0.1)\">\n      <use xlink:href=\"#DejaVuSans-31\"/>\n     </g>\n    </g>\n   </g>\n  </g>\n </g>\n <defs>\n  <clipPath id=\"pd5fdf3c4dc\">\n   <rect height=\"380.52\" width=\"669.6\" x=\"30.103125\" y=\"7.2\"/>\n  </clipPath>\n </defs>\n</svg>\n"
     },
     "metadata": {
      "needs_background": "light"
     }
    }
   ],
   "metadata": {}
  },
  {
   "cell_type": "markdown",
   "source": [
    "1 - Masculino / 0 - Feminino"
   ],
   "metadata": {}
  },
  {
   "cell_type": "code",
   "execution_count": 51,
   "source": [
    "dt.dropna(inplace=True)"
   ],
   "outputs": [],
   "metadata": {}
  },
  {
   "cell_type": "code",
   "execution_count": 52,
   "source": [
    "T = dt['mesesinscricao']\n",
    "C = dt['classe_desistencia']"
   ],
   "outputs": [],
   "metadata": {}
  },
  {
   "cell_type": "code",
   "execution_count": 53,
   "source": [
    "nomes_features= ['idade', 'genero', 'diassemfrequencia', 'mesesinscricao', 'volnegocios', 'freqmedia',\n",
    "                  'natividades', 'nfrequencias', 'freqcontratadasemanal', \n",
    "                 'nrenovacoes', 'nreferencias', 'classe_desistencia','mes']\n",
    "dtNadadores = dt[nomes_features].copy()\n",
    "\n",
    "from lifelines import CoxPHFitter\n",
    "cph = CoxPHFitter()\n",
    "cph.fit(dtNadadores,duration_col='mesesinscricao',event_col='classe_desistencia')"
   ],
   "outputs": [
    {
     "output_type": "execute_result",
     "data": {
      "text/plain": [
       "<lifelines.CoxPHFitter: fitted with 6745 total observations, 2850 right-censored observations>"
      ]
     },
     "metadata": {},
     "execution_count": 53
    }
   ],
   "metadata": {}
  },
  {
   "cell_type": "code",
   "execution_count": 54,
   "source": [
    "%store dtNadadores"
   ],
   "outputs": [
    {
     "output_type": "stream",
     "name": "stdout",
     "text": [
      "Stored 'dtNadadores' (DataFrame)\n"
     ]
    }
   ],
   "metadata": {}
  },
  {
   "cell_type": "markdown",
   "source": [
    "# Cox Regression"
   ],
   "metadata": {}
  },
  {
   "cell_type": "code",
   "execution_count": 55,
   "source": [
    "cph.print_summary()"
   ],
   "outputs": [
    {
     "output_type": "display_data",
     "data": {
      "text/plain": [
       "<lifelines.CoxPHFitter: fitted with 6745 total observations, 2850 right-censored observations>\n",
       "             duration col = 'mesesinscricao'\n",
       "                event col = 'classe_desistencia'\n",
       "      baseline estimation = breslow\n",
       "   number of observations = 6745\n",
       "number of events observed = 3895\n",
       "   partial log-likelihood = -27650.91\n",
       "         time fit was run = 2021-07-14 15:55:37 UTC\n",
       "\n",
       "---\n",
       "                        coef  exp(coef)   se(coef)   coef lower 95%   coef upper 95%  exp(coef) lower 95%  exp(coef) upper 95%\n",
       "covariate                                                                                                                     \n",
       "idade                   0.01       1.01       0.00             0.00             0.01                 1.00                 1.01\n",
       "genero                 -0.04       0.96       0.03            -0.10             0.03                 0.90                 1.03\n",
       "diassemfrequencia       0.00       1.00       0.00             0.00             0.00                 1.00                 1.00\n",
       "volnegocios            -0.00       1.00       0.00            -0.00            -0.00                 1.00                 1.00\n",
       "freqmedia               0.59       1.81       0.06             0.49             0.70                 1.62                 2.02\n",
       "natividades            -0.04       0.96       0.07            -0.18             0.10                 0.84                 1.10\n",
       "nfrequencias           -0.02       0.98       0.00            -0.03            -0.02                 0.97                 0.98\n",
       "freqcontratadasemanal  -0.09       0.91       0.01            -0.11            -0.07                 0.90                 0.93\n",
       "nrenovacoes            -1.84       0.16       0.04            -1.91            -1.77                 0.15                 0.17\n",
       "nreferencias           -0.03       0.97       0.03            -0.09             0.03                 0.91                 1.03\n",
       "mes                    -0.15       0.86       0.01            -0.17            -0.14                 0.85                 0.87\n",
       "\n",
       "                           z      p   -log2(p)\n",
       "covariate                                     \n",
       "idade                   6.40 <0.005      32.62\n",
       "genero                 -1.12   0.26       1.94\n",
       "diassemfrequencia       5.57 <0.005      25.22\n",
       "volnegocios            -4.07 <0.005      14.37\n",
       "freqmedia              10.66 <0.005      85.77\n",
       "natividades            -0.56   0.58       0.79\n",
       "nfrequencias          -13.85 <0.005     142.57\n",
       "freqcontratadasemanal -10.03 <0.005      76.23\n",
       "nrenovacoes           -52.30 <0.005        inf\n",
       "nreferencias           -1.06   0.29       1.79\n",
       "mes                   -28.86 <0.005     606.16\n",
       "---\n",
       "Concordance = 0.88\n",
       "Partial AIC = 55323.82\n",
       "log-likelihood ratio test = 7904.62 on 11 df\n",
       "-log2(p) of ll-ratio test = inf"
      ],
      "text/latex": [
       "\\begin{tabular}{lrrrrrrrrrr}\n",
       "\\toprule\n",
       "{} &  coef &  exp(coef) &  se(coef) &  coef lower 95\\% &  coef upper 95\\% &  exp(coef) lower 95\\% &  exp(coef) upper 95\\% &      z &    p &  -log2(p) \\\\\n",
       "covariate             &       &            &           &                 &                 &                      &                      &        &      &           \\\\\n",
       "\\midrule\n",
       "idade                 &  0.01 &       1.01 &      0.00 &            0.00 &            0.01 &                 1.00 &                 1.01 &   6.40 & 0.00 &     32.62 \\\\\n",
       "genero                & -0.04 &       0.96 &      0.03 &           -0.10 &            0.03 &                 0.90 &                 1.03 &  -1.12 & 0.26 &      1.94 \\\\\n",
       "diassemfrequencia     &  0.00 &       1.00 &      0.00 &            0.00 &            0.00 &                 1.00 &                 1.00 &   5.57 & 0.00 &     25.22 \\\\\n",
       "volnegocios           & -0.00 &       1.00 &      0.00 &           -0.00 &           -0.00 &                 1.00 &                 1.00 &  -4.07 & 0.00 &     14.37 \\\\\n",
       "freqmedia             &  0.59 &       1.81 &      0.06 &            0.49 &            0.70 &                 1.62 &                 2.02 &  10.66 & 0.00 &     85.77 \\\\\n",
       "natividades           & -0.04 &       0.96 &      0.07 &           -0.18 &            0.10 &                 0.84 &                 1.10 &  -0.56 & 0.58 &      0.79 \\\\\n",
       "nfrequencias          & -0.02 &       0.98 &      0.00 &           -0.03 &           -0.02 &                 0.97 &                 0.98 & -13.85 & 0.00 &    142.57 \\\\\n",
       "freqcontratadasemanal & -0.09 &       0.91 &      0.01 &           -0.11 &           -0.07 &                 0.90 &                 0.93 & -10.03 & 0.00 &     76.23 \\\\\n",
       "nrenovacoes           & -1.84 &       0.16 &      0.04 &           -1.91 &           -1.77 &                 0.15 &                 0.17 & -52.30 & 0.00 &       inf \\\\\n",
       "nreferencias          & -0.03 &       0.97 &      0.03 &           -0.09 &            0.03 &                 0.91 &                 1.03 &  -1.06 & 0.29 &      1.79 \\\\\n",
       "mes                   & -0.15 &       0.86 &      0.01 &           -0.17 &           -0.14 &                 0.85 &                 0.87 & -28.86 & 0.00 &    606.16 \\\\\n",
       "\\bottomrule\n",
       "\\end{tabular}\n"
      ],
      "text/html": [
       "<div>\n",
       "<style scoped>\n",
       "    .dataframe tbody tr th:only-of-type {\n",
       "        vertical-align: middle;\n",
       "    }\n",
       "\n",
       "    .dataframe tbody tr th {\n",
       "        vertical-align: top;\n",
       "    }\n",
       "\n",
       "    .dataframe thead th {\n",
       "        text-align: right;\n",
       "    }\n",
       "</style>\n",
       "<table border=\"1\" class=\"dataframe\">\n",
       "  <tbody>\n",
       "    <tr>\n",
       "      <th>model</th>\n",
       "      <td>lifelines.CoxPHFitter</td>\n",
       "    </tr>\n",
       "    <tr>\n",
       "      <th>duration col</th>\n",
       "      <td>'mesesinscricao'</td>\n",
       "    </tr>\n",
       "    <tr>\n",
       "      <th>event col</th>\n",
       "      <td>'classe_desistencia'</td>\n",
       "    </tr>\n",
       "    <tr>\n",
       "      <th>baseline estimation</th>\n",
       "      <td>breslow</td>\n",
       "    </tr>\n",
       "    <tr>\n",
       "      <th>number of observations</th>\n",
       "      <td>6745</td>\n",
       "    </tr>\n",
       "    <tr>\n",
       "      <th>number of events observed</th>\n",
       "      <td>3895</td>\n",
       "    </tr>\n",
       "    <tr>\n",
       "      <th>partial log-likelihood</th>\n",
       "      <td>-27650.91</td>\n",
       "    </tr>\n",
       "    <tr>\n",
       "      <th>time fit was run</th>\n",
       "      <td>2021-07-14 15:55:37 UTC</td>\n",
       "    </tr>\n",
       "  </tbody>\n",
       "</table>\n",
       "</div><table border=\"1\" class=\"dataframe\">\n",
       "  <thead>\n",
       "    <tr style=\"text-align: right;\">\n",
       "      <th style=\"min-width: 12px;\"></th>\n",
       "      <th style=\"min-width: 12px;\">coef</th>\n",
       "      <th style=\"min-width: 12px;\">exp(coef)</th>\n",
       "      <th style=\"min-width: 12px;\">se(coef)</th>\n",
       "      <th style=\"min-width: 12px;\">coef lower 95%</th>\n",
       "      <th style=\"min-width: 12px;\">coef upper 95%</th>\n",
       "      <th style=\"min-width: 12px;\">exp(coef) lower 95%</th>\n",
       "      <th style=\"min-width: 12px;\">exp(coef) upper 95%</th>\n",
       "      <th style=\"min-width: 12px;\">z</th>\n",
       "      <th style=\"min-width: 12px;\">p</th>\n",
       "      <th style=\"min-width: 12px;\">-log2(p)</th>\n",
       "    </tr>\n",
       "  </thead>\n",
       "  <tbody>\n",
       "    <tr>\n",
       "      <th>idade</th>\n",
       "      <td>0.01</td>\n",
       "      <td>1.01</td>\n",
       "      <td>0.00</td>\n",
       "      <td>0.00</td>\n",
       "      <td>0.01</td>\n",
       "      <td>1.00</td>\n",
       "      <td>1.01</td>\n",
       "      <td>6.40</td>\n",
       "      <td>&lt;0.005</td>\n",
       "      <td>32.62</td>\n",
       "    </tr>\n",
       "    <tr>\n",
       "      <th>genero</th>\n",
       "      <td>-0.04</td>\n",
       "      <td>0.96</td>\n",
       "      <td>0.03</td>\n",
       "      <td>-0.10</td>\n",
       "      <td>0.03</td>\n",
       "      <td>0.90</td>\n",
       "      <td>1.03</td>\n",
       "      <td>-1.12</td>\n",
       "      <td>0.26</td>\n",
       "      <td>1.94</td>\n",
       "    </tr>\n",
       "    <tr>\n",
       "      <th>diassemfrequencia</th>\n",
       "      <td>0.00</td>\n",
       "      <td>1.00</td>\n",
       "      <td>0.00</td>\n",
       "      <td>0.00</td>\n",
       "      <td>0.00</td>\n",
       "      <td>1.00</td>\n",
       "      <td>1.00</td>\n",
       "      <td>5.57</td>\n",
       "      <td>&lt;0.005</td>\n",
       "      <td>25.22</td>\n",
       "    </tr>\n",
       "    <tr>\n",
       "      <th>volnegocios</th>\n",
       "      <td>-0.00</td>\n",
       "      <td>1.00</td>\n",
       "      <td>0.00</td>\n",
       "      <td>-0.00</td>\n",
       "      <td>-0.00</td>\n",
       "      <td>1.00</td>\n",
       "      <td>1.00</td>\n",
       "      <td>-4.07</td>\n",
       "      <td>&lt;0.005</td>\n",
       "      <td>14.37</td>\n",
       "    </tr>\n",
       "    <tr>\n",
       "      <th>freqmedia</th>\n",
       "      <td>0.59</td>\n",
       "      <td>1.81</td>\n",
       "      <td>0.06</td>\n",
       "      <td>0.49</td>\n",
       "      <td>0.70</td>\n",
       "      <td>1.62</td>\n",
       "      <td>2.02</td>\n",
       "      <td>10.66</td>\n",
       "      <td>&lt;0.005</td>\n",
       "      <td>85.77</td>\n",
       "    </tr>\n",
       "    <tr>\n",
       "      <th>natividades</th>\n",
       "      <td>-0.04</td>\n",
       "      <td>0.96</td>\n",
       "      <td>0.07</td>\n",
       "      <td>-0.18</td>\n",
       "      <td>0.10</td>\n",
       "      <td>0.84</td>\n",
       "      <td>1.10</td>\n",
       "      <td>-0.56</td>\n",
       "      <td>0.58</td>\n",
       "      <td>0.79</td>\n",
       "    </tr>\n",
       "    <tr>\n",
       "      <th>nfrequencias</th>\n",
       "      <td>-0.02</td>\n",
       "      <td>0.98</td>\n",
       "      <td>0.00</td>\n",
       "      <td>-0.03</td>\n",
       "      <td>-0.02</td>\n",
       "      <td>0.97</td>\n",
       "      <td>0.98</td>\n",
       "      <td>-13.85</td>\n",
       "      <td>&lt;0.005</td>\n",
       "      <td>142.57</td>\n",
       "    </tr>\n",
       "    <tr>\n",
       "      <th>freqcontratadasemanal</th>\n",
       "      <td>-0.09</td>\n",
       "      <td>0.91</td>\n",
       "      <td>0.01</td>\n",
       "      <td>-0.11</td>\n",
       "      <td>-0.07</td>\n",
       "      <td>0.90</td>\n",
       "      <td>0.93</td>\n",
       "      <td>-10.03</td>\n",
       "      <td>&lt;0.005</td>\n",
       "      <td>76.23</td>\n",
       "    </tr>\n",
       "    <tr>\n",
       "      <th>nrenovacoes</th>\n",
       "      <td>-1.84</td>\n",
       "      <td>0.16</td>\n",
       "      <td>0.04</td>\n",
       "      <td>-1.91</td>\n",
       "      <td>-1.77</td>\n",
       "      <td>0.15</td>\n",
       "      <td>0.17</td>\n",
       "      <td>-52.30</td>\n",
       "      <td>&lt;0.005</td>\n",
       "      <td>inf</td>\n",
       "    </tr>\n",
       "    <tr>\n",
       "      <th>nreferencias</th>\n",
       "      <td>-0.03</td>\n",
       "      <td>0.97</td>\n",
       "      <td>0.03</td>\n",
       "      <td>-0.09</td>\n",
       "      <td>0.03</td>\n",
       "      <td>0.91</td>\n",
       "      <td>1.03</td>\n",
       "      <td>-1.06</td>\n",
       "      <td>0.29</td>\n",
       "      <td>1.79</td>\n",
       "    </tr>\n",
       "    <tr>\n",
       "      <th>mes</th>\n",
       "      <td>-0.15</td>\n",
       "      <td>0.86</td>\n",
       "      <td>0.01</td>\n",
       "      <td>-0.17</td>\n",
       "      <td>-0.14</td>\n",
       "      <td>0.85</td>\n",
       "      <td>0.87</td>\n",
       "      <td>-28.86</td>\n",
       "      <td>&lt;0.005</td>\n",
       "      <td>606.16</td>\n",
       "    </tr>\n",
       "  </tbody>\n",
       "</table><br><div>\n",
       "<style scoped>\n",
       "    .dataframe tbody tr th:only-of-type {\n",
       "        vertical-align: middle;\n",
       "    }\n",
       "\n",
       "    .dataframe tbody tr th {\n",
       "        vertical-align: top;\n",
       "    }\n",
       "\n",
       "    .dataframe thead th {\n",
       "        text-align: right;\n",
       "    }\n",
       "</style>\n",
       "<table border=\"1\" class=\"dataframe\">\n",
       "  <tbody>\n",
       "    <tr>\n",
       "      <th>Concordance</th>\n",
       "      <td>0.88</td>\n",
       "    </tr>\n",
       "    <tr>\n",
       "      <th>Partial AIC</th>\n",
       "      <td>55323.82</td>\n",
       "    </tr>\n",
       "    <tr>\n",
       "      <th>log-likelihood ratio test</th>\n",
       "      <td>7904.62 on 11 df</td>\n",
       "    </tr>\n",
       "    <tr>\n",
       "      <th>-log2(p) of ll-ratio test</th>\n",
       "      <td>inf</td>\n",
       "    </tr>\n",
       "  </tbody>\n",
       "</table>\n",
       "</div>"
      ]
     },
     "metadata": {}
    }
   ],
   "metadata": {}
  },
  {
   "cell_type": "markdown",
   "source": [
    "# Curvas sobrevivência considerando as variáveis mais relevantes na regressão de cox"
   ],
   "metadata": {
    "toc-hr-collapsed": false
   }
  },
  {
   "cell_type": "markdown",
   "source": [
    "The significant predictors age, maccess, nentries, cfreq, nrenewals and imonth where analysed using the logrank test, where we identified significant differences between the groups in each variable represented in Table 4: age (χ2=204.78, p<0.01),  maccess (χ2=294.44 p<0.01), nentries (χ2=3721.13, p<0.01), cfreq (χ2=58.34, p<0.01), nrenewals (χ2=6264.73, p<0.01) and imonth (χ2=86.33, p<0.01). The probability of surviving more than 12 months and survival median for each group is also represented, for example, swimmers with less than 0.3 average access have a probability of surviving more than 12 months of 40.56% and a survival median of 9 months"
   ],
   "metadata": {}
  },
  {
   "cell_type": "markdown",
   "source": [
    "## age"
   ],
   "metadata": {}
  },
  {
   "cell_type": "markdown",
   "source": [
    "Utilizar os escalões de idade OMS\n",
    "\n",
    "| Escalões      | Idades        |\n",
    "| ------------- |:-------------:|\n",
    "| Infância      |  até 10 anos  |\n",
    "| Adolescência  |  10-20        |\n",
    "| Idade adulta  |  20-40        |\n",
    "| Meia Idade    |  40-60        |\n",
    "| Terceira Idade|  +60          |"
   ],
   "metadata": {}
  },
  {
   "cell_type": "code",
   "execution_count": 56,
   "source": [
    "dt['idade'].describe()"
   ],
   "outputs": [
    {
     "output_type": "execute_result",
     "data": {
      "text/plain": [
       "count    6745.000000\n",
       "mean       18.655300\n",
       "std        19.292012\n",
       "min         0.000000\n",
       "25%         5.000000\n",
       "50%        10.000000\n",
       "75%        32.000000\n",
       "max        88.000000\n",
       "Name: idade, dtype: float64"
      ]
     },
     "metadata": {},
     "execution_count": 56
    }
   ],
   "metadata": {}
  },
  {
   "cell_type": "code",
   "execution_count": 57,
   "source": [
    "dt.columns"
   ],
   "outputs": [
    {
     "output_type": "execute_result",
     "data": {
      "text/plain": [
       "Index(['datanasc', 'idade', 'genero', 'inicio', 'termino', 'dtultvisita',\n",
       "       'diassemfrequencia', 'mesesinscricao', 'volnegocios', 'freqmedia',\n",
       "       'utilizacao_livre', 'atividade_atletismo', 'atividade_aquaticas',\n",
       "       'atividade_fitness', 'atividade_danca', 'atividade_coletivos',\n",
       "       'atividade_raquete', 'atividade_combate', 'atividade_especiais',\n",
       "       'atividade_natureza', 'atividade_outra', 'natividades', 'nfrequencias',\n",
       "       'freqcontratadasemanal', 'nrenovacoes', 'nreferencias',\n",
       "       'classe_desistencia', 'mes'],\n",
       "      dtype='object')"
      ]
     },
     "metadata": {},
     "execution_count": 57
    }
   ],
   "metadata": {}
  },
  {
   "cell_type": "markdown",
   "source": [
    "Vamos dividir a distribuicao idades em 5 partes"
   ],
   "metadata": {}
  },
  {
   "cell_type": "code",
   "execution_count": 27,
   "source": [
    "#dt['escaloesIdade']=''\n",
    "#escaloesIdade=[10,20,40,60]\n",
    "#\n",
    "#for index, cliente in dt.iterrows():\n",
    "#    #se a variável tiver o valor 1 colocar na nova variável a descrição da atividade\n",
    "#    if cliente['idade']<=10:\n",
    "#        dt.at[index,'escaloesIdade']='ate 10'\n",
    "#    elif (cliente['idade']>10) & (cliente['idade']<=20):\n",
    "#        dt.at[index,'escaloesIdade']='10 a 20'\n",
    "#    elif (cliente['idade']>20) & (cliente['idade']<=40):\n",
    "#        dt.at[index,'escaloesIdade']='21 a 40'\n",
    "#    elif (cliente['idade']>40) & (cliente['idade']<=60):\n",
    "#        dt.at[index,'escaloesIdade']='41 a 60'\n",
    "#    elif (cliente['idade']>60):\n",
    "#        dt.at[index,'escaloesIdade']='mais 60'"
   ],
   "outputs": [],
   "metadata": {}
  },
  {
   "cell_type": "code",
   "execution_count": 58,
   "source": [
    "dt.idade.describe()"
   ],
   "outputs": [
    {
     "output_type": "execute_result",
     "data": {
      "text/plain": [
       "count    6745.000000\n",
       "mean       18.655300\n",
       "std        19.292012\n",
       "min         0.000000\n",
       "25%         5.000000\n",
       "50%        10.000000\n",
       "75%        32.000000\n",
       "max        88.000000\n",
       "Name: idade, dtype: float64"
      ]
     },
     "metadata": {},
     "execution_count": 58
    }
   ],
   "metadata": {}
  },
  {
   "cell_type": "code",
   "execution_count": 59,
   "source": [
    "dt['escaloesIdade']=''\n",
    "escaloesIdade=[10,20,40,60]\n",
    "\n",
    "for index, cliente in dt.iterrows():\n",
    "    #se a variável tiver o valor 1 colocar na nova variável a descrição da atividade\n",
    "    if cliente['idade']<=5:\n",
    "        dt.at[index,'escaloesIdade']='until 5'\n",
    "    elif (cliente['idade']>5) & (cliente['idade']<=10):\n",
    "        dt.at[index,'escaloesIdade']='5 to 10'\n",
    "    elif (cliente['idade']>10) & (cliente['idade']<=32):\n",
    "        dt.at[index,'escaloesIdade']='10 a 32'\n",
    "    elif (cliente['idade']>32):\n",
    "        dt.at[index,'escaloesIdade']='more than 32'"
   ],
   "outputs": [],
   "metadata": {}
  },
  {
   "cell_type": "code",
   "execution_count": 60,
   "source": [
    "dt.escaloesIdade.unique()"
   ],
   "outputs": [
    {
     "output_type": "execute_result",
     "data": {
      "text/plain": [
       "array(['10 a 32', '5 to 10', 'until 5', 'more than 32'], dtype=object)"
      ]
     },
     "metadata": {},
     "execution_count": 60
    }
   ],
   "metadata": {}
  },
  {
   "cell_type": "code",
   "execution_count": 61,
   "source": [
    "dt.groupby(dt['escaloesIdade']).count().iloc[:,1]"
   ],
   "outputs": [
    {
     "output_type": "execute_result",
     "data": {
      "text/plain": [
       "escaloesIdade\n",
       "10 a 32         1520\n",
       "5 to 10         1688\n",
       "more than 32    1666\n",
       "until 5         1871\n",
       "Name: idade, dtype: int64"
      ]
     },
     "metadata": {},
     "execution_count": 61
    }
   ],
   "metadata": {}
  },
  {
   "cell_type": "code",
   "execution_count": 63,
   "source": [
    "ax = plt.subplot(111)\n",
    "import matplotlib.pyplot as plt\n",
    "import numpy as np\n",
    "#vamos considerar só 0,1,2,3\n",
    "escaloesIdade=dt['escaloesIdade'].unique()\n",
    "\n",
    "plt.rcParams['figure.figsize'] = [12, 7]\n",
    "for escalao in escaloesIdade:\n",
    "    ix = dt['escaloesIdade'] == escalao\n",
    "    kmf.fit(T.loc[ix], C.loc[ix], label=str(escalao))\n",
    "    ax = kmf.plot(ax=ax)\n",
    "    print(str(escalao),' predict survival 12 months:',kmf.predict(12.0),': median ',kmf.median_survival_time_)\n",
    "\n",
    "plt.title('Survival by age cohorts');"
   ],
   "outputs": [
    {
     "output_type": "stream",
     "name": "stdout",
     "text": [
      "10 a 32  predict survival 12 months: 0.43057257599984217 : median  10.0\n",
      "5 to 10  predict survival 12 months: 0.6489208673026031 : median  22.0\n",
      "until 5  predict survival 12 months: 0.5491332303030675 : median  15.0\n",
      "more than 32  predict survival 12 months: 0.48348093995777114 : median  11.0\n"
     ]
    },
    {
     "output_type": "display_data",
     "data": {
      "text/plain": [
       "<Figure size 864x504 with 1 Axes>"
      ],
      "image/png": "[encoded data removed]",
      "image/svg+xml": "<?xml version=\"1.0\" encoding=\"utf-8\" standalone=\"no\"?>\n<!DOCTYPE svg PUBLIC \"-//W3C//DTD SVG 1.1//EN\"\n  \"http://www.w3.org/Graphics/SVG/1.1/DTD/svg11.dtd\">\n<svg height=\"440.394375pt\" version=\"1.1\" viewBox=\"0 0 706.903125 440.394375\" width=\"706.903125pt\" xmlns=\"http://www.w3.org/2000/svg\" xmlns:xlink=\"http://www.w3.org/1999/xlink\">\n <metadata>\n  <rdf:RDF xmlns:cc=\"http://creativecommons.org/ns#\" xmlns:dc=\"http://purl.org/dc/elements/1.1/\" xmlns:rdf=\"http://www.w3.org/1999/02/22-rdf-syntax-ns#\">\n   <cc:Work>\n    <dc:type rdf:resource=\"http://purl.org/dc/dcmitype/StillImage\"/>\n    <dc:date>2021-07-14T16:56:33.379632</dc:date>\n    <dc:format>image/svg+xml</dc:format>\n    <dc:creator>\n     <cc:Agent>\n      <dc:title>Matplotlib v3.4.2, https://matplotlib.org/</dc:title>\n     </cc:Agent>\n    </dc:creator>\n   </cc:Work>\n  </rdf:RDF>\n </metadata>\n <defs>\n  <style type=\"text/css\">*{stroke-linecap:butt;stroke-linejoin:round;}</style>\n </defs>\n <g id=\"figure_1\">\n  <g id=\"patch_1\">\n   <path d=\"M 0 440.394375 \nL 706.903125 440.394375 \nL 706.903125 0 \nL 0 0 \nz\n\" style=\"fill:none;\"/>\n  </g>\n  <g id=\"axes_1\">\n   <g id=\"patch_2\">\n    <path d=\"M 30.103125 402.838125 \nL 699.703125 402.838125 \nL 699.703125 22.318125 \nL 30.103125 22.318125 \nz\n\" style=\"fill:#ffffff;\"/>\n   </g>\n   <g id=\"PolyCollection_1\">\n    <defs>\n     <path d=\"M 60.539489 -400.773272 \nL 60.539489 -399.03617 \nL 73.491133 -399.03617 \nL 73.491133 -393.686422 \nL 86.442777 -393.686422 \nL 86.442777 -375.611233 \nL 99.394421 -375.611233 \nL 99.394421 -344.9331 \nL 112.346065 -344.9331 \nL 112.346065 -319.516728 \nL 125.297709 -319.516728 \nL 125.297709 -294.125115 \nL 138.249353 -294.125115 \nL 138.249353 -271.462881 \nL 151.200997 -271.462881 \nL 151.200997 -243.330286 \nL 164.152641 -243.330286 \nL 164.152641 -227.283357 \nL 177.104286 -227.283357 \nL 177.104286 -210.540145 \nL 190.05593 -210.540145 \nL 190.05593 -191.525414 \nL 203.007574 -191.525414 \nL 203.007574 -180.452652 \nL 215.959218 -180.452652 \nL 215.959218 -174.322089 \nL 228.910862 -174.322089 \nL 228.910862 -166.956735 \nL 241.862506 -166.956735 \nL 241.862506 -161.10201 \nL 254.81415 -161.10201 \nL 254.81415 -151.517973 \nL 267.765794 -151.517973 \nL 267.765794 -146.032373 \nL 280.717438 -146.032373 \nL 280.717438 -140.424358 \nL 293.669082 -140.424358 \nL 293.669082 -132.200493 \nL 306.620727 -132.200493 \nL 306.620727 -127.827133 \nL 319.572371 -127.827133 \nL 319.572371 -125.219469 \nL 332.524015 -125.219469 \nL 332.524015 -119.525076 \nL 345.475659 -119.525076 \nL 345.475659 -113.674026 \nL 358.427303 -113.674026 \nL 358.427303 -108.537451 \nL 371.378947 -108.537451 \nL 371.378947 -105.568329 \nL 384.330591 -105.568329 \nL 384.330591 -102.027002 \nL 397.282235 -102.027002 \nL 397.282235 -98.188623 \nL 410.233879 -98.188623 \nL 410.233879 -93.009422 \nL 423.185523 -93.009422 \nL 423.185523 -87.302524 \nL 436.137168 -87.302524 \nL 436.137168 -85.571176 \nL 449.088812 -85.571176 \nL 449.088812 -82.509572 \nL 462.040456 -82.509572 \nL 462.040456 -78.593421 \nL 474.9921 -78.593421 \nL 474.9921 -75.205457 \nL 487.943744 -75.205457 \nL 487.943744 -70.915869 \nL 500.895388 -70.915869 \nL 500.895388 -67.11587 \nL 513.847032 -67.11587 \nL 513.847032 -63.037366 \nL 526.798676 -63.037366 \nL 526.798676 -63.037366 \nL 539.75032 -63.037366 \nL 539.75032 -59.091841 \nL 552.701964 -59.091841 \nL 552.701964 -58.039329 \nL 565.653609 -58.039329 \nL 565.653609 -54.852614 \nL 591.556897 -54.852614 \nL 591.556897 -54.852614 \nL 604.508541 -54.852614 \nL 604.508541 -54.852614 \nL 617.460185 -54.852614 \nL 617.460185 -54.852614 \nL 643.363473 -54.852614 \nL 643.363473 -54.852614 \nL 656.315117 -54.852614 \nL 656.315117 -54.852614 \nL 669.266761 -54.852614 \nL 669.266761 -54.852614 \nL 669.266761 -75.082785 \nL 669.266761 -75.082785 \nL 669.266761 -75.082785 \nL 656.315117 -75.082785 \nL 656.315117 -75.082785 \nL 643.363473 -75.082785 \nL 643.363473 -75.082785 \nL 617.460185 -75.082785 \nL 617.460185 -75.082785 \nL 604.508541 -75.082785 \nL 604.508541 -75.082785 \nL 591.556897 -75.082785 \nL 591.556897 -75.082785 \nL 565.653609 -75.082785 \nL 565.653609 -76.78515 \nL 552.701964 -76.78515 \nL 552.701964 -77.804564 \nL 539.75032 -77.804564 \nL 539.75032 -81.643689 \nL 526.798676 -81.643689 \nL 526.798676 -81.643689 \nL 513.847032 -81.643689 \nL 513.847032 -85.756706 \nL 500.895388 -85.756706 \nL 500.895388 -89.590653 \nL 487.943744 -89.590653 \nL 487.943744 -93.913166 \nL 474.9921 -93.913166 \nL 474.9921 -97.322188 \nL 462.040456 -97.322188 \nL 462.040456 -101.247605 \nL 449.088812 -101.247605 \nL 449.088812 -104.327249 \nL 436.137168 -104.327249 \nL 436.137168 -106.079326 \nL 423.185523 -106.079326 \nL 423.185523 -111.811506 \nL 410.233879 -111.811506 \nL 410.233879 -116.930898 \nL 397.282235 -116.930898 \nL 397.282235 -120.821686 \nL 384.330591 -120.821686 \nL 384.330591 -124.438223 \nL 371.378947 -124.438223 \nL 371.378947 -127.476105 \nL 358.427303 -127.476105 \nL 358.427303 -132.760465 \nL 345.475659 -132.760465 \nL 345.475659 -138.749689 \nL 332.524015 -138.749689 \nL 332.524015 -144.561567 \nL 319.572371 -144.561567 \nL 319.572371 -147.217721 \nL 306.620727 -147.217721 \nL 306.620727 -151.669533 \nL 293.669082 -151.669533 \nL 293.669082 -160.01021 \nL 280.717438 -160.01021 \nL 280.717438 -165.675529 \nL 267.765794 -165.675529 \nL 267.765794 -171.2054 \nL 254.81415 -171.2054 \nL 254.81415 -180.806518 \nL 241.862506 -180.806518 \nL 241.862506 -186.709472 \nL 228.910862 -186.709472 \nL 228.910862 -194.140001 \nL 215.959218 -194.140001 \nL 215.959218 -200.304781 \nL 203.007574 -200.304781 \nL 203.007574 -211.415385 \nL 190.05593 -211.415385 \nL 190.05593 -230.363496 \nL 177.104286 -230.363496 \nL 177.104286 -246.886087 \nL 164.152641 -246.886087 \nL 164.152641 -262.589987 \nL 151.200997 -262.589987 \nL 151.200997 -289.775417 \nL 138.249353 -289.775417 \nL 138.249353 -311.310115 \nL 125.297709 -311.310115 \nL 125.297709 -334.990575 \nL 112.346065 -334.990575 \nL 112.346065 -358.033166 \nL 99.394421 -358.033166 \nL 99.394421 -384.312726 \nL 86.442777 -384.312726 \nL 86.442777 -397.965265 \nL 73.491133 -397.965265 \nL 73.491133 -400.773272 \nL 60.539489 -400.773272 \nz\n\" id=\"m782ecd3284\" style=\"stroke:#1f77b4;stroke-opacity:0.25;\"/>\n    </defs>\n    <g clip-path=\"url(#pb29e6d4e5a)\">\n     <use style=\"fill:#1f77b4;fill-opacity:0.25;stroke:#1f77b4;stroke-opacity:0.25;\" x=\"0\" xlink:href=\"#m782ecd3284\" y=\"440.394375\"/>\n    </g>\n   </g>\n   <g id=\"PolyCollection_2\">\n    <defs>\n     <path d=\"M 60.539489 -400.776781 \nL 60.539489 -399.212247 \nL 73.491133 -399.212247 \nL 73.491133 -397.806619 \nL 86.442777 -397.806619 \nL 86.442777 -390.312273 \nL 99.394421 -390.312273 \nL 99.394421 -372.306813 \nL 112.346065 -372.306813 \nL 112.346065 -353.427115 \nL 125.297709 -353.427115 \nL 125.297709 -339.746323 \nL 138.249353 -339.746323 \nL 138.249353 -328.398729 \nL 151.200997 -328.398729 \nL 151.200997 -308.369209 \nL 164.152641 -308.369209 \nL 164.152641 -297.300848 \nL 177.104286 -297.300848 \nL 177.104286 -287.744923 \nL 190.05593 -287.744923 \nL 190.05593 -270.888044 \nL 203.007574 -270.888044 \nL 203.007574 -261.695129 \nL 215.959218 -261.695129 \nL 215.959218 -257.883983 \nL 228.910862 -257.883983 \nL 228.910862 -250.745412 \nL 241.862506 -250.745412 \nL 241.862506 -245.104632 \nL 254.81415 -245.104632 \nL 254.81415 -235.670132 \nL 267.765794 -235.670132 \nL 267.765794 -230.953163 \nL 280.717438 -230.953163 \nL 280.717438 -227.490425 \nL 293.669082 -227.490425 \nL 293.669082 -222.959156 \nL 306.620727 -222.959156 \nL 306.620727 -218.030411 \nL 319.572371 -218.030411 \nL 319.572371 -212.22553 \nL 332.524015 -212.22553 \nL 332.524015 -205.23391 \nL 345.475659 -205.23391 \nL 345.475659 -194.527333 \nL 358.427303 -194.527333 \nL 358.427303 -189.360902 \nL 371.378947 -189.360902 \nL 371.378947 -186.096538 \nL 384.330591 -186.096538 \nL 384.330591 -180.297944 \nL 397.282235 -180.297944 \nL 397.282235 -178.540238 \nL 410.233879 -178.540238 \nL 410.233879 -170.262909 \nL 423.185523 -170.262909 \nL 423.185523 -165.524563 \nL 436.137168 -165.524563 \nL 436.137168 -161.239679 \nL 449.088812 -161.239679 \nL 449.088812 -158.136202 \nL 462.040456 -158.136202 \nL 462.040456 -156.845482 \nL 474.9921 -156.845482 \nL 474.9921 -152.833317 \nL 487.943744 -152.833317 \nL 487.943744 -148.396703 \nL 500.895388 -148.396703 \nL 500.895388 -146.081836 \nL 513.847032 -146.081836 \nL 513.847032 -140.094627 \nL 526.798676 -140.094627 \nL 526.798676 -138.265256 \nL 539.75032 -138.265256 \nL 539.75032 -135.330198 \nL 552.701964 -135.330198 \nL 552.701964 -134.194176 \nL 565.653609 -134.194176 \nL 565.653609 -111.27593 \nL 578.605253 -111.27593 \nL 578.605253 -111.27593 \nL 591.556897 -111.27593 \nL 591.556897 -111.27593 \nL 617.460185 -111.27593 \nL 617.460185 -111.27593 \nL 643.363473 -111.27593 \nL 643.363473 -111.27593 \nL 656.315117 -111.27593 \nL 656.315117 -111.27593 \nL 669.266761 -111.27593 \nL 669.266761 -111.27593 \nL 669.266761 -150.722389 \nL 669.266761 -150.722389 \nL 669.266761 -150.722389 \nL 656.315117 -150.722389 \nL 656.315117 -150.722389 \nL 643.363473 -150.722389 \nL 643.363473 -150.722389 \nL 617.460185 -150.722389 \nL 617.460185 -150.722389 \nL 591.556897 -150.722389 \nL 591.556897 -150.722389 \nL 578.605253 -150.722389 \nL 578.605253 -150.722389 \nL 565.653609 -150.722389 \nL 565.653609 -158.683168 \nL 552.701964 -158.683168 \nL 552.701964 -159.669146 \nL 539.75032 -159.669146 \nL 539.75032 -162.306509 \nL 526.798676 -162.306509 \nL 526.798676 -163.96716 \nL 513.847032 -163.96716 \nL 513.847032 -169.435788 \nL 500.895388 -169.435788 \nL 500.895388 -171.578491 \nL 487.943744 -171.578491 \nL 487.943744 -175.693206 \nL 474.9921 -175.693206 \nL 474.9921 -179.460325 \nL 462.040456 -179.460325 \nL 462.040456 -180.674753 \nL 449.088812 -180.674753 \nL 449.088812 -183.605575 \nL 436.137168 -183.605575 \nL 436.137168 -187.637634 \nL 423.185523 -187.637634 \nL 423.185523 -192.090465 \nL 410.233879 -192.090465 \nL 410.233879 -199.788251 \nL 397.282235 -199.788251 \nL 397.282235 -201.491491 \nL 384.330591 -201.491491 \nL 384.330591 -207.136748 \nL 371.378947 -207.136748 \nL 371.378947 -210.307512 \nL 358.427303 -210.307512 \nL 358.427303 -215.324145 \nL 345.475659 -215.324145 \nL 345.475659 -225.70029 \nL 332.524015 -225.70029 \nL 332.524015 -232.457844 \nL 319.572371 -232.457844 \nL 319.572371 -238.048178 \nL 306.620727 -238.048178 \nL 306.620727 -242.791498 \nL 293.669082 -242.791498 \nL 293.669082 -247.140764 \nL 280.717438 -247.140764 \nL 280.717438 -250.456153 \nL 267.765794 -250.456153 \nL 267.765794 -254.972574 \nL 254.81415 -254.972574 \nL 254.81415 -263.953177 \nL 241.862506 -263.953177 \nL 241.862506 -269.402744 \nL 228.910862 -269.402744 \nL 228.910862 -276.29113 \nL 215.959218 -276.29113 \nL 215.959218 -279.959269 \nL 203.007574 -279.959269 \nL 203.007574 -288.776584 \nL 190.05593 -288.776584 \nL 190.05593 -304.821312 \nL 177.104286 -304.821312 \nL 177.104286 -313.837855 \nL 164.152641 -313.837855 \nL 164.152641 -324.204456 \nL 151.200997 -324.204456 \nL 151.200997 -342.697629 \nL 138.249353 -342.697629 \nL 138.249353 -352.990218 \nL 125.297709 -352.990218 \nL 125.297709 -365.17922 \nL 112.346065 -365.17922 \nL 112.346065 -381.39418 \nL 99.394421 -381.39418 \nL 99.394421 -395.466956 \nL 86.442777 -395.466956 \nL 86.442777 -400.200714 \nL 73.491133 -400.200714 \nL 73.491133 -400.776781 \nL 60.539489 -400.776781 \nz\n\" id=\"mb757b80f5d\" style=\"stroke:#ff7f0e;stroke-opacity:0.25;\"/>\n    </defs>\n    <g clip-path=\"url(#pb29e6d4e5a)\">\n     <use style=\"fill:#ff7f0e;fill-opacity:0.25;stroke:#ff7f0e;stroke-opacity:0.25;\" x=\"0\" xlink:href=\"#mb757b80f5d\" y=\"440.394375\"/>\n    </g>\n   </g>\n   <g id=\"PolyCollection_3\">\n    <defs>\n     <path d=\"M 60.539489 -400.779886 \nL 60.539489 -399.368122 \nL 73.491133 -399.368122 \nL 73.491133 -396.26992 \nL 86.442777 -396.26992 \nL 86.442777 -379.490452 \nL 99.394421 -379.490452 \nL 99.394421 -345.18966 \nL 112.346065 -345.18966 \nL 112.346065 -324.09534 \nL 125.297709 -324.09534 \nL 125.297709 -308.553356 \nL 138.249353 -308.553356 \nL 138.249353 -291.219708 \nL 151.200997 -291.219708 \nL 151.200997 -271.075047 \nL 164.152641 -271.075047 \nL 164.152641 -255.210792 \nL 177.104286 -255.210792 \nL 177.104286 -245.454543 \nL 190.05593 -245.454543 \nL 190.05593 -231.737929 \nL 203.007574 -231.737929 \nL 203.007574 -224.835239 \nL 215.959218 -224.835239 \nL 215.959218 -219.765884 \nL 228.910862 -219.765884 \nL 228.910862 -214.647588 \nL 241.862506 -214.647588 \nL 241.862506 -209.490769 \nL 254.81415 -209.490769 \nL 254.81415 -199.39031 \nL 267.765794 -199.39031 \nL 267.765794 -193.767461 \nL 280.717438 -193.767461 \nL 280.717438 -189.488998 \nL 293.669082 -189.488998 \nL 293.669082 -183.108814 \nL 306.620727 -183.108814 \nL 306.620727 -177.83914 \nL 319.572371 -177.83914 \nL 319.572371 -174.084882 \nL 332.524015 -174.084882 \nL 332.524015 -171.896415 \nL 345.475659 -171.896415 \nL 345.475659 -166.906538 \nL 358.427303 -166.906538 \nL 358.427303 -165.002459 \nL 371.378947 -165.002459 \nL 371.378947 -162.995979 \nL 384.330591 -162.995979 \nL 384.330591 -160.382857 \nL 397.282235 -160.382857 \nL 397.282235 -153.105963 \nL 410.233879 -153.105963 \nL 410.233879 -145.937924 \nL 423.185523 -145.937924 \nL 423.185523 -143.007185 \nL 436.137168 -143.007185 \nL 436.137168 -141.434921 \nL 449.088812 -141.434921 \nL 449.088812 -140.602132 \nL 462.040456 -140.602132 \nL 462.040456 -137.868757 \nL 474.9921 -137.868757 \nL 474.9921 -134.949505 \nL 487.943744 -134.949505 \nL 487.943744 -133.872699 \nL 500.895388 -133.872699 \nL 500.895388 -128.322229 \nL 513.847032 -128.322229 \nL 513.847032 -123.446981 \nL 526.798676 -123.446981 \nL 526.798676 -123.446981 \nL 539.75032 -123.446981 \nL 539.75032 -121.966486 \nL 552.701964 -121.966486 \nL 552.701964 -121.966486 \nL 565.653609 -121.966486 \nL 565.653609 -117.427912 \nL 578.605253 -117.427912 \nL 578.605253 -117.427912 \nL 591.556897 -117.427912 \nL 591.556897 -117.427912 \nL 604.508541 -117.427912 \nL 604.508541 -117.427912 \nL 630.411829 -117.427912 \nL 630.411829 -117.427912 \nL 643.363473 -117.427912 \nL 643.363473 -117.427912 \nL 656.315117 -117.427912 \nL 656.315117 -117.427912 \nL 669.266761 -117.427912 \nL 669.266761 -117.427912 \nL 669.266761 -144.854959 \nL 669.266761 -144.854959 \nL 669.266761 -144.854959 \nL 656.315117 -144.854959 \nL 656.315117 -144.854959 \nL 643.363473 -144.854959 \nL 643.363473 -144.854959 \nL 630.411829 -144.854959 \nL 630.411829 -144.854959 \nL 604.508541 -144.854959 \nL 604.508541 -144.854959 \nL 591.556897 -144.854959 \nL 591.556897 -144.854959 \nL 578.605253 -144.854959 \nL 578.605253 -144.854959 \nL 565.653609 -144.854959 \nL 565.653609 -146.91599 \nL 552.701964 -146.91599 \nL 552.701964 -146.91599 \nL 539.75032 -146.91599 \nL 539.75032 -148.12536 \nL 526.798676 -148.12536 \nL 526.798676 -148.12536 \nL 513.847032 -148.12536 \nL 513.847032 -152.314437 \nL 500.895388 -152.314437 \nL 500.895388 -157.118052 \nL 487.943744 -157.118052 \nL 487.943744 -158.046154 \nL 474.9921 -158.046154 \nL 474.9921 -160.616639 \nL 462.040456 -160.616639 \nL 462.040456 -163.043155 \nL 449.088812 -163.043155 \nL 449.088812 -163.79517 \nL 436.137168 -163.79517 \nL 436.137168 -165.229887 \nL 423.185523 -165.229887 \nL 423.185523 -167.932343 \nL 410.233879 -167.932343 \nL 410.233879 -174.496428 \nL 397.282235 -174.496428 \nL 397.282235 -181.397095 \nL 384.330591 -181.397095 \nL 384.330591 -183.885432 \nL 371.378947 -183.885432 \nL 371.378947 -185.802912 \nL 358.427303 -185.802912 \nL 358.427303 -187.633256 \nL 345.475659 -187.633256 \nL 345.475659 -192.445664 \nL 332.524015 -192.445664 \nL 332.524015 -194.558664 \nL 319.572371 -194.558664 \nL 319.572371 -198.197164 \nL 306.620727 -198.197164 \nL 306.620727 -203.300989 \nL 293.669082 -203.300989 \nL 293.669082 -209.457635 \nL 280.717438 -209.457635 \nL 280.717438 -213.578081 \nL 267.765794 -213.578081 \nL 267.765794 -218.994217 \nL 254.81415 -218.994217 \nL 254.81415 -228.651807 \nL 241.862506 -228.651807 \nL 241.862506 -233.67836 \nL 228.910862 -233.67836 \nL 228.910862 -238.685796 \nL 215.959218 -238.685796 \nL 215.959218 -243.634308 \nL 203.007574 -243.634308 \nL 203.007574 -250.361206 \nL 190.05593 -250.361206 \nL 190.05593 -263.680077 \nL 177.104286 -263.680077 \nL 177.104286 -273.103622 \nL 164.152641 -273.103622 \nL 164.152641 -288.351351 \nL 151.200997 -288.351351 \nL 151.200997 -307.514963 \nL 138.249353 -307.514963 \nL 138.249353 -323.806081 \nL 125.297709 -323.806081 \nL 125.297709 -338.211672 \nL 112.346065 -338.211672 \nL 112.346065 -357.384176 \nL 99.394421 -357.384176 \nL 99.394421 -386.770774 \nL 86.442777 -386.770774 \nL 86.442777 -399.272188 \nL 73.491133 -399.272188 \nL 73.491133 -400.779886 \nL 60.539489 -400.779886 \nz\n\" id=\"m44b28a49ca\" style=\"stroke:#2ca02c;stroke-opacity:0.25;\"/>\n    </defs>\n    <g clip-path=\"url(#pb29e6d4e5a)\">\n     <use style=\"fill:#2ca02c;fill-opacity:0.25;stroke:#2ca02c;stroke-opacity:0.25;\" x=\"0\" xlink:href=\"#m44b28a49ca\" y=\"440.394375\"/>\n    </g>\n   </g>\n   <g id=\"PolyCollection_4\">\n    <defs>\n     <path d=\"M 60.539489 -400.694306 \nL 60.539489 -398.986612 \nL 73.491133 -398.986612 \nL 73.491133 -393.756482 \nL 86.442777 -393.756482 \nL 86.442777 -373.260418 \nL 99.394421 -373.260418 \nL 99.394421 -340.25734 \nL 112.346065 -340.25734 \nL 112.346065 -316.553601 \nL 125.297709 -316.553601 \nL 125.297709 -293.107889 \nL 138.249353 -293.107889 \nL 138.249353 -272.994296 \nL 151.200997 -272.994296 \nL 151.200997 -248.126627 \nL 164.152641 -248.126627 \nL 164.152641 -238.915353 \nL 177.104286 -238.915353 \nL 177.104286 -225.904947 \nL 190.05593 -225.904947 \nL 190.05593 -213.15643 \nL 203.007574 -213.15643 \nL 203.007574 -199.381273 \nL 215.959218 -199.381273 \nL 215.959218 -194.689563 \nL 228.910862 -194.689563 \nL 228.910862 -188.820221 \nL 241.862506 -188.820221 \nL 241.862506 -183.366209 \nL 254.81415 -183.366209 \nL 254.81415 -177.544475 \nL 267.765794 -177.544475 \nL 267.765794 -171.724686 \nL 280.717438 -171.724686 \nL 280.717438 -165.563293 \nL 293.669082 -165.563293 \nL 293.669082 -159.610876 \nL 306.620727 -159.610876 \nL 306.620727 -155.472466 \nL 319.572371 -155.472466 \nL 319.572371 -151.943381 \nL 332.524015 -151.943381 \nL 332.524015 -145.037176 \nL 345.475659 -145.037176 \nL 345.475659 -141.280665 \nL 358.427303 -141.280665 \nL 358.427303 -133.617499 \nL 371.378947 -133.617499 \nL 371.378947 -131.808285 \nL 384.330591 -131.808285 \nL 384.330591 -129.611343 \nL 397.282235 -129.611343 \nL 397.282235 -126.035261 \nL 410.233879 -126.035261 \nL 410.233879 -122.758597 \nL 423.185523 -122.758597 \nL 423.185523 -120.381181 \nL 436.137168 -120.381181 \nL 436.137168 -117.916276 \nL 449.088812 -117.916276 \nL 449.088812 -112.827428 \nL 462.040456 -112.827428 \nL 462.040456 -107.476696 \nL 474.9921 -107.476696 \nL 474.9921 -104.678403 \nL 487.943744 -104.678403 \nL 487.943744 -98.885457 \nL 500.895388 -98.885457 \nL 500.895388 -93.766407 \nL 513.847032 -93.766407 \nL 513.847032 -86.153019 \nL 526.798676 -86.153019 \nL 526.798676 -82.914012 \nL 539.75032 -82.914012 \nL 539.75032 -82.017496 \nL 552.701964 -82.017496 \nL 552.701964 -78.627207 \nL 565.653609 -78.627207 \nL 565.653609 -73.137094 \nL 578.605253 -73.137094 \nL 578.605253 -70.242482 \nL 591.556897 -70.242482 \nL 591.556897 -70.242482 \nL 604.508541 -70.242482 \nL 604.508541 -70.242482 \nL 617.460185 -70.242482 \nL 617.460185 -70.242482 \nL 643.363473 -70.242482 \nL 643.363473 -70.242482 \nL 656.315117 -70.242482 \nL 656.315117 -70.242482 \nL 669.266761 -70.242482 \nL 669.266761 -70.242482 \nL 669.266761 -93.790081 \nL 669.266761 -93.790081 \nL 669.266761 -93.790081 \nL 656.315117 -93.790081 \nL 656.315117 -93.790081 \nL 643.363473 -93.790081 \nL 643.363473 -93.790081 \nL 617.460185 -93.790081 \nL 617.460185 -93.790081 \nL 604.508541 -93.790081 \nL 604.508541 -93.790081 \nL 591.556897 -93.790081 \nL 591.556897 -93.790081 \nL 578.605253 -93.790081 \nL 578.605253 -95.618545 \nL 565.653609 -95.618545 \nL 565.653609 -98.937214 \nL 552.701964 -98.937214 \nL 552.701964 -101.938905 \nL 539.75032 -101.938905 \nL 539.75032 -102.782904 \nL 526.798676 -102.782904 \nL 526.798676 -105.893879 \nL 513.847032 -105.893879 \nL 513.847032 -113.363422 \nL 500.895388 -113.363422 \nL 500.895388 -118.37921 \nL 487.943744 -118.37921 \nL 487.943744 -124.096613 \nL 474.9921 -124.096613 \nL 474.9921 -126.849962 \nL 462.040456 -126.849962 \nL 462.040456 -132.115354 \nL 449.088812 -132.115354 \nL 449.088812 -137.118146 \nL 436.137168 -137.118146 \nL 436.137168 -139.538149 \nL 423.185523 -139.538149 \nL 423.185523 -141.877207 \nL 410.233879 -141.877207 \nL 410.233879 -145.094424 \nL 397.282235 -145.094424 \nL 397.282235 -148.681085 \nL 384.330591 -148.681085 \nL 384.330591 -150.902887 \nL 371.378947 -150.902887 \nL 371.378947 -152.731637 \nL 358.427303 -152.731637 \nL 358.427303 -160.480904 \nL 345.475659 -160.480904 \nL 345.475659 -164.268717 \nL 332.524015 -164.268717 \nL 332.524015 -171.233053 \nL 319.572371 -171.233053 \nL 319.572371 -174.787097 \nL 306.620727 -174.787097 \nL 306.620727 -178.945965 \nL 293.669082 -178.945965 \nL 293.669082 -184.915899 \nL 280.717438 -184.915899 \nL 280.717438 -191.079655 \nL 267.765794 -191.079655 \nL 267.765794 -196.880268 \nL 254.81415 -196.880268 \nL 254.81415 -202.658363 \nL 241.862506 -202.658363 \nL 241.862506 -208.090055 \nL 228.910862 -208.090055 \nL 228.910862 -213.931383 \nL 215.959218 -213.931383 \nL 215.959218 -218.592017 \nL 203.007574 -218.592017 \nL 203.007574 -232.233277 \nL 190.05593 -232.233277 \nL 190.05593 -244.784168 \nL 177.104286 -244.784168 \nL 177.104286 -257.526638 \nL 164.152641 -257.526638 \nL 164.152641 -266.50721 \nL 151.200997 -266.50721 \nL 151.200997 -290.535606 \nL 138.249353 -290.535606 \nL 138.249353 -309.689896 \nL 125.297709 -309.689896 \nL 125.297709 -331.653732 \nL 112.346065 -331.653732 \nL 112.346065 -353.327125 \nL 99.394421 -353.327125 \nL 99.394421 -382.005829 \nL 86.442777 -382.005829 \nL 86.442777 -397.857235 \nL 73.491133 -397.857235 \nL 73.491133 -400.694306 \nL 60.539489 -400.694306 \nz\n\" id=\"m6500cf6db5\" style=\"stroke:#d62728;stroke-opacity:0.25;\"/>\n    </defs>\n    <g clip-path=\"url(#pb29e6d4e5a)\">\n     <use style=\"fill:#d62728;fill-opacity:0.25;stroke:#d62728;stroke-opacity:0.25;\" x=\"0\" xlink:href=\"#m6500cf6db5\" y=\"440.394375\"/>\n    </g>\n   </g>\n   <g id=\"matplotlib.axis_1\">\n    <g id=\"xtick_1\">\n     <g id=\"line2d_1\">\n      <defs>\n       <path d=\"M 0 0 \nL 0 3.5 \n\" id=\"m69b6140d8f\" style=\"stroke:#000000;stroke-width:0.8;\"/>\n      </defs>\n      <g>\n       <use style=\"stroke:#000000;stroke-width:0.8;\" x=\"60.539489\" xlink:href=\"#m69b6140d8f\" y=\"402.838125\"/>\n      </g>\n     </g>\n     <g id=\"text_1\">\n      <!-- 0 -->\n      <g transform=\"translate(57.358239 417.436562)scale(0.1 -0.1)\">\n       <defs>\n        <path d=\"M 2034 4250 \nQ 1547 4250 1301 3770 \nQ 1056 3291 1056 2328 \nQ 1056 1369 1301 889 \nQ 1547 409 2034 409 \nQ 2525 409 2770 889 \nQ 3016 1369 3016 2328 \nQ 3016 3291 2770 3770 \nQ 2525 4250 2034 4250 \nz\nM 2034 4750 \nQ 2819 4750 3233 4129 \nQ 3647 3509 3647 2328 \nQ 3647 1150 3233 529 \nQ 2819 -91 2034 -91 \nQ 1250 -91 836 529 \nQ 422 1150 422 2328 \nQ 422 3509 836 4129 \nQ 1250 4750 2034 4750 \nz\n\" id=\"DejaVuSans-30\" transform=\"scale(0.015625)\"/>\n       </defs>\n       <use xlink:href=\"#DejaVuSans-30\"/>\n      </g>\n     </g>\n    </g>\n    <g id=\"xtick_2\">\n     <g id=\"line2d_2\">\n      <g>\n       <use style=\"stroke:#000000;stroke-width:0.8;\" x=\"190.05593\" xlink:href=\"#m69b6140d8f\" y=\"402.838125\"/>\n      </g>\n     </g>\n     <g id=\"text_2\">\n      <!-- 10 -->\n      <g transform=\"translate(183.69343 417.436562)scale(0.1 -0.1)\">\n       <defs>\n        <path d=\"M 794 531 \nL 1825 531 \nL 1825 4091 \nL 703 3866 \nL 703 4441 \nL 1819 4666 \nL 2450 4666 \nL 2450 531 \nL 3481 531 \nL 3481 0 \nL 794 0 \nL 794 531 \nz\n\" id=\"DejaVuSans-31\" transform=\"scale(0.015625)\"/>\n       </defs>\n       <use xlink:href=\"#DejaVuSans-31\"/>\n       <use x=\"63.623047\" xlink:href=\"#DejaVuSans-30\"/>\n      </g>\n     </g>\n    </g>\n    <g id=\"xtick_3\">\n     <g id=\"line2d_3\">\n      <g>\n       <use style=\"stroke:#000000;stroke-width:0.8;\" x=\"319.572371\" xlink:href=\"#m69b6140d8f\" y=\"402.838125\"/>\n      </g>\n     </g>\n     <g id=\"text_3\">\n      <!-- 20 -->\n      <g transform=\"translate(313.209871 417.436562)scale(0.1 -0.1)\">\n       <defs>\n        <path d=\"M 1228 531 \nL 3431 531 \nL 3431 0 \nL 469 0 \nL 469 531 \nQ 828 903 1448 1529 \nQ 2069 2156 2228 2338 \nQ 2531 2678 2651 2914 \nQ 2772 3150 2772 3378 \nQ 2772 3750 2511 3984 \nQ 2250 4219 1831 4219 \nQ 1534 4219 1204 4116 \nQ 875 4013 500 3803 \nL 500 4441 \nQ 881 4594 1212 4672 \nQ 1544 4750 1819 4750 \nQ 2544 4750 2975 4387 \nQ 3406 4025 3406 3419 \nQ 3406 3131 3298 2873 \nQ 3191 2616 2906 2266 \nQ 2828 2175 2409 1742 \nQ 1991 1309 1228 531 \nz\n\" id=\"DejaVuSans-32\" transform=\"scale(0.015625)\"/>\n       </defs>\n       <use xlink:href=\"#DejaVuSans-32\"/>\n       <use x=\"63.623047\" xlink:href=\"#DejaVuSans-30\"/>\n      </g>\n     </g>\n    </g>\n    <g id=\"xtick_4\">\n     <g id=\"line2d_4\">\n      <g>\n       <use style=\"stroke:#000000;stroke-width:0.8;\" x=\"449.088812\" xlink:href=\"#m69b6140d8f\" y=\"402.838125\"/>\n      </g>\n     </g>\n     <g id=\"text_4\">\n      <!-- 30 -->\n      <g transform=\"translate(442.726312 417.436562)scale(0.1 -0.1)\">\n       <defs>\n        <path d=\"M 2597 2516 \nQ 3050 2419 3304 2112 \nQ 3559 1806 3559 1356 \nQ 3559 666 3084 287 \nQ 2609 -91 1734 -91 \nQ 1441 -91 1130 -33 \nQ 819 25 488 141 \nL 488 750 \nQ 750 597 1062 519 \nQ 1375 441 1716 441 \nQ 2309 441 2620 675 \nQ 2931 909 2931 1356 \nQ 2931 1769 2642 2001 \nQ 2353 2234 1838 2234 \nL 1294 2234 \nL 1294 2753 \nL 1863 2753 \nQ 2328 2753 2575 2939 \nQ 2822 3125 2822 3475 \nQ 2822 3834 2567 4026 \nQ 2313 4219 1838 4219 \nQ 1578 4219 1281 4162 \nQ 984 4106 628 3988 \nL 628 4550 \nQ 988 4650 1302 4700 \nQ 1616 4750 1894 4750 \nQ 2613 4750 3031 4423 \nQ 3450 4097 3450 3541 \nQ 3450 3153 3228 2886 \nQ 3006 2619 2597 2516 \nz\n\" id=\"DejaVuSans-33\" transform=\"scale(0.015625)\"/>\n       </defs>\n       <use xlink:href=\"#DejaVuSans-33\"/>\n       <use x=\"63.623047\" xlink:href=\"#DejaVuSans-30\"/>\n      </g>\n     </g>\n    </g>\n    <g id=\"xtick_5\">\n     <g id=\"line2d_5\">\n      <g>\n       <use style=\"stroke:#000000;stroke-width:0.8;\" x=\"578.605253\" xlink:href=\"#m69b6140d8f\" y=\"402.838125\"/>\n      </g>\n     </g>\n     <g id=\"text_5\">\n      <!-- 40 -->\n      <g transform=\"translate(572.242753 417.436562)scale(0.1 -0.1)\">\n       <defs>\n        <path d=\"M 2419 4116 \nL 825 1625 \nL 2419 1625 \nL 2419 4116 \nz\nM 2253 4666 \nL 3047 4666 \nL 3047 1625 \nL 3713 1625 \nL 3713 1100 \nL 3047 1100 \nL 3047 0 \nL 2419 0 \nL 2419 1100 \nL 313 1100 \nL 313 1709 \nL 2253 4666 \nz\n\" id=\"DejaVuSans-34\" transform=\"scale(0.015625)\"/>\n       </defs>\n       <use xlink:href=\"#DejaVuSans-34\"/>\n       <use x=\"63.623047\" xlink:href=\"#DejaVuSans-30\"/>\n      </g>\n     </g>\n    </g>\n    <g id=\"text_6\">\n     <!-- timeline -->\n     <g transform=\"translate(344.583594 431.114687)scale(0.1 -0.1)\">\n      <defs>\n       <path d=\"M 1172 4494 \nL 1172 3500 \nL 2356 3500 \nL 2356 3053 \nL 1172 3053 \nL 1172 1153 \nQ 1172 725 1289 603 \nQ 1406 481 1766 481 \nL 2356 481 \nL 2356 0 \nL 1766 0 \nQ 1100 0 847 248 \nQ 594 497 594 1153 \nL 594 3053 \nL 172 3053 \nL 172 3500 \nL 594 3500 \nL 594 4494 \nL 1172 4494 \nz\n\" id=\"DejaVuSans-74\" transform=\"scale(0.015625)\"/>\n       <path d=\"M 603 3500 \nL 1178 3500 \nL 1178 0 \nL 603 0 \nL 603 3500 \nz\nM 603 4863 \nL 1178 4863 \nL 1178 4134 \nL 603 4134 \nL 603 4863 \nz\n\" id=\"DejaVuSans-69\" transform=\"scale(0.015625)\"/>\n       <path d=\"M 3328 2828 \nQ 3544 3216 3844 3400 \nQ 4144 3584 4550 3584 \nQ 5097 3584 5394 3201 \nQ 5691 2819 5691 2113 \nL 5691 0 \nL 5113 0 \nL 5113 2094 \nQ 5113 2597 4934 2840 \nQ 4756 3084 4391 3084 \nQ 3944 3084 3684 2787 \nQ 3425 2491 3425 1978 \nL 3425 0 \nL 2847 0 \nL 2847 2094 \nQ 2847 2600 2669 2842 \nQ 2491 3084 2119 3084 \nQ 1678 3084 1418 2786 \nQ 1159 2488 1159 1978 \nL 1159 0 \nL 581 0 \nL 581 3500 \nL 1159 3500 \nL 1159 2956 \nQ 1356 3278 1631 3431 \nQ 1906 3584 2284 3584 \nQ 2666 3584 2933 3390 \nQ 3200 3197 3328 2828 \nz\n\" id=\"DejaVuSans-6d\" transform=\"scale(0.015625)\"/>\n       <path d=\"M 3597 1894 \nL 3597 1613 \nL 953 1613 \nQ 991 1019 1311 708 \nQ 1631 397 2203 397 \nQ 2534 397 2845 478 \nQ 3156 559 3463 722 \nL 3463 178 \nQ 3153 47 2828 -22 \nQ 2503 -91 2169 -91 \nQ 1331 -91 842 396 \nQ 353 884 353 1716 \nQ 353 2575 817 3079 \nQ 1281 3584 2069 3584 \nQ 2775 3584 3186 3129 \nQ 3597 2675 3597 1894 \nz\nM 3022 2063 \nQ 3016 2534 2758 2815 \nQ 2500 3097 2075 3097 \nQ 1594 3097 1305 2825 \nQ 1016 2553 972 2059 \nL 3022 2063 \nz\n\" id=\"DejaVuSans-65\" transform=\"scale(0.015625)\"/>\n       <path d=\"M 603 4863 \nL 1178 4863 \nL 1178 0 \nL 603 0 \nL 603 4863 \nz\n\" id=\"DejaVuSans-6c\" transform=\"scale(0.015625)\"/>\n       <path d=\"M 3513 2113 \nL 3513 0 \nL 2938 0 \nL 2938 2094 \nQ 2938 2591 2744 2837 \nQ 2550 3084 2163 3084 \nQ 1697 3084 1428 2787 \nQ 1159 2491 1159 1978 \nL 1159 0 \nL 581 0 \nL 581 3500 \nL 1159 3500 \nL 1159 2956 \nQ 1366 3272 1645 3428 \nQ 1925 3584 2291 3584 \nQ 2894 3584 3203 3211 \nQ 3513 2838 3513 2113 \nz\n\" id=\"DejaVuSans-6e\" transform=\"scale(0.015625)\"/>\n      </defs>\n      <use xlink:href=\"#DejaVuSans-74\"/>\n      <use x=\"39.208984\" xlink:href=\"#DejaVuSans-69\"/>\n      <use x=\"66.992188\" xlink:href=\"#DejaVuSans-6d\"/>\n      <use x=\"164.404297\" xlink:href=\"#DejaVuSans-65\"/>\n      <use x=\"225.927734\" xlink:href=\"#DejaVuSans-6c\"/>\n      <use x=\"253.710938\" xlink:href=\"#DejaVuSans-69\"/>\n      <use x=\"281.494141\" xlink:href=\"#DejaVuSans-6e\"/>\n      <use x=\"344.873047\" xlink:href=\"#DejaVuSans-65\"/>\n     </g>\n    </g>\n   </g>\n   <g id=\"matplotlib.axis_2\">\n    <g id=\"ytick_1\">\n     <g id=\"line2d_6\">\n      <defs>\n       <path d=\"M 0 0 \nL -3.5 0 \n\" id=\"ma874db29a1\" style=\"stroke:#000000;stroke-width:0.8;\"/>\n      </defs>\n      <g>\n       <use style=\"stroke:#000000;stroke-width:0.8;\" x=\"30.103125\" xlink:href=\"#ma874db29a1\" y=\"343.781373\"/>\n      </g>\n     </g>\n     <g id=\"text_7\">\n      <!-- 0.2 -->\n      <g transform=\"translate(7.2 347.580592)scale(0.1 -0.1)\">\n       <defs>\n        <path d=\"M 684 794 \nL 1344 794 \nL 1344 0 \nL 684 0 \nL 684 794 \nz\n\" id=\"DejaVuSans-2e\" transform=\"scale(0.015625)\"/>\n       </defs>\n       <use xlink:href=\"#DejaVuSans-30\"/>\n       <use x=\"63.623047\" xlink:href=\"#DejaVuSans-2e\"/>\n       <use x=\"95.410156\" xlink:href=\"#DejaVuSans-32\"/>\n      </g>\n     </g>\n    </g>\n    <g id=\"ytick_2\">\n     <g id=\"line2d_7\">\n      <g>\n       <use style=\"stroke:#000000;stroke-width:0.8;\" x=\"30.103125\" xlink:href=\"#ma874db29a1\" y=\"267.732493\"/>\n      </g>\n     </g>\n     <g id=\"text_8\">\n      <!-- 0.4 -->\n      <g transform=\"translate(7.2 271.531712)scale(0.1 -0.1)\">\n       <use xlink:href=\"#DejaVuSans-30\"/>\n       <use x=\"63.623047\" xlink:href=\"#DejaVuSans-2e\"/>\n       <use x=\"95.410156\" xlink:href=\"#DejaVuSans-34\"/>\n      </g>\n     </g>\n    </g>\n    <g id=\"ytick_3\">\n     <g id=\"line2d_8\">\n      <g>\n       <use style=\"stroke:#000000;stroke-width:0.8;\" x=\"30.103125\" xlink:href=\"#ma874db29a1\" y=\"191.683614\"/>\n      </g>\n     </g>\n     <g id=\"text_9\">\n      <!-- 0.6 -->\n      <g transform=\"translate(7.2 195.482833)scale(0.1 -0.1)\">\n       <defs>\n        <path d=\"M 2113 2584 \nQ 1688 2584 1439 2293 \nQ 1191 2003 1191 1497 \nQ 1191 994 1439 701 \nQ 1688 409 2113 409 \nQ 2538 409 2786 701 \nQ 3034 994 3034 1497 \nQ 3034 2003 2786 2293 \nQ 2538 2584 2113 2584 \nz\nM 3366 4563 \nL 3366 3988 \nQ 3128 4100 2886 4159 \nQ 2644 4219 2406 4219 \nQ 1781 4219 1451 3797 \nQ 1122 3375 1075 2522 \nQ 1259 2794 1537 2939 \nQ 1816 3084 2150 3084 \nQ 2853 3084 3261 2657 \nQ 3669 2231 3669 1497 \nQ 3669 778 3244 343 \nQ 2819 -91 2113 -91 \nQ 1303 -91 875 529 \nQ 447 1150 447 2328 \nQ 447 3434 972 4092 \nQ 1497 4750 2381 4750 \nQ 2619 4750 2861 4703 \nQ 3103 4656 3366 4563 \nz\n\" id=\"DejaVuSans-36\" transform=\"scale(0.015625)\"/>\n       </defs>\n       <use xlink:href=\"#DejaVuSans-30\"/>\n       <use x=\"63.623047\" xlink:href=\"#DejaVuSans-2e\"/>\n       <use x=\"95.410156\" xlink:href=\"#DejaVuSans-36\"/>\n      </g>\n     </g>\n    </g>\n    <g id=\"ytick_4\">\n     <g id=\"line2d_9\">\n      <g>\n       <use style=\"stroke:#000000;stroke-width:0.8;\" x=\"30.103125\" xlink:href=\"#ma874db29a1\" y=\"115.634734\"/>\n      </g>\n     </g>\n     <g id=\"text_10\">\n      <!-- 0.8 -->\n      <g transform=\"translate(7.2 119.433953)scale(0.1 -0.1)\">\n       <defs>\n        <path d=\"M 2034 2216 \nQ 1584 2216 1326 1975 \nQ 1069 1734 1069 1313 \nQ 1069 891 1326 650 \nQ 1584 409 2034 409 \nQ 2484 409 2743 651 \nQ 3003 894 3003 1313 \nQ 3003 1734 2745 1975 \nQ 2488 2216 2034 2216 \nz\nM 1403 2484 \nQ 997 2584 770 2862 \nQ 544 3141 544 3541 \nQ 544 4100 942 4425 \nQ 1341 4750 2034 4750 \nQ 2731 4750 3128 4425 \nQ 3525 4100 3525 3541 \nQ 3525 3141 3298 2862 \nQ 3072 2584 2669 2484 \nQ 3125 2378 3379 2068 \nQ 3634 1759 3634 1313 \nQ 3634 634 3220 271 \nQ 2806 -91 2034 -91 \nQ 1263 -91 848 271 \nQ 434 634 434 1313 \nQ 434 1759 690 2068 \nQ 947 2378 1403 2484 \nz\nM 1172 3481 \nQ 1172 3119 1398 2916 \nQ 1625 2713 2034 2713 \nQ 2441 2713 2670 2916 \nQ 2900 3119 2900 3481 \nQ 2900 3844 2670 4047 \nQ 2441 4250 2034 4250 \nQ 1625 4250 1398 4047 \nQ 1172 3844 1172 3481 \nz\n\" id=\"DejaVuSans-38\" transform=\"scale(0.015625)\"/>\n       </defs>\n       <use xlink:href=\"#DejaVuSans-30\"/>\n       <use x=\"63.623047\" xlink:href=\"#DejaVuSans-2e\"/>\n       <use x=\"95.410156\" xlink:href=\"#DejaVuSans-38\"/>\n      </g>\n     </g>\n    </g>\n    <g id=\"ytick_5\">\n     <g id=\"line2d_10\">\n      <g>\n       <use style=\"stroke:#000000;stroke-width:0.8;\" x=\"30.103125\" xlink:href=\"#ma874db29a1\" y=\"39.585854\"/>\n      </g>\n     </g>\n     <g id=\"text_11\">\n      <!-- 1.0 -->\n      <g transform=\"translate(7.2 43.385073)scale(0.1 -0.1)\">\n       <use xlink:href=\"#DejaVuSans-31\"/>\n       <use x=\"63.623047\" xlink:href=\"#DejaVuSans-2e\"/>\n       <use x=\"95.410156\" xlink:href=\"#DejaVuSans-30\"/>\n      </g>\n     </g>\n    </g>\n   </g>\n   <g id=\"line2d_11\">\n    <path clip-path=\"url(#pb29e6d4e5a)\" d=\"M 60.539489 39.836015 \nL 73.491133 39.836015 \nL 73.491133 44.088748 \nL 86.442777 44.088748 \nL 86.442777 59.986475 \nL 99.394421 59.986475 \nL 99.394421 88.507426 \nL 112.346065 88.507426 \nL 112.346065 112.783092 \nL 125.297709 112.783092 \nL 125.297709 137.368244 \nL 138.249353 137.368244 \nL 138.249353 159.511537 \nL 151.200997 159.511537 \nL 151.200997 187.228143 \nL 164.152641 187.228143 \nL 164.152641 203.13725 \nL 177.104286 203.13725 \nL 177.104286 219.805942 \nL 190.05593 219.805942 \nL 190.05593 238.829234 \nL 203.007574 238.829234 \nL 203.007574 249.945832 \nL 215.959218 249.945832 \nL 215.959218 256.107443 \nL 228.910862 256.107443 \nL 228.910862 263.522425 \nL 241.862506 263.522425 \nL 241.862506 269.414982 \nL 254.81415 269.414982 \nL 254.81415 279.03057 \nL 267.765794 279.03057 \nL 267.765794 284.552126 \nL 280.717438 284.552126 \nL 280.717438 290.203432 \nL 293.669082 290.203432 \nL 293.669082 298.508214 \nL 306.620727 298.508214 \nL 306.620727 302.933334 \nL 319.572371 302.933334 \nL 319.572371 305.572942 \nL 332.524015 305.572942 \nL 332.524015 311.343513 \nL 345.475659 311.343513 \nL 345.475659 317.282568 \nL 358.427303 317.282568 \nL 358.427303 322.51049 \nL 371.378947 322.51049 \nL 371.378947 325.524819 \nL 384.330591 325.524819 \nL 384.330591 329.117407 \nL 397.282235 329.117407 \nL 397.282235 332.99817 \nL 410.233879 332.99817 \nL 410.233879 338.173592 \nL 423.185523 338.173592 \nL 423.185523 343.924061 \nL 436.137168 343.924061 \nL 436.137168 345.675743 \nL 449.088812 345.675743 \nL 449.088812 348.765514 \nL 462.040456 348.765514 \nL 462.040456 352.713555 \nL 474.9921 352.713555 \nL 474.9921 356.137876 \nL 487.943744 356.137876 \nL 487.943744 360.480538 \nL 500.895388 360.480538 \nL 500.895388 364.334416 \nL 513.847032 364.334416 \nL 513.847032 368.475896 \nL 526.798676 368.475896 \nL 526.798676 368.475896 \nL 539.75032 368.475896 \nL 539.75032 372.426231 \nL 552.701964 372.426231 \nL 552.701964 373.479654 \nL 565.653609 373.479654 \nL 565.653609 376.054687 \nL 591.556897 376.054687 \nL 591.556897 376.054687 \nL 604.508541 376.054687 \nL 604.508541 376.054687 \nL 617.460185 376.054687 \nL 617.460185 376.054687 \nL 643.363473 376.054687 \nL 643.363473 376.054687 \nL 656.315117 376.054687 \nL 656.315117 376.054687 \nL 669.266761 376.054687 \nL 669.266761 376.054687 \n\" style=\"fill:none;stroke:#1f77b4;stroke-linecap:square;stroke-width:1.5;\"/>\n   </g>\n   <g id=\"line2d_12\">\n    <path clip-path=\"url(#pb29e6d4e5a)\" d=\"M 60.539489 39.811118 \nL 73.491133 39.811118 \nL 73.491133 40.937434 \nL 86.442777 40.937434 \nL 86.442777 47.077954 \nL 99.394421 47.077954 \nL 99.394421 63.123583 \nL 112.346065 63.123583 \nL 112.346065 80.698998 \nL 125.297709 80.698998 \nL 125.297709 93.656254 \nL 138.249353 93.656254 \nL 138.249353 104.495112 \nL 151.200997 104.495112 \nL 151.200997 123.790982 \nL 164.152641 123.790982 \nL 164.152641 134.528157 \nL 177.104286 134.528157 \nL 177.104286 143.831487 \nL 190.05593 143.831487 \nL 190.05593 160.31293 \nL 203.007574 160.31293 \nL 203.007574 169.335004 \nL 215.959218 169.335004 \nL 215.959218 173.081728 \nL 228.910862 173.081728 \nL 228.910862 180.108521 \nL 241.862506 180.108521 \nL 241.862506 185.664065 \nL 254.81415 185.664065 \nL 254.81415 194.885799 \nL 267.765794 194.885799 \nL 267.765794 199.510208 \nL 280.717438 199.510208 \nL 280.717438 202.90497 \nL 293.669082 202.90497 \nL 293.669082 207.352965 \nL 306.620727 207.352965 \nL 306.620727 212.197724 \nL 319.572371 212.197724 \nL 319.572371 217.905834 \nL 332.524015 217.905834 \nL 332.524015 224.793741 \nL 345.475659 224.793741 \nL 345.475659 235.356647 \nL 358.427303 235.356647 \nL 358.427303 240.459108 \nL 371.378947 240.459108 \nL 371.378947 243.683758 \nL 384.330591 243.683758 \nL 384.330591 249.41876 \nL 397.282235 249.41876 \nL 397.282235 251.153228 \nL 410.233879 251.153228 \nL 410.233879 259.15824 \nL 423.185523 259.15824 \nL 423.185523 263.765323 \nL 436.137168 263.765323 \nL 436.137168 267.934996 \nL 449.088812 267.934996 \nL 449.088812 270.960798 \nL 462.040456 270.960798 \nL 462.040456 272.217081 \nL 474.9921 272.217081 \nL 474.9921 276.11875 \nL 487.943744 276.11875 \nL 487.943744 280.408646 \nL 500.895388 280.408646 \nL 500.895388 282.645356 \nL 513.847032 282.645356 \nL 513.847032 288.395621 \nL 526.798676 288.395621 \nL 526.798676 290.148083 \nL 539.75032 290.148083 \nL 539.75032 292.946979 \nL 552.701964 292.946979 \nL 552.701964 294.013225 \nL 565.653609 294.013225 \nL 565.653609 309.740353 \nL 578.605253 309.740353 \nL 578.605253 309.740353 \nL 591.556897 309.740353 \nL 591.556897 309.740353 \nL 617.460185 309.740353 \nL 617.460185 309.740353 \nL 643.363473 309.740353 \nL 643.363473 309.740353 \nL 656.315117 309.740353 \nL 656.315117 309.740353 \nL 669.266761 309.740353 \nL 669.266761 309.740353 \n\" style=\"fill:none;stroke:#ff7f0e;stroke-linecap:square;stroke-width:1.5;\"/>\n   </g>\n   <g id=\"line2d_13\">\n    <path clip-path=\"url(#pb29e6d4e5a)\" d=\"M 60.539489 39.789085 \nL 73.491133 39.789085 \nL 73.491133 42.227852 \nL 86.442777 42.227852 \nL 86.442777 56.894028 \nL 99.394421 56.894028 \nL 99.394421 88.759313 \nL 112.346065 88.759313 \nL 112.346065 108.923691 \nL 125.297709 108.923691 \nL 125.297709 123.92148 \nL 138.249353 123.92148 \nL 138.249353 140.761817 \nL 151.200997 140.761817 \nL 151.200997 160.449185 \nL 164.152641 160.449185 \nL 164.152641 176.032156 \nL 177.104286 176.032156 \nL 177.104286 185.638684 \nL 190.05593 185.638684 \nL 190.05593 199.180373 \nL 203.007574 199.180373 \nL 203.007574 206.007411 \nL 215.959218 206.007411 \nL 215.959218 211.025418 \nL 228.910862 211.025418 \nL 228.910862 216.0976 \nL 241.862506 216.0976 \nL 241.862506 221.198418 \nL 254.81415 221.198418 \nL 254.81415 231.093362 \nL 267.765794 231.093362 \nL 267.765794 236.622763 \nL 280.717438 236.622763 \nL 280.717438 240.830033 \nL 293.669082 240.830033 \nL 293.669082 247.110742 \nL 306.620727 247.110742 \nL 306.620727 252.30832 \nL 319.572371 252.30832 \nL 319.572371 256.012736 \nL 332.524015 256.012736 \nL 332.524015 258.16823 \nL 345.475659 258.16823 \nL 345.475659 263.080612 \nL 358.427303 263.080612 \nL 358.427303 264.952249 \nL 371.378947 264.952249 \nL 371.378947 266.918954 \nL 384.330591 266.918954 \nL 384.330591 269.475999 \nL 397.282235 269.475999 \nL 397.282235 276.583655 \nL 410.233879 276.583655 \nL 410.233879 283.470511 \nL 423.185523 283.470511 \nL 423.185523 286.296619 \nL 436.137168 286.296619 \nL 436.137168 287.805474 \nL 449.088812 287.805474 \nL 449.088812 288.600804 \nL 462.040456 288.600804 \nL 462.040456 291.190859 \nL 474.9921 291.190859 \nL 474.9921 293.947417 \nL 487.943744 293.947417 \nL 487.943744 294.95448 \nL 500.895388 294.95448 \nL 500.895388 300.157637 \nL 513.847032 300.157637 \nL 513.847032 304.716594 \nL 526.798676 304.716594 \nL 526.798676 304.716594 \nL 539.75032 304.716594 \nL 539.75032 306.070872 \nL 552.701964 306.070872 \nL 552.701964 306.070872 \nL 565.653609 306.070872 \nL 565.653609 309.416736 \nL 578.605253 309.416736 \nL 578.605253 309.416736 \nL 591.556897 309.416736 \nL 591.556897 309.416736 \nL 604.508541 309.416736 \nL 604.508541 309.416736 \nL 630.411829 309.416736 \nL 630.411829 309.416736 \nL 643.363473 309.416736 \nL 643.363473 309.416736 \nL 656.315117 309.416736 \nL 656.315117 309.416736 \nL 669.266761 309.416736 \nL 669.266761 309.416736 \n\" style=\"fill:none;stroke:#2ca02c;stroke-linecap:square;stroke-width:1.5;\"/>\n   </g>\n   <g id=\"line2d_14\">\n    <path clip-path=\"url(#pb29e6d4e5a)\" d=\"M 60.539489 40.04233 \nL 73.491133 40.04233 \nL 73.491133 44.150613 \nL 86.442777 44.150613 \nL 86.442777 62.358399 \nL 99.394421 62.358399 \nL 99.394421 93.238829 \nL 112.346065 93.238829 \nL 112.346065 115.966825 \nL 125.297709 115.966825 \nL 125.297709 138.713314 \nL 138.249353 138.713314 \nL 138.249353 158.38403 \nL 151.200997 158.38403 \nL 151.200997 182.878992 \nL 164.152641 182.878992 \nL 164.152641 191.992502 \nL 177.104286 191.992502 \nL 177.104286 204.893847 \nL 190.05593 204.893847 \nL 190.05593 217.568229 \nL 203.007574 217.568229 \nL 203.007574 231.303733 \nL 215.959218 231.303733 \nL 215.959218 235.989334 \nL 228.910862 235.989334 \nL 228.910862 241.856597 \nL 241.862506 241.856597 \nL 241.862506 247.310628 \nL 254.81415 247.310628 \nL 254.81415 253.12246 \nL 267.765794 253.12246 \nL 267.765794 258.944975 \nL 280.717438 258.944975 \nL 280.717438 265.120993 \nL 293.669082 265.120993 \nL 293.669082 271.095538 \nL 306.620727 271.095538 \nL 306.620727 275.253712 \nL 319.572371 275.253712 \nL 319.572371 278.803583 \nL 332.524015 278.803583 \nL 332.524015 285.755602 \nL 345.475659 285.755602 \nL 345.475659 289.537194 \nL 358.427303 289.537194 \nL 358.427303 297.263467 \nL 371.378947 297.263467 \nL 371.378947 299.087378 \nL 384.330591 299.087378 \nL 384.330591 301.302844 \nL 397.282235 301.302844 \nL 397.282235 304.894583 \nL 410.233879 304.894583 \nL 410.233879 308.151869 \nL 423.185523 308.151869 \nL 423.185523 310.517937 \nL 436.137168 310.517937 \nL 436.137168 312.968886 \nL 449.088812 312.968886 \nL 449.088812 318.033405 \nL 462.040456 318.033405 \nL 462.040456 323.363083 \nL 474.9921 323.363083 \nL 474.9921 326.151152 \nL 487.943744 326.151152 \nL 487.943744 331.933812 \nL 500.895388 331.933812 \nL 500.895388 337.029258 \nL 513.847032 337.029258 \nL 513.847032 344.619349 \nL 526.798676 344.619349 \nL 526.798676 347.819813 \nL 539.75032 347.819813 \nL 539.75032 348.697989 \nL 552.701964 348.697989 \nL 552.701964 351.931274 \nL 565.653609 351.931274 \nL 565.653609 356.457873 \nL 578.605253 356.457873 \nL 578.605253 358.895272 \nL 591.556897 358.895272 \nL 591.556897 358.895272 \nL 604.508541 358.895272 \nL 604.508541 358.895272 \nL 617.460185 358.895272 \nL 617.460185 358.895272 \nL 643.363473 358.895272 \nL 643.363473 358.895272 \nL 656.315117 358.895272 \nL 656.315117 358.895272 \nL 669.266761 358.895272 \nL 669.266761 358.895272 \n\" style=\"fill:none;stroke:#d62728;stroke-linecap:square;stroke-width:1.5;\"/>\n   </g>\n   <g id=\"patch_3\">\n    <path d=\"M 30.103125 402.838125 \nL 30.103125 22.318125 \n\" style=\"fill:none;stroke:#000000;stroke-linecap:square;stroke-linejoin:miter;stroke-width:0.8;\"/>\n   </g>\n   <g id=\"patch_4\">\n    <path d=\"M 699.703125 402.838125 \nL 699.703125 22.318125 \n\" style=\"fill:none;stroke:#000000;stroke-linecap:square;stroke-linejoin:miter;stroke-width:0.8;\"/>\n   </g>\n   <g id=\"patch_5\">\n    <path d=\"M 30.103125 402.838125 \nL 699.703125 402.838125 \n\" style=\"fill:none;stroke:#000000;stroke-linecap:square;stroke-linejoin:miter;stroke-width:0.8;\"/>\n   </g>\n   <g id=\"patch_6\">\n    <path d=\"M 30.103125 22.318125 \nL 699.703125 22.318125 \n\" style=\"fill:none;stroke:#000000;stroke-linecap:square;stroke-linejoin:miter;stroke-width:0.8;\"/>\n   </g>\n   <g id=\"text_12\">\n    <!-- Survival by age cohorts -->\n    <g transform=\"translate(294.064688 16.318125)scale(0.12 -0.12)\">\n     <defs>\n      <path d=\"M 3425 4513 \nL 3425 3897 \nQ 3066 4069 2747 4153 \nQ 2428 4238 2131 4238 \nQ 1616 4238 1336 4038 \nQ 1056 3838 1056 3469 \nQ 1056 3159 1242 3001 \nQ 1428 2844 1947 2747 \nL 2328 2669 \nQ 3034 2534 3370 2195 \nQ 3706 1856 3706 1288 \nQ 3706 609 3251 259 \nQ 2797 -91 1919 -91 \nQ 1588 -91 1214 -16 \nQ 841 59 441 206 \nL 441 856 \nQ 825 641 1194 531 \nQ 1563 422 1919 422 \nQ 2459 422 2753 634 \nQ 3047 847 3047 1241 \nQ 3047 1584 2836 1778 \nQ 2625 1972 2144 2069 \nL 1759 2144 \nQ 1053 2284 737 2584 \nQ 422 2884 422 3419 \nQ 422 4038 858 4394 \nQ 1294 4750 2059 4750 \nQ 2388 4750 2728 4690 \nQ 3069 4631 3425 4513 \nz\n\" id=\"DejaVuSans-53\" transform=\"scale(0.015625)\"/>\n      <path d=\"M 544 1381 \nL 544 3500 \nL 1119 3500 \nL 1119 1403 \nQ 1119 906 1312 657 \nQ 1506 409 1894 409 \nQ 2359 409 2629 706 \nQ 2900 1003 2900 1516 \nL 2900 3500 \nL 3475 3500 \nL 3475 0 \nL 2900 0 \nL 2900 538 \nQ 2691 219 2414 64 \nQ 2138 -91 1772 -91 \nQ 1169 -91 856 284 \nQ 544 659 544 1381 \nz\nM 1991 3584 \nL 1991 3584 \nz\n\" id=\"DejaVuSans-75\" transform=\"scale(0.015625)\"/>\n      <path d=\"M 2631 2963 \nQ 2534 3019 2420 3045 \nQ 2306 3072 2169 3072 \nQ 1681 3072 1420 2755 \nQ 1159 2438 1159 1844 \nL 1159 0 \nL 581 0 \nL 581 3500 \nL 1159 3500 \nL 1159 2956 \nQ 1341 3275 1631 3429 \nQ 1922 3584 2338 3584 \nQ 2397 3584 2469 3576 \nQ 2541 3569 2628 3553 \nL 2631 2963 \nz\n\" id=\"DejaVuSans-72\" transform=\"scale(0.015625)\"/>\n      <path d=\"M 191 3500 \nL 800 3500 \nL 1894 563 \nL 2988 3500 \nL 3597 3500 \nL 2284 0 \nL 1503 0 \nL 191 3500 \nz\n\" id=\"DejaVuSans-76\" transform=\"scale(0.015625)\"/>\n      <path d=\"M 2194 1759 \nQ 1497 1759 1228 1600 \nQ 959 1441 959 1056 \nQ 959 750 1161 570 \nQ 1363 391 1709 391 \nQ 2188 391 2477 730 \nQ 2766 1069 2766 1631 \nL 2766 1759 \nL 2194 1759 \nz\nM 3341 1997 \nL 3341 0 \nL 2766 0 \nL 2766 531 \nQ 2569 213 2275 61 \nQ 1981 -91 1556 -91 \nQ 1019 -91 701 211 \nQ 384 513 384 1019 \nQ 384 1609 779 1909 \nQ 1175 2209 1959 2209 \nL 2766 2209 \nL 2766 2266 \nQ 2766 2663 2505 2880 \nQ 2244 3097 1772 3097 \nQ 1472 3097 1187 3025 \nQ 903 2953 641 2809 \nL 641 3341 \nQ 956 3463 1253 3523 \nQ 1550 3584 1831 3584 \nQ 2591 3584 2966 3190 \nQ 3341 2797 3341 1997 \nz\n\" id=\"DejaVuSans-61\" transform=\"scale(0.015625)\"/>\n      <path id=\"DejaVuSans-20\" transform=\"scale(0.015625)\"/>\n      <path d=\"M 3116 1747 \nQ 3116 2381 2855 2742 \nQ 2594 3103 2138 3103 \nQ 1681 3103 1420 2742 \nQ 1159 2381 1159 1747 \nQ 1159 1113 1420 752 \nQ 1681 391 2138 391 \nQ 2594 391 2855 752 \nQ 3116 1113 3116 1747 \nz\nM 1159 2969 \nQ 1341 3281 1617 3432 \nQ 1894 3584 2278 3584 \nQ 2916 3584 3314 3078 \nQ 3713 2572 3713 1747 \nQ 3713 922 3314 415 \nQ 2916 -91 2278 -91 \nQ 1894 -91 1617 61 \nQ 1341 213 1159 525 \nL 1159 0 \nL 581 0 \nL 581 4863 \nL 1159 4863 \nL 1159 2969 \nz\n\" id=\"DejaVuSans-62\" transform=\"scale(0.015625)\"/>\n      <path d=\"M 2059 -325 \nQ 1816 -950 1584 -1140 \nQ 1353 -1331 966 -1331 \nL 506 -1331 \nL 506 -850 \nL 844 -850 \nQ 1081 -850 1212 -737 \nQ 1344 -625 1503 -206 \nL 1606 56 \nL 191 3500 \nL 800 3500 \nL 1894 763 \nL 2988 3500 \nL 3597 3500 \nL 2059 -325 \nz\n\" id=\"DejaVuSans-79\" transform=\"scale(0.015625)\"/>\n      <path d=\"M 2906 1791 \nQ 2906 2416 2648 2759 \nQ 2391 3103 1925 3103 \nQ 1463 3103 1205 2759 \nQ 947 2416 947 1791 \nQ 947 1169 1205 825 \nQ 1463 481 1925 481 \nQ 2391 481 2648 825 \nQ 2906 1169 2906 1791 \nz\nM 3481 434 \nQ 3481 -459 3084 -895 \nQ 2688 -1331 1869 -1331 \nQ 1566 -1331 1297 -1286 \nQ 1028 -1241 775 -1147 \nL 775 -588 \nQ 1028 -725 1275 -790 \nQ 1522 -856 1778 -856 \nQ 2344 -856 2625 -561 \nQ 2906 -266 2906 331 \nL 2906 616 \nQ 2728 306 2450 153 \nQ 2172 0 1784 0 \nQ 1141 0 747 490 \nQ 353 981 353 1791 \nQ 353 2603 747 3093 \nQ 1141 3584 1784 3584 \nQ 2172 3584 2450 3431 \nQ 2728 3278 2906 2969 \nL 2906 3500 \nL 3481 3500 \nL 3481 434 \nz\n\" id=\"DejaVuSans-67\" transform=\"scale(0.015625)\"/>\n      <path d=\"M 3122 3366 \nL 3122 2828 \nQ 2878 2963 2633 3030 \nQ 2388 3097 2138 3097 \nQ 1578 3097 1268 2742 \nQ 959 2388 959 1747 \nQ 959 1106 1268 751 \nQ 1578 397 2138 397 \nQ 2388 397 2633 464 \nQ 2878 531 3122 666 \nL 3122 134 \nQ 2881 22 2623 -34 \nQ 2366 -91 2075 -91 \nQ 1284 -91 818 406 \nQ 353 903 353 1747 \nQ 353 2603 823 3093 \nQ 1294 3584 2113 3584 \nQ 2378 3584 2631 3529 \nQ 2884 3475 3122 3366 \nz\n\" id=\"DejaVuSans-63\" transform=\"scale(0.015625)\"/>\n      <path d=\"M 1959 3097 \nQ 1497 3097 1228 2736 \nQ 959 2375 959 1747 \nQ 959 1119 1226 758 \nQ 1494 397 1959 397 \nQ 2419 397 2687 759 \nQ 2956 1122 2956 1747 \nQ 2956 2369 2687 2733 \nQ 2419 3097 1959 3097 \nz\nM 1959 3584 \nQ 2709 3584 3137 3096 \nQ 3566 2609 3566 1747 \nQ 3566 888 3137 398 \nQ 2709 -91 1959 -91 \nQ 1206 -91 779 398 \nQ 353 888 353 1747 \nQ 353 2609 779 3096 \nQ 1206 3584 1959 3584 \nz\n\" id=\"DejaVuSans-6f\" transform=\"scale(0.015625)\"/>\n      <path d=\"M 3513 2113 \nL 3513 0 \nL 2938 0 \nL 2938 2094 \nQ 2938 2591 2744 2837 \nQ 2550 3084 2163 3084 \nQ 1697 3084 1428 2787 \nQ 1159 2491 1159 1978 \nL 1159 0 \nL 581 0 \nL 581 4863 \nL 1159 4863 \nL 1159 2956 \nQ 1366 3272 1645 3428 \nQ 1925 3584 2291 3584 \nQ 2894 3584 3203 3211 \nQ 3513 2838 3513 2113 \nz\n\" id=\"DejaVuSans-68\" transform=\"scale(0.015625)\"/>\n      <path d=\"M 2834 3397 \nL 2834 2853 \nQ 2591 2978 2328 3040 \nQ 2066 3103 1784 3103 \nQ 1356 3103 1142 2972 \nQ 928 2841 928 2578 \nQ 928 2378 1081 2264 \nQ 1234 2150 1697 2047 \nL 1894 2003 \nQ 2506 1872 2764 1633 \nQ 3022 1394 3022 966 \nQ 3022 478 2636 193 \nQ 2250 -91 1575 -91 \nQ 1294 -91 989 -36 \nQ 684 19 347 128 \nL 347 722 \nQ 666 556 975 473 \nQ 1284 391 1588 391 \nQ 1994 391 2212 530 \nQ 2431 669 2431 922 \nQ 2431 1156 2273 1281 \nQ 2116 1406 1581 1522 \nL 1381 1569 \nQ 847 1681 609 1914 \nQ 372 2147 372 2553 \nQ 372 3047 722 3315 \nQ 1072 3584 1716 3584 \nQ 2034 3584 2315 3537 \nQ 2597 3491 2834 3397 \nz\n\" id=\"DejaVuSans-73\" transform=\"scale(0.015625)\"/>\n     </defs>\n     <use xlink:href=\"#DejaVuSans-53\"/>\n     <use x=\"63.476562\" xlink:href=\"#DejaVuSans-75\"/>\n     <use x=\"126.855469\" xlink:href=\"#DejaVuSans-72\"/>\n     <use x=\"167.96875\" xlink:href=\"#DejaVuSans-76\"/>\n     <use x=\"227.148438\" xlink:href=\"#DejaVuSans-69\"/>\n     <use x=\"254.931641\" xlink:href=\"#DejaVuSans-76\"/>\n     <use x=\"314.111328\" xlink:href=\"#DejaVuSans-61\"/>\n     <use x=\"375.390625\" xlink:href=\"#DejaVuSans-6c\"/>\n     <use x=\"403.173828\" xlink:href=\"#DejaVuSans-20\"/>\n     <use x=\"434.960938\" xlink:href=\"#DejaVuSans-62\"/>\n     <use x=\"498.4375\" xlink:href=\"#DejaVuSans-79\"/>\n     <use x=\"557.617188\" xlink:href=\"#DejaVuSans-20\"/>\n     <use x=\"589.404297\" xlink:href=\"#DejaVuSans-61\"/>\n     <use x=\"650.683594\" xlink:href=\"#DejaVuSans-67\"/>\n     <use x=\"714.160156\" xlink:href=\"#DejaVuSans-65\"/>\n     <use x=\"775.683594\" xlink:href=\"#DejaVuSans-20\"/>\n     <use x=\"807.470703\" xlink:href=\"#DejaVuSans-63\"/>\n     <use x=\"862.451172\" xlink:href=\"#DejaVuSans-6f\"/>\n     <use x=\"923.632812\" xlink:href=\"#DejaVuSans-68\"/>\n     <use x=\"987.011719\" xlink:href=\"#DejaVuSans-6f\"/>\n     <use x=\"1048.193359\" xlink:href=\"#DejaVuSans-72\"/>\n     <use x=\"1089.306641\" xlink:href=\"#DejaVuSans-74\"/>\n     <use x=\"1128.515625\" xlink:href=\"#DejaVuSans-73\"/>\n    </g>\n   </g>\n   <g id=\"legend_1\">\n    <g id=\"patch_7\">\n     <path d=\"M 593 89.030625 \nL 692.703125 89.030625 \nQ 694.703125 89.030625 694.703125 87.030625 \nL 694.703125 29.318125 \nQ 694.703125 27.318125 692.703125 27.318125 \nL 593 27.318125 \nQ 591 27.318125 591 29.318125 \nL 591 87.030625 \nQ 591 89.030625 593 89.030625 \nz\n\" style=\"fill:#ffffff;opacity:0.8;stroke:#cccccc;stroke-linejoin:miter;\"/>\n    </g>\n    <g id=\"line2d_15\">\n     <path d=\"M 595 35.416562 \nL 615 35.416562 \n\" style=\"fill:none;stroke:#1f77b4;stroke-linecap:square;stroke-width:1.5;\"/>\n    </g>\n    <g id=\"line2d_16\"/>\n    <g id=\"text_13\">\n     <!-- 10 a 32 -->\n     <g transform=\"translate(623 38.916562)scale(0.1 -0.1)\">\n      <use xlink:href=\"#DejaVuSans-31\"/>\n      <use x=\"63.623047\" xlink:href=\"#DejaVuSans-30\"/>\n      <use x=\"127.246094\" xlink:href=\"#DejaVuSans-20\"/>\n      <use x=\"159.033203\" xlink:href=\"#DejaVuSans-61\"/>\n      <use x=\"220.3125\" xlink:href=\"#DejaVuSans-20\"/>\n      <use x=\"252.099609\" xlink:href=\"#DejaVuSans-33\"/>\n      <use x=\"315.722656\" xlink:href=\"#DejaVuSans-32\"/>\n     </g>\n    </g>\n    <g id=\"line2d_17\">\n     <path d=\"M 595 50.094687 \nL 615 50.094687 \n\" style=\"fill:none;stroke:#ff7f0e;stroke-linecap:square;stroke-width:1.5;\"/>\n    </g>\n    <g id=\"line2d_18\"/>\n    <g id=\"text_14\">\n     <!-- 5 to 10 -->\n     <g transform=\"translate(623 53.594687)scale(0.1 -0.1)\">\n      <defs>\n       <path d=\"M 691 4666 \nL 3169 4666 \nL 3169 4134 \nL 1269 4134 \nL 1269 2991 \nQ 1406 3038 1543 3061 \nQ 1681 3084 1819 3084 \nQ 2600 3084 3056 2656 \nQ 3513 2228 3513 1497 \nQ 3513 744 3044 326 \nQ 2575 -91 1722 -91 \nQ 1428 -91 1123 -41 \nQ 819 9 494 109 \nL 494 744 \nQ 775 591 1075 516 \nQ 1375 441 1709 441 \nQ 2250 441 2565 725 \nQ 2881 1009 2881 1497 \nQ 2881 1984 2565 2268 \nQ 2250 2553 1709 2553 \nQ 1456 2553 1204 2497 \nQ 953 2441 691 2322 \nL 691 4666 \nz\n\" id=\"DejaVuSans-35\" transform=\"scale(0.015625)\"/>\n      </defs>\n      <use xlink:href=\"#DejaVuSans-35\"/>\n      <use x=\"63.623047\" xlink:href=\"#DejaVuSans-20\"/>\n      <use x=\"95.410156\" xlink:href=\"#DejaVuSans-74\"/>\n      <use x=\"134.619141\" xlink:href=\"#DejaVuSans-6f\"/>\n      <use x=\"195.800781\" xlink:href=\"#DejaVuSans-20\"/>\n      <use x=\"227.587891\" xlink:href=\"#DejaVuSans-31\"/>\n      <use x=\"291.210938\" xlink:href=\"#DejaVuSans-30\"/>\n     </g>\n    </g>\n    <g id=\"line2d_19\">\n     <path d=\"M 595 64.772812 \nL 615 64.772812 \n\" style=\"fill:none;stroke:#2ca02c;stroke-linecap:square;stroke-width:1.5;\"/>\n    </g>\n    <g id=\"line2d_20\"/>\n    <g id=\"text_15\">\n     <!-- until 5 -->\n     <g transform=\"translate(623 68.272812)scale(0.1 -0.1)\">\n      <use xlink:href=\"#DejaVuSans-75\"/>\n      <use x=\"63.378906\" xlink:href=\"#DejaVuSans-6e\"/>\n      <use x=\"126.757812\" xlink:href=\"#DejaVuSans-74\"/>\n      <use x=\"165.966797\" xlink:href=\"#DejaVuSans-69\"/>\n      <use x=\"193.75\" xlink:href=\"#DejaVuSans-6c\"/>\n      <use x=\"221.533203\" xlink:href=\"#DejaVuSans-20\"/>\n      <use x=\"253.320312\" xlink:href=\"#DejaVuSans-35\"/>\n     </g>\n    </g>\n    <g id=\"line2d_21\">\n     <path d=\"M 595 79.450937 \nL 615 79.450937 \n\" style=\"fill:none;stroke:#d62728;stroke-linecap:square;stroke-width:1.5;\"/>\n    </g>\n    <g id=\"line2d_22\"/>\n    <g id=\"text_16\">\n     <!-- more than 32 -->\n     <g transform=\"translate(623 82.950937)scale(0.1 -0.1)\">\n      <use xlink:href=\"#DejaVuSans-6d\"/>\n      <use x=\"97.412109\" xlink:href=\"#DejaVuSans-6f\"/>\n      <use x=\"158.59375\" xlink:href=\"#DejaVuSans-72\"/>\n      <use x=\"197.457031\" xlink:href=\"#DejaVuSans-65\"/>\n      <use x=\"258.980469\" xlink:href=\"#DejaVuSans-20\"/>\n      <use x=\"290.767578\" xlink:href=\"#DejaVuSans-74\"/>\n      <use x=\"329.976562\" xlink:href=\"#DejaVuSans-68\"/>\n      <use x=\"393.355469\" xlink:href=\"#DejaVuSans-61\"/>\n      <use x=\"454.634766\" xlink:href=\"#DejaVuSans-6e\"/>\n      <use x=\"518.013672\" xlink:href=\"#DejaVuSans-20\"/>\n      <use x=\"549.800781\" xlink:href=\"#DejaVuSans-33\"/>\n      <use x=\"613.423828\" xlink:href=\"#DejaVuSans-32\"/>\n     </g>\n    </g>\n   </g>\n  </g>\n </g>\n <defs>\n  <clipPath id=\"pb29e6d4e5a\">\n   <rect height=\"380.52\" width=\"669.6\" x=\"30.103125\" y=\"22.318125\"/>\n  </clipPath>\n </defs>\n</svg>\n"
     },
     "metadata": {
      "needs_background": "light"
     }
    }
   ],
   "metadata": {}
  },
  {
   "cell_type": "code",
   "execution_count": 64,
   "source": [
    "from lifelines.statistics import multivariate_logrank_test\n",
    "\n",
    "results=multivariate_logrank_test(event_durations=T,groups=dt.escaloesIdade,event_observed=C)\n",
    "results.print_summary()"
   ],
   "outputs": [
    {
     "output_type": "display_data",
     "data": {
      "text/plain": [
       "<lifelines.StatisticalResult: multivariate_logrank_test>\n",
       "               t_0 = -1\n",
       " null_distribution = chi squared\n",
       "degrees_of_freedom = 3\n",
       "         test_name = multivariate_logrank_test\n",
       "\n",
       "---\n",
       " test_statistic      p  -log2(p)\n",
       "         204.78 <0.005    144.19"
      ],
      "text/latex": [
       "\\begin{tabular}{lrrr}\n",
       "\\toprule\n",
       "{} &  test\\_statistic &             p &    -log2(p) \\\\\n",
       "\\midrule\n",
       "0 &      204.775845 &  3.918999e-44 &  144.194351 \\\\\n",
       "\\bottomrule\n",
       "\\end{tabular}\n"
      ],
      "text/html": [
       "<div>\n",
       "<style scoped>\n",
       "    .dataframe tbody tr th:only-of-type {\n",
       "        vertical-align: middle;\n",
       "    }\n",
       "\n",
       "    .dataframe tbody tr th {\n",
       "        vertical-align: top;\n",
       "    }\n",
       "\n",
       "    .dataframe thead th {\n",
       "        text-align: right;\n",
       "    }\n",
       "</style>\n",
       "<table border=\"1\" class=\"dataframe\">\n",
       "  <tbody>\n",
       "    <tr>\n",
       "      <th>t_0</th>\n",
       "      <td>-1</td>\n",
       "    </tr>\n",
       "    <tr>\n",
       "      <th>null_distribution</th>\n",
       "      <td>chi squared</td>\n",
       "    </tr>\n",
       "    <tr>\n",
       "      <th>degrees_of_freedom</th>\n",
       "      <td>3</td>\n",
       "    </tr>\n",
       "    <tr>\n",
       "      <th>test_name</th>\n",
       "      <td>multivariate_logrank_test</td>\n",
       "    </tr>\n",
       "  </tbody>\n",
       "</table>\n",
       "</div><table border=\"1\" class=\"dataframe\">\n",
       "  <thead>\n",
       "    <tr style=\"text-align: right;\">\n",
       "      <th></th>\n",
       "      <th>test_statistic</th>\n",
       "      <th>p</th>\n",
       "      <th>-log2(p)</th>\n",
       "    </tr>\n",
       "  </thead>\n",
       "  <tbody>\n",
       "    <tr>\n",
       "      <th>0</th>\n",
       "      <td>204.78</td>\n",
       "      <td>&lt;0.005</td>\n",
       "      <td>144.19</td>\n",
       "    </tr>\n",
       "  </tbody>\n",
       "</table>"
      ]
     },
     "metadata": {}
    }
   ],
   "metadata": {}
  },
  {
   "cell_type": "code",
   "execution_count": 65,
   "source": [
    "from lifelines.statistics import pairwise_logrank_test\n",
    "\n",
    "results=pairwise_logrank_test(event_durations=T,groups=dt.escaloesIdade,event_observed=C)\n",
    "results.print_summary()"
   ],
   "outputs": [
    {
     "output_type": "display_data",
     "data": {
      "text/plain": [
       "<lifelines.StatisticalResult: logrank_test>\n",
       "               t_0 = -1\n",
       " null_distribution = chi squared\n",
       "degrees_of_freedom = 1\n",
       "         test_name = logrank_test\n",
       "\n",
       "---\n",
       "                           test_statistic      p  -log2(p)\n",
       "10 a 32      5 to 10               192.30 <0.005    142.85\n",
       "             more than 32           13.57 <0.005     12.09\n",
       "             until 5                67.91 <0.005     52.37\n",
       "5 to 10      more than 32          101.89 <0.005     77.17\n",
       "             until 5                26.39 <0.005     21.77\n",
       "more than 32 until 5                23.63 <0.005     19.71"
      ],
      "text/latex": [
       "\\begin{tabular}{llrrr}\n",
       "\\toprule\n",
       "             &         &  test\\_statistic &             p &    -log2(p) \\\\\n",
       "\\midrule\n",
       "10 a 32 & 5 to 10 &      192.304730 &  9.983294e-44 &  142.845320 \\\\\n",
       "             & more than 32 &       13.572396 &  2.295362e-04 &   12.088991 \\\\\n",
       "             & until 5 &       67.906188 &  1.714623e-16 &   52.372959 \\\\\n",
       "5 to 10 & more than 32 &      101.886060 &  5.880892e-24 &   77.170239 \\\\\n",
       "             & until 5 &       26.386571 &  2.794768e-07 &   21.770768 \\\\\n",
       "more than 32 & until 5 &       23.630533 &  1.167207e-06 &   19.708508 \\\\\n",
       "\\bottomrule\n",
       "\\end{tabular}\n"
      ],
      "text/html": [
       "<div>\n",
       "<style scoped>\n",
       "    .dataframe tbody tr th:only-of-type {\n",
       "        vertical-align: middle;\n",
       "    }\n",
       "\n",
       "    .dataframe tbody tr th {\n",
       "        vertical-align: top;\n",
       "    }\n",
       "\n",
       "    .dataframe thead th {\n",
       "        text-align: right;\n",
       "    }\n",
       "</style>\n",
       "<table border=\"1\" class=\"dataframe\">\n",
       "  <tbody>\n",
       "    <tr>\n",
       "      <th>t_0</th>\n",
       "      <td>-1</td>\n",
       "    </tr>\n",
       "    <tr>\n",
       "      <th>null_distribution</th>\n",
       "      <td>chi squared</td>\n",
       "    </tr>\n",
       "    <tr>\n",
       "      <th>degrees_of_freedom</th>\n",
       "      <td>1</td>\n",
       "    </tr>\n",
       "    <tr>\n",
       "      <th>test_name</th>\n",
       "      <td>logrank_test</td>\n",
       "    </tr>\n",
       "  </tbody>\n",
       "</table>\n",
       "</div><table border=\"1\" class=\"dataframe\">\n",
       "  <thead>\n",
       "    <tr style=\"text-align: right;\">\n",
       "      <th></th>\n",
       "      <th></th>\n",
       "      <th>test_statistic</th>\n",
       "      <th>p</th>\n",
       "      <th>-log2(p)</th>\n",
       "    </tr>\n",
       "  </thead>\n",
       "  <tbody>\n",
       "    <tr>\n",
       "      <th rowspan=\"3\" valign=\"top\">10 a 32</th>\n",
       "      <th>5 to 10</th>\n",
       "      <td>192.30</td>\n",
       "      <td>&lt;0.005</td>\n",
       "      <td>142.85</td>\n",
       "    </tr>\n",
       "    <tr>\n",
       "      <th>more than 32</th>\n",
       "      <td>13.57</td>\n",
       "      <td>&lt;0.005</td>\n",
       "      <td>12.09</td>\n",
       "    </tr>\n",
       "    <tr>\n",
       "      <th>until 5</th>\n",
       "      <td>67.91</td>\n",
       "      <td>&lt;0.005</td>\n",
       "      <td>52.37</td>\n",
       "    </tr>\n",
       "    <tr>\n",
       "      <th rowspan=\"2\" valign=\"top\">5 to 10</th>\n",
       "      <th>more than 32</th>\n",
       "      <td>101.89</td>\n",
       "      <td>&lt;0.005</td>\n",
       "      <td>77.17</td>\n",
       "    </tr>\n",
       "    <tr>\n",
       "      <th>until 5</th>\n",
       "      <td>26.39</td>\n",
       "      <td>&lt;0.005</td>\n",
       "      <td>21.77</td>\n",
       "    </tr>\n",
       "    <tr>\n",
       "      <th>more than 32</th>\n",
       "      <th>until 5</th>\n",
       "      <td>23.63</td>\n",
       "      <td>&lt;0.005</td>\n",
       "      <td>19.71</td>\n",
       "    </tr>\n",
       "  </tbody>\n",
       "</table>"
      ]
     },
     "metadata": {}
    }
   ],
   "metadata": {}
  },
  {
   "cell_type": "markdown",
   "source": [
    "## maccess"
   ],
   "metadata": {
    "toc-hr-collapsed": false
   }
  },
  {
   "cell_type": "code",
   "execution_count": 66,
   "source": [
    "dt.freqmedia.describe()"
   ],
   "outputs": [
    {
     "output_type": "execute_result",
     "data": {
      "text/plain": [
       "count    6745.000000\n",
       "mean        0.600197\n",
       "std         0.423792\n",
       "min         0.010000\n",
       "25%         0.300000\n",
       "50%         0.510000\n",
       "75%         0.800000\n",
       "max         3.940000\n",
       "Name: freqmedia, dtype: float64"
      ]
     },
     "metadata": {},
     "execution_count": 66
    }
   ],
   "metadata": {}
  },
  {
   "cell_type": "code",
   "execution_count": 67,
   "source": [
    "dt['esc_maccess']=''\n",
    "for index, cliente in dt.iterrows():\n",
    "    #se a variável tiver o valor 1 colocar na nova variável a descrição da atividade\n",
    "    if cliente['freqmedia'] <= 0.3:\n",
    "        dt.at[index,'esc_maccess']='maccess less than 0.3'\n",
    "    elif (cliente['freqmedia'] > 0.3) & (cliente['freqmedia'] < 0.51):\n",
    "        dt.at[index,'esc_maccess']='maccess greather than 0.3 and less 0.51'\n",
    "    elif (cliente['freqmedia'] >= 0.51) & (cliente['freqmedia'] < 0.8):\n",
    "        dt.at[index,'esc_maccess']='maccess greather than 0.51 and less 0.8'\n",
    "    elif (cliente['freqmedia'] >= 0.8):\n",
    "        dt.at[index,'esc_maccess']='maccess greather than 0.8'"
   ],
   "outputs": [],
   "metadata": {}
  },
  {
   "cell_type": "code",
   "execution_count": 68,
   "source": [
    "dt['esc_maccess'].value_counts()"
   ],
   "outputs": [
    {
     "output_type": "execute_result",
     "data": {
      "text/plain": [
       "maccess less than 0.3                      1740\n",
       "maccess greather than 0.8                  1698\n",
       "maccess greather than 0.51 and less 0.8    1675\n",
       "maccess greather than 0.3 and less 0.51    1632\n",
       "Name: esc_maccess, dtype: int64"
      ]
     },
     "metadata": {},
     "execution_count": 68
    }
   ],
   "metadata": {}
  },
  {
   "cell_type": "code",
   "execution_count": 69,
   "source": [
    "dt['esc_maccess'].unique()"
   ],
   "outputs": [
    {
     "output_type": "execute_result",
     "data": {
      "text/plain": [
       "array(['maccess greather than 0.51 and less 0.8',\n",
       "       'maccess greather than 0.3 and less 0.51',\n",
       "       'maccess greather than 0.8', 'maccess less than 0.3'], dtype=object)"
      ]
     },
     "metadata": {},
     "execution_count": 69
    }
   ],
   "metadata": {}
  },
  {
   "cell_type": "markdown",
   "source": [
    "Vamos considerar 3,4 e 5 superior a duas vezes por semana"
   ],
   "metadata": {}
  },
  {
   "cell_type": "code",
   "execution_count": 71,
   "source": [
    "ax = plt.subplot(111)\n",
    "#vamos considerar só 0,1,2,3\n",
    "idas=dt['esc_maccess'].unique()\n",
    "\n",
    "plt.rcParams['figure.figsize'] = [12, 7]\n",
    "for ida in idas:\n",
    "    ix = dt['esc_maccess'] == ida\n",
    "    kmf.fit(T.loc[ix], C.loc[ix], label=str(ida))\n",
    "    ax = kmf.plot(ax=ax)\n",
    "    print(str(ida),' predict survival 12 months:',kmf.predict(12.0),': median ',kmf.median_survival_time_)\n",
    "plt.title('maccess');"
   ],
   "outputs": [
    {
     "output_type": "stream",
     "name": "stdout",
     "text": [
      "maccess greather than 0.51 and less 0.8  predict survival 12 months: 0.5979748810760623 : median  20.0\n",
      "maccess greather than 0.3 and less 0.51  predict survival 12 months: 0.5140966461680566 : median  13.0\n",
      "maccess greather than 0.8  predict survival 12 months: 0.6244376660357491 : median  21.0\n",
      "maccess less than 0.3  predict survival 12 months: 0.4056633508325905 : median  9.0\n"
     ]
    },
    {
     "output_type": "display_data",
     "data": {
      "text/plain": [
       "<Figure size 864x504 with 1 Axes>"
      ],
      "image/png": "[encoded data removed]",
      "image/svg+xml": "<?xml version=\"1.0\" encoding=\"utf-8\" standalone=\"no\"?>\n<!DOCTYPE svg PUBLIC \"-//W3C//DTD SVG 1.1//EN\"\n  \"http://www.w3.org/Graphics/SVG/1.1/DTD/svg11.dtd\">\n<svg height=\"440.394375pt\" version=\"1.1\" viewBox=\"0 0 706.903125 440.394375\" width=\"706.903125pt\" xmlns=\"http://www.w3.org/2000/svg\" xmlns:xlink=\"http://www.w3.org/1999/xlink\">\n <metadata>\n  <rdf:RDF xmlns:cc=\"http://creativecommons.org/ns#\" xmlns:dc=\"http://purl.org/dc/elements/1.1/\" xmlns:rdf=\"http://www.w3.org/1999/02/22-rdf-syntax-ns#\">\n   <cc:Work>\n    <dc:type rdf:resource=\"http://purl.org/dc/dcmitype/StillImage\"/>\n    <dc:date>2021-07-14T16:57:07.002618</dc:date>\n    <dc:format>image/svg+xml</dc:format>\n    <dc:creator>\n     <cc:Agent>\n      <dc:title>Matplotlib v3.4.2, https://matplotlib.org/</dc:title>\n     </cc:Agent>\n    </dc:creator>\n   </cc:Work>\n  </rdf:RDF>\n </metadata>\n <defs>\n  <style type=\"text/css\">*{stroke-linecap:butt;stroke-linejoin:round;}</style>\n </defs>\n <g id=\"figure_1\">\n  <g id=\"patch_1\">\n   <path d=\"M 0 440.394375 \nL 706.903125 440.394375 \nL 706.903125 0 \nL 0 0 \nz\n\" style=\"fill:none;\"/>\n  </g>\n  <g id=\"axes_1\">\n   <g id=\"patch_2\">\n    <path d=\"M 30.103125 402.838125 \nL 699.703125 402.838125 \nL 699.703125 22.318125 \nL 30.103125 22.318125 \nz\n\" style=\"fill:#ffffff;\"/>\n   </g>\n   <g id=\"PolyCollection_1\">\n    <defs>\n     <path d=\"M 60.539489 -400.779886 \nL 60.539489 -400.779886 \nL 73.491133 -400.779886 \nL 73.491133 -396.256521 \nL 86.442777 -396.256521 \nL 86.442777 -386.384099 \nL 99.394421 -386.384099 \nL 99.394421 -365.851637 \nL 112.346065 -365.851637 \nL 112.346065 -345.746409 \nL 125.297709 -345.746409 \nL 125.297709 -328.461165 \nL 138.249353 -328.461165 \nL 138.249353 -313.495722 \nL 151.200997 -313.495722 \nL 151.200997 -297.543078 \nL 164.152641 -297.543078 \nL 164.152641 -285.083141 \nL 177.104286 -285.083141 \nL 177.104286 -268.478108 \nL 190.05593 -268.478108 \nL 190.05593 -252.682266 \nL 203.007574 -252.682266 \nL 203.007574 -242.132645 \nL 215.959218 -242.132645 \nL 215.959218 -237.085036 \nL 228.910862 -237.085036 \nL 228.910862 -228.965313 \nL 241.862506 -228.965313 \nL 241.862506 -225.796874 \nL 254.81415 -225.796874 \nL 254.81415 -217.735468 \nL 267.765794 -217.735468 \nL 267.765794 -213.134966 \nL 280.717438 -213.134966 \nL 280.717438 -209.201435 \nL 293.669082 -209.201435 \nL 293.669082 -204.014594 \nL 306.620727 -204.014594 \nL 306.620727 -200.361512 \nL 319.572371 -200.361512 \nL 319.572371 -194.150868 \nL 332.524015 -194.150868 \nL 332.524015 -188.991976 \nL 345.475659 -188.991976 \nL 345.475659 -183.217757 \nL 358.427303 -183.217757 \nL 358.427303 -176.780218 \nL 371.378947 -176.780218 \nL 371.378947 -174.833275 \nL 384.330591 -174.833275 \nL 384.330591 -170.351149 \nL 397.282235 -170.351149 \nL 397.282235 -167.107284 \nL 410.233879 -167.107284 \nL 410.233879 -162.13907 \nL 423.185523 -162.13907 \nL 423.185523 -157.840736 \nL 436.137168 -157.840736 \nL 436.137168 -155.620895 \nL 449.088812 -155.620895 \nL 449.088812 -154.052553 \nL 462.040456 -154.052553 \nL 462.040456 -150.655447 \nL 474.9921 -150.655447 \nL 474.9921 -144.519037 \nL 487.943744 -144.519037 \nL 487.943744 -141.609444 \nL 500.895388 -141.609444 \nL 500.895388 -140.611885 \nL 513.847032 -140.611885 \nL 513.847032 -133.015365 \nL 526.798676 -133.015365 \nL 526.798676 -133.015365 \nL 539.75032 -133.015365 \nL 539.75032 -129.027158 \nL 552.701964 -129.027158 \nL 552.701964 -129.027158 \nL 565.653609 -129.027158 \nL 565.653609 -118.205147 \nL 578.605253 -118.205147 \nL 578.605253 -118.205147 \nL 591.556897 -118.205147 \nL 591.556897 -118.205147 \nL 617.460185 -118.205147 \nL 617.460185 -118.205147 \nL 643.363473 -118.205147 \nL 643.363473 -118.205147 \nL 656.315117 -118.205147 \nL 656.315117 -118.205147 \nL 669.266761 -118.205147 \nL 669.266761 -118.205147 \nL 669.266761 -153.146501 \nL 669.266761 -153.146501 \nL 669.266761 -153.146501 \nL 656.315117 -153.146501 \nL 656.315117 -153.146501 \nL 643.363473 -153.146501 \nL 643.363473 -153.146501 \nL 617.460185 -153.146501 \nL 617.460185 -153.146501 \nL 591.556897 -153.146501 \nL 591.556897 -153.146501 \nL 578.605253 -153.146501 \nL 578.605253 -153.146501 \nL 565.653609 -153.146501 \nL 565.653609 -155.092344 \nL 552.701964 -155.092344 \nL 552.701964 -155.092344 \nL 539.75032 -155.092344 \nL 539.75032 -158.481894 \nL 526.798676 -158.481894 \nL 526.798676 -158.481894 \nL 513.847032 -158.481894 \nL 513.847032 -165.198592 \nL 500.895388 -165.198592 \nL 500.895388 -166.088343 \nL 487.943744 -166.088343 \nL 487.943744 -168.687698 \nL 474.9921 -168.687698 \nL 474.9921 -174.241694 \nL 462.040456 -174.241694 \nL 462.040456 -177.302097 \nL 449.088812 -177.302097 \nL 449.088812 -178.732357 \nL 436.137168 -178.732357 \nL 436.137168 -180.774107 \nL 423.185523 -180.774107 \nL 423.185523 -184.728073 \nL 410.233879 -184.728073 \nL 410.233879 -189.26357 \nL 397.282235 -189.26357 \nL 397.282235 -192.358265 \nL 384.330591 -192.358265 \nL 384.330591 -196.67068 \nL 371.378947 -196.67068 \nL 371.378947 -198.543383 \nL 358.427303 -198.543383 \nL 358.427303 -204.760406 \nL 345.475659 -204.760406 \nL 345.475659 -210.328998 \nL 332.524015 -210.328998 \nL 332.524015 -215.299658 \nL 319.572371 -215.299658 \nL 319.572371 -221.281936 \nL 306.620727 -221.281936 \nL 306.620727 -224.793729 \nL 293.669082 -224.793729 \nL 293.669082 -229.770959 \nL 280.717438 -229.770959 \nL 280.717438 -233.536718 \nL 267.765794 -233.536718 \nL 267.765794 -237.938867 \nL 254.81415 -237.938867 \nL 254.81415 -245.60627 \nL 241.862506 -245.60627 \nL 241.862506 -248.677528 \nL 228.910862 -248.677528 \nL 228.910862 -256.565099 \nL 215.959218 -256.565099 \nL 215.959218 -261.454424 \nL 203.007574 -261.454424 \nL 203.007574 -271.636478 \nL 190.05593 -271.636478 \nL 190.05593 -286.783588 \nL 177.104286 -286.783588 \nL 177.104286 -302.564348 \nL 164.152641 -302.564348 \nL 164.152641 -314.299398 \nL 151.200997 -314.299398 \nL 151.200997 -329.158156 \nL 138.249353 -329.158156 \nL 138.249353 -342.907379 \nL 125.297709 -342.907379 \nL 125.297709 -358.495159 \nL 112.346065 -358.495159 \nL 112.346065 -376.027873 \nL 99.394421 -376.027873 \nL 99.394421 -392.585814 \nL 86.442777 -392.585814 \nL 86.442777 -399.386872 \nL 73.491133 -399.386872 \nL 73.491133 -400.779886 \nL 60.539489 -400.779886 \nz\n\" id=\"m5f88bd73ab\" style=\"stroke:#1f77b4;stroke-opacity:0.25;\"/>\n    </defs>\n    <g clip-path=\"url(#p8b1905323b)\">\n     <use style=\"fill:#1f77b4;fill-opacity:0.25;stroke:#1f77b4;stroke-opacity:0.25;\" x=\"0\" xlink:href=\"#m5f88bd73ab\" y=\"440.394375\"/>\n    </g>\n   </g>\n   <g id=\"PolyCollection_2\">\n    <defs>\n     <path d=\"M 60.539489 -400.746866 \nL 60.539489 -399.119316 \nL 73.491133 -399.119316 \nL 73.491133 -396.736564 \nL 86.442777 -396.736564 \nL 86.442777 -378.267734 \nL 99.394421 -378.267734 \nL 99.394421 -348.105949 \nL 112.346065 -348.105949 \nL 112.346065 -320.050441 \nL 125.297709 -320.050441 \nL 125.297709 -298.428276 \nL 138.249353 -298.428276 \nL 138.249353 -279.653259 \nL 151.200997 -279.653259 \nL 151.200997 -257.986455 \nL 164.152641 -257.986455 \nL 164.152641 -242.658533 \nL 177.104286 -242.658533 \nL 177.104286 -231.201451 \nL 190.05593 -231.201451 \nL 190.05593 -216.670329 \nL 203.007574 -216.670329 \nL 203.007574 -210.662842 \nL 215.959218 -210.662842 \nL 215.959218 -205.132775 \nL 228.910862 -205.132775 \nL 228.910862 -196.452039 \nL 241.862506 -196.452039 \nL 241.862506 -189.597742 \nL 254.81415 -189.597742 \nL 254.81415 -179.130791 \nL 267.765794 -179.130791 \nL 267.765794 -174.220391 \nL 280.717438 -174.220391 \nL 280.717438 -167.828364 \nL 293.669082 -167.828364 \nL 293.669082 -160.950403 \nL 306.620727 -160.950403 \nL 306.620727 -156.437365 \nL 319.572371 -156.437365 \nL 319.572371 -153.62978 \nL 332.524015 -153.62978 \nL 332.524015 -147.785168 \nL 345.475659 -147.785168 \nL 345.475659 -141.023355 \nL 358.427303 -141.023355 \nL 358.427303 -135.549228 \nL 371.378947 -135.549228 \nL 371.378947 -133.120222 \nL 384.330591 -133.120222 \nL 384.330591 -131.462327 \nL 397.282235 -131.462327 \nL 397.282235 -127.52427 \nL 410.233879 -127.52427 \nL 410.233879 -120.563775 \nL 423.185523 -120.563775 \nL 423.185523 -115.648106 \nL 436.137168 -115.648106 \nL 436.137168 -112.818919 \nL 449.088812 -112.818919 \nL 449.088812 -110.535216 \nL 462.040456 -110.535216 \nL 462.040456 -107.636086 \nL 474.9921 -107.636086 \nL 474.9921 -104.651677 \nL 487.943744 -104.651677 \nL 487.943744 -100.123898 \nL 500.895388 -100.123898 \nL 500.895388 -96.078875 \nL 513.847032 -96.078875 \nL 513.847032 -89.254765 \nL 526.798676 -89.254765 \nL 526.798676 -87.594632 \nL 539.75032 -87.594632 \nL 539.75032 -85.815758 \nL 552.701964 -85.815758 \nL 552.701964 -84.868335 \nL 565.653609 -84.868335 \nL 565.653609 -75.147794 \nL 578.605253 -75.147794 \nL 578.605253 -72.736719 \nL 591.556897 -72.736719 \nL 591.556897 -72.736719 \nL 604.508541 -72.736719 \nL 604.508541 -72.736719 \nL 617.460185 -72.736719 \nL 617.460185 -72.736719 \nL 630.411829 -72.736719 \nL 630.411829 -72.736719 \nL 643.363473 -72.736719 \nL 643.363473 -72.736719 \nL 656.315117 -72.736719 \nL 656.315117 -72.736719 \nL 669.266761 -72.736719 \nL 669.266761 -72.736719 \nL 669.266761 -97.583311 \nL 669.266761 -97.583311 \nL 669.266761 -97.583311 \nL 656.315117 -97.583311 \nL 656.315117 -97.583311 \nL 643.363473 -97.583311 \nL 643.363473 -97.583311 \nL 630.411829 -97.583311 \nL 630.411829 -97.583311 \nL 617.460185 -97.583311 \nL 617.460185 -97.583311 \nL 604.508541 -97.583311 \nL 604.508541 -97.583311 \nL 591.556897 -97.583311 \nL 591.556897 -97.583311 \nL 578.605253 -97.583311 \nL 578.605253 -99.348695 \nL 565.653609 -99.348695 \nL 565.653609 -105.875554 \nL 552.701964 -105.875554 \nL 552.701964 -106.762111 \nL 539.75032 -106.762111 \nL 539.75032 -108.44735 \nL 526.798676 -108.44735 \nL 526.798676 -110.039205 \nL 513.847032 -110.039205 \nL 513.847032 -116.642323 \nL 500.895388 -116.642323 \nL 500.895388 -120.600111 \nL 487.943744 -120.600111 \nL 487.943744 -125.02132 \nL 474.9921 -125.02132 \nL 474.9921 -127.958442 \nL 462.040456 -127.958442 \nL 462.040456 -130.810104 \nL 449.088812 -130.810104 \nL 449.088812 -133.051155 \nL 436.137168 -133.051155 \nL 436.137168 -135.81795 \nL 423.185523 -135.81795 \nL 423.185523 -140.62147 \nL 410.233879 -140.62147 \nL 410.233879 -147.372979 \nL 397.282235 -147.372979 \nL 397.282235 -151.290894 \nL 384.330591 -151.290894 \nL 384.330591 -152.948003 \nL 371.378947 -152.948003 \nL 371.378947 -155.378444 \nL 358.427303 -155.378444 \nL 358.427303 -160.859244 \nL 345.475659 -160.859244 \nL 345.475659 -167.624004 \nL 332.524015 -167.624004 \nL 332.524015 -173.457278 \nL 319.572371 -173.457278 \nL 319.572371 -176.262821 \nL 306.620727 -176.262821 \nL 306.620727 -180.76455 \nL 293.669082 -180.76455 \nL 293.669082 -187.600432 \nL 280.717438 -187.600432 \nL 280.717438 -193.935959 \nL 267.765794 -193.935959 \nL 267.765794 -198.797301 \nL 254.81415 -198.797301 \nL 254.81415 -209.099501 \nL 241.862506 -209.099501 \nL 241.862506 -215.908133 \nL 228.910862 -215.908133 \nL 228.910862 -224.508713 \nL 215.959218 -224.508713 \nL 215.959218 -229.972014 \nL 203.007574 -229.972014 \nL 203.007574 -235.89485 \nL 190.05593 -235.89485 \nL 190.05593 -250.15927 \nL 177.104286 -250.15927 \nL 177.104286 -261.333972 \nL 164.152641 -261.333972 \nL 164.152641 -276.207441 \nL 151.200997 -276.207441 \nL 151.200997 -297.015302 \nL 138.249353 -297.015302 \nL 138.249353 -314.811001 \nL 125.297709 -314.811001 \nL 125.297709 -334.98062 \nL 112.346065 -334.98062 \nL 112.346065 -360.445796 \nL 99.394421 -360.445796 \nL 99.394421 -386.222079 \nL 86.442777 -386.222079 \nL 86.442777 -399.681004 \nL 73.491133 -399.681004 \nL 73.491133 -400.746866 \nL 60.539489 -400.746866 \nz\n\" id=\"mf17f1f4edc\" style=\"stroke:#ff7f0e;stroke-opacity:0.25;\"/>\n    </defs>\n    <g clip-path=\"url(#p8b1905323b)\">\n     <use style=\"fill:#ff7f0e;fill-opacity:0.25;stroke:#ff7f0e;stroke-opacity:0.25;\" x=\"0\" xlink:href=\"#mf17f1f4edc\" y=\"440.394375\"/>\n    </g>\n   </g>\n   <g id=\"PolyCollection_3\">\n    <defs>\n     <path d=\"M 60.539489 -400.667172 \nL 60.539489 -398.981831 \nL 73.491133 -398.981831 \nL 73.491133 -392.475825 \nL 86.442777 -392.475825 \nL 86.442777 -385.842225 \nL 99.394421 -385.842225 \nL 99.394421 -368.032159 \nL 112.346065 -368.032159 \nL 112.346065 -354.406095 \nL 125.297709 -354.406095 \nL 125.297709 -341.756981 \nL 138.249353 -341.756981 \nL 138.249353 -326.709493 \nL 151.200997 -326.709493 \nL 151.200997 -314.321325 \nL 164.152641 -314.321325 \nL 164.152641 -299.071174 \nL 177.104286 -299.071174 \nL 177.104286 -286.323851 \nL 190.05593 -286.323851 \nL 190.05593 -266.653324 \nL 203.007574 -266.653324 \nL 203.007574 -252.82462 \nL 215.959218 -252.82462 \nL 215.959218 -246.936373 \nL 228.910862 -246.936373 \nL 228.910862 -241.983068 \nL 241.862506 -241.983068 \nL 241.862506 -235.993082 \nL 254.81415 -235.993082 \nL 254.81415 -227.587126 \nL 267.765794 -227.587126 \nL 267.765794 -222.952555 \nL 280.717438 -222.952555 \nL 280.717438 -217.305277 \nL 293.669082 -217.305277 \nL 293.669082 -211.08116 \nL 306.620727 -211.08116 \nL 306.620727 -205.158019 \nL 319.572371 -205.158019 \nL 319.572371 -200.838856 \nL 332.524015 -200.838856 \nL 332.524015 -194.470326 \nL 345.475659 -194.470326 \nL 345.475659 -186.72639 \nL 358.427303 -186.72639 \nL 358.427303 -180.876779 \nL 371.378947 -180.876779 \nL 371.378947 -179.757474 \nL 384.330591 -179.757474 \nL 384.330591 -172.773154 \nL 397.282235 -172.773154 \nL 397.282235 -170.845844 \nL 410.233879 -170.845844 \nL 410.233879 -168.163425 \nL 423.185523 -168.163425 \nL 423.185523 -165.475633 \nL 436.137168 -165.475633 \nL 436.137168 -164.518999 \nL 449.088812 -164.518999 \nL 449.088812 -161.523197 \nL 462.040456 -161.523197 \nL 462.040456 -159.356812 \nL 474.9921 -159.356812 \nL 474.9921 -159.356812 \nL 487.943744 -159.356812 \nL 487.943744 -156.86302 \nL 500.895388 -156.86302 \nL 500.895388 -149.83618 \nL 513.847032 -149.83618 \nL 513.847032 -140.720773 \nL 526.798676 -140.720773 \nL 526.798676 -137.411721 \nL 539.75032 -137.411721 \nL 539.75032 -135.543365 \nL 552.701964 -135.543365 \nL 552.701964 -133.042474 \nL 565.653609 -133.042474 \nL 565.653609 -133.042474 \nL 578.605253 -133.042474 \nL 578.605253 -133.042474 \nL 604.508541 -133.042474 \nL 604.508541 -133.042474 \nL 617.460185 -133.042474 \nL 617.460185 -133.042474 \nL 643.363473 -133.042474 \nL 643.363473 -133.042474 \nL 656.315117 -133.042474 \nL 656.315117 -133.042474 \nL 669.266761 -133.042474 \nL 669.266761 -133.042474 \nL 669.266761 -163.03863 \nL 669.266761 -163.03863 \nL 669.266761 -163.03863 \nL 656.315117 -163.03863 \nL 656.315117 -163.03863 \nL 643.363473 -163.03863 \nL 643.363473 -163.03863 \nL 617.460185 -163.03863 \nL 617.460185 -163.03863 \nL 604.508541 -163.03863 \nL 604.508541 -163.03863 \nL 578.605253 -163.03863 \nL 578.605253 -163.03863 \nL 565.653609 -163.03863 \nL 565.653609 -163.03863 \nL 552.701964 -163.03863 \nL 552.701964 -164.827841 \nL 539.75032 -164.827841 \nL 539.75032 -166.317709 \nL 526.798676 -166.317709 \nL 526.798676 -169.041716 \nL 513.847032 -169.041716 \nL 513.847032 -176.565038 \nL 500.895388 -176.565038 \nL 500.895388 -182.314435 \nL 487.943744 -182.314435 \nL 487.943744 -184.391587 \nL 474.9921 -184.391587 \nL 474.9921 -184.391587 \nL 462.040456 -184.391587 \nL 462.040456 -186.25532 \nL 449.088812 -186.25532 \nL 449.088812 -188.868611 \nL 436.137168 -188.868611 \nL 436.137168 -189.707549 \nL 423.185523 -189.707549 \nL 423.185523 -192.091648 \nL 410.233879 -192.091648 \nL 410.233879 -194.455832 \nL 397.282235 -194.455832 \nL 397.282235 -196.269173 \nL 384.330591 -196.269173 \nL 384.330591 -202.916002 \nL 371.378947 -202.916002 \nL 371.378947 -203.982509 \nL 358.427303 -203.982509 \nL 358.427303 -209.579467 \nL 345.475659 -209.579467 \nL 345.475659 -216.964874 \nL 332.524015 -216.964874 \nL 332.524015 -223.039341 \nL 319.572371 -223.039341 \nL 319.572371 -227.147863 \nL 306.620727 -227.147863 \nL 306.620727 -232.795284 \nL 293.669082 -232.795284 \nL 293.669082 -238.714292 \nL 280.717438 -238.714292 \nL 280.717438 -244.070582 \nL 267.765794 -244.070582 \nL 267.765794 -248.462962 \nL 254.81415 -248.462962 \nL 254.81415 -256.380929 \nL 241.862506 -256.380929 \nL 241.862506 -262.118153 \nL 228.910862 -262.118153 \nL 228.910862 -266.879924 \nL 215.959218 -266.879924 \nL 215.959218 -272.524759 \nL 203.007574 -272.524759 \nL 203.007574 -285.750976 \nL 190.05593 -285.750976 \nL 190.05593 -304.383813 \nL 177.104286 -304.383813 \nL 177.104286 -316.32128 \nL 164.152641 -316.32128 \nL 164.152641 -330.449587 \nL 151.200997 -330.449587 \nL 151.200997 -341.783974 \nL 138.249353 -341.783974 \nL 138.249353 -355.316011 \nL 125.297709 -355.316011 \nL 125.297709 -366.444036 \nL 112.346065 -366.444036 \nL 112.346065 -378.059711 \nL 99.394421 -378.059711 \nL 99.394421 -392.127218 \nL 86.442777 -392.127218 \nL 86.442777 -396.965803 \nL 73.491133 -396.965803 \nL 73.491133 -400.667172 \nL 60.539489 -400.667172 \nz\n\" id=\"mef9a3510bd\" style=\"stroke:#2ca02c;stroke-opacity:0.25;\"/>\n    </defs>\n    <g clip-path=\"url(#p8b1905323b)\">\n     <use style=\"fill:#2ca02c;fill-opacity:0.25;stroke:#2ca02c;stroke-opacity:0.25;\" x=\"0\" xlink:href=\"#mef9a3510bd\" y=\"440.394375\"/>\n    </g>\n   </g>\n   <g id=\"PolyCollection_4\">\n    <defs>\n     <path d=\"M 60.539489 -400.669893 \nL 60.539489 -399.025157 \nL 73.491133 -399.025157 \nL 73.491133 -396.147561 \nL 86.442777 -396.147561 \nL 86.442777 -368.607652 \nL 99.394421 -368.607652 \nL 99.394421 -323.580812 \nL 112.346065 -323.580812 \nL 112.346065 -297.468626 \nL 125.297709 -297.468626 \nL 125.297709 -272.44701 \nL 138.249353 -272.44701 \nL 138.249353 -250.53721 \nL 151.200997 -250.53721 \nL 151.200997 -210.96594 \nL 164.152641 -210.96594 \nL 164.152641 -201.089396 \nL 177.104286 -201.089396 \nL 177.104286 -192.108352 \nL 190.05593 -192.108352 \nL 190.05593 -178.915903 \nL 203.007574 -178.915903 \nL 203.007574 -167.947587 \nL 215.959218 -167.947587 \nL 215.959218 -164.437834 \nL 228.910862 -164.437834 \nL 228.910862 -160.445299 \nL 241.862506 -160.445299 \nL 241.862506 -154.693722 \nL 254.81415 -154.693722 \nL 254.81415 -147.236317 \nL 267.765794 -147.236317 \nL 267.765794 -140.541259 \nL 280.717438 -140.541259 \nL 280.717438 -136.64563 \nL 293.669082 -136.64563 \nL 293.669082 -130.384168 \nL 306.620727 -130.384168 \nL 306.620727 -125.917367 \nL 319.572371 -125.917367 \nL 319.572371 -123.003315 \nL 332.524015 -123.003315 \nL 332.524015 -117.953516 \nL 345.475659 -117.953516 \nL 345.475659 -112.750124 \nL 358.427303 -112.750124 \nL 358.427303 -109.114036 \nL 371.378947 -109.114036 \nL 371.378947 -105.658288 \nL 384.330591 -105.658288 \nL 384.330591 -103.320077 \nL 397.282235 -103.320077 \nL 397.282235 -98.402379 \nL 410.233879 -98.402379 \nL 410.233879 -92.399137 \nL 423.185523 -92.399137 \nL 423.185523 -89.204618 \nL 436.137168 -89.204618 \nL 436.137168 -86.286766 \nL 449.088812 -86.286766 \nL 449.088812 -81.759261 \nL 462.040456 -81.759261 \nL 462.040456 -77.771127 \nL 474.9921 -77.771127 \nL 474.9921 -74.816463 \nL 487.943744 -74.816463 \nL 487.943744 -69.951199 \nL 500.895388 -69.951199 \nL 500.895388 -65.755256 \nL 513.847032 -65.755256 \nL 513.847032 -63.24633 \nL 526.798676 -63.24633 \nL 526.798676 -62.081105 \nL 539.75032 -62.081105 \nL 539.75032 -60.294504 \nL 552.701964 -60.294504 \nL 552.701964 -58.266565 \nL 565.653609 -58.266565 \nL 565.653609 -54.852614 \nL 578.605253 -54.852614 \nL 578.605253 -54.852614 \nL 591.556897 -54.852614 \nL 591.556897 -54.852614 \nL 604.508541 -54.852614 \nL 604.508541 -54.852614 \nL 617.460185 -54.852614 \nL 617.460185 -54.852614 \nL 643.363473 -54.852614 \nL 643.363473 -54.852614 \nL 656.315117 -54.852614 \nL 656.315117 -54.852614 \nL 669.266761 -54.852614 \nL 669.266761 -54.852614 \nL 669.266761 -71.240287 \nL 669.266761 -71.240287 \nL 669.266761 -71.240287 \nL 656.315117 -71.240287 \nL 656.315117 -71.240287 \nL 643.363473 -71.240287 \nL 643.363473 -71.240287 \nL 617.460185 -71.240287 \nL 617.460185 -71.240287 \nL 604.508541 -71.240287 \nL 604.508541 -71.240287 \nL 591.556897 -71.240287 \nL 591.556897 -71.240287 \nL 578.605253 -71.240287 \nL 578.605253 -71.240287 \nL 565.653609 -71.240287 \nL 565.653609 -73.570184 \nL 552.701964 -73.570184 \nL 552.701964 -75.552803 \nL 539.75032 -75.552803 \nL 539.75032 -77.342761 \nL 526.798676 -77.342761 \nL 526.798676 -78.508084 \nL 513.847032 -78.508084 \nL 513.847032 -81.090771 \nL 500.895388 -81.090771 \nL 500.895388 -85.429393 \nL 487.943744 -85.429393 \nL 487.943744 -90.444411 \nL 474.9921 -90.444411 \nL 474.9921 -93.484759 \nL 462.040456 -93.484759 \nL 462.040456 -97.597384 \nL 449.088812 -97.597384 \nL 449.088812 -102.269085 \nL 436.137168 -102.269085 \nL 436.137168 -105.275124 \nL 423.185523 -105.275124 \nL 423.185523 -108.562774 \nL 410.233879 -108.562774 \nL 410.233879 -114.698653 \nL 397.282235 -114.698653 \nL 397.282235 -119.787416 \nL 384.330591 -119.787416 \nL 384.330591 -122.21264 \nL 371.378947 -122.21264 \nL 371.378947 -125.792605 \nL 358.427303 -125.792605 \nL 358.427303 -129.559561 \nL 345.475659 -129.559561 \nL 345.475659 -134.941642 \nL 332.524015 -134.941642 \nL 332.524015 -140.159832 \nL 319.572371 -140.159832 \nL 319.572371 -143.162345 \nL 306.620727 -143.162345 \nL 306.620727 -147.755608 \nL 293.669082 -147.755608 \nL 293.669082 -154.173277 \nL 280.717438 -154.173277 \nL 280.717438 -158.153238 \nL 267.765794 -158.153238 \nL 267.765794 -164.97411 \nL 254.81415 -164.97411 \nL 254.81415 -172.536216 \nL 241.862506 -172.536216 \nL 241.862506 -178.386323 \nL 228.910862 -178.386323 \nL 228.910862 -182.44406 \nL 215.959218 -182.44406 \nL 215.959218 -186.005137 \nL 203.007574 -186.005137 \nL 203.007574 -197.094093 \nL 190.05593 -197.094093 \nL 190.05593 -210.359533 \nL 177.104286 -210.359533 \nL 177.104286 -219.344656 \nL 164.152641 -219.344656 \nL 164.152641 -229.182475 \nL 151.200997 -229.182475 \nL 151.200997 -268.114406 \nL 138.249353 -268.114406 \nL 138.249353 -289.320401 \nL 125.297709 -289.320401 \nL 125.297709 -313.189112 \nL 112.346065 -313.189112 \nL 112.346065 -337.619842 \nL 99.394421 -337.619842 \nL 99.394421 -377.894674 \nL 86.442777 -377.894674 \nL 86.442777 -399.279694 \nL 73.491133 -399.279694 \nL 73.491133 -400.669893 \nL 60.539489 -400.669893 \nz\n\" id=\"ma64a29de36\" style=\"stroke:#d62728;stroke-opacity:0.25;\"/>\n    </defs>\n    <g clip-path=\"url(#p8b1905323b)\">\n     <use style=\"fill:#d62728;fill-opacity:0.25;stroke:#d62728;stroke-opacity:0.25;\" x=\"0\" xlink:href=\"#ma64a29de36\" y=\"440.394375\"/>\n    </g>\n   </g>\n   <g id=\"matplotlib.axis_1\">\n    <g id=\"xtick_1\">\n     <g id=\"line2d_1\">\n      <defs>\n       <path d=\"M 0 0 \nL 0 3.5 \n\" id=\"mead25bcf8a\" style=\"stroke:#000000;stroke-width:0.8;\"/>\n      </defs>\n      <g>\n       <use style=\"stroke:#000000;stroke-width:0.8;\" x=\"60.539489\" xlink:href=\"#mead25bcf8a\" y=\"402.838125\"/>\n      </g>\n     </g>\n     <g id=\"text_1\">\n      <!-- 0 -->\n      <g transform=\"translate(57.358239 417.436562)scale(0.1 -0.1)\">\n       <defs>\n        <path d=\"M 2034 4250 \nQ 1547 4250 1301 3770 \nQ 1056 3291 1056 2328 \nQ 1056 1369 1301 889 \nQ 1547 409 2034 409 \nQ 2525 409 2770 889 \nQ 3016 1369 3016 2328 \nQ 3016 3291 2770 3770 \nQ 2525 4250 2034 4250 \nz\nM 2034 4750 \nQ 2819 4750 3233 4129 \nQ 3647 3509 3647 2328 \nQ 3647 1150 3233 529 \nQ 2819 -91 2034 -91 \nQ 1250 -91 836 529 \nQ 422 1150 422 2328 \nQ 422 3509 836 4129 \nQ 1250 4750 2034 4750 \nz\n\" id=\"DejaVuSans-30\" transform=\"scale(0.015625)\"/>\n       </defs>\n       <use xlink:href=\"#DejaVuSans-30\"/>\n      </g>\n     </g>\n    </g>\n    <g id=\"xtick_2\">\n     <g id=\"line2d_2\">\n      <g>\n       <use style=\"stroke:#000000;stroke-width:0.8;\" x=\"190.05593\" xlink:href=\"#mead25bcf8a\" y=\"402.838125\"/>\n      </g>\n     </g>\n     <g id=\"text_2\">\n      <!-- 10 -->\n      <g transform=\"translate(183.69343 417.436562)scale(0.1 -0.1)\">\n       <defs>\n        <path d=\"M 794 531 \nL 1825 531 \nL 1825 4091 \nL 703 3866 \nL 703 4441 \nL 1819 4666 \nL 2450 4666 \nL 2450 531 \nL 3481 531 \nL 3481 0 \nL 794 0 \nL 794 531 \nz\n\" id=\"DejaVuSans-31\" transform=\"scale(0.015625)\"/>\n       </defs>\n       <use xlink:href=\"#DejaVuSans-31\"/>\n       <use x=\"63.623047\" xlink:href=\"#DejaVuSans-30\"/>\n      </g>\n     </g>\n    </g>\n    <g id=\"xtick_3\">\n     <g id=\"line2d_3\">\n      <g>\n       <use style=\"stroke:#000000;stroke-width:0.8;\" x=\"319.572371\" xlink:href=\"#mead25bcf8a\" y=\"402.838125\"/>\n      </g>\n     </g>\n     <g id=\"text_3\">\n      <!-- 20 -->\n      <g transform=\"translate(313.209871 417.436562)scale(0.1 -0.1)\">\n       <defs>\n        <path d=\"M 1228 531 \nL 3431 531 \nL 3431 0 \nL 469 0 \nL 469 531 \nQ 828 903 1448 1529 \nQ 2069 2156 2228 2338 \nQ 2531 2678 2651 2914 \nQ 2772 3150 2772 3378 \nQ 2772 3750 2511 3984 \nQ 2250 4219 1831 4219 \nQ 1534 4219 1204 4116 \nQ 875 4013 500 3803 \nL 500 4441 \nQ 881 4594 1212 4672 \nQ 1544 4750 1819 4750 \nQ 2544 4750 2975 4387 \nQ 3406 4025 3406 3419 \nQ 3406 3131 3298 2873 \nQ 3191 2616 2906 2266 \nQ 2828 2175 2409 1742 \nQ 1991 1309 1228 531 \nz\n\" id=\"DejaVuSans-32\" transform=\"scale(0.015625)\"/>\n       </defs>\n       <use xlink:href=\"#DejaVuSans-32\"/>\n       <use x=\"63.623047\" xlink:href=\"#DejaVuSans-30\"/>\n      </g>\n     </g>\n    </g>\n    <g id=\"xtick_4\">\n     <g id=\"line2d_4\">\n      <g>\n       <use style=\"stroke:#000000;stroke-width:0.8;\" x=\"449.088812\" xlink:href=\"#mead25bcf8a\" y=\"402.838125\"/>\n      </g>\n     </g>\n     <g id=\"text_4\">\n      <!-- 30 -->\n      <g transform=\"translate(442.726312 417.436562)scale(0.1 -0.1)\">\n       <defs>\n        <path d=\"M 2597 2516 \nQ 3050 2419 3304 2112 \nQ 3559 1806 3559 1356 \nQ 3559 666 3084 287 \nQ 2609 -91 1734 -91 \nQ 1441 -91 1130 -33 \nQ 819 25 488 141 \nL 488 750 \nQ 750 597 1062 519 \nQ 1375 441 1716 441 \nQ 2309 441 2620 675 \nQ 2931 909 2931 1356 \nQ 2931 1769 2642 2001 \nQ 2353 2234 1838 2234 \nL 1294 2234 \nL 1294 2753 \nL 1863 2753 \nQ 2328 2753 2575 2939 \nQ 2822 3125 2822 3475 \nQ 2822 3834 2567 4026 \nQ 2313 4219 1838 4219 \nQ 1578 4219 1281 4162 \nQ 984 4106 628 3988 \nL 628 4550 \nQ 988 4650 1302 4700 \nQ 1616 4750 1894 4750 \nQ 2613 4750 3031 4423 \nQ 3450 4097 3450 3541 \nQ 3450 3153 3228 2886 \nQ 3006 2619 2597 2516 \nz\n\" id=\"DejaVuSans-33\" transform=\"scale(0.015625)\"/>\n       </defs>\n       <use xlink:href=\"#DejaVuSans-33\"/>\n       <use x=\"63.623047\" xlink:href=\"#DejaVuSans-30\"/>\n      </g>\n     </g>\n    </g>\n    <g id=\"xtick_5\">\n     <g id=\"line2d_5\">\n      <g>\n       <use style=\"stroke:#000000;stroke-width:0.8;\" x=\"578.605253\" xlink:href=\"#mead25bcf8a\" y=\"402.838125\"/>\n      </g>\n     </g>\n     <g id=\"text_5\">\n      <!-- 40 -->\n      <g transform=\"translate(572.242753 417.436562)scale(0.1 -0.1)\">\n       <defs>\n        <path d=\"M 2419 4116 \nL 825 1625 \nL 2419 1625 \nL 2419 4116 \nz\nM 2253 4666 \nL 3047 4666 \nL 3047 1625 \nL 3713 1625 \nL 3713 1100 \nL 3047 1100 \nL 3047 0 \nL 2419 0 \nL 2419 1100 \nL 313 1100 \nL 313 1709 \nL 2253 4666 \nz\n\" id=\"DejaVuSans-34\" transform=\"scale(0.015625)\"/>\n       </defs>\n       <use xlink:href=\"#DejaVuSans-34\"/>\n       <use x=\"63.623047\" xlink:href=\"#DejaVuSans-30\"/>\n      </g>\n     </g>\n    </g>\n    <g id=\"text_6\">\n     <!-- timeline -->\n     <g transform=\"translate(344.583594 431.114687)scale(0.1 -0.1)\">\n      <defs>\n       <path d=\"M 1172 4494 \nL 1172 3500 \nL 2356 3500 \nL 2356 3053 \nL 1172 3053 \nL 1172 1153 \nQ 1172 725 1289 603 \nQ 1406 481 1766 481 \nL 2356 481 \nL 2356 0 \nL 1766 0 \nQ 1100 0 847 248 \nQ 594 497 594 1153 \nL 594 3053 \nL 172 3053 \nL 172 3500 \nL 594 3500 \nL 594 4494 \nL 1172 4494 \nz\n\" id=\"DejaVuSans-74\" transform=\"scale(0.015625)\"/>\n       <path d=\"M 603 3500 \nL 1178 3500 \nL 1178 0 \nL 603 0 \nL 603 3500 \nz\nM 603 4863 \nL 1178 4863 \nL 1178 4134 \nL 603 4134 \nL 603 4863 \nz\n\" id=\"DejaVuSans-69\" transform=\"scale(0.015625)\"/>\n       <path d=\"M 3328 2828 \nQ 3544 3216 3844 3400 \nQ 4144 3584 4550 3584 \nQ 5097 3584 5394 3201 \nQ 5691 2819 5691 2113 \nL 5691 0 \nL 5113 0 \nL 5113 2094 \nQ 5113 2597 4934 2840 \nQ 4756 3084 4391 3084 \nQ 3944 3084 3684 2787 \nQ 3425 2491 3425 1978 \nL 3425 0 \nL 2847 0 \nL 2847 2094 \nQ 2847 2600 2669 2842 \nQ 2491 3084 2119 3084 \nQ 1678 3084 1418 2786 \nQ 1159 2488 1159 1978 \nL 1159 0 \nL 581 0 \nL 581 3500 \nL 1159 3500 \nL 1159 2956 \nQ 1356 3278 1631 3431 \nQ 1906 3584 2284 3584 \nQ 2666 3584 2933 3390 \nQ 3200 3197 3328 2828 \nz\n\" id=\"DejaVuSans-6d\" transform=\"scale(0.015625)\"/>\n       <path d=\"M 3597 1894 \nL 3597 1613 \nL 953 1613 \nQ 991 1019 1311 708 \nQ 1631 397 2203 397 \nQ 2534 397 2845 478 \nQ 3156 559 3463 722 \nL 3463 178 \nQ 3153 47 2828 -22 \nQ 2503 -91 2169 -91 \nQ 1331 -91 842 396 \nQ 353 884 353 1716 \nQ 353 2575 817 3079 \nQ 1281 3584 2069 3584 \nQ 2775 3584 3186 3129 \nQ 3597 2675 3597 1894 \nz\nM 3022 2063 \nQ 3016 2534 2758 2815 \nQ 2500 3097 2075 3097 \nQ 1594 3097 1305 2825 \nQ 1016 2553 972 2059 \nL 3022 2063 \nz\n\" id=\"DejaVuSans-65\" transform=\"scale(0.015625)\"/>\n       <path d=\"M 603 4863 \nL 1178 4863 \nL 1178 0 \nL 603 0 \nL 603 4863 \nz\n\" id=\"DejaVuSans-6c\" transform=\"scale(0.015625)\"/>\n       <path d=\"M 3513 2113 \nL 3513 0 \nL 2938 0 \nL 2938 2094 \nQ 2938 2591 2744 2837 \nQ 2550 3084 2163 3084 \nQ 1697 3084 1428 2787 \nQ 1159 2491 1159 1978 \nL 1159 0 \nL 581 0 \nL 581 3500 \nL 1159 3500 \nL 1159 2956 \nQ 1366 3272 1645 3428 \nQ 1925 3584 2291 3584 \nQ 2894 3584 3203 3211 \nQ 3513 2838 3513 2113 \nz\n\" id=\"DejaVuSans-6e\" transform=\"scale(0.015625)\"/>\n      </defs>\n      <use xlink:href=\"#DejaVuSans-74\"/>\n      <use x=\"39.208984\" xlink:href=\"#DejaVuSans-69\"/>\n      <use x=\"66.992188\" xlink:href=\"#DejaVuSans-6d\"/>\n      <use x=\"164.404297\" xlink:href=\"#DejaVuSans-65\"/>\n      <use x=\"225.927734\" xlink:href=\"#DejaVuSans-6c\"/>\n      <use x=\"253.710938\" xlink:href=\"#DejaVuSans-69\"/>\n      <use x=\"281.494141\" xlink:href=\"#DejaVuSans-6e\"/>\n      <use x=\"344.873047\" xlink:href=\"#DejaVuSans-65\"/>\n     </g>\n    </g>\n   </g>\n   <g id=\"matplotlib.axis_2\">\n    <g id=\"ytick_1\">\n     <g id=\"line2d_6\">\n      <defs>\n       <path d=\"M 0 0 \nL -3.5 0 \n\" id=\"m83ed48241a\" style=\"stroke:#000000;stroke-width:0.8;\"/>\n      </defs>\n      <g>\n       <use style=\"stroke:#000000;stroke-width:0.8;\" x=\"30.103125\" xlink:href=\"#m83ed48241a\" y=\"345.583457\"/>\n      </g>\n     </g>\n     <g id=\"text_7\">\n      <!-- 0.2 -->\n      <g transform=\"translate(7.2 349.382676)scale(0.1 -0.1)\">\n       <defs>\n        <path d=\"M 684 794 \nL 1344 794 \nL 1344 0 \nL 684 0 \nL 684 794 \nz\n\" id=\"DejaVuSans-2e\" transform=\"scale(0.015625)\"/>\n       </defs>\n       <use xlink:href=\"#DejaVuSans-30\"/>\n       <use x=\"63.623047\" xlink:href=\"#DejaVuSans-2e\"/>\n       <use x=\"95.410156\" xlink:href=\"#DejaVuSans-32\"/>\n      </g>\n     </g>\n    </g>\n    <g id=\"ytick_2\">\n     <g id=\"line2d_7\">\n      <g>\n       <use style=\"stroke:#000000;stroke-width:0.8;\" x=\"30.103125\" xlink:href=\"#m83ed48241a\" y=\"269.091215\"/>\n      </g>\n     </g>\n     <g id=\"text_8\">\n      <!-- 0.4 -->\n      <g transform=\"translate(7.2 272.890434)scale(0.1 -0.1)\">\n       <use xlink:href=\"#DejaVuSans-30\"/>\n       <use x=\"63.623047\" xlink:href=\"#DejaVuSans-2e\"/>\n       <use x=\"95.410156\" xlink:href=\"#DejaVuSans-34\"/>\n      </g>\n     </g>\n    </g>\n    <g id=\"ytick_3\">\n     <g id=\"line2d_8\">\n      <g>\n       <use style=\"stroke:#000000;stroke-width:0.8;\" x=\"30.103125\" xlink:href=\"#m83ed48241a\" y=\"192.598973\"/>\n      </g>\n     </g>\n     <g id=\"text_9\">\n      <!-- 0.6 -->\n      <g transform=\"translate(7.2 196.398192)scale(0.1 -0.1)\">\n       <defs>\n        <path d=\"M 2113 2584 \nQ 1688 2584 1439 2293 \nQ 1191 2003 1191 1497 \nQ 1191 994 1439 701 \nQ 1688 409 2113 409 \nQ 2538 409 2786 701 \nQ 3034 994 3034 1497 \nQ 3034 2003 2786 2293 \nQ 2538 2584 2113 2584 \nz\nM 3366 4563 \nL 3366 3988 \nQ 3128 4100 2886 4159 \nQ 2644 4219 2406 4219 \nQ 1781 4219 1451 3797 \nQ 1122 3375 1075 2522 \nQ 1259 2794 1537 2939 \nQ 1816 3084 2150 3084 \nQ 2853 3084 3261 2657 \nQ 3669 2231 3669 1497 \nQ 3669 778 3244 343 \nQ 2819 -91 2113 -91 \nQ 1303 -91 875 529 \nQ 447 1150 447 2328 \nQ 447 3434 972 4092 \nQ 1497 4750 2381 4750 \nQ 2619 4750 2861 4703 \nQ 3103 4656 3366 4563 \nz\n\" id=\"DejaVuSans-36\" transform=\"scale(0.015625)\"/>\n       </defs>\n       <use xlink:href=\"#DejaVuSans-30\"/>\n       <use x=\"63.623047\" xlink:href=\"#DejaVuSans-2e\"/>\n       <use x=\"95.410156\" xlink:href=\"#DejaVuSans-36\"/>\n      </g>\n     </g>\n    </g>\n    <g id=\"ytick_4\">\n     <g id=\"line2d_9\">\n      <g>\n       <use style=\"stroke:#000000;stroke-width:0.8;\" x=\"30.103125\" xlink:href=\"#m83ed48241a\" y=\"116.106731\"/>\n      </g>\n     </g>\n     <g id=\"text_10\">\n      <!-- 0.8 -->\n      <g transform=\"translate(7.2 119.90595)scale(0.1 -0.1)\">\n       <defs>\n        <path d=\"M 2034 2216 \nQ 1584 2216 1326 1975 \nQ 1069 1734 1069 1313 \nQ 1069 891 1326 650 \nQ 1584 409 2034 409 \nQ 2484 409 2743 651 \nQ 3003 894 3003 1313 \nQ 3003 1734 2745 1975 \nQ 2488 2216 2034 2216 \nz\nM 1403 2484 \nQ 997 2584 770 2862 \nQ 544 3141 544 3541 \nQ 544 4100 942 4425 \nQ 1341 4750 2034 4750 \nQ 2731 4750 3128 4425 \nQ 3525 4100 3525 3541 \nQ 3525 3141 3298 2862 \nQ 3072 2584 2669 2484 \nQ 3125 2378 3379 2068 \nQ 3634 1759 3634 1313 \nQ 3634 634 3220 271 \nQ 2806 -91 2034 -91 \nQ 1263 -91 848 271 \nQ 434 634 434 1313 \nQ 434 1759 690 2068 \nQ 947 2378 1403 2484 \nz\nM 1172 3481 \nQ 1172 3119 1398 2916 \nQ 1625 2713 2034 2713 \nQ 2441 2713 2670 2916 \nQ 2900 3119 2900 3481 \nQ 2900 3844 2670 4047 \nQ 2441 4250 2034 4250 \nQ 1625 4250 1398 4047 \nQ 1172 3844 1172 3481 \nz\n\" id=\"DejaVuSans-38\" transform=\"scale(0.015625)\"/>\n       </defs>\n       <use xlink:href=\"#DejaVuSans-30\"/>\n       <use x=\"63.623047\" xlink:href=\"#DejaVuSans-2e\"/>\n       <use x=\"95.410156\" xlink:href=\"#DejaVuSans-38\"/>\n      </g>\n     </g>\n    </g>\n    <g id=\"ytick_5\">\n     <g id=\"line2d_10\">\n      <g>\n       <use style=\"stroke:#000000;stroke-width:0.8;\" x=\"30.103125\" xlink:href=\"#m83ed48241a\" y=\"39.614489\"/>\n      </g>\n     </g>\n     <g id=\"text_11\">\n      <!-- 1.0 -->\n      <g transform=\"translate(7.2 43.413707)scale(0.1 -0.1)\">\n       <use xlink:href=\"#DejaVuSans-31\"/>\n       <use x=\"63.623047\" xlink:href=\"#DejaVuSans-2e\"/>\n       <use x=\"95.410156\" xlink:href=\"#DejaVuSans-30\"/>\n      </g>\n     </g>\n    </g>\n   </g>\n   <g id=\"line2d_11\">\n    <path clip-path=\"url(#p8b1905323b)\" d=\"M 60.539489 39.614489 \nL 73.491133 39.614489 \nL 73.491133 42.126174 \nL 86.442777 42.126174 \nL 86.442777 50.481814 \nL 99.394421 50.481814 \nL 99.394421 69.036092 \nL 112.346065 69.036092 \nL 112.346065 87.885248 \nL 125.297709 87.885248 \nL 125.297709 104.350367 \nL 138.249353 104.350367 \nL 138.249353 118.732995 \nL 151.200997 118.732995 \nL 151.200997 134.16622 \nL 164.152641 134.16622 \nL 164.152641 146.28589 \nL 177.104286 146.28589 \nL 177.104286 162.50882 \nL 190.05593 162.50882 \nL 190.05593 178.009556 \nL 203.007574 178.009556 \nL 203.007574 188.39535 \nL 215.959218 188.39535 \nL 215.959218 193.373502 \nL 228.910862 193.373502 \nL 228.910862 201.39293 \nL 241.862506 201.39293 \nL 241.862506 204.518748 \nL 254.81415 204.518748 \nL 254.81415 212.39581 \nL 267.765794 212.39581 \nL 267.765794 216.905055 \nL 280.717438 216.905055 \nL 280.717438 220.761646 \nL 293.669082 220.761646 \nL 293.669082 225.853247 \nL 306.620727 225.853247 \nL 306.620727 229.442682 \nL 319.572371 229.442682 \nL 319.572371 235.551551 \nL 332.524015 235.551551 \nL 332.524015 240.627039 \nL 345.475659 240.627039 \nL 345.475659 246.310972 \nL 358.427303 246.310972 \nL 358.427303 252.652999 \nL 371.378947 252.652999 \nL 371.378947 254.567379 \nL 384.330591 254.567379 \nL 384.330591 258.975493 \nL 397.282235 258.975493 \nL 397.282235 262.15277 \nL 410.233879 262.15277 \nL 410.233879 266.916432 \nL 423.185523 266.916432 \nL 423.185523 271.054012 \nL 436.137168 271.054012 \nL 436.137168 273.191111 \nL 449.088812 273.191111 \nL 449.088812 274.694996 \nL 462.040456 274.694996 \nL 462.040456 277.934133 \nL 474.9921 277.934133 \nL 474.9921 283.800359 \nL 487.943744 283.800359 \nL 487.943744 286.565866 \nL 500.895388 286.565866 \nL 500.895388 287.513487 \nL 513.847032 287.513487 \nL 513.847032 294.703834 \nL 526.798676 294.703834 \nL 526.798676 294.703834 \nL 539.75032 294.703834 \nL 539.75032 298.413694 \nL 552.701964 298.413694 \nL 552.701964 298.413694 \nL 565.653609 298.413694 \nL 565.653609 304.922221 \nL 578.605253 304.922221 \nL 578.605253 304.922221 \nL 591.556897 304.922221 \nL 591.556897 304.922221 \nL 617.460185 304.922221 \nL 617.460185 304.922221 \nL 643.363473 304.922221 \nL 643.363473 304.922221 \nL 656.315117 304.922221 \nL 656.315117 304.922221 \nL 669.266761 304.922221 \nL 669.266761 304.922221 \n\" style=\"fill:none;stroke:#1f77b4;stroke-linecap:square;stroke-width:1.5;\"/>\n   </g>\n   <g id=\"line2d_12\">\n    <path clip-path=\"url(#p8b1905323b)\" d=\"M 60.539489 39.84884 \nL 73.491133 39.84884 \nL 73.491133 41.72365 \nL 86.442777 41.72365 \nL 86.442777 57.728563 \nL 99.394421 57.728563 \nL 99.394421 85.7362 \nL 112.346065 85.7362 \nL 112.346065 112.544071 \nL 125.297709 112.544071 \nL 125.297709 133.478578 \nL 138.249353 133.478578 \nL 138.249353 151.798221 \nL 151.200997 151.798221 \nL 151.200997 173.075923 \nL 164.152641 173.075923 \nL 164.152641 188.205673 \nL 177.104286 188.205673 \nL 177.104286 199.543227 \nL 190.05593 199.543227 \nL 190.05593 213.969102 \nL 203.007574 213.969102 \nL 203.007574 219.946054 \nL 215.959218 219.946054 \nL 215.959218 225.453674 \nL 228.910862 225.453674 \nL 228.910862 234.111746 \nL 241.862506 234.111746 \nL 241.862506 240.957171 \nL 254.81415 240.957171 \nL 254.81415 251.362544 \nL 267.765794 251.362544 \nL 267.765794 256.258715 \nL 280.717438 256.258715 \nL 280.717438 262.636291 \nL 293.669082 262.636291 \nL 293.669082 269.508679 \nL 306.620727 269.508679 \nL 306.620727 274.026609 \nL 319.572371 274.026609 \nL 319.572371 276.839894 \nL 332.524015 276.839894 \nL 332.524015 282.693226 \nL 345.475659 282.693226 \nL 345.475659 289.473995 \nL 358.427303 289.473995 \nL 358.427303 294.966373 \nL 371.378947 294.966373 \nL 371.378947 297.402974 \nL 384.330591 297.402974 \nL 384.330591 299.065277 \nL 397.282235 299.065277 \nL 397.282235 303.005112 \nL 410.233879 303.005112 \nL 410.233879 309.884746 \nL 423.185523 309.884746 \nL 423.185523 314.762614 \nL 436.137168 314.762614 \nL 436.137168 317.571857 \nL 449.088812 317.571857 \nL 449.088812 319.843679 \nL 462.040456 319.843679 \nL 462.040456 322.73159 \nL 474.9921 322.73159 \nL 474.9921 325.705964 \nL 487.943744 325.705964 \nL 487.943744 330.203218 \nL 500.895388 330.203218 \nL 500.895388 334.226831 \nL 513.847032 334.226831 \nL 513.847032 340.984436 \nL 526.798676 340.984436 \nL 526.798676 342.622643 \nL 539.75032 342.622643 \nL 539.75032 344.368864 \nL 552.701964 344.368864 \nL 552.701964 345.293946 \nL 565.653609 345.293946 \nL 565.653609 353.594676 \nL 578.605253 353.594676 \nL 578.605253 355.734708 \nL 591.556897 355.734708 \nL 591.556897 355.734708 \nL 604.508541 355.734708 \nL 604.508541 355.734708 \nL 617.460185 355.734708 \nL 617.460185 355.734708 \nL 630.411829 355.734708 \nL 630.411829 355.734708 \nL 643.363473 355.734708 \nL 643.363473 355.734708 \nL 656.315117 355.734708 \nL 656.315117 355.734708 \nL 669.266761 355.734708 \nL 669.266761 355.734708 \n\" style=\"fill:none;stroke:#ff7f0e;stroke-linecap:square;stroke-width:1.5;\"/>\n   </g>\n   <g id=\"line2d_13\">\n    <path clip-path=\"url(#p8b1905323b)\" d=\"M 60.539489 40.064973 \nL 73.491133 40.064973 \nL 73.491133 45.245543 \nL 86.442777 45.245543 \nL 86.442777 50.989905 \nL 99.394421 50.989905 \nL 99.394421 66.909266 \nL 112.346065 66.909266 \nL 112.346065 79.544731 \nL 125.297709 79.544731 \nL 125.297709 91.451628 \nL 138.249353 91.451628 \nL 138.249353 105.765573 \nL 151.200997 105.765573 \nL 151.200997 117.648422 \nL 164.152641 117.648422 \nL 164.152641 132.364812 \nL 177.104286 132.364812 \nL 177.104286 144.730521 \nL 190.05593 144.730521 \nL 190.05593 163.919809 \nL 203.007574 163.919809 \nL 203.007574 177.474533 \nL 215.959218 177.474533 \nL 215.959218 183.252514 \nL 228.910862 183.252514 \nL 228.910862 188.119834 \nL 241.862506 188.119834 \nL 241.862506 193.994649 \nL 254.81415 193.994649 \nL 254.81415 202.169597 \nL 267.765794 202.169597 \nL 267.765794 206.691031 \nL 280.717438 206.691031 \nL 280.717438 212.202843 \nL 293.669082 212.202843 \nL 293.669082 218.286114 \nL 306.620727 218.286114 \nL 306.620727 224.083192 \nL 319.572371 224.083192 \nL 319.572371 228.305781 \nL 332.524015 228.305781 \nL 332.524015 234.540952 \nL 345.475659 234.540952 \nL 345.475659 242.123219 \nL 358.427303 242.123219 \nL 358.427303 247.860835 \nL 371.378947 247.860835 \nL 371.378947 248.956526 \nL 384.330591 248.956526 \nL 384.330591 255.790177 \nL 397.282235 255.790177 \nL 397.282235 257.665578 \nL 410.233879 257.665578 \nL 410.233879 260.194964 \nL 423.185523 260.194964 \nL 423.185523 262.737594 \nL 436.137168 262.737594 \nL 436.137168 263.637809 \nL 449.088812 263.637809 \nL 449.088812 266.450316 \nL 462.040456 266.450316 \nL 462.040456 268.471425 \nL 474.9921 268.471425 \nL 474.9921 268.471425 \nL 487.943744 268.471425 \nL 487.943744 270.764026 \nL 500.895388 270.764026 \nL 500.895388 277.175538 \nL 513.847032 277.175538 \nL 513.847032 285.535162 \nL 526.798676 285.535162 \nL 526.798676 288.569396 \nL 539.75032 288.569396 \nL 539.75032 290.25935 \nL 552.701964 290.25935 \nL 552.701964 292.420273 \nL 565.653609 292.420273 \nL 565.653609 292.420273 \nL 578.605253 292.420273 \nL 578.605253 292.420273 \nL 604.508541 292.420273 \nL 604.508541 292.420273 \nL 617.460185 292.420273 \nL 617.460185 292.420273 \nL 643.363473 292.420273 \nL 643.363473 292.420273 \nL 656.315117 292.420273 \nL 656.315117 292.420273 \nL 669.266761 292.420273 \nL 669.266761 292.420273 \n\" style=\"fill:none;stroke:#2ca02c;stroke-linecap:square;stroke-width:1.5;\"/>\n   </g>\n   <g id=\"line2d_14\">\n    <path clip-path=\"url(#p8b1905323b)\" d=\"M 60.539489 40.054099 \nL 73.491133 40.054099 \nL 73.491133 42.252152 \nL 86.442777 42.252152 \nL 86.442777 66.764021 \nL 99.394421 66.764021 \nL 99.394421 109.482791 \nL 112.346065 109.482791 \nL 112.346065 134.797618 \nL 125.297709 134.797618 \nL 125.297709 159.28541 \nL 138.249353 159.28541 \nL 138.249353 180.881498 \nL 151.200997 180.881498 \nL 151.200997 220.204155 \nL 164.152641 220.204155 \nL 164.152641 230.079554 \nL 177.104286 230.079554 \nL 177.104286 239.079374 \nL 190.05593 239.079374 \nL 190.05593 252.333237 \nL 203.007574 252.333237 \nL 203.007574 263.382954 \nL 215.959218 263.382954 \nL 215.959218 266.925203 \nL 228.910862 266.925203 \nL 228.910862 270.958167 \nL 241.862506 270.958167 \nL 241.862506 276.77038 \nL 254.81415 276.77038 \nL 254.81415 284.29512 \nL 267.765794 284.29512 \nL 267.765794 291.066944 \nL 280.717438 291.066944 \nL 280.717438 295.012991 \nL 293.669082 295.012991 \nL 293.669082 301.366126 \nL 306.620727 301.366126 \nL 306.620727 305.906088 \nL 319.572371 305.906088 \nL 319.572371 308.870974 \nL 332.524015 308.870974 \nL 332.524015 314.016643 \nL 345.475659 314.016643 \nL 345.475659 319.321868 \nL 358.427303 319.321868 \nL 358.427303 323.032423 \nL 371.378947 323.032423 \nL 371.378947 326.559187 \nL 384.330591 326.559187 \nL 384.330591 328.947099 \nL 397.282235 328.947099 \nL 397.282235 333.964128 \nL 410.233879 333.964128 \nL 410.233879 340.053139 \nL 423.185523 340.053139 \nL 423.185523 343.305135 \nL 436.137168 343.305135 \nL 436.137168 346.277609 \nL 449.088812 346.277609 \nL 449.088812 350.894752 \nL 462.040456 350.894752 \nL 462.040456 354.962235 \nL 474.9921 354.962235 \nL 474.9921 357.973736 \nL 487.943744 357.973736 \nL 487.943744 362.939381 \nL 500.895388 362.939381 \nL 500.895388 367.231533 \nL 513.847032 367.231533 \nL 513.847032 369.794345 \nL 526.798676 369.794345 \nL 526.798676 370.969207 \nL 539.75032 370.969207 \nL 539.75032 372.772965 \nL 552.701964 372.772965 \nL 552.701964 374.799105 \nL 565.653609 374.799105 \nL 565.653609 377.753892 \nL 578.605253 377.753892 \nL 578.605253 377.753892 \nL 591.556897 377.753892 \nL 591.556897 377.753892 \nL 604.508541 377.753892 \nL 604.508541 377.753892 \nL 617.460185 377.753892 \nL 617.460185 377.753892 \nL 643.363473 377.753892 \nL 643.363473 377.753892 \nL 656.315117 377.753892 \nL 656.315117 377.753892 \nL 669.266761 377.753892 \nL 669.266761 377.753892 \n\" style=\"fill:none;stroke:#d62728;stroke-linecap:square;stroke-width:1.5;\"/>\n   </g>\n   <g id=\"patch_3\">\n    <path d=\"M 30.103125 402.838125 \nL 30.103125 22.318125 \n\" style=\"fill:none;stroke:#000000;stroke-linecap:square;stroke-linejoin:miter;stroke-width:0.8;\"/>\n   </g>\n   <g id=\"patch_4\">\n    <path d=\"M 699.703125 402.838125 \nL 699.703125 22.318125 \n\" style=\"fill:none;stroke:#000000;stroke-linecap:square;stroke-linejoin:miter;stroke-width:0.8;\"/>\n   </g>\n   <g id=\"patch_5\">\n    <path d=\"M 30.103125 402.838125 \nL 699.703125 402.838125 \n\" style=\"fill:none;stroke:#000000;stroke-linecap:square;stroke-linejoin:miter;stroke-width:0.8;\"/>\n   </g>\n   <g id=\"patch_6\">\n    <path d=\"M 30.103125 22.318125 \nL 699.703125 22.318125 \n\" style=\"fill:none;stroke:#000000;stroke-linecap:square;stroke-linejoin:miter;stroke-width:0.8;\"/>\n   </g>\n   <g id=\"text_12\">\n    <!-- maccess -->\n    <g transform=\"translate(338.840625 16.318125)scale(0.12 -0.12)\">\n     <defs>\n      <path d=\"M 2194 1759 \nQ 1497 1759 1228 1600 \nQ 959 1441 959 1056 \nQ 959 750 1161 570 \nQ 1363 391 1709 391 \nQ 2188 391 2477 730 \nQ 2766 1069 2766 1631 \nL 2766 1759 \nL 2194 1759 \nz\nM 3341 1997 \nL 3341 0 \nL 2766 0 \nL 2766 531 \nQ 2569 213 2275 61 \nQ 1981 -91 1556 -91 \nQ 1019 -91 701 211 \nQ 384 513 384 1019 \nQ 384 1609 779 1909 \nQ 1175 2209 1959 2209 \nL 2766 2209 \nL 2766 2266 \nQ 2766 2663 2505 2880 \nQ 2244 3097 1772 3097 \nQ 1472 3097 1187 3025 \nQ 903 2953 641 2809 \nL 641 3341 \nQ 956 3463 1253 3523 \nQ 1550 3584 1831 3584 \nQ 2591 3584 2966 3190 \nQ 3341 2797 3341 1997 \nz\n\" id=\"DejaVuSans-61\" transform=\"scale(0.015625)\"/>\n      <path d=\"M 3122 3366 \nL 3122 2828 \nQ 2878 2963 2633 3030 \nQ 2388 3097 2138 3097 \nQ 1578 3097 1268 2742 \nQ 959 2388 959 1747 \nQ 959 1106 1268 751 \nQ 1578 397 2138 397 \nQ 2388 397 2633 464 \nQ 2878 531 3122 666 \nL 3122 134 \nQ 2881 22 2623 -34 \nQ 2366 -91 2075 -91 \nQ 1284 -91 818 406 \nQ 353 903 353 1747 \nQ 353 2603 823 3093 \nQ 1294 3584 2113 3584 \nQ 2378 3584 2631 3529 \nQ 2884 3475 3122 3366 \nz\n\" id=\"DejaVuSans-63\" transform=\"scale(0.015625)\"/>\n      <path d=\"M 2834 3397 \nL 2834 2853 \nQ 2591 2978 2328 3040 \nQ 2066 3103 1784 3103 \nQ 1356 3103 1142 2972 \nQ 928 2841 928 2578 \nQ 928 2378 1081 2264 \nQ 1234 2150 1697 2047 \nL 1894 2003 \nQ 2506 1872 2764 1633 \nQ 3022 1394 3022 966 \nQ 3022 478 2636 193 \nQ 2250 -91 1575 -91 \nQ 1294 -91 989 -36 \nQ 684 19 347 128 \nL 347 722 \nQ 666 556 975 473 \nQ 1284 391 1588 391 \nQ 1994 391 2212 530 \nQ 2431 669 2431 922 \nQ 2431 1156 2273 1281 \nQ 2116 1406 1581 1522 \nL 1381 1569 \nQ 847 1681 609 1914 \nQ 372 2147 372 2553 \nQ 372 3047 722 3315 \nQ 1072 3584 1716 3584 \nQ 2034 3584 2315 3537 \nQ 2597 3491 2834 3397 \nz\n\" id=\"DejaVuSans-73\" transform=\"scale(0.015625)\"/>\n     </defs>\n     <use xlink:href=\"#DejaVuSans-6d\"/>\n     <use x=\"97.412109\" xlink:href=\"#DejaVuSans-61\"/>\n     <use x=\"158.691406\" xlink:href=\"#DejaVuSans-63\"/>\n     <use x=\"213.671875\" xlink:href=\"#DejaVuSans-63\"/>\n     <use x=\"268.652344\" xlink:href=\"#DejaVuSans-65\"/>\n     <use x=\"330.175781\" xlink:href=\"#DejaVuSans-73\"/>\n     <use x=\"382.275391\" xlink:href=\"#DejaVuSans-73\"/>\n    </g>\n   </g>\n   <g id=\"legend_1\">\n    <g id=\"patch_7\">\n     <path d=\"M 456.103125 89.030625 \nL 692.703125 89.030625 \nQ 694.703125 89.030625 694.703125 87.030625 \nL 694.703125 29.318125 \nQ 694.703125 27.318125 692.703125 27.318125 \nL 456.103125 27.318125 \nQ 454.103125 27.318125 454.103125 29.318125 \nL 454.103125 87.030625 \nQ 454.103125 89.030625 456.103125 89.030625 \nz\n\" style=\"fill:#ffffff;opacity:0.8;stroke:#cccccc;stroke-linejoin:miter;\"/>\n    </g>\n    <g id=\"line2d_15\">\n     <path d=\"M 458.103125 35.416562 \nL 478.103125 35.416562 \n\" style=\"fill:none;stroke:#1f77b4;stroke-linecap:square;stroke-width:1.5;\"/>\n    </g>\n    <g id=\"line2d_16\"/>\n    <g id=\"text_13\">\n     <!-- maccess greather than 0.51 and less 0.8 -->\n     <g transform=\"translate(486.103125 38.916562)scale(0.1 -0.1)\">\n      <defs>\n       <path id=\"DejaVuSans-20\" transform=\"scale(0.015625)\"/>\n       <path d=\"M 2906 1791 \nQ 2906 2416 2648 2759 \nQ 2391 3103 1925 3103 \nQ 1463 3103 1205 2759 \nQ 947 2416 947 1791 \nQ 947 1169 1205 825 \nQ 1463 481 1925 481 \nQ 2391 481 2648 825 \nQ 2906 1169 2906 1791 \nz\nM 3481 434 \nQ 3481 -459 3084 -895 \nQ 2688 -1331 1869 -1331 \nQ 1566 -1331 1297 -1286 \nQ 1028 -1241 775 -1147 \nL 775 -588 \nQ 1028 -725 1275 -790 \nQ 1522 -856 1778 -856 \nQ 2344 -856 2625 -561 \nQ 2906 -266 2906 331 \nL 2906 616 \nQ 2728 306 2450 153 \nQ 2172 0 1784 0 \nQ 1141 0 747 490 \nQ 353 981 353 1791 \nQ 353 2603 747 3093 \nQ 1141 3584 1784 3584 \nQ 2172 3584 2450 3431 \nQ 2728 3278 2906 2969 \nL 2906 3500 \nL 3481 3500 \nL 3481 434 \nz\n\" id=\"DejaVuSans-67\" transform=\"scale(0.015625)\"/>\n       <path d=\"M 2631 2963 \nQ 2534 3019 2420 3045 \nQ 2306 3072 2169 3072 \nQ 1681 3072 1420 2755 \nQ 1159 2438 1159 1844 \nL 1159 0 \nL 581 0 \nL 581 3500 \nL 1159 3500 \nL 1159 2956 \nQ 1341 3275 1631 3429 \nQ 1922 3584 2338 3584 \nQ 2397 3584 2469 3576 \nQ 2541 3569 2628 3553 \nL 2631 2963 \nz\n\" id=\"DejaVuSans-72\" transform=\"scale(0.015625)\"/>\n       <path d=\"M 3513 2113 \nL 3513 0 \nL 2938 0 \nL 2938 2094 \nQ 2938 2591 2744 2837 \nQ 2550 3084 2163 3084 \nQ 1697 3084 1428 2787 \nQ 1159 2491 1159 1978 \nL 1159 0 \nL 581 0 \nL 581 4863 \nL 1159 4863 \nL 1159 2956 \nQ 1366 3272 1645 3428 \nQ 1925 3584 2291 3584 \nQ 2894 3584 3203 3211 \nQ 3513 2838 3513 2113 \nz\n\" id=\"DejaVuSans-68\" transform=\"scale(0.015625)\"/>\n       <path d=\"M 691 4666 \nL 3169 4666 \nL 3169 4134 \nL 1269 4134 \nL 1269 2991 \nQ 1406 3038 1543 3061 \nQ 1681 3084 1819 3084 \nQ 2600 3084 3056 2656 \nQ 3513 2228 3513 1497 \nQ 3513 744 3044 326 \nQ 2575 -91 1722 -91 \nQ 1428 -91 1123 -41 \nQ 819 9 494 109 \nL 494 744 \nQ 775 591 1075 516 \nQ 1375 441 1709 441 \nQ 2250 441 2565 725 \nQ 2881 1009 2881 1497 \nQ 2881 1984 2565 2268 \nQ 2250 2553 1709 2553 \nQ 1456 2553 1204 2497 \nQ 953 2441 691 2322 \nL 691 4666 \nz\n\" id=\"DejaVuSans-35\" transform=\"scale(0.015625)\"/>\n       <path d=\"M 2906 2969 \nL 2906 4863 \nL 3481 4863 \nL 3481 0 \nL 2906 0 \nL 2906 525 \nQ 2725 213 2448 61 \nQ 2172 -91 1784 -91 \nQ 1150 -91 751 415 \nQ 353 922 353 1747 \nQ 353 2572 751 3078 \nQ 1150 3584 1784 3584 \nQ 2172 3584 2448 3432 \nQ 2725 3281 2906 2969 \nz\nM 947 1747 \nQ 947 1113 1208 752 \nQ 1469 391 1925 391 \nQ 2381 391 2643 752 \nQ 2906 1113 2906 1747 \nQ 2906 2381 2643 2742 \nQ 2381 3103 1925 3103 \nQ 1469 3103 1208 2742 \nQ 947 2381 947 1747 \nz\n\" id=\"DejaVuSans-64\" transform=\"scale(0.015625)\"/>\n      </defs>\n      <use xlink:href=\"#DejaVuSans-6d\"/>\n      <use x=\"97.412109\" xlink:href=\"#DejaVuSans-61\"/>\n      <use x=\"158.691406\" xlink:href=\"#DejaVuSans-63\"/>\n      <use x=\"213.671875\" xlink:href=\"#DejaVuSans-63\"/>\n      <use x=\"268.652344\" xlink:href=\"#DejaVuSans-65\"/>\n      <use x=\"330.175781\" xlink:href=\"#DejaVuSans-73\"/>\n      <use x=\"382.275391\" xlink:href=\"#DejaVuSans-73\"/>\n      <use x=\"434.375\" xlink:href=\"#DejaVuSans-20\"/>\n      <use x=\"466.162109\" xlink:href=\"#DejaVuSans-67\"/>\n      <use x=\"529.638672\" xlink:href=\"#DejaVuSans-72\"/>\n      <use x=\"568.501953\" xlink:href=\"#DejaVuSans-65\"/>\n      <use x=\"630.025391\" xlink:href=\"#DejaVuSans-61\"/>\n      <use x=\"691.304688\" xlink:href=\"#DejaVuSans-74\"/>\n      <use x=\"730.513672\" xlink:href=\"#DejaVuSans-68\"/>\n      <use x=\"793.892578\" xlink:href=\"#DejaVuSans-65\"/>\n      <use x=\"855.416016\" xlink:href=\"#DejaVuSans-72\"/>\n      <use x=\"896.529297\" xlink:href=\"#DejaVuSans-20\"/>\n      <use x=\"928.316406\" xlink:href=\"#DejaVuSans-74\"/>\n      <use x=\"967.525391\" xlink:href=\"#DejaVuSans-68\"/>\n      <use x=\"1030.904297\" xlink:href=\"#DejaVuSans-61\"/>\n      <use x=\"1092.183594\" xlink:href=\"#DejaVuSans-6e\"/>\n      <use x=\"1155.5625\" xlink:href=\"#DejaVuSans-20\"/>\n      <use x=\"1187.349609\" xlink:href=\"#DejaVuSans-30\"/>\n      <use x=\"1250.972656\" xlink:href=\"#DejaVuSans-2e\"/>\n      <use x=\"1282.759766\" xlink:href=\"#DejaVuSans-35\"/>\n      <use x=\"1346.382812\" xlink:href=\"#DejaVuSans-31\"/>\n      <use x=\"1410.005859\" xlink:href=\"#DejaVuSans-20\"/>\n      <use x=\"1441.792969\" xlink:href=\"#DejaVuSans-61\"/>\n      <use x=\"1503.072266\" xlink:href=\"#DejaVuSans-6e\"/>\n      <use x=\"1566.451172\" xlink:href=\"#DejaVuSans-64\"/>\n      <use x=\"1629.927734\" xlink:href=\"#DejaVuSans-20\"/>\n      <use x=\"1661.714844\" xlink:href=\"#DejaVuSans-6c\"/>\n      <use x=\"1689.498047\" xlink:href=\"#DejaVuSans-65\"/>\n      <use x=\"1751.021484\" xlink:href=\"#DejaVuSans-73\"/>\n      <use x=\"1803.121094\" xlink:href=\"#DejaVuSans-73\"/>\n      <use x=\"1855.220703\" xlink:href=\"#DejaVuSans-20\"/>\n      <use x=\"1887.007812\" xlink:href=\"#DejaVuSans-30\"/>\n      <use x=\"1950.630859\" xlink:href=\"#DejaVuSans-2e\"/>\n      <use x=\"1982.417969\" xlink:href=\"#DejaVuSans-38\"/>\n     </g>\n    </g>\n    <g id=\"line2d_17\">\n     <path d=\"M 458.103125 50.094687 \nL 478.103125 50.094687 \n\" style=\"fill:none;stroke:#ff7f0e;stroke-linecap:square;stroke-width:1.5;\"/>\n    </g>\n    <g id=\"line2d_18\"/>\n    <g id=\"text_14\">\n     <!-- maccess greather than 0.3 and less 0.51 -->\n     <g transform=\"translate(486.103125 53.594687)scale(0.1 -0.1)\">\n      <use xlink:href=\"#DejaVuSans-6d\"/>\n      <use x=\"97.412109\" xlink:href=\"#DejaVuSans-61\"/>\n      <use x=\"158.691406\" xlink:href=\"#DejaVuSans-63\"/>\n      <use x=\"213.671875\" xlink:href=\"#DejaVuSans-63\"/>\n      <use x=\"268.652344\" xlink:href=\"#DejaVuSans-65\"/>\n      <use x=\"330.175781\" xlink:href=\"#DejaVuSans-73\"/>\n      <use x=\"382.275391\" xlink:href=\"#DejaVuSans-73\"/>\n      <use x=\"434.375\" xlink:href=\"#DejaVuSans-20\"/>\n      <use x=\"466.162109\" xlink:href=\"#DejaVuSans-67\"/>\n      <use x=\"529.638672\" xlink:href=\"#DejaVuSans-72\"/>\n      <use x=\"568.501953\" xlink:href=\"#DejaVuSans-65\"/>\n      <use x=\"630.025391\" xlink:href=\"#DejaVuSans-61\"/>\n      <use x=\"691.304688\" xlink:href=\"#DejaVuSans-74\"/>\n      <use x=\"730.513672\" xlink:href=\"#DejaVuSans-68\"/>\n      <use x=\"793.892578\" xlink:href=\"#DejaVuSans-65\"/>\n      <use x=\"855.416016\" xlink:href=\"#DejaVuSans-72\"/>\n      <use x=\"896.529297\" xlink:href=\"#DejaVuSans-20\"/>\n      <use x=\"928.316406\" xlink:href=\"#DejaVuSans-74\"/>\n      <use x=\"967.525391\" xlink:href=\"#DejaVuSans-68\"/>\n      <use x=\"1030.904297\" xlink:href=\"#DejaVuSans-61\"/>\n      <use x=\"1092.183594\" xlink:href=\"#DejaVuSans-6e\"/>\n      <use x=\"1155.5625\" xlink:href=\"#DejaVuSans-20\"/>\n      <use x=\"1187.349609\" xlink:href=\"#DejaVuSans-30\"/>\n      <use x=\"1250.972656\" xlink:href=\"#DejaVuSans-2e\"/>\n      <use x=\"1282.759766\" xlink:href=\"#DejaVuSans-33\"/>\n      <use x=\"1346.382812\" xlink:href=\"#DejaVuSans-20\"/>\n      <use x=\"1378.169922\" xlink:href=\"#DejaVuSans-61\"/>\n      <use x=\"1439.449219\" xlink:href=\"#DejaVuSans-6e\"/>\n      <use x=\"1502.828125\" xlink:href=\"#DejaVuSans-64\"/>\n      <use x=\"1566.304688\" xlink:href=\"#DejaVuSans-20\"/>\n      <use x=\"1598.091797\" xlink:href=\"#DejaVuSans-6c\"/>\n      <use x=\"1625.875\" xlink:href=\"#DejaVuSans-65\"/>\n      <use x=\"1687.398438\" xlink:href=\"#DejaVuSans-73\"/>\n      <use x=\"1739.498047\" xlink:href=\"#DejaVuSans-73\"/>\n      <use x=\"1791.597656\" xlink:href=\"#DejaVuSans-20\"/>\n      <use x=\"1823.384766\" xlink:href=\"#DejaVuSans-30\"/>\n      <use x=\"1887.007812\" xlink:href=\"#DejaVuSans-2e\"/>\n      <use x=\"1918.794922\" xlink:href=\"#DejaVuSans-35\"/>\n      <use x=\"1982.417969\" xlink:href=\"#DejaVuSans-31\"/>\n     </g>\n    </g>\n    <g id=\"line2d_19\">\n     <path d=\"M 458.103125 64.772812 \nL 478.103125 64.772812 \n\" style=\"fill:none;stroke:#2ca02c;stroke-linecap:square;stroke-width:1.5;\"/>\n    </g>\n    <g id=\"line2d_20\"/>\n    <g id=\"text_15\">\n     <!-- maccess greather than 0.8 -->\n     <g transform=\"translate(486.103125 68.272812)scale(0.1 -0.1)\">\n      <use xlink:href=\"#DejaVuSans-6d\"/>\n      <use x=\"97.412109\" xlink:href=\"#DejaVuSans-61\"/>\n      <use x=\"158.691406\" xlink:href=\"#DejaVuSans-63\"/>\n      <use x=\"213.671875\" xlink:href=\"#DejaVuSans-63\"/>\n      <use x=\"268.652344\" xlink:href=\"#DejaVuSans-65\"/>\n      <use x=\"330.175781\" xlink:href=\"#DejaVuSans-73\"/>\n      <use x=\"382.275391\" xlink:href=\"#DejaVuSans-73\"/>\n      <use x=\"434.375\" xlink:href=\"#DejaVuSans-20\"/>\n      <use x=\"466.162109\" xlink:href=\"#DejaVuSans-67\"/>\n      <use x=\"529.638672\" xlink:href=\"#DejaVuSans-72\"/>\n      <use x=\"568.501953\" xlink:href=\"#DejaVuSans-65\"/>\n      <use x=\"630.025391\" xlink:href=\"#DejaVuSans-61\"/>\n      <use x=\"691.304688\" xlink:href=\"#DejaVuSans-74\"/>\n      <use x=\"730.513672\" xlink:href=\"#DejaVuSans-68\"/>\n      <use x=\"793.892578\" xlink:href=\"#DejaVuSans-65\"/>\n      <use x=\"855.416016\" xlink:href=\"#DejaVuSans-72\"/>\n      <use x=\"896.529297\" xlink:href=\"#DejaVuSans-20\"/>\n      <use x=\"928.316406\" xlink:href=\"#DejaVuSans-74\"/>\n      <use x=\"967.525391\" xlink:href=\"#DejaVuSans-68\"/>\n      <use x=\"1030.904297\" xlink:href=\"#DejaVuSans-61\"/>\n      <use x=\"1092.183594\" xlink:href=\"#DejaVuSans-6e\"/>\n      <use x=\"1155.5625\" xlink:href=\"#DejaVuSans-20\"/>\n      <use x=\"1187.349609\" xlink:href=\"#DejaVuSans-30\"/>\n      <use x=\"1250.972656\" xlink:href=\"#DejaVuSans-2e\"/>\n      <use x=\"1282.759766\" xlink:href=\"#DejaVuSans-38\"/>\n     </g>\n    </g>\n    <g id=\"line2d_21\">\n     <path d=\"M 458.103125 79.450937 \nL 478.103125 79.450937 \n\" style=\"fill:none;stroke:#d62728;stroke-linecap:square;stroke-width:1.5;\"/>\n    </g>\n    <g id=\"line2d_22\"/>\n    <g id=\"text_16\">\n     <!-- maccess less than 0.3 -->\n     <g transform=\"translate(486.103125 82.950937)scale(0.1 -0.1)\">\n      <use xlink:href=\"#DejaVuSans-6d\"/>\n      <use x=\"97.412109\" xlink:href=\"#DejaVuSans-61\"/>\n      <use x=\"158.691406\" xlink:href=\"#DejaVuSans-63\"/>\n      <use x=\"213.671875\" xlink:href=\"#DejaVuSans-63\"/>\n      <use x=\"268.652344\" xlink:href=\"#DejaVuSans-65\"/>\n      <use x=\"330.175781\" xlink:href=\"#DejaVuSans-73\"/>\n      <use x=\"382.275391\" xlink:href=\"#DejaVuSans-73\"/>\n      <use x=\"434.375\" xlink:href=\"#DejaVuSans-20\"/>\n      <use x=\"466.162109\" xlink:href=\"#DejaVuSans-6c\"/>\n      <use x=\"493.945312\" xlink:href=\"#DejaVuSans-65\"/>\n      <use x=\"555.46875\" xlink:href=\"#DejaVuSans-73\"/>\n      <use x=\"607.568359\" xlink:href=\"#DejaVuSans-73\"/>\n      <use x=\"659.667969\" xlink:href=\"#DejaVuSans-20\"/>\n      <use x=\"691.455078\" xlink:href=\"#DejaVuSans-74\"/>\n      <use x=\"730.664062\" xlink:href=\"#DejaVuSans-68\"/>\n      <use x=\"794.042969\" xlink:href=\"#DejaVuSans-61\"/>\n      <use x=\"855.322266\" xlink:href=\"#DejaVuSans-6e\"/>\n      <use x=\"918.701172\" xlink:href=\"#DejaVuSans-20\"/>\n      <use x=\"950.488281\" xlink:href=\"#DejaVuSans-30\"/>\n      <use x=\"1014.111328\" xlink:href=\"#DejaVuSans-2e\"/>\n      <use x=\"1045.898438\" xlink:href=\"#DejaVuSans-33\"/>\n     </g>\n    </g>\n   </g>\n  </g>\n </g>\n <defs>\n  <clipPath id=\"p8b1905323b\">\n   <rect height=\"380.52\" width=\"669.6\" x=\"30.103125\" y=\"22.318125\"/>\n  </clipPath>\n </defs>\n</svg>\n"
     },
     "metadata": {
      "needs_background": "light"
     }
    }
   ],
   "metadata": {}
  },
  {
   "cell_type": "code",
   "execution_count": 72,
   "source": [
    "results=multivariate_logrank_test(event_durations=T,groups=dt.esc_maccess,event_observed=C)\n",
    "results.print_summary()"
   ],
   "outputs": [
    {
     "output_type": "display_data",
     "data": {
      "text/plain": [
       "<lifelines.StatisticalResult: multivariate_logrank_test>\n",
       "               t_0 = -1\n",
       " null_distribution = chi squared\n",
       "degrees_of_freedom = 3\n",
       "         test_name = multivariate_logrank_test\n",
       "\n",
       "---\n",
       " test_statistic      p  -log2(p)\n",
       "         294.44 <0.005    208.62"
      ],
      "text/latex": [
       "\\begin{tabular}{lrrr}\n",
       "\\toprule\n",
       "{} &  test\\_statistic &             p &    -log2(p) \\\\\n",
       "\\midrule\n",
       "0 &      294.443967 &  1.585674e-63 &  208.616374 \\\\\n",
       "\\bottomrule\n",
       "\\end{tabular}\n"
      ],
      "text/html": [
       "<div>\n",
       "<style scoped>\n",
       "    .dataframe tbody tr th:only-of-type {\n",
       "        vertical-align: middle;\n",
       "    }\n",
       "\n",
       "    .dataframe tbody tr th {\n",
       "        vertical-align: top;\n",
       "    }\n",
       "\n",
       "    .dataframe thead th {\n",
       "        text-align: right;\n",
       "    }\n",
       "</style>\n",
       "<table border=\"1\" class=\"dataframe\">\n",
       "  <tbody>\n",
       "    <tr>\n",
       "      <th>t_0</th>\n",
       "      <td>-1</td>\n",
       "    </tr>\n",
       "    <tr>\n",
       "      <th>null_distribution</th>\n",
       "      <td>chi squared</td>\n",
       "    </tr>\n",
       "    <tr>\n",
       "      <th>degrees_of_freedom</th>\n",
       "      <td>3</td>\n",
       "    </tr>\n",
       "    <tr>\n",
       "      <th>test_name</th>\n",
       "      <td>multivariate_logrank_test</td>\n",
       "    </tr>\n",
       "  </tbody>\n",
       "</table>\n",
       "</div><table border=\"1\" class=\"dataframe\">\n",
       "  <thead>\n",
       "    <tr style=\"text-align: right;\">\n",
       "      <th></th>\n",
       "      <th>test_statistic</th>\n",
       "      <th>p</th>\n",
       "      <th>-log2(p)</th>\n",
       "    </tr>\n",
       "  </thead>\n",
       "  <tbody>\n",
       "    <tr>\n",
       "      <th>0</th>\n",
       "      <td>294.44</td>\n",
       "      <td>&lt;0.005</td>\n",
       "      <td>208.62</td>\n",
       "    </tr>\n",
       "  </tbody>\n",
       "</table>"
      ]
     },
     "metadata": {}
    }
   ],
   "metadata": {}
  },
  {
   "cell_type": "code",
   "execution_count": 73,
   "source": [
    "results=pairwise_logrank_test(event_durations=T,groups=dt.esc_maccess,event_observed=C)\n",
    "results.print_summary()"
   ],
   "outputs": [
    {
     "output_type": "display_data",
     "data": {
      "text/plain": [
       "<lifelines.StatisticalResult: logrank_test>\n",
       "               t_0 = -1\n",
       " null_distribution = chi squared\n",
       "degrees_of_freedom = 1\n",
       "         test_name = logrank_test\n",
       "\n",
       "---\n",
       "                                                                                 test_statistic      p  -log2(p)\n",
       "maccess greather than 0.3 and less 0.51 maccess greather than 0.51 and less 0.8           48.81 <0.005     38.36\n",
       "                                        maccess greather than 0.8                         70.70 <0.005     54.41\n",
       "                                        maccess less than 0.3                             40.72 <0.005     32.41\n",
       "maccess greather than 0.51 and less 0.8 maccess greather than 0.8                          2.46   0.12      3.10\n",
       "                                        maccess less than 0.3                            179.86 <0.005    133.82\n",
       "maccess greather than 0.8               maccess less than 0.3                            216.01 <0.005    160.03"
      ],
      "text/latex": [
       "\\begin{tabular}{llrrr}\n",
       "\\toprule\n",
       "                          &                       &  test\\_statistic &             p &    -log2(p) \\\\\n",
       "\\midrule\n",
       "maccess greather than 0.3 and less 0.51 & maccess greather than 0.51 and less 0.8 &       48.805999 &  2.825742e-12 &   38.364507 \\\\\n",
       "                          & maccess greather than 0.8 &       70.697706 &  4.163763e-17 &   54.414890 \\\\\n",
       "                          & maccess less than 0.3 &       40.724655 &  1.752619e-10 &   32.409769 \\\\\n",
       "maccess greather than 0.51 and less 0.8 & maccess greather than 0.8 &        2.462008 &  1.166296e-01 &    3.099994 \\\\\n",
       "                          & maccess less than 0.3 &      179.856762 &  5.208290e-41 &  133.818242 \\\\\n",
       "maccess greather than 0.8 & maccess less than 0.3 &      216.009110 &  6.713268e-49 &  160.027461 \\\\\n",
       "\\bottomrule\n",
       "\\end{tabular}\n"
      ],
      "text/html": [
       "<div>\n",
       "<style scoped>\n",
       "    .dataframe tbody tr th:only-of-type {\n",
       "        vertical-align: middle;\n",
       "    }\n",
       "\n",
       "    .dataframe tbody tr th {\n",
       "        vertical-align: top;\n",
       "    }\n",
       "\n",
       "    .dataframe thead th {\n",
       "        text-align: right;\n",
       "    }\n",
       "</style>\n",
       "<table border=\"1\" class=\"dataframe\">\n",
       "  <tbody>\n",
       "    <tr>\n",
       "      <th>t_0</th>\n",
       "      <td>-1</td>\n",
       "    </tr>\n",
       "    <tr>\n",
       "      <th>null_distribution</th>\n",
       "      <td>chi squared</td>\n",
       "    </tr>\n",
       "    <tr>\n",
       "      <th>degrees_of_freedom</th>\n",
       "      <td>1</td>\n",
       "    </tr>\n",
       "    <tr>\n",
       "      <th>test_name</th>\n",
       "      <td>logrank_test</td>\n",
       "    </tr>\n",
       "  </tbody>\n",
       "</table>\n",
       "</div><table border=\"1\" class=\"dataframe\">\n",
       "  <thead>\n",
       "    <tr style=\"text-align: right;\">\n",
       "      <th></th>\n",
       "      <th></th>\n",
       "      <th>test_statistic</th>\n",
       "      <th>p</th>\n",
       "      <th>-log2(p)</th>\n",
       "    </tr>\n",
       "  </thead>\n",
       "  <tbody>\n",
       "    <tr>\n",
       "      <th rowspan=\"3\" valign=\"top\">maccess greather than 0.3 and less 0.51</th>\n",
       "      <th>maccess greather than 0.51 and less 0.8</th>\n",
       "      <td>48.81</td>\n",
       "      <td>&lt;0.005</td>\n",
       "      <td>38.36</td>\n",
       "    </tr>\n",
       "    <tr>\n",
       "      <th>maccess greather than 0.8</th>\n",
       "      <td>70.70</td>\n",
       "      <td>&lt;0.005</td>\n",
       "      <td>54.41</td>\n",
       "    </tr>\n",
       "    <tr>\n",
       "      <th>maccess less than 0.3</th>\n",
       "      <td>40.72</td>\n",
       "      <td>&lt;0.005</td>\n",
       "      <td>32.41</td>\n",
       "    </tr>\n",
       "    <tr>\n",
       "      <th rowspan=\"2\" valign=\"top\">maccess greather than 0.51 and less 0.8</th>\n",
       "      <th>maccess greather than 0.8</th>\n",
       "      <td>2.46</td>\n",
       "      <td>0.12</td>\n",
       "      <td>3.10</td>\n",
       "    </tr>\n",
       "    <tr>\n",
       "      <th>maccess less than 0.3</th>\n",
       "      <td>179.86</td>\n",
       "      <td>&lt;0.005</td>\n",
       "      <td>133.82</td>\n",
       "    </tr>\n",
       "    <tr>\n",
       "      <th>maccess greather than 0.8</th>\n",
       "      <th>maccess less than 0.3</th>\n",
       "      <td>216.01</td>\n",
       "      <td>&lt;0.005</td>\n",
       "      <td>160.03</td>\n",
       "    </tr>\n",
       "  </tbody>\n",
       "</table>"
      ]
     },
     "metadata": {}
    }
   ],
   "metadata": {}
  },
  {
   "cell_type": "markdown",
   "source": [
    "O número idas com uma retenção maior é 2 ou mais. A tendência de retenção maior só se apresenta depois dos 10 meses. O abandono depois dos 10 meses é menor nos clientes que vão em média 1 a 2 vezes ou mais. As estratégias devem estar focadas na manutenção do cliente nos primeiros 10 meses e tentar que vão em média pelo menos 1 vez por semana."
   ],
   "metadata": {}
  },
  {
   "cell_type": "markdown",
   "source": [
    "## nentries"
   ],
   "metadata": {
    "toc-hr-collapsed": false
   }
  },
  {
   "cell_type": "code",
   "execution_count": 74,
   "source": [
    "dt.columns"
   ],
   "outputs": [
    {
     "output_type": "execute_result",
     "data": {
      "text/plain": [
       "Index(['datanasc', 'idade', 'genero', 'inicio', 'termino', 'dtultvisita',\n",
       "       'diassemfrequencia', 'mesesinscricao', 'volnegocios', 'freqmedia',\n",
       "       'utilizacao_livre', 'atividade_atletismo', 'atividade_aquaticas',\n",
       "       'atividade_fitness', 'atividade_danca', 'atividade_coletivos',\n",
       "       'atividade_raquete', 'atividade_combate', 'atividade_especiais',\n",
       "       'atividade_natureza', 'atividade_outra', 'natividades', 'nfrequencias',\n",
       "       'freqcontratadasemanal', 'nrenovacoes', 'nreferencias',\n",
       "       'classe_desistencia', 'mes', 'escaloesIdade', 'esc_maccess'],\n",
       "      dtype='object')"
      ]
     },
     "metadata": {},
     "execution_count": 74
    }
   ],
   "metadata": {}
  },
  {
   "cell_type": "code",
   "execution_count": 75,
   "source": [
    "dt.nfrequencias.describe()"
   ],
   "outputs": [
    {
     "output_type": "execute_result",
     "data": {
      "text/plain": [
       "count    6745.000000\n",
       "mean       29.835434\n",
       "std        35.394236\n",
       "min         1.000000\n",
       "25%         6.000000\n",
       "50%        17.000000\n",
       "75%        40.000000\n",
       "max       323.000000\n",
       "Name: nfrequencias, dtype: float64"
      ]
     },
     "metadata": {},
     "execution_count": 75
    }
   ],
   "metadata": {}
  },
  {
   "cell_type": "code",
   "execution_count": 76,
   "source": [
    "dt['esc_entries']=''\n",
    "for index, cliente in dt.iterrows():\n",
    "    #se a variável tiver o valor 1 colocar na nova variável a descrição da atividade\n",
    "    if cliente['nfrequencias'] <= 6:\n",
    "        dt.at[index,'esc_entries']='until 6'\n",
    "    elif (cliente['nfrequencias'] > 6) & (cliente['nfrequencias'] < 17):\n",
    "        dt.at[index,'esc_entries']='6 to 17'\n",
    "    elif (cliente['nfrequencias'] >= 17) & (cliente['nfrequencias'] < 40):\n",
    "        dt.at[index,'esc_entries']='17 to 40'\n",
    "    elif (cliente['nfrequencias'] >= 40):\n",
    "        dt.at[index,'esc_entries']='more than 40'\n",
    "       \n",
    "    #dt.at[index,'idas']=np.around(cliente['nfrequencias'],decimals=1)"
   ],
   "outputs": [],
   "metadata": {}
  },
  {
   "cell_type": "code",
   "execution_count": 77,
   "source": [
    "dt['esc_entries'].value_counts()"
   ],
   "outputs": [
    {
     "output_type": "execute_result",
     "data": {
      "text/plain": [
       "until 6         1720\n",
       "more than 40    1718\n",
       "17 to 40        1665\n",
       "6 to 17         1642\n",
       "Name: esc_entries, dtype: int64"
      ]
     },
     "metadata": {},
     "execution_count": 77
    }
   ],
   "metadata": {}
  },
  {
   "cell_type": "code",
   "execution_count": 78,
   "source": [
    "dt['esc_entries'].unique()"
   ],
   "outputs": [
    {
     "output_type": "execute_result",
     "data": {
      "text/plain": [
       "array(['until 6', '17 to 40', '6 to 17', 'more than 40'], dtype=object)"
      ]
     },
     "metadata": {},
     "execution_count": 78
    }
   ],
   "metadata": {}
  },
  {
   "cell_type": "markdown",
   "source": [
    "Vamos considerar 3,4 e 5 superior a duas vezes por semana"
   ],
   "metadata": {}
  },
  {
   "cell_type": "code",
   "execution_count": 80,
   "source": [
    "ax = plt.subplot(111)\n",
    "#vamos considerar só 0,1,2,3\n",
    "idas=dt['esc_entries'].unique()\n",
    "\n",
    "plt.rcParams['figure.figsize'] = [12, 7]\n",
    "for ida in idas:\n",
    "    ix = dt['esc_entries'] == ida\n",
    "    kmf.fit(T.loc[ix], C.loc[ix], label=str(ida))\n",
    "    ax = kmf.plot(ax=ax)\n",
    "    print(str(ida),' predict survival 12 months:',kmf.predict(12.0),': median ',kmf.median_survival_time_)\n",
    "plt.title('nentries');"
   ],
   "outputs": [
    {
     "output_type": "stream",
     "name": "stdout",
     "text": [
      "until 6  predict survival 12 months: 0.12141345870340657 : median  4.0\n",
      "17 to 40  predict survival 12 months: 0.6370290037312688 : median  17.0\n",
      "6 to 17  predict survival 12 months: 0.2852619553840528 : median  7.0\n",
      "more than 40  predict survival 12 months: 0.9186106530361037 : median  39.0\n"
     ]
    },
    {
     "output_type": "display_data",
     "data": {
      "text/plain": [
       "<Figure size 864x504 with 1 Axes>"
      ],
      "image/png": "[encoded data removed]",
      "image/svg+xml": "<?xml version=\"1.0\" encoding=\"utf-8\" standalone=\"no\"?>\n<!DOCTYPE svg PUBLIC \"-//W3C//DTD SVG 1.1//EN\"\n  \"http://www.w3.org/Graphics/SVG/1.1/DTD/svg11.dtd\">\n<svg height=\"440.394375pt\" version=\"1.1\" viewBox=\"0 0 706.903125 440.394375\" width=\"706.903125pt\" xmlns=\"http://www.w3.org/2000/svg\" xmlns:xlink=\"http://www.w3.org/1999/xlink\">\n <metadata>\n  <rdf:RDF xmlns:cc=\"http://creativecommons.org/ns#\" xmlns:dc=\"http://purl.org/dc/elements/1.1/\" xmlns:rdf=\"http://www.w3.org/1999/02/22-rdf-syntax-ns#\">\n   <cc:Work>\n    <dc:type rdf:resource=\"http://purl.org/dc/dcmitype/StillImage\"/>\n    <dc:date>2021-07-14T16:57:40.830224</dc:date>\n    <dc:format>image/svg+xml</dc:format>\n    <dc:creator>\n     <cc:Agent>\n      <dc:title>Matplotlib v3.4.2, https://matplotlib.org/</dc:title>\n     </cc:Agent>\n    </dc:creator>\n   </cc:Work>\n  </rdf:RDF>\n </metadata>\n <defs>\n  <style type=\"text/css\">*{stroke-linecap:butt;stroke-linejoin:round;}</style>\n </defs>\n <g id=\"figure_1\">\n  <g id=\"patch_1\">\n   <path d=\"M 0 440.394375 \nL 706.903125 440.394375 \nL 706.903125 0 \nL 0 0 \nz\n\" style=\"fill:none;\"/>\n  </g>\n  <g id=\"axes_1\">\n   <g id=\"patch_2\">\n    <path d=\"M 30.103125 402.838125 \nL 699.703125 402.838125 \nL 699.703125 22.318125 \nL 30.103125 22.318125 \nz\n\" style=\"fill:#ffffff;\"/>\n   </g>\n   <g id=\"PolyCollection_1\">\n    <defs>\n     <path d=\"M 60.539489 -400.355387 \nL 60.539489 -398.336678 \nL 73.491133 -398.336678 \nL 73.491133 -387.627901 \nL 86.442777 -387.627901 \nL 86.442777 -337.499671 \nL 99.394421 -337.499671 \nL 99.394421 -245.745896 \nL 112.346065 -245.745896 \nL 112.346065 -202.466616 \nL 125.297709 -202.466616 \nL 125.297709 -168.288328 \nL 138.249353 -168.288328 \nL 138.249353 -145.793719 \nL 151.200997 -145.793719 \nL 151.200997 -111.709464 \nL 164.152641 -111.709464 \nL 164.152641 -106.653835 \nL 177.104286 -106.653835 \nL 177.104286 -101.544241 \nL 190.05593 -101.544241 \nL 190.05593 -95.51619 \nL 203.007574 -95.51619 \nL 203.007574 -88.319819 \nL 215.959218 -88.319819 \nL 215.959218 -86.572354 \nL 228.910862 -86.572354 \nL 228.910862 -84.744573 \nL 241.862506 -84.744573 \nL 241.862506 -81.71047 \nL 254.81415 -81.71047 \nL 254.81415 -79.149973 \nL 267.765794 -79.149973 \nL 267.765794 -76.575368 \nL 280.717438 -76.575368 \nL 280.717438 -75.29746 \nL 293.669082 -75.29746 \nL 293.669082 -72.292081 \nL 306.620727 -72.292081 \nL 306.620727 -71.857774 \nL 319.572371 -71.857774 \nL 319.572371 -70.560373 \nL 332.524015 -70.560373 \nL 332.524015 -69.700179 \nL 345.475659 -69.700179 \nL 345.475659 -66.519573 \nL 358.427303 -66.519573 \nL 358.427303 -66.070639 \nL 371.378947 -66.070639 \nL 371.378947 -65.610468 \nL 384.330591 -65.610468 \nL 384.330591 -65.610468 \nL 397.282235 -65.610468 \nL 397.282235 -64.062176 \nL 410.233879 -64.062176 \nL 410.233879 -62.824941 \nL 423.185523 -62.824941 \nL 423.185523 -61.486734 \nL 449.088812 -61.486734 \nL 449.088812 -60.790422 \nL 474.9921 -60.790422 \nL 474.9921 -57.25015 \nL 487.943744 -57.25015 \nL 487.943744 -55.923478 \nL 513.847032 -55.923478 \nL 513.847032 -55.923478 \nL 526.798676 -55.923478 \nL 526.798676 -54.852614 \nL 539.75032 -54.852614 \nL 539.75032 -54.852614 \nL 552.701964 -54.852614 \nL 552.701964 -54.852614 \nL 643.363473 -54.852614 \nL 643.363473 -54.852614 \nL 669.266761 -54.852614 \nL 669.266761 -54.852614 \nL 669.266761 -64.079714 \nL 669.266761 -64.079714 \nL 669.266761 -64.079714 \nL 643.363473 -64.079714 \nL 643.363473 -64.079714 \nL 552.701964 -64.079714 \nL 552.701964 -64.079714 \nL 539.75032 -64.079714 \nL 539.75032 -64.079714 \nL 526.798676 -64.079714 \nL 526.798676 -65.147648 \nL 513.847032 -65.147648 \nL 513.847032 -65.147648 \nL 487.943744 -65.147648 \nL 487.943744 -66.862147 \nL 474.9921 -66.862147 \nL 474.9921 -70.945094 \nL 449.088812 -70.945094 \nL 449.088812 -71.705075 \nL 423.185523 -71.705075 \nL 423.185523 -73.156962 \nL 410.233879 -73.156962 \nL 410.233879 -74.507884 \nL 397.282235 -74.507884 \nL 397.282235 -76.278474 \nL 384.330591 -76.278474 \nL 384.330591 -76.278474 \nL 371.378947 -76.278474 \nL 371.378947 -76.817764 \nL 358.427303 -76.817764 \nL 358.427303 -77.345309 \nL 345.475659 -77.345309 \nL 345.475659 -81.002686 \nL 332.524015 -81.002686 \nL 332.524015 -81.988851 \nL 319.572371 -81.988851 \nL 319.572371 -83.461463 \nL 306.620727 -83.461463 \nL 306.620727 -83.950617 \nL 293.669082 -83.950617 \nL 293.669082 -87.305368 \nL 280.717438 -87.305368 \nL 280.717438 -88.714576 \nL 267.765794 -88.714576 \nL 267.765794 -91.515448 \nL 254.81415 -91.515448 \nL 254.81415 -94.264022 \nL 241.862506 -94.264022 \nL 241.862506 -97.565788 \nL 228.910862 -97.565788 \nL 228.910862 -99.550629 \nL 215.959218 -99.550629 \nL 215.959218 -101.453288 \nL 203.007574 -101.453288 \nL 203.007574 -109.419031 \nL 190.05593 -109.419031 \nL 190.05593 -116.046212 \nL 177.104286 -116.046212 \nL 177.104286 -121.619785 \nL 164.152641 -121.619785 \nL 164.152641 -127.101021 \nL 151.200997 -127.101021 \nL 151.200997 -163.257036 \nL 138.249353 -163.257036 \nL 138.249353 -186.52229 \nL 125.297709 -186.52229 \nL 125.297709 -221.182221 \nL 112.346065 -221.182221 \nL 112.346065 -264.003553 \nL 99.394421 -264.003553 \nL 99.394421 -349.940139 \nL 86.442777 -349.940139 \nL 86.442777 -393.205886 \nL 73.491133 -393.205886 \nL 73.491133 -400.355387 \nL 60.539489 -400.355387 \nz\n\" id=\"m7dbbfc4d52\" style=\"stroke:#1f77b4;stroke-opacity:0.25;\"/>\n    </defs>\n    <g clip-path=\"url(#p7943dd669d)\">\n     <use style=\"fill:#1f77b4;fill-opacity:0.25;stroke:#1f77b4;stroke-opacity:0.25;\" x=\"0\" xlink:href=\"#m7dbbfc4d52\" y=\"440.394375\"/>\n    </g>\n   </g>\n   <g id=\"PolyCollection_2\">\n    <defs>\n     <path d=\"M 60.539489 -400.779886 \nL 60.539489 -400.779886 \nL 86.442777 -400.779886 \nL 86.442777 -400.779886 \nL 99.394421 -400.779886 \nL 99.394421 -397.129816 \nL 112.346065 -397.129816 \nL 112.346065 -390.510361 \nL 125.297709 -390.510361 \nL 125.297709 -381.687602 \nL 138.249353 -381.687602 \nL 138.249353 -367.576744 \nL 151.200997 -367.576744 \nL 151.200997 -348.732925 \nL 164.152641 -348.732925 \nL 164.152641 -329.848533 \nL 177.104286 -329.848533 \nL 177.104286 -309.842699 \nL 190.05593 -309.842699 \nL 190.05593 -286.139804 \nL 203.007574 -286.139804 \nL 203.007574 -272.004986 \nL 215.959218 -272.004986 \nL 215.959218 -265.008888 \nL 228.910862 -265.008888 \nL 228.910862 -253.189644 \nL 241.862506 -253.189644 \nL 241.862506 -244.876012 \nL 254.81415 -244.876012 \nL 254.81415 -226.797171 \nL 267.765794 -226.797171 \nL 267.765794 -217.960485 \nL 280.717438 -217.960485 \nL 280.717438 -208.031708 \nL 293.669082 -208.031708 \nL 293.669082 -195.970209 \nL 306.620727 -195.970209 \nL 306.620727 -187.728922 \nL 319.572371 -187.728922 \nL 319.572371 -183.44947 \nL 332.524015 -183.44947 \nL 332.524015 -175.679976 \nL 345.475659 -175.679976 \nL 345.475659 -166.73666 \nL 358.427303 -166.73666 \nL 358.427303 -162.203078 \nL 371.378947 -162.203078 \nL 371.378947 -158.763666 \nL 384.330591 -158.763666 \nL 384.330591 -154.719513 \nL 397.282235 -154.719513 \nL 397.282235 -148.218447 \nL 410.233879 -148.218447 \nL 410.233879 -137.04006 \nL 423.185523 -137.04006 \nL 423.185523 -133.049321 \nL 436.137168 -133.049321 \nL 436.137168 -127.549383 \nL 449.088812 -127.549383 \nL 449.088812 -124.013207 \nL 462.040456 -124.013207 \nL 462.040456 -118.701055 \nL 474.9921 -118.701055 \nL 474.9921 -117.844386 \nL 487.943744 -117.844386 \nL 487.943744 -111.50789 \nL 500.895388 -111.50789 \nL 500.895388 -104.799775 \nL 513.847032 -104.799775 \nL 513.847032 -100.677768 \nL 526.798676 -100.677768 \nL 526.798676 -100.677768 \nL 539.75032 -100.677768 \nL 539.75032 -99.436469 \nL 552.701964 -99.436469 \nL 552.701964 -98.032545 \nL 565.653609 -98.032545 \nL 565.653609 -94.618465 \nL 578.605253 -94.618465 \nL 578.605253 -94.618465 \nL 591.556897 -94.618465 \nL 591.556897 -94.618465 \nL 604.508541 -94.618465 \nL 604.508541 -94.618465 \nL 617.460185 -94.618465 \nL 617.460185 -94.618465 \nL 643.363473 -94.618465 \nL 643.363473 -94.618465 \nL 656.315117 -94.618465 \nL 656.315117 -94.618465 \nL 669.266761 -94.618465 \nL 669.266761 -94.618465 \nL 669.266761 -117.90447 \nL 669.266761 -117.90447 \nL 669.266761 -117.90447 \nL 656.315117 -117.90447 \nL 656.315117 -117.90447 \nL 643.363473 -117.90447 \nL 643.363473 -117.90447 \nL 617.460185 -117.90447 \nL 617.460185 -117.90447 \nL 604.508541 -117.90447 \nL 604.508541 -117.90447 \nL 591.556897 -117.90447 \nL 591.556897 -117.90447 \nL 578.605253 -117.90447 \nL 578.605253 -117.90447 \nL 565.653609 -117.90447 \nL 565.653609 -119.81981 \nL 552.701964 -119.81981 \nL 552.701964 -121.077843 \nL 539.75032 -121.077843 \nL 539.75032 -122.23236 \nL 526.798676 -122.23236 \nL 526.798676 -122.23236 \nL 513.847032 -122.23236 \nL 513.847032 -126.256357 \nL 500.895388 -126.256357 \nL 500.895388 -132.778619 \nL 487.943744 -132.778619 \nL 487.943744 -138.863966 \nL 474.9921 -138.863966 \nL 474.9921 -139.686841 \nL 462.040456 -139.686841 \nL 462.040456 -144.898716 \nL 449.088812 -144.898716 \nL 449.088812 -148.379518 \nL 436.137168 -148.379518 \nL 436.137168 -153.761179 \nL 423.185523 -153.761179 \nL 423.185523 -157.645974 \nL 410.233879 -157.645974 \nL 410.233879 -168.348287 \nL 397.282235 -168.348287 \nL 397.282235 -174.690814 \nL 384.330591 -174.690814 \nL 384.330591 -178.648262 \nL 371.378947 -178.648262 \nL 371.378947 -182.009779 \nL 358.427303 -182.009779 \nL 358.427303 -186.473763 \nL 345.475659 -186.473763 \nL 345.475659 -195.28796 \nL 332.524015 -195.28796 \nL 332.524015 -202.912918 \nL 319.572371 -202.912918 \nL 319.572371 -207.113607 \nL 306.620727 -207.113607 \nL 306.620727 -215.192156 \nL 293.669082 -215.192156 \nL 293.669082 -226.932252 \nL 280.717438 -226.932252 \nL 280.717438 -236.528407 \nL 267.765794 -236.528407 \nL 267.765794 -245.037792 \nL 254.81415 -245.037792 \nL 254.81415 -262.203596 \nL 241.862506 -262.203596 \nL 241.862506 -270.260402 \nL 228.910862 -270.260402 \nL 228.910862 -281.70066 \nL 215.959218 -281.70066 \nL 215.959218 -288.443719 \nL 203.007574 -288.443719 \nL 203.007574 -301.976918 \nL 190.05593 -301.976918 \nL 190.05593 -324.396769 \nL 177.104286 -324.396769 \nL 177.104286 -342.997465 \nL 164.152641 -342.997465 \nL 164.152641 -360.188962 \nL 151.200997 -360.188962 \nL 151.200997 -376.810932 \nL 138.249353 -376.810932 \nL 138.249353 -388.627122 \nL 125.297709 -388.627122 \nL 125.297709 -395.447732 \nL 112.346065 -395.447732 \nL 112.346065 -399.787939 \nL 99.394421 -399.787939 \nL 99.394421 -400.779886 \nL 86.442777 -400.779886 \nL 86.442777 -400.779886 \nL 60.539489 -400.779886 \nz\n\" id=\"m74f926fc97\" style=\"stroke:#ff7f0e;stroke-opacity:0.25;\"/>\n    </defs>\n    <g clip-path=\"url(#p7943dd669d)\">\n     <use style=\"fill:#ff7f0e;fill-opacity:0.25;stroke:#ff7f0e;stroke-opacity:0.25;\" x=\"0\" xlink:href=\"#m74f926fc97\" y=\"440.394375\"/>\n    </g>\n   </g>\n   <g id=\"PolyCollection_3\">\n    <defs>\n     <path d=\"M 60.539489 -400.779886 \nL 60.539489 -400.779886 \nL 73.491133 -400.779886 \nL 73.491133 -397.373143 \nL 86.442777 -397.373143 \nL 86.442777 -392.133098 \nL 99.394421 -392.133098 \nL 99.394421 -365.697984 \nL 112.346065 -365.697984 \nL 112.346065 -325.136863 \nL 125.297709 -325.136863 \nL 125.297709 -289.475106 \nL 138.249353 -289.475106 \nL 138.249353 -254.697458 \nL 151.200997 -254.697458 \nL 151.200997 -214.462133 \nL 164.152641 -214.462133 \nL 164.152641 -191.071358 \nL 177.104286 -191.071358 \nL 177.104286 -175.277249 \nL 190.05593 -175.277249 \nL 190.05593 -156.972602 \nL 203.007574 -156.972602 \nL 203.007574 -147.720486 \nL 215.959218 -147.720486 \nL 215.959218 -141.494411 \nL 228.910862 -141.494411 \nL 228.910862 -134.896821 \nL 241.862506 -134.896821 \nL 241.862506 -129.384802 \nL 254.81415 -129.384802 \nL 254.81415 -122.228561 \nL 267.765794 -122.228561 \nL 267.765794 -116.207373 \nL 280.717438 -116.207373 \nL 280.717438 -113.324706 \nL 293.669082 -113.324706 \nL 293.669082 -110.39546 \nL 306.620727 -110.39546 \nL 306.620727 -106.566861 \nL 319.572371 -106.566861 \nL 319.572371 -104.832977 \nL 332.524015 -104.832977 \nL 332.524015 -99.974299 \nL 345.475659 -99.974299 \nL 345.475659 -98.119724 \nL 358.427303 -98.119724 \nL 358.427303 -94.245912 \nL 371.378947 -94.245912 \nL 371.378947 -91.126415 \nL 384.330591 -91.126415 \nL 384.330591 -90.078842 \nL 397.282235 -90.078842 \nL 397.282235 -86.7394 \nL 410.233879 -86.7394 \nL 410.233879 -82.796161 \nL 423.185523 -82.796161 \nL 423.185523 -80.202829 \nL 436.137168 -80.202829 \nL 436.137168 -79.53084 \nL 449.088812 -79.53084 \nL 449.088812 -75.163737 \nL 462.040456 -75.163737 \nL 462.040456 -72.148123 \nL 474.9921 -72.148123 \nL 474.9921 -71.378632 \nL 487.943744 -71.378632 \nL 487.943744 -69.676816 \nL 500.895388 -69.676816 \nL 500.895388 -68.799448 \nL 513.847032 -68.799448 \nL 513.847032 -67.796013 \nL 539.75032 -67.796013 \nL 539.75032 -65.141859 \nL 552.701964 -65.141859 \nL 552.701964 -63.753794 \nL 565.653609 -63.753794 \nL 565.653609 -63.753794 \nL 591.556897 -63.753794 \nL 591.556897 -63.753794 \nL 643.363473 -63.753794 \nL 643.363473 -63.753794 \nL 656.315117 -63.753794 \nL 656.315117 -63.753794 \nL 656.315117 -78.373614 \nL 656.315117 -78.373614 \nL 656.315117 -78.373614 \nL 643.363473 -78.373614 \nL 643.363473 -78.373614 \nL 591.556897 -78.373614 \nL 591.556897 -78.373614 \nL 565.653609 -78.373614 \nL 565.653609 -78.373614 \nL 552.701964 -78.373614 \nL 552.701964 -79.686268 \nL 539.75032 -79.686268 \nL 539.75032 -82.13236 \nL 513.847032 -82.13236 \nL 513.847032 -83.157574 \nL 500.895388 -83.157574 \nL 500.895388 -84.094459 \nL 487.943744 -84.094459 \nL 487.943744 -85.903008 \nL 474.9921 -85.903008 \nL 474.9921 -86.739916 \nL 462.040456 -86.739916 \nL 462.040456 -89.980548 \nL 449.088812 -89.980548 \nL 449.088812 -94.571164 \nL 436.137168 -94.571164 \nL 436.137168 -95.280446 \nL 423.185523 -95.280446 \nL 423.185523 -98.016699 \nL 410.233879 -98.016699 \nL 410.233879 -102.072091 \nL 397.282235 -102.072091 \nL 397.282235 -105.592284 \nL 384.330591 -105.592284 \nL 384.330591 -106.701804 \nL 371.378947 -106.701804 \nL 371.378947 -109.983652 \nL 358.427303 -109.983652 \nL 358.427303 -114.072322 \nL 345.475659 -114.072322 \nL 345.475659 -116.029441 \nL 332.524015 -116.029441 \nL 332.524015 -121.159072 \nL 319.572371 -121.159072 \nL 319.572371 -122.980534 \nL 306.620727 -122.980534 \nL 306.620727 -126.990114 \nL 293.669082 -126.990114 \nL 293.669082 -130.043649 \nL 280.717438 -130.043649 \nL 280.717438 -133.038724 \nL 267.765794 -133.038724 \nL 267.765794 -139.268155 \nL 254.81415 -139.268155 \nL 254.81415 -146.595157 \nL 241.862506 -146.595157 \nL 241.862506 -152.308307 \nL 228.910862 -152.308307 \nL 228.910862 -159.136969 \nL 215.959218 -159.136969 \nL 215.959218 -165.539894 \nL 203.007574 -165.539894 \nL 203.007574 -175.055099 \nL 190.05593 -175.055099 \nL 190.05593 -193.715283 \nL 177.104286 -193.715283 \nL 177.104286 -209.644949 \nL 164.152641 -209.644949 \nL 164.152641 -233.073758 \nL 151.200997 -233.073758 \nL 151.200997 -272.638595 \nL 138.249353 -272.638595 \nL 138.249353 -306.079319 \nL 125.297709 -306.079319 \nL 125.297709 -339.502342 \nL 112.346065 -339.502342 \nL 112.346065 -375.749188 \nL 99.394421 -375.749188 \nL 99.394421 -396.630789 \nL 86.442777 -396.630789 \nL 86.442777 -399.924747 \nL 73.491133 -399.924747 \nL 73.491133 -400.779886 \nL 60.539489 -400.779886 \nz\n\" id=\"mb684e10a0f\" style=\"stroke:#2ca02c;stroke-opacity:0.25;\"/>\n    </defs>\n    <g clip-path=\"url(#p7943dd669d)\">\n     <use style=\"fill:#2ca02c;fill-opacity:0.25;stroke:#2ca02c;stroke-opacity:0.25;\" x=\"0\" xlink:href=\"#mb684e10a0f\" y=\"440.394375\"/>\n    </g>\n   </g>\n   <g id=\"PolyCollection_4\">\n    <defs>\n     <path d=\"M 60.539489 -400.779886 \nL 60.539489 -400.779886 \nL 138.249353 -400.779886 \nL 138.249353 -400.779886 \nL 151.200997 -400.779886 \nL 151.200997 -399.150112 \nL 164.152641 -399.150112 \nL 164.152641 -395.957822 \nL 177.104286 -395.957822 \nL 177.104286 -390.115162 \nL 190.05593 -390.115162 \nL 190.05593 -379.288825 \nL 203.007574 -379.288825 \nL 203.007574 -371.145578 \nL 215.959218 -371.145578 \nL 215.959218 -367.321785 \nL 228.910862 -367.321785 \nL 228.910862 -363.511395 \nL 241.862506 -363.511395 \nL 241.862506 -359.130982 \nL 254.81415 -359.130982 \nL 254.81415 -352.888081 \nL 267.765794 -352.888081 \nL 267.765794 -348.661505 \nL 280.717438 -348.661505 \nL 280.717438 -343.875264 \nL 293.669082 -343.875264 \nL 293.669082 -337.786007 \nL 306.620727 -337.786007 \nL 306.620727 -332.671494 \nL 319.572371 -332.671494 \nL 319.572371 -326.170416 \nL 332.524015 -326.170416 \nL 332.524015 -318.763225 \nL 345.475659 -318.763225 \nL 345.475659 -309.77779 \nL 358.427303 -309.77779 \nL 358.427303 -300.6095 \nL 371.378947 -300.6095 \nL 371.378947 -297.748538 \nL 384.330591 -297.748538 \nL 384.330591 -291.014598 \nL 397.282235 -291.014598 \nL 397.282235 -286.927284 \nL 410.233879 -286.927284 \nL 410.233879 -280.894512 \nL 423.185523 -280.894512 \nL 423.185523 -274.828683 \nL 436.137168 -274.828683 \nL 436.137168 -271.467126 \nL 449.088812 -271.467126 \nL 449.088812 -267.555926 \nL 462.040456 -267.555926 \nL 462.040456 -262.969946 \nL 474.9921 -262.969946 \nL 474.9921 -257.283372 \nL 487.943744 -257.283372 \nL 487.943744 -251.136855 \nL 500.895388 -251.136855 \nL 500.895388 -244.089994 \nL 513.847032 -244.089994 \nL 513.847032 -231.049398 \nL 526.798676 -231.049398 \nL 526.798676 -227.838 \nL 539.75032 -227.838 \nL 539.75032 -223.638411 \nL 552.701964 -223.638411 \nL 552.701964 -221.184916 \nL 565.653609 -221.184916 \nL 565.653609 -203.442861 \nL 578.605253 -203.442861 \nL 578.605253 -200.426941 \nL 591.556897 -200.426941 \nL 591.556897 -200.426941 \nL 604.508541 -200.426941 \nL 604.508541 -200.426941 \nL 617.460185 -200.426941 \nL 617.460185 -200.426941 \nL 630.411829 -200.426941 \nL 630.411829 -200.426941 \nL 643.363473 -200.426941 \nL 643.363473 -200.426941 \nL 656.315117 -200.426941 \nL 656.315117 -200.426941 \nL 669.266761 -200.426941 \nL 669.266761 -200.426941 \nL 669.266761 -231.669754 \nL 669.266761 -231.669754 \nL 669.266761 -231.669754 \nL 656.315117 -231.669754 \nL 656.315117 -231.669754 \nL 643.363473 -231.669754 \nL 643.363473 -231.669754 \nL 630.411829 -231.669754 \nL 630.411829 -231.669754 \nL 617.460185 -231.669754 \nL 617.460185 -231.669754 \nL 604.508541 -231.669754 \nL 604.508541 -231.669754 \nL 591.556897 -231.669754 \nL 591.556897 -231.669754 \nL 578.605253 -231.669754 \nL 578.605253 -233.614267 \nL 565.653609 -233.614267 \nL 565.653609 -244.071436 \nL 552.701964 -244.071436 \nL 552.701964 -246.214954 \nL 539.75032 -246.214954 \nL 539.75032 -249.983285 \nL 526.798676 -249.983285 \nL 526.798676 -252.894155 \nL 513.847032 -252.894155 \nL 513.847032 -264.730992 \nL 500.895388 -264.730992 \nL 500.895388 -271.122838 \nL 487.943744 -271.122838 \nL 487.943744 -276.694037 \nL 474.9921 -276.694037 \nL 474.9921 -281.86914 \nL 462.040456 -281.86914 \nL 462.040456 -286.032906 \nL 449.088812 -286.032906 \nL 449.088812 -289.592624 \nL 436.137168 -289.592624 \nL 436.137168 -292.652338 \nL 423.185523 -292.652338 \nL 423.185523 -298.169493 \nL 410.233879 -298.169493 \nL 410.233879 -303.612141 \nL 397.282235 -303.612141 \nL 397.282235 -307.407843 \nL 384.330591 -307.407843 \nL 384.330591 -313.683603 \nL 371.378947 -313.683603 \nL 371.378947 -316.344537 \nL 358.427303 -316.344537 \nL 358.427303 -324.850152 \nL 345.475659 -324.850152 \nL 345.475659 -333.124753 \nL 332.524015 -333.124753 \nL 332.524015 -339.905163 \nL 319.572371 -339.905163 \nL 319.572371 -345.816505 \nL 306.620727 -345.816505 \nL 306.620727 -350.439843 \nL 293.669082 -350.439843 \nL 293.669082 -355.903093 \nL 280.717438 -355.903093 \nL 280.717438 -360.1619 \nL 267.765794 -360.1619 \nL 267.765794 -363.897798 \nL 254.81415 -363.897798 \nL 254.81415 -369.349781 \nL 241.862506 -369.349781 \nL 241.862506 -373.173838 \nL 228.910862 -373.173838 \nL 228.910862 -376.479935 \nL 215.959218 -376.479935 \nL 215.959218 -379.758872 \nL 203.007574 -379.758872 \nL 203.007574 -386.57963 \nL 190.05593 -386.57963 \nL 190.05593 -395.092422 \nL 177.104286 -395.092422 \nL 177.104286 -399.080882 \nL 164.152641 -399.080882 \nL 164.152641 -400.677723 \nL 151.200997 -400.677723 \nL 151.200997 -400.779886 \nL 138.249353 -400.779886 \nL 138.249353 -400.779886 \nL 60.539489 -400.779886 \nz\n\" id=\"md02e2dfa32\" style=\"stroke:#d62728;stroke-opacity:0.25;\"/>\n    </defs>\n    <g clip-path=\"url(#p7943dd669d)\">\n     <use style=\"fill:#d62728;fill-opacity:0.25;stroke:#d62728;stroke-opacity:0.25;\" x=\"0\" xlink:href=\"#md02e2dfa32\" y=\"440.394375\"/>\n    </g>\n   </g>\n   <g id=\"matplotlib.axis_1\">\n    <g id=\"xtick_1\">\n     <g id=\"line2d_1\">\n      <defs>\n       <path d=\"M 0 0 \nL 0 3.5 \n\" id=\"m27b3b3e591\" style=\"stroke:#000000;stroke-width:0.8;\"/>\n      </defs>\n      <g>\n       <use style=\"stroke:#000000;stroke-width:0.8;\" x=\"60.539489\" xlink:href=\"#m27b3b3e591\" y=\"402.838125\"/>\n      </g>\n     </g>\n     <g id=\"text_1\">\n      <!-- 0 -->\n      <g transform=\"translate(57.358239 417.436562)scale(0.1 -0.1)\">\n       <defs>\n        <path d=\"M 2034 4250 \nQ 1547 4250 1301 3770 \nQ 1056 3291 1056 2328 \nQ 1056 1369 1301 889 \nQ 1547 409 2034 409 \nQ 2525 409 2770 889 \nQ 3016 1369 3016 2328 \nQ 3016 3291 2770 3770 \nQ 2525 4250 2034 4250 \nz\nM 2034 4750 \nQ 2819 4750 3233 4129 \nQ 3647 3509 3647 2328 \nQ 3647 1150 3233 529 \nQ 2819 -91 2034 -91 \nQ 1250 -91 836 529 \nQ 422 1150 422 2328 \nQ 422 3509 836 4129 \nQ 1250 4750 2034 4750 \nz\n\" id=\"DejaVuSans-30\" transform=\"scale(0.015625)\"/>\n       </defs>\n       <use xlink:href=\"#DejaVuSans-30\"/>\n      </g>\n     </g>\n    </g>\n    <g id=\"xtick_2\">\n     <g id=\"line2d_2\">\n      <g>\n       <use style=\"stroke:#000000;stroke-width:0.8;\" x=\"190.05593\" xlink:href=\"#m27b3b3e591\" y=\"402.838125\"/>\n      </g>\n     </g>\n     <g id=\"text_2\">\n      <!-- 10 -->\n      <g transform=\"translate(183.69343 417.436562)scale(0.1 -0.1)\">\n       <defs>\n        <path d=\"M 794 531 \nL 1825 531 \nL 1825 4091 \nL 703 3866 \nL 703 4441 \nL 1819 4666 \nL 2450 4666 \nL 2450 531 \nL 3481 531 \nL 3481 0 \nL 794 0 \nL 794 531 \nz\n\" id=\"DejaVuSans-31\" transform=\"scale(0.015625)\"/>\n       </defs>\n       <use xlink:href=\"#DejaVuSans-31\"/>\n       <use x=\"63.623047\" xlink:href=\"#DejaVuSans-30\"/>\n      </g>\n     </g>\n    </g>\n    <g id=\"xtick_3\">\n     <g id=\"line2d_3\">\n      <g>\n       <use style=\"stroke:#000000;stroke-width:0.8;\" x=\"319.572371\" xlink:href=\"#m27b3b3e591\" y=\"402.838125\"/>\n      </g>\n     </g>\n     <g id=\"text_3\">\n      <!-- 20 -->\n      <g transform=\"translate(313.209871 417.436562)scale(0.1 -0.1)\">\n       <defs>\n        <path d=\"M 1228 531 \nL 3431 531 \nL 3431 0 \nL 469 0 \nL 469 531 \nQ 828 903 1448 1529 \nQ 2069 2156 2228 2338 \nQ 2531 2678 2651 2914 \nQ 2772 3150 2772 3378 \nQ 2772 3750 2511 3984 \nQ 2250 4219 1831 4219 \nQ 1534 4219 1204 4116 \nQ 875 4013 500 3803 \nL 500 4441 \nQ 881 4594 1212 4672 \nQ 1544 4750 1819 4750 \nQ 2544 4750 2975 4387 \nQ 3406 4025 3406 3419 \nQ 3406 3131 3298 2873 \nQ 3191 2616 2906 2266 \nQ 2828 2175 2409 1742 \nQ 1991 1309 1228 531 \nz\n\" id=\"DejaVuSans-32\" transform=\"scale(0.015625)\"/>\n       </defs>\n       <use xlink:href=\"#DejaVuSans-32\"/>\n       <use x=\"63.623047\" xlink:href=\"#DejaVuSans-30\"/>\n      </g>\n     </g>\n    </g>\n    <g id=\"xtick_4\">\n     <g id=\"line2d_4\">\n      <g>\n       <use style=\"stroke:#000000;stroke-width:0.8;\" x=\"449.088812\" xlink:href=\"#m27b3b3e591\" y=\"402.838125\"/>\n      </g>\n     </g>\n     <g id=\"text_4\">\n      <!-- 30 -->\n      <g transform=\"translate(442.726312 417.436562)scale(0.1 -0.1)\">\n       <defs>\n        <path d=\"M 2597 2516 \nQ 3050 2419 3304 2112 \nQ 3559 1806 3559 1356 \nQ 3559 666 3084 287 \nQ 2609 -91 1734 -91 \nQ 1441 -91 1130 -33 \nQ 819 25 488 141 \nL 488 750 \nQ 750 597 1062 519 \nQ 1375 441 1716 441 \nQ 2309 441 2620 675 \nQ 2931 909 2931 1356 \nQ 2931 1769 2642 2001 \nQ 2353 2234 1838 2234 \nL 1294 2234 \nL 1294 2753 \nL 1863 2753 \nQ 2328 2753 2575 2939 \nQ 2822 3125 2822 3475 \nQ 2822 3834 2567 4026 \nQ 2313 4219 1838 4219 \nQ 1578 4219 1281 4162 \nQ 984 4106 628 3988 \nL 628 4550 \nQ 988 4650 1302 4700 \nQ 1616 4750 1894 4750 \nQ 2613 4750 3031 4423 \nQ 3450 4097 3450 3541 \nQ 3450 3153 3228 2886 \nQ 3006 2619 2597 2516 \nz\n\" id=\"DejaVuSans-33\" transform=\"scale(0.015625)\"/>\n       </defs>\n       <use xlink:href=\"#DejaVuSans-33\"/>\n       <use x=\"63.623047\" xlink:href=\"#DejaVuSans-30\"/>\n      </g>\n     </g>\n    </g>\n    <g id=\"xtick_5\">\n     <g id=\"line2d_5\">\n      <g>\n       <use style=\"stroke:#000000;stroke-width:0.8;\" x=\"578.605253\" xlink:href=\"#m27b3b3e591\" y=\"402.838125\"/>\n      </g>\n     </g>\n     <g id=\"text_5\">\n      <!-- 40 -->\n      <g transform=\"translate(572.242753 417.436562)scale(0.1 -0.1)\">\n       <defs>\n        <path d=\"M 2419 4116 \nL 825 1625 \nL 2419 1625 \nL 2419 4116 \nz\nM 2253 4666 \nL 3047 4666 \nL 3047 1625 \nL 3713 1625 \nL 3713 1100 \nL 3047 1100 \nL 3047 0 \nL 2419 0 \nL 2419 1100 \nL 313 1100 \nL 313 1709 \nL 2253 4666 \nz\n\" id=\"DejaVuSans-34\" transform=\"scale(0.015625)\"/>\n       </defs>\n       <use xlink:href=\"#DejaVuSans-34\"/>\n       <use x=\"63.623047\" xlink:href=\"#DejaVuSans-30\"/>\n      </g>\n     </g>\n    </g>\n    <g id=\"text_6\">\n     <!-- timeline -->\n     <g transform=\"translate(344.583594 431.114687)scale(0.1 -0.1)\">\n      <defs>\n       <path d=\"M 1172 4494 \nL 1172 3500 \nL 2356 3500 \nL 2356 3053 \nL 1172 3053 \nL 1172 1153 \nQ 1172 725 1289 603 \nQ 1406 481 1766 481 \nL 2356 481 \nL 2356 0 \nL 1766 0 \nQ 1100 0 847 248 \nQ 594 497 594 1153 \nL 594 3053 \nL 172 3053 \nL 172 3500 \nL 594 3500 \nL 594 4494 \nL 1172 4494 \nz\n\" id=\"DejaVuSans-74\" transform=\"scale(0.015625)\"/>\n       <path d=\"M 603 3500 \nL 1178 3500 \nL 1178 0 \nL 603 0 \nL 603 3500 \nz\nM 603 4863 \nL 1178 4863 \nL 1178 4134 \nL 603 4134 \nL 603 4863 \nz\n\" id=\"DejaVuSans-69\" transform=\"scale(0.015625)\"/>\n       <path d=\"M 3328 2828 \nQ 3544 3216 3844 3400 \nQ 4144 3584 4550 3584 \nQ 5097 3584 5394 3201 \nQ 5691 2819 5691 2113 \nL 5691 0 \nL 5113 0 \nL 5113 2094 \nQ 5113 2597 4934 2840 \nQ 4756 3084 4391 3084 \nQ 3944 3084 3684 2787 \nQ 3425 2491 3425 1978 \nL 3425 0 \nL 2847 0 \nL 2847 2094 \nQ 2847 2600 2669 2842 \nQ 2491 3084 2119 3084 \nQ 1678 3084 1418 2786 \nQ 1159 2488 1159 1978 \nL 1159 0 \nL 581 0 \nL 581 3500 \nL 1159 3500 \nL 1159 2956 \nQ 1356 3278 1631 3431 \nQ 1906 3584 2284 3584 \nQ 2666 3584 2933 3390 \nQ 3200 3197 3328 2828 \nz\n\" id=\"DejaVuSans-6d\" transform=\"scale(0.015625)\"/>\n       <path d=\"M 3597 1894 \nL 3597 1613 \nL 953 1613 \nQ 991 1019 1311 708 \nQ 1631 397 2203 397 \nQ 2534 397 2845 478 \nQ 3156 559 3463 722 \nL 3463 178 \nQ 3153 47 2828 -22 \nQ 2503 -91 2169 -91 \nQ 1331 -91 842 396 \nQ 353 884 353 1716 \nQ 353 2575 817 3079 \nQ 1281 3584 2069 3584 \nQ 2775 3584 3186 3129 \nQ 3597 2675 3597 1894 \nz\nM 3022 2063 \nQ 3016 2534 2758 2815 \nQ 2500 3097 2075 3097 \nQ 1594 3097 1305 2825 \nQ 1016 2553 972 2059 \nL 3022 2063 \nz\n\" id=\"DejaVuSans-65\" transform=\"scale(0.015625)\"/>\n       <path d=\"M 603 4863 \nL 1178 4863 \nL 1178 0 \nL 603 0 \nL 603 4863 \nz\n\" id=\"DejaVuSans-6c\" transform=\"scale(0.015625)\"/>\n       <path d=\"M 3513 2113 \nL 3513 0 \nL 2938 0 \nL 2938 2094 \nQ 2938 2591 2744 2837 \nQ 2550 3084 2163 3084 \nQ 1697 3084 1428 2787 \nQ 1159 2491 1159 1978 \nL 1159 0 \nL 581 0 \nL 581 3500 \nL 1159 3500 \nL 1159 2956 \nQ 1366 3272 1645 3428 \nQ 1925 3584 2291 3584 \nQ 2894 3584 3203 3211 \nQ 3513 2838 3513 2113 \nz\n\" id=\"DejaVuSans-6e\" transform=\"scale(0.015625)\"/>\n      </defs>\n      <use xlink:href=\"#DejaVuSans-74\"/>\n      <use x=\"39.208984\" xlink:href=\"#DejaVuSans-69\"/>\n      <use x=\"66.992188\" xlink:href=\"#DejaVuSans-6d\"/>\n      <use x=\"164.404297\" xlink:href=\"#DejaVuSans-65\"/>\n      <use x=\"225.927734\" xlink:href=\"#DejaVuSans-6c\"/>\n      <use x=\"253.710938\" xlink:href=\"#DejaVuSans-69\"/>\n      <use x=\"281.494141\" xlink:href=\"#DejaVuSans-6e\"/>\n      <use x=\"344.873047\" xlink:href=\"#DejaVuSans-65\"/>\n     </g>\n    </g>\n   </g>\n   <g id=\"matplotlib.axis_2\">\n    <g id=\"ytick_1\">\n     <g id=\"line2d_6\">\n      <defs>\n       <path d=\"M 0 0 \nL -3.5 0 \n\" id=\"m78ee56cd15\" style=\"stroke:#000000;stroke-width:0.8;\"/>\n      </defs>\n      <g>\n       <use style=\"stroke:#000000;stroke-width:0.8;\" x=\"30.103125\" xlink:href=\"#m78ee56cd15\" y=\"390.15311\"/>\n      </g>\n     </g>\n     <g id=\"text_7\">\n      <!-- 0.0 -->\n      <g transform=\"translate(7.2 393.952328)scale(0.1 -0.1)\">\n       <defs>\n        <path d=\"M 684 794 \nL 1344 794 \nL 1344 0 \nL 684 0 \nL 684 794 \nz\n\" id=\"DejaVuSans-2e\" transform=\"scale(0.015625)\"/>\n       </defs>\n       <use xlink:href=\"#DejaVuSans-30\"/>\n       <use x=\"63.623047\" xlink:href=\"#DejaVuSans-2e\"/>\n       <use x=\"95.410156\" xlink:href=\"#DejaVuSans-30\"/>\n      </g>\n     </g>\n    </g>\n    <g id=\"ytick_2\">\n     <g id=\"line2d_7\">\n      <g>\n       <use style=\"stroke:#000000;stroke-width:0.8;\" x=\"30.103125\" xlink:href=\"#m78ee56cd15\" y=\"320.045386\"/>\n      </g>\n     </g>\n     <g id=\"text_8\">\n      <!-- 0.2 -->\n      <g transform=\"translate(7.2 323.844604)scale(0.1 -0.1)\">\n       <use xlink:href=\"#DejaVuSans-30\"/>\n       <use x=\"63.623047\" xlink:href=\"#DejaVuSans-2e\"/>\n       <use x=\"95.410156\" xlink:href=\"#DejaVuSans-32\"/>\n      </g>\n     </g>\n    </g>\n    <g id=\"ytick_3\">\n     <g id=\"line2d_8\">\n      <g>\n       <use style=\"stroke:#000000;stroke-width:0.8;\" x=\"30.103125\" xlink:href=\"#m78ee56cd15\" y=\"249.937661\"/>\n      </g>\n     </g>\n     <g id=\"text_9\">\n      <!-- 0.4 -->\n      <g transform=\"translate(7.2 253.73688)scale(0.1 -0.1)\">\n       <use xlink:href=\"#DejaVuSans-30\"/>\n       <use x=\"63.623047\" xlink:href=\"#DejaVuSans-2e\"/>\n       <use x=\"95.410156\" xlink:href=\"#DejaVuSans-34\"/>\n      </g>\n     </g>\n    </g>\n    <g id=\"ytick_4\">\n     <g id=\"line2d_9\">\n      <g>\n       <use style=\"stroke:#000000;stroke-width:0.8;\" x=\"30.103125\" xlink:href=\"#m78ee56cd15\" y=\"179.829937\"/>\n      </g>\n     </g>\n     <g id=\"text_10\">\n      <!-- 0.6 -->\n      <g transform=\"translate(7.2 183.629156)scale(0.1 -0.1)\">\n       <defs>\n        <path d=\"M 2113 2584 \nQ 1688 2584 1439 2293 \nQ 1191 2003 1191 1497 \nQ 1191 994 1439 701 \nQ 1688 409 2113 409 \nQ 2538 409 2786 701 \nQ 3034 994 3034 1497 \nQ 3034 2003 2786 2293 \nQ 2538 2584 2113 2584 \nz\nM 3366 4563 \nL 3366 3988 \nQ 3128 4100 2886 4159 \nQ 2644 4219 2406 4219 \nQ 1781 4219 1451 3797 \nQ 1122 3375 1075 2522 \nQ 1259 2794 1537 2939 \nQ 1816 3084 2150 3084 \nQ 2853 3084 3261 2657 \nQ 3669 2231 3669 1497 \nQ 3669 778 3244 343 \nQ 2819 -91 2113 -91 \nQ 1303 -91 875 529 \nQ 447 1150 447 2328 \nQ 447 3434 972 4092 \nQ 1497 4750 2381 4750 \nQ 2619 4750 2861 4703 \nQ 3103 4656 3366 4563 \nz\n\" id=\"DejaVuSans-36\" transform=\"scale(0.015625)\"/>\n       </defs>\n       <use xlink:href=\"#DejaVuSans-30\"/>\n       <use x=\"63.623047\" xlink:href=\"#DejaVuSans-2e\"/>\n       <use x=\"95.410156\" xlink:href=\"#DejaVuSans-36\"/>\n      </g>\n     </g>\n    </g>\n    <g id=\"ytick_5\">\n     <g id=\"line2d_10\">\n      <g>\n       <use style=\"stroke:#000000;stroke-width:0.8;\" x=\"30.103125\" xlink:href=\"#m78ee56cd15\" y=\"109.722213\"/>\n      </g>\n     </g>\n     <g id=\"text_11\">\n      <!-- 0.8 -->\n      <g transform=\"translate(7.2 113.521432)scale(0.1 -0.1)\">\n       <defs>\n        <path d=\"M 2034 2216 \nQ 1584 2216 1326 1975 \nQ 1069 1734 1069 1313 \nQ 1069 891 1326 650 \nQ 1584 409 2034 409 \nQ 2484 409 2743 651 \nQ 3003 894 3003 1313 \nQ 3003 1734 2745 1975 \nQ 2488 2216 2034 2216 \nz\nM 1403 2484 \nQ 997 2584 770 2862 \nQ 544 3141 544 3541 \nQ 544 4100 942 4425 \nQ 1341 4750 2034 4750 \nQ 2731 4750 3128 4425 \nQ 3525 4100 3525 3541 \nQ 3525 3141 3298 2862 \nQ 3072 2584 2669 2484 \nQ 3125 2378 3379 2068 \nQ 3634 1759 3634 1313 \nQ 3634 634 3220 271 \nQ 2806 -91 2034 -91 \nQ 1263 -91 848 271 \nQ 434 634 434 1313 \nQ 434 1759 690 2068 \nQ 947 2378 1403 2484 \nz\nM 1172 3481 \nQ 1172 3119 1398 2916 \nQ 1625 2713 2034 2713 \nQ 2441 2713 2670 2916 \nQ 2900 3119 2900 3481 \nQ 2900 3844 2670 4047 \nQ 2441 4250 2034 4250 \nQ 1625 4250 1398 4047 \nQ 1172 3844 1172 3481 \nz\n\" id=\"DejaVuSans-38\" transform=\"scale(0.015625)\"/>\n       </defs>\n       <use xlink:href=\"#DejaVuSans-30\"/>\n       <use x=\"63.623047\" xlink:href=\"#DejaVuSans-2e\"/>\n       <use x=\"95.410156\" xlink:href=\"#DejaVuSans-38\"/>\n      </g>\n     </g>\n    </g>\n    <g id=\"ytick_6\">\n     <g id=\"line2d_11\">\n      <g>\n       <use style=\"stroke:#000000;stroke-width:0.8;\" x=\"30.103125\" xlink:href=\"#m78ee56cd15\" y=\"39.614489\"/>\n      </g>\n     </g>\n     <g id=\"text_12\">\n      <!-- 1.0 -->\n      <g transform=\"translate(7.2 43.413707)scale(0.1 -0.1)\">\n       <use xlink:href=\"#DejaVuSans-31\"/>\n       <use x=\"63.623047\" xlink:href=\"#DejaVuSans-2e\"/>\n       <use x=\"95.410156\" xlink:href=\"#DejaVuSans-30\"/>\n      </g>\n     </g>\n    </g>\n   </g>\n   <g id=\"line2d_12\">\n    <path clip-path=\"url(#p7943dd669d)\" d=\"M 60.539489 40.633496 \nL 73.491133 40.633496 \nL 73.491133 49.600763 \nL 86.442777 49.600763 \nL 86.442777 96.368252 \nL 99.394421 96.368252 \nL 99.394421 185.344644 \nL 112.346065 185.344644 \nL 112.346065 228.490961 \nL 125.297709 228.490961 \nL 125.297709 262.993726 \nL 138.249353 262.993726 \nL 138.249353 285.933392 \nL 151.200997 285.933392 \nL 151.200997 321.15446 \nL 164.152641 321.15446 \nL 164.152641 326.439463 \nL 177.104286 326.439463 \nL 177.104286 331.798555 \nL 190.05593 331.798555 \nL 190.05593 338.148014 \nL 203.007574 338.148014 \nL 203.007574 345.758516 \nL 215.959218 345.758516 \nL 215.959218 347.593003 \nL 228.910862 347.593003 \nL 228.910862 349.510125 \nL 241.862506 349.510125 \nL 241.862506 352.69781 \nL 254.81415 352.69781 \nL 254.81415 355.373189 \nL 267.765794 355.373189 \nL 267.765794 358.083313 \nL 280.717438 358.083313 \nL 280.717438 359.438374 \nL 293.669082 359.438374 \nL 293.669082 362.647377 \nL 306.620727 362.647377 \nL 306.620727 363.113575 \nL 319.572371 363.113575 \nL 319.572371 364.512172 \nL 332.524015 364.512172 \nL 332.524015 365.44457 \nL 345.475659 365.44457 \nL 345.475659 368.903765 \nL 358.427303 368.903765 \nL 358.427303 369.397936 \nL 371.378947 369.397936 \nL 371.378947 369.90416 \nL 384.330591 369.90416 \nL 384.330591 369.90416 \nL 397.282235 369.90416 \nL 397.282235 371.591572 \nL 410.233879 371.591572 \nL 410.233879 372.917397 \nL 423.185523 372.917397 \nL 423.185523 374.353706 \nL 449.088812 374.353706 \nL 449.088812 375.106059 \nL 474.9921 375.106059 \nL 474.9921 379.065809 \nL 487.943744 379.065809 \nL 487.943744 380.649709 \nL 513.847032 380.649709 \nL 513.847032 380.649709 \nL 526.798676 380.649709 \nL 526.798676 381.837634 \nL 539.75032 381.837634 \nL 539.75032 381.837634 \nL 552.701964 381.837634 \nL 552.701964 381.837634 \nL 643.363473 381.837634 \nL 643.363473 381.837634 \nL 669.266761 381.837634 \nL 669.266761 381.837634 \n\" style=\"fill:none;stroke:#1f77b4;stroke-linecap:square;stroke-width:1.5;\"/>\n   </g>\n   <g id=\"line2d_13\">\n    <path clip-path=\"url(#p7943dd669d)\" d=\"M 60.539489 39.614489 \nL 86.442777 39.614489 \nL 86.442777 39.614489 \nL 99.394421 39.614489 \nL 99.394421 41.51844 \nL 112.346065 41.51844 \nL 112.346065 47.018744 \nL 125.297709 47.018744 \nL 125.297709 54.855764 \nL 138.249353 54.855764 \nL 138.249353 67.841883 \nL 151.200997 67.841883 \nL 151.200997 85.605384 \nL 164.152641 85.605384 \nL 164.152641 103.673619 \nL 177.104286 103.673619 \nL 177.104286 123.009318 \nL 190.05593 123.009318 \nL 190.05593 146.109937 \nL 203.007574 146.109937 \nL 203.007574 159.968019 \nL 215.959218 159.968019 \nL 215.959218 166.849841 \nL 228.910862 166.849841 \nL 228.910862 178.500446 \nL 241.862506 178.500446 \nL 241.862506 186.700065 \nL 254.81415 186.700065 \nL 254.81415 204.348202 \nL 267.765794 204.348202 \nL 267.765794 213.036921 \nL 280.717438 213.036921 \nL 280.717438 222.818485 \nL 293.669082 222.818485 \nL 293.669082 234.745143 \nL 306.620727 234.745143 \nL 306.620727 242.92451 \nL 319.572371 242.92451 \nL 319.572371 247.175204 \nL 332.524015 247.175204 \nL 332.524015 254.892762 \nL 345.475659 254.892762 \nL 345.475659 263.797048 \nL 358.427303 263.797048 \nL 358.427303 268.309764 \nL 371.378947 268.309764 \nL 371.378947 271.721378 \nL 384.330591 271.721378 \nL 384.330591 275.736013 \nL 397.282235 275.736013 \nL 397.282235 282.182047 \nL 410.233879 282.182047 \nL 410.233879 293.173113 \nL 423.185523 293.173113 \nL 423.185523 297.13148 \nL 436.137168 297.13148 \nL 436.137168 302.603341 \nL 449.088812 302.603341 \nL 449.088812 306.133573 \nL 462.040456 306.133573 \nL 462.040456 311.432103 \nL 474.9921 311.432103 \nL 474.9921 312.278565 \nL 487.943744 312.278565 \nL 487.943744 318.544333 \nL 500.895388 318.544333 \nL 500.895388 325.227819 \nL 513.847032 325.227819 \nL 513.847032 329.35006 \nL 526.798676 329.35006 \nL 526.798676 329.35006 \nL 539.75032 329.35006 \nL 539.75032 330.566121 \nL 552.701964 330.566121 \nL 552.701964 331.92037 \nL 565.653609 331.92037 \nL 565.653609 334.693358 \nL 578.605253 334.693358 \nL 578.605253 334.693358 \nL 591.556897 334.693358 \nL 591.556897 334.693358 \nL 604.508541 334.693358 \nL 604.508541 334.693358 \nL 617.460185 334.693358 \nL 617.460185 334.693358 \nL 643.363473 334.693358 \nL 643.363473 334.693358 \nL 656.315117 334.693358 \nL 656.315117 334.693358 \nL 669.266761 334.693358 \nL 669.266761 334.693358 \n\" style=\"fill:none;stroke:#ff7f0e;stroke-linecap:square;stroke-width:1.5;\"/>\n   </g>\n   <g id=\"line2d_14\">\n    <path clip-path=\"url(#p7943dd669d)\" d=\"M 60.539489 39.614489 \nL 73.491133 39.614489 \nL 73.491133 41.32235 \nL 86.442777 41.32235 \nL 86.442777 45.607741 \nL 99.394421 45.607741 \nL 99.394421 69.267508 \nL 112.346065 69.267508 \nL 112.346065 107.744183 \nL 125.297709 107.744183 \nL 125.297709 142.355579 \nL 138.249353 142.355579 \nL 138.249353 176.534549 \nL 151.200997 176.534549 \nL 151.200997 216.520938 \nL 164.152641 216.520938 \nL 164.152641 239.984745 \nL 177.104286 239.984745 \nL 177.104286 255.884925 \nL 190.05593 255.884925 \nL 190.05593 274.415149 \nL 203.007574 274.415149 \nL 203.007574 283.82474 \nL 215.959218 283.82474 \nL 215.959218 290.157777 \nL 228.910862 290.157777 \nL 228.910862 296.89147 \nL 241.862506 296.89147 \nL 241.862506 302.522361 \nL 254.81415 302.522361 \nL 254.81415 309.791271 \nL 267.765794 309.791271 \nL 267.765794 315.941412 \nL 280.717438 315.941412 \nL 280.717438 318.893013 \nL 293.669082 318.893013 \nL 293.669082 321.897957 \nL 306.620727 321.897957 \nL 306.620727 325.835755 \nL 319.572371 325.835755 \nL 319.572371 327.622348 \nL 332.524015 327.622348 \nL 332.524015 332.643066 \nL 345.475659 332.643066 \nL 345.475659 334.560067 \nL 358.427303 334.560067 \nL 358.427303 338.566773 \nL 371.378947 338.566773 \nL 371.378947 341.790919 \nL 384.330591 341.790919 \nL 384.330591 342.87771 \nL 397.282235 342.87771 \nL 397.282235 346.336886 \nL 410.233879 346.336886 \nL 410.233879 350.38146 \nL 423.185523 350.38146 \nL 423.185523 353.077843 \nL 436.137168 353.077843 \nL 436.137168 353.777376 \nL 449.088812 353.777376 \nL 449.088812 358.324343 \nL 462.040456 358.324343 \nL 462.040456 361.50722 \nL 474.9921 361.50722 \nL 474.9921 362.325674 \nL 487.943744 362.325674 \nL 487.943744 364.120992 \nL 500.895388 364.120992 \nL 500.895388 365.050711 \nL 513.847032 365.050711 \nL 513.847032 366.096644 \nL 539.75032 366.096644 \nL 539.75032 368.769585 \nL 552.701964 368.769585 \nL 552.701964 370.195153 \nL 565.653609 370.195153 \nL 565.653609 370.195153 \nL 591.556897 370.195153 \nL 591.556897 370.195153 \nL 643.363473 370.195153 \nL 643.363473 370.195153 \nL 656.315117 370.195153 \nL 656.315117 370.195153 \n\" style=\"fill:none;stroke:#2ca02c;stroke-linecap:square;stroke-width:1.5;\"/>\n   </g>\n   <g id=\"line2d_15\">\n    <path clip-path=\"url(#p7943dd669d)\" d=\"M 60.539489 39.614489 \nL 138.249353 39.614489 \nL 138.249353 39.614489 \nL 151.200997 39.614489 \nL 151.200997 40.022804 \nL 164.152641 40.022804 \nL 164.152641 42.478423 \nL 177.104286 42.478423 \nL 177.104286 47.407066 \nL 190.05593 47.407066 \nL 190.05593 57.093815 \nL 203.007574 57.093815 \nL 203.007574 64.587649 \nL 215.959218 64.587649 \nL 215.959218 68.144598 \nL 228.910862 68.144598 \nL 228.910862 71.708494 \nL 241.862506 71.708494 \nL 241.862506 75.816062 \nL 254.81415 75.816062 \nL 254.81415 81.667459 \nL 267.765794 81.667459 \nL 267.765794 85.652456 \nL 280.717438 85.652456 \nL 280.717438 90.179461 \nL 293.669082 90.179461 \nL 293.669082 95.962086 \nL 306.620727 95.962086 \nL 306.620727 100.836834 \nL 319.572371 100.836834 \nL 319.572371 107.050671 \nL 332.524015 107.050671 \nL 332.524015 114.1536 \nL 345.475659 114.1536 \nL 345.475659 122.794951 \nL 358.427303 122.794951 \nL 358.427303 131.644318 \nL 371.378947 131.644318 \nL 371.378947 134.409118 \nL 384.330591 134.409118 \nL 384.330591 140.923084 \nL 397.282235 140.923084 \nL 397.282235 144.86948 \nL 410.233879 144.86948 \nL 410.233879 150.609346 \nL 423.185523 150.609346 \nL 423.185523 156.40476 \nL 436.137168 156.40476 \nL 436.137168 159.617795 \nL 449.088812 159.617795 \nL 449.088812 163.356206 \nL 462.040456 163.356206 \nL 462.040456 167.734525 \nL 474.9921 167.734525 \nL 474.9921 173.170417 \nL 487.943744 173.170417 \nL 487.943744 179.034814 \nL 500.895388 179.034814 \nL 500.895388 185.761622 \nL 513.847032 185.761622 \nL 513.847032 198.217613 \nL 526.798676 198.217613 \nL 526.798676 201.283675 \nL 539.75032 201.283675 \nL 539.75032 205.273875 \nL 552.701964 205.273875 \nL 552.701964 207.575276 \nL 565.653609 207.575276 \nL 565.653609 221.619725 \nL 578.605253 221.619725 \nL 578.605253 224.098157 \nL 591.556897 224.098157 \nL 591.556897 224.098157 \nL 604.508541 224.098157 \nL 604.508541 224.098157 \nL 617.460185 224.098157 \nL 617.460185 224.098157 \nL 630.411829 224.098157 \nL 630.411829 224.098157 \nL 643.363473 224.098157 \nL 643.363473 224.098157 \nL 656.315117 224.098157 \nL 656.315117 224.098157 \nL 669.266761 224.098157 \nL 669.266761 224.098157 \n\" style=\"fill:none;stroke:#d62728;stroke-linecap:square;stroke-width:1.5;\"/>\n   </g>\n   <g id=\"patch_3\">\n    <path d=\"M 30.103125 402.838125 \nL 30.103125 22.318125 \n\" style=\"fill:none;stroke:#000000;stroke-linecap:square;stroke-linejoin:miter;stroke-width:0.8;\"/>\n   </g>\n   <g id=\"patch_4\">\n    <path d=\"M 699.703125 402.838125 \nL 699.703125 22.318125 \n\" style=\"fill:none;stroke:#000000;stroke-linecap:square;stroke-linejoin:miter;stroke-width:0.8;\"/>\n   </g>\n   <g id=\"patch_5\">\n    <path d=\"M 30.103125 402.838125 \nL 699.703125 402.838125 \n\" style=\"fill:none;stroke:#000000;stroke-linecap:square;stroke-linejoin:miter;stroke-width:0.8;\"/>\n   </g>\n   <g id=\"patch_6\">\n    <path d=\"M 30.103125 22.318125 \nL 699.703125 22.318125 \n\" style=\"fill:none;stroke:#000000;stroke-linecap:square;stroke-linejoin:miter;stroke-width:0.8;\"/>\n   </g>\n   <g id=\"text_13\">\n    <!-- nentries -->\n    <g transform=\"translate(340.303125 16.318125)scale(0.12 -0.12)\">\n     <defs>\n      <path d=\"M 2631 2963 \nQ 2534 3019 2420 3045 \nQ 2306 3072 2169 3072 \nQ 1681 3072 1420 2755 \nQ 1159 2438 1159 1844 \nL 1159 0 \nL 581 0 \nL 581 3500 \nL 1159 3500 \nL 1159 2956 \nQ 1341 3275 1631 3429 \nQ 1922 3584 2338 3584 \nQ 2397 3584 2469 3576 \nQ 2541 3569 2628 3553 \nL 2631 2963 \nz\n\" id=\"DejaVuSans-72\" transform=\"scale(0.015625)\"/>\n      <path d=\"M 2834 3397 \nL 2834 2853 \nQ 2591 2978 2328 3040 \nQ 2066 3103 1784 3103 \nQ 1356 3103 1142 2972 \nQ 928 2841 928 2578 \nQ 928 2378 1081 2264 \nQ 1234 2150 1697 2047 \nL 1894 2003 \nQ 2506 1872 2764 1633 \nQ 3022 1394 3022 966 \nQ 3022 478 2636 193 \nQ 2250 -91 1575 -91 \nQ 1294 -91 989 -36 \nQ 684 19 347 128 \nL 347 722 \nQ 666 556 975 473 \nQ 1284 391 1588 391 \nQ 1994 391 2212 530 \nQ 2431 669 2431 922 \nQ 2431 1156 2273 1281 \nQ 2116 1406 1581 1522 \nL 1381 1569 \nQ 847 1681 609 1914 \nQ 372 2147 372 2553 \nQ 372 3047 722 3315 \nQ 1072 3584 1716 3584 \nQ 2034 3584 2315 3537 \nQ 2597 3491 2834 3397 \nz\n\" id=\"DejaVuSans-73\" transform=\"scale(0.015625)\"/>\n     </defs>\n     <use xlink:href=\"#DejaVuSans-6e\"/>\n     <use x=\"63.378906\" xlink:href=\"#DejaVuSans-65\"/>\n     <use x=\"124.902344\" xlink:href=\"#DejaVuSans-6e\"/>\n     <use x=\"188.28125\" xlink:href=\"#DejaVuSans-74\"/>\n     <use x=\"227.490234\" xlink:href=\"#DejaVuSans-72\"/>\n     <use x=\"268.603516\" xlink:href=\"#DejaVuSans-69\"/>\n     <use x=\"296.386719\" xlink:href=\"#DejaVuSans-65\"/>\n     <use x=\"357.910156\" xlink:href=\"#DejaVuSans-73\"/>\n    </g>\n   </g>\n   <g id=\"legend_1\">\n    <g id=\"patch_7\">\n     <path d=\"M 593 89.030625 \nL 692.703125 89.030625 \nQ 694.703125 89.030625 694.703125 87.030625 \nL 694.703125 29.318125 \nQ 694.703125 27.318125 692.703125 27.318125 \nL 593 27.318125 \nQ 591 27.318125 591 29.318125 \nL 591 87.030625 \nQ 591 89.030625 593 89.030625 \nz\n\" style=\"fill:#ffffff;opacity:0.8;stroke:#cccccc;stroke-linejoin:miter;\"/>\n    </g>\n    <g id=\"line2d_16\">\n     <path d=\"M 595 35.416562 \nL 615 35.416562 \n\" style=\"fill:none;stroke:#1f77b4;stroke-linecap:square;stroke-width:1.5;\"/>\n    </g>\n    <g id=\"line2d_17\"/>\n    <g id=\"text_14\">\n     <!-- until 6 -->\n     <g transform=\"translate(623 38.916562)scale(0.1 -0.1)\">\n      <defs>\n       <path d=\"M 544 1381 \nL 544 3500 \nL 1119 3500 \nL 1119 1403 \nQ 1119 906 1312 657 \nQ 1506 409 1894 409 \nQ 2359 409 2629 706 \nQ 2900 1003 2900 1516 \nL 2900 3500 \nL 3475 3500 \nL 3475 0 \nL 2900 0 \nL 2900 538 \nQ 2691 219 2414 64 \nQ 2138 -91 1772 -91 \nQ 1169 -91 856 284 \nQ 544 659 544 1381 \nz\nM 1991 3584 \nL 1991 3584 \nz\n\" id=\"DejaVuSans-75\" transform=\"scale(0.015625)\"/>\n       <path id=\"DejaVuSans-20\" transform=\"scale(0.015625)\"/>\n      </defs>\n      <use xlink:href=\"#DejaVuSans-75\"/>\n      <use x=\"63.378906\" xlink:href=\"#DejaVuSans-6e\"/>\n      <use x=\"126.757812\" xlink:href=\"#DejaVuSans-74\"/>\n      <use x=\"165.966797\" xlink:href=\"#DejaVuSans-69\"/>\n      <use x=\"193.75\" xlink:href=\"#DejaVuSans-6c\"/>\n      <use x=\"221.533203\" xlink:href=\"#DejaVuSans-20\"/>\n      <use x=\"253.320312\" xlink:href=\"#DejaVuSans-36\"/>\n     </g>\n    </g>\n    <g id=\"line2d_18\">\n     <path d=\"M 595 50.094687 \nL 615 50.094687 \n\" style=\"fill:none;stroke:#ff7f0e;stroke-linecap:square;stroke-width:1.5;\"/>\n    </g>\n    <g id=\"line2d_19\"/>\n    <g id=\"text_15\">\n     <!-- 17 to 40 -->\n     <g transform=\"translate(623 53.594687)scale(0.1 -0.1)\">\n      <defs>\n       <path d=\"M 525 4666 \nL 3525 4666 \nL 3525 4397 \nL 1831 0 \nL 1172 0 \nL 2766 4134 \nL 525 4134 \nL 525 4666 \nz\n\" id=\"DejaVuSans-37\" transform=\"scale(0.015625)\"/>\n       <path d=\"M 1959 3097 \nQ 1497 3097 1228 2736 \nQ 959 2375 959 1747 \nQ 959 1119 1226 758 \nQ 1494 397 1959 397 \nQ 2419 397 2687 759 \nQ 2956 1122 2956 1747 \nQ 2956 2369 2687 2733 \nQ 2419 3097 1959 3097 \nz\nM 1959 3584 \nQ 2709 3584 3137 3096 \nQ 3566 2609 3566 1747 \nQ 3566 888 3137 398 \nQ 2709 -91 1959 -91 \nQ 1206 -91 779 398 \nQ 353 888 353 1747 \nQ 353 2609 779 3096 \nQ 1206 3584 1959 3584 \nz\n\" id=\"DejaVuSans-6f\" transform=\"scale(0.015625)\"/>\n      </defs>\n      <use xlink:href=\"#DejaVuSans-31\"/>\n      <use x=\"63.623047\" xlink:href=\"#DejaVuSans-37\"/>\n      <use x=\"127.246094\" xlink:href=\"#DejaVuSans-20\"/>\n      <use x=\"159.033203\" xlink:href=\"#DejaVuSans-74\"/>\n      <use x=\"198.242188\" xlink:href=\"#DejaVuSans-6f\"/>\n      <use x=\"259.423828\" xlink:href=\"#DejaVuSans-20\"/>\n      <use x=\"291.210938\" xlink:href=\"#DejaVuSans-34\"/>\n      <use x=\"354.833984\" xlink:href=\"#DejaVuSans-30\"/>\n     </g>\n    </g>\n    <g id=\"line2d_20\">\n     <path d=\"M 595 64.772812 \nL 615 64.772812 \n\" style=\"fill:none;stroke:#2ca02c;stroke-linecap:square;stroke-width:1.5;\"/>\n    </g>\n    <g id=\"line2d_21\"/>\n    <g id=\"text_16\">\n     <!-- 6 to 17 -->\n     <g transform=\"translate(623 68.272812)scale(0.1 -0.1)\">\n      <use xlink:href=\"#DejaVuSans-36\"/>\n      <use x=\"63.623047\" xlink:href=\"#DejaVuSans-20\"/>\n      <use x=\"95.410156\" xlink:href=\"#DejaVuSans-74\"/>\n      <use x=\"134.619141\" xlink:href=\"#DejaVuSans-6f\"/>\n      <use x=\"195.800781\" xlink:href=\"#DejaVuSans-20\"/>\n      <use x=\"227.587891\" xlink:href=\"#DejaVuSans-31\"/>\n      <use x=\"291.210938\" xlink:href=\"#DejaVuSans-37\"/>\n     </g>\n    </g>\n    <g id=\"line2d_22\">\n     <path d=\"M 595 79.450937 \nL 615 79.450937 \n\" style=\"fill:none;stroke:#d62728;stroke-linecap:square;stroke-width:1.5;\"/>\n    </g>\n    <g id=\"line2d_23\"/>\n    <g id=\"text_17\">\n     <!-- more than 40 -->\n     <g transform=\"translate(623 82.950937)scale(0.1 -0.1)\">\n      <defs>\n       <path d=\"M 3513 2113 \nL 3513 0 \nL 2938 0 \nL 2938 2094 \nQ 2938 2591 2744 2837 \nQ 2550 3084 2163 3084 \nQ 1697 3084 1428 2787 \nQ 1159 2491 1159 1978 \nL 1159 0 \nL 581 0 \nL 581 4863 \nL 1159 4863 \nL 1159 2956 \nQ 1366 3272 1645 3428 \nQ 1925 3584 2291 3584 \nQ 2894 3584 3203 3211 \nQ 3513 2838 3513 2113 \nz\n\" id=\"DejaVuSans-68\" transform=\"scale(0.015625)\"/>\n       <path d=\"M 2194 1759 \nQ 1497 1759 1228 1600 \nQ 959 1441 959 1056 \nQ 959 750 1161 570 \nQ 1363 391 1709 391 \nQ 2188 391 2477 730 \nQ 2766 1069 2766 1631 \nL 2766 1759 \nL 2194 1759 \nz\nM 3341 1997 \nL 3341 0 \nL 2766 0 \nL 2766 531 \nQ 2569 213 2275 61 \nQ 1981 -91 1556 -91 \nQ 1019 -91 701 211 \nQ 384 513 384 1019 \nQ 384 1609 779 1909 \nQ 1175 2209 1959 2209 \nL 2766 2209 \nL 2766 2266 \nQ 2766 2663 2505 2880 \nQ 2244 3097 1772 3097 \nQ 1472 3097 1187 3025 \nQ 903 2953 641 2809 \nL 641 3341 \nQ 956 3463 1253 3523 \nQ 1550 3584 1831 3584 \nQ 2591 3584 2966 3190 \nQ 3341 2797 3341 1997 \nz\n\" id=\"DejaVuSans-61\" transform=\"scale(0.015625)\"/>\n      </defs>\n      <use xlink:href=\"#DejaVuSans-6d\"/>\n      <use x=\"97.412109\" xlink:href=\"#DejaVuSans-6f\"/>\n      <use x=\"158.59375\" xlink:href=\"#DejaVuSans-72\"/>\n      <use x=\"197.457031\" xlink:href=\"#DejaVuSans-65\"/>\n      <use x=\"258.980469\" xlink:href=\"#DejaVuSans-20\"/>\n      <use x=\"290.767578\" xlink:href=\"#DejaVuSans-74\"/>\n      <use x=\"329.976562\" xlink:href=\"#DejaVuSans-68\"/>\n      <use x=\"393.355469\" xlink:href=\"#DejaVuSans-61\"/>\n      <use x=\"454.634766\" xlink:href=\"#DejaVuSans-6e\"/>\n      <use x=\"518.013672\" xlink:href=\"#DejaVuSans-20\"/>\n      <use x=\"549.800781\" xlink:href=\"#DejaVuSans-34\"/>\n      <use x=\"613.423828\" xlink:href=\"#DejaVuSans-30\"/>\n     </g>\n    </g>\n   </g>\n  </g>\n </g>\n <defs>\n  <clipPath id=\"p7943dd669d\">\n   <rect height=\"380.52\" width=\"669.6\" x=\"30.103125\" y=\"22.318125\"/>\n  </clipPath>\n </defs>\n</svg>\n"
     },
     "metadata": {
      "needs_background": "light"
     }
    }
   ],
   "metadata": {}
  },
  {
   "cell_type": "code",
   "execution_count": 81,
   "source": [
    "results=multivariate_logrank_test(event_durations=T,groups=dt.esc_entries,event_observed=C)\n",
    "results.print_summary()"
   ],
   "outputs": [
    {
     "output_type": "display_data",
     "data": {
      "text/plain": [
       "<lifelines.StatisticalResult: multivariate_logrank_test>\n",
       "               t_0 = -1\n",
       " null_distribution = chi squared\n",
       "degrees_of_freedom = 3\n",
       "         test_name = multivariate_logrank_test\n",
       "\n",
       "---\n",
       " test_statistic      p  -log2(p)\n",
       "        3721.13 <0.005       inf"
      ],
      "text/latex": [
       "\\begin{tabular}{lrrr}\n",
       "\\toprule\n",
       "{} &  test\\_statistic &    p &  -log2(p) \\\\\n",
       "\\midrule\n",
       "0 &     3721.127587 &  0.0 &       inf \\\\\n",
       "\\bottomrule\n",
       "\\end{tabular}\n"
      ],
      "text/html": [
       "<div>\n",
       "<style scoped>\n",
       "    .dataframe tbody tr th:only-of-type {\n",
       "        vertical-align: middle;\n",
       "    }\n",
       "\n",
       "    .dataframe tbody tr th {\n",
       "        vertical-align: top;\n",
       "    }\n",
       "\n",
       "    .dataframe thead th {\n",
       "        text-align: right;\n",
       "    }\n",
       "</style>\n",
       "<table border=\"1\" class=\"dataframe\">\n",
       "  <tbody>\n",
       "    <tr>\n",
       "      <th>t_0</th>\n",
       "      <td>-1</td>\n",
       "    </tr>\n",
       "    <tr>\n",
       "      <th>null_distribution</th>\n",
       "      <td>chi squared</td>\n",
       "    </tr>\n",
       "    <tr>\n",
       "      <th>degrees_of_freedom</th>\n",
       "      <td>3</td>\n",
       "    </tr>\n",
       "    <tr>\n",
       "      <th>test_name</th>\n",
       "      <td>multivariate_logrank_test</td>\n",
       "    </tr>\n",
       "  </tbody>\n",
       "</table>\n",
       "</div><table border=\"1\" class=\"dataframe\">\n",
       "  <thead>\n",
       "    <tr style=\"text-align: right;\">\n",
       "      <th></th>\n",
       "      <th>test_statistic</th>\n",
       "      <th>p</th>\n",
       "      <th>-log2(p)</th>\n",
       "    </tr>\n",
       "  </thead>\n",
       "  <tbody>\n",
       "    <tr>\n",
       "      <th>0</th>\n",
       "      <td>3721.13</td>\n",
       "      <td>&lt;0.005</td>\n",
       "      <td>inf</td>\n",
       "    </tr>\n",
       "  </tbody>\n",
       "</table>"
      ]
     },
     "metadata": {}
    }
   ],
   "metadata": {}
  },
  {
   "cell_type": "code",
   "execution_count": 82,
   "source": [
    "results=pairwise_logrank_test(event_durations=T,groups=dt.esc_entries,event_observed=C)\n",
    "results.print_summary()"
   ],
   "outputs": [
    {
     "output_type": "display_data",
     "data": {
      "text/plain": [
       "<lifelines.StatisticalResult: logrank_test>\n",
       "               t_0 = -1\n",
       " null_distribution = chi squared\n",
       "degrees_of_freedom = 1\n",
       "         test_name = logrank_test\n",
       "\n",
       "---\n",
       "                           test_statistic      p  -log2(p)\n",
       "17 to 40     6 to 17               429.84 <0.005    314.77\n",
       "             more than 40          625.76 <0.005    456.37\n",
       "             until 6              1315.64 <0.005    954.54\n",
       "6 to 17      more than 40         1706.42 <0.005       inf\n",
       "             until 6               318.29 <0.005    234.09\n",
       "more than 40 until 6              2582.34 <0.005       inf"
      ],
      "text/latex": [
       "\\begin{tabular}{llrrr}\n",
       "\\toprule\n",
       "             &         &  test\\_statistic &              p &    -log2(p) \\\\\n",
       "\\midrule\n",
       "17 to 40 & 6 to 17 &      429.837361 &   1.763138e-95 &  314.765023 \\\\\n",
       "             & more than 40 &      625.763187 &  4.171518e-138 &  456.365505 \\\\\n",
       "             & until 6 &     1315.636985 &  4.519612e-288 &  954.539092 \\\\\n",
       "6 to 17 & more than 40 &     1706.415171 &   0.000000e+00 &         inf \\\\\n",
       "             & until 6 &      318.291736 &   3.411938e-71 &  234.086303 \\\\\n",
       "more than 40 & until 6 &     2582.344258 &   0.000000e+00 &         inf \\\\\n",
       "\\bottomrule\n",
       "\\end{tabular}\n"
      ],
      "text/html": [
       "<div>\n",
       "<style scoped>\n",
       "    .dataframe tbody tr th:only-of-type {\n",
       "        vertical-align: middle;\n",
       "    }\n",
       "\n",
       "    .dataframe tbody tr th {\n",
       "        vertical-align: top;\n",
       "    }\n",
       "\n",
       "    .dataframe thead th {\n",
       "        text-align: right;\n",
       "    }\n",
       "</style>\n",
       "<table border=\"1\" class=\"dataframe\">\n",
       "  <tbody>\n",
       "    <tr>\n",
       "      <th>t_0</th>\n",
       "      <td>-1</td>\n",
       "    </tr>\n",
       "    <tr>\n",
       "      <th>null_distribution</th>\n",
       "      <td>chi squared</td>\n",
       "    </tr>\n",
       "    <tr>\n",
       "      <th>degrees_of_freedom</th>\n",
       "      <td>1</td>\n",
       "    </tr>\n",
       "    <tr>\n",
       "      <th>test_name</th>\n",
       "      <td>logrank_test</td>\n",
       "    </tr>\n",
       "  </tbody>\n",
       "</table>\n",
       "</div><table border=\"1\" class=\"dataframe\">\n",
       "  <thead>\n",
       "    <tr style=\"text-align: right;\">\n",
       "      <th></th>\n",
       "      <th></th>\n",
       "      <th>test_statistic</th>\n",
       "      <th>p</th>\n",
       "      <th>-log2(p)</th>\n",
       "    </tr>\n",
       "  </thead>\n",
       "  <tbody>\n",
       "    <tr>\n",
       "      <th rowspan=\"3\" valign=\"top\">17 to 40</th>\n",
       "      <th>6 to 17</th>\n",
       "      <td>429.84</td>\n",
       "      <td>&lt;0.005</td>\n",
       "      <td>314.77</td>\n",
       "    </tr>\n",
       "    <tr>\n",
       "      <th>more than 40</th>\n",
       "      <td>625.76</td>\n",
       "      <td>&lt;0.005</td>\n",
       "      <td>456.37</td>\n",
       "    </tr>\n",
       "    <tr>\n",
       "      <th>until 6</th>\n",
       "      <td>1315.64</td>\n",
       "      <td>&lt;0.005</td>\n",
       "      <td>954.54</td>\n",
       "    </tr>\n",
       "    <tr>\n",
       "      <th rowspan=\"2\" valign=\"top\">6 to 17</th>\n",
       "      <th>more than 40</th>\n",
       "      <td>1706.42</td>\n",
       "      <td>&lt;0.005</td>\n",
       "      <td>inf</td>\n",
       "    </tr>\n",
       "    <tr>\n",
       "      <th>until 6</th>\n",
       "      <td>318.29</td>\n",
       "      <td>&lt;0.005</td>\n",
       "      <td>234.09</td>\n",
       "    </tr>\n",
       "    <tr>\n",
       "      <th>more than 40</th>\n",
       "      <th>until 6</th>\n",
       "      <td>2582.34</td>\n",
       "      <td>&lt;0.005</td>\n",
       "      <td>inf</td>\n",
       "    </tr>\n",
       "  </tbody>\n",
       "</table>"
      ]
     },
     "metadata": {}
    }
   ],
   "metadata": {}
  },
  {
   "cell_type": "markdown",
   "source": [
    "O número idas com uma retenção maior é 2 ou mais. A tendência de retenção maior só se apresenta depois dos 10 meses. O abandono depois dos 10 meses é menor nos clientes que vão em média 1 a 2 vezes ou mais. As estratégias devem estar focadas na manutenção do cliente nos primeiros 10 meses e tentar que vão em média pelo menos 1 vez por semana."
   ],
   "metadata": {}
  },
  {
   "cell_type": "markdown",
   "source": [
    "## cfreq"
   ],
   "metadata": {
    "toc-hr-collapsed": false
   }
  },
  {
   "cell_type": "code",
   "execution_count": 83,
   "source": [
    "dt.freqcontratadasemanal.describe()"
   ],
   "outputs": [
    {
     "output_type": "execute_result",
     "data": {
      "text/plain": [
       "count    6745.000000\n",
       "mean        2.072350\n",
       "std         1.823901\n",
       "min         1.000000\n",
       "25%         1.000000\n",
       "50%         1.000000\n",
       "75%         2.000000\n",
       "max         7.000000\n",
       "Name: freqcontratadasemanal, dtype: float64"
      ]
     },
     "metadata": {},
     "execution_count": 83
    }
   ],
   "metadata": {}
  },
  {
   "cell_type": "code",
   "execution_count": 84,
   "source": [
    "dt.freqcontratadasemanal.unique()"
   ],
   "outputs": [
    {
     "output_type": "execute_result",
     "data": {
      "text/plain": [
       "array([1., 2., 7., 3., 4., 6.])"
      ]
     },
     "metadata": {},
     "execution_count": 84
    }
   ],
   "metadata": {}
  },
  {
   "cell_type": "code",
   "execution_count": 85,
   "source": [
    "dt.freqcontratadasemanal.value_counts()"
   ],
   "outputs": [
    {
     "output_type": "execute_result",
     "data": {
      "text/plain": [
       "1.0    3410\n",
       "2.0    2485\n",
       "7.0     755\n",
       "3.0      69\n",
       "4.0      25\n",
       "6.0       1\n",
       "Name: freqcontratadasemanal, dtype: int64"
      ]
     },
     "metadata": {},
     "execution_count": 85
    }
   ],
   "metadata": {}
  },
  {
   "cell_type": "markdown",
   "source": [
    "Considerando a distribuicao foram divididos em 1,2 e 3+"
   ],
   "metadata": {}
  },
  {
   "cell_type": "code",
   "execution_count": 86,
   "source": [
    "dt['esc_cfreq']=''\n",
    "\n",
    "for index, cliente in dt.iterrows():\n",
    "    #se a variável tiver o valor 1 colocar na nova variável a descrição da atividade\n",
    "    if cliente['freqcontratadasemanal']<=1:\n",
    "        dt.at[index,'esc_cfreq']='cfreq 1'\n",
    "    elif cliente['freqcontratadasemanal']==2:\n",
    "        dt.at[index,'esc_cfreq']='cfreq 2'\n",
    "    elif cliente['freqcontratadasemanal']>=3:\n",
    "        dt.at[index,'esc_cfreq']='cfreq 3'\n"
   ],
   "outputs": [],
   "metadata": {}
  },
  {
   "cell_type": "code",
   "execution_count": 87,
   "source": [
    "dt.esc_cfreq.value_counts()"
   ],
   "outputs": [
    {
     "output_type": "execute_result",
     "data": {
      "text/plain": [
       "cfreq 1    3410\n",
       "cfreq 2    2485\n",
       "cfreq 3     850\n",
       "Name: esc_cfreq, dtype: int64"
      ]
     },
     "metadata": {},
     "execution_count": 87
    }
   ],
   "metadata": {}
  },
  {
   "cell_type": "code",
   "execution_count": 88,
   "source": [
    "ax = plt.subplot(111)\n",
    "cfreqs=dt.esc_cfreq.unique()\n",
    "\n",
    "plt.rcParams['figure.figsize'] = [12, 7]\n",
    "for cfreq in cfreqs:\n",
    "    ix = dt['esc_cfreq'] == cfreq\n",
    "    kmf.fit(T.loc[ix], C.loc[ix],label=str(cfreq))\n",
    "    ax = kmf.plot(ax=ax)\n",
    "    print(str(cfreq),' predict survival 12 months:',kmf.predict(12.0),': median ',kmf.median_survival_time_)\n",
    "plt.title('contracted frequency')\n",
    "T.loc;"
   ],
   "outputs": [
    {
     "output_type": "stream",
     "name": "stdout",
     "text": [
      "cfreq 1  predict survival 12 months: 0.5377226135134687 : median  15.0\n",
      "cfreq 2  predict survival 12 months: 0.483370910687046 : median  11.0\n",
      "cfreq 3  predict survival 12 months: 0.6283866126401795 : median  21.0\n"
     ]
    },
    {
     "output_type": "display_data",
     "data": {
      "text/plain": [
       "<Figure size 864x504 with 1 Axes>"
      ],
      "image/png": "[encoded data removed]",
      "image/svg+xml": "<?xml version=\"1.0\" encoding=\"utf-8\" standalone=\"no\"?>\n<!DOCTYPE svg PUBLIC \"-//W3C//DTD SVG 1.1//EN\"\n  \"http://www.w3.org/Graphics/SVG/1.1/DTD/svg11.dtd\">\n<svg height=\"440.394375pt\" version=\"1.1\" viewBox=\"0 0 706.903125 440.394375\" width=\"706.903125pt\" xmlns=\"http://www.w3.org/2000/svg\" xmlns:xlink=\"http://www.w3.org/1999/xlink\">\n <metadata>\n  <rdf:RDF xmlns:cc=\"http://creativecommons.org/ns#\" xmlns:dc=\"http://purl.org/dc/elements/1.1/\" xmlns:rdf=\"http://www.w3.org/1999/02/22-rdf-syntax-ns#\">\n   <cc:Work>\n    <dc:type rdf:resource=\"http://purl.org/dc/dcmitype/StillImage\"/>\n    <dc:date>2021-07-14T16:58:15.174592</dc:date>\n    <dc:format>image/svg+xml</dc:format>\n    <dc:creator>\n     <cc:Agent>\n      <dc:title>Matplotlib v3.4.2, https://matplotlib.org/</dc:title>\n     </cc:Agent>\n    </dc:creator>\n   </cc:Work>\n  </rdf:RDF>\n </metadata>\n <defs>\n  <style type=\"text/css\">*{stroke-linecap:butt;stroke-linejoin:round;}</style>\n </defs>\n <g id=\"figure_1\">\n  <g id=\"patch_1\">\n   <path d=\"M 0 440.394375 \nL 706.903125 440.394375 \nL 706.903125 0 \nL 0 0 \nz\n\" style=\"fill:none;\"/>\n  </g>\n  <g id=\"axes_1\">\n   <g id=\"patch_2\">\n    <path d=\"M 30.103125 402.838125 \nL 699.703125 402.838125 \nL 699.703125 22.318125 \nL 30.103125 22.318125 \nz\n\" style=\"fill:#ffffff;\"/>\n   </g>\n   <g id=\"PolyCollection_1\">\n    <defs>\n     <path d=\"M 60.539489 -400.670354 \nL 60.539489 -399.728183 \nL 73.491133 -399.728183 \nL 73.491133 -397.414177 \nL 86.442777 -397.414177 \nL 86.442777 -380.56383 \nL 99.394421 -380.56383 \nL 99.394421 -350.906951 \nL 112.346065 -350.906951 \nL 112.346065 -329.629339 \nL 125.297709 -329.629339 \nL 125.297709 -311.093874 \nL 138.249353 -311.093874 \nL 138.249353 -293.221031 \nL 151.200997 -293.221031 \nL 151.200997 -268.749727 \nL 164.152641 -268.749727 \nL 164.152641 -255.282596 \nL 177.104286 -255.282596 \nL 177.104286 -243.493102 \nL 190.05593 -243.493102 \nL 190.05593 -227.784734 \nL 203.007574 -227.784734 \nL 203.007574 -220.640932 \nL 215.959218 -220.640932 \nL 215.959218 -215.3721 \nL 228.910862 -215.3721 \nL 228.910862 -208.889721 \nL 241.862506 -208.889721 \nL 241.862506 -203.652748 \nL 254.81415 -203.652748 \nL 254.81415 -194.571411 \nL 267.765794 -194.571411 \nL 267.765794 -188.870089 \nL 280.717438 -188.870089 \nL 280.717438 -184.287597 \nL 293.669082 -184.287597 \nL 293.669082 -179.243063 \nL 306.620727 -179.243063 \nL 306.620727 -174.30411 \nL 319.572371 -174.30411 \nL 319.572371 -170.045726 \nL 332.524015 -170.045726 \nL 332.524015 -165.246705 \nL 345.475659 -165.246705 \nL 345.475659 -159.65094 \nL 358.427303 -159.65094 \nL 358.427303 -154.91877 \nL 371.378947 -154.91877 \nL 371.378947 -151.553743 \nL 384.330591 -151.553743 \nL 384.330591 -148.568428 \nL 397.282235 -148.568428 \nL 397.282235 -143.867821 \nL 410.233879 -143.867821 \nL 410.233879 -135.56365 \nL 423.185523 -135.56365 \nL 423.185523 -132.020794 \nL 436.137168 -132.020794 \nL 436.137168 -128.989236 \nL 449.088812 -128.989236 \nL 449.088812 -127.231267 \nL 462.040456 -127.231267 \nL 462.040456 -124.238997 \nL 474.9921 -124.238997 \nL 474.9921 -120.753874 \nL 487.943744 -120.753874 \nL 487.943744 -116.109824 \nL 500.895388 -116.109824 \nL 500.895388 -113.015172 \nL 513.847032 -113.015172 \nL 513.847032 -108.626437 \nL 526.798676 -108.626437 \nL 526.798676 -107.021835 \nL 539.75032 -107.021835 \nL 539.75032 -105.303733 \nL 552.701964 -105.303733 \nL 552.701964 -103.334088 \nL 565.653609 -103.334088 \nL 565.653609 -90.513864 \nL 578.605253 -90.513864 \nL 578.605253 -90.513864 \nL 591.556897 -90.513864 \nL 591.556897 -90.513864 \nL 604.508541 -90.513864 \nL 604.508541 -90.513864 \nL 617.460185 -90.513864 \nL 617.460185 -90.513864 \nL 630.411829 -90.513864 \nL 630.411829 -90.513864 \nL 643.363473 -90.513864 \nL 643.363473 -90.513864 \nL 656.315117 -90.513864 \nL 656.315117 -90.513864 \nL 669.266761 -90.513864 \nL 669.266761 -90.513864 \nL 669.266761 -114.145227 \nL 669.266761 -114.145227 \nL 669.266761 -114.145227 \nL 656.315117 -114.145227 \nL 656.315117 -114.145227 \nL 643.363473 -114.145227 \nL 643.363473 -114.145227 \nL 630.411829 -114.145227 \nL 630.411829 -114.145227 \nL 617.460185 -114.145227 \nL 617.460185 -114.145227 \nL 604.508541 -114.145227 \nL 604.508541 -114.145227 \nL 591.556897 -114.145227 \nL 591.556897 -114.145227 \nL 578.605253 -114.145227 \nL 578.605253 -114.145227 \nL 565.653609 -114.145227 \nL 565.653609 -120.38365 \nL 552.701964 -120.38365 \nL 552.701964 -122.148265 \nL 539.75032 -122.148265 \nL 539.75032 -123.728026 \nL 526.798676 -123.728026 \nL 526.798676 -125.218141 \nL 513.847032 -125.218141 \nL 513.847032 -129.33939 \nL 500.895388 -129.33939 \nL 500.895388 -132.273837 \nL 487.943744 -132.273837 \nL 487.943744 -136.677224 \nL 474.9921 -136.677224 \nL 474.9921 -140.004152 \nL 462.040456 -140.004152 \nL 462.040456 -142.859781 \nL 449.088812 -142.859781 \nL 449.088812 -144.547141 \nL 436.137168 -144.547141 \nL 436.137168 -147.465003 \nL 423.185523 -147.465003 \nL 423.185523 -150.880747 \nL 410.233879 -150.880747 \nL 410.233879 -158.826378 \nL 397.282235 -158.826378 \nL 397.282235 -163.439532 \nL 384.330591 -163.439532 \nL 384.330591 -166.383769 \nL 371.378947 -166.383769 \nL 371.378947 -169.701963 \nL 358.427303 -169.701963 \nL 358.427303 -174.373966 \nL 345.475659 -174.373966 \nL 345.475659 -179.898054 \nL 332.524015 -179.898054 \nL 332.524015 -184.634804 \nL 319.572371 -184.634804 \nL 319.572371 -188.838217 \nL 306.620727 -188.838217 \nL 306.620727 -193.707407 \nL 293.669082 -193.707407 \nL 293.669082 -198.672474 \nL 280.717438 -198.672474 \nL 280.717438 -203.177096 \nL 267.765794 -203.177096 \nL 267.765794 -208.77853 \nL 254.81415 -208.77853 \nL 254.81415 -217.661177 \nL 241.862506 -217.661177 \nL 241.862506 -222.839177 \nL 228.910862 -222.839177 \nL 228.910862 -229.250753 \nL 215.959218 -229.250753 \nL 215.959218 -234.453464 \nL 203.007574 -234.453464 \nL 203.007574 -241.497875 \nL 190.05593 -241.497875 \nL 190.05593 -256.932809 \nL 177.104286 -256.932809 \nL 177.104286 -268.464009 \nL 164.152641 -268.464009 \nL 164.152641 -281.579799 \nL 151.200997 -281.579799 \nL 151.200997 -305.217042 \nL 138.249353 -305.217042 \nL 138.249353 -322.295756 \nL 125.297709 -322.295756 \nL 125.297709 -339.809317 \nL 112.346065 -339.809317 \nL 112.346065 -359.571835 \nL 99.394421 -359.571835 \nL 99.394421 -385.978404 \nL 86.442777 -385.978404 \nL 86.442777 -399.406967 \nL 73.491133 -399.406967 \nL 73.491133 -400.670354 \nL 60.539489 -400.670354 \nz\n\" id=\"mf0bb029170\" style=\"stroke:#1f77b4;stroke-opacity:0.25;\"/>\n    </defs>\n    <g clip-path=\"url(#p18a60b1937)\">\n     <use style=\"fill:#1f77b4;fill-opacity:0.25;stroke:#1f77b4;stroke-opacity:0.25;\" x=\"0\" xlink:href=\"#mf0bb029170\" y=\"440.394375\"/>\n    </g>\n   </g>\n   <g id=\"PolyCollection_2\">\n    <defs>\n     <path d=\"M 60.539489 -400.702185 \nL 60.539489 -399.539503 \nL 73.491133 -399.539503 \nL 73.491133 -393.590817 \nL 86.442777 -393.590817 \nL 86.442777 -376.953933 \nL 99.394421 -376.953933 \nL 99.394421 -344.712011 \nL 112.346065 -344.712011 \nL 112.346065 -318.709071 \nL 125.297709 -318.709071 \nL 125.297709 -294.975367 \nL 138.249353 -294.975367 \nL 138.249353 -276.673989 \nL 151.200997 -276.673989 \nL 151.200997 -255.445875 \nL 164.152641 -255.445875 \nL 164.152641 -240.667152 \nL 177.104286 -240.667152 \nL 177.104286 -226.398346 \nL 190.05593 -226.398346 \nL 190.05593 -209.69402 \nL 203.007574 -209.69402 \nL 203.007574 -197.68888 \nL 215.959218 -197.68888 \nL 215.959218 -193.227088 \nL 228.910862 -193.227088 \nL 228.910862 -186.778576 \nL 241.862506 -186.778576 \nL 241.862506 -180.802733 \nL 254.81415 -180.802733 \nL 254.81415 -173.228855 \nL 267.765794 -173.228855 \nL 267.765794 -167.309247 \nL 280.717438 -167.309247 \nL 280.717438 -161.513501 \nL 293.669082 -161.513501 \nL 293.669082 -153.69107 \nL 306.620727 -153.69107 \nL 306.620727 -150.475126 \nL 319.572371 -150.475126 \nL 319.572371 -145.88775 \nL 332.524015 -145.88775 \nL 332.524015 -139.34195 \nL 345.475659 -139.34195 \nL 345.475659 -132.846135 \nL 358.427303 -132.846135 \nL 358.427303 -129.491366 \nL 371.378947 -129.491366 \nL 371.378947 -127.787269 \nL 384.330591 -127.787269 \nL 384.330591 -122.472227 \nL 397.282235 -122.472227 \nL 397.282235 -119.55036 \nL 410.233879 -119.55036 \nL 410.233879 -115.290912 \nL 423.185523 -115.290912 \nL 423.185523 -110.141515 \nL 436.137168 -110.141515 \nL 436.137168 -107.905203 \nL 449.088812 -107.905203 \nL 449.088812 -104.180573 \nL 462.040456 -104.180573 \nL 462.040456 -102.671916 \nL 474.9921 -102.671916 \nL 474.9921 -99.465571 \nL 487.943744 -99.465571 \nL 487.943744 -96.57267 \nL 500.895388 -96.57267 \nL 500.895388 -93.433251 \nL 513.847032 -93.433251 \nL 513.847032 -87.203366 \nL 526.798676 -87.203366 \nL 526.798676 -84.980431 \nL 539.75032 -84.980431 \nL 539.75032 -81.698826 \nL 552.701964 -81.698826 \nL 552.701964 -79.657985 \nL 565.653609 -79.657985 \nL 565.653609 -54.852614 \nL 604.508541 -54.852614 \nL 604.508541 -54.852614 \nL 643.363473 -54.852614 \nL 643.363473 -54.852614 \nL 669.266761 -54.852614 \nL 669.266761 -54.852614 \nL 669.266761 -91.530336 \nL 669.266761 -91.530336 \nL 669.266761 -91.530336 \nL 643.363473 -91.530336 \nL 643.363473 -91.530336 \nL 604.508541 -91.530336 \nL 604.508541 -91.530336 \nL 565.653609 -91.530336 \nL 565.653609 -98.510338 \nL 552.701964 -98.510338 \nL 552.701964 -100.276173 \nL 539.75032 -100.276173 \nL 539.75032 -103.2723 \nL 526.798676 -103.2723 \nL 526.798676 -105.333664 \nL 513.847032 -105.333664 \nL 513.847032 -111.116286 \nL 500.895388 -111.116286 \nL 500.895388 -114.048833 \nL 487.943744 -114.048833 \nL 487.943744 -116.77541 \nL 474.9921 -116.77541 \nL 474.9921 -119.822715 \nL 462.040456 -119.822715 \nL 462.040456 -121.26538 \nL 449.088812 -121.26538 \nL 449.088812 -124.858995 \nL 436.137168 -124.858995 \nL 436.137168 -127.018581 \nL 423.185523 -127.018581 \nL 423.185523 -131.991084 \nL 410.233879 -131.991084 \nL 410.233879 -136.070978 \nL 397.282235 -136.070978 \nL 397.282235 -138.974719 \nL 384.330591 -138.974719 \nL 384.330591 -144.299478 \nL 371.378947 -144.299478 \nL 371.378947 -146.008763 \nL 358.427303 -146.008763 \nL 358.427303 -149.37199 \nL 345.475659 -149.37199 \nL 345.475659 -155.879909 \nL 332.524015 -155.879909 \nL 332.524015 -162.425897 \nL 319.572371 -162.425897 \nL 319.572371 -167.006343 \nL 306.620727 -167.006343 \nL 306.620727 -170.218168 \nL 293.669082 -170.218168 \nL 293.669082 -178.00864 \nL 280.717438 -178.00864 \nL 280.717438 -183.759528 \nL 267.765794 -183.759528 \nL 267.765794 -189.621079 \nL 254.81415 -189.621079 \nL 254.81415 -197.085617 \nL 241.862506 -197.085617 \nL 241.862506 -203.030511 \nL 228.910862 -203.030511 \nL 228.910862 -209.455479 \nL 215.959218 -209.455479 \nL 215.959218 -213.891743 \nL 203.007574 -213.891743 \nL 203.007574 -225.799194 \nL 190.05593 -225.799194 \nL 190.05593 -242.292888 \nL 177.104286 -242.292888 \nL 177.104286 -256.297127 \nL 164.152641 -256.297127 \nL 164.152641 -270.720314 \nL 151.200997 -270.720314 \nL 151.200997 -291.271517 \nL 138.249353 -291.271517 \nL 138.249353 -308.805593 \nL 125.297709 -308.805593 \nL 125.297709 -331.246077 \nL 112.346065 -331.246077 \nL 112.346065 -355.305849 \nL 99.394421 -355.305849 \nL 99.394421 -383.7528 \nL 86.442777 -383.7528 \nL 86.442777 -397.129533 \nL 73.491133 -397.129533 \nL 73.491133 -400.702185 \nL 60.539489 -400.702185 \nz\n\" id=\"m2822b5dcfe\" style=\"stroke:#ff7f0e;stroke-opacity:0.25;\"/>\n    </defs>\n    <g clip-path=\"url(#p18a60b1937)\">\n     <use style=\"fill:#ff7f0e;fill-opacity:0.25;stroke:#ff7f0e;stroke-opacity:0.25;\" x=\"0\" xlink:href=\"#m2822b5dcfe\" y=\"440.394375\"/>\n    </g>\n   </g>\n   <g id=\"PolyCollection_3\">\n    <defs>\n     <path d=\"M 60.539489 -400.779886 \nL 60.539489 -400.779886 \nL 73.491133 -400.779886 \nL 73.491133 -395.348473 \nL 86.442777 -395.348473 \nL 86.442777 -388.357178 \nL 99.394421 -388.357178 \nL 99.394421 -370.066228 \nL 112.346065 -370.066228 \nL 112.346065 -353.756116 \nL 125.297709 -353.756116 \nL 125.297709 -341.873418 \nL 138.249353 -341.873418 \nL 138.249353 -324.006848 \nL 151.200997 -324.006848 \nL 151.200997 -297.677489 \nL 164.152641 -297.677489 \nL 164.152641 -290.077372 \nL 177.104286 -290.077372 \nL 177.104286 -280.775559 \nL 190.05593 -280.775559 \nL 190.05593 -267.338302 \nL 203.007574 -267.338302 \nL 203.007574 -249.234089 \nL 215.959218 -249.234089 \nL 215.959218 -243.948537 \nL 228.910862 -243.948537 \nL 228.910862 -237.533631 \nL 241.862506 -237.533631 \nL 241.862506 -231.540291 \nL 254.81415 -231.540291 \nL 254.81415 -220.510641 \nL 267.765794 -220.510641 \nL 267.765794 -216.427743 \nL 280.717438 -216.427743 \nL 280.717438 -211.689648 \nL 293.669082 -211.689648 \nL 293.669082 -204.47393 \nL 306.620727 -204.47393 \nL 306.620727 -196.536567 \nL 319.572371 -196.536567 \nL 319.572371 -194.665647 \nL 332.524015 -194.665647 \nL 332.524015 -187.773959 \nL 345.475659 -187.773959 \nL 345.475659 -178.646319 \nL 358.427303 -178.646319 \nL 358.427303 -166.746288 \nL 371.378947 -166.746288 \nL 371.378947 -164.563731 \nL 384.330591 -164.563731 \nL 384.330591 -163.103475 \nL 397.282235 -163.103475 \nL 397.282235 -158.644547 \nL 410.233879 -158.644547 \nL 410.233879 -155.360554 \nL 423.185523 -155.360554 \nL 423.185523 -152.027937 \nL 436.137168 -152.027937 \nL 436.137168 -149.473405 \nL 449.088812 -149.473405 \nL 449.088812 -142.560775 \nL 462.040456 -142.560775 \nL 462.040456 -133.747789 \nL 474.9921 -133.747789 \nL 474.9921 -130.054874 \nL 487.943744 -130.054874 \nL 487.943744 -123.308297 \nL 500.895388 -123.308297 \nL 500.895388 -114.154771 \nL 513.847032 -114.154771 \nL 513.847032 -104.430609 \nL 526.798676 -104.430609 \nL 526.798676 -104.430609 \nL 539.75032 -104.430609 \nL 539.75032 -101.631097 \nL 552.701964 -101.631097 \nL 552.701964 -101.631097 \nL 565.653609 -101.631097 \nL 565.653609 -101.631097 \nL 578.605253 -101.631097 \nL 578.605253 -99.411462 \nL 591.556897 -99.411462 \nL 591.556897 -99.411462 \nL 604.508541 -99.411462 \nL 604.508541 -99.411462 \nL 617.460185 -99.411462 \nL 617.460185 -99.411462 \nL 643.363473 -99.411462 \nL 643.363473 -99.411462 \nL 656.315117 -99.411462 \nL 656.315117 -99.411462 \nL 669.266761 -99.411462 \nL 669.266761 -99.411462 \nL 669.266761 -129.62182 \nL 669.266761 -129.62182 \nL 669.266761 -129.62182 \nL 656.315117 -129.62182 \nL 656.315117 -129.62182 \nL 643.363473 -129.62182 \nL 643.363473 -129.62182 \nL 617.460185 -129.62182 \nL 617.460185 -129.62182 \nL 604.508541 -129.62182 \nL 604.508541 -129.62182 \nL 591.556897 -129.62182 \nL 591.556897 -129.62182 \nL 578.605253 -129.62182 \nL 578.605253 -131.403254 \nL 565.653609 -131.403254 \nL 565.653609 -131.403254 \nL 552.701964 -131.403254 \nL 552.701964 -131.403254 \nL 539.75032 -131.403254 \nL 539.75032 -134.030323 \nL 526.798676 -134.030323 \nL 526.798676 -134.030323 \nL 513.847032 -134.030323 \nL 513.847032 -143.674059 \nL 500.895388 -143.674059 \nL 500.895388 -152.695054 \nL 487.943744 -152.695054 \nL 487.943744 -159.320054 \nL 474.9921 -159.320054 \nL 474.9921 -162.945698 \nL 462.040456 -162.945698 \nL 462.040456 -171.593219 \nL 449.088812 -171.593219 \nL 449.088812 -178.318202 \nL 436.137168 -178.318202 \nL 436.137168 -180.792325 \nL 423.185523 -180.792325 \nL 423.185523 -184.019715 \nL 410.233879 -184.019715 \nL 410.233879 -187.193669 \nL 397.282235 -187.193669 \nL 397.282235 -191.562153 \nL 384.330591 -191.562153 \nL 384.330591 -192.992075 \nL 371.378947 -192.992075 \nL 371.378947 -195.125946 \nL 358.427303 -195.125946 \nL 358.427303 -206.864826 \nL 345.475659 -206.864826 \nL 345.475659 -215.792998 \nL 332.524015 -215.792998 \nL 332.524015 -222.523785 \nL 319.572371 -222.523785 \nL 319.572371 -224.344732 \nL 306.620727 -224.344732 \nL 306.620727 -232.060517 \nL 293.669082 -232.060517 \nL 293.669082 -239.042615 \nL 280.717438 -239.042615 \nL 280.717438 -243.613039 \nL 267.765794 -243.613039 \nL 267.765794 -247.545009 \nL 254.81415 -247.545009 \nL 254.81415 -258.103068 \nL 241.862506 -258.103068 \nL 241.862506 -263.850848 \nL 228.910862 -263.850848 \nL 228.910862 -269.988119 \nL 215.959218 -269.988119 \nL 215.959218 -275.028663 \nL 203.007574 -275.028663 \nL 203.007574 -292.179874 \nL 190.05593 -292.179874 \nL 190.05593 -304.736714 \nL 177.104286 -304.736714 \nL 177.104286 -313.335363 \nL 164.152641 -313.335363 \nL 164.152641 -320.32155 \nL 151.200997 -320.32155 \nL 151.200997 -344.060818 \nL 138.249353 -344.060818 \nL 138.249353 -359.642641 \nL 125.297709 -359.642641 \nL 125.297709 -369.678853 \nL 112.346065 -369.678853 \nL 112.346065 -382.832534 \nL 99.394421 -382.832534 \nL 99.394421 -395.930949 \nL 86.442777 -395.930949 \nL 86.442777 -399.833398 \nL 73.491133 -399.833398 \nL 73.491133 -400.779886 \nL 60.539489 -400.779886 \nz\n\" id=\"m6fe4a65250\" style=\"stroke:#2ca02c;stroke-opacity:0.25;\"/>\n    </defs>\n    <g clip-path=\"url(#p18a60b1937)\">\n     <use style=\"fill:#2ca02c;fill-opacity:0.25;stroke:#2ca02c;stroke-opacity:0.25;\" x=\"0\" xlink:href=\"#m6fe4a65250\" y=\"440.394375\"/>\n    </g>\n   </g>\n   <g id=\"matplotlib.axis_1\">\n    <g id=\"xtick_1\">\n     <g id=\"line2d_1\">\n      <defs>\n       <path d=\"M 0 0 \nL 0 3.5 \n\" id=\"m1706a12b9a\" style=\"stroke:#000000;stroke-width:0.8;\"/>\n      </defs>\n      <g>\n       <use style=\"stroke:#000000;stroke-width:0.8;\" x=\"60.539489\" xlink:href=\"#m1706a12b9a\" y=\"402.838125\"/>\n      </g>\n     </g>\n     <g id=\"text_1\">\n      <!-- 0 -->\n      <g transform=\"translate(57.358239 417.436562)scale(0.1 -0.1)\">\n       <defs>\n        <path d=\"M 2034 4250 \nQ 1547 4250 1301 3770 \nQ 1056 3291 1056 2328 \nQ 1056 1369 1301 889 \nQ 1547 409 2034 409 \nQ 2525 409 2770 889 \nQ 3016 1369 3016 2328 \nQ 3016 3291 2770 3770 \nQ 2525 4250 2034 4250 \nz\nM 2034 4750 \nQ 2819 4750 3233 4129 \nQ 3647 3509 3647 2328 \nQ 3647 1150 3233 529 \nQ 2819 -91 2034 -91 \nQ 1250 -91 836 529 \nQ 422 1150 422 2328 \nQ 422 3509 836 4129 \nQ 1250 4750 2034 4750 \nz\n\" id=\"DejaVuSans-30\" transform=\"scale(0.015625)\"/>\n       </defs>\n       <use xlink:href=\"#DejaVuSans-30\"/>\n      </g>\n     </g>\n    </g>\n    <g id=\"xtick_2\">\n     <g id=\"line2d_2\">\n      <g>\n       <use style=\"stroke:#000000;stroke-width:0.8;\" x=\"190.05593\" xlink:href=\"#m1706a12b9a\" y=\"402.838125\"/>\n      </g>\n     </g>\n     <g id=\"text_2\">\n      <!-- 10 -->\n      <g transform=\"translate(183.69343 417.436562)scale(0.1 -0.1)\">\n       <defs>\n        <path d=\"M 794 531 \nL 1825 531 \nL 1825 4091 \nL 703 3866 \nL 703 4441 \nL 1819 4666 \nL 2450 4666 \nL 2450 531 \nL 3481 531 \nL 3481 0 \nL 794 0 \nL 794 531 \nz\n\" id=\"DejaVuSans-31\" transform=\"scale(0.015625)\"/>\n       </defs>\n       <use xlink:href=\"#DejaVuSans-31\"/>\n       <use x=\"63.623047\" xlink:href=\"#DejaVuSans-30\"/>\n      </g>\n     </g>\n    </g>\n    <g id=\"xtick_3\">\n     <g id=\"line2d_3\">\n      <g>\n       <use style=\"stroke:#000000;stroke-width:0.8;\" x=\"319.572371\" xlink:href=\"#m1706a12b9a\" y=\"402.838125\"/>\n      </g>\n     </g>\n     <g id=\"text_3\">\n      <!-- 20 -->\n      <g transform=\"translate(313.209871 417.436562)scale(0.1 -0.1)\">\n       <defs>\n        <path d=\"M 1228 531 \nL 3431 531 \nL 3431 0 \nL 469 0 \nL 469 531 \nQ 828 903 1448 1529 \nQ 2069 2156 2228 2338 \nQ 2531 2678 2651 2914 \nQ 2772 3150 2772 3378 \nQ 2772 3750 2511 3984 \nQ 2250 4219 1831 4219 \nQ 1534 4219 1204 4116 \nQ 875 4013 500 3803 \nL 500 4441 \nQ 881 4594 1212 4672 \nQ 1544 4750 1819 4750 \nQ 2544 4750 2975 4387 \nQ 3406 4025 3406 3419 \nQ 3406 3131 3298 2873 \nQ 3191 2616 2906 2266 \nQ 2828 2175 2409 1742 \nQ 1991 1309 1228 531 \nz\n\" id=\"DejaVuSans-32\" transform=\"scale(0.015625)\"/>\n       </defs>\n       <use xlink:href=\"#DejaVuSans-32\"/>\n       <use x=\"63.623047\" xlink:href=\"#DejaVuSans-30\"/>\n      </g>\n     </g>\n    </g>\n    <g id=\"xtick_4\">\n     <g id=\"line2d_4\">\n      <g>\n       <use style=\"stroke:#000000;stroke-width:0.8;\" x=\"449.088812\" xlink:href=\"#m1706a12b9a\" y=\"402.838125\"/>\n      </g>\n     </g>\n     <g id=\"text_4\">\n      <!-- 30 -->\n      <g transform=\"translate(442.726312 417.436562)scale(0.1 -0.1)\">\n       <defs>\n        <path d=\"M 2597 2516 \nQ 3050 2419 3304 2112 \nQ 3559 1806 3559 1356 \nQ 3559 666 3084 287 \nQ 2609 -91 1734 -91 \nQ 1441 -91 1130 -33 \nQ 819 25 488 141 \nL 488 750 \nQ 750 597 1062 519 \nQ 1375 441 1716 441 \nQ 2309 441 2620 675 \nQ 2931 909 2931 1356 \nQ 2931 1769 2642 2001 \nQ 2353 2234 1838 2234 \nL 1294 2234 \nL 1294 2753 \nL 1863 2753 \nQ 2328 2753 2575 2939 \nQ 2822 3125 2822 3475 \nQ 2822 3834 2567 4026 \nQ 2313 4219 1838 4219 \nQ 1578 4219 1281 4162 \nQ 984 4106 628 3988 \nL 628 4550 \nQ 988 4650 1302 4700 \nQ 1616 4750 1894 4750 \nQ 2613 4750 3031 4423 \nQ 3450 4097 3450 3541 \nQ 3450 3153 3228 2886 \nQ 3006 2619 2597 2516 \nz\n\" id=\"DejaVuSans-33\" transform=\"scale(0.015625)\"/>\n       </defs>\n       <use xlink:href=\"#DejaVuSans-33\"/>\n       <use x=\"63.623047\" xlink:href=\"#DejaVuSans-30\"/>\n      </g>\n     </g>\n    </g>\n    <g id=\"xtick_5\">\n     <g id=\"line2d_5\">\n      <g>\n       <use style=\"stroke:#000000;stroke-width:0.8;\" x=\"578.605253\" xlink:href=\"#m1706a12b9a\" y=\"402.838125\"/>\n      </g>\n     </g>\n     <g id=\"text_5\">\n      <!-- 40 -->\n      <g transform=\"translate(572.242753 417.436562)scale(0.1 -0.1)\">\n       <defs>\n        <path d=\"M 2419 4116 \nL 825 1625 \nL 2419 1625 \nL 2419 4116 \nz\nM 2253 4666 \nL 3047 4666 \nL 3047 1625 \nL 3713 1625 \nL 3713 1100 \nL 3047 1100 \nL 3047 0 \nL 2419 0 \nL 2419 1100 \nL 313 1100 \nL 313 1709 \nL 2253 4666 \nz\n\" id=\"DejaVuSans-34\" transform=\"scale(0.015625)\"/>\n       </defs>\n       <use xlink:href=\"#DejaVuSans-34\"/>\n       <use x=\"63.623047\" xlink:href=\"#DejaVuSans-30\"/>\n      </g>\n     </g>\n    </g>\n    <g id=\"text_6\">\n     <!-- timeline -->\n     <g transform=\"translate(344.583594 431.114687)scale(0.1 -0.1)\">\n      <defs>\n       <path d=\"M 1172 4494 \nL 1172 3500 \nL 2356 3500 \nL 2356 3053 \nL 1172 3053 \nL 1172 1153 \nQ 1172 725 1289 603 \nQ 1406 481 1766 481 \nL 2356 481 \nL 2356 0 \nL 1766 0 \nQ 1100 0 847 248 \nQ 594 497 594 1153 \nL 594 3053 \nL 172 3053 \nL 172 3500 \nL 594 3500 \nL 594 4494 \nL 1172 4494 \nz\n\" id=\"DejaVuSans-74\" transform=\"scale(0.015625)\"/>\n       <path d=\"M 603 3500 \nL 1178 3500 \nL 1178 0 \nL 603 0 \nL 603 3500 \nz\nM 603 4863 \nL 1178 4863 \nL 1178 4134 \nL 603 4134 \nL 603 4863 \nz\n\" id=\"DejaVuSans-69\" transform=\"scale(0.015625)\"/>\n       <path d=\"M 3328 2828 \nQ 3544 3216 3844 3400 \nQ 4144 3584 4550 3584 \nQ 5097 3584 5394 3201 \nQ 5691 2819 5691 2113 \nL 5691 0 \nL 5113 0 \nL 5113 2094 \nQ 5113 2597 4934 2840 \nQ 4756 3084 4391 3084 \nQ 3944 3084 3684 2787 \nQ 3425 2491 3425 1978 \nL 3425 0 \nL 2847 0 \nL 2847 2094 \nQ 2847 2600 2669 2842 \nQ 2491 3084 2119 3084 \nQ 1678 3084 1418 2786 \nQ 1159 2488 1159 1978 \nL 1159 0 \nL 581 0 \nL 581 3500 \nL 1159 3500 \nL 1159 2956 \nQ 1356 3278 1631 3431 \nQ 1906 3584 2284 3584 \nQ 2666 3584 2933 3390 \nQ 3200 3197 3328 2828 \nz\n\" id=\"DejaVuSans-6d\" transform=\"scale(0.015625)\"/>\n       <path d=\"M 3597 1894 \nL 3597 1613 \nL 953 1613 \nQ 991 1019 1311 708 \nQ 1631 397 2203 397 \nQ 2534 397 2845 478 \nQ 3156 559 3463 722 \nL 3463 178 \nQ 3153 47 2828 -22 \nQ 2503 -91 2169 -91 \nQ 1331 -91 842 396 \nQ 353 884 353 1716 \nQ 353 2575 817 3079 \nQ 1281 3584 2069 3584 \nQ 2775 3584 3186 3129 \nQ 3597 2675 3597 1894 \nz\nM 3022 2063 \nQ 3016 2534 2758 2815 \nQ 2500 3097 2075 3097 \nQ 1594 3097 1305 2825 \nQ 1016 2553 972 2059 \nL 3022 2063 \nz\n\" id=\"DejaVuSans-65\" transform=\"scale(0.015625)\"/>\n       <path d=\"M 603 4863 \nL 1178 4863 \nL 1178 0 \nL 603 0 \nL 603 4863 \nz\n\" id=\"DejaVuSans-6c\" transform=\"scale(0.015625)\"/>\n       <path d=\"M 3513 2113 \nL 3513 0 \nL 2938 0 \nL 2938 2094 \nQ 2938 2591 2744 2837 \nQ 2550 3084 2163 3084 \nQ 1697 3084 1428 2787 \nQ 1159 2491 1159 1978 \nL 1159 0 \nL 581 0 \nL 581 3500 \nL 1159 3500 \nL 1159 2956 \nQ 1366 3272 1645 3428 \nQ 1925 3584 2291 3584 \nQ 2894 3584 3203 3211 \nQ 3513 2838 3513 2113 \nz\n\" id=\"DejaVuSans-6e\" transform=\"scale(0.015625)\"/>\n      </defs>\n      <use xlink:href=\"#DejaVuSans-74\"/>\n      <use x=\"39.208984\" xlink:href=\"#DejaVuSans-69\"/>\n      <use x=\"66.992188\" xlink:href=\"#DejaVuSans-6d\"/>\n      <use x=\"164.404297\" xlink:href=\"#DejaVuSans-65\"/>\n      <use x=\"225.927734\" xlink:href=\"#DejaVuSans-6c\"/>\n      <use x=\"253.710938\" xlink:href=\"#DejaVuSans-69\"/>\n      <use x=\"281.494141\" xlink:href=\"#DejaVuSans-6e\"/>\n      <use x=\"344.873047\" xlink:href=\"#DejaVuSans-65\"/>\n     </g>\n    </g>\n   </g>\n   <g id=\"matplotlib.axis_2\">\n    <g id=\"ytick_1\">\n     <g id=\"line2d_6\">\n      <defs>\n       <path d=\"M 0 0 \nL -3.5 0 \n\" id=\"m29470a2cb1\" style=\"stroke:#000000;stroke-width:0.8;\"/>\n      </defs>\n      <g>\n       <use style=\"stroke:#000000;stroke-width:0.8;\" x=\"30.103125\" xlink:href=\"#m29470a2cb1\" y=\"348.34254\"/>\n      </g>\n     </g>\n     <g id=\"text_7\">\n      <!-- 0.2 -->\n      <g transform=\"translate(7.2 352.141759)scale(0.1 -0.1)\">\n       <defs>\n        <path d=\"M 684 794 \nL 1344 794 \nL 1344 0 \nL 684 0 \nL 684 794 \nz\n\" id=\"DejaVuSans-2e\" transform=\"scale(0.015625)\"/>\n       </defs>\n       <use xlink:href=\"#DejaVuSans-30\"/>\n       <use x=\"63.623047\" xlink:href=\"#DejaVuSans-2e\"/>\n       <use x=\"95.410156\" xlink:href=\"#DejaVuSans-32\"/>\n      </g>\n     </g>\n    </g>\n    <g id=\"ytick_2\">\n     <g id=\"line2d_7\">\n      <g>\n       <use style=\"stroke:#000000;stroke-width:0.8;\" x=\"30.103125\" xlink:href=\"#m29470a2cb1\" y=\"271.160527\"/>\n      </g>\n     </g>\n     <g id=\"text_8\">\n      <!-- 0.4 -->\n      <g transform=\"translate(7.2 274.959746)scale(0.1 -0.1)\">\n       <use xlink:href=\"#DejaVuSans-30\"/>\n       <use x=\"63.623047\" xlink:href=\"#DejaVuSans-2e\"/>\n       <use x=\"95.410156\" xlink:href=\"#DejaVuSans-34\"/>\n      </g>\n     </g>\n    </g>\n    <g id=\"ytick_3\">\n     <g id=\"line2d_8\">\n      <g>\n       <use style=\"stroke:#000000;stroke-width:0.8;\" x=\"30.103125\" xlink:href=\"#m29470a2cb1\" y=\"193.978514\"/>\n      </g>\n     </g>\n     <g id=\"text_9\">\n      <!-- 0.6 -->\n      <g transform=\"translate(7.2 197.777733)scale(0.1 -0.1)\">\n       <defs>\n        <path d=\"M 2113 2584 \nQ 1688 2584 1439 2293 \nQ 1191 2003 1191 1497 \nQ 1191 994 1439 701 \nQ 1688 409 2113 409 \nQ 2538 409 2786 701 \nQ 3034 994 3034 1497 \nQ 3034 2003 2786 2293 \nQ 2538 2584 2113 2584 \nz\nM 3366 4563 \nL 3366 3988 \nQ 3128 4100 2886 4159 \nQ 2644 4219 2406 4219 \nQ 1781 4219 1451 3797 \nQ 1122 3375 1075 2522 \nQ 1259 2794 1537 2939 \nQ 1816 3084 2150 3084 \nQ 2853 3084 3261 2657 \nQ 3669 2231 3669 1497 \nQ 3669 778 3244 343 \nQ 2819 -91 2113 -91 \nQ 1303 -91 875 529 \nQ 447 1150 447 2328 \nQ 447 3434 972 4092 \nQ 1497 4750 2381 4750 \nQ 2619 4750 2861 4703 \nQ 3103 4656 3366 4563 \nz\n\" id=\"DejaVuSans-36\" transform=\"scale(0.015625)\"/>\n       </defs>\n       <use xlink:href=\"#DejaVuSans-30\"/>\n       <use x=\"63.623047\" xlink:href=\"#DejaVuSans-2e\"/>\n       <use x=\"95.410156\" xlink:href=\"#DejaVuSans-36\"/>\n      </g>\n     </g>\n    </g>\n    <g id=\"ytick_4\">\n     <g id=\"line2d_9\">\n      <g>\n       <use style=\"stroke:#000000;stroke-width:0.8;\" x=\"30.103125\" xlink:href=\"#m29470a2cb1\" y=\"116.796501\"/>\n      </g>\n     </g>\n     <g id=\"text_10\">\n      <!-- 0.8 -->\n      <g transform=\"translate(7.2 120.59572)scale(0.1 -0.1)\">\n       <defs>\n        <path d=\"M 2034 2216 \nQ 1584 2216 1326 1975 \nQ 1069 1734 1069 1313 \nQ 1069 891 1326 650 \nQ 1584 409 2034 409 \nQ 2484 409 2743 651 \nQ 3003 894 3003 1313 \nQ 3003 1734 2745 1975 \nQ 2488 2216 2034 2216 \nz\nM 1403 2484 \nQ 997 2584 770 2862 \nQ 544 3141 544 3541 \nQ 544 4100 942 4425 \nQ 1341 4750 2034 4750 \nQ 2731 4750 3128 4425 \nQ 3525 4100 3525 3541 \nQ 3525 3141 3298 2862 \nQ 3072 2584 2669 2484 \nQ 3125 2378 3379 2068 \nQ 3634 1759 3634 1313 \nQ 3634 634 3220 271 \nQ 2806 -91 2034 -91 \nQ 1263 -91 848 271 \nQ 434 634 434 1313 \nQ 434 1759 690 2068 \nQ 947 2378 1403 2484 \nz\nM 1172 3481 \nQ 1172 3119 1398 2916 \nQ 1625 2713 2034 2713 \nQ 2441 2713 2670 2916 \nQ 2900 3119 2900 3481 \nQ 2900 3844 2670 4047 \nQ 2441 4250 2034 4250 \nQ 1625 4250 1398 4047 \nQ 1172 3844 1172 3481 \nz\n\" id=\"DejaVuSans-38\" transform=\"scale(0.015625)\"/>\n       </defs>\n       <use xlink:href=\"#DejaVuSans-30\"/>\n       <use x=\"63.623047\" xlink:href=\"#DejaVuSans-2e\"/>\n       <use x=\"95.410156\" xlink:href=\"#DejaVuSans-38\"/>\n      </g>\n     </g>\n    </g>\n    <g id=\"ytick_5\">\n     <g id=\"line2d_10\">\n      <g>\n       <use style=\"stroke:#000000;stroke-width:0.8;\" x=\"30.103125\" xlink:href=\"#m29470a2cb1\" y=\"39.614489\"/>\n      </g>\n     </g>\n     <g id=\"text_11\">\n      <!-- 1.0 -->\n      <g transform=\"translate(7.2 43.413707)scale(0.1 -0.1)\">\n       <use xlink:href=\"#DejaVuSans-31\"/>\n       <use x=\"63.623047\" xlink:href=\"#DejaVuSans-2e\"/>\n       <use x=\"95.410156\" xlink:href=\"#DejaVuSans-30\"/>\n      </g>\n     </g>\n    </g>\n   </g>\n   <g id=\"line2d_11\">\n    <path clip-path=\"url(#p18a60b1937)\" d=\"M 60.539489 39.953999 \nL 73.491133 39.953999 \nL 73.491133 41.764721 \nL 86.442777 41.764721 \nL 86.442777 56.917666 \nL 99.394421 56.917666 \nL 99.394421 84.962476 \nL 112.346065 84.962476 \nL 112.346065 105.499515 \nL 125.297709 105.499515 \nL 125.297709 123.539831 \nL 138.249353 123.539831 \nL 138.249353 141.03128 \nL 151.200997 141.03128 \nL 151.200997 165.107792 \nL 164.152641 165.107792 \nL 164.152641 178.411835 \nL 177.104286 178.411835 \nL 177.104286 190.083283 \nL 190.05593 190.083283 \nL 190.05593 205.669987 \nL 203.007574 205.669987 \nL 203.007574 212.771053 \nL 215.959218 212.771053 \nL 215.959218 218.011985 \nL 228.910862 218.011985 \nL 228.910862 224.465382 \nL 241.862506 224.465382 \nL 241.862506 229.678027 \nL 254.81415 229.678027 \nL 254.81415 238.668281 \nL 267.765794 238.668281 \nL 267.765794 244.325236 \nL 280.717438 244.325236 \nL 280.717438 248.873411 \nL 293.669082 248.873411 \nL 293.669082 253.883475 \nL 306.620727 253.883475 \nL 306.620727 258.792901 \nL 319.572371 258.792901 \nL 319.572371 263.028578 \nL 332.524015 263.028578 \nL 332.524015 267.802022 \nL 345.475659 267.802022 \nL 345.475659 273.368699 \nL 358.427303 273.368699 \nL 358.427303 278.076757 \nL 371.378947 278.076757 \nL 371.378947 281.422773 \nL 384.330591 281.422773 \nL 384.330591 284.39159 \nL 397.282235 284.39159 \nL 397.282235 289.055114 \nL 410.233879 289.055114 \nL 410.233879 297.193199 \nL 423.185523 297.193199 \nL 423.185523 300.678742 \nL 436.137168 300.678742 \nL 436.137168 303.659146 \nL 449.088812 303.659146 \nL 449.088812 305.385285 \nL 462.040456 305.385285 \nL 462.040456 308.315511 \nL 474.9921 308.315511 \nL 474.9921 311.729367 \nL 487.943744 311.729367 \nL 487.943744 316.264682 \nL 500.895388 316.264682 \nL 500.895388 319.287683 \nL 513.847032 319.287683 \nL 513.847032 323.556128 \nL 526.798676 323.556128 \nL 526.798676 325.108947 \nL 539.75032 325.108947 \nL 539.75032 326.764149 \nL 552.701964 326.764149 \nL 552.701964 328.639347 \nL 565.653609 328.639347 \nL 565.653609 338.327867 \nL 578.605253 338.327867 \nL 578.605253 338.327867 \nL 591.556897 338.327867 \nL 591.556897 338.327867 \nL 604.508541 338.327867 \nL 604.508541 338.327867 \nL 617.460185 338.327867 \nL 617.460185 338.327867 \nL 630.411829 338.327867 \nL 630.411829 338.327867 \nL 643.363473 338.327867 \nL 643.363473 338.327867 \nL 656.315117 338.327867 \nL 656.315117 338.327867 \nL 669.266761 338.327867 \nL 669.266761 338.327867 \n\" style=\"fill:none;stroke:#1f77b4;stroke-linecap:square;stroke-width:1.5;\"/>\n   </g>\n   <g id=\"line2d_12\">\n    <path clip-path=\"url(#p18a60b1937)\" d=\"M 60.539489 39.92508 \nL 73.491133 39.92508 \nL 73.491133 44.73925 \nL 86.442777 44.73925 \nL 86.442777 59.764071 \nL 99.394421 59.764071 \nL 99.394421 90.129739 \nL 112.346065 90.129739 \nL 112.346065 115.189946 \nL 125.297709 115.189946 \nL 125.297709 138.305475 \nL 138.249353 138.305475 \nL 138.249353 156.245781 \nL 151.200997 156.245781 \nL 151.200997 177.162344 \nL 164.152641 177.162344 \nL 164.152641 191.782373 \nL 177.104286 191.782373 \nL 177.104286 205.937567 \nL 190.05593 205.937567 \nL 190.05593 222.558954 \nL 203.007574 222.558954 \nL 203.007574 234.531644 \nL 215.959218 234.531644 \nL 215.959218 238.986854 \nL 228.910862 238.986854 \nL 228.910862 245.432659 \nL 241.862506 245.432659 \nL 241.862506 251.401419 \nL 254.81415 251.401419 \nL 254.81415 258.931068 \nL 267.765794 258.931068 \nL 267.765794 264.830271 \nL 280.717438 264.830271 \nL 280.717438 270.612374 \nL 293.669082 270.612374 \nL 293.669082 278.431285 \nL 306.620727 278.431285 \nL 306.620727 281.650498 \nL 319.572371 281.650498 \nL 319.572371 286.242223 \nL 332.524015 286.242223 \nL 332.524015 292.799772 \nL 345.475659 292.799772 \nL 345.475659 299.313871 \nL 358.427303 299.313871 \nL 358.427303 302.67949 \nL 371.378947 302.67949 \nL 371.378947 304.38963 \nL 384.330591 304.38963 \nL 384.330591 309.720751 \nL 397.282235 309.720751 \nL 397.282235 312.640175 \nL 410.233879 312.640175 \nL 410.233879 316.821077 \nL 423.185523 316.821077 \nL 423.185523 321.896726 \nL 436.137168 321.896726 \nL 436.137168 324.101573 \nL 449.088812 324.101573 \nL 449.088812 327.772994 \nL 462.040456 327.772994 \nL 462.040456 329.254078 \nL 474.9921 329.254078 \nL 474.9921 332.393332 \nL 487.943744 332.393332 \nL 487.943744 335.215491 \nL 500.895388 335.215491 \nL 500.895388 338.266472 \nL 513.847032 338.266472 \nL 513.847032 344.307416 \nL 526.798676 344.307416 \nL 526.798676 346.463624 \nL 539.75032 346.463624 \nL 539.75032 349.626061 \nL 552.701964 349.626061 \nL 552.701964 351.547542 \nL 565.653609 351.547542 \nL 565.653609 368.61916 \nL 604.508541 368.61916 \nL 604.508541 368.61916 \nL 643.363473 368.61916 \nL 643.363473 368.61916 \nL 669.266761 368.61916 \nL 669.266761 368.61916 \n\" style=\"fill:none;stroke:#ff7f0e;stroke-linecap:square;stroke-width:1.5;\"/>\n   </g>\n   <g id=\"line2d_13\">\n    <path clip-path=\"url(#p18a60b1937)\" d=\"M 60.539489 39.614489 \nL 73.491133 39.614489 \nL 73.491133 41.884548 \nL 86.442777 41.884548 \nL 86.442777 47.384763 \nL 99.394421 47.384763 \nL 99.394421 63.120719 \nL 112.346065 63.120719 \nL 112.346065 77.902981 \nL 125.297709 77.902981 \nL 125.297709 88.900637 \nL 138.249353 88.900637 \nL 138.249353 105.683881 \nL 151.200997 105.683881 \nL 151.200997 130.807317 \nL 164.152641 130.807317 \nL 164.152641 138.126454 \nL 177.104286 138.126454 \nL 177.104286 147.107644 \nL 190.05593 147.107644 \nL 190.05593 160.150599 \nL 203.007574 160.150599 \nL 203.007574 177.842196 \nL 215.959218 177.842196 \nL 215.959218 183.023835 \nL 228.910862 183.023835 \nL 228.910862 189.322555 \nL 241.862506 189.322555 \nL 241.862506 195.214215 \nL 254.81415 195.214215 \nL 254.81415 206.045641 \nL 267.765794 206.045641 \nL 267.765794 210.067506 \nL 280.717438 210.067506 \nL 280.717438 214.738662 \nL 293.669082 214.738662 \nL 293.669082 221.863819 \nL 306.620727 221.863819 \nL 306.620727 229.720167 \nL 319.572371 229.720167 \nL 319.572371 231.573206 \nL 332.524015 231.573206 \nL 332.524015 238.411234 \nL 345.475659 238.411234 \nL 345.475659 247.475547 \nL 358.427303 247.475547 \nL 358.427303 259.345481 \nL 371.378947 259.345481 \nL 371.378947 261.513034 \nL 384.330591 261.513034 \nL 384.330591 262.964463 \nL 397.282235 262.964463 \nL 397.282235 267.39792 \nL 410.233879 267.39792 \nL 410.233879 270.641544 \nL 423.185523 270.641544 \nL 423.185523 273.936927 \nL 436.137168 273.936927 \nL 436.137168 276.463387 \nL 449.088812 276.463387 \nL 449.088812 283.316774 \nL 462.040456 283.316774 \nL 462.040456 292.095032 \nL 474.9921 292.095032 \nL 474.9921 295.775846 \nL 487.943744 295.775846 \nL 487.943744 302.503557 \nL 500.895388 302.503557 \nL 500.895388 311.653879 \nL 513.847032 311.653879 \nL 513.847032 321.414223 \nL 526.798676 321.414223 \nL 526.798676 321.414223 \nL 539.75032 321.414223 \nL 539.75032 324.153968 \nL 552.701964 324.153968 \nL 552.701964 324.153968 \nL 565.653609 324.153968 \nL 565.653609 324.153968 \nL 578.605253 324.153968 \nL 578.605253 326.18138 \nL 591.556897 326.18138 \nL 591.556897 326.18138 \nL 604.508541 326.18138 \nL 604.508541 326.18138 \nL 617.460185 326.18138 \nL 617.460185 326.18138 \nL 643.363473 326.18138 \nL 643.363473 326.18138 \nL 656.315117 326.18138 \nL 656.315117 326.18138 \nL 669.266761 326.18138 \nL 669.266761 326.18138 \n\" style=\"fill:none;stroke:#2ca02c;stroke-linecap:square;stroke-width:1.5;\"/>\n   </g>\n   <g id=\"patch_3\">\n    <path d=\"M 30.103125 402.838125 \nL 30.103125 22.318125 \n\" style=\"fill:none;stroke:#000000;stroke-linecap:square;stroke-linejoin:miter;stroke-width:0.8;\"/>\n   </g>\n   <g id=\"patch_4\">\n    <path d=\"M 699.703125 402.838125 \nL 699.703125 22.318125 \n\" style=\"fill:none;stroke:#000000;stroke-linecap:square;stroke-linejoin:miter;stroke-width:0.8;\"/>\n   </g>\n   <g id=\"patch_5\">\n    <path d=\"M 30.103125 402.838125 \nL 699.703125 402.838125 \n\" style=\"fill:none;stroke:#000000;stroke-linecap:square;stroke-linejoin:miter;stroke-width:0.8;\"/>\n   </g>\n   <g id=\"patch_6\">\n    <path d=\"M 30.103125 22.318125 \nL 699.703125 22.318125 \n\" style=\"fill:none;stroke:#000000;stroke-linecap:square;stroke-linejoin:miter;stroke-width:0.8;\"/>\n   </g>\n   <g id=\"text_12\">\n    <!-- contracted frequency -->\n    <g transform=\"translate(300.48375 16.318125)scale(0.12 -0.12)\">\n     <defs>\n      <path d=\"M 3122 3366 \nL 3122 2828 \nQ 2878 2963 2633 3030 \nQ 2388 3097 2138 3097 \nQ 1578 3097 1268 2742 \nQ 959 2388 959 1747 \nQ 959 1106 1268 751 \nQ 1578 397 2138 397 \nQ 2388 397 2633 464 \nQ 2878 531 3122 666 \nL 3122 134 \nQ 2881 22 2623 -34 \nQ 2366 -91 2075 -91 \nQ 1284 -91 818 406 \nQ 353 903 353 1747 \nQ 353 2603 823 3093 \nQ 1294 3584 2113 3584 \nQ 2378 3584 2631 3529 \nQ 2884 3475 3122 3366 \nz\n\" id=\"DejaVuSans-63\" transform=\"scale(0.015625)\"/>\n      <path d=\"M 1959 3097 \nQ 1497 3097 1228 2736 \nQ 959 2375 959 1747 \nQ 959 1119 1226 758 \nQ 1494 397 1959 397 \nQ 2419 397 2687 759 \nQ 2956 1122 2956 1747 \nQ 2956 2369 2687 2733 \nQ 2419 3097 1959 3097 \nz\nM 1959 3584 \nQ 2709 3584 3137 3096 \nQ 3566 2609 3566 1747 \nQ 3566 888 3137 398 \nQ 2709 -91 1959 -91 \nQ 1206 -91 779 398 \nQ 353 888 353 1747 \nQ 353 2609 779 3096 \nQ 1206 3584 1959 3584 \nz\n\" id=\"DejaVuSans-6f\" transform=\"scale(0.015625)\"/>\n      <path d=\"M 2631 2963 \nQ 2534 3019 2420 3045 \nQ 2306 3072 2169 3072 \nQ 1681 3072 1420 2755 \nQ 1159 2438 1159 1844 \nL 1159 0 \nL 581 0 \nL 581 3500 \nL 1159 3500 \nL 1159 2956 \nQ 1341 3275 1631 3429 \nQ 1922 3584 2338 3584 \nQ 2397 3584 2469 3576 \nQ 2541 3569 2628 3553 \nL 2631 2963 \nz\n\" id=\"DejaVuSans-72\" transform=\"scale(0.015625)\"/>\n      <path d=\"M 2194 1759 \nQ 1497 1759 1228 1600 \nQ 959 1441 959 1056 \nQ 959 750 1161 570 \nQ 1363 391 1709 391 \nQ 2188 391 2477 730 \nQ 2766 1069 2766 1631 \nL 2766 1759 \nL 2194 1759 \nz\nM 3341 1997 \nL 3341 0 \nL 2766 0 \nL 2766 531 \nQ 2569 213 2275 61 \nQ 1981 -91 1556 -91 \nQ 1019 -91 701 211 \nQ 384 513 384 1019 \nQ 384 1609 779 1909 \nQ 1175 2209 1959 2209 \nL 2766 2209 \nL 2766 2266 \nQ 2766 2663 2505 2880 \nQ 2244 3097 1772 3097 \nQ 1472 3097 1187 3025 \nQ 903 2953 641 2809 \nL 641 3341 \nQ 956 3463 1253 3523 \nQ 1550 3584 1831 3584 \nQ 2591 3584 2966 3190 \nQ 3341 2797 3341 1997 \nz\n\" id=\"DejaVuSans-61\" transform=\"scale(0.015625)\"/>\n      <path d=\"M 2906 2969 \nL 2906 4863 \nL 3481 4863 \nL 3481 0 \nL 2906 0 \nL 2906 525 \nQ 2725 213 2448 61 \nQ 2172 -91 1784 -91 \nQ 1150 -91 751 415 \nQ 353 922 353 1747 \nQ 353 2572 751 3078 \nQ 1150 3584 1784 3584 \nQ 2172 3584 2448 3432 \nQ 2725 3281 2906 2969 \nz\nM 947 1747 \nQ 947 1113 1208 752 \nQ 1469 391 1925 391 \nQ 2381 391 2643 752 \nQ 2906 1113 2906 1747 \nQ 2906 2381 2643 2742 \nQ 2381 3103 1925 3103 \nQ 1469 3103 1208 2742 \nQ 947 2381 947 1747 \nz\n\" id=\"DejaVuSans-64\" transform=\"scale(0.015625)\"/>\n      <path id=\"DejaVuSans-20\" transform=\"scale(0.015625)\"/>\n      <path d=\"M 2375 4863 \nL 2375 4384 \nL 1825 4384 \nQ 1516 4384 1395 4259 \nQ 1275 4134 1275 3809 \nL 1275 3500 \nL 2222 3500 \nL 2222 3053 \nL 1275 3053 \nL 1275 0 \nL 697 0 \nL 697 3053 \nL 147 3053 \nL 147 3500 \nL 697 3500 \nL 697 3744 \nQ 697 4328 969 4595 \nQ 1241 4863 1831 4863 \nL 2375 4863 \nz\n\" id=\"DejaVuSans-66\" transform=\"scale(0.015625)\"/>\n      <path d=\"M 947 1747 \nQ 947 1113 1208 752 \nQ 1469 391 1925 391 \nQ 2381 391 2643 752 \nQ 2906 1113 2906 1747 \nQ 2906 2381 2643 2742 \nQ 2381 3103 1925 3103 \nQ 1469 3103 1208 2742 \nQ 947 2381 947 1747 \nz\nM 2906 525 \nQ 2725 213 2448 61 \nQ 2172 -91 1784 -91 \nQ 1150 -91 751 415 \nQ 353 922 353 1747 \nQ 353 2572 751 3078 \nQ 1150 3584 1784 3584 \nQ 2172 3584 2448 3432 \nQ 2725 3281 2906 2969 \nL 2906 3500 \nL 3481 3500 \nL 3481 -1331 \nL 2906 -1331 \nL 2906 525 \nz\n\" id=\"DejaVuSans-71\" transform=\"scale(0.015625)\"/>\n      <path d=\"M 544 1381 \nL 544 3500 \nL 1119 3500 \nL 1119 1403 \nQ 1119 906 1312 657 \nQ 1506 409 1894 409 \nQ 2359 409 2629 706 \nQ 2900 1003 2900 1516 \nL 2900 3500 \nL 3475 3500 \nL 3475 0 \nL 2900 0 \nL 2900 538 \nQ 2691 219 2414 64 \nQ 2138 -91 1772 -91 \nQ 1169 -91 856 284 \nQ 544 659 544 1381 \nz\nM 1991 3584 \nL 1991 3584 \nz\n\" id=\"DejaVuSans-75\" transform=\"scale(0.015625)\"/>\n      <path d=\"M 2059 -325 \nQ 1816 -950 1584 -1140 \nQ 1353 -1331 966 -1331 \nL 506 -1331 \nL 506 -850 \nL 844 -850 \nQ 1081 -850 1212 -737 \nQ 1344 -625 1503 -206 \nL 1606 56 \nL 191 3500 \nL 800 3500 \nL 1894 763 \nL 2988 3500 \nL 3597 3500 \nL 2059 -325 \nz\n\" id=\"DejaVuSans-79\" transform=\"scale(0.015625)\"/>\n     </defs>\n     <use xlink:href=\"#DejaVuSans-63\"/>\n     <use x=\"54.980469\" xlink:href=\"#DejaVuSans-6f\"/>\n     <use x=\"116.162109\" xlink:href=\"#DejaVuSans-6e\"/>\n     <use x=\"179.541016\" xlink:href=\"#DejaVuSans-74\"/>\n     <use x=\"218.75\" xlink:href=\"#DejaVuSans-72\"/>\n     <use x=\"259.863281\" xlink:href=\"#DejaVuSans-61\"/>\n     <use x=\"321.142578\" xlink:href=\"#DejaVuSans-63\"/>\n     <use x=\"376.123047\" xlink:href=\"#DejaVuSans-74\"/>\n     <use x=\"415.332031\" xlink:href=\"#DejaVuSans-65\"/>\n     <use x=\"476.855469\" xlink:href=\"#DejaVuSans-64\"/>\n     <use x=\"540.332031\" xlink:href=\"#DejaVuSans-20\"/>\n     <use x=\"572.119141\" xlink:href=\"#DejaVuSans-66\"/>\n     <use x=\"607.324219\" xlink:href=\"#DejaVuSans-72\"/>\n     <use x=\"646.1875\" xlink:href=\"#DejaVuSans-65\"/>\n     <use x=\"707.710938\" xlink:href=\"#DejaVuSans-71\"/>\n     <use x=\"771.1875\" xlink:href=\"#DejaVuSans-75\"/>\n     <use x=\"834.566406\" xlink:href=\"#DejaVuSans-65\"/>\n     <use x=\"896.089844\" xlink:href=\"#DejaVuSans-6e\"/>\n     <use x=\"959.46875\" xlink:href=\"#DejaVuSans-63\"/>\n     <use x=\"1014.449219\" xlink:href=\"#DejaVuSans-79\"/>\n    </g>\n   </g>\n   <g id=\"legend_1\">\n    <g id=\"patch_7\">\n     <path d=\"M 625.75625 74.3525 \nL 692.703125 74.3525 \nQ 694.703125 74.3525 694.703125 72.3525 \nL 694.703125 29.318125 \nQ 694.703125 27.318125 692.703125 27.318125 \nL 625.75625 27.318125 \nQ 623.75625 27.318125 623.75625 29.318125 \nL 623.75625 72.3525 \nQ 623.75625 74.3525 625.75625 74.3525 \nz\n\" style=\"fill:#ffffff;opacity:0.8;stroke:#cccccc;stroke-linejoin:miter;\"/>\n    </g>\n    <g id=\"line2d_14\">\n     <path d=\"M 627.75625 35.416562 \nL 647.75625 35.416562 \n\" style=\"fill:none;stroke:#1f77b4;stroke-linecap:square;stroke-width:1.5;\"/>\n    </g>\n    <g id=\"line2d_15\"/>\n    <g id=\"text_13\">\n     <!-- cfreq 1 -->\n     <g transform=\"translate(655.75625 38.916562)scale(0.1 -0.1)\">\n      <use xlink:href=\"#DejaVuSans-63\"/>\n      <use x=\"54.980469\" xlink:href=\"#DejaVuSans-66\"/>\n      <use x=\"90.185547\" xlink:href=\"#DejaVuSans-72\"/>\n      <use x=\"129.048828\" xlink:href=\"#DejaVuSans-65\"/>\n      <use x=\"190.572266\" xlink:href=\"#DejaVuSans-71\"/>\n      <use x=\"254.048828\" xlink:href=\"#DejaVuSans-20\"/>\n      <use x=\"285.835938\" xlink:href=\"#DejaVuSans-31\"/>\n     </g>\n    </g>\n    <g id=\"line2d_16\">\n     <path d=\"M 627.75625 50.094687 \nL 647.75625 50.094687 \n\" style=\"fill:none;stroke:#ff7f0e;stroke-linecap:square;stroke-width:1.5;\"/>\n    </g>\n    <g id=\"line2d_17\"/>\n    <g id=\"text_14\">\n     <!-- cfreq 2 -->\n     <g transform=\"translate(655.75625 53.594687)scale(0.1 -0.1)\">\n      <use xlink:href=\"#DejaVuSans-63\"/>\n      <use x=\"54.980469\" xlink:href=\"#DejaVuSans-66\"/>\n      <use x=\"90.185547\" xlink:href=\"#DejaVuSans-72\"/>\n      <use x=\"129.048828\" xlink:href=\"#DejaVuSans-65\"/>\n      <use x=\"190.572266\" xlink:href=\"#DejaVuSans-71\"/>\n      <use x=\"254.048828\" xlink:href=\"#DejaVuSans-20\"/>\n      <use x=\"285.835938\" xlink:href=\"#DejaVuSans-32\"/>\n     </g>\n    </g>\n    <g id=\"line2d_18\">\n     <path d=\"M 627.75625 64.772812 \nL 647.75625 64.772812 \n\" style=\"fill:none;stroke:#2ca02c;stroke-linecap:square;stroke-width:1.5;\"/>\n    </g>\n    <g id=\"line2d_19\"/>\n    <g id=\"text_15\">\n     <!-- cfreq 3 -->\n     <g transform=\"translate(655.75625 68.272812)scale(0.1 -0.1)\">\n      <use xlink:href=\"#DejaVuSans-63\"/>\n      <use x=\"54.980469\" xlink:href=\"#DejaVuSans-66\"/>\n      <use x=\"90.185547\" xlink:href=\"#DejaVuSans-72\"/>\n      <use x=\"129.048828\" xlink:href=\"#DejaVuSans-65\"/>\n      <use x=\"190.572266\" xlink:href=\"#DejaVuSans-71\"/>\n      <use x=\"254.048828\" xlink:href=\"#DejaVuSans-20\"/>\n      <use x=\"285.835938\" xlink:href=\"#DejaVuSans-33\"/>\n     </g>\n    </g>\n   </g>\n  </g>\n </g>\n <defs>\n  <clipPath id=\"p18a60b1937\">\n   <rect height=\"380.52\" width=\"669.6\" x=\"30.103125\" y=\"22.318125\"/>\n  </clipPath>\n </defs>\n</svg>\n"
     },
     "metadata": {
      "needs_background": "light"
     }
    }
   ],
   "metadata": {}
  },
  {
   "cell_type": "markdown",
   "source": [
    "Contratar 3 ou mais frequências a sobrevivência é maior. Contratar 2 é menor do que contratar só uma frequência. Existem várias questões como a habituação à prática desportiva e quem tem a intenção de ir 3 ou mais vezes tem uma maior motivação.\n",
    "\n",
    "Podemos abordar a intenção para a prática desportiva ser maior e a retenção também ser maior."
   ],
   "metadata": {}
  },
  {
   "cell_type": "code",
   "execution_count": 89,
   "source": [
    "results=multivariate_logrank_test(event_durations=T,groups=dt.esc_cfreq,event_observed=C)\n",
    "results.print_summary()"
   ],
   "outputs": [
    {
     "output_type": "display_data",
     "data": {
      "text/plain": [
       "<lifelines.StatisticalResult: multivariate_logrank_test>\n",
       "               t_0 = -1\n",
       " null_distribution = chi squared\n",
       "degrees_of_freedom = 2\n",
       "         test_name = multivariate_logrank_test\n",
       "\n",
       "---\n",
       " test_statistic      p  -log2(p)\n",
       "          53.33 <0.005     38.47"
      ],
      "text/latex": [
       "\\begin{tabular}{lrrr}\n",
       "\\toprule\n",
       "{} &  test\\_statistic &             p &  -log2(p) \\\\\n",
       "\\midrule\n",
       "0 &       53.327569 &  2.630665e-12 &  38.46771 \\\\\n",
       "\\bottomrule\n",
       "\\end{tabular}\n"
      ],
      "text/html": [
       "<div>\n",
       "<style scoped>\n",
       "    .dataframe tbody tr th:only-of-type {\n",
       "        vertical-align: middle;\n",
       "    }\n",
       "\n",
       "    .dataframe tbody tr th {\n",
       "        vertical-align: top;\n",
       "    }\n",
       "\n",
       "    .dataframe thead th {\n",
       "        text-align: right;\n",
       "    }\n",
       "</style>\n",
       "<table border=\"1\" class=\"dataframe\">\n",
       "  <tbody>\n",
       "    <tr>\n",
       "      <th>t_0</th>\n",
       "      <td>-1</td>\n",
       "    </tr>\n",
       "    <tr>\n",
       "      <th>null_distribution</th>\n",
       "      <td>chi squared</td>\n",
       "    </tr>\n",
       "    <tr>\n",
       "      <th>degrees_of_freedom</th>\n",
       "      <td>2</td>\n",
       "    </tr>\n",
       "    <tr>\n",
       "      <th>test_name</th>\n",
       "      <td>multivariate_logrank_test</td>\n",
       "    </tr>\n",
       "  </tbody>\n",
       "</table>\n",
       "</div><table border=\"1\" class=\"dataframe\">\n",
       "  <thead>\n",
       "    <tr style=\"text-align: right;\">\n",
       "      <th></th>\n",
       "      <th>test_statistic</th>\n",
       "      <th>p</th>\n",
       "      <th>-log2(p)</th>\n",
       "    </tr>\n",
       "  </thead>\n",
       "  <tbody>\n",
       "    <tr>\n",
       "      <th>0</th>\n",
       "      <td>53.33</td>\n",
       "      <td>&lt;0.005</td>\n",
       "      <td>38.47</td>\n",
       "    </tr>\n",
       "  </tbody>\n",
       "</table>"
      ]
     },
     "metadata": {}
    }
   ],
   "metadata": {}
  },
  {
   "cell_type": "markdown",
   "source": [
    "Existem diferenças nas curvas de sobrevivência"
   ],
   "metadata": {}
  },
  {
   "cell_type": "code",
   "execution_count": 90,
   "source": [
    "results=pairwise_logrank_test(event_durations=T,groups=dt.esc_cfreq,event_observed=C)\n",
    "results.print_summary()"
   ],
   "outputs": [
    {
     "output_type": "display_data",
     "data": {
      "text/plain": [
       "<lifelines.StatisticalResult: logrank_test>\n",
       "               t_0 = -1\n",
       " null_distribution = chi squared\n",
       "degrees_of_freedom = 1\n",
       "         test_name = logrank_test\n",
       "\n",
       "---\n",
       "                 test_statistic      p  -log2(p)\n",
       "cfreq 1 cfreq 2           21.57 <0.005     18.16\n",
       "        cfreq 3           15.44 <0.005     13.52\n",
       "cfreq 2 cfreq 3           50.15 <0.005     39.36"
      ],
      "text/latex": [
       "\\begin{tabular}{llrrr}\n",
       "\\toprule\n",
       "        &         &  test\\_statistic &             p &   -log2(p) \\\\\n",
       "\\midrule\n",
       "cfreq 1 & cfreq 2 &       21.568841 &  3.413527e-06 &  18.160305 \\\\\n",
       "        & cfreq 3 &       15.444934 &  8.494431e-05 &  13.523123 \\\\\n",
       "cfreq 2 & cfreq 3 &       50.154824 &  1.420814e-12 &  39.356419 \\\\\n",
       "\\bottomrule\n",
       "\\end{tabular}\n"
      ],
      "text/html": [
       "<div>\n",
       "<style scoped>\n",
       "    .dataframe tbody tr th:only-of-type {\n",
       "        vertical-align: middle;\n",
       "    }\n",
       "\n",
       "    .dataframe tbody tr th {\n",
       "        vertical-align: top;\n",
       "    }\n",
       "\n",
       "    .dataframe thead th {\n",
       "        text-align: right;\n",
       "    }\n",
       "</style>\n",
       "<table border=\"1\" class=\"dataframe\">\n",
       "  <tbody>\n",
       "    <tr>\n",
       "      <th>t_0</th>\n",
       "      <td>-1</td>\n",
       "    </tr>\n",
       "    <tr>\n",
       "      <th>null_distribution</th>\n",
       "      <td>chi squared</td>\n",
       "    </tr>\n",
       "    <tr>\n",
       "      <th>degrees_of_freedom</th>\n",
       "      <td>1</td>\n",
       "    </tr>\n",
       "    <tr>\n",
       "      <th>test_name</th>\n",
       "      <td>logrank_test</td>\n",
       "    </tr>\n",
       "  </tbody>\n",
       "</table>\n",
       "</div><table border=\"1\" class=\"dataframe\">\n",
       "  <thead>\n",
       "    <tr style=\"text-align: right;\">\n",
       "      <th></th>\n",
       "      <th></th>\n",
       "      <th>test_statistic</th>\n",
       "      <th>p</th>\n",
       "      <th>-log2(p)</th>\n",
       "    </tr>\n",
       "  </thead>\n",
       "  <tbody>\n",
       "    <tr>\n",
       "      <th rowspan=\"2\" valign=\"top\">cfreq 1</th>\n",
       "      <th>cfreq 2</th>\n",
       "      <td>21.57</td>\n",
       "      <td>&lt;0.005</td>\n",
       "      <td>18.16</td>\n",
       "    </tr>\n",
       "    <tr>\n",
       "      <th>cfreq 3</th>\n",
       "      <td>15.44</td>\n",
       "      <td>&lt;0.005</td>\n",
       "      <td>13.52</td>\n",
       "    </tr>\n",
       "    <tr>\n",
       "      <th>cfreq 2</th>\n",
       "      <th>cfreq 3</th>\n",
       "      <td>50.15</td>\n",
       "      <td>&lt;0.005</td>\n",
       "      <td>39.36</td>\n",
       "    </tr>\n",
       "  </tbody>\n",
       "</table>"
      ]
     },
     "metadata": {}
    }
   ],
   "metadata": {}
  },
  {
   "cell_type": "markdown",
   "source": [
    "Existem diferenças entre todas as curvas de sobrevivência"
   ],
   "metadata": {}
  },
  {
   "cell_type": "markdown",
   "source": [
    "## nrenewals"
   ],
   "metadata": {}
  },
  {
   "cell_type": "code",
   "execution_count": 91,
   "source": [
    "dt.nrenovacoes.describe()"
   ],
   "outputs": [
    {
     "output_type": "execute_result",
     "data": {
      "text/plain": [
       "count    6745.000000\n",
       "mean        1.038992\n",
       "std         1.069552\n",
       "min         0.000000\n",
       "25%         0.000000\n",
       "50%         1.000000\n",
       "75%         2.000000\n",
       "max         4.000000\n",
       "Name: nrenovacoes, dtype: float64"
      ]
     },
     "metadata": {},
     "execution_count": 91
    }
   ],
   "metadata": {}
  },
  {
   "cell_type": "code",
   "execution_count": 92,
   "source": [
    "dt.nrenovacoes.unique()"
   ],
   "outputs": [
    {
     "output_type": "execute_result",
     "data": {
      "text/plain": [
       "array([0, 1, 2, 4, 3])"
      ]
     },
     "metadata": {},
     "execution_count": 92
    }
   ],
   "metadata": {}
  },
  {
   "cell_type": "code",
   "execution_count": 93,
   "source": [
    "dt.nrenovacoes.value_counts()"
   ],
   "outputs": [
    {
     "output_type": "execute_result",
     "data": {
      "text/plain": [
       "0    2803\n",
       "1    1752\n",
       "2    1366\n",
       "3     772\n",
       "4      52\n",
       "Name: nrenovacoes, dtype: int64"
      ]
     },
     "metadata": {},
     "execution_count": 93
    }
   ],
   "metadata": {}
  },
  {
   "cell_type": "code",
   "execution_count": 94,
   "source": [
    "dt['esc_nrenewals'] = 0"
   ],
   "outputs": [],
   "metadata": {}
  },
  {
   "cell_type": "code",
   "execution_count": 95,
   "source": [
    "dt['esc_nrenewals']=''\n",
    "\n",
    "for index, cliente in dt.iterrows():\n",
    "    #se a variável tiver o valor 1 colocar na nova variável a descrição da atividade\n",
    "    if cliente['nrenovacoes'] == 0:\n",
    "        dt.at[index,'esc_nrenewals']='renewals 0'\n",
    "    elif cliente['nrenovacoes'] == 1:\n",
    "        dt.at[index,'esc_nrenewals']='renewals 1'\n",
    "    elif cliente['nrenovacoes'] == 2:\n",
    "        dt.at[index,'esc_nrenewals']='renewals 2'\n",
    "    elif cliente['nrenovacoes']>2:\n",
    "        dt.at[index,'esc_nrenewals']='renewals 2+'"
   ],
   "outputs": [],
   "metadata": {}
  },
  {
   "cell_type": "code",
   "execution_count": 96,
   "source": [
    "dt.esc_nrenewals.value_counts()"
   ],
   "outputs": [
    {
     "output_type": "execute_result",
     "data": {
      "text/plain": [
       "renewals 0     2803\n",
       "renewals 1     1752\n",
       "renewals 2     1366\n",
       "renewals 2+     824\n",
       "Name: esc_nrenewals, dtype: int64"
      ]
     },
     "metadata": {},
     "execution_count": 96
    }
   ],
   "metadata": {}
  },
  {
   "cell_type": "code",
   "execution_count": 97,
   "source": [
    "dt.esc_nrenewals.unique()"
   ],
   "outputs": [
    {
     "output_type": "execute_result",
     "data": {
      "text/plain": [
       "array(['renewals 0', 'renewals 1', 'renewals 2', 'renewals 2+'],\n",
       "      dtype=object)"
      ]
     },
     "metadata": {},
     "execution_count": 97
    }
   ],
   "metadata": {}
  },
  {
   "cell_type": "code",
   "execution_count": 98,
   "source": [
    "ax = plt.subplot(111)\n",
    "nrenewals=dt.esc_nrenewals.unique()\n",
    "\n",
    "for nrenewal in nrenewals:\n",
    "    ix = dt['esc_nrenewals'] == nrenewal\n",
    "    kmf.fit(T.loc[ix], C.loc[ix],label=str(nrenewal))\n",
    "    ax = kmf.plot(ax=ax)\n",
    "    print(str(nrenewal),' predict survival 12 months:',kmf.predict(12.0),': median ',kmf.median_survival_time_)\n",
    "plt.title('Survival by number of renewals')\n",
    "T.loc;"
   ],
   "outputs": [
    {
     "output_type": "stream",
     "name": "stdout",
     "text": [
      "renewals 0  predict survival 12 months: 0.019021929079282563 : median  5.0\n",
      "renewals 1  predict survival 12 months: 0.6987873619361521 : median  16.0\n",
      "renewals 2  predict survival 12 months: 0.8549310063701384 : median  27.0\n",
      "renewals 2+  predict survival 12 months: 1.0 : median  inf\n"
     ]
    },
    {
     "output_type": "display_data",
     "data": {
      "text/plain": [
       "<Figure size 864x504 with 1 Axes>"
      ],
      "image/png": "[encoded data removed]",
      "image/svg+xml": "<?xml version=\"1.0\" encoding=\"utf-8\" standalone=\"no\"?>\n<!DOCTYPE svg PUBLIC \"-//W3C//DTD SVG 1.1//EN\"\n  \"http://www.w3.org/Graphics/SVG/1.1/DTD/svg11.dtd\">\n<svg height=\"440.394375pt\" version=\"1.1\" viewBox=\"0 0 706.903125 440.394375\" width=\"706.903125pt\" xmlns=\"http://www.w3.org/2000/svg\" xmlns:xlink=\"http://www.w3.org/1999/xlink\">\n <metadata>\n  <rdf:RDF xmlns:cc=\"http://creativecommons.org/ns#\" xmlns:dc=\"http://purl.org/dc/elements/1.1/\" xmlns:rdf=\"http://www.w3.org/1999/02/22-rdf-syntax-ns#\">\n   <cc:Work>\n    <dc:type rdf:resource=\"http://purl.org/dc/dcmitype/StillImage\"/>\n    <dc:date>2021-07-14T16:59:02.706289</dc:date>\n    <dc:format>image/svg+xml</dc:format>\n    <dc:creator>\n     <cc:Agent>\n      <dc:title>Matplotlib v3.4.2, https://matplotlib.org/</dc:title>\n     </cc:Agent>\n    </dc:creator>\n   </cc:Work>\n  </rdf:RDF>\n </metadata>\n <defs>\n  <style type=\"text/css\">*{stroke-linecap:butt;stroke-linejoin:round;}</style>\n </defs>\n <g id=\"figure_1\">\n  <g id=\"patch_1\">\n   <path d=\"M 0 440.394375 \nL 706.903125 440.394375 \nL 706.903125 0 \nL 0 0 \nz\n\" style=\"fill:none;\"/>\n  </g>\n  <g id=\"axes_1\">\n   <g id=\"patch_2\">\n    <path d=\"M 30.103125 402.838125 \nL 699.703125 402.838125 \nL 699.703125 22.318125 \nL 30.103125 22.318125 \nz\n\" style=\"fill:#ffffff;\"/>\n   </g>\n   <g id=\"PolyCollection_1\">\n    <defs>\n     <path d=\"M 60.539489 -400.519326 \nL 60.539489 -399.278558 \nL 73.491133 -399.278558 \nL 73.491133 -391.560875 \nL 86.442777 -391.560875 \nL 86.442777 -358.476763 \nL 99.394421 -358.476763 \nL 99.394421 -289.034671 \nL 112.346065 -289.034671 \nL 112.346065 -239.879077 \nL 125.297709 -239.879077 \nL 125.297709 -204.395306 \nL 138.249353 -204.395306 \nL 138.249353 -174.907177 \nL 151.200997 -174.907177 \nL 151.200997 -128.098178 \nL 164.152641 -128.098178 \nL 164.152641 -108.909342 \nL 177.104286 -108.909342 \nL 177.104286 -89.93401 \nL 190.05593 -89.93401 \nL 190.05593 -63.574776 \nL 203.007574 -63.574776 \nL 203.007574 -54.852614 \nL 203.007574 -59.024183 \nL 203.007574 -59.024183 \nL 203.007574 -69.890074 \nL 190.05593 -69.890074 \nL 190.05593 -99.853821 \nL 177.104286 -99.853821 \nL 177.104286 -120.41637 \nL 164.152641 -120.41637 \nL 164.152641 -140.770403 \nL 151.200997 -140.770403 \nL 151.200997 -189.206207 \nL 138.249353 -189.206207 \nL 138.249353 -219.046514 \nL 125.297709 -219.046514 \nL 125.297709 -254.360784 \nL 112.346065 -254.360784 \nL 112.346065 -302.201537 \nL 99.394421 -302.201537 \nL 99.394421 -366.654398 \nL 86.442777 -366.654398 \nL 86.442777 -395.265137 \nL 73.491133 -395.265137 \nL 73.491133 -400.519326 \nL 60.539489 -400.519326 \nz\n\" id=\"m42a9a302cf\" style=\"stroke:#1f77b4;stroke-opacity:0.25;\"/>\n    </defs>\n    <g clip-path=\"url(#pef2b7d20ef)\">\n     <use style=\"fill:#1f77b4;fill-opacity:0.25;stroke:#1f77b4;stroke-opacity:0.25;\" x=\"0\" xlink:href=\"#m42a9a302cf\" y=\"440.394375\"/>\n    </g>\n   </g>\n   <g id=\"PolyCollection_2\">\n    <defs>\n     <path d=\"M 60.539489 -400.779886 \nL 60.539489 -400.779886 \nL 99.394421 -400.779886 \nL 99.394421 -393.873647 \nL 112.346065 -393.873647 \nL 112.346065 -383.826068 \nL 125.297709 -383.826068 \nL 125.297709 -365.285236 \nL 138.249353 -365.285236 \nL 138.249353 -346.21393 \nL 151.200997 -346.21393 \nL 151.200997 -333.089918 \nL 164.152641 -333.089918 \nL 164.152641 -319.319237 \nL 177.104286 -319.319237 \nL 177.104286 -309.695824 \nL 190.05593 -309.695824 \nL 190.05593 -302.944508 \nL 203.007574 -302.944508 \nL 203.007574 -296.343586 \nL 215.959218 -296.343586 \nL 215.959218 -286.843393 \nL 228.910862 -286.843393 \nL 228.910862 -272.503022 \nL 241.862506 -272.503022 \nL 241.862506 -258.684809 \nL 254.81415 -258.684809 \nL 254.81415 -215.981619 \nL 267.765794 -215.981619 \nL 267.765794 -200.170941 \nL 280.717438 -200.170941 \nL 280.717438 -190.168444 \nL 293.669082 -190.168444 \nL 293.669082 -175.656634 \nL 306.620727 -175.656634 \nL 306.620727 -161.970728 \nL 319.572371 -161.970728 \nL 319.572371 -144.60736 \nL 332.524015 -144.60736 \nL 332.524015 -121.269006 \nL 345.475659 -121.269006 \nL 345.475659 -94.043137 \nL 358.427303 -94.043137 \nL 358.427303 -76.09272 \nL 358.427303 -94.550791 \nL 358.427303 -94.550791 \nL 358.427303 -114.964986 \nL 345.475659 -114.964986 \nL 345.475659 -144.824929 \nL 332.524015 -144.824929 \nL 332.524015 -169.252981 \nL 319.572371 -169.252981 \nL 319.572371 -186.870248 \nL 306.620727 -186.870248 \nL 306.620727 -200.408529 \nL 293.669082 -200.408529 \nL 293.669082 -214.435504 \nL 280.717438 -214.435504 \nL 280.717438 -223.903506 \nL 267.765794 -223.903506 \nL 267.765794 -238.717326 \nL 254.81415 -238.717326 \nL 254.81415 -276.469184 \nL 241.862506 -276.469184 \nL 241.862506 -289.435786 \nL 228.910862 -289.435786 \nL 228.910862 -302.940283 \nL 215.959218 -302.940283 \nL 215.959218 -311.813186 \nL 203.007574 -311.813186 \nL 203.007574 -317.939425 \nL 190.05593 -317.939425 \nL 190.05593 -324.205755 \nL 177.104286 -324.205755 \nL 177.104286 -333.116341 \nL 164.152641 -333.116341 \nL 164.152641 -345.788466 \nL 151.200997 -345.788466 \nL 151.200997 -357.707874 \nL 138.249353 -357.707874 \nL 138.249353 -374.611271 \nL 125.297709 -374.611271 \nL 125.297709 -390.17907 \nL 112.346065 -390.17907 \nL 112.346065 -397.713203 \nL 99.394421 -397.713203 \nL 99.394421 -400.779886 \nL 60.539489 -400.779886 \nz\n\" id=\"md02a8e0fdc\" style=\"stroke:#ff7f0e;stroke-opacity:0.25;\"/>\n    </defs>\n    <g clip-path=\"url(#pef2b7d20ef)\">\n     <use style=\"fill:#ff7f0e;fill-opacity:0.25;stroke:#ff7f0e;stroke-opacity:0.25;\" x=\"0\" xlink:href=\"#md02a8e0fdc\" y=\"440.394375\"/>\n    </g>\n   </g>\n   <g id=\"PolyCollection_3\">\n    <defs>\n     <path d=\"M 60.539489 -400.779886 \nL 60.539489 -400.779886 \nL 138.249353 -400.779886 \nL 138.249353 -396.684308 \nL 151.200997 -396.684308 \nL 151.200997 -393.784701 \nL 164.152641 -393.784701 \nL 164.152641 -388.025277 \nL 177.104286 -388.025277 \nL 177.104286 -381.053477 \nL 190.05593 -381.053477 \nL 190.05593 -371.727979 \nL 203.007574 -371.727979 \nL 203.007574 -352.716801 \nL 215.959218 -352.716801 \nL 215.959218 -342.945822 \nL 228.910862 -342.945822 \nL 228.910862 -332.12615 \nL 241.862506 -332.12615 \nL 241.862506 -323.231338 \nL 254.81415 -323.231338 \nL 254.81415 -313.472818 \nL 267.765794 -313.472818 \nL 267.765794 -302.889698 \nL 280.717438 -302.889698 \nL 280.717438 -291.122708 \nL 293.669082 -291.122708 \nL 293.669082 -277.202804 \nL 306.620727 -277.202804 \nL 306.620727 -268.501635 \nL 319.572371 -268.501635 \nL 319.572371 -265.013984 \nL 332.524015 -265.013984 \nL 332.524015 -259.970835 \nL 345.475659 -259.970835 \nL 345.475659 -257.782538 \nL 358.427303 -257.782538 \nL 358.427303 -254.690705 \nL 371.378947 -254.690705 \nL 371.378947 -250.714712 \nL 384.330591 -250.714712 \nL 384.330591 -240.199387 \nL 397.282235 -240.199387 \nL 397.282235 -231.763781 \nL 410.233879 -231.763781 \nL 410.233879 -195.510471 \nL 423.185523 -195.510471 \nL 423.185523 -182.402757 \nL 436.137168 -182.402757 \nL 436.137168 -173.444846 \nL 449.088812 -173.444846 \nL 449.088812 -167.904528 \nL 462.040456 -167.904528 \nL 462.040456 -159.128193 \nL 474.9921 -159.128193 \nL 474.9921 -144.018424 \nL 487.943744 -144.018424 \nL 487.943744 -123.333251 \nL 500.895388 -123.333251 \nL 500.895388 -104.317341 \nL 513.847032 -104.317341 \nL 513.847032 -84.801417 \nL 513.847032 -111.98937 \nL 513.847032 -111.98937 \nL 513.847032 -132.761315 \nL 500.895388 -132.761315 \nL 500.895388 -152.79305 \nL 487.943744 -152.79305 \nL 487.943744 -173.897206 \nL 474.9921 -173.897206 \nL 474.9921 -188.714253 \nL 462.040456 -188.714253 \nL 462.040456 -197.05746 \nL 449.088812 -197.05746 \nL 449.088812 -202.22433 \nL 436.137168 -202.22433 \nL 436.137168 -210.410879 \nL 423.185523 -210.410879 \nL 423.185523 -222.136034 \nL 410.233879 -222.136034 \nL 410.233879 -252.210518 \nL 397.282235 -252.210518 \nL 397.282235 -260.001612 \nL 384.330591 -260.001612 \nL 384.330591 -269.847547 \nL 371.378947 -269.847547 \nL 371.378947 -273.569176 \nL 358.427303 -273.569176 \nL 358.427303 -276.463341 \nL 345.475659 -276.463341 \nL 345.475659 -278.522399 \nL 332.524015 -278.522399 \nL 332.524015 -283.302316 \nL 319.572371 -283.302316 \nL 319.572371 -286.619537 \nL 306.620727 -286.619537 \nL 306.620727 -294.908935 \nL 293.669082 -294.908935 \nL 293.669082 -308.100823 \nL 280.717438 -308.100823 \nL 280.717438 -319.176309 \nL 267.765794 -319.176309 \nL 267.765794 -329.075896 \nL 254.81415 -329.075896 \nL 254.81415 -338.115389 \nL 241.862506 -338.115389 \nL 241.862506 -346.276823 \nL 228.910862 -346.276823 \nL 228.910862 -356.076094 \nL 215.959218 -356.076094 \nL 215.959218 -364.782132 \nL 203.007574 -364.782132 \nL 203.007574 -381.15519 \nL 190.05593 -381.15519 \nL 190.05593 -388.751624 \nL 177.104286 -388.751624 \nL 177.104286 -394.084673 \nL 164.152641 -394.084673 \nL 164.152641 -398.059812 \nL 151.200997 -398.059812 \nL 151.200997 -399.751079 \nL 138.249353 -399.751079 \nL 138.249353 -400.779886 \nL 60.539489 -400.779886 \nz\n\" id=\"m563b1d6fc1\" style=\"stroke:#2ca02c;stroke-opacity:0.25;\"/>\n    </defs>\n    <g clip-path=\"url(#pef2b7d20ef)\">\n     <use style=\"fill:#2ca02c;fill-opacity:0.25;stroke:#2ca02c;stroke-opacity:0.25;\" x=\"0\" xlink:href=\"#m563b1d6fc1\" y=\"440.394375\"/>\n    </g>\n   </g>\n   <g id=\"PolyCollection_4\">\n    <defs>\n     <path d=\"M 60.539489 -400.779886 \nL 60.539489 -400.779886 \nL 293.669082 -400.779886 \nL 293.669082 -397.769163 \nL 306.620727 -397.769163 \nL 306.620727 -396.835517 \nL 319.572371 -396.835517 \nL 319.572371 -394.00347 \nL 332.524015 -394.00347 \nL 332.524015 -389.21256 \nL 345.475659 -389.21256 \nL 345.475659 -380.190646 \nL 358.427303 -380.190646 \nL 358.427303 -370.082797 \nL 371.378947 -370.082797 \nL 371.378947 -363.487662 \nL 384.330591 -363.487662 \nL 384.330591 -359.744408 \nL 397.282235 -359.744408 \nL 397.282235 -351.753401 \nL 410.233879 -351.753401 \nL 410.233879 -348.457383 \nL 423.185523 -348.457383 \nL 423.185523 -341.370692 \nL 436.137168 -341.370692 \nL 436.137168 -336.95921 \nL 449.088812 -336.95921 \nL 449.088812 -328.792005 \nL 462.040456 -328.792005 \nL 462.040456 -321.702925 \nL 474.9921 -321.702925 \nL 474.9921 -318.823007 \nL 487.943744 -318.823007 \nL 487.943744 -316.310904 \nL 500.895388 -316.310904 \nL 500.895388 -313.002865 \nL 513.847032 -313.002865 \nL 513.847032 -303.071184 \nL 526.798676 -303.071184 \nL 526.798676 -298.705158 \nL 539.75032 -298.705158 \nL 539.75032 -291.667969 \nL 552.701964 -291.667969 \nL 552.701964 -287.115801 \nL 565.653609 -287.115801 \nL 565.653609 -266.160792 \nL 578.605253 -266.160792 \nL 578.605253 -262.998894 \nL 591.556897 -262.998894 \nL 591.556897 -262.998894 \nL 604.508541 -262.998894 \nL 604.508541 -262.998894 \nL 617.460185 -262.998894 \nL 617.460185 -262.998894 \nL 630.411829 -262.998894 \nL 630.411829 -262.998894 \nL 643.363473 -262.998894 \nL 643.363473 -262.998894 \nL 656.315117 -262.998894 \nL 656.315117 -262.998894 \nL 669.266761 -262.998894 \nL 669.266761 -262.998894 \nL 669.266761 -296.989668 \nL 669.266761 -296.989668 \nL 669.266761 -296.989668 \nL 656.315117 -296.989668 \nL 656.315117 -296.989668 \nL 643.363473 -296.989668 \nL 643.363473 -296.989668 \nL 630.411829 -296.989668 \nL 630.411829 -296.989668 \nL 617.460185 -296.989668 \nL 617.460185 -296.989668 \nL 604.508541 -296.989668 \nL 604.508541 -296.989668 \nL 591.556897 -296.989668 \nL 591.556897 -296.989668 \nL 578.605253 -296.989668 \nL 578.605253 -299.014465 \nL 565.653609 -299.014465 \nL 565.653609 -311.57805 \nL 552.701964 -311.57805 \nL 552.701964 -315.413142 \nL 539.75032 -315.413142 \nL 539.75032 -321.470485 \nL 526.798676 -321.470485 \nL 526.798676 -325.241712 \nL 513.847032 -325.241712 \nL 513.847032 -333.739086 \nL 500.895388 -333.739086 \nL 500.895388 -336.569706 \nL 487.943744 -336.569706 \nL 487.943744 -338.728746 \nL 474.9921 -338.728746 \nL 474.9921 -341.232614 \nL 462.040456 -341.232614 \nL 462.040456 -347.401597 \nL 449.088812 -347.401597 \nL 449.088812 -354.49171 \nL 436.137168 -354.49171 \nL 436.137168 -358.301718 \nL 423.185523 -358.301718 \nL 423.185523 -364.38919 \nL 410.233879 -364.38919 \nL 410.233879 -367.188349 \nL 397.282235 -367.188349 \nL 397.282235 -373.874724 \nL 384.330591 -373.874724 \nL 384.330591 -376.953162 \nL 371.378947 -376.953162 \nL 371.378947 -382.263154 \nL 358.427303 -382.263154 \nL 358.427303 -390.010945 \nL 345.475659 -390.010945 \nL 345.475659 -396.263588 \nL 332.524015 -396.263588 \nL 332.524015 -399.072713 \nL 319.572371 -399.072713 \nL 319.572371 -400.367512 \nL 306.620727 -400.367512 \nL 306.620727 -400.719893 \nL 293.669082 -400.719893 \nL 293.669082 -400.779886 \nL 60.539489 -400.779886 \nz\n\" id=\"m64f466d0df\" style=\"stroke:#d62728;stroke-opacity:0.25;\"/>\n    </defs>\n    <g clip-path=\"url(#pef2b7d20ef)\">\n     <use style=\"fill:#d62728;fill-opacity:0.25;stroke:#d62728;stroke-opacity:0.25;\" x=\"0\" xlink:href=\"#m64f466d0df\" y=\"440.394375\"/>\n    </g>\n   </g>\n   <g id=\"matplotlib.axis_1\">\n    <g id=\"xtick_1\">\n     <g id=\"line2d_1\">\n      <defs>\n       <path d=\"M 0 0 \nL 0 3.5 \n\" id=\"m20ca248f99\" style=\"stroke:#000000;stroke-width:0.8;\"/>\n      </defs>\n      <g>\n       <use style=\"stroke:#000000;stroke-width:0.8;\" x=\"60.539489\" xlink:href=\"#m20ca248f99\" y=\"402.838125\"/>\n      </g>\n     </g>\n     <g id=\"text_1\">\n      <!-- 0 -->\n      <g transform=\"translate(57.358239 417.436562)scale(0.1 -0.1)\">\n       <defs>\n        <path d=\"M 2034 4250 \nQ 1547 4250 1301 3770 \nQ 1056 3291 1056 2328 \nQ 1056 1369 1301 889 \nQ 1547 409 2034 409 \nQ 2525 409 2770 889 \nQ 3016 1369 3016 2328 \nQ 3016 3291 2770 3770 \nQ 2525 4250 2034 4250 \nz\nM 2034 4750 \nQ 2819 4750 3233 4129 \nQ 3647 3509 3647 2328 \nQ 3647 1150 3233 529 \nQ 2819 -91 2034 -91 \nQ 1250 -91 836 529 \nQ 422 1150 422 2328 \nQ 422 3509 836 4129 \nQ 1250 4750 2034 4750 \nz\n\" id=\"DejaVuSans-30\" transform=\"scale(0.015625)\"/>\n       </defs>\n       <use xlink:href=\"#DejaVuSans-30\"/>\n      </g>\n     </g>\n    </g>\n    <g id=\"xtick_2\">\n     <g id=\"line2d_2\">\n      <g>\n       <use style=\"stroke:#000000;stroke-width:0.8;\" x=\"190.05593\" xlink:href=\"#m20ca248f99\" y=\"402.838125\"/>\n      </g>\n     </g>\n     <g id=\"text_2\">\n      <!-- 10 -->\n      <g transform=\"translate(183.69343 417.436562)scale(0.1 -0.1)\">\n       <defs>\n        <path d=\"M 794 531 \nL 1825 531 \nL 1825 4091 \nL 703 3866 \nL 703 4441 \nL 1819 4666 \nL 2450 4666 \nL 2450 531 \nL 3481 531 \nL 3481 0 \nL 794 0 \nL 794 531 \nz\n\" id=\"DejaVuSans-31\" transform=\"scale(0.015625)\"/>\n       </defs>\n       <use xlink:href=\"#DejaVuSans-31\"/>\n       <use x=\"63.623047\" xlink:href=\"#DejaVuSans-30\"/>\n      </g>\n     </g>\n    </g>\n    <g id=\"xtick_3\">\n     <g id=\"line2d_3\">\n      <g>\n       <use style=\"stroke:#000000;stroke-width:0.8;\" x=\"319.572371\" xlink:href=\"#m20ca248f99\" y=\"402.838125\"/>\n      </g>\n     </g>\n     <g id=\"text_3\">\n      <!-- 20 -->\n      <g transform=\"translate(313.209871 417.436562)scale(0.1 -0.1)\">\n       <defs>\n        <path d=\"M 1228 531 \nL 3431 531 \nL 3431 0 \nL 469 0 \nL 469 531 \nQ 828 903 1448 1529 \nQ 2069 2156 2228 2338 \nQ 2531 2678 2651 2914 \nQ 2772 3150 2772 3378 \nQ 2772 3750 2511 3984 \nQ 2250 4219 1831 4219 \nQ 1534 4219 1204 4116 \nQ 875 4013 500 3803 \nL 500 4441 \nQ 881 4594 1212 4672 \nQ 1544 4750 1819 4750 \nQ 2544 4750 2975 4387 \nQ 3406 4025 3406 3419 \nQ 3406 3131 3298 2873 \nQ 3191 2616 2906 2266 \nQ 2828 2175 2409 1742 \nQ 1991 1309 1228 531 \nz\n\" id=\"DejaVuSans-32\" transform=\"scale(0.015625)\"/>\n       </defs>\n       <use xlink:href=\"#DejaVuSans-32\"/>\n       <use x=\"63.623047\" xlink:href=\"#DejaVuSans-30\"/>\n      </g>\n     </g>\n    </g>\n    <g id=\"xtick_4\">\n     <g id=\"line2d_4\">\n      <g>\n       <use style=\"stroke:#000000;stroke-width:0.8;\" x=\"449.088812\" xlink:href=\"#m20ca248f99\" y=\"402.838125\"/>\n      </g>\n     </g>\n     <g id=\"text_4\">\n      <!-- 30 -->\n      <g transform=\"translate(442.726312 417.436562)scale(0.1 -0.1)\">\n       <defs>\n        <path d=\"M 2597 2516 \nQ 3050 2419 3304 2112 \nQ 3559 1806 3559 1356 \nQ 3559 666 3084 287 \nQ 2609 -91 1734 -91 \nQ 1441 -91 1130 -33 \nQ 819 25 488 141 \nL 488 750 \nQ 750 597 1062 519 \nQ 1375 441 1716 441 \nQ 2309 441 2620 675 \nQ 2931 909 2931 1356 \nQ 2931 1769 2642 2001 \nQ 2353 2234 1838 2234 \nL 1294 2234 \nL 1294 2753 \nL 1863 2753 \nQ 2328 2753 2575 2939 \nQ 2822 3125 2822 3475 \nQ 2822 3834 2567 4026 \nQ 2313 4219 1838 4219 \nQ 1578 4219 1281 4162 \nQ 984 4106 628 3988 \nL 628 4550 \nQ 988 4650 1302 4700 \nQ 1616 4750 1894 4750 \nQ 2613 4750 3031 4423 \nQ 3450 4097 3450 3541 \nQ 3450 3153 3228 2886 \nQ 3006 2619 2597 2516 \nz\n\" id=\"DejaVuSans-33\" transform=\"scale(0.015625)\"/>\n       </defs>\n       <use xlink:href=\"#DejaVuSans-33\"/>\n       <use x=\"63.623047\" xlink:href=\"#DejaVuSans-30\"/>\n      </g>\n     </g>\n    </g>\n    <g id=\"xtick_5\">\n     <g id=\"line2d_5\">\n      <g>\n       <use style=\"stroke:#000000;stroke-width:0.8;\" x=\"578.605253\" xlink:href=\"#m20ca248f99\" y=\"402.838125\"/>\n      </g>\n     </g>\n     <g id=\"text_5\">\n      <!-- 40 -->\n      <g transform=\"translate(572.242753 417.436562)scale(0.1 -0.1)\">\n       <defs>\n        <path d=\"M 2419 4116 \nL 825 1625 \nL 2419 1625 \nL 2419 4116 \nz\nM 2253 4666 \nL 3047 4666 \nL 3047 1625 \nL 3713 1625 \nL 3713 1100 \nL 3047 1100 \nL 3047 0 \nL 2419 0 \nL 2419 1100 \nL 313 1100 \nL 313 1709 \nL 2253 4666 \nz\n\" id=\"DejaVuSans-34\" transform=\"scale(0.015625)\"/>\n       </defs>\n       <use xlink:href=\"#DejaVuSans-34\"/>\n       <use x=\"63.623047\" xlink:href=\"#DejaVuSans-30\"/>\n      </g>\n     </g>\n    </g>\n    <g id=\"text_6\">\n     <!-- timeline -->\n     <g transform=\"translate(344.583594 431.114687)scale(0.1 -0.1)\">\n      <defs>\n       <path d=\"M 1172 4494 \nL 1172 3500 \nL 2356 3500 \nL 2356 3053 \nL 1172 3053 \nL 1172 1153 \nQ 1172 725 1289 603 \nQ 1406 481 1766 481 \nL 2356 481 \nL 2356 0 \nL 1766 0 \nQ 1100 0 847 248 \nQ 594 497 594 1153 \nL 594 3053 \nL 172 3053 \nL 172 3500 \nL 594 3500 \nL 594 4494 \nL 1172 4494 \nz\n\" id=\"DejaVuSans-74\" transform=\"scale(0.015625)\"/>\n       <path d=\"M 603 3500 \nL 1178 3500 \nL 1178 0 \nL 603 0 \nL 603 3500 \nz\nM 603 4863 \nL 1178 4863 \nL 1178 4134 \nL 603 4134 \nL 603 4863 \nz\n\" id=\"DejaVuSans-69\" transform=\"scale(0.015625)\"/>\n       <path d=\"M 3328 2828 \nQ 3544 3216 3844 3400 \nQ 4144 3584 4550 3584 \nQ 5097 3584 5394 3201 \nQ 5691 2819 5691 2113 \nL 5691 0 \nL 5113 0 \nL 5113 2094 \nQ 5113 2597 4934 2840 \nQ 4756 3084 4391 3084 \nQ 3944 3084 3684 2787 \nQ 3425 2491 3425 1978 \nL 3425 0 \nL 2847 0 \nL 2847 2094 \nQ 2847 2600 2669 2842 \nQ 2491 3084 2119 3084 \nQ 1678 3084 1418 2786 \nQ 1159 2488 1159 1978 \nL 1159 0 \nL 581 0 \nL 581 3500 \nL 1159 3500 \nL 1159 2956 \nQ 1356 3278 1631 3431 \nQ 1906 3584 2284 3584 \nQ 2666 3584 2933 3390 \nQ 3200 3197 3328 2828 \nz\n\" id=\"DejaVuSans-6d\" transform=\"scale(0.015625)\"/>\n       <path d=\"M 3597 1894 \nL 3597 1613 \nL 953 1613 \nQ 991 1019 1311 708 \nQ 1631 397 2203 397 \nQ 2534 397 2845 478 \nQ 3156 559 3463 722 \nL 3463 178 \nQ 3153 47 2828 -22 \nQ 2503 -91 2169 -91 \nQ 1331 -91 842 396 \nQ 353 884 353 1716 \nQ 353 2575 817 3079 \nQ 1281 3584 2069 3584 \nQ 2775 3584 3186 3129 \nQ 3597 2675 3597 1894 \nz\nM 3022 2063 \nQ 3016 2534 2758 2815 \nQ 2500 3097 2075 3097 \nQ 1594 3097 1305 2825 \nQ 1016 2553 972 2059 \nL 3022 2063 \nz\n\" id=\"DejaVuSans-65\" transform=\"scale(0.015625)\"/>\n       <path d=\"M 603 4863 \nL 1178 4863 \nL 1178 0 \nL 603 0 \nL 603 4863 \nz\n\" id=\"DejaVuSans-6c\" transform=\"scale(0.015625)\"/>\n       <path d=\"M 3513 2113 \nL 3513 0 \nL 2938 0 \nL 2938 2094 \nQ 2938 2591 2744 2837 \nQ 2550 3084 2163 3084 \nQ 1697 3084 1428 2787 \nQ 1159 2491 1159 1978 \nL 1159 0 \nL 581 0 \nL 581 3500 \nL 1159 3500 \nL 1159 2956 \nQ 1366 3272 1645 3428 \nQ 1925 3584 2291 3584 \nQ 2894 3584 3203 3211 \nQ 3513 2838 3513 2113 \nz\n\" id=\"DejaVuSans-6e\" transform=\"scale(0.015625)\"/>\n      </defs>\n      <use xlink:href=\"#DejaVuSans-74\"/>\n      <use x=\"39.208984\" xlink:href=\"#DejaVuSans-69\"/>\n      <use x=\"66.992188\" xlink:href=\"#DejaVuSans-6d\"/>\n      <use x=\"164.404297\" xlink:href=\"#DejaVuSans-65\"/>\n      <use x=\"225.927734\" xlink:href=\"#DejaVuSans-6c\"/>\n      <use x=\"253.710938\" xlink:href=\"#DejaVuSans-69\"/>\n      <use x=\"281.494141\" xlink:href=\"#DejaVuSans-6e\"/>\n      <use x=\"344.873047\" xlink:href=\"#DejaVuSans-65\"/>\n     </g>\n    </g>\n   </g>\n   <g id=\"matplotlib.axis_2\">\n    <g id=\"ytick_1\">\n     <g id=\"line2d_6\">\n      <defs>\n       <path d=\"M 0 0 \nL -3.5 0 \n\" id=\"m43353ad343\" style=\"stroke:#000000;stroke-width:0.8;\"/>\n      </defs>\n      <g>\n       <use style=\"stroke:#000000;stroke-width:0.8;\" x=\"30.103125\" xlink:href=\"#m43353ad343\" y=\"390.369142\"/>\n      </g>\n     </g>\n     <g id=\"text_7\">\n      <!-- 0.0 -->\n      <g transform=\"translate(7.2 394.16836)scale(0.1 -0.1)\">\n       <defs>\n        <path d=\"M 684 794 \nL 1344 794 \nL 1344 0 \nL 684 0 \nL 684 794 \nz\n\" id=\"DejaVuSans-2e\" transform=\"scale(0.015625)\"/>\n       </defs>\n       <use xlink:href=\"#DejaVuSans-30\"/>\n       <use x=\"63.623047\" xlink:href=\"#DejaVuSans-2e\"/>\n       <use x=\"95.410156\" xlink:href=\"#DejaVuSans-30\"/>\n      </g>\n     </g>\n    </g>\n    <g id=\"ytick_2\">\n     <g id=\"line2d_7\">\n      <g>\n       <use style=\"stroke:#000000;stroke-width:0.8;\" x=\"30.103125\" xlink:href=\"#m43353ad343\" y=\"320.218211\"/>\n      </g>\n     </g>\n     <g id=\"text_8\">\n      <!-- 0.2 -->\n      <g transform=\"translate(7.2 324.01743)scale(0.1 -0.1)\">\n       <use xlink:href=\"#DejaVuSans-30\"/>\n       <use x=\"63.623047\" xlink:href=\"#DejaVuSans-2e\"/>\n       <use x=\"95.410156\" xlink:href=\"#DejaVuSans-32\"/>\n      </g>\n     </g>\n    </g>\n    <g id=\"ytick_3\">\n     <g id=\"line2d_8\">\n      <g>\n       <use style=\"stroke:#000000;stroke-width:0.8;\" x=\"30.103125\" xlink:href=\"#m43353ad343\" y=\"250.06728\"/>\n      </g>\n     </g>\n     <g id=\"text_9\">\n      <!-- 0.4 -->\n      <g transform=\"translate(7.2 253.866499)scale(0.1 -0.1)\">\n       <use xlink:href=\"#DejaVuSans-30\"/>\n       <use x=\"63.623047\" xlink:href=\"#DejaVuSans-2e\"/>\n       <use x=\"95.410156\" xlink:href=\"#DejaVuSans-34\"/>\n      </g>\n     </g>\n    </g>\n    <g id=\"ytick_4\">\n     <g id=\"line2d_9\">\n      <g>\n       <use style=\"stroke:#000000;stroke-width:0.8;\" x=\"30.103125\" xlink:href=\"#m43353ad343\" y=\"179.91635\"/>\n      </g>\n     </g>\n     <g id=\"text_10\">\n      <!-- 0.6 -->\n      <g transform=\"translate(7.2 183.715569)scale(0.1 -0.1)\">\n       <defs>\n        <path d=\"M 2113 2584 \nQ 1688 2584 1439 2293 \nQ 1191 2003 1191 1497 \nQ 1191 994 1439 701 \nQ 1688 409 2113 409 \nQ 2538 409 2786 701 \nQ 3034 994 3034 1497 \nQ 3034 2003 2786 2293 \nQ 2538 2584 2113 2584 \nz\nM 3366 4563 \nL 3366 3988 \nQ 3128 4100 2886 4159 \nQ 2644 4219 2406 4219 \nQ 1781 4219 1451 3797 \nQ 1122 3375 1075 2522 \nQ 1259 2794 1537 2939 \nQ 1816 3084 2150 3084 \nQ 2853 3084 3261 2657 \nQ 3669 2231 3669 1497 \nQ 3669 778 3244 343 \nQ 2819 -91 2113 -91 \nQ 1303 -91 875 529 \nQ 447 1150 447 2328 \nQ 447 3434 972 4092 \nQ 1497 4750 2381 4750 \nQ 2619 4750 2861 4703 \nQ 3103 4656 3366 4563 \nz\n\" id=\"DejaVuSans-36\" transform=\"scale(0.015625)\"/>\n       </defs>\n       <use xlink:href=\"#DejaVuSans-30\"/>\n       <use x=\"63.623047\" xlink:href=\"#DejaVuSans-2e\"/>\n       <use x=\"95.410156\" xlink:href=\"#DejaVuSans-36\"/>\n      </g>\n     </g>\n    </g>\n    <g id=\"ytick_5\">\n     <g id=\"line2d_10\">\n      <g>\n       <use style=\"stroke:#000000;stroke-width:0.8;\" x=\"30.103125\" xlink:href=\"#m43353ad343\" y=\"109.765419\"/>\n      </g>\n     </g>\n     <g id=\"text_11\">\n      <!-- 0.8 -->\n      <g transform=\"translate(7.2 113.564638)scale(0.1 -0.1)\">\n       <defs>\n        <path d=\"M 2034 2216 \nQ 1584 2216 1326 1975 \nQ 1069 1734 1069 1313 \nQ 1069 891 1326 650 \nQ 1584 409 2034 409 \nQ 2484 409 2743 651 \nQ 3003 894 3003 1313 \nQ 3003 1734 2745 1975 \nQ 2488 2216 2034 2216 \nz\nM 1403 2484 \nQ 997 2584 770 2862 \nQ 544 3141 544 3541 \nQ 544 4100 942 4425 \nQ 1341 4750 2034 4750 \nQ 2731 4750 3128 4425 \nQ 3525 4100 3525 3541 \nQ 3525 3141 3298 2862 \nQ 3072 2584 2669 2484 \nQ 3125 2378 3379 2068 \nQ 3634 1759 3634 1313 \nQ 3634 634 3220 271 \nQ 2806 -91 2034 -91 \nQ 1263 -91 848 271 \nQ 434 634 434 1313 \nQ 434 1759 690 2068 \nQ 947 2378 1403 2484 \nz\nM 1172 3481 \nQ 1172 3119 1398 2916 \nQ 1625 2713 2034 2713 \nQ 2441 2713 2670 2916 \nQ 2900 3119 2900 3481 \nQ 2900 3844 2670 4047 \nQ 2441 4250 2034 4250 \nQ 1625 4250 1398 4047 \nQ 1172 3844 1172 3481 \nz\n\" id=\"DejaVuSans-38\" transform=\"scale(0.015625)\"/>\n       </defs>\n       <use xlink:href=\"#DejaVuSans-30\"/>\n       <use x=\"63.623047\" xlink:href=\"#DejaVuSans-2e\"/>\n       <use x=\"95.410156\" xlink:href=\"#DejaVuSans-38\"/>\n      </g>\n     </g>\n    </g>\n    <g id=\"ytick_6\">\n     <g id=\"line2d_11\">\n      <g>\n       <use style=\"stroke:#000000;stroke-width:0.8;\" x=\"30.103125\" xlink:href=\"#m43353ad343\" y=\"39.614489\"/>\n      </g>\n     </g>\n     <g id=\"text_12\">\n      <!-- 1.0 -->\n      <g transform=\"translate(7.2 43.413707)scale(0.1 -0.1)\">\n       <use xlink:href=\"#DejaVuSans-31\"/>\n       <use x=\"63.623047\" xlink:href=\"#DejaVuSans-2e\"/>\n       <use x=\"95.410156\" xlink:href=\"#DejaVuSans-30\"/>\n      </g>\n     </g>\n    </g>\n   </g>\n   <g id=\"line2d_12\">\n    <path clip-path=\"url(#pef2b7d20ef)\" d=\"M 60.539489 40.240166 \nL 73.491133 40.240166 \nL 73.491133 46.747209 \nL 86.442777 46.747209 \nL 86.442777 77.62301 \nL 99.394421 77.62301 \nL 99.394421 144.616695 \nL 112.346065 144.616695 \nL 112.346065 193.176591 \nL 125.297709 193.176591 \nL 125.297709 228.625085 \nL 138.249353 228.625085 \nL 138.249353 258.333177 \nL 151.200997 258.333177 \nL 151.200997 306.031169 \nL 164.152641 306.031169 \nL 164.152641 325.836564 \nL 177.104286 325.836564 \nL 177.104286 345.641958 \nL 190.05593 345.641958 \nL 190.05593 373.864646 \nL 203.007574 373.864646 \nL 203.007574 383.697111 \n\" style=\"fill:none;stroke:#1f77b4;stroke-linecap:square;stroke-width:1.5;\"/>\n   </g>\n   <g id=\"line2d_13\">\n    <path clip-path=\"url(#pef2b7d20ef)\" d=\"M 60.539489 39.614489 \nL 99.394421 39.614489 \nL 99.394421 44.219144 \nL 112.346065 44.219144 \nL 112.346065 53.028051 \nL 125.297709 53.028051 \nL 125.297709 70.108613 \nL 138.249353 70.108613 \nL 138.249353 88.121958 \nL 151.200997 88.121958 \nL 151.200997 100.661541 \nL 164.152641 100.661541 \nL 164.152641 113.90147 \nL 177.104286 113.90147 \nL 177.104286 123.180506 \nL 190.05593 123.180506 \nL 190.05593 129.697302 \nL 203.007574 129.697302 \nL 203.007574 136.0681 \nL 215.959218 136.0681 \nL 215.959218 145.266223 \nL 228.910862 145.266223 \nL 228.910862 159.208368 \nL 241.862506 159.208368 \nL 241.862506 172.618248 \nL 254.81415 172.618248 \nL 254.81415 212.874715 \nL 267.765794 212.874715 \nL 267.765794 228.228904 \nL 280.717438 228.228904 \nL 280.717438 237.996389 \nL 293.669082 237.996389 \nL 293.669082 252.322032 \nL 306.620727 252.322032 \nL 306.620727 265.99651 \nL 319.572371 265.99651 \nL 319.572371 283.577981 \nL 332.524015 283.577981 \nL 332.524015 307.605992 \nL 345.475659 307.605992 \nL 345.475659 336.36268 \nL 358.427303 336.36268 \nL 358.427303 355.771252 \n\" style=\"fill:none;stroke:#ff7f0e;stroke-linecap:square;stroke-width:1.5;\"/>\n   </g>\n   <g id=\"line2d_14\">\n    <path clip-path=\"url(#pef2b7d20ef)\" d=\"M 60.539489 39.614489 \nL 138.249353 39.614489 \nL 138.249353 41.668689 \nL 151.200997 41.668689 \nL 151.200997 43.979664 \nL 164.152641 43.979664 \nL 164.152641 48.862008 \nL 177.104286 48.862008 \nL 177.104286 55.02918 \nL 190.05593 55.02918 \nL 190.05593 63.509041 \nL 203.007574 63.509041 \nL 203.007574 81.239659 \nL 215.959218 81.239659 \nL 215.959218 90.498113 \nL 228.910862 90.498113 \nL 228.910862 100.829587 \nL 241.862506 100.829587 \nL 241.862506 109.375924 \nL 254.81415 109.375924 \nL 254.81415 118.794692 \nL 267.765794 118.794692 \nL 267.765794 129.057679 \nL 280.717438 129.057679 \nL 280.717438 140.501977 \nL 293.669082 140.501977 \nL 293.669082 154.08479 \nL 306.620727 154.08479 \nL 306.620727 162.596897 \nL 319.572371 162.596897 \nL 319.572371 166.005733 \nL 332.524015 166.005733 \nL 332.524015 170.925984 \nL 345.475659 170.925984 \nL 345.475659 173.053058 \nL 358.427303 173.053058 \nL 358.427303 176.050521 \nL 371.378947 176.050521 \nL 371.378947 179.905173 \nL 384.330591 179.905173 \nL 384.330591 190.10207 \nL 397.282235 190.10207 \nL 397.282235 198.227465 \nL 410.233879 198.227465 \nL 410.233879 231.424718 \nL 423.185523 231.424718 \nL 423.185523 243.890947 \nL 436.137168 243.890947 \nL 436.137168 252.507311 \nL 449.088812 252.507311 \nL 449.088812 257.892539 \nL 462.040456 257.892539 \nL 462.040456 266.508903 \nL 474.9921 266.508903 \nL 474.9921 281.587541 \nL 487.943744 281.587541 \nL 487.943744 302.677851 \nL 500.895388 302.677851 \nL 500.895388 322.439269 \nL 513.847032 322.439269 \nL 513.847032 342.976207 \n\" style=\"fill:none;stroke:#2ca02c;stroke-linecap:square;stroke-width:1.5;\"/>\n   </g>\n   <g id=\"line2d_15\">\n    <path clip-path=\"url(#pef2b7d20ef)\" d=\"M 60.539489 39.614489 \nL 293.669082 39.614489 \nL 293.669082 40.040162 \nL 306.620727 40.040162 \nL 306.620727 40.891508 \nL 319.572371 40.891508 \nL 319.572371 43.019874 \nL 332.524015 43.019874 \nL 332.524015 46.850932 \nL 345.475659 46.850932 \nL 345.475659 54.522554 \nL 358.427303 54.522554 \nL 358.427303 63.484153 \nL 371.378947 63.484153 \nL 371.378947 69.458552 \nL 384.330591 69.458552 \nL 384.330591 72.881599 \nL 397.282235 72.881599 \nL 397.282235 80.244884 \nL 410.233879 80.244884 \nL 410.233879 83.302447 \nL 423.185523 83.302447 \nL 423.185523 89.910769 \nL 436.137168 89.910769 \nL 436.137168 94.032912 \nL 449.088812 94.032912 \nL 449.088812 101.680298 \nL 462.040456 101.680298 \nL 462.040456 108.322696 \nL 474.9921 108.322696 \nL 474.9921 111.019125 \nL 487.943744 111.019125 \nL 487.943744 113.356782 \nL 500.895388 113.356782 \nL 500.895388 116.427873 \nL 513.847032 116.427873 \nL 513.847032 125.64705 \nL 526.798676 125.64705 \nL 526.798676 129.719697 \nL 539.75032 129.719697 \nL 539.75032 136.272337 \nL 552.701964 136.272337 \nL 552.701964 140.465354 \nL 565.653609 140.465354 \nL 565.653609 156.968434 \nL 578.605253 156.968434 \nL 578.605253 159.533277 \nL 591.556897 159.533277 \nL 591.556897 159.533277 \nL 604.508541 159.533277 \nL 604.508541 159.533277 \nL 617.460185 159.533277 \nL 617.460185 159.533277 \nL 630.411829 159.533277 \nL 630.411829 159.533277 \nL 643.363473 159.533277 \nL 643.363473 159.533277 \nL 656.315117 159.533277 \nL 656.315117 159.533277 \nL 669.266761 159.533277 \nL 669.266761 159.533277 \n\" style=\"fill:none;stroke:#d62728;stroke-linecap:square;stroke-width:1.5;\"/>\n   </g>\n   <g id=\"patch_3\">\n    <path d=\"M 30.103125 402.838125 \nL 30.103125 22.318125 \n\" style=\"fill:none;stroke:#000000;stroke-linecap:square;stroke-linejoin:miter;stroke-width:0.8;\"/>\n   </g>\n   <g id=\"patch_4\">\n    <path d=\"M 699.703125 402.838125 \nL 699.703125 22.318125 \n\" style=\"fill:none;stroke:#000000;stroke-linecap:square;stroke-linejoin:miter;stroke-width:0.8;\"/>\n   </g>\n   <g id=\"patch_5\">\n    <path d=\"M 30.103125 402.838125 \nL 699.703125 402.838125 \n\" style=\"fill:none;stroke:#000000;stroke-linecap:square;stroke-linejoin:miter;stroke-width:0.8;\"/>\n   </g>\n   <g id=\"patch_6\">\n    <path d=\"M 30.103125 22.318125 \nL 699.703125 22.318125 \n\" style=\"fill:none;stroke:#000000;stroke-linecap:square;stroke-linejoin:miter;stroke-width:0.8;\"/>\n   </g>\n   <g id=\"text_13\">\n    <!-- Survival by number of renewals -->\n    <g transform=\"translate(269.629688 16.318125)scale(0.12 -0.12)\">\n     <defs>\n      <path d=\"M 3425 4513 \nL 3425 3897 \nQ 3066 4069 2747 4153 \nQ 2428 4238 2131 4238 \nQ 1616 4238 1336 4038 \nQ 1056 3838 1056 3469 \nQ 1056 3159 1242 3001 \nQ 1428 2844 1947 2747 \nL 2328 2669 \nQ 3034 2534 3370 2195 \nQ 3706 1856 3706 1288 \nQ 3706 609 3251 259 \nQ 2797 -91 1919 -91 \nQ 1588 -91 1214 -16 \nQ 841 59 441 206 \nL 441 856 \nQ 825 641 1194 531 \nQ 1563 422 1919 422 \nQ 2459 422 2753 634 \nQ 3047 847 3047 1241 \nQ 3047 1584 2836 1778 \nQ 2625 1972 2144 2069 \nL 1759 2144 \nQ 1053 2284 737 2584 \nQ 422 2884 422 3419 \nQ 422 4038 858 4394 \nQ 1294 4750 2059 4750 \nQ 2388 4750 2728 4690 \nQ 3069 4631 3425 4513 \nz\n\" id=\"DejaVuSans-53\" transform=\"scale(0.015625)\"/>\n      <path d=\"M 544 1381 \nL 544 3500 \nL 1119 3500 \nL 1119 1403 \nQ 1119 906 1312 657 \nQ 1506 409 1894 409 \nQ 2359 409 2629 706 \nQ 2900 1003 2900 1516 \nL 2900 3500 \nL 3475 3500 \nL 3475 0 \nL 2900 0 \nL 2900 538 \nQ 2691 219 2414 64 \nQ 2138 -91 1772 -91 \nQ 1169 -91 856 284 \nQ 544 659 544 1381 \nz\nM 1991 3584 \nL 1991 3584 \nz\n\" id=\"DejaVuSans-75\" transform=\"scale(0.015625)\"/>\n      <path d=\"M 2631 2963 \nQ 2534 3019 2420 3045 \nQ 2306 3072 2169 3072 \nQ 1681 3072 1420 2755 \nQ 1159 2438 1159 1844 \nL 1159 0 \nL 581 0 \nL 581 3500 \nL 1159 3500 \nL 1159 2956 \nQ 1341 3275 1631 3429 \nQ 1922 3584 2338 3584 \nQ 2397 3584 2469 3576 \nQ 2541 3569 2628 3553 \nL 2631 2963 \nz\n\" id=\"DejaVuSans-72\" transform=\"scale(0.015625)\"/>\n      <path d=\"M 191 3500 \nL 800 3500 \nL 1894 563 \nL 2988 3500 \nL 3597 3500 \nL 2284 0 \nL 1503 0 \nL 191 3500 \nz\n\" id=\"DejaVuSans-76\" transform=\"scale(0.015625)\"/>\n      <path d=\"M 2194 1759 \nQ 1497 1759 1228 1600 \nQ 959 1441 959 1056 \nQ 959 750 1161 570 \nQ 1363 391 1709 391 \nQ 2188 391 2477 730 \nQ 2766 1069 2766 1631 \nL 2766 1759 \nL 2194 1759 \nz\nM 3341 1997 \nL 3341 0 \nL 2766 0 \nL 2766 531 \nQ 2569 213 2275 61 \nQ 1981 -91 1556 -91 \nQ 1019 -91 701 211 \nQ 384 513 384 1019 \nQ 384 1609 779 1909 \nQ 1175 2209 1959 2209 \nL 2766 2209 \nL 2766 2266 \nQ 2766 2663 2505 2880 \nQ 2244 3097 1772 3097 \nQ 1472 3097 1187 3025 \nQ 903 2953 641 2809 \nL 641 3341 \nQ 956 3463 1253 3523 \nQ 1550 3584 1831 3584 \nQ 2591 3584 2966 3190 \nQ 3341 2797 3341 1997 \nz\n\" id=\"DejaVuSans-61\" transform=\"scale(0.015625)\"/>\n      <path id=\"DejaVuSans-20\" transform=\"scale(0.015625)\"/>\n      <path d=\"M 3116 1747 \nQ 3116 2381 2855 2742 \nQ 2594 3103 2138 3103 \nQ 1681 3103 1420 2742 \nQ 1159 2381 1159 1747 \nQ 1159 1113 1420 752 \nQ 1681 391 2138 391 \nQ 2594 391 2855 752 \nQ 3116 1113 3116 1747 \nz\nM 1159 2969 \nQ 1341 3281 1617 3432 \nQ 1894 3584 2278 3584 \nQ 2916 3584 3314 3078 \nQ 3713 2572 3713 1747 \nQ 3713 922 3314 415 \nQ 2916 -91 2278 -91 \nQ 1894 -91 1617 61 \nQ 1341 213 1159 525 \nL 1159 0 \nL 581 0 \nL 581 4863 \nL 1159 4863 \nL 1159 2969 \nz\n\" id=\"DejaVuSans-62\" transform=\"scale(0.015625)\"/>\n      <path d=\"M 2059 -325 \nQ 1816 -950 1584 -1140 \nQ 1353 -1331 966 -1331 \nL 506 -1331 \nL 506 -850 \nL 844 -850 \nQ 1081 -850 1212 -737 \nQ 1344 -625 1503 -206 \nL 1606 56 \nL 191 3500 \nL 800 3500 \nL 1894 763 \nL 2988 3500 \nL 3597 3500 \nL 2059 -325 \nz\n\" id=\"DejaVuSans-79\" transform=\"scale(0.015625)\"/>\n      <path d=\"M 1959 3097 \nQ 1497 3097 1228 2736 \nQ 959 2375 959 1747 \nQ 959 1119 1226 758 \nQ 1494 397 1959 397 \nQ 2419 397 2687 759 \nQ 2956 1122 2956 1747 \nQ 2956 2369 2687 2733 \nQ 2419 3097 1959 3097 \nz\nM 1959 3584 \nQ 2709 3584 3137 3096 \nQ 3566 2609 3566 1747 \nQ 3566 888 3137 398 \nQ 2709 -91 1959 -91 \nQ 1206 -91 779 398 \nQ 353 888 353 1747 \nQ 353 2609 779 3096 \nQ 1206 3584 1959 3584 \nz\n\" id=\"DejaVuSans-6f\" transform=\"scale(0.015625)\"/>\n      <path d=\"M 2375 4863 \nL 2375 4384 \nL 1825 4384 \nQ 1516 4384 1395 4259 \nQ 1275 4134 1275 3809 \nL 1275 3500 \nL 2222 3500 \nL 2222 3053 \nL 1275 3053 \nL 1275 0 \nL 697 0 \nL 697 3053 \nL 147 3053 \nL 147 3500 \nL 697 3500 \nL 697 3744 \nQ 697 4328 969 4595 \nQ 1241 4863 1831 4863 \nL 2375 4863 \nz\n\" id=\"DejaVuSans-66\" transform=\"scale(0.015625)\"/>\n      <path d=\"M 269 3500 \nL 844 3500 \nL 1563 769 \nL 2278 3500 \nL 2956 3500 \nL 3675 769 \nL 4391 3500 \nL 4966 3500 \nL 4050 0 \nL 3372 0 \nL 2619 2869 \nL 1863 0 \nL 1184 0 \nL 269 3500 \nz\n\" id=\"DejaVuSans-77\" transform=\"scale(0.015625)\"/>\n      <path d=\"M 2834 3397 \nL 2834 2853 \nQ 2591 2978 2328 3040 \nQ 2066 3103 1784 3103 \nQ 1356 3103 1142 2972 \nQ 928 2841 928 2578 \nQ 928 2378 1081 2264 \nQ 1234 2150 1697 2047 \nL 1894 2003 \nQ 2506 1872 2764 1633 \nQ 3022 1394 3022 966 \nQ 3022 478 2636 193 \nQ 2250 -91 1575 -91 \nQ 1294 -91 989 -36 \nQ 684 19 347 128 \nL 347 722 \nQ 666 556 975 473 \nQ 1284 391 1588 391 \nQ 1994 391 2212 530 \nQ 2431 669 2431 922 \nQ 2431 1156 2273 1281 \nQ 2116 1406 1581 1522 \nL 1381 1569 \nQ 847 1681 609 1914 \nQ 372 2147 372 2553 \nQ 372 3047 722 3315 \nQ 1072 3584 1716 3584 \nQ 2034 3584 2315 3537 \nQ 2597 3491 2834 3397 \nz\n\" id=\"DejaVuSans-73\" transform=\"scale(0.015625)\"/>\n     </defs>\n     <use xlink:href=\"#DejaVuSans-53\"/>\n     <use x=\"63.476562\" xlink:href=\"#DejaVuSans-75\"/>\n     <use x=\"126.855469\" xlink:href=\"#DejaVuSans-72\"/>\n     <use x=\"167.96875\" xlink:href=\"#DejaVuSans-76\"/>\n     <use x=\"227.148438\" xlink:href=\"#DejaVuSans-69\"/>\n     <use x=\"254.931641\" xlink:href=\"#DejaVuSans-76\"/>\n     <use x=\"314.111328\" xlink:href=\"#DejaVuSans-61\"/>\n     <use x=\"375.390625\" xlink:href=\"#DejaVuSans-6c\"/>\n     <use x=\"403.173828\" xlink:href=\"#DejaVuSans-20\"/>\n     <use x=\"434.960938\" xlink:href=\"#DejaVuSans-62\"/>\n     <use x=\"498.4375\" xlink:href=\"#DejaVuSans-79\"/>\n     <use x=\"557.617188\" xlink:href=\"#DejaVuSans-20\"/>\n     <use x=\"589.404297\" xlink:href=\"#DejaVuSans-6e\"/>\n     <use x=\"652.783203\" xlink:href=\"#DejaVuSans-75\"/>\n     <use x=\"716.162109\" xlink:href=\"#DejaVuSans-6d\"/>\n     <use x=\"813.574219\" xlink:href=\"#DejaVuSans-62\"/>\n     <use x=\"877.050781\" xlink:href=\"#DejaVuSans-65\"/>\n     <use x=\"938.574219\" xlink:href=\"#DejaVuSans-72\"/>\n     <use x=\"979.6875\" xlink:href=\"#DejaVuSans-20\"/>\n     <use x=\"1011.474609\" xlink:href=\"#DejaVuSans-6f\"/>\n     <use x=\"1072.65625\" xlink:href=\"#DejaVuSans-66\"/>\n     <use x=\"1107.861328\" xlink:href=\"#DejaVuSans-20\"/>\n     <use x=\"1139.648438\" xlink:href=\"#DejaVuSans-72\"/>\n     <use x=\"1178.511719\" xlink:href=\"#DejaVuSans-65\"/>\n     <use x=\"1240.035156\" xlink:href=\"#DejaVuSans-6e\"/>\n     <use x=\"1303.414062\" xlink:href=\"#DejaVuSans-65\"/>\n     <use x=\"1364.9375\" xlink:href=\"#DejaVuSans-77\"/>\n     <use x=\"1446.724609\" xlink:href=\"#DejaVuSans-61\"/>\n     <use x=\"1508.003906\" xlink:href=\"#DejaVuSans-6c\"/>\n     <use x=\"1535.787109\" xlink:href=\"#DejaVuSans-73\"/>\n    </g>\n   </g>\n   <g id=\"legend_1\">\n    <g id=\"patch_7\">\n     <path d=\"M 597.959375 89.030625 \nL 692.703125 89.030625 \nQ 694.703125 89.030625 694.703125 87.030625 \nL 694.703125 29.318125 \nQ 694.703125 27.318125 692.703125 27.318125 \nL 597.959375 27.318125 \nQ 595.959375 27.318125 595.959375 29.318125 \nL 595.959375 87.030625 \nQ 595.959375 89.030625 597.959375 89.030625 \nz\n\" style=\"fill:#ffffff;opacity:0.8;stroke:#cccccc;stroke-linejoin:miter;\"/>\n    </g>\n    <g id=\"line2d_16\">\n     <path d=\"M 599.959375 35.416562 \nL 619.959375 35.416562 \n\" style=\"fill:none;stroke:#1f77b4;stroke-linecap:square;stroke-width:1.5;\"/>\n    </g>\n    <g id=\"line2d_17\"/>\n    <g id=\"text_14\">\n     <!-- renewals 0 -->\n     <g transform=\"translate(627.959375 38.916562)scale(0.1 -0.1)\">\n      <use xlink:href=\"#DejaVuSans-72\"/>\n      <use x=\"38.863281\" xlink:href=\"#DejaVuSans-65\"/>\n      <use x=\"100.386719\" xlink:href=\"#DejaVuSans-6e\"/>\n      <use x=\"163.765625\" xlink:href=\"#DejaVuSans-65\"/>\n      <use x=\"225.289062\" xlink:href=\"#DejaVuSans-77\"/>\n      <use x=\"307.076172\" xlink:href=\"#DejaVuSans-61\"/>\n      <use x=\"368.355469\" xlink:href=\"#DejaVuSans-6c\"/>\n      <use x=\"396.138672\" xlink:href=\"#DejaVuSans-73\"/>\n      <use x=\"448.238281\" xlink:href=\"#DejaVuSans-20\"/>\n      <use x=\"480.025391\" xlink:href=\"#DejaVuSans-30\"/>\n     </g>\n    </g>\n    <g id=\"line2d_18\">\n     <path d=\"M 599.959375 50.094687 \nL 619.959375 50.094687 \n\" style=\"fill:none;stroke:#ff7f0e;stroke-linecap:square;stroke-width:1.5;\"/>\n    </g>\n    <g id=\"line2d_19\"/>\n    <g id=\"text_15\">\n     <!-- renewals 1 -->\n     <g transform=\"translate(627.959375 53.594687)scale(0.1 -0.1)\">\n      <use xlink:href=\"#DejaVuSans-72\"/>\n      <use x=\"38.863281\" xlink:href=\"#DejaVuSans-65\"/>\n      <use x=\"100.386719\" xlink:href=\"#DejaVuSans-6e\"/>\n      <use x=\"163.765625\" xlink:href=\"#DejaVuSans-65\"/>\n      <use x=\"225.289062\" xlink:href=\"#DejaVuSans-77\"/>\n      <use x=\"307.076172\" xlink:href=\"#DejaVuSans-61\"/>\n      <use x=\"368.355469\" xlink:href=\"#DejaVuSans-6c\"/>\n      <use x=\"396.138672\" xlink:href=\"#DejaVuSans-73\"/>\n      <use x=\"448.238281\" xlink:href=\"#DejaVuSans-20\"/>\n      <use x=\"480.025391\" xlink:href=\"#DejaVuSans-31\"/>\n     </g>\n    </g>\n    <g id=\"line2d_20\">\n     <path d=\"M 599.959375 64.772812 \nL 619.959375 64.772812 \n\" style=\"fill:none;stroke:#2ca02c;stroke-linecap:square;stroke-width:1.5;\"/>\n    </g>\n    <g id=\"line2d_21\"/>\n    <g id=\"text_16\">\n     <!-- renewals 2 -->\n     <g transform=\"translate(627.959375 68.272812)scale(0.1 -0.1)\">\n      <use xlink:href=\"#DejaVuSans-72\"/>\n      <use x=\"38.863281\" xlink:href=\"#DejaVuSans-65\"/>\n      <use x=\"100.386719\" xlink:href=\"#DejaVuSans-6e\"/>\n      <use x=\"163.765625\" xlink:href=\"#DejaVuSans-65\"/>\n      <use x=\"225.289062\" xlink:href=\"#DejaVuSans-77\"/>\n      <use x=\"307.076172\" xlink:href=\"#DejaVuSans-61\"/>\n      <use x=\"368.355469\" xlink:href=\"#DejaVuSans-6c\"/>\n      <use x=\"396.138672\" xlink:href=\"#DejaVuSans-73\"/>\n      <use x=\"448.238281\" xlink:href=\"#DejaVuSans-20\"/>\n      <use x=\"480.025391\" xlink:href=\"#DejaVuSans-32\"/>\n     </g>\n    </g>\n    <g id=\"line2d_22\">\n     <path d=\"M 599.959375 79.450937 \nL 619.959375 79.450937 \n\" style=\"fill:none;stroke:#d62728;stroke-linecap:square;stroke-width:1.5;\"/>\n    </g>\n    <g id=\"line2d_23\"/>\n    <g id=\"text_17\">\n     <!-- renewals 2+ -->\n     <g transform=\"translate(627.959375 82.950937)scale(0.1 -0.1)\">\n      <defs>\n       <path d=\"M 2944 4013 \nL 2944 2272 \nL 4684 2272 \nL 4684 1741 \nL 2944 1741 \nL 2944 0 \nL 2419 0 \nL 2419 1741 \nL 678 1741 \nL 678 2272 \nL 2419 2272 \nL 2419 4013 \nL 2944 4013 \nz\n\" id=\"DejaVuSans-2b\" transform=\"scale(0.015625)\"/>\n      </defs>\n      <use xlink:href=\"#DejaVuSans-72\"/>\n      <use x=\"38.863281\" xlink:href=\"#DejaVuSans-65\"/>\n      <use x=\"100.386719\" xlink:href=\"#DejaVuSans-6e\"/>\n      <use x=\"163.765625\" xlink:href=\"#DejaVuSans-65\"/>\n      <use x=\"225.289062\" xlink:href=\"#DejaVuSans-77\"/>\n      <use x=\"307.076172\" xlink:href=\"#DejaVuSans-61\"/>\n      <use x=\"368.355469\" xlink:href=\"#DejaVuSans-6c\"/>\n      <use x=\"396.138672\" xlink:href=\"#DejaVuSans-73\"/>\n      <use x=\"448.238281\" xlink:href=\"#DejaVuSans-20\"/>\n      <use x=\"480.025391\" xlink:href=\"#DejaVuSans-32\"/>\n      <use x=\"543.648438\" xlink:href=\"#DejaVuSans-2b\"/>\n     </g>\n    </g>\n   </g>\n  </g>\n </g>\n <defs>\n  <clipPath id=\"pef2b7d20ef\">\n   <rect height=\"380.52\" width=\"669.6\" x=\"30.103125\" y=\"22.318125\"/>\n  </clipPath>\n </defs>\n</svg>\n"
     },
     "metadata": {
      "needs_background": "light"
     }
    }
   ],
   "metadata": {}
  },
  {
   "cell_type": "code",
   "execution_count": 99,
   "source": [
    "results=multivariate_logrank_test(event_durations=T,groups=dt.esc_nrenewals,event_observed=C)\n",
    "results.print_summary()"
   ],
   "outputs": [
    {
     "output_type": "display_data",
     "data": {
      "text/plain": [
       "<lifelines.StatisticalResult: multivariate_logrank_test>\n",
       "               t_0 = -1\n",
       " null_distribution = chi squared\n",
       "degrees_of_freedom = 3\n",
       "         test_name = multivariate_logrank_test\n",
       "\n",
       "---\n",
       " test_statistic      p  -log2(p)\n",
       "        6264.73 <0.005       inf"
      ],
      "text/latex": [
       "\\begin{tabular}{lrrr}\n",
       "\\toprule\n",
       "{} &  test\\_statistic &    p &  -log2(p) \\\\\n",
       "\\midrule\n",
       "0 &     6264.732064 &  0.0 &       inf \\\\\n",
       "\\bottomrule\n",
       "\\end{tabular}\n"
      ],
      "text/html": [
       "<div>\n",
       "<style scoped>\n",
       "    .dataframe tbody tr th:only-of-type {\n",
       "        vertical-align: middle;\n",
       "    }\n",
       "\n",
       "    .dataframe tbody tr th {\n",
       "        vertical-align: top;\n",
       "    }\n",
       "\n",
       "    .dataframe thead th {\n",
       "        text-align: right;\n",
       "    }\n",
       "</style>\n",
       "<table border=\"1\" class=\"dataframe\">\n",
       "  <tbody>\n",
       "    <tr>\n",
       "      <th>t_0</th>\n",
       "      <td>-1</td>\n",
       "    </tr>\n",
       "    <tr>\n",
       "      <th>null_distribution</th>\n",
       "      <td>chi squared</td>\n",
       "    </tr>\n",
       "    <tr>\n",
       "      <th>degrees_of_freedom</th>\n",
       "      <td>3</td>\n",
       "    </tr>\n",
       "    <tr>\n",
       "      <th>test_name</th>\n",
       "      <td>multivariate_logrank_test</td>\n",
       "    </tr>\n",
       "  </tbody>\n",
       "</table>\n",
       "</div><table border=\"1\" class=\"dataframe\">\n",
       "  <thead>\n",
       "    <tr style=\"text-align: right;\">\n",
       "      <th></th>\n",
       "      <th>test_statistic</th>\n",
       "      <th>p</th>\n",
       "      <th>-log2(p)</th>\n",
       "    </tr>\n",
       "  </thead>\n",
       "  <tbody>\n",
       "    <tr>\n",
       "      <th>0</th>\n",
       "      <td>6264.73</td>\n",
       "      <td>&lt;0.005</td>\n",
       "      <td>inf</td>\n",
       "    </tr>\n",
       "  </tbody>\n",
       "</table>"
      ]
     },
     "metadata": {}
    }
   ],
   "metadata": {}
  },
  {
   "cell_type": "markdown",
   "source": [
    "Existem diferenças nas curvas de sobrevivência"
   ],
   "metadata": {}
  },
  {
   "cell_type": "code",
   "execution_count": 100,
   "source": [
    "results=pairwise_logrank_test(event_durations=T,groups=dt.nrenovacoes,event_observed=C)\n",
    "results.print_summary()"
   ],
   "outputs": [
    {
     "output_type": "display_data",
     "data": {
      "text/plain": [
       "<lifelines.StatisticalResult: logrank_test>\n",
       "               t_0 = -1\n",
       " null_distribution = chi squared\n",
       "degrees_of_freedom = 1\n",
       "         test_name = logrank_test\n",
       "\n",
       "---\n",
       "     test_statistic      p  -log2(p)\n",
       "0 1         2310.12 <0.005       inf\n",
       "  2         2991.50 <0.005       inf\n",
       "  3         2085.62 <0.005       inf\n",
       "  4          220.46 <0.005    163.26\n",
       "1 2          414.49 <0.005    303.67\n",
       "  3         1016.39 <0.005    738.49\n",
       "  4          117.55 <0.005     88.57\n",
       "2 3          463.07 <0.005    338.79\n",
       "  4           73.02 <0.005     56.11\n",
       "3 4            0.83   0.36      1.46"
      ],
      "text/latex": [
       "\\begin{tabular}{llrrr}\n",
       "\\toprule\n",
       "  &   &  test\\_statistic &              p &    -log2(p) \\\\\n",
       "\\midrule\n",
       "0 & 1 &     2310.123076 &   0.000000e+00 &         inf \\\\\n",
       "  & 2 &     2991.495545 &   0.000000e+00 &         inf \\\\\n",
       "  & 3 &     2085.623554 &   0.000000e+00 &         inf \\\\\n",
       "  & 4 &      220.464840 &   7.161281e-50 &  163.256187 \\\\\n",
       "1 & 2 &      414.494796 &   3.852455e-92 &  303.671607 \\\\\n",
       "  & 3 &     1016.388707 &  4.920174e-223 &  738.491256 \\\\\n",
       "  & 4 &      117.547558 &   2.178142e-27 &   88.568960 \\\\\n",
       "2 & 3 &      463.067209 &  1.033757e-102 &  338.788769 \\\\\n",
       "  & 4 &       73.021027 &   1.282759e-17 &   56.113528 \\\\\n",
       "3 & 4 &        0.829125 &   3.625258e-01 &    1.463844 \\\\\n",
       "\\bottomrule\n",
       "\\end{tabular}\n"
      ],
      "text/html": [
       "<div>\n",
       "<style scoped>\n",
       "    .dataframe tbody tr th:only-of-type {\n",
       "        vertical-align: middle;\n",
       "    }\n",
       "\n",
       "    .dataframe tbody tr th {\n",
       "        vertical-align: top;\n",
       "    }\n",
       "\n",
       "    .dataframe thead th {\n",
       "        text-align: right;\n",
       "    }\n",
       "</style>\n",
       "<table border=\"1\" class=\"dataframe\">\n",
       "  <tbody>\n",
       "    <tr>\n",
       "      <th>t_0</th>\n",
       "      <td>-1</td>\n",
       "    </tr>\n",
       "    <tr>\n",
       "      <th>null_distribution</th>\n",
       "      <td>chi squared</td>\n",
       "    </tr>\n",
       "    <tr>\n",
       "      <th>degrees_of_freedom</th>\n",
       "      <td>1</td>\n",
       "    </tr>\n",
       "    <tr>\n",
       "      <th>test_name</th>\n",
       "      <td>logrank_test</td>\n",
       "    </tr>\n",
       "  </tbody>\n",
       "</table>\n",
       "</div><table border=\"1\" class=\"dataframe\">\n",
       "  <thead>\n",
       "    <tr style=\"text-align: right;\">\n",
       "      <th></th>\n",
       "      <th></th>\n",
       "      <th>test_statistic</th>\n",
       "      <th>p</th>\n",
       "      <th>-log2(p)</th>\n",
       "    </tr>\n",
       "  </thead>\n",
       "  <tbody>\n",
       "    <tr>\n",
       "      <th rowspan=\"4\" valign=\"top\">0</th>\n",
       "      <th>1</th>\n",
       "      <td>2310.12</td>\n",
       "      <td>&lt;0.005</td>\n",
       "      <td>inf</td>\n",
       "    </tr>\n",
       "    <tr>\n",
       "      <th>2</th>\n",
       "      <td>2991.50</td>\n",
       "      <td>&lt;0.005</td>\n",
       "      <td>inf</td>\n",
       "    </tr>\n",
       "    <tr>\n",
       "      <th>3</th>\n",
       "      <td>2085.62</td>\n",
       "      <td>&lt;0.005</td>\n",
       "      <td>inf</td>\n",
       "    </tr>\n",
       "    <tr>\n",
       "      <th>4</th>\n",
       "      <td>220.46</td>\n",
       "      <td>&lt;0.005</td>\n",
       "      <td>163.26</td>\n",
       "    </tr>\n",
       "    <tr>\n",
       "      <th rowspan=\"3\" valign=\"top\">1</th>\n",
       "      <th>2</th>\n",
       "      <td>414.49</td>\n",
       "      <td>&lt;0.005</td>\n",
       "      <td>303.67</td>\n",
       "    </tr>\n",
       "    <tr>\n",
       "      <th>3</th>\n",
       "      <td>1016.39</td>\n",
       "      <td>&lt;0.005</td>\n",
       "      <td>738.49</td>\n",
       "    </tr>\n",
       "    <tr>\n",
       "      <th>4</th>\n",
       "      <td>117.55</td>\n",
       "      <td>&lt;0.005</td>\n",
       "      <td>88.57</td>\n",
       "    </tr>\n",
       "    <tr>\n",
       "      <th rowspan=\"2\" valign=\"top\">2</th>\n",
       "      <th>3</th>\n",
       "      <td>463.07</td>\n",
       "      <td>&lt;0.005</td>\n",
       "      <td>338.79</td>\n",
       "    </tr>\n",
       "    <tr>\n",
       "      <th>4</th>\n",
       "      <td>73.02</td>\n",
       "      <td>&lt;0.005</td>\n",
       "      <td>56.11</td>\n",
       "    </tr>\n",
       "    <tr>\n",
       "      <th>3</th>\n",
       "      <th>4</th>\n",
       "      <td>0.83</td>\n",
       "      <td>0.36</td>\n",
       "      <td>1.46</td>\n",
       "    </tr>\n",
       "  </tbody>\n",
       "</table>"
      ]
     },
     "metadata": {}
    }
   ],
   "metadata": {}
  },
  {
   "cell_type": "markdown",
   "source": [
    "Existem diferenças entre todas as curvas de sobrevivência"
   ],
   "metadata": {}
  },
  {
   "cell_type": "markdown",
   "source": [
    "## imonth"
   ],
   "metadata": {}
  },
  {
   "cell_type": "code",
   "execution_count": 101,
   "source": [
    "dt['mes'].unique()"
   ],
   "outputs": [
    {
     "output_type": "execute_result",
     "data": {
      "text/plain": [
       "array([ 9, 10,  6,  7,  2, 12,  4,  3,  1,  5, 11,  8])"
      ]
     },
     "metadata": {},
     "execution_count": 101
    }
   ],
   "metadata": {}
  },
  {
   "cell_type": "code",
   "execution_count": 102,
   "source": [
    "dt.mes.describe()"
   ],
   "outputs": [
    {
     "output_type": "execute_result",
     "data": {
      "text/plain": [
       "count    6745.000000\n",
       "mean        7.251001\n",
       "std         3.173279\n",
       "min         1.000000\n",
       "25%         4.000000\n",
       "50%         9.000000\n",
       "75%         9.000000\n",
       "max        12.000000\n",
       "Name: mes, dtype: float64"
      ]
     },
     "metadata": {},
     "execution_count": 102
    }
   ],
   "metadata": {}
  },
  {
   "cell_type": "code",
   "execution_count": 103,
   "source": [
    "dt['mes'].value_counts()"
   ],
   "outputs": [
    {
     "output_type": "execute_result",
     "data": {
      "text/plain": [
       "9     2794\n",
       "10     830\n",
       "3      487\n",
       "2      450\n",
       "1      420\n",
       "11     403\n",
       "4      383\n",
       "5      339\n",
       "6      264\n",
       "7      203\n",
       "12     160\n",
       "8       12\n",
       "Name: mes, dtype: int64"
      ]
     },
     "metadata": {},
     "execution_count": 103
    }
   ],
   "metadata": {}
  },
  {
   "cell_type": "code",
   "execution_count": 104,
   "source": [
    "ax = plt.subplot(111)\n",
    "import matplotlib.pyplot as plt\n",
    "import numpy as np\n",
    "#vamos considerar só 0,1,2,3\n",
    "meses=dt['mes'].unique()\n",
    "\n",
    "plt.rcParams['figure.figsize'] = [12, 7]\n",
    "for mes in meses:\n",
    "    ix = dt['mes'] == mes\n",
    "    kmf.fit(T.loc[ix], C.loc[ix], label=str(mes))\n",
    "    ax = kmf.plot(ax=ax)\n",
    "plt.title('inscription month');"
   ],
   "outputs": [
    {
     "output_type": "display_data",
     "data": {
      "text/plain": [
       "<Figure size 864x504 with 1 Axes>"
      ],
      "image/png": "[encoded data removed]",
      "image/svg+xml": "<?xml version=\"1.0\" encoding=\"utf-8\" standalone=\"no\"?>\n<!DOCTYPE svg PUBLIC \"-//W3C//DTD SVG 1.1//EN\"\n  \"http://www.w3.org/Graphics/SVG/1.1/DTD/svg11.dtd\">\n<svg height=\"440.394375pt\" version=\"1.1\" viewBox=\"0 0 706.903125 440.394375\" width=\"706.903125pt\" xmlns=\"http://www.w3.org/2000/svg\" xmlns:xlink=\"http://www.w3.org/1999/xlink\">\n <metadata>\n  <rdf:RDF xmlns:cc=\"http://creativecommons.org/ns#\" xmlns:dc=\"http://purl.org/dc/elements/1.1/\" xmlns:rdf=\"http://www.w3.org/1999/02/22-rdf-syntax-ns#\">\n   <cc:Work>\n    <dc:type rdf:resource=\"http://purl.org/dc/dcmitype/StillImage\"/>\n    <dc:date>2021-07-14T16:59:14.973935</dc:date>\n    <dc:format>image/svg+xml</dc:format>\n    <dc:creator>\n     <cc:Agent>\n      <dc:title>Matplotlib v3.4.2, https://matplotlib.org/</dc:title>\n     </cc:Agent>\n    </dc:creator>\n   </cc:Work>\n  </rdf:RDF>\n </metadata>\n <defs>\n  <style type=\"text/css\">*{stroke-linecap:butt;stroke-linejoin:round;}</style>\n </defs>\n <g id=\"figure_1\">\n  <g id=\"patch_1\">\n   <path d=\"M 0 440.394375 \nL 706.903125 440.394375 \nL 706.903125 0 \nL 0 0 \nz\n\" style=\"fill:none;\"/>\n  </g>\n  <g id=\"axes_1\">\n   <g id=\"patch_2\">\n    <path d=\"M 30.103125 402.838125 \nL 699.703125 402.838125 \nL 699.703125 22.318125 \nL 30.103125 22.318125 \nz\n\" style=\"fill:#ffffff;\"/>\n   </g>\n   <g id=\"PolyCollection_1\">\n    <defs>\n     <path d=\"M 60.539489 -400.659059 \nL 60.539489 -399.620039 \nL 73.491133 -399.620039 \nL 73.491133 -398.146468 \nL 86.442777 -398.146468 \nL 86.442777 -386.607781 \nL 99.394421 -386.607781 \nL 99.394421 -361.112735 \nL 112.346065 -361.112735 \nL 112.346065 -344.92652 \nL 125.297709 -344.92652 \nL 125.297709 -335.759214 \nL 138.249353 -335.759214 \nL 138.249353 -330.150492 \nL 151.200997 -330.150492 \nL 151.200997 -298.679468 \nL 164.152641 -298.679468 \nL 164.152641 -290.000828 \nL 177.104286 -290.000828 \nL 177.104286 -280.088162 \nL 190.05593 -280.088162 \nL 190.05593 -258.939199 \nL 203.007574 -258.939199 \nL 203.007574 -244.437404 \nL 215.959218 -244.437404 \nL 215.959218 -243.152914 \nL 228.910862 -243.152914 \nL 228.910862 -238.660586 \nL 241.862506 -238.660586 \nL 241.862506 -234.974363 \nL 254.81415 -234.974363 \nL 254.81415 -224.073622 \nL 267.765794 -224.073622 \nL 267.765794 -219.855836 \nL 280.717438 -219.855836 \nL 280.717438 -217.368364 \nL 293.669082 -217.368364 \nL 293.669082 -214.88366 \nL 306.620727 -214.88366 \nL 306.620727 -213.529519 \nL 319.572371 -213.529519 \nL 319.572371 -210.372978 \nL 332.524015 -210.372978 \nL 332.524015 -206.995759 \nL 345.475659 -206.995759 \nL 345.475659 -200.929019 \nL 358.427303 -200.929019 \nL 358.427303 -192.19319 \nL 371.378947 -192.19319 \nL 371.378947 -190.519397 \nL 384.330591 -190.519397 \nL 384.330591 -186.459918 \nL 397.282235 -186.459918 \nL 397.282235 -184.07557 \nL 410.233879 -184.07557 \nL 410.233879 -174.227159 \nL 423.185523 -174.227159 \nL 423.185523 -170.441276 \nL 436.137168 -170.441276 \nL 436.137168 -168.139823 \nL 449.088812 -168.139823 \nL 449.088812 -166.608328 \nL 462.040456 -166.608328 \nL 462.040456 -166.225801 \nL 474.9921 -166.225801 \nL 474.9921 -163.551951 \nL 487.943744 -163.551951 \nL 487.943744 -159.363543 \nL 500.895388 -159.363543 \nL 500.895388 -157.465022 \nL 513.847032 -157.465022 \nL 513.847032 -148.773521 \nL 526.798676 -148.773521 \nL 526.798676 -147.071762 \nL 539.75032 -147.071762 \nL 539.75032 -144.525064 \nL 552.701964 -144.525064 \nL 552.701964 -143.254366 \nL 565.653609 -143.254366 \nL 565.653609 -125.105186 \nL 578.605253 -125.105186 \nL 578.605253 -122.636352 \nL 669.266761 -122.636352 \nL 669.266761 -122.636352 \nL 669.266761 -147.976148 \nL 669.266761 -147.976148 \nL 669.266761 -147.976148 \nL 578.605253 -147.976148 \nL 578.605253 -149.693838 \nL 565.653609 -149.693838 \nL 565.653609 -160.24584 \nL 552.701964 -160.24584 \nL 552.701964 -161.490622 \nL 539.75032 -161.490622 \nL 539.75032 -163.975301 \nL 526.798676 -163.975301 \nL 526.798676 -165.628105 \nL 513.847032 -165.628105 \nL 513.847032 -174.164281 \nL 500.895388 -174.164281 \nL 500.895388 -176.011608 \nL 487.943744 -176.011608 \nL 487.943744 -180.064979 \nL 474.9921 -180.064979 \nL 474.9921 -182.63657 \nL 462.040456 -182.63657 \nL 462.040456 -183.003435 \nL 449.088812 -183.003435 \nL 449.088812 -184.46962 \nL 436.137168 -184.46962 \nL 436.137168 -186.665023 \nL 423.185523 -186.665023 \nL 423.185523 -190.265215 \nL 410.233879 -190.265215 \nL 410.233879 -199.517337 \nL 397.282235 -199.517337 \nL 397.282235 -201.880908 \nL 384.330591 -201.880908 \nL 384.330591 -205.893272 \nL 371.378947 -205.893272 \nL 371.378947 -207.543321 \nL 358.427303 -207.543321 \nL 358.427303 -216.181462 \nL 345.475659 -216.181462 \nL 345.475659 -222.14401 \nL 332.524015 -222.14401 \nL 332.524015 -225.450166 \nL 319.572371 -225.450166 \nL 319.572371 -228.53174 \nL 306.620727 -228.53174 \nL 306.620727 -229.851167 \nL 293.669082 -229.851167 \nL 293.669082 -232.268151 \nL 280.717438 -232.268151 \nL 280.717438 -234.682563 \nL 267.765794 -234.682563 \nL 267.765794 -238.773382 \nL 254.81415 -238.773382 \nL 254.81415 -249.276707 \nL 241.862506 -249.276707 \nL 241.862506 -252.921233 \nL 228.910862 -252.921233 \nL 228.910862 -257.353391 \nL 215.959218 -257.353391 \nL 215.959218 -258.618775 \nL 203.007574 -258.618775 \nL 203.007574 -272.884714 \nL 190.05593 -272.884714 \nL 190.05593 -293.496455 \nL 177.104286 -293.496455 \nL 177.104286 -303.072618 \nL 164.152641 -303.072618 \nL 164.152641 -311.408344 \nL 151.200997 -311.408344 \nL 151.200997 -341.19251 \nL 138.249353 -341.19251 \nL 138.249353 -346.412614 \nL 125.297709 -346.412614 \nL 125.297709 -354.872341 \nL 112.346065 -354.872341 \nL 112.346065 -369.535271 \nL 99.394421 -369.535271 \nL 99.394421 -391.276325 \nL 86.442777 -391.276325 \nL 86.442777 -399.928372 \nL 73.491133 -399.928372 \nL 73.491133 -400.659059 \nL 60.539489 -400.659059 \nz\n\" id=\"mefda0b5bbc\" style=\"stroke:#1f77b4;stroke-opacity:0.25;\"/>\n    </defs>\n    <g clip-path=\"url(#p20b640f25b)\">\n     <use style=\"fill:#1f77b4;fill-opacity:0.25;stroke:#1f77b4;stroke-opacity:0.25;\" x=\"0\" xlink:href=\"#mefda0b5bbc\" y=\"440.394375\"/>\n    </g>\n   </g>\n   <g id=\"PolyCollection_2\">\n    <defs>\n     <path d=\"M 60.539489 -400.779886 \nL 60.539489 -400.779886 \nL 73.491133 -400.779886 \nL 73.491133 -396.885942 \nL 86.442777 -396.885942 \nL 86.442777 -380.224044 \nL 99.394421 -380.224044 \nL 99.394421 -355.976667 \nL 112.346065 -355.976667 \nL 112.346065 -343.478265 \nL 125.297709 -343.478265 \nL 125.297709 -333.586724 \nL 138.249353 -333.586724 \nL 138.249353 -301.97335 \nL 151.200997 -301.97335 \nL 151.200997 -290.937698 \nL 164.152641 -290.937698 \nL 164.152641 -278.539792 \nL 177.104286 -278.539792 \nL 177.104286 -259.138331 \nL 190.05593 -259.138331 \nL 190.05593 -235.234755 \nL 203.007574 -235.234755 \nL 203.007574 -234.761232 \nL 215.959218 -234.761232 \nL 215.959218 -225.782499 \nL 228.910862 -225.782499 \nL 228.910862 -222.012247 \nL 241.862506 -222.012247 \nL 241.862506 -212.135037 \nL 254.81415 -212.135037 \nL 254.81415 -204.286185 \nL 267.765794 -204.286185 \nL 267.765794 -201.668821 \nL 280.717438 -201.668821 \nL 280.717438 -201.015265 \nL 293.669082 -201.015265 \nL 293.669082 -197.100452 \nL 306.620727 -197.100452 \nL 306.620727 -191.897893 \nL 319.572371 -191.897893 \nL 319.572371 -188.008696 \nL 332.524015 -188.008696 \nL 332.524015 -183.484931 \nL 345.475659 -183.484931 \nL 345.475659 -168.085232 \nL 358.427303 -168.085232 \nL 358.427303 -167.398438 \nL 371.378947 -167.398438 \nL 371.378947 -166.712037 \nL 384.330591 -166.712037 \nL 384.330591 -161.918185 \nL 397.282235 -161.918185 \nL 397.282235 -157.035751 \nL 410.233879 -157.035751 \nL 410.233879 -152.201218 \nL 436.137168 -152.201218 \nL 436.137168 -150.9559 \nL 449.088812 -150.9559 \nL 449.088812 -149.713759 \nL 462.040456 -149.713759 \nL 462.040456 -144.776241 \nL 474.9921 -144.776241 \nL 474.9921 -142.325663 \nL 500.895388 -142.325663 \nL 500.895388 -125.494984 \nL 539.75032 -125.494984 \nL 539.75032 -124.03966 \nL 552.701964 -124.03966 \nL 552.701964 -111.378821 \nL 565.653609 -111.378821 \nL 565.653609 -111.378821 \nL 656.315117 -111.378821 \nL 656.315117 -111.378821 \nL 656.315117 -146.758552 \nL 656.315117 -146.758552 \nL 656.315117 -146.758552 \nL 565.653609 -146.758552 \nL 565.653609 -146.758552 \nL 552.701964 -146.758552 \nL 552.701964 -152.455543 \nL 539.75032 -152.455543 \nL 539.75032 -153.829427 \nL 500.895388 -153.829427 \nL 500.895388 -170.183525 \nL 474.9921 -170.183525 \nL 474.9921 -172.479485 \nL 462.040456 -172.479485 \nL 462.040456 -177.039693 \nL 449.088812 -177.039693 \nL 449.088812 -178.172975 \nL 436.137168 -178.172975 \nL 436.137168 -179.303484 \nL 410.233879 -179.303484 \nL 410.233879 -183.685693 \nL 397.282235 -183.685693 \nL 397.282235 -188.026038 \nL 384.330591 -188.026038 \nL 384.330591 -192.850708 \nL 371.378947 -192.850708 \nL 371.378947 -193.538528 \nL 358.427303 -193.538528 \nL 358.427303 -194.225994 \nL 345.475659 -194.225994 \nL 345.475659 -209.672218 \nL 332.524015 -209.672218 \nL 332.524015 -214.148059 \nL 319.572371 -214.148059 \nL 319.572371 -217.973924 \nL 306.620727 -217.973924 \nL 306.620727 -223.059794 \nL 293.669082 -223.059794 \nL 293.669082 -226.862623 \nL 280.717438 -226.862623 \nL 280.717438 -227.495455 \nL 267.765794 -227.495455 \nL 267.765794 -230.02398 \nL 254.81415 -230.02398 \nL 254.81415 -237.555904 \nL 241.862506 -237.555904 \nL 241.862506 -246.912328 \nL 228.910862 -246.912328 \nL 228.910862 -250.644926 \nL 215.959218 -250.644926 \nL 215.959218 -259.486018 \nL 203.007574 -259.486018 \nL 203.007574 -259.950402 \nL 190.05593 -259.950402 \nL 190.05593 -283.199375 \nL 177.104286 -283.199375 \nL 177.104286 -301.706962 \nL 164.152641 -301.706962 \nL 164.152641 -313.349824 \nL 151.200997 -313.349824 \nL 151.200997 -323.581552 \nL 138.249353 -323.581552 \nL 138.249353 -352.074471 \nL 125.297709 -352.074471 \nL 125.297709 -360.678147 \nL 112.346065 -360.678147 \nL 112.346065 -371.263237 \nL 99.394421 -371.263237 \nL 99.394421 -390.348047 \nL 86.442777 -390.348047 \nL 86.442777 -400.372798 \nL 73.491133 -400.372798 \nL 73.491133 -400.779886 \nL 60.539489 -400.779886 \nz\n\" id=\"mbda756de11\" style=\"stroke:#ff7f0e;stroke-opacity:0.25;\"/>\n    </defs>\n    <g clip-path=\"url(#p20b640f25b)\">\n     <use style=\"fill:#ff7f0e;fill-opacity:0.25;stroke:#ff7f0e;stroke-opacity:0.25;\" x=\"0\" xlink:href=\"#mbda756de11\" y=\"440.394375\"/>\n    </g>\n   </g>\n   <g id=\"PolyCollection_3\">\n    <defs>\n     <path d=\"M 60.539489 -400.779886 \nL 60.539489 -400.779886 \nL 73.491133 -400.779886 \nL 73.491133 -381.662814 \nL 86.442777 -381.662814 \nL 86.442777 -360.683087 \nL 99.394421 -360.683087 \nL 99.394421 -359.138155 \nL 112.346065 -359.138155 \nL 112.346065 -309.230706 \nL 125.297709 -309.230706 \nL 125.297709 -297.958069 \nL 138.249353 -297.958069 \nL 138.249353 -264.573873 \nL 151.200997 -264.573873 \nL 151.200997 -251.964585 \nL 164.152641 -251.964585 \nL 164.152641 -241.196509 \nL 177.104286 -241.196509 \nL 177.104286 -237.633688 \nL 190.05593 -237.633688 \nL 190.05593 -232.31322 \nL 203.007574 -232.31322 \nL 203.007574 -228.781687 \nL 215.959218 -228.781687 \nL 215.959218 -216.515087 \nL 228.910862 -216.515087 \nL 228.910862 -209.568985 \nL 241.862506 -209.568985 \nL 241.862506 -180.540858 \nL 254.81415 -180.540858 \nL 254.81415 -178.577215 \nL 267.765794 -178.577215 \nL 267.765794 -170.770741 \nL 280.717438 -170.770741 \nL 280.717438 -166.896188 \nL 293.669082 -166.896188 \nL 293.669082 -160.015658 \nL 306.620727 -160.015658 \nL 306.620727 -156.625107 \nL 332.524015 -156.625107 \nL 332.524015 -153.266281 \nL 345.475659 -153.266281 \nL 345.475659 -149.938299 \nL 371.378947 -149.938299 \nL 371.378947 -146.640403 \nL 397.282235 -146.640403 \nL 397.282235 -130.583222 \nL 410.233879 -130.583222 \nL 410.233879 -126.538489 \nL 423.185523 -126.538489 \nL 423.185523 -114.774726 \nL 436.137168 -114.774726 \nL 436.137168 -114.774726 \nL 552.701964 -114.774726 \nL 552.701964 -114.774726 \nL 552.701964 -165.253073 \nL 552.701964 -165.253073 \nL 552.701964 -165.253073 \nL 436.137168 -165.253073 \nL 436.137168 -165.253073 \nL 423.185523 -165.253073 \nL 423.185523 -176.455398 \nL 410.233879 -176.455398 \nL 410.233879 -180.092397 \nL 397.282235 -180.092397 \nL 397.282235 -195.423397 \nL 371.378947 -195.423397 \nL 371.378947 -198.421247 \nL 345.475659 -198.421247 \nL 345.475659 -201.395467 \nL 332.524015 -201.395467 \nL 332.524015 -204.34551 \nL 306.620727 -204.34551 \nL 306.620727 -207.270722 \nL 293.669082 -207.270722 \nL 293.669082 -213.043399 \nL 280.717438 -213.043399 \nL 280.717438 -216.94216 \nL 267.765794 -216.94216 \nL 267.765794 -224.690638 \nL 254.81415 -224.690638 \nL 254.81415 -226.617543 \nL 241.862506 -226.617543 \nL 241.862506 -255.466154 \nL 228.910862 -255.466154 \nL 228.910862 -262.149395 \nL 215.959218 -262.149395 \nL 215.959218 -273.746527 \nL 203.007574 -273.746527 \nL 203.007574 -277.03642 \nL 190.05593 -277.03642 \nL 190.05593 -281.951077 \nL 177.104286 -281.951077 \nL 177.104286 -285.213806 \nL 164.152641 -285.213806 \nL 164.152641 -294.933893 \nL 151.200997 -294.933893 \nL 151.200997 -306.065238 \nL 138.249353 -306.065238 \nL 138.249353 -333.917493 \nL 125.297709 -333.917493 \nL 125.297709 -343.543131 \nL 112.346065 -343.543131 \nL 112.346065 -382.432988 \nL 99.394421 -382.432988 \nL 99.394421 -383.497534 \nL 86.442777 -383.497534 \nL 86.442777 -396.340138 \nL 73.491133 -396.340138 \nL 73.491133 -400.779886 \nL 60.539489 -400.779886 \nz\n\" id=\"mb464a55690\" style=\"stroke:#2ca02c;stroke-opacity:0.25;\"/>\n    </defs>\n    <g clip-path=\"url(#p20b640f25b)\">\n     <use style=\"fill:#2ca02c;fill-opacity:0.25;stroke:#2ca02c;stroke-opacity:0.25;\" x=\"0\" xlink:href=\"#mb464a55690\" y=\"440.394375\"/>\n    </g>\n   </g>\n   <g id=\"PolyCollection_4\">\n    <defs>\n     <path d=\"M 60.539489 -400.779886 \nL 60.539489 -400.779886 \nL 73.491133 -400.779886 \nL 73.491133 -354.999773 \nL 99.394421 -354.999773 \nL 99.394421 -312.413705 \nL 112.346065 -312.413705 \nL 112.346065 -295.749239 \nL 125.297709 -295.749239 \nL 125.297709 -279.951791 \nL 138.249353 -279.951791 \nL 138.249353 -262.317281 \nL 151.200997 -262.317281 \nL 151.200997 -257.968411 \nL 164.152641 -257.968411 \nL 164.152641 -255.802221 \nL 177.104286 -255.802221 \nL 177.104286 -251.485809 \nL 190.05593 -251.485809 \nL 190.05593 -242.914298 \nL 203.007574 -242.914298 \nL 203.007574 -232.308612 \nL 215.959218 -232.308612 \nL 215.959218 -228.098571 \nL 228.910862 -228.098571 \nL 228.910862 -193.006704 \nL 241.862506 -193.006704 \nL 241.862506 -190.888855 \nL 254.81415 -190.888855 \nL 254.81415 -186.667588 \nL 267.765794 -186.667588 \nL 267.765794 -182.465511 \nL 280.717438 -182.465511 \nL 280.717438 -162.549495 \nL 293.669082 -162.549495 \nL 293.669082 -158.690409 \nL 306.620727 -158.690409 \nL 306.620727 -154.869718 \nL 319.572371 -154.869718 \nL 319.572371 -151.086512 \nL 332.524015 -151.086512 \nL 332.524015 -147.340034 \nL 358.427303 -147.340034 \nL 358.427303 -143.629664 \nL 384.330591 -143.629664 \nL 384.330591 -139.954915 \nL 423.185523 -139.954915 \nL 423.185523 -139.954915 \nL 449.088812 -139.954915 \nL 449.088812 -139.954915 \nL 539.75032 -139.954915 \nL 539.75032 -139.954915 \nL 539.75032 -195.734021 \nL 539.75032 -195.734021 \nL 539.75032 -195.734021 \nL 449.088812 -195.734021 \nL 449.088812 -195.734021 \nL 423.185523 -195.734021 \nL 423.185523 -195.734021 \nL 384.330591 -195.734021 \nL 384.330591 -199.31343 \nL 358.427303 -199.31343 \nL 358.427303 -202.86515 \nL 332.524015 -202.86515 \nL 332.524015 -206.388963 \nL 319.572371 -206.388963 \nL 319.572371 -209.884546 \nL 306.620727 -209.884546 \nL 306.620727 -213.351466 \nL 293.669082 -213.351466 \nL 293.669082 -216.789169 \nL 280.717438 -216.789169 \nL 280.717438 -233.509722 \nL 267.765794 -233.509722 \nL 267.765794 -237.732754 \nL 254.81415 -237.732754 \nL 254.81415 -241.938647 \nL 241.862506 -241.938647 \nL 241.862506 -244.03517 \nL 228.910862 -244.03517 \nL 228.910862 -277.969352 \nL 215.959218 -277.969352 \nL 215.959218 -281.888046 \nL 203.007574 -281.888046 \nL 203.007574 -291.613408 \nL 190.05593 -291.613408 \nL 190.05593 -299.317547 \nL 177.104286 -299.317547 \nL 177.104286 -303.143119 \nL 164.152641 -303.143119 \nL 164.152641 -305.04907 \nL 151.200997 -305.04907 \nL 151.200997 -308.846957 \nL 138.249353 -308.846957 \nL 138.249353 -323.83941 \nL 125.297709 -323.83941 \nL 125.297709 -336.663472 \nL 112.346065 -336.663472 \nL 112.346065 -350.467172 \nL 99.394421 -350.467172 \nL 99.394421 -382.325613 \nL 73.491133 -382.325613 \nL 73.491133 -400.779886 \nL 60.539489 -400.779886 \nz\n\" id=\"m18e3bc0578\" style=\"stroke:#d62728;stroke-opacity:0.25;\"/>\n    </defs>\n    <g clip-path=\"url(#p20b640f25b)\">\n     <use style=\"fill:#d62728;fill-opacity:0.25;stroke:#d62728;stroke-opacity:0.25;\" x=\"0\" xlink:href=\"#m18e3bc0578\" y=\"440.394375\"/>\n    </g>\n   </g>\n   <g id=\"PolyCollection_5\">\n    <defs>\n     <path d=\"M 60.539489 -400.670603 \nL 60.539489 -395.314741 \nL 73.491133 -395.314741 \nL 73.491133 -394.622903 \nL 86.442777 -394.622903 \nL 86.442777 -380.765499 \nL 99.394421 -380.765499 \nL 99.394421 -354.87123 \nL 112.346065 -354.87123 \nL 112.346065 -324.49374 \nL 125.297709 -324.49374 \nL 125.297709 -292.627389 \nL 138.249353 -292.627389 \nL 138.249353 -268.606343 \nL 151.200997 -268.606343 \nL 151.200997 -267.017666 \nL 164.152641 -267.017666 \nL 164.152641 -243.360281 \nL 177.104286 -243.360281 \nL 177.104286 -237.884776 \nL 190.05593 -237.884776 \nL 190.05593 -230.720029 \nL 203.007574 -230.720029 \nL 203.007574 -219.549996 \nL 215.959218 -219.549996 \nL 215.959218 -214.476556 \nL 228.910862 -214.476556 \nL 228.910862 -210.432982 \nL 254.81415 -210.432982 \nL 254.81415 -208.416171 \nL 267.765794 -208.416171 \nL 267.765794 -201.383018 \nL 280.717438 -201.383018 \nL 280.717438 -191.403669 \nL 293.669082 -191.403669 \nL 293.669082 -172.659026 \nL 319.572371 -172.659026 \nL 319.572371 -169.496045 \nL 332.524015 -169.496045 \nL 332.524015 -163.198215 \nL 345.475659 -163.198215 \nL 345.475659 -151.838816 \nL 358.427303 -151.838816 \nL 358.427303 -146.267493 \nL 371.378947 -146.267493 \nL 371.378947 -142.520377 \nL 384.330591 -142.520377 \nL 384.330591 -140.658692 \nL 397.282235 -140.658692 \nL 397.282235 -136.958674 \nL 410.233879 -136.958674 \nL 410.233879 -133.28938 \nL 423.185523 -133.28938 \nL 423.185523 -131.466136 \nL 436.137168 -131.466136 \nL 436.137168 -127.842291 \nL 449.088812 -127.842291 \nL 449.088812 -108.451467 \nL 474.9921 -108.451467 \nL 474.9921 -106.119846 \nL 487.943744 -106.119846 \nL 487.943744 -106.119846 \nL 513.847032 -106.119846 \nL 513.847032 -91.160669 \nL 604.508541 -91.160669 \nL 604.508541 -91.160669 \nL 604.508541 -138.375807 \nL 604.508541 -138.375807 \nL 604.508541 -138.375807 \nL 513.847032 -138.375807 \nL 513.847032 -141.36145 \nL 487.943744 -141.36145 \nL 487.943744 -141.36145 \nL 474.9921 -141.36145 \nL 474.9921 -143.644955 \nL 449.088812 -143.644955 \nL 449.088812 -163.879323 \nL 436.137168 -163.879323 \nL 436.137168 -167.474553 \nL 423.185523 -167.474553 \nL 423.185523 -169.262585 \nL 410.233879 -169.262585 \nL 410.233879 -172.819385 \nL 397.282235 -172.819385 \nL 397.282235 -176.35028 \nL 384.330591 -176.35028 \nL 384.330591 -178.1059 \nL 371.378947 -178.1059 \nL 371.378947 -181.59718 \nL 358.427303 -181.59718 \nL 358.427303 -186.7183 \nL 345.475659 -186.7183 \nL 345.475659 -196.778611 \nL 332.524015 -196.778611 \nL 332.524015 -203.171286 \nL 319.572371 -203.171286 \nL 319.572371 -206.355045 \nL 293.669082 -206.355045 \nL 293.669082 -225.198008 \nL 280.717438 -225.198008 \nL 280.717438 -235.012682 \nL 267.765794 -235.012682 \nL 267.765794 -241.840471 \nL 254.81415 -241.840471 \nL 254.81415 -243.784764 \nL 228.910862 -243.784764 \nL 228.910862 -247.664578 \nL 215.959218 -247.664578 \nL 215.959218 -252.497698 \nL 203.007574 -252.497698 \nL 203.007574 -263.013992 \nL 190.05593 -263.013992 \nL 190.05593 -269.65745 \nL 177.104286 -269.65745 \nL 177.104286 -274.958836 \nL 164.152641 -274.958836 \nL 164.152641 -297.490744 \nL 151.200997 -297.490744 \nL 151.200997 -298.98149 \nL 138.249353 -298.98149 \nL 138.249353 -321.153497 \nL 125.297709 -321.153497 \nL 125.297709 -349.341504 \nL 112.346065 -349.341504 \nL 112.346065 -374.397376 \nL 99.394421 -374.397376 \nL 99.394421 -393.129551 \nL 86.442777 -393.129551 \nL 86.442777 -400.391552 \nL 73.491133 -400.391552 \nL 73.491133 -400.670603 \nL 60.539489 -400.670603 \nz\n\" id=\"m0b6169a5c3\" style=\"stroke:#9467bd;stroke-opacity:0.25;\"/>\n    </defs>\n    <g clip-path=\"url(#p20b640f25b)\">\n     <use style=\"fill:#9467bd;fill-opacity:0.25;stroke:#9467bd;stroke-opacity:0.25;\" x=\"0\" xlink:href=\"#m0b6169a5c3\" y=\"440.394375\"/>\n    </g>\n   </g>\n   <g id=\"PolyCollection_6\">\n    <defs>\n     <path d=\"M 60.539489 -400.779886 \nL 60.539489 -400.779886 \nL 73.491133 -400.779886 \nL 73.491133 -385.596485 \nL 86.442777 -385.596485 \nL 86.442777 -369.537606 \nL 99.394421 -369.537606 \nL 99.394421 -358.680992 \nL 112.346065 -358.680992 \nL 112.346065 -318.342946 \nL 125.297709 -318.342946 \nL 125.297709 -303.963013 \nL 138.249353 -303.963013 \nL 138.249353 -280.579448 \nL 151.200997 -280.579448 \nL 151.200997 -266.838966 \nL 164.152641 -266.838966 \nL 164.152641 -228.884974 \nL 177.104286 -228.884974 \nL 177.104286 -226.693422 \nL 190.05593 -226.693422 \nL 190.05593 -202.868543 \nL 203.007574 -202.868543 \nL 203.007574 -200.727977 \nL 215.959218 -200.727977 \nL 215.959218 -189.30716 \nL 228.910862 -189.30716 \nL 228.910862 -183.554168 \nL 241.862506 -183.554168 \nL 241.862506 -180.63445 \nL 267.765794 -180.63445 \nL 267.765794 -177.728274 \nL 280.717438 -177.728274 \nL 280.717438 -171.956011 \nL 306.620727 -171.956011 \nL 306.620727 -163.396349 \nL 319.572371 -163.396349 \nL 319.572371 -154.953782 \nL 358.427303 -154.953782 \nL 358.427303 -148.735519 \nL 371.378947 -148.735519 \nL 371.378947 -143.094538 \nL 410.233879 -143.094538 \nL 410.233879 -137.583818 \nL 423.185523 -137.583818 \nL 423.185523 -132.196211 \nL 474.9921 -132.196211 \nL 474.9921 -116.723856 \nL 500.895388 -116.723856 \nL 500.895388 -110.481404 \nL 513.847032 -110.481404 \nL 513.847032 -110.481404 \nL 526.798676 -110.481404 \nL 526.798676 -54.852614 \nL 630.411829 -54.852614 \nL 630.411829 -54.852614 \nL 630.411829 -148.24413 \nL 630.411829 -148.24413 \nL 630.411829 -148.24413 \nL 526.798676 -148.24413 \nL 526.798676 -170.434067 \nL 513.847032 -170.434067 \nL 513.847032 -170.434067 \nL 500.895388 -170.434067 \nL 500.895388 -175.998783 \nL 474.9921 -175.998783 \nL 474.9921 -190.395997 \nL 423.185523 -190.395997 \nL 423.185523 -195.02166 \nL 410.233879 -195.02166 \nL 410.233879 -199.554828 \nL 371.378947 -199.554828 \nL 371.378947 -203.989978 \nL 358.427303 -203.989978 \nL 358.427303 -210.216029 \nL 319.572371 -210.216029 \nL 319.572371 -218.799977 \nL 306.620727 -218.799977 \nL 306.620727 -227.287171 \nL 280.717438 -227.287171 \nL 280.717438 -232.891627 \nL 267.765794 -232.891627 \nL 267.765794 -235.677683 \nL 241.862506 -235.677683 \nL 241.862506 -238.452894 \nL 228.910862 -238.452894 \nL 228.910862 -243.892278 \nL 215.959218 -243.892278 \nL 215.959218 -254.503089 \nL 203.007574 -254.503089 \nL 203.007574 -256.637253 \nL 190.05593 -256.637253 \nL 190.05593 -279.842474 \nL 177.104286 -279.842474 \nL 177.104286 -281.927047 \nL 164.152641 -281.927047 \nL 164.152641 -316.679936 \nL 151.200997 -316.679936 \nL 151.200997 -328.604713 \nL 138.249353 -328.604713 \nL 138.249353 -347.997124 \nL 125.297709 -347.997124 \nL 125.297709 -359.27978 \nL 112.346065 -359.27978 \nL 112.346065 -387.291354 \nL 99.394421 -387.291354 \nL 99.394421 -393.420575 \nL 86.442777 -393.420575 \nL 86.442777 -400.471993 \nL 73.491133 -400.471993 \nL 73.491133 -400.779886 \nL 60.539489 -400.779886 \nz\n\" id=\"m45520660be\" style=\"stroke:#8c564b;stroke-opacity:0.25;\"/>\n    </defs>\n    <g clip-path=\"url(#p20b640f25b)\">\n     <use style=\"fill:#8c564b;fill-opacity:0.25;stroke:#8c564b;stroke-opacity:0.25;\" x=\"0\" xlink:href=\"#m45520660be\" y=\"440.394375\"/>\n    </g>\n   </g>\n   <g id=\"PolyCollection_7\">\n    <defs>\n     <path d=\"M 60.539489 -400.779886 \nL 60.539489 -400.779886 \nL 73.491133 -400.779886 \nL 73.491133 -393.554264 \nL 86.442777 -393.554264 \nL 86.442777 -376.214275 \nL 99.394421 -376.214275 \nL 99.394421 -320.265686 \nL 112.346065 -320.265686 \nL 112.346065 -294.256404 \nL 125.297709 -294.256404 \nL 125.297709 -287.603018 \nL 138.249353 -287.603018 \nL 138.249353 -243.692265 \nL 151.200997 -243.692265 \nL 151.200997 -232.669463 \nL 164.152641 -232.669463 \nL 164.152641 -213.366809 \nL 177.104286 -213.366809 \nL 177.104286 -200.29181 \nL 190.05593 -200.29181 \nL 190.05593 -195.574589 \nL 203.007574 -195.574589 \nL 203.007574 -189.705404 \nL 215.959218 -189.705404 \nL 215.959218 -185.031711 \nL 228.910862 -185.031711 \nL 228.910862 -181.538996 \nL 241.862506 -181.538996 \nL 241.862506 -178.057016 \nL 254.81415 -178.057016 \nL 254.81415 -169.974151 \nL 267.765794 -169.974151 \nL 267.765794 -155.119814 \nL 280.717438 -155.119814 \nL 280.717438 -152.776288 \nL 293.669082 -152.776288 \nL 293.669082 -148.106325 \nL 306.620727 -148.106325 \nL 306.620727 -141.144912 \nL 319.572371 -141.144912 \nL 319.572371 -137.412998 \nL 332.524015 -137.412998 \nL 332.524015 -135.55923 \nL 345.475659 -135.55923 \nL 345.475659 -133.630733 \nL 371.378947 -133.630733 \nL 371.378947 -131.711473 \nL 384.330591 -131.711473 \nL 384.330591 -127.900374 \nL 397.282235 -127.900374 \nL 397.282235 -120.386524 \nL 423.185523 -120.386524 \nL 423.185523 -111.196484 \nL 462.040456 -111.196484 \nL 462.040456 -108.632887 \nL 474.9921 -108.632887 \nL 474.9921 -89.563815 \nL 578.605253 -89.563815 \nL 578.605253 -89.563815 \nL 578.605253 -142.014791 \nL 578.605253 -142.014791 \nL 578.605253 -142.014791 \nL 474.9921 -142.014791 \nL 474.9921 -144.231002 \nL 462.040456 -144.231002 \nL 462.040456 -146.622356 \nL 423.185523 -146.622356 \nL 423.185523 -156.142455 \nL 397.282235 -156.142455 \nL 397.282235 -163.620989 \nL 384.330591 -163.620989 \nL 384.330591 -167.314429 \nL 371.378947 -167.314429 \nL 371.378947 -169.149581 \nL 345.475659 -169.149581 \nL 345.475659 -170.976946 \nL 332.524015 -170.976946 \nL 332.524015 -172.744737 \nL 319.572371 -172.744737 \nL 319.572371 -176.259765 \nL 306.620727 -176.259765 \nL 306.620727 -183.661014 \nL 293.669082 -183.661014 \nL 293.669082 -188.568806 \nL 280.717438 -188.568806 \nL 280.717438 -191.014963 \nL 267.765794 -191.014963 \nL 267.765794 -206.398544 \nL 254.81415 -206.398544 \nL 254.81415 -214.605434 \nL 241.862506 -214.605434 \nL 241.862506 -218.106544 \nL 228.910862 -218.106544 \nL 228.910862 -221.598024 \nL 215.959218 -221.598024 \nL 215.959218 -226.238364 \nL 203.007574 -226.238364 \nL 203.007574 -232.014709 \nL 190.05593 -232.014709 \nL 190.05593 -236.616432 \nL 177.104286 -236.616432 \nL 177.104286 -249.181216 \nL 164.152641 -249.181216 \nL 164.152641 -267.212156 \nL 151.200997 -267.212156 \nL 151.200997 -277.869689 \nL 138.249353 -277.869689 \nL 138.249353 -318.883345 \nL 125.297709 -318.883345 \nL 125.297709 -324.879316 \nL 112.346065 -324.879316 \nL 112.346065 -347.661783 \nL 99.394421 -347.661783 \nL 99.394421 -391.073724 \nL 86.442777 -391.073724 \nL 86.442777 -400.323485 \nL 73.491133 -400.323485 \nL 73.491133 -400.779886 \nL 60.539489 -400.779886 \nz\n\" id=\"ma045931e98\" style=\"stroke:#e377c2;stroke-opacity:0.25;\"/>\n    </defs>\n    <g clip-path=\"url(#p20b640f25b)\">\n     <use style=\"fill:#e377c2;fill-opacity:0.25;stroke:#e377c2;stroke-opacity:0.25;\" x=\"0\" xlink:href=\"#ma045931e98\" y=\"440.394375\"/>\n    </g>\n   </g>\n   <g id=\"PolyCollection_8\">\n    <defs>\n     <path d=\"M 60.539489 -400.779886 \nL 60.539489 -400.779886 \nL 73.491133 -400.779886 \nL 73.491133 -394.16113 \nL 86.442777 -394.16113 \nL 86.442777 -376.28881 \nL 99.394421 -376.28881 \nL 99.394421 -333.237644 \nL 112.346065 -333.237644 \nL 112.346065 -294.638585 \nL 125.297709 -294.638585 \nL 125.297709 -275.375602 \nL 138.249353 -275.375602 \nL 138.249353 -273.903289 \nL 151.200997 -273.903289 \nL 151.200997 -249.060689 \nL 164.152641 -249.060689 \nL 164.152641 -240.372163 \nL 177.104286 -240.372163 \nL 177.104286 -231.523812 \nL 190.05593 -231.523812 \nL 190.05593 -225.663356 \nL 203.007574 -225.663356 \nL 203.007574 -219.766683 \nL 215.959218 -219.766683 \nL 215.959218 -217.807703 \nL 228.910862 -217.807703 \nL 228.910862 -212.924288 \nL 241.862506 -212.924288 \nL 241.862506 -210.003703 \nL 254.81415 -210.003703 \nL 254.81415 -200.318365 \nL 267.765794 -200.318365 \nL 267.765794 -190.707934 \nL 280.717438 -190.707934 \nL 280.717438 -178.323811 \nL 306.620727 -178.323811 \nL 306.620727 -173.333866 \nL 319.572371 -173.333866 \nL 319.572371 -168.366073 \nL 332.524015 -168.366073 \nL 332.524015 -162.486968 \nL 345.475659 -162.486968 \nL 345.475659 -155.218262 \nL 371.378947 -155.218262 \nL 371.378947 -146.369596 \nL 397.282235 -146.369596 \nL 397.282235 -143.449524 \nL 410.233879 -143.449524 \nL 410.233879 -141.99495 \nL 423.185523 -141.99495 \nL 423.185523 -137.65298 \nL 436.137168 -137.65298 \nL 436.137168 -127.648448 \nL 449.088812 -127.648448 \nL 449.088812 -126.059043 \nL 462.040456 -126.059043 \nL 462.040456 -121.323873 \nL 474.9921 -121.323873 \nL 474.9921 -116.6385 \nL 487.943744 -116.6385 \nL 487.943744 -104.701687 \nL 591.556897 -104.701687 \nL 591.556897 -104.701687 \nL 591.556897 -147.080653 \nL 591.556897 -147.080653 \nL 591.556897 -147.080653 \nL 487.943744 -147.080653 \nL 487.943744 -150.164528 \nL 474.9921 -150.164528 \nL 474.9921 -155.036051 \nL 462.040456 -155.036051 \nL 462.040456 -159.864655 \nL 449.088812 -159.864655 \nL 449.088812 -161.464725 \nL 436.137168 -161.464725 \nL 436.137168 -171.690864 \nL 423.185523 -171.690864 \nL 423.185523 -176.02661 \nL 410.233879 -176.02661 \nL 410.233879 -177.465631 \nL 397.282235 -177.465631 \nL 397.282235 -180.33431 \nL 371.378947 -180.33431 \nL 371.378947 -188.86483 \nL 345.475659 -188.86483 \nL 345.475659 -195.749134 \nL 332.524015 -195.749134 \nL 332.524015 -201.202218 \nL 319.572371 -201.202218 \nL 319.572371 -206.217586 \nL 306.620727 -206.217586 \nL 306.620727 -211.213113 \nL 280.717438 -211.213113 \nL 280.717438 -223.578475 \nL 267.765794 -223.578475 \nL 267.765794 -233.014674 \nL 254.81415 -233.014674 \nL 254.81415 -242.38431 \nL 241.862506 -242.38431 \nL 241.862506 -245.181997 \nL 228.910862 -245.181997 \nL 228.910862 -249.83101 \nL 215.959218 -249.83101 \nL 215.959218 -251.685723 \nL 203.007574 -251.685723 \nL 203.007574 -257.232772 \nL 190.05593 -257.232772 \nL 190.05593 -262.704988 \nL 177.104286 -262.704988 \nL 177.104286 -270.864007 \nL 164.152641 -270.864007 \nL 164.152641 -279.25567 \nL 151.200997 -279.25567 \nL 151.200997 -302.809751 \nL 138.249353 -302.809751 \nL 138.249353 -304.184417 \nL 125.297709 -304.184417 \nL 125.297709 -321.933147 \nL 112.346065 -321.933147 \nL 112.346065 -355.93747 \nL 99.394421 -355.93747 \nL 99.394421 -389.745475 \nL 86.442777 -389.745475 \nL 86.442777 -400.085481 \nL 73.491133 -400.085481 \nL 73.491133 -400.779886 \nL 60.539489 -400.779886 \nz\n\" id=\"m990d546a4d\" style=\"stroke:#7f7f7f;stroke-opacity:0.25;\"/>\n    </defs>\n    <g clip-path=\"url(#p20b640f25b)\">\n     <use style=\"fill:#7f7f7f;fill-opacity:0.25;stroke:#7f7f7f;stroke-opacity:0.25;\" x=\"0\" xlink:href=\"#m990d546a4d\" y=\"440.394375\"/>\n    </g>\n   </g>\n   <g id=\"PolyCollection_9\">\n    <defs>\n     <path d=\"M 60.539489 -400.662789 \nL 60.539489 -394.927205 \nL 73.491133 -394.927205 \nL 73.491133 -393.11321 \nL 86.442777 -393.11321 \nL 86.442777 -383.423541 \nL 99.394421 -383.423541 \nL 99.394421 -357.221723 \nL 112.346065 -357.221723 \nL 112.346065 -337.057627 \nL 125.297709 -337.057627 \nL 125.297709 -322.732841 \nL 138.249353 -322.732841 \nL 138.249353 -293.79555 \nL 151.200997 -293.79555 \nL 151.200997 -262.068944 \nL 164.152641 -262.068944 \nL 164.152641 -261.220265 \nL 177.104286 -261.220265 \nL 177.104286 -242.655431 \nL 190.05593 -242.655431 \nL 190.05593 -235.953171 \nL 203.007574 -235.953171 \nL 203.007574 -225.908488 \nL 215.959218 -225.908488 \nL 215.959218 -217.056795 \nL 228.910862 -217.056795 \nL 228.910862 -210.419261 \nL 254.81415 -210.419261 \nL 254.81415 -206.015479 \nL 267.765794 -206.015479 \nL 267.765794 -202.723565 \nL 280.717438 -202.723565 \nL 280.717438 -195.078197 \nL 293.669082 -195.078197 \nL 293.669082 -175.643393 \nL 306.620727 -175.643393 \nL 306.620727 -158.637563 \nL 319.572371 -158.637563 \nL 319.572371 -157.468482 \nL 332.524015 -157.468482 \nL 332.524015 -151.64559 \nL 345.475659 -151.64559 \nL 345.475659 -151.64559 \nL 358.427303 -151.64559 \nL 358.427303 -146.175358 \nL 371.378947 -146.175358 \nL 371.378947 -142.565108 \nL 423.185523 -142.565108 \nL 423.185523 -138.913252 \nL 449.088812 -138.913252 \nL 449.088812 -137.098566 \nL 462.040456 -137.098566 \nL 462.040456 -124.601101 \nL 487.943744 -124.601101 \nL 487.943744 -120.524653 \nL 500.895388 -120.524653 \nL 500.895388 -120.524653 \nL 513.847032 -120.524653 \nL 513.847032 -110.542991 \nL 526.798676 -110.542991 \nL 526.798676 -110.542991 \nL 617.460185 -110.542991 \nL 617.460185 -110.542991 \nL 617.460185 -152.696666 \nL 617.460185 -152.696666 \nL 617.460185 -152.696666 \nL 526.798676 -152.696666 \nL 526.798676 -152.696666 \nL 513.847032 -152.696666 \nL 513.847032 -156.220869 \nL 500.895388 -156.220869 \nL 500.895388 -156.220869 \nL 487.943744 -156.220869 \nL 487.943744 -160.177487 \nL 462.040456 -160.177487 \nL 462.040456 -172.494911 \nL 449.088812 -172.494911 \nL 449.088812 -174.229715 \nL 423.185523 -174.229715 \nL 423.185523 -177.680358 \nL 371.378947 -177.680358 \nL 371.378947 -181.061321 \nL 358.427303 -181.061321 \nL 358.427303 -186.086579 \nL 345.475659 -186.086579 \nL 345.475659 -186.086579 \nL 332.524015 -186.086579 \nL 332.524015 -192.062416 \nL 319.572371 -192.062416 \nL 319.572371 -193.253586 \nL 306.620727 -193.253586 \nL 306.620727 -210.713708 \nL 293.669082 -210.713708 \nL 293.669082 -230.082235 \nL 280.717438 -230.082235 \nL 280.717438 -237.536515 \nL 267.765794 -237.536515 \nL 267.765794 -240.717689 \nL 254.81415 -240.717689 \nL 254.81415 -244.946489 \nL 228.910862 -244.946489 \nL 228.910862 -251.261933 \nL 215.959218 -251.261933 \nL 215.959218 -259.586262 \nL 203.007574 -259.586262 \nL 203.007574 -268.877201 \nL 190.05593 -268.877201 \nL 190.05593 -275.364616 \nL 177.104286 -275.364616 \nL 177.104286 -293.073326 \nL 164.152641 -293.073326 \nL 164.152641 -293.873506 \nL 151.200997 -293.873506 \nL 151.200997 -323.157862 \nL 138.249353 -323.157862 \nL 138.249353 -348.639347 \nL 125.297709 -348.639347 \nL 125.297709 -360.699503 \nL 112.346065 -360.699503 \nL 112.346065 -376.811616 \nL 99.394421 -376.811616 \nL 99.394421 -395.085241 \nL 86.442777 -395.085241 \nL 86.442777 -399.974438 \nL 73.491133 -399.974438 \nL 73.491133 -400.662789 \nL 60.539489 -400.662789 \nz\n\" id=\"m362f9d3d9a\" style=\"stroke:#bcbd22;stroke-opacity:0.25;\"/>\n    </defs>\n    <g clip-path=\"url(#p20b640f25b)\">\n     <use style=\"fill:#bcbd22;fill-opacity:0.25;stroke:#bcbd22;stroke-opacity:0.25;\" x=\"0\" xlink:href=\"#m362f9d3d9a\" y=\"440.394375\"/>\n    </g>\n   </g>\n   <g id=\"PolyCollection_10\">\n    <defs>\n     <path d=\"M 60.539489 -400.779886 \nL 60.539489 -400.779886 \nL 73.491133 -400.779886 \nL 73.491133 -392.62472 \nL 86.442777 -392.62472 \nL 86.442777 -350.501067 \nL 99.394421 -350.501067 \nL 99.394421 -323.365438 \nL 112.346065 -323.365438 \nL 112.346065 -322.255776 \nL 125.297709 -322.255776 \nL 125.297709 -255.523578 \nL 138.249353 -255.523578 \nL 138.249353 -235.699536 \nL 151.200997 -235.699536 \nL 151.200997 -221.905189 \nL 164.152641 -221.905189 \nL 164.152641 -212.361587 \nL 177.104286 -212.361587 \nL 177.104286 -206.947338 \nL 190.05593 -206.947338 \nL 190.05593 -205.598119 \nL 203.007574 -205.598119 \nL 203.007574 -201.560731 \nL 215.959218 -201.560731 \nL 215.959218 -192.199089 \nL 228.910862 -192.199089 \nL 228.910862 -190.868356 \nL 241.862506 -190.868356 \nL 241.862506 -178.965478 \nL 254.81415 -178.965478 \nL 254.81415 -165.894957 \nL 280.717438 -165.894957 \nL 280.717438 -161.773477 \nL 293.669082 -161.773477 \nL 293.669082 -154.94546 \nL 306.620727 -154.94546 \nL 306.620727 -151.210757 \nL 319.572371 -151.210757 \nL 319.572371 -145.553973 \nL 345.475659 -145.553973 \nL 345.475659 -143.644495 \nL 358.427303 -143.644495 \nL 358.427303 -141.742164 \nL 371.378947 -141.742164 \nL 371.378947 -139.846949 \nL 384.330591 -139.846949 \nL 384.330591 -132.336878 \nL 397.282235 -132.336878 \nL 397.282235 -124.940029 \nL 410.233879 -124.940029 \nL 410.233879 -119.467486 \nL 423.185523 -119.467486 \nL 423.185523 -117.322235 \nL 449.088812 -117.322235 \nL 449.088812 -110.96537 \nL 462.040456 -110.96537 \nL 462.040456 -81.837105 \nL 565.653609 -81.837105 \nL 565.653609 -81.837105 \nL 565.653609 -139.399806 \nL 565.653609 -139.399806 \nL 565.653609 -139.399806 \nL 462.040456 -139.399806 \nL 462.040456 -149.010293 \nL 449.088812 -149.010293 \nL 449.088812 -155.61238 \nL 423.185523 -155.61238 \nL 423.185523 -157.790949 \nL 410.233879 -157.790949 \nL 410.233879 -163.589193 \nL 397.282235 -163.589193 \nL 397.282235 -171.234762 \nL 384.330591 -171.234762 \nL 384.330591 -178.784451 \nL 371.378947 -178.784451 \nL 371.378947 -180.656976 \nL 358.427303 -180.656976 \nL 358.427303 -182.523534 \nL 345.475659 -182.523534 \nL 345.475659 -184.384111 \nL 319.572371 -184.384111 \nL 319.572371 -189.856419 \nL 306.620727 -189.856419 \nL 306.620727 -193.430918 \nL 293.669082 -193.430918 \nL 293.669082 -200.477076 \nL 280.717438 -200.477076 \nL 280.717438 -204.682875 \nL 254.81415 -204.682875 \nL 254.81415 -217.992592 \nL 241.862506 -217.992592 \nL 241.862506 -229.846685 \nL 228.910862 -229.846685 \nL 228.910862 -231.156546 \nL 215.959218 -231.156546 \nL 215.959218 -240.284699 \nL 203.007574 -240.284699 \nL 203.007574 -244.174704 \nL 190.05593 -244.174704 \nL 190.05593 -245.468401 \nL 177.104286 -245.468401 \nL 177.104286 -250.628187 \nL 164.152641 -250.628187 \nL 164.152641 -259.598987 \nL 151.200997 -259.598987 \nL 151.200997 -272.278925 \nL 138.249353 -272.278925 \nL 138.249353 -291.198582 \nL 125.297709 -291.198582 \nL 125.297709 -350.912839 \nL 112.346065 -350.912839 \nL 112.346065 -351.842729 \nL 99.394421 -351.842729 \nL 99.394421 -373.652808 \nL 86.442777 -373.652808 \nL 86.442777 -400.264116 \nL 73.491133 -400.264116 \nL 73.491133 -400.779886 \nL 60.539489 -400.779886 \nz\n\" id=\"m1ba52ed70a\" style=\"stroke:#17becf;stroke-opacity:0.25;\"/>\n    </defs>\n    <g clip-path=\"url(#p20b640f25b)\">\n     <use style=\"fill:#17becf;fill-opacity:0.25;stroke:#17becf;stroke-opacity:0.25;\" x=\"0\" xlink:href=\"#m1ba52ed70a\" y=\"440.394375\"/>\n    </g>\n   </g>\n   <g id=\"PolyCollection_11\">\n    <defs>\n     <path d=\"M 60.539489 -400.779886 \nL 60.539489 -400.779886 \nL 73.491133 -400.779886 \nL 73.491133 -390.473605 \nL 86.442777 -390.473605 \nL 86.442777 -370.247401 \nL 99.394421 -370.247401 \nL 99.394421 -353.479971 \nL 112.346065 -353.479971 \nL 112.346065 -335.372294 \nL 125.297709 -335.372294 \nL 125.297709 -288.52848 \nL 138.249353 -288.52848 \nL 138.249353 -282.237492 \nL 151.200997 -282.237492 \nL 151.200997 -259.981719 \nL 164.152641 -259.981719 \nL 164.152641 -236.280647 \nL 177.104286 -236.280647 \nL 177.104286 -218.067408 \nL 203.007574 -218.067408 \nL 203.007574 -206.886073 \nL 215.959218 -206.886073 \nL 215.959218 -204.315858 \nL 228.910862 -204.315858 \nL 228.910862 -192.342275 \nL 241.862506 -192.342275 \nL 241.862506 -189.366071 \nL 254.81415 -189.366071 \nL 254.81415 -184.312481 \nL 267.765794 -184.312481 \nL 267.765794 -183.304228 \nL 280.717438 -183.304228 \nL 280.717438 -182.296796 \nL 293.669082 -182.296796 \nL 293.669082 -177.271945 \nL 306.620727 -177.271945 \nL 306.620727 -173.266854 \nL 319.572371 -173.266854 \nL 319.572371 -168.279058 \nL 332.524015 -168.279058 \nL 332.524015 -148.538559 \nL 358.427303 -148.538559 \nL 358.427303 -146.458176 \nL 371.378947 -146.458176 \nL 371.378947 -144.38233 \nL 384.330591 -144.38233 \nL 384.330591 -142.831428 \nL 397.282235 -142.831428 \nL 397.282235 -138.207454 \nL 410.233879 -138.207454 \nL 410.233879 -134.981036 \nL 423.185523 -134.981036 \nL 423.185523 -133.376262 \nL 436.137168 -133.376262 \nL 436.137168 -131.77707 \nL 462.040456 -131.77707 \nL 462.040456 -127.012784 \nL 474.9921 -127.012784 \nL 474.9921 -123.864215 \nL 487.943744 -123.864215 \nL 487.943744 -109.970662 \nL 500.895388 -109.970662 \nL 500.895388 -108.069557 \nL 513.847032 -108.069557 \nL 513.847032 -104.304873 \nL 526.798676 -104.304873 \nL 526.798676 -104.304873 \nL 539.75032 -104.304873 \nL 539.75032 -92.843815 \nL 552.701964 -92.843815 \nL 552.701964 -92.843815 \nL 643.363473 -92.843815 \nL 643.363473 -92.843815 \nL 643.363473 -130.158078 \nL 643.363473 -130.158078 \nL 643.363473 -130.158078 \nL 552.701964 -130.158078 \nL 552.701964 -130.158078 \nL 539.75032 -130.158078 \nL 539.75032 -136.967689 \nL 526.798676 -136.967689 \nL 526.798676 -136.967689 \nL 513.847032 -136.967689 \nL 513.847032 -140.80261 \nL 500.895388 -140.80261 \nL 500.895388 -142.704025 \nL 487.943744 -142.704025 \nL 487.943744 -157.208514 \nL 474.9921 -157.208514 \nL 474.9921 -160.379007 \nL 462.040456 -160.379007 \nL 462.040456 -165.099202 \nL 436.137168 -165.099202 \nL 436.137168 -166.6631 \nL 423.185523 -166.6631 \nL 423.185523 -168.222227 \nL 410.233879 -168.222227 \nL 410.233879 -171.326078 \nL 397.282235 -171.326078 \nL 397.282235 -175.780098 \nL 384.330591 -175.780098 \nL 384.330591 -177.256596 \nL 371.378947 -177.256596 \nL 371.378947 -179.442783 \nL 358.427303 -179.442783 \nL 358.427303 -181.624851 \nL 332.524015 -181.624851 \nL 332.524015 -202.224774 \nL 319.572371 -202.224774 \nL 319.572371 -207.326356 \nL 306.620727 -207.326356 \nL 306.620727 -211.394057 \nL 293.669082 -211.394057 \nL 293.669082 -216.461857 \nL 280.717438 -216.461857 \nL 280.717438 -217.473182 \nL 267.765794 -217.473182 \nL 267.765794 -218.483764 \nL 254.81415 -218.483764 \nL 254.81415 -223.525529 \nL 241.862506 -223.525529 \nL 241.862506 -226.489874 \nL 228.910862 -226.489874 \nL 228.910862 -238.285053 \nL 215.959218 -238.285053 \nL 215.959218 -240.867052 \nL 203.007574 -240.867052 \nL 203.007574 -252.012942 \nL 177.104286 -252.012942 \nL 177.104286 -269.869759 \nL 164.152641 -269.869759 \nL 164.152641 -292.549108 \nL 151.200997 -292.549108 \nL 151.200997 -313.241951 \nL 138.249353 -313.241951 \nL 138.249353 -318.977105 \nL 125.297709 -318.977105 \nL 125.297709 -359.755862 \nL 112.346065 -359.755862 \nL 112.346065 -374.289723 \nL 99.394421 -374.289723 \nL 99.394421 -386.718057 \nL 86.442777 -386.718057 \nL 86.442777 -398.972178 \nL 73.491133 -398.972178 \nL 73.491133 -400.779886 \nL 60.539489 -400.779886 \nz\n\" id=\"m67c5c41978\" style=\"stroke:#1f77b4;stroke-opacity:0.25;\"/>\n    </defs>\n    <g clip-path=\"url(#p20b640f25b)\">\n     <use style=\"fill:#1f77b4;fill-opacity:0.25;stroke:#1f77b4;stroke-opacity:0.25;\" x=\"0\" xlink:href=\"#m67c5c41978\" y=\"440.394375\"/>\n    </g>\n   </g>\n   <g id=\"PolyCollection_12\">\n    <defs>\n     <path d=\"M 60.539489 -400.779886 \nL 60.539489 -400.779886 \nL 99.394421 -400.779886 \nL 99.394421 -400.779886 \nL 215.959218 -400.779886 \nL 215.959218 -186.976329 \nL 254.81415 -186.976329 \nL 254.81415 -186.976329 \nL 371.378947 -186.976329 \nL 371.378947 -186.976329 \nL 526.798676 -186.976329 \nL 526.798676 -186.976329 \nL 526.798676 -394.290082 \nL 526.798676 -394.290082 \nL 526.798676 -394.290082 \nL 371.378947 -394.290082 \nL 371.378947 -394.290082 \nL 254.81415 -394.290082 \nL 254.81415 -394.290082 \nL 215.959218 -394.290082 \nL 215.959218 -400.779886 \nL 99.394421 -400.779886 \nL 99.394421 -400.779886 \nL 60.539489 -400.779886 \nz\n\" id=\"m6f41de3348\" style=\"stroke:#ff7f0e;stroke-opacity:0.25;\"/>\n    </defs>\n    <g clip-path=\"url(#p20b640f25b)\">\n     <use style=\"fill:#ff7f0e;fill-opacity:0.25;stroke:#ff7f0e;stroke-opacity:0.25;\" x=\"0\" xlink:href=\"#m6f41de3348\" y=\"440.394375\"/>\n    </g>\n   </g>\n   <g id=\"matplotlib.axis_1\">\n    <g id=\"xtick_1\">\n     <g id=\"line2d_1\">\n      <defs>\n       <path d=\"M 0 0 \nL 0 3.5 \n\" id=\"ma0b7be2d9c\" style=\"stroke:#000000;stroke-width:0.8;\"/>\n      </defs>\n      <g>\n       <use style=\"stroke:#000000;stroke-width:0.8;\" x=\"60.539489\" xlink:href=\"#ma0b7be2d9c\" y=\"402.838125\"/>\n      </g>\n     </g>\n     <g id=\"text_1\">\n      <!-- 0 -->\n      <g transform=\"translate(57.358239 417.436562)scale(0.1 -0.1)\">\n       <defs>\n        <path d=\"M 2034 4250 \nQ 1547 4250 1301 3770 \nQ 1056 3291 1056 2328 \nQ 1056 1369 1301 889 \nQ 1547 409 2034 409 \nQ 2525 409 2770 889 \nQ 3016 1369 3016 2328 \nQ 3016 3291 2770 3770 \nQ 2525 4250 2034 4250 \nz\nM 2034 4750 \nQ 2819 4750 3233 4129 \nQ 3647 3509 3647 2328 \nQ 3647 1150 3233 529 \nQ 2819 -91 2034 -91 \nQ 1250 -91 836 529 \nQ 422 1150 422 2328 \nQ 422 3509 836 4129 \nQ 1250 4750 2034 4750 \nz\n\" id=\"DejaVuSans-30\" transform=\"scale(0.015625)\"/>\n       </defs>\n       <use xlink:href=\"#DejaVuSans-30\"/>\n      </g>\n     </g>\n    </g>\n    <g id=\"xtick_2\">\n     <g id=\"line2d_2\">\n      <g>\n       <use style=\"stroke:#000000;stroke-width:0.8;\" x=\"190.05593\" xlink:href=\"#ma0b7be2d9c\" y=\"402.838125\"/>\n      </g>\n     </g>\n     <g id=\"text_2\">\n      <!-- 10 -->\n      <g transform=\"translate(183.69343 417.436562)scale(0.1 -0.1)\">\n       <defs>\n        <path d=\"M 794 531 \nL 1825 531 \nL 1825 4091 \nL 703 3866 \nL 703 4441 \nL 1819 4666 \nL 2450 4666 \nL 2450 531 \nL 3481 531 \nL 3481 0 \nL 794 0 \nL 794 531 \nz\n\" id=\"DejaVuSans-31\" transform=\"scale(0.015625)\"/>\n       </defs>\n       <use xlink:href=\"#DejaVuSans-31\"/>\n       <use x=\"63.623047\" xlink:href=\"#DejaVuSans-30\"/>\n      </g>\n     </g>\n    </g>\n    <g id=\"xtick_3\">\n     <g id=\"line2d_3\">\n      <g>\n       <use style=\"stroke:#000000;stroke-width:0.8;\" x=\"319.572371\" xlink:href=\"#ma0b7be2d9c\" y=\"402.838125\"/>\n      </g>\n     </g>\n     <g id=\"text_3\">\n      <!-- 20 -->\n      <g transform=\"translate(313.209871 417.436562)scale(0.1 -0.1)\">\n       <defs>\n        <path d=\"M 1228 531 \nL 3431 531 \nL 3431 0 \nL 469 0 \nL 469 531 \nQ 828 903 1448 1529 \nQ 2069 2156 2228 2338 \nQ 2531 2678 2651 2914 \nQ 2772 3150 2772 3378 \nQ 2772 3750 2511 3984 \nQ 2250 4219 1831 4219 \nQ 1534 4219 1204 4116 \nQ 875 4013 500 3803 \nL 500 4441 \nQ 881 4594 1212 4672 \nQ 1544 4750 1819 4750 \nQ 2544 4750 2975 4387 \nQ 3406 4025 3406 3419 \nQ 3406 3131 3298 2873 \nQ 3191 2616 2906 2266 \nQ 2828 2175 2409 1742 \nQ 1991 1309 1228 531 \nz\n\" id=\"DejaVuSans-32\" transform=\"scale(0.015625)\"/>\n       </defs>\n       <use xlink:href=\"#DejaVuSans-32\"/>\n       <use x=\"63.623047\" xlink:href=\"#DejaVuSans-30\"/>\n      </g>\n     </g>\n    </g>\n    <g id=\"xtick_4\">\n     <g id=\"line2d_4\">\n      <g>\n       <use style=\"stroke:#000000;stroke-width:0.8;\" x=\"449.088812\" xlink:href=\"#ma0b7be2d9c\" y=\"402.838125\"/>\n      </g>\n     </g>\n     <g id=\"text_4\">\n      <!-- 30 -->\n      <g transform=\"translate(442.726312 417.436562)scale(0.1 -0.1)\">\n       <defs>\n        <path d=\"M 2597 2516 \nQ 3050 2419 3304 2112 \nQ 3559 1806 3559 1356 \nQ 3559 666 3084 287 \nQ 2609 -91 1734 -91 \nQ 1441 -91 1130 -33 \nQ 819 25 488 141 \nL 488 750 \nQ 750 597 1062 519 \nQ 1375 441 1716 441 \nQ 2309 441 2620 675 \nQ 2931 909 2931 1356 \nQ 2931 1769 2642 2001 \nQ 2353 2234 1838 2234 \nL 1294 2234 \nL 1294 2753 \nL 1863 2753 \nQ 2328 2753 2575 2939 \nQ 2822 3125 2822 3475 \nQ 2822 3834 2567 4026 \nQ 2313 4219 1838 4219 \nQ 1578 4219 1281 4162 \nQ 984 4106 628 3988 \nL 628 4550 \nQ 988 4650 1302 4700 \nQ 1616 4750 1894 4750 \nQ 2613 4750 3031 4423 \nQ 3450 4097 3450 3541 \nQ 3450 3153 3228 2886 \nQ 3006 2619 2597 2516 \nz\n\" id=\"DejaVuSans-33\" transform=\"scale(0.015625)\"/>\n       </defs>\n       <use xlink:href=\"#DejaVuSans-33\"/>\n       <use x=\"63.623047\" xlink:href=\"#DejaVuSans-30\"/>\n      </g>\n     </g>\n    </g>\n    <g id=\"xtick_5\">\n     <g id=\"line2d_5\">\n      <g>\n       <use style=\"stroke:#000000;stroke-width:0.8;\" x=\"578.605253\" xlink:href=\"#ma0b7be2d9c\" y=\"402.838125\"/>\n      </g>\n     </g>\n     <g id=\"text_5\">\n      <!-- 40 -->\n      <g transform=\"translate(572.242753 417.436562)scale(0.1 -0.1)\">\n       <defs>\n        <path d=\"M 2419 4116 \nL 825 1625 \nL 2419 1625 \nL 2419 4116 \nz\nM 2253 4666 \nL 3047 4666 \nL 3047 1625 \nL 3713 1625 \nL 3713 1100 \nL 3047 1100 \nL 3047 0 \nL 2419 0 \nL 2419 1100 \nL 313 1100 \nL 313 1709 \nL 2253 4666 \nz\n\" id=\"DejaVuSans-34\" transform=\"scale(0.015625)\"/>\n       </defs>\n       <use xlink:href=\"#DejaVuSans-34\"/>\n       <use x=\"63.623047\" xlink:href=\"#DejaVuSans-30\"/>\n      </g>\n     </g>\n    </g>\n    <g id=\"text_6\">\n     <!-- timeline -->\n     <g transform=\"translate(344.583594 431.114687)scale(0.1 -0.1)\">\n      <defs>\n       <path d=\"M 1172 4494 \nL 1172 3500 \nL 2356 3500 \nL 2356 3053 \nL 1172 3053 \nL 1172 1153 \nQ 1172 725 1289 603 \nQ 1406 481 1766 481 \nL 2356 481 \nL 2356 0 \nL 1766 0 \nQ 1100 0 847 248 \nQ 594 497 594 1153 \nL 594 3053 \nL 172 3053 \nL 172 3500 \nL 594 3500 \nL 594 4494 \nL 1172 4494 \nz\n\" id=\"DejaVuSans-74\" transform=\"scale(0.015625)\"/>\n       <path d=\"M 603 3500 \nL 1178 3500 \nL 1178 0 \nL 603 0 \nL 603 3500 \nz\nM 603 4863 \nL 1178 4863 \nL 1178 4134 \nL 603 4134 \nL 603 4863 \nz\n\" id=\"DejaVuSans-69\" transform=\"scale(0.015625)\"/>\n       <path d=\"M 3328 2828 \nQ 3544 3216 3844 3400 \nQ 4144 3584 4550 3584 \nQ 5097 3584 5394 3201 \nQ 5691 2819 5691 2113 \nL 5691 0 \nL 5113 0 \nL 5113 2094 \nQ 5113 2597 4934 2840 \nQ 4756 3084 4391 3084 \nQ 3944 3084 3684 2787 \nQ 3425 2491 3425 1978 \nL 3425 0 \nL 2847 0 \nL 2847 2094 \nQ 2847 2600 2669 2842 \nQ 2491 3084 2119 3084 \nQ 1678 3084 1418 2786 \nQ 1159 2488 1159 1978 \nL 1159 0 \nL 581 0 \nL 581 3500 \nL 1159 3500 \nL 1159 2956 \nQ 1356 3278 1631 3431 \nQ 1906 3584 2284 3584 \nQ 2666 3584 2933 3390 \nQ 3200 3197 3328 2828 \nz\n\" id=\"DejaVuSans-6d\" transform=\"scale(0.015625)\"/>\n       <path d=\"M 3597 1894 \nL 3597 1613 \nL 953 1613 \nQ 991 1019 1311 708 \nQ 1631 397 2203 397 \nQ 2534 397 2845 478 \nQ 3156 559 3463 722 \nL 3463 178 \nQ 3153 47 2828 -22 \nQ 2503 -91 2169 -91 \nQ 1331 -91 842 396 \nQ 353 884 353 1716 \nQ 353 2575 817 3079 \nQ 1281 3584 2069 3584 \nQ 2775 3584 3186 3129 \nQ 3597 2675 3597 1894 \nz\nM 3022 2063 \nQ 3016 2534 2758 2815 \nQ 2500 3097 2075 3097 \nQ 1594 3097 1305 2825 \nQ 1016 2553 972 2059 \nL 3022 2063 \nz\n\" id=\"DejaVuSans-65\" transform=\"scale(0.015625)\"/>\n       <path d=\"M 603 4863 \nL 1178 4863 \nL 1178 0 \nL 603 0 \nL 603 4863 \nz\n\" id=\"DejaVuSans-6c\" transform=\"scale(0.015625)\"/>\n       <path d=\"M 3513 2113 \nL 3513 0 \nL 2938 0 \nL 2938 2094 \nQ 2938 2591 2744 2837 \nQ 2550 3084 2163 3084 \nQ 1697 3084 1428 2787 \nQ 1159 2491 1159 1978 \nL 1159 0 \nL 581 0 \nL 581 3500 \nL 1159 3500 \nL 1159 2956 \nQ 1366 3272 1645 3428 \nQ 1925 3584 2291 3584 \nQ 2894 3584 3203 3211 \nQ 3513 2838 3513 2113 \nz\n\" id=\"DejaVuSans-6e\" transform=\"scale(0.015625)\"/>\n      </defs>\n      <use xlink:href=\"#DejaVuSans-74\"/>\n      <use x=\"39.208984\" xlink:href=\"#DejaVuSans-69\"/>\n      <use x=\"66.992188\" xlink:href=\"#DejaVuSans-6d\"/>\n      <use x=\"164.404297\" xlink:href=\"#DejaVuSans-65\"/>\n      <use x=\"225.927734\" xlink:href=\"#DejaVuSans-6c\"/>\n      <use x=\"253.710938\" xlink:href=\"#DejaVuSans-69\"/>\n      <use x=\"281.494141\" xlink:href=\"#DejaVuSans-6e\"/>\n      <use x=\"344.873047\" xlink:href=\"#DejaVuSans-65\"/>\n     </g>\n    </g>\n   </g>\n   <g id=\"matplotlib.axis_2\">\n    <g id=\"ytick_1\">\n     <g id=\"line2d_6\">\n      <defs>\n       <path d=\"M 0 0 \nL -3.5 0 \n\" id=\"mc611a170c8\" style=\"stroke:#000000;stroke-width:0.8;\"/>\n      </defs>\n      <g>\n       <use style=\"stroke:#000000;stroke-width:0.8;\" x=\"30.103125\" xlink:href=\"#mc611a170c8\" y=\"388.396809\"/>\n      </g>\n     </g>\n     <g id=\"text_7\">\n      <!-- 0.0 -->\n      <g transform=\"translate(7.2 392.196028)scale(0.1 -0.1)\">\n       <defs>\n        <path d=\"M 684 794 \nL 1344 794 \nL 1344 0 \nL 684 0 \nL 684 794 \nz\n\" id=\"DejaVuSans-2e\" transform=\"scale(0.015625)\"/>\n       </defs>\n       <use xlink:href=\"#DejaVuSans-30\"/>\n       <use x=\"63.623047\" xlink:href=\"#DejaVuSans-2e\"/>\n       <use x=\"95.410156\" xlink:href=\"#DejaVuSans-30\"/>\n      </g>\n     </g>\n    </g>\n    <g id=\"ytick_2\">\n     <g id=\"line2d_7\">\n      <g>\n       <use style=\"stroke:#000000;stroke-width:0.8;\" x=\"30.103125\" xlink:href=\"#mc611a170c8\" y=\"318.640345\"/>\n      </g>\n     </g>\n     <g id=\"text_8\">\n      <!-- 0.2 -->\n      <g transform=\"translate(7.2 322.439564)scale(0.1 -0.1)\">\n       <use xlink:href=\"#DejaVuSans-30\"/>\n       <use x=\"63.623047\" xlink:href=\"#DejaVuSans-2e\"/>\n       <use x=\"95.410156\" xlink:href=\"#DejaVuSans-32\"/>\n      </g>\n     </g>\n    </g>\n    <g id=\"ytick_3\">\n     <g id=\"line2d_8\">\n      <g>\n       <use style=\"stroke:#000000;stroke-width:0.8;\" x=\"30.103125\" xlink:href=\"#mc611a170c8\" y=\"248.883881\"/>\n      </g>\n     </g>\n     <g id=\"text_9\">\n      <!-- 0.4 -->\n      <g transform=\"translate(7.2 252.6831)scale(0.1 -0.1)\">\n       <use xlink:href=\"#DejaVuSans-30\"/>\n       <use x=\"63.623047\" xlink:href=\"#DejaVuSans-2e\"/>\n       <use x=\"95.410156\" xlink:href=\"#DejaVuSans-34\"/>\n      </g>\n     </g>\n    </g>\n    <g id=\"ytick_4\">\n     <g id=\"line2d_9\">\n      <g>\n       <use style=\"stroke:#000000;stroke-width:0.8;\" x=\"30.103125\" xlink:href=\"#mc611a170c8\" y=\"179.127417\"/>\n      </g>\n     </g>\n     <g id=\"text_10\">\n      <!-- 0.6 -->\n      <g transform=\"translate(7.2 182.926635)scale(0.1 -0.1)\">\n       <defs>\n        <path d=\"M 2113 2584 \nQ 1688 2584 1439 2293 \nQ 1191 2003 1191 1497 \nQ 1191 994 1439 701 \nQ 1688 409 2113 409 \nQ 2538 409 2786 701 \nQ 3034 994 3034 1497 \nQ 3034 2003 2786 2293 \nQ 2538 2584 2113 2584 \nz\nM 3366 4563 \nL 3366 3988 \nQ 3128 4100 2886 4159 \nQ 2644 4219 2406 4219 \nQ 1781 4219 1451 3797 \nQ 1122 3375 1075 2522 \nQ 1259 2794 1537 2939 \nQ 1816 3084 2150 3084 \nQ 2853 3084 3261 2657 \nQ 3669 2231 3669 1497 \nQ 3669 778 3244 343 \nQ 2819 -91 2113 -91 \nQ 1303 -91 875 529 \nQ 447 1150 447 2328 \nQ 447 3434 972 4092 \nQ 1497 4750 2381 4750 \nQ 2619 4750 2861 4703 \nQ 3103 4656 3366 4563 \nz\n\" id=\"DejaVuSans-36\" transform=\"scale(0.015625)\"/>\n       </defs>\n       <use xlink:href=\"#DejaVuSans-30\"/>\n       <use x=\"63.623047\" xlink:href=\"#DejaVuSans-2e\"/>\n       <use x=\"95.410156\" xlink:href=\"#DejaVuSans-36\"/>\n      </g>\n     </g>\n    </g>\n    <g id=\"ytick_5\">\n     <g id=\"line2d_10\">\n      <g>\n       <use style=\"stroke:#000000;stroke-width:0.8;\" x=\"30.103125\" xlink:href=\"#mc611a170c8\" y=\"109.370953\"/>\n      </g>\n     </g>\n     <g id=\"text_11\">\n      <!-- 0.8 -->\n      <g transform=\"translate(7.2 113.170171)scale(0.1 -0.1)\">\n       <defs>\n        <path d=\"M 2034 2216 \nQ 1584 2216 1326 1975 \nQ 1069 1734 1069 1313 \nQ 1069 891 1326 650 \nQ 1584 409 2034 409 \nQ 2484 409 2743 651 \nQ 3003 894 3003 1313 \nQ 3003 1734 2745 1975 \nQ 2488 2216 2034 2216 \nz\nM 1403 2484 \nQ 997 2584 770 2862 \nQ 544 3141 544 3541 \nQ 544 4100 942 4425 \nQ 1341 4750 2034 4750 \nQ 2731 4750 3128 4425 \nQ 3525 4100 3525 3541 \nQ 3525 3141 3298 2862 \nQ 3072 2584 2669 2484 \nQ 3125 2378 3379 2068 \nQ 3634 1759 3634 1313 \nQ 3634 634 3220 271 \nQ 2806 -91 2034 -91 \nQ 1263 -91 848 271 \nQ 434 634 434 1313 \nQ 434 1759 690 2068 \nQ 947 2378 1403 2484 \nz\nM 1172 3481 \nQ 1172 3119 1398 2916 \nQ 1625 2713 2034 2713 \nQ 2441 2713 2670 2916 \nQ 2900 3119 2900 3481 \nQ 2900 3844 2670 4047 \nQ 2441 4250 2034 4250 \nQ 1625 4250 1398 4047 \nQ 1172 3844 1172 3481 \nz\n\" id=\"DejaVuSans-38\" transform=\"scale(0.015625)\"/>\n       </defs>\n       <use xlink:href=\"#DejaVuSans-30\"/>\n       <use x=\"63.623047\" xlink:href=\"#DejaVuSans-2e\"/>\n       <use x=\"95.410156\" xlink:href=\"#DejaVuSans-38\"/>\n      </g>\n     </g>\n    </g>\n    <g id=\"ytick_6\">\n     <g id=\"line2d_11\">\n      <g>\n       <use style=\"stroke:#000000;stroke-width:0.8;\" x=\"30.103125\" xlink:href=\"#mc611a170c8\" y=\"39.614489\"/>\n      </g>\n     </g>\n     <g id=\"text_12\">\n      <!-- 1.0 -->\n      <g transform=\"translate(7.2 43.413707)scale(0.1 -0.1)\">\n       <use xlink:href=\"#DejaVuSans-31\"/>\n       <use x=\"63.623047\" xlink:href=\"#DejaVuSans-2e\"/>\n       <use x=\"95.410156\" xlink:href=\"#DejaVuSans-30\"/>\n      </g>\n     </g>\n    </g>\n   </g>\n   <g id=\"line2d_12\">\n    <path clip-path=\"url(#p20b640f25b)\" d=\"M 60.539489 39.988986 \nL 73.491133 39.988986 \nL 73.491133 41.11248 \nL 86.442777 41.11248 \nL 86.442777 51.223922 \nL 99.394421 51.223922 \nL 99.394421 74.833739 \nL 112.346065 74.833739 \nL 112.346065 90.272591 \nL 125.297709 90.272591 \nL 125.297709 99.095582 \nL 138.249353 99.095582 \nL 138.249353 104.516108 \nL 151.200997 104.516108 \nL 151.200997 135.180799 \nL 164.152641 135.180799 \nL 164.152641 143.698769 \nL 177.104286 143.698769 \nL 177.104286 153.455716 \nL 190.05593 153.455716 \nL 190.05593 174.36346 \nL 203.007574 174.36346 \nL 203.007574 188.766572 \nL 215.959218 188.766572 \nL 215.959218 190.043184 \nL 228.910862 190.043184 \nL 228.910862 194.511327 \nL 241.862506 194.511327 \nL 241.862506 198.181587 \nL 254.81415 198.181587 \nL 254.81415 208.894858 \nL 267.765794 208.894858 \nL 267.765794 213.05405 \nL 280.717438 213.05405 \nL 280.717438 215.507956 \nL 293.669082 215.507956 \nL 293.669082 217.961863 \nL 306.620727 217.961863 \nL 306.620727 219.300357 \nL 319.572371 219.300357 \nL 319.572371 222.42351 \nL 332.524015 222.42351 \nL 332.524015 225.769746 \nL 345.475659 225.769746 \nL 345.475659 231.792971 \nL 358.427303 231.792971 \nL 358.427303 240.493184 \nL 371.378947 240.493184 \nL 371.378947 242.157694 \nL 384.330591 242.157694 \nL 384.330591 246.200076 \nL 397.282235 246.200076 \nL 397.282235 248.577948 \nL 410.233879 248.577948 \nL 410.233879 258.144502 \nL 423.185523 258.144502 \nL 423.185523 261.844851 \nL 436.137168 261.844851 \nL 436.137168 264.098002 \nL 449.088812 264.098002 \nL 449.088812 265.600102 \nL 462.040456 265.600102 \nL 462.040456 265.975627 \nL 474.9921 265.975627 \nL 474.9921 268.604303 \nL 487.943744 268.604303 \nL 487.943744 272.735079 \nL 500.895388 272.735079 \nL 500.895388 274.612705 \nL 513.847032 274.612705 \nL 513.847032 283.249782 \nL 526.798676 283.249782 \nL 526.798676 284.932134 \nL 539.75032 284.932134 \nL 539.75032 287.455663 \nL 552.701964 287.455663 \nL 552.701964 288.717427 \nL 565.653609 288.717427 \nL 565.653609 303.254004 \nL 578.605253 303.254004 \nL 578.605253 305.382574 \nL 669.266761 305.382574 \nL 669.266761 305.382574 \n\" style=\"fill:none;stroke:#1f77b4;stroke-linecap:square;stroke-width:1.5;\"/>\n   </g>\n   <g id=\"line2d_13\">\n    <path clip-path=\"url(#p20b640f25b)\" d=\"M 60.539489 39.614489 \nL 73.491133 39.614489 \nL 73.491133 40.875148 \nL 86.442777 40.875148 \nL 86.442777 54.276914 \nL 99.394421 54.276914 \nL 99.394421 76.027101 \nL 112.346065 76.027101 \nL 112.346065 87.613514 \nL 125.297709 87.613514 \nL 125.297709 96.896949 \nL 138.249353 96.896949 \nL 138.249353 127.068113 \nL 151.200997 127.068113 \nL 151.200997 137.744063 \nL 164.152641 137.744063 \nL 164.152641 149.812529 \nL 177.104286 149.812529 \nL 177.104286 168.843571 \nL 190.05593 168.843571 \nL 190.05593 192.51633 \nL 203.007574 192.51633 \nL 203.007574 192.987197 \nL 215.959218 192.987197 \nL 215.959218 201.933661 \nL 228.910862 201.933661 \nL 228.910862 205.700593 \nL 241.862506 205.700593 \nL 241.862506 215.350041 \nL 254.81415 215.350041 \nL 254.81415 223.0696 \nL 267.765794 223.0696 \nL 267.765794 225.652837 \nL 280.717438 225.652837 \nL 280.717438 226.298647 \nL 293.669082 226.298647 \nL 293.669082 230.173503 \nL 306.620727 230.173503 \nL 306.620727 235.339978 \nL 319.572371 235.339978 \nL 319.572371 239.214835 \nL 332.524015 239.214835 \nL 332.524015 243.735501 \nL 345.475659 243.735501 \nL 345.475659 259.234927 \nL 358.427303 259.234927 \nL 358.427303 259.925632 \nL 371.378947 259.925632 \nL 371.378947 260.616337 \nL 384.330591 260.616337 \nL 384.330591 265.451274 \nL 397.282235 265.451274 \nL 397.282235 270.090728 \nL 410.233879 270.090728 \nL 410.233879 274.730182 \nL 436.137168 274.730182 \nL 436.137168 275.926673 \nL 449.088812 275.926673 \nL 449.088812 277.123164 \nL 462.040456 277.123164 \nL 462.040456 281.909127 \nL 474.9921 281.909127 \nL 474.9921 284.302109 \nL 500.895388 284.302109 \nL 500.895388 301.05298 \nL 539.75032 301.05298 \nL 539.75032 302.484846 \nL 552.701964 302.484846 \nL 552.701964 312.03062 \nL 565.653609 312.03062 \nL 565.653609 312.03062 \nL 656.315117 312.03062 \nL 656.315117 312.03062 \n\" style=\"fill:none;stroke:#ff7f0e;stroke-linecap:square;stroke-width:1.5;\"/>\n   </g>\n   <g id=\"line2d_14\">\n    <path clip-path=\"url(#p20b640f25b)\" d=\"M 60.539489 39.614489 \nL 73.491133 39.614489 \nL 73.491133 48.862505 \nL 86.442777 48.862505 \nL 86.442777 66.037392 \nL 99.394421 66.037392 \nL 99.394421 67.358537 \nL 112.346065 67.358537 \nL 112.346065 112.277472 \nL 125.297709 112.277472 \nL 125.297709 122.846633 \nL 138.249353 122.846633 \nL 138.249353 153.684718 \nL 151.200997 153.684718 \nL 151.200997 165.677307 \nL 164.152641 165.677307 \nL 164.152641 176.036353 \nL 177.104286 176.036353 \nL 177.104286 179.489369 \nL 190.05593 179.489369 \nL 190.05593 184.668892 \nL 203.007574 184.668892 \nL 203.007574 188.121908 \nL 215.959218 188.121908 \nL 215.959218 200.207462 \nL 228.910862 200.207462 \nL 228.910862 207.113493 \nL 241.862506 207.113493 \nL 241.862506 236.464125 \nL 254.81415 236.464125 \nL 254.81415 238.437277 \nL 267.765794 238.437277 \nL 267.765794 246.329884 \nL 280.717438 246.329884 \nL 280.717438 250.276187 \nL 293.669082 250.276187 \nL 293.669082 256.700402 \nL 306.620727 256.700402 \nL 306.620727 259.91251 \nL 332.524015 259.91251 \nL 332.524015 263.124617 \nL 345.475659 263.124617 \nL 345.475659 266.336725 \nL 371.378947 266.336725 \nL 371.378947 269.548832 \nL 397.282235 269.548832 \nL 397.282235 285.60937 \nL 410.233879 285.60937 \nL 410.233879 289.562733 \nL 423.185523 289.562733 \nL 423.185523 301.422822 \nL 436.137168 301.422822 \nL 436.137168 301.422822 \nL 552.701964 301.422822 \nL 552.701964 301.422822 \n\" style=\"fill:none;stroke:#2ca02c;stroke-linecap:square;stroke-width:1.5;\"/>\n   </g>\n   <g id=\"line2d_15\">\n    <path clip-path=\"url(#p20b640f25b)\" d=\"M 60.539489 39.614489 \nL 73.491133 39.614489 \nL 73.491133 68.82286 \nL 99.394421 68.82286 \nL 99.394421 106.621929 \nL 112.346065 106.621929 \nL 112.346065 122.085185 \nL 125.297709 122.085185 \nL 125.297709 136.536203 \nL 138.249353 136.536203 \nL 138.249353 153.051653 \nL 151.200997 153.051653 \nL 151.200997 157.180515 \nL 164.152641 157.180515 \nL 164.152641 159.244947 \nL 177.104286 159.244947 \nL 177.104286 163.373809 \nL 190.05593 163.373809 \nL 190.05593 171.631534 \nL 203.007574 171.631534 \nL 203.007574 181.95369 \nL 215.959218 181.95369 \nL 215.959218 186.082552 \nL 228.910862 186.082552 \nL 228.910862 221.177882 \nL 241.862506 221.177882 \nL 241.862506 223.321715 \nL 254.81415 223.321715 \nL 254.81415 227.609379 \nL 267.765794 227.609379 \nL 267.765794 231.897044 \nL 280.717438 231.897044 \nL 280.717438 250.527969 \nL 293.669082 250.527969 \nL 293.669082 254.254153 \nL 306.620727 254.254153 \nL 306.620727 257.980338 \nL 319.572371 257.980338 \nL 319.572371 261.706523 \nL 332.524015 261.706523 \nL 332.524015 265.432708 \nL 358.427303 265.432708 \nL 358.427303 269.158893 \nL 384.330591 269.158893 \nL 384.330591 272.885078 \nL 423.185523 272.885078 \nL 423.185523 272.885078 \nL 449.088812 272.885078 \nL 449.088812 272.885078 \nL 539.75032 272.885078 \nL 539.75032 272.885078 \n\" style=\"fill:none;stroke:#d62728;stroke-linecap:square;stroke-width:1.5;\"/>\n   </g>\n   <g id=\"line2d_16\">\n    <path clip-path=\"url(#p20b640f25b)\" d=\"M 60.539489 40.38956 \nL 73.491133 40.38956 \nL 73.491133 41.164632 \nL 86.442777 41.164632 \nL 86.442777 52.015638 \nL 99.394421 52.015638 \nL 99.394421 74.492721 \nL 112.346065 74.492721 \nL 112.346065 102.395306 \nL 125.297709 102.395306 \nL 125.297709 132.623107 \nL 138.249353 132.623107 \nL 138.249353 155.875262 \nL 151.200997 155.875262 \nL 151.200997 157.425406 \nL 164.152641 157.425406 \nL 164.152641 180.67756 \nL 177.104286 180.67756 \nL 177.104286 186.103063 \nL 190.05593 186.103063 \nL 190.05593 193.044515 \nL 203.007574 193.044515 \nL 203.007574 203.952511 \nL 215.959218 203.952511 \nL 215.959218 208.937492 \nL 228.910862 208.937492 \nL 228.910862 212.925477 \nL 254.81415 212.925477 \nL 254.81415 214.91947 \nL 267.765794 214.91947 \nL 267.765794 221.898443 \nL 280.717438 221.898443 \nL 280.717438 231.868405 \nL 293.669082 231.868405 \nL 293.669082 250.811333 \nL 319.572371 250.811333 \nL 319.572371 254.010995 \nL 332.524015 254.010995 \nL 332.524015 260.41032 \nL 345.475659 260.41032 \nL 345.475659 271.226079 \nL 358.427303 271.226079 \nL 358.427303 276.633959 \nL 371.378947 276.633959 \nL 371.378947 280.298315 \nL 384.330591 280.298315 \nL 384.330591 282.130493 \nL 397.282235 282.130493 \nL 397.282235 285.794848 \nL 410.233879 285.794848 \nL 410.233879 289.459204 \nL 423.185523 289.459204 \nL 423.185523 291.291382 \nL 436.137168 291.291382 \nL 436.137168 294.955738 \nL 449.088812 294.955738 \nL 449.088812 315.109694 \nL 474.9921 315.109694 \nL 474.9921 317.473795 \nL 487.943744 317.473795 \nL 487.943744 317.473795 \nL 513.847032 317.473795 \nL 513.847032 327.605654 \nL 604.508541 327.605654 \nL 604.508541 327.605654 \n\" style=\"fill:none;stroke:#9467bd;stroke-linecap:square;stroke-width:1.5;\"/>\n   </g>\n   <g id=\"line2d_17\">\n    <path clip-path=\"url(#p20b640f25b)\" d=\"M 60.539489 39.614489 \nL 73.491133 39.614489 \nL 73.491133 41.794378 \nL 86.442777 41.794378 \nL 86.442777 54.873715 \nL 99.394421 54.873715 \nL 99.394421 63.593273 \nL 112.346065 63.593273 \nL 112.346065 98.471505 \nL 125.297709 98.471505 \nL 125.297709 111.550842 \nL 138.249353 111.550842 \nL 138.249353 133.349737 \nL 151.200997 133.349737 \nL 151.200997 146.429074 \nL 164.152641 146.429074 \nL 164.152641 183.487196 \nL 177.104286 183.487196 \nL 177.104286 185.667085 \nL 190.05593 185.667085 \nL 190.05593 209.64587 \nL 203.007574 209.64587 \nL 203.007574 211.825759 \nL 215.959218 211.825759 \nL 215.959218 223.03662 \nL 228.910862 223.03662 \nL 228.910862 228.738695 \nL 241.862506 228.738695 \nL 241.862506 231.64157 \nL 267.765794 231.64157 \nL 267.765794 234.544445 \nL 280.717438 234.544445 \nL 280.717438 240.350194 \nL 306.620727 240.350194 \nL 306.620727 249.058819 \nL 319.572371 249.058819 \nL 319.572371 257.767443 \nL 358.427303 257.767443 \nL 358.427303 264.139607 \nL 371.378947 264.139607 \nL 371.378947 269.316991 \nL 410.233879 269.316991 \nL 410.233879 274.494374 \nL 423.185523 274.494374 \nL 423.185523 279.671757 \nL 474.9921 279.671757 \nL 474.9921 295.203908 \nL 500.895388 295.203908 \nL 500.895388 301.416768 \nL 513.847032 301.416768 \nL 513.847032 301.416768 \nL 526.798676 301.416768 \nL 526.798676 359.403462 \nL 630.411829 359.403462 \nL 630.411829 359.403462 \n\" style=\"fill:none;stroke:#8c564b;stroke-linecap:square;stroke-width:1.5;\"/>\n   </g>\n   <g id=\"line2d_18\">\n    <path clip-path=\"url(#p20b640f25b)\" d=\"M 60.539489 39.614489 \nL 73.491133 39.614489 \nL 73.491133 41.435806 \nL 86.442777 41.435806 \nL 86.442777 55.095688 \nL 99.394421 55.095688 \nL 99.394421 105.181922 \nL 112.346065 105.181922 \nL 112.346065 129.76971 \nL 125.297709 129.76971 \nL 125.297709 136.144321 \nL 138.249353 136.144321 \nL 138.249353 178.945285 \nL 151.200997 178.945285 \nL 151.200997 189.873191 \nL 164.152641 189.873191 \nL 164.152641 208.668326 \nL 177.104286 208.668326 \nL 177.104286 221.589982 \nL 190.05593 221.589982 \nL 190.05593 226.288766 \nL 203.007574 226.288766 \nL 203.007574 232.162245 \nL 215.959218 232.162245 \nL 215.959218 236.861029 \nL 228.910862 236.861029 \nL 228.910862 240.385117 \nL 241.862506 240.385117 \nL 241.862506 243.909205 \nL 254.81415 243.909205 \nL 254.81415 252.132077 \nL 267.765794 252.132077 \nL 267.765794 267.403124 \nL 280.717438 267.403124 \nL 280.717438 269.822998 \nL 293.669082 269.822998 \nL 293.669082 274.662745 \nL 306.620727 274.662745 \nL 306.620727 281.922366 \nL 319.572371 281.922366 \nL 319.572371 285.593899 \nL 332.524015 285.593899 \nL 332.524015 287.429665 \nL 345.475659 287.429665 \nL 345.475659 289.334706 \nL 371.378947 289.334706 \nL 371.378947 291.239746 \nL 384.330591 291.239746 \nL 384.330591 295.049827 \nL 397.282235 295.049827 \nL 397.282235 302.669989 \nL 423.185523 302.669989 \nL 423.185523 312.195191 \nL 462.040456 312.195191 \nL 462.040456 314.735245 \nL 474.9921 314.735245 \nL 474.9921 327.012172 \nL 578.605253 327.012172 \nL 578.605253 327.012172 \n\" style=\"fill:none;stroke:#e377c2;stroke-linecap:square;stroke-width:1.5;\"/>\n   </g>\n   <g id=\"line2d_19\">\n    <path clip-path=\"url(#p20b640f25b)\" d=\"M 60.539489 39.614489 \nL 73.491133 39.614489 \nL 73.491133 41.763045 \nL 86.442777 41.763045 \nL 86.442777 56.086754 \nL 99.394421 56.086754 \nL 99.394421 94.760769 \nL 112.346065 94.760769 \nL 112.346065 131.286228 \nL 125.297709 131.286228 \nL 125.297709 149.90705 \nL 138.249353 149.90705 \nL 138.249353 151.339421 \nL 151.200997 151.339421 \nL 151.200997 175.689727 \nL 164.152641 175.689727 \nL 164.152641 184.283952 \nL 177.104286 184.283952 \nL 177.104286 192.828211 \nL 190.05593 192.828211 \nL 190.05593 198.524384 \nL 203.007574 198.524384 \nL 203.007574 204.278094 \nL 215.959218 204.278094 \nL 215.959218 206.195997 \nL 228.910862 206.195997 \nL 228.910862 210.990755 \nL 241.862506 210.990755 \nL 241.862506 213.86761 \nL 254.81415 213.86761 \nL 254.81415 223.457127 \nL 267.765794 223.457127 \nL 267.765794 233.046643 \nL 280.717438 233.046643 \nL 280.717438 245.513014 \nL 306.620727 245.513014 \nL 306.620727 250.544134 \nL 319.572371 250.544134 \nL 319.572371 255.575253 \nL 332.524015 255.575253 \nL 332.524015 261.288008 \nL 345.475659 261.288008 \nL 345.475659 268.428952 \nL 371.378947 268.428952 \nL 371.378947 277.207088 \nL 397.282235 277.207088 \nL 397.282235 280.133133 \nL 410.233879 280.133133 \nL 410.233879 281.596156 \nL 423.185523 281.596156 \nL 423.185523 285.985224 \nL 436.137168 285.985224 \nL 436.137168 296.226383 \nL 449.088812 296.226383 \nL 449.088812 297.843408 \nL 462.040456 297.843408 \nL 462.040456 302.694483 \nL 474.9921 302.694483 \nL 474.9921 307.545558 \nL 487.943744 307.545558 \nL 487.943744 315.630683 \nL 591.556897 315.630683 \nL 591.556897 315.630683 \n\" style=\"fill:none;stroke:#7f7f7f;stroke-linecap:square;stroke-width:1.5;\"/>\n   </g>\n   <g id=\"line2d_20\">\n    <path clip-path=\"url(#p20b640f25b)\" d=\"M 60.539489 40.444923 \nL 73.491133 40.444923 \nL 73.491133 42.105791 \nL 86.442777 42.105791 \nL 86.442777 49.579698 \nL 99.394421 49.579698 \nL 99.394421 72.001418 \nL 112.346065 72.001418 \nL 112.346065 90.270968 \nL 125.297709 90.270968 \nL 125.297709 103.557914 \nL 138.249353 103.557914 \nL 138.249353 130.962239 \nL 151.200997 130.962239 \nL 151.200997 161.688301 \nL 164.152641 161.688301 \nL 164.152641 162.518735 \nL 177.104286 162.518735 \nL 177.104286 180.788285 \nL 190.05593 180.788285 \nL 190.05593 187.431758 \nL 203.007574 187.431758 \nL 203.007574 197.155873 \nL 215.959218 197.155873 \nL 215.959218 205.799531 \nL 228.910862 205.799531 \nL 228.910862 212.320863 \nL 254.81415 212.320863 \nL 254.81415 216.668417 \nL 267.765794 216.668417 \nL 267.765794 219.929082 \nL 280.717438 219.929082 \nL 280.717438 227.537302 \nL 293.669082 227.537302 \nL 293.669082 247.101296 \nL 306.620727 247.101296 \nL 306.620727 264.491513 \nL 319.572371 264.491513 \nL 319.572371 265.68291 \nL 332.524015 265.68291 \nL 332.524015 271.639896 \nL 345.475659 271.639896 \nL 345.475659 271.639896 \nL 358.427303 271.639896 \nL 358.427303 276.947028 \nL 371.378947 276.947028 \nL 371.378947 280.485116 \nL 423.185523 280.485116 \nL 423.185523 284.082173 \nL 449.088812 284.082173 \nL 449.088812 285.880701 \nL 462.040456 285.880701 \nL 462.040456 298.470399 \nL 487.943744 298.470399 \nL 487.943744 302.557963 \nL 500.895388 302.557963 \nL 500.895388 302.557963 \nL 513.847032 302.557963 \nL 513.847032 309.7112 \nL 526.798676 309.7112 \nL 526.798676 309.7112 \nL 617.460185 309.7112 \nL 617.460185 309.7112 \n\" style=\"fill:none;stroke:#bcbd22;stroke-linecap:square;stroke-width:1.5;\"/>\n   </g>\n   <g id=\"line2d_21\">\n    <path clip-path=\"url(#p20b640f25b)\" d=\"M 60.539489 39.614489 \nL 73.491133 39.614489 \nL 73.491133 41.672201 \nL 86.442777 41.672201 \nL 86.442777 76.653319 \nL 99.394421 76.653319 \nL 99.394421 101.345873 \nL 112.346065 101.345873 \nL 112.346065 102.374729 \nL 125.297709 102.374729 \nL 125.297709 166.163826 \nL 138.249353 166.163826 \nL 138.249353 185.712098 \nL 151.200997 185.712098 \nL 151.200997 199.046618 \nL 164.152641 199.046618 \nL 164.152641 208.380783 \nL 177.104286 208.380783 \nL 177.104286 213.714591 \nL 190.05593 213.714591 \nL 190.05593 215.048043 \nL 203.007574 215.048043 \nL 203.007574 219.048399 \nL 215.959218 219.048399 \nL 215.959218 228.382563 \nL 228.910862 228.382563 \nL 228.910862 229.716015 \nL 241.862506 229.716015 \nL 241.862506 241.717084 \nL 254.81415 241.717084 \nL 254.81415 255.051604 \nL 280.717438 255.051604 \nL 280.717438 259.262505 \nL 293.669082 259.262505 \nL 293.669082 266.280674 \nL 306.620727 266.280674 \nL 306.620727 269.981163 \nL 319.572371 269.981163 \nL 319.572371 275.620003 \nL 345.475659 275.620003 \nL 345.475659 277.531475 \nL 358.427303 277.531475 \nL 358.427303 279.442946 \nL 371.378947 279.442946 \nL 371.378947 281.354417 \nL 384.330591 281.354417 \nL 384.330591 289.000302 \nL 397.282235 289.000302 \nL 397.282235 296.646187 \nL 410.233879 296.646187 \nL 410.233879 302.380601 \nL 423.185523 302.380601 \nL 423.185523 304.586145 \nL 449.088812 304.586145 \nL 449.088812 311.202776 \nL 462.040456 311.202776 \nL 462.040456 333.258214 \nL 565.653609 333.258214 \nL 565.653609 333.258214 \n\" style=\"fill:none;stroke:#17becf;stroke-linecap:square;stroke-width:1.5;\"/>\n   </g>\n   <g id=\"line2d_22\">\n    <path clip-path=\"url(#p20b640f25b)\" d=\"M 60.539489 39.614489 \nL 73.491133 39.614489 \nL 73.491133 43.941813 \nL 86.442777 43.941813 \nL 86.442777 60.385644 \nL 99.394421 60.385644 \nL 99.394421 75.098546 \nL 112.346065 75.098546 \nL 112.346065 91.542378 \nL 125.297709 91.542378 \nL 125.297709 135.681083 \nL 138.249353 135.681083 \nL 138.249353 141.739337 \nL 151.200997 141.739337 \nL 151.200997 163.375957 \nL 164.152641 163.375957 \nL 164.152641 186.743507 \nL 177.104286 186.743507 \nL 177.104286 204.918268 \nL 203.007574 204.918268 \nL 203.007574 216.169311 \nL 215.959218 216.169311 \nL 215.959218 218.765705 \nL 228.910862 218.765705 \nL 228.910862 230.739666 \nL 241.862506 230.739666 \nL 241.862506 233.733156 \nL 254.81415 233.733156 \nL 254.81415 238.820776 \nL 267.765794 238.820776 \nL 267.765794 239.8383 \nL 280.717438 239.8383 \nL 280.717438 240.855824 \nL 293.669082 240.855824 \nL 293.669082 245.943444 \nL 306.620727 245.943444 \nL 306.620727 250.01354 \nL 319.572371 250.01354 \nL 319.572371 255.10116 \nL 332.524015 255.10116 \nL 332.524015 275.451641 \nL 358.427303 275.451641 \nL 358.427303 277.602978 \nL 371.378947 277.602978 \nL 371.378947 279.754314 \nL 384.330591 279.754314 \nL 384.330591 281.28449 \nL 397.282235 281.28449 \nL 397.282235 285.875018 \nL 410.233879 285.875018 \nL 410.233879 289.078824 \nL 423.185523 289.078824 \nL 423.185523 290.680727 \nL 436.137168 290.680727 \nL 436.137168 292.28263 \nL 462.040456 292.28263 \nL 462.040456 297.088339 \nL 474.9921 297.088339 \nL 474.9921 300.292145 \nL 487.943744 300.292145 \nL 487.943744 314.709272 \nL 500.895388 314.709272 \nL 500.895388 316.648417 \nL 513.847032 316.648417 \nL 513.847032 320.526709 \nL 526.798676 320.526709 \nL 526.798676 320.526709 \nL 539.75032 320.526709 \nL 539.75032 330.222437 \nL 552.701964 330.222437 \nL 552.701964 330.222437 \nL 643.363473 330.222437 \nL 643.363473 330.222437 \n\" style=\"fill:none;stroke:#1f77b4;stroke-linecap:square;stroke-width:1.5;\"/>\n   </g>\n   <g id=\"line2d_23\">\n    <path clip-path=\"url(#p20b640f25b)\" d=\"M 60.539489 39.614489 \nL 99.394421 39.614489 \nL 99.394421 39.614489 \nL 215.959218 39.614489 \nL 215.959218 83.212279 \nL 254.81415 83.212279 \nL 254.81415 83.212279 \nL 371.378947 83.212279 \nL 371.378947 83.212279 \nL 526.798676 83.212279 \nL 526.798676 83.212279 \n\" style=\"fill:none;stroke:#ff7f0e;stroke-linecap:square;stroke-width:1.5;\"/>\n   </g>\n   <g id=\"patch_3\">\n    <path d=\"M 30.103125 402.838125 \nL 30.103125 22.318125 \n\" style=\"fill:none;stroke:#000000;stroke-linecap:square;stroke-linejoin:miter;stroke-width:0.8;\"/>\n   </g>\n   <g id=\"patch_4\">\n    <path d=\"M 699.703125 402.838125 \nL 699.703125 22.318125 \n\" style=\"fill:none;stroke:#000000;stroke-linecap:square;stroke-linejoin:miter;stroke-width:0.8;\"/>\n   </g>\n   <g id=\"patch_5\">\n    <path d=\"M 30.103125 402.838125 \nL 699.703125 402.838125 \n\" style=\"fill:none;stroke:#000000;stroke-linecap:square;stroke-linejoin:miter;stroke-width:0.8;\"/>\n   </g>\n   <g id=\"patch_6\">\n    <path d=\"M 30.103125 22.318125 \nL 699.703125 22.318125 \n\" style=\"fill:none;stroke:#000000;stroke-linecap:square;stroke-linejoin:miter;stroke-width:0.8;\"/>\n   </g>\n   <g id=\"text_13\">\n    <!-- inscription month -->\n    <g transform=\"translate(312.194063 16.318125)scale(0.12 -0.12)\">\n     <defs>\n      <path d=\"M 2834 3397 \nL 2834 2853 \nQ 2591 2978 2328 3040 \nQ 2066 3103 1784 3103 \nQ 1356 3103 1142 2972 \nQ 928 2841 928 2578 \nQ 928 2378 1081 2264 \nQ 1234 2150 1697 2047 \nL 1894 2003 \nQ 2506 1872 2764 1633 \nQ 3022 1394 3022 966 \nQ 3022 478 2636 193 \nQ 2250 -91 1575 -91 \nQ 1294 -91 989 -36 \nQ 684 19 347 128 \nL 347 722 \nQ 666 556 975 473 \nQ 1284 391 1588 391 \nQ 1994 391 2212 530 \nQ 2431 669 2431 922 \nQ 2431 1156 2273 1281 \nQ 2116 1406 1581 1522 \nL 1381 1569 \nQ 847 1681 609 1914 \nQ 372 2147 372 2553 \nQ 372 3047 722 3315 \nQ 1072 3584 1716 3584 \nQ 2034 3584 2315 3537 \nQ 2597 3491 2834 3397 \nz\n\" id=\"DejaVuSans-73\" transform=\"scale(0.015625)\"/>\n      <path d=\"M 3122 3366 \nL 3122 2828 \nQ 2878 2963 2633 3030 \nQ 2388 3097 2138 3097 \nQ 1578 3097 1268 2742 \nQ 959 2388 959 1747 \nQ 959 1106 1268 751 \nQ 1578 397 2138 397 \nQ 2388 397 2633 464 \nQ 2878 531 3122 666 \nL 3122 134 \nQ 2881 22 2623 -34 \nQ 2366 -91 2075 -91 \nQ 1284 -91 818 406 \nQ 353 903 353 1747 \nQ 353 2603 823 3093 \nQ 1294 3584 2113 3584 \nQ 2378 3584 2631 3529 \nQ 2884 3475 3122 3366 \nz\n\" id=\"DejaVuSans-63\" transform=\"scale(0.015625)\"/>\n      <path d=\"M 2631 2963 \nQ 2534 3019 2420 3045 \nQ 2306 3072 2169 3072 \nQ 1681 3072 1420 2755 \nQ 1159 2438 1159 1844 \nL 1159 0 \nL 581 0 \nL 581 3500 \nL 1159 3500 \nL 1159 2956 \nQ 1341 3275 1631 3429 \nQ 1922 3584 2338 3584 \nQ 2397 3584 2469 3576 \nQ 2541 3569 2628 3553 \nL 2631 2963 \nz\n\" id=\"DejaVuSans-72\" transform=\"scale(0.015625)\"/>\n      <path d=\"M 1159 525 \nL 1159 -1331 \nL 581 -1331 \nL 581 3500 \nL 1159 3500 \nL 1159 2969 \nQ 1341 3281 1617 3432 \nQ 1894 3584 2278 3584 \nQ 2916 3584 3314 3078 \nQ 3713 2572 3713 1747 \nQ 3713 922 3314 415 \nQ 2916 -91 2278 -91 \nQ 1894 -91 1617 61 \nQ 1341 213 1159 525 \nz\nM 3116 1747 \nQ 3116 2381 2855 2742 \nQ 2594 3103 2138 3103 \nQ 1681 3103 1420 2742 \nQ 1159 2381 1159 1747 \nQ 1159 1113 1420 752 \nQ 1681 391 2138 391 \nQ 2594 391 2855 752 \nQ 3116 1113 3116 1747 \nz\n\" id=\"DejaVuSans-70\" transform=\"scale(0.015625)\"/>\n      <path d=\"M 1959 3097 \nQ 1497 3097 1228 2736 \nQ 959 2375 959 1747 \nQ 959 1119 1226 758 \nQ 1494 397 1959 397 \nQ 2419 397 2687 759 \nQ 2956 1122 2956 1747 \nQ 2956 2369 2687 2733 \nQ 2419 3097 1959 3097 \nz\nM 1959 3584 \nQ 2709 3584 3137 3096 \nQ 3566 2609 3566 1747 \nQ 3566 888 3137 398 \nQ 2709 -91 1959 -91 \nQ 1206 -91 779 398 \nQ 353 888 353 1747 \nQ 353 2609 779 3096 \nQ 1206 3584 1959 3584 \nz\n\" id=\"DejaVuSans-6f\" transform=\"scale(0.015625)\"/>\n      <path id=\"DejaVuSans-20\" transform=\"scale(0.015625)\"/>\n      <path d=\"M 3513 2113 \nL 3513 0 \nL 2938 0 \nL 2938 2094 \nQ 2938 2591 2744 2837 \nQ 2550 3084 2163 3084 \nQ 1697 3084 1428 2787 \nQ 1159 2491 1159 1978 \nL 1159 0 \nL 581 0 \nL 581 4863 \nL 1159 4863 \nL 1159 2956 \nQ 1366 3272 1645 3428 \nQ 1925 3584 2291 3584 \nQ 2894 3584 3203 3211 \nQ 3513 2838 3513 2113 \nz\n\" id=\"DejaVuSans-68\" transform=\"scale(0.015625)\"/>\n     </defs>\n     <use xlink:href=\"#DejaVuSans-69\"/>\n     <use x=\"27.783203\" xlink:href=\"#DejaVuSans-6e\"/>\n     <use x=\"91.162109\" xlink:href=\"#DejaVuSans-73\"/>\n     <use x=\"143.261719\" xlink:href=\"#DejaVuSans-63\"/>\n     <use x=\"198.242188\" xlink:href=\"#DejaVuSans-72\"/>\n     <use x=\"239.355469\" xlink:href=\"#DejaVuSans-69\"/>\n     <use x=\"267.138672\" xlink:href=\"#DejaVuSans-70\"/>\n     <use x=\"330.615234\" xlink:href=\"#DejaVuSans-74\"/>\n     <use x=\"369.824219\" xlink:href=\"#DejaVuSans-69\"/>\n     <use x=\"397.607422\" xlink:href=\"#DejaVuSans-6f\"/>\n     <use x=\"458.789062\" xlink:href=\"#DejaVuSans-6e\"/>\n     <use x=\"522.167969\" xlink:href=\"#DejaVuSans-20\"/>\n     <use x=\"553.955078\" xlink:href=\"#DejaVuSans-6d\"/>\n     <use x=\"651.367188\" xlink:href=\"#DejaVuSans-6f\"/>\n     <use x=\"712.548828\" xlink:href=\"#DejaVuSans-6e\"/>\n     <use x=\"775.927734\" xlink:href=\"#DejaVuSans-74\"/>\n     <use x=\"815.136719\" xlink:href=\"#DejaVuSans-68\"/>\n    </g>\n   </g>\n   <g id=\"legend_1\">\n    <g id=\"patch_7\">\n     <path d=\"M 647.978125 206.455625 \nL 692.703125 206.455625 \nQ 694.703125 206.455625 694.703125 204.455625 \nL 694.703125 29.318125 \nQ 694.703125 27.318125 692.703125 27.318125 \nL 647.978125 27.318125 \nQ 645.978125 27.318125 645.978125 29.318125 \nL 645.978125 204.455625 \nQ 645.978125 206.455625 647.978125 206.455625 \nz\n\" style=\"fill:#ffffff;opacity:0.8;stroke:#cccccc;stroke-linejoin:miter;\"/>\n    </g>\n    <g id=\"line2d_24\">\n     <path d=\"M 649.978125 35.416562 \nL 669.978125 35.416562 \n\" style=\"fill:none;stroke:#1f77b4;stroke-linecap:square;stroke-width:1.5;\"/>\n    </g>\n    <g id=\"line2d_25\"/>\n    <g id=\"text_14\">\n     <!-- 9 -->\n     <g transform=\"translate(677.978125 38.916562)scale(0.1 -0.1)\">\n      <defs>\n       <path d=\"M 703 97 \nL 703 672 \nQ 941 559 1184 500 \nQ 1428 441 1663 441 \nQ 2288 441 2617 861 \nQ 2947 1281 2994 2138 \nQ 2813 1869 2534 1725 \nQ 2256 1581 1919 1581 \nQ 1219 1581 811 2004 \nQ 403 2428 403 3163 \nQ 403 3881 828 4315 \nQ 1253 4750 1959 4750 \nQ 2769 4750 3195 4129 \nQ 3622 3509 3622 2328 \nQ 3622 1225 3098 567 \nQ 2575 -91 1691 -91 \nQ 1453 -91 1209 -44 \nQ 966 3 703 97 \nz\nM 1959 2075 \nQ 2384 2075 2632 2365 \nQ 2881 2656 2881 3163 \nQ 2881 3666 2632 3958 \nQ 2384 4250 1959 4250 \nQ 1534 4250 1286 3958 \nQ 1038 3666 1038 3163 \nQ 1038 2656 1286 2365 \nQ 1534 2075 1959 2075 \nz\n\" id=\"DejaVuSans-39\" transform=\"scale(0.015625)\"/>\n      </defs>\n      <use xlink:href=\"#DejaVuSans-39\"/>\n     </g>\n    </g>\n    <g id=\"line2d_26\">\n     <path d=\"M 649.978125 50.094687 \nL 669.978125 50.094687 \n\" style=\"fill:none;stroke:#ff7f0e;stroke-linecap:square;stroke-width:1.5;\"/>\n    </g>\n    <g id=\"line2d_27\"/>\n    <g id=\"text_15\">\n     <!-- 10 -->\n     <g transform=\"translate(677.978125 53.594687)scale(0.1 -0.1)\">\n      <use xlink:href=\"#DejaVuSans-31\"/>\n      <use x=\"63.623047\" xlink:href=\"#DejaVuSans-30\"/>\n     </g>\n    </g>\n    <g id=\"line2d_28\">\n     <path d=\"M 649.978125 64.772812 \nL 669.978125 64.772812 \n\" style=\"fill:none;stroke:#2ca02c;stroke-linecap:square;stroke-width:1.5;\"/>\n    </g>\n    <g id=\"line2d_29\"/>\n    <g id=\"text_16\">\n     <!-- 6 -->\n     <g transform=\"translate(677.978125 68.272812)scale(0.1 -0.1)\">\n      <use xlink:href=\"#DejaVuSans-36\"/>\n     </g>\n    </g>\n    <g id=\"line2d_30\">\n     <path d=\"M 649.978125 79.450937 \nL 669.978125 79.450937 \n\" style=\"fill:none;stroke:#d62728;stroke-linecap:square;stroke-width:1.5;\"/>\n    </g>\n    <g id=\"line2d_31\"/>\n    <g id=\"text_17\">\n     <!-- 7 -->\n     <g transform=\"translate(677.978125 82.950937)scale(0.1 -0.1)\">\n      <defs>\n       <path d=\"M 525 4666 \nL 3525 4666 \nL 3525 4397 \nL 1831 0 \nL 1172 0 \nL 2766 4134 \nL 525 4134 \nL 525 4666 \nz\n\" id=\"DejaVuSans-37\" transform=\"scale(0.015625)\"/>\n      </defs>\n      <use xlink:href=\"#DejaVuSans-37\"/>\n     </g>\n    </g>\n    <g id=\"line2d_32\">\n     <path d=\"M 649.978125 94.129062 \nL 669.978125 94.129062 \n\" style=\"fill:none;stroke:#9467bd;stroke-linecap:square;stroke-width:1.5;\"/>\n    </g>\n    <g id=\"line2d_33\"/>\n    <g id=\"text_18\">\n     <!-- 2 -->\n     <g transform=\"translate(677.978125 97.629062)scale(0.1 -0.1)\">\n      <use xlink:href=\"#DejaVuSans-32\"/>\n     </g>\n    </g>\n    <g id=\"line2d_34\">\n     <path d=\"M 649.978125 108.807187 \nL 669.978125 108.807187 \n\" style=\"fill:none;stroke:#8c564b;stroke-linecap:square;stroke-width:1.5;\"/>\n    </g>\n    <g id=\"line2d_35\"/>\n    <g id=\"text_19\">\n     <!-- 12 -->\n     <g transform=\"translate(677.978125 112.307187)scale(0.1 -0.1)\">\n      <use xlink:href=\"#DejaVuSans-31\"/>\n      <use x=\"63.623047\" xlink:href=\"#DejaVuSans-32\"/>\n     </g>\n    </g>\n    <g id=\"line2d_36\">\n     <path d=\"M 649.978125 123.485312 \nL 669.978125 123.485312 \n\" style=\"fill:none;stroke:#e377c2;stroke-linecap:square;stroke-width:1.5;\"/>\n    </g>\n    <g id=\"line2d_37\"/>\n    <g id=\"text_20\">\n     <!-- 4 -->\n     <g transform=\"translate(677.978125 126.985312)scale(0.1 -0.1)\">\n      <use xlink:href=\"#DejaVuSans-34\"/>\n     </g>\n    </g>\n    <g id=\"line2d_38\">\n     <path d=\"M 649.978125 138.163437 \nL 669.978125 138.163437 \n\" style=\"fill:none;stroke:#7f7f7f;stroke-linecap:square;stroke-width:1.5;\"/>\n    </g>\n    <g id=\"line2d_39\"/>\n    <g id=\"text_21\">\n     <!-- 3 -->\n     <g transform=\"translate(677.978125 141.663437)scale(0.1 -0.1)\">\n      <use xlink:href=\"#DejaVuSans-33\"/>\n     </g>\n    </g>\n    <g id=\"line2d_40\">\n     <path d=\"M 649.978125 152.841562 \nL 669.978125 152.841562 \n\" style=\"fill:none;stroke:#bcbd22;stroke-linecap:square;stroke-width:1.5;\"/>\n    </g>\n    <g id=\"line2d_41\"/>\n    <g id=\"text_22\">\n     <!-- 1 -->\n     <g transform=\"translate(677.978125 156.341562)scale(0.1 -0.1)\">\n      <use xlink:href=\"#DejaVuSans-31\"/>\n     </g>\n    </g>\n    <g id=\"line2d_42\">\n     <path d=\"M 649.978125 167.519687 \nL 669.978125 167.519687 \n\" style=\"fill:none;stroke:#17becf;stroke-linecap:square;stroke-width:1.5;\"/>\n    </g>\n    <g id=\"line2d_43\"/>\n    <g id=\"text_23\">\n     <!-- 5 -->\n     <g transform=\"translate(677.978125 171.019687)scale(0.1 -0.1)\">\n      <defs>\n       <path d=\"M 691 4666 \nL 3169 4666 \nL 3169 4134 \nL 1269 4134 \nL 1269 2991 \nQ 1406 3038 1543 3061 \nQ 1681 3084 1819 3084 \nQ 2600 3084 3056 2656 \nQ 3513 2228 3513 1497 \nQ 3513 744 3044 326 \nQ 2575 -91 1722 -91 \nQ 1428 -91 1123 -41 \nQ 819 9 494 109 \nL 494 744 \nQ 775 591 1075 516 \nQ 1375 441 1709 441 \nQ 2250 441 2565 725 \nQ 2881 1009 2881 1497 \nQ 2881 1984 2565 2268 \nQ 2250 2553 1709 2553 \nQ 1456 2553 1204 2497 \nQ 953 2441 691 2322 \nL 691 4666 \nz\n\" id=\"DejaVuSans-35\" transform=\"scale(0.015625)\"/>\n      </defs>\n      <use xlink:href=\"#DejaVuSans-35\"/>\n     </g>\n    </g>\n    <g id=\"line2d_44\">\n     <path d=\"M 649.978125 182.197812 \nL 669.978125 182.197812 \n\" style=\"fill:none;stroke:#1f77b4;stroke-linecap:square;stroke-width:1.5;\"/>\n    </g>\n    <g id=\"line2d_45\"/>\n    <g id=\"text_24\">\n     <!-- 11 -->\n     <g transform=\"translate(677.978125 185.697812)scale(0.1 -0.1)\">\n      <use xlink:href=\"#DejaVuSans-31\"/>\n      <use x=\"63.623047\" xlink:href=\"#DejaVuSans-31\"/>\n     </g>\n    </g>\n    <g id=\"line2d_46\">\n     <path d=\"M 649.978125 196.875937 \nL 669.978125 196.875937 \n\" style=\"fill:none;stroke:#ff7f0e;stroke-linecap:square;stroke-width:1.5;\"/>\n    </g>\n    <g id=\"line2d_47\"/>\n    <g id=\"text_25\">\n     <!-- 8 -->\n     <g transform=\"translate(677.978125 200.375937)scale(0.1 -0.1)\">\n      <use xlink:href=\"#DejaVuSans-38\"/>\n     </g>\n    </g>\n   </g>\n  </g>\n </g>\n <defs>\n  <clipPath id=\"p20b640f25b\">\n   <rect height=\"380.52\" width=\"669.6\" x=\"30.103125\" y=\"22.318125\"/>\n  </clipPath>\n </defs>\n</svg>\n"
     },
     "metadata": {
      "needs_background": "light"
     }
    }
   ],
   "metadata": {}
  },
  {
   "cell_type": "markdown",
   "source": [
    "O gráfico fica muito confuso vamos agrupar por trimestre"
   ],
   "metadata": {}
  },
  {
   "cell_type": "code",
   "execution_count": 105,
   "source": [
    "results=multivariate_logrank_test(event_durations=T,groups=dt.mes,event_observed=C)\n",
    "results.print_summary()"
   ],
   "outputs": [
    {
     "output_type": "display_data",
     "data": {
      "text/plain": [
       "<lifelines.StatisticalResult: multivariate_logrank_test>\n",
       "               t_0 = -1\n",
       " null_distribution = chi squared\n",
       "degrees_of_freedom = 11\n",
       "         test_name = multivariate_logrank_test\n",
       "\n",
       "---\n",
       " test_statistic      p  -log2(p)\n",
       "         106.29 <0.005     56.47"
      ],
      "text/latex": [
       "\\begin{tabular}{lrrr}\n",
       "\\toprule\n",
       "{} &  test\\_statistic &             p &   -log2(p) \\\\\n",
       "\\midrule\n",
       "0 &      106.293311 &  1.004889e-17 &  56.465741 \\\\\n",
       "\\bottomrule\n",
       "\\end{tabular}\n"
      ],
      "text/html": [
       "<div>\n",
       "<style scoped>\n",
       "    .dataframe tbody tr th:only-of-type {\n",
       "        vertical-align: middle;\n",
       "    }\n",
       "\n",
       "    .dataframe tbody tr th {\n",
       "        vertical-align: top;\n",
       "    }\n",
       "\n",
       "    .dataframe thead th {\n",
       "        text-align: right;\n",
       "    }\n",
       "</style>\n",
       "<table border=\"1\" class=\"dataframe\">\n",
       "  <tbody>\n",
       "    <tr>\n",
       "      <th>t_0</th>\n",
       "      <td>-1</td>\n",
       "    </tr>\n",
       "    <tr>\n",
       "      <th>null_distribution</th>\n",
       "      <td>chi squared</td>\n",
       "    </tr>\n",
       "    <tr>\n",
       "      <th>degrees_of_freedom</th>\n",
       "      <td>11</td>\n",
       "    </tr>\n",
       "    <tr>\n",
       "      <th>test_name</th>\n",
       "      <td>multivariate_logrank_test</td>\n",
       "    </tr>\n",
       "  </tbody>\n",
       "</table>\n",
       "</div><table border=\"1\" class=\"dataframe\">\n",
       "  <thead>\n",
       "    <tr style=\"text-align: right;\">\n",
       "      <th></th>\n",
       "      <th>test_statistic</th>\n",
       "      <th>p</th>\n",
       "      <th>-log2(p)</th>\n",
       "    </tr>\n",
       "  </thead>\n",
       "  <tbody>\n",
       "    <tr>\n",
       "      <th>0</th>\n",
       "      <td>106.29</td>\n",
       "      <td>&lt;0.005</td>\n",
       "      <td>56.47</td>\n",
       "    </tr>\n",
       "  </tbody>\n",
       "</table>"
      ]
     },
     "metadata": {}
    }
   ],
   "metadata": {}
  },
  {
   "cell_type": "code",
   "execution_count": 106,
   "source": [
    "results=pairwise_logrank_test(event_durations=T,groups=dt.mes,event_observed=C)\n",
    "results.print_summary()"
   ],
   "outputs": [
    {
     "output_type": "display_data",
     "data": {
      "text/plain": [
       "<lifelines.StatisticalResult: logrank_test>\n",
       "               t_0 = -1\n",
       " null_distribution = chi squared\n",
       "degrees_of_freedom = 1\n",
       "         test_name = logrank_test\n",
       "\n",
       "---\n",
       "       test_statistic      p  -log2(p)\n",
       "1  2             0.69   0.40      1.30\n",
       "   3             1.23   0.27      1.91\n",
       "   4             8.44 <0.005      8.09\n",
       "   5             8.39 <0.005      8.05\n",
       "   6             1.26   0.26      1.93\n",
       "   7             0.10   0.76      0.40\n",
       "   8             5.23   0.02      5.49\n",
       "   9            10.36 <0.005      9.60\n",
       "   10            0.85   0.36      1.48\n",
       "   11            1.10   0.29      1.77\n",
       "   12            0.05   0.83      0.27\n",
       "2  3             0.08   0.78      0.37\n",
       "   4             5.35   0.02      5.60\n",
       "   5             2.91   0.09      3.50\n",
       "   6             0.12   0.73      0.45\n",
       "   7             0.03   0.87      0.20\n",
       "   8             5.59   0.02      5.79\n",
       "   9            20.52 <0.005     17.37\n",
       "   10            5.35   0.02      5.59\n",
       "   11            0.10   0.75      0.41\n",
       "   12            0.27   0.61      0.72\n",
       "3  4             4.09   0.04      4.54\n",
       "   5             3.12   0.08      3.69\n",
       "   6             0.04   0.84      0.26\n",
       "   7             0.30   0.59      0.77\n",
       "   8             5.64   0.02      5.83\n",
       "   9            23.01 <0.005     19.24\n",
       "   10            6.17   0.01      6.26\n",
       "   11            0.03   0.86      0.22\n",
       "   12            0.24   0.63      0.68\n",
       "4  5             0.00   0.97      0.04\n",
       "   6             2.81   0.09      3.41\n",
       "   7             4.56   0.03      4.93\n",
       "   8             7.25   0.01      7.14\n",
       "   9            50.25 <0.005     39.42\n",
       "   10           20.82 <0.005     17.59\n",
       "   11            4.34   0.04      4.75\n",
       "   12            4.40   0.04      4.80\n",
       "5  6             1.97   0.16      2.64\n",
       "   7             2.35   0.13      2.99\n",
       "   8             6.94   0.01      6.89\n",
       "   9            44.62 <0.005     35.28\n",
       "   10           17.44 <0.005     15.04\n",
       "   11            3.38   0.07      3.92\n",
       "   12            3.18   0.07      3.74\n",
       "6  7             0.09   0.77      0.38\n",
       "   8             4.94   0.03      5.25\n",
       "   9            11.79 <0.005     10.71\n",
       "   10            3.40   0.07      3.94\n",
       "   11            0.00   0.98      0.03\n",
       "   12            0.12   0.73      0.46\n",
       "7  8             4.72   0.03      5.07\n",
       "   9             4.26   0.04      4.68\n",
       "   10            0.85   0.36      1.48\n",
       "   11            0.37   0.54      0.88\n",
       "   12            0.11   0.75      0.42\n",
       "8  9             4.23   0.04      4.66\n",
       "   10            4.94   0.03      5.26\n",
       "   11            5.94   0.01      6.08\n",
       "   12            6.24   0.01      6.32\n",
       "9  10            6.52   0.01      6.55\n",
       "   11           23.09 <0.005     19.30\n",
       "   12            5.21   0.02      5.48\n",
       "10 11            6.73   0.01      6.72\n",
       "   12            1.12   0.29      1.78\n",
       "11 12            0.28   0.59      0.75"
      ],
      "text/latex": [
       "\\begin{tabular}{llrrr}\n",
       "\\toprule\n",
       "   &    &  test\\_statistic &             p &   -log2(p) \\\\\n",
       "\\midrule\n",
       "1  & 2  &        0.693961 &  4.048204e-01 &   1.304646 \\\\\n",
       "   & 3  &        1.234041 &  2.666226e-01 &   1.907129 \\\\\n",
       "   & 4  &        8.437356 &  3.675902e-03 &   8.087686 \\\\\n",
       "   & 5  &        8.391668 &  3.769449e-03 &   8.051431 \\\\\n",
       "   & 6  &        1.259004 &  2.618396e-01 &   1.933245 \\\\\n",
       "   & 7  &        0.095007 &  7.579057e-01 &   0.399910 \\\\\n",
       "   & 8  &        5.227490 &  2.223259e-02 &   5.491180 \\\\\n",
       "   & 9  &       10.358922 &  1.288504e-03 &   9.600087 \\\\\n",
       "   & 10 &        0.846483 &  3.575492e-01 &   1.483786 \\\\\n",
       "   & 11 &        1.103960 &  2.933988e-01 &   1.769065 \\\\\n",
       "   & 12 &        0.046220 &  8.297765e-01 &   0.269205 \\\\\n",
       "2  & 3  &        0.081251 &  7.756091e-01 &   0.366598 \\\\\n",
       "   & 4  &        5.353563 &  2.067997e-02 &   5.595622 \\\\\n",
       "   & 5  &        2.905110 &  8.829922e-02 &   3.501455 \\\\\n",
       "   & 6  &        0.119056 &  7.300601e-01 &   0.453913 \\\\\n",
       "   & 7  &        0.027142 &  8.691417e-01 &   0.202337 \\\\\n",
       "   & 8  &        5.587495 &  1.808915e-02 &   5.788732 \\\\\n",
       "   & 9  &       20.515314 &  5.915606e-06 &  17.367043 \\\\\n",
       "   & 10 &        5.351536 &  2.070402e-02 &   5.593945 \\\\\n",
       "   & 11 &        0.099879 &  7.519747e-01 &   0.411244 \\\\\n",
       "   & 12 &        0.265292 &  6.065076e-01 &   0.721402 \\\\\n",
       "3  & 4  &        4.090446 &  4.312626e-02 &   4.535289 \\\\\n",
       "   & 5  &        3.115040 &  7.757258e-02 &   3.688309 \\\\\n",
       "   & 6  &        0.042093 &  8.374432e-01 &   0.255937 \\\\\n",
       "   & 7  &        0.296674 &  5.859750e-01 &   0.771089 \\\\\n",
       "   & 8  &        5.638784 &  1.756739e-02 &   5.830956 \\\\\n",
       "   & 9  &       23.007880 &  1.613387e-06 &  19.241476 \\\\\n",
       "   & 10 &        6.167691 &  1.301043e-02 &   6.264187 \\\\\n",
       "   & 11 &        0.030701 &  8.609089e-01 &   0.216068 \\\\\n",
       "   & 12 &        0.237299 &  6.261641e-01 &   0.675387 \\\\\n",
       "4  & 5  &        0.001108 &  9.734426e-01 &   0.038832 \\\\\n",
       "   & 6  &        2.808693 &  9.375475e-02 &   3.414964 \\\\\n",
       "   & 7  &        4.561752 &  3.269361e-02 &   4.934847 \\\\\n",
       "   & 8  &        7.246944 &  7.102179e-03 &   7.137522 \\\\\n",
       "   & 9  &       50.247350 &  1.355376e-12 &  39.424444 \\\\\n",
       "   & 10 &       20.815132 &  5.058174e-06 &  17.592952 \\\\\n",
       "   & 11 &        4.337558 &  3.728035e-02 &   4.745441 \\\\\n",
       "   & 12 &        4.397756 &  3.598626e-02 &   4.796410 \\\\\n",
       "5  & 6  &        1.967307 &  1.607340e-01 &   2.637253 \\\\\n",
       "   & 7  &        2.347627 &  1.254739e-01 &   2.994541 \\\\\n",
       "   & 8  &        6.943681 &  8.411583e-03 &   6.893407 \\\\\n",
       "   & 9  &       44.619694 &  2.392727e-11 &  35.282553 \\\\\n",
       "   & 10 &       17.439804 &  2.965506e-05 &  15.041362 \\\\\n",
       "   & 11 &        3.376883 &  6.611699e-02 &   3.918835 \\\\\n",
       "   & 12 &        3.176388 &  7.470969e-02 &   3.742561 \\\\\n",
       "6  & 7  &        0.088612 &  7.659486e-01 &   0.384681 \\\\\n",
       "   & 8  &        4.939617 &  2.624785e-02 &   5.251657 \\\\\n",
       "   & 9  &       11.789805 &  5.955596e-04 &  10.713467 \\\\\n",
       "   & 10 &        3.396629 &  6.532982e-02 &   3.936115 \\\\\n",
       "   & 11 &        0.000705 &  9.788130e-01 &   0.030895 \\\\\n",
       "   & 12 &        0.123174 &  7.256169e-01 &   0.462720 \\\\\n",
       "7  & 8  &        4.717509 &  2.985697e-02 &   5.065789 \\\\\n",
       "   & 9  &        4.258151 &  3.906241e-02 &   4.678075 \\\\\n",
       "   & 10 &        0.846485 &  3.575487e-01 &   1.483788 \\\\\n",
       "   & 11 &        0.369261 &  5.434076e-01 &   0.879893 \\\\\n",
       "   & 12 &        0.105183 &  7.456958e-01 &   0.423341 \\\\\n",
       "8  & 9  &        4.233933 &  3.962352e-02 &   4.657499 \\\\\n",
       "   & 10 &        4.944322 &  2.617650e-02 &   5.255584 \\\\\n",
       "   & 11 &        5.936833 &  1.482764e-02 &   6.075567 \\\\\n",
       "   & 12 &        6.235127 &  1.252406e-02 &   6.319154 \\\\\n",
       "9  & 10 &        6.521918 &  1.065531e-02 &   6.552284 \\\\\n",
       "   & 11 &       23.089846 &  1.546050e-06 &  19.302981 \\\\\n",
       "   & 12 &        5.208245 &  2.248002e-02 &   5.475213 \\\\\n",
       "10 & 11 &        6.734293 &  9.457669e-03 &   6.724300 \\\\\n",
       "   & 12 &        1.116341 &  2.907077e-01 &   1.782359 \\\\\n",
       "11 & 12 &        0.284368 &  5.938523e-01 &   0.751824 \\\\\n",
       "\\bottomrule\n",
       "\\end{tabular}\n"
      ],
      "text/html": [
       "<div>\n",
       "<style scoped>\n",
       "    .dataframe tbody tr th:only-of-type {\n",
       "        vertical-align: middle;\n",
       "    }\n",
       "\n",
       "    .dataframe tbody tr th {\n",
       "        vertical-align: top;\n",
       "    }\n",
       "\n",
       "    .dataframe thead th {\n",
       "        text-align: right;\n",
       "    }\n",
       "</style>\n",
       "<table border=\"1\" class=\"dataframe\">\n",
       "  <tbody>\n",
       "    <tr>\n",
       "      <th>t_0</th>\n",
       "      <td>-1</td>\n",
       "    </tr>\n",
       "    <tr>\n",
       "      <th>null_distribution</th>\n",
       "      <td>chi squared</td>\n",
       "    </tr>\n",
       "    <tr>\n",
       "      <th>degrees_of_freedom</th>\n",
       "      <td>1</td>\n",
       "    </tr>\n",
       "    <tr>\n",
       "      <th>test_name</th>\n",
       "      <td>logrank_test</td>\n",
       "    </tr>\n",
       "  </tbody>\n",
       "</table>\n",
       "</div><table border=\"1\" class=\"dataframe\">\n",
       "  <thead>\n",
       "    <tr style=\"text-align: right;\">\n",
       "      <th></th>\n",
       "      <th></th>\n",
       "      <th>test_statistic</th>\n",
       "      <th>p</th>\n",
       "      <th>-log2(p)</th>\n",
       "    </tr>\n",
       "  </thead>\n",
       "  <tbody>\n",
       "    <tr>\n",
       "      <th rowspan=\"11\" valign=\"top\">1</th>\n",
       "      <th>2</th>\n",
       "      <td>0.69</td>\n",
       "      <td>0.40</td>\n",
       "      <td>1.30</td>\n",
       "    </tr>\n",
       "    <tr>\n",
       "      <th>3</th>\n",
       "      <td>1.23</td>\n",
       "      <td>0.27</td>\n",
       "      <td>1.91</td>\n",
       "    </tr>\n",
       "    <tr>\n",
       "      <th>4</th>\n",
       "      <td>8.44</td>\n",
       "      <td>&lt;0.005</td>\n",
       "      <td>8.09</td>\n",
       "    </tr>\n",
       "    <tr>\n",
       "      <th>5</th>\n",
       "      <td>8.39</td>\n",
       "      <td>&lt;0.005</td>\n",
       "      <td>8.05</td>\n",
       "    </tr>\n",
       "    <tr>\n",
       "      <th>6</th>\n",
       "      <td>1.26</td>\n",
       "      <td>0.26</td>\n",
       "      <td>1.93</td>\n",
       "    </tr>\n",
       "    <tr>\n",
       "      <th>7</th>\n",
       "      <td>0.10</td>\n",
       "      <td>0.76</td>\n",
       "      <td>0.40</td>\n",
       "    </tr>\n",
       "    <tr>\n",
       "      <th>8</th>\n",
       "      <td>5.23</td>\n",
       "      <td>0.02</td>\n",
       "      <td>5.49</td>\n",
       "    </tr>\n",
       "    <tr>\n",
       "      <th>9</th>\n",
       "      <td>10.36</td>\n",
       "      <td>&lt;0.005</td>\n",
       "      <td>9.60</td>\n",
       "    </tr>\n",
       "    <tr>\n",
       "      <th>10</th>\n",
       "      <td>0.85</td>\n",
       "      <td>0.36</td>\n",
       "      <td>1.48</td>\n",
       "    </tr>\n",
       "    <tr>\n",
       "      <th>11</th>\n",
       "      <td>1.10</td>\n",
       "      <td>0.29</td>\n",
       "      <td>1.77</td>\n",
       "    </tr>\n",
       "    <tr>\n",
       "      <th>12</th>\n",
       "      <td>0.05</td>\n",
       "      <td>0.83</td>\n",
       "      <td>0.27</td>\n",
       "    </tr>\n",
       "    <tr>\n",
       "      <th rowspan=\"10\" valign=\"top\">2</th>\n",
       "      <th>3</th>\n",
       "      <td>0.08</td>\n",
       "      <td>0.78</td>\n",
       "      <td>0.37</td>\n",
       "    </tr>\n",
       "    <tr>\n",
       "      <th>4</th>\n",
       "      <td>5.35</td>\n",
       "      <td>0.02</td>\n",
       "      <td>5.60</td>\n",
       "    </tr>\n",
       "    <tr>\n",
       "      <th>5</th>\n",
       "      <td>2.91</td>\n",
       "      <td>0.09</td>\n",
       "      <td>3.50</td>\n",
       "    </tr>\n",
       "    <tr>\n",
       "      <th>6</th>\n",
       "      <td>0.12</td>\n",
       "      <td>0.73</td>\n",
       "      <td>0.45</td>\n",
       "    </tr>\n",
       "    <tr>\n",
       "      <th>7</th>\n",
       "      <td>0.03</td>\n",
       "      <td>0.87</td>\n",
       "      <td>0.20</td>\n",
       "    </tr>\n",
       "    <tr>\n",
       "      <th>8</th>\n",
       "      <td>5.59</td>\n",
       "      <td>0.02</td>\n",
       "      <td>5.79</td>\n",
       "    </tr>\n",
       "    <tr>\n",
       "      <th>9</th>\n",
       "      <td>20.52</td>\n",
       "      <td>&lt;0.005</td>\n",
       "      <td>17.37</td>\n",
       "    </tr>\n",
       "    <tr>\n",
       "      <th>10</th>\n",
       "      <td>5.35</td>\n",
       "      <td>0.02</td>\n",
       "      <td>5.59</td>\n",
       "    </tr>\n",
       "    <tr>\n",
       "      <th>11</th>\n",
       "      <td>0.10</td>\n",
       "      <td>0.75</td>\n",
       "      <td>0.41</td>\n",
       "    </tr>\n",
       "    <tr>\n",
       "      <th>12</th>\n",
       "      <td>0.27</td>\n",
       "      <td>0.61</td>\n",
       "      <td>0.72</td>\n",
       "    </tr>\n",
       "    <tr>\n",
       "      <th rowspan=\"9\" valign=\"top\">3</th>\n",
       "      <th>4</th>\n",
       "      <td>4.09</td>\n",
       "      <td>0.04</td>\n",
       "      <td>4.54</td>\n",
       "    </tr>\n",
       "    <tr>\n",
       "      <th>5</th>\n",
       "      <td>3.12</td>\n",
       "      <td>0.08</td>\n",
       "      <td>3.69</td>\n",
       "    </tr>\n",
       "    <tr>\n",
       "      <th>6</th>\n",
       "      <td>0.04</td>\n",
       "      <td>0.84</td>\n",
       "      <td>0.26</td>\n",
       "    </tr>\n",
       "    <tr>\n",
       "      <th>7</th>\n",
       "      <td>0.30</td>\n",
       "      <td>0.59</td>\n",
       "      <td>0.77</td>\n",
       "    </tr>\n",
       "    <tr>\n",
       "      <th>8</th>\n",
       "      <td>5.64</td>\n",
       "      <td>0.02</td>\n",
       "      <td>5.83</td>\n",
       "    </tr>\n",
       "    <tr>\n",
       "      <th>9</th>\n",
       "      <td>23.01</td>\n",
       "      <td>&lt;0.005</td>\n",
       "      <td>19.24</td>\n",
       "    </tr>\n",
       "    <tr>\n",
       "      <th>10</th>\n",
       "      <td>6.17</td>\n",
       "      <td>0.01</td>\n",
       "      <td>6.26</td>\n",
       "    </tr>\n",
       "    <tr>\n",
       "      <th>11</th>\n",
       "      <td>0.03</td>\n",
       "      <td>0.86</td>\n",
       "      <td>0.22</td>\n",
       "    </tr>\n",
       "    <tr>\n",
       "      <th>12</th>\n",
       "      <td>0.24</td>\n",
       "      <td>0.63</td>\n",
       "      <td>0.68</td>\n",
       "    </tr>\n",
       "    <tr>\n",
       "      <th rowspan=\"8\" valign=\"top\">4</th>\n",
       "      <th>5</th>\n",
       "      <td>0.00</td>\n",
       "      <td>0.97</td>\n",
       "      <td>0.04</td>\n",
       "    </tr>\n",
       "    <tr>\n",
       "      <th>6</th>\n",
       "      <td>2.81</td>\n",
       "      <td>0.09</td>\n",
       "      <td>3.41</td>\n",
       "    </tr>\n",
       "    <tr>\n",
       "      <th>7</th>\n",
       "      <td>4.56</td>\n",
       "      <td>0.03</td>\n",
       "      <td>4.93</td>\n",
       "    </tr>\n",
       "    <tr>\n",
       "      <th>8</th>\n",
       "      <td>7.25</td>\n",
       "      <td>0.01</td>\n",
       "      <td>7.14</td>\n",
       "    </tr>\n",
       "    <tr>\n",
       "      <th>9</th>\n",
       "      <td>50.25</td>\n",
       "      <td>&lt;0.005</td>\n",
       "      <td>39.42</td>\n",
       "    </tr>\n",
       "    <tr>\n",
       "      <th>10</th>\n",
       "      <td>20.82</td>\n",
       "      <td>&lt;0.005</td>\n",
       "      <td>17.59</td>\n",
       "    </tr>\n",
       "    <tr>\n",
       "      <th>11</th>\n",
       "      <td>4.34</td>\n",
       "      <td>0.04</td>\n",
       "      <td>4.75</td>\n",
       "    </tr>\n",
       "    <tr>\n",
       "      <th>12</th>\n",
       "      <td>4.40</td>\n",
       "      <td>0.04</td>\n",
       "      <td>4.80</td>\n",
       "    </tr>\n",
       "    <tr>\n",
       "      <th rowspan=\"7\" valign=\"top\">5</th>\n",
       "      <th>6</th>\n",
       "      <td>1.97</td>\n",
       "      <td>0.16</td>\n",
       "      <td>2.64</td>\n",
       "    </tr>\n",
       "    <tr>\n",
       "      <th>7</th>\n",
       "      <td>2.35</td>\n",
       "      <td>0.13</td>\n",
       "      <td>2.99</td>\n",
       "    </tr>\n",
       "    <tr>\n",
       "      <th>8</th>\n",
       "      <td>6.94</td>\n",
       "      <td>0.01</td>\n",
       "      <td>6.89</td>\n",
       "    </tr>\n",
       "    <tr>\n",
       "      <th>9</th>\n",
       "      <td>44.62</td>\n",
       "      <td>&lt;0.005</td>\n",
       "      <td>35.28</td>\n",
       "    </tr>\n",
       "    <tr>\n",
       "      <th>10</th>\n",
       "      <td>17.44</td>\n",
       "      <td>&lt;0.005</td>\n",
       "      <td>15.04</td>\n",
       "    </tr>\n",
       "    <tr>\n",
       "      <th>11</th>\n",
       "      <td>3.38</td>\n",
       "      <td>0.07</td>\n",
       "      <td>3.92</td>\n",
       "    </tr>\n",
       "    <tr>\n",
       "      <th>12</th>\n",
       "      <td>3.18</td>\n",
       "      <td>0.07</td>\n",
       "      <td>3.74</td>\n",
       "    </tr>\n",
       "    <tr>\n",
       "      <th rowspan=\"6\" valign=\"top\">6</th>\n",
       "      <th>7</th>\n",
       "      <td>0.09</td>\n",
       "      <td>0.77</td>\n",
       "      <td>0.38</td>\n",
       "    </tr>\n",
       "    <tr>\n",
       "      <th>8</th>\n",
       "      <td>4.94</td>\n",
       "      <td>0.03</td>\n",
       "      <td>5.25</td>\n",
       "    </tr>\n",
       "    <tr>\n",
       "      <th>9</th>\n",
       "      <td>11.79</td>\n",
       "      <td>&lt;0.005</td>\n",
       "      <td>10.71</td>\n",
       "    </tr>\n",
       "    <tr>\n",
       "      <th>10</th>\n",
       "      <td>3.40</td>\n",
       "      <td>0.07</td>\n",
       "      <td>3.94</td>\n",
       "    </tr>\n",
       "    <tr>\n",
       "      <th>11</th>\n",
       "      <td>0.00</td>\n",
       "      <td>0.98</td>\n",
       "      <td>0.03</td>\n",
       "    </tr>\n",
       "    <tr>\n",
       "      <th>12</th>\n",
       "      <td>0.12</td>\n",
       "      <td>0.73</td>\n",
       "      <td>0.46</td>\n",
       "    </tr>\n",
       "    <tr>\n",
       "      <th rowspan=\"5\" valign=\"top\">7</th>\n",
       "      <th>8</th>\n",
       "      <td>4.72</td>\n",
       "      <td>0.03</td>\n",
       "      <td>5.07</td>\n",
       "    </tr>\n",
       "    <tr>\n",
       "      <th>9</th>\n",
       "      <td>4.26</td>\n",
       "      <td>0.04</td>\n",
       "      <td>4.68</td>\n",
       "    </tr>\n",
       "    <tr>\n",
       "      <th>10</th>\n",
       "      <td>0.85</td>\n",
       "      <td>0.36</td>\n",
       "      <td>1.48</td>\n",
       "    </tr>\n",
       "    <tr>\n",
       "      <th>11</th>\n",
       "      <td>0.37</td>\n",
       "      <td>0.54</td>\n",
       "      <td>0.88</td>\n",
       "    </tr>\n",
       "    <tr>\n",
       "      <th>12</th>\n",
       "      <td>0.11</td>\n",
       "      <td>0.75</td>\n",
       "      <td>0.42</td>\n",
       "    </tr>\n",
       "    <tr>\n",
       "      <th rowspan=\"4\" valign=\"top\">8</th>\n",
       "      <th>9</th>\n",
       "      <td>4.23</td>\n",
       "      <td>0.04</td>\n",
       "      <td>4.66</td>\n",
       "    </tr>\n",
       "    <tr>\n",
       "      <th>10</th>\n",
       "      <td>4.94</td>\n",
       "      <td>0.03</td>\n",
       "      <td>5.26</td>\n",
       "    </tr>\n",
       "    <tr>\n",
       "      <th>11</th>\n",
       "      <td>5.94</td>\n",
       "      <td>0.01</td>\n",
       "      <td>6.08</td>\n",
       "    </tr>\n",
       "    <tr>\n",
       "      <th>12</th>\n",
       "      <td>6.24</td>\n",
       "      <td>0.01</td>\n",
       "      <td>6.32</td>\n",
       "    </tr>\n",
       "    <tr>\n",
       "      <th rowspan=\"3\" valign=\"top\">9</th>\n",
       "      <th>10</th>\n",
       "      <td>6.52</td>\n",
       "      <td>0.01</td>\n",
       "      <td>6.55</td>\n",
       "    </tr>\n",
       "    <tr>\n",
       "      <th>11</th>\n",
       "      <td>23.09</td>\n",
       "      <td>&lt;0.005</td>\n",
       "      <td>19.30</td>\n",
       "    </tr>\n",
       "    <tr>\n",
       "      <th>12</th>\n",
       "      <td>5.21</td>\n",
       "      <td>0.02</td>\n",
       "      <td>5.48</td>\n",
       "    </tr>\n",
       "    <tr>\n",
       "      <th rowspan=\"2\" valign=\"top\">10</th>\n",
       "      <th>11</th>\n",
       "      <td>6.73</td>\n",
       "      <td>0.01</td>\n",
       "      <td>6.72</td>\n",
       "    </tr>\n",
       "    <tr>\n",
       "      <th>12</th>\n",
       "      <td>1.12</td>\n",
       "      <td>0.29</td>\n",
       "      <td>1.78</td>\n",
       "    </tr>\n",
       "    <tr>\n",
       "      <th>11</th>\n",
       "      <th>12</th>\n",
       "      <td>0.28</td>\n",
       "      <td>0.59</td>\n",
       "      <td>0.75</td>\n",
       "    </tr>\n",
       "  </tbody>\n",
       "</table>"
      ]
     },
     "metadata": {}
    }
   ],
   "metadata": {}
  },
  {
   "cell_type": "code",
   "execution_count": 107,
   "source": [
    "T = dt[\"mesesinscricao\"]\n",
    "E = dt[\"classe_desistencia\"]\n",
    "\n",
    "kmf.fit(T, event_observed=E)"
   ],
   "outputs": [
    {
     "output_type": "execute_result",
     "data": {
      "text/plain": [
       "<lifelines.KaplanMeierFitter:\"8\", fitted with 6745 total observations, 2850 right-censored observations>"
      ]
     },
     "metadata": {},
     "execution_count": 107
    }
   ],
   "metadata": {}
  },
  {
   "cell_type": "code",
   "execution_count": 108,
   "source": [
    "### vamos calcular por trimestres\n",
    "dt.loc[dt['mes'].isin([1,2,3]),'trimestre']='Jan, Fev and Mar'\n",
    "dt.loc[dt['mes'].isin([4,5,6]),'trimestre']='Apr, May, Jun'\n",
    "dt.loc[dt['mes'].isin([7,8,9]),'trimestre']='Jul, Aug, Set'\n",
    "dt.loc[dt['mes'].isin([10,11,12]),'trimestre']='Oct, Nov, Dez'"
   ],
   "outputs": [],
   "metadata": {}
  },
  {
   "cell_type": "code",
   "execution_count": 109,
   "source": [
    "dt.trimestre.value_counts()"
   ],
   "outputs": [
    {
     "output_type": "execute_result",
     "data": {
      "text/plain": [
       "Jul, Aug, Set       3009\n",
       "Oct, Nov, Dez       1393\n",
       "Jan, Fev and Mar    1357\n",
       "Apr, May, Jun        986\n",
       "Name: trimestre, dtype: int64"
      ]
     },
     "metadata": {},
     "execution_count": 109
    }
   ],
   "metadata": {}
  },
  {
   "cell_type": "code",
   "execution_count": 110,
   "source": [
    "dt['trimestre'].unique()"
   ],
   "outputs": [
    {
     "output_type": "execute_result",
     "data": {
      "text/plain": [
       "array(['Jul, Aug, Set', 'Oct, Nov, Dez', 'Apr, May, Jun',\n",
       "       'Jan, Fev and Mar'], dtype=object)"
      ]
     },
     "metadata": {},
     "execution_count": 110
    }
   ],
   "metadata": {}
  },
  {
   "cell_type": "code",
   "execution_count": 111,
   "source": [
    "ax = plt.subplot(111)\n",
    "#vamos considerar só 0,1,2,3\n",
    "trimestres=dt['trimestre'].unique()\n",
    "\n",
    "plt.rcParams['figure.figsize'] = [12, 7]\n",
    "for trimestre in trimestres:\n",
    "    ix = dt['trimestre'] == trimestre\n",
    "    kmf.fit(T.loc[ix], C.loc[ix], label=str(trimestre))\n",
    "    ax = kmf.plot(ax=ax)\n",
    "    print(str(trimestre),' predict survival 12 months:',kmf.predict(12.0),': median ',kmf.median_survival_time_)\n",
    "\n",
    "plt.title('Sobrevivência por trimestre');"
   ],
   "outputs": [
    {
     "output_type": "stream",
     "name": "stdout",
     "text": [
      "Jul, Aug, Set  predict survival 12 months: 0.5702275005654139 : median  16.0\n",
      "Oct, Nov, Dez  predict survival 12 months: 0.5128328829165126 : median  13.0\n",
      "Apr, May, Jun  predict survival 12 months: 0.47059328513462945 : median  11.0\n",
      "Jan, Fev and Mar  predict survival 12 months: 0.5195161809660498 : median  15.0\n"
     ]
    },
    {
     "output_type": "display_data",
     "data": {
      "text/plain": [
       "<Figure size 864x504 with 1 Axes>"
      ],
      "image/png": "[encoded data removed]",
      "image/svg+xml": "<?xml version=\"1.0\" encoding=\"utf-8\" standalone=\"no\"?>\n<!DOCTYPE svg PUBLIC \"-//W3C//DTD SVG 1.1//EN\"\n  \"http://www.w3.org/Graphics/SVG/1.1/DTD/svg11.dtd\">\n<svg height=\"440.874375pt\" version=\"1.1\" viewBox=\"0 0 706.903125 440.874375\" width=\"706.903125pt\" xmlns=\"http://www.w3.org/2000/svg\" xmlns:xlink=\"http://www.w3.org/1999/xlink\">\n <metadata>\n  <rdf:RDF xmlns:cc=\"http://creativecommons.org/ns#\" xmlns:dc=\"http://purl.org/dc/elements/1.1/\" xmlns:rdf=\"http://www.w3.org/1999/02/22-rdf-syntax-ns#\">\n   <cc:Work>\n    <dc:type rdf:resource=\"http://purl.org/dc/dcmitype/StillImage\"/>\n    <dc:date>2021-07-14T16:59:44.400220</dc:date>\n    <dc:format>image/svg+xml</dc:format>\n    <dc:creator>\n     <cc:Agent>\n      <dc:title>Matplotlib v3.4.2, https://matplotlib.org/</dc:title>\n     </cc:Agent>\n    </dc:creator>\n   </cc:Work>\n  </rdf:RDF>\n </metadata>\n <defs>\n  <style type=\"text/css\">*{stroke-linecap:butt;stroke-linejoin:round;}</style>\n </defs>\n <g id=\"figure_1\">\n  <g id=\"patch_1\">\n   <path d=\"M 0 440.874375 \nL 706.903125 440.874375 \nL 706.903125 0 \nL 0 0 \nz\n\" style=\"fill:none;\"/>\n  </g>\n  <g id=\"axes_1\">\n   <g id=\"patch_2\">\n    <path d=\"M 30.103125 403.318125 \nL 699.703125 403.318125 \nL 699.703125 22.798125 \nL 30.103125 22.798125 \nz\n\" style=\"fill:#ffffff;\"/>\n   </g>\n   <g id=\"PolyCollection_1\">\n    <defs>\n     <path d=\"M 60.539489 -400.649894 \nL 60.539489 -399.53193 \nL 73.491133 -399.53193 \nL 73.491133 -395.18704 \nL 86.442777 -395.18704 \nL 86.442777 -383.038099 \nL 99.394421 -383.038099 \nL 99.394421 -352.369328 \nL 112.346065 -352.369328 \nL 112.346065 -333.723513 \nL 125.297709 -333.723513 \nL 125.297709 -322.694866 \nL 138.249353 -322.694866 \nL 138.249353 -315.312185 \nL 151.200997 -315.312185 \nL 151.200997 -281.22901 \nL 164.152641 -281.22901 \nL 164.152641 -271.747567 \nL 177.104286 -271.747567 \nL 177.104286 -260.7711 \nL 190.05593 -260.7711 \nL 190.05593 -237.392941 \nL 203.007574 -237.392941 \nL 203.007574 -220.98191 \nL 215.959218 -220.98191 \nL 215.959218 -219.089799 \nL 228.910862 -219.089799 \nL 228.910862 -211.333482 \nL 241.862506 -211.333482 \nL 241.862506 -207.192132 \nL 254.81415 -207.192132 \nL 254.81415 -195.27271 \nL 267.765794 -195.27271 \nL 267.765794 -190.368267 \nL 280.717438 -190.368267 \nL 280.717438 -186.419146 \nL 293.669082 -186.419146 \nL 293.669082 -183.461253 \nL 306.620727 -183.461253 \nL 306.620727 -181.737354 \nL 319.572371 -181.737354 \nL 319.572371 -178.047052 \nL 332.524015 -178.047052 \nL 332.524015 -174.116315 \nL 345.475659 -174.116315 \nL 345.475659 -167.496029 \nL 358.427303 -167.496029 \nL 358.427303 -157.717201 \nL 371.378947 -157.717201 \nL 371.378947 -155.896574 \nL 384.330591 -155.896574 \nL 384.330591 -151.213407 \nL 397.282235 -151.213407 \nL 397.282235 -148.575614 \nL 410.233879 -148.575614 \nL 410.233879 -137.918273 \nL 423.185523 -137.918273 \nL 423.185523 -133.82076 \nL 436.137168 -133.82076 \nL 436.137168 -131.20629 \nL 449.088812 -131.20629 \nL 449.088812 -129.466635 \nL 462.040456 -129.466635 \nL 462.040456 -129.029287 \nL 474.9921 -129.029287 \nL 474.9921 -125.972488 \nL 487.943744 -125.972488 \nL 487.943744 -121.185025 \nL 500.895388 -121.185025 \nL 500.895388 -119.01526 \nL 513.847032 -119.01526 \nL 513.847032 -109.083981 \nL 526.798676 -109.083981 \nL 526.798676 -107.144096 \nL 539.75032 -107.144096 \nL 539.75032 -104.228551 \nL 552.701964 -104.228551 \nL 552.701964 -102.74742 \nL 565.653609 -102.74742 \nL 565.653609 -81.563417 \nL 578.605253 -81.563417 \nL 578.605253 -78.68976 \nL 669.266761 -78.68976 \nL 669.266761 -78.68976 \nL 669.266761 -107.826127 \nL 669.266761 -107.826127 \nL 669.266761 -107.826127 \nL 578.605253 -107.826127 \nL 578.605253 -109.807529 \nL 565.653609 -109.807529 \nL 565.653609 -121.908876 \nL 552.701964 -121.908876 \nL 552.701964 -123.345032 \nL 539.75032 -123.345032 \nL 539.75032 -126.169053 \nL 526.798676 -126.169053 \nL 526.798676 -128.040682 \nL 513.847032 -128.040682 \nL 513.847032 -137.725001 \nL 500.895388 -137.725001 \nL 500.895388 -139.82032 \nL 487.943744 -139.82032 \nL 487.943744 -144.417118 \nL 474.9921 -144.417118 \nL 474.9921 -147.332913 \nL 462.040456 -147.332913 \nL 462.040456 -147.748844 \nL 449.088812 -147.748844 \nL 449.088812 -149.402 \nL 436.137168 -149.402 \nL 436.137168 -151.877133 \nL 423.185523 -151.877133 \nL 423.185523 -155.775179 \nL 410.233879 -155.775179 \nL 410.233879 -165.801009 \nL 397.282235 -165.801009 \nL 397.282235 -168.410513 \nL 384.330591 -168.410513 \nL 384.330591 -173.037933 \nL 371.378947 -173.037933 \nL 371.378947 -174.832656 \nL 358.427303 -174.832656 \nL 358.427303 -184.498439 \nL 345.475659 -184.498439 \nL 345.475659 -191.004449 \nL 332.524015 -191.004449 \nL 332.524015 -194.852739 \nL 319.572371 -194.852739 \nL 319.572371 -198.455617 \nL 306.620727 -198.455617 \nL 306.620727 -200.13532 \nL 293.669082 -200.13532 \nL 293.669082 -203.012352 \nL 280.717438 -203.012352 \nL 280.717438 -206.843495 \nL 267.765794 -206.843495 \nL 267.765794 -211.614455 \nL 254.81415 -211.614455 \nL 254.81415 -223.142626 \nL 241.862506 -223.142626 \nL 241.862506 -227.240265 \nL 228.910862 -227.240265 \nL 228.910862 -234.896551 \nL 215.959218 -234.896551 \nL 215.959218 -236.760815 \nL 203.007574 -236.760815 \nL 203.007574 -252.904756 \nL 190.05593 -252.904756 \nL 190.05593 -275.702754 \nL 177.104286 -275.702754 \nL 177.104286 -286.320037 \nL 164.152641 -286.320037 \nL 164.152641 -295.4428 \nL 151.200997 -295.4428 \nL 151.200997 -327.807178 \nL 138.249353 -327.807178 \nL 138.249353 -334.711973 \nL 125.297709 -334.711973 \nL 125.297709 -344.939142 \nL 112.346065 -344.939142 \nL 112.346065 -361.961573 \nL 99.394421 -361.961573 \nL 99.394421 -388.48594 \nL 86.442777 -388.48594 \nL 86.442777 -398.069286 \nL 73.491133 -398.069286 \nL 73.491133 -400.649894 \nL 60.539489 -400.649894 \nz\n\" id=\"m8eb18b5a61\" style=\"stroke:#1f77b4;stroke-opacity:0.25;\"/>\n    </defs>\n    <g clip-path=\"url(#p6793e87c89)\">\n     <use style=\"fill:#1f77b4;fill-opacity:0.25;stroke:#1f77b4;stroke-opacity:0.25;\" x=\"0\" xlink:href=\"#m8eb18b5a61\" y=\"440.874375\"/>\n    </g>\n   </g>\n   <g id=\"PolyCollection_2\">\n    <defs>\n     <path d=\"M 60.539489 -400.779886 \nL 60.539489 -400.779886 \nL 73.491133 -400.779886 \nL 73.491133 -395.776732 \nL 86.442777 -395.776732 \nL 86.442777 -376.397194 \nL 99.394421 -376.397194 \nL 99.394421 -353.697434 \nL 112.346065 -353.697434 \nL 112.346065 -334.150485 \nL 125.297709 -334.150485 \nL 125.297709 -309.421366 \nL 138.249353 -309.421366 \nL 138.249353 -283.407165 \nL 151.200997 -283.407165 \nL 151.200997 -266.415541 \nL 164.152641 -266.415541 \nL 164.152641 -244.528651 \nL 177.104286 -244.528651 \nL 177.104286 -224.951391 \nL 190.05593 -224.951391 \nL 190.05593 -205.788762 \nL 203.007574 -205.788762 \nL 203.007574 -201.12644 \nL 215.959218 -201.12644 \nL 215.959218 -192.833125 \nL 228.910862 -192.833125 \nL 228.910862 -185.51115 \nL 241.862506 -185.51115 \nL 241.862506 -177.778178 \nL 254.81415 -177.778178 \nL 254.81415 -170.835445 \nL 267.765794 -170.835445 \nL 267.765794 -168.384495 \nL 280.717438 -168.384495 \nL 280.717438 -166.752017 \nL 293.669082 -166.752017 \nL 293.669082 -162.268799 \nL 306.620727 -162.268799 \nL 306.620727 -156.169612 \nL 319.572371 -156.169612 \nL 319.572371 -150.491794 \nL 332.524015 -150.491794 \nL 332.524015 -139.466608 \nL 345.475659 -139.466608 \nL 345.475659 -129.544113 \nL 358.427303 -129.544113 \nL 358.427303 -127.396451 \nL 371.378947 -127.396451 \nL 371.378947 -125.591491 \nL 384.330591 -125.591491 \nL 384.330591 -121.567661 \nL 397.282235 -121.567661 \nL 397.282235 -116.646567 \nL 410.233879 -116.646567 \nL 410.233879 -111.667884 \nL 423.185523 -111.667884 \nL 423.185523 -110.224376 \nL 436.137168 -110.224376 \nL 436.137168 -108.783372 \nL 449.088812 -108.783372 \nL 449.088812 -108.063801 \nL 462.040456 -108.063801 \nL 462.040456 -103.043958 \nL 474.9921 -103.043958 \nL 474.9921 -98.053614 \nL 487.943744 -98.053614 \nL 487.943744 -91.545649 \nL 500.895388 -91.545649 \nL 500.895388 -79.383202 \nL 513.847032 -79.383202 \nL 513.847032 -77.694747 \nL 526.798676 -77.694747 \nL 526.798676 -75.797766 \nL 539.75032 -75.797766 \nL 539.75032 -72.0512 \nL 552.701964 -72.0512 \nL 552.701964 -65.072729 \nL 565.653609 -65.072729 \nL 565.653609 -65.072729 \nL 630.411829 -65.072729 \nL 630.411829 -65.072729 \nL 643.363473 -65.072729 \nL 643.363473 -65.072729 \nL 656.315117 -65.072729 \nL 656.315117 -65.072729 \nL 656.315117 -92.269158 \nL 656.315117 -92.269158 \nL 656.315117 -92.269158 \nL 643.363473 -92.269158 \nL 643.363473 -92.269158 \nL 630.411829 -92.269158 \nL 630.411829 -92.269158 \nL 565.653609 -92.269158 \nL 565.653609 -92.269158 \nL 552.701964 -92.269158 \nL 552.701964 -96.27847 \nL 539.75032 -96.27847 \nL 539.75032 -99.631344 \nL 526.798676 -99.631344 \nL 526.798676 -101.450741 \nL 513.847032 -101.450741 \nL 513.847032 -103.109639 \nL 500.895388 -103.109639 \nL 500.895388 -115.157778 \nL 487.943744 -115.157778 \nL 487.943744 -121.541782 \nL 474.9921 -121.541782 \nL 474.9921 -126.394168 \nL 462.040456 -126.394168 \nL 462.040456 -131.219805 \nL 449.088812 -131.219805 \nL 449.088812 -131.906961 \nL 436.137168 -131.906961 \nL 436.137168 -133.279585 \nL 423.185523 -133.279585 \nL 423.185523 -134.64994 \nL 410.233879 -134.64994 \nL 410.233879 -139.359461 \nL 397.282235 -139.359461 \nL 397.282235 -143.978063 \nL 384.330591 -143.978063 \nL 384.330591 -147.963415 \nL 371.378947 -147.963415 \nL 371.378947 -149.774664 \nL 358.427303 -149.774664 \nL 358.427303 -151.940758 \nL 345.475659 -151.940758 \nL 345.475659 -161.948282 \nL 332.524015 -161.948282 \nL 332.524015 -172.98992 \nL 319.572371 -172.98992 \nL 319.572371 -178.643046 \nL 306.620727 -178.643046 \nL 306.620727 -184.68524 \nL 293.669082 -184.68524 \nL 293.669082 -189.106449 \nL 280.717438 -189.106449 \nL 280.717438 -190.712107 \nL 267.765794 -190.712107 \nL 267.765794 -193.118529 \nL 254.81415 -193.118529 \nL 254.81415 -199.909387 \nL 241.862506 -199.909387 \nL 241.862506 -207.431282 \nL 228.910862 -207.431282 \nL 228.910862 -214.689255 \nL 215.959218 -214.689255 \nL 215.959218 -222.911729 \nL 203.007574 -222.911729 \nL 203.007574 -227.530759 \nL 190.05593 -227.530759 \nL 190.05593 -246.409735 \nL 177.104286 -246.409735 \nL 177.104286 -265.488676 \nL 164.152641 -265.488676 \nL 164.152641 -286.55421 \nL 151.200997 -286.55421 \nL 151.200997 -302.69804 \nL 138.249353 -302.69804 \nL 138.249353 -327.001816 \nL 125.297709 -327.001816 \nL 125.297709 -349.523909 \nL 112.346065 -349.523909 \nL 112.346065 -366.764233 \nL 99.394421 -366.764233 \nL 99.394421 -385.723168 \nL 86.442777 -385.723168 \nL 86.442777 -399.41924 \nL 73.491133 -399.41924 \nL 73.491133 -400.779886 \nL 60.539489 -400.779886 \nz\n\" id=\"m0c86282002\" style=\"stroke:#ff7f0e;stroke-opacity:0.25;\"/>\n    </defs>\n    <g clip-path=\"url(#p6793e87c89)\">\n     <use style=\"fill:#ff7f0e;fill-opacity:0.25;stroke:#ff7f0e;stroke-opacity:0.25;\" x=\"0\" xlink:href=\"#m0c86282002\" y=\"440.874375\"/>\n    </g>\n   </g>\n   <g id=\"PolyCollection_3\">\n    <defs>\n     <path d=\"M 60.539489 -400.779886 \nL 60.539489 -400.779886 \nL 73.491133 -400.779886 \nL 73.491133 -392.675501 \nL 86.442777 -392.675501 \nL 86.442777 -363.50947 \nL 99.394421 -363.50947 \nL 99.394421 -328.315866 \nL 112.346065 -328.315866 \nL 112.346065 -301.708068 \nL 125.297709 -301.708068 \nL 125.297709 -269.152085 \nL 138.249353 -269.152085 \nL 138.249353 -231.4755 \nL 151.200997 -231.4755 \nL 151.200997 -217.399349 \nL 164.152641 -217.399349 \nL 164.152641 -201.699096 \nL 177.104286 -201.699096 \nL 177.104286 -192.549984 \nL 190.05593 -192.549984 \nL 190.05593 -188.257871 \nL 203.007574 -188.257871 \nL 203.007574 -182.90449 \nL 215.959218 -182.90449 \nL 215.959218 -173.300771 \nL 228.910862 -173.300771 \nL 228.910862 -169.045632 \nL 241.862506 -169.045632 \nL 241.862506 -153.687933 \nL 254.81415 -153.687933 \nL 254.81415 -143.847486 \nL 267.765794 -143.847486 \nL 267.765794 -134.423678 \nL 280.717438 -134.423678 \nL 280.717438 -130.509537 \nL 293.669082 -130.509537 \nL 293.669082 -123.603367 \nL 306.620727 -123.603367 \nL 306.620727 -117.333148 \nL 319.572371 -117.333148 \nL 319.572371 -113.119727 \nL 332.524015 -113.119727 \nL 332.524015 -111.427711 \nL 345.475659 -111.427711 \nL 345.475659 -108.858234 \nL 358.427303 -108.858234 \nL 358.427303 -108.003392 \nL 371.378947 -108.003392 \nL 371.378947 -105.443781 \nL 384.330591 -105.443781 \nL 384.330591 -100.346526 \nL 397.282235 -100.346526 \nL 397.282235 -89.402067 \nL 410.233879 -89.402067 \nL 410.233879 -85.873791 \nL 423.185523 -85.873791 \nL 423.185523 -77.509938 \nL 436.137168 -77.509938 \nL 436.137168 -77.509938 \nL 449.088812 -77.509938 \nL 449.088812 -73.284285 \nL 462.040456 -73.284285 \nL 462.040456 -65.238561 \nL 474.9921 -65.238561 \nL 474.9921 -54.852614 \nL 552.701964 -54.852614 \nL 552.701964 -54.852614 \nL 565.653609 -54.852614 \nL 565.653609 -54.852614 \nL 578.605253 -54.852614 \nL 578.605253 -54.852614 \nL 578.605253 -92.151212 \nL 578.605253 -92.151212 \nL 578.605253 -92.151212 \nL 565.653609 -92.151212 \nL 565.653609 -92.151212 \nL 552.701964 -92.151212 \nL 552.701964 -92.151212 \nL 474.9921 -92.151212 \nL 474.9921 -94.687847 \nL 462.040456 -94.687847 \nL 462.040456 -100.565045 \nL 449.088812 -100.565045 \nL 449.088812 -104.427036 \nL 436.137168 -104.427036 \nL 436.137168 -104.427036 \nL 423.185523 -104.427036 \nL 423.185523 -112.86075 \nL 410.233879 -112.86075 \nL 410.233879 -116.413238 \nL 397.282235 -116.413238 \nL 397.282235 -127.390137 \nL 384.330591 -127.390137 \nL 384.330591 -132.41507 \nL 371.378947 -132.41507 \nL 371.378947 -134.91769 \nL 358.427303 -134.91769 \nL 358.427303 -135.750428 \nL 345.475659 -135.750428 \nL 345.475659 -138.244215 \nL 332.524015 -138.244215 \nL 332.524015 -139.884081 \nL 319.572371 -139.884081 \nL 319.572371 -143.948488 \nL 306.620727 -143.948488 \nL 306.620727 -150.177969 \nL 293.669082 -150.177969 \nL 293.669082 -157.107746 \nL 280.717438 -157.107746 \nL 280.717438 -161.085081 \nL 267.765794 -161.085081 \nL 267.765794 -170.615463 \nL 254.81415 -170.615463 \nL 254.81415 -180.503455 \nL 241.862506 -180.503455 \nL 241.862506 -195.845953 \nL 228.910862 -195.845953 \nL 228.910862 -200.061033 \nL 215.959218 -200.061033 \nL 215.959218 -209.517374 \nL 203.007574 -209.517374 \nL 203.007574 -214.754231 \nL 190.05593 -214.754231 \nL 190.05593 -218.935034 \nL 177.104286 -218.935034 \nL 177.104286 -227.793166 \nL 164.152641 -227.793166 \nL 164.152641 -242.819339 \nL 151.200997 -242.819339 \nL 151.200997 -256.332074 \nL 138.249353 -256.332074 \nL 138.249353 -292.188436 \nL 125.297709 -292.188436 \nL 125.297709 -322.559717 \nL 112.346065 -322.559717 \nL 112.346065 -346.62187 \nL 99.394421 -346.62187 \nL 99.394421 -376.808412 \nL 86.442777 -376.808412 \nL 86.442777 -398.276853 \nL 73.491133 -398.276853 \nL 73.491133 -400.779886 \nL 60.539489 -400.779886 \nz\n\" id=\"m6c59ad7d7f\" style=\"stroke:#2ca02c;stroke-opacity:0.25;\"/>\n    </defs>\n    <g clip-path=\"url(#p6793e87c89)\">\n     <use style=\"fill:#2ca02c;fill-opacity:0.25;stroke:#2ca02c;stroke-opacity:0.25;\" x=\"0\" xlink:href=\"#m6c59ad7d7f\" y=\"440.874375\"/>\n    </g>\n   </g>\n   <g id=\"PolyCollection_4\">\n    <defs>\n     <path d=\"M 60.539489 -400.630843 \nL 60.539489 -398.403623 \nL 73.491133 -398.403623 \nL 73.491133 -396.029949 \nL 86.442777 -396.029949 \nL 86.442777 -380.914563 \nL 99.394421 -380.914563 \nL 99.394421 -345.392763 \nL 112.346065 -345.392763 \nL 112.346065 -311.381364 \nL 125.297709 -311.381364 \nL 125.297709 -286.484928 \nL 138.249353 -286.484928 \nL 138.249353 -266.674946 \nL 151.200997 -266.674946 \nL 151.200997 -244.576691 \nL 164.152641 -244.576691 \nL 164.152641 -231.626821 \nL 177.104286 -231.626821 \nL 177.104286 -219.105269 \nL 190.05593 -219.105269 \nL 190.05593 -211.574883 \nL 203.007574 -211.574883 \nL 203.007574 -201.292775 \nL 215.959218 -201.292775 \nL 215.959218 -195.369882 \nL 228.910862 -195.369882 \nL 228.910862 -189.449859 \nL 241.862506 -189.449859 \nL 241.862506 -188.267584 \nL 254.81415 -188.267584 \nL 254.81415 -181.971703 \nL 267.765794 -181.971703 \nL 267.765794 -174.124213 \nL 280.717438 -174.124213 \nL 280.717438 -162.398671 \nL 293.669082 -162.398671 \nL 293.669082 -147.77307 \nL 306.620727 -147.77307 \nL 306.620727 -139.313649 \nL 319.572371 -139.313649 \nL 319.572371 -135.593226 \nL 332.524015 -135.593226 \nL 332.524015 -128.601766 \nL 345.475659 -128.601766 \nL 345.475659 -122.437133 \nL 358.427303 -122.437133 \nL 358.427303 -118.498256 \nL 371.378947 -118.498256 \nL 371.378947 -111.933548 \nL 384.330591 -111.933548 \nL 384.330591 -111.27577 \nL 397.282235 -111.27577 \nL 397.282235 -108.649036 \nL 410.233879 -108.649036 \nL 410.233879 -106.683555 \nL 423.185523 -106.683555 \nL 423.185523 -102.764243 \nL 436.137168 -102.764243 \nL 436.137168 -96.914138 \nL 449.088812 -96.914138 \nL 449.088812 -88.192894 \nL 462.040456 -88.192894 \nL 462.040456 -81.082237 \nL 474.9921 -81.082237 \nL 474.9921 -78.107922 \nL 487.943744 -78.107922 \nL 487.943744 -74.652301 \nL 500.895388 -74.652301 \nL 500.895388 -74.652301 \nL 513.847032 -74.652301 \nL 513.847032 -66.359748 \nL 526.798676 -66.359748 \nL 526.798676 -66.359748 \nL 591.556897 -66.359748 \nL 591.556897 -66.359748 \nL 604.508541 -66.359748 \nL 604.508541 -66.359748 \nL 617.460185 -66.359748 \nL 617.460185 -66.359748 \nL 617.460185 -94.243127 \nL 617.460185 -94.243127 \nL 617.460185 -94.243127 \nL 604.508541 -94.243127 \nL 604.508541 -94.243127 \nL 591.556897 -94.243127 \nL 591.556897 -94.243127 \nL 526.798676 -94.243127 \nL 526.798676 -94.243127 \nL 513.847032 -94.243127 \nL 513.847032 -98.423485 \nL 500.895388 -98.423485 \nL 500.895388 -98.423485 \nL 487.943744 -98.423485 \nL 487.943744 -101.54862 \nL 474.9921 -101.54862 \nL 474.9921 -104.534187 \nL 462.040456 -104.534187 \nL 462.040456 -111.663084 \nL 449.088812 -111.663084 \nL 449.088812 -120.375102 \nL 436.137168 -120.375102 \nL 436.137168 -126.178205 \nL 423.185523 -126.178205 \nL 423.185523 -130.02943 \nL 410.233879 -130.02943 \nL 410.233879 -131.94975 \nL 397.282235 -131.94975 \nL 397.282235 -134.504643 \nL 384.330591 -134.504643 \nL 384.330591 -135.142372 \nL 371.378947 -135.142372 \nL 371.378947 -141.468964 \nL 358.427303 -141.468964 \nL 358.427303 -145.229507 \nL 345.475659 -145.229507 \nL 345.475659 -151.241108 \nL 332.524015 -151.241108 \nL 332.524015 -158.206708 \nL 319.572371 -158.206708 \nL 319.572371 -161.956562 \nL 306.620727 -161.956562 \nL 306.620727 -170.470372 \nL 293.669082 -170.470372 \nL 293.669082 -185.097405 \nL 280.717438 -185.097405 \nL 280.717438 -196.727975 \nL 267.765794 -196.727975 \nL 267.765794 -204.453189 \nL 254.81415 -204.453189 \nL 254.81415 -210.616704 \nL 241.862506 -210.616704 \nL 241.862506 -211.770694 \nL 228.910862 -211.770694 \nL 228.910862 -217.532641 \nL 215.959218 -217.532641 \nL 215.959218 -223.271124 \nL 203.007574 -223.271124 \nL 203.007574 -233.168453 \nL 190.05593 -233.168453 \nL 190.05593 -240.456395 \nL 177.104286 -240.456395 \nL 177.104286 -252.614946 \nL 164.152641 -252.614946 \nL 164.152641 -265.218821 \nL 151.200997 -265.218821 \nL 151.200997 -286.503323 \nL 138.249353 -286.503323 \nL 138.249353 -305.322585 \nL 125.297709 -305.322585 \nL 125.297709 -328.564971 \nL 112.346065 -328.564971 \nL 112.346065 -359.333952 \nL 99.394421 -359.333952 \nL 99.394421 -389.184371 \nL 86.442777 -389.184371 \nL 86.442777 -399.586669 \nL 73.491133 -399.586669 \nL 73.491133 -400.630843 \nL 60.539489 -400.630843 \nz\n\" id=\"m4fdea96515\" style=\"stroke:#d62728;stroke-opacity:0.25;\"/>\n    </defs>\n    <g clip-path=\"url(#p6793e87c89)\">\n     <use style=\"fill:#d62728;fill-opacity:0.25;stroke:#d62728;stroke-opacity:0.25;\" x=\"0\" xlink:href=\"#m4fdea96515\" y=\"440.874375\"/>\n    </g>\n   </g>\n   <g id=\"matplotlib.axis_1\">\n    <g id=\"xtick_1\">\n     <g id=\"line2d_1\">\n      <defs>\n       <path d=\"M 0 0 \nL 0 3.5 \n\" id=\"m5127170485\" style=\"stroke:#000000;stroke-width:0.8;\"/>\n      </defs>\n      <g>\n       <use style=\"stroke:#000000;stroke-width:0.8;\" x=\"60.539489\" xlink:href=\"#m5127170485\" y=\"403.318125\"/>\n      </g>\n     </g>\n     <g id=\"text_1\">\n      <!-- 0 -->\n      <g transform=\"translate(57.358239 417.916562)scale(0.1 -0.1)\">\n       <defs>\n        <path d=\"M 2034 4250 \nQ 1547 4250 1301 3770 \nQ 1056 3291 1056 2328 \nQ 1056 1369 1301 889 \nQ 1547 409 2034 409 \nQ 2525 409 2770 889 \nQ 3016 1369 3016 2328 \nQ 3016 3291 2770 3770 \nQ 2525 4250 2034 4250 \nz\nM 2034 4750 \nQ 2819 4750 3233 4129 \nQ 3647 3509 3647 2328 \nQ 3647 1150 3233 529 \nQ 2819 -91 2034 -91 \nQ 1250 -91 836 529 \nQ 422 1150 422 2328 \nQ 422 3509 836 4129 \nQ 1250 4750 2034 4750 \nz\n\" id=\"DejaVuSans-30\" transform=\"scale(0.015625)\"/>\n       </defs>\n       <use xlink:href=\"#DejaVuSans-30\"/>\n      </g>\n     </g>\n    </g>\n    <g id=\"xtick_2\">\n     <g id=\"line2d_2\">\n      <g>\n       <use style=\"stroke:#000000;stroke-width:0.8;\" x=\"190.05593\" xlink:href=\"#m5127170485\" y=\"403.318125\"/>\n      </g>\n     </g>\n     <g id=\"text_2\">\n      <!-- 10 -->\n      <g transform=\"translate(183.69343 417.916562)scale(0.1 -0.1)\">\n       <defs>\n        <path d=\"M 794 531 \nL 1825 531 \nL 1825 4091 \nL 703 3866 \nL 703 4441 \nL 1819 4666 \nL 2450 4666 \nL 2450 531 \nL 3481 531 \nL 3481 0 \nL 794 0 \nL 794 531 \nz\n\" id=\"DejaVuSans-31\" transform=\"scale(0.015625)\"/>\n       </defs>\n       <use xlink:href=\"#DejaVuSans-31\"/>\n       <use x=\"63.623047\" xlink:href=\"#DejaVuSans-30\"/>\n      </g>\n     </g>\n    </g>\n    <g id=\"xtick_3\">\n     <g id=\"line2d_3\">\n      <g>\n       <use style=\"stroke:#000000;stroke-width:0.8;\" x=\"319.572371\" xlink:href=\"#m5127170485\" y=\"403.318125\"/>\n      </g>\n     </g>\n     <g id=\"text_3\">\n      <!-- 20 -->\n      <g transform=\"translate(313.209871 417.916562)scale(0.1 -0.1)\">\n       <defs>\n        <path d=\"M 1228 531 \nL 3431 531 \nL 3431 0 \nL 469 0 \nL 469 531 \nQ 828 903 1448 1529 \nQ 2069 2156 2228 2338 \nQ 2531 2678 2651 2914 \nQ 2772 3150 2772 3378 \nQ 2772 3750 2511 3984 \nQ 2250 4219 1831 4219 \nQ 1534 4219 1204 4116 \nQ 875 4013 500 3803 \nL 500 4441 \nQ 881 4594 1212 4672 \nQ 1544 4750 1819 4750 \nQ 2544 4750 2975 4387 \nQ 3406 4025 3406 3419 \nQ 3406 3131 3298 2873 \nQ 3191 2616 2906 2266 \nQ 2828 2175 2409 1742 \nQ 1991 1309 1228 531 \nz\n\" id=\"DejaVuSans-32\" transform=\"scale(0.015625)\"/>\n       </defs>\n       <use xlink:href=\"#DejaVuSans-32\"/>\n       <use x=\"63.623047\" xlink:href=\"#DejaVuSans-30\"/>\n      </g>\n     </g>\n    </g>\n    <g id=\"xtick_4\">\n     <g id=\"line2d_4\">\n      <g>\n       <use style=\"stroke:#000000;stroke-width:0.8;\" x=\"449.088812\" xlink:href=\"#m5127170485\" y=\"403.318125\"/>\n      </g>\n     </g>\n     <g id=\"text_4\">\n      <!-- 30 -->\n      <g transform=\"translate(442.726312 417.916562)scale(0.1 -0.1)\">\n       <defs>\n        <path d=\"M 2597 2516 \nQ 3050 2419 3304 2112 \nQ 3559 1806 3559 1356 \nQ 3559 666 3084 287 \nQ 2609 -91 1734 -91 \nQ 1441 -91 1130 -33 \nQ 819 25 488 141 \nL 488 750 \nQ 750 597 1062 519 \nQ 1375 441 1716 441 \nQ 2309 441 2620 675 \nQ 2931 909 2931 1356 \nQ 2931 1769 2642 2001 \nQ 2353 2234 1838 2234 \nL 1294 2234 \nL 1294 2753 \nL 1863 2753 \nQ 2328 2753 2575 2939 \nQ 2822 3125 2822 3475 \nQ 2822 3834 2567 4026 \nQ 2313 4219 1838 4219 \nQ 1578 4219 1281 4162 \nQ 984 4106 628 3988 \nL 628 4550 \nQ 988 4650 1302 4700 \nQ 1616 4750 1894 4750 \nQ 2613 4750 3031 4423 \nQ 3450 4097 3450 3541 \nQ 3450 3153 3228 2886 \nQ 3006 2619 2597 2516 \nz\n\" id=\"DejaVuSans-33\" transform=\"scale(0.015625)\"/>\n       </defs>\n       <use xlink:href=\"#DejaVuSans-33\"/>\n       <use x=\"63.623047\" xlink:href=\"#DejaVuSans-30\"/>\n      </g>\n     </g>\n    </g>\n    <g id=\"xtick_5\">\n     <g id=\"line2d_5\">\n      <g>\n       <use style=\"stroke:#000000;stroke-width:0.8;\" x=\"578.605253\" xlink:href=\"#m5127170485\" y=\"403.318125\"/>\n      </g>\n     </g>\n     <g id=\"text_5\">\n      <!-- 40 -->\n      <g transform=\"translate(572.242753 417.916562)scale(0.1 -0.1)\">\n       <defs>\n        <path d=\"M 2419 4116 \nL 825 1625 \nL 2419 1625 \nL 2419 4116 \nz\nM 2253 4666 \nL 3047 4666 \nL 3047 1625 \nL 3713 1625 \nL 3713 1100 \nL 3047 1100 \nL 3047 0 \nL 2419 0 \nL 2419 1100 \nL 313 1100 \nL 313 1709 \nL 2253 4666 \nz\n\" id=\"DejaVuSans-34\" transform=\"scale(0.015625)\"/>\n       </defs>\n       <use xlink:href=\"#DejaVuSans-34\"/>\n       <use x=\"63.623047\" xlink:href=\"#DejaVuSans-30\"/>\n      </g>\n     </g>\n    </g>\n    <g id=\"text_6\">\n     <!-- timeline -->\n     <g transform=\"translate(344.583594 431.594687)scale(0.1 -0.1)\">\n      <defs>\n       <path d=\"M 1172 4494 \nL 1172 3500 \nL 2356 3500 \nL 2356 3053 \nL 1172 3053 \nL 1172 1153 \nQ 1172 725 1289 603 \nQ 1406 481 1766 481 \nL 2356 481 \nL 2356 0 \nL 1766 0 \nQ 1100 0 847 248 \nQ 594 497 594 1153 \nL 594 3053 \nL 172 3053 \nL 172 3500 \nL 594 3500 \nL 594 4494 \nL 1172 4494 \nz\n\" id=\"DejaVuSans-74\" transform=\"scale(0.015625)\"/>\n       <path d=\"M 603 3500 \nL 1178 3500 \nL 1178 0 \nL 603 0 \nL 603 3500 \nz\nM 603 4863 \nL 1178 4863 \nL 1178 4134 \nL 603 4134 \nL 603 4863 \nz\n\" id=\"DejaVuSans-69\" transform=\"scale(0.015625)\"/>\n       <path d=\"M 3328 2828 \nQ 3544 3216 3844 3400 \nQ 4144 3584 4550 3584 \nQ 5097 3584 5394 3201 \nQ 5691 2819 5691 2113 \nL 5691 0 \nL 5113 0 \nL 5113 2094 \nQ 5113 2597 4934 2840 \nQ 4756 3084 4391 3084 \nQ 3944 3084 3684 2787 \nQ 3425 2491 3425 1978 \nL 3425 0 \nL 2847 0 \nL 2847 2094 \nQ 2847 2600 2669 2842 \nQ 2491 3084 2119 3084 \nQ 1678 3084 1418 2786 \nQ 1159 2488 1159 1978 \nL 1159 0 \nL 581 0 \nL 581 3500 \nL 1159 3500 \nL 1159 2956 \nQ 1356 3278 1631 3431 \nQ 1906 3584 2284 3584 \nQ 2666 3584 2933 3390 \nQ 3200 3197 3328 2828 \nz\n\" id=\"DejaVuSans-6d\" transform=\"scale(0.015625)\"/>\n       <path d=\"M 3597 1894 \nL 3597 1613 \nL 953 1613 \nQ 991 1019 1311 708 \nQ 1631 397 2203 397 \nQ 2534 397 2845 478 \nQ 3156 559 3463 722 \nL 3463 178 \nQ 3153 47 2828 -22 \nQ 2503 -91 2169 -91 \nQ 1331 -91 842 396 \nQ 353 884 353 1716 \nQ 353 2575 817 3079 \nQ 1281 3584 2069 3584 \nQ 2775 3584 3186 3129 \nQ 3597 2675 3597 1894 \nz\nM 3022 2063 \nQ 3016 2534 2758 2815 \nQ 2500 3097 2075 3097 \nQ 1594 3097 1305 2825 \nQ 1016 2553 972 2059 \nL 3022 2063 \nz\n\" id=\"DejaVuSans-65\" transform=\"scale(0.015625)\"/>\n       <path d=\"M 603 4863 \nL 1178 4863 \nL 1178 0 \nL 603 0 \nL 603 4863 \nz\n\" id=\"DejaVuSans-6c\" transform=\"scale(0.015625)\"/>\n       <path d=\"M 3513 2113 \nL 3513 0 \nL 2938 0 \nL 2938 2094 \nQ 2938 2591 2744 2837 \nQ 2550 3084 2163 3084 \nQ 1697 3084 1428 2787 \nQ 1159 2491 1159 1978 \nL 1159 0 \nL 581 0 \nL 581 3500 \nL 1159 3500 \nL 1159 2956 \nQ 1366 3272 1645 3428 \nQ 1925 3584 2291 3584 \nQ 2894 3584 3203 3211 \nQ 3513 2838 3513 2113 \nz\n\" id=\"DejaVuSans-6e\" transform=\"scale(0.015625)\"/>\n      </defs>\n      <use xlink:href=\"#DejaVuSans-74\"/>\n      <use x=\"39.208984\" xlink:href=\"#DejaVuSans-69\"/>\n      <use x=\"66.992188\" xlink:href=\"#DejaVuSans-6d\"/>\n      <use x=\"164.404297\" xlink:href=\"#DejaVuSans-65\"/>\n      <use x=\"225.927734\" xlink:href=\"#DejaVuSans-6c\"/>\n      <use x=\"253.710938\" xlink:href=\"#DejaVuSans-69\"/>\n      <use x=\"281.494141\" xlink:href=\"#DejaVuSans-6e\"/>\n      <use x=\"344.873047\" xlink:href=\"#DejaVuSans-65\"/>\n     </g>\n    </g>\n   </g>\n   <g id=\"matplotlib.axis_2\">\n    <g id=\"ytick_1\">\n     <g id=\"line2d_6\">\n      <defs>\n       <path d=\"M 0 0 \nL -3.5 0 \n\" id=\"m702e900ebb\" style=\"stroke:#000000;stroke-width:0.8;\"/>\n      </defs>\n      <g>\n       <use style=\"stroke:#000000;stroke-width:0.8;\" x=\"30.103125\" xlink:href=\"#m702e900ebb\" y=\"363.392993\"/>\n      </g>\n     </g>\n     <g id=\"text_7\">\n      <!-- 0.2 -->\n      <g transform=\"translate(7.2 367.192212)scale(0.1 -0.1)\">\n       <defs>\n        <path d=\"M 684 794 \nL 1344 794 \nL 1344 0 \nL 684 0 \nL 684 794 \nz\n\" id=\"DejaVuSans-2e\" transform=\"scale(0.015625)\"/>\n       </defs>\n       <use xlink:href=\"#DejaVuSans-30\"/>\n       <use x=\"63.623047\" xlink:href=\"#DejaVuSans-2e\"/>\n       <use x=\"95.410156\" xlink:href=\"#DejaVuSans-32\"/>\n      </g>\n     </g>\n    </g>\n    <g id=\"ytick_2\">\n     <g id=\"line2d_7\">\n      <g>\n       <use style=\"stroke:#000000;stroke-width:0.8;\" x=\"30.103125\" xlink:href=\"#m702e900ebb\" y=\"282.568367\"/>\n      </g>\n     </g>\n     <g id=\"text_8\">\n      <!-- 0.4 -->\n      <g transform=\"translate(7.2 286.367586)scale(0.1 -0.1)\">\n       <use xlink:href=\"#DejaVuSans-30\"/>\n       <use x=\"63.623047\" xlink:href=\"#DejaVuSans-2e\"/>\n       <use x=\"95.410156\" xlink:href=\"#DejaVuSans-34\"/>\n      </g>\n     </g>\n    </g>\n    <g id=\"ytick_3\">\n     <g id=\"line2d_8\">\n      <g>\n       <use style=\"stroke:#000000;stroke-width:0.8;\" x=\"30.103125\" xlink:href=\"#m702e900ebb\" y=\"201.743741\"/>\n      </g>\n     </g>\n     <g id=\"text_9\">\n      <!-- 0.6 -->\n      <g transform=\"translate(7.2 205.54296)scale(0.1 -0.1)\">\n       <defs>\n        <path d=\"M 2113 2584 \nQ 1688 2584 1439 2293 \nQ 1191 2003 1191 1497 \nQ 1191 994 1439 701 \nQ 1688 409 2113 409 \nQ 2538 409 2786 701 \nQ 3034 994 3034 1497 \nQ 3034 2003 2786 2293 \nQ 2538 2584 2113 2584 \nz\nM 3366 4563 \nL 3366 3988 \nQ 3128 4100 2886 4159 \nQ 2644 4219 2406 4219 \nQ 1781 4219 1451 3797 \nQ 1122 3375 1075 2522 \nQ 1259 2794 1537 2939 \nQ 1816 3084 2150 3084 \nQ 2853 3084 3261 2657 \nQ 3669 2231 3669 1497 \nQ 3669 778 3244 343 \nQ 2819 -91 2113 -91 \nQ 1303 -91 875 529 \nQ 447 1150 447 2328 \nQ 447 3434 972 4092 \nQ 1497 4750 2381 4750 \nQ 2619 4750 2861 4703 \nQ 3103 4656 3366 4563 \nz\n\" id=\"DejaVuSans-36\" transform=\"scale(0.015625)\"/>\n       </defs>\n       <use xlink:href=\"#DejaVuSans-30\"/>\n       <use x=\"63.623047\" xlink:href=\"#DejaVuSans-2e\"/>\n       <use x=\"95.410156\" xlink:href=\"#DejaVuSans-36\"/>\n      </g>\n     </g>\n    </g>\n    <g id=\"ytick_4\">\n     <g id=\"line2d_9\">\n      <g>\n       <use style=\"stroke:#000000;stroke-width:0.8;\" x=\"30.103125\" xlink:href=\"#m702e900ebb\" y=\"120.919115\"/>\n      </g>\n     </g>\n     <g id=\"text_10\">\n      <!-- 0.8 -->\n      <g transform=\"translate(7.2 124.718333)scale(0.1 -0.1)\">\n       <defs>\n        <path d=\"M 2034 2216 \nQ 1584 2216 1326 1975 \nQ 1069 1734 1069 1313 \nQ 1069 891 1326 650 \nQ 1584 409 2034 409 \nQ 2484 409 2743 651 \nQ 3003 894 3003 1313 \nQ 3003 1734 2745 1975 \nQ 2488 2216 2034 2216 \nz\nM 1403 2484 \nQ 997 2584 770 2862 \nQ 544 3141 544 3541 \nQ 544 4100 942 4425 \nQ 1341 4750 2034 4750 \nQ 2731 4750 3128 4425 \nQ 3525 4100 3525 3541 \nQ 3525 3141 3298 2862 \nQ 3072 2584 2669 2484 \nQ 3125 2378 3379 2068 \nQ 3634 1759 3634 1313 \nQ 3634 634 3220 271 \nQ 2806 -91 2034 -91 \nQ 1263 -91 848 271 \nQ 434 634 434 1313 \nQ 434 1759 690 2068 \nQ 947 2378 1403 2484 \nz\nM 1172 3481 \nQ 1172 3119 1398 2916 \nQ 1625 2713 2034 2713 \nQ 2441 2713 2670 2916 \nQ 2900 3119 2900 3481 \nQ 2900 3844 2670 4047 \nQ 2441 4250 2034 4250 \nQ 1625 4250 1398 4047 \nQ 1172 3844 1172 3481 \nz\n\" id=\"DejaVuSans-38\" transform=\"scale(0.015625)\"/>\n       </defs>\n       <use xlink:href=\"#DejaVuSans-30\"/>\n       <use x=\"63.623047\" xlink:href=\"#DejaVuSans-2e\"/>\n       <use x=\"95.410156\" xlink:href=\"#DejaVuSans-38\"/>\n      </g>\n     </g>\n    </g>\n    <g id=\"ytick_5\">\n     <g id=\"line2d_10\">\n      <g>\n       <use style=\"stroke:#000000;stroke-width:0.8;\" x=\"30.103125\" xlink:href=\"#m702e900ebb\" y=\"40.094489\"/>\n      </g>\n     </g>\n     <g id=\"text_11\">\n      <!-- 1.0 -->\n      <g transform=\"translate(7.2 43.893707)scale(0.1 -0.1)\">\n       <use xlink:href=\"#DejaVuSans-31\"/>\n       <use x=\"63.623047\" xlink:href=\"#DejaVuSans-2e\"/>\n       <use x=\"95.410156\" xlink:href=\"#DejaVuSans-30\"/>\n      </g>\n     </g>\n    </g>\n   </g>\n   <g id=\"line2d_11\">\n    <path clip-path=\"url(#p6793e87c89)\" d=\"M 60.539489 40.497403 \nL 73.491133 40.497403 \nL 73.491133 43.989328 \nL 86.442777 43.989328 \nL 86.442777 54.868016 \nL 99.394421 54.868016 \nL 99.394421 83.460622 \nL 112.346065 83.460622 \nL 112.346065 101.310151 \nL 125.297709 101.310151 \nL 125.297709 111.948095 \nL 138.249353 111.948095 \nL 138.249353 119.099041 \nL 151.200997 119.099041 \nL 151.200997 152.359253 \nL 164.152641 152.359253 \nL 164.152641 161.672113 \nL 177.104286 161.672113 \nL 177.104286 172.481682 \nL 190.05593 172.481682 \nL 190.05593 195.59753 \nL 203.007574 195.59753 \nL 203.007574 211.895034 \nL 215.959218 211.895034 \nL 215.959218 213.775496 \nL 228.910862 213.775496 \nL 228.910862 221.491193 \nL 241.862506 221.491193 \nL 241.862506 225.615756 \nL 254.81415 225.615756 \nL 254.81415 237.351224 \nL 267.765794 237.351224 \nL 267.765794 242.19425 \nL 280.717438 242.19425 \nL 280.717438 246.088677 \nL 293.669082 246.088677 \nL 293.669082 249.009497 \nL 306.620727 249.009497 \nL 306.620727 250.713308 \nL 319.572371 250.713308 \nL 319.572371 254.364333 \nL 332.524015 254.364333 \nL 332.524015 258.258759 \nL 345.475659 258.258759 \nL 345.475659 264.830604 \nL 358.427303 264.830604 \nL 358.427303 274.56667 \nL 371.378947 274.56667 \nL 371.378947 276.376969 \nL 384.330591 276.376969 \nL 384.330591 281.03921 \nL 397.282235 281.03921 \nL 397.282235 283.666881 \nL 410.233879 283.666881 \nL 410.233879 294.024993 \nL 423.185523 294.024993 \nL 423.185523 298.03013 \nL 436.137168 298.03013 \nL 436.137168 300.579912 \nL 449.088812 300.579912 \nL 449.088812 302.279766 \nL 462.040456 302.279766 \nL 462.040456 302.70729 \nL 474.9921 302.70729 \nL 474.9921 305.699956 \nL 487.943744 305.699956 \nL 487.943744 310.402716 \nL 500.895388 310.402716 \nL 500.895388 312.540334 \nL 513.847032 312.540334 \nL 513.847032 322.373378 \nL 526.798676 322.373378 \nL 526.798676 324.28466 \nL 539.75032 324.28466 \nL 539.75032 327.163051 \nL 552.701964 327.163051 \nL 552.701964 328.626233 \nL 565.653609 328.626233 \nL 565.653609 345.48331 \nL 578.605253 345.48331 \nL 578.605253 347.951668 \nL 669.266761 347.951668 \nL 669.266761 347.951668 \n\" style=\"fill:none;stroke:#1f77b4;stroke-linecap:square;stroke-width:1.5;\"/>\n   </g>\n   <g id=\"line2d_12\">\n    <path clip-path=\"url(#p6793e87c89)\" d=\"M 60.539489 40.094489 \nL 73.491133 40.094489 \nL 73.491133 42.705478 \nL 86.442777 42.705478 \nL 86.442777 59.269004 \nL 99.394421 59.269004 \nL 99.394421 80.143411 \nL 112.346065 80.143411 \nL 112.346065 98.577548 \nL 125.297709 98.577548 \nL 125.297709 122.255738 \nL 138.249353 122.255738 \nL 138.249353 147.471472 \nL 151.200997 147.471472 \nL 151.200997 164.076956 \nL 164.152641 164.076956 \nL 164.152641 185.602583 \nL 177.104286 185.602583 \nL 177.104286 204.975648 \nL 190.05593 204.975648 \nL 190.05593 224.041203 \nL 203.007574 224.041203 \nL 203.007574 228.692818 \nL 215.959218 228.692818 \nL 215.959218 236.969989 \nL 228.910862 236.969989 \nL 228.910862 244.276796 \nL 241.862506 244.276796 \nL 241.862506 251.920409 \nL 254.81415 251.920409 \nL 254.81415 258.802625 \nL 267.765794 258.802625 \nL 267.765794 261.236958 \nL 280.717438 261.236958 \nL 280.717438 262.859846 \nL 293.669082 262.859846 \nL 293.669082 267.322789 \nL 306.620727 267.322789 \nL 306.620727 273.40862 \nL 319.572371 273.40862 \nL 319.572371 279.08873 \nL 332.524015 279.08873 \nL 332.524015 290.151955 \nL 345.475659 290.151955 \nL 345.475659 300.145404 \nL 358.427303 300.145404 \nL 358.427303 302.30865 \nL 371.378947 302.30865 \nL 371.378947 304.122184 \nL 384.330591 304.122184 \nL 384.330591 308.139257 \nL 397.282235 308.139257 \nL 397.282235 312.925933 \nL 410.233879 312.925933 \nL 410.233879 317.788588 \nL 423.185523 317.788588 \nL 423.185523 319.201203 \nL 436.137168 319.201203 \nL 436.137168 320.613818 \nL 449.088812 320.613818 \nL 449.088812 321.320125 \nL 462.040456 321.320125 \nL 462.040456 326.264277 \nL 474.9921 326.264277 \nL 474.9921 331.208429 \nL 487.943744 331.208429 \nL 487.943744 337.686663 \nL 500.895388 337.686663 \nL 500.895388 349.86163 \nL 513.847032 349.86163 \nL 513.847032 351.546558 \nL 526.798676 351.546558 \nL 526.798676 353.418701 \nL 539.75032 353.418701 \nL 539.75032 357.002868 \nL 552.701964 357.002868 \nL 552.701964 362.629626 \nL 565.653609 362.629626 \nL 565.653609 362.629626 \nL 630.411829 362.629626 \nL 630.411829 362.629626 \nL 643.363473 362.629626 \nL 643.363473 362.629626 \nL 656.315117 362.629626 \nL 656.315117 362.629626 \n\" style=\"fill:none;stroke:#ff7f0e;stroke-linecap:square;stroke-width:1.5;\"/>\n   </g>\n   <g id=\"line2d_13\">\n    <path clip-path=\"url(#p6793e87c89)\" d=\"M 60.539489 40.094489 \nL 73.491133 40.094489 \nL 73.491133 44.602962 \nL 86.442777 44.602962 \nL 86.442777 70.014355 \nL 99.394421 70.014355 \nL 99.394421 102.80325 \nL 112.346065 102.80325 \nL 112.346065 128.214644 \nL 125.297709 128.214644 \nL 125.297709 159.773955 \nL 138.249353 159.773955 \nL 138.249353 196.646282 \nL 151.200997 196.646282 \nL 151.200997 210.479748 \nL 164.152641 210.479748 \nL 164.152641 225.885198 \nL 177.104286 225.885198 \nL 177.104286 234.91598 \nL 190.05593 234.91598 \nL 190.05593 239.165759 \nL 203.007574 239.165759 \nL 203.007574 244.477984 \nL 215.959218 244.477984 \nL 215.959218 254.039987 \nL 228.910862 254.039987 \nL 228.910862 258.289767 \nL 241.862506 258.289767 \nL 241.862506 273.695218 \nL 254.81415 273.695218 \nL 254.81415 283.596518 \nL 267.765794 283.596518 \nL 267.765794 293.11066 \nL 280.717438 293.11066 \nL 280.717438 297.072266 \nL 293.669082 297.072266 \nL 293.669082 304.019042 \nL 306.620727 304.019042 \nL 306.620727 310.29659 \nL 319.572371 310.29659 \nL 319.572371 314.455628 \nL 332.524015 314.455628 \nL 332.524015 316.129977 \nL 345.475659 316.129977 \nL 345.475659 318.674764 \nL 358.427303 318.674764 \nL 358.427303 319.523027 \nL 371.378947 319.523027 \nL 371.378947 322.067814 \nL 384.330591 322.067814 \nL 384.330591 327.15739 \nL 397.282235 327.15739 \nL 397.282235 338.184803 \nL 410.233879 338.184803 \nL 410.233879 341.748931 \nL 423.185523 341.748931 \nL 423.185523 350.209648 \nL 436.137168 350.209648 \nL 436.137168 350.209648 \nL 449.088812 350.209648 \nL 449.088812 354.296951 \nL 462.040456 354.296951 \nL 462.040456 361.395951 \nL 474.9921 361.395951 \nL 474.9921 368.297757 \nL 552.701964 368.297757 \nL 552.701964 368.297757 \nL 565.653609 368.297757 \nL 565.653609 368.297757 \nL 578.605253 368.297757 \nL 578.605253 368.297757 \n\" style=\"fill:none;stroke:#2ca02c;stroke-linecap:square;stroke-width:1.5;\"/>\n   </g>\n   <g id=\"line2d_14\">\n    <path clip-path=\"url(#p6793e87c89)\" d=\"M 60.539489 40.690101 \nL 73.491133 40.690101 \nL 73.491133 42.476939 \nL 86.442777 42.476939 \nL 86.442777 55.282609 \nL 99.394421 55.282609 \nL 99.394421 88.041301 \nL 112.346065 88.041301 \nL 112.346065 120.502186 \nL 125.297709 120.502186 \nL 125.297709 144.624495 \nL 138.249353 144.624495 \nL 138.249353 163.981904 \nL 151.200997 163.981904 \nL 151.200997 185.721763 \nL 164.152641 185.721763 \nL 164.152641 198.527433 \nL 177.104286 198.527433 \nL 177.104286 210.893297 \nL 190.05593 210.893297 \nL 190.05593 218.317252 \nL 203.007574 218.317252 \nL 203.007574 228.426391 \nL 215.959218 228.426391 \nL 215.959218 234.269114 \nL 228.910862 234.269114 \nL 228.910862 240.122697 \nL 241.862506 240.122697 \nL 241.862506 241.293413 \nL 254.81415 241.293413 \nL 254.81415 247.537235 \nL 267.765794 247.537235 \nL 267.765794 255.342012 \nL 280.717438 255.342012 \nL 280.717438 267.049178 \nL 293.669082 267.049178 \nL 293.669082 281.714127 \nL 306.620727 281.714127 \nL 306.620727 290.224285 \nL 319.572371 290.224285 \nL 319.572371 293.970069 \nL 332.524015 293.970069 \nL 332.524015 300.969178 \nL 345.475659 300.969178 \nL 345.475659 307.07667 \nL 358.427303 307.07667 \nL 358.427303 310.939795 \nL 371.378947 310.939795 \nL 371.378947 317.409592 \nL 384.330591 317.409592 \nL 384.330591 318.05989 \nL 397.282235 318.05989 \nL 397.282235 320.66108 \nL 410.233879 320.66108 \nL 410.233879 322.611973 \nL 423.185523 322.611973 \nL 423.185523 326.513758 \nL 436.137168 326.513758 \nL 436.137168 332.366437 \nL 449.088812 332.366437 \nL 449.088812 341.125867 \nL 462.040456 341.125867 \nL 462.040456 348.285016 \nL 474.9921 348.285016 \nL 474.9921 351.28291 \nL 487.943744 351.28291 \nL 487.943744 354.602007 \nL 500.895388 354.602007 \nL 500.895388 354.602007 \nL 513.847032 354.602007 \nL 513.847032 361.003122 \nL 526.798676 361.003122 \nL 526.798676 361.003122 \nL 591.556897 361.003122 \nL 591.556897 361.003122 \nL 604.508541 361.003122 \nL 604.508541 361.003122 \nL 617.460185 361.003122 \nL 617.460185 361.003122 \n\" style=\"fill:none;stroke:#d62728;stroke-linecap:square;stroke-width:1.5;\"/>\n   </g>\n   <g id=\"patch_3\">\n    <path d=\"M 30.103125 403.318125 \nL 30.103125 22.798125 \n\" style=\"fill:none;stroke:#000000;stroke-linecap:square;stroke-linejoin:miter;stroke-width:0.8;\"/>\n   </g>\n   <g id=\"patch_4\">\n    <path d=\"M 699.703125 403.318125 \nL 699.703125 22.798125 \n\" style=\"fill:none;stroke:#000000;stroke-linecap:square;stroke-linejoin:miter;stroke-width:0.8;\"/>\n   </g>\n   <g id=\"patch_5\">\n    <path d=\"M 30.103125 403.318125 \nL 699.703125 403.318125 \n\" style=\"fill:none;stroke:#000000;stroke-linecap:square;stroke-linejoin:miter;stroke-width:0.8;\"/>\n   </g>\n   <g id=\"patch_6\">\n    <path d=\"M 30.103125 22.798125 \nL 699.703125 22.798125 \n\" style=\"fill:none;stroke:#000000;stroke-linecap:square;stroke-linejoin:miter;stroke-width:0.8;\"/>\n   </g>\n   <g id=\"text_12\">\n    <!-- Sobrevivência por trimestre -->\n    <g transform=\"translate(281.4 16.798125)scale(0.12 -0.12)\">\n     <defs>\n      <path d=\"M 3425 4513 \nL 3425 3897 \nQ 3066 4069 2747 4153 \nQ 2428 4238 2131 4238 \nQ 1616 4238 1336 4038 \nQ 1056 3838 1056 3469 \nQ 1056 3159 1242 3001 \nQ 1428 2844 1947 2747 \nL 2328 2669 \nQ 3034 2534 3370 2195 \nQ 3706 1856 3706 1288 \nQ 3706 609 3251 259 \nQ 2797 -91 1919 -91 \nQ 1588 -91 1214 -16 \nQ 841 59 441 206 \nL 441 856 \nQ 825 641 1194 531 \nQ 1563 422 1919 422 \nQ 2459 422 2753 634 \nQ 3047 847 3047 1241 \nQ 3047 1584 2836 1778 \nQ 2625 1972 2144 2069 \nL 1759 2144 \nQ 1053 2284 737 2584 \nQ 422 2884 422 3419 \nQ 422 4038 858 4394 \nQ 1294 4750 2059 4750 \nQ 2388 4750 2728 4690 \nQ 3069 4631 3425 4513 \nz\n\" id=\"DejaVuSans-53\" transform=\"scale(0.015625)\"/>\n      <path d=\"M 1959 3097 \nQ 1497 3097 1228 2736 \nQ 959 2375 959 1747 \nQ 959 1119 1226 758 \nQ 1494 397 1959 397 \nQ 2419 397 2687 759 \nQ 2956 1122 2956 1747 \nQ 2956 2369 2687 2733 \nQ 2419 3097 1959 3097 \nz\nM 1959 3584 \nQ 2709 3584 3137 3096 \nQ 3566 2609 3566 1747 \nQ 3566 888 3137 398 \nQ 2709 -91 1959 -91 \nQ 1206 -91 779 398 \nQ 353 888 353 1747 \nQ 353 2609 779 3096 \nQ 1206 3584 1959 3584 \nz\n\" id=\"DejaVuSans-6f\" transform=\"scale(0.015625)\"/>\n      <path d=\"M 3116 1747 \nQ 3116 2381 2855 2742 \nQ 2594 3103 2138 3103 \nQ 1681 3103 1420 2742 \nQ 1159 2381 1159 1747 \nQ 1159 1113 1420 752 \nQ 1681 391 2138 391 \nQ 2594 391 2855 752 \nQ 3116 1113 3116 1747 \nz\nM 1159 2969 \nQ 1341 3281 1617 3432 \nQ 1894 3584 2278 3584 \nQ 2916 3584 3314 3078 \nQ 3713 2572 3713 1747 \nQ 3713 922 3314 415 \nQ 2916 -91 2278 -91 \nQ 1894 -91 1617 61 \nQ 1341 213 1159 525 \nL 1159 0 \nL 581 0 \nL 581 4863 \nL 1159 4863 \nL 1159 2969 \nz\n\" id=\"DejaVuSans-62\" transform=\"scale(0.015625)\"/>\n      <path d=\"M 2631 2963 \nQ 2534 3019 2420 3045 \nQ 2306 3072 2169 3072 \nQ 1681 3072 1420 2755 \nQ 1159 2438 1159 1844 \nL 1159 0 \nL 581 0 \nL 581 3500 \nL 1159 3500 \nL 1159 2956 \nQ 1341 3275 1631 3429 \nQ 1922 3584 2338 3584 \nQ 2397 3584 2469 3576 \nQ 2541 3569 2628 3553 \nL 2631 2963 \nz\n\" id=\"DejaVuSans-72\" transform=\"scale(0.015625)\"/>\n      <path d=\"M 191 3500 \nL 800 3500 \nL 1894 563 \nL 2988 3500 \nL 3597 3500 \nL 2284 0 \nL 1503 0 \nL 191 3500 \nz\n\" id=\"DejaVuSans-76\" transform=\"scale(0.015625)\"/>\n      <path d=\"M 3597 1894 \nL 3597 1613 \nL 953 1613 \nQ 991 1019 1311 708 \nQ 1631 397 2203 397 \nQ 2534 397 2845 478 \nQ 3156 559 3463 722 \nL 3463 178 \nQ 3153 47 2828 -22 \nQ 2503 -91 2169 -91 \nQ 1331 -91 842 396 \nQ 353 884 353 1716 \nQ 353 2575 817 3079 \nQ 1281 3584 2069 3584 \nQ 2775 3584 3186 3129 \nQ 3597 2675 3597 1894 \nz\nM 3022 2063 \nQ 3016 2534 2758 2815 \nQ 2500 3097 2075 3097 \nQ 1594 3097 1305 2825 \nQ 1016 2553 972 2059 \nL 3022 2063 \nz\nM 1803 5119 \nL 2266 5119 \nL 3031 3944 \nL 2597 3944 \nL 2034 4709 \nL 1472 3944 \nL 1038 3944 \nL 1803 5119 \nz\n\" id=\"DejaVuSans-ea\" transform=\"scale(0.015625)\"/>\n      <path d=\"M 3122 3366 \nL 3122 2828 \nQ 2878 2963 2633 3030 \nQ 2388 3097 2138 3097 \nQ 1578 3097 1268 2742 \nQ 959 2388 959 1747 \nQ 959 1106 1268 751 \nQ 1578 397 2138 397 \nQ 2388 397 2633 464 \nQ 2878 531 3122 666 \nL 3122 134 \nQ 2881 22 2623 -34 \nQ 2366 -91 2075 -91 \nQ 1284 -91 818 406 \nQ 353 903 353 1747 \nQ 353 2603 823 3093 \nQ 1294 3584 2113 3584 \nQ 2378 3584 2631 3529 \nQ 2884 3475 3122 3366 \nz\n\" id=\"DejaVuSans-63\" transform=\"scale(0.015625)\"/>\n      <path d=\"M 2194 1759 \nQ 1497 1759 1228 1600 \nQ 959 1441 959 1056 \nQ 959 750 1161 570 \nQ 1363 391 1709 391 \nQ 2188 391 2477 730 \nQ 2766 1069 2766 1631 \nL 2766 1759 \nL 2194 1759 \nz\nM 3341 1997 \nL 3341 0 \nL 2766 0 \nL 2766 531 \nQ 2569 213 2275 61 \nQ 1981 -91 1556 -91 \nQ 1019 -91 701 211 \nQ 384 513 384 1019 \nQ 384 1609 779 1909 \nQ 1175 2209 1959 2209 \nL 2766 2209 \nL 2766 2266 \nQ 2766 2663 2505 2880 \nQ 2244 3097 1772 3097 \nQ 1472 3097 1187 3025 \nQ 903 2953 641 2809 \nL 641 3341 \nQ 956 3463 1253 3523 \nQ 1550 3584 1831 3584 \nQ 2591 3584 2966 3190 \nQ 3341 2797 3341 1997 \nz\n\" id=\"DejaVuSans-61\" transform=\"scale(0.015625)\"/>\n      <path id=\"DejaVuSans-20\" transform=\"scale(0.015625)\"/>\n      <path d=\"M 1159 525 \nL 1159 -1331 \nL 581 -1331 \nL 581 3500 \nL 1159 3500 \nL 1159 2969 \nQ 1341 3281 1617 3432 \nQ 1894 3584 2278 3584 \nQ 2916 3584 3314 3078 \nQ 3713 2572 3713 1747 \nQ 3713 922 3314 415 \nQ 2916 -91 2278 -91 \nQ 1894 -91 1617 61 \nQ 1341 213 1159 525 \nz\nM 3116 1747 \nQ 3116 2381 2855 2742 \nQ 2594 3103 2138 3103 \nQ 1681 3103 1420 2742 \nQ 1159 2381 1159 1747 \nQ 1159 1113 1420 752 \nQ 1681 391 2138 391 \nQ 2594 391 2855 752 \nQ 3116 1113 3116 1747 \nz\n\" id=\"DejaVuSans-70\" transform=\"scale(0.015625)\"/>\n      <path d=\"M 2834 3397 \nL 2834 2853 \nQ 2591 2978 2328 3040 \nQ 2066 3103 1784 3103 \nQ 1356 3103 1142 2972 \nQ 928 2841 928 2578 \nQ 928 2378 1081 2264 \nQ 1234 2150 1697 2047 \nL 1894 2003 \nQ 2506 1872 2764 1633 \nQ 3022 1394 3022 966 \nQ 3022 478 2636 193 \nQ 2250 -91 1575 -91 \nQ 1294 -91 989 -36 \nQ 684 19 347 128 \nL 347 722 \nQ 666 556 975 473 \nQ 1284 391 1588 391 \nQ 1994 391 2212 530 \nQ 2431 669 2431 922 \nQ 2431 1156 2273 1281 \nQ 2116 1406 1581 1522 \nL 1381 1569 \nQ 847 1681 609 1914 \nQ 372 2147 372 2553 \nQ 372 3047 722 3315 \nQ 1072 3584 1716 3584 \nQ 2034 3584 2315 3537 \nQ 2597 3491 2834 3397 \nz\n\" id=\"DejaVuSans-73\" transform=\"scale(0.015625)\"/>\n     </defs>\n     <use xlink:href=\"#DejaVuSans-53\"/>\n     <use x=\"63.476562\" xlink:href=\"#DejaVuSans-6f\"/>\n     <use x=\"124.658203\" xlink:href=\"#DejaVuSans-62\"/>\n     <use x=\"188.134766\" xlink:href=\"#DejaVuSans-72\"/>\n     <use x=\"226.998047\" xlink:href=\"#DejaVuSans-65\"/>\n     <use x=\"288.521484\" xlink:href=\"#DejaVuSans-76\"/>\n     <use x=\"347.701172\" xlink:href=\"#DejaVuSans-69\"/>\n     <use x=\"375.484375\" xlink:href=\"#DejaVuSans-76\"/>\n     <use x=\"434.664062\" xlink:href=\"#DejaVuSans-ea\"/>\n     <use x=\"496.1875\" xlink:href=\"#DejaVuSans-6e\"/>\n     <use x=\"559.566406\" xlink:href=\"#DejaVuSans-63\"/>\n     <use x=\"614.546875\" xlink:href=\"#DejaVuSans-69\"/>\n     <use x=\"642.330078\" xlink:href=\"#DejaVuSans-61\"/>\n     <use x=\"703.609375\" xlink:href=\"#DejaVuSans-20\"/>\n     <use x=\"735.396484\" xlink:href=\"#DejaVuSans-70\"/>\n     <use x=\"798.873047\" xlink:href=\"#DejaVuSans-6f\"/>\n     <use x=\"860.054688\" xlink:href=\"#DejaVuSans-72\"/>\n     <use x=\"901.167969\" xlink:href=\"#DejaVuSans-20\"/>\n     <use x=\"932.955078\" xlink:href=\"#DejaVuSans-74\"/>\n     <use x=\"972.164062\" xlink:href=\"#DejaVuSans-72\"/>\n     <use x=\"1013.277344\" xlink:href=\"#DejaVuSans-69\"/>\n     <use x=\"1041.060547\" xlink:href=\"#DejaVuSans-6d\"/>\n     <use x=\"1138.472656\" xlink:href=\"#DejaVuSans-65\"/>\n     <use x=\"1199.996094\" xlink:href=\"#DejaVuSans-73\"/>\n     <use x=\"1252.095703\" xlink:href=\"#DejaVuSans-74\"/>\n     <use x=\"1291.304688\" xlink:href=\"#DejaVuSans-72\"/>\n     <use x=\"1330.167969\" xlink:href=\"#DejaVuSans-65\"/>\n    </g>\n   </g>\n   <g id=\"legend_1\">\n    <g id=\"patch_7\">\n     <path d=\"M 577.620313 89.510625 \nL 692.703125 89.510625 \nQ 694.703125 89.510625 694.703125 87.510625 \nL 694.703125 29.798125 \nQ 694.703125 27.798125 692.703125 27.798125 \nL 577.620313 27.798125 \nQ 575.620313 27.798125 575.620313 29.798125 \nL 575.620313 87.510625 \nQ 575.620313 89.510625 577.620313 89.510625 \nz\n\" style=\"fill:#ffffff;opacity:0.8;stroke:#cccccc;stroke-linejoin:miter;\"/>\n    </g>\n    <g id=\"line2d_15\">\n     <path d=\"M 579.620313 35.896562 \nL 599.620313 35.896562 \n\" style=\"fill:none;stroke:#1f77b4;stroke-linecap:square;stroke-width:1.5;\"/>\n    </g>\n    <g id=\"line2d_16\"/>\n    <g id=\"text_13\">\n     <!-- Jul, Aug, Set -->\n     <g transform=\"translate(607.620313 39.396562)scale(0.1 -0.1)\">\n      <defs>\n       <path d=\"M 628 4666 \nL 1259 4666 \nL 1259 325 \nQ 1259 -519 939 -900 \nQ 619 -1281 -91 -1281 \nL -331 -1281 \nL -331 -750 \nL -134 -750 \nQ 284 -750 456 -515 \nQ 628 -281 628 325 \nL 628 4666 \nz\n\" id=\"DejaVuSans-4a\" transform=\"scale(0.015625)\"/>\n       <path d=\"M 544 1381 \nL 544 3500 \nL 1119 3500 \nL 1119 1403 \nQ 1119 906 1312 657 \nQ 1506 409 1894 409 \nQ 2359 409 2629 706 \nQ 2900 1003 2900 1516 \nL 2900 3500 \nL 3475 3500 \nL 3475 0 \nL 2900 0 \nL 2900 538 \nQ 2691 219 2414 64 \nQ 2138 -91 1772 -91 \nQ 1169 -91 856 284 \nQ 544 659 544 1381 \nz\nM 1991 3584 \nL 1991 3584 \nz\n\" id=\"DejaVuSans-75\" transform=\"scale(0.015625)\"/>\n       <path d=\"M 750 794 \nL 1409 794 \nL 1409 256 \nL 897 -744 \nL 494 -744 \nL 750 256 \nL 750 794 \nz\n\" id=\"DejaVuSans-2c\" transform=\"scale(0.015625)\"/>\n       <path d=\"M 2188 4044 \nL 1331 1722 \nL 3047 1722 \nL 2188 4044 \nz\nM 1831 4666 \nL 2547 4666 \nL 4325 0 \nL 3669 0 \nL 3244 1197 \nL 1141 1197 \nL 716 0 \nL 50 0 \nL 1831 4666 \nz\n\" id=\"DejaVuSans-41\" transform=\"scale(0.015625)\"/>\n       <path d=\"M 2906 1791 \nQ 2906 2416 2648 2759 \nQ 2391 3103 1925 3103 \nQ 1463 3103 1205 2759 \nQ 947 2416 947 1791 \nQ 947 1169 1205 825 \nQ 1463 481 1925 481 \nQ 2391 481 2648 825 \nQ 2906 1169 2906 1791 \nz\nM 3481 434 \nQ 3481 -459 3084 -895 \nQ 2688 -1331 1869 -1331 \nQ 1566 -1331 1297 -1286 \nQ 1028 -1241 775 -1147 \nL 775 -588 \nQ 1028 -725 1275 -790 \nQ 1522 -856 1778 -856 \nQ 2344 -856 2625 -561 \nQ 2906 -266 2906 331 \nL 2906 616 \nQ 2728 306 2450 153 \nQ 2172 0 1784 0 \nQ 1141 0 747 490 \nQ 353 981 353 1791 \nQ 353 2603 747 3093 \nQ 1141 3584 1784 3584 \nQ 2172 3584 2450 3431 \nQ 2728 3278 2906 2969 \nL 2906 3500 \nL 3481 3500 \nL 3481 434 \nz\n\" id=\"DejaVuSans-67\" transform=\"scale(0.015625)\"/>\n      </defs>\n      <use xlink:href=\"#DejaVuSans-4a\"/>\n      <use x=\"29.492188\" xlink:href=\"#DejaVuSans-75\"/>\n      <use x=\"92.871094\" xlink:href=\"#DejaVuSans-6c\"/>\n      <use x=\"120.654297\" xlink:href=\"#DejaVuSans-2c\"/>\n      <use x=\"152.441406\" xlink:href=\"#DejaVuSans-20\"/>\n      <use x=\"184.228516\" xlink:href=\"#DejaVuSans-41\"/>\n      <use x=\"252.636719\" xlink:href=\"#DejaVuSans-75\"/>\n      <use x=\"316.015625\" xlink:href=\"#DejaVuSans-67\"/>\n      <use x=\"379.492188\" xlink:href=\"#DejaVuSans-2c\"/>\n      <use x=\"411.279297\" xlink:href=\"#DejaVuSans-20\"/>\n      <use x=\"443.066406\" xlink:href=\"#DejaVuSans-53\"/>\n      <use x=\"506.542969\" xlink:href=\"#DejaVuSans-65\"/>\n      <use x=\"568.066406\" xlink:href=\"#DejaVuSans-74\"/>\n     </g>\n    </g>\n    <g id=\"line2d_17\">\n     <path d=\"M 579.620313 50.574687 \nL 599.620313 50.574687 \n\" style=\"fill:none;stroke:#ff7f0e;stroke-linecap:square;stroke-width:1.5;\"/>\n    </g>\n    <g id=\"line2d_18\"/>\n    <g id=\"text_14\">\n     <!-- Oct, Nov, Dez -->\n     <g transform=\"translate(607.620313 54.074687)scale(0.1 -0.1)\">\n      <defs>\n       <path d=\"M 2522 4238 \nQ 1834 4238 1429 3725 \nQ 1025 3213 1025 2328 \nQ 1025 1447 1429 934 \nQ 1834 422 2522 422 \nQ 3209 422 3611 934 \nQ 4013 1447 4013 2328 \nQ 4013 3213 3611 3725 \nQ 3209 4238 2522 4238 \nz\nM 2522 4750 \nQ 3503 4750 4090 4092 \nQ 4678 3434 4678 2328 \nQ 4678 1225 4090 567 \nQ 3503 -91 2522 -91 \nQ 1538 -91 948 565 \nQ 359 1222 359 2328 \nQ 359 3434 948 4092 \nQ 1538 4750 2522 4750 \nz\n\" id=\"DejaVuSans-4f\" transform=\"scale(0.015625)\"/>\n       <path d=\"M 628 4666 \nL 1478 4666 \nL 3547 763 \nL 3547 4666 \nL 4159 4666 \nL 4159 0 \nL 3309 0 \nL 1241 3903 \nL 1241 0 \nL 628 0 \nL 628 4666 \nz\n\" id=\"DejaVuSans-4e\" transform=\"scale(0.015625)\"/>\n       <path d=\"M 1259 4147 \nL 1259 519 \nL 2022 519 \nQ 2988 519 3436 956 \nQ 3884 1394 3884 2338 \nQ 3884 3275 3436 3711 \nQ 2988 4147 2022 4147 \nL 1259 4147 \nz\nM 628 4666 \nL 1925 4666 \nQ 3281 4666 3915 4102 \nQ 4550 3538 4550 2338 \nQ 4550 1131 3912 565 \nQ 3275 0 1925 0 \nL 628 0 \nL 628 4666 \nz\n\" id=\"DejaVuSans-44\" transform=\"scale(0.015625)\"/>\n       <path d=\"M 353 3500 \nL 3084 3500 \nL 3084 2975 \nL 922 459 \nL 3084 459 \nL 3084 0 \nL 275 0 \nL 275 525 \nL 2438 3041 \nL 353 3041 \nL 353 3500 \nz\n\" id=\"DejaVuSans-7a\" transform=\"scale(0.015625)\"/>\n      </defs>\n      <use xlink:href=\"#DejaVuSans-4f\"/>\n      <use x=\"78.710938\" xlink:href=\"#DejaVuSans-63\"/>\n      <use x=\"133.691406\" xlink:href=\"#DejaVuSans-74\"/>\n      <use x=\"172.900391\" xlink:href=\"#DejaVuSans-2c\"/>\n      <use x=\"204.6875\" xlink:href=\"#DejaVuSans-20\"/>\n      <use x=\"236.474609\" xlink:href=\"#DejaVuSans-4e\"/>\n      <use x=\"311.279297\" xlink:href=\"#DejaVuSans-6f\"/>\n      <use x=\"372.460938\" xlink:href=\"#DejaVuSans-76\"/>\n      <use x=\"431.640625\" xlink:href=\"#DejaVuSans-2c\"/>\n      <use x=\"463.427734\" xlink:href=\"#DejaVuSans-20\"/>\n      <use x=\"495.214844\" xlink:href=\"#DejaVuSans-44\"/>\n      <use x=\"572.216797\" xlink:href=\"#DejaVuSans-65\"/>\n      <use x=\"633.740234\" xlink:href=\"#DejaVuSans-7a\"/>\n     </g>\n    </g>\n    <g id=\"line2d_19\">\n     <path d=\"M 579.620313 65.252812 \nL 599.620313 65.252812 \n\" style=\"fill:none;stroke:#2ca02c;stroke-linecap:square;stroke-width:1.5;\"/>\n    </g>\n    <g id=\"line2d_20\"/>\n    <g id=\"text_15\">\n     <!-- Apr, May, Jun -->\n     <g transform=\"translate(607.620313 68.752812)scale(0.1 -0.1)\">\n      <defs>\n       <path d=\"M 628 4666 \nL 1569 4666 \nL 2759 1491 \nL 3956 4666 \nL 4897 4666 \nL 4897 0 \nL 4281 0 \nL 4281 4097 \nL 3078 897 \nL 2444 897 \nL 1241 4097 \nL 1241 0 \nL 628 0 \nL 628 4666 \nz\n\" id=\"DejaVuSans-4d\" transform=\"scale(0.015625)\"/>\n       <path d=\"M 2059 -325 \nQ 1816 -950 1584 -1140 \nQ 1353 -1331 966 -1331 \nL 506 -1331 \nL 506 -850 \nL 844 -850 \nQ 1081 -850 1212 -737 \nQ 1344 -625 1503 -206 \nL 1606 56 \nL 191 3500 \nL 800 3500 \nL 1894 763 \nL 2988 3500 \nL 3597 3500 \nL 2059 -325 \nz\n\" id=\"DejaVuSans-79\" transform=\"scale(0.015625)\"/>\n      </defs>\n      <use xlink:href=\"#DejaVuSans-41\"/>\n      <use x=\"68.408203\" xlink:href=\"#DejaVuSans-70\"/>\n      <use x=\"131.884766\" xlink:href=\"#DejaVuSans-72\"/>\n      <use x=\"172.998047\" xlink:href=\"#DejaVuSans-2c\"/>\n      <use x=\"204.785156\" xlink:href=\"#DejaVuSans-20\"/>\n      <use x=\"236.572266\" xlink:href=\"#DejaVuSans-4d\"/>\n      <use x=\"322.851562\" xlink:href=\"#DejaVuSans-61\"/>\n      <use x=\"384.130859\" xlink:href=\"#DejaVuSans-79\"/>\n      <use x=\"443.310547\" xlink:href=\"#DejaVuSans-2c\"/>\n      <use x=\"475.097656\" xlink:href=\"#DejaVuSans-20\"/>\n      <use x=\"506.884766\" xlink:href=\"#DejaVuSans-4a\"/>\n      <use x=\"536.376953\" xlink:href=\"#DejaVuSans-75\"/>\n      <use x=\"599.755859\" xlink:href=\"#DejaVuSans-6e\"/>\n     </g>\n    </g>\n    <g id=\"line2d_21\">\n     <path d=\"M 579.620313 79.930937 \nL 599.620313 79.930937 \n\" style=\"fill:none;stroke:#d62728;stroke-linecap:square;stroke-width:1.5;\"/>\n    </g>\n    <g id=\"line2d_22\"/>\n    <g id=\"text_16\">\n     <!-- Jan, Fev and Mar -->\n     <g transform=\"translate(607.620313 83.430937)scale(0.1 -0.1)\">\n      <defs>\n       <path d=\"M 628 4666 \nL 3309 4666 \nL 3309 4134 \nL 1259 4134 \nL 1259 2759 \nL 3109 2759 \nL 3109 2228 \nL 1259 2228 \nL 1259 0 \nL 628 0 \nL 628 4666 \nz\n\" id=\"DejaVuSans-46\" transform=\"scale(0.015625)\"/>\n       <path d=\"M 2906 2969 \nL 2906 4863 \nL 3481 4863 \nL 3481 0 \nL 2906 0 \nL 2906 525 \nQ 2725 213 2448 61 \nQ 2172 -91 1784 -91 \nQ 1150 -91 751 415 \nQ 353 922 353 1747 \nQ 353 2572 751 3078 \nQ 1150 3584 1784 3584 \nQ 2172 3584 2448 3432 \nQ 2725 3281 2906 2969 \nz\nM 947 1747 \nQ 947 1113 1208 752 \nQ 1469 391 1925 391 \nQ 2381 391 2643 752 \nQ 2906 1113 2906 1747 \nQ 2906 2381 2643 2742 \nQ 2381 3103 1925 3103 \nQ 1469 3103 1208 2742 \nQ 947 2381 947 1747 \nz\n\" id=\"DejaVuSans-64\" transform=\"scale(0.015625)\"/>\n      </defs>\n      <use xlink:href=\"#DejaVuSans-4a\"/>\n      <use x=\"29.492188\" xlink:href=\"#DejaVuSans-61\"/>\n      <use x=\"90.771484\" xlink:href=\"#DejaVuSans-6e\"/>\n      <use x=\"154.150391\" xlink:href=\"#DejaVuSans-2c\"/>\n      <use x=\"185.9375\" xlink:href=\"#DejaVuSans-20\"/>\n      <use x=\"217.724609\" xlink:href=\"#DejaVuSans-46\"/>\n      <use x=\"269.744141\" xlink:href=\"#DejaVuSans-65\"/>\n      <use x=\"331.267578\" xlink:href=\"#DejaVuSans-76\"/>\n      <use x=\"390.447266\" xlink:href=\"#DejaVuSans-20\"/>\n      <use x=\"422.234375\" xlink:href=\"#DejaVuSans-61\"/>\n      <use x=\"483.513672\" xlink:href=\"#DejaVuSans-6e\"/>\n      <use x=\"546.892578\" xlink:href=\"#DejaVuSans-64\"/>\n      <use x=\"610.369141\" xlink:href=\"#DejaVuSans-20\"/>\n      <use x=\"642.15625\" xlink:href=\"#DejaVuSans-4d\"/>\n      <use x=\"728.435547\" xlink:href=\"#DejaVuSans-61\"/>\n      <use x=\"789.714844\" xlink:href=\"#DejaVuSans-72\"/>\n     </g>\n    </g>\n   </g>\n  </g>\n </g>\n <defs>\n  <clipPath id=\"p6793e87c89\">\n   <rect height=\"380.52\" width=\"669.6\" x=\"30.103125\" y=\"22.798125\"/>\n  </clipPath>\n </defs>\n</svg>\n"
     },
     "metadata": {
      "needs_background": "light"
     }
    }
   ],
   "metadata": {}
  },
  {
   "cell_type": "markdown",
   "source": [
    "A sobrevivência por trimestre varia. O trimestre julho, agosto e setembro tem uma sobrevivência maior. Quem começa depois do verão ou inicio do ano apresenta uma curva de sobrevivência menor."
   ],
   "metadata": {}
  },
  {
   "cell_type": "markdown",
   "source": [
    "Existem diferenças nas curvas de sobrevivência"
   ],
   "metadata": {}
  },
  {
   "cell_type": "code",
   "execution_count": 112,
   "source": [
    "results=multivariate_logrank_test(event_durations=T,groups=dt.trimestre,event_observed=C)\n",
    "results.print_summary()"
   ],
   "outputs": [
    {
     "output_type": "display_data",
     "data": {
      "text/plain": [
       "<lifelines.StatisticalResult: multivariate_logrank_test>\n",
       "               t_0 = -1\n",
       " null_distribution = chi squared\n",
       "degrees_of_freedom = 3\n",
       "         test_name = multivariate_logrank_test\n",
       "\n",
       "---\n",
       " test_statistic      p  -log2(p)\n",
       "          86.33 <0.005     59.37"
      ],
      "text/latex": [
       "\\begin{tabular}{lrrr}\n",
       "\\toprule\n",
       "{} &  test\\_statistic &             p &   -log2(p) \\\\\n",
       "\\midrule\n",
       "0 &       86.328159 &  1.345987e-18 &  59.366041 \\\\\n",
       "\\bottomrule\n",
       "\\end{tabular}\n"
      ],
      "text/html": [
       "<div>\n",
       "<style scoped>\n",
       "    .dataframe tbody tr th:only-of-type {\n",
       "        vertical-align: middle;\n",
       "    }\n",
       "\n",
       "    .dataframe tbody tr th {\n",
       "        vertical-align: top;\n",
       "    }\n",
       "\n",
       "    .dataframe thead th {\n",
       "        text-align: right;\n",
       "    }\n",
       "</style>\n",
       "<table border=\"1\" class=\"dataframe\">\n",
       "  <tbody>\n",
       "    <tr>\n",
       "      <th>t_0</th>\n",
       "      <td>-1</td>\n",
       "    </tr>\n",
       "    <tr>\n",
       "      <th>null_distribution</th>\n",
       "      <td>chi squared</td>\n",
       "    </tr>\n",
       "    <tr>\n",
       "      <th>degrees_of_freedom</th>\n",
       "      <td>3</td>\n",
       "    </tr>\n",
       "    <tr>\n",
       "      <th>test_name</th>\n",
       "      <td>multivariate_logrank_test</td>\n",
       "    </tr>\n",
       "  </tbody>\n",
       "</table>\n",
       "</div><table border=\"1\" class=\"dataframe\">\n",
       "  <thead>\n",
       "    <tr style=\"text-align: right;\">\n",
       "      <th></th>\n",
       "      <th>test_statistic</th>\n",
       "      <th>p</th>\n",
       "      <th>-log2(p)</th>\n",
       "    </tr>\n",
       "  </thead>\n",
       "  <tbody>\n",
       "    <tr>\n",
       "      <th>0</th>\n",
       "      <td>86.33</td>\n",
       "      <td>&lt;0.005</td>\n",
       "      <td>59.37</td>\n",
       "    </tr>\n",
       "  </tbody>\n",
       "</table>"
      ]
     },
     "metadata": {}
    }
   ],
   "metadata": {}
  },
  {
   "cell_type": "code",
   "execution_count": 113,
   "source": [
    "results=pairwise_logrank_test(event_durations=T,groups=dt.trimestre,event_observed=C)\n",
    "results.print_summary()"
   ],
   "outputs": [
    {
     "output_type": "display_data",
     "data": {
      "text/plain": [
       "<lifelines.StatisticalResult: logrank_test>\n",
       "               t_0 = -1\n",
       " null_distribution = chi squared\n",
       "degrees_of_freedom = 1\n",
       "         test_name = logrank_test\n",
       "\n",
       "---\n",
       "                                   test_statistic      p  -log2(p)\n",
       "Apr, May, Jun    Jan, Fev and Mar            9.13 <0.005      8.63\n",
       "                 Jul, Aug, Set              74.08 <0.005     56.89\n",
       "                 Oct, Nov, Dez              19.80 <0.005     16.82\n",
       "Jan, Fev and Mar Jul, Aug, Set              34.11 <0.005     27.52\n",
       "                 Oct, Nov, Dez               2.17   0.14      2.83\n",
       "Jul, Aug, Set    Oct, Nov, Dez              19.83 <0.005     16.85"
      ],
      "text/latex": [
       "\\begin{tabular}{llrrr}\n",
       "\\toprule\n",
       "              &               &  test\\_statistic &             p &   -log2(p) \\\\\n",
       "\\midrule\n",
       "Apr, May, Jun & Jan, Fev and Mar &        9.129048 &  2.515827e-03 &   8.634752 \\\\\n",
       "              & Jul, Aug, Set &       74.081468 &  7.495874e-18 &  56.888609 \\\\\n",
       "              & Oct, Nov, Dez &       19.795416 &  8.618912e-06 &  16.824063 \\\\\n",
       "Jan, Fev and Mar & Jul, Aug, Set &       34.111200 &  5.205082e-09 &  27.517432 \\\\\n",
       "              & Oct, Nov, Dez &        2.174464 &  1.403184e-01 &   2.833224 \\\\\n",
       "Jul, Aug, Set & Oct, Nov, Dez &       19.828210 &  8.472300e-06 &  16.848815 \\\\\n",
       "\\bottomrule\n",
       "\\end{tabular}\n"
      ],
      "text/html": [
       "<div>\n",
       "<style scoped>\n",
       "    .dataframe tbody tr th:only-of-type {\n",
       "        vertical-align: middle;\n",
       "    }\n",
       "\n",
       "    .dataframe tbody tr th {\n",
       "        vertical-align: top;\n",
       "    }\n",
       "\n",
       "    .dataframe thead th {\n",
       "        text-align: right;\n",
       "    }\n",
       "</style>\n",
       "<table border=\"1\" class=\"dataframe\">\n",
       "  <tbody>\n",
       "    <tr>\n",
       "      <th>t_0</th>\n",
       "      <td>-1</td>\n",
       "    </tr>\n",
       "    <tr>\n",
       "      <th>null_distribution</th>\n",
       "      <td>chi squared</td>\n",
       "    </tr>\n",
       "    <tr>\n",
       "      <th>degrees_of_freedom</th>\n",
       "      <td>1</td>\n",
       "    </tr>\n",
       "    <tr>\n",
       "      <th>test_name</th>\n",
       "      <td>logrank_test</td>\n",
       "    </tr>\n",
       "  </tbody>\n",
       "</table>\n",
       "</div><table border=\"1\" class=\"dataframe\">\n",
       "  <thead>\n",
       "    <tr style=\"text-align: right;\">\n",
       "      <th></th>\n",
       "      <th></th>\n",
       "      <th>test_statistic</th>\n",
       "      <th>p</th>\n",
       "      <th>-log2(p)</th>\n",
       "    </tr>\n",
       "  </thead>\n",
       "  <tbody>\n",
       "    <tr>\n",
       "      <th rowspan=\"3\" valign=\"top\">Apr, May, Jun</th>\n",
       "      <th>Jan, Fev and Mar</th>\n",
       "      <td>9.13</td>\n",
       "      <td>&lt;0.005</td>\n",
       "      <td>8.63</td>\n",
       "    </tr>\n",
       "    <tr>\n",
       "      <th>Jul, Aug, Set</th>\n",
       "      <td>74.08</td>\n",
       "      <td>&lt;0.005</td>\n",
       "      <td>56.89</td>\n",
       "    </tr>\n",
       "    <tr>\n",
       "      <th>Oct, Nov, Dez</th>\n",
       "      <td>19.80</td>\n",
       "      <td>&lt;0.005</td>\n",
       "      <td>16.82</td>\n",
       "    </tr>\n",
       "    <tr>\n",
       "      <th rowspan=\"2\" valign=\"top\">Jan, Fev and Mar</th>\n",
       "      <th>Jul, Aug, Set</th>\n",
       "      <td>34.11</td>\n",
       "      <td>&lt;0.005</td>\n",
       "      <td>27.52</td>\n",
       "    </tr>\n",
       "    <tr>\n",
       "      <th>Oct, Nov, Dez</th>\n",
       "      <td>2.17</td>\n",
       "      <td>0.14</td>\n",
       "      <td>2.83</td>\n",
       "    </tr>\n",
       "    <tr>\n",
       "      <th>Jul, Aug, Set</th>\n",
       "      <th>Oct, Nov, Dez</th>\n",
       "      <td>19.83</td>\n",
       "      <td>&lt;0.005</td>\n",
       "      <td>16.85</td>\n",
       "    </tr>\n",
       "  </tbody>\n",
       "</table>"
      ]
     },
     "metadata": {}
    }
   ],
   "metadata": {}
  },
  {
   "cell_type": "markdown",
   "source": [
    "Existem diferenças entre todas as curvas de sobrevivência"
   ],
   "metadata": {}
  }
 ],
 "metadata": {
  "kernelspec": {
   "name": "python3",
   "display_name": "Python 3.7.10 64-bit ('survival': conda)"
  },
  "language_info": {
   "codemirror_mode": {
    "name": "ipython",
    "version": 3
   },
   "file_extension": ".py",
   "mimetype": "text/x-python",
   "name": "python",
   "nbconvert_exporter": "python",
   "pygments_lexer": "ipython3",
   "version": "3.7.10"
  },
  "toc-autonumbering": true,
  "toc-showcode": false,
  "toc-showmarkdowntxt": false,
  "interpreter": {
   "hash": "e042e4ed0190efc873b02c82d30bb8a05d6bba9a412bc848308617cfc0af25cf"
  }
 },
 "nbformat": 4,
 "nbformat_minor": 4
}